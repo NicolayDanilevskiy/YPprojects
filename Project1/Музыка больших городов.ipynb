{
 "cells": [
  {
   "cell_type": "markdown",
   "metadata": {},
   "source": [
    "<font color='blue' size=5><b>Комментарий ревьюера</b></font>\n",
    "\n",
    "<font color='blue'>Привет! Меня зовут Тимофей Вилков, и я буду проверять твой проект. Спасибо за проделанную работу! Предлагаю общаться на «ты».</font>\n",
    "\n",
    "<font color='blue'>Я буду использовать различные цвета, чтобы было удобнее воспринимать мои комментарии:</font>\n",
    "\n",
    "\n",
    "\n",
    "<div class=\"alert alert-block alert-success\">\n",
    "✔️ <b>Зеленый текст</b> - все отлично\n",
    "</div>\n",
    "\n",
    "<div class=\"alert alert-block alert-warning\">\n",
    "⚠️ <b>Желтый текст</b> - сделано все правильно, однако есть рекомендации, на что стоит обратить внимание\n",
    "</div>\n",
    "\n",
    "<div class=\"alert alert-block alert-danger\">\n",
    "❌ <b>Красный текст</b> - красный текст - есть недочеты\n",
    "</div>\n",
    "\n",
    "---\n",
    "\n",
    "<font color='blue'>Пожалуйста, не удаляй мои комментарии в случае возврата работы, так будет проще разобраться, какие были недочеты, а также сразу увидеть исправленное. </font>\n",
    "\n",
    "Ответы на мои комментарии лучше тоже помечать.\n",
    "Например:\n",
    "\n",
    "<div class=\"alert alert-block alert-info\">\n",
    "<b>Комментарий студента:</b> \n",
    "Текст комментария, вопроса, объяснения\n",
    "</div>\n",
    "\n",
    "<font color='blue'><b>Давай смотреть, что получилось!</b></font>"
   ]
  },
  {
   "cell_type": "markdown",
   "metadata": {
    "id": "E0vqbgi9ay0H"
   },
   "source": [
    "# Яндекс.Музыка"
   ]
  },
  {
   "cell_type": "markdown",
   "metadata": {
    "id": "VUC88oWjTJw2"
   },
   "source": [
    "Сравнение Москвы и Петербурга окружено мифами. Например:\n",
    " * Москва — мегаполис, подчинённый жёсткому ритму рабочей недели;\n",
    " * Петербург — культурная столица, со своими вкусами.\n",
    "\n",
    "На данных Яндекс.Музыки вы сравните поведение пользователей двух столиц.\n",
    "\n",
    "**Цель исследования** — проверьте три гипотезы:\n",
    "1. Активность пользователей зависит от дня недели. Причём в Москве и Петербурге это проявляется по-разному.\n",
    "2. В понедельник утром в Москве преобладают одни жанры, а в Петербурге — другие. Так же и вечером пятницы преобладают разные жанры — в зависимости от города. \n",
    "3. Москва и Петербург предпочитают разные жанры музыки. В Москве чаще слушают поп-музыку, в Петербурге — русский рэп.\n",
    "\n",
    "**Ход исследования**\n",
    "\n",
    "Данные о поведении пользователей вы получите из файла `yandex_music_project.csv`. О качестве данных ничего не известно. Поэтому перед проверкой гипотез понадобится обзор данных. \n",
    "\n",
    "Вы проверите данные на ошибки и оцените их влияние на исследование. Затем, на этапе предобработки вы поищете возможность исправить самые критичные ошибки данных.\n",
    " \n",
    "Таким образом, исследование пройдёт в три этапа:\n",
    " 1. Обзор данных.\n",
    " 2. Предобработка данных.\n",
    " 3. Проверка гипотез.\n",
    "\n"
   ]
  },
  {
   "cell_type": "markdown",
   "metadata": {
    "id": "Ml1hmfXC_Zcs"
   },
   "source": [
    "## Обзор данных\n",
    "\n",
    "Составьте первое представление о данных Яндекс.Музыки.\n",
    "\n",
    "\n"
   ]
  },
  {
   "cell_type": "markdown",
   "metadata": {
    "id": "57eAOGIz_Zcs"
   },
   "source": [
    "Основной инструмент аналитика — `pandas`. Импортируйте эту библиотеку."
   ]
  },
  {
   "cell_type": "code",
   "execution_count": 2,
   "metadata": {
    "id": "AXN7PHPN_Zcs"
   },
   "outputs": [],
   "source": [
    "# импорт библиотеки pandas\n",
    "import pandas as pd"
   ]
  },
  {
   "cell_type": "markdown",
   "metadata": {},
   "source": [
    "<div class=\"alert alert-block alert-success\">\n",
    "✔️  Очень здорово, что ты используешь сокращение pd для Pandas, это общепринятое сокращение для этой библиотеки для удобной дальнейшей работы.\n",
    "</div>"
   ]
  },
  {
   "cell_type": "markdown",
   "metadata": {
    "id": "SG23P8tt_Zcs"
   },
   "source": [
    "Прочитайте файл `yandex_music_project.csv` из папки `/datasets` и сохраните его в переменной `df`:"
   ]
  },
  {
   "cell_type": "code",
   "execution_count": 3,
   "metadata": {
    "id": "fFVu7vqh_Zct"
   },
   "outputs": [],
   "source": [
    "# чтение файла с данными и сохранение в df\n",
    "df = pd.read_csv('/datasets/yandex_music_project.csv')"
   ]
  },
  {
   "cell_type": "markdown",
   "metadata": {},
   "source": [
    "<div class=\"alert alert-block alert-success\">\n",
    "✔️  Указан правильный путь к файлу: слэш в начале пути очень важен, так как указывает, что нужно искать файл в корневой папке.\n",
    "</div>\n"
   ]
  },
  {
   "cell_type": "markdown",
   "metadata": {
    "id": "rDoOMd3uTqnZ"
   },
   "source": [
    "Выведите на экран первые десять строк таблицы:"
   ]
  },
  {
   "cell_type": "code",
   "execution_count": 4,
   "metadata": {
    "id": "oWTVX3gW_Zct",
    "scrolled": false
   },
   "outputs": [
    {
     "data": {
      "text/html": [
       "<div>\n",
       "<style scoped>\n",
       "    .dataframe tbody tr th:only-of-type {\n",
       "        vertical-align: middle;\n",
       "    }\n",
       "\n",
       "    .dataframe tbody tr th {\n",
       "        vertical-align: top;\n",
       "    }\n",
       "\n",
       "    .dataframe thead th {\n",
       "        text-align: right;\n",
       "    }\n",
       "</style>\n",
       "<table border=\"1\" class=\"dataframe\">\n",
       "  <thead>\n",
       "    <tr style=\"text-align: right;\">\n",
       "      <th></th>\n",
       "      <th>userID</th>\n",
       "      <th>Track</th>\n",
       "      <th>artist</th>\n",
       "      <th>genre</th>\n",
       "      <th>City</th>\n",
       "      <th>time</th>\n",
       "      <th>Day</th>\n",
       "    </tr>\n",
       "  </thead>\n",
       "  <tbody>\n",
       "    <tr>\n",
       "      <td>0</td>\n",
       "      <td>FFB692EC</td>\n",
       "      <td>Kamigata To Boots</td>\n",
       "      <td>The Mass Missile</td>\n",
       "      <td>rock</td>\n",
       "      <td>Saint-Petersburg</td>\n",
       "      <td>20:28:33</td>\n",
       "      <td>Wednesday</td>\n",
       "    </tr>\n",
       "    <tr>\n",
       "      <td>1</td>\n",
       "      <td>55204538</td>\n",
       "      <td>Delayed Because of Accident</td>\n",
       "      <td>Andreas Rönnberg</td>\n",
       "      <td>rock</td>\n",
       "      <td>Moscow</td>\n",
       "      <td>14:07:09</td>\n",
       "      <td>Friday</td>\n",
       "    </tr>\n",
       "    <tr>\n",
       "      <td>2</td>\n",
       "      <td>20EC38</td>\n",
       "      <td>Funiculì funiculà</td>\n",
       "      <td>Mario Lanza</td>\n",
       "      <td>pop</td>\n",
       "      <td>Saint-Petersburg</td>\n",
       "      <td>20:58:07</td>\n",
       "      <td>Wednesday</td>\n",
       "    </tr>\n",
       "    <tr>\n",
       "      <td>3</td>\n",
       "      <td>A3DD03C9</td>\n",
       "      <td>Dragons in the Sunset</td>\n",
       "      <td>Fire + Ice</td>\n",
       "      <td>folk</td>\n",
       "      <td>Saint-Petersburg</td>\n",
       "      <td>08:37:09</td>\n",
       "      <td>Monday</td>\n",
       "    </tr>\n",
       "    <tr>\n",
       "      <td>4</td>\n",
       "      <td>E2DC1FAE</td>\n",
       "      <td>Soul People</td>\n",
       "      <td>Space Echo</td>\n",
       "      <td>dance</td>\n",
       "      <td>Moscow</td>\n",
       "      <td>08:34:34</td>\n",
       "      <td>Monday</td>\n",
       "    </tr>\n",
       "    <tr>\n",
       "      <td>5</td>\n",
       "      <td>842029A1</td>\n",
       "      <td>Преданная</td>\n",
       "      <td>IMPERVTOR</td>\n",
       "      <td>rusrap</td>\n",
       "      <td>Saint-Petersburg</td>\n",
       "      <td>13:09:41</td>\n",
       "      <td>Friday</td>\n",
       "    </tr>\n",
       "    <tr>\n",
       "      <td>6</td>\n",
       "      <td>4CB90AA5</td>\n",
       "      <td>True</td>\n",
       "      <td>Roman Messer</td>\n",
       "      <td>dance</td>\n",
       "      <td>Moscow</td>\n",
       "      <td>13:00:07</td>\n",
       "      <td>Wednesday</td>\n",
       "    </tr>\n",
       "    <tr>\n",
       "      <td>7</td>\n",
       "      <td>F03E1C1F</td>\n",
       "      <td>Feeling This Way</td>\n",
       "      <td>Polina Griffith</td>\n",
       "      <td>dance</td>\n",
       "      <td>Moscow</td>\n",
       "      <td>20:47:49</td>\n",
       "      <td>Wednesday</td>\n",
       "    </tr>\n",
       "    <tr>\n",
       "      <td>8</td>\n",
       "      <td>8FA1D3BE</td>\n",
       "      <td>И вновь продолжается бой</td>\n",
       "      <td>NaN</td>\n",
       "      <td>ruspop</td>\n",
       "      <td>Moscow</td>\n",
       "      <td>09:17:40</td>\n",
       "      <td>Friday</td>\n",
       "    </tr>\n",
       "    <tr>\n",
       "      <td>9</td>\n",
       "      <td>E772D5C0</td>\n",
       "      <td>Pessimist</td>\n",
       "      <td>NaN</td>\n",
       "      <td>dance</td>\n",
       "      <td>Saint-Petersburg</td>\n",
       "      <td>21:20:49</td>\n",
       "      <td>Wednesday</td>\n",
       "    </tr>\n",
       "  </tbody>\n",
       "</table>\n",
       "</div>"
      ],
      "text/plain": [
       "     userID                        Track            artist   genre  \\\n",
       "0  FFB692EC            Kamigata To Boots  The Mass Missile    rock   \n",
       "1  55204538  Delayed Because of Accident  Andreas Rönnberg    rock   \n",
       "2    20EC38            Funiculì funiculà       Mario Lanza     pop   \n",
       "3  A3DD03C9        Dragons in the Sunset        Fire + Ice    folk   \n",
       "4  E2DC1FAE                  Soul People        Space Echo   dance   \n",
       "5  842029A1                    Преданная         IMPERVTOR  rusrap   \n",
       "6  4CB90AA5                         True      Roman Messer   dance   \n",
       "7  F03E1C1F             Feeling This Way   Polina Griffith   dance   \n",
       "8  8FA1D3BE     И вновь продолжается бой               NaN  ruspop   \n",
       "9  E772D5C0                    Pessimist               NaN   dance   \n",
       "\n",
       "             City        time        Day  \n",
       "0  Saint-Petersburg  20:28:33  Wednesday  \n",
       "1            Moscow  14:07:09     Friday  \n",
       "2  Saint-Petersburg  20:58:07  Wednesday  \n",
       "3  Saint-Petersburg  08:37:09     Monday  \n",
       "4            Moscow  08:34:34     Monday  \n",
       "5  Saint-Petersburg  13:09:41     Friday  \n",
       "6            Moscow  13:00:07  Wednesday  \n",
       "7            Moscow  20:47:49  Wednesday  \n",
       "8            Moscow  09:17:40     Friday  \n",
       "9  Saint-Petersburg  21:20:49  Wednesday  "
      ]
     },
     "execution_count": 4,
     "metadata": {},
     "output_type": "execute_result"
    }
   ],
   "source": [
    "# получение первых 10 строк таблицы df\n",
    "df.head(10)"
   ]
  },
  {
   "cell_type": "markdown",
   "metadata": {},
   "source": [
    "<div class=\"alert alert-block alert-warning\">\n",
    "⚠️ Для вывода столбцов на экран здесь не нужно использовать функцию display(): результат и так будет выведен, так как это последняя строчка ячейки.\n",
    "</div>\n",
    "\n",
    "<div class=\"alert alert-block alert-info\">\n",
    "<b>Комментарий студента:</b> \n",
    "Поправил\n",
    "</div>"
   ]
  },
  {
   "cell_type": "markdown",
   "metadata": {
    "id": "EO73Kwic_Zct"
   },
   "source": [
    "Одной командой получить общую информацию о таблице:"
   ]
  },
  {
   "cell_type": "code",
   "execution_count": 5,
   "metadata": {
    "id": "DSf2kIb-_Zct",
    "scrolled": true
   },
   "outputs": [
    {
     "name": "stdout",
     "output_type": "stream",
     "text": [
      "<class 'pandas.core.frame.DataFrame'>\n",
      "RangeIndex: 65079 entries, 0 to 65078\n",
      "Data columns (total 7 columns):\n",
      "  userID    65079 non-null object\n",
      "Track       63848 non-null object\n",
      "artist      57876 non-null object\n",
      "genre       63881 non-null object\n",
      "  City      65079 non-null object\n",
      "time        65079 non-null object\n",
      "Day         65079 non-null object\n",
      "dtypes: object(7)\n",
      "memory usage: 3.5+ MB\n"
     ]
    }
   ],
   "source": [
    "# получение общей информации о данных в таблице df\n",
    "df.info()"
   ]
  },
  {
   "cell_type": "markdown",
   "metadata": {},
   "source": [
    "<div class=\"alert alert-block alert-success\">\n",
    "✔️  Отличный выбор метода - info действительно показывает много информации о датафрейме.\n",
    "</div>\n"
   ]
  },
  {
   "cell_type": "markdown",
   "metadata": {
    "id": "TaQ2Iwbr_Zct"
   },
   "source": [
    "Итак, в таблице семь столбцов. Тип данных во всех столбцах — `object`.\n",
    "\n",
    "Согласно документации к данным:\n",
    "* `userID` — идентификатор пользователя;\n",
    "* `Track` — название трека;  \n",
    "* `artist` — имя исполнителя;\n",
    "* `genre` — название жанра;\n",
    "* `City` — город пользователя;\n",
    "* `time` — время начала прослушивания;\n",
    "* `Day` — день недели.\n",
    "\n",
    "В названиях колонок видны три нарушения стиля:\n",
    "1. Строчные буквы сочетаются с прописными.\n",
    "2. Встречаются пробелы.\n",
    "3. Найдите ещё одну проблему в названии колонок и опишите её в этом пункте. Не соблюдается змеиный_регистр(snake_case) в названиях столбцов\n",
    "\n",
    "\n",
    "\n",
    "Количество значений в столбцах различается. Значит, в данных есть пропущенные значения.\n"
   ]
  },
  {
   "cell_type": "markdown",
   "metadata": {
    "id": "MCB6-dXG_Zct"
   },
   "source": [
    "**Выводы**\n",
    "\n",
    "В каждой строке таблицы — данные о прослушанном треке. Часть колонок описывает саму композицию: название, исполнителя и жанр. Остальные данные рассказывают о пользователе: из какого он города, когда он слушал музыку. \n",
    "\n",
    "Предварительно можно утверждать, что, данных достаточно для проверки гипотез. Но встречаются пропуски в данных, а в названиях колонок — расхождения с хорошим стилем.\n",
    "\n",
    "Чтобы двигаться дальше, нужно устранить проблемы в данных."
   ]
  },
  {
   "cell_type": "markdown",
   "metadata": {},
   "source": [
    "<div class=\"alert alert-block alert-success\">\n",
    "✔️ Отличная работа с первичным выводом\n",
    "</div>"
   ]
  },
  {
   "cell_type": "markdown",
   "metadata": {
    "id": "SjYF6Ub9_Zct"
   },
   "source": [
    "## Предобработка данных\n",
    "Исправьте стиль в заголовках столбцов, исключите пропуски. Затем проверьте данные на дубликаты."
   ]
  },
  {
   "cell_type": "markdown",
   "metadata": {
    "id": "dIaKXr29_Zct"
   },
   "source": [
    "### Стиль заголовков\n",
    "Выведите на экран названия столбцов:"
   ]
  },
  {
   "cell_type": "code",
   "execution_count": 6,
   "metadata": {
    "id": "oKOTdF_Q_Zct"
   },
   "outputs": [
    {
     "data": {
      "text/plain": [
       "Index(['  userID', 'Track', 'artist', 'genre', '  City  ', 'time', 'Day'], dtype='object')"
      ]
     },
     "metadata": {},
     "output_type": "display_data"
    }
   ],
   "source": [
    "# перечень названий столбцов таблицы df\n",
    "display(df.columns)"
   ]
  },
  {
   "cell_type": "markdown",
   "metadata": {
    "id": "zj5534cv_Zct"
   },
   "source": [
    "Приведите названия в соответствие с хорошим стилем:\n",
    "* несколько слов в названии запишите в «змеином_регистре»,\n",
    "* все символы сделайте строчными,\n",
    "* устраните пробелы.\n",
    "\n",
    "Для этого переименуйте колонки так:\n",
    "* `'  userID'` → `'user_id'`;\n",
    "* `'Track'` → `'track'`;\n",
    "* `'  City  '` → `'city'`;\n",
    "* `'Day'` → `'day'`."
   ]
  },
  {
   "cell_type": "markdown",
   "metadata": {},
   "source": [
    "<div class=\"alert alert-block alert-success\">\n",
    "✔️  Абсолютно правильный ответ на вопрос задания! Отличная работа!\n",
    "</div>"
   ]
  },
  {
   "cell_type": "code",
   "execution_count": 7,
   "metadata": {
    "id": "ISlFqs5y_Zct"
   },
   "outputs": [],
   "source": [
    "# переименование столбцов\n",
    "df=df.rename(columns={'  userID': 'user_id', 'Track': 'track', '  City  ': 'city', 'Day': 'day'})"
   ]
  },
  {
   "cell_type": "markdown",
   "metadata": {},
   "source": [
    "<div class=\"alert alert-block alert-success\">\n",
    "✔️  Хороший выбор метода - rename сработает без ошибок, даже если изменится порядок столбцов.\n",
    "</div>\n"
   ]
  },
  {
   "cell_type": "markdown",
   "metadata": {
    "id": "1dqbh00J_Zct"
   },
   "source": [
    "Проверьте результат. Для этого ещё раз выведите на экран названия столбцов:"
   ]
  },
  {
   "cell_type": "code",
   "execution_count": 8,
   "metadata": {
    "id": "d4NOAmTW_Zct"
   },
   "outputs": [
    {
     "data": {
      "text/plain": [
       "Index(['user_id', 'track', 'artist', 'genre', 'city', 'time', 'day'], dtype='object')"
      ]
     },
     "metadata": {},
     "output_type": "display_data"
    }
   ],
   "source": [
    "# проверка результатов - перечень названий столбцов\n",
    "display(df.columns)"
   ]
  },
  {
   "cell_type": "markdown",
   "metadata": {
    "id": "5ISfbcfY_Zct"
   },
   "source": [
    "### Пропуски значений\n",
    "Сначала посчитайте, сколько в таблице пропущенных значений. Для этого достаточно двух методов `pandas`:"
   ]
  },
  {
   "cell_type": "code",
   "execution_count": 9,
   "metadata": {
    "id": "RskX29qr_Zct",
    "scrolled": true
   },
   "outputs": [
    {
     "data": {
      "text/plain": [
       "user_id       0\n",
       "track      1231\n",
       "artist     7203\n",
       "genre      1198\n",
       "city          0\n",
       "time          0\n",
       "day           0\n",
       "dtype: int64"
      ]
     },
     "metadata": {},
     "output_type": "display_data"
    }
   ],
   "source": [
    "# подсчёт пропусков\n",
    "display(df.isna().sum())"
   ]
  },
  {
   "cell_type": "markdown",
   "metadata": {},
   "source": [
    "<div class=\"alert alert-block alert-success\">\n",
    "✔️  Выбран метод isna() для нахождения пропущенных значений, это отлично! На самом деле, isnull() и isna() делают одно и то же, но использование isna() предпочтительнее.</div>\n"
   ]
  },
  {
   "cell_type": "markdown",
   "metadata": {
    "id": "qubhgnlO_Zct"
   },
   "source": [
    "Не все пропущенные значения влияют на исследование. Так в `track` и `artist` пропуски не важны для вашей работы. Достаточно заменить их явными обозначениями.\n",
    "\n",
    "Но пропуски в `genre` могут помешать сравнению музыкальных вкусов в Москве и Санкт-Петербурге. На практике было бы правильно установить причину пропусков и восстановить данные. Такой возможности нет в учебном проекте. Придётся:\n",
    "* заполнить и эти пропуски явными обозначениями,\n",
    "* оценить, насколько они повредят расчётам. "
   ]
  },
  {
   "cell_type": "markdown",
   "metadata": {
    "id": "fSv2laPA_Zct"
   },
   "source": [
    "Замените пропущенные значения в столбцах `track`, `artist` и `genre` на строку `'unknown'`. Для этого создайте список `columns_to_replace`, переберите его элементы циклом `for` и для каждого столбца выполните замену пропущенных значений:"
   ]
  },
  {
   "cell_type": "code",
   "execution_count": 10,
   "metadata": {
    "id": "KplB5qWs_Zct"
   },
   "outputs": [],
   "source": [
    "# перебор названий столбцов в цикле и замена пропущенных значений на 'unknown'\n",
    "columns_to_replace = ['track', 'artist', 'genre']\n",
    "for col in columns_to_replace:\n",
    "    df[col] = df[col].fillna('unknown')"
   ]
  },
  {
   "cell_type": "markdown",
   "metadata": {},
   "source": [
    "<div class=\"alert alert-block alert-success\">\n",
    "✔️  Список columns_to_replace сформирован верно, цикл отработал без ошибок"
   ]
  },
  {
   "cell_type": "markdown",
   "metadata": {
    "id": "Ilsm-MZo_Zct"
   },
   "source": [
    "Убедитесь, что в таблице не осталось пропусков. Для этого ещё раз посчитайте пропущенные значения."
   ]
  },
  {
   "cell_type": "code",
   "execution_count": 11,
   "metadata": {
    "id": "Tq4nYRX4_Zct"
   },
   "outputs": [
    {
     "data": {
      "text/plain": [
       "user_id    0\n",
       "track      0\n",
       "artist     0\n",
       "genre      0\n",
       "city       0\n",
       "time       0\n",
       "day        0\n",
       "dtype: int64"
      ]
     },
     "metadata": {},
     "output_type": "display_data"
    }
   ],
   "source": [
    "# подсчёт пропусков\n",
    "display(df.isna().sum())"
   ]
  },
  {
   "cell_type": "markdown",
   "metadata": {
    "id": "BWKRtBJ3_Zct"
   },
   "source": [
    "### Дубликаты\n",
    "Посчитайте явные дубликаты в таблице одной командой:"
   ]
  },
  {
   "cell_type": "code",
   "execution_count": 12,
   "metadata": {
    "id": "36eES_S0_Zct"
   },
   "outputs": [
    {
     "data": {
      "text/plain": [
       "3826"
      ]
     },
     "metadata": {},
     "output_type": "display_data"
    }
   ],
   "source": [
    "# подсчёт явных дубликатов\n",
    "display(df.duplicated().sum())"
   ]
  },
  {
   "cell_type": "markdown",
   "metadata": {
    "id": "Ot25h6XR_Zct"
   },
   "source": [
    "Вызовите специальный метод `pandas`, чтобы удалить явные дубликаты:"
   ]
  },
  {
   "cell_type": "code",
   "execution_count": 13,
   "metadata": {
    "id": "exFHq6tt_Zct"
   },
   "outputs": [],
   "source": [
    "# удаление явных дубликатов (с удалением старых индексов и формированием новых)\n",
    "df=df.drop_duplicates().reset_index(drop=True)"
   ]
  },
  {
   "cell_type": "markdown",
   "metadata": {
    "id": "Im2YwBEG_Zct"
   },
   "source": [
    "Ещё раз посчитайте явные дубликаты в таблице — убедитесь, что полностью от них избавились:"
   ]
  },
  {
   "cell_type": "code",
   "execution_count": 14,
   "metadata": {
    "id": "-8PuNWQ0_Zct"
   },
   "outputs": [
    {
     "data": {
      "text/plain": [
       "0"
      ]
     },
     "metadata": {},
     "output_type": "display_data"
    }
   ],
   "source": [
    "# проверка на отсутствие дубликатов\n",
    "display(df.duplicated().sum())"
   ]
  },
  {
   "cell_type": "markdown",
   "metadata": {},
   "source": [
    "<div class=\"alert alert-block alert-success\">\n",
    "✔️  Дубликаты верно найдены и посчитаны оптимальными методами\n",
    "<div>"
   ]
  },
  {
   "cell_type": "markdown",
   "metadata": {
    "id": "QlFBsxAr_Zct"
   },
   "source": [
    "Теперь избавьтесь от неявных дубликатов в колонке `genre`. Например, название одного и того же жанра может быть записано немного по-разному. Такие ошибки тоже повлияют на результат исследования."
   ]
  },
  {
   "cell_type": "markdown",
   "metadata": {
    "id": "eSjWwsOh_Zct"
   },
   "source": [
    "Выведите на экран список уникальных названий жанров, отсортированный в алфавитном порядке. Для этого:\n",
    "* извлеките нужный столбец датафрейма, \n",
    "* примените к нему метод сортировки,\n",
    "* для отсортированного столбца вызовите метод, который вернёт уникальные значения из столбца."
   ]
  },
  {
   "cell_type": "code",
   "execution_count": 15,
   "metadata": {
    "id": "JIUcqzZN_Zct"
   },
   "outputs": [
    {
     "data": {
      "text/plain": [
       "['acid',\n",
       " 'acoustic',\n",
       " 'action',\n",
       " 'adult',\n",
       " 'africa',\n",
       " 'afrikaans',\n",
       " 'alternative',\n",
       " 'alternativepunk',\n",
       " 'ambient',\n",
       " 'americana',\n",
       " 'animated',\n",
       " 'anime',\n",
       " 'arabesk',\n",
       " 'arabic',\n",
       " 'arena',\n",
       " 'argentinetango',\n",
       " 'art',\n",
       " 'audiobook',\n",
       " 'author',\n",
       " 'avantgarde',\n",
       " 'axé',\n",
       " 'baile',\n",
       " 'balkan',\n",
       " 'beats',\n",
       " 'bigroom',\n",
       " 'black',\n",
       " 'bluegrass',\n",
       " 'blues',\n",
       " 'bollywood',\n",
       " 'bossa',\n",
       " 'brazilian',\n",
       " 'breakbeat',\n",
       " 'breaks',\n",
       " 'broadway',\n",
       " 'cantautori',\n",
       " 'cantopop',\n",
       " 'canzone',\n",
       " 'caribbean',\n",
       " 'caucasian',\n",
       " 'celtic',\n",
       " 'chamber',\n",
       " 'chanson',\n",
       " 'children',\n",
       " 'chill',\n",
       " 'chinese',\n",
       " 'choral',\n",
       " 'christian',\n",
       " 'christmas',\n",
       " 'classical',\n",
       " 'classicmetal',\n",
       " 'club',\n",
       " 'colombian',\n",
       " 'comedy',\n",
       " 'conjazz',\n",
       " 'contemporary',\n",
       " 'country',\n",
       " 'cuban',\n",
       " 'dance',\n",
       " 'dancehall',\n",
       " 'dancepop',\n",
       " 'dark',\n",
       " 'death',\n",
       " 'deep',\n",
       " 'deutschrock',\n",
       " 'deutschspr',\n",
       " 'dirty',\n",
       " 'disco',\n",
       " 'dnb',\n",
       " 'documentary',\n",
       " 'downbeat',\n",
       " 'downtempo',\n",
       " 'drum',\n",
       " 'dub',\n",
       " 'dubstep',\n",
       " 'eastern',\n",
       " 'easy',\n",
       " 'electronic',\n",
       " 'electropop',\n",
       " 'emo',\n",
       " 'entehno',\n",
       " 'epicmetal',\n",
       " 'estrada',\n",
       " 'ethnic',\n",
       " 'eurofolk',\n",
       " 'european',\n",
       " 'experimental',\n",
       " 'extrememetal',\n",
       " 'fado',\n",
       " 'fairytail',\n",
       " 'film',\n",
       " 'fitness',\n",
       " 'flamenco',\n",
       " 'folk',\n",
       " 'folklore',\n",
       " 'folkmetal',\n",
       " 'folkrock',\n",
       " 'folktronica',\n",
       " 'forró',\n",
       " 'frankreich',\n",
       " 'französisch',\n",
       " 'french',\n",
       " 'funk',\n",
       " 'future',\n",
       " 'gangsta',\n",
       " 'garage',\n",
       " 'german',\n",
       " 'ghazal',\n",
       " 'gitarre',\n",
       " 'glitch',\n",
       " 'gospel',\n",
       " 'gothic',\n",
       " 'grime',\n",
       " 'grunge',\n",
       " 'gypsy',\n",
       " 'handsup',\n",
       " \"hard'n'heavy\",\n",
       " 'hardcore',\n",
       " 'hardstyle',\n",
       " 'hardtechno',\n",
       " 'hip',\n",
       " 'hip-hop',\n",
       " 'hiphop',\n",
       " 'historisch',\n",
       " 'holiday',\n",
       " 'hop',\n",
       " 'horror',\n",
       " 'house',\n",
       " 'hymn',\n",
       " 'idm',\n",
       " 'independent',\n",
       " 'indian',\n",
       " 'indie',\n",
       " 'indipop',\n",
       " 'industrial',\n",
       " 'inspirational',\n",
       " 'instrumental',\n",
       " 'international',\n",
       " 'irish',\n",
       " 'jam',\n",
       " 'japanese',\n",
       " 'jazz',\n",
       " 'jewish',\n",
       " 'jpop',\n",
       " 'jungle',\n",
       " 'k-pop',\n",
       " 'karadeniz',\n",
       " 'karaoke',\n",
       " 'kayokyoku',\n",
       " 'korean',\n",
       " 'laiko',\n",
       " 'latin',\n",
       " 'latino',\n",
       " 'leftfield',\n",
       " 'local',\n",
       " 'lounge',\n",
       " 'loungeelectronic',\n",
       " 'lovers',\n",
       " 'malaysian',\n",
       " 'mandopop',\n",
       " 'marschmusik',\n",
       " 'meditative',\n",
       " 'mediterranean',\n",
       " 'melodic',\n",
       " 'metal',\n",
       " 'metalcore',\n",
       " 'mexican',\n",
       " 'middle',\n",
       " 'minimal',\n",
       " 'miscellaneous',\n",
       " 'modern',\n",
       " 'mood',\n",
       " 'mpb',\n",
       " 'muslim',\n",
       " 'native',\n",
       " 'neoklassik',\n",
       " 'neue',\n",
       " 'new',\n",
       " 'newage',\n",
       " 'newwave',\n",
       " 'nu',\n",
       " 'nujazz',\n",
       " 'numetal',\n",
       " 'oceania',\n",
       " 'old',\n",
       " 'opera',\n",
       " 'orchestral',\n",
       " 'other',\n",
       " 'piano',\n",
       " 'podcasts',\n",
       " 'pop',\n",
       " 'popdance',\n",
       " 'popelectronic',\n",
       " 'popeurodance',\n",
       " 'poprussian',\n",
       " 'post',\n",
       " 'posthardcore',\n",
       " 'postrock',\n",
       " 'power',\n",
       " 'progmetal',\n",
       " 'progressive',\n",
       " 'psychedelic',\n",
       " 'punjabi',\n",
       " 'punk',\n",
       " 'quebecois',\n",
       " 'ragga',\n",
       " 'ram',\n",
       " 'rancheras',\n",
       " 'rap',\n",
       " 'rave',\n",
       " 'reggae',\n",
       " 'reggaeton',\n",
       " 'regional',\n",
       " 'relax',\n",
       " 'religious',\n",
       " 'retro',\n",
       " 'rhythm',\n",
       " 'rnb',\n",
       " 'rnr',\n",
       " 'rock',\n",
       " 'rockabilly',\n",
       " 'rockalternative',\n",
       " 'rockindie',\n",
       " 'rockother',\n",
       " 'romance',\n",
       " 'roots',\n",
       " 'ruspop',\n",
       " 'rusrap',\n",
       " 'rusrock',\n",
       " 'russian',\n",
       " 'salsa',\n",
       " 'samba',\n",
       " 'scenic',\n",
       " 'schlager',\n",
       " 'self',\n",
       " 'sertanejo',\n",
       " 'shanson',\n",
       " 'shoegazing',\n",
       " 'showtunes',\n",
       " 'singer',\n",
       " 'ska',\n",
       " 'skarock',\n",
       " 'slow',\n",
       " 'smooth',\n",
       " 'soft',\n",
       " 'soul',\n",
       " 'soulful',\n",
       " 'sound',\n",
       " 'soundtrack',\n",
       " 'southern',\n",
       " 'specialty',\n",
       " 'speech',\n",
       " 'spiritual',\n",
       " 'sport',\n",
       " 'stonerrock',\n",
       " 'surf',\n",
       " 'swing',\n",
       " 'synthpop',\n",
       " 'synthrock',\n",
       " 'sängerportrait',\n",
       " 'tango',\n",
       " 'tanzorchester',\n",
       " 'taraftar',\n",
       " 'tatar',\n",
       " 'tech',\n",
       " 'techno',\n",
       " 'teen',\n",
       " 'thrash',\n",
       " 'top',\n",
       " 'traditional',\n",
       " 'tradjazz',\n",
       " 'trance',\n",
       " 'tribal',\n",
       " 'trip',\n",
       " 'triphop',\n",
       " 'tropical',\n",
       " 'türk',\n",
       " 'türkçe',\n",
       " 'ukrrock',\n",
       " 'unknown',\n",
       " 'urban',\n",
       " 'uzbek',\n",
       " 'variété',\n",
       " 'vi',\n",
       " 'videogame',\n",
       " 'vocal',\n",
       " 'western',\n",
       " 'world',\n",
       " 'worldbeat',\n",
       " 'ïîï',\n",
       " 'электроника']"
      ]
     },
     "metadata": {},
     "output_type": "display_data"
    }
   ],
   "source": [
    "# Просмотр уникальных названий жанров\n",
    "display(sorted(df['genre'].unique()))"
   ]
  },
  {
   "cell_type": "markdown",
   "metadata": {},
   "source": [
    "<div class=\"alert alert-block alert-success\">\n",
    "✔️  Список совсем не маленький - наверняка многие названия дублируются\n",
    "<div>"
   ]
  },
  {
   "cell_type": "markdown",
   "metadata": {
    "id": "qej-Qmuo_Zct"
   },
   "source": [
    "Просмотрите список и найдите неявные дубликаты названия `hiphop`. Это могут быть названия с ошибками или альтернативные названия того же жанра.\n",
    "\n",
    "Вы увидите следующие неявные дубликаты:\n",
    "* *hip*,\n",
    "* *hop*,\n",
    "* *hip-hop*.\n",
    "\n",
    "Чтобы очистить от них таблицу, напишите функцию `replace_wrong_genres()` с двумя параметрами: \n",
    "* `wrong_genres` — список дубликатов,\n",
    "* `correct_genre` — строка с правильным значением.\n",
    "\n",
    "Функция должна исправить колонку `genre` в таблице `df`: заменить каждое значение из списка `wrong_genres` на значение из `correct_genre`."
   ]
  },
  {
   "cell_type": "code",
   "execution_count": 16,
   "metadata": {
    "id": "ErNDkmns_Zct"
   },
   "outputs": [],
   "source": [
    "# Функция для замены неявных дубликатов\n",
    "def replace_wrong_genres(wrong_genres, correct_genre):\n",
    "    for wrong_gen in wrong_genres:\n",
    "        df['genre'] = df['genre'].replace(wrong_gen, correct_genre)"
   ]
  },
  {
   "cell_type": "markdown",
   "metadata": {},
   "source": [
    "<div class=\"alert alert-block alert-success\">\n",
    "✔️  Функция написана верно!\n",
    "<div>"
   ]
  },
  {
   "cell_type": "markdown",
   "metadata": {
    "id": "aDoBJxbA_Zct"
   },
   "source": [
    "Вызовите `replace_wrong_genres()` и передайте ей такие аргументы, чтобы она устранила неявные дубликаты: вместо `hip`, `hop` и `hip-hop` в таблице должно быть значение `hiphop`:"
   ]
  },
  {
   "cell_type": "code",
   "execution_count": 17,
   "metadata": {
    "id": "YN5i2hpmSo09"
   },
   "outputs": [],
   "source": [
    "# Устранение неявных дубликатов\n",
    "hip_hop_wrong = ['hip', 'hop', 'hip-hop']\n",
    "hip_hop_right = 'hiphop'\n",
    "replace_wrong_genres(hip_hop_wrong, hip_hop_right)"
   ]
  },
  {
   "cell_type": "markdown",
   "metadata": {
    "id": "zQKF16_RG15m"
   },
   "source": [
    "Проверьте, что заменили неправильные названия:\n",
    "\n",
    "*   hip\n",
    "*   hop\n",
    "*   hip-hop\n",
    "\n",
    "Выведите отсортированный список уникальных значений столбца `genre`:"
   ]
  },
  {
   "cell_type": "code",
   "execution_count": 18,
   "metadata": {
    "id": "wvixALnFG15m"
   },
   "outputs": [
    {
     "data": {
      "text/plain": [
       "['acid',\n",
       " 'acoustic',\n",
       " 'action',\n",
       " 'adult',\n",
       " 'africa',\n",
       " 'afrikaans',\n",
       " 'alternative',\n",
       " 'alternativepunk',\n",
       " 'ambient',\n",
       " 'americana',\n",
       " 'animated',\n",
       " 'anime',\n",
       " 'arabesk',\n",
       " 'arabic',\n",
       " 'arena',\n",
       " 'argentinetango',\n",
       " 'art',\n",
       " 'audiobook',\n",
       " 'author',\n",
       " 'avantgarde',\n",
       " 'axé',\n",
       " 'baile',\n",
       " 'balkan',\n",
       " 'beats',\n",
       " 'bigroom',\n",
       " 'black',\n",
       " 'bluegrass',\n",
       " 'blues',\n",
       " 'bollywood',\n",
       " 'bossa',\n",
       " 'brazilian',\n",
       " 'breakbeat',\n",
       " 'breaks',\n",
       " 'broadway',\n",
       " 'cantautori',\n",
       " 'cantopop',\n",
       " 'canzone',\n",
       " 'caribbean',\n",
       " 'caucasian',\n",
       " 'celtic',\n",
       " 'chamber',\n",
       " 'chanson',\n",
       " 'children',\n",
       " 'chill',\n",
       " 'chinese',\n",
       " 'choral',\n",
       " 'christian',\n",
       " 'christmas',\n",
       " 'classical',\n",
       " 'classicmetal',\n",
       " 'club',\n",
       " 'colombian',\n",
       " 'comedy',\n",
       " 'conjazz',\n",
       " 'contemporary',\n",
       " 'country',\n",
       " 'cuban',\n",
       " 'dance',\n",
       " 'dancehall',\n",
       " 'dancepop',\n",
       " 'dark',\n",
       " 'death',\n",
       " 'deep',\n",
       " 'deutschrock',\n",
       " 'deutschspr',\n",
       " 'dirty',\n",
       " 'disco',\n",
       " 'dnb',\n",
       " 'documentary',\n",
       " 'downbeat',\n",
       " 'downtempo',\n",
       " 'drum',\n",
       " 'dub',\n",
       " 'dubstep',\n",
       " 'eastern',\n",
       " 'easy',\n",
       " 'electronic',\n",
       " 'electropop',\n",
       " 'emo',\n",
       " 'entehno',\n",
       " 'epicmetal',\n",
       " 'estrada',\n",
       " 'ethnic',\n",
       " 'eurofolk',\n",
       " 'european',\n",
       " 'experimental',\n",
       " 'extrememetal',\n",
       " 'fado',\n",
       " 'fairytail',\n",
       " 'film',\n",
       " 'fitness',\n",
       " 'flamenco',\n",
       " 'folk',\n",
       " 'folklore',\n",
       " 'folkmetal',\n",
       " 'folkrock',\n",
       " 'folktronica',\n",
       " 'forró',\n",
       " 'frankreich',\n",
       " 'französisch',\n",
       " 'french',\n",
       " 'funk',\n",
       " 'future',\n",
       " 'gangsta',\n",
       " 'garage',\n",
       " 'german',\n",
       " 'ghazal',\n",
       " 'gitarre',\n",
       " 'glitch',\n",
       " 'gospel',\n",
       " 'gothic',\n",
       " 'grime',\n",
       " 'grunge',\n",
       " 'gypsy',\n",
       " 'handsup',\n",
       " \"hard'n'heavy\",\n",
       " 'hardcore',\n",
       " 'hardstyle',\n",
       " 'hardtechno',\n",
       " 'hiphop',\n",
       " 'historisch',\n",
       " 'holiday',\n",
       " 'horror',\n",
       " 'house',\n",
       " 'hymn',\n",
       " 'idm',\n",
       " 'independent',\n",
       " 'indian',\n",
       " 'indie',\n",
       " 'indipop',\n",
       " 'industrial',\n",
       " 'inspirational',\n",
       " 'instrumental',\n",
       " 'international',\n",
       " 'irish',\n",
       " 'jam',\n",
       " 'japanese',\n",
       " 'jazz',\n",
       " 'jewish',\n",
       " 'jpop',\n",
       " 'jungle',\n",
       " 'k-pop',\n",
       " 'karadeniz',\n",
       " 'karaoke',\n",
       " 'kayokyoku',\n",
       " 'korean',\n",
       " 'laiko',\n",
       " 'latin',\n",
       " 'latino',\n",
       " 'leftfield',\n",
       " 'local',\n",
       " 'lounge',\n",
       " 'loungeelectronic',\n",
       " 'lovers',\n",
       " 'malaysian',\n",
       " 'mandopop',\n",
       " 'marschmusik',\n",
       " 'meditative',\n",
       " 'mediterranean',\n",
       " 'melodic',\n",
       " 'metal',\n",
       " 'metalcore',\n",
       " 'mexican',\n",
       " 'middle',\n",
       " 'minimal',\n",
       " 'miscellaneous',\n",
       " 'modern',\n",
       " 'mood',\n",
       " 'mpb',\n",
       " 'muslim',\n",
       " 'native',\n",
       " 'neoklassik',\n",
       " 'neue',\n",
       " 'new',\n",
       " 'newage',\n",
       " 'newwave',\n",
       " 'nu',\n",
       " 'nujazz',\n",
       " 'numetal',\n",
       " 'oceania',\n",
       " 'old',\n",
       " 'opera',\n",
       " 'orchestral',\n",
       " 'other',\n",
       " 'piano',\n",
       " 'podcasts',\n",
       " 'pop',\n",
       " 'popdance',\n",
       " 'popelectronic',\n",
       " 'popeurodance',\n",
       " 'poprussian',\n",
       " 'post',\n",
       " 'posthardcore',\n",
       " 'postrock',\n",
       " 'power',\n",
       " 'progmetal',\n",
       " 'progressive',\n",
       " 'psychedelic',\n",
       " 'punjabi',\n",
       " 'punk',\n",
       " 'quebecois',\n",
       " 'ragga',\n",
       " 'ram',\n",
       " 'rancheras',\n",
       " 'rap',\n",
       " 'rave',\n",
       " 'reggae',\n",
       " 'reggaeton',\n",
       " 'regional',\n",
       " 'relax',\n",
       " 'religious',\n",
       " 'retro',\n",
       " 'rhythm',\n",
       " 'rnb',\n",
       " 'rnr',\n",
       " 'rock',\n",
       " 'rockabilly',\n",
       " 'rockalternative',\n",
       " 'rockindie',\n",
       " 'rockother',\n",
       " 'romance',\n",
       " 'roots',\n",
       " 'ruspop',\n",
       " 'rusrap',\n",
       " 'rusrock',\n",
       " 'russian',\n",
       " 'salsa',\n",
       " 'samba',\n",
       " 'scenic',\n",
       " 'schlager',\n",
       " 'self',\n",
       " 'sertanejo',\n",
       " 'shanson',\n",
       " 'shoegazing',\n",
       " 'showtunes',\n",
       " 'singer',\n",
       " 'ska',\n",
       " 'skarock',\n",
       " 'slow',\n",
       " 'smooth',\n",
       " 'soft',\n",
       " 'soul',\n",
       " 'soulful',\n",
       " 'sound',\n",
       " 'soundtrack',\n",
       " 'southern',\n",
       " 'specialty',\n",
       " 'speech',\n",
       " 'spiritual',\n",
       " 'sport',\n",
       " 'stonerrock',\n",
       " 'surf',\n",
       " 'swing',\n",
       " 'synthpop',\n",
       " 'synthrock',\n",
       " 'sängerportrait',\n",
       " 'tango',\n",
       " 'tanzorchester',\n",
       " 'taraftar',\n",
       " 'tatar',\n",
       " 'tech',\n",
       " 'techno',\n",
       " 'teen',\n",
       " 'thrash',\n",
       " 'top',\n",
       " 'traditional',\n",
       " 'tradjazz',\n",
       " 'trance',\n",
       " 'tribal',\n",
       " 'trip',\n",
       " 'triphop',\n",
       " 'tropical',\n",
       " 'türk',\n",
       " 'türkçe',\n",
       " 'ukrrock',\n",
       " 'unknown',\n",
       " 'urban',\n",
       " 'uzbek',\n",
       " 'variété',\n",
       " 'vi',\n",
       " 'videogame',\n",
       " 'vocal',\n",
       " 'western',\n",
       " 'world',\n",
       " 'worldbeat',\n",
       " 'ïîï',\n",
       " 'электроника']"
      ]
     },
     "metadata": {},
     "output_type": "display_data"
    }
   ],
   "source": [
    "# Проверка на неявные дубликаты\n",
    "display(sorted(df['genre'].unique()))"
   ]
  },
  {
   "cell_type": "markdown",
   "metadata": {
    "id": "jz6a9-7HQUDd"
   },
   "source": [
    "**Выводы**\n",
    "\n",
    "Предобработка обнаружила три проблемы в данных:\n",
    "\n",
    "- нарушения в стиле заголовков,\n",
    "- пропущенные значения,\n",
    "- дубликаты — явные и неявные.\n",
    "\n",
    "Вы исправили заголовки, чтобы упростить работу с таблицей. Без дубликатов исследование станет более точным.\n",
    "\n",
    "Пропущенные значения вы заменили на `'unknown'`. Ещё предстоит увидеть, не повредят ли исследованию пропуски в колонке `genre`.\n",
    "\n",
    "Теперь можно перейти к проверке гипотез. "
   ]
  },
  {
   "cell_type": "markdown",
   "metadata": {
    "id": "WttZHXH0SqKk"
   },
   "source": [
    "## Проверка гипотез"
   ]
  },
  {
   "cell_type": "markdown",
   "metadata": {
    "id": "Im936VVi_Zcu"
   },
   "source": [
    "### Сравнение поведения пользователей двух столиц"
   ]
  },
  {
   "cell_type": "markdown",
   "metadata": {
    "id": "nwt_MuaL_Zcu"
   },
   "source": [
    "Первая гипотеза утверждает, что пользователи по-разному слушают музыку в Москве и Санкт-Петербурге. Проверьте это предположение по данным о трёх днях недели — понедельнике, среде и пятнице. Для этого:\n",
    "\n",
    "* Разделите пользователей Москвы и Санкт-Петербурга\n",
    "* Сравните, сколько треков послушала каждая группа пользователей в понедельник, среду и пятницу.\n"
   ]
  },
  {
   "cell_type": "markdown",
   "metadata": {
    "id": "8Dw_YMmT_Zcu"
   },
   "source": [
    "Для тренировки сначала выполните каждый из расчётов по отдельности. \n",
    "\n",
    "Оцените активность пользователей в каждом городе. Сгруппируйте данные по городу и посчитайте прослушивания в каждой группе.\n",
    "\n"
   ]
  },
  {
   "cell_type": "code",
   "execution_count": 19,
   "metadata": {
    "id": "0_Qs96oh_Zcu"
   },
   "outputs": [
    {
     "data": {
      "text/plain": [
       "city\n",
       "Moscow              42741\n",
       "Saint-Petersburg    18512\n",
       "Name: user_id, dtype: int64"
      ]
     },
     "metadata": {},
     "output_type": "display_data"
    }
   ],
   "source": [
    "# Подсчёт прослушиваний в каждом городе\n",
    "display(df.groupby('city')['user_id'].count())"
   ]
  },
  {
   "cell_type": "markdown",
   "metadata": {
    "id": "dzli3w8o_Zcu"
   },
   "source": [
    "В Москве прослушиваний больше, чем в Петербурге. Из этого не следует, что московские пользователи чаще слушают музыку. Просто самих пользователей в Москве больше.\n",
    "\n",
    "Теперь сгруппируйте данные по дню недели и подсчитайте прослушивания в понедельник, среду и пятницу. Учтите, что в данных есть информация только о прослушиваниях только за эти дни.\n"
   ]
  },
  {
   "cell_type": "code",
   "execution_count": 20,
   "metadata": {
    "id": "uZMKjiJz_Zcu"
   },
   "outputs": [
    {
     "data": {
      "text/plain": [
       "day\n",
       "Friday       21840\n",
       "Monday       21354\n",
       "Wednesday    18059\n",
       "Name: user_id, dtype: int64"
      ]
     },
     "metadata": {},
     "output_type": "display_data"
    }
   ],
   "source": [
    "# Подсчёт прослушиваний в каждый из трёх дней\n",
    "display(df.groupby('day')['user_id'].count())"
   ]
  },
  {
   "cell_type": "markdown",
   "metadata": {},
   "source": [
    "<div class=\"alert alert-block alert-success\">\n",
    "✔️  Группировка осуществлена правильно!\n",
    "<div> "
   ]
  },
  {
   "cell_type": "markdown",
   "metadata": {
    "id": "cC2tNrlL_Zcu"
   },
   "source": [
    "В среднем пользователи из двух городов менее активны по средам. Но картина может измениться, если рассмотреть каждый город в отдельности."
   ]
  },
  {
   "cell_type": "markdown",
   "metadata": {
    "id": "POzs8bGa_Zcu"
   },
   "source": [
    "Вы видели, как работает группировка по городу и по дням недели. Теперь напишите функцию, которая объединит два эти расчёта.\n",
    "\n",
    "Создайте функцию `number_tracks()`, которая посчитает прослушивания для заданного дня и города. Ей понадобятся два параметра:\n",
    "* день недели,\n",
    "* название города.\n",
    "\n",
    "В функции сохраните в переменную строки исходной таблицы, у которых значение:\n",
    "  * в колонке `day` равно параметру `day`,\n",
    "  * в колонке `city` равно параметру `city`.\n",
    "\n",
    "Для этого примените последовательную фильтрацию с логической индексацией.\n",
    "\n",
    "Затем посчитайте значения в столбце `user_id` получившейся таблицы. Результат сохраните в новую переменную. Верните эту переменную из функции."
   ]
  },
  {
   "cell_type": "code",
   "execution_count": 21,
   "metadata": {
    "id": "Nz3GdQB1_Zcu"
   },
   "outputs": [],
   "source": [
    "# <создание функции number_tracks()>\n",
    "# Объявляется функция с двумя параметрами: day, city.\n",
    "def number_tracks(day, city):\n",
    "# В переменной track_list сохраняются те строки таблицы df, для которых \n",
    "# значение в столбце 'day' равно параметру day и одновременно значение\n",
    "# в столбце 'city' равно параметру city (используйте последовательную фильтрацию\n",
    "# с помощью логической индексации). \n",
    "    track_list = df.loc[(df['day'] == day) & (df['city'] == city)]\n",
    "# В переменной track_list_count сохраняется число значений столбца 'user_id',\n",
    "# рассчитанное методом count() для таблицы track_list.\n",
    "    track_list_count = track_list.loc[:, 'user_id'].count()\n",
    "# Функция возвращает число - значение track_list_count.\n",
    "    return track_list_count\n",
    "# Функция для подсчёта прослушиваний для конкретного города и дня.\n",
    "# С помощью последовательной фильтрации с логической индексацией она \n",
    "# сначала получит из исходной таблицы строки с нужным днём,\n",
    "# затем из результата отфильтрует строки с нужным городом,\n",
    "# методом count() посчитает количество значений в колонке user_id. \n",
    "# Это количество функция вернёт в качестве результата"
   ]
  },
  {
   "cell_type": "markdown",
   "metadata": {},
   "source": [
    "<div class=\"alert alert-block alert-success\">\n",
    "✔️  Твоя функция полностью выполняет свои задачи.\n",
    "<div> "
   ]
  },
  {
   "cell_type": "markdown",
   "metadata": {
    "id": "ytf7xFrFJQ2r"
   },
   "source": [
    "Вызовите `number_tracks()` шесть раз, меняя значение параметров — так, чтобы получить данные для каждого города в каждый из трёх дней."
   ]
  },
  {
   "cell_type": "code",
   "execution_count": 22,
   "metadata": {
    "id": "rJcRATNQ_Zcu"
   },
   "outputs": [
    {
     "data": {
      "text/plain": [
       "15740"
      ]
     },
     "execution_count": 22,
     "metadata": {},
     "output_type": "execute_result"
    }
   ],
   "source": [
    "# количество прослушиваний в Москве по понедельникам\n",
    "number_tracks('Monday', 'Moscow')"
   ]
  },
  {
   "cell_type": "code",
   "execution_count": 23,
   "metadata": {
    "id": "hq_ncZ5T_Zcu"
   },
   "outputs": [
    {
     "data": {
      "text/plain": [
       "5614"
      ]
     },
     "execution_count": 23,
     "metadata": {},
     "output_type": "execute_result"
    }
   ],
   "source": [
    "# количество прослушиваний в Санкт-Петербурге по понедельникам\n",
    "number_tracks('Monday', 'Saint-Petersburg')"
   ]
  },
  {
   "cell_type": "code",
   "execution_count": 24,
   "metadata": {
    "id": "_NTy2VPU_Zcu"
   },
   "outputs": [
    {
     "data": {
      "text/plain": [
       "11056"
      ]
     },
     "execution_count": 24,
     "metadata": {},
     "output_type": "execute_result"
    }
   ],
   "source": [
    "# количество прослушиваний в Москве по средам\n",
    "number_tracks('Wednesday', 'Moscow')"
   ]
  },
  {
   "cell_type": "code",
   "execution_count": 25,
   "metadata": {
    "id": "j2y3TAwo_Zcu"
   },
   "outputs": [
    {
     "data": {
      "text/plain": [
       "7003"
      ]
     },
     "execution_count": 25,
     "metadata": {},
     "output_type": "execute_result"
    }
   ],
   "source": [
    "# количество прослушиваний в Санкт-Петербурге по средам\n",
    "number_tracks('Wednesday', 'Saint-Petersburg')"
   ]
  },
  {
   "cell_type": "code",
   "execution_count": 26,
   "metadata": {
    "id": "vYDw5u_K_Zcu"
   },
   "outputs": [
    {
     "data": {
      "text/plain": [
       "15945"
      ]
     },
     "execution_count": 26,
     "metadata": {},
     "output_type": "execute_result"
    }
   ],
   "source": [
    "# количество прослушиваний в Москве по пятницам\n",
    "number_tracks('Friday', 'Moscow')"
   ]
  },
  {
   "cell_type": "code",
   "execution_count": 27,
   "metadata": {
    "id": "8_yzFtW3_Zcu"
   },
   "outputs": [
    {
     "data": {
      "text/plain": [
       "5895"
      ]
     },
     "execution_count": 27,
     "metadata": {},
     "output_type": "execute_result"
    }
   ],
   "source": [
    "# количество прослушиваний в Санкт-Петербурге по пятницам\n",
    "number_tracks('Friday', 'Saint-Petersburg')"
   ]
  },
  {
   "cell_type": "markdown",
   "metadata": {
    "id": "7QXffbO-_Zcu"
   },
   "source": [
    "Создайте c помощью конструктора `pd.DataFrame` таблицу, где\n",
    "* названия колонок — `['city', 'monday', 'wednesday', 'friday']`;\n",
    "* данные — результаты, которые вы получили с помощью `number_tracks`."
   ]
  },
  {
   "cell_type": "code",
   "execution_count": 28,
   "metadata": {
    "id": "APAcLpOr_Zcu"
   },
   "outputs": [
    {
     "data": {
      "text/html": [
       "<div>\n",
       "<style scoped>\n",
       "    .dataframe tbody tr th:only-of-type {\n",
       "        vertical-align: middle;\n",
       "    }\n",
       "\n",
       "    .dataframe tbody tr th {\n",
       "        vertical-align: top;\n",
       "    }\n",
       "\n",
       "    .dataframe thead th {\n",
       "        text-align: right;\n",
       "    }\n",
       "</style>\n",
       "<table border=\"1\" class=\"dataframe\">\n",
       "  <thead>\n",
       "    <tr style=\"text-align: right;\">\n",
       "      <th></th>\n",
       "      <th>city</th>\n",
       "      <th>monday</th>\n",
       "      <th>wednesday</th>\n",
       "      <th>friday</th>\n",
       "    </tr>\n",
       "  </thead>\n",
       "  <tbody>\n",
       "    <tr>\n",
       "      <td>0</td>\n",
       "      <td>Moscow</td>\n",
       "      <td>15740</td>\n",
       "      <td>11056</td>\n",
       "      <td>15945</td>\n",
       "    </tr>\n",
       "    <tr>\n",
       "      <td>1</td>\n",
       "      <td>Saint-Petersburg</td>\n",
       "      <td>5614</td>\n",
       "      <td>7003</td>\n",
       "      <td>5895</td>\n",
       "    </tr>\n",
       "  </tbody>\n",
       "</table>\n",
       "</div>"
      ],
      "text/plain": [
       "               city  monday  wednesday  friday\n",
       "0            Moscow   15740      11056   15945\n",
       "1  Saint-Petersburg    5614       7003    5895"
      ]
     },
     "metadata": {},
     "output_type": "display_data"
    }
   ],
   "source": [
    "# Таблица с результатами\n",
    "columns = ['city', 'monday', 'wednesday', 'friday']\n",
    "data = [['Moscow', 15740, 11056, 15945],\n",
    "       ['Saint-Petersburg', 5614, 7003, 5895]]\n",
    "data_table = pd.DataFrame(data = data, columns = columns)\n",
    "display(data_table)"
   ]
  },
  {
   "cell_type": "markdown",
   "metadata": {
    "id": "-EgPIHYu_Zcu"
   },
   "source": [
    "**Выводы**\n",
    "\n",
    "Данные показывают разницу поведения пользователей:\n",
    "\n",
    "- В Москве пик прослушиваний приходится на понедельник и пятницу, а в среду заметен спад.\n",
    "- В Петербурге, наоборот, больше слушают музыку по средам. Активность в понедельник и пятницу здесь почти в равной мере уступает среде.\n",
    "\n",
    "Значит, данные говорят в пользу первой гипотезы."
   ]
  },
  {
   "cell_type": "markdown",
   "metadata": {
    "id": "atZAxtq4_Zcu"
   },
   "source": [
    "### Музыка в начале и в конце недели"
   ]
  },
  {
   "cell_type": "markdown",
   "metadata": {
    "id": "eXrQqXFH_Zcu"
   },
   "source": [
    "Согласно второй гипотезе, утром в понедельник в Москве преобладают одни жанры, а в Петербурге — другие. Так же и вечером пятницы преобладают разные жанры — в зависимости от города."
   ]
  },
  {
   "cell_type": "markdown",
   "metadata": {
    "id": "S8UcW6Hw_Zcu"
   },
   "source": [
    "Сохраните таблицы с данными в две переменные:\n",
    "* по Москве — в `moscow_general`;\n",
    "* по Санкт-Петербургу — в `spb_general`."
   ]
  },
  {
   "cell_type": "code",
   "execution_count": 29,
   "metadata": {
    "id": "qeaFfM_P_Zcu"
   },
   "outputs": [],
   "source": [
    "# получение таблицы moscow_general из тех строк таблицы df, \n",
    "# для которых значение в столбце 'city' равно 'Moscow'\n",
    "moscow_general = df[df['city'] == 'Moscow']"
   ]
  },
  {
   "cell_type": "code",
   "execution_count": 30,
   "metadata": {
    "id": "ORaVRKto_Zcu"
   },
   "outputs": [],
   "source": [
    "# получение таблицы spb_general из тех строк таблицы df,\n",
    "# для которых значение в столбце 'city' равно 'Saint-Petersburg'\n",
    "spb_general = df[df['city'] == 'Saint-Petersburg']"
   ]
  },
  {
   "cell_type": "markdown",
   "metadata": {
    "id": "MEJV-CX2_Zcu"
   },
   "source": [
    "Создайте функцию `genre_weekday()` с четырьмя параметрами:\n",
    "* таблица (датафрейм) с данными,\n",
    "* день недели,\n",
    "* начальная временная метка в формате 'hh:mm', \n",
    "* последняя временная метка в формате 'hh:mm'.\n",
    "\n",
    "Функция должна вернуть информацию о топ-10 жанров тех треков, которые прослушивали в указанный день, в промежутке между двумя отметками времени."
   ]
  },
  {
   "cell_type": "code",
   "execution_count": 31,
   "metadata": {
    "id": "laJT9BYl_Zcu"
   },
   "outputs": [],
   "source": [
    "# Объявление функции genre_weekday() с параметрами table, day, time1, time2,\n",
    "# которая возвращает информацию о самых популярных жанрах в указанный день в\n",
    "# заданное время:\n",
    "def genre_weekday(table, day, time1, time2):\n",
    "# 1) в переменную genre_df сохраняются те строки переданного датафрейма table, для\n",
    "#    которых одновременно:\n",
    "#    - значение в столбце day равно значению аргумента day\n",
    "#    - значение в столбце time больше значения аргумента time1\n",
    "#    - значение в столбце time меньше значения аргумента time2\n",
    "#    Используйте последовательную фильтрацию с помощью логической индексации.\n",
    "    genre_df = table.loc[(table['day'] == day) & (table['time'] > time1) & (table['time'] < time2)]\n",
    "# 2) сгруппировать датафрейм genre_df по столбцу genre, взять один из его\n",
    "#    столбцов и посчитать методом count() количество записей для каждого из\n",
    "#    присутствующих жанров, получившийся Series записать в переменную\n",
    "#    genre_df_count\n",
    "    genre_df_count = genre_df.groupby('genre')['genre'].count()\n",
    "# 3) отсортировать genre_df_count по убыванию встречаемости и сохранить\n",
    "#    в переменную genre_df_sorted\n",
    "    genre_df_sorted = genre_df_count.sort_values(ascending = False)\n",
    "# 4) вернуть Series из 10 первых значений genre_df_sorted, это будут топ-10\n",
    "#    популярных жанров (в указанный день, в заданное время)\n",
    "    return genre_df_sorted.head(10)"
   ]
  },
  {
   "cell_type": "markdown",
   "metadata": {
    "id": "la2s2_PF_Zcu"
   },
   "source": [
    "Cравните результаты функции `genre_weekday()` для Москвы и Санкт-Петербурга в понедельник утром (с 7:00 до 11:00) и в пятницу вечером (с 17:00 до 23:00):"
   ]
  },
  {
   "cell_type": "code",
   "execution_count": 32,
   "metadata": {
    "id": "yz7itPUQ_Zcu"
   },
   "outputs": [
    {
     "data": {
      "text/plain": [
       "genre\n",
       "pop            781\n",
       "dance          549\n",
       "electronic     480\n",
       "rock           474\n",
       "hiphop         286\n",
       "ruspop         186\n",
       "world          181\n",
       "rusrap         175\n",
       "alternative    164\n",
       "unknown        161\n",
       "Name: genre, dtype: int64"
      ]
     },
     "execution_count": 32,
     "metadata": {},
     "output_type": "execute_result"
    }
   ],
   "source": [
    "# вызов функции для утра понедельника в Москве (вместо df — таблица moscow_general)\n",
    "# объекты, хранящие время, являются строками и сравниваются как строки\n",
    "# пример вызова: genre_weekday(moscow_general, 'Monday', '07:00', '11:00')\n",
    "genre_weekday(moscow_general, 'Monday', '07:00', '11:00')"
   ]
  },
  {
   "cell_type": "code",
   "execution_count": 33,
   "metadata": {
    "id": "kwUcHPdy_Zcu"
   },
   "outputs": [
    {
     "data": {
      "text/plain": [
       "genre\n",
       "pop            218\n",
       "dance          182\n",
       "rock           162\n",
       "electronic     147\n",
       "hiphop          80\n",
       "ruspop          64\n",
       "alternative     58\n",
       "rusrap          55\n",
       "jazz            44\n",
       "classical       40\n",
       "Name: genre, dtype: int64"
      ]
     },
     "execution_count": 33,
     "metadata": {},
     "output_type": "execute_result"
    }
   ],
   "source": [
    "# вызов функции для утра понедельника в Петербурге (вместо df — таблица spb_general)\n",
    "genre_weekday(spb_general, 'Monday', '07:00', '11:00')"
   ]
  },
  {
   "cell_type": "code",
   "execution_count": 34,
   "metadata": {
    "id": "EzXVRE1o_Zcu"
   },
   "outputs": [
    {
     "data": {
      "text/plain": [
       "genre\n",
       "pop            713\n",
       "rock           517\n",
       "dance          495\n",
       "electronic     482\n",
       "hiphop         273\n",
       "world          208\n",
       "ruspop         170\n",
       "alternative    163\n",
       "classical      163\n",
       "rusrap         142\n",
       "Name: genre, dtype: int64"
      ]
     },
     "execution_count": 34,
     "metadata": {},
     "output_type": "execute_result"
    }
   ],
   "source": [
    "# вызов функции для вечера пятницы в Москве\n",
    "genre_weekday(moscow_general, 'Friday', '17:00', '23:00')"
   ]
  },
  {
   "cell_type": "code",
   "execution_count": 35,
   "metadata": {
    "id": "JZaEKu5v_Zcu"
   },
   "outputs": [
    {
     "data": {
      "text/plain": [
       "genre\n",
       "pop            256\n",
       "rock           216\n",
       "electronic     216\n",
       "dance          210\n",
       "hiphop          97\n",
       "alternative     63\n",
       "jazz            61\n",
       "classical       60\n",
       "rusrap          59\n",
       "world           54\n",
       "Name: genre, dtype: int64"
      ]
     },
     "execution_count": 35,
     "metadata": {},
     "output_type": "execute_result"
    }
   ],
   "source": [
    "# вызов функции для вечера пятницы в Петербурге\n",
    "genre_weekday(spb_general, 'Friday', '17:00', '23:00')"
   ]
  },
  {
   "cell_type": "markdown",
   "metadata": {},
   "source": [
    "<div class=\"alert alert-block alert-danger\">\n",
    "❌ Ты вызываешь функцию не с теми параметрами (в пятницу, а не понедельник с 17 до 23), поправь, пожалуйста\n",
    "</div>\n",
    "<div class=\"alert alert-block alert-info\">\n",
    "<b>Комментарий студента:</b> \n",
    "Поправил\n",
    "</div>"
   ]
  },
  {
   "cell_type": "markdown",
   "metadata": {},
   "source": [
    "<div class=\"alert alert-block alert-success\">\n",
    "✔️ Отлично!\n",
    "<div> "
   ]
  },
  {
   "cell_type": "markdown",
   "metadata": {
    "id": "wrCe4MNX_Zcu"
   },
   "source": [
    "**Выводы**\n",
    "\n",
    "Если сравнить топ-10 жанров в понедельник утром, можно сделать такие выводы:\n",
    "\n",
    "1. В Москве и Петербурге слушают похожую музыку. Единственное отличие — в московский рейтинг вошёл жанр “world”, а в петербургский — джаз и классика.\n",
    "\n",
    "2. В Москве пропущенных значений оказалось так много, что значение `'unknown'` заняло десятое место среди самых популярных жанров. Значит, пропущенные значения занимают существенную долю в данных и угрожают достоверности исследования.\n",
    "\n",
    "Вечер пятницы не меняет эту картину. Некоторые жанры поднимаются немного выше, другие спускаются, но в целом топ-10 остаётся тем же самым.\n",
    "\n",
    "Таким образом, вторая гипотеза подтвердилась лишь частично:\n",
    "* Пользователи слушают похожую музыку в начале недели и в конце.\n",
    "* Разница между Москвой и Петербургом не слишком выражена. В Москве чаще слушают русскую популярную музыку, в Петербурге — джаз.\n",
    "\n",
    "Однако пропуски в данных ставят под сомнение этот результат. В Москве их так много, что рейтинг топ-10 мог бы выглядеть иначе, если бы не утерянные  данные о жанрах."
   ]
  },
  {
   "cell_type": "markdown",
   "metadata": {
    "id": "JolODAqr_Zcu"
   },
   "source": [
    "### Жанровые предпочтения в Москве и Петербурге\n",
    "\n",
    "Гипотеза: Петербург — столица рэпа, музыку этого жанра там слушают чаще, чем в Москве.  А Москва — город контрастов, в котором, тем не менее, преобладает поп-музыка."
   ]
  },
  {
   "cell_type": "markdown",
   "metadata": {
    "id": "DlegSvaT_Zcu"
   },
   "source": [
    "Сгруппируйте таблицу `moscow_general` по жанру и посчитайте прослушивания треков каждого жанра методом `count()`. Затем отсортируйте результат в порядке убывания и сохраните его в таблице `moscow_genres`."
   ]
  },
  {
   "cell_type": "code",
   "execution_count": 36,
   "metadata": {
    "id": "r19lIPke_Zcu"
   },
   "outputs": [],
   "source": [
    "# одной строкой: группировка таблицы moscow_general по столбцу 'genre', \n",
    "# подсчёт числа значений 'genre' в этой группировке методом count(), \n",
    "# сортировка получившегося Series в порядке убывания и сохранение в moscow_genres\n",
    "moscow_genres=moscow_general.groupby('genre')['genre'].count().sort_values(ascending = False)"
   ]
  },
  {
   "cell_type": "markdown",
   "metadata": {
    "id": "6kMuomxTiIr8"
   },
   "source": [
    "Выведите на экран первые десять строк `moscow_genres`:"
   ]
  },
  {
   "cell_type": "code",
   "execution_count": 37,
   "metadata": {
    "id": "WhCSooF8_Zcv"
   },
   "outputs": [
    {
     "data": {
      "text/plain": [
       "genre\n",
       "pop            5892\n",
       "dance          4435\n",
       "rock           3965\n",
       "electronic     3786\n",
       "hiphop         2096\n",
       "classical      1616\n",
       "world          1432\n",
       "alternative    1379\n",
       "ruspop         1372\n",
       "rusrap         1161\n",
       "Name: genre, dtype: int64"
      ]
     },
     "metadata": {},
     "output_type": "display_data"
    }
   ],
   "source": [
    "# просмотр первых 10 строк moscow_genres\n",
    "display(moscow_genres.head(10))"
   ]
  },
  {
   "cell_type": "markdown",
   "metadata": {
    "id": "cnPG2vnN_Zcv"
   },
   "source": [
    "Теперь повторите то же и для Петербурга.\n",
    "\n",
    "Сгруппируйте таблицу `spb_general` по жанру. Посчитайте прослушивания треков каждого жанра. Результат отсортируйте в порядке убывания и сохраните в таблице `spb_genres`:\n"
   ]
  },
  {
   "cell_type": "code",
   "execution_count": 38,
   "metadata": {
    "id": "gluLIpE7_Zcv"
   },
   "outputs": [],
   "source": [
    "# одной строкой: группировка таблицы spb_general по столбцу 'genre', \n",
    "# подсчёт числа значений 'genre' в этой группировке методом count(), \n",
    "# сортировка получившегося Series в порядке убывания и сохранение в spb_genres\n",
    "spb_genres=spb_general.groupby('genre')['genre'].count().sort_values(ascending=False)"
   ]
  },
  {
   "cell_type": "markdown",
   "metadata": {
    "id": "5Doha_ODgyQ8"
   },
   "source": [
    "Выведите на экран первые десять строк `spb_genres`:"
   ]
  },
  {
   "cell_type": "code",
   "execution_count": 39,
   "metadata": {
    "id": "uaGJHjVU_Zcv"
   },
   "outputs": [
    {
     "data": {
      "text/plain": [
       "genre\n",
       "pop            2431\n",
       "dance          1932\n",
       "rock           1879\n",
       "electronic     1736\n",
       "hiphop          960\n",
       "alternative     649\n",
       "classical       646\n",
       "rusrap          564\n",
       "ruspop          538\n",
       "world           515\n",
       "Name: genre, dtype: int64"
      ]
     },
     "metadata": {},
     "output_type": "display_data"
    }
   ],
   "source": [
    "# просмотр первых 10 строк spb_genres\n",
    "display(spb_genres.head(10))"
   ]
  },
  {
   "cell_type": "markdown",
   "metadata": {
    "id": "RY51YJYu_Zcv"
   },
   "source": [
    "**Выводы**"
   ]
  },
  {
   "cell_type": "markdown",
   "metadata": {
    "id": "nVhnJEm__Zcv"
   },
   "source": [
    "Гипотеза частично подтвердилась:\n",
    "* Поп-музыка — самый популярный жанр в Москве, как и предполагала гипотеза. Более того, в топ-10 жанров встречается близкий жанр — русская популярная музыка.\n",
    "* Вопреки ожиданиям, рэп одинаково популярен в Москве и Петербурге. \n"
   ]
  },
  {
   "cell_type": "markdown",
   "metadata": {
    "id": "ykKQ0N65_Zcv"
   },
   "source": [
    "## Итоги исследования"
   ]
  },
  {
   "cell_type": "markdown",
   "metadata": {
    "id": "tjUwbHb3_Zcv"
   },
   "source": [
    "Вы проверили три гипотезы и установили:\n",
    "\n",
    "1. День недели по-разному влияет на активность пользователей в Москве и Петербурге. \n",
    "\n",
    "Первая гипотеза полностью подтвердилась.\n",
    "\n",
    "2. Музыкальные предпочтения не сильно меняются в течение недели — будь то Москва или Петербург. Небольшие различия заметны в начале недели, по понедельникам:\n",
    "* в Москве слушают музыку жанра “world”,\n",
    "* в Петербурге — джаз и классику.\n",
    "\n",
    "Таким образом, вторая гипотеза подтвердилась лишь отчасти. Этот результат мог оказаться иным, если бы не пропуски в данных.\n",
    "\n",
    "3. Во вкусах пользователей Москвы и Петербурга больше общего чем различий. Вопреки ожиданиям, предпочтения жанров в Петербурге напоминают московские.\n",
    "\n",
    "Третья гипотеза не подтвердилась. Если различия в предпочтениях и существуют, на основной массе пользователей они незаметны.\n",
    "\n",
    "**На практике исследования содержат проверки статистических гипотез.**\n",
    "Из данных одного сервиса не всегда можно сделать вывод о всех жителях города.\n",
    "Проверки статистических гипотез покажут, насколько они достоверны, исходя из имеющихся данных. \n",
    "С методами проверок гипотез вы ещё познакомитесь в следующих темах."
   ]
  },
  {
   "cell_type": "markdown",
   "metadata": {},
   "source": [
    "<font color='blue'><b>Итоговый комментарий ревьюера</b></font>\\\n",
    "<font color='green'>Николай, хороший проект, так держать. Всё сделал правильно, нужно исправить лишь мелочи:)\n",
    "\n",
    "<font color='blue'>Что можно сделать лучше:</font>\n",
    "<ul><font color='red'>1) Вызывать функцию genre_weekday с параметрами, указанными в задании</font></ul>\n",
    "\n",
    "<font color='blue'><b>Спасибо, жду твоих исправлений и комментариев!</b></font>\n",
    "    \n",
    "<div class=\"alert alert-block alert-info\">\n",
    "<b>Комментарий студента:</b> \n",
    "Поправил\n",
    "</div>"
   ]
  },
  {
   "cell_type": "markdown",
   "metadata": {},
   "source": [
    "<div class=\"alert alert-block alert-success\">\n",
    "✔️ Перевожу твой проект в статус \"зачтено\" и желаю дальнейших успехов в освоении курса!\n",
    "<div> "
   ]
  },
  {
   "cell_type": "code",
   "execution_count": null,
   "metadata": {},
   "outputs": [],
   "source": []
  }
 ],
 "metadata": {
  "ExecuteTimeLog": [
   {
    "duration": 307,
    "start_time": "2022-01-28T08:55:26.411Z"
   },
   {
    "duration": 552,
    "start_time": "2022-01-28T08:55:49.221Z"
   },
   {
    "duration": 149,
    "start_time": "2022-01-28T08:55:49.775Z"
   },
   {
    "duration": 18,
    "start_time": "2022-01-28T08:56:13.269Z"
   },
   {
    "duration": 4,
    "start_time": "2022-01-28T08:58:16.818Z"
   },
   {
    "duration": 9,
    "start_time": "2022-01-28T08:58:26.358Z"
   },
   {
    "duration": 8,
    "start_time": "2022-01-28T09:00:06.044Z"
   },
   {
    "duration": 26,
    "start_time": "2022-01-28T09:00:52.976Z"
   },
   {
    "duration": 4,
    "start_time": "2022-01-28T09:16:37.028Z"
   },
   {
    "duration": 4,
    "start_time": "2022-01-28T09:16:54.453Z"
   },
   {
    "duration": 5,
    "start_time": "2022-01-28T09:17:23.947Z"
   },
   {
    "duration": 4,
    "start_time": "2022-01-28T09:23:46.930Z"
   },
   {
    "duration": 24,
    "start_time": "2022-01-28T09:23:53.554Z"
   },
   {
    "duration": 5,
    "start_time": "2022-01-28T09:23:57.456Z"
   },
   {
    "duration": 23,
    "start_time": "2022-01-28T10:09:44.705Z"
   },
   {
    "duration": 17,
    "start_time": "2022-01-28T10:22:03.356Z"
   },
   {
    "duration": 22,
    "start_time": "2022-01-28T10:22:11.548Z"
   },
   {
    "duration": 62,
    "start_time": "2022-01-28T11:04:37.560Z"
   },
   {
    "duration": 162,
    "start_time": "2022-01-28T11:06:03.235Z"
   },
   {
    "duration": 75,
    "start_time": "2022-01-28T11:09:06.646Z"
   },
   {
    "duration": 53,
    "start_time": "2022-01-28T11:09:11.245Z"
   },
   {
    "duration": 9,
    "start_time": "2022-01-28T11:19:33.504Z"
   },
   {
    "duration": 7,
    "start_time": "2022-01-28T11:21:47.179Z"
   },
   {
    "duration": 7,
    "start_time": "2022-01-28T11:22:51.407Z"
   },
   {
    "duration": 7,
    "start_time": "2022-01-28T11:23:07.431Z"
   },
   {
    "duration": 10,
    "start_time": "2022-01-28T11:24:32.303Z"
   },
   {
    "duration": 3,
    "start_time": "2022-01-28T11:32:47.380Z"
   },
   {
    "duration": 17,
    "start_time": "2022-01-28T11:36:18.995Z"
   },
   {
    "duration": 10,
    "start_time": "2022-01-28T11:36:32.532Z"
   },
   {
    "duration": 6,
    "start_time": "2022-01-28T12:38:32.574Z"
   },
   {
    "duration": 11,
    "start_time": "2022-01-28T12:47:09.965Z"
   },
   {
    "duration": 11,
    "start_time": "2022-01-28T12:48:49.423Z"
   },
   {
    "duration": 3,
    "start_time": "2022-01-28T13:33:16.809Z"
   },
   {
    "duration": 134,
    "start_time": "2022-01-28T13:33:48.959Z"
   },
   {
    "duration": 3,
    "start_time": "2022-01-28T13:34:03.215Z"
   },
   {
    "duration": 4,
    "start_time": "2022-01-28T13:34:08.480Z"
   },
   {
    "duration": 3,
    "start_time": "2022-01-28T13:37:14.867Z"
   },
   {
    "duration": 1366,
    "start_time": "2022-01-28T13:39:04.064Z"
   },
   {
    "duration": 3,
    "start_time": "2022-01-28T13:39:45.811Z"
   },
   {
    "duration": 17,
    "start_time": "2022-01-28T13:39:49.477Z"
   },
   {
    "duration": 4,
    "start_time": "2022-01-28T13:39:59.453Z"
   },
   {
    "duration": 263,
    "start_time": "2022-01-28T13:40:02.339Z"
   },
   {
    "duration": 3,
    "start_time": "2022-01-28T13:43:01.591Z"
   },
   {
    "duration": 1057,
    "start_time": "2022-01-28T13:43:04.850Z"
   },
   {
    "duration": 4,
    "start_time": "2022-01-28T13:51:16.009Z"
   },
   {
    "duration": 267,
    "start_time": "2022-01-28T13:51:19.329Z"
   },
   {
    "duration": 4,
    "start_time": "2022-01-28T13:51:58.736Z"
   },
   {
    "duration": 296,
    "start_time": "2022-01-28T13:52:01.594Z"
   },
   {
    "duration": 4,
    "start_time": "2022-01-28T13:52:42.492Z"
   },
   {
    "duration": 1235,
    "start_time": "2022-01-28T13:52:45.068Z"
   },
   {
    "duration": 3,
    "start_time": "2022-01-28T13:53:10.514Z"
   },
   {
    "duration": 276,
    "start_time": "2022-01-28T13:53:13.563Z"
   },
   {
    "duration": 4,
    "start_time": "2022-01-28T13:53:32.418Z"
   },
   {
    "duration": 260,
    "start_time": "2022-01-28T13:53:35.412Z"
   },
   {
    "duration": 3,
    "start_time": "2022-01-28T13:57:13.855Z"
   },
   {
    "duration": 301,
    "start_time": "2022-01-28T13:57:16.312Z"
   },
   {
    "duration": 4,
    "start_time": "2022-01-28T13:57:41.714Z"
   },
   {
    "duration": 277,
    "start_time": "2022-01-28T13:57:47.115Z"
   },
   {
    "duration": 4,
    "start_time": "2022-01-28T14:00:18.800Z"
   },
   {
    "duration": 274,
    "start_time": "2022-01-28T14:00:21.365Z"
   },
   {
    "duration": 4,
    "start_time": "2022-01-28T14:00:36.955Z"
   },
   {
    "duration": 294,
    "start_time": "2022-01-28T14:00:39.951Z"
   },
   {
    "duration": 4,
    "start_time": "2022-01-28T14:02:41.857Z"
   },
   {
    "duration": 271,
    "start_time": "2022-01-28T14:02:45.225Z"
   },
   {
    "duration": 4,
    "start_time": "2022-01-28T14:03:33.705Z"
   },
   {
    "duration": 279,
    "start_time": "2022-01-28T14:03:36.422Z"
   },
   {
    "duration": 4,
    "start_time": "2022-01-28T14:04:34.977Z"
   },
   {
    "duration": 516,
    "start_time": "2022-01-28T14:04:37.672Z"
   },
   {
    "duration": 3,
    "start_time": "2022-01-28T14:08:52.964Z"
   },
   {
    "duration": 354,
    "start_time": "2022-01-28T14:08:56.207Z"
   },
   {
    "duration": 4,
    "start_time": "2022-01-28T14:10:54.037Z"
   },
   {
    "duration": 319,
    "start_time": "2022-01-28T14:10:57.980Z"
   },
   {
    "duration": 3,
    "start_time": "2022-01-28T14:11:33.995Z"
   },
   {
    "duration": 1029,
    "start_time": "2022-01-28T14:11:37.181Z"
   },
   {
    "duration": 3,
    "start_time": "2022-01-28T14:12:46.416Z"
   },
   {
    "duration": 270,
    "start_time": "2022-01-28T14:12:49.685Z"
   },
   {
    "duration": 4,
    "start_time": "2022-01-28T14:13:22.061Z"
   },
   {
    "duration": 279,
    "start_time": "2022-01-28T14:13:24.390Z"
   },
   {
    "duration": 5,
    "start_time": "2022-01-28T14:13:43.181Z"
   },
   {
    "duration": 1094,
    "start_time": "2022-01-28T14:13:45.669Z"
   },
   {
    "duration": 3,
    "start_time": "2022-01-28T14:14:22.725Z"
   },
   {
    "duration": 271,
    "start_time": "2022-01-28T14:14:25.608Z"
   },
   {
    "duration": 4,
    "start_time": "2022-01-28T14:14:56.307Z"
   },
   {
    "duration": 284,
    "start_time": "2022-01-28T14:14:59.224Z"
   },
   {
    "duration": 4,
    "start_time": "2022-01-28T14:15:30.144Z"
   },
   {
    "duration": 275,
    "start_time": "2022-01-28T14:15:32.844Z"
   },
   {
    "duration": 4,
    "start_time": "2022-01-28T14:19:51.279Z"
   },
   {
    "duration": 267,
    "start_time": "2022-01-28T14:19:54.392Z"
   },
   {
    "duration": 4,
    "start_time": "2022-01-28T14:20:43.192Z"
   },
   {
    "duration": 265,
    "start_time": "2022-01-28T14:20:48.284Z"
   },
   {
    "duration": 14,
    "start_time": "2022-01-28T14:21:32.183Z"
   },
   {
    "duration": 288,
    "start_time": "2022-01-28T14:21:34.772Z"
   },
   {
    "duration": 4,
    "start_time": "2022-01-28T14:21:51.028Z"
   },
   {
    "duration": 268,
    "start_time": "2022-01-28T14:21:54.148Z"
   },
   {
    "duration": 4,
    "start_time": "2022-01-28T14:24:39.414Z"
   },
   {
    "duration": 258,
    "start_time": "2022-01-28T14:24:41.428Z"
   },
   {
    "duration": 4,
    "start_time": "2022-01-28T14:26:00.742Z"
   },
   {
    "duration": 2952,
    "start_time": "2022-01-28T14:26:03.294Z"
   },
   {
    "duration": 3,
    "start_time": "2022-01-28T14:26:45.270Z"
   },
   {
    "duration": 3042,
    "start_time": "2022-01-28T14:26:49.198Z"
   },
   {
    "duration": 4,
    "start_time": "2022-01-28T14:27:50.920Z"
   },
   {
    "duration": 2629,
    "start_time": "2022-01-28T14:27:54.026Z"
   },
   {
    "duration": 4,
    "start_time": "2022-01-28T14:28:28.808Z"
   },
   {
    "duration": 291,
    "start_time": "2022-01-28T14:28:35.303Z"
   },
   {
    "duration": 5,
    "start_time": "2022-01-28T14:29:49.963Z"
   },
   {
    "duration": 12,
    "start_time": "2022-01-28T14:29:52.646Z"
   },
   {
    "duration": 4,
    "start_time": "2022-01-28T14:30:21.633Z"
   },
   {
    "duration": 21,
    "start_time": "2022-01-28T14:30:26.446Z"
   },
   {
    "duration": 4,
    "start_time": "2022-01-28T14:31:15.299Z"
   },
   {
    "duration": 27,
    "start_time": "2022-01-28T14:31:20.726Z"
   },
   {
    "duration": 4,
    "start_time": "2022-01-28T14:31:43.853Z"
   },
   {
    "duration": 16,
    "start_time": "2022-01-28T14:31:46.628Z"
   },
   {
    "duration": 15,
    "start_time": "2022-01-28T14:33:51.384Z"
   },
   {
    "duration": 15,
    "start_time": "2022-01-28T14:33:56.078Z"
   },
   {
    "duration": 14,
    "start_time": "2022-01-28T14:33:57.242Z"
   },
   {
    "duration": 18,
    "start_time": "2022-01-28T14:33:58.010Z"
   },
   {
    "duration": 14,
    "start_time": "2022-01-28T14:33:58.751Z"
   },
   {
    "duration": 4,
    "start_time": "2022-01-28T14:45:17.566Z"
   },
   {
    "duration": 316,
    "start_time": "2022-01-28T14:45:20.849Z"
   },
   {
    "duration": 4,
    "start_time": "2022-01-28T14:45:52.360Z"
   },
   {
    "duration": 282,
    "start_time": "2022-01-28T14:45:54.497Z"
   },
   {
    "duration": 4,
    "start_time": "2022-01-28T14:47:01.225Z"
   },
   {
    "duration": 271,
    "start_time": "2022-01-28T14:47:03.774Z"
   },
   {
    "duration": 3,
    "start_time": "2022-01-28T14:47:37.393Z"
   },
   {
    "duration": 299,
    "start_time": "2022-01-28T14:47:40.080Z"
   },
   {
    "duration": 4,
    "start_time": "2022-01-28T14:50:11.940Z"
   },
   {
    "duration": 296,
    "start_time": "2022-01-28T14:50:24.594Z"
   },
   {
    "duration": 4,
    "start_time": "2022-01-28T14:51:02.038Z"
   },
   {
    "duration": 282,
    "start_time": "2022-01-28T14:51:04.663Z"
   },
   {
    "duration": 4,
    "start_time": "2022-01-28T14:51:35.150Z"
   },
   {
    "duration": 1154,
    "start_time": "2022-01-28T14:51:38.148Z"
   },
   {
    "duration": 4,
    "start_time": "2022-01-28T14:52:08.581Z"
   },
   {
    "duration": 280,
    "start_time": "2022-01-28T14:52:10.792Z"
   },
   {
    "duration": 4,
    "start_time": "2022-01-28T14:53:04.568Z"
   },
   {
    "duration": 1046,
    "start_time": "2022-01-28T14:53:07.239Z"
   },
   {
    "duration": 44,
    "start_time": "2022-01-28T14:54:55.870Z"
   },
   {
    "duration": 4,
    "start_time": "2022-01-28T14:55:09.095Z"
   },
   {
    "duration": 284,
    "start_time": "2022-01-28T14:55:11.475Z"
   },
   {
    "duration": 4,
    "start_time": "2022-01-28T14:56:04.775Z"
   },
   {
    "duration": 266,
    "start_time": "2022-01-28T14:56:07.656Z"
   },
   {
    "duration": 4,
    "start_time": "2022-01-28T14:56:43.686Z"
   },
   {
    "duration": 1091,
    "start_time": "2022-01-28T14:56:46.441Z"
   },
   {
    "duration": 43,
    "start_time": "2022-01-28T14:59:26.198Z"
   },
   {
    "duration": 45,
    "start_time": "2022-01-28T14:59:39.406Z"
   },
   {
    "duration": 47,
    "start_time": "2022-01-28T15:00:02.097Z"
   },
   {
    "duration": 4,
    "start_time": "2022-01-28T15:07:51.423Z"
   },
   {
    "duration": 290,
    "start_time": "2022-01-28T15:07:54.534Z"
   },
   {
    "duration": 4,
    "start_time": "2022-01-28T15:08:18.234Z"
   },
   {
    "duration": 313,
    "start_time": "2022-01-28T15:08:20.134Z"
   },
   {
    "duration": 45,
    "start_time": "2022-01-28T15:11:11.046Z"
   },
   {
    "duration": 48,
    "start_time": "2022-01-28T15:12:43.154Z"
   },
   {
    "duration": 40,
    "start_time": "2022-01-28T15:12:54.927Z"
   },
   {
    "duration": 50,
    "start_time": "2022-01-28T15:13:22.957Z"
   },
   {
    "duration": 29,
    "start_time": "2022-01-28T15:14:20.227Z"
   },
   {
    "duration": 309,
    "start_time": "2022-01-28T15:14:27.685Z"
   },
   {
    "duration": 4,
    "start_time": "2022-01-28T15:15:27.658Z"
   },
   {
    "duration": 566,
    "start_time": "2022-01-28T15:15:30.253Z"
   },
   {
    "duration": 4,
    "start_time": "2022-01-28T15:15:46.506Z"
   },
   {
    "duration": 282,
    "start_time": "2022-01-28T15:15:49.805Z"
   },
   {
    "duration": 3,
    "start_time": "2022-01-28T15:17:33.292Z"
   },
   {
    "duration": 2008,
    "start_time": "2022-01-28T15:17:36.358Z"
   },
   {
    "duration": 4,
    "start_time": "2022-01-28T15:18:15.708Z"
   },
   {
    "duration": 25,
    "start_time": "2022-01-28T15:18:18.738Z"
   },
   {
    "duration": 5,
    "start_time": "2022-01-28T15:20:03.999Z"
   },
   {
    "duration": 1221,
    "start_time": "2022-01-28T15:20:06.771Z"
   },
   {
    "duration": 1165,
    "start_time": "2022-01-28T15:23:22.143Z"
   },
   {
    "duration": 4,
    "start_time": "2022-01-28T15:23:34.869Z"
   },
   {
    "duration": 80,
    "start_time": "2022-01-28T15:23:36.711Z"
   },
   {
    "duration": 3,
    "start_time": "2022-01-28T15:24:15.426Z"
   },
   {
    "duration": 18,
    "start_time": "2022-01-28T15:24:18.763Z"
   },
   {
    "duration": 14,
    "start_time": "2022-01-28T15:24:23.501Z"
   },
   {
    "duration": 24,
    "start_time": "2022-01-28T15:24:26.773Z"
   },
   {
    "duration": 15,
    "start_time": "2022-01-28T15:24:29.655Z"
   },
   {
    "duration": 17,
    "start_time": "2022-01-28T15:24:32.126Z"
   },
   {
    "duration": 15,
    "start_time": "2022-01-28T15:24:35.395Z"
   },
   {
    "duration": 15,
    "start_time": "2022-01-28T16:33:07.541Z"
   },
   {
    "duration": 7,
    "start_time": "2022-01-28T16:34:22.899Z"
   },
   {
    "duration": 8,
    "start_time": "2022-01-28T16:34:35.656Z"
   },
   {
    "duration": 13,
    "start_time": "2022-01-28T16:41:07.535Z"
   },
   {
    "duration": 9,
    "start_time": "2022-01-28T16:41:10.740Z"
   },
   {
    "duration": 4,
    "start_time": "2022-01-28T16:44:05.156Z"
   },
   {
    "duration": 29,
    "start_time": "2022-01-28T16:44:08.119Z"
   },
   {
    "duration": 4,
    "start_time": "2022-01-28T16:46:20.912Z"
   },
   {
    "duration": 1014,
    "start_time": "2022-01-28T16:46:23.852Z"
   },
   {
    "duration": 4,
    "start_time": "2022-01-28T16:47:16.534Z"
   },
   {
    "duration": 1282,
    "start_time": "2022-01-28T16:47:21.128Z"
   },
   {
    "duration": 4,
    "start_time": "2022-01-28T16:47:38.995Z"
   },
   {
    "duration": 18,
    "start_time": "2022-01-28T16:47:42.226Z"
   },
   {
    "duration": 3,
    "start_time": "2022-01-28T16:47:55.949Z"
   },
   {
    "duration": 154,
    "start_time": "2022-01-28T16:47:55.953Z"
   },
   {
    "duration": 11,
    "start_time": "2022-01-28T16:47:56.109Z"
   },
   {
    "duration": 39,
    "start_time": "2022-01-28T16:47:56.122Z"
   },
   {
    "duration": 6,
    "start_time": "2022-01-28T16:47:56.163Z"
   },
   {
    "duration": 26,
    "start_time": "2022-01-28T16:47:56.171Z"
   },
   {
    "duration": 4,
    "start_time": "2022-01-28T16:47:56.199Z"
   },
   {
    "duration": 28,
    "start_time": "2022-01-28T16:47:56.205Z"
   },
   {
    "duration": 38,
    "start_time": "2022-01-28T16:47:56.236Z"
   },
   {
    "duration": 25,
    "start_time": "2022-01-28T16:47:56.276Z"
   },
   {
    "duration": 76,
    "start_time": "2022-01-28T16:47:56.303Z"
   },
   {
    "duration": 59,
    "start_time": "2022-01-28T16:47:56.380Z"
   },
   {
    "duration": 58,
    "start_time": "2022-01-28T16:47:56.441Z"
   },
   {
    "duration": 9,
    "start_time": "2022-01-28T16:47:56.501Z"
   },
   {
    "duration": 3,
    "start_time": "2022-01-28T16:47:56.511Z"
   },
   {
    "duration": 44,
    "start_time": "2022-01-28T16:47:56.515Z"
   },
   {
    "duration": 9,
    "start_time": "2022-01-28T16:47:56.560Z"
   },
   {
    "duration": 14,
    "start_time": "2022-01-28T16:47:56.571Z"
   },
   {
    "duration": 10,
    "start_time": "2022-01-28T16:47:56.586Z"
   },
   {
    "duration": 3,
    "start_time": "2022-01-28T16:47:56.598Z"
   },
   {
    "duration": 21,
    "start_time": "2022-01-28T16:47:56.603Z"
   },
   {
    "duration": 39,
    "start_time": "2022-01-28T16:47:56.625Z"
   },
   {
    "duration": 15,
    "start_time": "2022-01-28T16:47:56.667Z"
   },
   {
    "duration": 13,
    "start_time": "2022-01-28T16:47:56.684Z"
   },
   {
    "duration": 15,
    "start_time": "2022-01-28T16:47:56.699Z"
   },
   {
    "duration": 47,
    "start_time": "2022-01-28T16:47:56.716Z"
   },
   {
    "duration": 8,
    "start_time": "2022-01-28T16:47:56.764Z"
   },
   {
    "duration": 15,
    "start_time": "2022-01-28T16:47:56.774Z"
   },
   {
    "duration": 10,
    "start_time": "2022-01-28T16:47:56.791Z"
   },
   {
    "duration": 3,
    "start_time": "2022-01-28T16:47:56.803Z"
   },
   {
    "duration": 7,
    "start_time": "2022-01-28T16:47:56.807Z"
   },
   {
    "duration": 8,
    "start_time": "2022-01-28T16:47:56.816Z"
   },
   {
    "duration": 10,
    "start_time": "2022-01-28T16:47:56.826Z"
   },
   {
    "duration": 20,
    "start_time": "2022-01-28T16:47:56.838Z"
   },
   {
    "duration": 8,
    "start_time": "2022-01-28T16:47:56.860Z"
   },
   {
    "duration": 6,
    "start_time": "2022-01-28T16:47:56.869Z"
   },
   {
    "duration": 6,
    "start_time": "2022-01-28T16:47:56.877Z"
   },
   {
    "duration": 7,
    "start_time": "2022-01-28T16:47:56.885Z"
   },
   {
    "duration": 4,
    "start_time": "2022-01-28T16:59:36.599Z"
   },
   {
    "duration": 6,
    "start_time": "2022-01-28T17:09:08.283Z"
   },
   {
    "duration": 53,
    "start_time": "2022-01-28T17:09:58.990Z"
   },
   {
    "duration": 4,
    "start_time": "2022-01-28T17:13:38.484Z"
   },
   {
    "duration": 4,
    "start_time": "2022-01-28T17:14:47.548Z"
   },
   {
    "duration": 317,
    "start_time": "2022-01-28T17:15:42.352Z"
   },
   {
    "duration": 4,
    "start_time": "2022-01-28T17:17:04.719Z"
   },
   {
    "duration": 279,
    "start_time": "2022-01-28T17:17:09.824Z"
   },
   {
    "duration": 5,
    "start_time": "2022-01-28T17:18:09.869Z"
   },
   {
    "duration": 297,
    "start_time": "2022-01-28T17:18:14.346Z"
   },
   {
    "duration": 5,
    "start_time": "2022-01-28T17:19:23.182Z"
   },
   {
    "duration": 281,
    "start_time": "2022-01-28T17:19:28.198Z"
   },
   {
    "duration": 4,
    "start_time": "2022-01-28T17:20:06.343Z"
   },
   {
    "duration": 33,
    "start_time": "2022-01-28T17:20:09.059Z"
   },
   {
    "duration": 4,
    "start_time": "2022-01-28T17:20:35.013Z"
   },
   {
    "duration": 31,
    "start_time": "2022-01-28T17:20:37.811Z"
   },
   {
    "duration": 23,
    "start_time": "2022-01-28T17:21:14.091Z"
   },
   {
    "duration": 2,
    "start_time": "2022-01-28T17:21:43.045Z"
   },
   {
    "duration": 163,
    "start_time": "2022-01-28T17:21:43.049Z"
   },
   {
    "duration": 19,
    "start_time": "2022-01-28T17:21:43.214Z"
   },
   {
    "duration": 33,
    "start_time": "2022-01-28T17:21:43.235Z"
   },
   {
    "duration": 3,
    "start_time": "2022-01-28T17:21:43.270Z"
   },
   {
    "duration": 26,
    "start_time": "2022-01-28T17:21:43.275Z"
   },
   {
    "duration": 4,
    "start_time": "2022-01-28T17:21:43.303Z"
   },
   {
    "duration": 58,
    "start_time": "2022-01-28T17:21:43.309Z"
   },
   {
    "duration": 18,
    "start_time": "2022-01-28T17:21:43.369Z"
   },
   {
    "duration": 26,
    "start_time": "2022-01-28T17:21:43.388Z"
   },
   {
    "duration": 87,
    "start_time": "2022-01-28T17:21:43.415Z"
   },
   {
    "duration": 72,
    "start_time": "2022-01-28T17:21:43.504Z"
   },
   {
    "duration": 50,
    "start_time": "2022-01-28T17:21:43.578Z"
   },
   {
    "duration": 9,
    "start_time": "2022-01-28T17:21:43.630Z"
   },
   {
    "duration": 19,
    "start_time": "2022-01-28T17:21:43.641Z"
   },
   {
    "duration": 23,
    "start_time": "2022-01-28T17:21:43.661Z"
   },
   {
    "duration": 10,
    "start_time": "2022-01-28T17:21:43.685Z"
   },
   {
    "duration": 11,
    "start_time": "2022-01-28T17:21:43.696Z"
   },
   {
    "duration": 11,
    "start_time": "2022-01-28T17:21:43.709Z"
   },
   {
    "duration": 4,
    "start_time": "2022-01-28T17:21:43.722Z"
   },
   {
    "duration": 19,
    "start_time": "2022-01-28T17:21:43.759Z"
   },
   {
    "duration": 16,
    "start_time": "2022-01-28T17:21:43.780Z"
   },
   {
    "duration": 25,
    "start_time": "2022-01-28T17:21:43.800Z"
   },
   {
    "duration": 36,
    "start_time": "2022-01-28T17:21:43.827Z"
   },
   {
    "duration": 27,
    "start_time": "2022-01-28T17:21:43.866Z"
   },
   {
    "duration": 23,
    "start_time": "2022-01-28T17:21:43.894Z"
   },
   {
    "duration": 10,
    "start_time": "2022-01-28T17:21:43.919Z"
   },
   {
    "duration": 32,
    "start_time": "2022-01-28T17:21:43.931Z"
   },
   {
    "duration": 15,
    "start_time": "2022-01-28T17:21:43.965Z"
   },
   {
    "duration": 6,
    "start_time": "2022-01-28T17:21:43.982Z"
   },
   {
    "duration": 40,
    "start_time": "2022-01-28T17:21:43.989Z"
   },
   {
    "duration": 41,
    "start_time": "2022-01-28T17:21:44.031Z"
   },
   {
    "duration": 2,
    "start_time": "2022-01-28T17:21:44.074Z"
   },
   {
    "duration": 12,
    "start_time": "2022-01-28T17:21:44.078Z"
   },
   {
    "duration": 4,
    "start_time": "2022-01-28T17:21:44.092Z"
   },
   {
    "duration": 5,
    "start_time": "2022-01-28T17:21:44.098Z"
   },
   {
    "duration": 7,
    "start_time": "2022-01-28T17:21:44.105Z"
   },
   {
    "duration": 5,
    "start_time": "2022-01-28T17:21:44.113Z"
   },
   {
    "duration": 5,
    "start_time": "2022-01-28T17:22:41.617Z"
   },
   {
    "duration": 26,
    "start_time": "2022-01-28T17:22:45.024Z"
   },
   {
    "duration": 22,
    "start_time": "2022-01-28T17:22:49.000Z"
   },
   {
    "duration": 4,
    "start_time": "2022-01-28T17:23:25.340Z"
   },
   {
    "duration": 23,
    "start_time": "2022-01-28T17:23:33.947Z"
   },
   {
    "duration": 24,
    "start_time": "2022-01-28T17:23:37.921Z"
   },
   {
    "duration": 23,
    "start_time": "2022-01-28T17:24:37.569Z"
   },
   {
    "duration": 23,
    "start_time": "2022-01-28T17:24:41.006Z"
   },
   {
    "duration": 6,
    "start_time": "2022-01-28T17:30:48.191Z"
   },
   {
    "duration": 275,
    "start_time": "2022-01-28T17:30:51.175Z"
   },
   {
    "duration": 4,
    "start_time": "2022-01-28T17:31:52.120Z"
   },
   {
    "duration": 266,
    "start_time": "2022-01-28T17:31:54.412Z"
   },
   {
    "duration": 6,
    "start_time": "2022-01-28T17:32:48.483Z"
   },
   {
    "duration": 23,
    "start_time": "2022-01-28T17:32:50.975Z"
   },
   {
    "duration": 22,
    "start_time": "2022-01-28T17:32:57.504Z"
   },
   {
    "duration": 4,
    "start_time": "2022-01-28T17:33:37.425Z"
   },
   {
    "duration": 24,
    "start_time": "2022-01-28T17:33:41.532Z"
   },
   {
    "duration": 24,
    "start_time": "2022-01-28T17:33:45.268Z"
   },
   {
    "duration": 4,
    "start_time": "2022-01-28T17:34:45.078Z"
   },
   {
    "duration": 20,
    "start_time": "2022-01-28T17:34:54.787Z"
   },
   {
    "duration": 24,
    "start_time": "2022-01-28T17:34:58.064Z"
   },
   {
    "duration": 33,
    "start_time": "2022-01-28T17:36:36.362Z"
   },
   {
    "duration": 20,
    "start_time": "2022-01-28T17:36:42.699Z"
   },
   {
    "duration": 13,
    "start_time": "2022-01-28T17:37:20.857Z"
   },
   {
    "duration": 11,
    "start_time": "2022-01-28T17:37:23.358Z"
   },
   {
    "duration": 4,
    "start_time": "2022-01-28T17:41:44.649Z"
   },
   {
    "duration": 20,
    "start_time": "2022-01-28T17:41:46.805Z"
   },
   {
    "duration": 4,
    "start_time": "2022-01-28T17:47:32.788Z"
   },
   {
    "duration": 30,
    "start_time": "2022-01-28T17:47:36.114Z"
   },
   {
    "duration": 4,
    "start_time": "2022-01-28T17:49:00.671Z"
   },
   {
    "duration": 30,
    "start_time": "2022-01-28T17:49:03.442Z"
   },
   {
    "duration": 4,
    "start_time": "2022-01-28T17:50:14.457Z"
   },
   {
    "duration": 19,
    "start_time": "2022-01-28T17:50:17.978Z"
   },
   {
    "duration": 2,
    "start_time": "2022-01-28T17:50:24.619Z"
   },
   {
    "duration": 162,
    "start_time": "2022-01-28T17:50:24.623Z"
   },
   {
    "duration": 10,
    "start_time": "2022-01-28T17:50:24.787Z"
   },
   {
    "duration": 31,
    "start_time": "2022-01-28T17:50:24.799Z"
   },
   {
    "duration": 6,
    "start_time": "2022-01-28T17:50:24.832Z"
   },
   {
    "duration": 37,
    "start_time": "2022-01-28T17:50:24.839Z"
   },
   {
    "duration": 4,
    "start_time": "2022-01-28T17:50:24.878Z"
   },
   {
    "duration": 26,
    "start_time": "2022-01-28T17:50:24.884Z"
   },
   {
    "duration": 21,
    "start_time": "2022-01-28T17:50:24.912Z"
   },
   {
    "duration": 49,
    "start_time": "2022-01-28T17:50:24.935Z"
   },
   {
    "duration": 77,
    "start_time": "2022-01-28T17:50:24.986Z"
   },
   {
    "duration": 73,
    "start_time": "2022-01-28T17:50:25.065Z"
   },
   {
    "duration": 75,
    "start_time": "2022-01-28T17:50:25.140Z"
   },
   {
    "duration": 10,
    "start_time": "2022-01-28T17:50:25.217Z"
   },
   {
    "duration": 7,
    "start_time": "2022-01-28T17:50:25.229Z"
   },
   {
    "duration": 37,
    "start_time": "2022-01-28T17:50:25.238Z"
   },
   {
    "duration": 9,
    "start_time": "2022-01-28T17:50:25.277Z"
   },
   {
    "duration": 14,
    "start_time": "2022-01-28T17:50:25.288Z"
   },
   {
    "duration": 13,
    "start_time": "2022-01-28T17:50:25.304Z"
   },
   {
    "duration": 3,
    "start_time": "2022-01-28T17:50:25.319Z"
   },
   {
    "duration": 50,
    "start_time": "2022-01-28T17:50:25.324Z"
   },
   {
    "duration": 19,
    "start_time": "2022-01-28T17:50:25.376Z"
   },
   {
    "duration": 16,
    "start_time": "2022-01-28T17:50:25.399Z"
   },
   {
    "duration": 44,
    "start_time": "2022-01-28T17:50:25.417Z"
   },
   {
    "duration": 19,
    "start_time": "2022-01-28T17:50:25.463Z"
   },
   {
    "duration": 16,
    "start_time": "2022-01-28T17:50:25.484Z"
   },
   {
    "duration": 9,
    "start_time": "2022-01-28T17:50:25.502Z"
   },
   {
    "duration": 46,
    "start_time": "2022-01-28T17:50:25.513Z"
   },
   {
    "duration": 13,
    "start_time": "2022-01-28T17:50:25.561Z"
   },
   {
    "duration": 4,
    "start_time": "2022-01-28T17:50:25.575Z"
   },
   {
    "duration": 38,
    "start_time": "2022-01-28T17:50:25.581Z"
   },
   {
    "duration": 12,
    "start_time": "2022-01-28T17:50:25.621Z"
   },
   {
    "duration": 30,
    "start_time": "2022-01-28T17:50:25.634Z"
   },
   {
    "duration": 11,
    "start_time": "2022-01-28T17:50:25.665Z"
   },
   {
    "duration": 2,
    "start_time": "2022-01-28T17:50:25.678Z"
   },
   {
    "duration": 5,
    "start_time": "2022-01-28T17:50:25.682Z"
   },
   {
    "duration": 5,
    "start_time": "2022-01-28T17:50:25.688Z"
   },
   {
    "duration": 5,
    "start_time": "2022-01-28T17:50:25.694Z"
   },
   {
    "duration": 12,
    "start_time": "2022-01-28T17:55:55.037Z"
   },
   {
    "duration": 5,
    "start_time": "2022-01-28T17:55:57.436Z"
   },
   {
    "duration": 8,
    "start_time": "2022-01-28T17:56:57.014Z"
   },
   {
    "duration": 4,
    "start_time": "2022-01-28T17:56:59.366Z"
   },
   {
    "duration": 4,
    "start_time": "2022-01-28T17:57:13.788Z"
   },
   {
    "duration": 14,
    "start_time": "2022-01-28T17:58:08.415Z"
   },
   {
    "duration": 14,
    "start_time": "2022-01-28T17:58:26.320Z"
   },
   {
    "duration": 14,
    "start_time": "2022-01-28T17:59:32.753Z"
   },
   {
    "duration": 14,
    "start_time": "2022-01-28T17:59:37.575Z"
   },
   {
    "duration": 3,
    "start_time": "2022-01-28T18:00:19.658Z"
   },
   {
    "duration": 173,
    "start_time": "2022-01-28T18:00:19.663Z"
   },
   {
    "duration": 11,
    "start_time": "2022-01-28T18:00:19.838Z"
   },
   {
    "duration": 34,
    "start_time": "2022-01-28T18:00:19.851Z"
   },
   {
    "duration": 7,
    "start_time": "2022-01-28T18:00:19.887Z"
   },
   {
    "duration": 19,
    "start_time": "2022-01-28T18:00:19.896Z"
   },
   {
    "duration": 4,
    "start_time": "2022-01-28T18:00:19.918Z"
   },
   {
    "duration": 52,
    "start_time": "2022-01-28T18:00:19.924Z"
   },
   {
    "duration": 18,
    "start_time": "2022-01-28T18:00:19.978Z"
   },
   {
    "duration": 28,
    "start_time": "2022-01-28T18:00:19.998Z"
   },
   {
    "duration": 91,
    "start_time": "2022-01-28T18:00:20.028Z"
   },
   {
    "duration": 86,
    "start_time": "2022-01-28T18:00:20.120Z"
   },
   {
    "duration": 68,
    "start_time": "2022-01-28T18:00:20.208Z"
   },
   {
    "duration": 9,
    "start_time": "2022-01-28T18:00:20.278Z"
   },
   {
    "duration": 3,
    "start_time": "2022-01-28T18:00:20.289Z"
   },
   {
    "duration": 19,
    "start_time": "2022-01-28T18:00:20.294Z"
   },
   {
    "duration": 10,
    "start_time": "2022-01-28T18:00:20.315Z"
   },
   {
    "duration": 43,
    "start_time": "2022-01-28T18:00:20.327Z"
   },
   {
    "duration": 14,
    "start_time": "2022-01-28T18:00:20.374Z"
   },
   {
    "duration": 4,
    "start_time": "2022-01-28T18:00:20.390Z"
   },
   {
    "duration": 21,
    "start_time": "2022-01-28T18:00:20.396Z"
   },
   {
    "duration": 47,
    "start_time": "2022-01-28T18:00:20.419Z"
   },
   {
    "duration": 16,
    "start_time": "2022-01-28T18:00:20.468Z"
   },
   {
    "duration": 17,
    "start_time": "2022-01-28T18:00:20.486Z"
   },
   {
    "duration": 20,
    "start_time": "2022-01-28T18:00:20.505Z"
   },
   {
    "duration": 44,
    "start_time": "2022-01-28T18:00:20.527Z"
   },
   {
    "duration": 9,
    "start_time": "2022-01-28T18:00:20.573Z"
   },
   {
    "duration": 20,
    "start_time": "2022-01-28T18:00:20.584Z"
   },
   {
    "duration": 14,
    "start_time": "2022-01-28T18:00:20.606Z"
   },
   {
    "duration": 7,
    "start_time": "2022-01-28T18:00:20.621Z"
   },
   {
    "duration": 55,
    "start_time": "2022-01-28T18:00:20.630Z"
   },
   {
    "duration": 13,
    "start_time": "2022-01-28T18:00:20.687Z"
   },
   {
    "duration": 20,
    "start_time": "2022-01-28T18:00:20.702Z"
   },
   {
    "duration": 32,
    "start_time": "2022-01-28T18:00:20.724Z"
   },
   {
    "duration": 21,
    "start_time": "2022-01-28T18:00:20.759Z"
   },
   {
    "duration": 10,
    "start_time": "2022-01-28T18:00:20.781Z"
   },
   {
    "duration": 17,
    "start_time": "2022-01-28T18:00:20.792Z"
   },
   {
    "duration": 7,
    "start_time": "2022-01-28T18:00:20.811Z"
   },
   {
    "duration": 274,
    "start_time": "2022-02-06T13:05:46.062Z"
   },
   {
    "duration": 555,
    "start_time": "2022-02-06T13:07:31.936Z"
   },
   {
    "duration": 133,
    "start_time": "2022-02-06T13:07:32.493Z"
   },
   {
    "duration": 18,
    "start_time": "2022-02-06T13:07:32.628Z"
   },
   {
    "duration": 30,
    "start_time": "2022-02-06T13:07:32.649Z"
   },
   {
    "duration": 4,
    "start_time": "2022-02-06T13:07:32.681Z"
   },
   {
    "duration": 42,
    "start_time": "2022-02-06T13:07:32.687Z"
   },
   {
    "duration": 6,
    "start_time": "2022-02-06T13:07:32.730Z"
   },
   {
    "duration": 25,
    "start_time": "2022-02-06T13:07:32.739Z"
   },
   {
    "duration": 16,
    "start_time": "2022-02-06T13:07:32.767Z"
   },
   {
    "duration": 47,
    "start_time": "2022-02-06T13:07:32.785Z"
   },
   {
    "duration": 54,
    "start_time": "2022-02-06T13:07:32.834Z"
   },
   {
    "duration": 75,
    "start_time": "2022-02-06T13:07:32.889Z"
   },
   {
    "duration": 55,
    "start_time": "2022-02-06T13:07:32.965Z"
   },
   {
    "duration": 9,
    "start_time": "2022-02-06T13:07:33.021Z"
   },
   {
    "duration": 3,
    "start_time": "2022-02-06T13:07:33.032Z"
   },
   {
    "duration": 14,
    "start_time": "2022-02-06T13:07:33.037Z"
   },
   {
    "duration": 9,
    "start_time": "2022-02-06T13:07:33.053Z"
   },
   {
    "duration": 10,
    "start_time": "2022-02-06T13:07:33.063Z"
   },
   {
    "duration": 44,
    "start_time": "2022-02-06T13:07:33.074Z"
   },
   {
    "duration": 3,
    "start_time": "2022-02-06T13:07:33.119Z"
   },
   {
    "duration": 19,
    "start_time": "2022-02-06T13:07:33.124Z"
   },
   {
    "duration": 13,
    "start_time": "2022-02-06T13:07:33.144Z"
   },
   {
    "duration": 13,
    "start_time": "2022-02-06T13:07:33.160Z"
   },
   {
    "duration": 40,
    "start_time": "2022-02-06T13:07:33.175Z"
   },
   {
    "duration": 15,
    "start_time": "2022-02-06T13:07:33.217Z"
   },
   {
    "duration": 14,
    "start_time": "2022-02-06T13:07:33.235Z"
   },
   {
    "duration": 7,
    "start_time": "2022-02-06T13:07:33.251Z"
   },
   {
    "duration": 11,
    "start_time": "2022-02-06T13:07:33.260Z"
   },
   {
    "duration": 41,
    "start_time": "2022-02-06T13:07:33.272Z"
   },
   {
    "duration": 3,
    "start_time": "2022-02-06T13:07:33.315Z"
   },
   {
    "duration": 19,
    "start_time": "2022-02-06T13:07:33.320Z"
   },
   {
    "duration": 11,
    "start_time": "2022-02-06T13:07:33.341Z"
   },
   {
    "duration": 15,
    "start_time": "2022-02-06T13:07:33.353Z"
   },
   {
    "duration": 11,
    "start_time": "2022-02-06T13:07:33.369Z"
   },
   {
    "duration": 35,
    "start_time": "2022-02-06T13:07:33.382Z"
   },
   {
    "duration": 4,
    "start_time": "2022-02-06T13:07:33.418Z"
   },
   {
    "duration": 6,
    "start_time": "2022-02-06T13:07:33.424Z"
   },
   {
    "duration": 4,
    "start_time": "2022-02-06T13:07:33.431Z"
   }
  ],
  "colab": {
   "collapsed_sections": [
    "E0vqbgi9ay0H",
    "VUC88oWjTJw2"
   ],
   "name": "yandex_music_project_2021.2.ipynb",
   "provenance": []
  },
  "kernelspec": {
   "display_name": "Python 3 (ipykernel)",
   "language": "python",
   "name": "python3"
  },
  "language_info": {
   "codemirror_mode": {
    "name": "ipython",
    "version": 3
   },
   "file_extension": ".py",
   "mimetype": "text/x-python",
   "name": "python",
   "nbconvert_exporter": "python",
   "pygments_lexer": "ipython3",
   "version": "3.9.5"
  },
  "toc": {
   "base_numbering": 1,
   "nav_menu": {},
   "number_sections": true,
   "sideBar": true,
   "skip_h1_title": true,
   "title_cell": "Table of Contents",
   "title_sidebar": "Contents",
   "toc_cell": false,
   "toc_position": {},
   "toc_section_display": true,
   "toc_window_display": true
  }
 },
 "nbformat": 4,
 "nbformat_minor": 1
}
