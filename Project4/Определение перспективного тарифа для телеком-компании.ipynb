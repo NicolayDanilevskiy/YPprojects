{
 "cells": [
  {
   "cell_type": "markdown",
   "metadata": {},
   "source": [
    "<h1>Содержание<span class=\"tocSkip\"></span></h1>\n",
    "<div class=\"toc\"><ul class=\"toc-item\"><li><span><a href=\"#Изучение-данных-из-файлов.\" data-toc-modified-id=\"Изучение-данных-из-файлов.-1\"><span class=\"toc-item-num\">1&nbsp;&nbsp;</span>Изучение данных из файлов.</a></span><ul class=\"toc-item\"><li><span><a href=\"#Импорт-библиотек.\" data-toc-modified-id=\"Импорт-библиотек.-1.1\"><span class=\"toc-item-num\">1.1&nbsp;&nbsp;</span>Импорт библиотек.</a></span></li><li><span><a href=\"#Чтение-данных-и-сохранение-их-в-переменной.\" data-toc-modified-id=\"Чтение-данных-и-сохранение-их-в-переменной.-1.2\"><span class=\"toc-item-num\">1.2&nbsp;&nbsp;</span>Чтение данных и сохранение их в переменной.</a></span></li><li><span><a href=\"#Предварительный-анализ-данных.\" data-toc-modified-id=\"Предварительный-анализ-данных.-1.3\"><span class=\"toc-item-num\">1.3&nbsp;&nbsp;</span>Предварительный анализ данных.</a></span><ul class=\"toc-item\"><li><span><a href=\"#Рассмотрим-таблицу-users.\" data-toc-modified-id=\"Рассмотрим-таблицу-users.-1.3.1\"><span class=\"toc-item-num\">1.3.1&nbsp;&nbsp;</span>Рассмотрим таблицу <code>users</code>.</a></span></li><li><span><a href=\"#Рассмотрим-таблицу-calls.\" data-toc-modified-id=\"Рассмотрим-таблицу-calls.-1.3.2\"><span class=\"toc-item-num\">1.3.2&nbsp;&nbsp;</span>Рассмотрим таблицу <code>calls</code>.</a></span></li><li><span><a href=\"#Рассмотрим-таблицу-messages.\" data-toc-modified-id=\"Рассмотрим-таблицу-messages.-1.3.3\"><span class=\"toc-item-num\">1.3.3&nbsp;&nbsp;</span>Рассмотрим таблицу <code>messages</code>.</a></span></li><li><span><a href=\"#Рассмотрим-таблицу-internet.\" data-toc-modified-id=\"Рассмотрим-таблицу-internet.-1.3.4\"><span class=\"toc-item-num\">1.3.4&nbsp;&nbsp;</span>Рассмотрим таблицу <code>internet</code>.</a></span></li><li><span><a href=\"#Рассмотрим-таблицу-tariffs.\" data-toc-modified-id=\"Рассмотрим-таблицу-tariffs.-1.3.5\"><span class=\"toc-item-num\">1.3.5&nbsp;&nbsp;</span>Рассмотрим таблицу <code>tariffs</code>.</a></span></li></ul></li><li><span><a href=\"#Вывод-по-разделу-&quot;Изучение-данных-из-файлов&quot;.\" data-toc-modified-id=\"Вывод-по-разделу-&quot;Изучение-данных-из-файлов&quot;.-1.4\"><span class=\"toc-item-num\">1.4&nbsp;&nbsp;</span>Вывод по разделу \"Изучение данных из файлов\".</a></span></li></ul></li><li><span><a href=\"#Подготовка-данных-к-анализу.\" data-toc-modified-id=\"Подготовка-данных-к-анализу.-2\"><span class=\"toc-item-num\">2&nbsp;&nbsp;</span>Подготовка данных к анализу.</a></span><ul class=\"toc-item\"><li><span><a href=\"#Приведение-данных-в-таблицах-к-нужным-типам,-исправление-ошибок.\" data-toc-modified-id=\"Приведение-данных-в-таблицах-к-нужным-типам,-исправление-ошибок.-2.1\"><span class=\"toc-item-num\">2.1&nbsp;&nbsp;</span>Приведение данных в таблицах к нужным типам, исправление ошибок.</a></span><ul class=\"toc-item\"><li><span><a href=\"#Обработка-данных-в-таблице-users.\" data-toc-modified-id=\"Обработка-данных-в-таблице-users.-2.1.1\"><span class=\"toc-item-num\">2.1.1&nbsp;&nbsp;</span>Обработка данных в таблице <code>users</code>.</a></span></li><li><span><a href=\"#Обработка-данных-в-таблице-calls.\" data-toc-modified-id=\"Обработка-данных-в-таблице-calls.-2.1.2\"><span class=\"toc-item-num\">2.1.2&nbsp;&nbsp;</span>Обработка данных в таблице <code>calls</code>.</a></span></li><li><span><a href=\"#Обработка-данных-в-таблице-messages.\" data-toc-modified-id=\"Обработка-данных-в-таблице-messages.-2.1.3\"><span class=\"toc-item-num\">2.1.3&nbsp;&nbsp;</span>Обработка данных в таблице <code>messages</code>.</a></span></li><li><span><a href=\"#Обработка-данных-в-таблице-internet.\" data-toc-modified-id=\"Обработка-данных-в-таблице-internet.-2.1.4\"><span class=\"toc-item-num\">2.1.4&nbsp;&nbsp;</span>Обработка данных в таблице <code>internet</code>.</a></span></li><li><span><a href=\"#Обработка-данных-в-таблице-tariffs.\" data-toc-modified-id=\"Обработка-данных-в-таблице-tariffs.-2.1.5\"><span class=\"toc-item-num\">2.1.5&nbsp;&nbsp;</span>Обработка данных в таблице <code>tariffs</code>.</a></span></li></ul></li><li><span><a href=\"#Проверка-на-дубликаты.\" data-toc-modified-id=\"Проверка-на-дубликаты.-2.2\"><span class=\"toc-item-num\">2.2&nbsp;&nbsp;</span>Проверка на дубликаты.</a></span></li><li><span><a href=\"#Расчеты-и-добавление-результатов-в-таблицы.\" data-toc-modified-id=\"Расчеты-и-добавление-результатов-в-таблицы.-2.3\"><span class=\"toc-item-num\">2.3&nbsp;&nbsp;</span>Расчеты и добавление результатов в таблицы.</a></span><ul class=\"toc-item\"><li><span><a href=\"#Добавление-номера-месяца-в-таблицы.\" data-toc-modified-id=\"Добавление-номера-месяца-в-таблицы.-2.3.1\"><span class=\"toc-item-num\">2.3.1&nbsp;&nbsp;</span>Добавление номера месяца в таблицы.</a></span></li><li><span><a href=\"#Количество-сделанных-звонков-и-израсходованных-минут-разговора-для-каждого-пользователя-по-месяцам.\" data-toc-modified-id=\"Количество-сделанных-звонков-и-израсходованных-минут-разговора-для-каждого-пользователя-по-месяцам.-2.3.2\"><span class=\"toc-item-num\">2.3.2&nbsp;&nbsp;</span>Количество сделанных звонков и израсходованных минут разговора для каждого пользователя по месяцам.</a></span></li><li><span><a href=\"#Количество-отправленных-сообщений-по-месяцам.\" data-toc-modified-id=\"Количество-отправленных-сообщений-по-месяцам.-2.3.3\"><span class=\"toc-item-num\">2.3.3&nbsp;&nbsp;</span>Количество отправленных сообщений по месяцам.</a></span></li><li><span><a href=\"#Объем-израсходованного-интернет-трафика-по-месяцам.\" data-toc-modified-id=\"Объем-израсходованного-интернет-трафика-по-месяцам.-2.3.4\"><span class=\"toc-item-num\">2.3.4&nbsp;&nbsp;</span>Объем израсходованного интернет-трафика по месяцам.</a></span></li><li><span><a href=\"#Помесячная-выручка-с-каждого-пользователя.\" data-toc-modified-id=\"Помесячная-выручка-с-каждого-пользователя.-2.3.5\"><span class=\"toc-item-num\">2.3.5&nbsp;&nbsp;</span>Помесячная выручка с каждого пользователя.</a></span></li></ul></li><li><span><a href=\"#Вывод-по-разделу-&quot;Подготовка-данных-к-анализу&quot;\" data-toc-modified-id=\"Вывод-по-разделу-&quot;Подготовка-данных-к-анализу&quot;-2.4\"><span class=\"toc-item-num\">2.4&nbsp;&nbsp;</span>Вывод по разделу \"Подготовка данных к анализу\"</a></span></li></ul></li><li><span><a href=\"#Анализ-данных.\" data-toc-modified-id=\"Анализ-данных.-3\"><span class=\"toc-item-num\">3&nbsp;&nbsp;</span>Анализ данных.</a></span><ul class=\"toc-item\"><li><span><a href=\"#Вывод-по-разделу-&quot;Анализ-данных&quot;.\" data-toc-modified-id=\"Вывод-по-разделу-&quot;Анализ-данных&quot;.-3.1\"><span class=\"toc-item-num\">3.1&nbsp;&nbsp;</span>Вывод по разделу \"Анализ данных\".</a></span></li></ul></li><li><span><a href=\"#Проверка-гипотез.\" data-toc-modified-id=\"Проверка-гипотез.-4\"><span class=\"toc-item-num\">4&nbsp;&nbsp;</span>Проверка гипотез.</a></span><ul class=\"toc-item\"><li><span><a href=\"#Гипотеза1:-средняя-выручка-пользователей-тарифов-«Ultra»-и-«Smart»-различаются.\" data-toc-modified-id=\"Гипотеза1:-средняя-выручка-пользователей-тарифов-«Ultra»-и-«Smart»-различаются.-4.1\"><span class=\"toc-item-num\">4.1&nbsp;&nbsp;</span>Гипотеза1: средняя выручка пользователей тарифов «Ultra» и «Smart» различаются.</a></span></li><li><span><a href=\"#Гипотеза2:-средняя-выручка-пользователей-из-Москвы-отличается-от-выручки-пользователей-из-других-регионов.\" data-toc-modified-id=\"Гипотеза2:-средняя-выручка-пользователей-из-Москвы-отличается-от-выручки-пользователей-из-других-регионов.-4.2\"><span class=\"toc-item-num\">4.2&nbsp;&nbsp;</span>Гипотеза2: средняя выручка пользователей из Москвы отличается от выручки пользователей из других регионов.</a></span></li><li><span><a href=\"#Вывод-по-разделу-&quot;Проверка-гипотез&quot;.\" data-toc-modified-id=\"Вывод-по-разделу-&quot;Проверка-гипотез&quot;.-4.3\"><span class=\"toc-item-num\">4.3&nbsp;&nbsp;</span>Вывод по разделу \"Проверка гипотез\".</a></span></li></ul></li><li><span><a href=\"#Общий-вывод.\" data-toc-modified-id=\"Общий-вывод.-5\"><span class=\"toc-item-num\">5&nbsp;&nbsp;</span>Общий вывод.</a></span></li><li><span>"
   ]
  },
  {
   "cell_type": "markdown",
   "metadata": {},
   "source": [
    "# Определение перспективного тарифа для телеком-компании.\n",
    "\n",
    "Вы аналитик компании «Мегалайн» — федерального оператора сотовой связи. Клиентам предлагают два тарифных плана: «Смарт» и «Ультра». Чтобы скорректировать рекламный бюджет, коммерческий департамент хочет понять, какой тариф приносит больше денег.\n",
    "\n",
    "Вам предстоит сделать предварительный анализ тарифов на небольшой выборке клиентов. В вашем распоряжении данные 500 пользователей «Мегалайна»: кто они, откуда, каким тарифом пользуются, сколько звонков и сообщений каждый отправил за 2018 год. Нужно проанализировать поведение клиентов и сделать вывод — какой тариф лучше."
   ]
  },
  {
   "cell_type": "markdown",
   "metadata": {},
   "source": [
    "**Описание тарифов.**"
   ]
  },
  {
   "cell_type": "markdown",
   "metadata": {},
   "source": [
    "**Тариф «Смарт»**\n",
    "\n",
    "1. Ежемесячная плата: 550 рублей\n",
    "2. Включено 500 минут разговора, 50 сообщений и 15 Гб интернет-трафика\n",
    "3. Стоимость услуг сверх тарифного пакета:\n",
    "    - минута разговора: 3 рубля\n",
    "    - сообщение: 3 рубля\n",
    "    - 1 Гб интернет-трафика: 200 рублей"
   ]
  },
  {
   "cell_type": "markdown",
   "metadata": {},
   "source": [
    "**Тариф «Ультра»**\n",
    "\n",
    "1. Ежемесячная плата: 1950 рублей\n",
    "2. Включено 3000 минут разговора, 1000 сообщений и 30 Гб интернет-трафика\n",
    "3. Стоимость услуг сверх тарифного пакета:\n",
    "    - минута разговора: 1 рубль\n",
    "    - сообщение: 1 рубль\n",
    "    - 1 Гб интернет-трафика: 150 рублей"
   ]
  },
  {
   "cell_type": "markdown",
   "metadata": {},
   "source": [
    "**Примечание:**\n",
    "\n",
    "«Мегалайн» всегда округляет секунды до минут, а мегабайты — до гигабайт. Каждый звонок округляется отдельно: даже если он длился всего 1 секунду, будет засчитан как 1 минута.\n",
    "\n",
    "Для веб-трафика отдельные сессии не считаются. Вместо этого общая сумма за месяц округляется в бо́льшую сторону. Если абонент использует 1025 мегабайт в этом месяце, с него возьмут плату за 2 гигабайта."
   ]
  },
  {
   "cell_type": "markdown",
   "metadata": {},
   "source": [
    "**Описание данных.**\n",
    "\n",
    "Таблица `users` (информация о пользователях):\n",
    "- user_id — уникальный идентификатор пользователя\n",
    "- first_name — имя пользователя\n",
    "- last_name — фамилия пользователя\n",
    "- age — возраст пользователя (годы)\n",
    "- reg_date — дата подключения тарифа (день, месяц, год)\n",
    "- churn_date — дата прекращения пользования тарифом (если значение пропущено, то тариф ещё действовал на момент выгрузки данных)\n",
    "- city — город проживания пользователя\n",
    "- tarif — название тарифного плана\n",
    "\n",
    "Таблица `calls` (информация о звонках):\n",
    "- id — уникальный номер звонка\n",
    "- call_date — дата звонка\n",
    "- duration — длительность звонка в минутах\n",
    "- user_id — идентификатор пользователя, сделавшего звонок\n",
    "\n",
    "Таблица `messages` (информация о сообщениях):\n",
    "- id — уникальный номер сообщения\n",
    "- message_date — дата сообщения\n",
    "- user_id — идентификатор пользователя, отправившего сообщение\n",
    "\n",
    "Таблица `internet` (информация об интернет-сессиях):\n",
    "- id — уникальный номер сессии\n",
    "- mb_used — объём потраченного за сессию интернет-трафика (в мегабайтах)\n",
    "- session_date — дата интернет-сессии\n",
    "- user_id — идентификатор пользователя\n",
    "\n",
    "Таблица `tariffs` (информация о тарифах):\n",
    "- tariff_name — название тарифа\n",
    "- rub_monthly_fee — ежемесячная абонентская плата в рублях\n",
    "- minutes_included — количество минут разговора в месяц, включённых в абонентскую плату\n",
    "- messages_included — количество сообщений в месяц, включённых в абонентскую плату\n",
    "- mb_per_month_included — объём интернет-трафика, включённого в абонентскую плату (в мегабайтах)\n",
    "- rub_per_minute — стоимость минуты разговора сверх тарифного пакета (например, если в тарифе 100 минут разговора в месяц, то со 101 минуты будет взиматься плата)\n",
    "- rub_per_message — стоимость отправки сообщения сверх тарифного пакета\n",
    "- rub_per_gb — стоимость дополнительного гигабайта интернет-трафика сверх тарифного пакета (1 гигабайт = 1024 мегабайта)"
   ]
  },
  {
   "cell_type": "markdown",
   "metadata": {},
   "source": [
    "## Изучение данных из файлов."
   ]
  },
  {
   "cell_type": "markdown",
   "metadata": {},
   "source": [
    "Импортируем библиотеки и изучим данные в предоставленных файлах."
   ]
  },
  {
   "cell_type": "markdown",
   "metadata": {},
   "source": [
    "### Импорт библиотек."
   ]
  },
  {
   "cell_type": "code",
   "execution_count": 1,
   "metadata": {},
   "outputs": [],
   "source": [
    "# Импортируем библиотеки.\n",
    "import pandas as pd\n",
    "import matplotlib.pyplot as plt\n",
    "from scipy import stats as st\n",
    "import seaborn as sns\n",
    "import numpy as np"
   ]
  },
  {
   "cell_type": "markdown",
   "metadata": {},
   "source": [
    "### Чтение данных и сохранение их в переменной."
   ]
  },
  {
   "cell_type": "code",
   "execution_count": 2,
   "metadata": {},
   "outputs": [],
   "source": [
    "# Cохраним данные из файлов в переменных.\n",
    "users = pd.read_csv('/datasets/users.csv')\n",
    "calls = pd.read_csv('/datasets/calls.csv')\n",
    "messages = pd.read_csv('/datasets/messages.csv')\n",
    "internet = pd.read_csv('/datasets/internet.csv')\n",
    "tariffs = pd.read_csv('/datasets/tariffs.csv')"
   ]
  },
  {
   "cell_type": "markdown",
   "metadata": {},
   "source": [
    "### Предварительный анализ данных."
   ]
  },
  {
   "cell_type": "markdown",
   "metadata": {},
   "source": [
    "Напишем функцию `table_info` для получения информации по каждой из таблиц."
   ]
  },
  {
   "cell_type": "code",
   "execution_count": 3,
   "metadata": {},
   "outputs": [],
   "source": [
    "# Создадим функцию.\n",
    "def table_info(df):\n",
    "    # Выведем первые 10 строк датафрейма.\n",
    "    display(df.head(10))\n",
    "    # Выведем последние 10 строк датафрейма.\n",
    "    display(df.tail(10))\n",
    "    # Выведем статистику по столбцам датафрейма.\n",
    "    display(df.describe())\n",
    "    # Выведем информацию по столбцам датафрейма.\n",
    "    return df.info()"
   ]
  },
  {
   "cell_type": "markdown",
   "metadata": {},
   "source": [
    "#### Рассмотрим таблицу `users`."
   ]
  },
  {
   "cell_type": "code",
   "execution_count": 4,
   "metadata": {},
   "outputs": [
    {
     "data": {
      "text/html": [
       "<div>\n",
       "<style scoped>\n",
       "    .dataframe tbody tr th:only-of-type {\n",
       "        vertical-align: middle;\n",
       "    }\n",
       "\n",
       "    .dataframe tbody tr th {\n",
       "        vertical-align: top;\n",
       "    }\n",
       "\n",
       "    .dataframe thead th {\n",
       "        text-align: right;\n",
       "    }\n",
       "</style>\n",
       "<table border=\"1\" class=\"dataframe\">\n",
       "  <thead>\n",
       "    <tr style=\"text-align: right;\">\n",
       "      <th></th>\n",
       "      <th>user_id</th>\n",
       "      <th>age</th>\n",
       "      <th>churn_date</th>\n",
       "      <th>city</th>\n",
       "      <th>first_name</th>\n",
       "      <th>last_name</th>\n",
       "      <th>reg_date</th>\n",
       "      <th>tariff</th>\n",
       "    </tr>\n",
       "  </thead>\n",
       "  <tbody>\n",
       "    <tr>\n",
       "      <th>0</th>\n",
       "      <td>1000</td>\n",
       "      <td>52</td>\n",
       "      <td>NaN</td>\n",
       "      <td>Краснодар</td>\n",
       "      <td>Рафаил</td>\n",
       "      <td>Верещагин</td>\n",
       "      <td>2018-05-25</td>\n",
       "      <td>ultra</td>\n",
       "    </tr>\n",
       "    <tr>\n",
       "      <th>1</th>\n",
       "      <td>1001</td>\n",
       "      <td>41</td>\n",
       "      <td>NaN</td>\n",
       "      <td>Москва</td>\n",
       "      <td>Иван</td>\n",
       "      <td>Ежов</td>\n",
       "      <td>2018-11-01</td>\n",
       "      <td>smart</td>\n",
       "    </tr>\n",
       "    <tr>\n",
       "      <th>2</th>\n",
       "      <td>1002</td>\n",
       "      <td>59</td>\n",
       "      <td>NaN</td>\n",
       "      <td>Стерлитамак</td>\n",
       "      <td>Евгений</td>\n",
       "      <td>Абрамович</td>\n",
       "      <td>2018-06-17</td>\n",
       "      <td>smart</td>\n",
       "    </tr>\n",
       "    <tr>\n",
       "      <th>3</th>\n",
       "      <td>1003</td>\n",
       "      <td>23</td>\n",
       "      <td>NaN</td>\n",
       "      <td>Москва</td>\n",
       "      <td>Белла</td>\n",
       "      <td>Белякова</td>\n",
       "      <td>2018-08-17</td>\n",
       "      <td>ultra</td>\n",
       "    </tr>\n",
       "    <tr>\n",
       "      <th>4</th>\n",
       "      <td>1004</td>\n",
       "      <td>68</td>\n",
       "      <td>NaN</td>\n",
       "      <td>Новокузнецк</td>\n",
       "      <td>Татьяна</td>\n",
       "      <td>Авдеенко</td>\n",
       "      <td>2018-05-14</td>\n",
       "      <td>ultra</td>\n",
       "    </tr>\n",
       "    <tr>\n",
       "      <th>5</th>\n",
       "      <td>1005</td>\n",
       "      <td>67</td>\n",
       "      <td>NaN</td>\n",
       "      <td>Набережные Челны</td>\n",
       "      <td>Афанасий</td>\n",
       "      <td>Горлов</td>\n",
       "      <td>2018-01-25</td>\n",
       "      <td>smart</td>\n",
       "    </tr>\n",
       "    <tr>\n",
       "      <th>6</th>\n",
       "      <td>1006</td>\n",
       "      <td>21</td>\n",
       "      <td>NaN</td>\n",
       "      <td>Ульяновск</td>\n",
       "      <td>Леонид</td>\n",
       "      <td>Ермолаев</td>\n",
       "      <td>2018-02-26</td>\n",
       "      <td>smart</td>\n",
       "    </tr>\n",
       "    <tr>\n",
       "      <th>7</th>\n",
       "      <td>1007</td>\n",
       "      <td>65</td>\n",
       "      <td>NaN</td>\n",
       "      <td>Москва</td>\n",
       "      <td>Юна</td>\n",
       "      <td>Березина</td>\n",
       "      <td>2018-04-19</td>\n",
       "      <td>smart</td>\n",
       "    </tr>\n",
       "    <tr>\n",
       "      <th>8</th>\n",
       "      <td>1008</td>\n",
       "      <td>63</td>\n",
       "      <td>NaN</td>\n",
       "      <td>Челябинск</td>\n",
       "      <td>Рустэм</td>\n",
       "      <td>Пономарёв</td>\n",
       "      <td>2018-12-19</td>\n",
       "      <td>smart</td>\n",
       "    </tr>\n",
       "    <tr>\n",
       "      <th>9</th>\n",
       "      <td>1009</td>\n",
       "      <td>24</td>\n",
       "      <td>NaN</td>\n",
       "      <td>Пермь</td>\n",
       "      <td>Василиса</td>\n",
       "      <td>Блинова</td>\n",
       "      <td>2018-03-22</td>\n",
       "      <td>smart</td>\n",
       "    </tr>\n",
       "  </tbody>\n",
       "</table>\n",
       "</div>"
      ],
      "text/plain": [
       "   user_id  age churn_date              city first_name  last_name  \\\n",
       "0     1000   52        NaN         Краснодар     Рафаил  Верещагин   \n",
       "1     1001   41        NaN            Москва       Иван       Ежов   \n",
       "2     1002   59        NaN       Стерлитамак    Евгений  Абрамович   \n",
       "3     1003   23        NaN            Москва      Белла   Белякова   \n",
       "4     1004   68        NaN       Новокузнецк    Татьяна   Авдеенко   \n",
       "5     1005   67        NaN  Набережные Челны   Афанасий     Горлов   \n",
       "6     1006   21        NaN         Ульяновск     Леонид   Ермолаев   \n",
       "7     1007   65        NaN            Москва        Юна   Березина   \n",
       "8     1008   63        NaN         Челябинск     Рустэм  Пономарёв   \n",
       "9     1009   24        NaN             Пермь   Василиса    Блинова   \n",
       "\n",
       "     reg_date tariff  \n",
       "0  2018-05-25  ultra  \n",
       "1  2018-11-01  smart  \n",
       "2  2018-06-17  smart  \n",
       "3  2018-08-17  ultra  \n",
       "4  2018-05-14  ultra  \n",
       "5  2018-01-25  smart  \n",
       "6  2018-02-26  smart  \n",
       "7  2018-04-19  smart  \n",
       "8  2018-12-19  smart  \n",
       "9  2018-03-22  smart  "
      ]
     },
     "metadata": {},
     "output_type": "display_data"
    },
    {
     "data": {
      "text/html": [
       "<div>\n",
       "<style scoped>\n",
       "    .dataframe tbody tr th:only-of-type {\n",
       "        vertical-align: middle;\n",
       "    }\n",
       "\n",
       "    .dataframe tbody tr th {\n",
       "        vertical-align: top;\n",
       "    }\n",
       "\n",
       "    .dataframe thead th {\n",
       "        text-align: right;\n",
       "    }\n",
       "</style>\n",
       "<table border=\"1\" class=\"dataframe\">\n",
       "  <thead>\n",
       "    <tr style=\"text-align: right;\">\n",
       "      <th></th>\n",
       "      <th>user_id</th>\n",
       "      <th>age</th>\n",
       "      <th>churn_date</th>\n",
       "      <th>city</th>\n",
       "      <th>first_name</th>\n",
       "      <th>last_name</th>\n",
       "      <th>reg_date</th>\n",
       "      <th>tariff</th>\n",
       "    </tr>\n",
       "  </thead>\n",
       "  <tbody>\n",
       "    <tr>\n",
       "      <th>490</th>\n",
       "      <td>1490</td>\n",
       "      <td>30</td>\n",
       "      <td>NaN</td>\n",
       "      <td>Москва</td>\n",
       "      <td>Радомир</td>\n",
       "      <td>Алесин</td>\n",
       "      <td>2018-04-03</td>\n",
       "      <td>smart</td>\n",
       "    </tr>\n",
       "    <tr>\n",
       "      <th>491</th>\n",
       "      <td>1491</td>\n",
       "      <td>56</td>\n",
       "      <td>NaN</td>\n",
       "      <td>Челябинск</td>\n",
       "      <td>Радислав</td>\n",
       "      <td>Андрейкин</td>\n",
       "      <td>2018-04-25</td>\n",
       "      <td>ultra</td>\n",
       "    </tr>\n",
       "    <tr>\n",
       "      <th>492</th>\n",
       "      <td>1492</td>\n",
       "      <td>63</td>\n",
       "      <td>NaN</td>\n",
       "      <td>Санкт-Петербург</td>\n",
       "      <td>Руслана</td>\n",
       "      <td>Артёменко</td>\n",
       "      <td>2018-06-26</td>\n",
       "      <td>smart</td>\n",
       "    </tr>\n",
       "    <tr>\n",
       "      <th>493</th>\n",
       "      <td>1493</td>\n",
       "      <td>71</td>\n",
       "      <td>NaN</td>\n",
       "      <td>Красноярск</td>\n",
       "      <td>Таисия</td>\n",
       "      <td>Ахматулина</td>\n",
       "      <td>2018-11-24</td>\n",
       "      <td>ultra</td>\n",
       "    </tr>\n",
       "    <tr>\n",
       "      <th>494</th>\n",
       "      <td>1494</td>\n",
       "      <td>62</td>\n",
       "      <td>NaN</td>\n",
       "      <td>Омск</td>\n",
       "      <td>Ренат</td>\n",
       "      <td>Андропов</td>\n",
       "      <td>2018-08-17</td>\n",
       "      <td>smart</td>\n",
       "    </tr>\n",
       "    <tr>\n",
       "      <th>495</th>\n",
       "      <td>1495</td>\n",
       "      <td>65</td>\n",
       "      <td>NaN</td>\n",
       "      <td>Иркутск</td>\n",
       "      <td>Авксентий</td>\n",
       "      <td>Фокин</td>\n",
       "      <td>2018-08-28</td>\n",
       "      <td>ultra</td>\n",
       "    </tr>\n",
       "    <tr>\n",
       "      <th>496</th>\n",
       "      <td>1496</td>\n",
       "      <td>36</td>\n",
       "      <td>NaN</td>\n",
       "      <td>Вологда</td>\n",
       "      <td>Трифон</td>\n",
       "      <td>Блохин</td>\n",
       "      <td>2018-01-27</td>\n",
       "      <td>smart</td>\n",
       "    </tr>\n",
       "    <tr>\n",
       "      <th>497</th>\n",
       "      <td>1497</td>\n",
       "      <td>32</td>\n",
       "      <td>NaN</td>\n",
       "      <td>Челябинск</td>\n",
       "      <td>Каролина</td>\n",
       "      <td>Агеева</td>\n",
       "      <td>2018-10-09</td>\n",
       "      <td>smart</td>\n",
       "    </tr>\n",
       "    <tr>\n",
       "      <th>498</th>\n",
       "      <td>1498</td>\n",
       "      <td>68</td>\n",
       "      <td>2018-10-25</td>\n",
       "      <td>Владикавказ</td>\n",
       "      <td>Всеволод</td>\n",
       "      <td>Акимчин</td>\n",
       "      <td>2018-07-19</td>\n",
       "      <td>smart</td>\n",
       "    </tr>\n",
       "    <tr>\n",
       "      <th>499</th>\n",
       "      <td>1499</td>\n",
       "      <td>35</td>\n",
       "      <td>NaN</td>\n",
       "      <td>Пермь</td>\n",
       "      <td>Гектор</td>\n",
       "      <td>Корнилов</td>\n",
       "      <td>2018-09-27</td>\n",
       "      <td>smart</td>\n",
       "    </tr>\n",
       "  </tbody>\n",
       "</table>\n",
       "</div>"
      ],
      "text/plain": [
       "     user_id  age  churn_date             city first_name   last_name  \\\n",
       "490     1490   30         NaN           Москва    Радомир      Алесин   \n",
       "491     1491   56         NaN        Челябинск   Радислав   Андрейкин   \n",
       "492     1492   63         NaN  Санкт-Петербург    Руслана   Артёменко   \n",
       "493     1493   71         NaN       Красноярск     Таисия  Ахматулина   \n",
       "494     1494   62         NaN             Омск      Ренат    Андропов   \n",
       "495     1495   65         NaN          Иркутск  Авксентий       Фокин   \n",
       "496     1496   36         NaN          Вологда     Трифон      Блохин   \n",
       "497     1497   32         NaN        Челябинск   Каролина      Агеева   \n",
       "498     1498   68  2018-10-25      Владикавказ   Всеволод     Акимчин   \n",
       "499     1499   35         NaN            Пермь     Гектор    Корнилов   \n",
       "\n",
       "       reg_date tariff  \n",
       "490  2018-04-03  smart  \n",
       "491  2018-04-25  ultra  \n",
       "492  2018-06-26  smart  \n",
       "493  2018-11-24  ultra  \n",
       "494  2018-08-17  smart  \n",
       "495  2018-08-28  ultra  \n",
       "496  2018-01-27  smart  \n",
       "497  2018-10-09  smart  \n",
       "498  2018-07-19  smart  \n",
       "499  2018-09-27  smart  "
      ]
     },
     "metadata": {},
     "output_type": "display_data"
    },
    {
     "data": {
      "text/html": [
       "<div>\n",
       "<style scoped>\n",
       "    .dataframe tbody tr th:only-of-type {\n",
       "        vertical-align: middle;\n",
       "    }\n",
       "\n",
       "    .dataframe tbody tr th {\n",
       "        vertical-align: top;\n",
       "    }\n",
       "\n",
       "    .dataframe thead th {\n",
       "        text-align: right;\n",
       "    }\n",
       "</style>\n",
       "<table border=\"1\" class=\"dataframe\">\n",
       "  <thead>\n",
       "    <tr style=\"text-align: right;\">\n",
       "      <th></th>\n",
       "      <th>user_id</th>\n",
       "      <th>age</th>\n",
       "    </tr>\n",
       "  </thead>\n",
       "  <tbody>\n",
       "    <tr>\n",
       "      <th>count</th>\n",
       "      <td>500.000000</td>\n",
       "      <td>500.00000</td>\n",
       "    </tr>\n",
       "    <tr>\n",
       "      <th>mean</th>\n",
       "      <td>1249.500000</td>\n",
       "      <td>46.58800</td>\n",
       "    </tr>\n",
       "    <tr>\n",
       "      <th>std</th>\n",
       "      <td>144.481833</td>\n",
       "      <td>16.66763</td>\n",
       "    </tr>\n",
       "    <tr>\n",
       "      <th>min</th>\n",
       "      <td>1000.000000</td>\n",
       "      <td>18.00000</td>\n",
       "    </tr>\n",
       "    <tr>\n",
       "      <th>25%</th>\n",
       "      <td>1124.750000</td>\n",
       "      <td>32.00000</td>\n",
       "    </tr>\n",
       "    <tr>\n",
       "      <th>50%</th>\n",
       "      <td>1249.500000</td>\n",
       "      <td>46.00000</td>\n",
       "    </tr>\n",
       "    <tr>\n",
       "      <th>75%</th>\n",
       "      <td>1374.250000</td>\n",
       "      <td>62.00000</td>\n",
       "    </tr>\n",
       "    <tr>\n",
       "      <th>max</th>\n",
       "      <td>1499.000000</td>\n",
       "      <td>75.00000</td>\n",
       "    </tr>\n",
       "  </tbody>\n",
       "</table>\n",
       "</div>"
      ],
      "text/plain": [
       "           user_id        age\n",
       "count   500.000000  500.00000\n",
       "mean   1249.500000   46.58800\n",
       "std     144.481833   16.66763\n",
       "min    1000.000000   18.00000\n",
       "25%    1124.750000   32.00000\n",
       "50%    1249.500000   46.00000\n",
       "75%    1374.250000   62.00000\n",
       "max    1499.000000   75.00000"
      ]
     },
     "metadata": {},
     "output_type": "display_data"
    },
    {
     "name": "stdout",
     "output_type": "stream",
     "text": [
      "<class 'pandas.core.frame.DataFrame'>\n",
      "RangeIndex: 500 entries, 0 to 499\n",
      "Data columns (total 8 columns):\n",
      " #   Column      Non-Null Count  Dtype \n",
      "---  ------      --------------  ----- \n",
      " 0   user_id     500 non-null    int64 \n",
      " 1   age         500 non-null    int64 \n",
      " 2   churn_date  38 non-null     object\n",
      " 3   city        500 non-null    object\n",
      " 4   first_name  500 non-null    object\n",
      " 5   last_name   500 non-null    object\n",
      " 6   reg_date    500 non-null    object\n",
      " 7   tariff      500 non-null    object\n",
      "dtypes: int64(2), object(6)\n",
      "memory usage: 31.4+ KB\n"
     ]
    }
   ],
   "source": [
    "# Посмотрим информацию по таблице.\n",
    "table_info(users)"
   ]
  },
  {
   "cell_type": "markdown",
   "metadata": {},
   "source": [
    "Наблюдаем пропуски в столбце `churn_date` - это нормально, т.к. данный столбец заполняется только в случае если пользователь прекратил пользоваться тарифом. Нужно привести столбцы `churn_date` и `reg_date` к формату datetime"
   ]
  },
  {
   "cell_type": "markdown",
   "metadata": {},
   "source": [
    "#### Рассмотрим таблицу `calls`."
   ]
  },
  {
   "cell_type": "code",
   "execution_count": 5,
   "metadata": {},
   "outputs": [
    {
     "data": {
      "text/html": [
       "<div>\n",
       "<style scoped>\n",
       "    .dataframe tbody tr th:only-of-type {\n",
       "        vertical-align: middle;\n",
       "    }\n",
       "\n",
       "    .dataframe tbody tr th {\n",
       "        vertical-align: top;\n",
       "    }\n",
       "\n",
       "    .dataframe thead th {\n",
       "        text-align: right;\n",
       "    }\n",
       "</style>\n",
       "<table border=\"1\" class=\"dataframe\">\n",
       "  <thead>\n",
       "    <tr style=\"text-align: right;\">\n",
       "      <th></th>\n",
       "      <th>id</th>\n",
       "      <th>call_date</th>\n",
       "      <th>duration</th>\n",
       "      <th>user_id</th>\n",
       "    </tr>\n",
       "  </thead>\n",
       "  <tbody>\n",
       "    <tr>\n",
       "      <th>0</th>\n",
       "      <td>1000_0</td>\n",
       "      <td>2018-07-25</td>\n",
       "      <td>0.00</td>\n",
       "      <td>1000</td>\n",
       "    </tr>\n",
       "    <tr>\n",
       "      <th>1</th>\n",
       "      <td>1000_1</td>\n",
       "      <td>2018-08-17</td>\n",
       "      <td>0.00</td>\n",
       "      <td>1000</td>\n",
       "    </tr>\n",
       "    <tr>\n",
       "      <th>2</th>\n",
       "      <td>1000_2</td>\n",
       "      <td>2018-06-11</td>\n",
       "      <td>2.85</td>\n",
       "      <td>1000</td>\n",
       "    </tr>\n",
       "    <tr>\n",
       "      <th>3</th>\n",
       "      <td>1000_3</td>\n",
       "      <td>2018-09-21</td>\n",
       "      <td>13.80</td>\n",
       "      <td>1000</td>\n",
       "    </tr>\n",
       "    <tr>\n",
       "      <th>4</th>\n",
       "      <td>1000_4</td>\n",
       "      <td>2018-12-15</td>\n",
       "      <td>5.18</td>\n",
       "      <td>1000</td>\n",
       "    </tr>\n",
       "    <tr>\n",
       "      <th>5</th>\n",
       "      <td>1000_5</td>\n",
       "      <td>2018-11-02</td>\n",
       "      <td>0.00</td>\n",
       "      <td>1000</td>\n",
       "    </tr>\n",
       "    <tr>\n",
       "      <th>6</th>\n",
       "      <td>1000_6</td>\n",
       "      <td>2018-10-18</td>\n",
       "      <td>0.00</td>\n",
       "      <td>1000</td>\n",
       "    </tr>\n",
       "    <tr>\n",
       "      <th>7</th>\n",
       "      <td>1000_7</td>\n",
       "      <td>2018-08-22</td>\n",
       "      <td>18.31</td>\n",
       "      <td>1000</td>\n",
       "    </tr>\n",
       "    <tr>\n",
       "      <th>8</th>\n",
       "      <td>1000_8</td>\n",
       "      <td>2018-09-15</td>\n",
       "      <td>18.44</td>\n",
       "      <td>1000</td>\n",
       "    </tr>\n",
       "    <tr>\n",
       "      <th>9</th>\n",
       "      <td>1000_9</td>\n",
       "      <td>2018-08-15</td>\n",
       "      <td>0.00</td>\n",
       "      <td>1000</td>\n",
       "    </tr>\n",
       "  </tbody>\n",
       "</table>\n",
       "</div>"
      ],
      "text/plain": [
       "       id   call_date  duration  user_id\n",
       "0  1000_0  2018-07-25      0.00     1000\n",
       "1  1000_1  2018-08-17      0.00     1000\n",
       "2  1000_2  2018-06-11      2.85     1000\n",
       "3  1000_3  2018-09-21     13.80     1000\n",
       "4  1000_4  2018-12-15      5.18     1000\n",
       "5  1000_5  2018-11-02      0.00     1000\n",
       "6  1000_6  2018-10-18      0.00     1000\n",
       "7  1000_7  2018-08-22     18.31     1000\n",
       "8  1000_8  2018-09-15     18.44     1000\n",
       "9  1000_9  2018-08-15      0.00     1000"
      ]
     },
     "metadata": {},
     "output_type": "display_data"
    },
    {
     "data": {
      "text/html": [
       "<div>\n",
       "<style scoped>\n",
       "    .dataframe tbody tr th:only-of-type {\n",
       "        vertical-align: middle;\n",
       "    }\n",
       "\n",
       "    .dataframe tbody tr th {\n",
       "        vertical-align: top;\n",
       "    }\n",
       "\n",
       "    .dataframe thead th {\n",
       "        text-align: right;\n",
       "    }\n",
       "</style>\n",
       "<table border=\"1\" class=\"dataframe\">\n",
       "  <thead>\n",
       "    <tr style=\"text-align: right;\">\n",
       "      <th></th>\n",
       "      <th>id</th>\n",
       "      <th>call_date</th>\n",
       "      <th>duration</th>\n",
       "      <th>user_id</th>\n",
       "    </tr>\n",
       "  </thead>\n",
       "  <tbody>\n",
       "    <tr>\n",
       "      <th>202597</th>\n",
       "      <td>1499_210</td>\n",
       "      <td>2018-10-02</td>\n",
       "      <td>8.86</td>\n",
       "      <td>1499</td>\n",
       "    </tr>\n",
       "    <tr>\n",
       "      <th>202598</th>\n",
       "      <td>1499_211</td>\n",
       "      <td>2018-12-29</td>\n",
       "      <td>4.58</td>\n",
       "      <td>1499</td>\n",
       "    </tr>\n",
       "    <tr>\n",
       "      <th>202599</th>\n",
       "      <td>1499_212</td>\n",
       "      <td>2018-12-30</td>\n",
       "      <td>1.35</td>\n",
       "      <td>1499</td>\n",
       "    </tr>\n",
       "    <tr>\n",
       "      <th>202600</th>\n",
       "      <td>1499_213</td>\n",
       "      <td>2018-10-17</td>\n",
       "      <td>10.77</td>\n",
       "      <td>1499</td>\n",
       "    </tr>\n",
       "    <tr>\n",
       "      <th>202601</th>\n",
       "      <td>1499_214</td>\n",
       "      <td>2018-12-05</td>\n",
       "      <td>2.42</td>\n",
       "      <td>1499</td>\n",
       "    </tr>\n",
       "    <tr>\n",
       "      <th>202602</th>\n",
       "      <td>1499_215</td>\n",
       "      <td>2018-12-26</td>\n",
       "      <td>0.76</td>\n",
       "      <td>1499</td>\n",
       "    </tr>\n",
       "    <tr>\n",
       "      <th>202603</th>\n",
       "      <td>1499_216</td>\n",
       "      <td>2018-10-18</td>\n",
       "      <td>18.83</td>\n",
       "      <td>1499</td>\n",
       "    </tr>\n",
       "    <tr>\n",
       "      <th>202604</th>\n",
       "      <td>1499_217</td>\n",
       "      <td>2018-11-10</td>\n",
       "      <td>10.81</td>\n",
       "      <td>1499</td>\n",
       "    </tr>\n",
       "    <tr>\n",
       "      <th>202605</th>\n",
       "      <td>1499_218</td>\n",
       "      <td>2018-10-06</td>\n",
       "      <td>4.27</td>\n",
       "      <td>1499</td>\n",
       "    </tr>\n",
       "    <tr>\n",
       "      <th>202606</th>\n",
       "      <td>1499_219</td>\n",
       "      <td>2018-12-14</td>\n",
       "      <td>19.62</td>\n",
       "      <td>1499</td>\n",
       "    </tr>\n",
       "  </tbody>\n",
       "</table>\n",
       "</div>"
      ],
      "text/plain": [
       "              id   call_date  duration  user_id\n",
       "202597  1499_210  2018-10-02      8.86     1499\n",
       "202598  1499_211  2018-12-29      4.58     1499\n",
       "202599  1499_212  2018-12-30      1.35     1499\n",
       "202600  1499_213  2018-10-17     10.77     1499\n",
       "202601  1499_214  2018-12-05      2.42     1499\n",
       "202602  1499_215  2018-12-26      0.76     1499\n",
       "202603  1499_216  2018-10-18     18.83     1499\n",
       "202604  1499_217  2018-11-10     10.81     1499\n",
       "202605  1499_218  2018-10-06      4.27     1499\n",
       "202606  1499_219  2018-12-14     19.62     1499"
      ]
     },
     "metadata": {},
     "output_type": "display_data"
    },
    {
     "data": {
      "text/html": [
       "<div>\n",
       "<style scoped>\n",
       "    .dataframe tbody tr th:only-of-type {\n",
       "        vertical-align: middle;\n",
       "    }\n",
       "\n",
       "    .dataframe tbody tr th {\n",
       "        vertical-align: top;\n",
       "    }\n",
       "\n",
       "    .dataframe thead th {\n",
       "        text-align: right;\n",
       "    }\n",
       "</style>\n",
       "<table border=\"1\" class=\"dataframe\">\n",
       "  <thead>\n",
       "    <tr style=\"text-align: right;\">\n",
       "      <th></th>\n",
       "      <th>duration</th>\n",
       "      <th>user_id</th>\n",
       "    </tr>\n",
       "  </thead>\n",
       "  <tbody>\n",
       "    <tr>\n",
       "      <th>count</th>\n",
       "      <td>202607.000000</td>\n",
       "      <td>202607.000000</td>\n",
       "    </tr>\n",
       "    <tr>\n",
       "      <th>mean</th>\n",
       "      <td>6.755887</td>\n",
       "      <td>1253.940619</td>\n",
       "    </tr>\n",
       "    <tr>\n",
       "      <th>std</th>\n",
       "      <td>5.843365</td>\n",
       "      <td>144.722751</td>\n",
       "    </tr>\n",
       "    <tr>\n",
       "      <th>min</th>\n",
       "      <td>0.000000</td>\n",
       "      <td>1000.000000</td>\n",
       "    </tr>\n",
       "    <tr>\n",
       "      <th>25%</th>\n",
       "      <td>1.300000</td>\n",
       "      <td>1126.000000</td>\n",
       "    </tr>\n",
       "    <tr>\n",
       "      <th>50%</th>\n",
       "      <td>6.000000</td>\n",
       "      <td>1260.000000</td>\n",
       "    </tr>\n",
       "    <tr>\n",
       "      <th>75%</th>\n",
       "      <td>10.700000</td>\n",
       "      <td>1379.000000</td>\n",
       "    </tr>\n",
       "    <tr>\n",
       "      <th>max</th>\n",
       "      <td>38.000000</td>\n",
       "      <td>1499.000000</td>\n",
       "    </tr>\n",
       "  </tbody>\n",
       "</table>\n",
       "</div>"
      ],
      "text/plain": [
       "            duration        user_id\n",
       "count  202607.000000  202607.000000\n",
       "mean        6.755887    1253.940619\n",
       "std         5.843365     144.722751\n",
       "min         0.000000    1000.000000\n",
       "25%         1.300000    1126.000000\n",
       "50%         6.000000    1260.000000\n",
       "75%        10.700000    1379.000000\n",
       "max        38.000000    1499.000000"
      ]
     },
     "metadata": {},
     "output_type": "display_data"
    },
    {
     "name": "stdout",
     "output_type": "stream",
     "text": [
      "<class 'pandas.core.frame.DataFrame'>\n",
      "RangeIndex: 202607 entries, 0 to 202606\n",
      "Data columns (total 4 columns):\n",
      " #   Column     Non-Null Count   Dtype  \n",
      "---  ------     --------------   -----  \n",
      " 0   id         202607 non-null  object \n",
      " 1   call_date  202607 non-null  object \n",
      " 2   duration   202607 non-null  float64\n",
      " 3   user_id    202607 non-null  int64  \n",
      "dtypes: float64(1), int64(1), object(2)\n",
      "memory usage: 6.2+ MB\n"
     ]
    }
   ],
   "source": [
    "# Посмотрим информацию по таблице.\n",
    "table_info(calls)"
   ]
  },
  {
   "cell_type": "markdown",
   "metadata": {},
   "source": [
    "Пропусков в таблице `calls` не обнаружено. Требуется привести столбец `call_date` к формату datetime, округлить значения в столбце `duration` до целого вверх. Нулевые значения - неотвеченные звонки."
   ]
  },
  {
   "cell_type": "markdown",
   "metadata": {},
   "source": [
    "#### Рассмотрим таблицу `messages`."
   ]
  },
  {
   "cell_type": "code",
   "execution_count": 6,
   "metadata": {},
   "outputs": [
    {
     "data": {
      "text/html": [
       "<div>\n",
       "<style scoped>\n",
       "    .dataframe tbody tr th:only-of-type {\n",
       "        vertical-align: middle;\n",
       "    }\n",
       "\n",
       "    .dataframe tbody tr th {\n",
       "        vertical-align: top;\n",
       "    }\n",
       "\n",
       "    .dataframe thead th {\n",
       "        text-align: right;\n",
       "    }\n",
       "</style>\n",
       "<table border=\"1\" class=\"dataframe\">\n",
       "  <thead>\n",
       "    <tr style=\"text-align: right;\">\n",
       "      <th></th>\n",
       "      <th>id</th>\n",
       "      <th>message_date</th>\n",
       "      <th>user_id</th>\n",
       "    </tr>\n",
       "  </thead>\n",
       "  <tbody>\n",
       "    <tr>\n",
       "      <th>0</th>\n",
       "      <td>1000_0</td>\n",
       "      <td>2018-06-27</td>\n",
       "      <td>1000</td>\n",
       "    </tr>\n",
       "    <tr>\n",
       "      <th>1</th>\n",
       "      <td>1000_1</td>\n",
       "      <td>2018-10-08</td>\n",
       "      <td>1000</td>\n",
       "    </tr>\n",
       "    <tr>\n",
       "      <th>2</th>\n",
       "      <td>1000_2</td>\n",
       "      <td>2018-08-04</td>\n",
       "      <td>1000</td>\n",
       "    </tr>\n",
       "    <tr>\n",
       "      <th>3</th>\n",
       "      <td>1000_3</td>\n",
       "      <td>2018-06-16</td>\n",
       "      <td>1000</td>\n",
       "    </tr>\n",
       "    <tr>\n",
       "      <th>4</th>\n",
       "      <td>1000_4</td>\n",
       "      <td>2018-12-05</td>\n",
       "      <td>1000</td>\n",
       "    </tr>\n",
       "    <tr>\n",
       "      <th>5</th>\n",
       "      <td>1000_5</td>\n",
       "      <td>2018-06-20</td>\n",
       "      <td>1000</td>\n",
       "    </tr>\n",
       "    <tr>\n",
       "      <th>6</th>\n",
       "      <td>1000_6</td>\n",
       "      <td>2018-11-19</td>\n",
       "      <td>1000</td>\n",
       "    </tr>\n",
       "    <tr>\n",
       "      <th>7</th>\n",
       "      <td>1000_7</td>\n",
       "      <td>2018-10-29</td>\n",
       "      <td>1000</td>\n",
       "    </tr>\n",
       "    <tr>\n",
       "      <th>8</th>\n",
       "      <td>1000_8</td>\n",
       "      <td>2018-06-25</td>\n",
       "      <td>1000</td>\n",
       "    </tr>\n",
       "    <tr>\n",
       "      <th>9</th>\n",
       "      <td>1000_9</td>\n",
       "      <td>2018-12-18</td>\n",
       "      <td>1000</td>\n",
       "    </tr>\n",
       "  </tbody>\n",
       "</table>\n",
       "</div>"
      ],
      "text/plain": [
       "       id message_date  user_id\n",
       "0  1000_0   2018-06-27     1000\n",
       "1  1000_1   2018-10-08     1000\n",
       "2  1000_2   2018-08-04     1000\n",
       "3  1000_3   2018-06-16     1000\n",
       "4  1000_4   2018-12-05     1000\n",
       "5  1000_5   2018-06-20     1000\n",
       "6  1000_6   2018-11-19     1000\n",
       "7  1000_7   2018-10-29     1000\n",
       "8  1000_8   2018-06-25     1000\n",
       "9  1000_9   2018-12-18     1000"
      ]
     },
     "metadata": {},
     "output_type": "display_data"
    },
    {
     "data": {
      "text/html": [
       "<div>\n",
       "<style scoped>\n",
       "    .dataframe tbody tr th:only-of-type {\n",
       "        vertical-align: middle;\n",
       "    }\n",
       "\n",
       "    .dataframe tbody tr th {\n",
       "        vertical-align: top;\n",
       "    }\n",
       "\n",
       "    .dataframe thead th {\n",
       "        text-align: right;\n",
       "    }\n",
       "</style>\n",
       "<table border=\"1\" class=\"dataframe\">\n",
       "  <thead>\n",
       "    <tr style=\"text-align: right;\">\n",
       "      <th></th>\n",
       "      <th>id</th>\n",
       "      <th>message_date</th>\n",
       "      <th>user_id</th>\n",
       "    </tr>\n",
       "  </thead>\n",
       "  <tbody>\n",
       "    <tr>\n",
       "      <th>123026</th>\n",
       "      <td>1499_174</td>\n",
       "      <td>2018-12-14</td>\n",
       "      <td>1499</td>\n",
       "    </tr>\n",
       "    <tr>\n",
       "      <th>123027</th>\n",
       "      <td>1499_175</td>\n",
       "      <td>2018-10-09</td>\n",
       "      <td>1499</td>\n",
       "    </tr>\n",
       "    <tr>\n",
       "      <th>123028</th>\n",
       "      <td>1499_176</td>\n",
       "      <td>2018-12-17</td>\n",
       "      <td>1499</td>\n",
       "    </tr>\n",
       "    <tr>\n",
       "      <th>123029</th>\n",
       "      <td>1499_177</td>\n",
       "      <td>2018-12-30</td>\n",
       "      <td>1499</td>\n",
       "    </tr>\n",
       "    <tr>\n",
       "      <th>123030</th>\n",
       "      <td>1499_178</td>\n",
       "      <td>2018-10-25</td>\n",
       "      <td>1499</td>\n",
       "    </tr>\n",
       "    <tr>\n",
       "      <th>123031</th>\n",
       "      <td>1499_179</td>\n",
       "      <td>2018-12-12</td>\n",
       "      <td>1499</td>\n",
       "    </tr>\n",
       "    <tr>\n",
       "      <th>123032</th>\n",
       "      <td>1499_180</td>\n",
       "      <td>2018-09-28</td>\n",
       "      <td>1499</td>\n",
       "    </tr>\n",
       "    <tr>\n",
       "      <th>123033</th>\n",
       "      <td>1499_181</td>\n",
       "      <td>2018-09-27</td>\n",
       "      <td>1499</td>\n",
       "    </tr>\n",
       "    <tr>\n",
       "      <th>123034</th>\n",
       "      <td>1499_182</td>\n",
       "      <td>2018-11-15</td>\n",
       "      <td>1499</td>\n",
       "    </tr>\n",
       "    <tr>\n",
       "      <th>123035</th>\n",
       "      <td>1499_183</td>\n",
       "      <td>2018-11-16</td>\n",
       "      <td>1499</td>\n",
       "    </tr>\n",
       "  </tbody>\n",
       "</table>\n",
       "</div>"
      ],
      "text/plain": [
       "              id message_date  user_id\n",
       "123026  1499_174   2018-12-14     1499\n",
       "123027  1499_175   2018-10-09     1499\n",
       "123028  1499_176   2018-12-17     1499\n",
       "123029  1499_177   2018-12-30     1499\n",
       "123030  1499_178   2018-10-25     1499\n",
       "123031  1499_179   2018-12-12     1499\n",
       "123032  1499_180   2018-09-28     1499\n",
       "123033  1499_181   2018-09-27     1499\n",
       "123034  1499_182   2018-11-15     1499\n",
       "123035  1499_183   2018-11-16     1499"
      ]
     },
     "metadata": {},
     "output_type": "display_data"
    },
    {
     "data": {
      "text/html": [
       "<div>\n",
       "<style scoped>\n",
       "    .dataframe tbody tr th:only-of-type {\n",
       "        vertical-align: middle;\n",
       "    }\n",
       "\n",
       "    .dataframe tbody tr th {\n",
       "        vertical-align: top;\n",
       "    }\n",
       "\n",
       "    .dataframe thead th {\n",
       "        text-align: right;\n",
       "    }\n",
       "</style>\n",
       "<table border=\"1\" class=\"dataframe\">\n",
       "  <thead>\n",
       "    <tr style=\"text-align: right;\">\n",
       "      <th></th>\n",
       "      <th>user_id</th>\n",
       "    </tr>\n",
       "  </thead>\n",
       "  <tbody>\n",
       "    <tr>\n",
       "      <th>count</th>\n",
       "      <td>123036.000000</td>\n",
       "    </tr>\n",
       "    <tr>\n",
       "      <th>mean</th>\n",
       "      <td>1256.989410</td>\n",
       "    </tr>\n",
       "    <tr>\n",
       "      <th>std</th>\n",
       "      <td>143.523967</td>\n",
       "    </tr>\n",
       "    <tr>\n",
       "      <th>min</th>\n",
       "      <td>1000.000000</td>\n",
       "    </tr>\n",
       "    <tr>\n",
       "      <th>25%</th>\n",
       "      <td>1134.000000</td>\n",
       "    </tr>\n",
       "    <tr>\n",
       "      <th>50%</th>\n",
       "      <td>1271.000000</td>\n",
       "    </tr>\n",
       "    <tr>\n",
       "      <th>75%</th>\n",
       "      <td>1381.000000</td>\n",
       "    </tr>\n",
       "    <tr>\n",
       "      <th>max</th>\n",
       "      <td>1499.000000</td>\n",
       "    </tr>\n",
       "  </tbody>\n",
       "</table>\n",
       "</div>"
      ],
      "text/plain": [
       "             user_id\n",
       "count  123036.000000\n",
       "mean     1256.989410\n",
       "std       143.523967\n",
       "min      1000.000000\n",
       "25%      1134.000000\n",
       "50%      1271.000000\n",
       "75%      1381.000000\n",
       "max      1499.000000"
      ]
     },
     "metadata": {},
     "output_type": "display_data"
    },
    {
     "name": "stdout",
     "output_type": "stream",
     "text": [
      "<class 'pandas.core.frame.DataFrame'>\n",
      "RangeIndex: 123036 entries, 0 to 123035\n",
      "Data columns (total 3 columns):\n",
      " #   Column        Non-Null Count   Dtype \n",
      "---  ------        --------------   ----- \n",
      " 0   id            123036 non-null  object\n",
      " 1   message_date  123036 non-null  object\n",
      " 2   user_id       123036 non-null  int64 \n",
      "dtypes: int64(1), object(2)\n",
      "memory usage: 2.8+ MB\n"
     ]
    }
   ],
   "source": [
    "# Посмотрим информацию по таблице.\n",
    "table_info(messages)"
   ]
  },
  {
   "cell_type": "markdown",
   "metadata": {},
   "source": [
    "Пропусков в таблице `messages` не обнаружено. Требуется привести столбец `message_date` к формату datetime."
   ]
  },
  {
   "cell_type": "markdown",
   "metadata": {},
   "source": [
    "#### Рассмотрим таблицу `internet`."
   ]
  },
  {
   "cell_type": "code",
   "execution_count": 7,
   "metadata": {},
   "outputs": [
    {
     "data": {
      "text/html": [
       "<div>\n",
       "<style scoped>\n",
       "    .dataframe tbody tr th:only-of-type {\n",
       "        vertical-align: middle;\n",
       "    }\n",
       "\n",
       "    .dataframe tbody tr th {\n",
       "        vertical-align: top;\n",
       "    }\n",
       "\n",
       "    .dataframe thead th {\n",
       "        text-align: right;\n",
       "    }\n",
       "</style>\n",
       "<table border=\"1\" class=\"dataframe\">\n",
       "  <thead>\n",
       "    <tr style=\"text-align: right;\">\n",
       "      <th></th>\n",
       "      <th>Unnamed: 0</th>\n",
       "      <th>id</th>\n",
       "      <th>mb_used</th>\n",
       "      <th>session_date</th>\n",
       "      <th>user_id</th>\n",
       "    </tr>\n",
       "  </thead>\n",
       "  <tbody>\n",
       "    <tr>\n",
       "      <th>0</th>\n",
       "      <td>0</td>\n",
       "      <td>1000_0</td>\n",
       "      <td>112.95</td>\n",
       "      <td>2018-11-25</td>\n",
       "      <td>1000</td>\n",
       "    </tr>\n",
       "    <tr>\n",
       "      <th>1</th>\n",
       "      <td>1</td>\n",
       "      <td>1000_1</td>\n",
       "      <td>1052.81</td>\n",
       "      <td>2018-09-07</td>\n",
       "      <td>1000</td>\n",
       "    </tr>\n",
       "    <tr>\n",
       "      <th>2</th>\n",
       "      <td>2</td>\n",
       "      <td>1000_2</td>\n",
       "      <td>1197.26</td>\n",
       "      <td>2018-06-25</td>\n",
       "      <td>1000</td>\n",
       "    </tr>\n",
       "    <tr>\n",
       "      <th>3</th>\n",
       "      <td>3</td>\n",
       "      <td>1000_3</td>\n",
       "      <td>550.27</td>\n",
       "      <td>2018-08-22</td>\n",
       "      <td>1000</td>\n",
       "    </tr>\n",
       "    <tr>\n",
       "      <th>4</th>\n",
       "      <td>4</td>\n",
       "      <td>1000_4</td>\n",
       "      <td>302.56</td>\n",
       "      <td>2018-09-24</td>\n",
       "      <td>1000</td>\n",
       "    </tr>\n",
       "    <tr>\n",
       "      <th>5</th>\n",
       "      <td>5</td>\n",
       "      <td>1000_5</td>\n",
       "      <td>399.97</td>\n",
       "      <td>2018-10-02</td>\n",
       "      <td>1000</td>\n",
       "    </tr>\n",
       "    <tr>\n",
       "      <th>6</th>\n",
       "      <td>6</td>\n",
       "      <td>1000_6</td>\n",
       "      <td>540.08</td>\n",
       "      <td>2018-09-07</td>\n",
       "      <td>1000</td>\n",
       "    </tr>\n",
       "    <tr>\n",
       "      <th>7</th>\n",
       "      <td>7</td>\n",
       "      <td>1000_7</td>\n",
       "      <td>415.70</td>\n",
       "      <td>2018-07-11</td>\n",
       "      <td>1000</td>\n",
       "    </tr>\n",
       "    <tr>\n",
       "      <th>8</th>\n",
       "      <td>8</td>\n",
       "      <td>1000_8</td>\n",
       "      <td>505.40</td>\n",
       "      <td>2018-10-08</td>\n",
       "      <td>1000</td>\n",
       "    </tr>\n",
       "    <tr>\n",
       "      <th>9</th>\n",
       "      <td>9</td>\n",
       "      <td>1000_9</td>\n",
       "      <td>345.54</td>\n",
       "      <td>2018-09-03</td>\n",
       "      <td>1000</td>\n",
       "    </tr>\n",
       "  </tbody>\n",
       "</table>\n",
       "</div>"
      ],
      "text/plain": [
       "   Unnamed: 0      id  mb_used session_date  user_id\n",
       "0           0  1000_0   112.95   2018-11-25     1000\n",
       "1           1  1000_1  1052.81   2018-09-07     1000\n",
       "2           2  1000_2  1197.26   2018-06-25     1000\n",
       "3           3  1000_3   550.27   2018-08-22     1000\n",
       "4           4  1000_4   302.56   2018-09-24     1000\n",
       "5           5  1000_5   399.97   2018-10-02     1000\n",
       "6           6  1000_6   540.08   2018-09-07     1000\n",
       "7           7  1000_7   415.70   2018-07-11     1000\n",
       "8           8  1000_8   505.40   2018-10-08     1000\n",
       "9           9  1000_9   345.54   2018-09-03     1000"
      ]
     },
     "metadata": {},
     "output_type": "display_data"
    },
    {
     "data": {
      "text/html": [
       "<div>\n",
       "<style scoped>\n",
       "    .dataframe tbody tr th:only-of-type {\n",
       "        vertical-align: middle;\n",
       "    }\n",
       "\n",
       "    .dataframe tbody tr th {\n",
       "        vertical-align: top;\n",
       "    }\n",
       "\n",
       "    .dataframe thead th {\n",
       "        text-align: right;\n",
       "    }\n",
       "</style>\n",
       "<table border=\"1\" class=\"dataframe\">\n",
       "  <thead>\n",
       "    <tr style=\"text-align: right;\">\n",
       "      <th></th>\n",
       "      <th>Unnamed: 0</th>\n",
       "      <th>id</th>\n",
       "      <th>mb_used</th>\n",
       "      <th>session_date</th>\n",
       "      <th>user_id</th>\n",
       "    </tr>\n",
       "  </thead>\n",
       "  <tbody>\n",
       "    <tr>\n",
       "      <th>149386</th>\n",
       "      <td>149386</td>\n",
       "      <td>1499_147</td>\n",
       "      <td>0.00</td>\n",
       "      <td>2018-10-21</td>\n",
       "      <td>1499</td>\n",
       "    </tr>\n",
       "    <tr>\n",
       "      <th>149387</th>\n",
       "      <td>149387</td>\n",
       "      <td>1499_148</td>\n",
       "      <td>268.19</td>\n",
       "      <td>2018-11-13</td>\n",
       "      <td>1499</td>\n",
       "    </tr>\n",
       "    <tr>\n",
       "      <th>149388</th>\n",
       "      <td>149388</td>\n",
       "      <td>1499_149</td>\n",
       "      <td>778.68</td>\n",
       "      <td>2018-11-24</td>\n",
       "      <td>1499</td>\n",
       "    </tr>\n",
       "    <tr>\n",
       "      <th>149389</th>\n",
       "      <td>149389</td>\n",
       "      <td>1499_150</td>\n",
       "      <td>273.98</td>\n",
       "      <td>2018-11-20</td>\n",
       "      <td>1499</td>\n",
       "    </tr>\n",
       "    <tr>\n",
       "      <th>149390</th>\n",
       "      <td>149390</td>\n",
       "      <td>1499_151</td>\n",
       "      <td>752.72</td>\n",
       "      <td>2018-10-11</td>\n",
       "      <td>1499</td>\n",
       "    </tr>\n",
       "    <tr>\n",
       "      <th>149391</th>\n",
       "      <td>149391</td>\n",
       "      <td>1499_152</td>\n",
       "      <td>318.90</td>\n",
       "      <td>2018-10-03</td>\n",
       "      <td>1499</td>\n",
       "    </tr>\n",
       "    <tr>\n",
       "      <th>149392</th>\n",
       "      <td>149392</td>\n",
       "      <td>1499_153</td>\n",
       "      <td>490.13</td>\n",
       "      <td>2018-12-14</td>\n",
       "      <td>1499</td>\n",
       "    </tr>\n",
       "    <tr>\n",
       "      <th>149393</th>\n",
       "      <td>149393</td>\n",
       "      <td>1499_154</td>\n",
       "      <td>0.00</td>\n",
       "      <td>2018-10-27</td>\n",
       "      <td>1499</td>\n",
       "    </tr>\n",
       "    <tr>\n",
       "      <th>149394</th>\n",
       "      <td>149394</td>\n",
       "      <td>1499_155</td>\n",
       "      <td>1246.32</td>\n",
       "      <td>2018-11-26</td>\n",
       "      <td>1499</td>\n",
       "    </tr>\n",
       "    <tr>\n",
       "      <th>149395</th>\n",
       "      <td>149395</td>\n",
       "      <td>1499_156</td>\n",
       "      <td>544.37</td>\n",
       "      <td>2018-10-26</td>\n",
       "      <td>1499</td>\n",
       "    </tr>\n",
       "  </tbody>\n",
       "</table>\n",
       "</div>"
      ],
      "text/plain": [
       "        Unnamed: 0        id  mb_used session_date  user_id\n",
       "149386      149386  1499_147     0.00   2018-10-21     1499\n",
       "149387      149387  1499_148   268.19   2018-11-13     1499\n",
       "149388      149388  1499_149   778.68   2018-11-24     1499\n",
       "149389      149389  1499_150   273.98   2018-11-20     1499\n",
       "149390      149390  1499_151   752.72   2018-10-11     1499\n",
       "149391      149391  1499_152   318.90   2018-10-03     1499\n",
       "149392      149392  1499_153   490.13   2018-12-14     1499\n",
       "149393      149393  1499_154     0.00   2018-10-27     1499\n",
       "149394      149394  1499_155  1246.32   2018-11-26     1499\n",
       "149395      149395  1499_156   544.37   2018-10-26     1499"
      ]
     },
     "metadata": {},
     "output_type": "display_data"
    },
    {
     "data": {
      "text/html": [
       "<div>\n",
       "<style scoped>\n",
       "    .dataframe tbody tr th:only-of-type {\n",
       "        vertical-align: middle;\n",
       "    }\n",
       "\n",
       "    .dataframe tbody tr th {\n",
       "        vertical-align: top;\n",
       "    }\n",
       "\n",
       "    .dataframe thead th {\n",
       "        text-align: right;\n",
       "    }\n",
       "</style>\n",
       "<table border=\"1\" class=\"dataframe\">\n",
       "  <thead>\n",
       "    <tr style=\"text-align: right;\">\n",
       "      <th></th>\n",
       "      <th>Unnamed: 0</th>\n",
       "      <th>mb_used</th>\n",
       "      <th>user_id</th>\n",
       "    </tr>\n",
       "  </thead>\n",
       "  <tbody>\n",
       "    <tr>\n",
       "      <th>count</th>\n",
       "      <td>149396.000000</td>\n",
       "      <td>149396.000000</td>\n",
       "      <td>149396.000000</td>\n",
       "    </tr>\n",
       "    <tr>\n",
       "      <th>mean</th>\n",
       "      <td>74697.500000</td>\n",
       "      <td>370.192426</td>\n",
       "      <td>1252.099842</td>\n",
       "    </tr>\n",
       "    <tr>\n",
       "      <th>std</th>\n",
       "      <td>43127.054745</td>\n",
       "      <td>278.300951</td>\n",
       "      <td>144.050823</td>\n",
       "    </tr>\n",
       "    <tr>\n",
       "      <th>min</th>\n",
       "      <td>0.000000</td>\n",
       "      <td>0.000000</td>\n",
       "      <td>1000.000000</td>\n",
       "    </tr>\n",
       "    <tr>\n",
       "      <th>25%</th>\n",
       "      <td>37348.750000</td>\n",
       "      <td>138.187500</td>\n",
       "      <td>1130.000000</td>\n",
       "    </tr>\n",
       "    <tr>\n",
       "      <th>50%</th>\n",
       "      <td>74697.500000</td>\n",
       "      <td>348.015000</td>\n",
       "      <td>1251.000000</td>\n",
       "    </tr>\n",
       "    <tr>\n",
       "      <th>75%</th>\n",
       "      <td>112046.250000</td>\n",
       "      <td>559.552500</td>\n",
       "      <td>1380.000000</td>\n",
       "    </tr>\n",
       "    <tr>\n",
       "      <th>max</th>\n",
       "      <td>149395.000000</td>\n",
       "      <td>1724.830000</td>\n",
       "      <td>1499.000000</td>\n",
       "    </tr>\n",
       "  </tbody>\n",
       "</table>\n",
       "</div>"
      ],
      "text/plain": [
       "          Unnamed: 0        mb_used        user_id\n",
       "count  149396.000000  149396.000000  149396.000000\n",
       "mean    74697.500000     370.192426    1252.099842\n",
       "std     43127.054745     278.300951     144.050823\n",
       "min         0.000000       0.000000    1000.000000\n",
       "25%     37348.750000     138.187500    1130.000000\n",
       "50%     74697.500000     348.015000    1251.000000\n",
       "75%    112046.250000     559.552500    1380.000000\n",
       "max    149395.000000    1724.830000    1499.000000"
      ]
     },
     "metadata": {},
     "output_type": "display_data"
    },
    {
     "name": "stdout",
     "output_type": "stream",
     "text": [
      "<class 'pandas.core.frame.DataFrame'>\n",
      "RangeIndex: 149396 entries, 0 to 149395\n",
      "Data columns (total 5 columns):\n",
      " #   Column        Non-Null Count   Dtype  \n",
      "---  ------        --------------   -----  \n",
      " 0   Unnamed: 0    149396 non-null  int64  \n",
      " 1   id            149396 non-null  object \n",
      " 2   mb_used       149396 non-null  float64\n",
      " 3   session_date  149396 non-null  object \n",
      " 4   user_id       149396 non-null  int64  \n",
      "dtypes: float64(1), int64(2), object(2)\n",
      "memory usage: 5.7+ MB\n"
     ]
    }
   ],
   "source": [
    "# Посмотрим информацию по таблице.\n",
    "table_info(internet)"
   ]
  },
  {
   "cell_type": "markdown",
   "metadata": {},
   "source": [
    "Пропусков в таблице `internet` не обнаружено. Требуется привести столбец `session_date` к формату datetime. Округлять данные до целого вверх в столбце `mb_used` не будем, т.к. одельные сессии не тарифицируются, округляется вверх общая сумма расхода трафика за месяц. Тарификация идет в гигабайтах, так что нужно будет перевести значения в столбце `mb_used` в гигабайты и переименовать столбец. Думаю нужно будет удалить сессии с нулевым трафиком, они нам не понадобятся. Не понятно что за столбец `Unnamed: 0`, его описания нет, больше похоже на копию индекса таблицы, думаю его можно будет удалить."
   ]
  },
  {
   "cell_type": "markdown",
   "metadata": {},
   "source": [
    "#### Рассмотрим таблицу `tariffs`."
   ]
  },
  {
   "cell_type": "code",
   "execution_count": 8,
   "metadata": {},
   "outputs": [
    {
     "data": {
      "text/html": [
       "<div>\n",
       "<style scoped>\n",
       "    .dataframe tbody tr th:only-of-type {\n",
       "        vertical-align: middle;\n",
       "    }\n",
       "\n",
       "    .dataframe tbody tr th {\n",
       "        vertical-align: top;\n",
       "    }\n",
       "\n",
       "    .dataframe thead th {\n",
       "        text-align: right;\n",
       "    }\n",
       "</style>\n",
       "<table border=\"1\" class=\"dataframe\">\n",
       "  <thead>\n",
       "    <tr style=\"text-align: right;\">\n",
       "      <th></th>\n",
       "      <th>messages_included</th>\n",
       "      <th>mb_per_month_included</th>\n",
       "      <th>minutes_included</th>\n",
       "      <th>rub_monthly_fee</th>\n",
       "      <th>rub_per_gb</th>\n",
       "      <th>rub_per_message</th>\n",
       "      <th>rub_per_minute</th>\n",
       "      <th>tariff_name</th>\n",
       "    </tr>\n",
       "  </thead>\n",
       "  <tbody>\n",
       "    <tr>\n",
       "      <th>0</th>\n",
       "      <td>50</td>\n",
       "      <td>15360</td>\n",
       "      <td>500</td>\n",
       "      <td>550</td>\n",
       "      <td>200</td>\n",
       "      <td>3</td>\n",
       "      <td>3</td>\n",
       "      <td>smart</td>\n",
       "    </tr>\n",
       "    <tr>\n",
       "      <th>1</th>\n",
       "      <td>1000</td>\n",
       "      <td>30720</td>\n",
       "      <td>3000</td>\n",
       "      <td>1950</td>\n",
       "      <td>150</td>\n",
       "      <td>1</td>\n",
       "      <td>1</td>\n",
       "      <td>ultra</td>\n",
       "    </tr>\n",
       "  </tbody>\n",
       "</table>\n",
       "</div>"
      ],
      "text/plain": [
       "   messages_included  mb_per_month_included  minutes_included  \\\n",
       "0                 50                  15360               500   \n",
       "1               1000                  30720              3000   \n",
       "\n",
       "   rub_monthly_fee  rub_per_gb  rub_per_message  rub_per_minute tariff_name  \n",
       "0              550         200                3               3       smart  \n",
       "1             1950         150                1               1       ultra  "
      ]
     },
     "metadata": {},
     "output_type": "display_data"
    },
    {
     "data": {
      "text/html": [
       "<div>\n",
       "<style scoped>\n",
       "    .dataframe tbody tr th:only-of-type {\n",
       "        vertical-align: middle;\n",
       "    }\n",
       "\n",
       "    .dataframe tbody tr th {\n",
       "        vertical-align: top;\n",
       "    }\n",
       "\n",
       "    .dataframe thead th {\n",
       "        text-align: right;\n",
       "    }\n",
       "</style>\n",
       "<table border=\"1\" class=\"dataframe\">\n",
       "  <thead>\n",
       "    <tr style=\"text-align: right;\">\n",
       "      <th></th>\n",
       "      <th>messages_included</th>\n",
       "      <th>mb_per_month_included</th>\n",
       "      <th>minutes_included</th>\n",
       "      <th>rub_monthly_fee</th>\n",
       "      <th>rub_per_gb</th>\n",
       "      <th>rub_per_message</th>\n",
       "      <th>rub_per_minute</th>\n",
       "      <th>tariff_name</th>\n",
       "    </tr>\n",
       "  </thead>\n",
       "  <tbody>\n",
       "    <tr>\n",
       "      <th>0</th>\n",
       "      <td>50</td>\n",
       "      <td>15360</td>\n",
       "      <td>500</td>\n",
       "      <td>550</td>\n",
       "      <td>200</td>\n",
       "      <td>3</td>\n",
       "      <td>3</td>\n",
       "      <td>smart</td>\n",
       "    </tr>\n",
       "    <tr>\n",
       "      <th>1</th>\n",
       "      <td>1000</td>\n",
       "      <td>30720</td>\n",
       "      <td>3000</td>\n",
       "      <td>1950</td>\n",
       "      <td>150</td>\n",
       "      <td>1</td>\n",
       "      <td>1</td>\n",
       "      <td>ultra</td>\n",
       "    </tr>\n",
       "  </tbody>\n",
       "</table>\n",
       "</div>"
      ],
      "text/plain": [
       "   messages_included  mb_per_month_included  minutes_included  \\\n",
       "0                 50                  15360               500   \n",
       "1               1000                  30720              3000   \n",
       "\n",
       "   rub_monthly_fee  rub_per_gb  rub_per_message  rub_per_minute tariff_name  \n",
       "0              550         200                3               3       smart  \n",
       "1             1950         150                1               1       ultra  "
      ]
     },
     "metadata": {},
     "output_type": "display_data"
    },
    {
     "data": {
      "text/html": [
       "<div>\n",
       "<style scoped>\n",
       "    .dataframe tbody tr th:only-of-type {\n",
       "        vertical-align: middle;\n",
       "    }\n",
       "\n",
       "    .dataframe tbody tr th {\n",
       "        vertical-align: top;\n",
       "    }\n",
       "\n",
       "    .dataframe thead th {\n",
       "        text-align: right;\n",
       "    }\n",
       "</style>\n",
       "<table border=\"1\" class=\"dataframe\">\n",
       "  <thead>\n",
       "    <tr style=\"text-align: right;\">\n",
       "      <th></th>\n",
       "      <th>messages_included</th>\n",
       "      <th>mb_per_month_included</th>\n",
       "      <th>minutes_included</th>\n",
       "      <th>rub_monthly_fee</th>\n",
       "      <th>rub_per_gb</th>\n",
       "      <th>rub_per_message</th>\n",
       "      <th>rub_per_minute</th>\n",
       "    </tr>\n",
       "  </thead>\n",
       "  <tbody>\n",
       "    <tr>\n",
       "      <th>count</th>\n",
       "      <td>2.000000</td>\n",
       "      <td>2.000000</td>\n",
       "      <td>2.000000</td>\n",
       "      <td>2.000000</td>\n",
       "      <td>2.000000</td>\n",
       "      <td>2.000000</td>\n",
       "      <td>2.000000</td>\n",
       "    </tr>\n",
       "    <tr>\n",
       "      <th>mean</th>\n",
       "      <td>525.000000</td>\n",
       "      <td>23040.000000</td>\n",
       "      <td>1750.000000</td>\n",
       "      <td>1250.000000</td>\n",
       "      <td>175.000000</td>\n",
       "      <td>2.000000</td>\n",
       "      <td>2.000000</td>\n",
       "    </tr>\n",
       "    <tr>\n",
       "      <th>std</th>\n",
       "      <td>671.751442</td>\n",
       "      <td>10861.160159</td>\n",
       "      <td>1767.766953</td>\n",
       "      <td>989.949494</td>\n",
       "      <td>35.355339</td>\n",
       "      <td>1.414214</td>\n",
       "      <td>1.414214</td>\n",
       "    </tr>\n",
       "    <tr>\n",
       "      <th>min</th>\n",
       "      <td>50.000000</td>\n",
       "      <td>15360.000000</td>\n",
       "      <td>500.000000</td>\n",
       "      <td>550.000000</td>\n",
       "      <td>150.000000</td>\n",
       "      <td>1.000000</td>\n",
       "      <td>1.000000</td>\n",
       "    </tr>\n",
       "    <tr>\n",
       "      <th>25%</th>\n",
       "      <td>287.500000</td>\n",
       "      <td>19200.000000</td>\n",
       "      <td>1125.000000</td>\n",
       "      <td>900.000000</td>\n",
       "      <td>162.500000</td>\n",
       "      <td>1.500000</td>\n",
       "      <td>1.500000</td>\n",
       "    </tr>\n",
       "    <tr>\n",
       "      <th>50%</th>\n",
       "      <td>525.000000</td>\n",
       "      <td>23040.000000</td>\n",
       "      <td>1750.000000</td>\n",
       "      <td>1250.000000</td>\n",
       "      <td>175.000000</td>\n",
       "      <td>2.000000</td>\n",
       "      <td>2.000000</td>\n",
       "    </tr>\n",
       "    <tr>\n",
       "      <th>75%</th>\n",
       "      <td>762.500000</td>\n",
       "      <td>26880.000000</td>\n",
       "      <td>2375.000000</td>\n",
       "      <td>1600.000000</td>\n",
       "      <td>187.500000</td>\n",
       "      <td>2.500000</td>\n",
       "      <td>2.500000</td>\n",
       "    </tr>\n",
       "    <tr>\n",
       "      <th>max</th>\n",
       "      <td>1000.000000</td>\n",
       "      <td>30720.000000</td>\n",
       "      <td>3000.000000</td>\n",
       "      <td>1950.000000</td>\n",
       "      <td>200.000000</td>\n",
       "      <td>3.000000</td>\n",
       "      <td>3.000000</td>\n",
       "    </tr>\n",
       "  </tbody>\n",
       "</table>\n",
       "</div>"
      ],
      "text/plain": [
       "       messages_included  mb_per_month_included  minutes_included  \\\n",
       "count           2.000000               2.000000          2.000000   \n",
       "mean          525.000000           23040.000000       1750.000000   \n",
       "std           671.751442           10861.160159       1767.766953   \n",
       "min            50.000000           15360.000000        500.000000   \n",
       "25%           287.500000           19200.000000       1125.000000   \n",
       "50%           525.000000           23040.000000       1750.000000   \n",
       "75%           762.500000           26880.000000       2375.000000   \n",
       "max          1000.000000           30720.000000       3000.000000   \n",
       "\n",
       "       rub_monthly_fee  rub_per_gb  rub_per_message  rub_per_minute  \n",
       "count         2.000000    2.000000         2.000000        2.000000  \n",
       "mean       1250.000000  175.000000         2.000000        2.000000  \n",
       "std         989.949494   35.355339         1.414214        1.414214  \n",
       "min         550.000000  150.000000         1.000000        1.000000  \n",
       "25%         900.000000  162.500000         1.500000        1.500000  \n",
       "50%        1250.000000  175.000000         2.000000        2.000000  \n",
       "75%        1600.000000  187.500000         2.500000        2.500000  \n",
       "max        1950.000000  200.000000         3.000000        3.000000  "
      ]
     },
     "metadata": {},
     "output_type": "display_data"
    },
    {
     "name": "stdout",
     "output_type": "stream",
     "text": [
      "<class 'pandas.core.frame.DataFrame'>\n",
      "RangeIndex: 2 entries, 0 to 1\n",
      "Data columns (total 8 columns):\n",
      " #   Column                 Non-Null Count  Dtype \n",
      "---  ------                 --------------  ----- \n",
      " 0   messages_included      2 non-null      int64 \n",
      " 1   mb_per_month_included  2 non-null      int64 \n",
      " 2   minutes_included       2 non-null      int64 \n",
      " 3   rub_monthly_fee        2 non-null      int64 \n",
      " 4   rub_per_gb             2 non-null      int64 \n",
      " 5   rub_per_message        2 non-null      int64 \n",
      " 6   rub_per_minute         2 non-null      int64 \n",
      " 7   tariff_name            2 non-null      object\n",
      "dtypes: int64(7), object(1)\n",
      "memory usage: 256.0+ bytes\n"
     ]
    }
   ],
   "source": [
    "# Посмотрим информацию по таблице.\n",
    "table_info(tariffs)"
   ]
  },
  {
   "cell_type": "markdown",
   "metadata": {},
   "source": [
    "С таблицей `tariffs` все впорядке. Для удобства можно перевести мегабайты в столбце `mb_per_month_included` в гигабайты и переименовать столбец."
   ]
  },
  {
   "cell_type": "markdown",
   "metadata": {},
   "source": [
    "### Вывод по разделу \"Изучение данных из файлов\"."
   ]
  },
  {
   "cell_type": "markdown",
   "metadata": {},
   "source": [
    "**Таблица `users`.**\n",
    "- Привести столбцы `churn_date` и `reg_date` к формату datetime.\n",
    "\n",
    "**Таблица `calls`.**\n",
    "- Привести столбец `call_date` к формату datetime.\n",
    "- Округлить значения в столбце `duration` до целого вверх.\n",
    "\n",
    "**Таблица `messages`.**\n",
    "- Привести столбец `message_date` к формату datetime.\n",
    "\n",
    "**Таблица `internet`.**\n",
    "- Привести столбец `session_date` к формату datetime.\n",
    "- Удалить строки с нулевыми значениями в столбце `mb_used` - отдельные сессии для web трафика не считаются, считается общий трафик за месяц, в исследовании сессии с нулевым трафиком нам не нужны.\n",
    "- Перевести значения в столбце `mb_used` из мегабайт в гигабайты и переименовать столбец.\n",
    "- Удалить столбец `Unnamed: 0`.\n",
    "\n",
    "**Таблица `tariffs`.**\n",
    "- Перевести мегабайты в столбце `mb_per_month_included` в гигабайты и переименовать столбцы `mb_per_month_included` `tariff_name` для единообразия."
   ]
  },
  {
   "cell_type": "markdown",
   "metadata": {},
   "source": [
    "## Подготовка данных к анализу."
   ]
  },
  {
   "cell_type": "markdown",
   "metadata": {},
   "source": [
    "### Приведение данных в таблицах к нужным типам, исправление ошибок."
   ]
  },
  {
   "cell_type": "markdown",
   "metadata": {},
   "source": [
    "#### Обработка данных в таблице `users`."
   ]
  },
  {
   "cell_type": "markdown",
   "metadata": {},
   "source": [
    "Приведем столбцы `churn_date` и `reg_date` к формату datetime."
   ]
  },
  {
   "cell_type": "code",
   "execution_count": 9,
   "metadata": {},
   "outputs": [],
   "source": [
    "# Приведем столбцы к формату datetime.\n",
    "users['churn_date'] = pd.to_datetime(users['churn_date'], format=\"%Y-%m-%d\")\n",
    "users['reg_date'] = pd.to_datetime(users['reg_date'], format=\"%Y-%m-%d\")"
   ]
  },
  {
   "cell_type": "code",
   "execution_count": 10,
   "metadata": {},
   "outputs": [
    {
     "data": {
      "text/html": [
       "<div>\n",
       "<style scoped>\n",
       "    .dataframe tbody tr th:only-of-type {\n",
       "        vertical-align: middle;\n",
       "    }\n",
       "\n",
       "    .dataframe tbody tr th {\n",
       "        vertical-align: top;\n",
       "    }\n",
       "\n",
       "    .dataframe thead th {\n",
       "        text-align: right;\n",
       "    }\n",
       "</style>\n",
       "<table border=\"1\" class=\"dataframe\">\n",
       "  <thead>\n",
       "    <tr style=\"text-align: right;\">\n",
       "      <th></th>\n",
       "      <th>user_id</th>\n",
       "      <th>age</th>\n",
       "      <th>churn_date</th>\n",
       "      <th>city</th>\n",
       "      <th>first_name</th>\n",
       "      <th>last_name</th>\n",
       "      <th>reg_date</th>\n",
       "      <th>tariff</th>\n",
       "    </tr>\n",
       "  </thead>\n",
       "  <tbody>\n",
       "    <tr>\n",
       "      <th>495</th>\n",
       "      <td>1495</td>\n",
       "      <td>65</td>\n",
       "      <td>NaT</td>\n",
       "      <td>Иркутск</td>\n",
       "      <td>Авксентий</td>\n",
       "      <td>Фокин</td>\n",
       "      <td>2018-08-28</td>\n",
       "      <td>ultra</td>\n",
       "    </tr>\n",
       "    <tr>\n",
       "      <th>496</th>\n",
       "      <td>1496</td>\n",
       "      <td>36</td>\n",
       "      <td>NaT</td>\n",
       "      <td>Вологда</td>\n",
       "      <td>Трифон</td>\n",
       "      <td>Блохин</td>\n",
       "      <td>2018-01-27</td>\n",
       "      <td>smart</td>\n",
       "    </tr>\n",
       "    <tr>\n",
       "      <th>497</th>\n",
       "      <td>1497</td>\n",
       "      <td>32</td>\n",
       "      <td>NaT</td>\n",
       "      <td>Челябинск</td>\n",
       "      <td>Каролина</td>\n",
       "      <td>Агеева</td>\n",
       "      <td>2018-10-09</td>\n",
       "      <td>smart</td>\n",
       "    </tr>\n",
       "    <tr>\n",
       "      <th>498</th>\n",
       "      <td>1498</td>\n",
       "      <td>68</td>\n",
       "      <td>2018-10-25</td>\n",
       "      <td>Владикавказ</td>\n",
       "      <td>Всеволод</td>\n",
       "      <td>Акимчин</td>\n",
       "      <td>2018-07-19</td>\n",
       "      <td>smart</td>\n",
       "    </tr>\n",
       "    <tr>\n",
       "      <th>499</th>\n",
       "      <td>1499</td>\n",
       "      <td>35</td>\n",
       "      <td>NaT</td>\n",
       "      <td>Пермь</td>\n",
       "      <td>Гектор</td>\n",
       "      <td>Корнилов</td>\n",
       "      <td>2018-09-27</td>\n",
       "      <td>smart</td>\n",
       "    </tr>\n",
       "  </tbody>\n",
       "</table>\n",
       "</div>"
      ],
      "text/plain": [
       "     user_id  age churn_date         city first_name last_name   reg_date  \\\n",
       "495     1495   65        NaT      Иркутск  Авксентий     Фокин 2018-08-28   \n",
       "496     1496   36        NaT      Вологда     Трифон    Блохин 2018-01-27   \n",
       "497     1497   32        NaT    Челябинск   Каролина    Агеева 2018-10-09   \n",
       "498     1498   68 2018-10-25  Владикавказ   Всеволод   Акимчин 2018-07-19   \n",
       "499     1499   35        NaT        Пермь     Гектор  Корнилов 2018-09-27   \n",
       "\n",
       "    tariff  \n",
       "495  ultra  \n",
       "496  smart  \n",
       "497  smart  \n",
       "498  smart  \n",
       "499  smart  "
      ]
     },
     "execution_count": 10,
     "metadata": {},
     "output_type": "execute_result"
    }
   ],
   "source": [
    "# Посмотрим последние 5 записей, т.к. там была дата в столбце churn_date\n",
    "users.tail()"
   ]
  },
  {
   "cell_type": "code",
   "execution_count": 11,
   "metadata": {},
   "outputs": [
    {
     "name": "stdout",
     "output_type": "stream",
     "text": [
      "<class 'pandas.core.frame.DataFrame'>\n",
      "RangeIndex: 500 entries, 0 to 499\n",
      "Data columns (total 8 columns):\n",
      " #   Column      Non-Null Count  Dtype         \n",
      "---  ------      --------------  -----         \n",
      " 0   user_id     500 non-null    int64         \n",
      " 1   age         500 non-null    int64         \n",
      " 2   churn_date  38 non-null     datetime64[ns]\n",
      " 3   city        500 non-null    object        \n",
      " 4   first_name  500 non-null    object        \n",
      " 5   last_name   500 non-null    object        \n",
      " 6   reg_date    500 non-null    datetime64[ns]\n",
      " 7   tariff      500 non-null    object        \n",
      "dtypes: datetime64[ns](2), int64(2), object(4)\n",
      "memory usage: 31.4+ KB\n"
     ]
    }
   ],
   "source": [
    "# Посмотрим информацию по таблице после изменений.\n",
    "users.info()"
   ]
  },
  {
   "cell_type": "markdown",
   "metadata": {},
   "source": [
    "Поправили данные в таблице `users`."
   ]
  },
  {
   "cell_type": "markdown",
   "metadata": {},
   "source": [
    "#### Обработка данных в таблице `calls`."
   ]
  },
  {
   "cell_type": "markdown",
   "metadata": {},
   "source": [
    "Приведем столбец `call_date` к формату datetime. Округлим значения в столбце `duration` до целого вверх."
   ]
  },
  {
   "cell_type": "code",
   "execution_count": 12,
   "metadata": {},
   "outputs": [],
   "source": [
    "# Приведем столбец call_date к формату datetime\n",
    "calls['call_date'] = pd.to_datetime(calls['call_date'], format=\"%Y-%m-%d\")"
   ]
  },
  {
   "cell_type": "code",
   "execution_count": 13,
   "metadata": {},
   "outputs": [],
   "source": [
    "# Округлим данные в столбце duration вверх, приведем к формату int.\n",
    "calls['duration'] = calls['duration'].apply(np.ceil).astype('int')"
   ]
  },
  {
   "cell_type": "code",
   "execution_count": 14,
   "metadata": {},
   "outputs": [
    {
     "data": {
      "text/html": [
       "<div>\n",
       "<style scoped>\n",
       "    .dataframe tbody tr th:only-of-type {\n",
       "        vertical-align: middle;\n",
       "    }\n",
       "\n",
       "    .dataframe tbody tr th {\n",
       "        vertical-align: top;\n",
       "    }\n",
       "\n",
       "    .dataframe thead th {\n",
       "        text-align: right;\n",
       "    }\n",
       "</style>\n",
       "<table border=\"1\" class=\"dataframe\">\n",
       "  <thead>\n",
       "    <tr style=\"text-align: right;\">\n",
       "      <th></th>\n",
       "      <th>id</th>\n",
       "      <th>call_date</th>\n",
       "      <th>duration</th>\n",
       "      <th>user_id</th>\n",
       "    </tr>\n",
       "  </thead>\n",
       "  <tbody>\n",
       "    <tr>\n",
       "      <th>0</th>\n",
       "      <td>1000_0</td>\n",
       "      <td>2018-07-25</td>\n",
       "      <td>0</td>\n",
       "      <td>1000</td>\n",
       "    </tr>\n",
       "    <tr>\n",
       "      <th>1</th>\n",
       "      <td>1000_1</td>\n",
       "      <td>2018-08-17</td>\n",
       "      <td>0</td>\n",
       "      <td>1000</td>\n",
       "    </tr>\n",
       "    <tr>\n",
       "      <th>2</th>\n",
       "      <td>1000_2</td>\n",
       "      <td>2018-06-11</td>\n",
       "      <td>3</td>\n",
       "      <td>1000</td>\n",
       "    </tr>\n",
       "    <tr>\n",
       "      <th>3</th>\n",
       "      <td>1000_3</td>\n",
       "      <td>2018-09-21</td>\n",
       "      <td>14</td>\n",
       "      <td>1000</td>\n",
       "    </tr>\n",
       "    <tr>\n",
       "      <th>4</th>\n",
       "      <td>1000_4</td>\n",
       "      <td>2018-12-15</td>\n",
       "      <td>6</td>\n",
       "      <td>1000</td>\n",
       "    </tr>\n",
       "  </tbody>\n",
       "</table>\n",
       "</div>"
      ],
      "text/plain": [
       "       id  call_date  duration  user_id\n",
       "0  1000_0 2018-07-25         0     1000\n",
       "1  1000_1 2018-08-17         0     1000\n",
       "2  1000_2 2018-06-11         3     1000\n",
       "3  1000_3 2018-09-21        14     1000\n",
       "4  1000_4 2018-12-15         6     1000"
      ]
     },
     "execution_count": 14,
     "metadata": {},
     "output_type": "execute_result"
    }
   ],
   "source": [
    "# Посмотрим данные в таблице после изменений.\n",
    "calls.head()"
   ]
  },
  {
   "cell_type": "code",
   "execution_count": 15,
   "metadata": {},
   "outputs": [
    {
     "name": "stdout",
     "output_type": "stream",
     "text": [
      "<class 'pandas.core.frame.DataFrame'>\n",
      "RangeIndex: 202607 entries, 0 to 202606\n",
      "Data columns (total 4 columns):\n",
      " #   Column     Non-Null Count   Dtype         \n",
      "---  ------     --------------   -----         \n",
      " 0   id         202607 non-null  object        \n",
      " 1   call_date  202607 non-null  datetime64[ns]\n",
      " 2   duration   202607 non-null  int64         \n",
      " 3   user_id    202607 non-null  int64         \n",
      "dtypes: datetime64[ns](1), int64(2), object(1)\n",
      "memory usage: 6.2+ MB\n"
     ]
    }
   ],
   "source": [
    "# Выведем информацию о таблице.\n",
    "calls.info()"
   ]
  },
  {
   "cell_type": "markdown",
   "metadata": {},
   "source": [
    "Поправили данные в таблице `calls`. Строки с нулевыми значениями продолжительности звонков удалять не стали т.к. в дальнейшем исследовании нам понадобятся данные о количестве звонков."
   ]
  },
  {
   "cell_type": "markdown",
   "metadata": {},
   "source": [
    "#### Обработка данных в таблице `messages`."
   ]
  },
  {
   "cell_type": "markdown",
   "metadata": {},
   "source": [
    "Приведем столбец `message_date` к формату datetime."
   ]
  },
  {
   "cell_type": "code",
   "execution_count": 16,
   "metadata": {},
   "outputs": [],
   "source": [
    "# Приведем столбец message_date к формату datetime\n",
    "messages['message_date'] = pd.to_datetime(messages['message_date'], format=\"%Y-%m-%d\")"
   ]
  },
  {
   "cell_type": "code",
   "execution_count": 17,
   "metadata": {},
   "outputs": [
    {
     "data": {
      "text/html": [
       "<div>\n",
       "<style scoped>\n",
       "    .dataframe tbody tr th:only-of-type {\n",
       "        vertical-align: middle;\n",
       "    }\n",
       "\n",
       "    .dataframe tbody tr th {\n",
       "        vertical-align: top;\n",
       "    }\n",
       "\n",
       "    .dataframe thead th {\n",
       "        text-align: right;\n",
       "    }\n",
       "</style>\n",
       "<table border=\"1\" class=\"dataframe\">\n",
       "  <thead>\n",
       "    <tr style=\"text-align: right;\">\n",
       "      <th></th>\n",
       "      <th>id</th>\n",
       "      <th>message_date</th>\n",
       "      <th>user_id</th>\n",
       "    </tr>\n",
       "  </thead>\n",
       "  <tbody>\n",
       "    <tr>\n",
       "      <th>0</th>\n",
       "      <td>1000_0</td>\n",
       "      <td>2018-06-27</td>\n",
       "      <td>1000</td>\n",
       "    </tr>\n",
       "    <tr>\n",
       "      <th>1</th>\n",
       "      <td>1000_1</td>\n",
       "      <td>2018-10-08</td>\n",
       "      <td>1000</td>\n",
       "    </tr>\n",
       "    <tr>\n",
       "      <th>2</th>\n",
       "      <td>1000_2</td>\n",
       "      <td>2018-08-04</td>\n",
       "      <td>1000</td>\n",
       "    </tr>\n",
       "    <tr>\n",
       "      <th>3</th>\n",
       "      <td>1000_3</td>\n",
       "      <td>2018-06-16</td>\n",
       "      <td>1000</td>\n",
       "    </tr>\n",
       "    <tr>\n",
       "      <th>4</th>\n",
       "      <td>1000_4</td>\n",
       "      <td>2018-12-05</td>\n",
       "      <td>1000</td>\n",
       "    </tr>\n",
       "  </tbody>\n",
       "</table>\n",
       "</div>"
      ],
      "text/plain": [
       "       id message_date  user_id\n",
       "0  1000_0   2018-06-27     1000\n",
       "1  1000_1   2018-10-08     1000\n",
       "2  1000_2   2018-08-04     1000\n",
       "3  1000_3   2018-06-16     1000\n",
       "4  1000_4   2018-12-05     1000"
      ]
     },
     "execution_count": 17,
     "metadata": {},
     "output_type": "execute_result"
    }
   ],
   "source": [
    "# Посмотрим данные в таблице после изменений.\n",
    "messages.head()"
   ]
  },
  {
   "cell_type": "code",
   "execution_count": 18,
   "metadata": {},
   "outputs": [
    {
     "name": "stdout",
     "output_type": "stream",
     "text": [
      "<class 'pandas.core.frame.DataFrame'>\n",
      "RangeIndex: 123036 entries, 0 to 123035\n",
      "Data columns (total 3 columns):\n",
      " #   Column        Non-Null Count   Dtype         \n",
      "---  ------        --------------   -----         \n",
      " 0   id            123036 non-null  object        \n",
      " 1   message_date  123036 non-null  datetime64[ns]\n",
      " 2   user_id       123036 non-null  int64         \n",
      "dtypes: datetime64[ns](1), int64(1), object(1)\n",
      "memory usage: 2.8+ MB\n"
     ]
    }
   ],
   "source": [
    "# Выведем информацию о таблице.\n",
    "messages.info()"
   ]
  },
  {
   "cell_type": "markdown",
   "metadata": {},
   "source": [
    "Поправили данные в таблице `messages`."
   ]
  },
  {
   "cell_type": "markdown",
   "metadata": {},
   "source": [
    "#### Обработка данных в таблице `internet`."
   ]
  },
  {
   "cell_type": "markdown",
   "metadata": {},
   "source": [
    "Приведем столбец `session_date` к формату datetime. Удалим строки с нулевыми значениями в столбце `mb_used`. Переведем значения в столбце `mb_used` из мегабайт в гигабайты и переименуем столбец. Удалим столбец `Unnamed: 0`."
   ]
  },
  {
   "cell_type": "code",
   "execution_count": 19,
   "metadata": {},
   "outputs": [],
   "source": [
    "# Приведем столбец session_date к формату datetime\n",
    "internet['session_date'] = pd.to_datetime(internet['session_date'], format=\"%Y-%m-%d\")"
   ]
  },
  {
   "cell_type": "code",
   "execution_count": 20,
   "metadata": {},
   "outputs": [
    {
     "data": {
      "text/html": [
       "<div>\n",
       "<style scoped>\n",
       "    .dataframe tbody tr th:only-of-type {\n",
       "        vertical-align: middle;\n",
       "    }\n",
       "\n",
       "    .dataframe tbody tr th {\n",
       "        vertical-align: top;\n",
       "    }\n",
       "\n",
       "    .dataframe thead th {\n",
       "        text-align: right;\n",
       "    }\n",
       "</style>\n",
       "<table border=\"1\" class=\"dataframe\">\n",
       "  <thead>\n",
       "    <tr style=\"text-align: right;\">\n",
       "      <th></th>\n",
       "      <th>Unnamed: 0</th>\n",
       "      <th>id</th>\n",
       "      <th>mb_used</th>\n",
       "      <th>session_date</th>\n",
       "      <th>user_id</th>\n",
       "    </tr>\n",
       "  </thead>\n",
       "  <tbody>\n",
       "    <tr>\n",
       "      <th>11</th>\n",
       "      <td>11</td>\n",
       "      <td>1000_11</td>\n",
       "      <td>0.0</td>\n",
       "      <td>2018-08-28</td>\n",
       "      <td>1000</td>\n",
       "    </tr>\n",
       "    <tr>\n",
       "      <th>38</th>\n",
       "      <td>38</td>\n",
       "      <td>1000_38</td>\n",
       "      <td>0.0</td>\n",
       "      <td>2018-11-27</td>\n",
       "      <td>1000</td>\n",
       "    </tr>\n",
       "    <tr>\n",
       "      <th>46</th>\n",
       "      <td>46</td>\n",
       "      <td>1000_46</td>\n",
       "      <td>0.0</td>\n",
       "      <td>2018-06-30</td>\n",
       "      <td>1000</td>\n",
       "    </tr>\n",
       "    <tr>\n",
       "      <th>67</th>\n",
       "      <td>67</td>\n",
       "      <td>1000_67</td>\n",
       "      <td>0.0</td>\n",
       "      <td>2018-06-16</td>\n",
       "      <td>1000</td>\n",
       "    </tr>\n",
       "    <tr>\n",
       "      <th>72</th>\n",
       "      <td>72</td>\n",
       "      <td>1000_72</td>\n",
       "      <td>0.0</td>\n",
       "      <td>2018-06-15</td>\n",
       "      <td>1000</td>\n",
       "    </tr>\n",
       "    <tr>\n",
       "      <th>...</th>\n",
       "      <td>...</td>\n",
       "      <td>...</td>\n",
       "      <td>...</td>\n",
       "      <td>...</td>\n",
       "      <td>...</td>\n",
       "    </tr>\n",
       "    <tr>\n",
       "      <th>149380</th>\n",
       "      <td>149380</td>\n",
       "      <td>1499_141</td>\n",
       "      <td>0.0</td>\n",
       "      <td>2018-12-11</td>\n",
       "      <td>1499</td>\n",
       "    </tr>\n",
       "    <tr>\n",
       "      <th>149381</th>\n",
       "      <td>149381</td>\n",
       "      <td>1499_142</td>\n",
       "      <td>0.0</td>\n",
       "      <td>2018-11-01</td>\n",
       "      <td>1499</td>\n",
       "    </tr>\n",
       "    <tr>\n",
       "      <th>149383</th>\n",
       "      <td>149383</td>\n",
       "      <td>1499_144</td>\n",
       "      <td>0.0</td>\n",
       "      <td>2018-11-27</td>\n",
       "      <td>1499</td>\n",
       "    </tr>\n",
       "    <tr>\n",
       "      <th>149386</th>\n",
       "      <td>149386</td>\n",
       "      <td>1499_147</td>\n",
       "      <td>0.0</td>\n",
       "      <td>2018-10-21</td>\n",
       "      <td>1499</td>\n",
       "    </tr>\n",
       "    <tr>\n",
       "      <th>149393</th>\n",
       "      <td>149393</td>\n",
       "      <td>1499_154</td>\n",
       "      <td>0.0</td>\n",
       "      <td>2018-10-27</td>\n",
       "      <td>1499</td>\n",
       "    </tr>\n",
       "  </tbody>\n",
       "</table>\n",
       "<p>19598 rows × 5 columns</p>\n",
       "</div>"
      ],
      "text/plain": [
       "        Unnamed: 0        id  mb_used session_date  user_id\n",
       "11              11   1000_11      0.0   2018-08-28     1000\n",
       "38              38   1000_38      0.0   2018-11-27     1000\n",
       "46              46   1000_46      0.0   2018-06-30     1000\n",
       "67              67   1000_67      0.0   2018-06-16     1000\n",
       "72              72   1000_72      0.0   2018-06-15     1000\n",
       "...            ...       ...      ...          ...      ...\n",
       "149380      149380  1499_141      0.0   2018-12-11     1499\n",
       "149381      149381  1499_142      0.0   2018-11-01     1499\n",
       "149383      149383  1499_144      0.0   2018-11-27     1499\n",
       "149386      149386  1499_147      0.0   2018-10-21     1499\n",
       "149393      149393  1499_154      0.0   2018-10-27     1499\n",
       "\n",
       "[19598 rows x 5 columns]"
      ]
     },
     "execution_count": 20,
     "metadata": {},
     "output_type": "execute_result"
    }
   ],
   "source": [
    "# Посмотрим количество сессиий с нулевыми значениями.\n",
    "internet.query('mb_used == 0')"
   ]
  },
  {
   "cell_type": "code",
   "execution_count": 21,
   "metadata": {},
   "outputs": [],
   "source": [
    "# Заменяем нули на пропуски.\n",
    "internet['mb_used'] = internet['mb_used'].replace(0, np.NaN)\n",
    "# Удаляем пропуски.\n",
    "internet = internet.dropna().reset_index(drop=True)"
   ]
  },
  {
   "cell_type": "code",
   "execution_count": 22,
   "metadata": {},
   "outputs": [],
   "source": [
    "# Переводим мегабайты в гигабайты.\n",
    "internet['mb_used'] = internet['mb_used']/1024"
   ]
  },
  {
   "cell_type": "code",
   "execution_count": 23,
   "metadata": {},
   "outputs": [],
   "source": [
    "# Переименовываем столбец.\n",
    "internet.rename(columns = {'mb_used' : 'gb_used'}, inplace = True)"
   ]
  },
  {
   "cell_type": "code",
   "execution_count": 24,
   "metadata": {},
   "outputs": [],
   "source": [
    "# Удаляем ненужный столбец.\n",
    "internet.drop(columns = ['Unnamed: 0'],axis = 1, inplace=True)"
   ]
  },
  {
   "cell_type": "code",
   "execution_count": 25,
   "metadata": {},
   "outputs": [
    {
     "data": {
      "text/html": [
       "<div>\n",
       "<style scoped>\n",
       "    .dataframe tbody tr th:only-of-type {\n",
       "        vertical-align: middle;\n",
       "    }\n",
       "\n",
       "    .dataframe tbody tr th {\n",
       "        vertical-align: top;\n",
       "    }\n",
       "\n",
       "    .dataframe thead th {\n",
       "        text-align: right;\n",
       "    }\n",
       "</style>\n",
       "<table border=\"1\" class=\"dataframe\">\n",
       "  <thead>\n",
       "    <tr style=\"text-align: right;\">\n",
       "      <th></th>\n",
       "      <th>id</th>\n",
       "      <th>gb_used</th>\n",
       "      <th>session_date</th>\n",
       "      <th>user_id</th>\n",
       "    </tr>\n",
       "  </thead>\n",
       "  <tbody>\n",
       "    <tr>\n",
       "      <th>0</th>\n",
       "      <td>1000_0</td>\n",
       "      <td>0.110303</td>\n",
       "      <td>2018-11-25</td>\n",
       "      <td>1000</td>\n",
       "    </tr>\n",
       "    <tr>\n",
       "      <th>1</th>\n",
       "      <td>1000_1</td>\n",
       "      <td>1.028135</td>\n",
       "      <td>2018-09-07</td>\n",
       "      <td>1000</td>\n",
       "    </tr>\n",
       "    <tr>\n",
       "      <th>2</th>\n",
       "      <td>1000_2</td>\n",
       "      <td>1.169199</td>\n",
       "      <td>2018-06-25</td>\n",
       "      <td>1000</td>\n",
       "    </tr>\n",
       "    <tr>\n",
       "      <th>3</th>\n",
       "      <td>1000_3</td>\n",
       "      <td>0.537373</td>\n",
       "      <td>2018-08-22</td>\n",
       "      <td>1000</td>\n",
       "    </tr>\n",
       "    <tr>\n",
       "      <th>4</th>\n",
       "      <td>1000_4</td>\n",
       "      <td>0.295469</td>\n",
       "      <td>2018-09-24</td>\n",
       "      <td>1000</td>\n",
       "    </tr>\n",
       "  </tbody>\n",
       "</table>\n",
       "</div>"
      ],
      "text/plain": [
       "       id   gb_used session_date  user_id\n",
       "0  1000_0  0.110303   2018-11-25     1000\n",
       "1  1000_1  1.028135   2018-09-07     1000\n",
       "2  1000_2  1.169199   2018-06-25     1000\n",
       "3  1000_3  0.537373   2018-08-22     1000\n",
       "4  1000_4  0.295469   2018-09-24     1000"
      ]
     },
     "execution_count": 25,
     "metadata": {},
     "output_type": "execute_result"
    }
   ],
   "source": [
    "# Посмотрим данные в таблице после изменений.\n",
    "internet.head()"
   ]
  },
  {
   "cell_type": "code",
   "execution_count": 26,
   "metadata": {},
   "outputs": [
    {
     "name": "stdout",
     "output_type": "stream",
     "text": [
      "<class 'pandas.core.frame.DataFrame'>\n",
      "RangeIndex: 129798 entries, 0 to 129797\n",
      "Data columns (total 4 columns):\n",
      " #   Column        Non-Null Count   Dtype         \n",
      "---  ------        --------------   -----         \n",
      " 0   id            129798 non-null  object        \n",
      " 1   gb_used       129798 non-null  float64       \n",
      " 2   session_date  129798 non-null  datetime64[ns]\n",
      " 3   user_id       129798 non-null  int64         \n",
      "dtypes: datetime64[ns](1), float64(1), int64(1), object(1)\n",
      "memory usage: 4.0+ MB\n"
     ]
    }
   ],
   "source": [
    "# Выведем информацию о таблице.\n",
    "internet.info()"
   ]
  },
  {
   "cell_type": "markdown",
   "metadata": {},
   "source": [
    "Поправили данные в таблице `internet`."
   ]
  },
  {
   "cell_type": "markdown",
   "metadata": {},
   "source": [
    "#### Обработка данных в таблице `tariffs`."
   ]
  },
  {
   "cell_type": "markdown",
   "metadata": {},
   "source": [
    "Переведем мегабайты в столбце `mb_per_month_included` в гигабайты и переименуем столбецы `mb_per_month_included` и `tariff_name`."
   ]
  },
  {
   "cell_type": "code",
   "execution_count": 27,
   "metadata": {},
   "outputs": [],
   "source": [
    "# Переводим мегабайты в гигабайты.\n",
    "tariffs['mb_per_month_included'] = tariffs['mb_per_month_included']/1024\n",
    "# Приведем столбец к формату int.\n",
    "tariffs['mb_per_month_included'] = tariffs['mb_per_month_included'].astype('int')"
   ]
  },
  {
   "cell_type": "code",
   "execution_count": 28,
   "metadata": {},
   "outputs": [],
   "source": [
    "# Переименовываем столбцы.\n",
    "tariffs.rename(columns = {'mb_per_month_included' : 'gb_per_month_included'}, inplace = True)\n",
    "tariffs.rename(columns={'tariff_name':'tariff'}, inplace = True)"
   ]
  },
  {
   "cell_type": "code",
   "execution_count": 29,
   "metadata": {},
   "outputs": [
    {
     "data": {
      "text/html": [
       "<div>\n",
       "<style scoped>\n",
       "    .dataframe tbody tr th:only-of-type {\n",
       "        vertical-align: middle;\n",
       "    }\n",
       "\n",
       "    .dataframe tbody tr th {\n",
       "        vertical-align: top;\n",
       "    }\n",
       "\n",
       "    .dataframe thead th {\n",
       "        text-align: right;\n",
       "    }\n",
       "</style>\n",
       "<table border=\"1\" class=\"dataframe\">\n",
       "  <thead>\n",
       "    <tr style=\"text-align: right;\">\n",
       "      <th></th>\n",
       "      <th>messages_included</th>\n",
       "      <th>gb_per_month_included</th>\n",
       "      <th>minutes_included</th>\n",
       "      <th>rub_monthly_fee</th>\n",
       "      <th>rub_per_gb</th>\n",
       "      <th>rub_per_message</th>\n",
       "      <th>rub_per_minute</th>\n",
       "      <th>tariff</th>\n",
       "    </tr>\n",
       "  </thead>\n",
       "  <tbody>\n",
       "    <tr>\n",
       "      <th>0</th>\n",
       "      <td>50</td>\n",
       "      <td>15</td>\n",
       "      <td>500</td>\n",
       "      <td>550</td>\n",
       "      <td>200</td>\n",
       "      <td>3</td>\n",
       "      <td>3</td>\n",
       "      <td>smart</td>\n",
       "    </tr>\n",
       "    <tr>\n",
       "      <th>1</th>\n",
       "      <td>1000</td>\n",
       "      <td>30</td>\n",
       "      <td>3000</td>\n",
       "      <td>1950</td>\n",
       "      <td>150</td>\n",
       "      <td>1</td>\n",
       "      <td>1</td>\n",
       "      <td>ultra</td>\n",
       "    </tr>\n",
       "  </tbody>\n",
       "</table>\n",
       "</div>"
      ],
      "text/plain": [
       "   messages_included  gb_per_month_included  minutes_included  \\\n",
       "0                 50                     15               500   \n",
       "1               1000                     30              3000   \n",
       "\n",
       "   rub_monthly_fee  rub_per_gb  rub_per_message  rub_per_minute tariff  \n",
       "0              550         200                3               3  smart  \n",
       "1             1950         150                1               1  ultra  "
      ]
     },
     "execution_count": 29,
     "metadata": {},
     "output_type": "execute_result"
    }
   ],
   "source": [
    "# Посмотрим данные в таблице после изменений.\n",
    "tariffs"
   ]
  },
  {
   "cell_type": "code",
   "execution_count": 30,
   "metadata": {},
   "outputs": [
    {
     "name": "stdout",
     "output_type": "stream",
     "text": [
      "<class 'pandas.core.frame.DataFrame'>\n",
      "RangeIndex: 2 entries, 0 to 1\n",
      "Data columns (total 8 columns):\n",
      " #   Column                 Non-Null Count  Dtype \n",
      "---  ------                 --------------  ----- \n",
      " 0   messages_included      2 non-null      int64 \n",
      " 1   gb_per_month_included  2 non-null      int64 \n",
      " 2   minutes_included       2 non-null      int64 \n",
      " 3   rub_monthly_fee        2 non-null      int64 \n",
      " 4   rub_per_gb             2 non-null      int64 \n",
      " 5   rub_per_message        2 non-null      int64 \n",
      " 6   rub_per_minute         2 non-null      int64 \n",
      " 7   tariff                 2 non-null      object\n",
      "dtypes: int64(7), object(1)\n",
      "memory usage: 256.0+ bytes\n"
     ]
    }
   ],
   "source": [
    "# Выведем информацию о таблице.\n",
    "tariffs.info()"
   ]
  },
  {
   "cell_type": "markdown",
   "metadata": {},
   "source": [
    "Поправили данные в таблице `tariffs`."
   ]
  },
  {
   "cell_type": "markdown",
   "metadata": {},
   "source": [
    "### Проверка на дубликаты."
   ]
  },
  {
   "cell_type": "markdown",
   "metadata": {},
   "source": [
    "Проверим данные в таблицах на дубликаты."
   ]
  },
  {
   "cell_type": "code",
   "execution_count": 31,
   "metadata": {},
   "outputs": [
    {
     "data": {
      "text/plain": [
       "[0, 0, 0, 0]"
      ]
     },
     "execution_count": 31,
     "metadata": {},
     "output_type": "execute_result"
    }
   ],
   "source": [
    "[df.duplicated().sum() for df in (calls, messages, internet, users)]"
   ]
  },
  {
   "cell_type": "markdown",
   "metadata": {},
   "source": [
    "Дубли в рассматриваемых таблицах не обнаружены."
   ]
  },
  {
   "cell_type": "markdown",
   "metadata": {},
   "source": [
    "### Расчеты и добавление результатов в таблицы."
   ]
  },
  {
   "cell_type": "markdown",
   "metadata": {},
   "source": [
    "#### Добавление номера месяца в таблицы."
   ]
  },
  {
   "cell_type": "markdown",
   "metadata": {},
   "source": [
    "Добавим номер месяца в таблицы. Для этого напишем функцию."
   ]
  },
  {
   "cell_type": "code",
   "execution_count": 32,
   "metadata": {},
   "outputs": [],
   "source": [
    "# Напишем функцию для добавление столбца с номер месяца в таблицы.\n",
    "def add_month(df, column):\n",
    "    df['month'] = df[column].dt.month"
   ]
  },
  {
   "cell_type": "code",
   "execution_count": 33,
   "metadata": {},
   "outputs": [],
   "source": [
    "# Выполняем процедуру для таблицы calls.\n",
    "add_month(calls, 'call_date')\n",
    "# Выполняем процедуру для таблицы internet.\n",
    "add_month(internet, 'session_date')\n",
    "# Выполняем процедуру для таблицы messages.\n",
    "add_month(messages, 'message_date')"
   ]
  },
  {
   "cell_type": "code",
   "execution_count": 34,
   "metadata": {},
   "outputs": [
    {
     "data": {
      "text/html": [
       "<div>\n",
       "<style scoped>\n",
       "    .dataframe tbody tr th:only-of-type {\n",
       "        vertical-align: middle;\n",
       "    }\n",
       "\n",
       "    .dataframe tbody tr th {\n",
       "        vertical-align: top;\n",
       "    }\n",
       "\n",
       "    .dataframe thead th {\n",
       "        text-align: right;\n",
       "    }\n",
       "</style>\n",
       "<table border=\"1\" class=\"dataframe\">\n",
       "  <thead>\n",
       "    <tr style=\"text-align: right;\">\n",
       "      <th></th>\n",
       "      <th>id</th>\n",
       "      <th>call_date</th>\n",
       "      <th>duration</th>\n",
       "      <th>user_id</th>\n",
       "      <th>month</th>\n",
       "    </tr>\n",
       "  </thead>\n",
       "  <tbody>\n",
       "    <tr>\n",
       "      <th>0</th>\n",
       "      <td>1000_0</td>\n",
       "      <td>2018-07-25</td>\n",
       "      <td>0</td>\n",
       "      <td>1000</td>\n",
       "      <td>7</td>\n",
       "    </tr>\n",
       "    <tr>\n",
       "      <th>1</th>\n",
       "      <td>1000_1</td>\n",
       "      <td>2018-08-17</td>\n",
       "      <td>0</td>\n",
       "      <td>1000</td>\n",
       "      <td>8</td>\n",
       "    </tr>\n",
       "    <tr>\n",
       "      <th>2</th>\n",
       "      <td>1000_2</td>\n",
       "      <td>2018-06-11</td>\n",
       "      <td>3</td>\n",
       "      <td>1000</td>\n",
       "      <td>6</td>\n",
       "    </tr>\n",
       "    <tr>\n",
       "      <th>3</th>\n",
       "      <td>1000_3</td>\n",
       "      <td>2018-09-21</td>\n",
       "      <td>14</td>\n",
       "      <td>1000</td>\n",
       "      <td>9</td>\n",
       "    </tr>\n",
       "    <tr>\n",
       "      <th>4</th>\n",
       "      <td>1000_4</td>\n",
       "      <td>2018-12-15</td>\n",
       "      <td>6</td>\n",
       "      <td>1000</td>\n",
       "      <td>12</td>\n",
       "    </tr>\n",
       "  </tbody>\n",
       "</table>\n",
       "</div>"
      ],
      "text/plain": [
       "       id  call_date  duration  user_id  month\n",
       "0  1000_0 2018-07-25         0     1000      7\n",
       "1  1000_1 2018-08-17         0     1000      8\n",
       "2  1000_2 2018-06-11         3     1000      6\n",
       "3  1000_3 2018-09-21        14     1000      9\n",
       "4  1000_4 2018-12-15         6     1000     12"
      ]
     },
     "execution_count": 34,
     "metadata": {},
     "output_type": "execute_result"
    }
   ],
   "source": [
    "# Проверяем данные для таблцы calls.\n",
    "calls.head()"
   ]
  },
  {
   "cell_type": "code",
   "execution_count": 35,
   "metadata": {},
   "outputs": [
    {
     "data": {
      "text/html": [
       "<div>\n",
       "<style scoped>\n",
       "    .dataframe tbody tr th:only-of-type {\n",
       "        vertical-align: middle;\n",
       "    }\n",
       "\n",
       "    .dataframe tbody tr th {\n",
       "        vertical-align: top;\n",
       "    }\n",
       "\n",
       "    .dataframe thead th {\n",
       "        text-align: right;\n",
       "    }\n",
       "</style>\n",
       "<table border=\"1\" class=\"dataframe\">\n",
       "  <thead>\n",
       "    <tr style=\"text-align: right;\">\n",
       "      <th></th>\n",
       "      <th>id</th>\n",
       "      <th>gb_used</th>\n",
       "      <th>session_date</th>\n",
       "      <th>user_id</th>\n",
       "      <th>month</th>\n",
       "    </tr>\n",
       "  </thead>\n",
       "  <tbody>\n",
       "    <tr>\n",
       "      <th>0</th>\n",
       "      <td>1000_0</td>\n",
       "      <td>0.110303</td>\n",
       "      <td>2018-11-25</td>\n",
       "      <td>1000</td>\n",
       "      <td>11</td>\n",
       "    </tr>\n",
       "    <tr>\n",
       "      <th>1</th>\n",
       "      <td>1000_1</td>\n",
       "      <td>1.028135</td>\n",
       "      <td>2018-09-07</td>\n",
       "      <td>1000</td>\n",
       "      <td>9</td>\n",
       "    </tr>\n",
       "    <tr>\n",
       "      <th>2</th>\n",
       "      <td>1000_2</td>\n",
       "      <td>1.169199</td>\n",
       "      <td>2018-06-25</td>\n",
       "      <td>1000</td>\n",
       "      <td>6</td>\n",
       "    </tr>\n",
       "    <tr>\n",
       "      <th>3</th>\n",
       "      <td>1000_3</td>\n",
       "      <td>0.537373</td>\n",
       "      <td>2018-08-22</td>\n",
       "      <td>1000</td>\n",
       "      <td>8</td>\n",
       "    </tr>\n",
       "    <tr>\n",
       "      <th>4</th>\n",
       "      <td>1000_4</td>\n",
       "      <td>0.295469</td>\n",
       "      <td>2018-09-24</td>\n",
       "      <td>1000</td>\n",
       "      <td>9</td>\n",
       "    </tr>\n",
       "  </tbody>\n",
       "</table>\n",
       "</div>"
      ],
      "text/plain": [
       "       id   gb_used session_date  user_id  month\n",
       "0  1000_0  0.110303   2018-11-25     1000     11\n",
       "1  1000_1  1.028135   2018-09-07     1000      9\n",
       "2  1000_2  1.169199   2018-06-25     1000      6\n",
       "3  1000_3  0.537373   2018-08-22     1000      8\n",
       "4  1000_4  0.295469   2018-09-24     1000      9"
      ]
     },
     "execution_count": 35,
     "metadata": {},
     "output_type": "execute_result"
    }
   ],
   "source": [
    "# Проверяем данные для таблцы internet.\n",
    "internet.head()"
   ]
  },
  {
   "cell_type": "code",
   "execution_count": 36,
   "metadata": {},
   "outputs": [
    {
     "data": {
      "text/html": [
       "<div>\n",
       "<style scoped>\n",
       "    .dataframe tbody tr th:only-of-type {\n",
       "        vertical-align: middle;\n",
       "    }\n",
       "\n",
       "    .dataframe tbody tr th {\n",
       "        vertical-align: top;\n",
       "    }\n",
       "\n",
       "    .dataframe thead th {\n",
       "        text-align: right;\n",
       "    }\n",
       "</style>\n",
       "<table border=\"1\" class=\"dataframe\">\n",
       "  <thead>\n",
       "    <tr style=\"text-align: right;\">\n",
       "      <th></th>\n",
       "      <th>id</th>\n",
       "      <th>message_date</th>\n",
       "      <th>user_id</th>\n",
       "      <th>month</th>\n",
       "    </tr>\n",
       "  </thead>\n",
       "  <tbody>\n",
       "    <tr>\n",
       "      <th>0</th>\n",
       "      <td>1000_0</td>\n",
       "      <td>2018-06-27</td>\n",
       "      <td>1000</td>\n",
       "      <td>6</td>\n",
       "    </tr>\n",
       "    <tr>\n",
       "      <th>1</th>\n",
       "      <td>1000_1</td>\n",
       "      <td>2018-10-08</td>\n",
       "      <td>1000</td>\n",
       "      <td>10</td>\n",
       "    </tr>\n",
       "    <tr>\n",
       "      <th>2</th>\n",
       "      <td>1000_2</td>\n",
       "      <td>2018-08-04</td>\n",
       "      <td>1000</td>\n",
       "      <td>8</td>\n",
       "    </tr>\n",
       "    <tr>\n",
       "      <th>3</th>\n",
       "      <td>1000_3</td>\n",
       "      <td>2018-06-16</td>\n",
       "      <td>1000</td>\n",
       "      <td>6</td>\n",
       "    </tr>\n",
       "    <tr>\n",
       "      <th>4</th>\n",
       "      <td>1000_4</td>\n",
       "      <td>2018-12-05</td>\n",
       "      <td>1000</td>\n",
       "      <td>12</td>\n",
       "    </tr>\n",
       "  </tbody>\n",
       "</table>\n",
       "</div>"
      ],
      "text/plain": [
       "       id message_date  user_id  month\n",
       "0  1000_0   2018-06-27     1000      6\n",
       "1  1000_1   2018-10-08     1000     10\n",
       "2  1000_2   2018-08-04     1000      8\n",
       "3  1000_3   2018-06-16     1000      6\n",
       "4  1000_4   2018-12-05     1000     12"
      ]
     },
     "execution_count": 36,
     "metadata": {},
     "output_type": "execute_result"
    }
   ],
   "source": [
    "# Проверяем данные для таблцы messages.\n",
    "messages.head()"
   ]
  },
  {
   "cell_type": "markdown",
   "metadata": {},
   "source": [
    "Номера месяцев добавлены в таблицы."
   ]
  },
  {
   "cell_type": "markdown",
   "metadata": {},
   "source": [
    "#### Количество сделанных звонков и израсходованных минут разговора для каждого пользователя по месяцам."
   ]
  },
  {
   "cell_type": "markdown",
   "metadata": {},
   "source": [
    "Создадим таблицу с количеством и продолжительностью сделанных пользователями звонков с разбивкой по месяцам."
   ]
  },
  {
   "cell_type": "code",
   "execution_count": 37,
   "metadata": {},
   "outputs": [],
   "source": [
    "# Создаем новую таблицу.\n",
    "month_calls = calls.groupby(['user_id', 'month']).agg({'duration':'sum', 'id':'count'}).reset_index().rename(columns={'duration':'month_calls_duration','id':'calls_total_in_month'})"
   ]
  },
  {
   "cell_type": "code",
   "execution_count": 38,
   "metadata": {},
   "outputs": [],
   "source": [
    "# Код ревьюера\n",
    "\n",
    "# Закоментировал, чтобы не мешать твоему коду\n",
    "# month_calls = calls.groupby(['user_id', 'month']).agg({'duration':'sum', 'id':'count'})\\\n",
    "#    .reset_index().rename(columns={'duration':'month_calls_duration','id':'calls_total_in_month'})"
   ]
  },
  {
   "cell_type": "code",
   "execution_count": 39,
   "metadata": {},
   "outputs": [
    {
     "data": {
      "text/html": [
       "<div>\n",
       "<style scoped>\n",
       "    .dataframe tbody tr th:only-of-type {\n",
       "        vertical-align: middle;\n",
       "    }\n",
       "\n",
       "    .dataframe tbody tr th {\n",
       "        vertical-align: top;\n",
       "    }\n",
       "\n",
       "    .dataframe thead th {\n",
       "        text-align: right;\n",
       "    }\n",
       "</style>\n",
       "<table border=\"1\" class=\"dataframe\">\n",
       "  <thead>\n",
       "    <tr style=\"text-align: right;\">\n",
       "      <th></th>\n",
       "      <th>user_id</th>\n",
       "      <th>month</th>\n",
       "      <th>month_calls_duration</th>\n",
       "      <th>calls_total_in_month</th>\n",
       "    </tr>\n",
       "  </thead>\n",
       "  <tbody>\n",
       "    <tr>\n",
       "      <th>0</th>\n",
       "      <td>1000</td>\n",
       "      <td>5</td>\n",
       "      <td>159</td>\n",
       "      <td>22</td>\n",
       "    </tr>\n",
       "    <tr>\n",
       "      <th>1</th>\n",
       "      <td>1000</td>\n",
       "      <td>6</td>\n",
       "      <td>172</td>\n",
       "      <td>43</td>\n",
       "    </tr>\n",
       "    <tr>\n",
       "      <th>2</th>\n",
       "      <td>1000</td>\n",
       "      <td>7</td>\n",
       "      <td>340</td>\n",
       "      <td>47</td>\n",
       "    </tr>\n",
       "    <tr>\n",
       "      <th>3</th>\n",
       "      <td>1000</td>\n",
       "      <td>8</td>\n",
       "      <td>408</td>\n",
       "      <td>52</td>\n",
       "    </tr>\n",
       "    <tr>\n",
       "      <th>4</th>\n",
       "      <td>1000</td>\n",
       "      <td>9</td>\n",
       "      <td>466</td>\n",
       "      <td>58</td>\n",
       "    </tr>\n",
       "    <tr>\n",
       "      <th>5</th>\n",
       "      <td>1000</td>\n",
       "      <td>10</td>\n",
       "      <td>350</td>\n",
       "      <td>57</td>\n",
       "    </tr>\n",
       "    <tr>\n",
       "      <th>6</th>\n",
       "      <td>1000</td>\n",
       "      <td>11</td>\n",
       "      <td>338</td>\n",
       "      <td>43</td>\n",
       "    </tr>\n",
       "    <tr>\n",
       "      <th>7</th>\n",
       "      <td>1000</td>\n",
       "      <td>12</td>\n",
       "      <td>333</td>\n",
       "      <td>46</td>\n",
       "    </tr>\n",
       "    <tr>\n",
       "      <th>8</th>\n",
       "      <td>1001</td>\n",
       "      <td>11</td>\n",
       "      <td>430</td>\n",
       "      <td>59</td>\n",
       "    </tr>\n",
       "    <tr>\n",
       "      <th>9</th>\n",
       "      <td>1001</td>\n",
       "      <td>12</td>\n",
       "      <td>414</td>\n",
       "      <td>63</td>\n",
       "    </tr>\n",
       "  </tbody>\n",
       "</table>\n",
       "</div>"
      ],
      "text/plain": [
       "   user_id  month  month_calls_duration  calls_total_in_month\n",
       "0     1000      5                   159                    22\n",
       "1     1000      6                   172                    43\n",
       "2     1000      7                   340                    47\n",
       "3     1000      8                   408                    52\n",
       "4     1000      9                   466                    58\n",
       "5     1000     10                   350                    57\n",
       "6     1000     11                   338                    43\n",
       "7     1000     12                   333                    46\n",
       "8     1001     11                   430                    59\n",
       "9     1001     12                   414                    63"
      ]
     },
     "execution_count": 39,
     "metadata": {},
     "output_type": "execute_result"
    }
   ],
   "source": [
    "# Проверяем данные в получившейся таблице.\n",
    "month_calls.head(10)"
   ]
  },
  {
   "cell_type": "code",
   "execution_count": 40,
   "metadata": {},
   "outputs": [
    {
     "data": {
      "text/plain": [
       "Text(0, 0.5, 'Частота события')"
      ]
     },
     "execution_count": 40,
     "metadata": {},
     "output_type": "execute_result"
    },
    {
     "data": {
      "image/png": "[encoded data removed]",
      "text/plain": [
       "<Figure size 720x360 with 1 Axes>"
      ]
     },
     "metadata": {
      "needs_background": "light"
     },
     "output_type": "display_data"
    }
   ],
   "source": [
    "# Общий график по звонкам.\n",
    "month_calls.plot(y = 'calls_total_in_month', kind = 'hist', bins = 100, grid = True, figsize = (10,5))\n",
    "plt.title('Количество звонков в месяц', size=14)\n",
    "plt.xlabel('Количество звонков')\n",
    "plt.ylabel('Частота события')"
   ]
  },
  {
   "cell_type": "code",
   "execution_count": 41,
   "metadata": {},
   "outputs": [
    {
     "data": {
      "text/plain": [
       "Text(0, 0.5, 'Частота события')"
      ]
     },
     "execution_count": 41,
     "metadata": {},
     "output_type": "execute_result"
    },
    {
     "data": {
      "image/png": "[encoded data removed]",
      "text/plain": [
       "<Figure size 720x360 with 1 Axes>"
      ]
     },
     "metadata": {
      "needs_background": "light"
     },
     "output_type": "display_data"
    }
   ],
   "source": [
    "# Общий график по минутам.\n",
    "month_calls.plot(y = 'month_calls_duration', kind = 'hist', bins = 100, grid = True, figsize = (10,5))\n",
    "plt.title('Общая длительность звонков в месяц', size=14)\n",
    "plt.xlabel('Длительность звонков в месяц, мин.')\n",
    "plt.ylabel('Частота события')"
   ]
  },
  {
   "cell_type": "code",
   "execution_count": 42,
   "metadata": {},
   "outputs": [
    {
     "name": "stdout",
     "output_type": "stream",
     "text": [
      "<class 'pandas.core.frame.DataFrame'>\n",
      "RangeIndex: 3174 entries, 0 to 3173\n",
      "Data columns (total 4 columns):\n",
      " #   Column                Non-Null Count  Dtype\n",
      "---  ------                --------------  -----\n",
      " 0   user_id               3174 non-null   int64\n",
      " 1   month                 3174 non-null   int64\n",
      " 2   month_calls_duration  3174 non-null   int64\n",
      " 3   calls_total_in_month  3174 non-null   int64\n",
      "dtypes: int64(4)\n",
      "memory usage: 99.3 KB\n"
     ]
    }
   ],
   "source": [
    "# Смотрим информацию по таблице.\n",
    "month_calls.info()"
   ]
  },
  {
   "cell_type": "markdown",
   "metadata": {},
   "source": [
    "#### Количество отправленных сообщений по месяцам."
   ]
  },
  {
   "cell_type": "markdown",
   "metadata": {},
   "source": [
    "Создадим таблицу с количеством отправленных сообщений по месяцам."
   ]
  },
  {
   "cell_type": "code",
   "execution_count": 43,
   "metadata": {},
   "outputs": [],
   "source": [
    "# Создаем новую таблицу.\n",
    "month_messages = messages.groupby(['user_id', 'month']).agg({'id':'count'}).reset_index().rename(columns={'id':'sms_total_in_month'})"
   ]
  },
  {
   "cell_type": "code",
   "execution_count": 44,
   "metadata": {},
   "outputs": [
    {
     "data": {
      "text/html": [
       "<div>\n",
       "<style scoped>\n",
       "    .dataframe tbody tr th:only-of-type {\n",
       "        vertical-align: middle;\n",
       "    }\n",
       "\n",
       "    .dataframe tbody tr th {\n",
       "        vertical-align: top;\n",
       "    }\n",
       "\n",
       "    .dataframe thead th {\n",
       "        text-align: right;\n",
       "    }\n",
       "</style>\n",
       "<table border=\"1\" class=\"dataframe\">\n",
       "  <thead>\n",
       "    <tr style=\"text-align: right;\">\n",
       "      <th></th>\n",
       "      <th>user_id</th>\n",
       "      <th>month</th>\n",
       "      <th>sms_total_in_month</th>\n",
       "    </tr>\n",
       "  </thead>\n",
       "  <tbody>\n",
       "    <tr>\n",
       "      <th>0</th>\n",
       "      <td>1000</td>\n",
       "      <td>5</td>\n",
       "      <td>22</td>\n",
       "    </tr>\n",
       "    <tr>\n",
       "      <th>1</th>\n",
       "      <td>1000</td>\n",
       "      <td>6</td>\n",
       "      <td>60</td>\n",
       "    </tr>\n",
       "    <tr>\n",
       "      <th>2</th>\n",
       "      <td>1000</td>\n",
       "      <td>7</td>\n",
       "      <td>75</td>\n",
       "    </tr>\n",
       "    <tr>\n",
       "      <th>3</th>\n",
       "      <td>1000</td>\n",
       "      <td>8</td>\n",
       "      <td>81</td>\n",
       "    </tr>\n",
       "    <tr>\n",
       "      <th>4</th>\n",
       "      <td>1000</td>\n",
       "      <td>9</td>\n",
       "      <td>57</td>\n",
       "    </tr>\n",
       "    <tr>\n",
       "      <th>5</th>\n",
       "      <td>1000</td>\n",
       "      <td>10</td>\n",
       "      <td>73</td>\n",
       "    </tr>\n",
       "    <tr>\n",
       "      <th>6</th>\n",
       "      <td>1000</td>\n",
       "      <td>11</td>\n",
       "      <td>58</td>\n",
       "    </tr>\n",
       "    <tr>\n",
       "      <th>7</th>\n",
       "      <td>1000</td>\n",
       "      <td>12</td>\n",
       "      <td>70</td>\n",
       "    </tr>\n",
       "    <tr>\n",
       "      <th>8</th>\n",
       "      <td>1002</td>\n",
       "      <td>6</td>\n",
       "      <td>4</td>\n",
       "    </tr>\n",
       "    <tr>\n",
       "      <th>9</th>\n",
       "      <td>1002</td>\n",
       "      <td>7</td>\n",
       "      <td>11</td>\n",
       "    </tr>\n",
       "  </tbody>\n",
       "</table>\n",
       "</div>"
      ],
      "text/plain": [
       "   user_id  month  sms_total_in_month\n",
       "0     1000      5                  22\n",
       "1     1000      6                  60\n",
       "2     1000      7                  75\n",
       "3     1000      8                  81\n",
       "4     1000      9                  57\n",
       "5     1000     10                  73\n",
       "6     1000     11                  58\n",
       "7     1000     12                  70\n",
       "8     1002      6                   4\n",
       "9     1002      7                  11"
      ]
     },
     "execution_count": 44,
     "metadata": {},
     "output_type": "execute_result"
    }
   ],
   "source": [
    "# Проверяем данные в получившейся таблице.\n",
    "month_messages.head(10)"
   ]
  },
  {
   "cell_type": "code",
   "execution_count": 45,
   "metadata": {},
   "outputs": [
    {
     "data": {
      "text/plain": [
       "Text(0, 0.5, 'Частота события')"
      ]
     },
     "execution_count": 45,
     "metadata": {},
     "output_type": "execute_result"
    },
    {
     "data": {
      "image/png": "[encoded data removed]",
      "text/plain": [
       "<Figure size 720x360 with 1 Axes>"
      ]
     },
     "metadata": {
      "needs_background": "light"
     },
     "output_type": "display_data"
    }
   ],
   "source": [
    "# Общий график по СМС.\n",
    "month_messages.plot(y = 'sms_total_in_month', kind = 'hist', bins = 100, grid = True, figsize = (10,5))\n",
    "plt.title('Количество сообщений в месяц', size=14)\n",
    "plt.xlabel('Количество сообщений в месяц, шт.')\n",
    "plt.ylabel('Частота события')"
   ]
  },
  {
   "cell_type": "code",
   "execution_count": 46,
   "metadata": {},
   "outputs": [
    {
     "name": "stdout",
     "output_type": "stream",
     "text": [
      "<class 'pandas.core.frame.DataFrame'>\n",
      "RangeIndex: 2717 entries, 0 to 2716\n",
      "Data columns (total 3 columns):\n",
      " #   Column              Non-Null Count  Dtype\n",
      "---  ------              --------------  -----\n",
      " 0   user_id             2717 non-null   int64\n",
      " 1   month               2717 non-null   int64\n",
      " 2   sms_total_in_month  2717 non-null   int64\n",
      "dtypes: int64(3)\n",
      "memory usage: 63.8 KB\n"
     ]
    }
   ],
   "source": [
    "# Смотрим информацию по таблице.\n",
    "month_messages.info()"
   ]
  },
  {
   "cell_type": "markdown",
   "metadata": {},
   "source": [
    "#### Объем израсходованного интернет-трафика по месяцам."
   ]
  },
  {
   "cell_type": "markdown",
   "metadata": {},
   "source": [
    "Создадим таблицу с объемом израсходованного интернет-трафика по месяцам."
   ]
  },
  {
   "cell_type": "code",
   "execution_count": 47,
   "metadata": {},
   "outputs": [],
   "source": [
    "# Создаем новую таблицу.\n",
    "month_internet = internet.groupby(['user_id', 'month']).agg({'gb_used':'sum'}).reset_index().rename(columns={'gb_used':'gb_total_in_month'})"
   ]
  },
  {
   "cell_type": "markdown",
   "metadata": {},
   "source": [
    "Так как количество гигабайт израсходованных за месяц тарифицируется с округлением вверх, проделаем эту операцию со столбцом `gb_total_in_month` и приведем его формат к int."
   ]
  },
  {
   "cell_type": "code",
   "execution_count": 48,
   "metadata": {},
   "outputs": [],
   "source": [
    "# Округляем значения в столбце вверх и приводим их в формат int.\n",
    "month_internet['gb_total_in_month'] = month_internet['gb_total_in_month'].apply(np.ceil).astype('int')"
   ]
  },
  {
   "cell_type": "code",
   "execution_count": 49,
   "metadata": {},
   "outputs": [
    {
     "data": {
      "text/html": [
       "<div>\n",
       "<style scoped>\n",
       "    .dataframe tbody tr th:only-of-type {\n",
       "        vertical-align: middle;\n",
       "    }\n",
       "\n",
       "    .dataframe tbody tr th {\n",
       "        vertical-align: top;\n",
       "    }\n",
       "\n",
       "    .dataframe thead th {\n",
       "        text-align: right;\n",
       "    }\n",
       "</style>\n",
       "<table border=\"1\" class=\"dataframe\">\n",
       "  <thead>\n",
       "    <tr style=\"text-align: right;\">\n",
       "      <th></th>\n",
       "      <th>user_id</th>\n",
       "      <th>month</th>\n",
       "      <th>gb_total_in_month</th>\n",
       "    </tr>\n",
       "  </thead>\n",
       "  <tbody>\n",
       "    <tr>\n",
       "      <th>0</th>\n",
       "      <td>1000</td>\n",
       "      <td>5</td>\n",
       "      <td>3</td>\n",
       "    </tr>\n",
       "    <tr>\n",
       "      <th>1</th>\n",
       "      <td>1000</td>\n",
       "      <td>6</td>\n",
       "      <td>23</td>\n",
       "    </tr>\n",
       "    <tr>\n",
       "      <th>2</th>\n",
       "      <td>1000</td>\n",
       "      <td>7</td>\n",
       "      <td>14</td>\n",
       "    </tr>\n",
       "    <tr>\n",
       "      <th>3</th>\n",
       "      <td>1000</td>\n",
       "      <td>8</td>\n",
       "      <td>14</td>\n",
       "    </tr>\n",
       "    <tr>\n",
       "      <th>4</th>\n",
       "      <td>1000</td>\n",
       "      <td>9</td>\n",
       "      <td>15</td>\n",
       "    </tr>\n",
       "  </tbody>\n",
       "</table>\n",
       "</div>"
      ],
      "text/plain": [
       "   user_id  month  gb_total_in_month\n",
       "0     1000      5                  3\n",
       "1     1000      6                 23\n",
       "2     1000      7                 14\n",
       "3     1000      8                 14\n",
       "4     1000      9                 15"
      ]
     },
     "execution_count": 49,
     "metadata": {},
     "output_type": "execute_result"
    }
   ],
   "source": [
    "# Проверяем данные в получившейся таблице.\n",
    "month_internet.head()"
   ]
  },
  {
   "cell_type": "code",
   "execution_count": 50,
   "metadata": {},
   "outputs": [
    {
     "data": {
      "text/plain": [
       "Text(0, 0.5, 'Частота события')"
      ]
     },
     "execution_count": 50,
     "metadata": {},
     "output_type": "execute_result"
    },
    {
     "data": {
      "image/png": "[encoded data removed]",
      "text/plain": [
       "<Figure size 720x360 with 1 Axes>"
      ]
     },
     "metadata": {
      "needs_background": "light"
     },
     "output_type": "display_data"
    }
   ],
   "source": [
    "# Общий график по интернет трафику.\n",
    "month_internet.plot(y = 'gb_total_in_month', kind = 'hist', bins = 50, grid = True, figsize = (10,5))\n",
    "plt.title('Общий расход трафика в месяц', size=14)\n",
    "plt.xlabel('Общий расход трафика в месяц, гб.')\n",
    "plt.ylabel('Частота события')"
   ]
  },
  {
   "cell_type": "code",
   "execution_count": 51,
   "metadata": {},
   "outputs": [
    {
     "name": "stdout",
     "output_type": "stream",
     "text": [
      "<class 'pandas.core.frame.DataFrame'>\n",
      "RangeIndex: 3201 entries, 0 to 3200\n",
      "Data columns (total 3 columns):\n",
      " #   Column             Non-Null Count  Dtype\n",
      "---  ------             --------------  -----\n",
      " 0   user_id            3201 non-null   int64\n",
      " 1   month              3201 non-null   int64\n",
      " 2   gb_total_in_month  3201 non-null   int64\n",
      "dtypes: int64(3)\n",
      "memory usage: 75.1 KB\n"
     ]
    }
   ],
   "source": [
    "# Смотрим информацию по таблице.\n",
    "month_internet.info()"
   ]
  },
  {
   "cell_type": "markdown",
   "metadata": {},
   "source": [
    "#### Помесячная выручка с каждого пользователя."
   ]
  },
  {
   "cell_type": "markdown",
   "metadata": {},
   "source": [
    "Посчитаем помесячную выручку для каждого пользователя. Для этого нужно будет объеденить данные полученные выше в отдельную таблицу."
   ]
  },
  {
   "cell_type": "code",
   "execution_count": 52,
   "metadata": {},
   "outputs": [],
   "source": [
    "# Соединим данные в новую таблицу.\n",
    "data = month_calls.merge(month_messages, on=['user_id','month'], how='outer')\n",
    "data = data.merge(month_internet, on=['user_id','month'], how = 'outer')\n",
    "data = data.merge(users, on='user_id', how='left')\n",
    "data = data.merge(tariffs, on='tariff', how='left')"
   ]
  },
  {
   "cell_type": "code",
   "execution_count": 53,
   "metadata": {},
   "outputs": [
    {
     "data": {
      "text/html": [
       "<div>\n",
       "<style scoped>\n",
       "    .dataframe tbody tr th:only-of-type {\n",
       "        vertical-align: middle;\n",
       "    }\n",
       "\n",
       "    .dataframe tbody tr th {\n",
       "        vertical-align: top;\n",
       "    }\n",
       "\n",
       "    .dataframe thead th {\n",
       "        text-align: right;\n",
       "    }\n",
       "</style>\n",
       "<table border=\"1\" class=\"dataframe\">\n",
       "  <thead>\n",
       "    <tr style=\"text-align: right;\">\n",
       "      <th></th>\n",
       "      <th>user_id</th>\n",
       "      <th>month</th>\n",
       "      <th>month_calls_duration</th>\n",
       "      <th>calls_total_in_month</th>\n",
       "      <th>sms_total_in_month</th>\n",
       "      <th>gb_total_in_month</th>\n",
       "      <th>age</th>\n",
       "      <th>churn_date</th>\n",
       "      <th>city</th>\n",
       "      <th>first_name</th>\n",
       "      <th>last_name</th>\n",
       "      <th>reg_date</th>\n",
       "      <th>tariff</th>\n",
       "      <th>messages_included</th>\n",
       "      <th>gb_per_month_included</th>\n",
       "      <th>minutes_included</th>\n",
       "      <th>rub_monthly_fee</th>\n",
       "      <th>rub_per_gb</th>\n",
       "      <th>rub_per_message</th>\n",
       "      <th>rub_per_minute</th>\n",
       "    </tr>\n",
       "  </thead>\n",
       "  <tbody>\n",
       "    <tr>\n",
       "      <th>0</th>\n",
       "      <td>1000</td>\n",
       "      <td>5</td>\n",
       "      <td>159.0</td>\n",
       "      <td>22.0</td>\n",
       "      <td>22.0</td>\n",
       "      <td>3.0</td>\n",
       "      <td>52</td>\n",
       "      <td>NaT</td>\n",
       "      <td>Краснодар</td>\n",
       "      <td>Рафаил</td>\n",
       "      <td>Верещагин</td>\n",
       "      <td>2018-05-25</td>\n",
       "      <td>ultra</td>\n",
       "      <td>1000</td>\n",
       "      <td>30</td>\n",
       "      <td>3000</td>\n",
       "      <td>1950</td>\n",
       "      <td>150</td>\n",
       "      <td>1</td>\n",
       "      <td>1</td>\n",
       "    </tr>\n",
       "    <tr>\n",
       "      <th>1</th>\n",
       "      <td>1000</td>\n",
       "      <td>6</td>\n",
       "      <td>172.0</td>\n",
       "      <td>43.0</td>\n",
       "      <td>60.0</td>\n",
       "      <td>23.0</td>\n",
       "      <td>52</td>\n",
       "      <td>NaT</td>\n",
       "      <td>Краснодар</td>\n",
       "      <td>Рафаил</td>\n",
       "      <td>Верещагин</td>\n",
       "      <td>2018-05-25</td>\n",
       "      <td>ultra</td>\n",
       "      <td>1000</td>\n",
       "      <td>30</td>\n",
       "      <td>3000</td>\n",
       "      <td>1950</td>\n",
       "      <td>150</td>\n",
       "      <td>1</td>\n",
       "      <td>1</td>\n",
       "    </tr>\n",
       "    <tr>\n",
       "      <th>2</th>\n",
       "      <td>1000</td>\n",
       "      <td>7</td>\n",
       "      <td>340.0</td>\n",
       "      <td>47.0</td>\n",
       "      <td>75.0</td>\n",
       "      <td>14.0</td>\n",
       "      <td>52</td>\n",
       "      <td>NaT</td>\n",
       "      <td>Краснодар</td>\n",
       "      <td>Рафаил</td>\n",
       "      <td>Верещагин</td>\n",
       "      <td>2018-05-25</td>\n",
       "      <td>ultra</td>\n",
       "      <td>1000</td>\n",
       "      <td>30</td>\n",
       "      <td>3000</td>\n",
       "      <td>1950</td>\n",
       "      <td>150</td>\n",
       "      <td>1</td>\n",
       "      <td>1</td>\n",
       "    </tr>\n",
       "    <tr>\n",
       "      <th>3</th>\n",
       "      <td>1000</td>\n",
       "      <td>8</td>\n",
       "      <td>408.0</td>\n",
       "      <td>52.0</td>\n",
       "      <td>81.0</td>\n",
       "      <td>14.0</td>\n",
       "      <td>52</td>\n",
       "      <td>NaT</td>\n",
       "      <td>Краснодар</td>\n",
       "      <td>Рафаил</td>\n",
       "      <td>Верещагин</td>\n",
       "      <td>2018-05-25</td>\n",
       "      <td>ultra</td>\n",
       "      <td>1000</td>\n",
       "      <td>30</td>\n",
       "      <td>3000</td>\n",
       "      <td>1950</td>\n",
       "      <td>150</td>\n",
       "      <td>1</td>\n",
       "      <td>1</td>\n",
       "    </tr>\n",
       "    <tr>\n",
       "      <th>4</th>\n",
       "      <td>1000</td>\n",
       "      <td>9</td>\n",
       "      <td>466.0</td>\n",
       "      <td>58.0</td>\n",
       "      <td>57.0</td>\n",
       "      <td>15.0</td>\n",
       "      <td>52</td>\n",
       "      <td>NaT</td>\n",
       "      <td>Краснодар</td>\n",
       "      <td>Рафаил</td>\n",
       "      <td>Верещагин</td>\n",
       "      <td>2018-05-25</td>\n",
       "      <td>ultra</td>\n",
       "      <td>1000</td>\n",
       "      <td>30</td>\n",
       "      <td>3000</td>\n",
       "      <td>1950</td>\n",
       "      <td>150</td>\n",
       "      <td>1</td>\n",
       "      <td>1</td>\n",
       "    </tr>\n",
       "    <tr>\n",
       "      <th>5</th>\n",
       "      <td>1000</td>\n",
       "      <td>10</td>\n",
       "      <td>350.0</td>\n",
       "      <td>57.0</td>\n",
       "      <td>73.0</td>\n",
       "      <td>15.0</td>\n",
       "      <td>52</td>\n",
       "      <td>NaT</td>\n",
       "      <td>Краснодар</td>\n",
       "      <td>Рафаил</td>\n",
       "      <td>Верещагин</td>\n",
       "      <td>2018-05-25</td>\n",
       "      <td>ultra</td>\n",
       "      <td>1000</td>\n",
       "      <td>30</td>\n",
       "      <td>3000</td>\n",
       "      <td>1950</td>\n",
       "      <td>150</td>\n",
       "      <td>1</td>\n",
       "      <td>1</td>\n",
       "    </tr>\n",
       "    <tr>\n",
       "      <th>6</th>\n",
       "      <td>1000</td>\n",
       "      <td>11</td>\n",
       "      <td>338.0</td>\n",
       "      <td>43.0</td>\n",
       "      <td>58.0</td>\n",
       "      <td>15.0</td>\n",
       "      <td>52</td>\n",
       "      <td>NaT</td>\n",
       "      <td>Краснодар</td>\n",
       "      <td>Рафаил</td>\n",
       "      <td>Верещагин</td>\n",
       "      <td>2018-05-25</td>\n",
       "      <td>ultra</td>\n",
       "      <td>1000</td>\n",
       "      <td>30</td>\n",
       "      <td>3000</td>\n",
       "      <td>1950</td>\n",
       "      <td>150</td>\n",
       "      <td>1</td>\n",
       "      <td>1</td>\n",
       "    </tr>\n",
       "    <tr>\n",
       "      <th>7</th>\n",
       "      <td>1000</td>\n",
       "      <td>12</td>\n",
       "      <td>333.0</td>\n",
       "      <td>46.0</td>\n",
       "      <td>70.0</td>\n",
       "      <td>10.0</td>\n",
       "      <td>52</td>\n",
       "      <td>NaT</td>\n",
       "      <td>Краснодар</td>\n",
       "      <td>Рафаил</td>\n",
       "      <td>Верещагин</td>\n",
       "      <td>2018-05-25</td>\n",
       "      <td>ultra</td>\n",
       "      <td>1000</td>\n",
       "      <td>30</td>\n",
       "      <td>3000</td>\n",
       "      <td>1950</td>\n",
       "      <td>150</td>\n",
       "      <td>1</td>\n",
       "      <td>1</td>\n",
       "    </tr>\n",
       "    <tr>\n",
       "      <th>8</th>\n",
       "      <td>1001</td>\n",
       "      <td>11</td>\n",
       "      <td>430.0</td>\n",
       "      <td>59.0</td>\n",
       "      <td>NaN</td>\n",
       "      <td>18.0</td>\n",
       "      <td>41</td>\n",
       "      <td>NaT</td>\n",
       "      <td>Москва</td>\n",
       "      <td>Иван</td>\n",
       "      <td>Ежов</td>\n",
       "      <td>2018-11-01</td>\n",
       "      <td>smart</td>\n",
       "      <td>50</td>\n",
       "      <td>15</td>\n",
       "      <td>500</td>\n",
       "      <td>550</td>\n",
       "      <td>200</td>\n",
       "      <td>3</td>\n",
       "      <td>3</td>\n",
       "    </tr>\n",
       "    <tr>\n",
       "      <th>9</th>\n",
       "      <td>1001</td>\n",
       "      <td>12</td>\n",
       "      <td>414.0</td>\n",
       "      <td>63.0</td>\n",
       "      <td>NaN</td>\n",
       "      <td>14.0</td>\n",
       "      <td>41</td>\n",
       "      <td>NaT</td>\n",
       "      <td>Москва</td>\n",
       "      <td>Иван</td>\n",
       "      <td>Ежов</td>\n",
       "      <td>2018-11-01</td>\n",
       "      <td>smart</td>\n",
       "      <td>50</td>\n",
       "      <td>15</td>\n",
       "      <td>500</td>\n",
       "      <td>550</td>\n",
       "      <td>200</td>\n",
       "      <td>3</td>\n",
       "      <td>3</td>\n",
       "    </tr>\n",
       "  </tbody>\n",
       "</table>\n",
       "</div>"
      ],
      "text/plain": [
       "   user_id  month  month_calls_duration  calls_total_in_month  \\\n",
       "0     1000      5                 159.0                  22.0   \n",
       "1     1000      6                 172.0                  43.0   \n",
       "2     1000      7                 340.0                  47.0   \n",
       "3     1000      8                 408.0                  52.0   \n",
       "4     1000      9                 466.0                  58.0   \n",
       "5     1000     10                 350.0                  57.0   \n",
       "6     1000     11                 338.0                  43.0   \n",
       "7     1000     12                 333.0                  46.0   \n",
       "8     1001     11                 430.0                  59.0   \n",
       "9     1001     12                 414.0                  63.0   \n",
       "\n",
       "   sms_total_in_month  gb_total_in_month  age churn_date       city  \\\n",
       "0                22.0                3.0   52        NaT  Краснодар   \n",
       "1                60.0               23.0   52        NaT  Краснодар   \n",
       "2                75.0               14.0   52        NaT  Краснодар   \n",
       "3                81.0               14.0   52        NaT  Краснодар   \n",
       "4                57.0               15.0   52        NaT  Краснодар   \n",
       "5                73.0               15.0   52        NaT  Краснодар   \n",
       "6                58.0               15.0   52        NaT  Краснодар   \n",
       "7                70.0               10.0   52        NaT  Краснодар   \n",
       "8                 NaN               18.0   41        NaT     Москва   \n",
       "9                 NaN               14.0   41        NaT     Москва   \n",
       "\n",
       "  first_name  last_name   reg_date tariff  messages_included  \\\n",
       "0     Рафаил  Верещагин 2018-05-25  ultra               1000   \n",
       "1     Рафаил  Верещагин 2018-05-25  ultra               1000   \n",
       "2     Рафаил  Верещагин 2018-05-25  ultra               1000   \n",
       "3     Рафаил  Верещагин 2018-05-25  ultra               1000   \n",
       "4     Рафаил  Верещагин 2018-05-25  ultra               1000   \n",
       "5     Рафаил  Верещагин 2018-05-25  ultra               1000   \n",
       "6     Рафаил  Верещагин 2018-05-25  ultra               1000   \n",
       "7     Рафаил  Верещагин 2018-05-25  ultra               1000   \n",
       "8       Иван       Ежов 2018-11-01  smart                 50   \n",
       "9       Иван       Ежов 2018-11-01  smart                 50   \n",
       "\n",
       "   gb_per_month_included  minutes_included  rub_monthly_fee  rub_per_gb  \\\n",
       "0                     30              3000             1950         150   \n",
       "1                     30              3000             1950         150   \n",
       "2                     30              3000             1950         150   \n",
       "3                     30              3000             1950         150   \n",
       "4                     30              3000             1950         150   \n",
       "5                     30              3000             1950         150   \n",
       "6                     30              3000             1950         150   \n",
       "7                     30              3000             1950         150   \n",
       "8                     15               500              550         200   \n",
       "9                     15               500              550         200   \n",
       "\n",
       "   rub_per_message  rub_per_minute  \n",
       "0                1               1  \n",
       "1                1               1  \n",
       "2                1               1  \n",
       "3                1               1  \n",
       "4                1               1  \n",
       "5                1               1  \n",
       "6                1               1  \n",
       "7                1               1  \n",
       "8                3               3  \n",
       "9                3               3  "
      ]
     },
     "metadata": {},
     "output_type": "display_data"
    },
    {
     "data": {
      "text/html": [
       "<div>\n",
       "<style scoped>\n",
       "    .dataframe tbody tr th:only-of-type {\n",
       "        vertical-align: middle;\n",
       "    }\n",
       "\n",
       "    .dataframe tbody tr th {\n",
       "        vertical-align: top;\n",
       "    }\n",
       "\n",
       "    .dataframe thead th {\n",
       "        text-align: right;\n",
       "    }\n",
       "</style>\n",
       "<table border=\"1\" class=\"dataframe\">\n",
       "  <thead>\n",
       "    <tr style=\"text-align: right;\">\n",
       "      <th></th>\n",
       "      <th>user_id</th>\n",
       "      <th>month</th>\n",
       "      <th>month_calls_duration</th>\n",
       "      <th>calls_total_in_month</th>\n",
       "      <th>sms_total_in_month</th>\n",
       "      <th>gb_total_in_month</th>\n",
       "      <th>age</th>\n",
       "      <th>churn_date</th>\n",
       "      <th>city</th>\n",
       "      <th>first_name</th>\n",
       "      <th>last_name</th>\n",
       "      <th>reg_date</th>\n",
       "      <th>tariff</th>\n",
       "      <th>messages_included</th>\n",
       "      <th>gb_per_month_included</th>\n",
       "      <th>minutes_included</th>\n",
       "      <th>rub_monthly_fee</th>\n",
       "      <th>rub_per_gb</th>\n",
       "      <th>rub_per_message</th>\n",
       "      <th>rub_per_minute</th>\n",
       "    </tr>\n",
       "  </thead>\n",
       "  <tbody>\n",
       "    <tr>\n",
       "      <th>3204</th>\n",
       "      <td>1473</td>\n",
       "      <td>9</td>\n",
       "      <td>NaN</td>\n",
       "      <td>NaN</td>\n",
       "      <td>19.0</td>\n",
       "      <td>17.0</td>\n",
       "      <td>18</td>\n",
       "      <td>NaT</td>\n",
       "      <td>Красноярск</td>\n",
       "      <td>Николай</td>\n",
       "      <td>Лебедев</td>\n",
       "      <td>2018-08-05</td>\n",
       "      <td>ultra</td>\n",
       "      <td>1000</td>\n",
       "      <td>30</td>\n",
       "      <td>3000</td>\n",
       "      <td>1950</td>\n",
       "      <td>150</td>\n",
       "      <td>1</td>\n",
       "      <td>1</td>\n",
       "    </tr>\n",
       "    <tr>\n",
       "      <th>3205</th>\n",
       "      <td>1473</td>\n",
       "      <td>10</td>\n",
       "      <td>NaN</td>\n",
       "      <td>NaN</td>\n",
       "      <td>20.0</td>\n",
       "      <td>14.0</td>\n",
       "      <td>18</td>\n",
       "      <td>NaT</td>\n",
       "      <td>Красноярск</td>\n",
       "      <td>Николай</td>\n",
       "      <td>Лебедев</td>\n",
       "      <td>2018-08-05</td>\n",
       "      <td>ultra</td>\n",
       "      <td>1000</td>\n",
       "      <td>30</td>\n",
       "      <td>3000</td>\n",
       "      <td>1950</td>\n",
       "      <td>150</td>\n",
       "      <td>1</td>\n",
       "      <td>1</td>\n",
       "    </tr>\n",
       "    <tr>\n",
       "      <th>3206</th>\n",
       "      <td>1473</td>\n",
       "      <td>11</td>\n",
       "      <td>NaN</td>\n",
       "      <td>NaN</td>\n",
       "      <td>14.0</td>\n",
       "      <td>22.0</td>\n",
       "      <td>18</td>\n",
       "      <td>NaT</td>\n",
       "      <td>Красноярск</td>\n",
       "      <td>Николай</td>\n",
       "      <td>Лебедев</td>\n",
       "      <td>2018-08-05</td>\n",
       "      <td>ultra</td>\n",
       "      <td>1000</td>\n",
       "      <td>30</td>\n",
       "      <td>3000</td>\n",
       "      <td>1950</td>\n",
       "      <td>150</td>\n",
       "      <td>1</td>\n",
       "      <td>1</td>\n",
       "    </tr>\n",
       "    <tr>\n",
       "      <th>3207</th>\n",
       "      <td>1473</td>\n",
       "      <td>12</td>\n",
       "      <td>NaN</td>\n",
       "      <td>NaN</td>\n",
       "      <td>20.0</td>\n",
       "      <td>18.0</td>\n",
       "      <td>18</td>\n",
       "      <td>NaT</td>\n",
       "      <td>Красноярск</td>\n",
       "      <td>Николай</td>\n",
       "      <td>Лебедев</td>\n",
       "      <td>2018-08-05</td>\n",
       "      <td>ultra</td>\n",
       "      <td>1000</td>\n",
       "      <td>30</td>\n",
       "      <td>3000</td>\n",
       "      <td>1950</td>\n",
       "      <td>150</td>\n",
       "      <td>1</td>\n",
       "      <td>1</td>\n",
       "    </tr>\n",
       "    <tr>\n",
       "      <th>3208</th>\n",
       "      <td>1489</td>\n",
       "      <td>8</td>\n",
       "      <td>NaN</td>\n",
       "      <td>NaN</td>\n",
       "      <td>17.0</td>\n",
       "      <td>11.0</td>\n",
       "      <td>35</td>\n",
       "      <td>NaT</td>\n",
       "      <td>Санкт-Петербург</td>\n",
       "      <td>Павел</td>\n",
       "      <td>Гончаров</td>\n",
       "      <td>2018-08-15</td>\n",
       "      <td>smart</td>\n",
       "      <td>50</td>\n",
       "      <td>15</td>\n",
       "      <td>500</td>\n",
       "      <td>550</td>\n",
       "      <td>200</td>\n",
       "      <td>3</td>\n",
       "      <td>3</td>\n",
       "    </tr>\n",
       "    <tr>\n",
       "      <th>3209</th>\n",
       "      <td>1489</td>\n",
       "      <td>9</td>\n",
       "      <td>NaN</td>\n",
       "      <td>NaN</td>\n",
       "      <td>32.0</td>\n",
       "      <td>17.0</td>\n",
       "      <td>35</td>\n",
       "      <td>NaT</td>\n",
       "      <td>Санкт-Петербург</td>\n",
       "      <td>Павел</td>\n",
       "      <td>Гончаров</td>\n",
       "      <td>2018-08-15</td>\n",
       "      <td>smart</td>\n",
       "      <td>50</td>\n",
       "      <td>15</td>\n",
       "      <td>500</td>\n",
       "      <td>550</td>\n",
       "      <td>200</td>\n",
       "      <td>3</td>\n",
       "      <td>3</td>\n",
       "    </tr>\n",
       "    <tr>\n",
       "      <th>3210</th>\n",
       "      <td>1489</td>\n",
       "      <td>10</td>\n",
       "      <td>NaN</td>\n",
       "      <td>NaN</td>\n",
       "      <td>21.0</td>\n",
       "      <td>20.0</td>\n",
       "      <td>35</td>\n",
       "      <td>NaT</td>\n",
       "      <td>Санкт-Петербург</td>\n",
       "      <td>Павел</td>\n",
       "      <td>Гончаров</td>\n",
       "      <td>2018-08-15</td>\n",
       "      <td>smart</td>\n",
       "      <td>50</td>\n",
       "      <td>15</td>\n",
       "      <td>500</td>\n",
       "      <td>550</td>\n",
       "      <td>200</td>\n",
       "      <td>3</td>\n",
       "      <td>3</td>\n",
       "    </tr>\n",
       "    <tr>\n",
       "      <th>3211</th>\n",
       "      <td>1489</td>\n",
       "      <td>11</td>\n",
       "      <td>NaN</td>\n",
       "      <td>NaN</td>\n",
       "      <td>20.0</td>\n",
       "      <td>18.0</td>\n",
       "      <td>35</td>\n",
       "      <td>NaT</td>\n",
       "      <td>Санкт-Петербург</td>\n",
       "      <td>Павел</td>\n",
       "      <td>Гончаров</td>\n",
       "      <td>2018-08-15</td>\n",
       "      <td>smart</td>\n",
       "      <td>50</td>\n",
       "      <td>15</td>\n",
       "      <td>500</td>\n",
       "      <td>550</td>\n",
       "      <td>200</td>\n",
       "      <td>3</td>\n",
       "      <td>3</td>\n",
       "    </tr>\n",
       "    <tr>\n",
       "      <th>3212</th>\n",
       "      <td>1489</td>\n",
       "      <td>12</td>\n",
       "      <td>NaN</td>\n",
       "      <td>NaN</td>\n",
       "      <td>35.0</td>\n",
       "      <td>17.0</td>\n",
       "      <td>35</td>\n",
       "      <td>NaT</td>\n",
       "      <td>Санкт-Петербург</td>\n",
       "      <td>Павел</td>\n",
       "      <td>Гончаров</td>\n",
       "      <td>2018-08-15</td>\n",
       "      <td>smart</td>\n",
       "      <td>50</td>\n",
       "      <td>15</td>\n",
       "      <td>500</td>\n",
       "      <td>550</td>\n",
       "      <td>200</td>\n",
       "      <td>3</td>\n",
       "      <td>3</td>\n",
       "    </tr>\n",
       "    <tr>\n",
       "      <th>3213</th>\n",
       "      <td>1476</td>\n",
       "      <td>4</td>\n",
       "      <td>NaN</td>\n",
       "      <td>NaN</td>\n",
       "      <td>NaN</td>\n",
       "      <td>1.0</td>\n",
       "      <td>50</td>\n",
       "      <td>NaT</td>\n",
       "      <td>Москва</td>\n",
       "      <td>Валентина</td>\n",
       "      <td>Семенова</td>\n",
       "      <td>2018-04-30</td>\n",
       "      <td>ultra</td>\n",
       "      <td>1000</td>\n",
       "      <td>30</td>\n",
       "      <td>3000</td>\n",
       "      <td>1950</td>\n",
       "      <td>150</td>\n",
       "      <td>1</td>\n",
       "      <td>1</td>\n",
       "    </tr>\n",
       "  </tbody>\n",
       "</table>\n",
       "</div>"
      ],
      "text/plain": [
       "      user_id  month  month_calls_duration  calls_total_in_month  \\\n",
       "3204     1473      9                   NaN                   NaN   \n",
       "3205     1473     10                   NaN                   NaN   \n",
       "3206     1473     11                   NaN                   NaN   \n",
       "3207     1473     12                   NaN                   NaN   \n",
       "3208     1489      8                   NaN                   NaN   \n",
       "3209     1489      9                   NaN                   NaN   \n",
       "3210     1489     10                   NaN                   NaN   \n",
       "3211     1489     11                   NaN                   NaN   \n",
       "3212     1489     12                   NaN                   NaN   \n",
       "3213     1476      4                   NaN                   NaN   \n",
       "\n",
       "      sms_total_in_month  gb_total_in_month  age churn_date             city  \\\n",
       "3204                19.0               17.0   18        NaT       Красноярск   \n",
       "3205                20.0               14.0   18        NaT       Красноярск   \n",
       "3206                14.0               22.0   18        NaT       Красноярск   \n",
       "3207                20.0               18.0   18        NaT       Красноярск   \n",
       "3208                17.0               11.0   35        NaT  Санкт-Петербург   \n",
       "3209                32.0               17.0   35        NaT  Санкт-Петербург   \n",
       "3210                21.0               20.0   35        NaT  Санкт-Петербург   \n",
       "3211                20.0               18.0   35        NaT  Санкт-Петербург   \n",
       "3212                35.0               17.0   35        NaT  Санкт-Петербург   \n",
       "3213                 NaN                1.0   50        NaT           Москва   \n",
       "\n",
       "     first_name last_name   reg_date tariff  messages_included  \\\n",
       "3204    Николай   Лебедев 2018-08-05  ultra               1000   \n",
       "3205    Николай   Лебедев 2018-08-05  ultra               1000   \n",
       "3206    Николай   Лебедев 2018-08-05  ultra               1000   \n",
       "3207    Николай   Лебедев 2018-08-05  ultra               1000   \n",
       "3208      Павел  Гончаров 2018-08-15  smart                 50   \n",
       "3209      Павел  Гончаров 2018-08-15  smart                 50   \n",
       "3210      Павел  Гончаров 2018-08-15  smart                 50   \n",
       "3211      Павел  Гончаров 2018-08-15  smart                 50   \n",
       "3212      Павел  Гончаров 2018-08-15  smart                 50   \n",
       "3213  Валентина  Семенова 2018-04-30  ultra               1000   \n",
       "\n",
       "      gb_per_month_included  minutes_included  rub_monthly_fee  rub_per_gb  \\\n",
       "3204                     30              3000             1950         150   \n",
       "3205                     30              3000             1950         150   \n",
       "3206                     30              3000             1950         150   \n",
       "3207                     30              3000             1950         150   \n",
       "3208                     15               500              550         200   \n",
       "3209                     15               500              550         200   \n",
       "3210                     15               500              550         200   \n",
       "3211                     15               500              550         200   \n",
       "3212                     15               500              550         200   \n",
       "3213                     30              3000             1950         150   \n",
       "\n",
       "      rub_per_message  rub_per_minute  \n",
       "3204                1               1  \n",
       "3205                1               1  \n",
       "3206                1               1  \n",
       "3207                1               1  \n",
       "3208                3               3  \n",
       "3209                3               3  \n",
       "3210                3               3  \n",
       "3211                3               3  \n",
       "3212                3               3  \n",
       "3213                1               1  "
      ]
     },
     "metadata": {},
     "output_type": "display_data"
    },
    {
     "data": {
      "text/html": [
       "<div>\n",
       "<style scoped>\n",
       "    .dataframe tbody tr th:only-of-type {\n",
       "        vertical-align: middle;\n",
       "    }\n",
       "\n",
       "    .dataframe tbody tr th {\n",
       "        vertical-align: top;\n",
       "    }\n",
       "\n",
       "    .dataframe thead th {\n",
       "        text-align: right;\n",
       "    }\n",
       "</style>\n",
       "<table border=\"1\" class=\"dataframe\">\n",
       "  <thead>\n",
       "    <tr style=\"text-align: right;\">\n",
       "      <th></th>\n",
       "      <th>user_id</th>\n",
       "      <th>month</th>\n",
       "      <th>month_calls_duration</th>\n",
       "      <th>calls_total_in_month</th>\n",
       "      <th>sms_total_in_month</th>\n",
       "      <th>gb_total_in_month</th>\n",
       "      <th>age</th>\n",
       "      <th>messages_included</th>\n",
       "      <th>gb_per_month_included</th>\n",
       "      <th>minutes_included</th>\n",
       "      <th>rub_monthly_fee</th>\n",
       "      <th>rub_per_gb</th>\n",
       "      <th>rub_per_message</th>\n",
       "      <th>rub_per_minute</th>\n",
       "    </tr>\n",
       "  </thead>\n",
       "  <tbody>\n",
       "    <tr>\n",
       "      <th>count</th>\n",
       "      <td>3214.000000</td>\n",
       "      <td>3214.000000</td>\n",
       "      <td>3174.000000</td>\n",
       "      <td>3174.000000</td>\n",
       "      <td>2717.000000</td>\n",
       "      <td>3201.000000</td>\n",
       "      <td>3214.000000</td>\n",
       "      <td>3214.000000</td>\n",
       "      <td>3214.000000</td>\n",
       "      <td>3214.000000</td>\n",
       "      <td>3214.000000</td>\n",
       "      <td>3214.000000</td>\n",
       "      <td>3214.000000</td>\n",
       "      <td>3214.000000</td>\n",
       "    </tr>\n",
       "    <tr>\n",
       "      <th>mean</th>\n",
       "      <td>1251.590230</td>\n",
       "      <td>8.317362</td>\n",
       "      <td>456.931632</td>\n",
       "      <td>63.833333</td>\n",
       "      <td>45.283769</td>\n",
       "      <td>17.369260</td>\n",
       "      <td>46.641568</td>\n",
       "      <td>341.148102</td>\n",
       "      <td>19.597075</td>\n",
       "      <td>1266.179216</td>\n",
       "      <td>979.060361</td>\n",
       "      <td>184.676416</td>\n",
       "      <td>2.387057</td>\n",
       "      <td>2.387057</td>\n",
       "    </tr>\n",
       "    <tr>\n",
       "      <th>std</th>\n",
       "      <td>144.659172</td>\n",
       "      <td>2.905413</td>\n",
       "      <td>238.031270</td>\n",
       "      <td>32.678036</td>\n",
       "      <td>35.051363</td>\n",
       "      <td>7.332836</td>\n",
       "      <td>16.586109</td>\n",
       "      <td>438.044726</td>\n",
       "      <td>6.916496</td>\n",
       "      <td>1152.749279</td>\n",
       "      <td>645.539596</td>\n",
       "      <td>23.054986</td>\n",
       "      <td>0.922199</td>\n",
       "      <td>0.922199</td>\n",
       "    </tr>\n",
       "    <tr>\n",
       "      <th>min</th>\n",
       "      <td>1000.000000</td>\n",
       "      <td>1.000000</td>\n",
       "      <td>0.000000</td>\n",
       "      <td>1.000000</td>\n",
       "      <td>1.000000</td>\n",
       "      <td>1.000000</td>\n",
       "      <td>18.000000</td>\n",
       "      <td>50.000000</td>\n",
       "      <td>15.000000</td>\n",
       "      <td>500.000000</td>\n",
       "      <td>550.000000</td>\n",
       "      <td>150.000000</td>\n",
       "      <td>1.000000</td>\n",
       "      <td>1.000000</td>\n",
       "    </tr>\n",
       "    <tr>\n",
       "      <th>25%</th>\n",
       "      <td>1125.000000</td>\n",
       "      <td>6.000000</td>\n",
       "      <td>290.000000</td>\n",
       "      <td>41.000000</td>\n",
       "      <td>19.000000</td>\n",
       "      <td>13.000000</td>\n",
       "      <td>32.000000</td>\n",
       "      <td>50.000000</td>\n",
       "      <td>15.000000</td>\n",
       "      <td>500.000000</td>\n",
       "      <td>550.000000</td>\n",
       "      <td>150.000000</td>\n",
       "      <td>1.000000</td>\n",
       "      <td>1.000000</td>\n",
       "    </tr>\n",
       "    <tr>\n",
       "      <th>50%</th>\n",
       "      <td>1253.000000</td>\n",
       "      <td>9.000000</td>\n",
       "      <td>447.000000</td>\n",
       "      <td>63.000000</td>\n",
       "      <td>38.000000</td>\n",
       "      <td>17.000000</td>\n",
       "      <td>46.000000</td>\n",
       "      <td>50.000000</td>\n",
       "      <td>15.000000</td>\n",
       "      <td>500.000000</td>\n",
       "      <td>550.000000</td>\n",
       "      <td>200.000000</td>\n",
       "      <td>3.000000</td>\n",
       "      <td>3.000000</td>\n",
       "    </tr>\n",
       "    <tr>\n",
       "      <th>75%</th>\n",
       "      <td>1378.750000</td>\n",
       "      <td>11.000000</td>\n",
       "      <td>592.000000</td>\n",
       "      <td>83.000000</td>\n",
       "      <td>63.000000</td>\n",
       "      <td>21.000000</td>\n",
       "      <td>62.000000</td>\n",
       "      <td>1000.000000</td>\n",
       "      <td>30.000000</td>\n",
       "      <td>3000.000000</td>\n",
       "      <td>1950.000000</td>\n",
       "      <td>200.000000</td>\n",
       "      <td>3.000000</td>\n",
       "      <td>3.000000</td>\n",
       "    </tr>\n",
       "    <tr>\n",
       "      <th>max</th>\n",
       "      <td>1499.000000</td>\n",
       "      <td>12.000000</td>\n",
       "      <td>1673.000000</td>\n",
       "      <td>244.000000</td>\n",
       "      <td>224.000000</td>\n",
       "      <td>49.000000</td>\n",
       "      <td>75.000000</td>\n",
       "      <td>1000.000000</td>\n",
       "      <td>30.000000</td>\n",
       "      <td>3000.000000</td>\n",
       "      <td>1950.000000</td>\n",
       "      <td>200.000000</td>\n",
       "      <td>3.000000</td>\n",
       "      <td>3.000000</td>\n",
       "    </tr>\n",
       "  </tbody>\n",
       "</table>\n",
       "</div>"
      ],
      "text/plain": [
       "           user_id        month  month_calls_duration  calls_total_in_month  \\\n",
       "count  3214.000000  3214.000000           3174.000000           3174.000000   \n",
       "mean   1251.590230     8.317362            456.931632             63.833333   \n",
       "std     144.659172     2.905413            238.031270             32.678036   \n",
       "min    1000.000000     1.000000              0.000000              1.000000   \n",
       "25%    1125.000000     6.000000            290.000000             41.000000   \n",
       "50%    1253.000000     9.000000            447.000000             63.000000   \n",
       "75%    1378.750000    11.000000            592.000000             83.000000   \n",
       "max    1499.000000    12.000000           1673.000000            244.000000   \n",
       "\n",
       "       sms_total_in_month  gb_total_in_month          age  messages_included  \\\n",
       "count         2717.000000        3201.000000  3214.000000        3214.000000   \n",
       "mean            45.283769          17.369260    46.641568         341.148102   \n",
       "std             35.051363           7.332836    16.586109         438.044726   \n",
       "min              1.000000           1.000000    18.000000          50.000000   \n",
       "25%             19.000000          13.000000    32.000000          50.000000   \n",
       "50%             38.000000          17.000000    46.000000          50.000000   \n",
       "75%             63.000000          21.000000    62.000000        1000.000000   \n",
       "max            224.000000          49.000000    75.000000        1000.000000   \n",
       "\n",
       "       gb_per_month_included  minutes_included  rub_monthly_fee   rub_per_gb  \\\n",
       "count            3214.000000       3214.000000      3214.000000  3214.000000   \n",
       "mean               19.597075       1266.179216       979.060361   184.676416   \n",
       "std                 6.916496       1152.749279       645.539596    23.054986   \n",
       "min                15.000000        500.000000       550.000000   150.000000   \n",
       "25%                15.000000        500.000000       550.000000   150.000000   \n",
       "50%                15.000000        500.000000       550.000000   200.000000   \n",
       "75%                30.000000       3000.000000      1950.000000   200.000000   \n",
       "max                30.000000       3000.000000      1950.000000   200.000000   \n",
       "\n",
       "       rub_per_message  rub_per_minute  \n",
       "count      3214.000000     3214.000000  \n",
       "mean          2.387057        2.387057  \n",
       "std           0.922199        0.922199  \n",
       "min           1.000000        1.000000  \n",
       "25%           1.000000        1.000000  \n",
       "50%           3.000000        3.000000  \n",
       "75%           3.000000        3.000000  \n",
       "max           3.000000        3.000000  "
      ]
     },
     "metadata": {},
     "output_type": "display_data"
    },
    {
     "name": "stdout",
     "output_type": "stream",
     "text": [
      "<class 'pandas.core.frame.DataFrame'>\n",
      "Int64Index: 3214 entries, 0 to 3213\n",
      "Data columns (total 20 columns):\n",
      " #   Column                 Non-Null Count  Dtype         \n",
      "---  ------                 --------------  -----         \n",
      " 0   user_id                3214 non-null   int64         \n",
      " 1   month                  3214 non-null   int64         \n",
      " 2   month_calls_duration   3174 non-null   float64       \n",
      " 3   calls_total_in_month   3174 non-null   float64       \n",
      " 4   sms_total_in_month     2717 non-null   float64       \n",
      " 5   gb_total_in_month      3201 non-null   float64       \n",
      " 6   age                    3214 non-null   int64         \n",
      " 7   churn_date             187 non-null    datetime64[ns]\n",
      " 8   city                   3214 non-null   object        \n",
      " 9   first_name             3214 non-null   object        \n",
      " 10  last_name              3214 non-null   object        \n",
      " 11  reg_date               3214 non-null   datetime64[ns]\n",
      " 12  tariff                 3214 non-null   object        \n",
      " 13  messages_included      3214 non-null   int64         \n",
      " 14  gb_per_month_included  3214 non-null   int64         \n",
      " 15  minutes_included       3214 non-null   int64         \n",
      " 16  rub_monthly_fee        3214 non-null   int64         \n",
      " 17  rub_per_gb             3214 non-null   int64         \n",
      " 18  rub_per_message        3214 non-null   int64         \n",
      " 19  rub_per_minute         3214 non-null   int64         \n",
      "dtypes: datetime64[ns](2), float64(4), int64(10), object(4)\n",
      "memory usage: 527.3+ KB\n"
     ]
    }
   ],
   "source": [
    "# Посмотрим данные в новой таблице.\n",
    "table_info(data)"
   ]
  },
  {
   "cell_type": "markdown",
   "metadata": {},
   "source": [
    "Видим в таблице пропуски в столбцах `month_calls_duration`, `calls_total_in_month`, `sms_total_in_month`, `gb_total_in_month`. Пропуски обусловлены тем что пользователи могли не иcпользовать ту или иную услугу в конкретный месяц, можно смело заполнять пропуски в этих столбцах нулями. Пропуски в столбце `churn_date` описывали ранее, данный столбец не трогаем."
   ]
  },
  {
   "cell_type": "code",
   "execution_count": 54,
   "metadata": {},
   "outputs": [],
   "source": [
    "# Проставим нули вместо пропусков в указанных выше столбцах.\n",
    "data['sms_total_in_month'] = data['sms_total_in_month'].fillna(0)\n",
    "data['gb_total_in_month'] = data['gb_total_in_month'].fillna(0)\n",
    "data['month_calls_duration'] = data['month_calls_duration'].fillna(0)\n",
    "data['calls_total_in_month'] = data['calls_total_in_month'].fillna(0)"
   ]
  },
  {
   "cell_type": "code",
   "execution_count": 55,
   "metadata": {},
   "outputs": [
    {
     "data": {
      "text/plain": [
       "user_id                     0\n",
       "month                       0\n",
       "month_calls_duration        0\n",
       "calls_total_in_month        0\n",
       "sms_total_in_month          0\n",
       "gb_total_in_month           0\n",
       "age                         0\n",
       "churn_date               3027\n",
       "city                        0\n",
       "first_name                  0\n",
       "last_name                   0\n",
       "reg_date                    0\n",
       "tariff                      0\n",
       "messages_included           0\n",
       "gb_per_month_included       0\n",
       "minutes_included            0\n",
       "rub_monthly_fee             0\n",
       "rub_per_gb                  0\n",
       "rub_per_message             0\n",
       "rub_per_minute              0\n",
       "dtype: int64"
      ]
     },
     "execution_count": 55,
     "metadata": {},
     "output_type": "execute_result"
    }
   ],
   "source": [
    "# Проверим не осталось ли пропусков.\n",
    "data.isna().sum()"
   ]
  },
  {
   "cell_type": "code",
   "execution_count": 56,
   "metadata": {},
   "outputs": [
    {
     "data": {
      "text/plain": [
       "0"
      ]
     },
     "execution_count": 56,
     "metadata": {},
     "output_type": "execute_result"
    }
   ],
   "source": [
    "# На всякий случай проверим таблицу на дубликаты.\n",
    "data.duplicated().sum()"
   ]
  },
  {
   "cell_type": "markdown",
   "metadata": {},
   "source": [
    "Пропущенных значений и дубликатов в полученной таблице не осталось. Теперь можно приступать к подсчету помесячной выручки."
   ]
  },
  {
   "cell_type": "markdown",
   "metadata": {},
   "source": [
    "Напишем процедуру для подсчета расходов сверх тарифа."
   ]
  },
  {
   "cell_type": "code",
   "execution_count": 57,
   "metadata": {},
   "outputs": [],
   "source": [
    "# Процедура расчета перерасхода по тарифу.\n",
    "def tariff_overdraft(row):\n",
    "    sms = (row['sms_total_in_month'] - row['messages_included']) * row['rub_per_message']\n",
    "    mins = (row['month_calls_duration'] - row['minutes_included']) * row['rub_per_minute']\n",
    "    gbs = (row['gb_total_in_month'] - row['gb_per_month_included']) * row['rub_per_gb']\n",
    "    total = 0\n",
    "    for i in [sms, mins, gbs]:\n",
    "        if i > 0:\n",
    "            total += i\n",
    "    return total"
   ]
  },
  {
   "cell_type": "markdown",
   "metadata": {},
   "source": [
    "Добавим необходимые данные в таблицу."
   ]
  },
  {
   "cell_type": "code",
   "execution_count": 58,
   "metadata": {},
   "outputs": [],
   "source": [
    "# Добавим столбец со стоимостью перерасхода по тарифу.\n",
    "data['overdraft'] = data.apply(lambda x: tariff_overdraft(x), axis=1)"
   ]
  },
  {
   "cell_type": "code",
   "execution_count": 59,
   "metadata": {},
   "outputs": [],
   "source": [
    "# Добавим столбец с итоговым платежем за месяц.\n",
    "data['total_payment'] = data['rub_monthly_fee'] + data['overdraft']"
   ]
  },
  {
   "cell_type": "code",
   "execution_count": 60,
   "metadata": {},
   "outputs": [
    {
     "name": "stdout",
     "output_type": "stream",
     "text": [
      "<class 'pandas.core.frame.DataFrame'>\n",
      "Int64Index: 3214 entries, 0 to 3213\n",
      "Data columns (total 22 columns):\n",
      " #   Column                 Non-Null Count  Dtype         \n",
      "---  ------                 --------------  -----         \n",
      " 0   user_id                3214 non-null   int64         \n",
      " 1   month                  3214 non-null   int64         \n",
      " 2   month_calls_duration   3214 non-null   float64       \n",
      " 3   calls_total_in_month   3214 non-null   float64       \n",
      " 4   sms_total_in_month     3214 non-null   float64       \n",
      " 5   gb_total_in_month      3214 non-null   float64       \n",
      " 6   age                    3214 non-null   int64         \n",
      " 7   churn_date             187 non-null    datetime64[ns]\n",
      " 8   city                   3214 non-null   object        \n",
      " 9   first_name             3214 non-null   object        \n",
      " 10  last_name              3214 non-null   object        \n",
      " 11  reg_date               3214 non-null   datetime64[ns]\n",
      " 12  tariff                 3214 non-null   object        \n",
      " 13  messages_included      3214 non-null   int64         \n",
      " 14  gb_per_month_included  3214 non-null   int64         \n",
      " 15  minutes_included       3214 non-null   int64         \n",
      " 16  rub_monthly_fee        3214 non-null   int64         \n",
      " 17  rub_per_gb             3214 non-null   int64         \n",
      " 18  rub_per_message        3214 non-null   int64         \n",
      " 19  rub_per_minute         3214 non-null   int64         \n",
      " 20  overdraft              3214 non-null   float64       \n",
      " 21  total_payment          3214 non-null   float64       \n",
      "dtypes: datetime64[ns](2), float64(6), int64(10), object(4)\n",
      "memory usage: 577.5+ KB\n"
     ]
    }
   ],
   "source": [
    "# Посмотрим информацию по полученной таблице.\n",
    "data.info()"
   ]
  },
  {
   "cell_type": "code",
   "execution_count": 61,
   "metadata": {},
   "outputs": [],
   "source": [
    "# Приведем данные к формату int там где это нужно\n",
    "data['month_calls_duration'] = data['month_calls_duration'].astype('int')\n",
    "data['calls_total_in_month'] = data['calls_total_in_month'].astype('int')\n",
    "data['sms_total_in_month'] = data['sms_total_in_month'].astype('int')\n",
    "data['gb_total_in_month'] = data['gb_total_in_month'].astype('int')\n",
    "data['overdraft'] = data['overdraft'].astype('int')\n",
    "data['total_payment'] = data['total_payment'].astype('int')"
   ]
  },
  {
   "cell_type": "code",
   "execution_count": 62,
   "metadata": {},
   "outputs": [
    {
     "data": {
      "text/html": [
       "<div>\n",
       "<style scoped>\n",
       "    .dataframe tbody tr th:only-of-type {\n",
       "        vertical-align: middle;\n",
       "    }\n",
       "\n",
       "    .dataframe tbody tr th {\n",
       "        vertical-align: top;\n",
       "    }\n",
       "\n",
       "    .dataframe thead th {\n",
       "        text-align: right;\n",
       "    }\n",
       "</style>\n",
       "<table border=\"1\" class=\"dataframe\">\n",
       "  <thead>\n",
       "    <tr style=\"text-align: right;\">\n",
       "      <th></th>\n",
       "      <th>user_id</th>\n",
       "      <th>month</th>\n",
       "      <th>month_calls_duration</th>\n",
       "      <th>calls_total_in_month</th>\n",
       "      <th>sms_total_in_month</th>\n",
       "      <th>gb_total_in_month</th>\n",
       "      <th>age</th>\n",
       "      <th>churn_date</th>\n",
       "      <th>city</th>\n",
       "      <th>first_name</th>\n",
       "      <th>...</th>\n",
       "      <th>tariff</th>\n",
       "      <th>messages_included</th>\n",
       "      <th>gb_per_month_included</th>\n",
       "      <th>minutes_included</th>\n",
       "      <th>rub_monthly_fee</th>\n",
       "      <th>rub_per_gb</th>\n",
       "      <th>rub_per_message</th>\n",
       "      <th>rub_per_minute</th>\n",
       "      <th>overdraft</th>\n",
       "      <th>total_payment</th>\n",
       "    </tr>\n",
       "  </thead>\n",
       "  <tbody>\n",
       "    <tr>\n",
       "      <th>0</th>\n",
       "      <td>1000</td>\n",
       "      <td>5</td>\n",
       "      <td>159</td>\n",
       "      <td>22</td>\n",
       "      <td>22</td>\n",
       "      <td>3</td>\n",
       "      <td>52</td>\n",
       "      <td>NaT</td>\n",
       "      <td>Краснодар</td>\n",
       "      <td>Рафаил</td>\n",
       "      <td>...</td>\n",
       "      <td>ultra</td>\n",
       "      <td>1000</td>\n",
       "      <td>30</td>\n",
       "      <td>3000</td>\n",
       "      <td>1950</td>\n",
       "      <td>150</td>\n",
       "      <td>1</td>\n",
       "      <td>1</td>\n",
       "      <td>0</td>\n",
       "      <td>1950</td>\n",
       "    </tr>\n",
       "    <tr>\n",
       "      <th>1</th>\n",
       "      <td>1000</td>\n",
       "      <td>6</td>\n",
       "      <td>172</td>\n",
       "      <td>43</td>\n",
       "      <td>60</td>\n",
       "      <td>23</td>\n",
       "      <td>52</td>\n",
       "      <td>NaT</td>\n",
       "      <td>Краснодар</td>\n",
       "      <td>Рафаил</td>\n",
       "      <td>...</td>\n",
       "      <td>ultra</td>\n",
       "      <td>1000</td>\n",
       "      <td>30</td>\n",
       "      <td>3000</td>\n",
       "      <td>1950</td>\n",
       "      <td>150</td>\n",
       "      <td>1</td>\n",
       "      <td>1</td>\n",
       "      <td>0</td>\n",
       "      <td>1950</td>\n",
       "    </tr>\n",
       "    <tr>\n",
       "      <th>2</th>\n",
       "      <td>1000</td>\n",
       "      <td>7</td>\n",
       "      <td>340</td>\n",
       "      <td>47</td>\n",
       "      <td>75</td>\n",
       "      <td>14</td>\n",
       "      <td>52</td>\n",
       "      <td>NaT</td>\n",
       "      <td>Краснодар</td>\n",
       "      <td>Рафаил</td>\n",
       "      <td>...</td>\n",
       "      <td>ultra</td>\n",
       "      <td>1000</td>\n",
       "      <td>30</td>\n",
       "      <td>3000</td>\n",
       "      <td>1950</td>\n",
       "      <td>150</td>\n",
       "      <td>1</td>\n",
       "      <td>1</td>\n",
       "      <td>0</td>\n",
       "      <td>1950</td>\n",
       "    </tr>\n",
       "    <tr>\n",
       "      <th>3</th>\n",
       "      <td>1000</td>\n",
       "      <td>8</td>\n",
       "      <td>408</td>\n",
       "      <td>52</td>\n",
       "      <td>81</td>\n",
       "      <td>14</td>\n",
       "      <td>52</td>\n",
       "      <td>NaT</td>\n",
       "      <td>Краснодар</td>\n",
       "      <td>Рафаил</td>\n",
       "      <td>...</td>\n",
       "      <td>ultra</td>\n",
       "      <td>1000</td>\n",
       "      <td>30</td>\n",
       "      <td>3000</td>\n",
       "      <td>1950</td>\n",
       "      <td>150</td>\n",
       "      <td>1</td>\n",
       "      <td>1</td>\n",
       "      <td>0</td>\n",
       "      <td>1950</td>\n",
       "    </tr>\n",
       "    <tr>\n",
       "      <th>4</th>\n",
       "      <td>1000</td>\n",
       "      <td>9</td>\n",
       "      <td>466</td>\n",
       "      <td>58</td>\n",
       "      <td>57</td>\n",
       "      <td>15</td>\n",
       "      <td>52</td>\n",
       "      <td>NaT</td>\n",
       "      <td>Краснодар</td>\n",
       "      <td>Рафаил</td>\n",
       "      <td>...</td>\n",
       "      <td>ultra</td>\n",
       "      <td>1000</td>\n",
       "      <td>30</td>\n",
       "      <td>3000</td>\n",
       "      <td>1950</td>\n",
       "      <td>150</td>\n",
       "      <td>1</td>\n",
       "      <td>1</td>\n",
       "      <td>0</td>\n",
       "      <td>1950</td>\n",
       "    </tr>\n",
       "    <tr>\n",
       "      <th>5</th>\n",
       "      <td>1000</td>\n",
       "      <td>10</td>\n",
       "      <td>350</td>\n",
       "      <td>57</td>\n",
       "      <td>73</td>\n",
       "      <td>15</td>\n",
       "      <td>52</td>\n",
       "      <td>NaT</td>\n",
       "      <td>Краснодар</td>\n",
       "      <td>Рафаил</td>\n",
       "      <td>...</td>\n",
       "      <td>ultra</td>\n",
       "      <td>1000</td>\n",
       "      <td>30</td>\n",
       "      <td>3000</td>\n",
       "      <td>1950</td>\n",
       "      <td>150</td>\n",
       "      <td>1</td>\n",
       "      <td>1</td>\n",
       "      <td>0</td>\n",
       "      <td>1950</td>\n",
       "    </tr>\n",
       "    <tr>\n",
       "      <th>6</th>\n",
       "      <td>1000</td>\n",
       "      <td>11</td>\n",
       "      <td>338</td>\n",
       "      <td>43</td>\n",
       "      <td>58</td>\n",
       "      <td>15</td>\n",
       "      <td>52</td>\n",
       "      <td>NaT</td>\n",
       "      <td>Краснодар</td>\n",
       "      <td>Рафаил</td>\n",
       "      <td>...</td>\n",
       "      <td>ultra</td>\n",
       "      <td>1000</td>\n",
       "      <td>30</td>\n",
       "      <td>3000</td>\n",
       "      <td>1950</td>\n",
       "      <td>150</td>\n",
       "      <td>1</td>\n",
       "      <td>1</td>\n",
       "      <td>0</td>\n",
       "      <td>1950</td>\n",
       "    </tr>\n",
       "    <tr>\n",
       "      <th>7</th>\n",
       "      <td>1000</td>\n",
       "      <td>12</td>\n",
       "      <td>333</td>\n",
       "      <td>46</td>\n",
       "      <td>70</td>\n",
       "      <td>10</td>\n",
       "      <td>52</td>\n",
       "      <td>NaT</td>\n",
       "      <td>Краснодар</td>\n",
       "      <td>Рафаил</td>\n",
       "      <td>...</td>\n",
       "      <td>ultra</td>\n",
       "      <td>1000</td>\n",
       "      <td>30</td>\n",
       "      <td>3000</td>\n",
       "      <td>1950</td>\n",
       "      <td>150</td>\n",
       "      <td>1</td>\n",
       "      <td>1</td>\n",
       "      <td>0</td>\n",
       "      <td>1950</td>\n",
       "    </tr>\n",
       "    <tr>\n",
       "      <th>8</th>\n",
       "      <td>1001</td>\n",
       "      <td>11</td>\n",
       "      <td>430</td>\n",
       "      <td>59</td>\n",
       "      <td>0</td>\n",
       "      <td>18</td>\n",
       "      <td>41</td>\n",
       "      <td>NaT</td>\n",
       "      <td>Москва</td>\n",
       "      <td>Иван</td>\n",
       "      <td>...</td>\n",
       "      <td>smart</td>\n",
       "      <td>50</td>\n",
       "      <td>15</td>\n",
       "      <td>500</td>\n",
       "      <td>550</td>\n",
       "      <td>200</td>\n",
       "      <td>3</td>\n",
       "      <td>3</td>\n",
       "      <td>600</td>\n",
       "      <td>1150</td>\n",
       "    </tr>\n",
       "    <tr>\n",
       "      <th>9</th>\n",
       "      <td>1001</td>\n",
       "      <td>12</td>\n",
       "      <td>414</td>\n",
       "      <td>63</td>\n",
       "      <td>0</td>\n",
       "      <td>14</td>\n",
       "      <td>41</td>\n",
       "      <td>NaT</td>\n",
       "      <td>Москва</td>\n",
       "      <td>Иван</td>\n",
       "      <td>...</td>\n",
       "      <td>smart</td>\n",
       "      <td>50</td>\n",
       "      <td>15</td>\n",
       "      <td>500</td>\n",
       "      <td>550</td>\n",
       "      <td>200</td>\n",
       "      <td>3</td>\n",
       "      <td>3</td>\n",
       "      <td>0</td>\n",
       "      <td>550</td>\n",
       "    </tr>\n",
       "    <tr>\n",
       "      <th>10</th>\n",
       "      <td>1002</td>\n",
       "      <td>6</td>\n",
       "      <td>117</td>\n",
       "      <td>15</td>\n",
       "      <td>4</td>\n",
       "      <td>11</td>\n",
       "      <td>59</td>\n",
       "      <td>NaT</td>\n",
       "      <td>Стерлитамак</td>\n",
       "      <td>Евгений</td>\n",
       "      <td>...</td>\n",
       "      <td>smart</td>\n",
       "      <td>50</td>\n",
       "      <td>15</td>\n",
       "      <td>500</td>\n",
       "      <td>550</td>\n",
       "      <td>200</td>\n",
       "      <td>3</td>\n",
       "      <td>3</td>\n",
       "      <td>0</td>\n",
       "      <td>550</td>\n",
       "    </tr>\n",
       "    <tr>\n",
       "      <th>11</th>\n",
       "      <td>1002</td>\n",
       "      <td>7</td>\n",
       "      <td>214</td>\n",
       "      <td>26</td>\n",
       "      <td>11</td>\n",
       "      <td>18</td>\n",
       "      <td>59</td>\n",
       "      <td>NaT</td>\n",
       "      <td>Стерлитамак</td>\n",
       "      <td>Евгений</td>\n",
       "      <td>...</td>\n",
       "      <td>smart</td>\n",
       "      <td>50</td>\n",
       "      <td>15</td>\n",
       "      <td>500</td>\n",
       "      <td>550</td>\n",
       "      <td>200</td>\n",
       "      <td>3</td>\n",
       "      <td>3</td>\n",
       "      <td>600</td>\n",
       "      <td>1150</td>\n",
       "    </tr>\n",
       "    <tr>\n",
       "      <th>12</th>\n",
       "      <td>1002</td>\n",
       "      <td>8</td>\n",
       "      <td>289</td>\n",
       "      <td>42</td>\n",
       "      <td>13</td>\n",
       "      <td>20</td>\n",
       "      <td>59</td>\n",
       "      <td>NaT</td>\n",
       "      <td>Стерлитамак</td>\n",
       "      <td>Евгений</td>\n",
       "      <td>...</td>\n",
       "      <td>smart</td>\n",
       "      <td>50</td>\n",
       "      <td>15</td>\n",
       "      <td>500</td>\n",
       "      <td>550</td>\n",
       "      <td>200</td>\n",
       "      <td>3</td>\n",
       "      <td>3</td>\n",
       "      <td>1000</td>\n",
       "      <td>1550</td>\n",
       "    </tr>\n",
       "    <tr>\n",
       "      <th>13</th>\n",
       "      <td>1002</td>\n",
       "      <td>9</td>\n",
       "      <td>206</td>\n",
       "      <td>36</td>\n",
       "      <td>4</td>\n",
       "      <td>17</td>\n",
       "      <td>59</td>\n",
       "      <td>NaT</td>\n",
       "      <td>Стерлитамак</td>\n",
       "      <td>Евгений</td>\n",
       "      <td>...</td>\n",
       "      <td>smart</td>\n",
       "      <td>50</td>\n",
       "      <td>15</td>\n",
       "      <td>500</td>\n",
       "      <td>550</td>\n",
       "      <td>200</td>\n",
       "      <td>3</td>\n",
       "      <td>3</td>\n",
       "      <td>400</td>\n",
       "      <td>950</td>\n",
       "    </tr>\n",
       "    <tr>\n",
       "      <th>14</th>\n",
       "      <td>1002</td>\n",
       "      <td>10</td>\n",
       "      <td>212</td>\n",
       "      <td>33</td>\n",
       "      <td>10</td>\n",
       "      <td>14</td>\n",
       "      <td>59</td>\n",
       "      <td>NaT</td>\n",
       "      <td>Стерлитамак</td>\n",
       "      <td>Евгений</td>\n",
       "      <td>...</td>\n",
       "      <td>smart</td>\n",
       "      <td>50</td>\n",
       "      <td>15</td>\n",
       "      <td>500</td>\n",
       "      <td>550</td>\n",
       "      <td>200</td>\n",
       "      <td>3</td>\n",
       "      <td>3</td>\n",
       "      <td>0</td>\n",
       "      <td>550</td>\n",
       "    </tr>\n",
       "  </tbody>\n",
       "</table>\n",
       "<p>15 rows × 22 columns</p>\n",
       "</div>"
      ],
      "text/plain": [
       "    user_id  month  month_calls_duration  calls_total_in_month  \\\n",
       "0      1000      5                   159                    22   \n",
       "1      1000      6                   172                    43   \n",
       "2      1000      7                   340                    47   \n",
       "3      1000      8                   408                    52   \n",
       "4      1000      9                   466                    58   \n",
       "5      1000     10                   350                    57   \n",
       "6      1000     11                   338                    43   \n",
       "7      1000     12                   333                    46   \n",
       "8      1001     11                   430                    59   \n",
       "9      1001     12                   414                    63   \n",
       "10     1002      6                   117                    15   \n",
       "11     1002      7                   214                    26   \n",
       "12     1002      8                   289                    42   \n",
       "13     1002      9                   206                    36   \n",
       "14     1002     10                   212                    33   \n",
       "\n",
       "    sms_total_in_month  gb_total_in_month  age churn_date         city  \\\n",
       "0                   22                  3   52        NaT    Краснодар   \n",
       "1                   60                 23   52        NaT    Краснодар   \n",
       "2                   75                 14   52        NaT    Краснодар   \n",
       "3                   81                 14   52        NaT    Краснодар   \n",
       "4                   57                 15   52        NaT    Краснодар   \n",
       "5                   73                 15   52        NaT    Краснодар   \n",
       "6                   58                 15   52        NaT    Краснодар   \n",
       "7                   70                 10   52        NaT    Краснодар   \n",
       "8                    0                 18   41        NaT       Москва   \n",
       "9                    0                 14   41        NaT       Москва   \n",
       "10                   4                 11   59        NaT  Стерлитамак   \n",
       "11                  11                 18   59        NaT  Стерлитамак   \n",
       "12                  13                 20   59        NaT  Стерлитамак   \n",
       "13                   4                 17   59        NaT  Стерлитамак   \n",
       "14                  10                 14   59        NaT  Стерлитамак   \n",
       "\n",
       "   first_name  ... tariff messages_included gb_per_month_included  \\\n",
       "0      Рафаил  ...  ultra              1000                    30   \n",
       "1      Рафаил  ...  ultra              1000                    30   \n",
       "2      Рафаил  ...  ultra              1000                    30   \n",
       "3      Рафаил  ...  ultra              1000                    30   \n",
       "4      Рафаил  ...  ultra              1000                    30   \n",
       "5      Рафаил  ...  ultra              1000                    30   \n",
       "6      Рафаил  ...  ultra              1000                    30   \n",
       "7      Рафаил  ...  ultra              1000                    30   \n",
       "8        Иван  ...  smart                50                    15   \n",
       "9        Иван  ...  smart                50                    15   \n",
       "10    Евгений  ...  smart                50                    15   \n",
       "11    Евгений  ...  smart                50                    15   \n",
       "12    Евгений  ...  smart                50                    15   \n",
       "13    Евгений  ...  smart                50                    15   \n",
       "14    Евгений  ...  smart                50                    15   \n",
       "\n",
       "    minutes_included  rub_monthly_fee  rub_per_gb  rub_per_message  \\\n",
       "0               3000             1950         150                1   \n",
       "1               3000             1950         150                1   \n",
       "2               3000             1950         150                1   \n",
       "3               3000             1950         150                1   \n",
       "4               3000             1950         150                1   \n",
       "5               3000             1950         150                1   \n",
       "6               3000             1950         150                1   \n",
       "7               3000             1950         150                1   \n",
       "8                500              550         200                3   \n",
       "9                500              550         200                3   \n",
       "10               500              550         200                3   \n",
       "11               500              550         200                3   \n",
       "12               500              550         200                3   \n",
       "13               500              550         200                3   \n",
       "14               500              550         200                3   \n",
       "\n",
       "    rub_per_minute  overdraft  total_payment  \n",
       "0                1          0           1950  \n",
       "1                1          0           1950  \n",
       "2                1          0           1950  \n",
       "3                1          0           1950  \n",
       "4                1          0           1950  \n",
       "5                1          0           1950  \n",
       "6                1          0           1950  \n",
       "7                1          0           1950  \n",
       "8                3        600           1150  \n",
       "9                3          0            550  \n",
       "10               3          0            550  \n",
       "11               3        600           1150  \n",
       "12               3       1000           1550  \n",
       "13               3        400            950  \n",
       "14               3          0            550  \n",
       "\n",
       "[15 rows x 22 columns]"
      ]
     },
     "execution_count": 62,
     "metadata": {},
     "output_type": "execute_result"
    }
   ],
   "source": [
    "# Посмотрим первые 15 строк получившейся таблицы.\n",
    "data.head(15)"
   ]
  },
  {
   "cell_type": "markdown",
   "metadata": {},
   "source": [
    "Похоже на правду."
   ]
  },
  {
   "cell_type": "markdown",
   "metadata": {},
   "source": [
    "### Вывод по разделу \"Подготовка данных к анализу\""
   ]
  },
  {
   "cell_type": "markdown",
   "metadata": {},
   "source": [
    "**В данном разделе:**\n",
    "- Обработали полученные данные, привели эти данные к нужным форматам.\n",
    "- Посчитали количество звонков, смс и расход интернет трафика по пользователям за месяц.\n",
    "- Объединили все эти данные в единый датафрейм.\n",
    "- Расчитали переплаты пользователей по месяцам и итоговые расходы пользователей за каждый конкретный месяц.\n",
    "\n",
    "Теперь все готово к более глубокому анализу данных."
   ]
  },
  {
   "cell_type": "markdown",
   "metadata": {},
   "source": [
    "## Анализ данных."
   ]
  },
  {
   "cell_type": "markdown",
   "metadata": {},
   "source": [
    "- Опишем поведение клиентов оператора, исходя из выборки.\n",
    "- Выясним сколько минут разговора, сколько сообщений и какой объём интернет-трафика требуется пользователям каждого тарифа в месяц.\n",
    "- Посчитаем среднее количество, дисперсию и стандартное отклонение.\n",
    "- Построим гистограммы. Опишем распределения."
   ]
  },
  {
   "cell_type": "markdown",
   "metadata": {},
   "source": [
    "**Посмотрим какой тариф предпочитают пользователи.**"
   ]
  },
  {
   "cell_type": "code",
   "execution_count": 63,
   "metadata": {},
   "outputs": [
    {
     "data": {
      "text/plain": [
       "smart    2229\n",
       "ultra     985\n",
       "Name: tariff, dtype: int64"
      ]
     },
     "execution_count": 63,
     "metadata": {},
     "output_type": "execute_result"
    }
   ],
   "source": [
    "# Посмотрим количество записей по каждому из тарифов.\n",
    "data['tariff'].value_counts()"
   ]
  },
  {
   "cell_type": "code",
   "execution_count": 64,
   "metadata": {},
   "outputs": [
    {
     "data": {
      "image/png": "[encoded data removed]",
      "text/plain": [
       "<Figure size 1440x360 with 1 Axes>"
      ]
     },
     "metadata": {},
     "output_type": "display_data"
    }
   ],
   "source": [
    "# Отобразим данные по пользователям тарифов на диаграмме(нашел в интернете, приспособил под свои нужды)\n",
    "all_users = data['user_id'].count()\n",
    "def func_pct(pct):\n",
    "    value = float(pct/100.*all_users)\n",
    "    return \"{:.2f}%\\n({:.0f} чел.)\".format(pct, value)\n",
    "explode = (0.05, 0)\n",
    "axes = data.groupby('tariff')['user_id'].count().plot(kind='pie', subplots=True, fontsize=15,\n",
    "                                                                     use_index=False, shadow=True, explode=explode,\n",
    "                                                                     title = 'Распределение по клиентам', pctdistance=0.45,\n",
    "                                                                     figsize=(20,5), autopct=lambda pct: func_pct(pct))\n",
    "plt.tight_layout(pad=0)\n",
    "for ax in axes:\n",
    "    ax.legend(['smart', 'ultra'], bbox_to_anchor=(0.87,0.87), prop={'size':12})\n",
    "    ax.set_ylabel('')"
   ]
  },
  {
   "cell_type": "markdown",
   "metadata": {},
   "source": [
    "В основном пользователи предпочитают тариф `smart`."
   ]
  },
  {
   "cell_type": "markdown",
   "metadata": {},
   "source": [
    "**Изучим данные по платежам.**"
   ]
  },
  {
   "cell_type": "code",
   "execution_count": 65,
   "metadata": {},
   "outputs": [
    {
     "data": {
      "text/html": [
       "<style  type=\"text/css\" >\n",
       "</style><table id=\"T_a7f27_\" ><thead>    <tr>        <th class=\"blank level0\" ></th>        <th class=\"col_heading level0 col0\" colspan=\"6\">total_payment</th>    </tr>    <tr>        <th class=\"blank level1\" ></th>        <th class=\"col_heading level1 col0\" >min</th>        <th class=\"col_heading level1 col1\" >max</th>        <th class=\"col_heading level1 col2\" >median</th>        <th class=\"col_heading level1 col3\" >mean</th>        <th class=\"col_heading level1 col4\" >var</th>        <th class=\"col_heading level1 col5\" >std</th>    </tr>    <tr>        <th class=\"index_name level0\" >tariff</th>        <th class=\"blank\" ></th>        <th class=\"blank\" ></th>        <th class=\"blank\" ></th>        <th class=\"blank\" ></th>        <th class=\"blank\" ></th>        <th class=\"blank\" ></th>    </tr></thead><tbody>\n",
       "                <tr>\n",
       "                        <th id=\"T_a7f27_level0_row0\" class=\"row_heading level0 row0\" >smart</th>\n",
       "                        <td id=\"T_a7f27_row0_col0\" class=\"data row0 col0\" >550.00</td>\n",
       "                        <td id=\"T_a7f27_row0_col1\" class=\"data row0 col1\" >6770.00</td>\n",
       "                        <td id=\"T_a7f27_row0_col2\" class=\"data row0 col2\" >1023.00</td>\n",
       "                        <td id=\"T_a7f27_row0_col3\" class=\"data row0 col3\" >1289.97</td>\n",
       "                        <td id=\"T_a7f27_row0_col4\" class=\"data row0 col4\" >669785.71</td>\n",
       "                        <td id=\"T_a7f27_row0_col5\" class=\"data row0 col5\" >818.40</td>\n",
       "            </tr>\n",
       "            <tr>\n",
       "                        <th id=\"T_a7f27_level0_row1\" class=\"row_heading level0 row1\" >ultra</th>\n",
       "                        <td id=\"T_a7f27_row1_col0\" class=\"data row1 col0\" >1950.00</td>\n",
       "                        <td id=\"T_a7f27_row1_col1\" class=\"data row1 col1\" >4800.00</td>\n",
       "                        <td id=\"T_a7f27_row1_col2\" class=\"data row1 col2\" >1950.00</td>\n",
       "                        <td id=\"T_a7f27_row1_col3\" class=\"data row1 col3\" >2070.15</td>\n",
       "                        <td id=\"T_a7f27_row1_col4\" class=\"data row1 col4\" >141516.75</td>\n",
       "                        <td id=\"T_a7f27_row1_col5\" class=\"data row1 col5\" >376.19</td>\n",
       "            </tr>\n",
       "    </tbody></table>"
      ],
      "text/plain": [
       "<pandas.io.formats.style.Styler at 0x7f1ebc81a9d0>"
      ]
     },
     "execution_count": 65,
     "metadata": {},
     "output_type": "execute_result"
    }
   ],
   "source": [
    "# Посмотрим медиану, средние значения, дисперсию и стандартное отклонение в разрезе итоговых платежей с разбивкой по тарифам.\n",
    "data.groupby('tariff').agg({'total_payment':['min','max','median','mean','var','std']}).style.format(\"{:.2f}\")"
   ]
  },
  {
   "cell_type": "code",
   "execution_count": 66,
   "metadata": {},
   "outputs": [],
   "source": [
    "# Напишем функцию для обозначения границы тарифного плана на графике.\n",
    "def tariff_border(df, column1, column2, tariff):\n",
    "    border = df[df[column1] == tariff][column2]\n",
    "    return int(border)"
   ]
  },
  {
   "cell_type": "code",
   "execution_count": 67,
   "metadata": {},
   "outputs": [
    {
     "data": {
      "text/plain": [
       "<matplotlib.lines.Line2D at 0x7f1ebc7af190>"
      ]
     },
     "execution_count": 67,
     "metadata": {},
     "output_type": "execute_result"
    },
    {
     "data": {
      "image/png": "[encoded data removed]",
      "text/plain": [
       "<Figure size 720x360 with 1 Axes>"
      ]
     },
     "metadata": {
      "needs_background": "light"
     },
     "output_type": "display_data"
    }
   ],
   "source": [
    "# Построим график по итоговым плаежам тарифа ultra.\n",
    "data[data['tariff'] == 'ultra']['total_payment'].plot(kind='hist', bins=20, figsize = (10,5), align = 'left')\n",
    "plt.title('Платежи по тарифу ultra', size=14)\n",
    "plt.xlabel('Размер платежа, руб')\n",
    "plt.ylabel('Частота события')\n",
    "plt.axvline(x = tariff_border(tariffs, 'tariff', 'rub_monthly_fee', 'ultra'), color='r')"
   ]
  },
  {
   "cell_type": "code",
   "execution_count": 68,
   "metadata": {},
   "outputs": [
    {
     "data": {
      "text/plain": [
       "<matplotlib.lines.Line2D at 0x7f1ebb566790>"
      ]
     },
     "execution_count": 68,
     "metadata": {},
     "output_type": "execute_result"
    },
    {
     "data": {
      "image/png": "[encoded data removed]",
      "text/plain": [
       "<Figure size 720x360 with 1 Axes>"
      ]
     },
     "metadata": {
      "needs_background": "light"
     },
     "output_type": "display_data"
    }
   ],
   "source": [
    "# Построим график по итоговым плаежам тарифа smart.\n",
    "data[data['tariff'] == 'smart']['total_payment'].plot(kind='hist', bins=20, figsize = (10,5), align = 'left')\n",
    "plt.title('Платежи по тарифу smart', size=14)\n",
    "plt.xlabel('Размер платежа, руб')\n",
    "plt.ylabel('Частота события')\n",
    "plt.axvline(x = tariff_border(tariffs, 'tariff', 'rub_monthly_fee', 'smart'), color='r')"
   ]
  },
  {
   "cell_type": "code",
   "execution_count": 69,
   "metadata": {},
   "outputs": [
    {
     "data": {
      "text/plain": [
       "2039100"
      ]
     },
     "execution_count": 69,
     "metadata": {},
     "output_type": "execute_result"
    }
   ],
   "source": [
    "# Посмотрим общую выручку по тарифу.\n",
    "data[data['tariff'] == 'ultra']['total_payment'].sum()"
   ]
  },
  {
   "cell_type": "code",
   "execution_count": 70,
   "metadata": {},
   "outputs": [
    {
     "data": {
      "text/plain": [
       "2875351"
      ]
     },
     "execution_count": 70,
     "metadata": {},
     "output_type": "execute_result"
    }
   ],
   "source": [
    "# Посмотрим общую выручку по тарифу.\n",
    "data[data['tariff'] == 'smart']['total_payment'].sum()"
   ]
  },
  {
   "cell_type": "code",
   "execution_count": 71,
   "metadata": {},
   "outputs": [
    {
     "data": {
      "image/png": "[encoded data removed]",
      "text/plain": [
       "<Figure size 1440x360 with 1 Axes>"
      ]
     },
     "metadata": {},
     "output_type": "display_data"
    }
   ],
   "source": [
    "# Отобразим данные по выручке на диаграмме(нашел в интернете, приспособил под свои нужды)\n",
    "all_revenue = data['total_payment'].sum()\n",
    "def func_pct(pct):\n",
    "    value = float(pct/100.*all_revenue)\n",
    "    return \"{:.2f}%\\n({:,.0f} руб.)\".format(pct, value)\n",
    "explode = (0.05, 0)\n",
    "axes = data.groupby('tariff')['total_payment'].sum().plot(kind='pie', subplots=True, fontsize=15,\n",
    "                                                                     use_index=False, shadow=True, explode=explode,\n",
    "                                                                     title = 'Выручка', pctdistance=0.45,\n",
    "                                                                     startangle=20, figsize=(20,5),\n",
    "                                                                     autopct=lambda pct: func_pct(pct))\n",
    "for ax in axes:\n",
    "    ax.legend(['smart', 'ultra'], bbox_to_anchor=(0.87,0.87), framealpha=0.2, prop={'size':12})\n",
    "    ax.set_ylabel('')"
   ]
  },
  {
   "cell_type": "markdown",
   "metadata": {},
   "source": [
    "Судя по полученным данным, пользователи тарифа `ultra` платят в месяц больше пользователей тарифа `smart`, но при этом они реже выходят за ограничения своего тарифного плана. Общая выручка по тарифу `smart` выше выручки по тарифу `ultra`, что следовало ожидать т.к. пользователи в основном предпочитают тариф `smart`."
   ]
  },
  {
   "cell_type": "markdown",
   "metadata": {},
   "source": [
    "**Изучим данные по переплатам.**"
   ]
  },
  {
   "cell_type": "code",
   "execution_count": 72,
   "metadata": {},
   "outputs": [
    {
     "data": {
      "text/html": [
       "<style  type=\"text/css\" >\n",
       "</style><table id=\"T_544cb_\" ><thead>    <tr>        <th class=\"blank level0\" ></th>        <th class=\"col_heading level0 col0\" colspan=\"6\">overdraft</th>    </tr>    <tr>        <th class=\"blank level1\" ></th>        <th class=\"col_heading level1 col0\" >min</th>        <th class=\"col_heading level1 col1\" >max</th>        <th class=\"col_heading level1 col2\" >median</th>        <th class=\"col_heading level1 col3\" >mean</th>        <th class=\"col_heading level1 col4\" >var</th>        <th class=\"col_heading level1 col5\" >std</th>    </tr>    <tr>        <th class=\"index_name level0\" >tariff</th>        <th class=\"blank\" ></th>        <th class=\"blank\" ></th>        <th class=\"blank\" ></th>        <th class=\"blank\" ></th>        <th class=\"blank\" ></th>        <th class=\"blank\" ></th>    </tr></thead><tbody>\n",
       "                <tr>\n",
       "                        <th id=\"T_544cb_level0_row0\" class=\"row_heading level0 row0\" >smart</th>\n",
       "                        <td id=\"T_544cb_row0_col0\" class=\"data row0 col0\" >0.00</td>\n",
       "                        <td id=\"T_544cb_row0_col1\" class=\"data row0 col1\" >6220.00</td>\n",
       "                        <td id=\"T_544cb_row0_col2\" class=\"data row0 col2\" >473.00</td>\n",
       "                        <td id=\"T_544cb_row0_col3\" class=\"data row0 col3\" >739.97</td>\n",
       "                        <td id=\"T_544cb_row0_col4\" class=\"data row0 col4\" >669785.71</td>\n",
       "                        <td id=\"T_544cb_row0_col5\" class=\"data row0 col5\" >818.40</td>\n",
       "            </tr>\n",
       "            <tr>\n",
       "                        <th id=\"T_544cb_level0_row1\" class=\"row_heading level0 row1\" >ultra</th>\n",
       "                        <td id=\"T_544cb_row1_col0\" class=\"data row1 col0\" >0.00</td>\n",
       "                        <td id=\"T_544cb_row1_col1\" class=\"data row1 col1\" >2850.00</td>\n",
       "                        <td id=\"T_544cb_row1_col2\" class=\"data row1 col2\" >0.00</td>\n",
       "                        <td id=\"T_544cb_row1_col3\" class=\"data row1 col3\" >120.15</td>\n",
       "                        <td id=\"T_544cb_row1_col4\" class=\"data row1 col4\" >141516.75</td>\n",
       "                        <td id=\"T_544cb_row1_col5\" class=\"data row1 col5\" >376.19</td>\n",
       "            </tr>\n",
       "    </tbody></table>"
      ],
      "text/plain": [
       "<pandas.io.formats.style.Styler at 0x7f1ebb513c70>"
      ]
     },
     "execution_count": 72,
     "metadata": {},
     "output_type": "execute_result"
    }
   ],
   "source": [
    "# Посмотрим медиану, средние значения, дисперсию и стандартное отклонение в разрезе переплат с разбивкой по тарифам.\n",
    "data.groupby('tariff').agg({'overdraft':['min','max','median','mean','var','std']}).style.format(\"{:.2f}\")"
   ]
  },
  {
   "cell_type": "code",
   "execution_count": 73,
   "metadata": {},
   "outputs": [
    {
     "data": {
      "text/plain": [
       "Text(0, 0.5, 'Частота события')"
      ]
     },
     "execution_count": 73,
     "metadata": {},
     "output_type": "execute_result"
    },
    {
     "data": {
      "image/png": "[encoded data removed]",
      "text/plain": [
       "<Figure size 720x360 with 1 Axes>"
      ]
     },
     "metadata": {
      "needs_background": "light"
     },
     "output_type": "display_data"
    }
   ],
   "source": [
    "# Построим график по переплатам по тарифу ultra.\n",
    "data[data['tariff'] == 'ultra']['overdraft'].plot(kind='hist', bins=20, figsize = (10,5))\n",
    "plt.title('Переплаты за месяц по тарифу ultra', size=14)\n",
    "plt.xlabel('Рубли в месяц, шт.')\n",
    "plt.ylabel('Частота события')"
   ]
  },
  {
   "cell_type": "code",
   "execution_count": 74,
   "metadata": {},
   "outputs": [
    {
     "data": {
      "text/plain": [
       "Text(0, 0.5, 'Частота события')"
      ]
     },
     "execution_count": 74,
     "metadata": {},
     "output_type": "execute_result"
    },
    {
     "data": {
      "image/png": "[encoded data removed]",
      "text/plain": [
       "<Figure size 720x360 with 1 Axes>"
      ]
     },
     "metadata": {
      "needs_background": "light"
     },
     "output_type": "display_data"
    }
   ],
   "source": [
    "# Построим график по переплатам по тарифу smart.\n",
    "data[data['tariff'] == 'smart']['overdraft'].plot(kind='hist', bins=20, figsize = (10,5))\n",
    "plt.title('Переплаты за месяц  по тарифу smart', size=14)\n",
    "plt.xlabel('Рубли в месяц, шт.')\n",
    "plt.ylabel('Частота события')"
   ]
  },
  {
   "cell_type": "markdown",
   "metadata": {},
   "source": [
    "Как было замечено ранее, пользователи тарифа `ultra` очень редко выходят за рамки тарифных ограничений. В свою очередь для пользователей тарифа `smart` - выход за ограниения тарифа обычное дело."
   ]
  },
  {
   "cell_type": "markdown",
   "metadata": {},
   "source": [
    "**Изучим данные по продолжительности звонков.**"
   ]
  },
  {
   "cell_type": "code",
   "execution_count": 75,
   "metadata": {},
   "outputs": [
    {
     "data": {
      "text/html": [
       "<style  type=\"text/css\" >\n",
       "</style><table id=\"T_66259_\" ><thead>    <tr>        <th class=\"blank level0\" ></th>        <th class=\"col_heading level0 col0\" colspan=\"6\">month_calls_duration</th>    </tr>    <tr>        <th class=\"blank level1\" ></th>        <th class=\"col_heading level1 col0\" >min</th>        <th class=\"col_heading level1 col1\" >max</th>        <th class=\"col_heading level1 col2\" >median</th>        <th class=\"col_heading level1 col3\" >mean</th>        <th class=\"col_heading level1 col4\" >var</th>        <th class=\"col_heading level1 col5\" >std</th>    </tr>    <tr>        <th class=\"index_name level0\" >tariff</th>        <th class=\"blank\" ></th>        <th class=\"blank\" ></th>        <th class=\"blank\" ></th>        <th class=\"blank\" ></th>        <th class=\"blank\" ></th>        <th class=\"blank\" ></th>    </tr></thead><tbody>\n",
       "                <tr>\n",
       "                        <th id=\"T_66259_level0_row0\" class=\"row_heading level0 row0\" >smart</th>\n",
       "                        <td id=\"T_66259_row0_col0\" class=\"data row0 col0\" >0.00</td>\n",
       "                        <td id=\"T_66259_row0_col1\" class=\"data row0 col1\" >1435.00</td>\n",
       "                        <td id=\"T_66259_row0_col2\" class=\"data row0 col2\" >422.00</td>\n",
       "                        <td id=\"T_66259_row0_col3\" class=\"data row0 col3\" >417.93</td>\n",
       "                        <td id=\"T_66259_row0_col4\" class=\"data row0 col4\" >36219.32</td>\n",
       "                        <td id=\"T_66259_row0_col5\" class=\"data row0 col5\" >190.31</td>\n",
       "            </tr>\n",
       "            <tr>\n",
       "                        <th id=\"T_66259_level0_row1\" class=\"row_heading level0 row1\" >ultra</th>\n",
       "                        <td id=\"T_66259_row1_col0\" class=\"data row1 col0\" >0.00</td>\n",
       "                        <td id=\"T_66259_row1_col1\" class=\"data row1 col1\" >1673.00</td>\n",
       "                        <td id=\"T_66259_row1_col2\" class=\"data row1 col2\" >518.00</td>\n",
       "                        <td id=\"T_66259_row1_col3\" class=\"data row1 col3\" >526.62</td>\n",
       "                        <td id=\"T_66259_row1_col4\" class=\"data row1 col4\" >100873.63</td>\n",
       "                        <td id=\"T_66259_row1_col5\" class=\"data row1 col5\" >317.61</td>\n",
       "            </tr>\n",
       "    </tbody></table>"
      ],
      "text/plain": [
       "<pandas.io.formats.style.Styler at 0x7f1ebc5c6910>"
      ]
     },
     "execution_count": 75,
     "metadata": {},
     "output_type": "execute_result"
    }
   ],
   "source": [
    "# Посмотрим медиану, средние значения, дисперсию и стандартное отклонение \n",
    "# в разрезе продолжительности звонков с разбивкой по тарифам.\n",
    "data.groupby('tariff').agg({'month_calls_duration':['min','max','median','mean','var','std']}).style.format(\"{:.2f}\")"
   ]
  },
  {
   "cell_type": "code",
   "execution_count": 76,
   "metadata": {},
   "outputs": [],
   "source": [
    "# Создадим функцию для построение совместных графиков.\n",
    "def tariff_compare(df1, column, graf_title):\n",
    "    fig = plt.figure(figsize=(10,5))\n",
    "    ultra = sns.histplot(df1[df1['tariff'] == 'ultra'][column], color='g', kde = True).set(xlabel='Данные по расходу', ylabel='Частота события');\n",
    "    smart = sns.histplot(df1[df1['tariff'] == 'smart'][column], color='b', kde = True).set(xlabel='Данные по расходу', ylabel='Частота события');\n",
    "    plt.legend(labels=['ultra','smart'], title = graf_title)"
   ]
  },
  {
   "cell_type": "code",
   "execution_count": 77,
   "metadata": {},
   "outputs": [
    {
     "data": {
      "image/png": "[encoded data removed]",
      "text/plain": [
       "<Figure size 720x360 with 1 Axes>"
      ]
     },
     "metadata": {
      "needs_background": "light"
     },
     "output_type": "display_data"
    }
   ],
   "source": [
    "# Вывод совместного графика.\n",
    "tariff_compare(data, 'month_calls_duration', 'Длительность звонков за месяц')"
   ]
  },
  {
   "cell_type": "code",
   "execution_count": 78,
   "metadata": {},
   "outputs": [
    {
     "data": {
      "text/plain": [
       "<matplotlib.lines.Line2D at 0x7f1eb669a280>"
      ]
     },
     "execution_count": 78,
     "metadata": {},
     "output_type": "execute_result"
    },
    {
     "data": {
      "image/png": "[encoded data removed]",
      "text/plain": [
       "<Figure size 720x360 with 1 Axes>"
      ]
     },
     "metadata": {
      "needs_background": "light"
     },
     "output_type": "display_data"
    }
   ],
   "source": [
    "# Построим график продолжительности звонков по тарифу ultra.\n",
    "data[data['tariff'] == 'ultra']['month_calls_duration'].plot(kind='hist', bins=20, figsize = (10,5), align = 'left')\n",
    "plt.title('Длительность звонков за месяц по тарифу ultra', size=14)\n",
    "plt.xlabel('Минуты в месяц, шт.')\n",
    "plt.ylabel('Частота события')\n",
    "plt.axvline(x = tariff_border(tariffs, 'tariff', 'minutes_included', 'ultra'), color='r')"
   ]
  },
  {
   "cell_type": "code",
   "execution_count": 79,
   "metadata": {},
   "outputs": [
    {
     "data": {
      "text/plain": [
       "<matplotlib.lines.Line2D at 0x7f1eb6741ca0>"
      ]
     },
     "execution_count": 79,
     "metadata": {},
     "output_type": "execute_result"
    },
    {
     "data": {
      "image/png": "[encoded data removed]",
      "text/plain": [
       "<Figure size 720x360 with 1 Axes>"
      ]
     },
     "metadata": {
      "needs_background": "light"
     },
     "output_type": "display_data"
    }
   ],
   "source": [
    "# Построим график продолжительности звонков по тарифу smart.\n",
    "data[data['tariff'] == 'smart']['month_calls_duration'].plot(kind='hist', bins=20, figsize = (10,5), align = 'left')\n",
    "plt.title('Длительность звонков за месяц  по тарифу smart', size=14)\n",
    "plt.xlabel('Минуты в месяц, шт.')\n",
    "plt.ylabel('Частота события')\n",
    "plt.axvline(x = tariff_border(tariffs, 'tariff', 'minutes_included', 'smart'), color='r')"
   ]
  },
  {
   "cell_type": "markdown",
   "metadata": {},
   "source": [
    "Пользователи тарифа `ultra` используют больше минут в месяц чем пользователи тарифа `smart`."
   ]
  },
  {
   "cell_type": "markdown",
   "metadata": {},
   "source": [
    "**Изучим данные по количеству сообщений.**"
   ]
  },
  {
   "cell_type": "code",
   "execution_count": 80,
   "metadata": {},
   "outputs": [
    {
     "data": {
      "text/html": [
       "<style  type=\"text/css\" >\n",
       "</style><table id=\"T_dc27c_\" ><thead>    <tr>        <th class=\"blank level0\" ></th>        <th class=\"col_heading level0 col0\" colspan=\"6\">sms_total_in_month</th>    </tr>    <tr>        <th class=\"blank level1\" ></th>        <th class=\"col_heading level1 col0\" >min</th>        <th class=\"col_heading level1 col1\" >max</th>        <th class=\"col_heading level1 col2\" >median</th>        <th class=\"col_heading level1 col3\" >mean</th>        <th class=\"col_heading level1 col4\" >var</th>        <th class=\"col_heading level1 col5\" >std</th>    </tr>    <tr>        <th class=\"index_name level0\" >tariff</th>        <th class=\"blank\" ></th>        <th class=\"blank\" ></th>        <th class=\"blank\" ></th>        <th class=\"blank\" ></th>        <th class=\"blank\" ></th>        <th class=\"blank\" ></th>    </tr></thead><tbody>\n",
       "                <tr>\n",
       "                        <th id=\"T_dc27c_level0_row0\" class=\"row_heading level0 row0\" >smart</th>\n",
       "                        <td id=\"T_dc27c_row0_col0\" class=\"data row0 col0\" >0.00</td>\n",
       "                        <td id=\"T_dc27c_row0_col1\" class=\"data row0 col1\" >143.00</td>\n",
       "                        <td id=\"T_dc27c_row0_col2\" class=\"data row0 col2\" >28.00</td>\n",
       "                        <td id=\"T_dc27c_row0_col3\" class=\"data row0 col3\" >33.38</td>\n",
       "                        <td id=\"T_dc27c_row0_col4\" class=\"data row0 col4\" >796.81</td>\n",
       "                        <td id=\"T_dc27c_row0_col5\" class=\"data row0 col5\" >28.23</td>\n",
       "            </tr>\n",
       "            <tr>\n",
       "                        <th id=\"T_dc27c_level0_row1\" class=\"row_heading level0 row1\" >ultra</th>\n",
       "                        <td id=\"T_dc27c_row1_col0\" class=\"data row1 col0\" >0.00</td>\n",
       "                        <td id=\"T_dc27c_row1_col1\" class=\"data row1 col1\" >224.00</td>\n",
       "                        <td id=\"T_dc27c_row1_col2\" class=\"data row1 col2\" >38.00</td>\n",
       "                        <td id=\"T_dc27c_row1_col3\" class=\"data row1 col3\" >49.36</td>\n",
       "                        <td id=\"T_dc27c_row1_col4\" class=\"data row1 col4\" >2285.27</td>\n",
       "                        <td id=\"T_dc27c_row1_col5\" class=\"data row1 col5\" >47.80</td>\n",
       "            </tr>\n",
       "    </tbody></table>"
      ],
      "text/plain": [
       "<pandas.io.formats.style.Styler at 0x7f1eb87ebcd0>"
      ]
     },
     "execution_count": 80,
     "metadata": {},
     "output_type": "execute_result"
    }
   ],
   "source": [
    "# Посмотрим медиану, средние значения, дисперсию и стандартное отклонение в разрезе количества сообщений с разбивкой по тарифам.\n",
    "data.groupby('tariff').agg({'sms_total_in_month':['min','max','median','mean','var','std']}).style.format(\"{:.2f}\")"
   ]
  },
  {
   "cell_type": "code",
   "execution_count": 81,
   "metadata": {},
   "outputs": [
    {
     "data": {
      "image/png": "[encoded data removed]",
      "text/plain": [
       "<Figure size 720x360 with 1 Axes>"
      ]
     },
     "metadata": {
      "needs_background": "light"
     },
     "output_type": "display_data"
    }
   ],
   "source": [
    "# Вывод совместного графика.\n",
    "tariff_compare(data, 'sms_total_in_month', 'Количество сообщений за месяц')"
   ]
  },
  {
   "cell_type": "code",
   "execution_count": 82,
   "metadata": {},
   "outputs": [
    {
     "data": {
      "text/plain": [
       "<matplotlib.lines.Line2D at 0x7f1ebc795a30>"
      ]
     },
     "execution_count": 82,
     "metadata": {},
     "output_type": "execute_result"
    },
    {
     "data": {
      "image/png": "[encoded data removed]",
      "text/plain": [
       "<Figure size 720x360 with 1 Axes>"
      ]
     },
     "metadata": {
      "needs_background": "light"
     },
     "output_type": "display_data"
    }
   ],
   "source": [
    "# Построим график количества сообщений по тарифу ultra.\n",
    "data[data['tariff'] == 'ultra']['sms_total_in_month'].plot(kind='hist', bins=20, figsize = (10,5), align = 'left')\n",
    "plt.title('Количество сообщений за месяц по тарифу ultra', size=14)\n",
    "plt.xlabel('Сообщения в месяц, шт.')\n",
    "plt.ylabel('Частота события')\n",
    "plt.axvline(x = tariff_border(tariffs, 'tariff', 'messages_included', 'ultra'), color='r')"
   ]
  },
  {
   "cell_type": "code",
   "execution_count": 83,
   "metadata": {},
   "outputs": [
    {
     "data": {
      "text/plain": [
       "<matplotlib.lines.Line2D at 0x7f1eb87a7760>"
      ]
     },
     "execution_count": 83,
     "metadata": {},
     "output_type": "execute_result"
    },
    {
     "data": {
      "image/png": "[encoded data removed]",
      "text/plain": [
       "<Figure size 720x360 with 1 Axes>"
      ]
     },
     "metadata": {
      "needs_background": "light"
     },
     "output_type": "display_data"
    }
   ],
   "source": [
    "# Построим график количества сообщений по тарифу smart.\n",
    "data[data['tariff'] == 'smart']['sms_total_in_month'].plot(kind='hist', bins=20, figsize = (10,5), align = 'left')\n",
    "plt.title('Количество сообщений за месяц  по тарифу smart', size=14)\n",
    "plt.xlabel('Сообщения в месяц, шт.')\n",
    "plt.ylabel('Частота события')\n",
    "plt.axvline(x = tariff_border(tariffs, 'tariff', 'messages_included', 'smart'), color='r')"
   ]
  },
  {
   "cell_type": "markdown",
   "metadata": {},
   "source": [
    "В целом видно что СМС не самый популярный сервис у пользователей. Значительная часть пользователей не пользуются данной услугой. Пользователи тарифа `ultra` используют больше СМС в месяц чем пользователи тарифа `smart`."
   ]
  },
  {
   "cell_type": "markdown",
   "metadata": {},
   "source": [
    "**Изучим данные по количеству интернет трафика.**"
   ]
  },
  {
   "cell_type": "code",
   "execution_count": 84,
   "metadata": {},
   "outputs": [
    {
     "data": {
      "text/html": [
       "<style  type=\"text/css\" >\n",
       "</style><table id=\"T_02e0d_\" ><thead>    <tr>        <th class=\"blank level0\" ></th>        <th class=\"col_heading level0 col0\" colspan=\"6\">gb_total_in_month</th>    </tr>    <tr>        <th class=\"blank level1\" ></th>        <th class=\"col_heading level1 col0\" >min</th>        <th class=\"col_heading level1 col1\" >max</th>        <th class=\"col_heading level1 col2\" >median</th>        <th class=\"col_heading level1 col3\" >mean</th>        <th class=\"col_heading level1 col4\" >var</th>        <th class=\"col_heading level1 col5\" >std</th>    </tr>    <tr>        <th class=\"index_name level0\" >tariff</th>        <th class=\"blank\" ></th>        <th class=\"blank\" ></th>        <th class=\"blank\" ></th>        <th class=\"blank\" ></th>        <th class=\"blank\" ></th>        <th class=\"blank\" ></th>    </tr></thead><tbody>\n",
       "                <tr>\n",
       "                        <th id=\"T_02e0d_level0_row0\" class=\"row_heading level0 row0\" >smart</th>\n",
       "                        <td id=\"T_02e0d_row0_col0\" class=\"data row0 col0\" >0.00</td>\n",
       "                        <td id=\"T_02e0d_row0_col1\" class=\"data row0 col1\" >38.00</td>\n",
       "                        <td id=\"T_02e0d_row0_col2\" class=\"data row0 col2\" >17.00</td>\n",
       "                        <td id=\"T_02e0d_row0_col3\" class=\"data row0 col3\" >16.33</td>\n",
       "                        <td id=\"T_02e0d_row0_col4\" class=\"data row0 col4\" >33.03</td>\n",
       "                        <td id=\"T_02e0d_row0_col5\" class=\"data row0 col5\" >5.75</td>\n",
       "            </tr>\n",
       "            <tr>\n",
       "                        <th id=\"T_02e0d_level0_row1\" class=\"row_heading level0 row1\" >ultra</th>\n",
       "                        <td id=\"T_02e0d_row1_col0\" class=\"data row1 col0\" >0.00</td>\n",
       "                        <td id=\"T_02e0d_row1_col1\" class=\"data row1 col1\" >49.00</td>\n",
       "                        <td id=\"T_02e0d_row1_col2\" class=\"data row1 col2\" >19.00</td>\n",
       "                        <td id=\"T_02e0d_row1_col3\" class=\"data row1 col3\" >19.49</td>\n",
       "                        <td id=\"T_02e0d_row1_col4\" class=\"data row1 col4\" >97.09</td>\n",
       "                        <td id=\"T_02e0d_row1_col5\" class=\"data row1 col5\" >9.85</td>\n",
       "            </tr>\n",
       "    </tbody></table>"
      ],
      "text/plain": [
       "<pandas.io.formats.style.Styler at 0x7f1eb6610400>"
      ]
     },
     "execution_count": 84,
     "metadata": {},
     "output_type": "execute_result"
    }
   ],
   "source": [
    "# Посмотрим медиану, средние значения, дисперсию и стандартное отклонение в разрезе расхода трафика с разбивкой по тарифам.\n",
    "data.groupby('tariff').agg({'gb_total_in_month':['min','max','median','mean','var','std']}).style.format(\"{:.2f}\")"
   ]
  },
  {
   "cell_type": "code",
   "execution_count": 85,
   "metadata": {},
   "outputs": [
    {
     "data": {
      "image/png": "[encoded data removed]",
      "text/plain": [
       "<Figure size 720x360 with 1 Axes>"
      ]
     },
     "metadata": {
      "needs_background": "light"
     },
     "output_type": "display_data"
    }
   ],
   "source": [
    "# Вывод совместного графика.\n",
    "tariff_compare(data, 'gb_total_in_month', 'Гигабайт за месяц')"
   ]
  },
  {
   "cell_type": "code",
   "execution_count": 86,
   "metadata": {},
   "outputs": [
    {
     "data": {
      "text/plain": [
       "<matplotlib.lines.Line2D at 0x7f1eb63f2910>"
      ]
     },
     "execution_count": 86,
     "metadata": {},
     "output_type": "execute_result"
    },
    {
     "data": {
      "image/png": "[encoded data removed]",
      "text/plain": [
       "<Figure size 720x360 with 1 Axes>"
      ]
     },
     "metadata": {
      "needs_background": "light"
     },
     "output_type": "display_data"
    }
   ],
   "source": [
    "# Построим график расхода трафика по тарифу ultra.\n",
    "data[data['tariff'] == 'ultra']['gb_total_in_month'].plot(kind='hist', bins=20, figsize = (10,5), align = 'left')\n",
    "plt.title('Гигабайт за месяц по тарифу ultra', size=14)\n",
    "plt.xlabel('Гигабайт в месяц, шт.')\n",
    "plt.ylabel('Частота события')\n",
    "plt.axvline(x = tariff_border(tariffs, 'tariff', 'gb_per_month_included', 'ultra'), color='r')"
   ]
  },
  {
   "cell_type": "code",
   "execution_count": 87,
   "metadata": {},
   "outputs": [
    {
     "data": {
      "text/plain": [
       "<matplotlib.lines.Line2D at 0x7f1eb6362610>"
      ]
     },
     "execution_count": 87,
     "metadata": {},
     "output_type": "execute_result"
    },
    {
     "data": {
      "image/png": "[encoded data removed]",
      "text/plain": [
       "<Figure size 720x360 with 1 Axes>"
      ]
     },
     "metadata": {
      "needs_background": "light"
     },
     "output_type": "display_data"
    }
   ],
   "source": [
    "# Построим график расхода трафика по тарифу smart.\n",
    "data[data['tariff'] == 'smart']['gb_total_in_month'].plot(kind='hist', bins=20, figsize = (10,5), align = 'left')\n",
    "plt.title('Гигабайт за месяц  по тарифу smart', size=14)\n",
    "plt.xlabel('Гигабайт в месяц, шт.')\n",
    "plt.ylabel('Частота события')\n",
    "plt.axvline(x = tariff_border(tariffs, 'tariff', 'gb_per_month_included', 'smart'), color='r')"
   ]
  },
  {
   "cell_type": "markdown",
   "metadata": {},
   "source": [
    "Цифры по расходу трафика разных тарифных планов близки. В целом пользователи тарифа `ultra` используют больше интернет трафика в месяц чем пользователи тарифа `smart`."
   ]
  },
  {
   "cell_type": "markdown",
   "metadata": {},
   "source": [
    "### Вывод по разделу \"Анализ данных\"."
   ]
  },
  {
   "cell_type": "markdown",
   "metadata": {},
   "source": [
    "- Пользователи предпочитают тариф `smart`.\n",
    "- Общая выручка по тарифу `smart` выше выручки по тарифу `ultra`, что следовало ожидать т.к. пользователи в основном предпочитают тариф `smart`.\n",
    "- Для пользователей тарифа `smart` в среднем необходимо: 418 минут, 33 сообщения и 16 Гб интернет трафика. Средний платеж: 1290 руб.\n",
    "- Для пользователей тарифа `ultra` в среднем необходимо: 527 минут, 49 сообщений и 19 Гб интернет трафика. Средний платеж: 2070 руб.\n",
    "- Пользователи тарифа `smart` очень часто выходят за ограничения своего тарифного плана.\n",
    "- Пользователи тарифа `ultra` не расходуют свой лимит по минутам и СМС.\n",
    "- Пользователи тарифа `ultra` в среднем больше платят за услуги.\n",
    "- Пользователи тарифа `ultra` в среднем расходуют больше минут, СМС и интернет трафика.\n",
    "- Судя по графикам услуга СМС не пользуется популярностью. Скорее всего многие предпочитают использовать для этого мессенджеры."
   ]
  },
  {
   "cell_type": "markdown",
   "metadata": {},
   "source": [
    "## Проверка гипотез."
   ]
  },
  {
   "cell_type": "markdown",
   "metadata": {},
   "source": [
    "### Гипотеза1: средняя выручка пользователей тарифов «Ultra» и «Smart» различаются."
   ]
  },
  {
   "cell_type": "markdown",
   "metadata": {},
   "source": [
    "- Сформируем нулевую гипотезу H₀ - \"Средняя выручка пользователей тарифов `ultra` и `smart` равны\".\n",
    "- Сформируем альтернативную гипотезу H₁ - \"Средняя выручка пользователей тарифов `ultra` и `smart` различается\""
   ]
  },
  {
   "cell_type": "markdown",
   "metadata": {},
   "source": [
    "Так как выборки у нас независимые, воспользуемся функцией ttest_ind. Так же нужно будет убрать выбросы для получения более точных результатов."
   ]
  },
  {
   "cell_type": "code",
   "execution_count": 88,
   "metadata": {},
   "outputs": [],
   "source": [
    "# Создадим переменную для удаления выбросов из выборки.\n",
    "# def mustache_cut(df, column):\n",
    "    #q1 = df[column].quantile(0.25)                 \n",
    "    #q3 = df[column].quantile(0.75)\n",
    "    #iqr = q3 - q1\n",
    "    #iqr_cut = (df[column] >= (q1 - 1.5 * iqr)) & (df[column] <= (q3 + 1.5 * iqr))\n",
    "    #return df.loc[iqr_cut]"
   ]
  },
  {
   "cell_type": "code",
   "execution_count": 89,
   "metadata": {},
   "outputs": [],
   "source": [
    "# Создадим переменную с данными по тарифу ultra.\n",
    "ultra = data[data['tariff'] == 'ultra']"
   ]
  },
  {
   "cell_type": "code",
   "execution_count": 90,
   "metadata": {},
   "outputs": [],
   "source": [
    "# Удалим выбросы из полученной выборки.\n",
    "#ultra = mustache_cut(ultra, 'total_payment')"
   ]
  },
  {
   "cell_type": "code",
   "execution_count": 91,
   "metadata": {},
   "outputs": [],
   "source": [
    "# Оставим в переменной только данные о платежах.\n",
    "ultra = ultra['total_payment']"
   ]
  },
  {
   "cell_type": "code",
   "execution_count": 92,
   "metadata": {},
   "outputs": [],
   "source": [
    "# Создадим переменную с данными по тарифу smart.\n",
    "smart = data[data['tariff'] == 'smart']"
   ]
  },
  {
   "cell_type": "code",
   "execution_count": 93,
   "metadata": {},
   "outputs": [],
   "source": [
    "# Удалим выбросы из полученной выборки.\n",
    "#smart = mustache_cut(smart, 'total_payment')"
   ]
  },
  {
   "cell_type": "code",
   "execution_count": 94,
   "metadata": {},
   "outputs": [],
   "source": [
    "# Оставим в переменной только данные о платежах.\n",
    "smart = smart['total_payment']"
   ]
  },
  {
   "cell_type": "code",
   "execution_count": 95,
   "metadata": {},
   "outputs": [
    {
     "name": "stdout",
     "output_type": "stream",
     "text": [
      "p-значение: 4.2606313931076085e-250\n",
      "Отвергаем нулевую гипотезу\n"
     ]
    }
   ],
   "source": [
    "# Проверим гипотезу с помощью ttest_ind.\n",
    "alpha = .05 # критический уровень статистической значимости, если p-value окажется меньше него - отвергнем гипотезу\n",
    "results = st.ttest_ind(ultra, smart, equal_var = False)\n",
    "print('p-значение:', results.pvalue)\n",
    "if (results.pvalue < alpha):\n",
    "    print(\"Отвергаем нулевую гипотезу\")\n",
    "else:\n",
    "    print(\"Не получилось отвергнуть нулевую гипотезу\")"
   ]
  },
  {
   "cell_type": "markdown",
   "metadata": {},
   "source": [
    "Полученное p-значение позволяет отвергнуть нулевую гипотезу и говорит о том, что \"Средняя выручка пользователей тарифов `ultra` и `smart` различается\". выручка от тарифа `ultra` выше, чем у тарифа `smart`. Вероятность получить подтверждение нулевой гипотезы ничтожно мала(гораздо меньше критического уровня статистической значимости в 0.05)."
   ]
  },
  {
   "cell_type": "markdown",
   "metadata": {},
   "source": [
    "### Гипотеза2: средняя выручка пользователей из Москвы отличается от выручки пользователей из других регионов."
   ]
  },
  {
   "cell_type": "markdown",
   "metadata": {},
   "source": [
    "- Сформируем нулевую гипотезу H₀: \"Cредняя выручка пользователей из Москвы не отличается от выручки пользователей из других регионов.\"\n",
    "- Сформируем альтернативную гипотезу H₁ : \"Средняя выручка пользователей из Москвы отличается от выручки пользователей из других регионов\""
   ]
  },
  {
   "cell_type": "markdown",
   "metadata": {},
   "source": [
    "Так как выборки у нас независимые, воспользуемся функцией ttest_ind. Так же нужно будет убрать выбросы для получения более точных результатов."
   ]
  },
  {
   "cell_type": "code",
   "execution_count": 96,
   "metadata": {},
   "outputs": [],
   "source": [
    "# Создадим отдельные переменные с данными по Москве и другим городам.\n",
    "moscow = data[data['city'] == 'Москва']\n",
    "other_city = data[data['city'] != 'Москва']"
   ]
  },
  {
   "cell_type": "code",
   "execution_count": 97,
   "metadata": {},
   "outputs": [],
   "source": [
    "# Удалим выбросы и оставим в переменной только данные о платежах.\n",
    "#moscow = mustache_cut(moscow, 'total_payment')\n",
    "moscow = moscow['total_payment']"
   ]
  },
  {
   "cell_type": "code",
   "execution_count": 98,
   "metadata": {},
   "outputs": [],
   "source": [
    "# Удалим выбросы и оставим в переменной только данные о платежах.\n",
    "#other_city = mustache_cut(other_city, 'total_payment')\n",
    "other_city = other_city['total_payment']"
   ]
  },
  {
   "cell_type": "code",
   "execution_count": 99,
   "metadata": {},
   "outputs": [
    {
     "name": "stdout",
     "output_type": "stream",
     "text": [
      "p-значение: 0.5257376663729298\n",
      "Не получилось отвергнуть нулевую гипотезу\n"
     ]
    }
   ],
   "source": [
    "# Проверим гипотезу с помощью ttest_ind.\n",
    "alpha = .05 # критический уровень статистической значимости, если p-value окажется меньше него - отвергнем гипотезу\n",
    "results = st.ttest_ind(moscow, other_city, equal_var = False)\n",
    "print('p-значение:', results.pvalue)\n",
    "if (results.pvalue < alpha):\n",
    "    print(\"Отвергаем нулевую гипотезу\")\n",
    "else:\n",
    "    print(\"Не получилось отвергнуть нулевую гипотезу\")"
   ]
  },
  {
   "cell_type": "markdown",
   "metadata": {},
   "source": [
    "Полученное p-значение не позволяет отвергнуть нулевую гипотезу и говорит о том, что \"Cредняя выручка пользователей из Москвы не отличается от выручки пользователей из других регионов.\". С вероятностью в 52% такое различие можно получить случайно. Это явно слишком большая вероятность, чтобы делать вывод о значимом различии между средними выручками в Москве и других регионах."
   ]
  },
  {
   "cell_type": "markdown",
   "metadata": {},
   "source": [
    "### Вывод по разделу \"Проверка гипотез\"."
   ]
  },
  {
   "cell_type": "markdown",
   "metadata": {},
   "source": [
    "- Проверка `гипотезы 1` показала, что средняя выручка от пользователей тарифов `ultra` и `smart` различается. Пользователи тарифа `ultra` платят почти в 1,5 раза больше, что предполагает такое же распределение в генеральной совокупности.\n",
    "- Проверка `гипотезы 2` показала, что средняя выручка пользователей из Москвы не отличается от выручки пользователей из других городов, что предполагает такое же распределение в генеральной совокупности."
   ]
  },
  {
   "cell_type": "markdown",
   "metadata": {},
   "source": [
    "## Общий вывод."
   ]
  },
  {
   "cell_type": "markdown",
   "metadata": {},
   "source": [
    "В данном проекте были обработаны данные по использованию тарифов `smart` и `ultra` пользователями телекоммуникационной компании `Мегалайн` за 2018 год.\n",
    "\n",
    "Там где это было необходимо, были заполнены пропуски и изменены типы данных.\n",
    "\n",
    "**Были посчитаны и добавлены в датафрейм:**\n",
    "- количество звонков в месяц.\n",
    "- количество смс в месяц.\n",
    "- расход интернет трафика в месяц.\n",
    "- переплаты пользователей в месяц.\n",
    "- итоговые расходы пользователей в месяц.\n",
    "- все эти данные были объеденены в единый датафрейм.\n",
    "\n",
    "**В ходе дальнейшего изучения получившегося датафрейма было выявлено:**\n",
    "- Пользователи предпочитают тариф `smart`. 70%/30%\n",
    "- Общая выручка по тарифу `smart` выше выручки по тарифу `ultra`, что следовало ожидать т.к. пользователи в основном предпочитают тариф `smart`.\n",
    "- Для пользователей тарифа `smart` в среднем необходимо: 418 минут(в тариф включено 500), 33 (в тариф включено 50) сообщения и 16 Гб (в тариф включено 15) интернет трафика. Средний платеж: 1290 руб(аббонентская плата 550 руб.) .\n",
    "- Для пользователей тарифа `ultra` в среднем необходимо: 527 минут(в тариф включено 3000), 49 сообщений(в тариф включено 1000) и 19 Гб интернет трафика.(в тариф включено 30) Средний платеж: 2070 руб.(аббонентская плата 1950 руб.)\n",
    "- Пользователи тарифа `smart` очень часто выходят за ограничения своего тарифного плана.\n",
    "- Пользователи тарифа `ultra` не расходуют свой лимит по минутам и СМС.\n",
    "- Пользователи тарифа `ultra` в среднем больше платят за услуги.\n",
    "- Пользователи тарифа `ultra` в среднем расходуют больше минут, СМС и интернет трафика.\n",
    "- Судя по графикам услуга СМС не пользуется популярностью. Скорее всего многие предпочитают использовать для этого мессенджеры.\n",
    "\n",
    "**Проверка гипотез показала:**\n",
    "- средняя выручка от пользователей тарифов `ultra` и `smart` различается. Пользователи тарифа `ultra` платят почти в 1,5 раза больше, что предполагает такое же распределение в генеральной совокупности.\n",
    "- средняя выручка пользователей из Москвы не отличается от выручки пользователей из других городов, что предполагает такое же распределение в генеральной совокупности.\n",
    "\n",
    "**Рекомендации для `Мегалайн`:**\n",
    "\n",
    "Из исследованных данных мы видим что тариф `ultra` избыточен в разрезе включенных минут(максимальный расход за месяц 1673 минут из включенных 3000) и включенных смс сообщений (максимальный расход за месяц 224 сообщений из включенных 1000). Превышение расхода по данному тарифу можно считать чем-то из ряда вон выходящего т.к. медиана платежа по данному тарифу равна аббонентской плате за использование данного тарифа. \n",
    "\n",
    "В свою очередь пользователи тарифа `smart` зачастую выходят за рамки ограничений тарифа, в итоге, в среднем платят 1290 рублей вместо 550 рублей.\n",
    "\n",
    "Возможно имеет смысл создать промежуточный тарифный план для пользователей `smart` которые выходят за рамки своего тарифного плана и пользователей `ultra`, для которых этот тариф избыточен.\n",
    "\n",
    "Возможный вариант такого тарифа:\n",
    "- Аббонентская плата = 1200 руб\n",
    "- Минут включено = 800\n",
    "- Сообщений включено = 100\n",
    "- Влюченный трафик = 20gb\n",
    "- Рублей за минуту(перерасход) = 2\n",
    "- Рублей за сообщение(перерасход) = 2\n",
    "- Рублей за гигабайт - 175\n",
    "\n",
    "Это как примерный вариант, тут конечно нужно все подробней считать. Пользователи тарифа `smart` уже сейчас, в среднем, платят такие деньги."
   ]
  }
 ],
 "metadata": {
  "ExecuteTimeLog": [
   {
    "duration": 1109,
    "start_time": "2022-03-15T10:25:08.917Z"
   },
   {
    "duration": 388,
    "start_time": "2022-03-15T10:28:41.160Z"
   },
   {
    "duration": 3,
    "start_time": "2022-03-15T10:32:18.539Z"
   },
   {
    "duration": 30,
    "start_time": "2022-03-15T10:33:17.492Z"
   },
   {
    "duration": 3,
    "start_time": "2022-03-15T10:33:55.911Z"
   },
   {
    "duration": 36,
    "start_time": "2022-03-15T10:33:59.996Z"
   },
   {
    "duration": 3,
    "start_time": "2022-03-15T10:35:34.514Z"
   },
   {
    "duration": 34,
    "start_time": "2022-03-15T10:35:38.013Z"
   },
   {
    "duration": 3,
    "start_time": "2022-03-15T10:36:15.002Z"
   },
   {
    "duration": 14,
    "start_time": "2022-03-15T10:36:17.874Z"
   },
   {
    "duration": 3,
    "start_time": "2022-03-15T10:36:53.982Z"
   },
   {
    "duration": 31,
    "start_time": "2022-03-15T10:36:54.600Z"
   },
   {
    "duration": 3,
    "start_time": "2022-03-15T10:38:14.948Z"
   },
   {
    "duration": 4,
    "start_time": "2022-03-15T10:40:18.111Z"
   },
   {
    "duration": 38,
    "start_time": "2022-03-15T12:48:05.664Z"
   },
   {
    "duration": 5,
    "start_time": "2022-03-15T13:32:25.212Z"
   },
   {
    "duration": 6,
    "start_time": "2022-03-15T13:32:43.149Z"
   },
   {
    "duration": 58,
    "start_time": "2022-03-15T13:33:09.780Z"
   },
   {
    "duration": 58,
    "start_time": "2022-03-15T13:40:50.630Z"
   },
   {
    "duration": 57,
    "start_time": "2022-03-15T13:46:00.244Z"
   },
   {
    "duration": 42,
    "start_time": "2022-03-15T13:57:34.253Z"
   },
   {
    "duration": 513,
    "start_time": "2022-03-16T08:45:39.718Z"
   },
   {
    "duration": 465,
    "start_time": "2022-03-16T08:45:54.075Z"
   },
   {
    "duration": 1157,
    "start_time": "2022-03-16T08:45:57.289Z"
   },
   {
    "duration": 428,
    "start_time": "2022-03-16T08:45:58.448Z"
   },
   {
    "duration": 4,
    "start_time": "2022-03-16T08:45:58.878Z"
   },
   {
    "duration": 333,
    "start_time": "2022-03-16T08:45:58.884Z"
   },
   {
    "duration": -31,
    "start_time": "2022-03-16T08:45:59.250Z"
   },
   {
    "duration": -31,
    "start_time": "2022-03-16T08:45:59.252Z"
   },
   {
    "duration": -31,
    "start_time": "2022-03-16T08:45:59.253Z"
   },
   {
    "duration": -31,
    "start_time": "2022-03-16T08:45:59.255Z"
   },
   {
    "duration": -31,
    "start_time": "2022-03-16T08:45:59.256Z"
   },
   {
    "duration": -31,
    "start_time": "2022-03-16T08:45:59.257Z"
   },
   {
    "duration": 3,
    "start_time": "2022-03-16T08:46:41.250Z"
   },
   {
    "duration": 467,
    "start_time": "2022-03-16T08:46:41.255Z"
   },
   {
    "duration": 3,
    "start_time": "2022-03-16T08:46:41.724Z"
   },
   {
    "duration": 37,
    "start_time": "2022-03-16T08:46:41.729Z"
   },
   {
    "duration": 69,
    "start_time": "2022-03-16T08:46:41.768Z"
   },
   {
    "duration": 33,
    "start_time": "2022-03-16T08:46:41.838Z"
   },
   {
    "duration": 82,
    "start_time": "2022-03-16T08:46:41.872Z"
   },
   {
    "duration": 57,
    "start_time": "2022-03-16T08:46:41.955Z"
   },
   {
    "duration": 8,
    "start_time": "2022-03-16T08:46:42.015Z"
   },
   {
    "duration": 9,
    "start_time": "2022-03-16T08:46:42.025Z"
   },
   {
    "duration": 9,
    "start_time": "2022-03-16T08:47:10.865Z"
   },
   {
    "duration": 12,
    "start_time": "2022-03-16T08:47:56.710Z"
   },
   {
    "duration": 10,
    "start_time": "2022-03-16T08:59:05.306Z"
   },
   {
    "duration": 6,
    "start_time": "2022-03-16T08:59:44.731Z"
   },
   {
    "duration": 280,
    "start_time": "2022-03-16T09:12:35.461Z"
   },
   {
    "duration": 26,
    "start_time": "2022-03-16T09:12:54.906Z"
   },
   {
    "duration": 5,
    "start_time": "2022-03-16T09:13:45.073Z"
   },
   {
    "duration": 7,
    "start_time": "2022-03-16T09:13:58.425Z"
   },
   {
    "duration": 16,
    "start_time": "2022-03-16T09:14:12.282Z"
   },
   {
    "duration": 7,
    "start_time": "2022-03-16T09:15:11.719Z"
   },
   {
    "duration": 7,
    "start_time": "2022-03-16T09:16:37.008Z"
   },
   {
    "duration": 5,
    "start_time": "2022-03-16T09:16:38.352Z"
   },
   {
    "duration": 7,
    "start_time": "2022-03-16T09:17:05.241Z"
   },
   {
    "duration": 14,
    "start_time": "2022-03-16T09:17:25.984Z"
   },
   {
    "duration": 26,
    "start_time": "2022-03-16T09:21:39.053Z"
   },
   {
    "duration": 7,
    "start_time": "2022-03-16T09:23:23.961Z"
   },
   {
    "duration": 11,
    "start_time": "2022-03-16T09:23:47.746Z"
   },
   {
    "duration": 20,
    "start_time": "2022-03-16T09:31:29.651Z"
   },
   {
    "duration": 19,
    "start_time": "2022-03-16T09:33:42.055Z"
   },
   {
    "duration": 3,
    "start_time": "2022-03-16T09:34:24.338Z"
   },
   {
    "duration": 407,
    "start_time": "2022-03-16T09:34:24.343Z"
   },
   {
    "duration": 3,
    "start_time": "2022-03-16T09:34:24.752Z"
   },
   {
    "duration": 31,
    "start_time": "2022-03-16T09:34:24.757Z"
   },
   {
    "duration": 73,
    "start_time": "2022-03-16T09:34:24.790Z"
   },
   {
    "duration": 40,
    "start_time": "2022-03-16T09:34:24.865Z"
   },
   {
    "duration": 47,
    "start_time": "2022-03-16T09:34:24.906Z"
   },
   {
    "duration": 61,
    "start_time": "2022-03-16T09:34:24.955Z"
   },
   {
    "duration": 5,
    "start_time": "2022-03-16T09:34:25.018Z"
   },
   {
    "duration": 13,
    "start_time": "2022-03-16T09:34:25.025Z"
   },
   {
    "duration": 10,
    "start_time": "2022-03-16T09:34:25.039Z"
   },
   {
    "duration": 28,
    "start_time": "2022-03-16T09:34:25.051Z"
   },
   {
    "duration": 4,
    "start_time": "2022-03-16T09:34:25.081Z"
   },
   {
    "duration": 22,
    "start_time": "2022-03-16T09:34:25.087Z"
   },
   {
    "duration": 37,
    "start_time": "2022-03-16T09:34:25.111Z"
   },
   {
    "duration": 24,
    "start_time": "2022-03-16T09:34:25.150Z"
   },
   {
    "duration": 8,
    "start_time": "2022-03-16T09:34:25.176Z"
   },
   {
    "duration": 25,
    "start_time": "2022-03-16T09:34:25.185Z"
   },
   {
    "duration": 33,
    "start_time": "2022-03-16T09:34:25.212Z"
   },
   {
    "duration": 24,
    "start_time": "2022-03-16T09:34:25.247Z"
   },
   {
    "duration": 43,
    "start_time": "2022-03-16T09:34:25.273Z"
   },
   {
    "duration": 6,
    "start_time": "2022-03-16T09:35:15.604Z"
   },
   {
    "duration": 6,
    "start_time": "2022-03-16T09:36:21.742Z"
   },
   {
    "duration": 9,
    "start_time": "2022-03-16T09:37:06.629Z"
   },
   {
    "duration": 12,
    "start_time": "2022-03-16T09:37:50.789Z"
   },
   {
    "duration": 289,
    "start_time": "2022-03-16T09:39:21.455Z"
   },
   {
    "duration": 3,
    "start_time": "2022-03-16T09:39:33.145Z"
   },
   {
    "duration": 409,
    "start_time": "2022-03-16T09:39:33.151Z"
   },
   {
    "duration": 3,
    "start_time": "2022-03-16T09:39:33.562Z"
   },
   {
    "duration": 34,
    "start_time": "2022-03-16T09:39:33.566Z"
   },
   {
    "duration": 54,
    "start_time": "2022-03-16T09:39:33.602Z"
   },
   {
    "duration": 52,
    "start_time": "2022-03-16T09:39:33.658Z"
   },
   {
    "duration": 65,
    "start_time": "2022-03-16T09:39:33.714Z"
   },
   {
    "duration": 61,
    "start_time": "2022-03-16T09:39:33.780Z"
   },
   {
    "duration": 7,
    "start_time": "2022-03-16T09:39:33.843Z"
   },
   {
    "duration": 13,
    "start_time": "2022-03-16T09:39:33.852Z"
   },
   {
    "duration": 48,
    "start_time": "2022-03-16T09:39:33.866Z"
   },
   {
    "duration": 36,
    "start_time": "2022-03-16T09:39:33.916Z"
   },
   {
    "duration": 4,
    "start_time": "2022-03-16T09:39:33.954Z"
   },
   {
    "duration": 10,
    "start_time": "2022-03-16T09:39:33.960Z"
   },
   {
    "duration": 18,
    "start_time": "2022-03-16T09:39:33.971Z"
   },
   {
    "duration": 28,
    "start_time": "2022-03-16T09:39:33.990Z"
   },
   {
    "duration": 6,
    "start_time": "2022-03-16T09:39:34.020Z"
   },
   {
    "duration": 15,
    "start_time": "2022-03-16T09:39:34.028Z"
   },
   {
    "duration": 21,
    "start_time": "2022-03-16T09:39:34.046Z"
   },
   {
    "duration": 38,
    "start_time": "2022-03-16T09:39:34.069Z"
   },
   {
    "duration": 26,
    "start_time": "2022-03-16T09:39:34.109Z"
   },
   {
    "duration": 3,
    "start_time": "2022-03-16T09:39:34.137Z"
   },
   {
    "duration": 8,
    "start_time": "2022-03-16T09:39:34.141Z"
   },
   {
    "duration": 8,
    "start_time": "2022-03-16T09:39:34.150Z"
   },
   {
    "duration": 12,
    "start_time": "2022-03-16T09:39:34.160Z"
   },
   {
    "duration": 2,
    "start_time": "2022-03-16T09:41:01.586Z"
   },
   {
    "duration": 364,
    "start_time": "2022-03-16T09:41:01.590Z"
   },
   {
    "duration": 3,
    "start_time": "2022-03-16T09:41:01.956Z"
   },
   {
    "duration": 41,
    "start_time": "2022-03-16T09:41:01.961Z"
   },
   {
    "duration": 46,
    "start_time": "2022-03-16T09:41:02.003Z"
   },
   {
    "duration": 50,
    "start_time": "2022-03-16T09:41:02.051Z"
   },
   {
    "duration": 45,
    "start_time": "2022-03-16T09:41:02.102Z"
   },
   {
    "duration": 56,
    "start_time": "2022-03-16T09:41:02.149Z"
   },
   {
    "duration": 7,
    "start_time": "2022-03-16T09:41:02.206Z"
   },
   {
    "duration": 13,
    "start_time": "2022-03-16T09:41:02.215Z"
   },
   {
    "duration": 9,
    "start_time": "2022-03-16T09:41:02.230Z"
   },
   {
    "duration": 28,
    "start_time": "2022-03-16T09:41:02.240Z"
   },
   {
    "duration": 5,
    "start_time": "2022-03-16T09:41:02.269Z"
   },
   {
    "duration": 28,
    "start_time": "2022-03-16T09:41:02.275Z"
   },
   {
    "duration": 15,
    "start_time": "2022-03-16T09:41:02.305Z"
   },
   {
    "duration": 17,
    "start_time": "2022-03-16T09:41:02.321Z"
   },
   {
    "duration": 6,
    "start_time": "2022-03-16T09:41:02.339Z"
   },
   {
    "duration": 13,
    "start_time": "2022-03-16T09:41:02.347Z"
   },
   {
    "duration": 48,
    "start_time": "2022-03-16T09:41:02.362Z"
   },
   {
    "duration": 14,
    "start_time": "2022-03-16T09:41:02.412Z"
   },
   {
    "duration": 18,
    "start_time": "2022-03-16T09:41:02.428Z"
   },
   {
    "duration": 3,
    "start_time": "2022-03-16T09:41:02.448Z"
   },
   {
    "duration": 6,
    "start_time": "2022-03-16T09:41:02.454Z"
   },
   {
    "duration": 7,
    "start_time": "2022-03-16T09:41:02.461Z"
   },
   {
    "duration": 35,
    "start_time": "2022-03-16T09:41:02.470Z"
   },
   {
    "duration": 13,
    "start_time": "2022-03-16T09:41:02.507Z"
   },
   {
    "duration": 8,
    "start_time": "2022-03-16T10:26:33.860Z"
   },
   {
    "duration": 8,
    "start_time": "2022-03-16T10:26:41.522Z"
   },
   {
    "duration": 264,
    "start_time": "2022-03-16T10:28:09.859Z"
   },
   {
    "duration": 3,
    "start_time": "2022-03-16T10:28:14.516Z"
   },
   {
    "duration": 385,
    "start_time": "2022-03-16T10:28:14.520Z"
   },
   {
    "duration": 3,
    "start_time": "2022-03-16T10:28:14.908Z"
   },
   {
    "duration": 33,
    "start_time": "2022-03-16T10:28:14.913Z"
   },
   {
    "duration": 59,
    "start_time": "2022-03-16T10:28:14.948Z"
   },
   {
    "duration": 31,
    "start_time": "2022-03-16T10:28:15.009Z"
   },
   {
    "duration": 74,
    "start_time": "2022-03-16T10:28:15.041Z"
   },
   {
    "duration": 34,
    "start_time": "2022-03-16T10:28:15.117Z"
   },
   {
    "duration": 5,
    "start_time": "2022-03-16T10:28:15.152Z"
   },
   {
    "duration": 11,
    "start_time": "2022-03-16T10:28:15.159Z"
   },
   {
    "duration": 31,
    "start_time": "2022-03-16T10:28:15.171Z"
   },
   {
    "duration": 27,
    "start_time": "2022-03-16T10:28:15.203Z"
   },
   {
    "duration": 4,
    "start_time": "2022-03-16T10:28:15.231Z"
   },
   {
    "duration": 9,
    "start_time": "2022-03-16T10:28:15.237Z"
   },
   {
    "duration": 14,
    "start_time": "2022-03-16T10:28:15.247Z"
   },
   {
    "duration": 38,
    "start_time": "2022-03-16T10:28:15.263Z"
   },
   {
    "duration": 7,
    "start_time": "2022-03-16T10:28:15.302Z"
   },
   {
    "duration": 11,
    "start_time": "2022-03-16T10:28:15.310Z"
   },
   {
    "duration": 20,
    "start_time": "2022-03-16T10:28:15.322Z"
   },
   {
    "duration": 15,
    "start_time": "2022-03-16T10:28:15.344Z"
   },
   {
    "duration": 44,
    "start_time": "2022-03-16T10:28:15.361Z"
   },
   {
    "duration": 4,
    "start_time": "2022-03-16T10:28:15.406Z"
   },
   {
    "duration": 6,
    "start_time": "2022-03-16T10:28:15.412Z"
   },
   {
    "duration": 6,
    "start_time": "2022-03-16T10:28:15.420Z"
   },
   {
    "duration": 13,
    "start_time": "2022-03-16T10:28:15.427Z"
   },
   {
    "duration": 14,
    "start_time": "2022-03-16T10:28:15.441Z"
   },
   {
    "duration": 3,
    "start_time": "2022-03-16T10:30:39.360Z"
   },
   {
    "duration": 3,
    "start_time": "2022-03-16T10:33:03.449Z"
   },
   {
    "duration": 3,
    "start_time": "2022-03-16T10:33:24.223Z"
   },
   {
    "duration": 8,
    "start_time": "2022-03-16T10:33:36.973Z"
   },
   {
    "duration": 6,
    "start_time": "2022-03-16T10:34:03.038Z"
   },
   {
    "duration": 3,
    "start_time": "2022-03-16T10:34:30.352Z"
   },
   {
    "duration": 415,
    "start_time": "2022-03-16T10:34:30.357Z"
   },
   {
    "duration": 3,
    "start_time": "2022-03-16T10:34:30.774Z"
   },
   {
    "duration": 39,
    "start_time": "2022-03-16T10:34:30.779Z"
   },
   {
    "duration": 54,
    "start_time": "2022-03-16T10:34:30.819Z"
   },
   {
    "duration": 34,
    "start_time": "2022-03-16T10:34:30.901Z"
   },
   {
    "duration": 76,
    "start_time": "2022-03-16T10:34:30.937Z"
   },
   {
    "duration": 36,
    "start_time": "2022-03-16T10:34:31.016Z"
   },
   {
    "duration": 5,
    "start_time": "2022-03-16T10:34:31.055Z"
   },
   {
    "duration": 44,
    "start_time": "2022-03-16T10:34:31.062Z"
   },
   {
    "duration": 7,
    "start_time": "2022-03-16T10:34:31.108Z"
   },
   {
    "duration": 34,
    "start_time": "2022-03-16T10:34:31.117Z"
   },
   {
    "duration": 5,
    "start_time": "2022-03-16T10:34:31.153Z"
   },
   {
    "duration": 20,
    "start_time": "2022-03-16T10:34:31.160Z"
   },
   {
    "duration": 36,
    "start_time": "2022-03-16T10:34:31.182Z"
   },
   {
    "duration": 34,
    "start_time": "2022-03-16T10:34:31.219Z"
   },
   {
    "duration": 12,
    "start_time": "2022-03-16T10:34:31.255Z"
   },
   {
    "duration": 31,
    "start_time": "2022-03-16T10:34:31.269Z"
   },
   {
    "duration": 31,
    "start_time": "2022-03-16T10:34:31.302Z"
   },
   {
    "duration": 16,
    "start_time": "2022-03-16T10:34:31.335Z"
   },
   {
    "duration": 21,
    "start_time": "2022-03-16T10:34:31.353Z"
   },
   {
    "duration": 3,
    "start_time": "2022-03-16T10:34:31.376Z"
   },
   {
    "duration": 20,
    "start_time": "2022-03-16T10:34:31.382Z"
   },
   {
    "duration": 12,
    "start_time": "2022-03-16T10:34:31.403Z"
   },
   {
    "duration": 22,
    "start_time": "2022-03-16T10:34:31.416Z"
   },
   {
    "duration": 22,
    "start_time": "2022-03-16T10:34:31.440Z"
   },
   {
    "duration": 100,
    "start_time": "2022-03-16T10:34:31.463Z"
   },
   {
    "duration": -62,
    "start_time": "2022-03-16T10:34:31.627Z"
   },
   {
    "duration": -65,
    "start_time": "2022-03-16T10:34:31.630Z"
   },
   {
    "duration": -67,
    "start_time": "2022-03-16T10:34:31.633Z"
   },
   {
    "duration": 3,
    "start_time": "2022-03-16T10:35:10.571Z"
   },
   {
    "duration": 366,
    "start_time": "2022-03-16T10:35:10.576Z"
   },
   {
    "duration": 2,
    "start_time": "2022-03-16T10:35:10.944Z"
   },
   {
    "duration": 34,
    "start_time": "2022-03-16T10:35:10.948Z"
   },
   {
    "duration": 56,
    "start_time": "2022-03-16T10:35:10.983Z"
   },
   {
    "duration": 29,
    "start_time": "2022-03-16T10:35:11.041Z"
   },
   {
    "duration": 67,
    "start_time": "2022-03-16T10:35:11.072Z"
   },
   {
    "duration": 33,
    "start_time": "2022-03-16T10:35:11.141Z"
   },
   {
    "duration": 25,
    "start_time": "2022-03-16T10:35:11.176Z"
   },
   {
    "duration": 9,
    "start_time": "2022-03-16T10:35:11.202Z"
   },
   {
    "duration": 7,
    "start_time": "2022-03-16T10:35:11.212Z"
   },
   {
    "duration": 27,
    "start_time": "2022-03-16T10:35:11.220Z"
   },
   {
    "duration": 4,
    "start_time": "2022-03-16T10:35:11.248Z"
   },
   {
    "duration": 8,
    "start_time": "2022-03-16T10:35:11.254Z"
   },
   {
    "duration": 41,
    "start_time": "2022-03-16T10:35:11.264Z"
   },
   {
    "duration": 16,
    "start_time": "2022-03-16T10:35:11.307Z"
   },
   {
    "duration": 6,
    "start_time": "2022-03-16T10:35:11.325Z"
   },
   {
    "duration": 10,
    "start_time": "2022-03-16T10:35:11.333Z"
   },
   {
    "duration": 18,
    "start_time": "2022-03-16T10:35:11.346Z"
   },
   {
    "duration": 39,
    "start_time": "2022-03-16T10:35:11.366Z"
   },
   {
    "duration": 21,
    "start_time": "2022-03-16T10:35:11.407Z"
   },
   {
    "duration": 3,
    "start_time": "2022-03-16T10:35:11.429Z"
   },
   {
    "duration": 8,
    "start_time": "2022-03-16T10:35:11.434Z"
   },
   {
    "duration": 8,
    "start_time": "2022-03-16T10:35:11.444Z"
   },
   {
    "duration": 12,
    "start_time": "2022-03-16T10:35:11.454Z"
   },
   {
    "duration": 14,
    "start_time": "2022-03-16T10:35:11.467Z"
   },
   {
    "duration": 18,
    "start_time": "2022-03-16T10:35:11.483Z"
   },
   {
    "duration": 8,
    "start_time": "2022-03-16T10:35:11.503Z"
   },
   {
    "duration": 12,
    "start_time": "2022-03-16T10:35:11.512Z"
   },
   {
    "duration": 13,
    "start_time": "2022-03-16T10:35:11.525Z"
   },
   {
    "duration": -56,
    "start_time": "2022-03-16T10:35:53.131Z"
   },
   {
    "duration": -59,
    "start_time": "2022-03-16T10:35:53.135Z"
   },
   {
    "duration": -61,
    "start_time": "2022-03-16T10:35:53.138Z"
   },
   {
    "duration": -63,
    "start_time": "2022-03-16T10:35:53.141Z"
   },
   {
    "duration": -65,
    "start_time": "2022-03-16T10:35:53.144Z"
   },
   {
    "duration": -68,
    "start_time": "2022-03-16T10:35:53.148Z"
   },
   {
    "duration": -70,
    "start_time": "2022-03-16T10:35:53.151Z"
   },
   {
    "duration": -78,
    "start_time": "2022-03-16T10:35:53.160Z"
   },
   {
    "duration": -81,
    "start_time": "2022-03-16T10:35:53.164Z"
   },
   {
    "duration": -83,
    "start_time": "2022-03-16T10:35:53.167Z"
   },
   {
    "duration": -84,
    "start_time": "2022-03-16T10:35:53.169Z"
   },
   {
    "duration": -85,
    "start_time": "2022-03-16T10:35:53.171Z"
   },
   {
    "duration": -86,
    "start_time": "2022-03-16T10:35:53.173Z"
   },
   {
    "duration": -87,
    "start_time": "2022-03-16T10:35:53.175Z"
   },
   {
    "duration": -88,
    "start_time": "2022-03-16T10:35:53.177Z"
   },
   {
    "duration": -89,
    "start_time": "2022-03-16T10:35:53.179Z"
   },
   {
    "duration": -90,
    "start_time": "2022-03-16T10:35:53.181Z"
   },
   {
    "duration": -91,
    "start_time": "2022-03-16T10:35:53.183Z"
   },
   {
    "duration": -93,
    "start_time": "2022-03-16T10:35:53.185Z"
   },
   {
    "duration": -94,
    "start_time": "2022-03-16T10:35:53.187Z"
   },
   {
    "duration": -95,
    "start_time": "2022-03-16T10:35:53.189Z"
   },
   {
    "duration": -97,
    "start_time": "2022-03-16T10:35:53.192Z"
   },
   {
    "duration": -98,
    "start_time": "2022-03-16T10:35:53.194Z"
   },
   {
    "duration": -100,
    "start_time": "2022-03-16T10:35:53.197Z"
   },
   {
    "duration": -100,
    "start_time": "2022-03-16T10:35:53.198Z"
   },
   {
    "duration": -101,
    "start_time": "2022-03-16T10:35:53.200Z"
   },
   {
    "duration": -105,
    "start_time": "2022-03-16T10:35:53.205Z"
   },
   {
    "duration": -107,
    "start_time": "2022-03-16T10:35:53.208Z"
   },
   {
    "duration": -109,
    "start_time": "2022-03-16T10:35:53.210Z"
   },
   {
    "duration": -109,
    "start_time": "2022-03-16T10:35:53.211Z"
   },
   {
    "duration": 2,
    "start_time": "2022-03-16T10:36:04.000Z"
   },
   {
    "duration": 354,
    "start_time": "2022-03-16T10:36:04.004Z"
   },
   {
    "duration": 3,
    "start_time": "2022-03-16T10:36:04.360Z"
   },
   {
    "duration": 37,
    "start_time": "2022-03-16T10:36:04.364Z"
   },
   {
    "duration": 75,
    "start_time": "2022-03-16T10:36:04.403Z"
   },
   {
    "duration": 55,
    "start_time": "2022-03-16T10:36:04.480Z"
   },
   {
    "duration": 78,
    "start_time": "2022-03-16T10:36:04.536Z"
   },
   {
    "duration": 38,
    "start_time": "2022-03-16T10:36:04.617Z"
   },
   {
    "duration": 5,
    "start_time": "2022-03-16T10:36:04.658Z"
   },
   {
    "duration": 14,
    "start_time": "2022-03-16T10:36:04.665Z"
   },
   {
    "duration": 26,
    "start_time": "2022-03-16T10:36:04.680Z"
   },
   {
    "duration": 30,
    "start_time": "2022-03-16T10:36:04.707Z"
   },
   {
    "duration": 4,
    "start_time": "2022-03-16T10:36:04.739Z"
   },
   {
    "duration": 11,
    "start_time": "2022-03-16T10:36:04.745Z"
   },
   {
    "duration": 43,
    "start_time": "2022-03-16T10:36:04.758Z"
   },
   {
    "duration": 20,
    "start_time": "2022-03-16T10:36:04.803Z"
   },
   {
    "duration": 7,
    "start_time": "2022-03-16T10:36:04.825Z"
   },
   {
    "duration": 17,
    "start_time": "2022-03-16T10:36:04.834Z"
   },
   {
    "duration": 50,
    "start_time": "2022-03-16T10:36:04.853Z"
   },
   {
    "duration": 16,
    "start_time": "2022-03-16T10:36:04.905Z"
   },
   {
    "duration": 28,
    "start_time": "2022-03-16T10:36:04.923Z"
   },
   {
    "duration": 4,
    "start_time": "2022-03-16T10:36:04.953Z"
   },
   {
    "duration": 7,
    "start_time": "2022-03-16T10:36:04.962Z"
   },
   {
    "duration": 38,
    "start_time": "2022-03-16T10:36:04.971Z"
   },
   {
    "duration": 16,
    "start_time": "2022-03-16T10:36:05.012Z"
   },
   {
    "duration": 12,
    "start_time": "2022-03-16T10:36:05.029Z"
   },
   {
    "duration": 3,
    "start_time": "2022-03-16T10:36:05.043Z"
   },
   {
    "duration": 10,
    "start_time": "2022-03-16T10:36:05.048Z"
   },
   {
    "duration": 17,
    "start_time": "2022-03-16T10:36:05.060Z"
   },
   {
    "duration": 24,
    "start_time": "2022-03-16T10:36:05.078Z"
   },
   {
    "duration": 126,
    "start_time": "2022-03-16T10:41:13.945Z"
   },
   {
    "duration": 3,
    "start_time": "2022-03-16T11:01:32.953Z"
   },
   {
    "duration": 2,
    "start_time": "2022-03-16T11:02:56.860Z"
   },
   {
    "duration": 44,
    "start_time": "2022-03-16T11:02:57.390Z"
   },
   {
    "duration": 8,
    "start_time": "2022-03-16T11:03:14.540Z"
   },
   {
    "duration": 9,
    "start_time": "2022-03-16T11:03:45.255Z"
   },
   {
    "duration": 11,
    "start_time": "2022-03-16T11:03:49.441Z"
   },
   {
    "duration": 2,
    "start_time": "2022-03-16T11:06:29.303Z"
   },
   {
    "duration": 381,
    "start_time": "2022-03-16T11:06:29.307Z"
   },
   {
    "duration": 3,
    "start_time": "2022-03-16T11:06:29.690Z"
   },
   {
    "duration": 33,
    "start_time": "2022-03-16T11:06:29.695Z"
   },
   {
    "duration": 46,
    "start_time": "2022-03-16T11:06:29.730Z"
   },
   {
    "duration": 47,
    "start_time": "2022-03-16T11:06:29.778Z"
   },
   {
    "duration": 47,
    "start_time": "2022-03-16T11:06:29.826Z"
   },
   {
    "duration": 54,
    "start_time": "2022-03-16T11:06:29.876Z"
   },
   {
    "duration": 5,
    "start_time": "2022-03-16T11:06:29.932Z"
   },
   {
    "duration": 12,
    "start_time": "2022-03-16T11:06:29.939Z"
   },
   {
    "duration": 10,
    "start_time": "2022-03-16T11:06:29.952Z"
   },
   {
    "duration": 47,
    "start_time": "2022-03-16T11:06:29.963Z"
   },
   {
    "duration": 4,
    "start_time": "2022-03-16T11:06:30.012Z"
   },
   {
    "duration": 14,
    "start_time": "2022-03-16T11:06:30.017Z"
   },
   {
    "duration": 22,
    "start_time": "2022-03-16T11:06:30.033Z"
   },
   {
    "duration": 18,
    "start_time": "2022-03-16T11:06:30.056Z"
   },
   {
    "duration": 28,
    "start_time": "2022-03-16T11:06:30.076Z"
   },
   {
    "duration": 9,
    "start_time": "2022-03-16T11:06:30.106Z"
   },
   {
    "duration": 19,
    "start_time": "2022-03-16T11:06:30.117Z"
   },
   {
    "duration": 17,
    "start_time": "2022-03-16T11:06:30.137Z"
   },
   {
    "duration": 53,
    "start_time": "2022-03-16T11:06:30.156Z"
   },
   {
    "duration": 4,
    "start_time": "2022-03-16T11:06:30.211Z"
   },
   {
    "duration": 7,
    "start_time": "2022-03-16T11:06:30.218Z"
   },
   {
    "duration": 7,
    "start_time": "2022-03-16T11:06:30.227Z"
   },
   {
    "duration": 12,
    "start_time": "2022-03-16T11:06:30.235Z"
   },
   {
    "duration": 15,
    "start_time": "2022-03-16T11:06:30.248Z"
   },
   {
    "duration": 18,
    "start_time": "2022-03-16T11:06:30.264Z"
   },
   {
    "duration": 17,
    "start_time": "2022-03-16T11:06:30.284Z"
   },
   {
    "duration": 15,
    "start_time": "2022-03-16T11:06:30.302Z"
   },
   {
    "duration": 12,
    "start_time": "2022-03-16T11:06:30.319Z"
   },
   {
    "duration": 153,
    "start_time": "2022-03-16T11:06:30.333Z"
   },
   {
    "duration": 2,
    "start_time": "2022-03-16T11:06:30.488Z"
   },
   {
    "duration": 58,
    "start_time": "2022-03-16T11:06:30.492Z"
   },
   {
    "duration": 9,
    "start_time": "2022-03-16T11:06:30.552Z"
   },
   {
    "duration": 15,
    "start_time": "2022-03-16T11:06:30.562Z"
   },
   {
    "duration": 17,
    "start_time": "2022-03-16T11:06:30.578Z"
   },
   {
    "duration": 1203,
    "start_time": "2022-03-16T11:17:13.688Z"
   },
   {
    "duration": 11,
    "start_time": "2022-03-16T11:18:31.529Z"
   },
   {
    "duration": 1122,
    "start_time": "2022-03-16T11:24:24.779Z"
   },
   {
    "duration": 1319,
    "start_time": "2022-03-16T11:26:02.440Z"
   },
   {
    "duration": 1073,
    "start_time": "2022-03-16T11:27:10.815Z"
   },
   {
    "duration": 3538,
    "start_time": "2022-03-16T11:32:08.143Z"
   },
   {
    "duration": 291,
    "start_time": "2022-03-16T11:32:50.742Z"
   },
   {
    "duration": 19,
    "start_time": "2022-03-16T11:39:43.140Z"
   },
   {
    "duration": 13,
    "start_time": "2022-03-16T11:40:03.537Z"
   },
   {
    "duration": 8,
    "start_time": "2022-03-16T11:40:30.889Z"
   },
   {
    "duration": 8,
    "start_time": "2022-03-16T11:41:29.930Z"
   },
   {
    "duration": 7,
    "start_time": "2022-03-16T11:42:12.172Z"
   },
   {
    "duration": 20,
    "start_time": "2022-03-16T11:43:57.040Z"
   },
   {
    "duration": 8,
    "start_time": "2022-03-16T11:43:58.220Z"
   },
   {
    "duration": 6,
    "start_time": "2022-03-16T11:44:43.597Z"
   },
   {
    "duration": 20,
    "start_time": "2022-03-16T11:44:58.929Z"
   },
   {
    "duration": 8,
    "start_time": "2022-03-16T11:45:00.925Z"
   },
   {
    "duration": 19,
    "start_time": "2022-03-16T11:45:07.660Z"
   },
   {
    "duration": 8,
    "start_time": "2022-03-16T11:45:08.479Z"
   },
   {
    "duration": 6,
    "start_time": "2022-03-16T11:45:14.411Z"
   },
   {
    "duration": 27,
    "start_time": "2022-03-16T11:46:53.101Z"
   },
   {
    "duration": 7,
    "start_time": "2022-03-16T11:47:05.815Z"
   },
   {
    "duration": 6,
    "start_time": "2022-03-16T11:47:29.071Z"
   },
   {
    "duration": 2,
    "start_time": "2022-03-16T11:48:54.646Z"
   },
   {
    "duration": 381,
    "start_time": "2022-03-16T11:48:54.650Z"
   },
   {
    "duration": 3,
    "start_time": "2022-03-16T11:48:55.033Z"
   },
   {
    "duration": 32,
    "start_time": "2022-03-16T11:48:55.037Z"
   },
   {
    "duration": 53,
    "start_time": "2022-03-16T11:48:55.070Z"
   },
   {
    "duration": 30,
    "start_time": "2022-03-16T11:48:55.125Z"
   },
   {
    "duration": 67,
    "start_time": "2022-03-16T11:48:55.157Z"
   },
   {
    "duration": 36,
    "start_time": "2022-03-16T11:48:55.226Z"
   },
   {
    "duration": 5,
    "start_time": "2022-03-16T11:48:55.263Z"
   },
   {
    "duration": 32,
    "start_time": "2022-03-16T11:48:55.270Z"
   },
   {
    "duration": 5,
    "start_time": "2022-03-16T11:48:55.303Z"
   },
   {
    "duration": 30,
    "start_time": "2022-03-16T11:48:55.310Z"
   },
   {
    "duration": 4,
    "start_time": "2022-03-16T11:48:55.341Z"
   },
   {
    "duration": 8,
    "start_time": "2022-03-16T11:48:55.346Z"
   },
   {
    "duration": 19,
    "start_time": "2022-03-16T11:48:55.356Z"
   },
   {
    "duration": 29,
    "start_time": "2022-03-16T11:48:55.376Z"
   },
   {
    "duration": 6,
    "start_time": "2022-03-16T11:48:55.407Z"
   },
   {
    "duration": 11,
    "start_time": "2022-03-16T11:48:55.414Z"
   },
   {
    "duration": 21,
    "start_time": "2022-03-16T11:48:55.429Z"
   },
   {
    "duration": 16,
    "start_time": "2022-03-16T11:48:55.452Z"
   },
   {
    "duration": 51,
    "start_time": "2022-03-16T11:48:55.471Z"
   },
   {
    "duration": 3,
    "start_time": "2022-03-16T11:48:55.524Z"
   },
   {
    "duration": 7,
    "start_time": "2022-03-16T11:48:55.529Z"
   },
   {
    "duration": 6,
    "start_time": "2022-03-16T11:48:55.538Z"
   },
   {
    "duration": 13,
    "start_time": "2022-03-16T11:48:55.546Z"
   },
   {
    "duration": 13,
    "start_time": "2022-03-16T11:48:55.561Z"
   },
   {
    "duration": 26,
    "start_time": "2022-03-16T11:48:55.575Z"
   },
   {
    "duration": 3,
    "start_time": "2022-03-16T11:48:55.602Z"
   },
   {
    "duration": 12,
    "start_time": "2022-03-16T11:48:55.607Z"
   },
   {
    "duration": 9,
    "start_time": "2022-03-16T11:48:55.620Z"
   },
   {
    "duration": 131,
    "start_time": "2022-03-16T11:48:55.631Z"
   },
   {
    "duration": 3,
    "start_time": "2022-03-16T11:48:55.763Z"
   },
   {
    "duration": 53,
    "start_time": "2022-03-16T11:48:55.767Z"
   },
   {
    "duration": 9,
    "start_time": "2022-03-16T11:48:55.821Z"
   },
   {
    "duration": 8,
    "start_time": "2022-03-16T11:48:55.832Z"
   },
   {
    "duration": 8,
    "start_time": "2022-03-16T11:48:55.842Z"
   },
   {
    "duration": 50,
    "start_time": "2022-03-16T11:48:55.851Z"
   },
   {
    "duration": 6,
    "start_time": "2022-03-16T11:48:55.903Z"
   },
   {
    "duration": 7,
    "start_time": "2022-03-16T11:48:55.910Z"
   },
   {
    "duration": 22,
    "start_time": "2022-03-16T11:50:43.712Z"
   },
   {
    "duration": 7,
    "start_time": "2022-03-16T11:51:08.259Z"
   },
   {
    "duration": 6,
    "start_time": "2022-03-16T11:51:27.019Z"
   },
   {
    "duration": 17,
    "start_time": "2022-03-16T11:56:13.857Z"
   },
   {
    "duration": 6,
    "start_time": "2022-03-16T11:56:14.657Z"
   },
   {
    "duration": 5,
    "start_time": "2022-03-16T11:56:15.763Z"
   },
   {
    "duration": 18,
    "start_time": "2022-03-16T11:59:17.527Z"
   },
   {
    "duration": 11,
    "start_time": "2022-03-16T11:59:23.422Z"
   },
   {
    "duration": 5,
    "start_time": "2022-03-16T12:00:32.271Z"
   },
   {
    "duration": 9,
    "start_time": "2022-03-16T12:00:37.521Z"
   },
   {
    "duration": 3,
    "start_time": "2022-03-16T12:03:27.035Z"
   },
   {
    "duration": 6,
    "start_time": "2022-03-16T12:03:42.027Z"
   },
   {
    "duration": 6,
    "start_time": "2022-03-16T12:03:50.424Z"
   },
   {
    "duration": 5,
    "start_time": "2022-03-16T12:04:24.150Z"
   },
   {
    "duration": 353,
    "start_time": "2022-03-16T12:25:27.533Z"
   },
   {
    "duration": 284,
    "start_time": "2022-03-16T12:26:22.637Z"
   },
   {
    "duration": 16,
    "start_time": "2022-03-16T12:27:16.000Z"
   },
   {
    "duration": 20,
    "start_time": "2022-03-16T12:27:23.420Z"
   },
   {
    "duration": 3,
    "start_time": "2022-03-16T12:34:01.649Z"
   },
   {
    "duration": 391,
    "start_time": "2022-03-16T12:34:01.654Z"
   },
   {
    "duration": 3,
    "start_time": "2022-03-16T12:34:02.047Z"
   },
   {
    "duration": 34,
    "start_time": "2022-03-16T12:34:02.052Z"
   },
   {
    "duration": 57,
    "start_time": "2022-03-16T12:34:02.088Z"
   },
   {
    "duration": 54,
    "start_time": "2022-03-16T12:34:02.147Z"
   },
   {
    "duration": 46,
    "start_time": "2022-03-16T12:34:02.203Z"
   },
   {
    "duration": 57,
    "start_time": "2022-03-16T12:34:02.251Z"
   },
   {
    "duration": 5,
    "start_time": "2022-03-16T12:34:02.310Z"
   },
   {
    "duration": 11,
    "start_time": "2022-03-16T12:34:02.316Z"
   },
   {
    "duration": 7,
    "start_time": "2022-03-16T12:34:02.329Z"
   },
   {
    "duration": 25,
    "start_time": "2022-03-16T12:34:02.338Z"
   },
   {
    "duration": 5,
    "start_time": "2022-03-16T12:34:02.365Z"
   },
   {
    "duration": 30,
    "start_time": "2022-03-16T12:34:02.372Z"
   },
   {
    "duration": 18,
    "start_time": "2022-03-16T12:34:02.404Z"
   },
   {
    "duration": 17,
    "start_time": "2022-03-16T12:34:02.423Z"
   },
   {
    "duration": 7,
    "start_time": "2022-03-16T12:34:02.441Z"
   },
   {
    "duration": 10,
    "start_time": "2022-03-16T12:34:02.449Z"
   },
   {
    "duration": 46,
    "start_time": "2022-03-16T12:34:02.462Z"
   },
   {
    "duration": 15,
    "start_time": "2022-03-16T12:34:02.511Z"
   },
   {
    "duration": 21,
    "start_time": "2022-03-16T12:34:02.528Z"
   },
   {
    "duration": 3,
    "start_time": "2022-03-16T12:34:02.551Z"
   },
   {
    "duration": 8,
    "start_time": "2022-03-16T12:34:02.555Z"
   },
   {
    "duration": 8,
    "start_time": "2022-03-16T12:34:02.564Z"
   },
   {
    "duration": 29,
    "start_time": "2022-03-16T12:34:02.573Z"
   },
   {
    "duration": 13,
    "start_time": "2022-03-16T12:34:02.603Z"
   },
   {
    "duration": 6,
    "start_time": "2022-03-16T12:34:02.617Z"
   },
   {
    "duration": 13,
    "start_time": "2022-03-16T12:34:02.624Z"
   },
   {
    "duration": 627,
    "start_time": "2022-03-16T12:34:02.638Z"
   },
   {
    "duration": -93,
    "start_time": "2022-03-16T12:34:03.360Z"
   },
   {
    "duration": -97,
    "start_time": "2022-03-16T12:34:03.365Z"
   },
   {
    "duration": -100,
    "start_time": "2022-03-16T12:34:03.369Z"
   },
   {
    "duration": -101,
    "start_time": "2022-03-16T12:34:03.371Z"
   },
   {
    "duration": -109,
    "start_time": "2022-03-16T12:34:03.381Z"
   },
   {
    "duration": -111,
    "start_time": "2022-03-16T12:34:03.384Z"
   },
   {
    "duration": -112,
    "start_time": "2022-03-16T12:34:03.386Z"
   },
   {
    "duration": -113,
    "start_time": "2022-03-16T12:34:03.388Z"
   },
   {
    "duration": -114,
    "start_time": "2022-03-16T12:34:03.391Z"
   },
   {
    "duration": -115,
    "start_time": "2022-03-16T12:34:03.393Z"
   },
   {
    "duration": -116,
    "start_time": "2022-03-16T12:34:03.395Z"
   },
   {
    "duration": -117,
    "start_time": "2022-03-16T12:34:03.398Z"
   },
   {
    "duration": -118,
    "start_time": "2022-03-16T12:34:03.400Z"
   },
   {
    "duration": -119,
    "start_time": "2022-03-16T12:34:03.402Z"
   },
   {
    "duration": -119,
    "start_time": "2022-03-16T12:34:03.404Z"
   },
   {
    "duration": -120,
    "start_time": "2022-03-16T12:34:03.406Z"
   },
   {
    "duration": -121,
    "start_time": "2022-03-16T12:34:03.408Z"
   },
   {
    "duration": -121,
    "start_time": "2022-03-16T12:34:03.410Z"
   },
   {
    "duration": -122,
    "start_time": "2022-03-16T12:34:03.412Z"
   },
   {
    "duration": 3,
    "start_time": "2022-03-16T12:34:43.773Z"
   },
   {
    "duration": 266,
    "start_time": "2022-03-16T12:34:47.886Z"
   },
   {
    "duration": 610,
    "start_time": "2022-03-16T12:35:02.219Z"
   },
   {
    "duration": 2,
    "start_time": "2022-03-16T12:35:02.956Z"
   },
   {
    "duration": 3,
    "start_time": "2022-03-16T12:35:23.190Z"
   },
   {
    "duration": 367,
    "start_time": "2022-03-16T12:35:23.194Z"
   },
   {
    "duration": 3,
    "start_time": "2022-03-16T12:35:23.563Z"
   },
   {
    "duration": 36,
    "start_time": "2022-03-16T12:35:23.567Z"
   },
   {
    "duration": 47,
    "start_time": "2022-03-16T12:35:23.604Z"
   },
   {
    "duration": 55,
    "start_time": "2022-03-16T12:35:23.653Z"
   },
   {
    "duration": 49,
    "start_time": "2022-03-16T12:35:23.711Z"
   },
   {
    "duration": 61,
    "start_time": "2022-03-16T12:35:23.762Z"
   },
   {
    "duration": 6,
    "start_time": "2022-03-16T12:35:23.825Z"
   },
   {
    "duration": 12,
    "start_time": "2022-03-16T12:35:23.832Z"
   },
   {
    "duration": 5,
    "start_time": "2022-03-16T12:35:23.846Z"
   },
   {
    "duration": 49,
    "start_time": "2022-03-16T12:35:23.852Z"
   },
   {
    "duration": 4,
    "start_time": "2022-03-16T12:35:23.903Z"
   },
   {
    "duration": 11,
    "start_time": "2022-03-16T12:35:23.908Z"
   },
   {
    "duration": 16,
    "start_time": "2022-03-16T12:35:23.921Z"
   },
   {
    "duration": 16,
    "start_time": "2022-03-16T12:35:23.938Z"
   },
   {
    "duration": 7,
    "start_time": "2022-03-16T12:35:23.955Z"
   },
   {
    "duration": 13,
    "start_time": "2022-03-16T12:35:23.963Z"
   },
   {
    "duration": 21,
    "start_time": "2022-03-16T12:35:24.001Z"
   },
   {
    "duration": 15,
    "start_time": "2022-03-16T12:35:24.024Z"
   },
   {
    "duration": 18,
    "start_time": "2022-03-16T12:35:24.040Z"
   },
   {
    "duration": 3,
    "start_time": "2022-03-16T12:35:24.060Z"
   },
   {
    "duration": 6,
    "start_time": "2022-03-16T12:35:24.064Z"
   },
   {
    "duration": 29,
    "start_time": "2022-03-16T12:35:24.072Z"
   },
   {
    "duration": 12,
    "start_time": "2022-03-16T12:35:24.103Z"
   },
   {
    "duration": 18,
    "start_time": "2022-03-16T12:35:24.116Z"
   },
   {
    "duration": 3,
    "start_time": "2022-03-16T12:35:24.136Z"
   },
   {
    "duration": 8,
    "start_time": "2022-03-16T12:35:24.141Z"
   },
   {
    "duration": 11,
    "start_time": "2022-03-16T12:35:24.150Z"
   },
   {
    "duration": 8,
    "start_time": "2022-03-16T12:35:24.162Z"
   },
   {
    "duration": 134,
    "start_time": "2022-03-16T12:35:24.172Z"
   },
   {
    "duration": 3,
    "start_time": "2022-03-16T12:35:24.307Z"
   },
   {
    "duration": 47,
    "start_time": "2022-03-16T12:35:24.311Z"
   },
   {
    "duration": 8,
    "start_time": "2022-03-16T12:35:24.360Z"
   },
   {
    "duration": 11,
    "start_time": "2022-03-16T12:35:24.369Z"
   },
   {
    "duration": 23,
    "start_time": "2022-03-16T12:35:24.381Z"
   },
   {
    "duration": 24,
    "start_time": "2022-03-16T12:35:24.406Z"
   },
   {
    "duration": 6,
    "start_time": "2022-03-16T12:35:24.432Z"
   },
   {
    "duration": 9,
    "start_time": "2022-03-16T12:35:24.439Z"
   },
   {
    "duration": 17,
    "start_time": "2022-03-16T12:35:24.449Z"
   },
   {
    "duration": 5,
    "start_time": "2022-03-16T12:35:24.468Z"
   },
   {
    "duration": 27,
    "start_time": "2022-03-16T12:35:24.475Z"
   },
   {
    "duration": 14,
    "start_time": "2022-03-16T12:35:24.503Z"
   },
   {
    "duration": 3,
    "start_time": "2022-03-16T12:35:24.519Z"
   },
   {
    "duration": 15,
    "start_time": "2022-03-16T12:35:24.523Z"
   },
   {
    "duration": 8,
    "start_time": "2022-03-16T12:35:24.539Z"
   },
   {
    "duration": 22,
    "start_time": "2022-03-16T12:35:24.549Z"
   },
   {
    "duration": 34,
    "start_time": "2022-03-16T12:35:24.572Z"
   },
   {
    "duration": 74,
    "start_time": "2022-03-16T12:38:49.904Z"
   },
   {
    "duration": 2,
    "start_time": "2022-03-16T12:47:25.015Z"
   },
   {
    "duration": 382,
    "start_time": "2022-03-16T12:47:25.021Z"
   },
   {
    "duration": 3,
    "start_time": "2022-03-16T12:47:25.404Z"
   },
   {
    "duration": 30,
    "start_time": "2022-03-16T12:47:25.409Z"
   },
   {
    "duration": 68,
    "start_time": "2022-03-16T12:47:25.440Z"
   },
   {
    "duration": 30,
    "start_time": "2022-03-16T12:47:25.509Z"
   },
   {
    "duration": 70,
    "start_time": "2022-03-16T12:47:25.540Z"
   },
   {
    "duration": 36,
    "start_time": "2022-03-16T12:47:25.612Z"
   },
   {
    "duration": 5,
    "start_time": "2022-03-16T12:47:25.650Z"
   },
   {
    "duration": 11,
    "start_time": "2022-03-16T12:47:25.657Z"
   },
   {
    "duration": 35,
    "start_time": "2022-03-16T12:47:25.669Z"
   },
   {
    "duration": 24,
    "start_time": "2022-03-16T12:47:25.705Z"
   },
   {
    "duration": 4,
    "start_time": "2022-03-16T12:47:25.731Z"
   },
   {
    "duration": 8,
    "start_time": "2022-03-16T12:47:25.736Z"
   },
   {
    "duration": 15,
    "start_time": "2022-03-16T12:47:25.745Z"
   },
   {
    "duration": 15,
    "start_time": "2022-03-16T12:47:25.762Z"
   },
   {
    "duration": 7,
    "start_time": "2022-03-16T12:47:25.800Z"
   },
   {
    "duration": 9,
    "start_time": "2022-03-16T12:47:25.809Z"
   },
   {
    "duration": 19,
    "start_time": "2022-03-16T12:47:25.819Z"
   },
   {
    "duration": 14,
    "start_time": "2022-03-16T12:47:25.839Z"
   },
   {
    "duration": 46,
    "start_time": "2022-03-16T12:47:25.855Z"
   },
   {
    "duration": 4,
    "start_time": "2022-03-16T12:47:25.902Z"
   },
   {
    "duration": 9,
    "start_time": "2022-03-16T12:47:25.907Z"
   },
   {
    "duration": 6,
    "start_time": "2022-03-16T12:47:25.919Z"
   },
   {
    "duration": 11,
    "start_time": "2022-03-16T12:47:25.927Z"
   },
   {
    "duration": 14,
    "start_time": "2022-03-16T12:47:25.940Z"
   },
   {
    "duration": 4,
    "start_time": "2022-03-16T12:47:25.955Z"
   },
   {
    "duration": 10,
    "start_time": "2022-03-16T12:47:25.961Z"
   },
   {
    "duration": 12,
    "start_time": "2022-03-16T12:47:25.972Z"
   },
   {
    "duration": 19,
    "start_time": "2022-03-16T12:47:25.986Z"
   },
   {
    "duration": 140,
    "start_time": "2022-03-16T12:47:26.006Z"
   },
   {
    "duration": 3,
    "start_time": "2022-03-16T12:47:26.147Z"
   },
   {
    "duration": 50,
    "start_time": "2022-03-16T12:47:26.151Z"
   },
   {
    "duration": 8,
    "start_time": "2022-03-16T12:47:26.203Z"
   },
   {
    "duration": 9,
    "start_time": "2022-03-16T12:47:26.213Z"
   },
   {
    "duration": 8,
    "start_time": "2022-03-16T12:47:26.223Z"
   },
   {
    "duration": 27,
    "start_time": "2022-03-16T12:47:26.233Z"
   },
   {
    "duration": 6,
    "start_time": "2022-03-16T12:47:26.262Z"
   },
   {
    "duration": 33,
    "start_time": "2022-03-16T12:47:26.269Z"
   },
   {
    "duration": 20,
    "start_time": "2022-03-16T12:47:26.303Z"
   },
   {
    "duration": 5,
    "start_time": "2022-03-16T12:47:26.325Z"
   },
   {
    "duration": 5,
    "start_time": "2022-03-16T12:47:26.332Z"
   },
   {
    "duration": 15,
    "start_time": "2022-03-16T12:47:26.339Z"
   },
   {
    "duration": 5,
    "start_time": "2022-03-16T12:47:26.355Z"
   },
   {
    "duration": 11,
    "start_time": "2022-03-16T12:47:26.361Z"
   },
   {
    "duration": 31,
    "start_time": "2022-03-16T12:47:26.373Z"
   },
   {
    "duration": 22,
    "start_time": "2022-03-16T12:47:26.405Z"
   },
   {
    "duration": 92,
    "start_time": "2022-03-16T12:47:26.428Z"
   },
   {
    "duration": 5,
    "start_time": "2022-03-16T12:51:49.691Z"
   },
   {
    "duration": 5,
    "start_time": "2022-03-16T12:52:32.387Z"
   },
   {
    "duration": 2,
    "start_time": "2022-03-16T12:52:52.261Z"
   },
   {
    "duration": 7,
    "start_time": "2022-03-16T12:53:21.417Z"
   },
   {
    "duration": 2,
    "start_time": "2022-03-16T12:53:49.323Z"
   },
   {
    "duration": 11,
    "start_time": "2022-03-16T12:54:18.536Z"
   },
   {
    "duration": 3,
    "start_time": "2022-03-16T13:05:13.256Z"
   },
   {
    "duration": 4,
    "start_time": "2022-03-16T13:05:44.877Z"
   },
   {
    "duration": 603,
    "start_time": "2022-03-16T13:07:41.590Z"
   },
   {
    "duration": 313,
    "start_time": "2022-03-16T13:09:13.526Z"
   },
   {
    "duration": 43,
    "start_time": "2022-03-16T13:09:37.707Z"
   },
   {
    "duration": 381,
    "start_time": "2022-03-16T13:12:18.405Z"
   },
   {
    "duration": 4,
    "start_time": "2022-03-16T13:12:27.442Z"
   },
   {
    "duration": 27,
    "start_time": "2022-03-16T13:12:30.059Z"
   },
   {
    "duration": 22,
    "start_time": "2022-03-16T13:14:38.299Z"
   },
   {
    "duration": 4,
    "start_time": "2022-03-16T13:16:26.545Z"
   },
   {
    "duration": 9,
    "start_time": "2022-03-16T13:16:44.149Z"
   },
   {
    "duration": 8,
    "start_time": "2022-03-16T13:21:20.470Z"
   },
   {
    "duration": 17,
    "start_time": "2022-03-16T13:21:22.440Z"
   },
   {
    "duration": 1075,
    "start_time": "2022-03-16T14:21:03.461Z"
   },
   {
    "duration": 371,
    "start_time": "2022-03-16T14:21:04.538Z"
   },
   {
    "duration": 3,
    "start_time": "2022-03-16T14:21:04.911Z"
   },
   {
    "duration": 37,
    "start_time": "2022-03-16T14:21:04.915Z"
   },
   {
    "duration": 60,
    "start_time": "2022-03-16T14:21:04.953Z"
   },
   {
    "duration": 28,
    "start_time": "2022-03-16T14:21:05.014Z"
   },
   {
    "duration": 67,
    "start_time": "2022-03-16T14:21:05.044Z"
   },
   {
    "duration": 35,
    "start_time": "2022-03-16T14:21:05.113Z"
   },
   {
    "duration": 6,
    "start_time": "2022-03-16T14:21:05.150Z"
   },
   {
    "duration": 12,
    "start_time": "2022-03-16T14:21:05.157Z"
   },
   {
    "duration": 5,
    "start_time": "2022-03-16T14:21:05.170Z"
   },
   {
    "duration": 27,
    "start_time": "2022-03-16T14:21:05.202Z"
   },
   {
    "duration": 5,
    "start_time": "2022-03-16T14:21:05.230Z"
   },
   {
    "duration": 11,
    "start_time": "2022-03-16T14:21:05.236Z"
   },
   {
    "duration": 18,
    "start_time": "2022-03-16T14:21:05.248Z"
   },
   {
    "duration": 37,
    "start_time": "2022-03-16T14:21:05.268Z"
   },
   {
    "duration": 7,
    "start_time": "2022-03-16T14:21:05.306Z"
   },
   {
    "duration": 11,
    "start_time": "2022-03-16T14:21:05.314Z"
   },
   {
    "duration": 19,
    "start_time": "2022-03-16T14:21:05.327Z"
   },
   {
    "duration": 16,
    "start_time": "2022-03-16T14:21:05.348Z"
   },
   {
    "duration": 54,
    "start_time": "2022-03-16T14:21:05.365Z"
   },
   {
    "duration": 4,
    "start_time": "2022-03-16T14:21:05.420Z"
   },
   {
    "duration": 8,
    "start_time": "2022-03-16T14:21:05.428Z"
   },
   {
    "duration": 8,
    "start_time": "2022-03-16T14:21:05.438Z"
   },
   {
    "duration": 12,
    "start_time": "2022-03-16T14:21:05.447Z"
   },
   {
    "duration": 13,
    "start_time": "2022-03-16T14:21:05.461Z"
   },
   {
    "duration": 4,
    "start_time": "2022-03-16T14:21:05.476Z"
   },
   {
    "duration": 42,
    "start_time": "2022-03-16T14:21:05.481Z"
   },
   {
    "duration": 9,
    "start_time": "2022-03-16T14:21:05.525Z"
   },
   {
    "duration": 9,
    "start_time": "2022-03-16T14:21:05.536Z"
   },
   {
    "duration": 148,
    "start_time": "2022-03-16T14:21:05.546Z"
   },
   {
    "duration": 2,
    "start_time": "2022-03-16T14:21:05.696Z"
   },
   {
    "duration": 46,
    "start_time": "2022-03-16T14:21:05.699Z"
   },
   {
    "duration": 7,
    "start_time": "2022-03-16T14:21:05.747Z"
   },
   {
    "duration": 9,
    "start_time": "2022-03-16T14:21:05.756Z"
   },
   {
    "duration": 8,
    "start_time": "2022-03-16T14:21:05.767Z"
   },
   {
    "duration": 44,
    "start_time": "2022-03-16T14:21:05.777Z"
   },
   {
    "duration": 6,
    "start_time": "2022-03-16T14:21:05.822Z"
   },
   {
    "duration": 8,
    "start_time": "2022-03-16T14:21:05.829Z"
   },
   {
    "duration": 17,
    "start_time": "2022-03-16T14:21:05.838Z"
   },
   {
    "duration": 6,
    "start_time": "2022-03-16T14:21:05.857Z"
   },
   {
    "duration": 7,
    "start_time": "2022-03-16T14:21:05.865Z"
   },
   {
    "duration": 34,
    "start_time": "2022-03-16T14:21:05.874Z"
   },
   {
    "duration": 3,
    "start_time": "2022-03-16T14:21:05.910Z"
   },
   {
    "duration": 15,
    "start_time": "2022-03-16T14:21:05.914Z"
   },
   {
    "duration": 10,
    "start_time": "2022-03-16T14:21:05.930Z"
   },
   {
    "duration": 22,
    "start_time": "2022-03-16T14:21:05.942Z"
   },
   {
    "duration": 78,
    "start_time": "2022-03-16T14:21:05.965Z"
   },
   {
    "duration": 5,
    "start_time": "2022-03-16T14:21:06.045Z"
   },
   {
    "duration": 7,
    "start_time": "2022-03-16T14:21:06.051Z"
   },
   {
    "duration": 9,
    "start_time": "2022-03-16T14:21:06.060Z"
   },
   {
    "duration": 4,
    "start_time": "2022-03-16T14:21:06.070Z"
   },
   {
    "duration": 221,
    "start_time": "2022-03-16T14:21:06.076Z"
   },
   {
    "duration": 3,
    "start_time": "2022-03-16T14:21:06.299Z"
   },
   {
    "duration": 10,
    "start_time": "2022-03-16T14:21:06.304Z"
   },
   {
    "duration": 6,
    "start_time": "2022-03-16T14:21:06.315Z"
   },
   {
    "duration": 17,
    "start_time": "2022-03-16T14:21:06.323Z"
   },
   {
    "duration": 93,
    "start_time": "2022-03-17T10:09:14.263Z"
   },
   {
    "duration": 1949,
    "start_time": "2022-03-17T10:09:25.238Z"
   },
   {
    "duration": 593,
    "start_time": "2022-03-17T10:09:27.190Z"
   },
   {
    "duration": 5,
    "start_time": "2022-03-17T10:09:27.785Z"
   },
   {
    "duration": 106,
    "start_time": "2022-03-17T10:09:27.794Z"
   },
   {
    "duration": 107,
    "start_time": "2022-03-17T10:09:27.903Z"
   },
   {
    "duration": 92,
    "start_time": "2022-03-17T10:09:28.012Z"
   },
   {
    "duration": 113,
    "start_time": "2022-03-17T10:09:28.107Z"
   },
   {
    "duration": 99,
    "start_time": "2022-03-17T10:09:28.223Z"
   },
   {
    "duration": 9,
    "start_time": "2022-03-17T10:09:28.324Z"
   },
   {
    "duration": 33,
    "start_time": "2022-03-17T10:09:28.337Z"
   },
   {
    "duration": 28,
    "start_time": "2022-03-17T10:09:28.385Z"
   },
   {
    "duration": 60,
    "start_time": "2022-03-17T10:09:28.416Z"
   },
   {
    "duration": 12,
    "start_time": "2022-03-17T10:09:28.478Z"
   },
   {
    "duration": 22,
    "start_time": "2022-03-17T10:09:28.493Z"
   },
   {
    "duration": 36,
    "start_time": "2022-03-17T10:09:28.523Z"
   },
   {
    "duration": 61,
    "start_time": "2022-03-17T10:09:28.562Z"
   },
   {
    "duration": 13,
    "start_time": "2022-03-17T10:09:28.625Z"
   },
   {
    "duration": 55,
    "start_time": "2022-03-17T10:09:28.641Z"
   },
   {
    "duration": 36,
    "start_time": "2022-03-17T10:09:28.698Z"
   },
   {
    "duration": 56,
    "start_time": "2022-03-17T10:09:28.736Z"
   },
   {
    "duration": 38,
    "start_time": "2022-03-17T10:09:28.794Z"
   },
   {
    "duration": 7,
    "start_time": "2022-03-17T10:09:28.835Z"
   },
   {
    "duration": 39,
    "start_time": "2022-03-17T10:09:28.845Z"
   },
   {
    "duration": 13,
    "start_time": "2022-03-17T10:09:28.887Z"
   },
   {
    "duration": 21,
    "start_time": "2022-03-17T10:09:28.902Z"
   },
   {
    "duration": 23,
    "start_time": "2022-03-17T10:09:28.925Z"
   },
   {
    "duration": 7,
    "start_time": "2022-03-17T10:09:28.984Z"
   },
   {
    "duration": 7,
    "start_time": "2022-03-17T10:09:29.000Z"
   },
   {
    "duration": 19,
    "start_time": "2022-03-17T10:09:29.010Z"
   },
   {
    "duration": 63,
    "start_time": "2022-03-17T10:09:29.032Z"
   },
   {
    "duration": 363,
    "start_time": "2022-03-17T10:09:29.098Z"
   },
   {
    "duration": 5,
    "start_time": "2022-03-17T10:09:29.463Z"
   },
   {
    "duration": 71,
    "start_time": "2022-03-17T10:09:29.494Z"
   },
   {
    "duration": 36,
    "start_time": "2022-03-17T10:09:29.567Z"
   },
   {
    "duration": 15,
    "start_time": "2022-03-17T10:09:29.605Z"
   },
   {
    "duration": 15,
    "start_time": "2022-03-17T10:09:29.622Z"
   },
   {
    "duration": 92,
    "start_time": "2022-03-17T10:09:29.639Z"
   },
   {
    "duration": 10,
    "start_time": "2022-03-17T10:09:29.734Z"
   },
   {
    "duration": 43,
    "start_time": "2022-03-17T10:09:29.746Z"
   },
   {
    "duration": 44,
    "start_time": "2022-03-17T10:09:29.792Z"
   },
   {
    "duration": 10,
    "start_time": "2022-03-17T10:09:29.839Z"
   },
   {
    "duration": 33,
    "start_time": "2022-03-17T10:09:29.851Z"
   },
   {
    "duration": 26,
    "start_time": "2022-03-17T10:09:29.887Z"
   },
   {
    "duration": 6,
    "start_time": "2022-03-17T10:09:29.915Z"
   },
   {
    "duration": 61,
    "start_time": "2022-03-17T10:09:29.923Z"
   },
   {
    "duration": 18,
    "start_time": "2022-03-17T10:09:29.986Z"
   },
   {
    "duration": 37,
    "start_time": "2022-03-17T10:09:30.007Z"
   },
   {
    "duration": 187,
    "start_time": "2022-03-17T10:09:30.046Z"
   },
   {
    "duration": 8,
    "start_time": "2022-03-17T10:09:30.236Z"
   },
   {
    "duration": 42,
    "start_time": "2022-03-17T10:09:30.247Z"
   },
   {
    "duration": 15,
    "start_time": "2022-03-17T10:09:30.292Z"
   },
   {
    "duration": 8,
    "start_time": "2022-03-17T10:09:30.310Z"
   },
   {
    "duration": 339,
    "start_time": "2022-03-17T10:09:30.321Z"
   },
   {
    "duration": 8,
    "start_time": "2022-03-17T10:09:30.662Z"
   },
   {
    "duration": 29,
    "start_time": "2022-03-17T10:09:30.683Z"
   },
   {
    "duration": 13,
    "start_time": "2022-03-17T10:09:30.715Z"
   },
   {
    "duration": 76,
    "start_time": "2022-03-17T10:09:30.730Z"
   },
   {
    "duration": 108,
    "start_time": "2022-03-17T10:09:30.808Z"
   },
   {
    "duration": 8,
    "start_time": "2022-03-17T10:09:42.125Z"
   },
   {
    "duration": 34,
    "start_time": "2022-03-17T10:09:49.719Z"
   },
   {
    "duration": 42,
    "start_time": "2022-03-17T10:10:03.675Z"
   },
   {
    "duration": 143,
    "start_time": "2022-03-17T10:11:07.915Z"
   },
   {
    "duration": 146,
    "start_time": "2022-03-17T10:11:48.041Z"
   },
   {
    "duration": 147,
    "start_time": "2022-03-17T10:12:34.043Z"
   },
   {
    "duration": 190,
    "start_time": "2022-03-17T10:13:01.962Z"
   },
   {
    "duration": 194,
    "start_time": "2022-03-17T10:13:13.195Z"
   },
   {
    "duration": 7,
    "start_time": "2022-03-17T10:31:01.896Z"
   },
   {
    "duration": 7,
    "start_time": "2022-03-17T10:31:07.031Z"
   },
   {
    "duration": 6,
    "start_time": "2022-03-17T10:32:00.226Z"
   },
   {
    "duration": 8,
    "start_time": "2022-03-17T10:32:01.971Z"
   },
   {
    "duration": 9,
    "start_time": "2022-03-17T10:32:37.181Z"
   },
   {
    "duration": 9,
    "start_time": "2022-03-17T10:32:38.087Z"
   },
   {
    "duration": 11,
    "start_time": "2022-03-17T10:50:33.042Z"
   },
   {
    "duration": 12,
    "start_time": "2022-03-17T10:51:33.707Z"
   },
   {
    "duration": 23,
    "start_time": "2022-03-17T10:51:39.416Z"
   },
   {
    "duration": 18,
    "start_time": "2022-03-17T10:53:07.873Z"
   },
   {
    "duration": 289,
    "start_time": "2022-03-17T10:53:23.630Z"
   },
   {
    "duration": 396,
    "start_time": "2022-03-17T10:53:31.288Z"
   },
   {
    "duration": 241,
    "start_time": "2022-03-17T10:53:40.320Z"
   },
   {
    "duration": 267,
    "start_time": "2022-03-17T10:54:54.317Z"
   },
   {
    "duration": 240,
    "start_time": "2022-03-17T10:54:57.830Z"
   },
   {
    "duration": 79,
    "start_time": "2022-03-17T10:56:08.420Z"
   },
   {
    "duration": 386,
    "start_time": "2022-03-17T10:58:30.180Z"
   },
   {
    "duration": 265,
    "start_time": "2022-03-17T10:58:44.542Z"
   },
   {
    "duration": 17,
    "start_time": "2022-03-17T11:00:32.021Z"
   },
   {
    "duration": 284,
    "start_time": "2022-03-17T11:07:34.421Z"
   },
   {
    "duration": 302,
    "start_time": "2022-03-17T11:07:42.114Z"
   },
   {
    "duration": 282,
    "start_time": "2022-03-17T11:15:03.704Z"
   },
   {
    "duration": 295,
    "start_time": "2022-03-17T11:15:07.289Z"
   },
   {
    "duration": 17,
    "start_time": "2022-03-17T11:16:02.095Z"
   },
   {
    "duration": 276,
    "start_time": "2022-03-17T11:17:42.164Z"
   },
   {
    "duration": 295,
    "start_time": "2022-03-17T11:17:46.374Z"
   },
   {
    "duration": 19,
    "start_time": "2022-03-17T11:19:12.653Z"
   },
   {
    "duration": 8,
    "start_time": "2022-03-17T11:22:33.309Z"
   },
   {
    "duration": 10,
    "start_time": "2022-03-17T11:24:44.557Z"
   },
   {
    "duration": 7,
    "start_time": "2022-03-17T11:25:25.205Z"
   },
   {
    "duration": 6,
    "start_time": "2022-03-17T11:25:57.806Z"
   },
   {
    "duration": 5,
    "start_time": "2022-03-17T11:26:53.600Z"
   },
   {
    "duration": 7,
    "start_time": "2022-03-17T11:33:23.425Z"
   },
   {
    "duration": 9,
    "start_time": "2022-03-17T11:33:36.407Z"
   },
   {
    "duration": 5,
    "start_time": "2022-03-17T11:36:21.852Z"
   },
   {
    "duration": 6,
    "start_time": "2022-03-17T11:36:26.101Z"
   },
   {
    "duration": 8,
    "start_time": "2022-03-17T11:36:48.874Z"
   },
   {
    "duration": 6,
    "start_time": "2022-03-17T11:36:49.789Z"
   },
   {
    "duration": 8,
    "start_time": "2022-03-17T11:37:13.737Z"
   },
   {
    "duration": 5,
    "start_time": "2022-03-17T11:37:14.362Z"
   },
   {
    "duration": 284,
    "start_time": "2022-03-17T11:38:23.390Z"
   },
   {
    "duration": 303,
    "start_time": "2022-03-17T11:38:28.264Z"
   },
   {
    "duration": 275,
    "start_time": "2022-03-17T11:39:03.082Z"
   },
   {
    "duration": 405,
    "start_time": "2022-03-17T11:39:06.507Z"
   },
   {
    "duration": 18,
    "start_time": "2022-03-17T11:51:30.642Z"
   },
   {
    "duration": 19,
    "start_time": "2022-03-17T11:52:21.355Z"
   },
   {
    "duration": 292,
    "start_time": "2022-03-17T11:52:48.203Z"
   },
   {
    "duration": 259,
    "start_time": "2022-03-17T11:52:56.236Z"
   },
   {
    "duration": 292,
    "start_time": "2022-03-17T11:54:26.124Z"
   },
   {
    "duration": 280,
    "start_time": "2022-03-17T11:54:28.960Z"
   },
   {
    "duration": 290,
    "start_time": "2022-03-17T11:55:01.568Z"
   },
   {
    "duration": 371,
    "start_time": "2022-03-17T11:55:04.836Z"
   },
   {
    "duration": 16,
    "start_time": "2022-03-17T11:58:07.256Z"
   },
   {
    "duration": 124,
    "start_time": "2022-03-17T12:03:55.378Z"
   },
   {
    "duration": 20,
    "start_time": "2022-03-17T12:04:48.051Z"
   },
   {
    "duration": 16,
    "start_time": "2022-03-17T12:16:58.203Z"
   },
   {
    "duration": 16,
    "start_time": "2022-03-17T12:17:45.903Z"
   },
   {
    "duration": 290,
    "start_time": "2022-03-17T12:20:22.270Z"
   },
   {
    "duration": 364,
    "start_time": "2022-03-17T12:25:41.444Z"
   },
   {
    "duration": 18,
    "start_time": "2022-03-17T12:30:02.124Z"
   },
   {
    "duration": 22,
    "start_time": "2022-03-17T12:40:46.824Z"
   },
   {
    "duration": 21,
    "start_time": "2022-03-17T12:41:10.706Z"
   },
   {
    "duration": 28,
    "start_time": "2022-03-17T12:41:38.166Z"
   },
   {
    "duration": 20,
    "start_time": "2022-03-17T12:41:49.161Z"
   },
   {
    "duration": 19,
    "start_time": "2022-03-17T12:42:01.723Z"
   },
   {
    "duration": 311,
    "start_time": "2022-03-17T12:49:06.295Z"
   },
   {
    "duration": 338,
    "start_time": "2022-03-17T12:50:06.150Z"
   },
   {
    "duration": 608,
    "start_time": "2022-03-17T12:50:40.897Z"
   },
   {
    "duration": 542,
    "start_time": "2022-03-17T12:52:23.310Z"
   },
   {
    "duration": 311,
    "start_time": "2022-03-17T12:52:39.177Z"
   },
   {
    "duration": 305,
    "start_time": "2022-03-17T12:53:14.153Z"
   },
   {
    "duration": 420,
    "start_time": "2022-03-17T12:54:10.166Z"
   },
   {
    "duration": 413,
    "start_time": "2022-03-17T12:56:30.653Z"
   },
   {
    "duration": 16,
    "start_time": "2022-03-17T13:02:29.499Z"
   },
   {
    "duration": 5,
    "start_time": "2022-03-17T13:02:55.612Z"
   },
   {
    "duration": 6,
    "start_time": "2022-03-17T13:03:03.382Z"
   },
   {
    "duration": 4,
    "start_time": "2022-03-17T13:03:50.211Z"
   },
   {
    "duration": 306,
    "start_time": "2022-03-17T13:04:55.607Z"
   },
   {
    "duration": 8,
    "start_time": "2022-03-17T13:06:28.468Z"
   },
   {
    "duration": 301,
    "start_time": "2022-03-17T13:06:41.948Z"
   },
   {
    "duration": 4,
    "start_time": "2022-03-17T13:07:13.153Z"
   },
   {
    "duration": 7,
    "start_time": "2022-03-17T13:07:20.116Z"
   },
   {
    "duration": 7,
    "start_time": "2022-03-17T13:08:11.143Z"
   },
   {
    "duration": 7,
    "start_time": "2022-03-17T13:08:22.688Z"
   },
   {
    "duration": 12,
    "start_time": "2022-03-17T13:08:51.178Z"
   },
   {
    "duration": 13,
    "start_time": "2022-03-17T13:09:07.610Z"
   },
   {
    "duration": 13,
    "start_time": "2022-03-17T13:09:12.830Z"
   },
   {
    "duration": 8,
    "start_time": "2022-03-17T13:09:34.846Z"
   },
   {
    "duration": 12,
    "start_time": "2022-03-17T13:10:23.806Z"
   },
   {
    "duration": 6,
    "start_time": "2022-03-17T13:11:48.726Z"
   },
   {
    "duration": 6,
    "start_time": "2022-03-17T13:13:00.315Z"
   },
   {
    "duration": 4,
    "start_time": "2022-03-17T13:13:18.125Z"
   },
   {
    "duration": 456,
    "start_time": "2022-03-17T13:13:23.431Z"
   },
   {
    "duration": 4,
    "start_time": "2022-03-17T13:14:45.246Z"
   },
   {
    "duration": 441,
    "start_time": "2022-03-17T13:15:06.070Z"
   },
   {
    "duration": 417,
    "start_time": "2022-03-17T13:16:42.245Z"
   },
   {
    "duration": 421,
    "start_time": "2022-03-17T13:17:03.254Z"
   },
   {
    "duration": 474,
    "start_time": "2022-03-17T13:17:25.309Z"
   },
   {
    "duration": 379,
    "start_time": "2022-03-17T13:17:36.186Z"
   },
   {
    "duration": 499,
    "start_time": "2022-03-17T13:19:39.498Z"
   },
   {
    "duration": 608,
    "start_time": "2022-03-17T13:19:57.826Z"
   },
   {
    "duration": 401,
    "start_time": "2022-03-17T13:21:01.688Z"
   },
   {
    "duration": 503,
    "start_time": "2022-03-17T13:21:08.326Z"
   },
   {
    "duration": 24,
    "start_time": "2022-03-17T13:27:20.379Z"
   },
   {
    "duration": 425,
    "start_time": "2022-03-17T13:27:34.655Z"
   },
   {
    "duration": 418,
    "start_time": "2022-03-17T13:28:34.598Z"
   },
   {
    "duration": 457,
    "start_time": "2022-03-17T13:29:07.406Z"
   },
   {
    "duration": 336,
    "start_time": "2022-03-17T13:33:06.118Z"
   },
   {
    "duration": 469,
    "start_time": "2022-03-17T13:33:32.610Z"
   },
   {
    "duration": 423,
    "start_time": "2022-03-17T13:33:46.899Z"
   },
   {
    "duration": 420,
    "start_time": "2022-03-17T13:34:13.400Z"
   },
   {
    "duration": 407,
    "start_time": "2022-03-17T13:34:31.772Z"
   },
   {
    "duration": 415,
    "start_time": "2022-03-17T13:34:49.575Z"
   },
   {
    "duration": 407,
    "start_time": "2022-03-17T13:34:59.038Z"
   },
   {
    "duration": 430,
    "start_time": "2022-03-17T13:35:12.084Z"
   },
   {
    "duration": 444,
    "start_time": "2022-03-17T13:35:21.798Z"
   },
   {
    "duration": 785,
    "start_time": "2022-03-17T13:35:31.686Z"
   },
   {
    "duration": 521,
    "start_time": "2022-03-17T13:35:47.617Z"
   },
   {
    "duration": 535,
    "start_time": "2022-03-17T13:35:58.925Z"
   },
   {
    "duration": 485,
    "start_time": "2022-03-17T13:36:05.404Z"
   },
   {
    "duration": 406,
    "start_time": "2022-03-17T13:36:15.040Z"
   },
   {
    "duration": 456,
    "start_time": "2022-03-17T13:36:24.825Z"
   },
   {
    "duration": 9,
    "start_time": "2022-03-17T14:21:16.150Z"
   },
   {
    "duration": 6,
    "start_time": "2022-03-17T14:21:24.011Z"
   },
   {
    "duration": 7,
    "start_time": "2022-03-17T14:21:58.893Z"
   },
   {
    "duration": 5,
    "start_time": "2022-03-17T14:21:59.385Z"
   },
   {
    "duration": 13,
    "start_time": "2022-03-17T14:23:11.441Z"
   },
   {
    "duration": 7,
    "start_time": "2022-03-17T14:24:03.125Z"
   },
   {
    "duration": 12,
    "start_time": "2022-03-17T14:24:59.798Z"
   },
   {
    "duration": 6,
    "start_time": "2022-03-17T14:27:03.780Z"
   },
   {
    "duration": 2618,
    "start_time": "2022-03-17T14:27:04.462Z"
   },
   {
    "duration": 5,
    "start_time": "2022-03-17T14:27:22.162Z"
   },
   {
    "duration": 8,
    "start_time": "2022-03-17T14:27:33.348Z"
   },
   {
    "duration": 182,
    "start_time": "2022-03-17T14:29:02.570Z"
   },
   {
    "duration": 211,
    "start_time": "2022-03-17T14:29:36.588Z"
   },
   {
    "duration": 6,
    "start_time": "2022-03-17T14:30:20.517Z"
   },
   {
    "duration": 4,
    "start_time": "2022-03-17T14:30:21.036Z"
   },
   {
    "duration": 7,
    "start_time": "2022-03-17T14:30:21.556Z"
   },
   {
    "duration": 4,
    "start_time": "2022-03-17T14:30:22.099Z"
   },
   {
    "duration": 8,
    "start_time": "2022-03-17T14:30:24.730Z"
   },
   {
    "duration": 7,
    "start_time": "2022-03-17T14:31:10.566Z"
   },
   {
    "duration": 7,
    "start_time": "2022-03-17T14:35:24.210Z"
   },
   {
    "duration": 5,
    "start_time": "2022-03-17T14:35:24.746Z"
   },
   {
    "duration": 7,
    "start_time": "2022-03-17T14:35:25.155Z"
   },
   {
    "duration": 5,
    "start_time": "2022-03-17T14:35:25.608Z"
   },
   {
    "duration": 7,
    "start_time": "2022-03-17T14:35:26.313Z"
   },
   {
    "duration": 8,
    "start_time": "2022-03-17T14:35:57.487Z"
   },
   {
    "duration": 6,
    "start_time": "2022-03-17T14:43:17.013Z"
   },
   {
    "duration": 37,
    "start_time": "2022-03-17T14:44:15.876Z"
   },
   {
    "duration": 4,
    "start_time": "2022-03-17T14:44:54.785Z"
   },
   {
    "duration": 622,
    "start_time": "2022-03-17T14:44:54.792Z"
   },
   {
    "duration": 5,
    "start_time": "2022-03-17T14:44:55.417Z"
   },
   {
    "duration": 94,
    "start_time": "2022-03-17T14:44:55.424Z"
   },
   {
    "duration": 121,
    "start_time": "2022-03-17T14:44:55.522Z"
   },
   {
    "duration": 79,
    "start_time": "2022-03-17T14:44:55.645Z"
   },
   {
    "duration": 110,
    "start_time": "2022-03-17T14:44:55.726Z"
   },
   {
    "duration": 99,
    "start_time": "2022-03-17T14:44:55.838Z"
   },
   {
    "duration": 8,
    "start_time": "2022-03-17T14:44:55.940Z"
   },
   {
    "duration": 43,
    "start_time": "2022-03-17T14:44:55.950Z"
   },
   {
    "duration": 37,
    "start_time": "2022-03-17T14:44:55.998Z"
   },
   {
    "duration": 67,
    "start_time": "2022-03-17T14:44:56.037Z"
   },
   {
    "duration": 6,
    "start_time": "2022-03-17T14:44:56.107Z"
   },
   {
    "duration": 46,
    "start_time": "2022-03-17T14:44:56.115Z"
   },
   {
    "duration": 53,
    "start_time": "2022-03-17T14:44:56.163Z"
   },
   {
    "duration": 39,
    "start_time": "2022-03-17T14:44:56.218Z"
   },
   {
    "duration": 25,
    "start_time": "2022-03-17T14:44:56.260Z"
   },
   {
    "duration": 48,
    "start_time": "2022-03-17T14:44:56.287Z"
   },
   {
    "duration": 42,
    "start_time": "2022-03-17T14:44:56.337Z"
   },
   {
    "duration": 28,
    "start_time": "2022-03-17T14:44:56.382Z"
   },
   {
    "duration": 36,
    "start_time": "2022-03-17T14:44:56.412Z"
   },
   {
    "duration": 35,
    "start_time": "2022-03-17T14:44:56.450Z"
   },
   {
    "duration": 6,
    "start_time": "2022-03-17T14:44:56.487Z"
   },
   {
    "duration": 23,
    "start_time": "2022-03-17T14:44:56.495Z"
   },
   {
    "duration": 44,
    "start_time": "2022-03-17T14:44:56.521Z"
   },
   {
    "duration": 40,
    "start_time": "2022-03-17T14:44:56.567Z"
   },
   {
    "duration": 17,
    "start_time": "2022-03-17T14:44:56.609Z"
   },
   {
    "duration": 39,
    "start_time": "2022-03-17T14:44:56.628Z"
   },
   {
    "duration": 23,
    "start_time": "2022-03-17T14:44:56.675Z"
   },
   {
    "duration": 32,
    "start_time": "2022-03-17T14:44:56.700Z"
   },
   {
    "duration": 289,
    "start_time": "2022-03-17T14:44:56.735Z"
   },
   {
    "duration": 4,
    "start_time": "2022-03-17T14:44:57.026Z"
   },
   {
    "duration": 96,
    "start_time": "2022-03-17T14:44:57.033Z"
   },
   {
    "duration": 15,
    "start_time": "2022-03-17T14:44:57.132Z"
   },
   {
    "duration": 31,
    "start_time": "2022-03-17T14:44:57.149Z"
   },
   {
    "duration": 24,
    "start_time": "2022-03-17T14:44:57.184Z"
   },
   {
    "duration": 90,
    "start_time": "2022-03-17T14:44:57.210Z"
   },
   {
    "duration": 10,
    "start_time": "2022-03-17T14:44:57.302Z"
   },
   {
    "duration": 37,
    "start_time": "2022-03-17T14:44:57.315Z"
   },
   {
    "duration": 59,
    "start_time": "2022-03-17T14:44:57.354Z"
   },
   {
    "duration": 28,
    "start_time": "2022-03-17T14:44:57.416Z"
   },
   {
    "duration": 29,
    "start_time": "2022-03-17T14:44:57.446Z"
   },
   {
    "duration": 38,
    "start_time": "2022-03-17T14:44:57.477Z"
   },
   {
    "duration": 6,
    "start_time": "2022-03-17T14:44:57.518Z"
   },
   {
    "duration": 31,
    "start_time": "2022-03-17T14:44:57.527Z"
   },
   {
    "duration": 27,
    "start_time": "2022-03-17T14:44:57.560Z"
   },
   {
    "duration": 66,
    "start_time": "2022-03-17T14:44:57.590Z"
   },
   {
    "duration": 154,
    "start_time": "2022-03-17T14:44:57.658Z"
   },
   {
    "duration": 9,
    "start_time": "2022-03-17T14:44:57.815Z"
   },
   {
    "duration": 34,
    "start_time": "2022-03-17T14:44:57.826Z"
   },
   {
    "duration": 33,
    "start_time": "2022-03-17T14:44:57.862Z"
   },
   {
    "duration": 6,
    "start_time": "2022-03-17T14:44:57.897Z"
   },
   {
    "duration": 215,
    "start_time": "2022-03-17T14:44:57.905Z"
   },
   {
    "duration": 6,
    "start_time": "2022-03-17T14:44:58.122Z"
   },
   {
    "duration": 34,
    "start_time": "2022-03-17T14:44:58.129Z"
   },
   {
    "duration": 23,
    "start_time": "2022-03-17T14:44:58.165Z"
   },
   {
    "duration": 36,
    "start_time": "2022-03-17T14:44:58.190Z"
   },
   {
    "duration": 13,
    "start_time": "2022-03-17T14:44:58.229Z"
   },
   {
    "duration": 52,
    "start_time": "2022-03-17T14:44:58.244Z"
   },
   {
    "duration": 4,
    "start_time": "2022-03-17T14:44:58.299Z"
   },
   {
    "duration": 474,
    "start_time": "2022-03-17T14:44:58.305Z"
   },
   {
    "duration": 381,
    "start_time": "2022-03-17T14:44:58.784Z"
   },
   {
    "duration": 27,
    "start_time": "2022-03-17T14:44:59.168Z"
   },
   {
    "duration": 309,
    "start_time": "2022-03-17T14:44:59.198Z"
   },
   {
    "duration": 288,
    "start_time": "2022-03-17T14:44:59.510Z"
   },
   {
    "duration": 20,
    "start_time": "2022-03-17T14:44:59.801Z"
   },
   {
    "duration": 448,
    "start_time": "2022-03-17T14:44:59.825Z"
   },
   {
    "duration": 418,
    "start_time": "2022-03-17T14:45:00.276Z"
   },
   {
    "duration": 18,
    "start_time": "2022-03-17T14:45:00.696Z"
   },
   {
    "duration": 448,
    "start_time": "2022-03-17T14:45:00.716Z"
   },
   {
    "duration": 399,
    "start_time": "2022-03-17T14:45:01.166Z"
   },
   {
    "duration": 31,
    "start_time": "2022-03-17T14:45:01.567Z"
   },
   {
    "duration": 457,
    "start_time": "2022-03-17T14:45:01.601Z"
   },
   {
    "duration": 423,
    "start_time": "2022-03-17T14:45:02.061Z"
   },
   {
    "duration": 5,
    "start_time": "2022-03-17T14:45:02.486Z"
   },
   {
    "duration": 14,
    "start_time": "2022-03-17T14:45:02.493Z"
   },
   {
    "duration": 52,
    "start_time": "2022-03-17T14:45:02.509Z"
   },
   {
    "duration": 22,
    "start_time": "2022-03-17T14:45:02.563Z"
   },
   {
    "duration": 14,
    "start_time": "2022-03-17T14:45:02.587Z"
   },
   {
    "duration": 8,
    "start_time": "2022-03-17T14:45:02.604Z"
   },
   {
    "duration": 18,
    "start_time": "2022-03-17T14:45:02.615Z"
   },
   {
    "duration": 5,
    "start_time": "2022-03-17T14:46:28.401Z"
   },
   {
    "duration": 589,
    "start_time": "2022-03-17T14:46:28.409Z"
   },
   {
    "duration": 5,
    "start_time": "2022-03-17T14:46:29.001Z"
   },
   {
    "duration": 84,
    "start_time": "2022-03-17T14:46:29.008Z"
   },
   {
    "duration": 117,
    "start_time": "2022-03-17T14:46:29.095Z"
   },
   {
    "duration": 80,
    "start_time": "2022-03-17T14:46:29.215Z"
   },
   {
    "duration": 333,
    "start_time": "2022-03-17T14:46:29.298Z"
   },
   {
    "duration": 91,
    "start_time": "2022-03-17T14:46:29.634Z"
   },
   {
    "duration": 9,
    "start_time": "2022-03-17T14:46:29.727Z"
   },
   {
    "duration": 18,
    "start_time": "2022-03-17T14:46:29.738Z"
   },
   {
    "duration": 19,
    "start_time": "2022-03-17T14:46:29.786Z"
   },
   {
    "duration": 76,
    "start_time": "2022-03-17T14:46:29.808Z"
   },
   {
    "duration": 8,
    "start_time": "2022-03-17T14:46:29.887Z"
   },
   {
    "duration": 20,
    "start_time": "2022-03-17T14:46:29.898Z"
   },
   {
    "duration": 29,
    "start_time": "2022-03-17T14:46:29.921Z"
   },
   {
    "duration": 30,
    "start_time": "2022-03-17T14:46:29.985Z"
   },
   {
    "duration": 12,
    "start_time": "2022-03-17T14:46:30.017Z"
   },
   {
    "duration": 58,
    "start_time": "2022-03-17T14:46:30.031Z"
   },
   {
    "duration": 35,
    "start_time": "2022-03-17T14:46:30.092Z"
   },
   {
    "duration": 63,
    "start_time": "2022-03-17T14:46:30.129Z"
   },
   {
    "duration": 37,
    "start_time": "2022-03-17T14:46:30.195Z"
   },
   {
    "duration": 5,
    "start_time": "2022-03-17T14:46:30.235Z"
   },
   {
    "duration": 42,
    "start_time": "2022-03-17T14:46:30.242Z"
   },
   {
    "duration": 30,
    "start_time": "2022-03-17T14:46:30.286Z"
   },
   {
    "duration": 37,
    "start_time": "2022-03-17T14:46:30.319Z"
   },
   {
    "duration": 37,
    "start_time": "2022-03-17T14:46:30.358Z"
   },
   {
    "duration": 11,
    "start_time": "2022-03-17T14:46:30.397Z"
   },
   {
    "duration": 20,
    "start_time": "2022-03-17T14:46:30.410Z"
   },
   {
    "duration": 22,
    "start_time": "2022-03-17T14:46:30.439Z"
   },
   {
    "duration": 30,
    "start_time": "2022-03-17T14:46:30.464Z"
   },
   {
    "duration": 288,
    "start_time": "2022-03-17T14:46:30.497Z"
   },
   {
    "duration": 4,
    "start_time": "2022-03-17T14:46:30.788Z"
   },
   {
    "duration": 95,
    "start_time": "2022-03-17T14:46:30.795Z"
   },
   {
    "duration": 13,
    "start_time": "2022-03-17T14:46:30.893Z"
   },
   {
    "duration": 38,
    "start_time": "2022-03-17T14:46:30.909Z"
   },
   {
    "duration": 20,
    "start_time": "2022-03-17T14:46:30.950Z"
   },
   {
    "duration": 58,
    "start_time": "2022-03-17T14:46:30.972Z"
   },
   {
    "duration": 12,
    "start_time": "2022-03-17T14:46:31.033Z"
   },
   {
    "duration": 49,
    "start_time": "2022-03-17T14:46:31.047Z"
   },
   {
    "duration": 31,
    "start_time": "2022-03-17T14:46:31.098Z"
   },
   {
    "duration": 10,
    "start_time": "2022-03-17T14:46:31.131Z"
   },
   {
    "duration": 49,
    "start_time": "2022-03-17T14:46:31.143Z"
   },
   {
    "duration": 25,
    "start_time": "2022-03-17T14:46:31.195Z"
   },
   {
    "duration": 7,
    "start_time": "2022-03-17T14:46:31.222Z"
   },
   {
    "duration": 13,
    "start_time": "2022-03-17T14:46:31.231Z"
   },
   {
    "duration": 18,
    "start_time": "2022-03-17T14:46:31.285Z"
   },
   {
    "duration": 38,
    "start_time": "2022-03-17T14:46:31.305Z"
   },
   {
    "duration": 190,
    "start_time": "2022-03-17T14:46:31.345Z"
   },
   {
    "duration": 9,
    "start_time": "2022-03-17T14:46:31.537Z"
   },
   {
    "duration": 40,
    "start_time": "2022-03-17T14:46:31.549Z"
   },
   {
    "duration": 20,
    "start_time": "2022-03-17T14:46:31.592Z"
   },
   {
    "duration": 7,
    "start_time": "2022-03-17T14:46:31.615Z"
   },
   {
    "duration": 323,
    "start_time": "2022-03-17T14:46:31.624Z"
   },
   {
    "duration": 6,
    "start_time": "2022-03-17T14:46:31.950Z"
   },
   {
    "duration": 34,
    "start_time": "2022-03-17T14:46:31.958Z"
   },
   {
    "duration": 25,
    "start_time": "2022-03-17T14:46:31.995Z"
   },
   {
    "duration": 35,
    "start_time": "2022-03-17T14:46:32.022Z"
   },
   {
    "duration": 28,
    "start_time": "2022-03-17T14:46:32.060Z"
   },
   {
    "duration": 24,
    "start_time": "2022-03-17T14:46:32.091Z"
   },
   {
    "duration": 5,
    "start_time": "2022-03-17T14:46:32.117Z"
   },
   {
    "duration": 452,
    "start_time": "2022-03-17T14:46:32.124Z"
   },
   {
    "duration": 366,
    "start_time": "2022-03-17T14:46:32.578Z"
   },
   {
    "duration": 19,
    "start_time": "2022-03-17T14:46:32.946Z"
   },
   {
    "duration": 302,
    "start_time": "2022-03-17T14:46:32.984Z"
   },
   {
    "duration": 314,
    "start_time": "2022-03-17T14:46:33.288Z"
   },
   {
    "duration": 21,
    "start_time": "2022-03-17T14:46:33.605Z"
   },
   {
    "duration": 467,
    "start_time": "2022-03-17T14:46:33.629Z"
   },
   {
    "duration": 452,
    "start_time": "2022-03-17T14:46:34.098Z"
   },
   {
    "duration": 33,
    "start_time": "2022-03-17T14:46:34.552Z"
   },
   {
    "duration": 376,
    "start_time": "2022-03-17T14:46:34.588Z"
   },
   {
    "duration": 395,
    "start_time": "2022-03-17T14:46:34.967Z"
   },
   {
    "duration": 30,
    "start_time": "2022-03-17T14:46:35.365Z"
   },
   {
    "duration": 438,
    "start_time": "2022-03-17T14:46:35.399Z"
   },
   {
    "duration": 433,
    "start_time": "2022-03-17T14:46:35.839Z"
   },
   {
    "duration": 11,
    "start_time": "2022-03-17T14:46:36.274Z"
   },
   {
    "duration": 9,
    "start_time": "2022-03-17T14:46:36.288Z"
   },
   {
    "duration": 10,
    "start_time": "2022-03-17T14:46:36.299Z"
   },
   {
    "duration": 6,
    "start_time": "2022-03-17T14:46:36.312Z"
   },
   {
    "duration": 18,
    "start_time": "2022-03-17T14:46:36.321Z"
   },
   {
    "duration": 7,
    "start_time": "2022-03-17T14:46:36.341Z"
   },
   {
    "duration": 36,
    "start_time": "2022-03-17T14:46:36.350Z"
   },
   {
    "duration": 5,
    "start_time": "2022-03-17T14:48:41.750Z"
   },
   {
    "duration": 578,
    "start_time": "2022-03-17T14:48:41.758Z"
   },
   {
    "duration": 4,
    "start_time": "2022-03-17T14:48:42.339Z"
   },
   {
    "duration": 74,
    "start_time": "2022-03-17T14:48:42.346Z"
   },
   {
    "duration": 111,
    "start_time": "2022-03-17T14:48:42.423Z"
   },
   {
    "duration": 85,
    "start_time": "2022-03-17T14:48:42.536Z"
   },
   {
    "duration": 112,
    "start_time": "2022-03-17T14:48:42.623Z"
   },
   {
    "duration": 89,
    "start_time": "2022-03-17T14:48:42.738Z"
   },
   {
    "duration": 10,
    "start_time": "2022-03-17T14:48:42.829Z"
   },
   {
    "duration": 45,
    "start_time": "2022-03-17T14:48:42.841Z"
   },
   {
    "duration": 17,
    "start_time": "2022-03-17T14:48:42.889Z"
   },
   {
    "duration": 80,
    "start_time": "2022-03-17T14:48:42.909Z"
   },
   {
    "duration": 7,
    "start_time": "2022-03-17T14:48:42.991Z"
   },
   {
    "duration": 21,
    "start_time": "2022-03-17T14:48:43.000Z"
   },
   {
    "duration": 31,
    "start_time": "2022-03-17T14:48:43.023Z"
   },
   {
    "duration": 54,
    "start_time": "2022-03-17T14:48:43.056Z"
   },
   {
    "duration": 12,
    "start_time": "2022-03-17T14:48:43.113Z"
   },
   {
    "duration": 64,
    "start_time": "2022-03-17T14:48:43.128Z"
   },
   {
    "duration": 36,
    "start_time": "2022-03-17T14:48:43.195Z"
   },
   {
    "duration": 59,
    "start_time": "2022-03-17T14:48:43.234Z"
   },
   {
    "duration": 33,
    "start_time": "2022-03-17T14:48:43.296Z"
   },
   {
    "duration": 6,
    "start_time": "2022-03-17T14:48:43.331Z"
   },
   {
    "duration": 11,
    "start_time": "2022-03-17T14:48:43.339Z"
   },
   {
    "duration": 39,
    "start_time": "2022-03-17T14:48:43.352Z"
   },
   {
    "duration": 27,
    "start_time": "2022-03-17T14:48:43.394Z"
   },
   {
    "duration": 37,
    "start_time": "2022-03-17T14:48:43.423Z"
   },
   {
    "duration": 23,
    "start_time": "2022-03-17T14:48:43.462Z"
   },
   {
    "duration": 13,
    "start_time": "2022-03-17T14:48:43.488Z"
   },
   {
    "duration": 12,
    "start_time": "2022-03-17T14:48:43.509Z"
   },
   {
    "duration": 21,
    "start_time": "2022-03-17T14:48:43.524Z"
   },
   {
    "duration": 294,
    "start_time": "2022-03-17T14:48:43.548Z"
   },
   {
    "duration": 4,
    "start_time": "2022-03-17T14:48:43.844Z"
   },
   {
    "duration": 93,
    "start_time": "2022-03-17T14:48:43.850Z"
   },
   {
    "duration": 12,
    "start_time": "2022-03-17T14:48:43.946Z"
   },
   {
    "duration": 32,
    "start_time": "2022-03-17T14:48:43.960Z"
   },
   {
    "duration": 17,
    "start_time": "2022-03-17T14:48:43.996Z"
   },
   {
    "duration": 84,
    "start_time": "2022-03-17T14:48:44.015Z"
   },
   {
    "duration": 12,
    "start_time": "2022-03-17T14:48:44.101Z"
   },
   {
    "duration": 21,
    "start_time": "2022-03-17T14:48:44.117Z"
   },
   {
    "duration": 59,
    "start_time": "2022-03-17T14:48:44.141Z"
   },
   {
    "duration": 10,
    "start_time": "2022-03-17T14:48:44.203Z"
   },
   {
    "duration": 25,
    "start_time": "2022-03-17T14:48:44.215Z"
   },
   {
    "duration": 58,
    "start_time": "2022-03-17T14:48:44.243Z"
   },
   {
    "duration": 5,
    "start_time": "2022-03-17T14:48:44.303Z"
   },
   {
    "duration": 27,
    "start_time": "2022-03-17T14:48:44.310Z"
   },
   {
    "duration": 28,
    "start_time": "2022-03-17T14:48:44.339Z"
   },
   {
    "duration": 42,
    "start_time": "2022-03-17T14:48:44.370Z"
   },
   {
    "duration": 170,
    "start_time": "2022-03-17T14:48:44.415Z"
   },
   {
    "duration": 7,
    "start_time": "2022-03-17T14:48:44.587Z"
   },
   {
    "duration": 34,
    "start_time": "2022-03-17T14:48:44.597Z"
   },
   {
    "duration": 31,
    "start_time": "2022-03-17T14:48:44.634Z"
   },
   {
    "duration": 16,
    "start_time": "2022-03-17T14:48:44.668Z"
   },
   {
    "duration": 206,
    "start_time": "2022-03-17T14:48:44.686Z"
   },
   {
    "duration": 5,
    "start_time": "2022-03-17T14:48:44.894Z"
   },
   {
    "duration": 22,
    "start_time": "2022-03-17T14:48:44.901Z"
   },
   {
    "duration": 11,
    "start_time": "2022-03-17T14:48:44.925Z"
   },
   {
    "duration": 70,
    "start_time": "2022-03-17T14:48:44.938Z"
   },
   {
    "duration": 23,
    "start_time": "2022-03-17T14:48:45.011Z"
   },
   {
    "duration": 21,
    "start_time": "2022-03-17T14:48:45.036Z"
   },
   {
    "duration": 26,
    "start_time": "2022-03-17T14:48:45.059Z"
   },
   {
    "duration": 431,
    "start_time": "2022-03-17T14:48:45.088Z"
   },
   {
    "duration": 425,
    "start_time": "2022-03-17T14:48:45.522Z"
   },
   {
    "duration": 37,
    "start_time": "2022-03-17T14:48:45.950Z"
   },
   {
    "duration": 311,
    "start_time": "2022-03-17T14:48:45.989Z"
   },
   {
    "duration": 289,
    "start_time": "2022-03-17T14:48:46.303Z"
   },
   {
    "duration": 20,
    "start_time": "2022-03-17T14:48:46.594Z"
   },
   {
    "duration": 419,
    "start_time": "2022-03-17T14:48:46.616Z"
   },
   {
    "duration": 423,
    "start_time": "2022-03-17T14:48:47.038Z"
   },
   {
    "duration": 28,
    "start_time": "2022-03-17T14:48:47.463Z"
   },
   {
    "duration": 384,
    "start_time": "2022-03-17T14:48:47.493Z"
   },
   {
    "duration": 379,
    "start_time": "2022-03-17T14:48:47.879Z"
   },
   {
    "duration": 28,
    "start_time": "2022-03-17T14:48:48.260Z"
   },
   {
    "duration": 408,
    "start_time": "2022-03-17T14:48:48.290Z"
   },
   {
    "duration": 423,
    "start_time": "2022-03-17T14:48:48.700Z"
   },
   {
    "duration": 7,
    "start_time": "2022-03-17T14:48:49.126Z"
   },
   {
    "duration": 10,
    "start_time": "2022-03-17T14:48:49.135Z"
   },
   {
    "duration": 41,
    "start_time": "2022-03-17T14:48:49.147Z"
   },
   {
    "duration": 6,
    "start_time": "2022-03-17T14:48:49.191Z"
   },
   {
    "duration": 8,
    "start_time": "2022-03-17T14:48:49.199Z"
   },
   {
    "duration": 18,
    "start_time": "2022-03-17T14:48:49.209Z"
   },
   {
    "duration": 8,
    "start_time": "2022-03-17T14:48:49.229Z"
   },
   {
    "duration": 18,
    "start_time": "2022-03-17T14:48:49.239Z"
   },
   {
    "duration": 4,
    "start_time": "2022-03-17T14:55:37.703Z"
   },
   {
    "duration": 839,
    "start_time": "2022-03-17T14:55:37.710Z"
   },
   {
    "duration": 7,
    "start_time": "2022-03-17T14:55:38.553Z"
   },
   {
    "duration": 77,
    "start_time": "2022-03-17T14:55:38.563Z"
   },
   {
    "duration": 110,
    "start_time": "2022-03-17T14:55:38.644Z"
   },
   {
    "duration": 76,
    "start_time": "2022-03-17T14:55:38.756Z"
   },
   {
    "duration": 116,
    "start_time": "2022-03-17T14:55:38.835Z"
   },
   {
    "duration": 88,
    "start_time": "2022-03-17T14:55:38.953Z"
   },
   {
    "duration": 9,
    "start_time": "2022-03-17T14:55:39.044Z"
   },
   {
    "duration": 42,
    "start_time": "2022-03-17T14:55:39.055Z"
   },
   {
    "duration": 17,
    "start_time": "2022-03-17T14:55:39.102Z"
   },
   {
    "duration": 88,
    "start_time": "2022-03-17T14:55:39.121Z"
   },
   {
    "duration": 8,
    "start_time": "2022-03-17T14:55:39.212Z"
   },
   {
    "duration": 19,
    "start_time": "2022-03-17T14:55:39.223Z"
   },
   {
    "duration": 59,
    "start_time": "2022-03-17T14:55:39.246Z"
   },
   {
    "duration": 34,
    "start_time": "2022-03-17T14:55:39.308Z"
   },
   {
    "duration": 40,
    "start_time": "2022-03-17T14:55:39.345Z"
   },
   {
    "duration": 30,
    "start_time": "2022-03-17T14:55:39.387Z"
   },
   {
    "duration": 36,
    "start_time": "2022-03-17T14:55:39.419Z"
   },
   {
    "duration": 49,
    "start_time": "2022-03-17T14:55:39.457Z"
   },
   {
    "duration": 33,
    "start_time": "2022-03-17T14:55:39.508Z"
   },
   {
    "duration": 5,
    "start_time": "2022-03-17T14:55:39.544Z"
   },
   {
    "duration": 5,
    "start_time": "2022-03-17T14:55:39.584Z"
   },
   {
    "duration": 19,
    "start_time": "2022-03-17T14:55:39.592Z"
   },
   {
    "duration": 21,
    "start_time": "2022-03-17T14:55:39.613Z"
   },
   {
    "duration": 56,
    "start_time": "2022-03-17T14:55:39.636Z"
   },
   {
    "duration": 6,
    "start_time": "2022-03-17T14:55:39.694Z"
   },
   {
    "duration": 15,
    "start_time": "2022-03-17T14:55:39.702Z"
   },
   {
    "duration": 14,
    "start_time": "2022-03-17T14:55:39.725Z"
   },
   {
    "duration": 51,
    "start_time": "2022-03-17T14:55:39.742Z"
   },
   {
    "duration": 280,
    "start_time": "2022-03-17T14:55:39.796Z"
   },
   {
    "duration": 5,
    "start_time": "2022-03-17T14:55:40.079Z"
   },
   {
    "duration": 98,
    "start_time": "2022-03-17T14:55:40.086Z"
   },
   {
    "duration": 13,
    "start_time": "2022-03-17T14:55:40.186Z"
   },
   {
    "duration": 23,
    "start_time": "2022-03-17T14:55:40.201Z"
   },
   {
    "duration": 16,
    "start_time": "2022-03-17T14:55:40.227Z"
   },
   {
    "duration": 78,
    "start_time": "2022-03-17T14:55:40.246Z"
   },
   {
    "duration": 11,
    "start_time": "2022-03-17T14:55:40.326Z"
   },
   {
    "duration": 47,
    "start_time": "2022-03-17T14:55:40.340Z"
   },
   {
    "duration": 24,
    "start_time": "2022-03-17T14:55:40.389Z"
   },
   {
    "duration": 10,
    "start_time": "2022-03-17T14:55:40.416Z"
   },
   {
    "duration": 55,
    "start_time": "2022-03-17T14:55:40.429Z"
   },
   {
    "duration": 21,
    "start_time": "2022-03-17T14:55:40.486Z"
   },
   {
    "duration": 6,
    "start_time": "2022-03-17T14:55:40.509Z"
   },
   {
    "duration": 21,
    "start_time": "2022-03-17T14:55:40.518Z"
   },
   {
    "duration": 54,
    "start_time": "2022-03-17T14:55:40.541Z"
   },
   {
    "duration": 55,
    "start_time": "2022-03-17T14:55:40.597Z"
   },
   {
    "duration": 159,
    "start_time": "2022-03-17T14:55:40.654Z"
   },
   {
    "duration": 7,
    "start_time": "2022-03-17T14:55:40.815Z"
   },
   {
    "duration": 12,
    "start_time": "2022-03-17T14:55:40.824Z"
   },
   {
    "duration": 47,
    "start_time": "2022-03-17T14:55:40.839Z"
   },
   {
    "duration": 6,
    "start_time": "2022-03-17T14:55:40.888Z"
   },
   {
    "duration": 200,
    "start_time": "2022-03-17T14:55:40.897Z"
   },
   {
    "duration": 6,
    "start_time": "2022-03-17T14:55:41.099Z"
   },
   {
    "duration": 28,
    "start_time": "2022-03-17T14:55:41.107Z"
   },
   {
    "duration": 12,
    "start_time": "2022-03-17T14:55:41.137Z"
   },
   {
    "duration": 62,
    "start_time": "2022-03-17T14:55:41.151Z"
   },
   {
    "duration": 12,
    "start_time": "2022-03-17T14:55:41.215Z"
   },
   {
    "duration": 56,
    "start_time": "2022-03-17T14:55:41.229Z"
   },
   {
    "duration": 4,
    "start_time": "2022-03-17T14:55:41.288Z"
   },
   {
    "duration": 453,
    "start_time": "2022-03-17T14:55:41.294Z"
   },
   {
    "duration": 379,
    "start_time": "2022-03-17T14:55:41.749Z"
   },
   {
    "duration": 20,
    "start_time": "2022-03-17T14:55:42.130Z"
   },
   {
    "duration": 596,
    "start_time": "2022-03-17T14:55:42.153Z"
   },
   {
    "duration": 281,
    "start_time": "2022-03-17T14:55:42.751Z"
   },
   {
    "duration": 18,
    "start_time": "2022-03-17T14:55:43.035Z"
   },
   {
    "duration": 415,
    "start_time": "2022-03-17T14:55:43.056Z"
   },
   {
    "duration": 404,
    "start_time": "2022-03-17T14:55:43.483Z"
   },
   {
    "duration": 21,
    "start_time": "2022-03-17T14:55:43.889Z"
   },
   {
    "duration": 420,
    "start_time": "2022-03-17T14:55:43.912Z"
   },
   {
    "duration": 424,
    "start_time": "2022-03-17T14:55:44.334Z"
   },
   {
    "duration": 32,
    "start_time": "2022-03-17T14:55:44.760Z"
   },
   {
    "duration": 407,
    "start_time": "2022-03-17T14:55:44.794Z"
   },
   {
    "duration": 444,
    "start_time": "2022-03-17T14:55:45.203Z"
   },
   {
    "duration": 4,
    "start_time": "2022-03-17T14:55:45.650Z"
   },
   {
    "duration": 28,
    "start_time": "2022-03-17T14:55:45.657Z"
   },
   {
    "duration": 9,
    "start_time": "2022-03-17T14:55:45.687Z"
   },
   {
    "duration": 7,
    "start_time": "2022-03-17T14:55:45.698Z"
   },
   {
    "duration": 8,
    "start_time": "2022-03-17T14:55:45.707Z"
   },
   {
    "duration": 15,
    "start_time": "2022-03-17T14:55:45.717Z"
   },
   {
    "duration": 7,
    "start_time": "2022-03-17T14:55:45.734Z"
   },
   {
    "duration": 41,
    "start_time": "2022-03-17T14:55:45.744Z"
   },
   {
    "duration": 8,
    "start_time": "2022-03-17T14:56:09.944Z"
   },
   {
    "duration": 7,
    "start_time": "2022-03-17T14:56:57.294Z"
   },
   {
    "duration": 5,
    "start_time": "2022-03-17T14:57:21.815Z"
   },
   {
    "duration": 707,
    "start_time": "2022-03-17T14:57:21.824Z"
   },
   {
    "duration": 5,
    "start_time": "2022-03-17T14:57:22.535Z"
   },
   {
    "duration": 81,
    "start_time": "2022-03-17T14:57:22.543Z"
   },
   {
    "duration": 162,
    "start_time": "2022-03-17T14:57:22.627Z"
   },
   {
    "duration": 105,
    "start_time": "2022-03-17T14:57:22.791Z"
   },
   {
    "duration": 124,
    "start_time": "2022-03-17T14:57:22.899Z"
   },
   {
    "duration": 101,
    "start_time": "2022-03-17T14:57:23.026Z"
   },
   {
    "duration": 11,
    "start_time": "2022-03-17T14:57:23.133Z"
   },
   {
    "duration": 48,
    "start_time": "2022-03-17T14:57:23.147Z"
   },
   {
    "duration": 27,
    "start_time": "2022-03-17T14:57:23.200Z"
   },
   {
    "duration": 71,
    "start_time": "2022-03-17T14:57:23.230Z"
   },
   {
    "duration": 6,
    "start_time": "2022-03-17T14:57:23.304Z"
   },
   {
    "duration": 27,
    "start_time": "2022-03-17T14:57:23.313Z"
   },
   {
    "duration": 59,
    "start_time": "2022-03-17T14:57:23.342Z"
   },
   {
    "duration": 31,
    "start_time": "2022-03-17T14:57:23.403Z"
   },
   {
    "duration": 12,
    "start_time": "2022-03-17T14:57:23.437Z"
   },
   {
    "duration": 54,
    "start_time": "2022-03-17T14:57:23.451Z"
   },
   {
    "duration": 41,
    "start_time": "2022-03-17T14:57:23.508Z"
   },
   {
    "duration": 59,
    "start_time": "2022-03-17T14:57:23.552Z"
   },
   {
    "duration": 74,
    "start_time": "2022-03-17T14:57:23.614Z"
   },
   {
    "duration": 6,
    "start_time": "2022-03-17T14:57:23.691Z"
   },
   {
    "duration": 10,
    "start_time": "2022-03-17T14:57:23.701Z"
   },
   {
    "duration": 21,
    "start_time": "2022-03-17T14:57:23.713Z"
   },
   {
    "duration": 48,
    "start_time": "2022-03-17T14:57:23.737Z"
   },
   {
    "duration": 26,
    "start_time": "2022-03-17T14:57:23.788Z"
   },
   {
    "duration": 8,
    "start_time": "2022-03-17T14:57:23.818Z"
   },
   {
    "duration": 13,
    "start_time": "2022-03-17T14:57:23.829Z"
   },
   {
    "duration": 19,
    "start_time": "2022-03-17T14:57:23.891Z"
   },
   {
    "duration": 27,
    "start_time": "2022-03-17T14:57:23.912Z"
   },
   {
    "duration": 315,
    "start_time": "2022-03-17T14:57:23.942Z"
   },
   {
    "duration": 4,
    "start_time": "2022-03-17T14:57:24.259Z"
   },
   {
    "duration": 96,
    "start_time": "2022-03-17T14:57:24.265Z"
   },
   {
    "duration": 21,
    "start_time": "2022-03-17T14:57:24.363Z"
   },
   {
    "duration": 28,
    "start_time": "2022-03-17T14:57:24.386Z"
   },
   {
    "duration": 24,
    "start_time": "2022-03-17T14:57:24.417Z"
   },
   {
    "duration": 67,
    "start_time": "2022-03-17T14:57:24.444Z"
   },
   {
    "duration": 12,
    "start_time": "2022-03-17T14:57:24.513Z"
   },
   {
    "duration": 38,
    "start_time": "2022-03-17T14:57:24.528Z"
   },
   {
    "duration": 40,
    "start_time": "2022-03-17T14:57:24.570Z"
   },
   {
    "duration": 12,
    "start_time": "2022-03-17T14:57:24.613Z"
   },
   {
    "duration": 57,
    "start_time": "2022-03-17T14:57:24.628Z"
   },
   {
    "duration": 30,
    "start_time": "2022-03-17T14:57:24.688Z"
   },
   {
    "duration": 6,
    "start_time": "2022-03-17T14:57:24.720Z"
   },
   {
    "duration": 25,
    "start_time": "2022-03-17T14:57:24.728Z"
   },
   {
    "duration": 43,
    "start_time": "2022-03-17T14:57:24.755Z"
   },
   {
    "duration": 56,
    "start_time": "2022-03-17T14:57:24.800Z"
   },
   {
    "duration": 145,
    "start_time": "2022-03-17T14:57:24.858Z"
   },
   {
    "duration": 10,
    "start_time": "2022-03-17T14:57:25.006Z"
   },
   {
    "duration": 31,
    "start_time": "2022-03-17T14:57:25.019Z"
   },
   {
    "duration": 46,
    "start_time": "2022-03-17T14:57:25.052Z"
   },
   {
    "duration": 12,
    "start_time": "2022-03-17T14:57:25.101Z"
   },
   {
    "duration": 299,
    "start_time": "2022-03-17T14:57:25.115Z"
   },
   {
    "duration": 6,
    "start_time": "2022-03-17T14:57:25.417Z"
   },
   {
    "duration": 35,
    "start_time": "2022-03-17T14:57:25.425Z"
   },
   {
    "duration": 26,
    "start_time": "2022-03-17T14:57:25.463Z"
   },
   {
    "duration": 33,
    "start_time": "2022-03-17T14:57:25.491Z"
   },
   {
    "duration": 31,
    "start_time": "2022-03-17T14:57:25.526Z"
   },
   {
    "duration": 46,
    "start_time": "2022-03-17T14:57:25.560Z"
   },
   {
    "duration": 8,
    "start_time": "2022-03-17T14:57:25.608Z"
   },
   {
    "duration": 467,
    "start_time": "2022-03-17T14:57:25.618Z"
   },
   {
    "duration": 392,
    "start_time": "2022-03-17T14:57:26.087Z"
   },
   {
    "duration": 20,
    "start_time": "2022-03-17T14:57:26.483Z"
   },
   {
    "duration": 332,
    "start_time": "2022-03-17T14:57:26.505Z"
   },
   {
    "duration": 301,
    "start_time": "2022-03-17T14:57:26.839Z"
   },
   {
    "duration": 19,
    "start_time": "2022-03-17T14:57:27.143Z"
   },
   {
    "duration": 423,
    "start_time": "2022-03-17T14:57:27.164Z"
   },
   {
    "duration": 482,
    "start_time": "2022-03-17T14:57:27.589Z"
   },
   {
    "duration": 30,
    "start_time": "2022-03-17T14:57:28.074Z"
   },
   {
    "duration": 461,
    "start_time": "2022-03-17T14:57:28.107Z"
   },
   {
    "duration": 404,
    "start_time": "2022-03-17T14:57:28.570Z"
   },
   {
    "duration": 21,
    "start_time": "2022-03-17T14:57:28.984Z"
   },
   {
    "duration": 535,
    "start_time": "2022-03-17T14:57:29.008Z"
   },
   {
    "duration": 488,
    "start_time": "2022-03-17T14:57:29.546Z"
   },
   {
    "duration": 6,
    "start_time": "2022-03-17T14:57:30.036Z"
   },
   {
    "duration": 10,
    "start_time": "2022-03-17T14:57:30.045Z"
   },
   {
    "duration": 34,
    "start_time": "2022-03-17T14:57:30.058Z"
   },
   {
    "duration": 11,
    "start_time": "2022-03-17T14:57:30.094Z"
   },
   {
    "duration": 16,
    "start_time": "2022-03-17T14:57:30.108Z"
   },
   {
    "duration": 16,
    "start_time": "2022-03-17T14:57:30.127Z"
   },
   {
    "duration": 41,
    "start_time": "2022-03-17T14:57:30.146Z"
   },
   {
    "duration": 4,
    "start_time": "2022-03-17T14:57:30.189Z"
   },
   {
    "duration": 17,
    "start_time": "2022-03-17T14:57:30.202Z"
   },
   {
    "duration": 20,
    "start_time": "2022-03-17T14:57:30.222Z"
   },
   {
    "duration": 4,
    "start_time": "2022-03-17T14:57:58.419Z"
   },
   {
    "duration": 628,
    "start_time": "2022-03-17T14:57:58.426Z"
   },
   {
    "duration": 5,
    "start_time": "2022-03-17T14:57:59.057Z"
   },
   {
    "duration": 87,
    "start_time": "2022-03-17T14:57:59.064Z"
   },
   {
    "duration": 167,
    "start_time": "2022-03-17T14:57:59.155Z"
   },
   {
    "duration": 109,
    "start_time": "2022-03-17T14:57:59.325Z"
   },
   {
    "duration": 112,
    "start_time": "2022-03-17T14:57:59.438Z"
   },
   {
    "duration": 90,
    "start_time": "2022-03-17T14:57:59.553Z"
   },
   {
    "duration": 39,
    "start_time": "2022-03-17T14:57:59.645Z"
   },
   {
    "duration": 16,
    "start_time": "2022-03-17T14:57:59.687Z"
   },
   {
    "duration": 18,
    "start_time": "2022-03-17T14:57:59.707Z"
   },
   {
    "duration": 96,
    "start_time": "2022-03-17T14:57:59.728Z"
   },
   {
    "duration": 6,
    "start_time": "2022-03-17T14:57:59.826Z"
   },
   {
    "duration": 18,
    "start_time": "2022-03-17T14:57:59.834Z"
   },
   {
    "duration": 56,
    "start_time": "2022-03-17T14:57:59.854Z"
   },
   {
    "duration": 30,
    "start_time": "2022-03-17T14:57:59.912Z"
   },
   {
    "duration": 49,
    "start_time": "2022-03-17T14:57:59.944Z"
   },
   {
    "duration": 36,
    "start_time": "2022-03-17T14:57:59.995Z"
   },
   {
    "duration": 62,
    "start_time": "2022-03-17T14:58:00.033Z"
   },
   {
    "duration": 27,
    "start_time": "2022-03-17T14:58:00.098Z"
   },
   {
    "duration": 72,
    "start_time": "2022-03-17T14:58:00.127Z"
   },
   {
    "duration": 6,
    "start_time": "2022-03-17T14:58:00.202Z"
   },
   {
    "duration": 19,
    "start_time": "2022-03-17T14:58:00.210Z"
   },
   {
    "duration": 38,
    "start_time": "2022-03-17T14:58:00.232Z"
   },
   {
    "duration": 23,
    "start_time": "2022-03-17T14:58:00.272Z"
   },
   {
    "duration": 31,
    "start_time": "2022-03-17T14:58:00.298Z"
   },
   {
    "duration": 7,
    "start_time": "2022-03-17T14:58:00.332Z"
   },
   {
    "duration": 41,
    "start_time": "2022-03-17T14:58:00.343Z"
   },
   {
    "duration": 15,
    "start_time": "2022-03-17T14:58:00.394Z"
   },
   {
    "duration": 25,
    "start_time": "2022-03-17T14:58:00.412Z"
   },
   {
    "duration": 304,
    "start_time": "2022-03-17T14:58:00.440Z"
   },
   {
    "duration": 5,
    "start_time": "2022-03-17T14:58:00.747Z"
   },
   {
    "duration": 109,
    "start_time": "2022-03-17T14:58:00.754Z"
   },
   {
    "duration": 25,
    "start_time": "2022-03-17T14:58:00.866Z"
   },
   {
    "duration": 41,
    "start_time": "2022-03-17T14:58:00.894Z"
   },
   {
    "duration": 24,
    "start_time": "2022-03-17T14:58:00.938Z"
   },
   {
    "duration": 54,
    "start_time": "2022-03-17T14:58:00.965Z"
   },
   {
    "duration": 14,
    "start_time": "2022-03-17T14:58:01.022Z"
   },
   {
    "duration": 49,
    "start_time": "2022-03-17T14:58:01.038Z"
   },
   {
    "duration": 47,
    "start_time": "2022-03-17T14:58:01.090Z"
   },
   {
    "duration": 20,
    "start_time": "2022-03-17T14:58:01.139Z"
   },
   {
    "duration": 28,
    "start_time": "2022-03-17T14:58:01.161Z"
   },
   {
    "duration": 34,
    "start_time": "2022-03-17T14:58:01.192Z"
   },
   {
    "duration": 6,
    "start_time": "2022-03-17T14:58:01.229Z"
   },
   {
    "duration": 29,
    "start_time": "2022-03-17T14:58:01.237Z"
   },
   {
    "duration": 16,
    "start_time": "2022-03-17T14:58:01.284Z"
   },
   {
    "duration": 65,
    "start_time": "2022-03-17T14:58:01.303Z"
   },
   {
    "duration": 152,
    "start_time": "2022-03-17T14:58:01.371Z"
   },
   {
    "duration": 8,
    "start_time": "2022-03-17T14:58:01.526Z"
   },
   {
    "duration": 26,
    "start_time": "2022-03-17T14:58:01.537Z"
   },
   {
    "duration": 34,
    "start_time": "2022-03-17T14:58:01.565Z"
   },
   {
    "duration": 6,
    "start_time": "2022-03-17T14:58:01.601Z"
   },
   {
    "duration": 225,
    "start_time": "2022-03-17T14:58:01.610Z"
   },
   {
    "duration": 6,
    "start_time": "2022-03-17T14:58:01.837Z"
   },
   {
    "duration": 39,
    "start_time": "2022-03-17T14:58:01.845Z"
   },
   {
    "duration": 11,
    "start_time": "2022-03-17T14:58:01.887Z"
   },
   {
    "duration": 58,
    "start_time": "2022-03-17T14:58:01.901Z"
   },
   {
    "duration": 29,
    "start_time": "2022-03-17T14:58:01.961Z"
   },
   {
    "duration": 35,
    "start_time": "2022-03-17T14:58:01.992Z"
   },
   {
    "duration": 5,
    "start_time": "2022-03-17T14:58:02.029Z"
   },
   {
    "duration": 424,
    "start_time": "2022-03-17T14:58:02.036Z"
   },
   {
    "duration": 374,
    "start_time": "2022-03-17T14:58:02.462Z"
   },
   {
    "duration": 20,
    "start_time": "2022-03-17T14:58:02.838Z"
   },
   {
    "duration": 313,
    "start_time": "2022-03-17T14:58:02.860Z"
   },
   {
    "duration": 293,
    "start_time": "2022-03-17T14:58:03.175Z"
   },
   {
    "duration": 29,
    "start_time": "2022-03-17T14:58:03.472Z"
   },
   {
    "duration": 493,
    "start_time": "2022-03-17T14:58:03.504Z"
   },
   {
    "duration": 478,
    "start_time": "2022-03-17T14:58:03.999Z"
   },
   {
    "duration": 19,
    "start_time": "2022-03-17T14:58:04.480Z"
   },
   {
    "duration": 437,
    "start_time": "2022-03-17T14:58:04.502Z"
   },
   {
    "duration": 513,
    "start_time": "2022-03-17T14:58:04.941Z"
   },
   {
    "duration": 35,
    "start_time": "2022-03-17T14:58:05.457Z"
   },
   {
    "duration": 453,
    "start_time": "2022-03-17T14:58:05.494Z"
   },
   {
    "duration": 423,
    "start_time": "2022-03-17T14:58:05.949Z"
   },
   {
    "duration": 9,
    "start_time": "2022-03-17T14:58:06.375Z"
   },
   {
    "duration": 12,
    "start_time": "2022-03-17T14:58:06.387Z"
   },
   {
    "duration": 18,
    "start_time": "2022-03-17T14:58:06.401Z"
   },
   {
    "duration": 9,
    "start_time": "2022-03-17T14:58:06.422Z"
   },
   {
    "duration": 51,
    "start_time": "2022-03-17T14:58:06.435Z"
   },
   {
    "duration": 18,
    "start_time": "2022-03-17T14:58:06.488Z"
   },
   {
    "duration": 15,
    "start_time": "2022-03-17T14:58:06.509Z"
   },
   {
    "duration": 4,
    "start_time": "2022-03-17T14:58:06.527Z"
   },
   {
    "duration": 7,
    "start_time": "2022-03-17T14:58:06.540Z"
   },
   {
    "duration": 8,
    "start_time": "2022-03-17T14:58:06.585Z"
   },
   {
    "duration": 4,
    "start_time": "2022-03-17T14:58:31.346Z"
   },
   {
    "duration": 744,
    "start_time": "2022-03-17T14:58:31.354Z"
   },
   {
    "duration": 6,
    "start_time": "2022-03-17T14:58:32.102Z"
   },
   {
    "duration": 91,
    "start_time": "2022-03-17T14:58:32.111Z"
   },
   {
    "duration": 117,
    "start_time": "2022-03-17T14:58:32.206Z"
   },
   {
    "duration": 92,
    "start_time": "2022-03-17T14:58:32.326Z"
   },
   {
    "duration": 425,
    "start_time": "2022-03-17T14:58:32.420Z"
   },
   {
    "duration": 98,
    "start_time": "2022-03-17T14:58:32.847Z"
   },
   {
    "duration": 10,
    "start_time": "2022-03-17T14:58:32.947Z"
   },
   {
    "duration": 23,
    "start_time": "2022-03-17T14:58:32.985Z"
   },
   {
    "duration": 32,
    "start_time": "2022-03-17T14:58:33.014Z"
   },
   {
    "duration": 102,
    "start_time": "2022-03-17T14:58:33.049Z"
   },
   {
    "duration": 202,
    "start_time": "2022-03-17T14:58:33.154Z"
   },
   {
    "duration": 34,
    "start_time": "2022-03-17T14:58:33.358Z"
   },
   {
    "duration": 37,
    "start_time": "2022-03-17T14:58:33.395Z"
   },
   {
    "duration": 51,
    "start_time": "2022-03-17T14:58:33.434Z"
   },
   {
    "duration": 13,
    "start_time": "2022-03-17T14:58:33.487Z"
   },
   {
    "duration": 32,
    "start_time": "2022-03-17T14:58:33.502Z"
   },
   {
    "duration": 70,
    "start_time": "2022-03-17T14:58:33.536Z"
   },
   {
    "duration": 31,
    "start_time": "2022-03-17T14:58:33.609Z"
   },
   {
    "duration": 67,
    "start_time": "2022-03-17T14:58:33.643Z"
   },
   {
    "duration": 5,
    "start_time": "2022-03-17T14:58:33.713Z"
   },
   {
    "duration": 9,
    "start_time": "2022-03-17T14:58:33.720Z"
   },
   {
    "duration": 15,
    "start_time": "2022-03-17T14:58:33.731Z"
   },
   {
    "duration": 43,
    "start_time": "2022-03-17T14:58:33.748Z"
   },
   {
    "duration": 31,
    "start_time": "2022-03-17T14:58:33.793Z"
   },
   {
    "duration": 8,
    "start_time": "2022-03-17T14:58:33.828Z"
   },
   {
    "duration": 13,
    "start_time": "2022-03-17T14:58:33.839Z"
   },
   {
    "duration": 14,
    "start_time": "2022-03-17T14:58:33.889Z"
   },
   {
    "duration": 25,
    "start_time": "2022-03-17T14:58:33.906Z"
   },
   {
    "duration": 380,
    "start_time": "2022-03-17T14:58:33.933Z"
   },
   {
    "duration": 4,
    "start_time": "2022-03-17T14:58:34.316Z"
   },
   {
    "duration": 93,
    "start_time": "2022-03-17T14:58:34.322Z"
   },
   {
    "duration": 13,
    "start_time": "2022-03-17T14:58:34.417Z"
   },
   {
    "duration": 20,
    "start_time": "2022-03-17T14:58:34.432Z"
   },
   {
    "duration": 33,
    "start_time": "2022-03-17T14:58:34.455Z"
   },
   {
    "duration": 77,
    "start_time": "2022-03-17T14:58:34.491Z"
   },
   {
    "duration": 12,
    "start_time": "2022-03-17T14:58:34.570Z"
   },
   {
    "duration": 22,
    "start_time": "2022-03-17T14:58:34.584Z"
   },
   {
    "duration": 40,
    "start_time": "2022-03-17T14:58:34.608Z"
   },
   {
    "duration": 11,
    "start_time": "2022-03-17T14:58:34.650Z"
   },
   {
    "duration": 17,
    "start_time": "2022-03-17T14:58:34.683Z"
   },
   {
    "duration": 30,
    "start_time": "2022-03-17T14:58:34.702Z"
   },
   {
    "duration": 8,
    "start_time": "2022-03-17T14:58:34.735Z"
   },
   {
    "duration": 44,
    "start_time": "2022-03-17T14:58:34.746Z"
   },
   {
    "duration": 41,
    "start_time": "2022-03-17T14:58:34.792Z"
   },
   {
    "duration": 49,
    "start_time": "2022-03-17T14:58:34.835Z"
   },
   {
    "duration": 215,
    "start_time": "2022-03-17T14:58:34.886Z"
   },
   {
    "duration": 11,
    "start_time": "2022-03-17T14:58:35.104Z"
   },
   {
    "duration": 16,
    "start_time": "2022-03-17T14:58:35.121Z"
   },
   {
    "duration": 54,
    "start_time": "2022-03-17T14:58:35.140Z"
   },
   {
    "duration": 8,
    "start_time": "2022-03-17T14:58:35.197Z"
   },
   {
    "duration": 206,
    "start_time": "2022-03-17T14:58:35.207Z"
   },
   {
    "duration": 5,
    "start_time": "2022-03-17T14:58:35.416Z"
   },
   {
    "duration": 23,
    "start_time": "2022-03-17T14:58:35.423Z"
   },
   {
    "duration": 40,
    "start_time": "2022-03-17T14:58:35.448Z"
   },
   {
    "duration": 58,
    "start_time": "2022-03-17T14:58:35.490Z"
   },
   {
    "duration": 12,
    "start_time": "2022-03-17T14:58:35.550Z"
   },
   {
    "duration": 40,
    "start_time": "2022-03-17T14:58:35.564Z"
   },
   {
    "duration": 4,
    "start_time": "2022-03-17T14:58:35.607Z"
   },
   {
    "duration": 450,
    "start_time": "2022-03-17T14:58:35.614Z"
   },
   {
    "duration": 386,
    "start_time": "2022-03-17T14:58:36.066Z"
   },
   {
    "duration": 37,
    "start_time": "2022-03-17T14:58:36.454Z"
   },
   {
    "duration": 378,
    "start_time": "2022-03-17T14:58:36.493Z"
   },
   {
    "duration": 461,
    "start_time": "2022-03-17T14:58:36.873Z"
   },
   {
    "duration": 29,
    "start_time": "2022-03-17T14:58:37.337Z"
   },
   {
    "duration": 550,
    "start_time": "2022-03-17T14:58:37.385Z"
   },
   {
    "duration": 417,
    "start_time": "2022-03-17T14:58:37.937Z"
   },
   {
    "duration": 35,
    "start_time": "2022-03-17T14:58:38.357Z"
   },
   {
    "duration": 391,
    "start_time": "2022-03-17T14:58:38.395Z"
   },
   {
    "duration": 399,
    "start_time": "2022-03-17T14:58:38.788Z"
   },
   {
    "duration": 27,
    "start_time": "2022-03-17T14:58:39.190Z"
   },
   {
    "duration": 449,
    "start_time": "2022-03-17T14:58:39.220Z"
   },
   {
    "duration": 402,
    "start_time": "2022-03-17T14:58:39.671Z"
   },
   {
    "duration": 10,
    "start_time": "2022-03-17T14:58:40.076Z"
   },
   {
    "duration": 9,
    "start_time": "2022-03-17T14:58:40.089Z"
   },
   {
    "duration": 11,
    "start_time": "2022-03-17T14:58:40.101Z"
   },
   {
    "duration": 8,
    "start_time": "2022-03-17T14:58:40.114Z"
   },
   {
    "duration": 60,
    "start_time": "2022-03-17T14:58:40.125Z"
   },
   {
    "duration": 7,
    "start_time": "2022-03-17T14:58:40.188Z"
   },
   {
    "duration": 11,
    "start_time": "2022-03-17T14:58:40.199Z"
   },
   {
    "duration": 7,
    "start_time": "2022-03-17T14:58:40.212Z"
   },
   {
    "duration": 8,
    "start_time": "2022-03-17T14:58:40.227Z"
   },
   {
    "duration": 53,
    "start_time": "2022-03-17T14:58:40.237Z"
   },
   {
    "duration": 5,
    "start_time": "2022-03-17T14:59:06.905Z"
   },
   {
    "duration": 628,
    "start_time": "2022-03-17T14:59:06.912Z"
   },
   {
    "duration": 5,
    "start_time": "2022-03-17T14:59:07.543Z"
   },
   {
    "duration": 83,
    "start_time": "2022-03-17T14:59:07.549Z"
   },
   {
    "duration": 117,
    "start_time": "2022-03-17T14:59:07.635Z"
   },
   {
    "duration": 79,
    "start_time": "2022-03-17T14:59:07.755Z"
   },
   {
    "duration": 112,
    "start_time": "2022-03-17T14:59:07.836Z"
   },
   {
    "duration": 92,
    "start_time": "2022-03-17T14:59:07.950Z"
   },
   {
    "duration": 39,
    "start_time": "2022-03-17T14:59:08.045Z"
   },
   {
    "duration": 16,
    "start_time": "2022-03-17T14:59:08.087Z"
   },
   {
    "duration": 16,
    "start_time": "2022-03-17T14:59:08.108Z"
   },
   {
    "duration": 87,
    "start_time": "2022-03-17T14:59:08.127Z"
   },
   {
    "duration": 6,
    "start_time": "2022-03-17T14:59:08.217Z"
   },
   {
    "duration": 19,
    "start_time": "2022-03-17T14:59:08.225Z"
   },
   {
    "duration": 53,
    "start_time": "2022-03-17T14:59:08.246Z"
   },
   {
    "duration": 29,
    "start_time": "2022-03-17T14:59:08.301Z"
   },
   {
    "duration": 12,
    "start_time": "2022-03-17T14:59:08.332Z"
   },
   {
    "duration": 55,
    "start_time": "2022-03-17T14:59:08.346Z"
   },
   {
    "duration": 36,
    "start_time": "2022-03-17T14:59:08.403Z"
   },
   {
    "duration": 66,
    "start_time": "2022-03-17T14:59:08.442Z"
   },
   {
    "duration": 37,
    "start_time": "2022-03-17T14:59:08.511Z"
   },
   {
    "duration": 36,
    "start_time": "2022-03-17T14:59:08.550Z"
   },
   {
    "duration": 5,
    "start_time": "2022-03-17T14:59:08.588Z"
   },
   {
    "duration": 16,
    "start_time": "2022-03-17T14:59:08.596Z"
   },
   {
    "duration": 18,
    "start_time": "2022-03-17T14:59:08.615Z"
   },
   {
    "duration": 66,
    "start_time": "2022-03-17T14:59:08.635Z"
   },
   {
    "duration": 6,
    "start_time": "2022-03-17T14:59:08.704Z"
   },
   {
    "duration": 15,
    "start_time": "2022-03-17T14:59:08.712Z"
   },
   {
    "duration": 13,
    "start_time": "2022-03-17T14:59:08.734Z"
   },
   {
    "duration": 48,
    "start_time": "2022-03-17T14:59:08.749Z"
   },
   {
    "duration": 278,
    "start_time": "2022-03-17T14:59:08.800Z"
   },
   {
    "duration": 3,
    "start_time": "2022-03-17T14:59:09.084Z"
   },
   {
    "duration": 71,
    "start_time": "2022-03-17T14:59:09.090Z"
   },
   {
    "duration": 31,
    "start_time": "2022-03-17T14:59:09.163Z"
   },
   {
    "duration": 22,
    "start_time": "2022-03-17T14:59:09.196Z"
   },
   {
    "duration": 27,
    "start_time": "2022-03-17T14:59:09.220Z"
   },
   {
    "duration": 89,
    "start_time": "2022-03-17T14:59:09.250Z"
   },
   {
    "duration": 10,
    "start_time": "2022-03-17T14:59:09.342Z"
   },
   {
    "duration": 41,
    "start_time": "2022-03-17T14:59:09.355Z"
   },
   {
    "duration": 34,
    "start_time": "2022-03-17T14:59:09.398Z"
   },
   {
    "duration": 23,
    "start_time": "2022-03-17T14:59:09.435Z"
   },
   {
    "duration": 19,
    "start_time": "2022-03-17T14:59:09.485Z"
   },
   {
    "duration": 21,
    "start_time": "2022-03-17T14:59:09.506Z"
   },
   {
    "duration": 5,
    "start_time": "2022-03-17T14:59:09.531Z"
   },
   {
    "duration": 49,
    "start_time": "2022-03-17T14:59:09.538Z"
   },
   {
    "duration": 26,
    "start_time": "2022-03-17T14:59:09.590Z"
   },
   {
    "duration": 36,
    "start_time": "2022-03-17T14:59:09.619Z"
   },
   {
    "duration": 190,
    "start_time": "2022-03-17T14:59:09.657Z"
   },
   {
    "duration": 10,
    "start_time": "2022-03-17T14:59:09.850Z"
   },
   {
    "duration": 37,
    "start_time": "2022-03-17T14:59:09.862Z"
   },
   {
    "duration": 22,
    "start_time": "2022-03-17T14:59:09.903Z"
   },
   {
    "duration": 8,
    "start_time": "2022-03-17T14:59:09.928Z"
   },
   {
    "duration": 229,
    "start_time": "2022-03-17T14:59:09.939Z"
   },
   {
    "duration": 6,
    "start_time": "2022-03-17T14:59:10.171Z"
   },
   {
    "duration": 20,
    "start_time": "2022-03-17T14:59:10.185Z"
   },
   {
    "duration": 12,
    "start_time": "2022-03-17T14:59:10.208Z"
   },
   {
    "duration": 66,
    "start_time": "2022-03-17T14:59:10.222Z"
   },
   {
    "duration": 14,
    "start_time": "2022-03-17T14:59:10.291Z"
   },
   {
    "duration": 27,
    "start_time": "2022-03-17T14:59:10.308Z"
   },
   {
    "duration": 5,
    "start_time": "2022-03-17T14:59:10.338Z"
   },
   {
    "duration": 437,
    "start_time": "2022-03-17T14:59:10.345Z"
   },
   {
    "duration": 386,
    "start_time": "2022-03-17T14:59:10.784Z"
   },
   {
    "duration": 28,
    "start_time": "2022-03-17T14:59:11.172Z"
   },
   {
    "duration": 458,
    "start_time": "2022-03-17T14:59:11.203Z"
   },
   {
    "duration": 293,
    "start_time": "2022-03-17T14:59:11.664Z"
   },
   {
    "duration": 33,
    "start_time": "2022-03-17T14:59:11.960Z"
   },
   {
    "duration": 448,
    "start_time": "2022-03-17T14:59:11.996Z"
   },
   {
    "duration": 408,
    "start_time": "2022-03-17T14:59:12.447Z"
   },
   {
    "duration": 38,
    "start_time": "2022-03-17T14:59:12.858Z"
   },
   {
    "duration": 449,
    "start_time": "2022-03-17T14:59:12.899Z"
   },
   {
    "duration": 499,
    "start_time": "2022-03-17T14:59:13.351Z"
   },
   {
    "duration": 36,
    "start_time": "2022-03-17T14:59:13.852Z"
   },
   {
    "duration": 439,
    "start_time": "2022-03-17T14:59:13.890Z"
   },
   {
    "duration": 524,
    "start_time": "2022-03-17T14:59:14.331Z"
   },
   {
    "duration": 7,
    "start_time": "2022-03-17T14:59:14.857Z"
   },
   {
    "duration": 21,
    "start_time": "2022-03-17T14:59:14.867Z"
   },
   {
    "duration": 12,
    "start_time": "2022-03-17T14:59:14.891Z"
   },
   {
    "duration": 5,
    "start_time": "2022-03-17T14:59:14.906Z"
   },
   {
    "duration": 11,
    "start_time": "2022-03-17T14:59:14.914Z"
   },
   {
    "duration": 57,
    "start_time": "2022-03-17T14:59:14.927Z"
   },
   {
    "duration": 18,
    "start_time": "2022-03-17T14:59:14.987Z"
   },
   {
    "duration": 10,
    "start_time": "2022-03-17T14:59:15.008Z"
   },
   {
    "duration": 9,
    "start_time": "2022-03-17T14:59:15.029Z"
   },
   {
    "duration": 45,
    "start_time": "2022-03-17T14:59:15.041Z"
   },
   {
    "duration": 4,
    "start_time": "2022-03-17T15:00:09.659Z"
   },
   {
    "duration": 607,
    "start_time": "2022-03-17T15:00:09.665Z"
   },
   {
    "duration": 5,
    "start_time": "2022-03-17T15:00:10.275Z"
   },
   {
    "duration": 66,
    "start_time": "2022-03-17T15:00:10.283Z"
   },
   {
    "duration": 177,
    "start_time": "2022-03-17T15:00:10.352Z"
   },
   {
    "duration": 78,
    "start_time": "2022-03-17T15:00:10.532Z"
   },
   {
    "duration": 127,
    "start_time": "2022-03-17T15:00:10.613Z"
   },
   {
    "duration": 95,
    "start_time": "2022-03-17T15:00:10.744Z"
   },
   {
    "duration": 11,
    "start_time": "2022-03-17T15:00:10.845Z"
   },
   {
    "duration": 23,
    "start_time": "2022-03-17T15:00:10.884Z"
   },
   {
    "duration": 26,
    "start_time": "2022-03-17T15:00:10.909Z"
   },
   {
    "duration": 106,
    "start_time": "2022-03-17T15:00:10.938Z"
   },
   {
    "duration": 8,
    "start_time": "2022-03-17T15:00:11.047Z"
   },
   {
    "duration": 32,
    "start_time": "2022-03-17T15:00:11.058Z"
   },
   {
    "duration": 31,
    "start_time": "2022-03-17T15:00:11.092Z"
   },
   {
    "duration": 64,
    "start_time": "2022-03-17T15:00:11.125Z"
   },
   {
    "duration": 13,
    "start_time": "2022-03-17T15:00:11.191Z"
   },
   {
    "duration": 26,
    "start_time": "2022-03-17T15:00:11.207Z"
   },
   {
    "duration": 71,
    "start_time": "2022-03-17T15:00:11.236Z"
   },
   {
    "duration": 30,
    "start_time": "2022-03-17T15:00:11.310Z"
   },
   {
    "duration": 66,
    "start_time": "2022-03-17T15:00:11.343Z"
   },
   {
    "duration": 5,
    "start_time": "2022-03-17T15:00:11.411Z"
   },
   {
    "duration": 11,
    "start_time": "2022-03-17T15:00:11.420Z"
   },
   {
    "duration": 45,
    "start_time": "2022-03-17T15:00:11.439Z"
   },
   {
    "duration": 15,
    "start_time": "2022-03-17T15:00:11.487Z"
   },
   {
    "duration": 25,
    "start_time": "2022-03-17T15:00:11.505Z"
   },
   {
    "duration": 51,
    "start_time": "2022-03-17T15:00:11.533Z"
   },
   {
    "duration": 7,
    "start_time": "2022-03-17T15:00:11.586Z"
   },
   {
    "duration": 20,
    "start_time": "2022-03-17T15:00:11.595Z"
   },
   {
    "duration": 22,
    "start_time": "2022-03-17T15:00:11.618Z"
   },
   {
    "duration": 289,
    "start_time": "2022-03-17T15:00:11.643Z"
   },
   {
    "duration": 5,
    "start_time": "2022-03-17T15:00:11.935Z"
   },
   {
    "duration": 92,
    "start_time": "2022-03-17T15:00:11.942Z"
   },
   {
    "duration": 12,
    "start_time": "2022-03-17T15:00:12.037Z"
   },
   {
    "duration": 40,
    "start_time": "2022-03-17T15:00:12.052Z"
   },
   {
    "duration": 27,
    "start_time": "2022-03-17T15:00:12.095Z"
   },
   {
    "duration": 82,
    "start_time": "2022-03-17T15:00:12.125Z"
   },
   {
    "duration": 16,
    "start_time": "2022-03-17T15:00:12.210Z"
   },
   {
    "duration": 44,
    "start_time": "2022-03-17T15:00:12.228Z"
   },
   {
    "duration": 48,
    "start_time": "2022-03-17T15:00:12.275Z"
   },
   {
    "duration": 28,
    "start_time": "2022-03-17T15:00:12.327Z"
   },
   {
    "duration": 43,
    "start_time": "2022-03-17T15:00:12.357Z"
   },
   {
    "duration": 35,
    "start_time": "2022-03-17T15:00:12.403Z"
   },
   {
    "duration": 13,
    "start_time": "2022-03-17T15:00:12.440Z"
   },
   {
    "duration": 22,
    "start_time": "2022-03-17T15:00:12.456Z"
   },
   {
    "duration": 37,
    "start_time": "2022-03-17T15:00:12.484Z"
   },
   {
    "duration": 49,
    "start_time": "2022-03-17T15:00:12.524Z"
   },
   {
    "duration": 140,
    "start_time": "2022-03-17T15:00:12.576Z"
   },
   {
    "duration": 8,
    "start_time": "2022-03-17T15:00:12.718Z"
   },
   {
    "duration": 28,
    "start_time": "2022-03-17T15:00:12.729Z"
   },
   {
    "duration": 39,
    "start_time": "2022-03-17T15:00:12.760Z"
   },
   {
    "duration": 7,
    "start_time": "2022-03-17T15:00:12.803Z"
   },
   {
    "duration": 333,
    "start_time": "2022-03-17T15:00:12.813Z"
   },
   {
    "duration": 7,
    "start_time": "2022-03-17T15:00:13.149Z"
   },
   {
    "duration": 41,
    "start_time": "2022-03-17T15:00:13.159Z"
   },
   {
    "duration": 13,
    "start_time": "2022-03-17T15:00:13.203Z"
   },
   {
    "duration": 45,
    "start_time": "2022-03-17T15:00:13.218Z"
   },
   {
    "duration": 9,
    "start_time": "2022-03-17T15:00:13.285Z"
   },
   {
    "duration": 44,
    "start_time": "2022-03-17T15:00:13.298Z"
   },
   {
    "duration": 7,
    "start_time": "2022-03-17T15:00:13.344Z"
   },
   {
    "duration": 433,
    "start_time": "2022-03-17T15:00:13.353Z"
   },
   {
    "duration": 367,
    "start_time": "2022-03-17T15:00:13.789Z"
   },
   {
    "duration": 28,
    "start_time": "2022-03-17T15:00:14.159Z"
   },
   {
    "duration": 410,
    "start_time": "2022-03-17T15:00:14.190Z"
   },
   {
    "duration": 288,
    "start_time": "2022-03-17T15:00:14.603Z"
   },
   {
    "duration": 20,
    "start_time": "2022-03-17T15:00:14.893Z"
   },
   {
    "duration": 428,
    "start_time": "2022-03-17T15:00:14.915Z"
   },
   {
    "duration": 414,
    "start_time": "2022-03-17T15:00:15.345Z"
   },
   {
    "duration": 32,
    "start_time": "2022-03-17T15:00:15.767Z"
   },
   {
    "duration": 451,
    "start_time": "2022-03-17T15:00:15.802Z"
   },
   {
    "duration": 414,
    "start_time": "2022-03-17T15:00:16.255Z"
   },
   {
    "duration": 24,
    "start_time": "2022-03-17T15:00:16.671Z"
   },
   {
    "duration": 427,
    "start_time": "2022-03-17T15:00:16.697Z"
   },
   {
    "duration": 423,
    "start_time": "2022-03-17T15:00:17.127Z"
   },
   {
    "duration": 6,
    "start_time": "2022-03-17T15:00:17.552Z"
   },
   {
    "duration": 25,
    "start_time": "2022-03-17T15:00:17.561Z"
   },
   {
    "duration": 10,
    "start_time": "2022-03-17T15:00:17.589Z"
   },
   {
    "duration": 17,
    "start_time": "2022-03-17T15:00:17.602Z"
   },
   {
    "duration": 11,
    "start_time": "2022-03-17T15:00:17.621Z"
   },
   {
    "duration": 49,
    "start_time": "2022-03-17T15:00:17.635Z"
   },
   {
    "duration": 12,
    "start_time": "2022-03-17T15:00:17.686Z"
   },
   {
    "duration": 7,
    "start_time": "2022-03-17T15:00:17.701Z"
   },
   {
    "duration": 12,
    "start_time": "2022-03-17T15:00:17.711Z"
   },
   {
    "duration": 12,
    "start_time": "2022-03-17T15:00:17.726Z"
   },
   {
    "duration": 6,
    "start_time": "2022-03-17T15:00:38.441Z"
   },
   {
    "duration": 38,
    "start_time": "2022-03-17T15:00:40.756Z"
   },
   {
    "duration": 9,
    "start_time": "2022-03-17T15:00:44.383Z"
   },
   {
    "duration": 22,
    "start_time": "2022-03-17T15:00:48.723Z"
   },
   {
    "duration": 130,
    "start_time": "2022-03-17T15:01:02.031Z"
   },
   {
    "duration": 5,
    "start_time": "2022-03-17T15:01:12.492Z"
   },
   {
    "duration": 6,
    "start_time": "2022-03-17T15:01:15.241Z"
   },
   {
    "duration": 9,
    "start_time": "2022-03-17T15:01:15.828Z"
   },
   {
    "duration": 5,
    "start_time": "2022-03-17T15:01:16.529Z"
   },
   {
    "duration": 7,
    "start_time": "2022-03-17T15:01:18.004Z"
   },
   {
    "duration": 4,
    "start_time": "2022-03-17T15:01:27.321Z"
   },
   {
    "duration": 578,
    "start_time": "2022-03-17T15:01:27.328Z"
   },
   {
    "duration": 5,
    "start_time": "2022-03-17T15:01:27.909Z"
   },
   {
    "duration": 72,
    "start_time": "2022-03-17T15:01:27.916Z"
   },
   {
    "duration": 126,
    "start_time": "2022-03-17T15:01:27.992Z"
   },
   {
    "duration": 95,
    "start_time": "2022-03-17T15:01:28.121Z"
   },
   {
    "duration": 116,
    "start_time": "2022-03-17T15:01:28.219Z"
   },
   {
    "duration": 96,
    "start_time": "2022-03-17T15:01:28.337Z"
   },
   {
    "duration": 11,
    "start_time": "2022-03-17T15:01:28.435Z"
   },
   {
    "duration": 50,
    "start_time": "2022-03-17T15:01:28.449Z"
   },
   {
    "duration": 17,
    "start_time": "2022-03-17T15:01:28.503Z"
   },
   {
    "duration": 80,
    "start_time": "2022-03-17T15:01:28.523Z"
   },
   {
    "duration": 6,
    "start_time": "2022-03-17T15:01:28.605Z"
   },
   {
    "duration": 13,
    "start_time": "2022-03-17T15:01:28.614Z"
   },
   {
    "duration": 60,
    "start_time": "2022-03-17T15:01:28.630Z"
   },
   {
    "duration": 30,
    "start_time": "2022-03-17T15:01:28.692Z"
   },
   {
    "duration": 12,
    "start_time": "2022-03-17T15:01:28.724Z"
   },
   {
    "duration": 56,
    "start_time": "2022-03-17T15:01:28.739Z"
   },
   {
    "duration": 37,
    "start_time": "2022-03-17T15:01:28.798Z"
   },
   {
    "duration": 62,
    "start_time": "2022-03-17T15:01:28.837Z"
   },
   {
    "duration": 36,
    "start_time": "2022-03-17T15:01:28.901Z"
   },
   {
    "duration": 7,
    "start_time": "2022-03-17T15:01:28.939Z"
   },
   {
    "duration": 6,
    "start_time": "2022-03-17T15:01:28.983Z"
   },
   {
    "duration": 22,
    "start_time": "2022-03-17T15:01:28.992Z"
   },
   {
    "duration": 19,
    "start_time": "2022-03-17T15:01:29.016Z"
   },
   {
    "duration": 58,
    "start_time": "2022-03-17T15:01:29.038Z"
   },
   {
    "duration": 8,
    "start_time": "2022-03-17T15:01:29.100Z"
   },
   {
    "duration": 11,
    "start_time": "2022-03-17T15:01:29.111Z"
   },
   {
    "duration": 15,
    "start_time": "2022-03-17T15:01:29.129Z"
   },
   {
    "duration": 52,
    "start_time": "2022-03-17T15:01:29.147Z"
   },
   {
    "duration": 290,
    "start_time": "2022-03-17T15:01:29.201Z"
   },
   {
    "duration": 4,
    "start_time": "2022-03-17T15:01:29.494Z"
   },
   {
    "duration": 111,
    "start_time": "2022-03-17T15:01:29.500Z"
   },
   {
    "duration": 18,
    "start_time": "2022-03-17T15:01:29.613Z"
   },
   {
    "duration": 21,
    "start_time": "2022-03-17T15:01:29.634Z"
   },
   {
    "duration": 41,
    "start_time": "2022-03-17T15:01:29.658Z"
   },
   {
    "duration": 88,
    "start_time": "2022-03-17T15:01:29.703Z"
   },
   {
    "duration": 16,
    "start_time": "2022-03-17T15:01:29.795Z"
   },
   {
    "duration": 21,
    "start_time": "2022-03-17T15:01:29.813Z"
   },
   {
    "duration": 63,
    "start_time": "2022-03-17T15:01:29.837Z"
   },
   {
    "duration": 15,
    "start_time": "2022-03-17T15:01:29.903Z"
   },
   {
    "duration": 28,
    "start_time": "2022-03-17T15:01:29.922Z"
   },
   {
    "duration": 58,
    "start_time": "2022-03-17T15:01:29.953Z"
   },
   {
    "duration": 18,
    "start_time": "2022-03-17T15:01:30.015Z"
   },
   {
    "duration": 36,
    "start_time": "2022-03-17T15:01:30.037Z"
   },
   {
    "duration": 37,
    "start_time": "2022-03-17T15:01:30.083Z"
   },
   {
    "duration": 69,
    "start_time": "2022-03-17T15:01:30.123Z"
   },
   {
    "duration": 197,
    "start_time": "2022-03-17T15:01:30.196Z"
   },
   {
    "duration": 9,
    "start_time": "2022-03-17T15:01:30.396Z"
   },
   {
    "duration": 120,
    "start_time": "2022-03-17T15:01:30.409Z"
   },
   {
    "duration": 36,
    "start_time": "2022-03-17T15:01:30.532Z"
   },
   {
    "duration": 8,
    "start_time": "2022-03-17T15:01:30.570Z"
   },
   {
    "duration": 233,
    "start_time": "2022-03-17T15:01:30.580Z"
   },
   {
    "duration": 6,
    "start_time": "2022-03-17T15:01:30.816Z"
   },
   {
    "duration": 26,
    "start_time": "2022-03-17T15:01:30.826Z"
   },
   {
    "duration": 38,
    "start_time": "2022-03-17T15:01:30.855Z"
   },
   {
    "duration": 70,
    "start_time": "2022-03-17T15:01:30.896Z"
   },
   {
    "duration": 43,
    "start_time": "2022-03-17T15:01:30.969Z"
   },
   {
    "duration": 56,
    "start_time": "2022-03-17T15:01:31.015Z"
   },
   {
    "duration": 10,
    "start_time": "2022-03-17T15:01:31.073Z"
   },
   {
    "duration": 561,
    "start_time": "2022-03-17T15:01:31.085Z"
   },
   {
    "duration": 478,
    "start_time": "2022-03-17T15:01:31.649Z"
   },
   {
    "duration": 19,
    "start_time": "2022-03-17T15:01:32.130Z"
   },
   {
    "duration": 338,
    "start_time": "2022-03-17T15:01:32.152Z"
   },
   {
    "duration": 692,
    "start_time": "2022-03-17T15:01:32.492Z"
   },
   {
    "duration": 19,
    "start_time": "2022-03-17T15:01:33.186Z"
   },
   {
    "duration": 479,
    "start_time": "2022-03-17T15:01:33.207Z"
   },
   {
    "duration": 533,
    "start_time": "2022-03-17T15:01:33.690Z"
   },
   {
    "duration": 28,
    "start_time": "2022-03-17T15:01:34.227Z"
   },
   {
    "duration": 414,
    "start_time": "2022-03-17T15:01:34.258Z"
   },
   {
    "duration": 423,
    "start_time": "2022-03-17T15:01:34.675Z"
   },
   {
    "duration": 22,
    "start_time": "2022-03-17T15:01:35.101Z"
   },
   {
    "duration": 424,
    "start_time": "2022-03-17T15:01:35.126Z"
   },
   {
    "duration": 556,
    "start_time": "2022-03-17T15:01:35.553Z"
   },
   {
    "duration": 6,
    "start_time": "2022-03-17T15:01:36.112Z"
   },
   {
    "duration": 18,
    "start_time": "2022-03-17T15:01:36.121Z"
   },
   {
    "duration": 32,
    "start_time": "2022-03-17T15:01:36.146Z"
   },
   {
    "duration": 26,
    "start_time": "2022-03-17T15:01:36.180Z"
   },
   {
    "duration": 35,
    "start_time": "2022-03-17T15:01:36.209Z"
   },
   {
    "duration": 19,
    "start_time": "2022-03-17T15:01:36.247Z"
   },
   {
    "duration": 14,
    "start_time": "2022-03-17T15:01:36.269Z"
   },
   {
    "duration": 10,
    "start_time": "2022-03-17T15:01:36.285Z"
   },
   {
    "duration": 8,
    "start_time": "2022-03-17T15:01:36.306Z"
   },
   {
    "duration": 12,
    "start_time": "2022-03-17T15:01:36.317Z"
   },
   {
    "duration": 5,
    "start_time": "2022-03-17T15:03:08.295Z"
   },
   {
    "duration": 5,
    "start_time": "2022-03-17T15:14:02.027Z"
   },
   {
    "duration": 625,
    "start_time": "2022-03-17T15:14:02.035Z"
   },
   {
    "duration": 5,
    "start_time": "2022-03-17T15:14:02.663Z"
   },
   {
    "duration": 78,
    "start_time": "2022-03-17T15:14:02.670Z"
   },
   {
    "duration": 103,
    "start_time": "2022-03-17T15:14:02.751Z"
   },
   {
    "duration": 81,
    "start_time": "2022-03-17T15:14:02.856Z"
   },
   {
    "duration": 111,
    "start_time": "2022-03-17T15:14:02.940Z"
   },
   {
    "duration": 89,
    "start_time": "2022-03-17T15:14:03.053Z"
   },
   {
    "duration": 41,
    "start_time": "2022-03-17T15:14:03.144Z"
   },
   {
    "duration": 24,
    "start_time": "2022-03-17T15:14:03.188Z"
   },
   {
    "duration": 26,
    "start_time": "2022-03-17T15:14:03.216Z"
   },
   {
    "duration": 79,
    "start_time": "2022-03-17T15:14:03.245Z"
   },
   {
    "duration": 7,
    "start_time": "2022-03-17T15:14:03.327Z"
   },
   {
    "duration": 17,
    "start_time": "2022-03-17T15:14:03.337Z"
   },
   {
    "duration": 54,
    "start_time": "2022-03-17T15:14:03.357Z"
   },
   {
    "duration": 28,
    "start_time": "2022-03-17T15:14:03.414Z"
   },
   {
    "duration": 42,
    "start_time": "2022-03-17T15:14:03.444Z"
   },
   {
    "duration": 26,
    "start_time": "2022-03-17T15:14:03.489Z"
   },
   {
    "duration": 85,
    "start_time": "2022-03-17T15:14:03.518Z"
   },
   {
    "duration": 29,
    "start_time": "2022-03-17T15:14:03.606Z"
   },
   {
    "duration": 63,
    "start_time": "2022-03-17T15:14:03.637Z"
   },
   {
    "duration": 7,
    "start_time": "2022-03-17T15:14:03.702Z"
   },
   {
    "duration": 14,
    "start_time": "2022-03-17T15:14:03.711Z"
   },
   {
    "duration": 30,
    "start_time": "2022-03-17T15:14:03.727Z"
   },
   {
    "duration": 28,
    "start_time": "2022-03-17T15:14:03.759Z"
   },
   {
    "duration": 25,
    "start_time": "2022-03-17T15:14:03.790Z"
   },
   {
    "duration": 7,
    "start_time": "2022-03-17T15:14:03.817Z"
   },
   {
    "duration": 12,
    "start_time": "2022-03-17T15:14:03.826Z"
   },
   {
    "duration": 46,
    "start_time": "2022-03-17T15:14:03.846Z"
   },
   {
    "duration": 22,
    "start_time": "2022-03-17T15:14:03.894Z"
   },
   {
    "duration": 298,
    "start_time": "2022-03-17T15:14:03.918Z"
   },
   {
    "duration": 4,
    "start_time": "2022-03-17T15:14:04.219Z"
   },
   {
    "duration": 93,
    "start_time": "2022-03-17T15:14:04.226Z"
   },
   {
    "duration": 14,
    "start_time": "2022-03-17T15:14:04.322Z"
   },
   {
    "duration": 48,
    "start_time": "2022-03-17T15:14:04.339Z"
   },
   {
    "duration": 48,
    "start_time": "2022-03-17T15:14:04.390Z"
   },
   {
    "duration": 49,
    "start_time": "2022-03-17T15:14:04.441Z"
   },
   {
    "duration": 12,
    "start_time": "2022-03-17T15:14:04.492Z"
   },
   {
    "duration": 26,
    "start_time": "2022-03-17T15:14:04.506Z"
   },
   {
    "duration": 53,
    "start_time": "2022-03-17T15:14:04.535Z"
   },
   {
    "duration": 11,
    "start_time": "2022-03-17T15:14:04.591Z"
   },
   {
    "duration": 23,
    "start_time": "2022-03-17T15:14:04.604Z"
   },
   {
    "duration": 47,
    "start_time": "2022-03-17T15:14:04.629Z"
   },
   {
    "duration": 6,
    "start_time": "2022-03-17T15:14:04.685Z"
   },
   {
    "duration": 18,
    "start_time": "2022-03-17T15:14:04.694Z"
   },
   {
    "duration": 25,
    "start_time": "2022-03-17T15:14:04.715Z"
   },
   {
    "duration": 67,
    "start_time": "2022-03-17T15:14:04.742Z"
   },
   {
    "duration": 152,
    "start_time": "2022-03-17T15:14:04.812Z"
   },
   {
    "duration": 22,
    "start_time": "2022-03-17T15:14:04.966Z"
   },
   {
    "duration": 27,
    "start_time": "2022-03-17T15:14:04.991Z"
   },
   {
    "duration": 31,
    "start_time": "2022-03-17T15:14:05.020Z"
   },
   {
    "duration": 12,
    "start_time": "2022-03-17T15:14:05.053Z"
   },
   {
    "duration": 202,
    "start_time": "2022-03-17T15:14:05.067Z"
   },
   {
    "duration": 5,
    "start_time": "2022-03-17T15:14:05.272Z"
   },
   {
    "duration": 24,
    "start_time": "2022-03-17T15:14:05.284Z"
   },
   {
    "duration": 27,
    "start_time": "2022-03-17T15:14:05.311Z"
   },
   {
    "duration": 51,
    "start_time": "2022-03-17T15:14:05.340Z"
   },
   {
    "duration": 22,
    "start_time": "2022-03-17T15:14:05.394Z"
   },
   {
    "duration": 29,
    "start_time": "2022-03-17T15:14:05.418Z"
   },
   {
    "duration": 30,
    "start_time": "2022-03-17T15:14:05.450Z"
   },
   {
    "duration": 465,
    "start_time": "2022-03-17T15:14:05.482Z"
   },
   {
    "duration": 409,
    "start_time": "2022-03-17T15:14:05.950Z"
   },
   {
    "duration": 35,
    "start_time": "2022-03-17T15:14:06.362Z"
   },
   {
    "duration": 318,
    "start_time": "2022-03-17T15:14:06.399Z"
   },
   {
    "duration": 291,
    "start_time": "2022-03-17T15:14:06.720Z"
   },
   {
    "duration": 23,
    "start_time": "2022-03-17T15:14:07.014Z"
   },
   {
    "duration": 429,
    "start_time": "2022-03-17T15:14:07.039Z"
   },
   {
    "duration": 404,
    "start_time": "2022-03-17T15:14:07.470Z"
   },
   {
    "duration": 25,
    "start_time": "2022-03-17T15:14:07.877Z"
   },
   {
    "duration": 435,
    "start_time": "2022-03-17T15:14:07.904Z"
   },
   {
    "duration": 412,
    "start_time": "2022-03-17T15:14:08.341Z"
   },
   {
    "duration": 32,
    "start_time": "2022-03-17T15:14:08.755Z"
   },
   {
    "duration": 396,
    "start_time": "2022-03-17T15:14:08.790Z"
   },
   {
    "duration": 409,
    "start_time": "2022-03-17T15:14:09.188Z"
   },
   {
    "duration": 6,
    "start_time": "2022-03-17T15:14:09.599Z"
   },
   {
    "duration": 28,
    "start_time": "2022-03-17T15:14:09.607Z"
   },
   {
    "duration": 48,
    "start_time": "2022-03-17T15:14:09.637Z"
   },
   {
    "duration": 29,
    "start_time": "2022-03-17T15:14:09.688Z"
   },
   {
    "duration": 40,
    "start_time": "2022-03-17T15:14:09.720Z"
   },
   {
    "duration": 20,
    "start_time": "2022-03-17T15:14:09.763Z"
   },
   {
    "duration": 35,
    "start_time": "2022-03-17T15:14:09.785Z"
   },
   {
    "duration": 23,
    "start_time": "2022-03-17T15:14:09.823Z"
   },
   {
    "duration": 9,
    "start_time": "2022-03-17T17:44:15.897Z"
   },
   {
    "duration": 36,
    "start_time": "2022-03-17T17:44:30.908Z"
   },
   {
    "duration": 38,
    "start_time": "2022-03-17T17:44:40.047Z"
   },
   {
    "duration": 10,
    "start_time": "2022-03-17T17:45:10.079Z"
   },
   {
    "duration": 8,
    "start_time": "2022-03-17T17:45:15.347Z"
   },
   {
    "duration": 38,
    "start_time": "2022-03-17T17:45:19.918Z"
   },
   {
    "duration": 4,
    "start_time": "2022-03-17T17:49:10.221Z"
   },
   {
    "duration": 575,
    "start_time": "2022-03-17T17:49:10.232Z"
   },
   {
    "duration": 5,
    "start_time": "2022-03-17T17:49:10.810Z"
   },
   {
    "duration": 82,
    "start_time": "2022-03-17T17:49:10.817Z"
   },
   {
    "duration": 117,
    "start_time": "2022-03-17T17:49:10.903Z"
   },
   {
    "duration": 91,
    "start_time": "2022-03-17T17:49:11.022Z"
   },
   {
    "duration": 130,
    "start_time": "2022-03-17T17:49:11.116Z"
   },
   {
    "duration": 85,
    "start_time": "2022-03-17T17:49:11.249Z"
   },
   {
    "duration": 8,
    "start_time": "2022-03-17T17:49:11.337Z"
   },
   {
    "duration": 57,
    "start_time": "2022-03-17T17:49:11.347Z"
   },
   {
    "duration": 24,
    "start_time": "2022-03-17T17:49:11.409Z"
   },
   {
    "duration": 77,
    "start_time": "2022-03-17T17:49:11.436Z"
   },
   {
    "duration": 6,
    "start_time": "2022-03-17T17:49:11.516Z"
   },
   {
    "duration": 15,
    "start_time": "2022-03-17T17:49:11.525Z"
   },
   {
    "duration": 57,
    "start_time": "2022-03-17T17:49:11.543Z"
   },
   {
    "duration": 29,
    "start_time": "2022-03-17T17:49:11.602Z"
   },
   {
    "duration": 11,
    "start_time": "2022-03-17T17:49:11.634Z"
   },
   {
    "duration": 61,
    "start_time": "2022-03-17T17:49:11.647Z"
   },
   {
    "duration": 36,
    "start_time": "2022-03-17T17:49:11.710Z"
   },
   {
    "duration": 60,
    "start_time": "2022-03-17T17:49:11.748Z"
   },
   {
    "duration": 34,
    "start_time": "2022-03-17T17:49:11.811Z"
   },
   {
    "duration": 38,
    "start_time": "2022-03-17T17:49:11.847Z"
   },
   {
    "duration": 7,
    "start_time": "2022-03-17T17:49:11.888Z"
   },
   {
    "duration": 14,
    "start_time": "2022-03-17T17:49:11.898Z"
   },
   {
    "duration": 16,
    "start_time": "2022-03-17T17:49:11.915Z"
   },
   {
    "duration": 69,
    "start_time": "2022-03-17T17:49:11.934Z"
   },
   {
    "duration": 7,
    "start_time": "2022-03-17T17:49:12.005Z"
   },
   {
    "duration": 11,
    "start_time": "2022-03-17T17:49:12.014Z"
   },
   {
    "duration": 52,
    "start_time": "2022-03-17T17:49:12.034Z"
   },
   {
    "duration": 20,
    "start_time": "2022-03-17T17:49:12.089Z"
   },
   {
    "duration": 280,
    "start_time": "2022-03-17T17:49:12.111Z"
   },
   {
    "duration": 4,
    "start_time": "2022-03-17T17:49:12.394Z"
   },
   {
    "duration": 95,
    "start_time": "2022-03-17T17:49:12.401Z"
   },
   {
    "duration": 12,
    "start_time": "2022-03-17T17:49:12.499Z"
   },
   {
    "duration": 15,
    "start_time": "2022-03-17T17:49:12.514Z"
   },
   {
    "duration": 14,
    "start_time": "2022-03-17T17:49:12.531Z"
   },
   {
    "duration": 76,
    "start_time": "2022-03-17T17:49:12.547Z"
   },
   {
    "duration": 12,
    "start_time": "2022-03-17T17:49:12.625Z"
   },
   {
    "duration": 53,
    "start_time": "2022-03-17T17:49:12.640Z"
   },
   {
    "duration": 30,
    "start_time": "2022-03-17T17:49:12.696Z"
   },
   {
    "duration": 12,
    "start_time": "2022-03-17T17:49:12.729Z"
   },
   {
    "duration": 55,
    "start_time": "2022-03-17T17:49:12.744Z"
   },
   {
    "duration": 33,
    "start_time": "2022-03-17T17:49:12.801Z"
   },
   {
    "duration": 5,
    "start_time": "2022-03-17T17:49:12.837Z"
   },
   {
    "duration": 44,
    "start_time": "2022-03-17T17:49:12.845Z"
   },
   {
    "duration": 28,
    "start_time": "2022-03-17T17:49:12.891Z"
   },
   {
    "duration": 42,
    "start_time": "2022-03-17T17:49:12.922Z"
   },
   {
    "duration": 164,
    "start_time": "2022-03-17T17:49:12.966Z"
   },
   {
    "duration": 8,
    "start_time": "2022-03-17T17:49:13.133Z"
   },
   {
    "duration": 13,
    "start_time": "2022-03-17T17:49:13.143Z"
   },
   {
    "duration": 15,
    "start_time": "2022-03-17T17:49:13.183Z"
   },
   {
    "duration": 5,
    "start_time": "2022-03-17T17:49:13.200Z"
   },
   {
    "duration": 209,
    "start_time": "2022-03-17T17:49:13.207Z"
   },
   {
    "duration": 5,
    "start_time": "2022-03-17T17:49:13.419Z"
   },
   {
    "duration": 22,
    "start_time": "2022-03-17T17:49:13.426Z"
   },
   {
    "duration": 37,
    "start_time": "2022-03-17T17:49:13.451Z"
   },
   {
    "duration": 37,
    "start_time": "2022-03-17T17:49:13.491Z"
   },
   {
    "duration": 9,
    "start_time": "2022-03-17T17:49:13.531Z"
   },
   {
    "duration": 58,
    "start_time": "2022-03-17T17:49:13.543Z"
   },
   {
    "duration": 5,
    "start_time": "2022-03-17T17:49:13.603Z"
   },
   {
    "duration": 444,
    "start_time": "2022-03-17T17:49:13.610Z"
   },
   {
    "duration": 374,
    "start_time": "2022-03-17T17:49:14.056Z"
   },
   {
    "duration": 19,
    "start_time": "2022-03-17T17:49:14.432Z"
   },
   {
    "duration": 312,
    "start_time": "2022-03-17T17:49:14.454Z"
   },
   {
    "duration": 288,
    "start_time": "2022-03-17T17:49:14.768Z"
   },
   {
    "duration": 33,
    "start_time": "2022-03-17T17:49:15.059Z"
   },
   {
    "duration": 438,
    "start_time": "2022-03-17T17:49:15.096Z"
   },
   {
    "duration": 445,
    "start_time": "2022-03-17T17:49:15.536Z"
   },
   {
    "duration": 19,
    "start_time": "2022-03-17T17:49:15.984Z"
   },
   {
    "duration": 444,
    "start_time": "2022-03-17T17:49:16.005Z"
   },
   {
    "duration": 417,
    "start_time": "2022-03-17T17:49:16.452Z"
   },
   {
    "duration": 28,
    "start_time": "2022-03-17T17:49:16.872Z"
   },
   {
    "duration": 429,
    "start_time": "2022-03-17T17:49:16.902Z"
   },
   {
    "duration": 437,
    "start_time": "2022-03-17T17:49:17.333Z"
   },
   {
    "duration": 12,
    "start_time": "2022-03-17T17:49:17.772Z"
   },
   {
    "duration": 7,
    "start_time": "2022-03-17T17:49:17.786Z"
   },
   {
    "duration": 17,
    "start_time": "2022-03-17T17:49:17.795Z"
   },
   {
    "duration": 7,
    "start_time": "2022-03-17T17:49:17.815Z"
   },
   {
    "duration": 8,
    "start_time": "2022-03-17T17:49:17.825Z"
   },
   {
    "duration": 53,
    "start_time": "2022-03-17T17:49:17.835Z"
   },
   {
    "duration": 5,
    "start_time": "2022-03-17T17:49:17.890Z"
   },
   {
    "duration": 11,
    "start_time": "2022-03-17T17:49:17.897Z"
   },
   {
    "duration": 8,
    "start_time": "2022-03-17T17:49:17.917Z"
   },
   {
    "duration": 2493,
    "start_time": "2022-03-17T17:49:17.927Z"
   },
   {
    "duration": 0,
    "start_time": "2022-03-17T17:49:20.423Z"
   },
   {
    "duration": 0,
    "start_time": "2022-03-17T17:49:20.425Z"
   },
   {
    "duration": 0,
    "start_time": "2022-03-17T17:49:20.427Z"
   },
   {
    "duration": 11,
    "start_time": "2022-03-17T17:49:36.007Z"
   },
   {
    "duration": 2536,
    "start_time": "2022-03-17T17:49:38.989Z"
   },
   {
    "duration": 0,
    "start_time": "2022-03-17T17:49:41.528Z"
   },
   {
    "duration": 10,
    "start_time": "2022-03-17T17:49:44.657Z"
   },
   {
    "duration": 5,
    "start_time": "2022-03-17T17:49:47.413Z"
   },
   {
    "duration": 5,
    "start_time": "2022-03-17T17:49:48.230Z"
   },
   {
    "duration": 6,
    "start_time": "2022-03-17T17:52:10.558Z"
   },
   {
    "duration": 7,
    "start_time": "2022-03-17T17:52:26.871Z"
   },
   {
    "duration": 8,
    "start_time": "2022-03-17T17:53:21.468Z"
   },
   {
    "duration": 7,
    "start_time": "2022-03-17T17:53:38.458Z"
   },
   {
    "duration": 49,
    "start_time": "2022-03-18T09:59:39.284Z"
   },
   {
    "duration": 1444,
    "start_time": "2022-03-18T10:05:45.017Z"
   },
   {
    "duration": 385,
    "start_time": "2022-03-18T10:05:46.463Z"
   },
   {
    "duration": 3,
    "start_time": "2022-03-18T10:05:46.850Z"
   },
   {
    "duration": 47,
    "start_time": "2022-03-18T10:05:46.856Z"
   },
   {
    "duration": 80,
    "start_time": "2022-03-18T10:05:46.905Z"
   },
   {
    "duration": 63,
    "start_time": "2022-03-18T10:05:46.986Z"
   },
   {
    "duration": 56,
    "start_time": "2022-03-18T10:05:47.052Z"
   },
   {
    "duration": 64,
    "start_time": "2022-03-18T10:05:47.110Z"
   },
   {
    "duration": 6,
    "start_time": "2022-03-18T10:05:47.175Z"
   },
   {
    "duration": 16,
    "start_time": "2022-03-18T10:05:47.183Z"
   },
   {
    "duration": 41,
    "start_time": "2022-03-18T10:05:47.200Z"
   },
   {
    "duration": 44,
    "start_time": "2022-03-18T10:05:47.243Z"
   },
   {
    "duration": 5,
    "start_time": "2022-03-18T10:05:47.288Z"
   },
   {
    "duration": 11,
    "start_time": "2022-03-18T10:05:47.295Z"
   },
   {
    "duration": 39,
    "start_time": "2022-03-18T10:05:47.307Z"
   },
   {
    "duration": 19,
    "start_time": "2022-03-18T10:05:47.348Z"
   },
   {
    "duration": 7,
    "start_time": "2022-03-18T10:05:47.369Z"
   },
   {
    "duration": 18,
    "start_time": "2022-03-18T10:05:47.378Z"
   },
   {
    "duration": 52,
    "start_time": "2022-03-18T10:05:47.397Z"
   },
   {
    "duration": 20,
    "start_time": "2022-03-18T10:05:47.451Z"
   },
   {
    "duration": 26,
    "start_time": "2022-03-18T10:05:47.473Z"
   },
   {
    "duration": 4,
    "start_time": "2022-03-18T10:05:47.501Z"
   },
   {
    "duration": 31,
    "start_time": "2022-03-18T10:05:47.507Z"
   },
   {
    "duration": 8,
    "start_time": "2022-03-18T10:05:47.540Z"
   },
   {
    "duration": 14,
    "start_time": "2022-03-18T10:05:47.550Z"
   },
   {
    "duration": 23,
    "start_time": "2022-03-18T10:05:47.565Z"
   },
   {
    "duration": 4,
    "start_time": "2022-03-18T10:05:47.590Z"
   },
   {
    "duration": 7,
    "start_time": "2022-03-18T10:05:47.599Z"
   },
   {
    "duration": 35,
    "start_time": "2022-03-18T10:05:47.607Z"
   },
   {
    "duration": 11,
    "start_time": "2022-03-18T10:05:47.644Z"
   },
   {
    "duration": 202,
    "start_time": "2022-03-18T10:05:47.656Z"
   },
   {
    "duration": 2,
    "start_time": "2022-03-18T10:05:47.860Z"
   },
   {
    "duration": 57,
    "start_time": "2022-03-18T10:05:47.864Z"
   },
   {
    "duration": 14,
    "start_time": "2022-03-18T10:05:47.923Z"
   },
   {
    "duration": 8,
    "start_time": "2022-03-18T10:05:47.939Z"
   },
   {
    "duration": 10,
    "start_time": "2022-03-18T10:05:47.948Z"
   },
   {
    "duration": 31,
    "start_time": "2022-03-18T10:05:47.960Z"
   },
   {
    "duration": 7,
    "start_time": "2022-03-18T10:05:47.992Z"
   },
   {
    "duration": 44,
    "start_time": "2022-03-18T10:05:48.001Z"
   },
   {
    "duration": 17,
    "start_time": "2022-03-18T10:05:48.047Z"
   },
   {
    "duration": 7,
    "start_time": "2022-03-18T10:05:48.066Z"
   },
   {
    "duration": 16,
    "start_time": "2022-03-18T10:05:48.075Z"
   },
   {
    "duration": 46,
    "start_time": "2022-03-18T10:05:48.092Z"
   },
   {
    "duration": 5,
    "start_time": "2022-03-18T10:05:48.139Z"
   },
   {
    "duration": 11,
    "start_time": "2022-03-18T10:05:48.145Z"
   },
   {
    "duration": 15,
    "start_time": "2022-03-18T10:05:48.157Z"
   },
   {
    "duration": 21,
    "start_time": "2022-03-18T10:05:48.173Z"
   },
   {
    "duration": 104,
    "start_time": "2022-03-18T10:05:48.195Z"
   },
   {
    "duration": 5,
    "start_time": "2022-03-18T10:05:48.301Z"
   },
   {
    "duration": 32,
    "start_time": "2022-03-18T10:05:48.308Z"
   },
   {
    "duration": 14,
    "start_time": "2022-03-18T10:05:48.341Z"
   },
   {
    "duration": 4,
    "start_time": "2022-03-18T10:05:48.357Z"
   },
   {
    "duration": 119,
    "start_time": "2022-03-18T10:05:48.362Z"
   },
   {
    "duration": 4,
    "start_time": "2022-03-18T10:05:48.483Z"
   },
   {
    "duration": 13,
    "start_time": "2022-03-18T10:05:48.489Z"
   },
   {
    "duration": 7,
    "start_time": "2022-03-18T10:05:48.504Z"
   },
   {
    "duration": 40,
    "start_time": "2022-03-18T10:05:48.512Z"
   },
   {
    "duration": 5,
    "start_time": "2022-03-18T10:05:48.554Z"
   },
   {
    "duration": 49,
    "start_time": "2022-03-18T10:05:48.561Z"
   },
   {
    "duration": 3,
    "start_time": "2022-03-18T10:05:48.611Z"
   },
   {
    "duration": 355,
    "start_time": "2022-03-18T10:05:48.616Z"
   },
   {
    "duration": 272,
    "start_time": "2022-03-18T10:05:48.974Z"
   },
   {
    "duration": 13,
    "start_time": "2022-03-18T10:05:49.248Z"
   },
   {
    "duration": 304,
    "start_time": "2022-03-18T10:05:49.263Z"
   },
   {
    "duration": 184,
    "start_time": "2022-03-18T10:05:49.569Z"
   },
   {
    "duration": 12,
    "start_time": "2022-03-18T10:05:49.755Z"
   },
   {
    "duration": 274,
    "start_time": "2022-03-18T10:05:49.769Z"
   },
   {
    "duration": 297,
    "start_time": "2022-03-18T10:05:50.045Z"
   },
   {
    "duration": 12,
    "start_time": "2022-03-18T10:05:50.344Z"
   },
   {
    "duration": 326,
    "start_time": "2022-03-18T10:05:50.358Z"
   },
   {
    "duration": 348,
    "start_time": "2022-03-18T10:05:50.738Z"
   },
   {
    "duration": 14,
    "start_time": "2022-03-18T10:05:51.088Z"
   },
   {
    "duration": 308,
    "start_time": "2022-03-18T10:05:51.104Z"
   },
   {
    "duration": 297,
    "start_time": "2022-03-18T10:05:51.414Z"
   },
   {
    "duration": 3,
    "start_time": "2022-03-18T10:05:51.713Z"
   },
   {
    "duration": 21,
    "start_time": "2022-03-18T10:05:51.718Z"
   },
   {
    "duration": 18,
    "start_time": "2022-03-18T10:05:51.740Z"
   },
   {
    "duration": 10,
    "start_time": "2022-03-18T10:05:51.759Z"
   },
   {
    "duration": 10,
    "start_time": "2022-03-18T10:05:51.770Z"
   },
   {
    "duration": 27,
    "start_time": "2022-03-18T10:05:51.781Z"
   },
   {
    "duration": 7,
    "start_time": "2022-03-18T10:05:51.809Z"
   },
   {
    "duration": 23,
    "start_time": "2022-03-18T10:05:51.821Z"
   },
   {
    "duration": 26,
    "start_time": "2022-03-18T10:05:51.846Z"
   },
   {
    "duration": 14,
    "start_time": "2022-03-18T10:05:51.873Z"
   },
   {
    "duration": 13,
    "start_time": "2022-03-18T10:05:51.888Z"
   },
   {
    "duration": 9,
    "start_time": "2022-03-18T10:05:51.903Z"
   },
   {
    "duration": 10,
    "start_time": "2022-03-18T10:05:51.913Z"
   },
   {
    "duration": 16,
    "start_time": "2022-03-18T10:05:51.925Z"
   },
   {
    "duration": 14,
    "start_time": "2022-03-18T10:05:51.943Z"
   },
   {
    "duration": 21,
    "start_time": "2022-03-18T10:05:51.958Z"
   },
   {
    "duration": 20,
    "start_time": "2022-03-18T10:05:51.981Z"
   },
   {
    "duration": 3,
    "start_time": "2022-03-18T10:12:36.183Z"
   },
   {
    "duration": 439,
    "start_time": "2022-03-18T10:12:36.188Z"
   },
   {
    "duration": 4,
    "start_time": "2022-03-18T10:12:36.629Z"
   },
   {
    "duration": 47,
    "start_time": "2022-03-18T10:12:36.635Z"
   },
   {
    "duration": 90,
    "start_time": "2022-03-18T10:12:36.685Z"
   },
   {
    "duration": 60,
    "start_time": "2022-03-18T10:12:36.777Z"
   },
   {
    "duration": 57,
    "start_time": "2022-03-18T10:12:36.839Z"
   },
   {
    "duration": 71,
    "start_time": "2022-03-18T10:12:36.897Z"
   },
   {
    "duration": 6,
    "start_time": "2022-03-18T10:12:36.969Z"
   },
   {
    "duration": 22,
    "start_time": "2022-03-18T10:12:36.977Z"
   },
   {
    "duration": 37,
    "start_time": "2022-03-18T10:12:37.002Z"
   },
   {
    "duration": 34,
    "start_time": "2022-03-18T10:12:37.041Z"
   },
   {
    "duration": 5,
    "start_time": "2022-03-18T10:12:37.077Z"
   },
   {
    "duration": 9,
    "start_time": "2022-03-18T10:12:37.084Z"
   },
   {
    "duration": 47,
    "start_time": "2022-03-18T10:12:37.095Z"
   },
   {
    "duration": 18,
    "start_time": "2022-03-18T10:12:37.144Z"
   },
   {
    "duration": 8,
    "start_time": "2022-03-18T10:12:37.164Z"
   },
   {
    "duration": 18,
    "start_time": "2022-03-18T10:12:37.174Z"
   },
   {
    "duration": 52,
    "start_time": "2022-03-18T10:12:37.194Z"
   },
   {
    "duration": 19,
    "start_time": "2022-03-18T10:12:37.248Z"
   },
   {
    "duration": 27,
    "start_time": "2022-03-18T10:12:37.268Z"
   },
   {
    "duration": 4,
    "start_time": "2022-03-18T10:12:37.297Z"
   },
   {
    "duration": 36,
    "start_time": "2022-03-18T10:12:37.302Z"
   },
   {
    "duration": 12,
    "start_time": "2022-03-18T10:12:37.340Z"
   },
   {
    "duration": 11,
    "start_time": "2022-03-18T10:12:37.354Z"
   },
   {
    "duration": 18,
    "start_time": "2022-03-18T10:12:37.367Z"
   },
   {
    "duration": 4,
    "start_time": "2022-03-18T10:12:37.386Z"
   },
   {
    "duration": 6,
    "start_time": "2022-03-18T10:12:37.392Z"
   },
   {
    "duration": 40,
    "start_time": "2022-03-18T10:12:37.403Z"
   },
   {
    "duration": 11,
    "start_time": "2022-03-18T10:12:37.445Z"
   },
   {
    "duration": 193,
    "start_time": "2022-03-18T10:12:37.458Z"
   },
   {
    "duration": 4,
    "start_time": "2022-03-18T10:12:37.653Z"
   },
   {
    "duration": 49,
    "start_time": "2022-03-18T10:12:37.659Z"
   },
   {
    "duration": 30,
    "start_time": "2022-03-18T10:12:37.710Z"
   },
   {
    "duration": 11,
    "start_time": "2022-03-18T10:12:37.743Z"
   },
   {
    "duration": 18,
    "start_time": "2022-03-18T10:12:37.756Z"
   },
   {
    "duration": 32,
    "start_time": "2022-03-18T10:12:37.776Z"
   },
   {
    "duration": 30,
    "start_time": "2022-03-18T10:12:37.810Z"
   },
   {
    "duration": 17,
    "start_time": "2022-03-18T10:12:37.842Z"
   },
   {
    "duration": 34,
    "start_time": "2022-03-18T10:12:37.861Z"
   },
   {
    "duration": 7,
    "start_time": "2022-03-18T10:12:37.897Z"
   },
   {
    "duration": 34,
    "start_time": "2022-03-18T10:12:37.906Z"
   },
   {
    "duration": 16,
    "start_time": "2022-03-18T10:12:37.942Z"
   },
   {
    "duration": 4,
    "start_time": "2022-03-18T10:12:37.960Z"
   },
   {
    "duration": 13,
    "start_time": "2022-03-18T10:12:37.965Z"
   },
   {
    "duration": 12,
    "start_time": "2022-03-18T10:12:37.979Z"
   },
   {
    "duration": 50,
    "start_time": "2022-03-18T10:12:37.992Z"
   },
   {
    "duration": 93,
    "start_time": "2022-03-18T10:12:38.044Z"
   },
   {
    "duration": 7,
    "start_time": "2022-03-18T10:12:38.139Z"
   },
   {
    "duration": 17,
    "start_time": "2022-03-18T10:12:38.147Z"
   },
   {
    "duration": 13,
    "start_time": "2022-03-18T10:12:38.166Z"
   },
   {
    "duration": 3,
    "start_time": "2022-03-18T10:12:38.181Z"
   },
   {
    "duration": 117,
    "start_time": "2022-03-18T10:12:38.186Z"
   },
   {
    "duration": 4,
    "start_time": "2022-03-18T10:12:38.305Z"
   },
   {
    "duration": 27,
    "start_time": "2022-03-18T10:12:38.310Z"
   },
   {
    "duration": 8,
    "start_time": "2022-03-18T10:12:38.339Z"
   },
   {
    "duration": 22,
    "start_time": "2022-03-18T10:12:38.349Z"
   },
   {
    "duration": 7,
    "start_time": "2022-03-18T10:12:38.373Z"
   },
   {
    "duration": 17,
    "start_time": "2022-03-18T10:12:38.382Z"
   },
   {
    "duration": 37,
    "start_time": "2022-03-18T10:12:38.401Z"
   },
   {
    "duration": 281,
    "start_time": "2022-03-18T10:12:38.440Z"
   },
   {
    "duration": 275,
    "start_time": "2022-03-18T10:12:38.723Z"
   },
   {
    "duration": 15,
    "start_time": "2022-03-18T10:12:39.000Z"
   },
   {
    "duration": 190,
    "start_time": "2022-03-18T10:12:39.017Z"
   },
   {
    "duration": 171,
    "start_time": "2022-03-18T10:12:39.209Z"
   },
   {
    "duration": 14,
    "start_time": "2022-03-18T10:12:39.381Z"
   },
   {
    "duration": 430,
    "start_time": "2022-03-18T10:12:39.396Z"
   },
   {
    "duration": 297,
    "start_time": "2022-03-18T10:12:39.827Z"
   },
   {
    "duration": 21,
    "start_time": "2022-03-18T10:12:40.126Z"
   },
   {
    "duration": 263,
    "start_time": "2022-03-18T10:12:40.149Z"
   },
   {
    "duration": 310,
    "start_time": "2022-03-18T10:12:40.414Z"
   },
   {
    "duration": 22,
    "start_time": "2022-03-18T10:12:40.726Z"
   },
   {
    "duration": 275,
    "start_time": "2022-03-18T10:12:40.751Z"
   },
   {
    "duration": 316,
    "start_time": "2022-03-18T10:12:41.028Z"
   },
   {
    "duration": 4,
    "start_time": "2022-03-18T10:12:41.346Z"
   },
   {
    "duration": 14,
    "start_time": "2022-03-18T10:12:41.352Z"
   },
   {
    "duration": 13,
    "start_time": "2022-03-18T10:12:41.368Z"
   },
   {
    "duration": 18,
    "start_time": "2022-03-18T10:12:41.382Z"
   },
   {
    "duration": 12,
    "start_time": "2022-03-18T10:12:41.401Z"
   },
   {
    "duration": 24,
    "start_time": "2022-03-18T10:12:41.415Z"
   },
   {
    "duration": 23,
    "start_time": "2022-03-18T10:12:41.440Z"
   },
   {
    "duration": 8,
    "start_time": "2022-03-18T10:12:41.464Z"
   },
   {
    "duration": 29,
    "start_time": "2022-03-18T10:12:41.478Z"
   },
   {
    "duration": 21,
    "start_time": "2022-03-18T10:12:41.509Z"
   },
   {
    "duration": 34,
    "start_time": "2022-03-18T10:12:41.532Z"
   },
   {
    "duration": 21,
    "start_time": "2022-03-18T10:12:41.568Z"
   },
   {
    "duration": 10,
    "start_time": "2022-03-18T10:12:41.590Z"
   },
   {
    "duration": 21,
    "start_time": "2022-03-18T10:12:41.601Z"
   },
   {
    "duration": 17,
    "start_time": "2022-03-18T10:12:41.624Z"
   },
   {
    "duration": 69,
    "start_time": "2022-03-18T10:12:41.643Z"
   },
   {
    "duration": 5,
    "start_time": "2022-03-18T10:12:59.071Z"
   },
   {
    "duration": 6,
    "start_time": "2022-03-18T10:41:28.658Z"
   },
   {
    "duration": 8,
    "start_time": "2022-03-18T10:41:53.363Z"
   },
   {
    "duration": 7,
    "start_time": "2022-03-18T10:42:02.758Z"
   },
   {
    "duration": 17,
    "start_time": "2022-03-18T10:53:15.670Z"
   },
   {
    "duration": 202,
    "start_time": "2022-03-18T10:53:39.571Z"
   },
   {
    "duration": 356,
    "start_time": "2022-03-18T10:54:44.897Z"
   },
   {
    "duration": 176,
    "start_time": "2022-03-18T10:57:36.786Z"
   },
   {
    "duration": 192,
    "start_time": "2022-03-18T10:57:53.017Z"
   },
   {
    "duration": 312,
    "start_time": "2022-03-18T11:04:21.045Z"
   },
   {
    "duration": 11,
    "start_time": "2022-03-18T11:19:54.740Z"
   },
   {
    "duration": 9,
    "start_time": "2022-03-18T11:41:07.054Z"
   },
   {
    "duration": 1212,
    "start_time": "2022-03-18T11:51:27.619Z"
   },
   {
    "duration": 408,
    "start_time": "2022-03-18T11:51:28.833Z"
   },
   {
    "duration": 3,
    "start_time": "2022-03-18T11:51:29.243Z"
   },
   {
    "duration": 66,
    "start_time": "2022-03-18T11:51:29.248Z"
   },
   {
    "duration": 65,
    "start_time": "2022-03-18T11:51:29.315Z"
   },
   {
    "duration": 71,
    "start_time": "2022-03-18T11:51:29.382Z"
   },
   {
    "duration": 86,
    "start_time": "2022-03-18T11:51:29.454Z"
   },
   {
    "duration": 52,
    "start_time": "2022-03-18T11:51:29.542Z"
   },
   {
    "duration": 5,
    "start_time": "2022-03-18T11:51:29.596Z"
   },
   {
    "duration": 12,
    "start_time": "2022-03-18T11:51:29.638Z"
   },
   {
    "duration": 20,
    "start_time": "2022-03-18T11:51:29.652Z"
   },
   {
    "duration": 37,
    "start_time": "2022-03-18T11:51:29.674Z"
   },
   {
    "duration": 6,
    "start_time": "2022-03-18T11:51:29.715Z"
   },
   {
    "duration": 8,
    "start_time": "2022-03-18T11:51:29.737Z"
   },
   {
    "duration": 23,
    "start_time": "2022-03-18T11:51:29.747Z"
   },
   {
    "duration": 19,
    "start_time": "2022-03-18T11:51:29.772Z"
   },
   {
    "duration": 10,
    "start_time": "2022-03-18T11:51:29.794Z"
   },
   {
    "duration": 18,
    "start_time": "2022-03-18T11:51:29.838Z"
   },
   {
    "duration": 36,
    "start_time": "2022-03-18T11:51:29.859Z"
   },
   {
    "duration": 53,
    "start_time": "2022-03-18T11:51:29.898Z"
   },
   {
    "duration": 41,
    "start_time": "2022-03-18T11:51:29.953Z"
   },
   {
    "duration": 5,
    "start_time": "2022-03-18T11:51:29.996Z"
   },
   {
    "duration": 35,
    "start_time": "2022-03-18T11:51:30.003Z"
   },
   {
    "duration": 20,
    "start_time": "2022-03-18T11:51:30.041Z"
   },
   {
    "duration": 18,
    "start_time": "2022-03-18T11:51:30.063Z"
   },
   {
    "duration": 25,
    "start_time": "2022-03-18T11:51:30.084Z"
   },
   {
    "duration": 5,
    "start_time": "2022-03-18T11:51:30.111Z"
   },
   {
    "duration": 19,
    "start_time": "2022-03-18T11:51:30.120Z"
   },
   {
    "duration": 26,
    "start_time": "2022-03-18T11:51:30.141Z"
   },
   {
    "duration": 21,
    "start_time": "2022-03-18T11:51:30.169Z"
   },
   {
    "duration": 211,
    "start_time": "2022-03-18T11:51:30.193Z"
   },
   {
    "duration": 2,
    "start_time": "2022-03-18T11:51:30.406Z"
   },
   {
    "duration": 64,
    "start_time": "2022-03-18T11:51:30.410Z"
   },
   {
    "duration": 9,
    "start_time": "2022-03-18T11:51:30.475Z"
   },
   {
    "duration": 25,
    "start_time": "2022-03-18T11:51:30.486Z"
   },
   {
    "duration": 21,
    "start_time": "2022-03-18T11:51:30.513Z"
   },
   {
    "duration": 45,
    "start_time": "2022-03-18T11:51:30.536Z"
   },
   {
    "duration": 8,
    "start_time": "2022-03-18T11:51:30.583Z"
   },
   {
    "duration": 28,
    "start_time": "2022-03-18T11:51:30.593Z"
   },
   {
    "duration": 46,
    "start_time": "2022-03-18T11:51:30.623Z"
   },
   {
    "duration": 23,
    "start_time": "2022-03-18T11:51:30.671Z"
   },
   {
    "duration": 48,
    "start_time": "2022-03-18T11:51:30.696Z"
   },
   {
    "duration": 22,
    "start_time": "2022-03-18T11:51:30.746Z"
   },
   {
    "duration": 4,
    "start_time": "2022-03-18T11:51:30.770Z"
   },
   {
    "duration": 18,
    "start_time": "2022-03-18T11:51:30.775Z"
   },
   {
    "duration": 15,
    "start_time": "2022-03-18T11:51:30.795Z"
   },
   {
    "duration": 37,
    "start_time": "2022-03-18T11:51:30.812Z"
   },
   {
    "duration": 109,
    "start_time": "2022-03-18T11:51:30.851Z"
   },
   {
    "duration": 5,
    "start_time": "2022-03-18T11:51:30.962Z"
   },
   {
    "duration": 13,
    "start_time": "2022-03-18T11:51:30.970Z"
   },
   {
    "duration": 27,
    "start_time": "2022-03-18T11:51:30.985Z"
   },
   {
    "duration": 5,
    "start_time": "2022-03-18T11:51:31.014Z"
   },
   {
    "duration": 121,
    "start_time": "2022-03-18T11:51:31.020Z"
   },
   {
    "duration": 4,
    "start_time": "2022-03-18T11:51:31.143Z"
   },
   {
    "duration": 23,
    "start_time": "2022-03-18T11:51:31.149Z"
   },
   {
    "duration": 8,
    "start_time": "2022-03-18T11:51:31.174Z"
   },
   {
    "duration": 27,
    "start_time": "2022-03-18T11:51:31.184Z"
   },
   {
    "duration": 26,
    "start_time": "2022-03-18T11:51:31.213Z"
   },
   {
    "duration": 351,
    "start_time": "2022-03-18T11:51:31.241Z"
   },
   {
    "duration": 60,
    "start_time": "2022-03-18T11:51:31.594Z"
   },
   {
    "duration": 4,
    "start_time": "2022-03-18T11:51:31.656Z"
   },
   {
    "duration": 314,
    "start_time": "2022-03-18T11:51:31.662Z"
   },
   {
    "duration": 328,
    "start_time": "2022-03-18T11:51:31.978Z"
   },
   {
    "duration": 6,
    "start_time": "2022-03-18T11:51:32.308Z"
   },
   {
    "duration": 25,
    "start_time": "2022-03-18T11:51:32.316Z"
   },
   {
    "duration": 197,
    "start_time": "2022-03-18T11:51:32.342Z"
   },
   {
    "duration": 13,
    "start_time": "2022-03-18T11:51:32.541Z"
   },
   {
    "duration": 200,
    "start_time": "2022-03-18T11:51:32.555Z"
   },
   {
    "duration": 193,
    "start_time": "2022-03-18T11:51:32.757Z"
   },
   {
    "duration": 13,
    "start_time": "2022-03-18T11:51:32.951Z"
   },
   {
    "duration": 290,
    "start_time": "2022-03-18T11:51:32.965Z"
   },
   {
    "duration": 395,
    "start_time": "2022-03-18T11:51:33.257Z"
   },
   {
    "duration": 13,
    "start_time": "2022-03-18T11:51:33.654Z"
   },
   {
    "duration": 268,
    "start_time": "2022-03-18T11:51:33.669Z"
   },
   {
    "duration": 274,
    "start_time": "2022-03-18T11:51:33.939Z"
   },
   {
    "duration": 23,
    "start_time": "2022-03-18T11:51:34.215Z"
   },
   {
    "duration": 268,
    "start_time": "2022-03-18T11:51:34.240Z"
   },
   {
    "duration": 306,
    "start_time": "2022-03-18T11:51:34.510Z"
   },
   {
    "duration": 4,
    "start_time": "2022-03-18T11:51:34.818Z"
   },
   {
    "duration": 15,
    "start_time": "2022-03-18T11:51:34.823Z"
   },
   {
    "duration": 7,
    "start_time": "2022-03-18T11:51:34.840Z"
   },
   {
    "duration": 6,
    "start_time": "2022-03-18T11:51:34.852Z"
   },
   {
    "duration": 6,
    "start_time": "2022-03-18T11:51:34.860Z"
   },
   {
    "duration": 11,
    "start_time": "2022-03-18T11:51:34.868Z"
   },
   {
    "duration": 5,
    "start_time": "2022-03-18T11:51:34.880Z"
   },
   {
    "duration": 7,
    "start_time": "2022-03-18T11:51:34.887Z"
   },
   {
    "duration": 6,
    "start_time": "2022-03-18T11:51:34.896Z"
   },
   {
    "duration": 40,
    "start_time": "2022-03-18T11:51:34.904Z"
   },
   {
    "duration": 7,
    "start_time": "2022-03-18T11:51:34.946Z"
   },
   {
    "duration": 26,
    "start_time": "2022-03-18T11:51:34.955Z"
   },
   {
    "duration": 1462,
    "start_time": "2022-03-18T12:09:39.308Z"
   },
   {
    "duration": 462,
    "start_time": "2022-03-18T12:09:40.774Z"
   },
   {
    "duration": 6,
    "start_time": "2022-03-18T12:09:41.238Z"
   },
   {
    "duration": 74,
    "start_time": "2022-03-18T12:09:41.246Z"
   },
   {
    "duration": 100,
    "start_time": "2022-03-18T12:09:41.324Z"
   },
   {
    "duration": 70,
    "start_time": "2022-03-18T12:09:41.426Z"
   },
   {
    "duration": 95,
    "start_time": "2022-03-18T12:09:41.498Z"
   },
   {
    "duration": 87,
    "start_time": "2022-03-18T12:09:41.596Z"
   },
   {
    "duration": 10,
    "start_time": "2022-03-18T12:09:41.686Z"
   },
   {
    "duration": 17,
    "start_time": "2022-03-18T12:09:41.698Z"
   },
   {
    "duration": 14,
    "start_time": "2022-03-18T12:09:41.717Z"
   },
   {
    "duration": 82,
    "start_time": "2022-03-18T12:09:41.733Z"
   },
   {
    "duration": 7,
    "start_time": "2022-03-18T12:09:41.817Z"
   },
   {
    "duration": 12,
    "start_time": "2022-03-18T12:09:41.828Z"
   },
   {
    "duration": 55,
    "start_time": "2022-03-18T12:09:41.842Z"
   },
   {
    "duration": 38,
    "start_time": "2022-03-18T12:09:41.900Z"
   },
   {
    "duration": 11,
    "start_time": "2022-03-18T12:09:41.941Z"
   },
   {
    "duration": 31,
    "start_time": "2022-03-18T12:09:41.983Z"
   },
   {
    "duration": 33,
    "start_time": "2022-03-18T12:09:42.018Z"
   },
   {
    "duration": 66,
    "start_time": "2022-03-18T12:09:42.053Z"
   },
   {
    "duration": 60,
    "start_time": "2022-03-18T12:09:42.122Z"
   },
   {
    "duration": 7,
    "start_time": "2022-03-18T12:09:42.185Z"
   },
   {
    "duration": 8,
    "start_time": "2022-03-18T12:09:42.195Z"
   },
   {
    "duration": 14,
    "start_time": "2022-03-18T12:09:42.206Z"
   },
   {
    "duration": 18,
    "start_time": "2022-03-18T12:09:42.223Z"
   },
   {
    "duration": 70,
    "start_time": "2022-03-18T12:09:42.243Z"
   },
   {
    "duration": 8,
    "start_time": "2022-03-18T12:09:42.316Z"
   },
   {
    "duration": 8,
    "start_time": "2022-03-18T12:09:42.326Z"
   },
   {
    "duration": 45,
    "start_time": "2022-03-18T12:09:42.337Z"
   },
   {
    "duration": 24,
    "start_time": "2022-03-18T12:09:42.385Z"
   },
   {
    "duration": 366,
    "start_time": "2022-03-18T12:09:42.413Z"
   },
   {
    "duration": 5,
    "start_time": "2022-03-18T12:09:42.782Z"
   },
   {
    "duration": 101,
    "start_time": "2022-03-18T12:09:42.790Z"
   },
   {
    "duration": 12,
    "start_time": "2022-03-18T12:09:42.895Z"
   },
   {
    "duration": 14,
    "start_time": "2022-03-18T12:09:42.910Z"
   },
   {
    "duration": 21,
    "start_time": "2022-03-18T12:09:42.926Z"
   },
   {
    "duration": 69,
    "start_time": "2022-03-18T12:09:42.950Z"
   },
   {
    "duration": 10,
    "start_time": "2022-03-18T12:09:43.021Z"
   },
   {
    "duration": 17,
    "start_time": "2022-03-18T12:09:43.034Z"
   },
   {
    "duration": 51,
    "start_time": "2022-03-18T12:09:43.053Z"
   },
   {
    "duration": 11,
    "start_time": "2022-03-18T12:09:43.112Z"
   },
   {
    "duration": 19,
    "start_time": "2022-03-18T12:09:43.125Z"
   },
   {
    "duration": 49,
    "start_time": "2022-03-18T12:09:43.146Z"
   },
   {
    "duration": 6,
    "start_time": "2022-03-18T12:09:43.197Z"
   },
   {
    "duration": 14,
    "start_time": "2022-03-18T12:09:43.205Z"
   },
   {
    "duration": 14,
    "start_time": "2022-03-18T12:09:43.221Z"
   },
   {
    "duration": 72,
    "start_time": "2022-03-18T12:09:43.237Z"
   },
   {
    "duration": 153,
    "start_time": "2022-03-18T12:09:43.312Z"
   },
   {
    "duration": 19,
    "start_time": "2022-03-18T12:09:43.468Z"
   },
   {
    "duration": 13,
    "start_time": "2022-03-18T12:09:43.489Z"
   },
   {
    "duration": 21,
    "start_time": "2022-03-18T12:09:43.505Z"
   },
   {
    "duration": 7,
    "start_time": "2022-03-18T12:09:43.529Z"
   },
   {
    "duration": 333,
    "start_time": "2022-03-18T12:09:43.539Z"
   },
   {
    "duration": 11,
    "start_time": "2022-03-18T12:09:43.874Z"
   },
   {
    "duration": 29,
    "start_time": "2022-03-18T12:09:43.888Z"
   },
   {
    "duration": 14,
    "start_time": "2022-03-18T12:09:43.920Z"
   },
   {
    "duration": 80,
    "start_time": "2022-03-18T12:09:43.937Z"
   },
   {
    "duration": 10,
    "start_time": "2022-03-18T12:09:44.020Z"
   },
   {
    "duration": 550,
    "start_time": "2022-03-18T12:09:44.033Z"
   },
   {
    "duration": 69,
    "start_time": "2022-03-18T12:09:44.587Z"
   },
   {
    "duration": 25,
    "start_time": "2022-03-18T12:09:44.659Z"
   },
   {
    "duration": 395,
    "start_time": "2022-03-18T12:09:44.687Z"
   },
   {
    "duration": 344,
    "start_time": "2022-03-18T12:09:45.084Z"
   },
   {
    "duration": 8,
    "start_time": "2022-03-18T12:09:45.430Z"
   },
   {
    "duration": 12,
    "start_time": "2022-03-18T12:09:45.440Z"
   },
   {
    "duration": 316,
    "start_time": "2022-03-18T12:09:45.454Z"
   },
   {
    "duration": 23,
    "start_time": "2022-03-18T12:09:45.772Z"
   },
   {
    "duration": 298,
    "start_time": "2022-03-18T12:09:45.797Z"
   },
   {
    "duration": 287,
    "start_time": "2022-03-18T12:09:46.097Z"
   },
   {
    "duration": 21,
    "start_time": "2022-03-18T12:09:46.387Z"
   },
   {
    "duration": 438,
    "start_time": "2022-03-18T12:09:46.410Z"
   },
   {
    "duration": 512,
    "start_time": "2022-03-18T12:09:46.851Z"
   },
   {
    "duration": 33,
    "start_time": "2022-03-18T12:09:47.366Z"
   },
   {
    "duration": 421,
    "start_time": "2022-03-18T12:09:47.401Z"
   },
   {
    "duration": 403,
    "start_time": "2022-03-18T12:09:47.825Z"
   },
   {
    "duration": 19,
    "start_time": "2022-03-18T12:09:48.230Z"
   },
   {
    "duration": 382,
    "start_time": "2022-03-18T12:09:48.252Z"
   },
   {
    "duration": 403,
    "start_time": "2022-03-18T12:09:48.636Z"
   },
   {
    "duration": 5,
    "start_time": "2022-03-18T12:09:49.042Z"
   },
   {
    "duration": 7,
    "start_time": "2022-03-18T12:09:49.050Z"
   },
   {
    "duration": 27,
    "start_time": "2022-03-18T12:09:49.059Z"
   },
   {
    "duration": 6,
    "start_time": "2022-03-18T12:09:49.088Z"
   },
   {
    "duration": 10,
    "start_time": "2022-03-18T12:09:49.096Z"
   },
   {
    "duration": 14,
    "start_time": "2022-03-18T12:09:49.108Z"
   },
   {
    "duration": 3,
    "start_time": "2022-03-18T12:09:49.125Z"
   },
   {
    "duration": 9,
    "start_time": "2022-03-18T12:09:49.131Z"
   },
   {
    "duration": 8,
    "start_time": "2022-03-18T12:09:49.142Z"
   },
   {
    "duration": 37,
    "start_time": "2022-03-18T12:09:49.152Z"
   },
   {
    "duration": 12,
    "start_time": "2022-03-18T12:09:49.192Z"
   },
   {
    "duration": 6,
    "start_time": "2022-03-18T12:09:49.207Z"
   },
   {
    "duration": 1589,
    "start_time": "2022-03-18T12:14:15.242Z"
   },
   {
    "duration": 483,
    "start_time": "2022-03-18T12:14:16.834Z"
   },
   {
    "duration": 5,
    "start_time": "2022-03-18T12:14:17.319Z"
   },
   {
    "duration": 82,
    "start_time": "2022-03-18T12:14:17.327Z"
   },
   {
    "duration": 106,
    "start_time": "2022-03-18T12:14:17.412Z"
   },
   {
    "duration": 80,
    "start_time": "2022-03-18T12:14:17.520Z"
   },
   {
    "duration": 99,
    "start_time": "2022-03-18T12:14:17.602Z"
   },
   {
    "duration": 85,
    "start_time": "2022-03-18T12:14:17.703Z"
   },
   {
    "duration": 8,
    "start_time": "2022-03-18T12:14:17.791Z"
   },
   {
    "duration": 19,
    "start_time": "2022-03-18T12:14:17.804Z"
   },
   {
    "duration": 15,
    "start_time": "2022-03-18T12:14:17.825Z"
   },
   {
    "duration": 78,
    "start_time": "2022-03-18T12:14:17.842Z"
   },
   {
    "duration": 6,
    "start_time": "2022-03-18T12:14:17.923Z"
   },
   {
    "duration": 13,
    "start_time": "2022-03-18T12:14:17.931Z"
   },
   {
    "duration": 51,
    "start_time": "2022-03-18T12:14:17.946Z"
   },
   {
    "duration": 30,
    "start_time": "2022-03-18T12:14:17.999Z"
   },
   {
    "duration": 11,
    "start_time": "2022-03-18T12:14:18.032Z"
   },
   {
    "duration": 52,
    "start_time": "2022-03-18T12:14:18.046Z"
   },
   {
    "duration": 34,
    "start_time": "2022-03-18T12:14:18.100Z"
   },
   {
    "duration": 50,
    "start_time": "2022-03-18T12:14:18.136Z"
   },
   {
    "duration": 34,
    "start_time": "2022-03-18T12:14:18.188Z"
   },
   {
    "duration": 6,
    "start_time": "2022-03-18T12:14:18.224Z"
   },
   {
    "duration": 13,
    "start_time": "2022-03-18T12:14:18.232Z"
   },
   {
    "duration": 35,
    "start_time": "2022-03-18T12:14:18.248Z"
   },
   {
    "duration": 15,
    "start_time": "2022-03-18T12:14:18.286Z"
   },
   {
    "duration": 24,
    "start_time": "2022-03-18T12:14:18.303Z"
   },
   {
    "duration": 7,
    "start_time": "2022-03-18T12:14:18.330Z"
   },
   {
    "duration": 38,
    "start_time": "2022-03-18T12:14:18.344Z"
   },
   {
    "duration": 11,
    "start_time": "2022-03-18T12:14:18.385Z"
   },
   {
    "duration": 25,
    "start_time": "2022-03-18T12:14:18.398Z"
   },
   {
    "duration": 257,
    "start_time": "2022-03-18T12:14:18.426Z"
   },
   {
    "duration": 4,
    "start_time": "2022-03-18T12:14:18.685Z"
   },
   {
    "duration": 84,
    "start_time": "2022-03-18T12:14:18.692Z"
   },
   {
    "duration": 11,
    "start_time": "2022-03-18T12:14:18.779Z"
   },
   {
    "duration": 39,
    "start_time": "2022-03-18T12:14:18.792Z"
   },
   {
    "duration": 11,
    "start_time": "2022-03-18T12:14:18.833Z"
   },
   {
    "duration": 52,
    "start_time": "2022-03-18T12:14:18.846Z"
   },
   {
    "duration": 10,
    "start_time": "2022-03-18T12:14:18.901Z"
   },
   {
    "duration": 23,
    "start_time": "2022-03-18T12:14:18.913Z"
   },
   {
    "duration": 45,
    "start_time": "2022-03-18T12:14:18.939Z"
   },
   {
    "duration": 13,
    "start_time": "2022-03-18T12:14:18.986Z"
   },
   {
    "duration": 28,
    "start_time": "2022-03-18T12:14:19.001Z"
   },
   {
    "duration": 37,
    "start_time": "2022-03-18T12:14:19.031Z"
   },
   {
    "duration": 14,
    "start_time": "2022-03-18T12:14:19.070Z"
   },
   {
    "duration": 27,
    "start_time": "2022-03-18T12:14:19.087Z"
   },
   {
    "duration": 29,
    "start_time": "2022-03-18T12:14:19.117Z"
   },
   {
    "duration": 48,
    "start_time": "2022-03-18T12:14:19.148Z"
   },
   {
    "duration": 138,
    "start_time": "2022-03-18T12:14:19.199Z"
   },
   {
    "duration": 8,
    "start_time": "2022-03-18T12:14:19.340Z"
   },
   {
    "duration": 38,
    "start_time": "2022-03-18T12:14:19.350Z"
   },
   {
    "duration": 40,
    "start_time": "2022-03-18T12:14:19.390Z"
   },
   {
    "duration": 19,
    "start_time": "2022-03-18T12:14:19.432Z"
   },
   {
    "duration": 199,
    "start_time": "2022-03-18T12:14:19.453Z"
   },
   {
    "duration": 6,
    "start_time": "2022-03-18T12:14:19.654Z"
   },
   {
    "duration": 29,
    "start_time": "2022-03-18T12:14:19.662Z"
   },
   {
    "duration": 10,
    "start_time": "2022-03-18T12:14:19.694Z"
   },
   {
    "duration": 33,
    "start_time": "2022-03-18T12:14:19.706Z"
   },
   {
    "duration": 16,
    "start_time": "2022-03-18T12:14:19.741Z"
   },
   {
    "duration": 472,
    "start_time": "2022-03-18T12:14:19.760Z"
   },
   {
    "duration": 81,
    "start_time": "2022-03-18T12:14:20.234Z"
   },
   {
    "duration": 4,
    "start_time": "2022-03-18T12:14:20.318Z"
   },
   {
    "duration": 421,
    "start_time": "2022-03-18T12:14:20.324Z"
   },
   {
    "duration": 377,
    "start_time": "2022-03-18T12:14:20.748Z"
   },
   {
    "duration": 10,
    "start_time": "2022-03-18T12:14:21.128Z"
   },
   {
    "duration": 10,
    "start_time": "2022-03-18T12:14:21.140Z"
   },
   {
    "duration": 338,
    "start_time": "2022-03-18T12:14:21.152Z"
   },
   {
    "duration": 20,
    "start_time": "2022-03-18T12:14:21.492Z"
   },
   {
    "duration": 310,
    "start_time": "2022-03-18T12:14:21.515Z"
   },
   {
    "duration": 293,
    "start_time": "2022-03-18T12:14:21.827Z"
   },
   {
    "duration": 23,
    "start_time": "2022-03-18T12:14:22.122Z"
   },
   {
    "duration": 421,
    "start_time": "2022-03-18T12:14:22.147Z"
   },
   {
    "duration": 495,
    "start_time": "2022-03-18T12:14:22.570Z"
   },
   {
    "duration": 26,
    "start_time": "2022-03-18T12:14:23.067Z"
   },
   {
    "duration": 392,
    "start_time": "2022-03-18T12:14:23.096Z"
   },
   {
    "duration": 401,
    "start_time": "2022-03-18T12:14:23.490Z"
   },
   {
    "duration": 19,
    "start_time": "2022-03-18T12:14:23.893Z"
   },
   {
    "duration": 432,
    "start_time": "2022-03-18T12:14:23.914Z"
   },
   {
    "duration": 423,
    "start_time": "2022-03-18T12:14:24.348Z"
   },
   {
    "duration": 9,
    "start_time": "2022-03-18T12:14:24.773Z"
   },
   {
    "duration": 10,
    "start_time": "2022-03-18T12:14:24.784Z"
   },
   {
    "duration": 10,
    "start_time": "2022-03-18T12:14:24.797Z"
   },
   {
    "duration": 3,
    "start_time": "2022-03-18T12:14:24.815Z"
   },
   {
    "duration": 9,
    "start_time": "2022-03-18T12:14:24.821Z"
   },
   {
    "duration": 13,
    "start_time": "2022-03-18T12:14:24.832Z"
   },
   {
    "duration": 34,
    "start_time": "2022-03-18T12:14:24.848Z"
   },
   {
    "duration": 8,
    "start_time": "2022-03-18T12:14:24.885Z"
   },
   {
    "duration": 11,
    "start_time": "2022-03-18T12:14:24.896Z"
   },
   {
    "duration": 8,
    "start_time": "2022-03-18T12:14:24.909Z"
   },
   {
    "duration": 9,
    "start_time": "2022-03-18T12:14:24.920Z"
   },
   {
    "duration": 7,
    "start_time": "2022-03-18T12:14:24.931Z"
   },
   {
    "duration": 1481,
    "start_time": "2022-03-18T12:16:56.796Z"
   },
   {
    "duration": 491,
    "start_time": "2022-03-18T12:16:58.281Z"
   },
   {
    "duration": 6,
    "start_time": "2022-03-18T12:16:58.778Z"
   },
   {
    "duration": 67,
    "start_time": "2022-03-18T12:16:58.786Z"
   },
   {
    "duration": 100,
    "start_time": "2022-03-18T12:16:58.855Z"
   },
   {
    "duration": 74,
    "start_time": "2022-03-18T12:16:58.958Z"
   },
   {
    "duration": 106,
    "start_time": "2022-03-18T12:16:59.035Z"
   },
   {
    "duration": 81,
    "start_time": "2022-03-18T12:16:59.143Z"
   },
   {
    "duration": 8,
    "start_time": "2022-03-18T12:16:59.229Z"
   },
   {
    "duration": 44,
    "start_time": "2022-03-18T12:16:59.240Z"
   },
   {
    "duration": 23,
    "start_time": "2022-03-18T12:16:59.287Z"
   },
   {
    "duration": 93,
    "start_time": "2022-03-18T12:16:59.313Z"
   },
   {
    "duration": 8,
    "start_time": "2022-03-18T12:16:59.410Z"
   },
   {
    "duration": 13,
    "start_time": "2022-03-18T12:16:59.421Z"
   },
   {
    "duration": 50,
    "start_time": "2022-03-18T12:16:59.437Z"
   },
   {
    "duration": 28,
    "start_time": "2022-03-18T12:16:59.489Z"
   },
   {
    "duration": 11,
    "start_time": "2022-03-18T12:16:59.519Z"
   },
   {
    "duration": 49,
    "start_time": "2022-03-18T12:16:59.533Z"
   },
   {
    "duration": 33,
    "start_time": "2022-03-18T12:16:59.585Z"
   },
   {
    "duration": 30,
    "start_time": "2022-03-18T12:16:59.621Z"
   },
   {
    "duration": 59,
    "start_time": "2022-03-18T12:16:59.654Z"
   },
   {
    "duration": 6,
    "start_time": "2022-03-18T12:16:59.715Z"
   },
   {
    "duration": 7,
    "start_time": "2022-03-18T12:16:59.723Z"
   },
   {
    "duration": 13,
    "start_time": "2022-03-18T12:16:59.732Z"
   },
   {
    "duration": 43,
    "start_time": "2022-03-18T12:16:59.747Z"
   },
   {
    "duration": 28,
    "start_time": "2022-03-18T12:16:59.793Z"
   },
   {
    "duration": 6,
    "start_time": "2022-03-18T12:16:59.828Z"
   },
   {
    "duration": 14,
    "start_time": "2022-03-18T12:16:59.837Z"
   },
   {
    "duration": 30,
    "start_time": "2022-03-18T12:16:59.853Z"
   },
   {
    "duration": 20,
    "start_time": "2022-03-18T12:16:59.886Z"
   },
   {
    "duration": 275,
    "start_time": "2022-03-18T12:16:59.908Z"
   },
   {
    "duration": 4,
    "start_time": "2022-03-18T12:17:00.186Z"
   },
   {
    "duration": 74,
    "start_time": "2022-03-18T12:17:00.192Z"
   },
   {
    "duration": 35,
    "start_time": "2022-03-18T12:17:00.268Z"
   },
   {
    "duration": 24,
    "start_time": "2022-03-18T12:17:00.306Z"
   },
   {
    "duration": 26,
    "start_time": "2022-03-18T12:17:00.332Z"
   },
   {
    "duration": 50,
    "start_time": "2022-03-18T12:17:00.360Z"
   },
   {
    "duration": 12,
    "start_time": "2022-03-18T12:17:00.413Z"
   },
   {
    "duration": 27,
    "start_time": "2022-03-18T12:17:00.427Z"
   },
   {
    "duration": 49,
    "start_time": "2022-03-18T12:17:00.456Z"
   },
   {
    "duration": 10,
    "start_time": "2022-03-18T12:17:00.508Z"
   },
   {
    "duration": 31,
    "start_time": "2022-03-18T12:17:00.521Z"
   },
   {
    "duration": 35,
    "start_time": "2022-03-18T12:17:00.554Z"
   },
   {
    "duration": 15,
    "start_time": "2022-03-18T12:17:00.592Z"
   },
   {
    "duration": 27,
    "start_time": "2022-03-18T12:17:00.609Z"
   },
   {
    "duration": 27,
    "start_time": "2022-03-18T12:17:00.638Z"
   },
   {
    "duration": 50,
    "start_time": "2022-03-18T12:17:00.667Z"
   },
   {
    "duration": 146,
    "start_time": "2022-03-18T12:17:00.720Z"
   },
   {
    "duration": 8,
    "start_time": "2022-03-18T12:17:00.883Z"
   },
   {
    "duration": 36,
    "start_time": "2022-03-18T12:17:00.894Z"
   },
   {
    "duration": 31,
    "start_time": "2022-03-18T12:17:00.932Z"
   },
   {
    "duration": 6,
    "start_time": "2022-03-18T12:17:00.965Z"
   },
   {
    "duration": 209,
    "start_time": "2022-03-18T12:17:00.973Z"
   },
   {
    "duration": 6,
    "start_time": "2022-03-18T12:17:01.184Z"
   },
   {
    "duration": 52,
    "start_time": "2022-03-18T12:17:01.193Z"
   },
   {
    "duration": 17,
    "start_time": "2022-03-18T12:17:01.247Z"
   },
   {
    "duration": 47,
    "start_time": "2022-03-18T12:17:01.266Z"
   },
   {
    "duration": 22,
    "start_time": "2022-03-18T12:17:01.316Z"
   },
   {
    "duration": 501,
    "start_time": "2022-03-18T12:17:01.341Z"
   },
   {
    "duration": 84,
    "start_time": "2022-03-18T12:17:01.845Z"
   },
   {
    "duration": 4,
    "start_time": "2022-03-18T12:17:01.932Z"
   },
   {
    "duration": 492,
    "start_time": "2022-03-18T12:17:01.938Z"
   },
   {
    "duration": 439,
    "start_time": "2022-03-18T12:17:02.433Z"
   },
   {
    "duration": 13,
    "start_time": "2022-03-18T12:17:02.874Z"
   },
   {
    "duration": 9,
    "start_time": "2022-03-18T12:17:02.889Z"
   },
   {
    "duration": 321,
    "start_time": "2022-03-18T12:17:02.900Z"
   },
   {
    "duration": 19,
    "start_time": "2022-03-18T12:17:03.223Z"
   },
   {
    "duration": 298,
    "start_time": "2022-03-18T12:17:03.244Z"
   },
   {
    "duration": 272,
    "start_time": "2022-03-18T12:17:03.544Z"
   },
   {
    "duration": 18,
    "start_time": "2022-03-18T12:17:03.818Z"
   },
   {
    "duration": 415,
    "start_time": "2022-03-18T12:17:03.838Z"
   },
   {
    "duration": 490,
    "start_time": "2022-03-18T12:17:04.256Z"
   },
   {
    "duration": 19,
    "start_time": "2022-03-18T12:17:04.748Z"
   },
   {
    "duration": 368,
    "start_time": "2022-03-18T12:17:04.782Z"
   },
   {
    "duration": 384,
    "start_time": "2022-03-18T12:17:05.152Z"
   },
   {
    "duration": 19,
    "start_time": "2022-03-18T12:17:05.538Z"
   },
   {
    "duration": 385,
    "start_time": "2022-03-18T12:17:05.559Z"
   },
   {
    "duration": 397,
    "start_time": "2022-03-18T12:17:05.946Z"
   },
   {
    "duration": 6,
    "start_time": "2022-03-18T12:17:06.345Z"
   },
   {
    "duration": 39,
    "start_time": "2022-03-18T12:17:06.353Z"
   },
   {
    "duration": 44,
    "start_time": "2022-03-18T12:17:06.400Z"
   },
   {
    "duration": 36,
    "start_time": "2022-03-18T12:17:06.446Z"
   },
   {
    "duration": 40,
    "start_time": "2022-03-18T12:17:06.484Z"
   },
   {
    "duration": 59,
    "start_time": "2022-03-18T12:17:06.526Z"
   },
   {
    "duration": 12,
    "start_time": "2022-03-18T12:17:06.588Z"
   },
   {
    "duration": 28,
    "start_time": "2022-03-18T12:17:06.603Z"
   },
   {
    "duration": 33,
    "start_time": "2022-03-18T12:17:06.633Z"
   },
   {
    "duration": 11,
    "start_time": "2022-03-18T12:17:06.668Z"
   },
   {
    "duration": 36,
    "start_time": "2022-03-18T12:17:06.681Z"
   },
   {
    "duration": 17,
    "start_time": "2022-03-18T12:17:06.719Z"
   },
   {
    "duration": 45,
    "start_time": "2022-03-18T12:50:28.831Z"
   },
   {
    "duration": 6,
    "start_time": "2022-03-18T12:51:54.842Z"
   },
   {
    "duration": 4,
    "start_time": "2022-03-18T12:52:25.277Z"
   },
   {
    "duration": 153,
    "start_time": "2022-03-18T14:29:08.764Z"
   },
   {
    "duration": 1497,
    "start_time": "2022-03-18T14:40:47.376Z"
   },
   {
    "duration": 489,
    "start_time": "2022-03-18T14:40:48.876Z"
   },
   {
    "duration": 5,
    "start_time": "2022-03-18T14:40:49.367Z"
   },
   {
    "duration": 59,
    "start_time": "2022-03-18T14:40:49.383Z"
   },
   {
    "duration": 101,
    "start_time": "2022-03-18T14:40:49.444Z"
   },
   {
    "duration": 75,
    "start_time": "2022-03-18T14:40:49.548Z"
   },
   {
    "duration": 117,
    "start_time": "2022-03-18T14:40:49.626Z"
   },
   {
    "duration": 84,
    "start_time": "2022-03-18T14:40:49.746Z"
   },
   {
    "duration": 8,
    "start_time": "2022-03-18T14:40:49.832Z"
   },
   {
    "duration": 40,
    "start_time": "2022-03-18T14:40:49.844Z"
   },
   {
    "duration": 16,
    "start_time": "2022-03-18T14:40:49.886Z"
   },
   {
    "duration": 45,
    "start_time": "2022-03-18T14:40:49.905Z"
   },
   {
    "duration": 34,
    "start_time": "2022-03-18T14:40:49.952Z"
   },
   {
    "duration": 16,
    "start_time": "2022-03-18T14:40:49.988Z"
   },
   {
    "duration": 44,
    "start_time": "2022-03-18T14:40:50.006Z"
   },
   {
    "duration": 39,
    "start_time": "2022-03-18T14:40:50.053Z"
   },
   {
    "duration": 12,
    "start_time": "2022-03-18T14:40:50.094Z"
   },
   {
    "duration": 24,
    "start_time": "2022-03-18T14:40:50.109Z"
   },
   {
    "duration": 62,
    "start_time": "2022-03-18T14:40:50.135Z"
   },
   {
    "duration": 32,
    "start_time": "2022-03-18T14:40:50.200Z"
   },
   {
    "duration": 56,
    "start_time": "2022-03-18T14:40:50.235Z"
   },
   {
    "duration": 5,
    "start_time": "2022-03-18T14:40:50.294Z"
   },
   {
    "duration": 12,
    "start_time": "2022-03-18T14:40:50.301Z"
   },
   {
    "duration": 19,
    "start_time": "2022-03-18T14:40:50.315Z"
   },
   {
    "duration": 17,
    "start_time": "2022-03-18T14:40:50.337Z"
   },
   {
    "duration": 45,
    "start_time": "2022-03-18T14:40:50.356Z"
   },
   {
    "duration": 6,
    "start_time": "2022-03-18T14:40:50.403Z"
   },
   {
    "duration": 6,
    "start_time": "2022-03-18T14:40:50.415Z"
   },
   {
    "duration": 16,
    "start_time": "2022-03-18T14:40:50.423Z"
   },
   {
    "duration": 46,
    "start_time": "2022-03-18T14:40:50.442Z"
   },
   {
    "duration": 282,
    "start_time": "2022-03-18T14:40:50.490Z"
   },
   {
    "duration": 147,
    "start_time": "2022-03-18T14:40:50.775Z"
   },
   {
    "duration": 0,
    "start_time": "2022-03-18T14:40:50.925Z"
   },
   {
    "duration": 0,
    "start_time": "2022-03-18T14:40:50.926Z"
   },
   {
    "duration": 0,
    "start_time": "2022-03-18T14:40:50.928Z"
   },
   {
    "duration": 0,
    "start_time": "2022-03-18T14:40:50.930Z"
   },
   {
    "duration": 0,
    "start_time": "2022-03-18T14:40:50.931Z"
   },
   {
    "duration": 0,
    "start_time": "2022-03-18T14:40:50.933Z"
   },
   {
    "duration": 0,
    "start_time": "2022-03-18T14:40:50.934Z"
   },
   {
    "duration": 0,
    "start_time": "2022-03-18T14:40:50.936Z"
   },
   {
    "duration": 0,
    "start_time": "2022-03-18T14:40:50.938Z"
   },
   {
    "duration": 0,
    "start_time": "2022-03-18T14:40:50.940Z"
   },
   {
    "duration": 0,
    "start_time": "2022-03-18T14:40:50.942Z"
   },
   {
    "duration": 0,
    "start_time": "2022-03-18T14:40:50.944Z"
   },
   {
    "duration": 0,
    "start_time": "2022-03-18T14:40:50.945Z"
   },
   {
    "duration": 1,
    "start_time": "2022-03-18T14:40:50.947Z"
   },
   {
    "duration": 0,
    "start_time": "2022-03-18T14:40:50.949Z"
   },
   {
    "duration": 0,
    "start_time": "2022-03-18T14:40:50.951Z"
   },
   {
    "duration": 0,
    "start_time": "2022-03-18T14:40:50.953Z"
   },
   {
    "duration": 0,
    "start_time": "2022-03-18T14:40:50.955Z"
   },
   {
    "duration": 0,
    "start_time": "2022-03-18T14:40:50.956Z"
   },
   {
    "duration": 0,
    "start_time": "2022-03-18T14:40:50.958Z"
   },
   {
    "duration": 0,
    "start_time": "2022-03-18T14:40:50.960Z"
   },
   {
    "duration": 0,
    "start_time": "2022-03-18T14:40:50.961Z"
   },
   {
    "duration": 0,
    "start_time": "2022-03-18T14:40:50.983Z"
   },
   {
    "duration": 0,
    "start_time": "2022-03-18T14:40:50.984Z"
   },
   {
    "duration": 0,
    "start_time": "2022-03-18T14:40:50.986Z"
   },
   {
    "duration": 0,
    "start_time": "2022-03-18T14:40:50.988Z"
   },
   {
    "duration": 0,
    "start_time": "2022-03-18T14:40:50.989Z"
   },
   {
    "duration": 0,
    "start_time": "2022-03-18T14:40:50.991Z"
   },
   {
    "duration": 0,
    "start_time": "2022-03-18T14:40:50.993Z"
   },
   {
    "duration": 0,
    "start_time": "2022-03-18T14:40:50.995Z"
   },
   {
    "duration": 0,
    "start_time": "2022-03-18T14:40:50.997Z"
   },
   {
    "duration": 0,
    "start_time": "2022-03-18T14:40:50.999Z"
   },
   {
    "duration": 0,
    "start_time": "2022-03-18T14:40:51.000Z"
   },
   {
    "duration": 0,
    "start_time": "2022-03-18T14:40:51.002Z"
   },
   {
    "duration": 0,
    "start_time": "2022-03-18T14:40:51.004Z"
   },
   {
    "duration": 0,
    "start_time": "2022-03-18T14:40:51.006Z"
   },
   {
    "duration": 0,
    "start_time": "2022-03-18T14:40:51.008Z"
   },
   {
    "duration": 0,
    "start_time": "2022-03-18T14:40:51.011Z"
   },
   {
    "duration": 0,
    "start_time": "2022-03-18T14:40:51.013Z"
   },
   {
    "duration": 0,
    "start_time": "2022-03-18T14:40:51.015Z"
   },
   {
    "duration": 0,
    "start_time": "2022-03-18T14:40:51.017Z"
   },
   {
    "duration": 0,
    "start_time": "2022-03-18T14:40:51.083Z"
   },
   {
    "duration": 0,
    "start_time": "2022-03-18T14:40:51.085Z"
   },
   {
    "duration": 0,
    "start_time": "2022-03-18T14:40:51.088Z"
   },
   {
    "duration": 0,
    "start_time": "2022-03-18T14:40:51.090Z"
   },
   {
    "duration": 0,
    "start_time": "2022-03-18T14:40:51.093Z"
   },
   {
    "duration": 0,
    "start_time": "2022-03-18T14:40:51.095Z"
   },
   {
    "duration": 0,
    "start_time": "2022-03-18T14:40:51.097Z"
   },
   {
    "duration": 0,
    "start_time": "2022-03-18T14:40:51.100Z"
   },
   {
    "duration": 0,
    "start_time": "2022-03-18T14:40:51.102Z"
   },
   {
    "duration": 0,
    "start_time": "2022-03-18T14:40:51.104Z"
   },
   {
    "duration": 0,
    "start_time": "2022-03-18T14:40:51.107Z"
   },
   {
    "duration": 0,
    "start_time": "2022-03-18T14:40:51.109Z"
   },
   {
    "duration": 0,
    "start_time": "2022-03-18T14:40:51.111Z"
   },
   {
    "duration": 0,
    "start_time": "2022-03-18T14:40:51.113Z"
   },
   {
    "duration": 0,
    "start_time": "2022-03-18T14:40:51.116Z"
   },
   {
    "duration": 0,
    "start_time": "2022-03-18T14:40:51.118Z"
   },
   {
    "duration": 0,
    "start_time": "2022-03-18T14:40:51.120Z"
   },
   {
    "duration": 0,
    "start_time": "2022-03-18T14:40:51.183Z"
   },
   {
    "duration": 0,
    "start_time": "2022-03-18T14:40:51.186Z"
   },
   {
    "duration": 1451,
    "start_time": "2022-03-18T14:41:09.422Z"
   },
   {
    "duration": 478,
    "start_time": "2022-03-18T14:41:10.876Z"
   },
   {
    "duration": 5,
    "start_time": "2022-03-18T14:41:11.356Z"
   },
   {
    "duration": 75,
    "start_time": "2022-03-18T14:41:11.364Z"
   },
   {
    "duration": 97,
    "start_time": "2022-03-18T14:41:11.442Z"
   },
   {
    "duration": 73,
    "start_time": "2022-03-18T14:41:11.542Z"
   },
   {
    "duration": 95,
    "start_time": "2022-03-18T14:41:11.617Z"
   },
   {
    "duration": 84,
    "start_time": "2022-03-18T14:41:11.715Z"
   },
   {
    "duration": 9,
    "start_time": "2022-03-18T14:41:11.801Z"
   },
   {
    "duration": 32,
    "start_time": "2022-03-18T14:41:11.815Z"
   },
   {
    "duration": 37,
    "start_time": "2022-03-18T14:41:11.850Z"
   },
   {
    "duration": 81,
    "start_time": "2022-03-18T14:41:11.890Z"
   },
   {
    "duration": 7,
    "start_time": "2022-03-18T14:41:11.974Z"
   },
   {
    "duration": 30,
    "start_time": "2022-03-18T14:41:11.984Z"
   },
   {
    "duration": 41,
    "start_time": "2022-03-18T14:41:12.016Z"
   },
   {
    "duration": 36,
    "start_time": "2022-03-18T14:41:12.060Z"
   },
   {
    "duration": 26,
    "start_time": "2022-03-18T14:41:12.098Z"
   },
   {
    "duration": 35,
    "start_time": "2022-03-18T14:41:12.126Z"
   },
   {
    "duration": 44,
    "start_time": "2022-03-18T14:41:12.164Z"
   },
   {
    "duration": 31,
    "start_time": "2022-03-18T14:41:12.210Z"
   },
   {
    "duration": 49,
    "start_time": "2022-03-18T14:41:12.243Z"
   },
   {
    "duration": 5,
    "start_time": "2022-03-18T14:41:12.295Z"
   },
   {
    "duration": 31,
    "start_time": "2022-03-18T14:41:12.303Z"
   },
   {
    "duration": 28,
    "start_time": "2022-03-18T14:41:12.337Z"
   },
   {
    "duration": 33,
    "start_time": "2022-03-18T14:41:12.368Z"
   },
   {
    "duration": 34,
    "start_time": "2022-03-18T14:41:12.404Z"
   },
   {
    "duration": 8,
    "start_time": "2022-03-18T14:41:12.440Z"
   },
   {
    "duration": 26,
    "start_time": "2022-03-18T14:41:12.455Z"
   },
   {
    "duration": 28,
    "start_time": "2022-03-18T14:41:12.484Z"
   },
   {
    "duration": 19,
    "start_time": "2022-03-18T14:41:12.514Z"
   },
   {
    "duration": 277,
    "start_time": "2022-03-18T14:41:12.536Z"
   },
   {
    "duration": 4,
    "start_time": "2022-03-18T14:41:12.815Z"
   },
   {
    "duration": 93,
    "start_time": "2022-03-18T14:41:12.821Z"
   },
   {
    "duration": 13,
    "start_time": "2022-03-18T14:41:12.917Z"
   },
   {
    "duration": 36,
    "start_time": "2022-03-18T14:41:12.932Z"
   },
   {
    "duration": 43,
    "start_time": "2022-03-18T14:41:12.970Z"
   },
   {
    "duration": 55,
    "start_time": "2022-03-18T14:41:13.016Z"
   },
   {
    "duration": 3,
    "start_time": "2022-03-18T14:41:13.074Z"
   },
   {
    "duration": 39,
    "start_time": "2022-03-18T14:41:13.080Z"
   },
   {
    "duration": 30,
    "start_time": "2022-03-18T14:41:13.121Z"
   },
   {
    "duration": 47,
    "start_time": "2022-03-18T14:41:13.154Z"
   },
   {
    "duration": 19,
    "start_time": "2022-03-18T14:41:13.204Z"
   },
   {
    "duration": 27,
    "start_time": "2022-03-18T14:41:13.225Z"
   },
   {
    "duration": 26,
    "start_time": "2022-03-18T14:41:13.254Z"
   },
   {
    "duration": 11,
    "start_time": "2022-03-18T14:41:13.283Z"
   },
   {
    "duration": 12,
    "start_time": "2022-03-18T14:41:13.296Z"
   },
   {
    "duration": 18,
    "start_time": "2022-03-18T14:41:13.310Z"
   },
   {
    "duration": 56,
    "start_time": "2022-03-18T14:41:13.330Z"
   },
   {
    "duration": 142,
    "start_time": "2022-03-18T14:41:13.389Z"
   },
   {
    "duration": 8,
    "start_time": "2022-03-18T14:41:13.533Z"
   },
   {
    "duration": 38,
    "start_time": "2022-03-18T14:41:13.544Z"
   },
   {
    "duration": 21,
    "start_time": "2022-03-18T14:41:13.585Z"
   },
   {
    "duration": 7,
    "start_time": "2022-03-18T14:41:13.608Z"
   },
   {
    "duration": 327,
    "start_time": "2022-03-18T14:41:13.618Z"
   },
   {
    "duration": 6,
    "start_time": "2022-03-18T14:41:13.948Z"
   },
   {
    "duration": 33,
    "start_time": "2022-03-18T14:41:13.957Z"
   },
   {
    "duration": 11,
    "start_time": "2022-03-18T14:41:13.993Z"
   },
   {
    "duration": 33,
    "start_time": "2022-03-18T14:41:14.008Z"
   },
   {
    "duration": 40,
    "start_time": "2022-03-18T14:41:14.045Z"
   },
   {
    "duration": 527,
    "start_time": "2022-03-18T14:41:14.087Z"
   },
   {
    "duration": 78,
    "start_time": "2022-03-18T14:41:14.617Z"
   },
   {
    "duration": 4,
    "start_time": "2022-03-18T14:41:14.697Z"
   },
   {
    "duration": 434,
    "start_time": "2022-03-18T14:41:14.704Z"
   },
   {
    "duration": 373,
    "start_time": "2022-03-18T14:41:15.141Z"
   },
   {
    "duration": 9,
    "start_time": "2022-03-18T14:41:15.516Z"
   },
   {
    "duration": 12,
    "start_time": "2022-03-18T14:41:15.527Z"
   },
   {
    "duration": 309,
    "start_time": "2022-03-18T14:41:15.541Z"
   },
   {
    "duration": 32,
    "start_time": "2022-03-18T14:41:15.852Z"
   },
   {
    "duration": 345,
    "start_time": "2022-03-18T14:41:15.886Z"
   },
   {
    "duration": 270,
    "start_time": "2022-03-18T14:41:16.233Z"
   },
   {
    "duration": 20,
    "start_time": "2022-03-18T14:41:16.506Z"
   },
   {
    "duration": 432,
    "start_time": "2022-03-18T14:41:16.529Z"
   },
   {
    "duration": 529,
    "start_time": "2022-03-18T14:41:16.965Z"
   },
   {
    "duration": 21,
    "start_time": "2022-03-18T14:41:17.497Z"
   },
   {
    "duration": 437,
    "start_time": "2022-03-18T14:41:17.520Z"
   },
   {
    "duration": 422,
    "start_time": "2022-03-18T14:41:17.960Z"
   },
   {
    "duration": 27,
    "start_time": "2022-03-18T14:41:18.385Z"
   },
   {
    "duration": 425,
    "start_time": "2022-03-18T14:41:18.415Z"
   },
   {
    "duration": 417,
    "start_time": "2022-03-18T14:41:18.843Z"
   },
   {
    "duration": 6,
    "start_time": "2022-03-18T14:41:19.262Z"
   },
   {
    "duration": 12,
    "start_time": "2022-03-18T14:41:19.281Z"
   },
   {
    "duration": 12,
    "start_time": "2022-03-18T14:41:19.301Z"
   },
   {
    "duration": 27,
    "start_time": "2022-03-18T14:41:19.315Z"
   },
   {
    "duration": 36,
    "start_time": "2022-03-18T14:41:19.345Z"
   },
   {
    "duration": 33,
    "start_time": "2022-03-18T14:41:19.383Z"
   },
   {
    "duration": 4,
    "start_time": "2022-03-18T14:41:19.419Z"
   },
   {
    "duration": 12,
    "start_time": "2022-03-18T14:41:19.425Z"
   },
   {
    "duration": 17,
    "start_time": "2022-03-18T14:41:19.439Z"
   },
   {
    "duration": 13,
    "start_time": "2022-03-18T14:41:19.458Z"
   },
   {
    "duration": 23,
    "start_time": "2022-03-18T14:41:19.474Z"
   },
   {
    "duration": 7,
    "start_time": "2022-03-18T14:41:19.500Z"
   },
   {
    "duration": 1464,
    "start_time": "2022-03-19T08:29:21.102Z"
   },
   {
    "duration": 430,
    "start_time": "2022-03-19T08:29:22.568Z"
   },
   {
    "duration": 4,
    "start_time": "2022-03-19T08:29:23.000Z"
   },
   {
    "duration": 57,
    "start_time": "2022-03-19T08:29:23.006Z"
   },
   {
    "duration": 95,
    "start_time": "2022-03-19T08:29:23.065Z"
   },
   {
    "duration": 46,
    "start_time": "2022-03-19T08:29:23.162Z"
   },
   {
    "duration": 92,
    "start_time": "2022-03-19T08:29:23.210Z"
   },
   {
    "duration": 78,
    "start_time": "2022-03-19T08:29:23.304Z"
   },
   {
    "duration": 7,
    "start_time": "2022-03-19T08:29:23.384Z"
   },
   {
    "duration": 13,
    "start_time": "2022-03-19T08:29:23.394Z"
   },
   {
    "duration": 39,
    "start_time": "2022-03-19T08:29:23.409Z"
   },
   {
    "duration": 41,
    "start_time": "2022-03-19T08:29:23.450Z"
   },
   {
    "duration": 6,
    "start_time": "2022-03-19T08:29:23.493Z"
   },
   {
    "duration": 15,
    "start_time": "2022-03-19T08:29:23.501Z"
   },
   {
    "duration": 20,
    "start_time": "2022-03-19T08:29:23.539Z"
   },
   {
    "duration": 22,
    "start_time": "2022-03-19T08:29:23.561Z"
   },
   {
    "duration": 9,
    "start_time": "2022-03-19T08:29:23.585Z"
   },
   {
    "duration": 59,
    "start_time": "2022-03-19T08:29:23.597Z"
   },
   {
    "duration": 32,
    "start_time": "2022-03-19T08:29:23.658Z"
   },
   {
    "duration": 22,
    "start_time": "2022-03-19T08:29:23.692Z"
   },
   {
    "duration": 53,
    "start_time": "2022-03-19T08:29:23.716Z"
   },
   {
    "duration": 4,
    "start_time": "2022-03-19T08:29:23.771Z"
   },
   {
    "duration": 7,
    "start_time": "2022-03-19T08:29:23.777Z"
   },
   {
    "duration": 12,
    "start_time": "2022-03-19T08:29:23.786Z"
   },
   {
    "duration": 12,
    "start_time": "2022-03-19T08:29:23.801Z"
   },
   {
    "duration": 19,
    "start_time": "2022-03-19T08:29:23.839Z"
   },
   {
    "duration": 14,
    "start_time": "2022-03-19T08:29:23.860Z"
   },
   {
    "duration": 4,
    "start_time": "2022-03-19T08:29:23.881Z"
   },
   {
    "duration": 19,
    "start_time": "2022-03-19T08:29:23.887Z"
   },
   {
    "duration": 43,
    "start_time": "2022-03-19T08:29:23.908Z"
   },
   {
    "duration": 271,
    "start_time": "2022-03-19T08:29:23.953Z"
   },
   {
    "duration": 3,
    "start_time": "2022-03-19T08:29:24.226Z"
   },
   {
    "duration": 62,
    "start_time": "2022-03-19T08:29:24.231Z"
   },
   {
    "duration": 10,
    "start_time": "2022-03-19T08:29:24.295Z"
   },
   {
    "duration": 32,
    "start_time": "2022-03-19T08:29:24.307Z"
   },
   {
    "duration": 11,
    "start_time": "2022-03-19T08:29:24.342Z"
   },
   {
    "duration": 37,
    "start_time": "2022-03-19T08:29:24.355Z"
   },
   {
    "duration": 3,
    "start_time": "2022-03-19T08:29:24.394Z"
   },
   {
    "duration": 12,
    "start_time": "2022-03-19T08:29:24.399Z"
   },
   {
    "duration": 13,
    "start_time": "2022-03-19T08:29:24.437Z"
   },
   {
    "duration": 25,
    "start_time": "2022-03-19T08:29:24.452Z"
   },
   {
    "duration": 8,
    "start_time": "2022-03-19T08:29:24.479Z"
   },
   {
    "duration": 12,
    "start_time": "2022-03-19T08:29:24.489Z"
   },
   {
    "duration": 43,
    "start_time": "2022-03-19T08:29:24.502Z"
   },
   {
    "duration": 4,
    "start_time": "2022-03-19T08:29:24.547Z"
   },
   {
    "duration": 11,
    "start_time": "2022-03-19T08:29:24.553Z"
   },
   {
    "duration": 15,
    "start_time": "2022-03-19T08:29:24.566Z"
   },
   {
    "duration": 25,
    "start_time": "2022-03-19T08:29:24.583Z"
   },
   {
    "duration": 105,
    "start_time": "2022-03-19T08:29:24.609Z"
   },
   {
    "duration": 23,
    "start_time": "2022-03-19T08:29:24.716Z"
   },
   {
    "duration": 10,
    "start_time": "2022-03-19T08:29:24.741Z"
   },
   {
    "duration": 12,
    "start_time": "2022-03-19T08:29:24.753Z"
   },
   {
    "duration": 4,
    "start_time": "2022-03-19T08:29:24.767Z"
   },
   {
    "duration": 132,
    "start_time": "2022-03-19T08:29:24.773Z"
   },
   {
    "duration": 4,
    "start_time": "2022-03-19T08:29:24.907Z"
   },
   {
    "duration": 14,
    "start_time": "2022-03-19T08:29:24.913Z"
   },
   {
    "duration": 9,
    "start_time": "2022-03-19T08:29:24.938Z"
   },
   {
    "duration": 24,
    "start_time": "2022-03-19T08:29:24.949Z"
   },
   {
    "duration": 10,
    "start_time": "2022-03-19T08:29:24.975Z"
   },
   {
    "duration": 421,
    "start_time": "2022-03-19T08:29:24.986Z"
   },
   {
    "duration": 57,
    "start_time": "2022-03-19T08:29:25.410Z"
   },
   {
    "duration": 3,
    "start_time": "2022-03-19T08:29:25.469Z"
   },
   {
    "duration": 321,
    "start_time": "2022-03-19T08:29:25.474Z"
   },
   {
    "duration": 302,
    "start_time": "2022-03-19T08:29:25.797Z"
   },
   {
    "duration": 7,
    "start_time": "2022-03-19T08:29:26.101Z"
   },
   {
    "duration": 21,
    "start_time": "2022-03-19T08:29:26.110Z"
   },
   {
    "duration": 210,
    "start_time": "2022-03-19T08:29:26.138Z"
   },
   {
    "duration": 13,
    "start_time": "2022-03-19T08:29:26.350Z"
   },
   {
    "duration": 197,
    "start_time": "2022-03-19T08:29:26.365Z"
   },
   {
    "duration": 177,
    "start_time": "2022-03-19T08:29:26.564Z"
   },
   {
    "duration": 14,
    "start_time": "2022-03-19T08:29:26.742Z"
   },
   {
    "duration": 328,
    "start_time": "2022-03-19T08:29:26.758Z"
   },
   {
    "duration": 437,
    "start_time": "2022-03-19T08:29:27.088Z"
   },
   {
    "duration": 22,
    "start_time": "2022-03-19T08:29:27.528Z"
   },
   {
    "duration": 321,
    "start_time": "2022-03-19T08:29:27.552Z"
   },
   {
    "duration": 286,
    "start_time": "2022-03-19T08:29:27.875Z"
   },
   {
    "duration": 13,
    "start_time": "2022-03-19T08:29:28.164Z"
   },
   {
    "duration": 324,
    "start_time": "2022-03-19T08:29:28.178Z"
   },
   {
    "duration": 315,
    "start_time": "2022-03-19T08:29:28.505Z"
   },
   {
    "duration": 4,
    "start_time": "2022-03-19T08:29:28.822Z"
   },
   {
    "duration": 14,
    "start_time": "2022-03-19T08:29:28.827Z"
   },
   {
    "duration": 7,
    "start_time": "2022-03-19T08:29:28.846Z"
   },
   {
    "duration": 6,
    "start_time": "2022-03-19T08:29:28.855Z"
   },
   {
    "duration": 10,
    "start_time": "2022-03-19T08:29:28.863Z"
   },
   {
    "duration": 15,
    "start_time": "2022-03-19T08:29:28.875Z"
   },
   {
    "duration": 8,
    "start_time": "2022-03-19T08:29:28.892Z"
   },
   {
    "duration": 8,
    "start_time": "2022-03-19T08:29:28.902Z"
   },
   {
    "duration": 27,
    "start_time": "2022-03-19T08:29:28.911Z"
   },
   {
    "duration": 10,
    "start_time": "2022-03-19T08:29:28.940Z"
   },
   {
    "duration": 7,
    "start_time": "2022-03-19T08:29:28.952Z"
   },
   {
    "duration": 8,
    "start_time": "2022-03-19T08:29:28.960Z"
   },
   {
    "duration": 1927,
    "start_time": "2022-03-20T09:17:28.691Z"
   },
   {
    "duration": 526,
    "start_time": "2022-03-20T09:17:30.622Z"
   },
   {
    "duration": 5,
    "start_time": "2022-03-20T09:17:31.151Z"
   },
   {
    "duration": 76,
    "start_time": "2022-03-20T09:17:31.159Z"
   },
   {
    "duration": 99,
    "start_time": "2022-03-20T09:17:31.238Z"
   },
   {
    "duration": 83,
    "start_time": "2022-03-20T09:17:31.339Z"
   },
   {
    "duration": 120,
    "start_time": "2022-03-20T09:17:31.424Z"
   },
   {
    "duration": 91,
    "start_time": "2022-03-20T09:17:31.547Z"
   },
   {
    "duration": 34,
    "start_time": "2022-03-20T09:17:31.640Z"
   },
   {
    "duration": 25,
    "start_time": "2022-03-20T09:17:31.680Z"
   },
   {
    "duration": 26,
    "start_time": "2022-03-20T09:17:31.709Z"
   },
   {
    "duration": 70,
    "start_time": "2022-03-20T09:17:31.768Z"
   },
   {
    "duration": 27,
    "start_time": "2022-03-20T09:17:31.841Z"
   },
   {
    "duration": 13,
    "start_time": "2022-03-20T09:17:31.870Z"
   },
   {
    "duration": 27,
    "start_time": "2022-03-20T09:17:31.886Z"
   },
   {
    "duration": 62,
    "start_time": "2022-03-20T09:17:31.916Z"
   },
   {
    "duration": 12,
    "start_time": "2022-03-20T09:17:31.980Z"
   },
   {
    "duration": 25,
    "start_time": "2022-03-20T09:17:31.995Z"
   },
   {
    "duration": 61,
    "start_time": "2022-03-20T09:17:32.022Z"
   },
   {
    "duration": 31,
    "start_time": "2022-03-20T09:17:32.086Z"
   },
   {
    "duration": 57,
    "start_time": "2022-03-20T09:17:32.119Z"
   },
   {
    "duration": 5,
    "start_time": "2022-03-20T09:17:32.179Z"
   },
   {
    "duration": 11,
    "start_time": "2022-03-20T09:17:32.186Z"
   },
   {
    "duration": 18,
    "start_time": "2022-03-20T09:17:32.200Z"
   },
   {
    "duration": 20,
    "start_time": "2022-03-20T09:17:32.221Z"
   },
   {
    "duration": 42,
    "start_time": "2022-03-20T09:17:32.243Z"
   },
   {
    "duration": 7,
    "start_time": "2022-03-20T09:17:32.288Z"
   },
   {
    "duration": 7,
    "start_time": "2022-03-20T09:17:32.304Z"
   },
   {
    "duration": 25,
    "start_time": "2022-03-20T09:17:32.314Z"
   },
   {
    "duration": 16,
    "start_time": "2022-03-20T09:17:32.369Z"
   },
   {
    "duration": 306,
    "start_time": "2022-03-20T09:17:32.388Z"
   },
   {
    "duration": 4,
    "start_time": "2022-03-20T09:17:32.697Z"
   },
   {
    "duration": 99,
    "start_time": "2022-03-20T09:17:32.704Z"
   },
   {
    "duration": 13,
    "start_time": "2022-03-20T09:17:32.805Z"
   },
   {
    "duration": 23,
    "start_time": "2022-03-20T09:17:32.821Z"
   },
   {
    "duration": 26,
    "start_time": "2022-03-20T09:17:32.847Z"
   },
   {
    "duration": 47,
    "start_time": "2022-03-20T09:17:32.876Z"
   },
   {
    "duration": 3,
    "start_time": "2022-03-20T09:17:32.926Z"
   },
   {
    "duration": 40,
    "start_time": "2022-03-20T09:17:32.931Z"
   },
   {
    "duration": 19,
    "start_time": "2022-03-20T09:17:32.973Z"
   },
   {
    "duration": 26,
    "start_time": "2022-03-20T09:17:32.994Z"
   },
   {
    "duration": 10,
    "start_time": "2022-03-20T09:17:33.022Z"
   },
   {
    "duration": 46,
    "start_time": "2022-03-20T09:17:33.034Z"
   },
   {
    "duration": 20,
    "start_time": "2022-03-20T09:17:33.082Z"
   },
   {
    "duration": 5,
    "start_time": "2022-03-20T09:17:33.105Z"
   },
   {
    "duration": 14,
    "start_time": "2022-03-20T09:17:33.112Z"
   },
   {
    "duration": 49,
    "start_time": "2022-03-20T09:17:33.128Z"
   },
   {
    "duration": 31,
    "start_time": "2022-03-20T09:17:33.179Z"
   },
   {
    "duration": 164,
    "start_time": "2022-03-20T09:17:33.213Z"
   },
   {
    "duration": 7,
    "start_time": "2022-03-20T09:17:33.380Z"
   },
   {
    "duration": 12,
    "start_time": "2022-03-20T09:17:33.389Z"
   },
   {
    "duration": 15,
    "start_time": "2022-03-20T09:17:33.404Z"
   },
   {
    "duration": 46,
    "start_time": "2022-03-20T09:17:33.422Z"
   },
   {
    "duration": 324,
    "start_time": "2022-03-20T09:17:33.470Z"
   },
   {
    "duration": 5,
    "start_time": "2022-03-20T09:17:33.797Z"
   },
   {
    "duration": 24,
    "start_time": "2022-03-20T09:17:33.804Z"
   },
   {
    "duration": 13,
    "start_time": "2022-03-20T09:17:33.831Z"
   },
   {
    "duration": 56,
    "start_time": "2022-03-20T09:17:33.846Z"
   },
   {
    "duration": 18,
    "start_time": "2022-03-20T09:17:33.905Z"
   },
   {
    "duration": 624,
    "start_time": "2022-03-20T09:17:33.926Z"
   },
   {
    "duration": 118,
    "start_time": "2022-03-20T09:17:34.554Z"
   },
   {
    "duration": 5,
    "start_time": "2022-03-20T09:17:34.674Z"
   },
   {
    "duration": 452,
    "start_time": "2022-03-20T09:17:34.682Z"
   },
   {
    "duration": 380,
    "start_time": "2022-03-20T09:17:35.136Z"
   },
   {
    "duration": 8,
    "start_time": "2022-03-20T09:17:35.519Z"
   },
   {
    "duration": 11,
    "start_time": "2022-03-20T09:17:35.530Z"
   },
   {
    "duration": 479,
    "start_time": "2022-03-20T09:17:35.567Z"
   },
   {
    "duration": 39,
    "start_time": "2022-03-20T09:17:36.050Z"
   },
   {
    "duration": 467,
    "start_time": "2022-03-20T09:17:36.093Z"
   },
   {
    "duration": 424,
    "start_time": "2022-03-20T09:17:36.567Z"
   },
   {
    "duration": 24,
    "start_time": "2022-03-20T09:17:36.994Z"
   },
   {
    "duration": 552,
    "start_time": "2022-03-20T09:17:37.021Z"
   },
   {
    "duration": 686,
    "start_time": "2022-03-20T09:17:37.576Z"
   },
   {
    "duration": 26,
    "start_time": "2022-03-20T09:17:38.268Z"
   },
   {
    "duration": 450,
    "start_time": "2022-03-20T09:17:38.297Z"
   },
   {
    "duration": 392,
    "start_time": "2022-03-20T09:17:38.750Z"
   },
   {
    "duration": 31,
    "start_time": "2022-03-20T09:17:39.145Z"
   },
   {
    "duration": 396,
    "start_time": "2022-03-20T09:17:39.179Z"
   },
   {
    "duration": 400,
    "start_time": "2022-03-20T09:17:39.577Z"
   },
   {
    "duration": 3,
    "start_time": "2022-03-20T09:17:39.980Z"
   },
   {
    "duration": 9,
    "start_time": "2022-03-20T09:17:39.986Z"
   },
   {
    "duration": 4,
    "start_time": "2022-03-20T09:17:40.004Z"
   },
   {
    "duration": 9,
    "start_time": "2022-03-20T09:17:40.010Z"
   },
   {
    "duration": 13,
    "start_time": "2022-03-20T09:17:40.022Z"
   },
   {
    "duration": 176,
    "start_time": "2022-03-20T09:17:40.037Z"
   },
   {
    "duration": 0,
    "start_time": "2022-03-20T09:17:40.215Z"
   },
   {
    "duration": 0,
    "start_time": "2022-03-20T09:17:40.217Z"
   },
   {
    "duration": 0,
    "start_time": "2022-03-20T09:17:40.219Z"
   },
   {
    "duration": 0,
    "start_time": "2022-03-20T09:17:40.221Z"
   },
   {
    "duration": 0,
    "start_time": "2022-03-20T09:17:40.222Z"
   },
   {
    "duration": 0,
    "start_time": "2022-03-20T09:17:40.224Z"
   },
   {
    "duration": 5,
    "start_time": "2022-03-20T09:18:13.491Z"
   },
   {
    "duration": 747,
    "start_time": "2022-03-20T09:18:13.501Z"
   },
   {
    "duration": 6,
    "start_time": "2022-03-20T09:18:14.252Z"
   },
   {
    "duration": 67,
    "start_time": "2022-03-20T09:18:14.261Z"
   },
   {
    "duration": 134,
    "start_time": "2022-03-20T09:18:14.333Z"
   },
   {
    "duration": 59,
    "start_time": "2022-03-20T09:18:14.473Z"
   },
   {
    "duration": 163,
    "start_time": "2022-03-20T09:18:14.535Z"
   },
   {
    "duration": 116,
    "start_time": "2022-03-20T09:18:14.701Z"
   },
   {
    "duration": 13,
    "start_time": "2022-03-20T09:18:14.820Z"
   },
   {
    "duration": 38,
    "start_time": "2022-03-20T09:18:14.835Z"
   },
   {
    "duration": 18,
    "start_time": "2022-03-20T09:18:14.879Z"
   },
   {
    "duration": 77,
    "start_time": "2022-03-20T09:18:14.899Z"
   },
   {
    "duration": 6,
    "start_time": "2022-03-20T09:18:14.979Z"
   },
   {
    "duration": 17,
    "start_time": "2022-03-20T09:18:14.987Z"
   },
   {
    "duration": 30,
    "start_time": "2022-03-20T09:18:15.007Z"
   },
   {
    "duration": 57,
    "start_time": "2022-03-20T09:18:15.039Z"
   },
   {
    "duration": 12,
    "start_time": "2022-03-20T09:18:15.099Z"
   },
   {
    "duration": 65,
    "start_time": "2022-03-20T09:18:15.115Z"
   },
   {
    "duration": 47,
    "start_time": "2022-03-20T09:18:15.184Z"
   },
   {
    "duration": 62,
    "start_time": "2022-03-20T09:18:15.234Z"
   },
   {
    "duration": 36,
    "start_time": "2022-03-20T09:18:15.299Z"
   },
   {
    "duration": 31,
    "start_time": "2022-03-20T09:18:15.337Z"
   },
   {
    "duration": 6,
    "start_time": "2022-03-20T09:18:15.370Z"
   },
   {
    "duration": 27,
    "start_time": "2022-03-20T09:18:15.379Z"
   },
   {
    "duration": 18,
    "start_time": "2022-03-20T09:18:15.409Z"
   },
   {
    "duration": 52,
    "start_time": "2022-03-20T09:18:15.430Z"
   },
   {
    "duration": 7,
    "start_time": "2022-03-20T09:18:15.484Z"
   },
   {
    "duration": 11,
    "start_time": "2022-03-20T09:18:15.493Z"
   },
   {
    "duration": 18,
    "start_time": "2022-03-20T09:18:15.510Z"
   },
   {
    "duration": 45,
    "start_time": "2022-03-20T09:18:15.530Z"
   },
   {
    "duration": 294,
    "start_time": "2022-03-20T09:18:15.578Z"
   },
   {
    "duration": 4,
    "start_time": "2022-03-20T09:18:15.874Z"
   },
   {
    "duration": 89,
    "start_time": "2022-03-20T09:18:15.881Z"
   },
   {
    "duration": 13,
    "start_time": "2022-03-20T09:18:15.972Z"
   },
   {
    "duration": 15,
    "start_time": "2022-03-20T09:18:15.987Z"
   },
   {
    "duration": 16,
    "start_time": "2022-03-20T09:18:16.005Z"
   },
   {
    "duration": 74,
    "start_time": "2022-03-20T09:18:16.023Z"
   },
   {
    "duration": 4,
    "start_time": "2022-03-20T09:18:16.099Z"
   },
   {
    "duration": 15,
    "start_time": "2022-03-20T09:18:16.105Z"
   },
   {
    "duration": 19,
    "start_time": "2022-03-20T09:18:16.122Z"
   },
   {
    "duration": 27,
    "start_time": "2022-03-20T09:18:16.167Z"
   },
   {
    "duration": 11,
    "start_time": "2022-03-20T09:18:16.196Z"
   },
   {
    "duration": 14,
    "start_time": "2022-03-20T09:18:16.210Z"
   },
   {
    "duration": 57,
    "start_time": "2022-03-20T09:18:16.226Z"
   },
   {
    "duration": 6,
    "start_time": "2022-03-20T09:18:16.286Z"
   },
   {
    "duration": 15,
    "start_time": "2022-03-20T09:18:16.294Z"
   },
   {
    "duration": 22,
    "start_time": "2022-03-20T09:18:16.312Z"
   },
   {
    "duration": 57,
    "start_time": "2022-03-20T09:18:16.337Z"
   },
   {
    "duration": 142,
    "start_time": "2022-03-20T09:18:16.397Z"
   },
   {
    "duration": 7,
    "start_time": "2022-03-20T09:18:16.542Z"
   },
   {
    "duration": 13,
    "start_time": "2022-03-20T09:18:16.569Z"
   },
   {
    "duration": 18,
    "start_time": "2022-03-20T09:18:16.584Z"
   },
   {
    "duration": 7,
    "start_time": "2022-03-20T09:18:16.605Z"
   },
   {
    "duration": 219,
    "start_time": "2022-03-20T09:18:16.615Z"
   },
   {
    "duration": 7,
    "start_time": "2022-03-20T09:18:16.837Z"
   },
   {
    "duration": 36,
    "start_time": "2022-03-20T09:18:16.847Z"
   },
   {
    "duration": 12,
    "start_time": "2022-03-20T09:18:16.886Z"
   },
   {
    "duration": 66,
    "start_time": "2022-03-20T09:18:16.901Z"
   },
   {
    "duration": 8,
    "start_time": "2022-03-20T09:18:16.970Z"
   },
   {
    "duration": 538,
    "start_time": "2022-03-20T09:18:16.981Z"
   },
   {
    "duration": 44,
    "start_time": "2022-03-20T09:18:17.523Z"
   },
   {
    "duration": 5,
    "start_time": "2022-03-20T09:18:17.571Z"
   },
   {
    "duration": 581,
    "start_time": "2022-03-20T09:18:17.579Z"
   },
   {
    "duration": 489,
    "start_time": "2022-03-20T09:18:18.167Z"
   },
   {
    "duration": 13,
    "start_time": "2022-03-20T09:18:18.658Z"
   },
   {
    "duration": 11,
    "start_time": "2022-03-20T09:18:18.674Z"
   },
   {
    "duration": 342,
    "start_time": "2022-03-20T09:18:18.688Z"
   },
   {
    "duration": 36,
    "start_time": "2022-03-20T09:18:19.033Z"
   },
   {
    "duration": 311,
    "start_time": "2022-03-20T09:18:19.071Z"
   },
   {
    "duration": 401,
    "start_time": "2022-03-20T09:18:19.384Z"
   },
   {
    "duration": 21,
    "start_time": "2022-03-20T09:18:19.788Z"
   },
   {
    "duration": 424,
    "start_time": "2022-03-20T09:18:19.812Z"
   },
   {
    "duration": 421,
    "start_time": "2022-03-20T09:18:20.238Z"
   },
   {
    "duration": 22,
    "start_time": "2022-03-20T09:18:20.661Z"
   },
   {
    "duration": 432,
    "start_time": "2022-03-20T09:18:20.685Z"
   },
   {
    "duration": 413,
    "start_time": "2022-03-20T09:18:21.120Z"
   },
   {
    "duration": 19,
    "start_time": "2022-03-20T09:18:21.535Z"
   },
   {
    "duration": 368,
    "start_time": "2022-03-20T09:18:21.568Z"
   },
   {
    "duration": 404,
    "start_time": "2022-03-20T09:18:21.939Z"
   },
   {
    "duration": 4,
    "start_time": "2022-03-20T09:18:22.346Z"
   },
   {
    "duration": 27,
    "start_time": "2022-03-20T09:18:22.353Z"
   },
   {
    "duration": 11,
    "start_time": "2022-03-20T09:18:22.384Z"
   },
   {
    "duration": 8,
    "start_time": "2022-03-20T09:18:22.405Z"
   },
   {
    "duration": 7,
    "start_time": "2022-03-20T09:18:22.416Z"
   },
   {
    "duration": 13,
    "start_time": "2022-03-20T09:18:22.425Z"
   },
   {
    "duration": 28,
    "start_time": "2022-03-20T09:18:22.440Z"
   },
   {
    "duration": 9,
    "start_time": "2022-03-20T09:18:22.470Z"
   },
   {
    "duration": 14,
    "start_time": "2022-03-20T09:18:22.482Z"
   },
   {
    "duration": 7,
    "start_time": "2022-03-20T09:18:22.499Z"
   },
   {
    "duration": 15,
    "start_time": "2022-03-20T09:18:22.508Z"
   },
   {
    "duration": 0,
    "start_time": "2022-03-20T09:18:22.526Z"
   },
   {
    "duration": 5,
    "start_time": "2022-03-20T09:18:39.628Z"
   },
   {
    "duration": 19,
    "start_time": "2022-03-20T09:18:40.578Z"
   },
   {
    "duration": 6,
    "start_time": "2022-03-20T09:35:53.497Z"
   },
   {
    "duration": 6,
    "start_time": "2022-03-20T09:36:30.172Z"
   },
   {
    "duration": 10,
    "start_time": "2022-03-20T09:36:48.415Z"
   },
   {
    "duration": 5,
    "start_time": "2022-03-20T09:37:12.198Z"
   },
   {
    "duration": 574,
    "start_time": "2022-03-20T09:37:12.207Z"
   },
   {
    "duration": 7,
    "start_time": "2022-03-20T09:37:12.783Z"
   },
   {
    "duration": 75,
    "start_time": "2022-03-20T09:37:12.793Z"
   },
   {
    "duration": 108,
    "start_time": "2022-03-20T09:37:12.873Z"
   },
   {
    "duration": 55,
    "start_time": "2022-03-20T09:37:12.984Z"
   },
   {
    "duration": 131,
    "start_time": "2022-03-20T09:37:13.042Z"
   },
   {
    "duration": 62,
    "start_time": "2022-03-20T09:37:13.176Z"
   },
   {
    "duration": 31,
    "start_time": "2022-03-20T09:37:13.240Z"
   },
   {
    "duration": 18,
    "start_time": "2022-03-20T09:37:13.274Z"
   },
   {
    "duration": 18,
    "start_time": "2022-03-20T09:37:13.294Z"
   },
   {
    "duration": 70,
    "start_time": "2022-03-20T09:37:13.314Z"
   },
   {
    "duration": 8,
    "start_time": "2022-03-20T09:37:13.386Z"
   },
   {
    "duration": 11,
    "start_time": "2022-03-20T09:37:13.399Z"
   },
   {
    "duration": 26,
    "start_time": "2022-03-20T09:37:13.412Z"
   },
   {
    "duration": 30,
    "start_time": "2022-03-20T09:37:13.468Z"
   },
   {
    "duration": 11,
    "start_time": "2022-03-20T09:37:13.500Z"
   },
   {
    "duration": 55,
    "start_time": "2022-03-20T09:37:13.513Z"
   },
   {
    "duration": 40,
    "start_time": "2022-03-20T09:37:13.570Z"
   },
   {
    "duration": 24,
    "start_time": "2022-03-20T09:37:13.612Z"
   },
   {
    "duration": 50,
    "start_time": "2022-03-20T09:37:13.639Z"
   },
   {
    "duration": 5,
    "start_time": "2022-03-20T09:37:13.692Z"
   },
   {
    "duration": 5,
    "start_time": "2022-03-20T09:37:13.700Z"
   },
   {
    "duration": 13,
    "start_time": "2022-03-20T09:37:13.707Z"
   },
   {
    "duration": 50,
    "start_time": "2022-03-20T09:37:13.722Z"
   },
   {
    "duration": 22,
    "start_time": "2022-03-20T09:37:13.774Z"
   },
   {
    "duration": 6,
    "start_time": "2022-03-20T09:37:13.798Z"
   },
   {
    "duration": 7,
    "start_time": "2022-03-20T09:37:13.806Z"
   },
   {
    "duration": 14,
    "start_time": "2022-03-20T09:37:13.815Z"
   },
   {
    "duration": 43,
    "start_time": "2022-03-20T09:37:13.831Z"
   },
   {
    "duration": 246,
    "start_time": "2022-03-20T09:37:13.877Z"
   },
   {
    "duration": 4,
    "start_time": "2022-03-20T09:37:14.125Z"
   },
   {
    "duration": 93,
    "start_time": "2022-03-20T09:37:14.132Z"
   },
   {
    "duration": 12,
    "start_time": "2022-03-20T09:37:14.227Z"
   },
   {
    "duration": 27,
    "start_time": "2022-03-20T09:37:14.242Z"
   },
   {
    "duration": 12,
    "start_time": "2022-03-20T09:37:14.271Z"
   },
   {
    "duration": 38,
    "start_time": "2022-03-20T09:37:14.285Z"
   },
   {
    "duration": 3,
    "start_time": "2022-03-20T09:37:14.325Z"
   },
   {
    "duration": 43,
    "start_time": "2022-03-20T09:37:14.331Z"
   },
   {
    "duration": 13,
    "start_time": "2022-03-20T09:37:14.376Z"
   },
   {
    "duration": 24,
    "start_time": "2022-03-20T09:37:14.397Z"
   },
   {
    "duration": 44,
    "start_time": "2022-03-20T09:37:14.423Z"
   },
   {
    "duration": 16,
    "start_time": "2022-03-20T09:37:14.469Z"
   },
   {
    "duration": 19,
    "start_time": "2022-03-20T09:37:14.487Z"
   },
   {
    "duration": 5,
    "start_time": "2022-03-20T09:37:14.509Z"
   },
   {
    "duration": 11,
    "start_time": "2022-03-20T09:37:14.516Z"
   },
   {
    "duration": 50,
    "start_time": "2022-03-20T09:37:14.530Z"
   },
   {
    "duration": 31,
    "start_time": "2022-03-20T09:37:14.582Z"
   },
   {
    "duration": 160,
    "start_time": "2022-03-20T09:37:14.615Z"
   },
   {
    "duration": 7,
    "start_time": "2022-03-20T09:37:14.778Z"
   },
   {
    "duration": 15,
    "start_time": "2022-03-20T09:37:14.787Z"
   },
   {
    "duration": 14,
    "start_time": "2022-03-20T09:37:14.805Z"
   },
   {
    "duration": 6,
    "start_time": "2022-03-20T09:37:14.822Z"
   },
   {
    "duration": 252,
    "start_time": "2022-03-20T09:37:14.831Z"
   },
   {
    "duration": 6,
    "start_time": "2022-03-20T09:37:15.085Z"
   },
   {
    "duration": 19,
    "start_time": "2022-03-20T09:37:15.093Z"
   },
   {
    "duration": 10,
    "start_time": "2022-03-20T09:37:15.114Z"
   },
   {
    "duration": 58,
    "start_time": "2022-03-20T09:37:15.127Z"
   },
   {
    "duration": 7,
    "start_time": "2022-03-20T09:37:15.188Z"
   },
   {
    "duration": 516,
    "start_time": "2022-03-20T09:37:15.197Z"
   },
   {
    "duration": 18,
    "start_time": "2022-03-20T09:37:15.715Z"
   },
   {
    "duration": 5,
    "start_time": "2022-03-20T09:37:15.734Z"
   },
   {
    "duration": 422,
    "start_time": "2022-03-20T09:37:15.741Z"
   },
   {
    "duration": 349,
    "start_time": "2022-03-20T09:37:16.167Z"
   },
   {
    "duration": 8,
    "start_time": "2022-03-20T09:37:16.519Z"
   },
   {
    "duration": 7,
    "start_time": "2022-03-20T09:37:16.529Z"
   },
   {
    "duration": 412,
    "start_time": "2022-03-20T09:37:16.539Z"
   },
   {
    "duration": 26,
    "start_time": "2022-03-20T09:37:16.953Z"
   },
   {
    "duration": 289,
    "start_time": "2022-03-20T09:37:16.981Z"
   },
   {
    "duration": 373,
    "start_time": "2022-03-20T09:37:17.272Z"
   },
   {
    "duration": 28,
    "start_time": "2022-03-20T09:37:17.647Z"
   },
   {
    "duration": 6,
    "start_time": "2022-03-20T09:37:17.677Z"
   },
   {
    "duration": 18,
    "start_time": "2022-03-20T09:37:17.686Z"
   },
   {
    "duration": 0,
    "start_time": "2022-03-20T09:37:17.708Z"
   },
   {
    "duration": 0,
    "start_time": "2022-03-20T09:37:17.710Z"
   },
   {
    "duration": 0,
    "start_time": "2022-03-20T09:37:17.712Z"
   },
   {
    "duration": 0,
    "start_time": "2022-03-20T09:37:17.713Z"
   },
   {
    "duration": 0,
    "start_time": "2022-03-20T09:37:17.716Z"
   },
   {
    "duration": 0,
    "start_time": "2022-03-20T09:37:17.718Z"
   },
   {
    "duration": 0,
    "start_time": "2022-03-20T09:37:17.768Z"
   },
   {
    "duration": 0,
    "start_time": "2022-03-20T09:37:17.770Z"
   },
   {
    "duration": 0,
    "start_time": "2022-03-20T09:37:17.771Z"
   },
   {
    "duration": 0,
    "start_time": "2022-03-20T09:37:17.773Z"
   },
   {
    "duration": 0,
    "start_time": "2022-03-20T09:37:17.776Z"
   },
   {
    "duration": 0,
    "start_time": "2022-03-20T09:37:17.778Z"
   },
   {
    "duration": 0,
    "start_time": "2022-03-20T09:37:17.779Z"
   },
   {
    "duration": 0,
    "start_time": "2022-03-20T09:37:17.781Z"
   },
   {
    "duration": 0,
    "start_time": "2022-03-20T09:37:17.782Z"
   },
   {
    "duration": 0,
    "start_time": "2022-03-20T09:37:17.784Z"
   },
   {
    "duration": 0,
    "start_time": "2022-03-20T09:37:17.785Z"
   },
   {
    "duration": 0,
    "start_time": "2022-03-20T09:37:17.787Z"
   },
   {
    "duration": 0,
    "start_time": "2022-03-20T09:37:17.789Z"
   },
   {
    "duration": 0,
    "start_time": "2022-03-20T09:37:17.790Z"
   },
   {
    "duration": 340,
    "start_time": "2022-03-20T09:38:08.939Z"
   },
   {
    "duration": 5,
    "start_time": "2022-03-20T09:39:25.265Z"
   },
   {
    "duration": 380,
    "start_time": "2022-03-20T09:39:25.944Z"
   },
   {
    "duration": 6,
    "start_time": "2022-03-20T09:40:18.274Z"
   },
   {
    "duration": 393,
    "start_time": "2022-03-20T09:40:19.300Z"
   },
   {
    "duration": 6,
    "start_time": "2022-03-20T09:42:25.996Z"
   },
   {
    "duration": 390,
    "start_time": "2022-03-20T09:42:27.280Z"
   },
   {
    "duration": 6,
    "start_time": "2022-03-20T09:43:30.305Z"
   },
   {
    "duration": 417,
    "start_time": "2022-03-20T09:43:30.785Z"
   },
   {
    "duration": 396,
    "start_time": "2022-03-20T09:44:17.453Z"
   },
   {
    "duration": 411,
    "start_time": "2022-03-20T09:44:18.051Z"
   },
   {
    "duration": 6,
    "start_time": "2022-03-20T09:47:02.745Z"
   },
   {
    "duration": 813,
    "start_time": "2022-03-20T09:47:03.707Z"
   },
   {
    "duration": 6,
    "start_time": "2022-03-20T09:48:32.891Z"
   },
   {
    "duration": 426,
    "start_time": "2022-03-20T09:48:33.627Z"
   },
   {
    "duration": 6,
    "start_time": "2022-03-20T09:49:14.858Z"
   },
   {
    "duration": 22,
    "start_time": "2022-03-20T09:49:15.453Z"
   },
   {
    "duration": 8,
    "start_time": "2022-03-20T09:49:58.344Z"
   },
   {
    "duration": 690,
    "start_time": "2022-03-20T09:49:59.209Z"
   },
   {
    "duration": 6,
    "start_time": "2022-03-20T09:50:14.407Z"
   },
   {
    "duration": 20,
    "start_time": "2022-03-20T09:50:15.379Z"
   },
   {
    "duration": 6,
    "start_time": "2022-03-20T09:50:34.042Z"
   },
   {
    "duration": 472,
    "start_time": "2022-03-20T09:50:34.576Z"
   },
   {
    "duration": 7,
    "start_time": "2022-03-20T09:51:08.413Z"
   },
   {
    "duration": 457,
    "start_time": "2022-03-20T09:51:09.040Z"
   },
   {
    "duration": 8,
    "start_time": "2022-03-20T09:51:39.189Z"
   },
   {
    "duration": 453,
    "start_time": "2022-03-20T09:51:39.745Z"
   },
   {
    "duration": 9,
    "start_time": "2022-03-20T09:54:18.071Z"
   },
   {
    "duration": 512,
    "start_time": "2022-03-20T09:54:18.601Z"
   },
   {
    "duration": 5,
    "start_time": "2022-03-20T09:56:10.481Z"
   },
   {
    "duration": 587,
    "start_time": "2022-03-20T09:56:10.490Z"
   },
   {
    "duration": 6,
    "start_time": "2022-03-20T09:56:11.080Z"
   },
   {
    "duration": 86,
    "start_time": "2022-03-20T09:56:11.088Z"
   },
   {
    "duration": 101,
    "start_time": "2022-03-20T09:56:11.177Z"
   },
   {
    "duration": 52,
    "start_time": "2022-03-20T09:56:11.281Z"
   },
   {
    "duration": 100,
    "start_time": "2022-03-20T09:56:11.336Z"
   },
   {
    "duration": 79,
    "start_time": "2022-03-20T09:56:11.439Z"
   },
   {
    "duration": 7,
    "start_time": "2022-03-20T09:56:11.521Z"
   },
   {
    "duration": 45,
    "start_time": "2022-03-20T09:56:11.531Z"
   },
   {
    "duration": 17,
    "start_time": "2022-03-20T09:56:11.582Z"
   },
   {
    "duration": 73,
    "start_time": "2022-03-20T09:56:11.602Z"
   },
   {
    "duration": 7,
    "start_time": "2022-03-20T09:56:11.678Z"
   },
   {
    "duration": 13,
    "start_time": "2022-03-20T09:56:11.687Z"
   },
   {
    "duration": 68,
    "start_time": "2022-03-20T09:56:11.702Z"
   },
   {
    "duration": 29,
    "start_time": "2022-03-20T09:56:11.772Z"
   },
   {
    "duration": 12,
    "start_time": "2022-03-20T09:56:11.803Z"
   },
   {
    "duration": 56,
    "start_time": "2022-03-20T09:56:11.818Z"
   },
   {
    "duration": 34,
    "start_time": "2022-03-20T09:56:11.876Z"
   },
   {
    "duration": 23,
    "start_time": "2022-03-20T09:56:11.912Z"
   },
   {
    "duration": 59,
    "start_time": "2022-03-20T09:56:11.938Z"
   },
   {
    "duration": 5,
    "start_time": "2022-03-20T09:56:12.000Z"
   },
   {
    "duration": 5,
    "start_time": "2022-03-20T09:56:12.007Z"
   },
   {
    "duration": 14,
    "start_time": "2022-03-20T09:56:12.014Z"
   },
   {
    "duration": 44,
    "start_time": "2022-03-20T09:56:12.030Z"
   },
   {
    "duration": 24,
    "start_time": "2022-03-20T09:56:12.076Z"
   },
   {
    "duration": 6,
    "start_time": "2022-03-20T09:56:12.104Z"
   },
   {
    "duration": 14,
    "start_time": "2022-03-20T09:56:12.112Z"
   },
   {
    "duration": 37,
    "start_time": "2022-03-20T09:56:12.133Z"
   },
   {
    "duration": 27,
    "start_time": "2022-03-20T09:56:12.173Z"
   },
   {
    "duration": 322,
    "start_time": "2022-03-20T09:56:12.203Z"
   },
   {
    "duration": 4,
    "start_time": "2022-03-20T09:56:12.528Z"
   },
   {
    "duration": 92,
    "start_time": "2022-03-20T09:56:12.534Z"
   },
   {
    "duration": 14,
    "start_time": "2022-03-20T09:56:12.629Z"
   },
   {
    "duration": 30,
    "start_time": "2022-03-20T09:56:12.645Z"
   },
   {
    "duration": 11,
    "start_time": "2022-03-20T09:56:12.677Z"
   },
   {
    "duration": 47,
    "start_time": "2022-03-20T09:56:12.690Z"
   },
   {
    "duration": 29,
    "start_time": "2022-03-20T09:56:12.739Z"
   },
   {
    "duration": 14,
    "start_time": "2022-03-20T09:56:12.770Z"
   },
   {
    "duration": 16,
    "start_time": "2022-03-20T09:56:12.787Z"
   },
   {
    "duration": 62,
    "start_time": "2022-03-20T09:56:12.806Z"
   },
   {
    "duration": 9,
    "start_time": "2022-03-20T09:56:12.870Z"
   },
   {
    "duration": 18,
    "start_time": "2022-03-20T09:56:12.881Z"
   },
   {
    "duration": 21,
    "start_time": "2022-03-20T09:56:12.901Z"
   },
   {
    "duration": 5,
    "start_time": "2022-03-20T09:56:12.924Z"
   },
   {
    "duration": 10,
    "start_time": "2022-03-20T09:56:12.968Z"
   },
   {
    "duration": 16,
    "start_time": "2022-03-20T09:56:12.980Z"
   },
   {
    "duration": 31,
    "start_time": "2022-03-20T09:56:12.998Z"
   },
   {
    "duration": 182,
    "start_time": "2022-03-20T09:56:13.032Z"
   },
   {
    "duration": 7,
    "start_time": "2022-03-20T09:56:13.216Z"
   },
   {
    "duration": 13,
    "start_time": "2022-03-20T09:56:13.225Z"
   },
   {
    "duration": 14,
    "start_time": "2022-03-20T09:56:13.269Z"
   },
   {
    "duration": 5,
    "start_time": "2022-03-20T09:56:13.286Z"
   },
   {
    "duration": 209,
    "start_time": "2022-03-20T09:56:13.294Z"
   },
   {
    "duration": 7,
    "start_time": "2022-03-20T09:56:13.505Z"
   },
   {
    "duration": 23,
    "start_time": "2022-03-20T09:56:13.514Z"
   },
   {
    "duration": 28,
    "start_time": "2022-03-20T09:56:13.539Z"
   },
   {
    "duration": 34,
    "start_time": "2022-03-20T09:56:13.570Z"
   },
   {
    "duration": 10,
    "start_time": "2022-03-20T09:56:13.607Z"
   },
   {
    "duration": 642,
    "start_time": "2022-03-20T09:56:13.620Z"
   },
   {
    "duration": 23,
    "start_time": "2022-03-20T09:56:14.269Z"
   },
   {
    "duration": 4,
    "start_time": "2022-03-20T09:56:14.294Z"
   },
   {
    "duration": 462,
    "start_time": "2022-03-20T09:56:14.300Z"
   },
   {
    "duration": 369,
    "start_time": "2022-03-20T09:56:14.768Z"
   },
   {
    "duration": 8,
    "start_time": "2022-03-20T09:56:15.139Z"
   },
   {
    "duration": 20,
    "start_time": "2022-03-20T09:56:15.149Z"
   },
   {
    "duration": 324,
    "start_time": "2022-03-20T09:56:15.172Z"
   },
   {
    "duration": 17,
    "start_time": "2022-03-20T09:56:15.498Z"
   },
   {
    "duration": 299,
    "start_time": "2022-03-20T09:56:15.517Z"
   },
   {
    "duration": 270,
    "start_time": "2022-03-20T09:56:15.818Z"
   },
   {
    "duration": 18,
    "start_time": "2022-03-20T09:56:16.091Z"
   },
   {
    "duration": 7,
    "start_time": "2022-03-20T09:56:16.111Z"
   },
   {
    "duration": 476,
    "start_time": "2022-03-20T09:56:16.120Z"
   },
   {
    "duration": 463,
    "start_time": "2022-03-20T09:56:16.599Z"
   },
   {
    "duration": 459,
    "start_time": "2022-03-20T09:56:17.068Z"
   },
   {
    "duration": 18,
    "start_time": "2022-03-20T09:56:17.529Z"
   },
   {
    "duration": 388,
    "start_time": "2022-03-20T09:56:17.549Z"
   },
   {
    "duration": 408,
    "start_time": "2022-03-20T09:56:17.940Z"
   },
   {
    "duration": 30,
    "start_time": "2022-03-20T09:56:18.350Z"
   },
   {
    "duration": 399,
    "start_time": "2022-03-20T09:56:18.382Z"
   },
   {
    "duration": 494,
    "start_time": "2022-03-20T09:56:18.784Z"
   },
   {
    "duration": 4,
    "start_time": "2022-03-20T09:56:19.280Z"
   },
   {
    "duration": 6,
    "start_time": "2022-03-20T09:56:19.295Z"
   },
   {
    "duration": 9,
    "start_time": "2022-03-20T09:56:19.303Z"
   },
   {
    "duration": 7,
    "start_time": "2022-03-20T09:56:19.315Z"
   },
   {
    "duration": 10,
    "start_time": "2022-03-20T09:56:19.324Z"
   },
   {
    "duration": 9,
    "start_time": "2022-03-20T09:56:19.367Z"
   },
   {
    "duration": 6,
    "start_time": "2022-03-20T09:56:19.378Z"
   },
   {
    "duration": 10,
    "start_time": "2022-03-20T09:56:19.387Z"
   },
   {
    "duration": 11,
    "start_time": "2022-03-20T09:56:19.399Z"
   },
   {
    "duration": 5,
    "start_time": "2022-03-20T09:56:19.413Z"
   },
   {
    "duration": 7,
    "start_time": "2022-03-20T09:56:19.420Z"
   },
   {
    "duration": 46,
    "start_time": "2022-03-20T09:56:19.429Z"
   },
   {
    "duration": 390,
    "start_time": "2022-03-20T09:56:48.389Z"
   },
   {
    "duration": 564,
    "start_time": "2022-03-20T09:57:55.997Z"
   },
   {
    "duration": 702,
    "start_time": "2022-03-20T09:58:01.372Z"
   },
   {
    "duration": 412,
    "start_time": "2022-03-20T09:59:47.103Z"
   },
   {
    "duration": 649,
    "start_time": "2022-03-20T10:00:40.073Z"
   },
   {
    "duration": 6,
    "start_time": "2022-03-20T10:04:48.558Z"
   },
   {
    "duration": 459,
    "start_time": "2022-03-20T10:04:49.179Z"
   },
   {
    "duration": 6,
    "start_time": "2022-03-20T10:07:02.850Z"
   },
   {
    "duration": 466,
    "start_time": "2022-03-20T10:07:03.401Z"
   },
   {
    "duration": 404,
    "start_time": "2022-03-20T10:07:32.746Z"
   },
   {
    "duration": 459,
    "start_time": "2022-03-20T10:08:00.841Z"
   },
   {
    "duration": 686,
    "start_time": "2022-03-20T10:14:51.052Z"
   },
   {
    "duration": 713,
    "start_time": "2022-03-20T10:15:06.262Z"
   },
   {
    "duration": 411,
    "start_time": "2022-03-20T10:15:16.945Z"
   },
   {
    "duration": 364,
    "start_time": "2022-03-20T10:15:47.040Z"
   },
   {
    "duration": 2192,
    "start_time": "2022-03-20T10:16:05.537Z"
   },
   {
    "duration": 356,
    "start_time": "2022-03-20T10:16:18.333Z"
   },
   {
    "duration": 105,
    "start_time": "2022-03-20T10:22:04.132Z"
   },
   {
    "duration": 580,
    "start_time": "2022-03-20T10:22:47.462Z"
   },
   {
    "duration": 21,
    "start_time": "2022-03-20T10:27:06.861Z"
   },
   {
    "duration": 123,
    "start_time": "2022-03-20T10:27:40.925Z"
   },
   {
    "duration": 24,
    "start_time": "2022-03-20T10:28:03.689Z"
   },
   {
    "duration": 129,
    "start_time": "2022-03-20T10:29:09.442Z"
   },
   {
    "duration": 503,
    "start_time": "2022-03-20T10:29:17.189Z"
   },
   {
    "duration": 494,
    "start_time": "2022-03-20T10:30:17.183Z"
   },
   {
    "duration": 302,
    "start_time": "2022-03-20T10:30:28.519Z"
   },
   {
    "duration": 686,
    "start_time": "2022-03-20T10:36:02.446Z"
   },
   {
    "duration": 697,
    "start_time": "2022-03-20T10:36:37.466Z"
   },
   {
    "duration": 2344,
    "start_time": "2022-03-20T10:37:09.632Z"
   },
   {
    "duration": 666,
    "start_time": "2022-03-20T10:37:28.267Z"
   },
   {
    "duration": 477,
    "start_time": "2022-03-20T10:38:12.693Z"
   },
   {
    "duration": 345,
    "start_time": "2022-03-20T10:38:20.542Z"
   },
   {
    "duration": 499,
    "start_time": "2022-03-20T10:40:08.283Z"
   },
   {
    "duration": 491,
    "start_time": "2022-03-20T10:40:28.924Z"
   },
   {
    "duration": 493,
    "start_time": "2022-03-20T10:41:10.678Z"
   },
   {
    "duration": 509,
    "start_time": "2022-03-20T10:41:15.224Z"
   },
   {
    "duration": 515,
    "start_time": "2022-03-20T10:42:29.577Z"
   },
   {
    "duration": 558,
    "start_time": "2022-03-20T10:43:35.879Z"
   },
   {
    "duration": 1613,
    "start_time": "2022-03-20T10:59:19.413Z"
   },
   {
    "duration": 503,
    "start_time": "2022-03-20T10:59:21.029Z"
   },
   {
    "duration": 5,
    "start_time": "2022-03-20T10:59:21.535Z"
   },
   {
    "duration": 71,
    "start_time": "2022-03-20T10:59:21.543Z"
   },
   {
    "duration": 107,
    "start_time": "2022-03-20T10:59:21.616Z"
   },
   {
    "duration": 75,
    "start_time": "2022-03-20T10:59:21.725Z"
   },
   {
    "duration": 100,
    "start_time": "2022-03-20T10:59:21.802Z"
   },
   {
    "duration": 118,
    "start_time": "2022-03-20T10:59:21.904Z"
   },
   {
    "duration": 12,
    "start_time": "2022-03-20T10:59:22.025Z"
   },
   {
    "duration": 45,
    "start_time": "2022-03-20T10:59:22.043Z"
   },
   {
    "duration": 20,
    "start_time": "2022-03-20T10:59:22.091Z"
   },
   {
    "duration": 74,
    "start_time": "2022-03-20T10:59:22.113Z"
   },
   {
    "duration": 7,
    "start_time": "2022-03-20T10:59:22.190Z"
   },
   {
    "duration": 15,
    "start_time": "2022-03-20T10:59:22.199Z"
   },
   {
    "duration": 52,
    "start_time": "2022-03-20T10:59:22.217Z"
   },
   {
    "duration": 30,
    "start_time": "2022-03-20T10:59:22.271Z"
   },
   {
    "duration": 10,
    "start_time": "2022-03-20T10:59:22.304Z"
   },
   {
    "duration": 21,
    "start_time": "2022-03-20T10:59:22.317Z"
   },
   {
    "duration": 38,
    "start_time": "2022-03-20T10:59:22.369Z"
   },
   {
    "duration": 30,
    "start_time": "2022-03-20T10:59:22.409Z"
   },
   {
    "duration": 59,
    "start_time": "2022-03-20T10:59:22.442Z"
   },
   {
    "duration": 6,
    "start_time": "2022-03-20T10:59:22.504Z"
   },
   {
    "duration": 6,
    "start_time": "2022-03-20T10:59:22.513Z"
   },
   {
    "duration": 51,
    "start_time": "2022-03-20T10:59:22.523Z"
   },
   {
    "duration": 18,
    "start_time": "2022-03-20T10:59:22.577Z"
   },
   {
    "duration": 36,
    "start_time": "2022-03-20T10:59:22.599Z"
   },
   {
    "duration": 32,
    "start_time": "2022-03-20T10:59:22.638Z"
   },
   {
    "duration": 8,
    "start_time": "2022-03-20T10:59:22.684Z"
   },
   {
    "duration": 17,
    "start_time": "2022-03-20T10:59:22.695Z"
   },
   {
    "duration": 54,
    "start_time": "2022-03-20T10:59:22.715Z"
   },
   {
    "duration": 303,
    "start_time": "2022-03-20T10:59:22.772Z"
   },
   {
    "duration": 4,
    "start_time": "2022-03-20T10:59:23.077Z"
   },
   {
    "duration": 90,
    "start_time": "2022-03-20T10:59:23.083Z"
   },
   {
    "duration": 13,
    "start_time": "2022-03-20T10:59:23.176Z"
   },
   {
    "duration": 15,
    "start_time": "2022-03-20T10:59:23.192Z"
   },
   {
    "duration": 14,
    "start_time": "2022-03-20T10:59:23.210Z"
   },
   {
    "duration": 89,
    "start_time": "2022-03-20T10:59:23.226Z"
   },
   {
    "duration": 4,
    "start_time": "2022-03-20T10:59:23.318Z"
   },
   {
    "duration": 14,
    "start_time": "2022-03-20T10:59:23.325Z"
   },
   {
    "duration": 534,
    "start_time": "2022-03-20T10:59:23.368Z"
   },
   {
    "duration": 530,
    "start_time": "2022-03-20T10:59:23.905Z"
   },
   {
    "duration": 30,
    "start_time": "2022-03-20T10:59:24.438Z"
   },
   {
    "duration": 28,
    "start_time": "2022-03-20T10:59:24.472Z"
   },
   {
    "duration": 11,
    "start_time": "2022-03-20T10:59:24.503Z"
   },
   {
    "duration": 758,
    "start_time": "2022-03-20T10:59:24.516Z"
   },
   {
    "duration": 22,
    "start_time": "2022-03-20T10:59:25.277Z"
   },
   {
    "duration": 43,
    "start_time": "2022-03-20T10:59:25.302Z"
   },
   {
    "duration": 21,
    "start_time": "2022-03-20T10:59:25.348Z"
   },
   {
    "duration": 24,
    "start_time": "2022-03-20T10:59:25.371Z"
   },
   {
    "duration": 380,
    "start_time": "2022-03-20T10:59:25.397Z"
   },
   {
    "duration": 15,
    "start_time": "2022-03-20T10:59:25.780Z"
   },
   {
    "duration": 32,
    "start_time": "2022-03-20T10:59:25.797Z"
   },
   {
    "duration": 172,
    "start_time": "2022-03-20T10:59:25.832Z"
   },
   {
    "duration": 7,
    "start_time": "2022-03-20T10:59:26.006Z"
   },
   {
    "duration": 13,
    "start_time": "2022-03-20T10:59:26.016Z"
   },
   {
    "duration": 43,
    "start_time": "2022-03-20T10:59:26.031Z"
   },
   {
    "duration": 5,
    "start_time": "2022-03-20T10:59:26.076Z"
   },
   {
    "duration": 209,
    "start_time": "2022-03-20T10:59:26.084Z"
   },
   {
    "duration": 5,
    "start_time": "2022-03-20T10:59:26.296Z"
   },
   {
    "duration": 19,
    "start_time": "2022-03-20T10:59:26.303Z"
   },
   {
    "duration": 42,
    "start_time": "2022-03-20T10:59:26.325Z"
   },
   {
    "duration": 31,
    "start_time": "2022-03-20T10:59:26.370Z"
   },
   {
    "duration": 11,
    "start_time": "2022-03-20T10:59:26.403Z"
   },
   {
    "duration": 461,
    "start_time": "2022-03-20T10:59:26.417Z"
   },
   {
    "duration": 173,
    "start_time": "2022-03-20T10:59:26.881Z"
   },
   {
    "duration": 5,
    "start_time": "2022-03-20T10:59:27.067Z"
   },
   {
    "duration": 507,
    "start_time": "2022-03-20T10:59:27.074Z"
   },
   {
    "duration": 514,
    "start_time": "2022-03-20T10:59:27.584Z"
   },
   {
    "duration": 12,
    "start_time": "2022-03-20T10:59:28.101Z"
   },
   {
    "duration": 10,
    "start_time": "2022-03-20T10:59:28.116Z"
   },
   {
    "duration": 332,
    "start_time": "2022-03-20T10:59:28.129Z"
   },
   {
    "duration": 21,
    "start_time": "2022-03-20T10:59:28.463Z"
   },
   {
    "duration": 312,
    "start_time": "2022-03-20T10:59:28.486Z"
   },
   {
    "duration": 275,
    "start_time": "2022-03-20T10:59:28.800Z"
   },
   {
    "duration": 20,
    "start_time": "2022-03-20T10:59:29.077Z"
   },
   {
    "duration": 6,
    "start_time": "2022-03-20T10:59:29.100Z"
   },
   {
    "duration": 512,
    "start_time": "2022-03-20T10:59:29.108Z"
   },
   {
    "duration": 406,
    "start_time": "2022-03-20T10:59:29.623Z"
   },
   {
    "duration": 411,
    "start_time": "2022-03-20T10:59:30.031Z"
   },
   {
    "duration": 28,
    "start_time": "2022-03-20T10:59:30.445Z"
   },
   {
    "duration": 439,
    "start_time": "2022-03-20T10:59:30.475Z"
   },
   {
    "duration": 517,
    "start_time": "2022-03-20T10:59:30.925Z"
   },
   {
    "duration": 414,
    "start_time": "2022-03-20T10:59:31.445Z"
   },
   {
    "duration": 20,
    "start_time": "2022-03-20T10:59:31.866Z"
   },
   {
    "duration": 509,
    "start_time": "2022-03-20T10:59:31.889Z"
   },
   {
    "duration": 482,
    "start_time": "2022-03-20T10:59:32.402Z"
   },
   {
    "duration": 570,
    "start_time": "2022-03-20T10:59:32.888Z"
   },
   {
    "duration": 4,
    "start_time": "2022-03-20T10:59:33.469Z"
   },
   {
    "duration": 18,
    "start_time": "2022-03-20T10:59:33.476Z"
   },
   {
    "duration": 5,
    "start_time": "2022-03-20T10:59:33.497Z"
   },
   {
    "duration": 8,
    "start_time": "2022-03-20T10:59:33.505Z"
   },
   {
    "duration": 6,
    "start_time": "2022-03-20T10:59:33.516Z"
   },
   {
    "duration": 10,
    "start_time": "2022-03-20T10:59:33.525Z"
   },
   {
    "duration": 31,
    "start_time": "2022-03-20T10:59:33.537Z"
   },
   {
    "duration": 8,
    "start_time": "2022-03-20T10:59:33.571Z"
   },
   {
    "duration": 14,
    "start_time": "2022-03-20T10:59:33.582Z"
   },
   {
    "duration": 6,
    "start_time": "2022-03-20T10:59:33.598Z"
   },
   {
    "duration": 13,
    "start_time": "2022-03-20T10:59:33.606Z"
   },
   {
    "duration": 9,
    "start_time": "2022-03-20T10:59:33.621Z"
   },
   {
    "duration": 94,
    "start_time": "2022-03-20T12:33:49.854Z"
   },
   {
    "duration": 1481,
    "start_time": "2022-03-20T12:51:53.059Z"
   },
   {
    "duration": 480,
    "start_time": "2022-03-20T12:51:54.542Z"
   },
   {
    "duration": 5,
    "start_time": "2022-03-20T12:51:55.024Z"
   },
   {
    "duration": 67,
    "start_time": "2022-03-20T12:51:55.032Z"
   },
   {
    "duration": 97,
    "start_time": "2022-03-20T12:51:55.101Z"
   },
   {
    "duration": 72,
    "start_time": "2022-03-20T12:51:55.200Z"
   },
   {
    "duration": 94,
    "start_time": "2022-03-20T12:51:55.274Z"
   },
   {
    "duration": 62,
    "start_time": "2022-03-20T12:51:55.370Z"
   },
   {
    "duration": 33,
    "start_time": "2022-03-20T12:51:55.435Z"
   },
   {
    "duration": 16,
    "start_time": "2022-03-20T12:51:55.473Z"
   },
   {
    "duration": 16,
    "start_time": "2022-03-20T12:51:55.492Z"
   },
   {
    "duration": 83,
    "start_time": "2022-03-20T12:51:55.511Z"
   },
   {
    "duration": 9,
    "start_time": "2022-03-20T12:51:55.596Z"
   },
   {
    "duration": 13,
    "start_time": "2022-03-20T12:51:55.607Z"
   },
   {
    "duration": 53,
    "start_time": "2022-03-20T12:51:55.623Z"
   },
   {
    "duration": 29,
    "start_time": "2022-03-20T12:51:55.679Z"
   },
   {
    "duration": 10,
    "start_time": "2022-03-20T12:51:55.710Z"
   },
   {
    "duration": 50,
    "start_time": "2022-03-20T12:51:55.723Z"
   },
   {
    "duration": 34,
    "start_time": "2022-03-20T12:51:55.775Z"
   },
   {
    "duration": 28,
    "start_time": "2022-03-20T12:51:55.812Z"
   },
   {
    "duration": 54,
    "start_time": "2022-03-20T12:51:55.843Z"
   },
   {
    "duration": 5,
    "start_time": "2022-03-20T12:51:55.899Z"
   },
   {
    "duration": 11,
    "start_time": "2022-03-20T12:51:55.906Z"
   },
   {
    "duration": 14,
    "start_time": "2022-03-20T12:51:55.919Z"
   },
   {
    "duration": 39,
    "start_time": "2022-03-20T12:51:55.935Z"
   },
   {
    "duration": 24,
    "start_time": "2022-03-20T12:51:55.976Z"
   },
   {
    "duration": 6,
    "start_time": "2022-03-20T12:51:56.002Z"
   },
   {
    "duration": 5,
    "start_time": "2022-03-20T12:51:56.015Z"
   },
   {
    "duration": 51,
    "start_time": "2022-03-20T12:51:56.022Z"
   },
   {
    "duration": 23,
    "start_time": "2022-03-20T12:51:56.076Z"
   },
   {
    "duration": 255,
    "start_time": "2022-03-20T12:51:56.101Z"
   },
   {
    "duration": 9,
    "start_time": "2022-03-20T12:51:56.359Z"
   },
   {
    "duration": 69,
    "start_time": "2022-03-20T12:51:56.371Z"
   },
   {
    "duration": 33,
    "start_time": "2022-03-20T12:51:56.443Z"
   },
   {
    "duration": 16,
    "start_time": "2022-03-20T12:51:56.478Z"
   },
   {
    "duration": 12,
    "start_time": "2022-03-20T12:51:56.496Z"
   },
   {
    "duration": 74,
    "start_time": "2022-03-20T12:51:56.510Z"
   },
   {
    "duration": 4,
    "start_time": "2022-03-20T12:51:56.586Z"
   },
   {
    "duration": 13,
    "start_time": "2022-03-20T12:51:56.592Z"
   },
   {
    "duration": 525,
    "start_time": "2022-03-20T12:51:56.608Z"
   },
   {
    "duration": 496,
    "start_time": "2022-03-20T12:51:57.136Z"
   },
   {
    "duration": 16,
    "start_time": "2022-03-20T12:51:57.634Z"
   },
   {
    "duration": 35,
    "start_time": "2022-03-20T12:51:57.652Z"
   },
   {
    "duration": 11,
    "start_time": "2022-03-20T12:51:57.689Z"
   },
   {
    "duration": 508,
    "start_time": "2022-03-20T12:51:57.702Z"
   },
   {
    "duration": 16,
    "start_time": "2022-03-20T12:51:58.212Z"
   },
   {
    "duration": 41,
    "start_time": "2022-03-20T12:51:58.231Z"
   },
   {
    "duration": 6,
    "start_time": "2022-03-20T12:51:58.274Z"
   },
   {
    "duration": 13,
    "start_time": "2022-03-20T12:51:58.282Z"
   },
   {
    "duration": 390,
    "start_time": "2022-03-20T12:51:58.298Z"
   },
   {
    "duration": 16,
    "start_time": "2022-03-20T12:51:58.690Z"
   },
   {
    "duration": 31,
    "start_time": "2022-03-20T12:51:58.708Z"
   },
   {
    "duration": 221,
    "start_time": "2022-03-20T12:51:58.766Z"
   },
   {
    "duration": 8,
    "start_time": "2022-03-20T12:51:58.990Z"
   },
   {
    "duration": 12,
    "start_time": "2022-03-20T12:51:59.001Z"
   },
   {
    "duration": 53,
    "start_time": "2022-03-20T12:51:59.016Z"
   },
   {
    "duration": 7,
    "start_time": "2022-03-20T12:51:59.072Z"
   },
   {
    "duration": 201,
    "start_time": "2022-03-20T12:51:59.081Z"
   },
   {
    "duration": 6,
    "start_time": "2022-03-20T12:51:59.284Z"
   },
   {
    "duration": 18,
    "start_time": "2022-03-20T12:51:59.293Z"
   },
   {
    "duration": 11,
    "start_time": "2022-03-20T12:51:59.314Z"
   },
   {
    "duration": 70,
    "start_time": "2022-03-20T12:51:59.327Z"
   },
   {
    "duration": 9,
    "start_time": "2022-03-20T12:51:59.400Z"
   },
   {
    "duration": 490,
    "start_time": "2022-03-20T12:51:59.411Z"
   },
   {
    "duration": 81,
    "start_time": "2022-03-20T12:51:59.904Z"
   },
   {
    "duration": 4,
    "start_time": "2022-03-20T12:51:59.987Z"
   },
   {
    "duration": 426,
    "start_time": "2022-03-20T12:51:59.993Z"
   },
   {
    "duration": 374,
    "start_time": "2022-03-20T12:52:00.422Z"
   },
   {
    "duration": 9,
    "start_time": "2022-03-20T12:52:00.798Z"
   },
   {
    "duration": 12,
    "start_time": "2022-03-20T12:52:00.809Z"
   },
   {
    "duration": 311,
    "start_time": "2022-03-20T12:52:00.824Z"
   },
   {
    "duration": 32,
    "start_time": "2022-03-20T12:52:01.137Z"
   },
   {
    "duration": 293,
    "start_time": "2022-03-20T12:52:01.171Z"
   },
   {
    "duration": 269,
    "start_time": "2022-03-20T12:52:01.467Z"
   },
   {
    "duration": 30,
    "start_time": "2022-03-20T12:52:01.739Z"
   },
   {
    "duration": 8,
    "start_time": "2022-03-20T12:52:01.771Z"
   },
   {
    "duration": 504,
    "start_time": "2022-03-20T12:52:01.781Z"
   },
   {
    "duration": 431,
    "start_time": "2022-03-20T12:52:02.288Z"
   },
   {
    "duration": 535,
    "start_time": "2022-03-20T12:52:02.723Z"
   },
   {
    "duration": 27,
    "start_time": "2022-03-20T12:52:03.269Z"
   },
   {
    "duration": 601,
    "start_time": "2022-03-20T12:52:03.300Z"
   },
   {
    "duration": 420,
    "start_time": "2022-03-20T12:52:03.911Z"
   },
   {
    "duration": 431,
    "start_time": "2022-03-20T12:52:04.333Z"
   },
   {
    "duration": 19,
    "start_time": "2022-03-20T12:52:04.767Z"
   },
   {
    "duration": 479,
    "start_time": "2022-03-20T12:52:04.788Z"
   },
   {
    "duration": 384,
    "start_time": "2022-03-20T12:52:05.270Z"
   },
   {
    "duration": 416,
    "start_time": "2022-03-20T12:52:05.656Z"
   },
   {
    "duration": 4,
    "start_time": "2022-03-20T12:52:06.075Z"
   },
   {
    "duration": 17,
    "start_time": "2022-03-20T12:52:06.086Z"
   },
   {
    "duration": 8,
    "start_time": "2022-03-20T12:52:06.106Z"
   },
   {
    "duration": 16,
    "start_time": "2022-03-20T12:52:06.116Z"
   },
   {
    "duration": 12,
    "start_time": "2022-03-20T12:52:06.135Z"
   },
   {
    "duration": 18,
    "start_time": "2022-03-20T12:52:06.149Z"
   },
   {
    "duration": 9,
    "start_time": "2022-03-20T12:52:06.170Z"
   },
   {
    "duration": 14,
    "start_time": "2022-03-20T12:52:06.182Z"
   },
   {
    "duration": 8,
    "start_time": "2022-03-20T12:52:06.198Z"
   },
   {
    "duration": 9,
    "start_time": "2022-03-20T12:52:06.208Z"
   },
   {
    "duration": 10,
    "start_time": "2022-03-20T12:52:06.219Z"
   },
   {
    "duration": 8,
    "start_time": "2022-03-20T12:52:06.231Z"
   }
  ],
  "kernelspec": {
   "display_name": "Python 3 (ipykernel)",
   "language": "python",
   "name": "python3"
  },
  "language_info": {
   "codemirror_mode": {
    "name": "ipython",
    "version": 3
   },
   "file_extension": ".py",
   "mimetype": "text/x-python",
   "name": "python",
   "nbconvert_exporter": "python",
   "pygments_lexer": "ipython3",
   "version": "3.9.5"
  },
  "toc": {
   "base_numbering": 1,
   "nav_menu": {
    "height": "624.983px",
    "width": "319.236px"
   },
   "number_sections": true,
   "sideBar": true,
   "skip_h1_title": true,
   "title_cell": "Table of Contents",
   "title_sidebar": "Contents",
   "toc_cell": false,
   "toc_position": {},
   "toc_section_display": true,
   "toc_window_display": false
  }
 },
 "nbformat": 4,
 "nbformat_minor": 2
}
