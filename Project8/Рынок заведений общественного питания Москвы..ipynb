{
 "cells": [
  {
   "cell_type": "markdown",
   "metadata": {
    "toc": true
   },
   "source": [
    "<h1>Table of Contents<span class=\"tocSkip\"></span></h1>\n",
    "<div class=\"toc\"><ul class=\"toc-item\"><li><span><a href=\"#Импорт-библиотек-и-предобработка-данных.\" data-toc-modified-id=\"Импорт-библиотек-и-предобработка-данных.-1\"><span class=\"toc-item-num\">1&nbsp;&nbsp;</span>Импорт библиотек и предобработка данных.</a></span></li><li><span><a href=\"#Анализ-данных.\" data-toc-modified-id=\"Анализ-данных.-2\"><span class=\"toc-item-num\">2&nbsp;&nbsp;</span>Анализ данных.</a></span><ul class=\"toc-item\"><li><span><a href=\"#Исследуем-соотношение-видов-объектов-общественного-питания-по-количеству.-Построим-график.\" data-toc-modified-id=\"Исследуем-соотношение-видов-объектов-общественного-питания-по-количеству.-Построим-график.-2.1\"><span class=\"toc-item-num\">2.1&nbsp;&nbsp;</span>Исследуем соотношение видов объектов общественного питания по количеству. Построим график.</a></span></li><li><span><a href=\"#Исследуем-соотношение-сетевых-и-несетевых-заведений-по-количеству.-Построим-график.\" data-toc-modified-id=\"Исследуем-соотношение-сетевых-и-несетевых-заведений-по-количеству.-Построим-график.-2.2\"><span class=\"toc-item-num\">2.2&nbsp;&nbsp;</span>Исследуем соотношение сетевых и несетевых заведений по количеству. Построим график.</a></span></li><li><span><a href=\"#Выясним-для-какого-вида-объекта-общественного-питания-характерно-сетевое-распространение.\" data-toc-modified-id=\"Выясним-для-какого-вида-объекта-общественного-питания-характерно-сетевое-распространение.-2.3\"><span class=\"toc-item-num\">2.3&nbsp;&nbsp;</span>Выясним для какого вида объекта общественного питания характерно сетевое распространение.</a></span></li><li><span><a href=\"#Выделим-что-характерно-для-сетевых-заведений:\" data-toc-modified-id=\"Выделим-что-характерно-для-сетевых-заведений:-2.4\"><span class=\"toc-item-num\">2.4&nbsp;&nbsp;</span>Выделим что характерно для сетевых заведений:</a></span></li><li><span><a href=\"#Для-каждого-вида-объекта-общественного-питания-опишем-среднее-медианное-количество-посадочных-мест.-Выясним-какой-вид-предоставляет-в-среднем-по-медиане-самое-большое-количество-посадочных-мест?-Построим-график.\" data-toc-modified-id=\"Для-каждого-вида-объекта-общественного-питания-опишем-среднее-медианное-количество-посадочных-мест.-Выясним-какой-вид-предоставляет-в-среднем-по-медиане-самое-большое-количество-посадочных-мест?-Построим-график.-2.5\"><span class=\"toc-item-num\">2.5&nbsp;&nbsp;</span>Для каждого вида объекта общественного питания опишем <del>среднее</del> медианное количество посадочных мест. Выясним какой вид предоставляет <del>в среднем</del> по медиане самое большое количество посадочных мест? Построим график.</a></span></li><li><span><a href=\"#Выделим-в-отдельный-столбец-информацию-об-улице-из-столбца-address.\" data-toc-modified-id=\"Выделим-в-отдельный-столбец-информацию-об-улице-из-столбца-address.-2.6\"><span class=\"toc-item-num\">2.6&nbsp;&nbsp;</span>Выделим в отдельный столбец информацию об улице из столбца <code>address</code>.</a></span></li><li><span><a href=\"#Построим-график-топ-10-улиц-по-количеству-объектов-общественного-питания.-Воспользуемся-внешней-информацией-и-ответим-на-вопрос-—-в-каких-районах-Москвы-находятся-эти-улицы?\" data-toc-modified-id=\"Построим-график-топ-10-улиц-по-количеству-объектов-общественного-питания.-Воспользуемся-внешней-информацией-и-ответим-на-вопрос-—-в-каких-районах-Москвы-находятся-эти-улицы?-2.7\"><span class=\"toc-item-num\">2.7&nbsp;&nbsp;</span>Построим график топ-10 улиц по количеству объектов общественного питания. Воспользуемся внешней информацией и ответим на вопрос — в каких районах Москвы находятся эти улицы?</a></span></li><li><span><a href=\"#Найдем-число-улиц-с-одним-объектом-общественного-питания.-Воспользуемся-внешней-информацией-и-ответим-на-вопрос-—-в-каких-районах-Москвы-находятся-эти-улицы?\" data-toc-modified-id=\"Найдем-число-улиц-с-одним-объектом-общественного-питания.-Воспользуемся-внешней-информацией-и-ответим-на-вопрос-—-в-каких-районах-Москвы-находятся-эти-улицы?-2.8\"><span class=\"toc-item-num\">2.8&nbsp;&nbsp;</span>Найдем число улиц с одним объектом общественного питания. Воспользуемся внешней информацией и ответим на вопрос — в каких районах Москвы находятся эти улицы?</a></span></li></ul></li><li><span><a href=\"#Общий-вывод.\" data-toc-modified-id=\"Общий-вывод.-3\"><span class=\"toc-item-num\">3&nbsp;&nbsp;</span>Общий вывод.</a></span></li><li><span><a href=\"#Ссылка-на-презентацию\" data-toc-modified-id=\"Ссылка-на-презентацию-4\"><span class=\"toc-item-num\">4&nbsp;&nbsp;</span>Ссылка на презентацию</a></span></li></ul></div>"
   ]
  },
  {
   "cell_type": "markdown",
   "metadata": {},
   "source": [
    "<div style=\"border-radius: 15px; border: 3px solid indigo; padding: 15px;\">\n",
    "<b>Привет, Николай!</b>\n",
    "\n",
    "Меня зовут Вадим Лепшин, и я буду проверять твой проект. Предлагаю общение на «ты», но если тебе комфортнее на «Вы», обязательно сообщи мне об этом. \n",
    "\n",
    "Моя основная цель — не указать на совершенные тобою ошибки, а поделиться своим опытом и помочь тебе стать аналитиком данных. Тобой проделана большая работа над проектом, давай сделаем его еще лучше. Ниже ты найдешь мои комментарии. Есть несколько правил:<br>\n",
    "- <b>Пожалуйста, не перемещай, не изменяй и не удаляй комментарии.</b>\n",
    "- У комментариев могут быть приписки <b>V2, V3</b> и т.д., которые соответствуют версии проверки. \n",
    "   \n",
    "В тетрадке ты можешь встретить 3 вида моих комментариев:\n",
    "<div class=\"alert alert-danger\">\n",
    "    <b>❌ Комментарий ревьюера:</b>\n",
    "    \n",
    "Комментарии такого цвета необходимо исправить, без их отработки проект не будет принят.\n",
    "</div>\n",
    "    \n",
    "    \n",
    "<div class=\"alert alert-warning\">\n",
    "  <b>⚠️ Комментарий ревьюера:</b>\n",
    "    \n",
    "На комментарии такого цвета нужно обязательно обратить внимание. Рекомендую учесть их при редактировании проекта и выполнении будущих заданий.\n",
    "</div>\n",
    "    \n",
    "    \n",
    "<div class=\"alert alert-success\">\n",
    "    <b>✅ Комментарий ревьюера:</b>\n",
    "    \n",
    "Так отмечены удачные решения и подходы, на которые стоит опираться в будущих проектах.\n",
    "</div>\n",
    "    \n",
    "Предлагаю работать над проектом в диалоге: если ты хочешь ответить на мои комментарии — пиши об этом. Мне будет легче отследить изменения, если ты выделишь свои комментарии вот так:\n",
    "\n",
    "<div class=\"alert alert-info\">\n",
    "<b> Комментарий студента</b>\n",
    "\n",
    "Тут текст.\n",
    "</div>\n",
    "\n",
    "\n",
    "Всё это поможет выполнить повторную проверку твоего проекта оперативнее.\n",
    "</div>"
   ]
  },
  {
   "cell_type": "markdown",
   "metadata": {},
   "source": [
    "<div style=\"border-radius: 15px; border: 3px solid indigo; padding: 15px;\">\n",
    "    <b>Общий комментарий ревьюера:</b>\n",
    "    \n",
    "Мне понравилась твоя работа, Наколай. Твой проект имеет логичную структуру, есть содержание, отлично выделены задания и выводы. Ты отлично справился с визуализацией, на будущее скину несколько ссылок, надеюсь будут полезны.\n",
    "\n",
    "Рекомендую тебе чаще пользоваться библиотеками seaborn и plotly. Они имееют больше возможностей чем matplotlib и более эстетичные. Оставлю здесь 2 сайта, на которых собрано огромное количество практических примеров их использования:\n",
    "- Seaborn https://python-graph-gallery.com/\n",
    "- Plotly https://plotly.com/python/\n",
    "\n",
    "Также, крайне полезными будут:\n",
    "- книга Александра Богачева [Графики, которые убеждают всех](https://www.notion.so/6c5ae8ceb8b5411e907c93c9b5e6a44e) - название говорит само за себя 😊\n",
    "- [cheatsheet по визуализации](https://extremepresentation.typepad.com/.a/6a00d8341bfd2e53ef0111683a7591970c-pi) - лайфхак который поможет быстро подобрать нужный тип визуализации именно под твою задачу\n",
    "    \n",
    "Тебе необходимо немного доработать проект и я смогу его принять.\n",
    "  </div>"
   ]
  },
  {
   "cell_type": "markdown",
   "metadata": {},
   "source": [
    "# Рынок заведений общественного питания Москвы."
   ]
  },
  {
   "cell_type": "markdown",
   "metadata": {},
   "source": [
    "**Описание проекта.**\n",
    "\n",
    "Вы решили открыть небольшое кафе в Москве. Оно оригинальное — гостей должны обслуживать роботы. Проект многообещающий, но дорогой. Вместе с партнёрами вы решились обратиться к инвесторам. Их интересует текущее положение дел на рынке — сможете ли вы снискать популярность на долгое время, когда все зеваки насмотрятся на роботов-официантов?\n",
    "\n",
    "**Цели проекта.**\n",
    "\n",
    "Партнёры просят подготовить исследование рынка. У нас есть открытые данные о заведениях общественного питания в Москве.\n",
    "\n",
    "**Описание данных.**\n",
    "\n",
    "Таблица `rest_data`:\n",
    "- `id` — идентификатор объекта\n",
    "- `object_name` — название объекта общественного питания\n",
    "- `chain` — сетевой ресторан\n",
    "- `object_type` — тип объекта общественного питания\n",
    "- `address` — адрес\n",
    "- `number` — количество посадочных мест"
   ]
  },
  {
   "cell_type": "markdown",
   "metadata": {},
   "source": [
    "## Импорт библиотек и предобработка данных."
   ]
  },
  {
   "cell_type": "code",
   "execution_count": 1,
   "metadata": {},
   "outputs": [],
   "source": [
    "# Импортируем библиотеки\n",
    "\n",
    "import numpy as np\n",
    "import pandas as pd\n",
    "import matplotlib.pyplot as plt\n",
    "import seaborn as sns\n",
    "%matplotlib inline\n",
    "from io import BytesIO\n",
    "import requests"
   ]
  },
  {
   "cell_type": "code",
   "execution_count": 2,
   "metadata": {},
   "outputs": [],
   "source": [
    "# Загружаем данные в переменную\n",
    "\n",
    "data = pd.read_csv('/datasets/rest_data.csv')"
   ]
  },
  {
   "cell_type": "code",
   "execution_count": 3,
   "metadata": {},
   "outputs": [],
   "source": [
    "# Увеличим максимальную ширину столбца.\n",
    "\n",
    "pd.set_option('max_colwidth', 150)"
   ]
  },
  {
   "cell_type": "code",
   "execution_count": 4,
   "metadata": {},
   "outputs": [],
   "source": [
    "# Процедура для предварительного анализа данных.\n",
    "\n",
    "def data_view(df):\n",
    "    display(df.info())\n",
    "    display(df.head(5))\n",
    "    display(df.tail(5))\n",
    "    display(df.describe())\n",
    "    display('Количество пустых строк:', df.isna().sum())\n",
    "    display('Количество дублирующихся строк:', df.duplicated().sum())"
   ]
  },
  {
   "cell_type": "code",
   "execution_count": 5,
   "metadata": {},
   "outputs": [
    {
     "name": "stdout",
     "output_type": "stream",
     "text": [
      "<class 'pandas.core.frame.DataFrame'>\n",
      "RangeIndex: 15366 entries, 0 to 15365\n",
      "Data columns (total 6 columns):\n",
      " #   Column       Non-Null Count  Dtype \n",
      "---  ------       --------------  ----- \n",
      " 0   id           15366 non-null  int64 \n",
      " 1   object_name  15366 non-null  object\n",
      " 2   chain        15366 non-null  object\n",
      " 3   object_type  15366 non-null  object\n",
      " 4   address      15366 non-null  object\n",
      " 5   number       15366 non-null  int64 \n",
      "dtypes: int64(2), object(4)\n",
      "memory usage: 720.4+ KB\n"
     ]
    },
    {
     "data": {
      "text/plain": [
       "None"
      ]
     },
     "metadata": {},
     "output_type": "display_data"
    },
    {
     "data": {
      "text/html": [
       "<div>\n",
       "<style scoped>\n",
       "    .dataframe tbody tr th:only-of-type {\n",
       "        vertical-align: middle;\n",
       "    }\n",
       "\n",
       "    .dataframe tbody tr th {\n",
       "        vertical-align: top;\n",
       "    }\n",
       "\n",
       "    .dataframe thead th {\n",
       "        text-align: right;\n",
       "    }\n",
       "</style>\n",
       "<table border=\"1\" class=\"dataframe\">\n",
       "  <thead>\n",
       "    <tr style=\"text-align: right;\">\n",
       "      <th></th>\n",
       "      <th>id</th>\n",
       "      <th>object_name</th>\n",
       "      <th>chain</th>\n",
       "      <th>object_type</th>\n",
       "      <th>address</th>\n",
       "      <th>number</th>\n",
       "    </tr>\n",
       "  </thead>\n",
       "  <tbody>\n",
       "    <tr>\n",
       "      <th>0</th>\n",
       "      <td>151635</td>\n",
       "      <td>СМЕТАНА</td>\n",
       "      <td>нет</td>\n",
       "      <td>кафе</td>\n",
       "      <td>город Москва, улица Егора Абакумова, дом 9</td>\n",
       "      <td>48</td>\n",
       "    </tr>\n",
       "    <tr>\n",
       "      <th>1</th>\n",
       "      <td>77874</td>\n",
       "      <td>Родник</td>\n",
       "      <td>нет</td>\n",
       "      <td>кафе</td>\n",
       "      <td>город Москва, улица Талалихина, дом 2/1, корпус 1</td>\n",
       "      <td>35</td>\n",
       "    </tr>\n",
       "    <tr>\n",
       "      <th>2</th>\n",
       "      <td>24309</td>\n",
       "      <td>Кафе «Академия»</td>\n",
       "      <td>нет</td>\n",
       "      <td>кафе</td>\n",
       "      <td>город Москва, Абельмановская улица, дом 6</td>\n",
       "      <td>95</td>\n",
       "    </tr>\n",
       "    <tr>\n",
       "      <th>3</th>\n",
       "      <td>21894</td>\n",
       "      <td>ПИЦЦЕТОРИЯ</td>\n",
       "      <td>да</td>\n",
       "      <td>кафе</td>\n",
       "      <td>город Москва, Абрамцевская улица, дом 1</td>\n",
       "      <td>40</td>\n",
       "    </tr>\n",
       "    <tr>\n",
       "      <th>4</th>\n",
       "      <td>119365</td>\n",
       "      <td>Кафе «Вишневая метель»</td>\n",
       "      <td>нет</td>\n",
       "      <td>кафе</td>\n",
       "      <td>город Москва, Абрамцевская улица, дом 9, корпус 1</td>\n",
       "      <td>50</td>\n",
       "    </tr>\n",
       "  </tbody>\n",
       "</table>\n",
       "</div>"
      ],
      "text/plain": [
       "       id             object_name chain object_type  \\\n",
       "0  151635                 СМЕТАНА   нет        кафе   \n",
       "1   77874                  Родник   нет        кафе   \n",
       "2   24309         Кафе «Академия»   нет        кафе   \n",
       "3   21894              ПИЦЦЕТОРИЯ    да        кафе   \n",
       "4  119365  Кафе «Вишневая метель»   нет        кафе   \n",
       "\n",
       "                                             address  number  \n",
       "0         город Москва, улица Егора Абакумова, дом 9      48  \n",
       "1  город Москва, улица Талалихина, дом 2/1, корпус 1      35  \n",
       "2          город Москва, Абельмановская улица, дом 6      95  \n",
       "3            город Москва, Абрамцевская улица, дом 1      40  \n",
       "4  город Москва, Абрамцевская улица, дом 9, корпус 1      50  "
      ]
     },
     "metadata": {},
     "output_type": "display_data"
    },
    {
     "data": {
      "text/html": [
       "<div>\n",
       "<style scoped>\n",
       "    .dataframe tbody tr th:only-of-type {\n",
       "        vertical-align: middle;\n",
       "    }\n",
       "\n",
       "    .dataframe tbody tr th {\n",
       "        vertical-align: top;\n",
       "    }\n",
       "\n",
       "    .dataframe thead th {\n",
       "        text-align: right;\n",
       "    }\n",
       "</style>\n",
       "<table border=\"1\" class=\"dataframe\">\n",
       "  <thead>\n",
       "    <tr style=\"text-align: right;\">\n",
       "      <th></th>\n",
       "      <th>id</th>\n",
       "      <th>object_name</th>\n",
       "      <th>chain</th>\n",
       "      <th>object_type</th>\n",
       "      <th>address</th>\n",
       "      <th>number</th>\n",
       "    </tr>\n",
       "  </thead>\n",
       "  <tbody>\n",
       "    <tr>\n",
       "      <th>15361</th>\n",
       "      <td>208537</td>\n",
       "      <td>Шоколадница</td>\n",
       "      <td>да</td>\n",
       "      <td>кафе</td>\n",
       "      <td>город Москва, 3-й Крутицкий переулок, дом 18</td>\n",
       "      <td>50</td>\n",
       "    </tr>\n",
       "    <tr>\n",
       "      <th>15362</th>\n",
       "      <td>209264</td>\n",
       "      <td>Шоколадница</td>\n",
       "      <td>да</td>\n",
       "      <td>кафе</td>\n",
       "      <td>город Москва, улица Земляной Вал, дом 33</td>\n",
       "      <td>10</td>\n",
       "    </tr>\n",
       "    <tr>\n",
       "      <th>15363</th>\n",
       "      <td>209186</td>\n",
       "      <td>Шоколадница</td>\n",
       "      <td>да</td>\n",
       "      <td>кафе</td>\n",
       "      <td>город Москва, улица Земляной Вал, дом 33</td>\n",
       "      <td>20</td>\n",
       "    </tr>\n",
       "    <tr>\n",
       "      <th>15364</th>\n",
       "      <td>221900</td>\n",
       "      <td>Шоколадница</td>\n",
       "      <td>да</td>\n",
       "      <td>кафе</td>\n",
       "      <td>город Москва, поселение Московский, Киевское шоссе, 22-й километр, домовладение 4, строение 1</td>\n",
       "      <td>36</td>\n",
       "    </tr>\n",
       "    <tr>\n",
       "      <th>15365</th>\n",
       "      <td>222535</td>\n",
       "      <td>Шоколадница</td>\n",
       "      <td>да</td>\n",
       "      <td>кафе</td>\n",
       "      <td>город Москва, Ходынский бульвар, дом 4</td>\n",
       "      <td>10</td>\n",
       "    </tr>\n",
       "  </tbody>\n",
       "</table>\n",
       "</div>"
      ],
      "text/plain": [
       "           id  object_name chain object_type  \\\n",
       "15361  208537  Шоколадница    да        кафе   \n",
       "15362  209264  Шоколадница    да        кафе   \n",
       "15363  209186  Шоколадница    да        кафе   \n",
       "15364  221900  Шоколадница    да        кафе   \n",
       "15365  222535  Шоколадница    да        кафе   \n",
       "\n",
       "                                                                                             address  \\\n",
       "15361                                                   город Москва, 3-й Крутицкий переулок, дом 18   \n",
       "15362                                                       город Москва, улица Земляной Вал, дом 33   \n",
       "15363                                                       город Москва, улица Земляной Вал, дом 33   \n",
       "15364  город Москва, поселение Московский, Киевское шоссе, 22-й километр, домовладение 4, строение 1   \n",
       "15365                                                         город Москва, Ходынский бульвар, дом 4   \n",
       "\n",
       "       number  \n",
       "15361      50  \n",
       "15362      10  \n",
       "15363      20  \n",
       "15364      36  \n",
       "15365      10  "
      ]
     },
     "metadata": {},
     "output_type": "display_data"
    },
    {
     "data": {
      "text/html": [
       "<div>\n",
       "<style scoped>\n",
       "    .dataframe tbody tr th:only-of-type {\n",
       "        vertical-align: middle;\n",
       "    }\n",
       "\n",
       "    .dataframe tbody tr th {\n",
       "        vertical-align: top;\n",
       "    }\n",
       "\n",
       "    .dataframe thead th {\n",
       "        text-align: right;\n",
       "    }\n",
       "</style>\n",
       "<table border=\"1\" class=\"dataframe\">\n",
       "  <thead>\n",
       "    <tr style=\"text-align: right;\">\n",
       "      <th></th>\n",
       "      <th>id</th>\n",
       "      <th>number</th>\n",
       "    </tr>\n",
       "  </thead>\n",
       "  <tbody>\n",
       "    <tr>\n",
       "      <th>count</th>\n",
       "      <td>15366.000000</td>\n",
       "      <td>15366.000000</td>\n",
       "    </tr>\n",
       "    <tr>\n",
       "      <th>mean</th>\n",
       "      <td>119720.066901</td>\n",
       "      <td>59.547182</td>\n",
       "    </tr>\n",
       "    <tr>\n",
       "      <th>std</th>\n",
       "      <td>73036.130732</td>\n",
       "      <td>74.736833</td>\n",
       "    </tr>\n",
       "    <tr>\n",
       "      <th>min</th>\n",
       "      <td>838.000000</td>\n",
       "      <td>0.000000</td>\n",
       "    </tr>\n",
       "    <tr>\n",
       "      <th>25%</th>\n",
       "      <td>28524.000000</td>\n",
       "      <td>12.000000</td>\n",
       "    </tr>\n",
       "    <tr>\n",
       "      <th>50%</th>\n",
       "      <td>144974.500000</td>\n",
       "      <td>40.000000</td>\n",
       "    </tr>\n",
       "    <tr>\n",
       "      <th>75%</th>\n",
       "      <td>184262.250000</td>\n",
       "      <td>80.000000</td>\n",
       "    </tr>\n",
       "    <tr>\n",
       "      <th>max</th>\n",
       "      <td>223439.000000</td>\n",
       "      <td>1700.000000</td>\n",
       "    </tr>\n",
       "  </tbody>\n",
       "</table>\n",
       "</div>"
      ],
      "text/plain": [
       "                  id        number\n",
       "count   15366.000000  15366.000000\n",
       "mean   119720.066901     59.547182\n",
       "std     73036.130732     74.736833\n",
       "min       838.000000      0.000000\n",
       "25%     28524.000000     12.000000\n",
       "50%    144974.500000     40.000000\n",
       "75%    184262.250000     80.000000\n",
       "max    223439.000000   1700.000000"
      ]
     },
     "metadata": {},
     "output_type": "display_data"
    },
    {
     "data": {
      "text/plain": [
       "'Количество пустых строк:'"
      ]
     },
     "metadata": {},
     "output_type": "display_data"
    },
    {
     "data": {
      "text/plain": [
       "id             0\n",
       "object_name    0\n",
       "chain          0\n",
       "object_type    0\n",
       "address        0\n",
       "number         0\n",
       "dtype: int64"
      ]
     },
     "metadata": {},
     "output_type": "display_data"
    },
    {
     "data": {
      "text/plain": [
       "'Количество дублирующихся строк:'"
      ]
     },
     "metadata": {},
     "output_type": "display_data"
    },
    {
     "data": {
      "text/plain": [
       "0"
      ]
     },
     "metadata": {},
     "output_type": "display_data"
    }
   ],
   "source": [
    "# Рассмотрим данные в датафрейме.\n",
    "data_view(data)"
   ]
  },
  {
   "cell_type": "markdown",
   "metadata": {},
   "source": [
    "На первый взляд с данными все в порядке, дублиуатов и пропусков нет. Рассмотрим некоторые столбцы датафрейма подробнее."
   ]
  },
  {
   "cell_type": "markdown",
   "metadata": {},
   "source": [
    "**Посмотрим столбец `object_name`.**"
   ]
  },
  {
   "cell_type": "code",
   "execution_count": 6,
   "metadata": {},
   "outputs": [
    {
     "data": {
      "text/plain": [
       "['1-ЫЙ МОСКОВСКИЙ КАДЕТСКИЙ КОРПУС',\n",
       " '1-й МОК',\n",
       " '100 личная столовая',\n",
       " '100 личное кафе',\n",
       " '1001 ночь',\n",
       " '100лоФФка',\n",
       " '101 вкус',\n",
       " '13 RULES',\n",
       " '13 RULES KRAFT BEER',\n",
       " '13 Rules',\n",
       " '15 Kitchen+bar',\n",
       " '18 АВТОБУСНЫЙ ПАРК',\n",
       " '19bar Atmosphere',\n",
       " '1x bet',\n",
       " '2-Й АВТОБУСНЫЙ ПАРК',\n",
       " \"23'00\",\n",
       " '24 Градуса',\n",
       " '259',\n",
       " '3 Skovorodki',\n",
       " '3 правила',\n",
       " '33 пингвина',\n",
       " '37-37',\n",
       " '44 Чашма',\n",
       " '495',\n",
       " '5звезд Юг 52',\n",
       " '68. ПАУЗА',\n",
       " '69 Pints Бар',\n",
       " '69 pints',\n",
       " '7 Сендвичей',\n",
       " '7 злаков',\n",
       " '7 сэндвичей-Meating',\n",
       " '7717 LOUNGE (Кальянная)',\n",
       " '8 OZ Унций',\n",
       " '8-ОЙ ТРОЛЛЕЙБУСНЫЙ ПАРК',\n",
       " '9 АВТОБУСНЫЙ ПАРК',\n",
       " '9bar',\n",
       " 'ABC Coffee Roasters',\n",
       " 'ACCENTI',\n",
       " 'ADRY',\n",
       " 'AGLOMERAT',\n",
       " 'AL33 Пиццерия Бар Ботега',\n",
       " 'ALOHA POKE BAR',\n",
       " 'AMARSI',\n",
       " 'AMG',\n",
       " 'APARTAMENT Пар Бар',\n",
       " 'AQKitchen',\n",
       " 'ART PUB',\n",
       " 'Abbey Players Irish Pub',\n",
       " 'Absolem',\n",
       " 'Acai Family',\n",
       " 'Alex Пекарня',\n",
       " 'Amande Cafe',\n",
       " 'Americano Кафе',\n",
       " 'Amerigos Pizza',\n",
       " 'Amore Grande',\n",
       " 'Amore, итальянское мороженое',\n",
       " 'Amster bar snacks',\n",
       " 'An Nam',\n",
       " 'Andiamo',\n",
       " \"Andy's friends\",\n",
       " 'Arahis Pub',\n",
       " 'Arbat hall',\n",
       " 'Arena by Soho Family',\n",
       " 'Aroma',\n",
       " 'Art Cafe',\n",
       " 'Art lunch',\n",
       " 'Art&Food',\n",
       " 'Avenue 6',\n",
       " 'BARBADOS',\n",
       " 'BARRIQUE',\n",
       " 'BAZAR',\n",
       " 'BB & Burgers',\n",
       " 'BB Grill',\n",
       " 'BB энд Burger',\n",
       " 'BB&BURGERS',\n",
       " 'BB&Burgers',\n",
       " 'BBBurgers',\n",
       " 'BBQ',\n",
       " 'BBQ AM Барбекю',\n",
       " 'BEER BEER bar',\n",
       " 'BEER DOCK',\n",
       " 'BENEFIT фреш бар',\n",
       " 'BIBI-ДОНЕР',\n",
       " 'BIG суши',\n",
       " 'BISTROT',\n",
       " 'BLACK STAR BURGER',\n",
       " 'BLIN.RU FOOD&TEA',\n",
       " 'BLINДАЖ',\n",
       " 'BO',\n",
       " 'BOKKER',\n",
       " 'BORODA BURGER',\n",
       " 'BOSTON',\n",
       " 'BP',\n",
       " 'BQ Cafe & Osteria Mario',\n",
       " 'BRASSERIE МОСТ',\n",
       " 'BRB',\n",
       " 'BREAC CAFE',\n",
       " 'BREWERY&BAR POET',\n",
       " 'BRawleRS PAB',\n",
       " 'BUBA by SUMOSAN',\n",
       " 'BUBBA SHERI',\n",
       " 'BURGER HEROES',\n",
       " 'BURO TSUM',\n",
       " 'BUZfood',\n",
       " 'BaMi',\n",
       " 'Babbles dessert&babbles',\n",
       " 'Bambule',\n",
       " 'Bananas',\n",
       " 'Bar BQ',\n",
       " 'Bar BQ Cafe',\n",
       " 'Bar Dag',\n",
       " 'Bar LosBandidos',\n",
       " 'Bar for Bikers',\n",
       " 'BarBQcafe',\n",
       " 'Barbecue Beer Bar',\n",
       " 'Barbecue bbq storege',\n",
       " 'Barbeque',\n",
       " 'Barbeque bbq',\n",
       " 'Bardak кафе по-турецки',\n",
       " 'Baristo Coffee',\n",
       " 'Barrister',\n",
       " 'Barton',\n",
       " 'Baskin Robbins',\n",
       " 'Be Positive',\n",
       " 'Be my pizza',\n",
       " 'Beef Роял',\n",
       " 'Beer Gik',\n",
       " 'Beer Happens',\n",
       " 'Beer Harbor',\n",
       " 'Beer and Fries',\n",
       " 'BeerNation',\n",
       " 'Beermood',\n",
       " 'Beertep',\n",
       " \"Benner's\",\n",
       " 'Berikoni',\n",
       " 'Berry Fruit',\n",
       " 'Beverly Hills Diner',\n",
       " 'Bierloga',\n",
       " 'Big Wall Cafe',\n",
       " 'Big boys',\n",
       " 'Bigati Bar',\n",
       " 'Bistrof & Boutigue №7',\n",
       " 'Bizone Hookah',\n",
       " 'Bizone Антикафе',\n",
       " 'Black & White',\n",
       " 'Black Hat',\n",
       " 'Black Star Burger',\n",
       " 'Black Star Burger Prime',\n",
       " 'Black Star Burgers',\n",
       " 'Black Swan pub&shop',\n",
       " 'Black cafe',\n",
       " 'Black coffe and food',\n",
       " 'Black star burgers',\n",
       " 'Black&Black',\n",
       " 'Blak Tai',\n",
       " \"Blak's\",\n",
       " 'Bloom-n-brew',\n",
       " 'Blush',\n",
       " 'Bo',\n",
       " 'Bo-Bo Lounge',\n",
       " \"Bob's Your Uncle\",\n",
       " 'Bocconcino',\n",
       " 'Bodrero',\n",
       " 'Bodro coffee',\n",
       " 'Bodrum',\n",
       " 'Boilerman craft beer',\n",
       " 'Bokker',\n",
       " 'Bolognetta',\n",
       " 'Bon App',\n",
       " 'Bongo coffee',\n",
       " 'BooBo',\n",
       " 'Bootleggers',\n",
       " 'Born to Burn',\n",
       " 'Boroda',\n",
       " 'Bosco Bar',\n",
       " 'Bosco Cafe',\n",
       " 'BottomsUp',\n",
       " 'Bridge Coffee',\n",
       " 'Brioche',\n",
       " 'Brisket BBQ',\n",
       " 'Broms',\n",
       " 'Brooklyn Burgers Bar',\n",
       " 'Brou star Броубар',\n",
       " 'Brut Bar',\n",
       " 'Buba by Sumosan',\n",
       " 'Bubble Mania',\n",
       " 'Bubbleology',\n",
       " 'Bucks Coffee',\n",
       " 'Buffalo',\n",
       " \"Buffalo's & Tacodor\",\n",
       " 'Buffalos',\n",
       " 'Burger & Pizzetta',\n",
       " 'Burger Club',\n",
       " 'Burger First',\n",
       " 'Burger Heroes',\n",
       " 'Burger №1',\n",
       " 'BurgerKing',\n",
       " 'Burgerbar Dos Bandidos',\n",
       " 'Bushe',\n",
       " 'Buthers Стейк бар',\n",
       " 'C CUPS сеть стильных кофеен',\n",
       " 'CAFE DE ARTS',\n",
       " 'CASA LEONE',\n",
       " 'CATCH',\n",
       " 'CEDRO',\n",
       " 'CHEESE connection',\n",
       " 'CHEHONTE',\n",
       " 'CHILL&BEER',\n",
       " 'CIAO BELLA',\n",
       " 'CIAO PIZZA',\n",
       " 'CIDERELLA',\n",
       " 'CINNABON',\n",
       " 'CITO',\n",
       " 'COFE FEST',\n",
       " 'COFFE',\n",
       " 'COFFE NOBE',\n",
       " 'COFFE WAY',\n",
       " 'COFFEE BAR',\n",
       " 'COFFEE GATE',\n",
       " 'COFFEE LIKE',\n",
       " 'COFFEE SOVA',\n",
       " 'COFFEE WAY',\n",
       " 'COFIX',\n",
       " 'COFIX+PLOMBIR',\n",
       " 'COLLIDER',\n",
       " 'COLORS',\n",
       " 'CORREAS',\n",
       " 'CRAFTER',\n",
       " 'CRECO',\n",
       " 'CROSS KEYS PAB',\n",
       " 'CUBA ПАБ',\n",
       " 'CUPS & HUGS',\n",
       " 'Cafe 88',\n",
       " 'Cafe Giusto',\n",
       " 'Cafe Rioba',\n",
       " 'Cafe del Parco',\n",
       " 'Cafe&Spa Art De Vie',\n",
       " 'Cafetera',\n",
       " 'Caffeine',\n",
       " 'Calabash Club',\n",
       " 'Camera Obscura',\n",
       " 'Carte D Or',\n",
       " 'Casa di Moska',\n",
       " 'Casa di familiya',\n",
       " 'Cash&Curry',\n",
       " 'Cassette Cafe',\n",
       " 'Castle DiSH',\n",
       " 'Catavina',\n",
       " 'Cavlar bar',\n",
       " 'Cernovar',\n",
       " 'Cevicheria.Tartaria',\n",
       " 'Cezve Coffee',\n",
       " 'Chaikhana Shurpa',\n",
       " \"Charley's\",\n",
       " 'Charlie Moscow',\n",
       " 'Chefs Table',\n",
       " 'Chicken Duck',\n",
       " 'Chilling Moscow',\n",
       " 'Chilling Time',\n",
       " 'China Blue',\n",
       " 'China Street',\n",
       " 'Chinese Market',\n",
       " 'Chinook ресторан',\n",
       " 'Chipl',\n",
       " 'Chips',\n",
       " 'Choice bar',\n",
       " 'ChopEat',\n",
       " 'Ciao Pizza',\n",
       " 'Cihan Steak and Kebab',\n",
       " 'Cinnabon',\n",
       " 'Cinnabon2',\n",
       " 'CityLunch',\n",
       " 'Classiko Bar',\n",
       " 'Club Le Shateau',\n",
       " 'Cobra Game House',\n",
       " 'Cofe Mix',\n",
       " 'Coffe & master',\n",
       " 'Coffe Bar',\n",
       " 'Coffe Ko',\n",
       " 'Coffe Point',\n",
       " 'Coffe TO GO',\n",
       " 'Coffe crew',\n",
       " 'Coffe in time',\n",
       " 'Coffe to go',\n",
       " 'Coffe&Kitchen',\n",
       " 'Coffe-like',\n",
       " 'CoffeBrain',\n",
       " 'Coffee',\n",
       " 'Coffee & Talk',\n",
       " 'Coffee & Waffles & Movenpick',\n",
       " 'Coffee Bo',\n",
       " 'Coffee Energy',\n",
       " 'Coffee Good',\n",
       " 'Coffee Like',\n",
       " 'Coffee Moose',\n",
       " 'Coffee Play',\n",
       " 'Coffee in',\n",
       " 'Coffee moments',\n",
       " 'Coffee moose кофейня',\n",
       " 'Coffee port',\n",
       " 'Coffee smile',\n",
       " 'CoffeeShop',\n",
       " 'Coffeefresh',\n",
       " 'Coffeeist',\n",
       " 'Coffeek',\n",
       " 'Coffeeshop Company',\n",
       " 'Coffey',\n",
       " 'Cofix',\n",
       " 'Cofix-Bright',\n",
       " 'Cola Burger',\n",
       " 'Community',\n",
       " 'Cookhouse',\n",
       " 'Copybara',\n",
       " 'Corner Burger',\n",
       " 'Corner cafe kitchen',\n",
       " 'Correas',\n",
       " 'Cosmohookah bar',\n",
       " 'Costa Coffee',\n",
       " 'Courvoisier',\n",
       " 'Craft & Draft',\n",
       " 'Craft Beer',\n",
       " 'Craft Beer RePUBlic',\n",
       " 'Craft RePUBlic',\n",
       " 'Craft Station',\n",
       " 'Craft beer',\n",
       " 'Crafted',\n",
       " 'Craftlaand',\n",
       " 'Crazy Brothers',\n",
       " 'Cream Station',\n",
       " 'Crema espresso bar',\n",
       " 'Crop',\n",
       " 'Croquette cafe',\n",
       " 'Crush Hof',\n",
       " 'Crystal',\n",
       " 'Cure Bar',\n",
       " 'Curry Up',\n",
       " 'Cutlet',\n",
       " 'CУШИ.ПИЦЦА',\n",
       " 'Cити Гольф',\n",
       " 'D Wine',\n",
       " 'D&D cafe',\n",
       " 'DANTE bar and kitchen',\n",
       " 'DIM SUM',\n",
       " 'DIMSUM&CO',\n",
       " 'DISTRICT',\n",
       " 'DONER KEBAB',\n",
       " 'DONER ШАУРМА',\n",
       " 'DONER-JN',\n",
       " 'DOUBLE B',\n",
       " 'DRAKE',\n",
       " 'DUCK IT',\n",
       " 'DUCKIT',\n",
       " 'DUCKSTARS',\n",
       " 'Dagda Irish Pub',\n",
       " 'Daily Chef',\n",
       " 'Danatos пицца',\n",
       " 'Dankin Donats',\n",
       " 'Darbars',\n",
       " \"Dark Patrik's Pub\",\n",
       " 'Dead Rabbit Pub',\n",
       " 'Deli by Prime Прайм-кафе',\n",
       " 'Devi',\n",
       " 'Di ПАОЛО',\n",
       " 'Dim Sum',\n",
       " 'Dim Sum & Co',\n",
       " 'Dim Sum&Co',\n",
       " 'Dim Sun',\n",
       " 'Dim&Sam',\n",
       " 'Dippin Dots',\n",
       " 'Dippin dots, мороженое',\n",
       " 'Dizengof99',\n",
       " 'Django Lounge Кальян-бар',\n",
       " 'Do Do пицца',\n",
       " 'Dobrosco',\n",
       " 'Dodici wine and Kitchen',\n",
       " 'Dolce Gamarjoba',\n",
       " 'Dolce crema',\n",
       " 'Domino-s Pizza',\n",
       " 'Dominos Pizza',\n",
       " \"Donatello's\",\n",
       " 'Doner Club',\n",
       " 'Doner House',\n",
       " 'Doner Kebab',\n",
       " 'Doner Kebab-Куры Гриль',\n",
       " 'Doner Хаус',\n",
       " 'Doubl B',\n",
       " 'Double Pizza',\n",
       " 'Doughnats Coffee',\n",
       " 'Down House',\n",
       " 'Dream & Drink Caffee',\n",
       " 'Dream Lounge Moscow Кальянная',\n",
       " 'DreamWok',\n",
       " 'Drive',\n",
       " 'DroVa',\n",
       " 'Dry and wet Bar',\n",
       " \"Duck Star'S\",\n",
       " 'DuckIt',\n",
       " 'Dunkin Donuts',\n",
       " 'Dunkin Donuts (Азия Box - Бургер Box)',\n",
       " 'Dым Вино',\n",
       " 'EATALY',\n",
       " 'EFIR lounge',\n",
       " 'EL CAFE',\n",
       " 'ELSE kafe',\n",
       " 'ESHAK',\n",
       " 'EVEREST HOOKAH Кальянная',\n",
       " 'EXLIBRIS',\n",
       " 'Easy Brix',\n",
       " 'Eat Georgian',\n",
       " 'Eat Market',\n",
       " 'Eat and talk',\n",
       " 'EateriaKitchen (Паста)',\n",
       " 'Ecook',\n",
       " 'Edison',\n",
       " 'El Inka',\n",
       " 'Eleven-Hall',\n",
       " 'Embers Speakeasy',\n",
       " 'Enjoylife',\n",
       " 'Eshak',\n",
       " 'Executive lounge (Клубная гостинная)',\n",
       " 'Extra Lounge',\n",
       " 'FABRIKA DELI',\n",
       " 'FAN FOOD',\n",
       " 'FARRO',\n",
       " 'FARШ',\n",
       " 'FOOD PLACE',\n",
       " 'FOOD POINT',\n",
       " 'FOOD STORE еда&бар',\n",
       " 'FRESH CAFE',\n",
       " 'FRIDAYS',\n",
       " 'FROM ROME TO HOME',\n",
       " 'FUMISAWA SUSHI',\n",
       " 'Fair play',\n",
       " 'Fame',\n",
       " 'Familly Film',\n",
       " 'Family Farm Burgers',\n",
       " 'Fan Zone',\n",
       " 'Farinari',\n",
       " 'Farsh',\n",
       " 'Farш',\n",
       " 'Fibonacci',\n",
       " 'Filin good bar',\n",
       " 'Filini',\n",
       " 'Fish Me',\n",
       " 'Fish burger',\n",
       " 'Fishop и Ramen&Noodles',\n",
       " 'Five',\n",
       " 'Flames Lounge',\n",
       " 'Fleur Cafe',\n",
       " 'Flight Club',\n",
       " 'Florentini',\n",
       " 'Food Cafe',\n",
       " 'Food Embassy Юлии Высоцкой',\n",
       " 'Food Mama',\n",
       " 'Food Market',\n",
       " 'Food Place',\n",
       " 'Food Room',\n",
       " 'Food Store',\n",
       " 'Food Trip Cafe',\n",
       " 'Food and Cakes',\n",
       " 'Foood bazar',\n",
       " 'Forest',\n",
       " 'Forneria',\n",
       " 'Fornetto',\n",
       " 'Forte Bello, Zafferano, Edoko',\n",
       " 'Frank by Баста',\n",
       " \"Franklin's Roll&Burger\",\n",
       " 'Franklins',\n",
       " 'Franklins Roll&Burger,Yamkee',\n",
       " 'Franllins',\n",
       " 'French kiss',\n",
       " 'Frenchkiss',\n",
       " 'Frenchkiss Free',\n",
       " 'Fresh Bar',\n",
       " 'Fresh Cacao',\n",
       " 'Fresh bar',\n",
       " 'Fresh for you',\n",
       " 'FreshCafe',\n",
       " 'FreshUP & Cream Bar',\n",
       " 'Frid Chicken',\n",
       " 'Fridays KFC',\n",
       " 'Fried chicken',\n",
       " 'Friends',\n",
       " 'Friends&Family',\n",
       " 'Fritado Мир на сковороде',\n",
       " 'Froyolla',\n",
       " 'Fruit Lab',\n",
       " 'Fruity yummy',\n",
       " 'Fudzy',\n",
       " 'Fusion',\n",
       " 'Fusion Menu',\n",
       " 'Fарш',\n",
       " 'G arbuz',\n",
       " 'GAGAWA',\n",
       " 'GARDEN',\n",
       " 'GIANFRANCO',\n",
       " 'GIPSY',\n",
       " 'GOKOS греческая кухня',\n",
       " 'GOOD ENOUGH',\n",
       " 'GRAMMY S',\n",
       " 'GRAND УРЮК',\n",
       " 'GRANNY Кафе ОШ',\n",
       " 'GRILLFEST (колбаски гриль)',\n",
       " 'Gagawa',\n",
       " 'Galateria plombir',\n",
       " 'Gallo pizza burger',\n",
       " 'Garden Lounge кальянная',\n",
       " 'Garnets & Рассольников',\n",
       " 'Gelateria Plombir',\n",
       " 'Gelato Bacio',\n",
       " 'Genso',\n",
       " 'Genso Sushi, Явтай',\n",
       " 'Gentleman coffee',\n",
       " 'Geometric Pizza',\n",
       " 'Get Lucky',\n",
       " 'Get and Jerry',\n",
       " 'Glenuill',\n",
       " 'Gloster',\n",
       " 'Glow sabs',\n",
       " 'GlowSubs Sandwiches',\n",
       " 'Go Кофе',\n",
       " 'GoCoffe',\n",
       " 'Goat Metal Bar',\n",
       " 'Gold',\n",
       " 'Golden Palace',\n",
       " 'Goncharov',\n",
       " 'Gonzo LOUNGE',\n",
       " 'Good Food',\n",
       " 'Good chillout коллекция',\n",
       " 'Goodman Гудман',\n",
       " 'Gotham lounge',\n",
       " 'Gournest гнездо гурмана',\n",
       " 'Graff Lounge',\n",
       " 'Granat',\n",
       " 'Grand Cru',\n",
       " 'Grano',\n",
       " 'Greek Freak',\n",
       " 'Grill Room',\n",
       " 'Grill&Garden',\n",
       " 'Grill-House',\n",
       " 'Guinness Steak Pub',\n",
       " 'Gvido',\n",
       " 'Gvido Gelato',\n",
       " 'HAGGIS',\n",
       " \"HAMM'S FOOD\",\n",
       " 'HAND',\n",
       " 'HANG KONG',\n",
       " 'HEALTHY Food',\n",
       " 'HELP and FRIEND',\n",
       " 'HERITAGE',\n",
       " 'HYGGE',\n",
       " 'Hadwok',\n",
       " 'Happy Cup club',\n",
       " \"Harat's Pub\",\n",
       " 'Harats Pub',\n",
       " 'Hard Wok Cafe',\n",
       " 'Hardy Lounge Bar',\n",
       " 'Healthy Food',\n",
       " 'Healthy food',\n",
       " 'Helthy Food',\n",
       " 'Hidden bar',\n",
       " 'High Wok & Sushi',\n",
       " 'Holy Vegan',\n",
       " 'Hook Time',\n",
       " 'Hookah Burger',\n",
       " 'Hookah Cloud Lounge',\n",
       " 'Hookah Maryino',\n",
       " 'Hookah Place',\n",
       " 'Hookah Place Semenovskaya',\n",
       " 'Hookah Time',\n",
       " 'Hookah burger',\n",
       " 'Hookah place',\n",
       " 'HookahPlace',\n",
       " 'HookahXV',\n",
       " 'HookanPlace',\n",
       " 'Hot Noodle',\n",
       " 'Howards Loves Craft',\n",
       " 'Hub столовая',\n",
       " 'Hudson Bar',\n",
       " 'Hungry wolf',\n",
       " 'Hunters',\n",
       " 'I AM OK',\n",
       " 'I Like Craft',\n",
       " 'I Like Grill',\n",
       " 'I Lounge',\n",
       " 'I Van Gogh',\n",
       " 'I like bar',\n",
       " 'I-Chef',\n",
       " 'I-Chet',\n",
       " 'IBROHIM Кебаб',\n",
       " 'ICE TUBE',\n",
       " 'ICON',\n",
       " 'ID Cafe здоровое питание',\n",
       " 'IL Borgo',\n",
       " 'IL FORNETTO',\n",
       " 'IL Forno Иль Форно',\n",
       " 'IL PATIO',\n",
       " 'IL PIZZAIOLO',\n",
       " 'IL Patio',\n",
       " 'IL Pizzaiolo',\n",
       " 'IL Tocco',\n",
       " 'IL Патио',\n",
       " 'IL ПатиоПланета Суши',\n",
       " 'IN ROCKI',\n",
       " 'INDIYSKAYA TOCHKA',\n",
       " 'IPho cafe',\n",
       " 'IQ Wine',\n",
       " 'IQOS',\n",
       " 'IRISH MIST PUB',\n",
       " 'ISTANBUL corner',\n",
       " 'IVAS LOUNGE',\n",
       " 'Ibis kitchen',\n",
       " 'Idola',\n",
       " 'Il Massimo',\n",
       " 'Il pizzaolo',\n",
       " 'Im smoking',\n",
       " 'Imho bar',\n",
       " 'InDuke',\n",
       " 'Inbox',\n",
       " 'Inferno',\n",
       " 'Inferno Kitchen правильная еда',\n",
       " 'Italy',\n",
       " 'J cafe Moscow',\n",
       " 'J.Gilroys Pub',\n",
       " 'JACK & JANE',\n",
       " 'JD Burgers',\n",
       " 'JJ Coffee',\n",
       " 'JUNGLE JOY',\n",
       " 'JW Джерри Вингс (Jerry Wings)',\n",
       " 'Jacky Jacky Gastrobar',\n",
       " 'Jai Hind',\n",
       " 'Jamies italian',\n",
       " 'Jeffreys Coffee',\n",
       " 'Jeffreys coffee',\n",
       " 'Jis Asian Bistro & Wine',\n",
       " 'Johny Friends',\n",
       " 'JohnyJosper Pub',\n",
       " 'Jpan bistro',\n",
       " 'K-Grill',\n",
       " 'K-Town',\n",
       " 'K-Town Korean Noodle Bar',\n",
       " 'KAFIN',\n",
       " 'KFC',\n",
       " 'KFC Волгоградский',\n",
       " 'KFC.',\n",
       " 'KINGBERRY',\n",
       " 'KREVETKA Seafood',\n",
       " 'KROMBACHER BEER KITCHEN',\n",
       " 'KU Рамен Изакая Бар',\n",
       " 'KULINARI',\n",
       " 'KURKUMA',\n",
       " 'KUZINA',\n",
       " 'KVARTA',\n",
       " 'KVARTAL',\n",
       " 'Kafe Les',\n",
       " 'Kafin. best coffe. best price',\n",
       " 'Kalimera',\n",
       " 'Kalyan4you',\n",
       " 'Karaoke Lounge VS',\n",
       " 'Katie OSheas',\n",
       " 'Kaufman кафе',\n",
       " 'Kebab grill',\n",
       " 'Kebab house',\n",
       " 'KebabLab',\n",
       " 'Ketch Up',\n",
       " 'Ketch up',\n",
       " 'Khinkalnaya',\n",
       " 'KillFish',\n",
       " 'Kislovsky',\n",
       " 'Kitchen',\n",
       " 'KofeWay',\n",
       " 'Koffee Moose',\n",
       " 'Kombinat Deli',\n",
       " 'Kombinat Deli Кафе Кулинария',\n",
       " 'Kozlovna',\n",
       " 'KoпTeam',\n",
       " 'Kripto Cafe and Bar',\n",
       " 'Krispy Creme',\n",
       " 'Krispy Krem',\n",
       " 'Krispy Kreme',\n",
       " 'Kuksu House',\n",
       " 'Kurnik русские традиции сегодня',\n",
       " 'Kusselita',\n",
       " 'Kuvings',\n",
       " 'Kuzina',\n",
       " 'LA CASA DEL VINO',\n",
       " 'LA VERONA',\n",
       " 'LAFKA BAR',\n",
       " 'LALTRO BOSCO',\n",
       " 'LAMBIC',\n",
       " 'LAMBIC Брассерия',\n",
       " 'LATINOS',\n",
       " 'LAVKA Хлеб',\n",
       " 'LAVKALAVKA',\n",
       " 'LAWSON BAR',\n",
       " 'LES',\n",
       " 'LIFE BOWL',\n",
       " 'LIFT',\n",
       " 'LOCALS',\n",
       " 'LOFT Bar',\n",
       " 'LOFTSMOKE Кальянная',\n",
       " 'LUCE',\n",
       " 'LUNA караоке-ресторан',\n",
       " 'LUNCHROOM',\n",
       " 'LUSUN',\n",
       " 'La Casa Cubana',\n",
       " 'La Corte di Milano',\n",
       " 'La Mia Georgia',\n",
       " 'La Piazza',\n",
       " 'La Provincia',\n",
       " 'La SPEZIA',\n",
       " 'La Scala',\n",
       " 'La Scarpetta',\n",
       " 'La cafe',\n",
       " 'La casa',\n",
       " 'Laboratoria coffee',\n",
       " 'Lacky Ducks bar',\n",
       " 'Laffa Laffa',\n",
       " 'Lambic',\n",
       " 'Lampa cafe',\n",
       " 'Lancheria by Bruno',\n",
       " 'Lao Lee',\n",
       " 'Lari Georgian Kitchen',\n",
       " 'Larionov Grill & Bar',\n",
       " 'Larionov Grill and Bar',\n",
       " 'Le Bar A Vin',\n",
       " 'Legendario',\n",
       " 'Legio Syshi',\n",
       " 'Legion',\n",
       " 'Leningrad',\n",
       " 'Leto Lounge',\n",
       " 'Lets Rok bar',\n",
       " 'Lift',\n",
       " 'Ligeros Club',\n",
       " 'Like wine',\n",
       " 'Limassol',\n",
       " \"Lion's head Pub\",\n",
       " 'Lions Lairs',\n",
       " 'Litro',\n",
       " 'Little Garden Kitchen&Bar',\n",
       " 'Little Osaka',\n",
       " 'Little БЕЙРУТ',\n",
       " 'Live Stars',\n",
       " 'Local Band',\n",
       " 'Local Bar by Timur Lansky',\n",
       " 'Lock Stock',\n",
       " 'Loft 17',\n",
       " 'Loft Hall',\n",
       " 'Loft Soft Bar',\n",
       " 'London beer&grill',\n",
       " 'Look in Rooms',\n",
       " 'Lookin Rooms, Диско 90-х',\n",
       " 'Los Bandidos',\n",
       " 'Lost Bar',\n",
       " 'Louis',\n",
       " 'Lounge 1847',\n",
       " 'Lounge Bar 19-90',\n",
       " 'Lounge bar M&F',\n",
       " 'Lova Lova Multibar',\n",
       " 'Love',\n",
       " 'Love Coffee',\n",
       " 'Love Suchi and...',\n",
       " 'Lovin kafe',\n",
       " 'Lowenbrau Haus',\n",
       " 'Luciano',\n",
       " 'Lucky B Starols',\n",
       " 'Lumberjack Bar',\n",
       " 'LunchJoy Ресторан Китайской Кухни',\n",
       " 'LЮSTRA',\n",
       " 'M Cafe Хинкальная',\n",
       " 'MADEO',\n",
       " 'MASHUP',\n",
       " 'MATCHA Sushi&Bento',\n",
       " 'MATRЁSHKA ФРИ',\n",
       " 'MAX BaKery',\n",
       " 'MEAT PUPPETS',\n",
       " 'MEATSTREET',\n",
       " 'MEDUZZA Lounge Bar',\n",
       " 'MEL кафе',\n",
       " 'MELT ME',\n",
       " 'MICHAELS ISLAND CAFE',\n",
       " 'MOJO бар',\n",
       " 'MR. BURGEROVICH',\n",
       " 'MUKUZANI',\n",
       " 'Ma Mi ХАНОЙСКАЯ ЛАПША',\n",
       " 'Mac&Cheese',\n",
       " 'Macaronika',\n",
       " 'Mad Man',\n",
       " 'Mad city bar',\n",
       " 'Mad wine bar',\n",
       " 'Maestro Wok',\n",
       " 'Magic Fox',\n",
       " 'Main Street кафе',\n",
       " 'Maison Declair',\n",
       " 'Maison declaiz',\n",
       " 'Maki Maki',\n",
       " \"Mandy's Apothecary Irish Pub\",\n",
       " 'Maneki Neko',\n",
       " 'Marfino Delivery',\n",
       " 'Market Burger Bar',\n",
       " 'Market Place',\n",
       " 'Marmalato',\n",
       " 'Marrakesh Хинкальная',\n",
       " 'Marx Urban Grill',\n",
       " 'Masons lounge bar',\n",
       " 'Massala House',\n",
       " 'Master Gyros',\n",
       " 'MatchA DOPE',\n",
       " 'Matcha Botanicals',\n",
       " 'Matcha Sushi Bento',\n",
       " 'Matreshka Coffee',\n",
       " 'Matreshka Free',\n",
       " 'Maxi Pizza',\n",
       " 'Maxima cafe',\n",
       " 'McDonalds',\n",
       " 'Mealty',\n",
       " 'Meat Avenue',\n",
       " 'Meat Meet',\n",
       " 'Meat and Fish',\n",
       " 'Meat love burger',\n",
       " 'MeatChell',\n",
       " 'Meatless',\n",
       " 'Medusa Asian Kitchen bar',\n",
       " 'Meduzzza Кальян-бар',\n",
       " 'Meet Meat',\n",
       " 'Mentano',\n",
       " 'Mery',\n",
       " 'Metafora Bar',\n",
       " 'Miles',\n",
       " 'Milk&Beans',\n",
       " 'Milky Moons',\n",
       " 'Mini Pizza E.F.',\n",
       " 'Mino biFF burger',\n",
       " 'Minori Sushi',\n",
       " 'Mister X',\n",
       " 'Mitrofood',\n",
       " 'MixSalad',\n",
       " 'Modus Friends',\n",
       " 'Mojo',\n",
       " 'Momento eat',\n",
       " 'Mon Bon',\n",
       " 'MondriannLounge',\n",
       " \"Monkeys'S\",\n",
       " 'Monster Hills',\n",
       " 'Moregrill',\n",
       " 'MosInYaz кафе',\n",
       " 'MosKalyan',\n",
       " 'Movenpick',\n",
       " 'Mr Doodls',\n",
       " 'Mr Falafel',\n",
       " 'Mr. Kiko',\n",
       " 'Mr.Chef',\n",
       " 'Mr.Doner',\n",
       " 'Mr.Ginger',\n",
       " 'Mr.Tutti - 2',\n",
       " 'Mr.Тутти',\n",
       " 'Much more',\n",
       " 'Mukuzani',\n",
       " 'Mulberry lounge',\n",
       " 'Munchies pizza&bierra',\n",
       " 'Mushrooms',\n",
       " 'My Gelato',\n",
       " 'My Place',\n",
       " 'My box',\n",
       " 'My gelato КАФЕ',\n",
       " 'MyBar',\n",
       " 'Mystery Hookah Bar',\n",
       " 'MОS Gastronomic Smart и Casual',\n",
       " 'NATHANS',\n",
       " 'NGON',\n",
       " 'NICE TO MEAT YOU Бургерная',\n",
       " 'NOBU',\n",
       " 'NOODLE BAR',\n",
       " 'NOOSH',\n",
       " 'Nargilia Loft. Кальянная. Центр паровых коктелей',\n",
       " 'Natura Sanat',\n",
       " 'Nem & Pho',\n",
       " 'New York Pizza',\n",
       " 'Ngon',\n",
       " 'No Security Grill & Bar',\n",
       " 'Non La',\n",
       " 'Noodles',\n",
       " 'Nook Cofee',\n",
       " 'Nordiclub',\n",
       " 'O Eskimo Chistaya Liniya',\n",
       " 'O escimo',\n",
       " \"O'Donoghue's\",\n",
       " 'OConnells Pub',\n",
       " 'OK DONER',\n",
       " 'OK Food Story',\n",
       " 'OMGcoffee',\n",
       " 'ORIGINAL',\n",
       " 'OVO',\n",
       " 'OXUS',\n",
       " 'Officina',\n",
       " 'Oh My Pho',\n",
       " 'Oki Sushi',\n",
       " 'Oli oli',\n",
       " \"Olster's Pub\",\n",
       " 'One Level',\n",
       " 'One More Pub',\n",
       " 'One Price Coffe',\n",
       " 'One Price Coffee',\n",
       " 'One bucks coffee',\n",
       " 'One more pab',\n",
       " 'One price coffee',\n",
       " 'OnePrice',\n",
       " 'OnePriceCoffe',\n",
       " 'OnePriceCoffee',\n",
       " 'Oriental',\n",
       " 'Osteria Mario',\n",
       " 'Osteria Mario+Швили',\n",
       " 'Osteria Toscana',\n",
       " 'OsteriaMario',\n",
       " 'OverSalad',\n",
       " 'P.Square',\n",
       " 'P4B Lounge Bar',\n",
       " 'PARTY BUN',\n",
       " 'PASTA',\n",
       " 'PAUL',\n",
       " 'PAUL Поль',\n",
       " 'PECIVO',\n",
       " 'PETRUSHKA',\n",
       " 'PHO BO 360',\n",
       " 'PHO U',\n",
       " 'PHO U Вьетнамская еда',\n",
       " 'PHO VIET Въетнамская кухня',\n",
       " 'PHO вкусный',\n",
       " 'PICNIC Cafe',\n",
       " 'PINOCCHIO',\n",
       " 'PINSAPOINT',\n",
       " 'PIOPPO ALBERO',\n",
       " 'PITAS',\n",
       " 'PIVBAR',\n",
       " 'PIZZA HUT',\n",
       " 'PLAN B',\n",
       " 'PLOV BOX',\n",
       " 'PLOV.COM',\n",
       " 'PLPB пицца',\n",
       " 'POINTCoffe&Food',\n",
       " 'PQ Coffee and Friends',\n",
       " 'PRIME',\n",
       " 'PRIME STAR Прайм стар',\n",
       " 'PRIME Прайм стар Прайм-кафе',\n",
       " 'PRO Суши Пицца',\n",
       " 'PS Гвозди',\n",
       " 'PUBLIC CAFE',\n",
       " 'Palacio',\n",
       " 'Palas des Thes',\n",
       " 'Panda Express',\n",
       " 'Papa Grill',\n",
       " 'Papas Burgers',\n",
       " 'Paprika Picante',\n",
       " 'Paradise SPA Club',\n",
       " 'Pari-Joli',\n",
       " 'Passion',\n",
       " 'Pasta + Salsa',\n",
       " 'Pasta Cup&pinsa',\n",
       " 'Pasta Deli',\n",
       " 'Pastoria',\n",
       " 'Paul Cafe',\n",
       " 'Paulaner Brauhaus',\n",
       " 'Pelmeniki Club',\n",
       " 'Pelmesh',\n",
       " 'Per se Cafe',\n",
       " 'Peri',\n",
       " 'Peshi',\n",
       " 'Petite Pierre Cafe',\n",
       " 'Pho',\n",
       " 'Pho Bo',\n",
       " 'Pho Bo ханойский стрит-фуд',\n",
       " 'Pho Fighters',\n",
       " 'Pho Hanoi',\n",
       " 'Pho Point',\n",
       " 'Pho Viet',\n",
       " 'Pho Viet (Вьетнамский стритфуд)',\n",
       " 'Pho bo San',\n",
       " 'PhoBo',\n",
       " 'Picciotti',\n",
       " 'Piccolo',\n",
       " 'Pie Factore',\n",
       " 'Pinsapositana',\n",
       " 'PinzaUno',\n",
       " 'Pinzeria by Bontempi',\n",
       " 'Pinzeria by Bontempo',\n",
       " 'Pioppo Albero',\n",
       " 'PitStopКафе',\n",
       " 'Pita Gyros',\n",
       " 'Pita Mix',\n",
       " 'Pita&meat',\n",
       " 'Piu del Cibo',\n",
       " 'PivBar',\n",
       " 'Pizengof99 СПБ',\n",
       " 'Pizza 24 express',\n",
       " 'Pizza Express',\n",
       " 'Pizza Hut',\n",
       " 'Pizza Loft Coffee',\n",
       " 'Pizza Mia',\n",
       " 'Pizza Napoleana',\n",
       " 'Pizza OH',\n",
       " ...]"
      ]
     },
     "execution_count": 6,
     "metadata": {},
     "output_type": "execute_result"
    }
   ],
   "source": [
    "# Посмотрим уникальные значения в столбце с названиями.\n",
    "sorted(data['object_name'].unique().tolist())"
   ]
  },
  {
   "cell_type": "markdown",
   "metadata": {},
   "source": [
    "Печальная история с названиями заведений в предоставленных данных. Такое впечатление что названия заполняются вручную поэтому встречаются: 'OnePriceCoffe', 'OnePriceCoffee', 'One Price Coffe', 'One Price Coffee' или 'Look in Rooms', 'Lookin Rooms, Диско 90-х' или 'Larionov Grill & Bar', 'Larionov Grill and Bar' или 'Krispy Creme', 'Krispy Krem', 'Krispy Kreme' и т.д.\n",
    "\n",
    "Пока не понятно что со всем этим делать. Для начала можно привести значения в столбце к нижнему регистру. Дальше можно будет поработать с заведениями находящимися по одному адресу для поиска и удаления дублей."
   ]
  },
  {
   "cell_type": "code",
   "execution_count": 7,
   "metadata": {},
   "outputs": [],
   "source": [
    "# Приведем значения к нижнему регистру и удалим паразитные символы из названий.\n",
    "data['object_name'] = data['object_name'].str.lower()\n",
    "data['object_name'] = data['object_name'].str.replace(r'[«».]*', '', regex=True)\n",
    "data['object_name'] = data['object_name'].str.replace(r'-', ' ')"
   ]
  },
  {
   "cell_type": "markdown",
   "metadata": {},
   "source": [
    "**Посмотрим столбец `chain`.**"
   ]
  },
  {
   "cell_type": "code",
   "execution_count": 8,
   "metadata": {},
   "outputs": [
    {
     "data": {
      "text/plain": [
       "нет    12398\n",
       "да      2968\n",
       "Name: chain, dtype: int64"
      ]
     },
     "execution_count": 8,
     "metadata": {},
     "output_type": "execute_result"
    }
   ],
   "source": [
    "# Посмотрим данные в столбце.\n",
    "data['chain'].value_counts()"
   ]
  },
  {
   "cell_type": "markdown",
   "metadata": {},
   "source": [
    "12398 не сетевых заведений и 2968 сетевых. \n",
    "\n",
    "Приведем столбец к формату bool для удобства."
   ]
  },
  {
   "cell_type": "code",
   "execution_count": 9,
   "metadata": {},
   "outputs": [],
   "source": [
    "# Напишем функцию для изменения формата столбца.\n",
    "def bool_values(i):\n",
    "    if i=='да':\n",
    "        return True\n",
    "    elif i=='нет':\n",
    "        return False\n",
    "data['chain'] = data['chain'].apply(bool_values)"
   ]
  },
  {
   "cell_type": "code",
   "execution_count": 10,
   "metadata": {},
   "outputs": [
    {
     "name": "stdout",
     "output_type": "stream",
     "text": [
      "<class 'pandas.core.frame.DataFrame'>\n",
      "RangeIndex: 15366 entries, 0 to 15365\n",
      "Data columns (total 6 columns):\n",
      " #   Column       Non-Null Count  Dtype \n",
      "---  ------       --------------  ----- \n",
      " 0   id           15366 non-null  int64 \n",
      " 1   object_name  15366 non-null  object\n",
      " 2   chain        15366 non-null  bool  \n",
      " 3   object_type  15366 non-null  object\n",
      " 4   address      15366 non-null  object\n",
      " 5   number       15366 non-null  int64 \n",
      "dtypes: bool(1), int64(2), object(3)\n",
      "memory usage: 615.4+ KB\n"
     ]
    }
   ],
   "source": [
    "# Проверим результат.\n",
    "data.info()"
   ]
  },
  {
   "cell_type": "markdown",
   "metadata": {},
   "source": [
    "**Посмотрим столбец `object_type`.**"
   ]
  },
  {
   "cell_type": "code",
   "execution_count": 11,
   "metadata": {},
   "outputs": [
    {
     "data": {
      "text/plain": [
       "кафе                                 6099\n",
       "столовая                             2587\n",
       "ресторан                             2285\n",
       "предприятие быстрого обслуживания    1923\n",
       "бар                                   856\n",
       "буфет                                 585\n",
       "кафетерий                             398\n",
       "закусочная                            360\n",
       "магазин (отдел кулинарии)             273\n",
       "Name: object_type, dtype: int64"
      ]
     },
     "execution_count": 11,
     "metadata": {},
     "output_type": "execute_result"
    }
   ],
   "source": [
    "# Посмотрим данные в столбце.\n",
    "data['object_type'].value_counts()"
   ]
  },
  {
   "cell_type": "markdown",
   "metadata": {},
   "source": [
    "Подавляющее большинство заведений относятся к `кафе` - 6099 заведений, далее примено одинаковой количество `столовые` - 2587, `ресторан` - 2285 и `предприятия быстрого обслуживания` - 1923. Для удобства переименуем `предприятие быстрого обслуживания` в `фаст фуд`, `магазин (отдел кулинарии)` в `кулинария`."
   ]
  },
  {
   "cell_type": "code",
   "execution_count": 12,
   "metadata": {},
   "outputs": [],
   "source": [
    "# Заменим названия типов объектов питания на более удобные.\n",
    "data['object_type'] = data['object_type'].str.replace('предприятие быстрого обслуживания', 'фаст-фуд')\n",
    "data['object_type'] = data['object_type'].str.replace('магазин \\(отдел кулинарии\\)', 'кулинария', regex=True)"
   ]
  },
  {
   "cell_type": "code",
   "execution_count": 13,
   "metadata": {},
   "outputs": [
    {
     "data": {
      "text/plain": [
       "кафе          6099\n",
       "столовая      2587\n",
       "ресторан      2285\n",
       "фаст-фуд      1923\n",
       "бар            856\n",
       "буфет          585\n",
       "кафетерий      398\n",
       "закусочная     360\n",
       "кулинария      273\n",
       "Name: object_type, dtype: int64"
      ]
     },
     "execution_count": 13,
     "metadata": {},
     "output_type": "execute_result"
    }
   ],
   "source": [
    "# Проверим результат.\n",
    "data['object_type'].value_counts()"
   ]
  },
  {
   "cell_type": "markdown",
   "metadata": {},
   "source": [
    "**Посмотрим столбец `address`.**"
   ]
  },
  {
   "cell_type": "code",
   "execution_count": 14,
   "metadata": {},
   "outputs": [
    {
     "data": {
      "text/plain": [
       "['1-й Нагатинский проезд, дом 10',\n",
       " '1-я Тверская-Ямская улица, дом 29/66, корпус 1',\n",
       " '2-я Брестская улица, дом 1, строение 1',\n",
       " '2-я Брестская улица, дом 5, строение 1',\n",
       " '5-й Котельнический переулок, дом 11',\n",
       " 'Алтуфьевское шоссе, дом 52А',\n",
       " 'Бауманская улица, дом 7, строение 3',\n",
       " 'Большая Бронная улица, дом 20/1/27, строение 2',\n",
       " 'Большая Серпуховская улица, дом 48, строение 2',\n",
       " 'Варшавское шоссе, владение 99А',\n",
       " 'Вознесенский переулок, дом 7, строение 1',\n",
       " 'Вспольный переулок, дом 19/20, строение 1',\n",
       " 'Дербеневская улица, дом 11А, строение 17',\n",
       " 'Калашный переулок, дом 8А/5, строение 3',\n",
       " 'Киевская улица, дом 7',\n",
       " 'Коровинское шоссе, дом 46, корпус 1',\n",
       " 'Краснобогатырская улица, дом 90, строение 1',\n",
       " 'Ленинградский проспект, дом 37, корпус 4',\n",
       " 'Ленинградский проспект, дом 39, строение 2',\n",
       " 'Ленинский проспект, владение 164',\n",
       " 'Медынская улица, дом 11А',\n",
       " 'Митинская улица, дом 28, корпус 5, строение 1',\n",
       " 'Нижний Таганский тупик, дом 3, строение 1',\n",
       " 'Николоямская улица, дом 28/60, строение 1',\n",
       " 'Николоямская улица, дом 38/14/23, строение 3',\n",
       " 'Новоданиловская набережная, дом 6',\n",
       " 'Партизанская улица, дом 30',\n",
       " 'Погодинская улица, дом 4, строение 1',\n",
       " 'Полевая улица, дом 20',\n",
       " 'Поречная улица, дом 5/14, строение 1',\n",
       " 'Проектируемый проезд N 5231, дом 8, строение 3',\n",
       " 'Профсоюзная улица, дом 118Б, корпус 1',\n",
       " 'Садовая-Сухаревская улица, дом 2/34, строение 2',\n",
       " 'Солянский тупик, дом 1/4, строение 1',\n",
       " 'Солянский тупик, дом 1/4, строение 2',\n",
       " 'Софийская набережная, дом 26/1, строение 1',\n",
       " 'Суворовская площадь, дом 2',\n",
       " 'Таганская площадь, дом 88, строение 4',\n",
       " 'Таганская улица, дом 19, корпус 1',\n",
       " 'Тушинская улица, дом 16, строение 2',\n",
       " 'Чертановская улица, владение 32Б',\n",
       " 'Шарикоподшипниковская улица, дом 5, строение 1',\n",
       " 'Школьная улица, дом 48, строение 1',\n",
       " 'город Москва, 1-й Автозаводский проезд, дом 4, корпус 1',\n",
       " 'город Москва, 1-й Автозаводский проезд, дом 5',\n",
       " 'город Москва, 1-й Амбулаторный проезд, дом 2, строение 2',\n",
       " 'город Москва, 1-й Амбулаторный проезд, дом 8, строение 1',\n",
       " 'город Москва, 1-й Балтийский переулок, дом 3/25',\n",
       " 'город Москва, 1-й Басманный переулок, дом 3, строение 1',\n",
       " 'город Москва, 1-й Ботанический проезд, дом 2',\n",
       " 'город Москва, 1-й Боткинский проезд, дом 2/6',\n",
       " 'город Москва, 1-й Боткинский проезд, дом 7, строение 1',\n",
       " 'город Москва, 1-й Боткинский проезд, дом 9',\n",
       " 'город Москва, 1-й Варшавский проезд, дом 1А, строение 9',\n",
       " 'город Москва, 1-й Варшавский проезд, дом 6, строение 10',\n",
       " 'город Москва, 1-й Вешняковский проезд, дом 2, строение 1',\n",
       " 'город Москва, 1-й Волоколамский проезд, дом 10, строение 1',\n",
       " 'город Москва, 1-й Волоколамский проезд, дом 10, строение 16',\n",
       " 'город Москва, 1-й Волоколамский проезд, дом 9, корпус 1',\n",
       " 'город Москва, 1-й Голутвинский переулок, дом 6',\n",
       " 'город Москва, 1-й Гончарный переулок, дом 4, строение 1',\n",
       " 'город Москва, 1-й Гончарный переулок, дом 4, строение 2',\n",
       " 'город Москва, 1-й Грайвороновский проезд, дом 2, строение 10',\n",
       " 'город Москва, 1-й Грайвороновский проезд, дом 20А, строение 1',\n",
       " 'город Москва, 1-й Дорожный проезд, дом 1',\n",
       " 'город Москва, 1-й Дорожный проезд, дом 1, корпус 2',\n",
       " 'город Москва, 1-й Дорожный проезд, дом 3Б',\n",
       " 'город Москва, 1-й Дорожный проезд, дом 4, строение 1',\n",
       " 'город Москва, 1-й Дорожный проезд, дом 7',\n",
       " 'город Москва, 1-й Дорожный проезд, дом 9',\n",
       " 'город Москва, 1-й Зачатьевский переулок, дом 4',\n",
       " 'город Москва, 1-й Казачий переулок, дом 13',\n",
       " 'город Москва, 1-й Казачий переулок, дом 4',\n",
       " 'город Москва, 1-й Кирпичный переулок, дом 4, строение 2',\n",
       " 'город Москва, 1-й Кожевнический переулок, дом 6, строение 1',\n",
       " 'город Москва, 1-й Кожуховский проезд, дом 17',\n",
       " 'город Москва, 1-й Коптельский переулок, дом 2/7, строение 1',\n",
       " 'город Москва, 1-й Котельнический переулок, дом 5, строение 2',\n",
       " 'город Москва, 1-й Котляковский переулок, дом 3',\n",
       " 'город Москва, 1-й Котляковский переулок, дом 3, корпус 1',\n",
       " 'город Москва, 1-й Красногвардейский проезд, дом 15',\n",
       " 'город Москва, 1-й Красногвардейский проезд, дом 21, строение 2',\n",
       " 'город Москва, 1-й Краснокурсантский проезд, дом 1/4',\n",
       " 'город Москва, 1-й Курьяновский проезд, дом 14',\n",
       " 'город Москва, 1-й Лучевой просек, дом 1',\n",
       " 'город Москва, 1-й Люсиновский переулок, дом 3Б',\n",
       " 'город Москва, 1-й Магистральный тупик, дом 10, корпус 1',\n",
       " 'город Москва, 1-й Митинский переулок, дом 12, корпус 1, строение 1',\n",
       " 'город Москва, 1-й Митинский переулок, дом 25',\n",
       " 'город Москва, 1-й Монетчиковский переулок, дом 5, строение 1',\n",
       " 'город Москва, 1-й Нагатинский проезд, дом 10, строение 1',\n",
       " 'город Москва, 1-й Нагатинский проезд, дом 11, корпус 1',\n",
       " 'город Москва, 1-й Нагатинский проезд, дом 11, корпус 2',\n",
       " 'город Москва, 1-й Нагатинский проезд, дом 11, корпус 3',\n",
       " 'город Москва, 1-й Нагатинский проезд, дом 15',\n",
       " 'город Москва, 1-й Нагатинский проезд, дом 16',\n",
       " 'город Москва, 1-й Нагатинский проезд, дом 4',\n",
       " 'город Москва, 1-й Неопалимовский переулок, дом 10, строение 10',\n",
       " 'город Москва, 1-й Неопалимовский переулок, дом 6',\n",
       " 'город Москва, 1-й Николощеповский переулок, дом 6, строение 2',\n",
       " 'город Москва, 1-й Новокузнецкий переулок, дом 5-7',\n",
       " 'город Москва, 1-й Обыденский переулок, дом 9/12',\n",
       " 'город Москва, 1-й Рижский переулок, дом 6, строение 1',\n",
       " 'город Москва, 1-й Саратовский проезд, дом 5',\n",
       " 'город Москва, 1-й Сельскохозяйственный проезд, дом 2',\n",
       " 'город Москва, 1-й Сетуньский проезд, дом 10',\n",
       " 'город Москва, 1-й Силикатный проезд, дом 13',\n",
       " 'город Москва, 1-й Спасоналивковский переулок, дом 8, строение 2',\n",
       " 'город Москва, 1-й Стрелецкий проезд, дом 14',\n",
       " 'город Москва, 1-й Тверской-Ямской переулок, дом 11',\n",
       " 'город Москва, 1-й Тверской-Ямской переулок, дом 14',\n",
       " 'город Москва, 1-й Тверской-Ямской переулок, дом 18',\n",
       " 'город Москва, 1-й Тушинский проезд, дом 12',\n",
       " 'город Москва, 1-й Хорошёвский проезд, дом 12, корпус 1',\n",
       " 'город Москва, 1-й Хорошёвский проезд, дом 14, корпус 1',\n",
       " 'город Москва, 1-й Хорошёвский проезд, дом 16, корпус 1',\n",
       " 'город Москва, 1-й переулок Тружеников, дом 12, строение 4',\n",
       " 'город Москва, 1-й переулок Тружеников, дом 18',\n",
       " 'город Москва, 1-й переулок Тружеников, дом 4',\n",
       " 'город Москва, 1-й проезд Марьиной Рощи, дом 3А',\n",
       " 'город Москва, 1-й проезд Перова Поля, дом 8',\n",
       " 'город Москва, 1-й проезд Перова Поля, дом 9, строение 1',\n",
       " 'город Москва, 1-я Аэропортовская улица, дом 1, строение 3',\n",
       " 'город Москва, 1-я Боевская улица, дом 6',\n",
       " 'город Москва, 1-я Брестская улица, дом 10, строение 4',\n",
       " 'город Москва, 1-я Брестская улица, дом 2, строение 3',\n",
       " 'город Москва, 1-я Брестская улица, дом 29',\n",
       " 'город Москва, 1-я Брестская улица, дом 41',\n",
       " 'город Москва, 1-я Брестская улица, дом 43',\n",
       " 'город Москва, 1-я Брестская улица, дом 62',\n",
       " 'город Москва, 1-я Брестская улица, дом 66',\n",
       " 'город Москва, 1-я Владимирская улица, дом 10Д, строение 3',\n",
       " 'город Москва, 1-я Владимирская улица, дом 13',\n",
       " 'город Москва, 1-я Владимирская улица, дом 14',\n",
       " 'город Москва, 1-я Владимирская улица, дом 21',\n",
       " 'город Москва, 1-я Владимирская улица, дом 31',\n",
       " 'город Москва, 1-я Владимирская улица, дом 37/15',\n",
       " 'город Москва, 1-я Владимирская улица, дом 39/12',\n",
       " 'город Москва, 1-я Владимирская улица, дом 43',\n",
       " 'город Москва, 1-я Владимирская улица, дом 9',\n",
       " 'город Москва, 1-я Вольская улица, дом 17, корпус 1',\n",
       " 'город Москва, 1-я Вольская улица, дом 22, корпус 2',\n",
       " 'город Москва, 1-я Вольская улица, дом 26',\n",
       " 'город Москва, 1-я Вольская улица, дом 45',\n",
       " 'город Москва, 1-я Вольская улица, дом 9, корпус 3',\n",
       " 'город Москва, 1-я Гражданская улица, дом 96',\n",
       " 'город Москва, 1-я Дубровская улица, дом 1, строение 3',\n",
       " 'город Москва, 1-я Дубровская улица, дом 13',\n",
       " 'город Москва, 1-я Дубровская улица, дом 13А, строение 1',\n",
       " 'город Москва, 1-я Дубровская улица, дом 16',\n",
       " 'город Москва, 1-я Дубровская улица, дом 6',\n",
       " 'город Москва, 1-я Карачаровская улица, дом 8, строение 1',\n",
       " 'город Москва, 1-я Квесисская улица, дом 18',\n",
       " 'город Москва, 1-я Квесисская улица, дом 9',\n",
       " 'город Москва, 1-я Курьяновская улица, дом 18',\n",
       " 'город Москва, 1-я Курьяновская улица, дом 20/1, строение 1',\n",
       " 'город Москва, 1-я Курьяновская улица, дом 22, строение 2',\n",
       " 'город Москва, 1-я Магистральная улица, дом 18, строение 1',\n",
       " 'город Москва, 1-я Магистральная улица, дом 23',\n",
       " 'город Москва, 1-я Миусская улица, дом 4',\n",
       " 'город Москва, 1-я Мытищинская улица, дом 17',\n",
       " 'город Москва, 1-я Мытищинская улица, дом 26, строение 1',\n",
       " 'город Москва, 1-я Мытищинская улица, дом 27, строение 1',\n",
       " 'город Москва, 1-я Мясниковская улица, дом 16',\n",
       " 'город Москва, 1-я Мясниковская улица, дом 2',\n",
       " 'город Москва, 1-я Напрудная улица, дом 13',\n",
       " 'город Москва, 1-я Новокузьминская улица, дом 18',\n",
       " 'город Москва, 1-я Новокузьминская улица, дом 19, корпус 2',\n",
       " 'город Москва, 1-я Новокузьминская улица, дом 3',\n",
       " 'город Москва, 1-я Останкинская улица, владение 7А, строение 18',\n",
       " 'город Москва, 1-я Останкинская улица, владение 7А, строение 19',\n",
       " 'город Москва, 1-я Останкинская улица, дом 1А',\n",
       " 'город Москва, 1-я Останкинская улица, дом 29',\n",
       " 'город Москва, 1-я Останкинская улица, дом 53',\n",
       " 'город Москва, 1-я Останкинская улица, дом 55',\n",
       " 'город Москва, 1-я Останкинская улица, дом 55Д',\n",
       " 'город Москва, 1-я Останкинская улица, дом 57',\n",
       " 'город Москва, 1-я Пугачёвская улица, дом 25, строение 1',\n",
       " 'город Москва, 1-я Рейсовая улица, дом 12, корпус 1',\n",
       " 'город Москва, 1-я Рейсовая улица, дом 13',\n",
       " 'город Москва, 1-я Рейсовая улица, дом 2',\n",
       " 'город Москва, 1-я Рейсовая улица, дом 4-А',\n",
       " 'город Москва, 1-я Рейсовая улица, дом 6-А',\n",
       " 'город Москва, 1-я Тверская-Ямская улица, дом 1/3, строение 2',\n",
       " 'город Москва, 1-я Тверская-Ямская улица, дом 11',\n",
       " 'город Москва, 1-я Тверская-Ямская улица, дом 12',\n",
       " 'город Москва, 1-я Тверская-Ямская улица, дом 13, строение 1',\n",
       " 'город Москва, 1-я Тверская-Ямская улица, дом 16/23, строение 1',\n",
       " 'город Москва, 1-я Тверская-Ямская улица, дом 19',\n",
       " 'город Москва, 1-я Тверская-Ямская улица, дом 2, сооружение 1',\n",
       " 'город Москва, 1-я Тверская-Ямская улица, дом 2, строение 1',\n",
       " 'город Москва, 1-я Тверская-Ямская улица, дом 21',\n",
       " 'город Москва, 1-я Тверская-Ямская улица, дом 23, строение 1',\n",
       " 'город Москва, 1-я Тверская-Ямская улица, дом 27',\n",
       " 'город Москва, 1-я Тверская-Ямская улица, дом 29, строение 1',\n",
       " 'город Москва, 1-я Тверская-Ямская улица, дом 34',\n",
       " 'город Москва, 1-я Тверская-Ямская улица, дом 4',\n",
       " 'город Москва, 1-я Тверская-Ямская улица, дом 7',\n",
       " 'город Москва, 1-я Тверская-Ямская улица, дом 8',\n",
       " 'город Москва, 1-я Тверская-Ямская улица, дом 9',\n",
       " 'город Москва, 1-я Фрунзенская улица, дом 3А',\n",
       " 'город Москва, 1-я Фрунзенская улица, дом 6',\n",
       " 'город Москва, 1-я Фрунзенская улица, дом 8',\n",
       " 'город Москва, 1-я Чоботовская аллея, дом 6-Б',\n",
       " 'город Москва, 1-я линия Хорошёвского Серебряного Бора, домовладение 10, строение 1',\n",
       " 'город Москва, 1-я улица Бухвостова, дом 12/11, корпус 11',\n",
       " 'город Москва, 1-я улица Бухвостова, дом 12/11, корпус 12',\n",
       " 'город Москва, 1-я улица Бухвостова, дом 12/11, корпус 13',\n",
       " 'город Москва, 1-я улица Бухвостова, дом 12/11, корпус 21',\n",
       " 'город Москва, 1-я улица Машиностроения, дом 10',\n",
       " 'город Москва, 1-я улица Машиностроения, дом 12, корпус 2',\n",
       " 'город Москва, 1-я улица Машиностроения, дом 3/5А',\n",
       " 'город Москва, 1-я улица Машиностроения, дом 5',\n",
       " 'город Москва, 1-я улица Текстильщиков, дом 16',\n",
       " 'город Москва, 1-я улица Текстильщиков, дом 5/8',\n",
       " 'город Москва, 1-я улица Ямского Поля, дом 15, строение 4',\n",
       " 'город Москва, 1-я улица Ямского Поля, дом 17, корпус 12',\n",
       " 'город Москва, 104-й километр Московской Кольцевой Автодороги, дом 6',\n",
       " 'город Москва, 11-я Парковая улица, дом 50',\n",
       " 'город Москва, 11-я улица Текстильщиков, дом 1',\n",
       " 'город Москва, 11-я улица Текстильщиков, дом 6',\n",
       " 'город Москва, 12-й проезд Марьиной Рощи, владение 9, строение 2',\n",
       " 'город Москва, 12-я Парковая улица, дом 13',\n",
       " 'город Москва, 12-я Парковая улица, дом 7',\n",
       " 'город Москва, 13-я Парковая улица, дом 18А',\n",
       " 'город Москва, 13-я Парковая улица, дом 28А, строение 1',\n",
       " 'город Москва, 13-я Парковая улица, дом 29',\n",
       " 'город Москва, 13-я Парковая улица, дом 33',\n",
       " 'город Москва, 14-я Парковая улица, дом 4Б',\n",
       " 'город Москва, 15-я Парковая улица, дом 1/123, корпус 2',\n",
       " 'город Москва, 15-я Парковая улица, дом 16А',\n",
       " 'город Москва, 15-я Парковая улица, дом 18, корпус 1',\n",
       " 'город Москва, 15-я Парковая улица, дом 27',\n",
       " 'город Москва, 15-я Парковая улица, дом 46А',\n",
       " 'город Москва, 15-я Парковая улица, дом 50',\n",
       " 'город Москва, 15-я Парковая улица, дом 52А',\n",
       " 'город Москва, 15-я Парковая улица, дом 58',\n",
       " 'город Москва, 16-я Парковая улица, дом 16',\n",
       " 'город Москва, 16-я Парковая улица, дом 20',\n",
       " 'город Москва, 16-я Парковая улица, дом 32',\n",
       " 'город Москва, 16-я Парковая улица, дом 39, строение 1',\n",
       " 'город Москва, 16-я Парковая улица, дом 4',\n",
       " 'город Москва, 16-я Парковая улица, дом 45',\n",
       " 'город Москва, 17-й проезд Марьиной Рощи, дом 4',\n",
       " 'город Москва, 19-й километр Московской Кольцевой Автодороги, владение 20, строение 1',\n",
       " 'город Москва, 19-й километр Московской Кольцевой Автодороги, владение 20, строение 2',\n",
       " 'город Москва, 19-й километр Московской Кольцевой Автодороги, владение 6А',\n",
       " 'город Москва, 2-й Балтийский переулок, дом 3',\n",
       " 'город Москва, 2-й Боткинский проезд, дом 5, корпус 28',\n",
       " 'город Москва, 2-й Верхний Михайловский проезд, дом 2',\n",
       " 'город Москва, 2-й Войковский проезд, дом 2/11',\n",
       " 'город Москва, 2-й Вышеславцев переулок, дом 17',\n",
       " 'город Москва, 2-й Донской проезд, дом 10',\n",
       " 'город Москва, 2-й Донской проезд, дом 4, строение 1',\n",
       " 'город Москва, 2-й Донской проезд, дом 4, строение 9',\n",
       " 'город Москва, 2-й Иртышский проезд, дом 6, строение 1',\n",
       " 'город Москва, 2-й Кабельный проезд, дом 1',\n",
       " 'город Москва, 2-й Кадашёвский переулок, дом 16, строение 1',\n",
       " 'город Москва, 2-й Кожевнический переулок, дом 1',\n",
       " 'город Москва, 2-й Кожевнический переулок, дом 12',\n",
       " 'город Москва, 2-й Кожуховский проезд, дом 23',\n",
       " 'город Москва, 2-й Кожуховский проезд, дом 25, строение 1',\n",
       " 'город Москва, 2-й Колобовский переулок, дом 12',\n",
       " 'город Москва, 2-й Котляковский переулок, дом 1, строение 35',\n",
       " 'город Москва, 2-й Котляковский переулок, дом 1, строение 99',\n",
       " 'город Москва, 2-й Котляковский переулок, дом 18',\n",
       " 'город Москва, 2-й Красносельский переулок, дом 18',\n",
       " 'город Москва, 2-й Курьяновский проезд, дом 2',\n",
       " 'город Москва, 2-й Лучевой просек, дом 2',\n",
       " 'город Москва, 2-й Магистральный тупик, дом 5А',\n",
       " 'город Москва, 2-й Нагатинский проезд, дом 4',\n",
       " 'город Москва, 2-й Нагатинский проезд, дом 6',\n",
       " 'город Москва, 2-й Нагатинский проезд, дом 8',\n",
       " 'город Москва, 2-й Неопалимовский переулок, дом 3',\n",
       " 'город Москва, 2-й Новокузнецкий переулок, дом 13/15, строение 1',\n",
       " 'город Москва, 2-й Новоподмосковный переулок, дом 8',\n",
       " 'город Москва, 2-й Обыденский переулок, дом 9',\n",
       " 'город Москва, 2-й Павелецкий проезд, дом 4, корпус 1',\n",
       " 'город Москва, 2-й Павелецкий проезд, дом 4А',\n",
       " 'город Москва, 2-й Павелецкий проезд, дом 5, строение 1',\n",
       " 'город Москва, 2-й Павелецкий проезд, дом 5, строение 3',\n",
       " 'город Москва, 2-й Полевой переулок, дом 2',\n",
       " 'город Москва, 2-й Рощинский проезд, дом 8',\n",
       " 'город Москва, 2-й Сельскохозяйственный проезд, дом 4, строение 1',\n",
       " 'город Москва, 2-й Сетуньский проезд, дом 9',\n",
       " 'город Москва, 2-й Смоленский переулок, дом 1/4',\n",
       " 'город Москва, 2-й Стрелецкий проезд, дом 7',\n",
       " 'город Москва, 2-й Сыромятнический переулок, дом 1',\n",
       " 'город Москва, 2-й Хорошёвский проезд, дом 7, корпус 1',\n",
       " 'город Москва, 2-й Хорошёвский проезд, дом 9, корпус 2',\n",
       " 'город Москва, 2-й Хуторской переулок, дом 4/13',\n",
       " 'город Москва, 2-й Щемиловский переулок, дом 4',\n",
       " 'город Москва, 2-й Южнопортовый проезд, дом 11, строение 1',\n",
       " 'город Москва, 2-й Южнопортовый проезд, дом 12А, корпус 1, строение 1',\n",
       " 'город Москва, 2-й Южнопортовый проезд, дом 14/22, строение 1',\n",
       " 'город Москва, 2-й Южнопортовый проезд, дом 14/22, строение 3',\n",
       " 'город Москва, 2-й Южнопортовый проезд, дом 18, строение 8',\n",
       " 'город Москва, 2-й Южнопортовый проезд, дом 27А, строение 2',\n",
       " 'город Москва, 2-й квартал Капотня, дом 1',\n",
       " 'город Москва, 2-й квартал Капотня, дом 1, корпус 3',\n",
       " 'город Москва, 2-й квартал Капотня, дом 19, строение 1',\n",
       " 'город Москва, 2-й квартал Капотня, дом 2',\n",
       " 'город Москва, 2-й квартал Капотня, дом 22, корпус 1',\n",
       " 'город Москва, 2-й квартал Капотня, дом 37',\n",
       " 'город Москва, 2-я Бауманская улица, дом 5, строение 1',\n",
       " 'город Москва, 2-я Бауманская улица, дом 5, строение 2',\n",
       " 'город Москва, 2-я Брестская улица, дом 24/15',\n",
       " 'город Москва, 2-я Брестская улица, дом 39, строение 2',\n",
       " 'город Москва, 2-я Брестская улица, дом 41, строение 1',\n",
       " 'город Москва, 2-я Брестская улица, дом 43',\n",
       " 'город Москва, 2-я Брестская улица, дом 6',\n",
       " 'город Москва, 2-я Брестская улица, дом 8',\n",
       " 'город Москва, 2-я Владимирская улица, дом 10',\n",
       " 'город Москва, 2-я Владимирская улица, дом 22',\n",
       " 'город Москва, 2-я Владимирская улица, дом 32, корпус 1',\n",
       " 'город Москва, 2-я Владимирская улица, дом 36',\n",
       " 'город Москва, 2-я Владимирская улица, дом 42',\n",
       " 'город Москва, 2-я Владимирская улица, дом 44/10',\n",
       " 'город Москва, 2-я Владимирская улица, дом 52, корпус 2',\n",
       " 'город Москва, 2-я Вольская улица, дом 30, строение 1',\n",
       " 'город Москва, 2-я Вольская улица, дом 7, корпус 2',\n",
       " 'город Москва, 2-я Гражданская улица, дом 8',\n",
       " 'город Москва, 2-я Дубровская улица, дом 3',\n",
       " 'город Москва, 2-я Звенигородская улица, дом 12, строение 18',\n",
       " 'город Москва, 2-я Звенигородская улица, дом 12, строение 23',\n",
       " 'город Москва, 2-я Звенигородская улица, дом 12, строение 4',\n",
       " 'город Москва, 2-я Звенигородская улица, дом 12, строение 5',\n",
       " 'город Москва, 2-я Звенигородская улица, дом 12, строение 70',\n",
       " 'город Москва, 2-я Звенигородская улица, дом 13, строение 1',\n",
       " 'город Москва, 2-я Звенигородская улица, дом 13, строение 15',\n",
       " 'город Москва, 2-я Звенигородская улица, дом 13, строение 17',\n",
       " 'город Москва, 2-я Звенигородская улица, дом 13, строение 18А',\n",
       " 'город Москва, 2-я Звенигородская улица, дом 13, строение 37',\n",
       " 'город Москва, 2-я Звенигородская улица, дом 13, строение 41',\n",
       " 'город Москва, 2-я Звенигородская улица, дом 13, строение 42',\n",
       " 'город Москва, 2-я Звенигородская улица, дом 13, строение 43',\n",
       " 'город Москва, 2-я Звенигородская улица, дом 8',\n",
       " 'город Москва, 2-я Кабельная улица, дом 10',\n",
       " 'город Москва, 2-я Кабельная улица, дом 2, строение 10',\n",
       " 'город Москва, 2-я Кабельная улица, дом 2, строение 50',\n",
       " 'город Москва, 2-я Карачаровская улица, дом 1, строение 1',\n",
       " 'город Москва, 2-я Карачаровская улица, дом 14А, строение 1',\n",
       " 'город Москва, 2-я Карачаровская улица, дом 6/16',\n",
       " 'город Москва, 2-я Квесисская улица, дом 23',\n",
       " 'город Москва, 2-я Напрудная улица, дом 17',\n",
       " 'город Москва, 2-я Прядильная улица, дом 4',\n",
       " 'город Москва, 2-я Пугачёвская улица, дом 10',\n",
       " 'город Москва, 2-я Пугачёвская улица, дом 6',\n",
       " 'город Москва, 2-я Пугачёвская улица, дом 7',\n",
       " 'город Москва, 2-я Рейсовая улица, дом 2',\n",
       " 'город Москва, 2-я Рейсовая улица, дом 2, корпус 5',\n",
       " 'город Москва, 2-я Рощинская улица, дом 1А',\n",
       " 'город Москва, 2-я Рощинская улица, дом 4',\n",
       " 'город Москва, 2-я Рыбинская улица, дом 13',\n",
       " 'город Москва, 2-я Сокольническая улица, дом 3',\n",
       " 'город Москва, 2-я Тверская-Ямская улица, дом 10',\n",
       " 'город Москва, 2-я Тверская-Ямская улица, дом 16',\n",
       " 'город Москва, 2-я Тверская-Ямская улица, дом 2',\n",
       " 'город Москва, 2-я Тверская-Ямская улица, дом 46, строение 1',\n",
       " 'город Москва, 2-я Филёвская улица, дом 13',\n",
       " 'город Москва, 2-я Фрезерная улица, дом 14, строение 1А',\n",
       " 'город Москва, 2-я Фрезерная улица, дом 8',\n",
       " 'город Москва, 2-я Фрунзенская улица, дом 10',\n",
       " 'город Москва, 2-я Фрунзенская улица, дом 10, строение 3',\n",
       " 'город Москва, 2-я Фрунзенская улица, дом 7А',\n",
       " 'город Москва, 2-я Хуторская улица, дом 31А, строение 6',\n",
       " 'город Москва, 2-я Хуторская улица, дом 38А, строение 1',\n",
       " 'город Москва, 2-я Хуторская улица, дом 38А, строение 23',\n",
       " 'город Москва, 2-я Черногрязская улица, дом 6, корпус 3',\n",
       " 'город Москва, 2-я Черногрязская улица, дом 7, строение 1',\n",
       " 'город Москва, 2-я Ямская улица, дом 4',\n",
       " 'город Москва, 2-я улица Бухвостова, дом 6',\n",
       " 'город Москва, 2-я улица Марьиной Рощи, дом 22',\n",
       " 'город Москва, 2-я улица Энтузиастов, дом 5',\n",
       " 'город Москва, 26-й километр Московской Кольцевой Автодороги, владение 6',\n",
       " 'город Москва, 28-й километр Московской Кольцевой Автодороги, владение 2',\n",
       " 'город Москва, 28-й километр Московской Кольцевой Автодороги, владение 7',\n",
       " 'город Москва, 3-й Дорожный проезд, дом 6А',\n",
       " 'город Москва, 3-й Кадашёвский переулок, дом 2',\n",
       " 'город Москва, 3-й Кожуховский проезд, дом 3А',\n",
       " 'город Москва, 3-й Крутицкий переулок, дом 11',\n",
       " 'город Москва, 3-й Крутицкий переулок, дом 13',\n",
       " 'город Москва, 3-й Крутицкий переулок, дом 18',\n",
       " 'город Москва, 3-й Лихачёвский переулок, дом 2А',\n",
       " 'город Москва, 3-й Лучевой просек, дом 4А',\n",
       " 'город Москва, 3-й Митинский переулок, дом 1',\n",
       " 'город Москва, 3-й Митинский переулок, дом 12',\n",
       " 'город Москва, 3-й Митинский переулок, дом 12, корпус 1',\n",
       " 'город Москва, 3-й Митинский переулок, дом 3',\n",
       " 'город Москва, 3-й Михалковский переулок, дом 15А',\n",
       " 'город Москва, 3-й Михалковский переулок, дом 16',\n",
       " 'город Москва, 3-й Нижнелихоборский проезд, дом 1',\n",
       " 'город Москва, 3-й Нижнелихоборский проезд, дом 15/27',\n",
       " 'город Москва, 3-й Павелецкий проезд, дом 4',\n",
       " 'город Москва, 3-й Павловский переулок, дом 2',\n",
       " 'город Москва, 3-й Самотёчный переулок, дом 14, строение 1',\n",
       " 'город Москва, 3-й Самотёчный переулок, дом 23',\n",
       " 'город Москва, 3-й Силикатный проезд, дом 4, корпус 1, строение 2',\n",
       " 'город Москва, 3-й Силикатный проезд, дом 9',\n",
       " 'город Москва, 3-й Стрелецкий проезд, дом 3',\n",
       " 'город Москва, 3-й Угрешский проезд, дом 8, строение 2',\n",
       " 'город Москва, 3-й проезд Марьиной Рощи, дом 40, строение 1',\n",
       " 'город Москва, 3-й проезд Подбельского, дом 22, корпус 3',\n",
       " 'город Москва, 3-я Владимирская улица, дом 12А',\n",
       " 'город Москва, 3-я Владимирская улица, дом 24',\n",
       " 'город Москва, 3-я Владимирская улица, дом 26А',\n",
       " 'город Москва, 3-я Владимирская улица, дом 27',\n",
       " 'город Москва, 3-я Владимирская улица, дом 29',\n",
       " 'город Москва, 3-я Владимирская улица, дом 30А',\n",
       " 'город Москва, 3-я Владимирская улица, дом 5',\n",
       " 'город Москва, 3-я Владимирская улица, дом 6',\n",
       " 'город Москва, 3-я Владимирская улица, дом 7',\n",
       " 'город Москва, 3-я Гражданская улица, дом 35, строение 4',\n",
       " 'город Москва, 3-я Гражданская улица, дом 47',\n",
       " 'город Москва, 3-я Гражданская улица, дом 64',\n",
       " 'город Москва, 3-я Гражданская улица, дом 70',\n",
       " 'город Москва, 3-я Железногорская улица, дом 11А',\n",
       " 'город Москва, 3-я Мытищинская улица, дом 10, строение 1',\n",
       " 'город Москва, 3-я Мытищинская улица, дом 10, строение 9',\n",
       " 'город Москва, 3-я Мытищинская улица, дом 16, строение 37',\n",
       " 'город Москва, 3-я Новоостанкинская улица, дом 6',\n",
       " 'город Москва, 3-я Парковая улица, дом 24',\n",
       " 'город Москва, 3-я Парковая улица, дом 26/2',\n",
       " 'город Москва, 3-я Парковая улица, дом 33',\n",
       " 'город Москва, 3-я Парковая улица, дом 4',\n",
       " 'город Москва, 3-я Парковая улица, дом 41А, строение 3',\n",
       " 'город Москва, 3-я Парковая улица, дом 53, строение 1',\n",
       " 'город Москва, 3-я Парковая улица, дом 7/17',\n",
       " 'город Москва, 3-я Песчаная улица, дом 2',\n",
       " 'город Москва, 3-я Подрезковская улица, дом 14, строение 2',\n",
       " 'город Москва, 3-я Рыбинская улица, дом 18, строение 2',\n",
       " 'город Москва, 3-я Рыбинская улица, дом 18, строение 22',\n",
       " 'город Москва, 3-я Северная линия, дом 3',\n",
       " 'город Москва, 3-я Тверская-Ямская улица, дом 15',\n",
       " 'город Москва, 3-я Тверская-Ямская улица, дом 42/8',\n",
       " 'город Москва, 3-я Фрунзенская улица, дом 1',\n",
       " 'город Москва, 3-я Фрунзенская улица, дом 10',\n",
       " 'город Москва, 3-я Фрунзенская улица, дом 14/37',\n",
       " 'город Москва, 3-я Фрунзенская улица, дом 3',\n",
       " 'город Москва, 3-я Фрунзенская улица, дом 5, корпус 1',\n",
       " 'город Москва, 3-я Фрунзенская улица, дом 9',\n",
       " 'город Москва, 3-я Хорошёвская улица, дом 11',\n",
       " 'город Москва, 3-я Хорошёвская улица, дом 12',\n",
       " 'город Москва, 3-я Хорошёвская улица, дом 21, корпус 1, строение 1',\n",
       " 'город Москва, 3-я Черепковская улица, дом 15А, строение 5',\n",
       " 'город Москва, 3-я улица Ямского Поля, дом 13',\n",
       " 'город Москва, 3-я улица Ямского Поля, дом 15',\n",
       " 'город Москва, 3-я улица Ямского Поля, дом 2, корпус 12',\n",
       " 'город Москва, 3-я улица Ямского Поля, дом 2, корпус 13',\n",
       " 'город Москва, 3-я улица Ямского Поля, дом 2, корпус 16',\n",
       " 'город Москва, 3-я улица Ямского Поля, дом 2, корпус 26',\n",
       " 'город Москва, 3-я улица Ямского Поля, дом 2, корпус 3',\n",
       " 'город Москва, 3-я улица Ямского Поля, дом 2, корпус 4',\n",
       " 'город Москва, 3-я улица Ямского Поля, дом 24',\n",
       " 'город Москва, 3-я улица Ямского Поля, дом 26А',\n",
       " 'город Москва, 3-я улица Ямского Поля, дом 28',\n",
       " 'город Москва, 3-я улица Ямского Поля, дом 9',\n",
       " 'город Москва, 30-й километр Московской Кольцевой Автодороги, владение 6',\n",
       " 'город Москва, 31-й километр Московской Кольцевой Автодороги, владение 8, строение 1',\n",
       " 'город Москва, 33-й километр Московской Кольцевой Автодороги, владение 6',\n",
       " 'город Москва, 33-й километр Московской Кольцевой Автодороги, владение 6, строение 7',\n",
       " 'город Москва, 34-й километр Московской Кольцевой Автодороги, владение 6',\n",
       " 'город Москва, 38-й километр Московской Кольцевой Автодороги, владение 6А, строение 1',\n",
       " 'город Москва, 4-й Вешняковский проезд, дом 4, строение 1',\n",
       " 'город Москва, 4-й Вятский переулок, дом 10',\n",
       " 'город Москва, 4-й Кожевнический переулок, дом 4',\n",
       " 'город Москва, 4-й Лесной переулок, дом 4',\n",
       " 'город Москва, 4-й Лесной переулок, дом 6',\n",
       " 'город Москва, 4-й Лихачёвский переулок, дом 13',\n",
       " 'город Москва, 4-й Лихачёвский переулок, дом 4',\n",
       " 'город Москва, 4-й Лихачёвский переулок, дом 6',\n",
       " 'город Москва, 4-й Новомихалковский проезд, дом 14, строение 1',\n",
       " 'город Москва, 4-й Новомихалковский проезд, дом 9А',\n",
       " 'город Москва, 4-й Рощинский проезд, дом 11',\n",
       " 'город Москва, 4-й Сыромятнический переулок, дом 1/8, строение 10',\n",
       " 'город Москва, 4-й Сыромятнический переулок, дом 1/8, строение 6',\n",
       " 'город Москва, 4-я Гражданская улица, дом 43, корпус 2',\n",
       " 'город Москва, 4-я Кабельная улица, дом 2А, строение 1',\n",
       " 'город Москва, 4-я Магистральная улица, дом 5, строение 1',\n",
       " 'город Москва, 4-я Магистральная улица, дом 5, строение 7',\n",
       " 'город Москва, 4-я Тверская-Ямская улица, дом 13',\n",
       " 'город Москва, 4-я Тверская-Ямская улица, дом 2/11, строение 1',\n",
       " 'город Москва, 4-я Тверская-Ямская улица, дом 2/11, строение 2',\n",
       " 'город Москва, 4-я Тверская-Ямская улица, дом 6/12',\n",
       " 'город Москва, 4-я улица 8 Марта, дом 6А',\n",
       " 'город Москва, 42-й километр Московской Кольцевой Автодороги, владение 4, строение 1',\n",
       " 'город Москва, 5-й Донской проезд, дом 19',\n",
       " 'город Москва, 5-й Донской проезд, дом 21Б, строение 25',\n",
       " 'город Москва, 5-й Котельнический переулок, дом 8',\n",
       " 'город Москва, 5-й Монетчиковский переулок, дом 7',\n",
       " 'город Москва, 5-й Рощинский проезд, дом 4',\n",
       " 'город Москва, 5-й квартал Капотня, дом 20',\n",
       " 'город Москва, 5-й квартал Капотня, дом 28',\n",
       " 'город Москва, 5-й квартал Капотня, дом 29',\n",
       " 'город Москва, 5-й проезд Марьиной Рощи, дом 15А, строение 1',\n",
       " 'город Москва, 5-й проезд Подбельского, дом 2',\n",
       " 'город Москва, 5-я Кабельная улица, дом 1, строение 1',\n",
       " 'город Москва, 5-я Кабельная улица, дом 2, строение 1',\n",
       " 'город Москва, 5-я Кожуховская улица, дом 10',\n",
       " 'город Москва, 5-я Кожуховская улица, дом 10, корпус 1',\n",
       " 'город Москва, 5-я Кожуховская улица, дом 15',\n",
       " 'город Москва, 5-я Кожуховская улица, дом 19, строение 3',\n",
       " 'город Москва, 5-я Кожуховская улица, дом 26, строение 1',\n",
       " 'город Москва, 5-я Магистральная улица, дом 12',\n",
       " 'город Москва, 5-я Магистральная улица, дом 4',\n",
       " 'город Москва, 5-я Парковая улица, дом 25',\n",
       " 'город Москва, 5-я Парковая улица, дом 49',\n",
       " 'город Москва, 5-я Парковая улица, дом 54, корпус 2',\n",
       " 'город Москва, 5-я Парковая улица, дом 58',\n",
       " 'город Москва, 5-я Парковая улица, дом 60',\n",
       " 'город Москва, 5-я Парковая улица, дом 62',\n",
       " 'город Москва, 5-я улица Соколиной Горы, дом 14',\n",
       " 'город Москва, 5-я улица Соколиной Горы, дом 20, корпус 1',\n",
       " 'город Москва, 5-я улица Соколиной Горы, дом 5',\n",
       " 'город Москва, 5-я улица Соколиной Горы, дом 6, строение 3',\n",
       " 'город Москва, 5-я улица Ямского Поля, дом 19-21, строение 1',\n",
       " 'город Москва, 5-я улица Ямского Поля, дом 23, корпус 1',\n",
       " 'город Москва, 5-я улица Ямского Поля, дом 24',\n",
       " 'город Москва, 5-я улица Ямского Поля, дом 27',\n",
       " 'город Москва, 5-я улица Ямского Поля, дом 28',\n",
       " 'город Москва, 5-я улица Ямского Поля, дом 5, строение 1',\n",
       " 'город Москва, 5-я улица Ямского Поля, дом 7, корпус 2',\n",
       " 'город Москва, 56-й километр Московской Кольцевой Автодороги, дом 10',\n",
       " 'город Москва, 6-й Лучевой просек, дом 6',\n",
       " 'город Москва, 6-я Кожуховская улица, дом 8',\n",
       " 'город Москва, 6-я Радиальная улица, дом 10',\n",
       " 'город Москва, 6-я Радиальная улица, дом 17',\n",
       " 'город Москва, 6-я Радиальная улица, дом 20, строение 10',\n",
       " 'город Москва, 6-я Радиальная улица, дом 3, корпус 9',\n",
       " 'город Москва, 6-я Радиальная улица, дом 5, корпус 3',\n",
       " 'город Москва, 6-я Радиальная улица, дом 5, корпус 4',\n",
       " 'город Москва, 6-я Радиальная улица, дом 7',\n",
       " 'город Москва, 6-я улица Лазенки, дом 2, строение 2',\n",
       " 'город Москва, 6-я улица Новые Сады, дом 2',\n",
       " 'город Москва, 65-й километр Московской Кольцевой Автодороги, владение 8',\n",
       " 'город Москва, 67-й километр Московской Кольцевой Автодороги, дом 7',\n",
       " 'город Москва, 7-й Ростовский переулок, дом 16',\n",
       " 'город Москва, 7-я Кожуховская улица, дом 13/4',\n",
       " 'город Москва, 7-я Кожуховская улица, дом 7',\n",
       " 'город Москва, 7-я Кожуховская улица, дом 9',\n",
       " 'город Москва, 7-я Парковая улица, дом 15, корпус 2',\n",
       " 'город Москва, 7-я Парковая улица, дом 27',\n",
       " 'город Москва, 7-я Парковая улица, дом 33, корпус 5',\n",
       " 'город Москва, 7-я Северная линия, дом 13',\n",
       " 'город Москва, 7-я улица Лазенки, дом 12, строение 2',\n",
       " 'город Москва, 7-я улица Текстильщиков, дом 9',\n",
       " 'город Москва, 73-й километр Московской Кольцевой Автодороги, дом 7',\n",
       " 'город Москва, 73-й километр Московской Кольцевой Автодороги, дом 7, корпус 1',\n",
       " 'город Москва, 74-й километр Московской Кольцевой Автодороги, владение 4',\n",
       " 'город Москва, 74-й километр Московской Кольцевой Автодороги, владение 4, строение 1',\n",
       " 'город Москва, 78-й километр Московской Кольцевой Автодороги, дом 14, корпус 1',\n",
       " 'город Москва, 8-й проезд Марьиной Рощи, дом 30, строение 1',\n",
       " 'город Москва, 8-я улица Соколиной Горы, дом 5А',\n",
       " 'город Москва, 8-я улица Текстильщиков, дом 11',\n",
       " 'город Москва, 8-я улица Текстильщиков, дом 19',\n",
       " 'город Москва, 8-я улица Текстильщиков, дом 5, корпус 2',\n",
       " 'город Москва, 80-й километр Московской Кольцевой Автодороги, дом 4, строение 1',\n",
       " 'город Москва, 82-й километр Московской Кольцевой Автодороги, владение 18',\n",
       " 'город Москва, 87-й километр Московской Кольцевой Автодороги, владение 14',\n",
       " 'город Москва, 87-й километр Московской Кольцевой Автодороги, дом 8',\n",
       " 'город Москва, 9-я Парковая улица, владение 61А, строение 1',\n",
       " 'город Москва, 9-я Парковая улица, дом 15/68',\n",
       " 'город Москва, 9-я Парковая улица, дом 27',\n",
       " 'город Москва, 9-я Парковая улица, дом 30',\n",
       " 'город Москва, 9-я Парковая улица, дом 32',\n",
       " 'город Москва, 9-я Парковая улица, дом 33',\n",
       " 'город Москва, 9-я Парковая улица, дом 39',\n",
       " 'город Москва, 9-я Парковая улица, дом 58',\n",
       " 'город Москва, 9-я Парковая улица, дом 59, корпус 2',\n",
       " 'город Москва, 9-я Парковая улица, дом 59, корпус 3',\n",
       " 'город Москва, 9-я Парковая улица, дом 61, корпус 1',\n",
       " 'город Москва, 9-я Парковая улица, дом 62',\n",
       " 'город Москва, 9-я Парковая улица, дом 66, корпус 3',\n",
       " 'город Москва, 9-я Парковая улица, дом 66, корпус 4',\n",
       " 'город Москва, 9-я Парковая улица, дом 68, корпус 1',\n",
       " 'город Москва, 9-я Парковая улица, дом 68, корпус 4',\n",
       " 'город Москва, 9-я Парковая улица, дом 70, корпус 1',\n",
       " 'город Москва, 9-я Северная линия, дом 1',\n",
       " 'город Москва, 9-я Северная линия, дом 1, корпус 2',\n",
       " 'город Москва, 9-я Северная линия, дом 3А',\n",
       " 'город Москва, 9-я улица Соколиной Горы, дом 19, строение 2',\n",
       " 'город Москва, 9-я улица Соколиной Горы, дом 3А',\n",
       " 'город Москва, Абельмановская улица, дом 4, строение 1',\n",
       " 'город Москва, Абельмановская улица, дом 6',\n",
       " 'город Москва, Абельмановская улица, дом 7',\n",
       " 'город Москва, Абрамцевская улица, дом 1',\n",
       " 'город Москва, Абрамцевская улица, дом 15, корпус 1',\n",
       " 'город Москва, Абрамцевская улица, дом 24А',\n",
       " 'город Москва, Абрамцевская улица, дом 28, строение 1',\n",
       " 'город Москва, Абрамцевская улица, дом 3',\n",
       " 'город Москва, Абрамцевская улица, дом 30, строение 1',\n",
       " 'город Москва, Абрамцевская улица, дом 30, строение 5',\n",
       " 'город Москва, Абрамцевская улица, дом 30, строение 6',\n",
       " 'город Москва, Абрамцевская улица, дом 6А',\n",
       " 'город Москва, Абрамцевская улица, дом 8Б',\n",
       " 'город Москва, Абрамцевская улица, дом 9, корпус 1',\n",
       " 'город Москва, Авангардная улица, дом 11А',\n",
       " 'город Москва, Авангардная улица, дом 12',\n",
       " 'город Москва, Авангардная улица, дом 3',\n",
       " 'город Москва, Авиамоторная улица, дом 1',\n",
       " 'город Москва, Авиамоторная улица, дом 10',\n",
       " 'город Москва, Авиамоторная улица, дом 12',\n",
       " 'город Москва, Авиамоторная улица, дом 12, корпус 2',\n",
       " 'город Москва, Авиамоторная улица, дом 2',\n",
       " 'город Москва, Авиамоторная улица, дом 2, строение 12',\n",
       " 'город Москва, Авиамоторная улица, дом 28/6',\n",
       " 'город Москва, Авиамоторная улица, дом 30А, корпус 1',\n",
       " 'город Москва, Авиамоторная улица, дом 33',\n",
       " 'город Москва, Авиамоторная улица, дом 36',\n",
       " 'город Москва, Авиамоторная улица, дом 41',\n",
       " 'город Москва, Авиамоторная улица, дом 41Б',\n",
       " 'город Москва, Авиамоторная улица, дом 42',\n",
       " 'город Москва, Авиамоторная улица, дом 44, строение 7',\n",
       " 'город Москва, Авиамоторная улица, дом 47',\n",
       " 'город Москва, Авиамоторная улица, дом 49/1',\n",
       " 'город Москва, Авиамоторная улица, дом 50, строение 1',\n",
       " 'город Москва, Авиамоторная улица, дом 51',\n",
       " 'город Москва, Авиамоторная улица, дом 53, корпус 15',\n",
       " 'город Москва, Авиамоторная улица, дом 55, сооружение 1',\n",
       " 'город Москва, Авиамоторная улица, дом 57, строение 1',\n",
       " 'город Москва, Авиамоторная улица, дом 8, строение 1',\n",
       " 'город Москва, Авиамоторная улица, дом 8А, строение 5',\n",
       " 'город Москва, Авиационная улица, дом 17',\n",
       " 'город Москва, Авиационная улица, дом 17, строение 4',\n",
       " 'город Москва, Авиационная улица, дом 22, строение 1',\n",
       " 'город Москва, Авиационная улица, дом 63',\n",
       " 'город Москва, Авиационная улица, дом 66',\n",
       " 'город Москва, Авиационная улица, дом 66, строение 1',\n",
       " 'город Москва, Авиационная улица, дом 68',\n",
       " 'город Москва, Авиационная улица, дом 71, корпус 3',\n",
       " 'город Москва, Авиационная улица, дом 77, корпус 2',\n",
       " 'город Москва, Авиационная улица, дом 79',\n",
       " 'город Москва, Авиационная улица, дом 79, корпус 1, строение 2',\n",
       " 'город Москва, Авиационный переулок, дом 5',\n",
       " 'город Москва, Автозаводская улица, дом 13/1',\n",
       " 'город Москва, Автозаводская улица, дом 15',\n",
       " 'город Москва, Автозаводская улица, дом 16, корпус 2',\n",
       " 'город Москва, Автозаводская улица, дом 16, корпус 2, строение 13',\n",
       " 'город Москва, Автозаводская улица, дом 16, корпус 2, строение 9',\n",
       " 'город Москва, Автозаводская улица, дом 16, строение 1',\n",
       " 'город Москва, Автозаводская улица, дом 17',\n",
       " 'город Москва, Автозаводская улица, дом 17, корпус 1',\n",
       " 'город Москва, Автозаводская улица, дом 18',\n",
       " 'город Москва, Автозаводская улица, дом 19, корпус 1',\n",
       " 'город Москва, Автозаводская улица, дом 21',\n",
       " 'город Москва, Автозаводская улица, дом 23, корпус 5',\n",
       " 'город Москва, Автозаводская улица, дом 23, корпус 7',\n",
       " 'город Москва, Автозаводская улица, дом 23, строение 16',\n",
       " 'город Москва, Автозаводская улица, дом 23, строение 2',\n",
       " 'город Москва, Автозаводская улица, дом 23, строение 91',\n",
       " 'город Москва, Автозаводская улица, дом 23А',\n",
       " 'город Москва, Автозаводская улица, дом 24, сооружение 1',\n",
       " 'город Москва, Автозаводская улица, дом 25, строение 1',\n",
       " 'город Москва, Автозаводская улица, дом 4',\n",
       " 'город Москва, Автозаводская улица, дом 8',\n",
       " 'город Москва, Автозаводская улица, дом 9/1',\n",
       " 'город Москва, Автомобильный проезд, дом 6, строение 2',\n",
       " 'город Москва, Автомоторная улица, дом 1/3',\n",
       " 'город Москва, Автомоторная улица, дом 5Б, строение 2',\n",
       " 'город Москва, Автомоторная улица, дом 6Б, строение 2',\n",
       " 'город Москва, Азовская улица, дом 18',\n",
       " 'город Москва, Азовская улица, дом 2, корпус 2',\n",
       " 'город Москва, Азовская улица, дом 21',\n",
       " 'город Москва, Азовская улица, дом 24',\n",
       " 'город Москва, Азовская улица, дом 24, корпус 2',\n",
       " 'город Москва, Азовская улица, дом 24, корпус 3',\n",
       " 'город Москва, Азовская улица, дом 3',\n",
       " 'город Москва, Азовская улица, дом 31',\n",
       " 'город Москва, Азовская улица, дом 4',\n",
       " 'город Москва, Азовская улица, дом 41',\n",
       " 'город Москва, Алма-Атинская улица, дом 1',\n",
       " 'город Москва, Алма-Атинская улица, дом 10, корпус 3',\n",
       " 'город Москва, Алма-Атинская улица, дом 9, корпус 3',\n",
       " 'город Москва, Алтайская улица, дом 19, строение 1А',\n",
       " 'город Москва, Алтайская улица, дом 21, строение 1',\n",
       " 'город Москва, Алтайская улица, дом 26А',\n",
       " 'город Москва, Алтайская улица, дом 33/7',\n",
       " 'город Москва, Алтуфьевское шоссе, владение 79Б, строение 1',\n",
       " 'город Москва, Алтуфьевское шоссе, владение 97Б',\n",
       " 'город Москва, Алтуфьевское шоссе, дом 1',\n",
       " 'город Москва, Алтуфьевское шоссе, дом 102Б',\n",
       " 'город Москва, Алтуфьевское шоссе, дом 106',\n",
       " 'город Москва, Алтуфьевское шоссе, дом 12, корпус 1',\n",
       " 'город Москва, Алтуфьевское шоссе, дом 14',\n",
       " 'город Москва, Алтуфьевское шоссе, дом 16',\n",
       " 'город Москва, Алтуфьевское шоссе, дом 2',\n",
       " 'город Москва, Алтуфьевское шоссе, дом 22',\n",
       " 'город Москва, Алтуфьевское шоссе, дом 23, строение 1',\n",
       " 'город Москва, Алтуфьевское шоссе, дом 24, корпус 1',\n",
       " 'город Москва, Алтуфьевское шоссе, дом 24А',\n",
       " 'город Москва, Алтуфьевское шоссе, дом 27',\n",
       " 'город Москва, Алтуфьевское шоссе, дом 28',\n",
       " 'город Москва, Алтуфьевское шоссе, дом 30А',\n",
       " 'город Москва, Алтуфьевское шоссе, дом 31, корпус 1',\n",
       " 'город Москва, Алтуфьевское шоссе, дом 31, строение 1',\n",
       " 'город Москва, Алтуфьевское шоссе, дом 31, строение 7',\n",
       " 'город Москва, Алтуфьевское шоссе, дом 35, корпус 1',\n",
       " 'город Москва, Алтуфьевское шоссе, дом 37, строение 22',\n",
       " 'город Москва, Алтуфьевское шоссе, дом 40Д',\n",
       " 'город Москва, Алтуфьевское шоссе, дом 42Б',\n",
       " 'город Москва, Алтуфьевское шоссе, дом 44',\n",
       " 'город Москва, Алтуфьевское шоссе, дом 48, корпус 2',\n",
       " 'город Москва, Алтуфьевское шоссе, дом 48, корпус 3',\n",
       " 'город Москва, Алтуфьевское шоссе, дом 50',\n",
       " 'город Москва, Алтуфьевское шоссе, дом 52',\n",
       " 'город Москва, Алтуфьевское шоссе, дом 56',\n",
       " 'город Москва, Алтуфьевское шоссе, дом 58',\n",
       " 'город Москва, Алтуфьевское шоссе, дом 60Г',\n",
       " 'город Москва, Алтуфьевское шоссе, дом 64',\n",
       " 'город Москва, Алтуфьевское шоссе, дом 70, корпус 1',\n",
       " 'город Москва, Алтуфьевское шоссе, дом 72',\n",
       " 'город Москва, Алтуфьевское шоссе, дом 8',\n",
       " 'город Москва, Алтуфьевское шоссе, дом 84',\n",
       " 'город Москва, Алтуфьевское шоссе, дом 85',\n",
       " 'город Москва, Алтуфьевское шоссе, дом 86',\n",
       " 'город Москва, Алтуфьевское шоссе, дом 86, корпус 1',\n",
       " 'город Москва, Алтуфьевское шоссе, дом 89',\n",
       " 'город Москва, Алтуфьевское шоссе, дом 94',\n",
       " 'город Москва, Алтуфьевское шоссе, дом 95',\n",
       " 'город Москва, Алтуфьевское шоссе, дом 97А',\n",
       " 'город Москва, Алымов переулок, дом 15',\n",
       " 'город Москва, Аминьевское шоссе, дом 26Б',\n",
       " 'город Москва, Аминьевское шоссе, дом 31',\n",
       " 'город Москва, Амурская улица, дом 1, строение 1',\n",
       " 'город Москва, Амурская улица, дом 1, строение 11',\n",
       " 'город Москва, Амурская улица, дом 12А',\n",
       " 'город Москва, Амурская улица, дом 19',\n",
       " 'город Москва, Амурская улица, дом 25А',\n",
       " 'город Москва, Амурская улица, дом 2А, строение 1',\n",
       " 'город Москва, Амурская улица, дом 6',\n",
       " 'город Москва, Амурская улица, дом 60',\n",
       " 'город Москва, Амурская улица, дом 7, строение 3',\n",
       " 'город Москва, Амурская улица, дом 9/6, строение 1-2',\n",
       " 'город Москва, Анадырский проезд, дом 16',\n",
       " 'город Москва, Анадырский проезд, дом 17',\n",
       " 'город Москва, Анадырский проезд, дом 51',\n",
       " 'город Москва, Анадырский проезд, дом 55',\n",
       " 'город Москва, Анадырский проезд, дом 79, строение 1',\n",
       " 'город Москва, Анадырский проезд, дом 8',\n",
       " 'город Москва, Анадырский проезд, дом 8, корпус 1',\n",
       " 'город Москва, Анадырский проезд, дом 8, корпус 3',\n",
       " 'город Москва, Ангарская улица, дом 1',\n",
       " 'город Москва, Ангарская улица, дом 1, корпус 2',\n",
       " 'город Москва, Ангарская улица, дом 22, корпус 1',\n",
       " 'город Москва, Ангарская улица, дом 24А',\n",
       " 'город Москва, Ангарская улица, дом 39',\n",
       " 'город Москва, Ангарская улица, дом 42, строение 1',\n",
       " 'город Москва, Ангелов переулок, дом 1, корпус 1',\n",
       " 'город Москва, Ангелов переулок, дом 2, корпус 1',\n",
       " 'город Москва, Ангелов переулок, дом 6',\n",
       " 'город Москва, Ангелов переулок, дом 6, корпус 2',\n",
       " 'город Москва, Ангелов переулок, дом 7',\n",
       " 'город Москва, Ангелов переулок, дом 8',\n",
       " 'город Москва, Андреево-Забелинская улица, дом 28',\n",
       " 'город Москва, Андроньевская площадь, дом 5/9',\n",
       " 'город Москва, Анненская улица, дом 25, строение 1',\n",
       " 'город Москва, Анненский проезд, дом 1, строение 1',\n",
       " 'город Москва, Аргуновская улица, дом 12, строение 2',\n",
       " 'город Москва, Аргуновская улица, дом 2, корпус 1',\n",
       " 'город Москва, Аргуновская улица, дом 3, корпус 1',\n",
       " 'город Москва, Армавирская улица, дом 4',\n",
       " 'город Москва, Армянский переулок, дом 3-5, строение 9',\n",
       " 'город Москва, Армянский переулок, дом 4, строение 2',\n",
       " 'город Москва, Артековская улица, дом 1',\n",
       " 'город Москва, Артековская улица, дом 11',\n",
       " 'город Москва, Артековская улица, дом 1А',\n",
       " 'город Москва, Артековская улица, дом 3',\n",
       " 'город Москва, Архангельский переулок, дом 7, строение 1',\n",
       " 'город Москва, Астрадамский проезд, дом 5',\n",
       " 'город Москва, Астраханский переулок, дом 1/15',\n",
       " 'город Москва, Астраханский переулок, дом 5/9',\n",
       " 'город Москва, Ащеулов переулок, дом 9',\n",
       " 'город Москва, Аэродромная улица, дом 5',\n",
       " 'город Москва, Аэродромная улица, дом 9',\n",
       " 'город Москва, Аэрофлотская улица, владение 2Б',\n",
       " 'город Москва, Бабаевская улица, дом 3',\n",
       " 'город Москва, Багратионовский проезд, дом 3',\n",
       " 'город Москва, Багратионовский проезд, дом 5',\n",
       " 'город Москва, Багратионовский проезд, дом 7, корпус 1',\n",
       " 'город Москва, Багратионовский проезд, дом 7, корпус 2',\n",
       " 'город Москва, Багратионовский проезд, дом 7, корпус 20А',\n",
       " 'город Москва, Багратионовский проезд, дом 7, корпус 3',\n",
       " 'город Москва, Базовая улица, дом 2, корпус 1',\n",
       " 'город Москва, Базовская улица, дом 20А, строение 1',\n",
       " 'город Москва, Базовская улица, дом 20А, строение 2',\n",
       " 'город Москва, Байкальская улица, дом 1/3, строение 5',\n",
       " 'город Москва, Байкальская улица, дом 29',\n",
       " 'город Москва, Байкальская улица, дом 31',\n",
       " 'город Москва, Байкальская улица, дом 44',\n",
       " 'город Москва, Байкальская улица, дом 45',\n",
       " 'город Москва, Бакинская улица, дом 17',\n",
       " 'город Москва, Бакинская улица, дом 26',\n",
       " 'город Москва, Бакинская улица, дом 28Б',\n",
       " 'город Москва, Бакинская улица, дом 29',\n",
       " 'город Москва, Бакинская улица, дом 6',\n",
       " 'город Москва, Бакунинская улица, дом 13',\n",
       " 'город Москва, Бакунинская улица, дом 14, строение 1',\n",
       " 'город Москва, Бакунинская улица, дом 23-41',\n",
       " 'город Москва, Бакунинская улица, дом 4, строение 3',\n",
       " 'город Москва, Бакунинская улица, дом 44-48, строение 1',\n",
       " 'город Москва, Бакунинская улица, дом 69, строение 1',\n",
       " 'город Москва, Бакунинская улица, дом 7, строение 1',\n",
       " 'город Москва, Бакунинская улица, дом 7, строение 5',\n",
       " 'город Москва, Бакунинская улица, дом 70, строение 1',\n",
       " 'город Москва, Бакунинская улица, дом 73, строение 1',\n",
       " 'город Москва, Бакунинская улица, дом 81, строение 3',\n",
       " 'город Москва, Бакунинская улица, дом 92, строение 1',\n",
       " 'город Москва, Балаклавский проспект, дом 11А',\n",
       " 'город Москва, Балаклавский проспект, дом 14А',\n",
       " 'город Москва, Балаклавский проспект, дом 2, корпус 2',\n",
       " 'город Москва, Балаклавский проспект, дом 2, корпус 6',\n",
       " 'город Москва, Балаклавский проспект, дом 32, корпус 4',\n",
       " 'город Москва, Балаклавский проспект, дом 32А',\n",
       " 'город Москва, Балаклавский проспект, дом 33',\n",
       " 'город Москва, Балаклавский проспект, дом 48, корпус 1',\n",
       " 'город Москва, Балаклавский проспект, дом 54',\n",
       " 'город Москва, Балаклавский проспект, дом 5А',\n",
       " 'город Москва, Балаклавский проспект, дом 6',\n",
       " 'город Москва, Балаклавский проспект, дом 6А',\n",
       " 'город Москва, Балаклавский проспект, дом 7',\n",
       " 'город Москва, Балаклавский проспект, дом 9',\n",
       " 'город Москва, Балтийская улица, дом 10, корпус 2',\n",
       " 'город Москва, Банный проезд, дом 3, строение 1',\n",
       " 'город Москва, Барабанный переулок, дом 3',\n",
       " 'город Москва, Баррикадная улица, дом 19, строение 1',\n",
       " 'город Москва, Баррикадная улица, дом 2/1, строение 1',\n",
       " 'город Москва, Баррикадная улица, дом 21/34, строение 3',\n",
       " 'город Москва, Бартеневская улица, дом 12',\n",
       " 'город Москва, Бартеневская улица, дом 27',\n",
       " 'город Москва, Бартеневская улица, дом 39',\n",
       " 'город Москва, Бартеневская улица, дом 49, корпус 4',\n",
       " 'город Москва, Бартеневская улица, дом 59',\n",
       " 'город Москва, Басовская улица, дом 16, строение 1',\n",
       " 'город Москва, Батайский проезд, дом 21',\n",
       " 'город Москва, Батайский проезд, дом 23',\n",
       " 'город Москва, Батайский проезд, дом 45',\n",
       " 'город Москва, Батайский проезд, дом 47',\n",
       " 'город Москва, Батайский проезд, дом 63',\n",
       " 'город Москва, Бауманская улица, дом 23',\n",
       " 'город Москва, Бауманская улица, дом 32, строение 2',\n",
       " 'город Москва, Бауманская улица, дом 33/2, строение 1',\n",
       " 'город Москва, Бауманская улица, дом 33/2, строение 3',\n",
       " 'город Москва, Бауманская улица, дом 35/1',\n",
       " 'город Москва, Бауманская улица, дом 40',\n",
       " 'город Москва, Бауманская улица, дом 42',\n",
       " 'город Москва, Бауманская улица, дом 48/13',\n",
       " 'город Москва, Бауманская улица, дом 50/12, строение 1',\n",
       " 'город Москва, Бауманская улица, дом 54, строение 1',\n",
       " 'город Москва, Бауманская улица, дом 56/17, строение 1',\n",
       " 'город Москва, Бауманская улица, дом 58, строение 16',\n",
       " 'город Москва, Бауманская улица, дом 58/25, строение 6',\n",
       " 'город Москва, Бауманская улица, дом 58/3, строение 2',\n",
       " 'город Москва, Бауманская улица, дом 6, строение 2',\n",
       " 'город Москва, Бауманская улица, дом 9',\n",
       " 'город Москва, Башиловская улица, дом 19',\n",
       " 'город Москва, Башиловская улица, дом 21',\n",
       " 'город Москва, Башиловская улица, дом 3, корпус 1',\n",
       " 'город Москва, Башиловская улица, дом 34',\n",
       " 'город Москва, Беговая аллея, дом 11',\n",
       " 'город Москва, Беговая аллея, дом 9А',\n",
       " 'город Москва, Беговая улица, владение 22, сооружение 1',\n",
       " 'город Москва, Беговая улица, дом 14',\n",
       " 'город Москва, Беговая улица, дом 17, корпус 1',\n",
       " 'город Москва, Беговая улица, дом 19',\n",
       " 'город Москва, Беговая улица, дом 22',\n",
       " 'город Москва, Беговая улица, дом 22, строение 1',\n",
       " 'город Москва, Беговая улица, дом 26',\n",
       " 'город Москва, Беговая улица, дом 28',\n",
       " 'город Москва, Беговая улица, дом 3, строение 1',\n",
       " 'город Москва, Беговая улица, дом 6А',\n",
       " 'город Москва, Беговая улица, дом 7',\n",
       " 'город Москва, Беловежская улица, дом 1, корпус 2',\n",
       " 'город Москва, Беловежская улица, дом 10',\n",
       " 'город Москва, Беловежская улица, дом 15, корпус 2',\n",
       " 'город Москва, Беловежская улица, дом 4',\n",
       " 'город Москва, Беловежская улица, дом 67',\n",
       " 'город Москва, Беловежская улица, дом 7',\n",
       " 'город Москва, Белозерская улица, дом 13',\n",
       " 'город Москва, Белозерская улица, дом 15',\n",
       " 'город Москва, Белозерская улица, дом 17Г',\n",
       " 'город Москва, Белозерская улица, дом 23Г',\n",
       " 'город Москва, Белозерская улица, дом 7',\n",
       " 'город Москва, Беломорская улица, дом 26, строение 2',\n",
       " 'город Москва, Беломорская улица, дом 40',\n",
       " 'город Москва, Беломорская улица, дом 40, строение 17',\n",
       " 'город Москва, Белореченская улица, дом 11',\n",
       " 'город Москва, Белореченская улица, дом 13, корпус 1',\n",
       " 'город Москва, Белореченская улица, дом 17',\n",
       " 'город Москва, Белореченская улица, дом 23А',\n",
       " 'город Москва, Белореченская улица, дом 40',\n",
       " 'город Москва, Белореченская улица, дом 43',\n",
       " 'город Москва, Белореченская улица, дом 45, строение 1',\n",
       " 'город Москва, Белореченская улица, дом 47, корпус 1',\n",
       " 'город Москва, Белореченская улица, дом 8',\n",
       " 'город Москва, Береговой проезд, дом 4, корпус 3',\n",
       " 'город Москва, Береговой проезд, дом 5, корпус 3',\n",
       " 'город Москва, Береговой проезд, дом 5А, корпус 1',\n",
       " 'город Москва, Береговой проезд, дом 5А, корпус 7',\n",
       " 'город Москва, Береговой проезд, дом 8',\n",
       " 'город Москва, Бережковская набережная, дом 12',\n",
       " 'город Москва, Бережковская набережная, дом 14',\n",
       " 'город Москва, Бережковская набережная, дом 16',\n",
       " 'город Москва, Бережковская набережная, дом 20В',\n",
       " 'город Москва, Бережковская набережная, дом 24',\n",
       " 'город Москва, Бережковская набережная, дом 30, корпус 1',\n",
       " 'город Москва, Бережковская набережная, дом 8',\n",
       " 'город Москва, Берниковская набережная, дом 12, строение 1',\n",
       " 'город Москва, Берсеневская набережная, дом 12, строение 1',\n",
       " 'город Москва, Берсеневская набережная, дом 14, строение 5',\n",
       " 'город Москва, Берсеневская набережная, дом 16, строение 9',\n",
       " 'город Москва, Берсеневская набережная, дом 6, строение 1',\n",
       " 'город Москва, Берсеневская набережная, дом 6, строение 2',\n",
       " 'город Москва, Берсеневская набережная, дом 6, строение 3',\n",
       " 'город Москва, Берсеневская набережная, дом 6, строение 4',\n",
       " 'город Москва, Берсеневская набережная, дом 8, строение 1',\n",
       " 'город Москва, Берсеневский переулок, дом 2, строение 1',\n",
       " 'город Москва, Берсеневский переулок, дом 3/10, строение 8',\n",
       " 'город Москва, Берсеневский переулок, дом 5, строение 1',\n",
       " 'город Москва, Берсеневский переулок, дом 5, строение 2',\n",
       " 'город Москва, Берёзовая аллея, дом 10, корпус 1',\n",
       " 'город Москва, Берёзовая аллея, дом 15Б',\n",
       " 'город Москва, Берёзовая аллея, дом 5',\n",
       " 'город Москва, Берёзовая аллея, домовладение 8, строение 1',\n",
       " 'город Москва, Бесединское шоссе, дом 15',\n",
       " 'город Москва, Бескудниковский бульвар, дом 12',\n",
       " 'город Москва, Бескудниковский бульвар, дом 19, корпус 2',\n",
       " 'город Москва, Бескудниковский бульвар, дом 20А',\n",
       " 'город Москва, Бескудниковский бульвар, дом 29',\n",
       " 'город Москва, Бескудниковский бульвар, дом 40, корпус 1',\n",
       " 'город Москва, Бескудниковский бульвар, дом 40, корпус 3',\n",
       " 'город Москва, Бескудниковский бульвар, дом 50А',\n",
       " 'город Москва, Бескудниковский бульвар, дом 50Б',\n",
       " 'город Москва, Бескудниковский бульвар, дом 56, корпус 1',\n",
       " 'город Москва, Бескудниковский бульвар, дом 57, корпус 1',\n",
       " 'город Москва, Бескудниковский бульвар, дом 59А',\n",
       " 'город Москва, Бескудниковский бульвар, дом 6, корпус 3',\n",
       " 'город Москва, Бескудниковский бульвар, дом 8, корпус 4',\n",
       " 'город Москва, Бескудниковский переулок, дом 4А',\n",
       " 'город Москва, Бескудниковский проезд, дом 4А',\n",
       " 'город Москва, Бибиревская улица, дом 10, корпус 2',\n",
       " 'город Москва, Бибиревская улица, дом 2, строение 1',\n",
       " 'город Москва, Бибиревская улица, дом 5',\n",
       " 'город Москва, Бибиревская улица, дом 6, корпус 1',\n",
       " 'город Москва, Бибиревская улица, дом 7, корпус 1',\n",
       " 'город Москва, Бибиревская улица, дом 8, корпус 1',\n",
       " 'город Москва, Библиотечная улица, дом 29',\n",
       " 'город Москва, Бирюлёвская улица, владение 26А',\n",
       " 'город Москва, Бирюлёвская улица, владение 3',\n",
       " 'город Москва, Бирюлёвская улица, дом 13, корпус 4',\n",
       " 'город Москва, Бирюлёвская улица, дом 20',\n",
       " 'город Москва, Бирюлёвская улица, дом 23, корпус 1',\n",
       " 'город Москва, Бирюлёвская улица, дом 28',\n",
       " 'город Москва, Бирюлёвская улица, дом 31, корпус 1',\n",
       " 'город Москва, Бирюлёвская улица, дом 31А',\n",
       " 'город Москва, Бирюлёвская улица, дом 37Б',\n",
       " 'город Москва, Бирюлёвская улица, дом 38',\n",
       " 'город Москва, Бирюлёвская улица, дом 38, строение 3',\n",
       " 'город Москва, Бирюлёвская улица, дом 50',\n",
       " 'город Москва, Бирюлёвская улица, дом 51, корпус 1',\n",
       " 'город Москва, Бирюлёвская улица, дом 7, корпус 1',\n",
       " 'город Москва, Благовещенский переулок, дом 10, строение 2',\n",
       " 'город Москва, Благовещенский переулок, дом 2/16, строение 1',\n",
       " 'город Москва, Благовещенский переулок, дом 3, строение 1',\n",
       " 'город Москва, Благовещенский переулок, дом 5',\n",
       " 'город Москва, Благовещенский переулок, дом 6, строение 2',\n",
       " 'город Москва, Бобров переулок, дом 4, строение 1',\n",
       " 'город Москва, Бобров переулок, дом 6, строение 1',\n",
       " 'город Москва, Бобруйская улица, дом 17',\n",
       " 'город Москва, Бобруйская улица, дом 23',\n",
       " 'город Москва, Бобруйская улица, дом 7',\n",
       " 'город Москва, Богословский переулок, дом 16/6, строение 1',\n",
       " 'город Москва, Богословский переулок, дом 8/15, строение 1',\n",
       " 'город Москва, Богоявленский переулок, дом 6, строение 2',\n",
       " 'город Москва, Бойцовая улица, дом 12, строение 1',\n",
       " 'город Москва, Бойцовая улица, дом 16',\n",
       " 'город Москва, Бойцовая улица, дом 17, корпус 1',\n",
       " 'город Москва, Бойцовая улица, дом 20',\n",
       " 'город Москва, Бойцовая улица, дом 25',\n",
       " 'город Москва, Бойцовая улица, дом 6, корпус 8А',\n",
       " 'город Москва, Бойцовая улица, дом 6, корпус 8Б',\n",
       " 'город Москва, Бойцовая улица, дом 8',\n",
       " 'город Москва, Болотная набережная, дом 3, строение 2',\n",
       " 'город Москва, Болотная набережная, дом 5, строение 1',\n",
       " 'город Москва, Болотная набережная, дом 9, строение 1',\n",
       " 'город Москва, Болотниковская улица, дом 12',\n",
       " 'город Москва, Болотниковская улица, дом 16',\n",
       " 'город Москва, Болотниковская улица, дом 21, строение 2',\n",
       " 'город Москва, Болотниковская улица, дом 21, строение 3',\n",
       " 'город Москва, Болотниковская улица, дом 47, корпус 1',\n",
       " 'город Москва, Болотниковская улица, дом 52, корпус 1',\n",
       " 'город Москва, Болотниковская улица, дом 53, корпус 3',\n",
       " 'город Москва, Болотниковская улица, дом 6',\n",
       " 'город Москва, Больничный переулок, дом 4',\n",
       " 'город Москва, Большая Академическая улица, владение 40, строение 1',\n",
       " 'город Москва, Большая Академическая улица, дом 11А',\n",
       " 'город Москва, Большая Академическая улица, дом 13А',\n",
       " 'город Москва, Большая Академическая улица, дом 15, корпус 1',\n",
       " 'город Москва, Большая Академическая улица, дом 22А',\n",
       " 'город Москва, Большая Академическая улица, дом 35, строение 1',\n",
       " 'город Москва, Большая Академическая улица, дом 39',\n",
       " ...]"
      ]
     },
     "execution_count": 14,
     "metadata": {},
     "output_type": "execute_result"
    }
   ],
   "source": [
    "# Посмотрим уникальные значения в столбце с адресами.\n",
    "sorted(data['address'].unique().tolist())"
   ]
  },
  {
   "cell_type": "markdown",
   "metadata": {},
   "source": [
    "На первый взгляд все номально. Попробуем найти заведения находящиеся по одному адресу, возможно удастся выявить дубликаты."
   ]
  },
  {
   "cell_type": "code",
   "execution_count": 15,
   "metadata": {},
   "outputs": [
    {
     "data": {
      "text/html": [
       "<div>\n",
       "<style scoped>\n",
       "    .dataframe tbody tr th:only-of-type {\n",
       "        vertical-align: middle;\n",
       "    }\n",
       "\n",
       "    .dataframe tbody tr th {\n",
       "        vertical-align: top;\n",
       "    }\n",
       "\n",
       "    .dataframe thead th {\n",
       "        text-align: right;\n",
       "    }\n",
       "</style>\n",
       "<table border=\"1\" class=\"dataframe\">\n",
       "  <thead>\n",
       "    <tr style=\"text-align: right;\">\n",
       "      <th></th>\n",
       "      <th>id</th>\n",
       "      <th>object_name</th>\n",
       "      <th>chain</th>\n",
       "      <th>object_type</th>\n",
       "      <th>address</th>\n",
       "      <th>number</th>\n",
       "    </tr>\n",
       "  </thead>\n",
       "  <tbody>\n",
       "    <tr>\n",
       "      <th>5183</th>\n",
       "      <td>107450</td>\n",
       "      <td>кафе</td>\n",
       "      <td>False</td>\n",
       "      <td>кафе</td>\n",
       "      <td>город Москва, 1-я Останкинская улица, дом 55</td>\n",
       "      <td>20</td>\n",
       "    </tr>\n",
       "    <tr>\n",
       "      <th>5184</th>\n",
       "      <td>107456</td>\n",
       "      <td>кафе</td>\n",
       "      <td>False</td>\n",
       "      <td>кафе</td>\n",
       "      <td>город Москва, 1-я Останкинская улица, дом 55</td>\n",
       "      <td>10</td>\n",
       "    </tr>\n",
       "    <tr>\n",
       "      <th>5185</th>\n",
       "      <td>107442</td>\n",
       "      <td>кафе</td>\n",
       "      <td>False</td>\n",
       "      <td>кафе</td>\n",
       "      <td>город Москва, 1-я Останкинская улица, дом 55</td>\n",
       "      <td>20</td>\n",
       "    </tr>\n",
       "    <tr>\n",
       "      <th>5186</th>\n",
       "      <td>107574</td>\n",
       "      <td>кафе</td>\n",
       "      <td>False</td>\n",
       "      <td>кафе</td>\n",
       "      <td>город Москва, 1-я Останкинская улица, дом 55</td>\n",
       "      <td>10</td>\n",
       "    </tr>\n",
       "    <tr>\n",
       "      <th>5187</th>\n",
       "      <td>107462</td>\n",
       "      <td>кафе</td>\n",
       "      <td>False</td>\n",
       "      <td>кафе</td>\n",
       "      <td>город Москва, 1-я Останкинская улица, дом 55</td>\n",
       "      <td>5</td>\n",
       "    </tr>\n",
       "    <tr>\n",
       "      <th>...</th>\n",
       "      <td>...</td>\n",
       "      <td>...</td>\n",
       "      <td>...</td>\n",
       "      <td>...</td>\n",
       "      <td>...</td>\n",
       "      <td>...</td>\n",
       "    </tr>\n",
       "    <tr>\n",
       "      <th>6421</th>\n",
       "      <td>19757</td>\n",
       "      <td>бар</td>\n",
       "      <td>False</td>\n",
       "      <td>бар</td>\n",
       "      <td>город Москва, улица Улофа Пальме, дом 5, строение 1</td>\n",
       "      <td>12</td>\n",
       "    </tr>\n",
       "    <tr>\n",
       "      <th>6422</th>\n",
       "      <td>19758</td>\n",
       "      <td>бар</td>\n",
       "      <td>False</td>\n",
       "      <td>бар</td>\n",
       "      <td>город Москва, улица Улофа Пальме, дом 5, строение 1</td>\n",
       "      <td>16</td>\n",
       "    </tr>\n",
       "    <tr>\n",
       "      <th>6423</th>\n",
       "      <td>19759</td>\n",
       "      <td>бар</td>\n",
       "      <td>False</td>\n",
       "      <td>бар</td>\n",
       "      <td>город Москва, улица Улофа Пальме, дом 5, строение 1</td>\n",
       "      <td>10</td>\n",
       "    </tr>\n",
       "    <tr>\n",
       "      <th>10137</th>\n",
       "      <td>172648</td>\n",
       "      <td>шаурма</td>\n",
       "      <td>False</td>\n",
       "      <td>фаст-фуд</td>\n",
       "      <td>город Москва, улица Черняховского, дом 4А</td>\n",
       "      <td>0</td>\n",
       "    </tr>\n",
       "    <tr>\n",
       "      <th>10510</th>\n",
       "      <td>173865</td>\n",
       "      <td>шаурма</td>\n",
       "      <td>False</td>\n",
       "      <td>фаст-фуд</td>\n",
       "      <td>город Москва, улица Черняховского, дом 4А</td>\n",
       "      <td>0</td>\n",
       "    </tr>\n",
       "  </tbody>\n",
       "</table>\n",
       "<p>386 rows × 6 columns</p>\n",
       "</div>"
      ],
      "text/plain": [
       "           id object_name  chain object_type  \\\n",
       "5183   107450        кафе  False        кафе   \n",
       "5184   107456        кафе  False        кафе   \n",
       "5185   107442        кафе  False        кафе   \n",
       "5186   107574        кафе  False        кафе   \n",
       "5187   107462        кафе  False        кафе   \n",
       "...       ...         ...    ...         ...   \n",
       "6421    19757         бар  False         бар   \n",
       "6422    19758         бар  False         бар   \n",
       "6423    19759         бар  False         бар   \n",
       "10137  172648      шаурма  False    фаст-фуд   \n",
       "10510  173865      шаурма  False    фаст-фуд   \n",
       "\n",
       "                                                   address  number  \n",
       "5183          город Москва, 1-я Останкинская улица, дом 55      20  \n",
       "5184          город Москва, 1-я Останкинская улица, дом 55      10  \n",
       "5185          город Москва, 1-я Останкинская улица, дом 55      20  \n",
       "5186          город Москва, 1-я Останкинская улица, дом 55      10  \n",
       "5187          город Москва, 1-я Останкинская улица, дом 55       5  \n",
       "...                                                    ...     ...  \n",
       "6421   город Москва, улица Улофа Пальме, дом 5, строение 1      12  \n",
       "6422   город Москва, улица Улофа Пальме, дом 5, строение 1      16  \n",
       "6423   город Москва, улица Улофа Пальме, дом 5, строение 1      10  \n",
       "10137            город Москва, улица Черняховского, дом 4А       0  \n",
       "10510            город Москва, улица Черняховского, дом 4А       0  \n",
       "\n",
       "[386 rows x 6 columns]"
      ]
     },
     "execution_count": 15,
     "metadata": {},
     "output_type": "execute_result"
    }
   ],
   "source": [
    "# Посмотрим данные по совпадениям адреса и наименования заведения.\n",
    "data[data.duplicated(subset=['address', 'object_name'], keep=False)].sort_values(by = ['address', 'object_name'])"
   ]
  },
  {
   "cell_type": "code",
   "execution_count": 16,
   "metadata": {},
   "outputs": [
    {
     "data": {
      "text/html": [
       "<div>\n",
       "<style scoped>\n",
       "    .dataframe tbody tr th:only-of-type {\n",
       "        vertical-align: middle;\n",
       "    }\n",
       "\n",
       "    .dataframe tbody tr th {\n",
       "        vertical-align: top;\n",
       "    }\n",
       "\n",
       "    .dataframe thead th {\n",
       "        text-align: right;\n",
       "    }\n",
       "</style>\n",
       "<table border=\"1\" class=\"dataframe\">\n",
       "  <thead>\n",
       "    <tr style=\"text-align: right;\">\n",
       "      <th></th>\n",
       "      <th>id</th>\n",
       "      <th>object_name</th>\n",
       "      <th>chain</th>\n",
       "      <th>object_type</th>\n",
       "      <th>address</th>\n",
       "      <th>number</th>\n",
       "    </tr>\n",
       "  </thead>\n",
       "  <tbody>\n",
       "    <tr>\n",
       "      <th>5183</th>\n",
       "      <td>107450</td>\n",
       "      <td>кафе</td>\n",
       "      <td>False</td>\n",
       "      <td>кафе</td>\n",
       "      <td>город Москва, 1-я Останкинская улица, дом 55</td>\n",
       "      <td>20</td>\n",
       "    </tr>\n",
       "    <tr>\n",
       "      <th>5184</th>\n",
       "      <td>107456</td>\n",
       "      <td>кафе</td>\n",
       "      <td>False</td>\n",
       "      <td>кафе</td>\n",
       "      <td>город Москва, 1-я Останкинская улица, дом 55</td>\n",
       "      <td>10</td>\n",
       "    </tr>\n",
       "    <tr>\n",
       "      <th>5185</th>\n",
       "      <td>107442</td>\n",
       "      <td>кафе</td>\n",
       "      <td>False</td>\n",
       "      <td>кафе</td>\n",
       "      <td>город Москва, 1-я Останкинская улица, дом 55</td>\n",
       "      <td>20</td>\n",
       "    </tr>\n",
       "    <tr>\n",
       "      <th>5186</th>\n",
       "      <td>107574</td>\n",
       "      <td>кафе</td>\n",
       "      <td>False</td>\n",
       "      <td>кафе</td>\n",
       "      <td>город Москва, 1-я Останкинская улица, дом 55</td>\n",
       "      <td>10</td>\n",
       "    </tr>\n",
       "    <tr>\n",
       "      <th>5187</th>\n",
       "      <td>107462</td>\n",
       "      <td>кафе</td>\n",
       "      <td>False</td>\n",
       "      <td>кафе</td>\n",
       "      <td>город Москва, 1-я Останкинская улица, дом 55</td>\n",
       "      <td>5</td>\n",
       "    </tr>\n",
       "    <tr>\n",
       "      <th>5188</th>\n",
       "      <td>107466</td>\n",
       "      <td>кафе</td>\n",
       "      <td>False</td>\n",
       "      <td>кафе</td>\n",
       "      <td>город Москва, 1-я Останкинская улица, дом 55</td>\n",
       "      <td>5</td>\n",
       "    </tr>\n",
       "    <tr>\n",
       "      <th>5189</th>\n",
       "      <td>107471</td>\n",
       "      <td>кафе</td>\n",
       "      <td>False</td>\n",
       "      <td>кафе</td>\n",
       "      <td>город Москва, 1-я Останкинская улица, дом 55</td>\n",
       "      <td>4</td>\n",
       "    </tr>\n",
       "    <tr>\n",
       "      <th>5190</th>\n",
       "      <td>107480</td>\n",
       "      <td>кафе</td>\n",
       "      <td>False</td>\n",
       "      <td>кафе</td>\n",
       "      <td>город Москва, 1-я Останкинская улица, дом 55</td>\n",
       "      <td>5</td>\n",
       "    </tr>\n",
       "    <tr>\n",
       "      <th>5191</th>\n",
       "      <td>107485</td>\n",
       "      <td>кафе</td>\n",
       "      <td>False</td>\n",
       "      <td>кафе</td>\n",
       "      <td>город Москва, 1-я Останкинская улица, дом 55</td>\n",
       "      <td>6</td>\n",
       "    </tr>\n",
       "    <tr>\n",
       "      <th>9182</th>\n",
       "      <td>162548</td>\n",
       "      <td>кафе</td>\n",
       "      <td>False</td>\n",
       "      <td>кафе</td>\n",
       "      <td>город Москва, 19-й километр Московской Кольцевой Автодороги, владение 20, строение 1</td>\n",
       "      <td>20</td>\n",
       "    </tr>\n",
       "    <tr>\n",
       "      <th>9275</th>\n",
       "      <td>166766</td>\n",
       "      <td>кафе</td>\n",
       "      <td>False</td>\n",
       "      <td>кафе</td>\n",
       "      <td>город Москва, 19-й километр Московской Кольцевой Автодороги, владение 20, строение 1</td>\n",
       "      <td>42</td>\n",
       "    </tr>\n",
       "    <tr>\n",
       "      <th>2374</th>\n",
       "      <td>28603</td>\n",
       "      <td>комбинат питания мгту имнэбаумана</td>\n",
       "      <td>False</td>\n",
       "      <td>столовая</td>\n",
       "      <td>город Москва, 2-я Бауманская улица, дом 5, строение 1</td>\n",
       "      <td>100</td>\n",
       "    </tr>\n",
       "    <tr>\n",
       "      <th>2375</th>\n",
       "      <td>28604</td>\n",
       "      <td>комбинат питания мгту имнэбаумана</td>\n",
       "      <td>False</td>\n",
       "      <td>столовая</td>\n",
       "      <td>город Москва, 2-я Бауманская улица, дом 5, строение 1</td>\n",
       "      <td>150</td>\n",
       "    </tr>\n",
       "    <tr>\n",
       "      <th>2376</th>\n",
       "      <td>28605</td>\n",
       "      <td>комбинат питания мгту имнэбаумана</td>\n",
       "      <td>False</td>\n",
       "      <td>кафетерий</td>\n",
       "      <td>город Москва, 2-я Бауманская улица, дом 5, строение 1</td>\n",
       "      <td>35</td>\n",
       "    </tr>\n",
       "    <tr>\n",
       "      <th>2377</th>\n",
       "      <td>28606</td>\n",
       "      <td>комбинат питания мгту имнэбаумана</td>\n",
       "      <td>False</td>\n",
       "      <td>буфет</td>\n",
       "      <td>город Москва, 2-я Бауманская улица, дом 5, строение 1</td>\n",
       "      <td>16</td>\n",
       "    </tr>\n",
       "    <tr>\n",
       "      <th>2378</th>\n",
       "      <td>28607</td>\n",
       "      <td>комбинат питания мгту имнэбаумана</td>\n",
       "      <td>False</td>\n",
       "      <td>закусочная</td>\n",
       "      <td>город Москва, 2-я Бауманская улица, дом 5, строение 1</td>\n",
       "      <td>16</td>\n",
       "    </tr>\n",
       "    <tr>\n",
       "      <th>2379</th>\n",
       "      <td>28609</td>\n",
       "      <td>комбинат питания мгту имнэбаумана</td>\n",
       "      <td>False</td>\n",
       "      <td>буфет</td>\n",
       "      <td>город Москва, 2-я Бауманская улица, дом 5, строение 1</td>\n",
       "      <td>30</td>\n",
       "    </tr>\n",
       "    <tr>\n",
       "      <th>2380</th>\n",
       "      <td>28610</td>\n",
       "      <td>комбинат питания мгту имнэбаумана</td>\n",
       "      <td>False</td>\n",
       "      <td>столовая</td>\n",
       "      <td>город Москва, 2-я Бауманская улица, дом 5, строение 1</td>\n",
       "      <td>200</td>\n",
       "    </tr>\n",
       "    <tr>\n",
       "      <th>2381</th>\n",
       "      <td>28611</td>\n",
       "      <td>комбинат питания мгту имнэбаумана</td>\n",
       "      <td>False</td>\n",
       "      <td>столовая</td>\n",
       "      <td>город Москва, 2-я Бауманская улица, дом 5, строение 1</td>\n",
       "      <td>100</td>\n",
       "    </tr>\n",
       "    <tr>\n",
       "      <th>2382</th>\n",
       "      <td>28615</td>\n",
       "      <td>комбинат питания мгту имнэбаумана</td>\n",
       "      <td>False</td>\n",
       "      <td>столовая</td>\n",
       "      <td>город Москва, 2-я Бауманская улица, дом 5, строение 1</td>\n",
       "      <td>168</td>\n",
       "    </tr>\n",
       "  </tbody>\n",
       "</table>\n",
       "</div>"
      ],
      "text/plain": [
       "          id                        object_name  chain object_type  \\\n",
       "5183  107450                               кафе  False        кафе   \n",
       "5184  107456                               кафе  False        кафе   \n",
       "5185  107442                               кафе  False        кафе   \n",
       "5186  107574                               кафе  False        кафе   \n",
       "5187  107462                               кафе  False        кафе   \n",
       "5188  107466                               кафе  False        кафе   \n",
       "5189  107471                               кафе  False        кафе   \n",
       "5190  107480                               кафе  False        кафе   \n",
       "5191  107485                               кафе  False        кафе   \n",
       "9182  162548                               кафе  False        кафе   \n",
       "9275  166766                               кафе  False        кафе   \n",
       "2374   28603  комбинат питания мгту имнэбаумана  False    столовая   \n",
       "2375   28604  комбинат питания мгту имнэбаумана  False    столовая   \n",
       "2376   28605  комбинат питания мгту имнэбаумана  False   кафетерий   \n",
       "2377   28606  комбинат питания мгту имнэбаумана  False       буфет   \n",
       "2378   28607  комбинат питания мгту имнэбаумана  False  закусочная   \n",
       "2379   28609  комбинат питания мгту имнэбаумана  False       буфет   \n",
       "2380   28610  комбинат питания мгту имнэбаумана  False    столовая   \n",
       "2381   28611  комбинат питания мгту имнэбаумана  False    столовая   \n",
       "2382   28615  комбинат питания мгту имнэбаумана  False    столовая   \n",
       "\n",
       "                                                                                   address  \\\n",
       "5183                                          город Москва, 1-я Останкинская улица, дом 55   \n",
       "5184                                          город Москва, 1-я Останкинская улица, дом 55   \n",
       "5185                                          город Москва, 1-я Останкинская улица, дом 55   \n",
       "5186                                          город Москва, 1-я Останкинская улица, дом 55   \n",
       "5187                                          город Москва, 1-я Останкинская улица, дом 55   \n",
       "5188                                          город Москва, 1-я Останкинская улица, дом 55   \n",
       "5189                                          город Москва, 1-я Останкинская улица, дом 55   \n",
       "5190                                          город Москва, 1-я Останкинская улица, дом 55   \n",
       "5191                                          город Москва, 1-я Останкинская улица, дом 55   \n",
       "9182  город Москва, 19-й километр Московской Кольцевой Автодороги, владение 20, строение 1   \n",
       "9275  город Москва, 19-й километр Московской Кольцевой Автодороги, владение 20, строение 1   \n",
       "2374                                 город Москва, 2-я Бауманская улица, дом 5, строение 1   \n",
       "2375                                 город Москва, 2-я Бауманская улица, дом 5, строение 1   \n",
       "2376                                 город Москва, 2-я Бауманская улица, дом 5, строение 1   \n",
       "2377                                 город Москва, 2-я Бауманская улица, дом 5, строение 1   \n",
       "2378                                 город Москва, 2-я Бауманская улица, дом 5, строение 1   \n",
       "2379                                 город Москва, 2-я Бауманская улица, дом 5, строение 1   \n",
       "2380                                 город Москва, 2-я Бауманская улица, дом 5, строение 1   \n",
       "2381                                 город Москва, 2-я Бауманская улица, дом 5, строение 1   \n",
       "2382                                 город Москва, 2-я Бауманская улица, дом 5, строение 1   \n",
       "\n",
       "      number  \n",
       "5183      20  \n",
       "5184      10  \n",
       "5185      20  \n",
       "5186      10  \n",
       "5187       5  \n",
       "5188       5  \n",
       "5189       4  \n",
       "5190       5  \n",
       "5191       6  \n",
       "9182      20  \n",
       "9275      42  \n",
       "2374     100  \n",
       "2375     150  \n",
       "2376      35  \n",
       "2377      16  \n",
       "2378      16  \n",
       "2379      30  \n",
       "2380     200  \n",
       "2381     100  \n",
       "2382     168  "
      ]
     },
     "execution_count": 16,
     "metadata": {},
     "output_type": "execute_result"
    }
   ],
   "source": [
    "# Посмотрим первые 20 значений выборки\n",
    "data[data.duplicated(subset=['address', 'object_name'], keep=False)].sort_values(by = ['address', 'object_name']).head(20)"
   ]
  },
  {
   "cell_type": "code",
   "execution_count": 17,
   "metadata": {},
   "outputs": [
    {
     "data": {
      "text/html": [
       "<div>\n",
       "<style scoped>\n",
       "    .dataframe tbody tr th:only-of-type {\n",
       "        vertical-align: middle;\n",
       "    }\n",
       "\n",
       "    .dataframe tbody tr th {\n",
       "        vertical-align: top;\n",
       "    }\n",
       "\n",
       "    .dataframe thead th {\n",
       "        text-align: right;\n",
       "    }\n",
       "</style>\n",
       "<table border=\"1\" class=\"dataframe\">\n",
       "  <thead>\n",
       "    <tr style=\"text-align: right;\">\n",
       "      <th></th>\n",
       "      <th>id</th>\n",
       "      <th>object_name</th>\n",
       "      <th>chain</th>\n",
       "      <th>object_type</th>\n",
       "      <th>address</th>\n",
       "      <th>number</th>\n",
       "    </tr>\n",
       "  </thead>\n",
       "  <tbody>\n",
       "    <tr>\n",
       "      <th>12740</th>\n",
       "      <td>183866</td>\n",
       "      <td>каменев василий владимирович</td>\n",
       "      <td>False</td>\n",
       "      <td>фаст-фуд</td>\n",
       "      <td>город Москва, улица Сущёвский Вал, дом 5, строение 5</td>\n",
       "      <td>2</td>\n",
       "    </tr>\n",
       "    <tr>\n",
       "      <th>12741</th>\n",
       "      <td>183868</td>\n",
       "      <td>каменев василий владимирович</td>\n",
       "      <td>False</td>\n",
       "      <td>фаст-фуд</td>\n",
       "      <td>город Москва, улица Сущёвский Вал, дом 5, строение 5</td>\n",
       "      <td>2</td>\n",
       "    </tr>\n",
       "    <tr>\n",
       "      <th>12747</th>\n",
       "      <td>184466</td>\n",
       "      <td>каменев василий владимирович</td>\n",
       "      <td>False</td>\n",
       "      <td>кафе</td>\n",
       "      <td>город Москва, улица Сущёвский Вал, дом 5, строение 5</td>\n",
       "      <td>50</td>\n",
       "    </tr>\n",
       "    <tr>\n",
       "      <th>14118</th>\n",
       "      <td>222458</td>\n",
       "      <td>шаурма</td>\n",
       "      <td>False</td>\n",
       "      <td>фаст-фуд</td>\n",
       "      <td>город Москва, улица Сущёвский Вал, дом 5, строение 5</td>\n",
       "      <td>1</td>\n",
       "    </tr>\n",
       "    <tr>\n",
       "      <th>14119</th>\n",
       "      <td>222452</td>\n",
       "      <td>шаурма</td>\n",
       "      <td>False</td>\n",
       "      <td>фаст-фуд</td>\n",
       "      <td>город Москва, улица Сущёвский Вал, дом 5, строение 5</td>\n",
       "      <td>1</td>\n",
       "    </tr>\n",
       "    <tr>\n",
       "      <th>11065</th>\n",
       "      <td>183851</td>\n",
       "      <td>каменев василий владимирович</td>\n",
       "      <td>False</td>\n",
       "      <td>кафе</td>\n",
       "      <td>город Москва, улица Сущёвский Вал, дом 5, строение 6</td>\n",
       "      <td>1</td>\n",
       "    </tr>\n",
       "    <tr>\n",
       "      <th>11066</th>\n",
       "      <td>183855</td>\n",
       "      <td>каменев василий владимирович</td>\n",
       "      <td>False</td>\n",
       "      <td>кафе</td>\n",
       "      <td>город Москва, улица Сущёвский Вал, дом 5, строение 6</td>\n",
       "      <td>1</td>\n",
       "    </tr>\n",
       "    <tr>\n",
       "      <th>12758</th>\n",
       "      <td>194063</td>\n",
       "      <td>савинков игорь юрьевич</td>\n",
       "      <td>False</td>\n",
       "      <td>кафе</td>\n",
       "      <td>город Москва, улица Сущёвский Вал, дом 5, строение 9</td>\n",
       "      <td>45</td>\n",
       "    </tr>\n",
       "    <tr>\n",
       "      <th>12759</th>\n",
       "      <td>194068</td>\n",
       "      <td>савинков игорь юрьевич</td>\n",
       "      <td>False</td>\n",
       "      <td>кафе</td>\n",
       "      <td>город Москва, улица Сущёвский Вал, дом 5, строение 9</td>\n",
       "      <td>10</td>\n",
       "    </tr>\n",
       "    <tr>\n",
       "      <th>14221</th>\n",
       "      <td>206336</td>\n",
       "      <td>кафе</td>\n",
       "      <td>False</td>\n",
       "      <td>кафе</td>\n",
       "      <td>город Москва, улица Трофимова, владение 36</td>\n",
       "      <td>40</td>\n",
       "    </tr>\n",
       "    <tr>\n",
       "      <th>14223</th>\n",
       "      <td>205506</td>\n",
       "      <td>кафе</td>\n",
       "      <td>False</td>\n",
       "      <td>кафе</td>\n",
       "      <td>город Москва, улица Трофимова, владение 36</td>\n",
       "      <td>40</td>\n",
       "    </tr>\n",
       "    <tr>\n",
       "      <th>14224</th>\n",
       "      <td>205507</td>\n",
       "      <td>кафе</td>\n",
       "      <td>False</td>\n",
       "      <td>кафе</td>\n",
       "      <td>город Москва, улица Трофимова, владение 36</td>\n",
       "      <td>15</td>\n",
       "    </tr>\n",
       "    <tr>\n",
       "      <th>3396</th>\n",
       "      <td>19814</td>\n",
       "      <td>буфет коникс школьник</td>\n",
       "      <td>False</td>\n",
       "      <td>буфет</td>\n",
       "      <td>город Москва, улица Удальцова, дом 21</td>\n",
       "      <td>100</td>\n",
       "    </tr>\n",
       "    <tr>\n",
       "      <th>3397</th>\n",
       "      <td>71896</td>\n",
       "      <td>буфет коникс школьник</td>\n",
       "      <td>False</td>\n",
       "      <td>буфет</td>\n",
       "      <td>город Москва, улица Удальцова, дом 21</td>\n",
       "      <td>100</td>\n",
       "    </tr>\n",
       "    <tr>\n",
       "      <th>6420</th>\n",
       "      <td>19756</td>\n",
       "      <td>бар</td>\n",
       "      <td>False</td>\n",
       "      <td>бар</td>\n",
       "      <td>город Москва, улица Улофа Пальме, дом 5, строение 1</td>\n",
       "      <td>10</td>\n",
       "    </tr>\n",
       "    <tr>\n",
       "      <th>6421</th>\n",
       "      <td>19757</td>\n",
       "      <td>бар</td>\n",
       "      <td>False</td>\n",
       "      <td>бар</td>\n",
       "      <td>город Москва, улица Улофа Пальме, дом 5, строение 1</td>\n",
       "      <td>12</td>\n",
       "    </tr>\n",
       "    <tr>\n",
       "      <th>6422</th>\n",
       "      <td>19758</td>\n",
       "      <td>бар</td>\n",
       "      <td>False</td>\n",
       "      <td>бар</td>\n",
       "      <td>город Москва, улица Улофа Пальме, дом 5, строение 1</td>\n",
       "      <td>16</td>\n",
       "    </tr>\n",
       "    <tr>\n",
       "      <th>6423</th>\n",
       "      <td>19759</td>\n",
       "      <td>бар</td>\n",
       "      <td>False</td>\n",
       "      <td>бар</td>\n",
       "      <td>город Москва, улица Улофа Пальме, дом 5, строение 1</td>\n",
       "      <td>10</td>\n",
       "    </tr>\n",
       "    <tr>\n",
       "      <th>10137</th>\n",
       "      <td>172648</td>\n",
       "      <td>шаурма</td>\n",
       "      <td>False</td>\n",
       "      <td>фаст-фуд</td>\n",
       "      <td>город Москва, улица Черняховского, дом 4А</td>\n",
       "      <td>0</td>\n",
       "    </tr>\n",
       "    <tr>\n",
       "      <th>10510</th>\n",
       "      <td>173865</td>\n",
       "      <td>шаурма</td>\n",
       "      <td>False</td>\n",
       "      <td>фаст-фуд</td>\n",
       "      <td>город Москва, улица Черняховского, дом 4А</td>\n",
       "      <td>0</td>\n",
       "    </tr>\n",
       "  </tbody>\n",
       "</table>\n",
       "</div>"
      ],
      "text/plain": [
       "           id                   object_name  chain object_type  \\\n",
       "12740  183866  каменев василий владимирович  False    фаст-фуд   \n",
       "12741  183868  каменев василий владимирович  False    фаст-фуд   \n",
       "12747  184466  каменев василий владимирович  False        кафе   \n",
       "14118  222458                        шаурма  False    фаст-фуд   \n",
       "14119  222452                        шаурма  False    фаст-фуд   \n",
       "11065  183851  каменев василий владимирович  False        кафе   \n",
       "11066  183855  каменев василий владимирович  False        кафе   \n",
       "12758  194063        савинков игорь юрьевич  False        кафе   \n",
       "12759  194068        савинков игорь юрьевич  False        кафе   \n",
       "14221  206336                          кафе  False        кафе   \n",
       "14223  205506                          кафе  False        кафе   \n",
       "14224  205507                          кафе  False        кафе   \n",
       "3396    19814         буфет коникс школьник  False       буфет   \n",
       "3397    71896         буфет коникс школьник  False       буфет   \n",
       "6420    19756                           бар  False         бар   \n",
       "6421    19757                           бар  False         бар   \n",
       "6422    19758                           бар  False         бар   \n",
       "6423    19759                           бар  False         бар   \n",
       "10137  172648                        шаурма  False    фаст-фуд   \n",
       "10510  173865                        шаурма  False    фаст-фуд   \n",
       "\n",
       "                                                    address  number  \n",
       "12740  город Москва, улица Сущёвский Вал, дом 5, строение 5       2  \n",
       "12741  город Москва, улица Сущёвский Вал, дом 5, строение 5       2  \n",
       "12747  город Москва, улица Сущёвский Вал, дом 5, строение 5      50  \n",
       "14118  город Москва, улица Сущёвский Вал, дом 5, строение 5       1  \n",
       "14119  город Москва, улица Сущёвский Вал, дом 5, строение 5       1  \n",
       "11065  город Москва, улица Сущёвский Вал, дом 5, строение 6       1  \n",
       "11066  город Москва, улица Сущёвский Вал, дом 5, строение 6       1  \n",
       "12758  город Москва, улица Сущёвский Вал, дом 5, строение 9      45  \n",
       "12759  город Москва, улица Сущёвский Вал, дом 5, строение 9      10  \n",
       "14221            город Москва, улица Трофимова, владение 36      40  \n",
       "14223            город Москва, улица Трофимова, владение 36      40  \n",
       "14224            город Москва, улица Трофимова, владение 36      15  \n",
       "3396                  город Москва, улица Удальцова, дом 21     100  \n",
       "3397                  город Москва, улица Удальцова, дом 21     100  \n",
       "6420    город Москва, улица Улофа Пальме, дом 5, строение 1      10  \n",
       "6421    город Москва, улица Улофа Пальме, дом 5, строение 1      12  \n",
       "6422    город Москва, улица Улофа Пальме, дом 5, строение 1      16  \n",
       "6423    город Москва, улица Улофа Пальме, дом 5, строение 1      10  \n",
       "10137             город Москва, улица Черняховского, дом 4А       0  \n",
       "10510             город Москва, улица Черняховского, дом 4А       0  "
      ]
     },
     "execution_count": 17,
     "metadata": {},
     "output_type": "execute_result"
    }
   ],
   "source": [
    "# Посмотрим последние 20 значений выборки\n",
    "data[data.duplicated(subset=['address', 'object_name'], keep=False)].sort_values(by = ['address', 'object_name']).tail(20)"
   ]
  },
  {
   "cell_type": "markdown",
   "metadata": {},
   "source": [
    "Понятно что ничего не понятно. Сказать точно это дубли или нет без дополнительных исследований не представляется возможным.\n",
    "К сожалению, у нас нет возможности выяснить актуальность данных в выборке т.к. она взята из открытых источников и нет информации каким образом она туда занотся. Тут был бы уместен дополнительный столбец с информацией ативнове ли это заведение или нет и дата его внесения в список. Думаю можно оставить эти подозрительные данные, их не так много."
   ]
  },
  {
   "cell_type": "markdown",
   "metadata": {},
   "source": [
    "**Посмотрим столбец `number`.**"
   ]
  },
  {
   "cell_type": "code",
   "execution_count": 18,
   "metadata": {},
   "outputs": [
    {
     "data": {
      "text/plain": [
       "0      1621\n",
       "40      835\n",
       "20      727\n",
       "30      685\n",
       "10      644\n",
       "       ... \n",
       "172       1\n",
       "520       1\n",
       "680       1\n",
       "760       1\n",
       "495       1\n",
       "Name: number, Length: 315, dtype: int64"
      ]
     },
     "execution_count": 18,
     "metadata": {},
     "output_type": "execute_result"
    }
   ],
   "source": [
    "# Посмотрим значения в столбце.\n",
    "data['number'].value_counts()"
   ]
  },
  {
   "cell_type": "code",
   "execution_count": 19,
   "metadata": {},
   "outputs": [
    {
     "data": {
      "text/html": [
       "<div>\n",
       "<style scoped>\n",
       "    .dataframe tbody tr th:only-of-type {\n",
       "        vertical-align: middle;\n",
       "    }\n",
       "\n",
       "    .dataframe tbody tr th {\n",
       "        vertical-align: top;\n",
       "    }\n",
       "\n",
       "    .dataframe thead th {\n",
       "        text-align: right;\n",
       "    }\n",
       "</style>\n",
       "<table border=\"1\" class=\"dataframe\">\n",
       "  <thead>\n",
       "    <tr style=\"text-align: right;\">\n",
       "      <th></th>\n",
       "      <th>id</th>\n",
       "      <th>object_name</th>\n",
       "      <th>chain</th>\n",
       "      <th>object_type</th>\n",
       "      <th>address</th>\n",
       "      <th>number</th>\n",
       "    </tr>\n",
       "  </thead>\n",
       "  <tbody>\n",
       "    <tr>\n",
       "      <th>12723</th>\n",
       "      <td>199696</td>\n",
       "      <td>arena by soho family</td>\n",
       "      <td>False</td>\n",
       "      <td>бар</td>\n",
       "      <td>город Москва, Кутузовский проспект, дом 36, строение 11</td>\n",
       "      <td>1700</td>\n",
       "    </tr>\n",
       "  </tbody>\n",
       "</table>\n",
       "</div>"
      ],
      "text/plain": [
       "           id           object_name  chain object_type  \\\n",
       "12723  199696  arena by soho family  False         бар   \n",
       "\n",
       "                                                       address  number  \n",
       "12723  город Москва, Кутузовский проспект, дом 36, строение 11    1700  "
      ]
     },
     "execution_count": 19,
     "metadata": {},
     "output_type": "execute_result"
    }
   ],
   "source": [
    "# Рассмотрим заведение с максимальным количеством посадочных мест подробнее.\n",
    "data[data['number'] == 1700]"
   ]
  },
  {
   "cell_type": "markdown",
   "metadata": {},
   "source": [
    "Заведения с 0 посадочных мест скорее всего фаст-фуд или заведения работающие на вынос, на первый взгляд заведение на 1700 посадочных мест выглядит аномально, но при детальном исследовании оказалось что это концертная площадка, так что в теории такое количество мест возможно. Думаю можно оставить все как есть."
   ]
  },
  {
   "cell_type": "markdown",
   "metadata": {},
   "source": [
    "**Вывод по разделу.**"
   ]
  },
  {
   "cell_type": "markdown",
   "metadata": {},
   "source": [
    "В рамках данного раздела были рассмотрены предоставленные из открытых источников данные и выполнена их предобработка.\n",
    "\n",
    "Было выполнено и выявлено в ходе исследования:\n",
    "\n",
    "- Данные в столбце `object_name` были приведены к нижнему регистру и убраны паразитные символы из названий заведений.\n",
    "- Привели столбец `chain` к формату bool для удобства.\n",
    "- Для удобства были переименованы значения в столбце `object_type`: `предприятие быстрого обслуживания` в `фаст фуд`, `магазин (отдел кулинарии)` в `кулинария`.\n",
    "- Были выявлены странности в названиях заведений, например:  'OnePriceCoffe', 'OnePriceCoffee', 'One Price Coffe', 'One Price Coffee'. Такое впечатление что это одно и то же название, но его вводили вручную при занесении в БД.\n",
    "- Подавляющее большинство заведений относятся к типу `кафе` - 6099 заведений.\n",
    "- Значительная часть заведений не имеет посадочных мест(1621)\n",
    "- Максимальное количество посадочных мест: 1700.\n",
    "- Выявлен ряд заведений с одинаковыми названиями, находящиеся по одному адресу, но сказать точно являются ли эти заведения полными дублями - возможности нет, т.к. для этого не хватает информации в предоставленных данных.\n",
    "- В целом в выборке пропусков и полных дублей не обнаружено.\n",
    "\n",
    "На будущее хотелось бы выяснить каким образом наполняется данным БД из которых были взяты данные. Т.к. есть много вопросов по дублям заведений из выборки."
   ]
  },
  {
   "cell_type": "markdown",
   "metadata": {},
   "source": [
    "<div class=\"alert alert-success\">\n",
    "    <b>✅ Комментарий ревьюера:</b>\n",
    "    \n",
    "Отличный предварительный анализ, решения логично аргументированы. 👍\n",
    "</div>"
   ]
  },
  {
   "cell_type": "markdown",
   "metadata": {},
   "source": [
    "## Анализ данных."
   ]
  },
  {
   "cell_type": "markdown",
   "metadata": {},
   "source": [
    "### Исследуем соотношение видов объектов общественного питания по количеству. Построим график."
   ]
  },
  {
   "cell_type": "code",
   "execution_count": 20,
   "metadata": {},
   "outputs": [],
   "source": [
    "# Создадим переменную с разбивкой по видам объектов общественного питания.\n",
    "object_types = data.groupby('object_type', as_index=False\n",
    "                           ).agg({'object_name':'count'}).sort_values(by='object_name', ascending=False)"
   ]
  },
  {
   "cell_type": "code",
   "execution_count": 21,
   "metadata": {},
   "outputs": [],
   "source": [
    "# Создадим столбец с соотношением видов объектов общественного питания.\n",
    "object_types['percent'] = (object_types['object_name']/object_types['object_name'].sum()*100).round(2)"
   ]
  },
  {
   "cell_type": "code",
   "execution_count": 22,
   "metadata": {},
   "outputs": [
    {
     "data": {
      "text/html": [
       "<div>\n",
       "<style scoped>\n",
       "    .dataframe tbody tr th:only-of-type {\n",
       "        vertical-align: middle;\n",
       "    }\n",
       "\n",
       "    .dataframe tbody tr th {\n",
       "        vertical-align: top;\n",
       "    }\n",
       "\n",
       "    .dataframe thead th {\n",
       "        text-align: right;\n",
       "    }\n",
       "</style>\n",
       "<table border=\"1\" class=\"dataframe\">\n",
       "  <thead>\n",
       "    <tr style=\"text-align: right;\">\n",
       "      <th></th>\n",
       "      <th>object_type</th>\n",
       "      <th>object_name</th>\n",
       "      <th>percent</th>\n",
       "    </tr>\n",
       "  </thead>\n",
       "  <tbody>\n",
       "    <tr>\n",
       "      <th>3</th>\n",
       "      <td>кафе</td>\n",
       "      <td>6099</td>\n",
       "      <td>39.69</td>\n",
       "    </tr>\n",
       "    <tr>\n",
       "      <th>7</th>\n",
       "      <td>столовая</td>\n",
       "      <td>2587</td>\n",
       "      <td>16.84</td>\n",
       "    </tr>\n",
       "    <tr>\n",
       "      <th>6</th>\n",
       "      <td>ресторан</td>\n",
       "      <td>2285</td>\n",
       "      <td>14.87</td>\n",
       "    </tr>\n",
       "    <tr>\n",
       "      <th>8</th>\n",
       "      <td>фаст-фуд</td>\n",
       "      <td>1923</td>\n",
       "      <td>12.51</td>\n",
       "    </tr>\n",
       "    <tr>\n",
       "      <th>0</th>\n",
       "      <td>бар</td>\n",
       "      <td>856</td>\n",
       "      <td>5.57</td>\n",
       "    </tr>\n",
       "    <tr>\n",
       "      <th>1</th>\n",
       "      <td>буфет</td>\n",
       "      <td>585</td>\n",
       "      <td>3.81</td>\n",
       "    </tr>\n",
       "    <tr>\n",
       "      <th>4</th>\n",
       "      <td>кафетерий</td>\n",
       "      <td>398</td>\n",
       "      <td>2.59</td>\n",
       "    </tr>\n",
       "    <tr>\n",
       "      <th>2</th>\n",
       "      <td>закусочная</td>\n",
       "      <td>360</td>\n",
       "      <td>2.34</td>\n",
       "    </tr>\n",
       "    <tr>\n",
       "      <th>5</th>\n",
       "      <td>кулинария</td>\n",
       "      <td>273</td>\n",
       "      <td>1.78</td>\n",
       "    </tr>\n",
       "  </tbody>\n",
       "</table>\n",
       "</div>"
      ],
      "text/plain": [
       "  object_type  object_name  percent\n",
       "3        кафе         6099    39.69\n",
       "7    столовая         2587    16.84\n",
       "6    ресторан         2285    14.87\n",
       "8    фаст-фуд         1923    12.51\n",
       "0         бар          856     5.57\n",
       "1       буфет          585     3.81\n",
       "4   кафетерий          398     2.59\n",
       "2  закусочная          360     2.34\n",
       "5   кулинария          273     1.78"
      ]
     },
     "execution_count": 22,
     "metadata": {},
     "output_type": "execute_result"
    }
   ],
   "source": [
    "# Посмотрим получившуюся переменную.\n",
    "object_types"
   ]
  },
  {
   "cell_type": "code",
   "execution_count": 23,
   "metadata": {},
   "outputs": [
    {
     "data": {
      "image/png": "[encoded data removed]",
      "text/plain": [
       "<Figure size 1080x576 with 1 Axes>"
      ]
     },
     "metadata": {
      "needs_background": "light"
     },
     "output_type": "display_data"
    }
   ],
   "source": [
    "# Построим график.\n",
    "plt.figure(figsize=(15, 8))\n",
    "splot = sns.barplot(x = 'object_type', y = 'percent', data = object_types)\n",
    "for p in splot.patches:\n",
    "    splot.annotate(format(p.get_height(), '.2f'), \n",
    "                   (p.get_x() + p.get_width() / 2., p.get_height()), \n",
    "                   ha = 'center', va = 'center', \n",
    "                   xytext = (0, 9), \n",
    "                   textcoords = 'offset points')\n",
    "plt.ylabel('Доля')\n",
    "plt.xlabel('Вид объектов общественного питания')\n",
    "plt.title('График соотношения видов объектов общественного питания')\n",
    "plt.xticks(rotation=15)\n",
    "plt.show()"
   ]
  },
  {
   "cell_type": "markdown",
   "metadata": {},
   "source": [
    "Самую большую долю среди объектов общественного питания в предоставленных данных занимают `кафе`(39,69%). Наименьшую долю занимает `кулинария`(1,78%)."
   ]
  },
  {
   "cell_type": "markdown",
   "metadata": {},
   "source": [
    "<div class=\"alert alert-success\">\n",
    "    <b>✅ Комментарий ревьюера:</b>\n",
    "    \n",
    "Принято! Отличный выбор графика с шикарными подписями! 🔥\n",
    "</div>"
   ]
  },
  {
   "cell_type": "markdown",
   "metadata": {},
   "source": [
    "### Исследуем соотношение сетевых и несетевых заведений по количеству. Построим график."
   ]
  },
  {
   "cell_type": "code",
   "execution_count": 24,
   "metadata": {},
   "outputs": [],
   "source": [
    "# Подсчитаем число сетевых и не сетвых заведений.\n",
    "data_chain = data['chain'].value_counts().to_frame().reset_index()\n",
    "data_chain.columns = ['chain', 'amount']"
   ]
  },
  {
   "cell_type": "code",
   "execution_count": 25,
   "metadata": {},
   "outputs": [
    {
     "data": {
      "text/html": [
       "<div>\n",
       "<style scoped>\n",
       "    .dataframe tbody tr th:only-of-type {\n",
       "        vertical-align: middle;\n",
       "    }\n",
       "\n",
       "    .dataframe tbody tr th {\n",
       "        vertical-align: top;\n",
       "    }\n",
       "\n",
       "    .dataframe thead th {\n",
       "        text-align: right;\n",
       "    }\n",
       "</style>\n",
       "<table border=\"1\" class=\"dataframe\">\n",
       "  <thead>\n",
       "    <tr style=\"text-align: right;\">\n",
       "      <th></th>\n",
       "      <th>chain</th>\n",
       "      <th>amount</th>\n",
       "    </tr>\n",
       "  </thead>\n",
       "  <tbody>\n",
       "    <tr>\n",
       "      <th>0</th>\n",
       "      <td>False</td>\n",
       "      <td>12398</td>\n",
       "    </tr>\n",
       "    <tr>\n",
       "      <th>1</th>\n",
       "      <td>True</td>\n",
       "      <td>2968</td>\n",
       "    </tr>\n",
       "  </tbody>\n",
       "</table>\n",
       "</div>"
      ],
      "text/plain": [
       "   chain  amount\n",
       "0  False   12398\n",
       "1   True    2968"
      ]
     },
     "execution_count": 25,
     "metadata": {},
     "output_type": "execute_result"
    }
   ],
   "source": [
    "# Выведем результат.\n",
    "data_chain"
   ]
  },
  {
   "cell_type": "code",
   "execution_count": 26,
   "metadata": {},
   "outputs": [
    {
     "data": {
      "image/png": "[encoded data removed]",
      "text/plain": [
       "<Figure size 1080x576 with 1 Axes>"
      ]
     },
     "metadata": {},
     "output_type": "display_data"
    }
   ],
   "source": [
    "# Построим диаграмму соотношения сетевых и несетевых заведений\n",
    "ax = data_chain.plot(kind='pie', autopct='%1.2f%%', legend=True, explode =(0,0.05), subplots=True, figsize=(15, 8))\n",
    "L=plt.legend()\n",
    "L.get_texts()[0].set_text('Несетевой ресторан')\n",
    "L.get_texts()[1].set_text('Сетевой ресторан')\n",
    "plt.title('Cоотношение сетевых и не сетевых заведений');"
   ]
  },
  {
   "cell_type": "markdown",
   "metadata": {},
   "source": [
    "80% заведений общепита не являются сетевыми."
   ]
  },
  {
   "cell_type": "markdown",
   "metadata": {},
   "source": [
    "<div class=\"alert alert-success\">\n",
    "    <b>✅ Комментарий ревьюера:</b>\n",
    "    \n",
    "Отличная визуализация!\n",
    "</div>"
   ]
  },
  {
   "cell_type": "markdown",
   "metadata": {},
   "source": [
    "### Выясним для какого вида объекта общественного питания характерно сетевое распространение."
   ]
  },
  {
   "cell_type": "code",
   "execution_count": 27,
   "metadata": {},
   "outputs": [
    {
     "data": {
      "text/html": [
       "<div>\n",
       "<style scoped>\n",
       "    .dataframe tbody tr th:only-of-type {\n",
       "        vertical-align: middle;\n",
       "    }\n",
       "\n",
       "    .dataframe tbody tr th {\n",
       "        vertical-align: top;\n",
       "    }\n",
       "\n",
       "    .dataframe thead th {\n",
       "        text-align: right;\n",
       "    }\n",
       "</style>\n",
       "<table border=\"1\" class=\"dataframe\">\n",
       "  <thead>\n",
       "    <tr style=\"text-align: right;\">\n",
       "      <th></th>\n",
       "      <th>object_type</th>\n",
       "      <th>chain_amount</th>\n",
       "    </tr>\n",
       "  </thead>\n",
       "  <tbody>\n",
       "    <tr>\n",
       "      <th>0</th>\n",
       "      <td>кафе</td>\n",
       "      <td>1396</td>\n",
       "    </tr>\n",
       "    <tr>\n",
       "      <th>1</th>\n",
       "      <td>фаст-фуд</td>\n",
       "      <td>791</td>\n",
       "    </tr>\n",
       "    <tr>\n",
       "      <th>2</th>\n",
       "      <td>ресторан</td>\n",
       "      <td>544</td>\n",
       "    </tr>\n",
       "    <tr>\n",
       "      <th>3</th>\n",
       "      <td>кулинария</td>\n",
       "      <td>78</td>\n",
       "    </tr>\n",
       "    <tr>\n",
       "      <th>4</th>\n",
       "      <td>закусочная</td>\n",
       "      <td>56</td>\n",
       "    </tr>\n",
       "    <tr>\n",
       "      <th>5</th>\n",
       "      <td>кафетерий</td>\n",
       "      <td>52</td>\n",
       "    </tr>\n",
       "    <tr>\n",
       "      <th>6</th>\n",
       "      <td>бар</td>\n",
       "      <td>37</td>\n",
       "    </tr>\n",
       "    <tr>\n",
       "      <th>7</th>\n",
       "      <td>буфет</td>\n",
       "      <td>11</td>\n",
       "    </tr>\n",
       "    <tr>\n",
       "      <th>8</th>\n",
       "      <td>столовая</td>\n",
       "      <td>3</td>\n",
       "    </tr>\n",
       "  </tbody>\n",
       "</table>\n",
       "</div>"
      ],
      "text/plain": [
       "  object_type  chain_amount\n",
       "0        кафе          1396\n",
       "1    фаст-фуд           791\n",
       "2    ресторан           544\n",
       "3   кулинария            78\n",
       "4  закусочная            56\n",
       "5   кафетерий            52\n",
       "6         бар            37\n",
       "7       буфет            11\n",
       "8    столовая             3"
      ]
     },
     "execution_count": 27,
     "metadata": {},
     "output_type": "execute_result"
    }
   ],
   "source": [
    "# Найдем число сетевых заведений.\n",
    "chain_objects = data[data['chain'] == True]['object_type'].value_counts().to_frame().reset_index()\n",
    "chain_objects.columns = ['object_type', 'chain_amount']\n",
    "chain_objects"
   ]
  },
  {
   "cell_type": "code",
   "execution_count": 28,
   "metadata": {},
   "outputs": [
    {
     "data": {
      "text/html": [
       "<div>\n",
       "<style scoped>\n",
       "    .dataframe tbody tr th:only-of-type {\n",
       "        vertical-align: middle;\n",
       "    }\n",
       "\n",
       "    .dataframe tbody tr th {\n",
       "        vertical-align: top;\n",
       "    }\n",
       "\n",
       "    .dataframe thead th {\n",
       "        text-align: right;\n",
       "    }\n",
       "</style>\n",
       "<table border=\"1\" class=\"dataframe\">\n",
       "  <thead>\n",
       "    <tr style=\"text-align: right;\">\n",
       "      <th></th>\n",
       "      <th>object_type</th>\n",
       "      <th>object_name</th>\n",
       "      <th>chain_amount</th>\n",
       "    </tr>\n",
       "  </thead>\n",
       "  <tbody>\n",
       "    <tr>\n",
       "      <th>0</th>\n",
       "      <td>кафе</td>\n",
       "      <td>6099</td>\n",
       "      <td>1396</td>\n",
       "    </tr>\n",
       "    <tr>\n",
       "      <th>1</th>\n",
       "      <td>столовая</td>\n",
       "      <td>2587</td>\n",
       "      <td>3</td>\n",
       "    </tr>\n",
       "    <tr>\n",
       "      <th>2</th>\n",
       "      <td>ресторан</td>\n",
       "      <td>2285</td>\n",
       "      <td>544</td>\n",
       "    </tr>\n",
       "    <tr>\n",
       "      <th>3</th>\n",
       "      <td>фаст-фуд</td>\n",
       "      <td>1923</td>\n",
       "      <td>791</td>\n",
       "    </tr>\n",
       "    <tr>\n",
       "      <th>4</th>\n",
       "      <td>бар</td>\n",
       "      <td>856</td>\n",
       "      <td>37</td>\n",
       "    </tr>\n",
       "    <tr>\n",
       "      <th>5</th>\n",
       "      <td>буфет</td>\n",
       "      <td>585</td>\n",
       "      <td>11</td>\n",
       "    </tr>\n",
       "    <tr>\n",
       "      <th>6</th>\n",
       "      <td>кафетерий</td>\n",
       "      <td>398</td>\n",
       "      <td>52</td>\n",
       "    </tr>\n",
       "    <tr>\n",
       "      <th>7</th>\n",
       "      <td>закусочная</td>\n",
       "      <td>360</td>\n",
       "      <td>56</td>\n",
       "    </tr>\n",
       "    <tr>\n",
       "      <th>8</th>\n",
       "      <td>кулинария</td>\n",
       "      <td>273</td>\n",
       "      <td>78</td>\n",
       "    </tr>\n",
       "  </tbody>\n",
       "</table>\n",
       "</div>"
      ],
      "text/plain": [
       "  object_type  object_name  chain_amount\n",
       "0        кафе         6099          1396\n",
       "1    столовая         2587             3\n",
       "2    ресторан         2285           544\n",
       "3    фаст-фуд         1923           791\n",
       "4         бар          856            37\n",
       "5       буфет          585            11\n",
       "6   кафетерий          398            52\n",
       "7  закусочная          360            56\n",
       "8   кулинария          273            78"
      ]
     },
     "execution_count": 28,
     "metadata": {},
     "output_type": "execute_result"
    }
   ],
   "source": [
    "# Добавим общее количество заведений по их типу.\n",
    "chain_data = data.groupby('object_type', as_index=False\n",
    "                           ).agg({'object_name':'count'}).sort_values(by='object_name', ascending=False\n",
    "                                                                     ).merge(chain_objects, on='object_type')\n",
    "chain_data"
   ]
  },
  {
   "cell_type": "code",
   "execution_count": 29,
   "metadata": {},
   "outputs": [
    {
     "data": {
      "text/html": [
       "<div>\n",
       "<style scoped>\n",
       "    .dataframe tbody tr th:only-of-type {\n",
       "        vertical-align: middle;\n",
       "    }\n",
       "\n",
       "    .dataframe tbody tr th {\n",
       "        vertical-align: top;\n",
       "    }\n",
       "\n",
       "    .dataframe thead th {\n",
       "        text-align: right;\n",
       "    }\n",
       "</style>\n",
       "<table border=\"1\" class=\"dataframe\">\n",
       "  <thead>\n",
       "    <tr style=\"text-align: right;\">\n",
       "      <th></th>\n",
       "      <th>object_type</th>\n",
       "      <th>object_name</th>\n",
       "      <th>chain_amount</th>\n",
       "      <th>chain_perc</th>\n",
       "    </tr>\n",
       "  </thead>\n",
       "  <tbody>\n",
       "    <tr>\n",
       "      <th>3</th>\n",
       "      <td>фаст-фуд</td>\n",
       "      <td>1923</td>\n",
       "      <td>791</td>\n",
       "      <td>41.0</td>\n",
       "    </tr>\n",
       "    <tr>\n",
       "      <th>8</th>\n",
       "      <td>кулинария</td>\n",
       "      <td>273</td>\n",
       "      <td>78</td>\n",
       "      <td>29.0</td>\n",
       "    </tr>\n",
       "    <tr>\n",
       "      <th>2</th>\n",
       "      <td>ресторан</td>\n",
       "      <td>2285</td>\n",
       "      <td>544</td>\n",
       "      <td>24.0</td>\n",
       "    </tr>\n",
       "    <tr>\n",
       "      <th>0</th>\n",
       "      <td>кафе</td>\n",
       "      <td>6099</td>\n",
       "      <td>1396</td>\n",
       "      <td>23.0</td>\n",
       "    </tr>\n",
       "    <tr>\n",
       "      <th>7</th>\n",
       "      <td>закусочная</td>\n",
       "      <td>360</td>\n",
       "      <td>56</td>\n",
       "      <td>16.0</td>\n",
       "    </tr>\n",
       "    <tr>\n",
       "      <th>6</th>\n",
       "      <td>кафетерий</td>\n",
       "      <td>398</td>\n",
       "      <td>52</td>\n",
       "      <td>13.0</td>\n",
       "    </tr>\n",
       "    <tr>\n",
       "      <th>4</th>\n",
       "      <td>бар</td>\n",
       "      <td>856</td>\n",
       "      <td>37</td>\n",
       "      <td>4.0</td>\n",
       "    </tr>\n",
       "    <tr>\n",
       "      <th>5</th>\n",
       "      <td>буфет</td>\n",
       "      <td>585</td>\n",
       "      <td>11</td>\n",
       "      <td>2.0</td>\n",
       "    </tr>\n",
       "    <tr>\n",
       "      <th>1</th>\n",
       "      <td>столовая</td>\n",
       "      <td>2587</td>\n",
       "      <td>3</td>\n",
       "      <td>0.0</td>\n",
       "    </tr>\n",
       "  </tbody>\n",
       "</table>\n",
       "</div>"
      ],
      "text/plain": [
       "  object_type  object_name  chain_amount  chain_perc\n",
       "3    фаст-фуд         1923           791        41.0\n",
       "8   кулинария          273            78        29.0\n",
       "2    ресторан         2285           544        24.0\n",
       "0        кафе         6099          1396        23.0\n",
       "7  закусочная          360            56        16.0\n",
       "6   кафетерий          398            52        13.0\n",
       "4         бар          856            37         4.0\n",
       "5       буфет          585            11         2.0\n",
       "1    столовая         2587             3         0.0"
      ]
     },
     "execution_count": 29,
     "metadata": {},
     "output_type": "execute_result"
    }
   ],
   "source": [
    "# Найдем долю сетевых заведений.\n",
    "chain_data['chain_perc'] = (chain_data['chain_amount'] / chain_data['object_name']).round(2)*100\n",
    "chain_data = chain_data.sort_values(by='chain_perc', ascending=False)\n",
    "chain_data"
   ]
  },
  {
   "cell_type": "code",
   "execution_count": 30,
   "metadata": {},
   "outputs": [
    {
     "data": {
      "image/png": "[encoded data removed]",
      "text/plain": [
       "<Figure size 1080x576 with 1 Axes>"
      ]
     },
     "metadata": {
      "needs_background": "light"
     },
     "output_type": "display_data"
    }
   ],
   "source": [
    "# Построим график.\n",
    "plt.figure(figsize=(15, 8))\n",
    "splot = sns.barplot(x = 'object_type', y = 'chain_perc', data = chain_data)\n",
    "for p in splot.patches:\n",
    "    splot.annotate(format(p.get_height(), '.2f'), \n",
    "                   (p.get_x() + p.get_width() / 2., p.get_height()), \n",
    "                   ha = 'center', va = 'center', \n",
    "                   xytext = (0, 9), \n",
    "                   textcoords = 'offset points')\n",
    "plt.ylabel('Доля')\n",
    "plt.xlabel('Вид объектов общественного питания')\n",
    "plt.title('Доля сетевых заведений для каждого вида объекта общественного питания')\n",
    "plt.xticks(rotation=15)\n",
    "plt.show()"
   ]
  },
  {
   "cell_type": "markdown",
   "metadata": {},
   "source": [
    "Наибольшая доля сетевых заведений среди `фаст-фуд`(41%). Почти нет сетевых заведений среди `столовая`."
   ]
  },
  {
   "cell_type": "markdown",
   "metadata": {},
   "source": [
    "<div class=\"alert alert-success\">\n",
    "    <b>✅ Комментарий ревьюера:</b>\n",
    "    \n",
    "👍\n",
    "</div>"
   ]
  },
  {
   "cell_type": "markdown",
   "metadata": {},
   "source": [
    "### Выделим что характерно для сетевых заведений: \n",
    "\n",
    "- много заведений с небольшим числом посадочных мест в каждом?\n",
    "- мало заведений с большим количеством посадочных мест?"
   ]
  },
  {
   "cell_type": "code",
   "execution_count": 31,
   "metadata": {},
   "outputs": [
    {
     "data": {
      "text/html": [
       "<div>\n",
       "<style scoped>\n",
       "    .dataframe tbody tr th:only-of-type {\n",
       "        vertical-align: middle;\n",
       "    }\n",
       "\n",
       "    .dataframe tbody tr th {\n",
       "        vertical-align: top;\n",
       "    }\n",
       "\n",
       "    .dataframe thead th {\n",
       "        text-align: right;\n",
       "    }\n",
       "</style>\n",
       "<table border=\"1\" class=\"dataframe\">\n",
       "  <thead>\n",
       "    <tr style=\"text-align: right;\">\n",
       "      <th></th>\n",
       "      <th>id</th>\n",
       "      <th>object_name</th>\n",
       "      <th>chain</th>\n",
       "      <th>object_type</th>\n",
       "      <th>address</th>\n",
       "      <th>number</th>\n",
       "    </tr>\n",
       "  </thead>\n",
       "  <tbody>\n",
       "    <tr>\n",
       "      <th>3</th>\n",
       "      <td>21894</td>\n",
       "      <td>пиццетория</td>\n",
       "      <td>True</td>\n",
       "      <td>кафе</td>\n",
       "      <td>город Москва, Абрамцевская улица, дом 1</td>\n",
       "      <td>40</td>\n",
       "    </tr>\n",
       "    <tr>\n",
       "      <th>6</th>\n",
       "      <td>148815</td>\n",
       "      <td>брусника</td>\n",
       "      <td>True</td>\n",
       "      <td>кафе</td>\n",
       "      <td>город Москва, переулок Сивцев Вражек, дом 6/2</td>\n",
       "      <td>10</td>\n",
       "    </tr>\n",
       "    <tr>\n",
       "      <th>13</th>\n",
       "      <td>22579</td>\n",
       "      <td>алло пицца</td>\n",
       "      <td>True</td>\n",
       "      <td>кафе</td>\n",
       "      <td>город Москва, улица Авиаторов, дом 14</td>\n",
       "      <td>32</td>\n",
       "    </tr>\n",
       "    <tr>\n",
       "      <th>16</th>\n",
       "      <td>144107</td>\n",
       "      <td>суши wok</td>\n",
       "      <td>True</td>\n",
       "      <td>фаст-фуд</td>\n",
       "      <td>город Москва, Азовская улица, дом 3</td>\n",
       "      <td>7</td>\n",
       "    </tr>\n",
       "    <tr>\n",
       "      <th>18</th>\n",
       "      <td>58565</td>\n",
       "      <td>тануки</td>\n",
       "      <td>True</td>\n",
       "      <td>ресторан</td>\n",
       "      <td>город Москва, Большая Академическая улица, дом 65</td>\n",
       "      <td>160</td>\n",
       "    </tr>\n",
       "  </tbody>\n",
       "</table>\n",
       "</div>"
      ],
      "text/plain": [
       "        id object_name  chain object_type  \\\n",
       "3    21894  пиццетория   True        кафе   \n",
       "6   148815    брусника   True        кафе   \n",
       "13   22579  алло пицца   True        кафе   \n",
       "16  144107    суши wok   True    фаст-фуд   \n",
       "18   58565      тануки   True    ресторан   \n",
       "\n",
       "                                              address  number  \n",
       "3             город Москва, Абрамцевская улица, дом 1      40  \n",
       "6       город Москва, переулок Сивцев Вражек, дом 6/2      10  \n",
       "13              город Москва, улица Авиаторов, дом 14      32  \n",
       "16                город Москва, Азовская улица, дом 3       7  \n",
       "18  город Москва, Большая Академическая улица, дом 65     160  "
      ]
     },
     "execution_count": 31,
     "metadata": {},
     "output_type": "execute_result"
    }
   ],
   "source": [
    "# Выделим сетевые заведения в отдельную переменную.\n",
    "chains_only = data.query('chain == True')\n",
    "chains_only.head()"
   ]
  },
  {
   "cell_type": "code",
   "execution_count": 32,
   "metadata": {},
   "outputs": [
    {
     "data": {
      "text/plain": [
       "count    2968.000000\n",
       "mean       52.919811\n",
       "std        57.140644\n",
       "min         0.000000\n",
       "25%        15.000000\n",
       "50%        40.000000\n",
       "75%        72.000000\n",
       "max       580.000000\n",
       "Name: number, dtype: float64"
      ]
     },
     "execution_count": 32,
     "metadata": {},
     "output_type": "execute_result"
    }
   ],
   "source": [
    "# Посмотрим статистику по посадочным местам в полученной переменной.\n",
    "chains_only['number'].describe()"
   ]
  },
  {
   "cell_type": "code",
   "execution_count": 33,
   "metadata": {},
   "outputs": [],
   "source": [
    "# Построим гистограмму по количеству мест в сетевых заведениях.\n",
    "\n",
    "#plt.figure(figsize=(15,8))\n",
    "#sns.histplot(chains_only['number'])\n",
    "#plt.xlim(0, 300)\n",
    "#plt.title('Вместимость сетевых заведений')\n",
    "#plt.ylabel('Количество заведений')\n",
    "#plt.xlabel('Количество мест')"
   ]
  },
  {
   "cell_type": "code",
   "execution_count": 34,
   "metadata": {},
   "outputs": [],
   "source": [
    "# Построим диаграмму размаха по количеству мест в сетевых заведениях.\n",
    "\n",
    "#plt.figure(figsize=(15,8))\n",
    "#sns.boxplot(y=chains_only['number'], data=chains_only)\n",
    "#plt.ylim(0, 200)\n",
    "#plt.title('Вместимость сетевых заведений')"
   ]
  },
  {
   "cell_type": "code",
   "execution_count": 35,
   "metadata": {},
   "outputs": [],
   "source": [
    "# Создадим переменную сгруппированную по названию заведения и с медианными значениями посадочных мест для каждого наименования.\n",
    "chain_median = chains_only.groupby('object_name').agg({'object_name':'count', 'number':'median'})\n",
    "chain_median.columns = ['objects', 'median_number']"
   ]
  },
  {
   "cell_type": "code",
   "execution_count": 36,
   "metadata": {},
   "outputs": [
    {
     "data": {
      "text/html": [
       "<div>\n",
       "<style scoped>\n",
       "    .dataframe tbody tr th:only-of-type {\n",
       "        vertical-align: middle;\n",
       "    }\n",
       "\n",
       "    .dataframe tbody tr th {\n",
       "        vertical-align: top;\n",
       "    }\n",
       "\n",
       "    .dataframe thead th {\n",
       "        text-align: right;\n",
       "    }\n",
       "</style>\n",
       "<table border=\"1\" class=\"dataframe\">\n",
       "  <thead>\n",
       "    <tr style=\"text-align: right;\">\n",
       "      <th></th>\n",
       "      <th>objects</th>\n",
       "      <th>median_number</th>\n",
       "    </tr>\n",
       "    <tr>\n",
       "      <th>object_name</th>\n",
       "      <th></th>\n",
       "      <th></th>\n",
       "    </tr>\n",
       "  </thead>\n",
       "  <tbody>\n",
       "    <tr>\n",
       "      <th>шоколадница</th>\n",
       "      <td>157</td>\n",
       "      <td>50.0</td>\n",
       "    </tr>\n",
       "    <tr>\n",
       "      <th>kfc</th>\n",
       "      <td>155</td>\n",
       "      <td>45.0</td>\n",
       "    </tr>\n",
       "    <tr>\n",
       "      <th>макдоналдс</th>\n",
       "      <td>151</td>\n",
       "      <td>76.0</td>\n",
       "    </tr>\n",
       "    <tr>\n",
       "      <th>бургер кинг</th>\n",
       "      <td>137</td>\n",
       "      <td>45.0</td>\n",
       "    </tr>\n",
       "    <tr>\n",
       "      <th>теремок</th>\n",
       "      <td>94</td>\n",
       "      <td>23.0</td>\n",
       "    </tr>\n",
       "    <tr>\n",
       "      <th>...</th>\n",
       "      <td>...</td>\n",
       "      <td>...</td>\n",
       "    </tr>\n",
       "    <tr>\n",
       "      <th>кафе песто и митлес</th>\n",
       "      <td>1</td>\n",
       "      <td>80.0</td>\n",
       "    </tr>\n",
       "    <tr>\n",
       "      <th>кафе пекарня хачапури</th>\n",
       "      <td>1</td>\n",
       "      <td>75.0</td>\n",
       "    </tr>\n",
       "    <tr>\n",
       "      <th>кафе пекарея волконский</th>\n",
       "      <td>1</td>\n",
       "      <td>3.0</td>\n",
       "    </tr>\n",
       "    <tr>\n",
       "      <th>кафе мороженного tutti frutti</th>\n",
       "      <td>1</td>\n",
       "      <td>12.0</td>\n",
       "    </tr>\n",
       "    <tr>\n",
       "      <th>кофе тун</th>\n",
       "      <td>1</td>\n",
       "      <td>20.0</td>\n",
       "    </tr>\n",
       "  </tbody>\n",
       "</table>\n",
       "<p>548 rows × 2 columns</p>\n",
       "</div>"
      ],
      "text/plain": [
       "                               objects  median_number\n",
       "object_name                                          \n",
       "шоколадница                        157           50.0\n",
       "kfc                                155           45.0\n",
       "макдоналдс                         151           76.0\n",
       "бургер кинг                        137           45.0\n",
       "теремок                             94           23.0\n",
       "...                                ...            ...\n",
       "кафе песто и митлес                  1           80.0\n",
       "кафе пекарня хачапури                1           75.0\n",
       "кафе пекарея волконский              1            3.0\n",
       "кафе мороженного tutti frutti        1           12.0\n",
       "кофе тун                             1           20.0\n",
       "\n",
       "[548 rows x 2 columns]"
      ]
     },
     "execution_count": 36,
     "metadata": {},
     "output_type": "execute_result"
    }
   ],
   "source": [
    "# Посмотрим получившуюся переменную с сортировкой по количеству объектов в сети.\n",
    "chain_median.sort_values(by='objects', ascending=False)"
   ]
  },
  {
   "cell_type": "code",
   "execution_count": 37,
   "metadata": {},
   "outputs": [
    {
     "data": {
      "text/html": [
       "<div>\n",
       "<style scoped>\n",
       "    .dataframe tbody tr th:only-of-type {\n",
       "        vertical-align: middle;\n",
       "    }\n",
       "\n",
       "    .dataframe tbody tr th {\n",
       "        vertical-align: top;\n",
       "    }\n",
       "\n",
       "    .dataframe thead th {\n",
       "        text-align: right;\n",
       "    }\n",
       "</style>\n",
       "<table border=\"1\" class=\"dataframe\">\n",
       "  <thead>\n",
       "    <tr style=\"text-align: right;\">\n",
       "      <th></th>\n",
       "      <th>objects</th>\n",
       "      <th>median_number</th>\n",
       "    </tr>\n",
       "  </thead>\n",
       "  <tbody>\n",
       "    <tr>\n",
       "      <th>count</th>\n",
       "      <td>548.000000</td>\n",
       "      <td>548.000000</td>\n",
       "    </tr>\n",
       "    <tr>\n",
       "      <th>mean</th>\n",
       "      <td>5.416058</td>\n",
       "      <td>57.546533</td>\n",
       "    </tr>\n",
       "    <tr>\n",
       "      <th>std</th>\n",
       "      <td>15.955098</td>\n",
       "      <td>52.947916</td>\n",
       "    </tr>\n",
       "    <tr>\n",
       "      <th>min</th>\n",
       "      <td>1.000000</td>\n",
       "      <td>0.000000</td>\n",
       "    </tr>\n",
       "    <tr>\n",
       "      <th>25%</th>\n",
       "      <td>1.000000</td>\n",
       "      <td>20.000000</td>\n",
       "    </tr>\n",
       "    <tr>\n",
       "      <th>50%</th>\n",
       "      <td>1.000000</td>\n",
       "      <td>43.000000</td>\n",
       "    </tr>\n",
       "    <tr>\n",
       "      <th>75%</th>\n",
       "      <td>3.000000</td>\n",
       "      <td>82.375000</td>\n",
       "    </tr>\n",
       "    <tr>\n",
       "      <th>max</th>\n",
       "      <td>157.000000</td>\n",
       "      <td>306.000000</td>\n",
       "    </tr>\n",
       "  </tbody>\n",
       "</table>\n",
       "</div>"
      ],
      "text/plain": [
       "          objects  median_number\n",
       "count  548.000000     548.000000\n",
       "mean     5.416058      57.546533\n",
       "std     15.955098      52.947916\n",
       "min      1.000000       0.000000\n",
       "25%      1.000000      20.000000\n",
       "50%      1.000000      43.000000\n",
       "75%      3.000000      82.375000\n",
       "max    157.000000     306.000000"
      ]
     },
     "execution_count": 37,
     "metadata": {},
     "output_type": "execute_result"
    }
   ],
   "source": [
    "# Посмотрим статистику по получившейся переменной.\n",
    "chain_median.describe()"
   ]
  },
  {
   "cell_type": "code",
   "execution_count": 38,
   "metadata": {},
   "outputs": [
    {
     "data": {
      "text/plain": [
       "objects          298\n",
       "median_number    298\n",
       "dtype: int64"
      ]
     },
     "execution_count": 38,
     "metadata": {},
     "output_type": "execute_result"
    }
   ],
   "source": [
    "# Посчитаем количество значений с одним объектом в сети.\n",
    "chain_median[chain_median['objects'] == 1].count()"
   ]
  },
  {
   "cell_type": "markdown",
   "metadata": {},
   "source": [
    "Странно выглядят сетевые огранизации с одним объектом, возможно это заведения с ошибками в названии либо они могут располагаться в нескольких городах и еще не успели в Москве открыть больше одного заведения. Так же, теоритически, в сети могут находиться заведения с разными названиями(например рестораны Аркадия Новикова). Тут для группировки данных нам бы пригодились идентификаторы сети, но таковых у нас нет. Учитывая что такие заведения занимают значительную часть выборки - оставим эти данные для анализа."
   ]
  },
  {
   "cell_type": "code",
   "execution_count": 39,
   "metadata": {},
   "outputs": [],
   "source": [
    "#chain_median = chain_median[chain_median['objects']> 1].reset_index()"
   ]
  },
  {
   "cell_type": "code",
   "execution_count": 40,
   "metadata": {},
   "outputs": [],
   "source": [
    "#chain_median.describe()"
   ]
  },
  {
   "cell_type": "code",
   "execution_count": 41,
   "metadata": {},
   "outputs": [
    {
     "name": "stdout",
     "output_type": "stream",
     "text": [
      "95% граница по количеству объектов в сети: 18.649999999999977\n",
      "95% граница по количеству посадочных мест: 158.94999999999993\n"
     ]
    },
    {
     "data": {
      "image/png": "[encoded data removed]",
      "text/plain": [
       "<Figure size 1080x576 with 1 Axes>"
      ]
     },
     "metadata": {
      "needs_background": "light"
     },
     "output_type": "display_data"
    }
   ],
   "source": [
    "# Построим график.\n",
    "\n",
    "plt.figure(figsize=(15,8))\n",
    "sns.scatterplot(data = chain_median, x = \"median_number\", y = \"objects\")\n",
    "hor_line = plt.axhline(np.percentile(chain_median['objects'], 95), linestyle='--', color='black')\n",
    "vert_line = plt.axvline(np.percentile(chain_median['median_number'], 95), linestyle='--', color='black')\n",
    "plt.text(240,22, '95% заведений ниже этой линии')\n",
    "plt.text(160,80, '95% заведений левее этой линии')\n",
    "plt.ylabel('Количество объектов')\n",
    "plt.xlabel('Медианное количество посадочных мест')\n",
    "plt.title('График распределения количества сетевых объектов и медианного количества посадочных мест');\n",
    "print('95% граница по количеству объектов в сети:',np.percentile(chain_median['objects'], 95))\n",
    "print('95% граница по количеству посадочных мест:',np.percentile(chain_median['median_number'], 95))"
   ]
  },
  {
   "cell_type": "markdown",
   "metadata": {},
   "source": [
    "~По графикам видно что основная часть сетевых заведений имеет от 15 до 72 посадочных мест(медианное значение 40 мест).~\n",
    "~Значения выше 160 мест находятся за пределами 95% выборки.~\n",
    "\n",
    "~Для сетевых заведений Москвы характерно большое количество маленьких заведений с вместимостью от 15 до 72 человек.~"
   ]
  },
  {
   "cell_type": "markdown",
   "metadata": {},
   "source": [
    "По графику видно что 95% сетевых заведений имеет до 19 объектов в сети и до 160 посадочных мест по медиане.\n",
    "Все что превышает эти значения это 5% сетей от общего количества.\n",
    "\n",
    "На основании этих данных можно сделать вывод что для сетевых заведений Москвы характерно большое количество небольших сетей (5-6 объектов в среднем от медианы) с небольшим количеством посадочных мест (среднее от медианы 60 посадочных мест) "
   ]
  },
  {
   "cell_type": "markdown",
   "metadata": {},
   "source": [
    "<div class=\"alert alert-danger\">\n",
    "    <b>❌ Комментарий ревьюера:</b>\n",
    "    \n",
    "Анализируешь немного не с той стороны. В этом задании нам нужно рассмотреть сами сети заведений, рассмотреть отношение двух переменных - количество посадочных мест и количество заведений одной сети, проверить наличие корреляции между ними. Гистограмма или barplot тут не показательны.\n",
    "</div>"
   ]
  },
  {
   "cell_type": "markdown",
   "metadata": {},
   "source": [
    "<div class=\"alert alert-info\">\n",
    "<b> Комментарий студента</b>\n",
    "\n",
    "Поправил.\n",
    "</div>"
   ]
  },
  {
   "cell_type": "markdown",
   "metadata": {},
   "source": [
    "<div class=\"alert alert-success\">\n",
    "    <b>✅ Комментарий ревьюера V2:</b>\n",
    "    \n",
    "Теперь все верно. Отличная визуализация и анализ! 👏\n",
    "  </div>"
   ]
  },
  {
   "cell_type": "markdown",
   "metadata": {},
   "source": [
    "### Для каждого вида объекта общественного питания опишем ~среднее~ медианное количество посадочных мест. Выясним какой вид предоставляет ~в среднем~ по медиане самое большое количество посадочных мест? Построим график."
   ]
  },
  {
   "cell_type": "code",
   "execution_count": 42,
   "metadata": {},
   "outputs": [],
   "source": [
    "# Создадим переменную с групировкой по типу заведения со средним количеством посадочных мест.\n",
    "#mean_seats = (data.groupby('object_type'\n",
    "#                            ).agg({'number': 'mean'}).reset_index().sort_values(by='number', ascending=False))"
   ]
  },
  {
   "cell_type": "code",
   "execution_count": 43,
   "metadata": {},
   "outputs": [],
   "source": [
    "# Посмотрим данные из полученной переменной.\n",
    "#mean_seats"
   ]
  },
  {
   "cell_type": "code",
   "execution_count": 44,
   "metadata": {},
   "outputs": [],
   "source": [
    "# Построим график по полученным данным.\n",
    "\n",
    "#plt.figure(figsize=(15,8))\n",
    "#plt.xticks(rotation=15)\n",
    "#splot = sns.barplot(x='object_type', y='number', data=mean_seats)\n",
    "#for p in splot.patches:\n",
    "#    splot.annotate(format(p.get_height(), '.2f'), \n",
    "#                   (p.get_x() + p.get_width() / 2., p.get_height()), \n",
    "#                   ha = 'center', va = 'center', \n",
    "#                   xytext = (0, 9), \n",
    "#                   textcoords = 'offset points')\n",
    "#plt.title('Среднее количество посадочных мест по видам объектов общественного питания')\n",
    "#plt.ylabel('Среднее количество посадочных мест')\n",
    "#plt.xlabel('Вид объектов общественного питания')"
   ]
  },
  {
   "cell_type": "code",
   "execution_count": 45,
   "metadata": {},
   "outputs": [],
   "source": [
    "# Создадим переменную с групировкой по типу заведения со медианным количеством посадочных мест.\n",
    "median_seats = (data.groupby('object_type'\n",
    "                            ).agg({'number': 'median'}).reset_index().sort_values(by='number', ascending=False))"
   ]
  },
  {
   "cell_type": "code",
   "execution_count": 46,
   "metadata": {},
   "outputs": [
    {
     "data": {
      "text/html": [
       "<div>\n",
       "<style scoped>\n",
       "    .dataframe tbody tr th:only-of-type {\n",
       "        vertical-align: middle;\n",
       "    }\n",
       "\n",
       "    .dataframe tbody tr th {\n",
       "        vertical-align: top;\n",
       "    }\n",
       "\n",
       "    .dataframe thead th {\n",
       "        text-align: right;\n",
       "    }\n",
       "</style>\n",
       "<table border=\"1\" class=\"dataframe\">\n",
       "  <thead>\n",
       "    <tr style=\"text-align: right;\">\n",
       "      <th></th>\n",
       "      <th>object_type</th>\n",
       "      <th>number</th>\n",
       "    </tr>\n",
       "  </thead>\n",
       "  <tbody>\n",
       "    <tr>\n",
       "      <th>7</th>\n",
       "      <td>столовая</td>\n",
       "      <td>103</td>\n",
       "    </tr>\n",
       "    <tr>\n",
       "      <th>6</th>\n",
       "      <td>ресторан</td>\n",
       "      <td>80</td>\n",
       "    </tr>\n",
       "    <tr>\n",
       "      <th>0</th>\n",
       "      <td>бар</td>\n",
       "      <td>35</td>\n",
       "    </tr>\n",
       "    <tr>\n",
       "      <th>1</th>\n",
       "      <td>буфет</td>\n",
       "      <td>32</td>\n",
       "    </tr>\n",
       "    <tr>\n",
       "      <th>3</th>\n",
       "      <td>кафе</td>\n",
       "      <td>30</td>\n",
       "    </tr>\n",
       "    <tr>\n",
       "      <th>4</th>\n",
       "      <td>кафетерий</td>\n",
       "      <td>6</td>\n",
       "    </tr>\n",
       "    <tr>\n",
       "      <th>8</th>\n",
       "      <td>фаст-фуд</td>\n",
       "      <td>5</td>\n",
       "    </tr>\n",
       "    <tr>\n",
       "      <th>2</th>\n",
       "      <td>закусочная</td>\n",
       "      <td>0</td>\n",
       "    </tr>\n",
       "    <tr>\n",
       "      <th>5</th>\n",
       "      <td>кулинария</td>\n",
       "      <td>0</td>\n",
       "    </tr>\n",
       "  </tbody>\n",
       "</table>\n",
       "</div>"
      ],
      "text/plain": [
       "  object_type  number\n",
       "7    столовая     103\n",
       "6    ресторан      80\n",
       "0         бар      35\n",
       "1       буфет      32\n",
       "3        кафе      30\n",
       "4   кафетерий       6\n",
       "8    фаст-фуд       5\n",
       "2  закусочная       0\n",
       "5   кулинария       0"
      ]
     },
     "execution_count": 46,
     "metadata": {},
     "output_type": "execute_result"
    }
   ],
   "source": [
    "# Посмотрим данные из полученной переменной.\n",
    "median_seats"
   ]
  },
  {
   "cell_type": "code",
   "execution_count": 47,
   "metadata": {},
   "outputs": [
    {
     "data": {
      "text/plain": [
       "Text(0.5, 0, 'Вид объектов общественного питания')"
      ]
     },
     "execution_count": 47,
     "metadata": {},
     "output_type": "execute_result"
    },
    {
     "data": {
      "image/png": "[encoded data removed]",
      "text/plain": [
       "<Figure size 1080x576 with 1 Axes>"
      ]
     },
     "metadata": {
      "needs_background": "light"
     },
     "output_type": "display_data"
    }
   ],
   "source": [
    "# Построим график по полученным данным.\n",
    "\n",
    "plt.figure(figsize=(15,8))\n",
    "plt.xticks(rotation=15)\n",
    "splot = sns.barplot(x='object_type', y='number', data=median_seats)\n",
    "for p in splot.patches:\n",
    "    splot.annotate(format(p.get_height(), '.2f'), \n",
    "                   (p.get_x() + p.get_width() / 2., p.get_height()), \n",
    "                   ha = 'center', va = 'center', \n",
    "                   xytext = (0, 9), \n",
    "                   textcoords = 'offset points')\n",
    "plt.title('Медианное количество посадочных мест по видам объектов общественного питания')\n",
    "plt.ylabel('Медианное количество посадочных мест')\n",
    "plt.xlabel('Вид объектов общественного питания')"
   ]
  },
  {
   "cell_type": "markdown",
   "metadata": {},
   "source": [
    "~В среднем~ По медиане, самыми вместительными заведениями общественного питания являются `столовые`, это около ~130~ 103 посадочных мест в заведении. Дальше идут `рестораны` - около ~97~ 80 посадочных мест. По количеству объектов самым популярным видом заведений считаются `кафе` - они вмещают ~в среднем~ по медиане ~40~ 30 посетителей."
   ]
  },
  {
   "cell_type": "markdown",
   "metadata": {},
   "source": [
    "<div class=\"alert alert-warning\">\n",
    "  <b>⚠️ Комментарий ревьюера:</b>\n",
    "    \n",
    "Принято! Но с такими выбросами я бы рекомендовал использовать медиану, а не среднее.\n",
    "</div>"
   ]
  },
  {
   "cell_type": "markdown",
   "metadata": {},
   "source": [
    "<div class=\"alert alert-info\">\n",
    "<b> Комментарий студента</b>\n",
    "\n",
    "В самом задании просили вычислить именно средние значения. Переделал на медианные.\n",
    "</div>"
   ]
  },
  {
   "cell_type": "markdown",
   "metadata": {},
   "source": [
    "<div class=\"alert alert-success\">\n",
    "    <b>✅ Комментарий ревьюера V2:</b>\n",
    "    \n",
    "Согласен, это сбивает с толку. \n",
    "    \n",
    "Принято!\n",
    "  </div>"
   ]
  },
  {
   "cell_type": "markdown",
   "metadata": {},
   "source": [
    "### Выделим в отдельный столбец информацию об улице из столбца `address`."
   ]
  },
  {
   "cell_type": "code",
   "execution_count": 48,
   "metadata": {},
   "outputs": [],
   "source": [
    "# Напишем функцию для выделения информации об улицах в отдельный столбец.\n",
    "\n",
    "#data['street'] = ''\n",
    "#def streets(row):\n",
    "#    address = row[4]\n",
    "#    address = address.split(', ')\n",
    "#    street = address[1]\n",
    "#    if  (((street.count('поселение') > 0) | \n",
    "#          (street.count('поселок') > 0) |\n",
    "#          (street.count('село') > 0) |\n",
    "#          (street.count('деревня') > 0) |\n",
    "#          (street.count('город') > 0)) & \n",
    "#         (len(address)>2)):\n",
    "#        address[1] = address[2]\n",
    "#    row[6] = address[1]\n",
    "#    return row\n",
    "#data = data.apply(streets, axis=1)"
   ]
  },
  {
   "cell_type": "code",
   "execution_count": 49,
   "metadata": {},
   "outputs": [],
   "source": [
    "# Напишем функцию для выделения информации об улицах в отдельный столбец.\n",
    "\n",
    "street_types = ['улица', 'бульвар', 'проспект', 'переулок', 'шоссе', \n",
    "'проезд', 'набережная', 'площадь', 'аллея', 'линия', 'квартал', 'мост', 'тупик', 'просека']\n",
    "def street_finder(address):\n",
    "    for address_part in address.split(', '):\n",
    "        for street_type in street_types:\n",
    "            if address_part.lower().find(street_type)!= -1:\n",
    "                return address_part\n",
    "\n",
    "data['street'] = data['address'].apply(street_finder)"
   ]
  },
  {
   "cell_type": "code",
   "execution_count": 50,
   "metadata": {},
   "outputs": [
    {
     "data": {
      "text/plain": [
       "id               0\n",
       "object_name      0\n",
       "chain            0\n",
       "object_type      0\n",
       "address          0\n",
       "number           0\n",
       "street         382\n",
       "dtype: int64"
      ]
     },
     "execution_count": 50,
     "metadata": {},
     "output_type": "execute_result"
    }
   ],
   "source": [
    "# Проверим данные на пропуски.\n",
    "data.isna().sum()"
   ]
  },
  {
   "cell_type": "code",
   "execution_count": 51,
   "metadata": {},
   "outputs": [
    {
     "data": {
      "text/html": [
       "<div>\n",
       "<style scoped>\n",
       "    .dataframe tbody tr th:only-of-type {\n",
       "        vertical-align: middle;\n",
       "    }\n",
       "\n",
       "    .dataframe tbody tr th {\n",
       "        vertical-align: top;\n",
       "    }\n",
       "\n",
       "    .dataframe thead th {\n",
       "        text-align: right;\n",
       "    }\n",
       "</style>\n",
       "<table border=\"1\" class=\"dataframe\">\n",
       "  <thead>\n",
       "    <tr style=\"text-align: right;\">\n",
       "      <th></th>\n",
       "      <th>id</th>\n",
       "      <th>object_name</th>\n",
       "      <th>chain</th>\n",
       "      <th>object_type</th>\n",
       "      <th>address</th>\n",
       "      <th>number</th>\n",
       "      <th>street</th>\n",
       "    </tr>\n",
       "  </thead>\n",
       "  <tbody>\n",
       "    <tr>\n",
       "      <th>1405</th>\n",
       "      <td>20199</td>\n",
       "      <td>это</td>\n",
       "      <td>False</td>\n",
       "      <td>кафе</td>\n",
       "      <td>город Москва, город Зеленоград, корпус 401</td>\n",
       "      <td>35</td>\n",
       "      <td>None</td>\n",
       "    </tr>\n",
       "    <tr>\n",
       "      <th>1406</th>\n",
       "      <td>68113</td>\n",
       "      <td>френдс</td>\n",
       "      <td>False</td>\n",
       "      <td>кафе</td>\n",
       "      <td>город Москва, город Зеленоград, корпус 435</td>\n",
       "      <td>34</td>\n",
       "      <td>None</td>\n",
       "    </tr>\n",
       "    <tr>\n",
       "      <th>1407</th>\n",
       "      <td>20105</td>\n",
       "      <td>кафе граф монте кристо</td>\n",
       "      <td>False</td>\n",
       "      <td>кафе</td>\n",
       "      <td>город Москва, город Зеленоград, корпус 436</td>\n",
       "      <td>40</td>\n",
       "      <td>None</td>\n",
       "    </tr>\n",
       "    <tr>\n",
       "      <th>1408</th>\n",
       "      <td>22982</td>\n",
       "      <td>альфорно</td>\n",
       "      <td>False</td>\n",
       "      <td>кафе</td>\n",
       "      <td>город Москва, город Зеленоград, корпус 438</td>\n",
       "      <td>49</td>\n",
       "      <td>None</td>\n",
       "    </tr>\n",
       "    <tr>\n",
       "      <th>1409</th>\n",
       "      <td>151267</td>\n",
       "      <td>альфорно</td>\n",
       "      <td>False</td>\n",
       "      <td>кафе</td>\n",
       "      <td>город Москва, город Зеленоград, корпус 438</td>\n",
       "      <td>45</td>\n",
       "      <td>None</td>\n",
       "    </tr>\n",
       "    <tr>\n",
       "      <th>...</th>\n",
       "      <td>...</td>\n",
       "      <td>...</td>\n",
       "      <td>...</td>\n",
       "      <td>...</td>\n",
       "      <td>...</td>\n",
       "      <td>...</td>\n",
       "      <td>...</td>\n",
       "    </tr>\n",
       "    <tr>\n",
       "      <th>14997</th>\n",
       "      <td>216942</td>\n",
       "      <td>шашлычный дворик</td>\n",
       "      <td>False</td>\n",
       "      <td>кафе</td>\n",
       "      <td>город Москва, поселение Десеновское, деревня Ватутинки, владение 10</td>\n",
       "      <td>15</td>\n",
       "      <td>None</td>\n",
       "    </tr>\n",
       "    <tr>\n",
       "      <th>14998</th>\n",
       "      <td>216926</td>\n",
       "      <td>кафе сахли</td>\n",
       "      <td>False</td>\n",
       "      <td>закусочная</td>\n",
       "      <td>город Москва, поселение Десеновское, деревня Ватутинки, владение 15</td>\n",
       "      <td>10</td>\n",
       "      <td>None</td>\n",
       "    </tr>\n",
       "    <tr>\n",
       "      <th>15015</th>\n",
       "      <td>208239</td>\n",
       "      <td>газпромнефть</td>\n",
       "      <td>False</td>\n",
       "      <td>кафе</td>\n",
       "      <td>поселение \"Мосрентген\", деревня Дудкино, владение 1</td>\n",
       "      <td>20</td>\n",
       "      <td>None</td>\n",
       "    </tr>\n",
       "    <tr>\n",
       "      <th>15184</th>\n",
       "      <td>220587</td>\n",
       "      <td>пицца паоло</td>\n",
       "      <td>True</td>\n",
       "      <td>кафетерий</td>\n",
       "      <td>город Москва, город Зеленоград, корпус 1627</td>\n",
       "      <td>0</td>\n",
       "      <td>None</td>\n",
       "    </tr>\n",
       "    <tr>\n",
       "      <th>15274</th>\n",
       "      <td>211230</td>\n",
       "      <td>предприятие быстрого обслуживания милти</td>\n",
       "      <td>True</td>\n",
       "      <td>фаст-фуд</td>\n",
       "      <td>город Москва, микрорайон Северное Чертаново, дом 1А</td>\n",
       "      <td>0</td>\n",
       "      <td>None</td>\n",
       "    </tr>\n",
       "  </tbody>\n",
       "</table>\n",
       "<p>382 rows × 7 columns</p>\n",
       "</div>"
      ],
      "text/plain": [
       "           id                              object_name  chain object_type  \\\n",
       "1405    20199                                      это  False        кафе   \n",
       "1406    68113                                   френдс  False        кафе   \n",
       "1407    20105                   кафе граф монте кристо  False        кафе   \n",
       "1408    22982                                 альфорно  False        кафе   \n",
       "1409   151267                                 альфорно  False        кафе   \n",
       "...       ...                                      ...    ...         ...   \n",
       "14997  216942                         шашлычный дворик  False        кафе   \n",
       "14998  216926                               кафе сахли  False  закусочная   \n",
       "15015  208239                             газпромнефть  False        кафе   \n",
       "15184  220587                              пицца паоло   True   кафетерий   \n",
       "15274  211230  предприятие быстрого обслуживания милти   True    фаст-фуд   \n",
       "\n",
       "                                                                   address  \\\n",
       "1405                            город Москва, город Зеленоград, корпус 401   \n",
       "1406                            город Москва, город Зеленоград, корпус 435   \n",
       "1407                            город Москва, город Зеленоград, корпус 436   \n",
       "1408                            город Москва, город Зеленоград, корпус 438   \n",
       "1409                            город Москва, город Зеленоград, корпус 438   \n",
       "...                                                                    ...   \n",
       "14997  город Москва, поселение Десеновское, деревня Ватутинки, владение 10   \n",
       "14998  город Москва, поселение Десеновское, деревня Ватутинки, владение 15   \n",
       "15015                  поселение \"Мосрентген\", деревня Дудкино, владение 1   \n",
       "15184                          город Москва, город Зеленоград, корпус 1627   \n",
       "15274                  город Москва, микрорайон Северное Чертаново, дом 1А   \n",
       "\n",
       "       number street  \n",
       "1405       35   None  \n",
       "1406       34   None  \n",
       "1407       40   None  \n",
       "1408       49   None  \n",
       "1409       45   None  \n",
       "...       ...    ...  \n",
       "14997      15   None  \n",
       "14998      10   None  \n",
       "15015      20   None  \n",
       "15184       0   None  \n",
       "15274       0   None  \n",
       "\n",
       "[382 rows x 7 columns]"
      ]
     },
     "execution_count": 51,
     "metadata": {},
     "output_type": "execute_result"
    }
   ],
   "source": [
    "# Посмотрим на пропуски.\n",
    "data[data['street'].isna()]"
   ]
  },
  {
   "cell_type": "markdown",
   "metadata": {},
   "source": [
    "Видим что пропуски присутствуют по адресам где не указаны улицы. Всего таких строк выявлено 382, думаю их можно удалить. Повлиять на результат это не должно."
   ]
  },
  {
   "cell_type": "code",
   "execution_count": 52,
   "metadata": {},
   "outputs": [],
   "source": [
    "# Удалим данные с пропусками.\n",
    "data = data[~(data['street'].isnull())]"
   ]
  },
  {
   "cell_type": "code",
   "execution_count": 53,
   "metadata": {},
   "outputs": [
    {
     "data": {
      "text/plain": [
       "id             0\n",
       "object_name    0\n",
       "chain          0\n",
       "object_type    0\n",
       "address        0\n",
       "number         0\n",
       "street         0\n",
       "dtype: int64"
      ]
     },
     "execution_count": 53,
     "metadata": {},
     "output_type": "execute_result"
    }
   ],
   "source": [
    "# Проверим данные на пропуски.\n",
    "data.isna().sum()"
   ]
  },
  {
   "cell_type": "code",
   "execution_count": 54,
   "metadata": {},
   "outputs": [
    {
     "data": {
      "text/plain": [
       "проспект Мира             204\n",
       "Профсоюзная улица         183\n",
       "Ленинградский проспект    173\n",
       "Пресненская набережная    167\n",
       "Варшавское шоссе          165\n",
       "Ленинский проспект        148\n",
       "проспект Вернадского      132\n",
       "Кутузовский проспект      114\n",
       "Каширское шоссе           112\n",
       "Кировоградская улица      110\n",
       "Name: street, dtype: int64"
      ]
     },
     "execution_count": 54,
     "metadata": {},
     "output_type": "execute_result"
    }
   ],
   "source": [
    "# Выведем первые 10 улиц по частоте их упоминания в датасете для проверки результата.\n",
    "data['street'].value_counts().head(10)"
   ]
  },
  {
   "cell_type": "markdown",
   "metadata": {},
   "source": [
    "Вроде с названиями улиц разобрались."
   ]
  },
  {
   "cell_type": "markdown",
   "metadata": {},
   "source": [
    "<div class=\"alert alert-danger\">\n",
    "    <b>❌ Комментарий ревьюера:</b>\n",
    "    \n",
    "Твое решение будет работать в большинстве случаев, но оно дает сбой в случаях когда населенный пункт заведения не указан. Например, строка адресом \"Краснобогатырская улица, дом 90, строение 1\". Избежать этого поможет поиск нужных частей адреса по словам-маркерам (например, улица, проспект и т.д.) через цикл.\n",
    "</div>"
   ]
  },
  {
   "cell_type": "markdown",
   "metadata": {},
   "source": [
    "<div class=\"alert alert-info\">\n",
    "<b> Комментарий студента</b>\n",
    "\n",
    "Поправил.\n",
    "</div>"
   ]
  },
  {
   "cell_type": "markdown",
   "metadata": {},
   "source": [
    "<div class=\"alert alert-success\">\n",
    "    <b>✅ Комментарий ревьюера V2:</b>\n",
    "    \n",
    "Принято! А если расширить список слов-маркеров street_types (например, словами Зеленоград, микрорайон и др.) пропусков не будет вообще.\n",
    "  </div>"
   ]
  },
  {
   "cell_type": "markdown",
   "metadata": {},
   "source": [
    "### Построим график топ-10 улиц по количеству объектов общественного питания. Воспользуемся внешней информацией и ответим на вопрос — в каких районах Москвы находятся эти улицы?"
   ]
  },
  {
   "cell_type": "code",
   "execution_count": 55,
   "metadata": {},
   "outputs": [
    {
     "data": {
      "text/html": [
       "<div>\n",
       "<style scoped>\n",
       "    .dataframe tbody tr th:only-of-type {\n",
       "        vertical-align: middle;\n",
       "    }\n",
       "\n",
       "    .dataframe tbody tr th {\n",
       "        vertical-align: top;\n",
       "    }\n",
       "\n",
       "    .dataframe thead th {\n",
       "        text-align: right;\n",
       "    }\n",
       "</style>\n",
       "<table border=\"1\" class=\"dataframe\">\n",
       "  <thead>\n",
       "    <tr style=\"text-align: right;\">\n",
       "      <th></th>\n",
       "      <th>street</th>\n",
       "      <th>objects</th>\n",
       "    </tr>\n",
       "  </thead>\n",
       "  <tbody>\n",
       "    <tr>\n",
       "      <th>1426</th>\n",
       "      <td>проспект Мира</td>\n",
       "      <td>204</td>\n",
       "    </tr>\n",
       "    <tr>\n",
       "      <th>1014</th>\n",
       "      <td>Профсоюзная улица</td>\n",
       "      <td>183</td>\n",
       "    </tr>\n",
       "    <tr>\n",
       "      <th>686</th>\n",
       "      <td>Ленинградский проспект</td>\n",
       "      <td>173</td>\n",
       "    </tr>\n",
       "    <tr>\n",
       "      <th>997</th>\n",
       "      <td>Пресненская набережная</td>\n",
       "      <td>167</td>\n",
       "    </tr>\n",
       "    <tr>\n",
       "      <th>399</th>\n",
       "      <td>Варшавское шоссе</td>\n",
       "      <td>165</td>\n",
       "    </tr>\n",
       "    <tr>\n",
       "      <th>689</th>\n",
       "      <td>Ленинский проспект</td>\n",
       "      <td>148</td>\n",
       "    </tr>\n",
       "    <tr>\n",
       "      <th>1422</th>\n",
       "      <td>проспект Вернадского</td>\n",
       "      <td>132</td>\n",
       "    </tr>\n",
       "    <tr>\n",
       "      <th>676</th>\n",
       "      <td>Кутузовский проспект</td>\n",
       "      <td>114</td>\n",
       "    </tr>\n",
       "    <tr>\n",
       "      <th>599</th>\n",
       "      <td>Каширское шоссе</td>\n",
       "      <td>112</td>\n",
       "    </tr>\n",
       "    <tr>\n",
       "      <th>606</th>\n",
       "      <td>Кировоградская улица</td>\n",
       "      <td>110</td>\n",
       "    </tr>\n",
       "  </tbody>\n",
       "</table>\n",
       "</div>"
      ],
      "text/plain": [
       "                      street  objects\n",
       "1426           проспект Мира      204\n",
       "1014       Профсоюзная улица      183\n",
       "686   Ленинградский проспект      173\n",
       "997   Пресненская набережная      167\n",
       "399         Варшавское шоссе      165\n",
       "689       Ленинский проспект      148\n",
       "1422    проспект Вернадского      132\n",
       "676     Кутузовский проспект      114\n",
       "599          Каширское шоссе      112\n",
       "606     Кировоградская улица      110"
      ]
     },
     "execution_count": 55,
     "metadata": {},
     "output_type": "execute_result"
    }
   ],
   "source": [
    "# Выделим Топ-10 улиц по количеству объектов общественного питания.\n",
    "top_streets = (data.groupby('street').agg({'id': 'count'})\n",
    "                  .reset_index().sort_values(by='id', ascending=False).head(10))\n",
    "top_streets.columns = ['street', 'objects']\n",
    "top_streets"
   ]
  },
  {
   "cell_type": "code",
   "execution_count": 56,
   "metadata": {},
   "outputs": [
    {
     "data": {
      "text/plain": [
       "Text(0.5, 0, 'Улица')"
      ]
     },
     "execution_count": 56,
     "metadata": {},
     "output_type": "execute_result"
    },
    {
     "data": {
      "image/png": "[encoded data removed]",
      "text/plain": [
       "<Figure size 1080x576 with 1 Axes>"
      ]
     },
     "metadata": {
      "needs_background": "light"
     },
     "output_type": "display_data"
    }
   ],
   "source": [
    "# Построим график по полученным данным.\n",
    "\n",
    "plt.figure(figsize=(15,8))\n",
    "plt.xticks(rotation=35)\n",
    "splot = sns.barplot(x='street', y='objects', data=top_streets)\n",
    "for p in splot.patches:\n",
    "    splot.annotate(format(p.get_height(), '.2f'), \n",
    "                   (p.get_x() + p.get_width() / 2., p.get_height()), \n",
    "                   ha = 'center', va = 'center', \n",
    "                   xytext = (0, 9), \n",
    "                   textcoords = 'offset points')\n",
    "plt.title('Топ-10 улиц по количеству объектов общественного питания')\n",
    "plt.ylabel('Количество заведений')\n",
    "plt.xlabel('Улица')"
   ]
  },
  {
   "cell_type": "code",
   "execution_count": 57,
   "metadata": {},
   "outputs": [
    {
     "data": {
      "text/html": [
       "<div>\n",
       "<style scoped>\n",
       "    .dataframe tbody tr th:only-of-type {\n",
       "        vertical-align: middle;\n",
       "    }\n",
       "\n",
       "    .dataframe tbody tr th {\n",
       "        vertical-align: top;\n",
       "    }\n",
       "\n",
       "    .dataframe thead th {\n",
       "        text-align: right;\n",
       "    }\n",
       "</style>\n",
       "<table border=\"1\" class=\"dataframe\">\n",
       "  <thead>\n",
       "    <tr style=\"text-align: right;\">\n",
       "      <th></th>\n",
       "      <th>streetname</th>\n",
       "      <th>okrug</th>\n",
       "      <th>area</th>\n",
       "    </tr>\n",
       "  </thead>\n",
       "  <tbody>\n",
       "    <tr>\n",
       "      <th>0</th>\n",
       "      <td>Выставочный переулок</td>\n",
       "      <td>ЦАО</td>\n",
       "      <td>Пресненский</td>\n",
       "    </tr>\n",
       "    <tr>\n",
       "      <th>1</th>\n",
       "      <td>улица Гашека</td>\n",
       "      <td>ЦАО</td>\n",
       "      <td>Пресненский</td>\n",
       "    </tr>\n",
       "    <tr>\n",
       "      <th>2</th>\n",
       "      <td>Большая Никитская улица</td>\n",
       "      <td>ЦАО</td>\n",
       "      <td>Пресненский</td>\n",
       "    </tr>\n",
       "    <tr>\n",
       "      <th>3</th>\n",
       "      <td>Глубокий переулок</td>\n",
       "      <td>ЦАО</td>\n",
       "      <td>Пресненский</td>\n",
       "    </tr>\n",
       "    <tr>\n",
       "      <th>4</th>\n",
       "      <td>Большой Гнездниковский переулок</td>\n",
       "      <td>ЦАО</td>\n",
       "      <td>Пресненский</td>\n",
       "    </tr>\n",
       "    <tr>\n",
       "      <th>...</th>\n",
       "      <td>...</td>\n",
       "      <td>...</td>\n",
       "      <td>...</td>\n",
       "    </tr>\n",
       "    <tr>\n",
       "      <th>4258</th>\n",
       "      <td>Вознесенский проезд</td>\n",
       "      <td>ЦАО</td>\n",
       "      <td>Пресненский</td>\n",
       "    </tr>\n",
       "    <tr>\n",
       "      <th>4259</th>\n",
       "      <td>Волков переулок</td>\n",
       "      <td>ЦАО</td>\n",
       "      <td>Пресненский</td>\n",
       "    </tr>\n",
       "    <tr>\n",
       "      <th>4260</th>\n",
       "      <td>Поварская улица</td>\n",
       "      <td>ЦАО</td>\n",
       "      <td>Пресненский</td>\n",
       "    </tr>\n",
       "    <tr>\n",
       "      <th>4261</th>\n",
       "      <td>Кудринская площадь</td>\n",
       "      <td>ЦАО</td>\n",
       "      <td>Пресненский</td>\n",
       "    </tr>\n",
       "    <tr>\n",
       "      <th>4262</th>\n",
       "      <td>Вспольный переулок</td>\n",
       "      <td>ЦАО</td>\n",
       "      <td>Пресненский</td>\n",
       "    </tr>\n",
       "  </tbody>\n",
       "</table>\n",
       "<p>4263 rows × 3 columns</p>\n",
       "</div>"
      ],
      "text/plain": [
       "                           streetname okrug         area\n",
       "0                Выставочный переулок   ЦАО  Пресненский\n",
       "1                        улица Гашека   ЦАО  Пресненский\n",
       "2             Большая Никитская улица   ЦАО  Пресненский\n",
       "3                   Глубокий переулок   ЦАО  Пресненский\n",
       "4     Большой Гнездниковский переулок   ЦАО  Пресненский\n",
       "...                               ...   ...          ...\n",
       "4258              Вознесенский проезд   ЦАО  Пресненский\n",
       "4259                  Волков переулок   ЦАО  Пресненский\n",
       "4260                  Поварская улица   ЦАО  Пресненский\n",
       "4261               Кудринская площадь   ЦАО  Пресненский\n",
       "4262               Вспольный переулок   ЦАО  Пресненский\n",
       "\n",
       "[4263 rows x 3 columns]"
      ]
     },
     "execution_count": 57,
     "metadata": {},
     "output_type": "execute_result"
    }
   ],
   "source": [
    "# Загрузим данные о районах из внешнего источника.\n",
    "\n",
    "spreadsheet_id = '1UvDXgq6Td40TX2U1Ixi2MjvIIyNVsc9kcrWJVYMQgS8'\n",
    "file_name = 'https://docs.google.com/spreadsheets/d/{}/export?format=csv'.format(spreadsheet_id)\n",
    "r = requests.get(file_name)\n",
    "district = pd.read_csv(BytesIO(r.content))\n",
    "district"
   ]
  },
  {
   "cell_type": "code",
   "execution_count": 58,
   "metadata": {},
   "outputs": [],
   "source": [
    "# Переименуем столбцы.\n",
    "district.columns = ['street', 'okrug', 'district']"
   ]
  },
  {
   "cell_type": "code",
   "execution_count": 59,
   "metadata": {},
   "outputs": [
    {
     "data": {
      "text/html": [
       "<div>\n",
       "<style scoped>\n",
       "    .dataframe tbody tr th:only-of-type {\n",
       "        vertical-align: middle;\n",
       "    }\n",
       "\n",
       "    .dataframe tbody tr th {\n",
       "        vertical-align: top;\n",
       "    }\n",
       "\n",
       "    .dataframe thead th {\n",
       "        text-align: right;\n",
       "    }\n",
       "</style>\n",
       "<table border=\"1\" class=\"dataframe\">\n",
       "  <thead>\n",
       "    <tr style=\"text-align: right;\">\n",
       "      <th></th>\n",
       "      <th>street</th>\n",
       "      <th>objects</th>\n",
       "      <th>okrug</th>\n",
       "      <th>district</th>\n",
       "    </tr>\n",
       "  </thead>\n",
       "  <tbody>\n",
       "    <tr>\n",
       "      <th>0</th>\n",
       "      <td>проспект Мира</td>\n",
       "      <td>204</td>\n",
       "      <td>СВАО</td>\n",
       "      <td>Алексеевский</td>\n",
       "    </tr>\n",
       "    <tr>\n",
       "      <th>1</th>\n",
       "      <td>проспект Мира</td>\n",
       "      <td>204</td>\n",
       "      <td>СВАО</td>\n",
       "      <td>Ярославский Район</td>\n",
       "    </tr>\n",
       "    <tr>\n",
       "      <th>2</th>\n",
       "      <td>проспект Мира</td>\n",
       "      <td>204</td>\n",
       "      <td>СВАО</td>\n",
       "      <td>Марьина роща</td>\n",
       "    </tr>\n",
       "    <tr>\n",
       "      <th>3</th>\n",
       "      <td>проспект Мира</td>\n",
       "      <td>204</td>\n",
       "      <td>СВАО</td>\n",
       "      <td>Останкинский</td>\n",
       "    </tr>\n",
       "    <tr>\n",
       "      <th>4</th>\n",
       "      <td>проспект Мира</td>\n",
       "      <td>204</td>\n",
       "      <td>СВАО</td>\n",
       "      <td>Ростокино</td>\n",
       "    </tr>\n",
       "    <tr>\n",
       "      <th>5</th>\n",
       "      <td>проспект Мира</td>\n",
       "      <td>204</td>\n",
       "      <td>СВАО</td>\n",
       "      <td>Свиблово</td>\n",
       "    </tr>\n",
       "    <tr>\n",
       "      <th>6</th>\n",
       "      <td>проспект Мира</td>\n",
       "      <td>204</td>\n",
       "      <td>ЦАО</td>\n",
       "      <td>Мещанский</td>\n",
       "    </tr>\n",
       "    <tr>\n",
       "      <th>7</th>\n",
       "      <td>Профсоюзная улица</td>\n",
       "      <td>183</td>\n",
       "      <td>ЮЗАО</td>\n",
       "      <td>Академический</td>\n",
       "    </tr>\n",
       "    <tr>\n",
       "      <th>8</th>\n",
       "      <td>Профсоюзная улица</td>\n",
       "      <td>183</td>\n",
       "      <td>ЮЗАО</td>\n",
       "      <td>Черемушки</td>\n",
       "    </tr>\n",
       "    <tr>\n",
       "      <th>9</th>\n",
       "      <td>Профсоюзная улица</td>\n",
       "      <td>183</td>\n",
       "      <td>ЮЗАО</td>\n",
       "      <td>Ясенево</td>\n",
       "    </tr>\n",
       "    <tr>\n",
       "      <th>10</th>\n",
       "      <td>Профсоюзная улица</td>\n",
       "      <td>183</td>\n",
       "      <td>ЮЗАО</td>\n",
       "      <td>Коньково</td>\n",
       "    </tr>\n",
       "    <tr>\n",
       "      <th>11</th>\n",
       "      <td>Профсоюзная улица</td>\n",
       "      <td>183</td>\n",
       "      <td>ЮЗАО</td>\n",
       "      <td>Обручевский</td>\n",
       "    </tr>\n",
       "    <tr>\n",
       "      <th>12</th>\n",
       "      <td>Профсоюзная улица</td>\n",
       "      <td>183</td>\n",
       "      <td>ЮЗАО</td>\n",
       "      <td>Теплый Стан</td>\n",
       "    </tr>\n",
       "    <tr>\n",
       "      <th>13</th>\n",
       "      <td>Ленинградский проспект</td>\n",
       "      <td>173</td>\n",
       "      <td>САО</td>\n",
       "      <td>Аэропорт</td>\n",
       "    </tr>\n",
       "    <tr>\n",
       "      <th>14</th>\n",
       "      <td>Ленинградский проспект</td>\n",
       "      <td>173</td>\n",
       "      <td>САО</td>\n",
       "      <td>Беговой</td>\n",
       "    </tr>\n",
       "    <tr>\n",
       "      <th>15</th>\n",
       "      <td>Ленинградский проспект</td>\n",
       "      <td>173</td>\n",
       "      <td>САО</td>\n",
       "      <td>Хорошевский</td>\n",
       "    </tr>\n",
       "    <tr>\n",
       "      <th>16</th>\n",
       "      <td>Ленинградский проспект</td>\n",
       "      <td>173</td>\n",
       "      <td>САО</td>\n",
       "      <td>Сокол</td>\n",
       "    </tr>\n",
       "    <tr>\n",
       "      <th>17</th>\n",
       "      <td>Пресненская набережная</td>\n",
       "      <td>167</td>\n",
       "      <td>ЦАО</td>\n",
       "      <td>Пресненский</td>\n",
       "    </tr>\n",
       "    <tr>\n",
       "      <th>18</th>\n",
       "      <td>Варшавское шоссе</td>\n",
       "      <td>165</td>\n",
       "      <td>ЮАО</td>\n",
       "      <td>Чертаново Центральное</td>\n",
       "    </tr>\n",
       "    <tr>\n",
       "      <th>19</th>\n",
       "      <td>Варшавское шоссе</td>\n",
       "      <td>165</td>\n",
       "      <td>ЮАО</td>\n",
       "      <td>Чертаново Северное</td>\n",
       "    </tr>\n",
       "    <tr>\n",
       "      <th>20</th>\n",
       "      <td>Варшавское шоссе</td>\n",
       "      <td>165</td>\n",
       "      <td>ЮАО</td>\n",
       "      <td>Чертаново Южное</td>\n",
       "    </tr>\n",
       "    <tr>\n",
       "      <th>21</th>\n",
       "      <td>Варшавское шоссе</td>\n",
       "      <td>165</td>\n",
       "      <td>ЮАО</td>\n",
       "      <td>Донской</td>\n",
       "    </tr>\n",
       "    <tr>\n",
       "      <th>22</th>\n",
       "      <td>Варшавское шоссе</td>\n",
       "      <td>165</td>\n",
       "      <td>ЮАО</td>\n",
       "      <td>Нагатино-Садовники</td>\n",
       "    </tr>\n",
       "    <tr>\n",
       "      <th>23</th>\n",
       "      <td>Варшавское шоссе</td>\n",
       "      <td>165</td>\n",
       "      <td>ЮАО</td>\n",
       "      <td>Нагорный</td>\n",
       "    </tr>\n",
       "    <tr>\n",
       "      <th>24</th>\n",
       "      <td>Варшавское шоссе</td>\n",
       "      <td>165</td>\n",
       "      <td>ЮЗАО</td>\n",
       "      <td>Северное Бутово</td>\n",
       "    </tr>\n",
       "    <tr>\n",
       "      <th>25</th>\n",
       "      <td>Варшавское шоссе</td>\n",
       "      <td>165</td>\n",
       "      <td>ЮЗАО</td>\n",
       "      <td>Южное Бутово</td>\n",
       "    </tr>\n",
       "    <tr>\n",
       "      <th>26</th>\n",
       "      <td>Ленинский проспект</td>\n",
       "      <td>148</td>\n",
       "      <td>ЗАО</td>\n",
       "      <td>Проспект Вернадского</td>\n",
       "    </tr>\n",
       "    <tr>\n",
       "      <th>27</th>\n",
       "      <td>Ленинский проспект</td>\n",
       "      <td>148</td>\n",
       "      <td>ЗАО</td>\n",
       "      <td>Тропарево-Никулино</td>\n",
       "    </tr>\n",
       "    <tr>\n",
       "      <th>28</th>\n",
       "      <td>Ленинский проспект</td>\n",
       "      <td>148</td>\n",
       "      <td>ЮАО</td>\n",
       "      <td>Донской</td>\n",
       "    </tr>\n",
       "    <tr>\n",
       "      <th>29</th>\n",
       "      <td>Ленинский проспект</td>\n",
       "      <td>148</td>\n",
       "      <td>ЮЗАО</td>\n",
       "      <td>Гагаринский</td>\n",
       "    </tr>\n",
       "    <tr>\n",
       "      <th>30</th>\n",
       "      <td>Ленинский проспект</td>\n",
       "      <td>148</td>\n",
       "      <td>ЮЗАО</td>\n",
       "      <td>Ломоносовский</td>\n",
       "    </tr>\n",
       "    <tr>\n",
       "      <th>31</th>\n",
       "      <td>Ленинский проспект</td>\n",
       "      <td>148</td>\n",
       "      <td>ЮЗАО</td>\n",
       "      <td>Обручевский</td>\n",
       "    </tr>\n",
       "    <tr>\n",
       "      <th>32</th>\n",
       "      <td>Ленинский проспект</td>\n",
       "      <td>148</td>\n",
       "      <td>ЮЗАО</td>\n",
       "      <td>Теплый Стан</td>\n",
       "    </tr>\n",
       "    <tr>\n",
       "      <th>33</th>\n",
       "      <td>Ленинский проспект</td>\n",
       "      <td>148</td>\n",
       "      <td>ЦАО</td>\n",
       "      <td>Якиманка</td>\n",
       "    </tr>\n",
       "    <tr>\n",
       "      <th>34</th>\n",
       "      <td>проспект Вернадского</td>\n",
       "      <td>132</td>\n",
       "      <td>ЗАО</td>\n",
       "      <td>Проспект Вернадского</td>\n",
       "    </tr>\n",
       "    <tr>\n",
       "      <th>35</th>\n",
       "      <td>проспект Вернадского</td>\n",
       "      <td>132</td>\n",
       "      <td>ЗАО</td>\n",
       "      <td>Раменки</td>\n",
       "    </tr>\n",
       "    <tr>\n",
       "      <th>36</th>\n",
       "      <td>проспект Вернадского</td>\n",
       "      <td>132</td>\n",
       "      <td>ЗАО</td>\n",
       "      <td>Тропарево-Никулино</td>\n",
       "    </tr>\n",
       "    <tr>\n",
       "      <th>37</th>\n",
       "      <td>проспект Вернадского</td>\n",
       "      <td>132</td>\n",
       "      <td>ЮЗАО</td>\n",
       "      <td>Гагаринский</td>\n",
       "    </tr>\n",
       "    <tr>\n",
       "      <th>38</th>\n",
       "      <td>проспект Вернадского</td>\n",
       "      <td>132</td>\n",
       "      <td>ЮЗАО</td>\n",
       "      <td>Ломоносовский</td>\n",
       "    </tr>\n",
       "    <tr>\n",
       "      <th>39</th>\n",
       "      <td>Кутузовский проспект</td>\n",
       "      <td>114</td>\n",
       "      <td>ЗАО</td>\n",
       "      <td>Дорогомилово</td>\n",
       "    </tr>\n",
       "    <tr>\n",
       "      <th>40</th>\n",
       "      <td>Кутузовский проспект</td>\n",
       "      <td>114</td>\n",
       "      <td>ЗАО</td>\n",
       "      <td>Фили-Давыдково</td>\n",
       "    </tr>\n",
       "    <tr>\n",
       "      <th>41</th>\n",
       "      <td>Каширское шоссе</td>\n",
       "      <td>112</td>\n",
       "      <td>ЮАО</td>\n",
       "      <td>Москворечье-Сабурово</td>\n",
       "    </tr>\n",
       "    <tr>\n",
       "      <th>42</th>\n",
       "      <td>Каширское шоссе</td>\n",
       "      <td>112</td>\n",
       "      <td>ЮАО</td>\n",
       "      <td>Нагатино-Садовники</td>\n",
       "    </tr>\n",
       "    <tr>\n",
       "      <th>43</th>\n",
       "      <td>Каширское шоссе</td>\n",
       "      <td>112</td>\n",
       "      <td>ЮАО</td>\n",
       "      <td>Орехово-Борисово Южное</td>\n",
       "    </tr>\n",
       "    <tr>\n",
       "      <th>44</th>\n",
       "      <td>Каширское шоссе</td>\n",
       "      <td>112</td>\n",
       "      <td>ЮАО</td>\n",
       "      <td>Орехово-Борисово Северное</td>\n",
       "    </tr>\n",
       "    <tr>\n",
       "      <th>45</th>\n",
       "      <td>Кировоградская улица</td>\n",
       "      <td>110</td>\n",
       "      <td>ЮАО</td>\n",
       "      <td>Чертаново Центральное</td>\n",
       "    </tr>\n",
       "    <tr>\n",
       "      <th>46</th>\n",
       "      <td>Кировоградская улица</td>\n",
       "      <td>110</td>\n",
       "      <td>ЮАО</td>\n",
       "      <td>Чертаново Северное</td>\n",
       "    </tr>\n",
       "    <tr>\n",
       "      <th>47</th>\n",
       "      <td>Кировоградская улица</td>\n",
       "      <td>110</td>\n",
       "      <td>ЮАО</td>\n",
       "      <td>Чертаново Южное</td>\n",
       "    </tr>\n",
       "  </tbody>\n",
       "</table>\n",
       "</div>"
      ],
      "text/plain": [
       "                    street  objects okrug                   district\n",
       "0            проспект Мира      204  СВАО               Алексеевский\n",
       "1            проспект Мира      204  СВАО          Ярославский Район\n",
       "2            проспект Мира      204  СВАО               Марьина роща\n",
       "3            проспект Мира      204  СВАО               Останкинский\n",
       "4            проспект Мира      204  СВАО                  Ростокино\n",
       "5            проспект Мира      204  СВАО                   Свиблово\n",
       "6            проспект Мира      204   ЦАО                  Мещанский\n",
       "7        Профсоюзная улица      183  ЮЗАО              Академический\n",
       "8        Профсоюзная улица      183  ЮЗАО                  Черемушки\n",
       "9        Профсоюзная улица      183  ЮЗАО                    Ясенево\n",
       "10       Профсоюзная улица      183  ЮЗАО                   Коньково\n",
       "11       Профсоюзная улица      183  ЮЗАО                Обручевский\n",
       "12       Профсоюзная улица      183  ЮЗАО                Теплый Стан\n",
       "13  Ленинградский проспект      173   САО                   Аэропорт\n",
       "14  Ленинградский проспект      173   САО                    Беговой\n",
       "15  Ленинградский проспект      173   САО                Хорошевский\n",
       "16  Ленинградский проспект      173   САО                      Сокол\n",
       "17  Пресненская набережная      167   ЦАО                Пресненский\n",
       "18        Варшавское шоссе      165   ЮАО      Чертаново Центральное\n",
       "19        Варшавское шоссе      165   ЮАО         Чертаново Северное\n",
       "20        Варшавское шоссе      165   ЮАО            Чертаново Южное\n",
       "21        Варшавское шоссе      165   ЮАО                    Донской\n",
       "22        Варшавское шоссе      165   ЮАО         Нагатино-Садовники\n",
       "23        Варшавское шоссе      165   ЮАО                   Нагорный\n",
       "24        Варшавское шоссе      165  ЮЗАО            Северное Бутово\n",
       "25        Варшавское шоссе      165  ЮЗАО               Южное Бутово\n",
       "26      Ленинский проспект      148   ЗАО       Проспект Вернадского\n",
       "27      Ленинский проспект      148   ЗАО         Тропарево-Никулино\n",
       "28      Ленинский проспект      148   ЮАО                    Донской\n",
       "29      Ленинский проспект      148  ЮЗАО                Гагаринский\n",
       "30      Ленинский проспект      148  ЮЗАО              Ломоносовский\n",
       "31      Ленинский проспект      148  ЮЗАО                Обручевский\n",
       "32      Ленинский проспект      148  ЮЗАО                Теплый Стан\n",
       "33      Ленинский проспект      148   ЦАО                   Якиманка\n",
       "34    проспект Вернадского      132   ЗАО       Проспект Вернадского\n",
       "35    проспект Вернадского      132   ЗАО                    Раменки\n",
       "36    проспект Вернадского      132   ЗАО         Тропарево-Никулино\n",
       "37    проспект Вернадского      132  ЮЗАО                Гагаринский\n",
       "38    проспект Вернадского      132  ЮЗАО              Ломоносовский\n",
       "39    Кутузовский проспект      114   ЗАО               Дорогомилово\n",
       "40    Кутузовский проспект      114   ЗАО             Фили-Давыдково\n",
       "41         Каширское шоссе      112   ЮАО       Москворечье-Сабурово\n",
       "42         Каширское шоссе      112   ЮАО         Нагатино-Садовники\n",
       "43         Каширское шоссе      112   ЮАО     Орехово-Борисово Южное\n",
       "44         Каширское шоссе      112   ЮАО  Орехово-Борисово Северное\n",
       "45    Кировоградская улица      110   ЮАО      Чертаново Центральное\n",
       "46    Кировоградская улица      110   ЮАО         Чертаново Северное\n",
       "47    Кировоградская улица      110   ЮАО            Чертаново Южное"
      ]
     },
     "execution_count": 59,
     "metadata": {},
     "output_type": "execute_result"
    }
   ],
   "source": [
    "# Добавим к списку Топ-10 улиц соответствующие им районы.\n",
    "top_streets_districs = pd.merge(top_streets, district, left_on='street', right_on='street', how='left')\n",
    "top_streets_districs"
   ]
  },
  {
   "cell_type": "markdown",
   "metadata": {},
   "source": [
    "Как видим в список Топ-10 попали, в основном, длинные улицы, проходящие через несколько районов Москвы. Так что тут сложно сказать о плотности заведений в каком-то определенном районе. Тут выгодно смотрится `Пресненская набережная` которая целиком находится в `ЦАО` в районе `Пресненский`."
   ]
  },
  {
   "cell_type": "markdown",
   "metadata": {},
   "source": [
    "<div class=\"alert alert-success\">\n",
    "    <b>✅ Комментарий ревьюера:</b>\n",
    "    \n",
    "Диаграмма топ-10 улиц, выгрузка файла, вывод - все принято! 😊\n",
    "</div>"
   ]
  },
  {
   "cell_type": "markdown",
   "metadata": {},
   "source": [
    "### Найдем число улиц с одним объектом общественного питания. Воспользуемся внешней информацией и ответим на вопрос — в каких районах Москвы находятся эти улицы?"
   ]
  },
  {
   "cell_type": "code",
   "execution_count": 60,
   "metadata": {},
   "outputs": [],
   "source": [
    "# Выделим районы с улицами с одним заведением.\n",
    "one_object_street = data.groupby('street').count().sort_values(by='object_type', ascending=True).reset_index()\n",
    "one_object_street = one_object_street.query('id == 1')\n",
    "one_object_street = one_object_street.merge(district, on='street', how='left')\n",
    "one_object_street = one_object_street.groupby('district').count().sort_values(by='street', ascending=False).reset_index()"
   ]
  },
  {
   "cell_type": "code",
   "execution_count": 61,
   "metadata": {},
   "outputs": [
    {
     "data": {
      "image/png": "[encoded data removed]",
      "text/plain": [
       "<Figure size 1080x2160 with 1 Axes>"
      ]
     },
     "metadata": {
      "needs_background": "light"
     },
     "output_type": "display_data"
    }
   ],
   "source": [
    "# Построим график с количеством улиц с одним заведением разбитый по районам.\n",
    "\n",
    "plt.figure(figsize=(15,30))\n",
    "one_object_street = sns.barplot(y='district', x='street', data=one_object_street)\n",
    "one_object_street.axes.set_title('Районы с улицами с одним объектом общественного питания', fontsize=16)\n",
    "one_object_street.set_ylabel('Район', fontsize=14)\n",
    "one_object_street.set_xlabel(\"Количество улиц с одной точкой общепита\", fontsize=14);"
   ]
  },
  {
   "cell_type": "markdown",
   "metadata": {},
   "source": [
    "Больше всего улиц с одним заведением находится в районах:\n",
    "\n",
    "- Таганский\n",
    "- Хамовники\n",
    "- Басманный\n",
    "- Тверской\n",
    "- Пресненский\n",
    "\n",
    "Все это районы ЦАО с большим количеством небольших улочек. Возможно именно эти районы имеет смысл рассмотреть для открытия заведения."
   ]
  },
  {
   "cell_type": "markdown",
   "metadata": {},
   "source": [
    "<div class=\"alert alert-success\">\n",
    "    <b>✅ Комментарий ревьюера:</b>\n",
    "    \n",
    "А ведь ожидаешь что районы с улицами с 1 заведением будут на окраине... Принято!\n",
    "</div>"
   ]
  },
  {
   "cell_type": "markdown",
   "metadata": {},
   "source": [
    "## Общий вывод."
   ]
  },
  {
   "cell_type": "markdown",
   "metadata": {},
   "source": [
    "В ходе исследования предоставленных данных мы выяснили:\n",
    "\n",
    "**Наибольшее количество типов объектов общественного питания составляют:**\n",
    "\n",
    " - `кафе` 39.69%\n",
    " - `столовые` 16.84%\n",
    " - `рестораны` 14.87%\n",
    " - `фаст-фуд` 12,51%\n",
    " \n",
    "Сетевые заведения составляют 19.32% от общего количества, остальные - несетевые.\n",
    "**Сетевое распространение характерно для следующего типа заведений:**\n",
    "\n",
    "- `фаст-фуд` 41%\n",
    "- `кулинария` 29%\n",
    "- `рестораны` 24% \n",
    "- `кафе` 23%\n",
    "\n",
    "~Для сетевых заведений Москвы характерно большое количество маленьких заведений с вместимостью от 15 до 72 человек.~\n",
    "\n",
    "Для сетевых заведений Москвы характерно большое количество небольших сетей (5-6 объектов в среднем от медианы) с небольшим количеством посадочных мест (среднее от медианы 60 посадочных мест) \n",
    "\n",
    "**~Среднее~ Медианное количество посадочных мест по типам объектов общественного питания:**\n",
    "\n",
    "- `столовая` ~130.25~ 103\n",
    "- `ресторан` ~96.83~ 80\n",
    "- `буфет` ~51.13~ 32\n",
    "- `бар` ~43.49~ 35\n",
    "- `кафе` ~39.72~ 30\n",
    "- `кафетерий` 6\n",
    "- `фаст-фуд` ~20.55~ 5\n",
    "\n",
    "\n",
    "**Топ-10 улиц с наибольшим количеством заведений:**\n",
    "\n",
    "- проспект Мира 204\n",
    "- Профсоюзная улица 182\n",
    "- Ленинградский проспект 171\n",
    "- Пресненская набережная 167\n",
    "- Варшавское шоссе 164\n",
    "- Ленинский проспект 147\n",
    "- проспект Вернадского 132\n",
    "- Кутузовский проспект 114\n",
    "- Каширское шоссе 112\n",
    "- Кировоградская улица 110\n",
    "\n",
    "Все эти улицы, кроме Пресненской набережной проходят через несколько районов Москвы.\n",
    "\n",
    "**Больше всего улиц с одним заведением находится в районах:**\n",
    "\n",
    "- Таганский\n",
    "- Хамовники\n",
    "- Басманный\n",
    "- Тверской\n",
    "- Пресненский\n",
    "\n",
    "Все это районы ЦАО с большим количеством небольших улочек. Возможно именно эти районы имеет смысл рассмотреть для открытия заведения.\n",
    "\n",
    "\n",
    "\n",
    "**Рекомендации:**\n",
    "\n",
    "Тут сложно дать какие-то конкретные рекомендации т.к. вводных данных очень мало. Например не известен предполагаемый бюджет, не известна цена на аренду в разных районах и улицах Москвы, нет данных о пешеходном трафике на конкретных улицах и т.д.\n",
    "\n",
    "Так как проект оригинальный и в ближайшее время явных конкурентов не появится, можно рекомендовать для начала открыть небольшое, несетевое кафе на ~40-50~ 30-40 посадочных мест в одном из центральных районов Москвы(например: Тверской, Пресненский, Хамовники, Бансманный, Таганский).\n",
    "\n",
    "В таких районах большой трафик горожан и туристов, много состоятельных людей и эти районы хорошо себя показывают в ресторанном бизнесе. Было бы отлично, если бы кафе размещалось возле популярных заведений или достопримечательностей. ​\n",
    "\n",
    "На начальном этапе это позволит сократить расходы как на аренду помещения так и на роботов, можно будет обкатать все используемые для обслуживания клиентов технологии.\n",
    "\n",
    "Дальше уже будет понятен контингент, который посещает кафе, средний чек, обратная связь от клиентов по работе роботов и прочие показатели.\n",
    "\n",
    "Если дела пойдут хорошо - можно будет задуматься о расширении и открытии уже сети подобных заведений либо о смене формата заведения."
   ]
  },
  {
   "cell_type": "markdown",
   "metadata": {},
   "source": [
    "<div class=\"alert alert-success\">\n",
    "    <b>✅ Комментарий ревьюера:</b>\n",
    "    \n",
    "Корректные выводы и аргументированные рекомендации. 👍 \n",
    "</div>"
   ]
  },
  {
   "cell_type": "markdown",
   "metadata": {},
   "source": [
    "## Ссылка на презентацию"
   ]
  },
  {
   "cell_type": "markdown",
   "metadata": {},
   "source": [
    "~Презентация: https://disk.yandex.ru/i/pKmKECzRted2Iw~\n",
    "\n",
    "Презентация: https://disk.yandex.ru/i/xLTX0Qi1Fv5oNA"
   ]
  },
  {
   "cell_type": "markdown",
   "metadata": {},
   "source": [
    "<div class=\"alert alert-success\">\n",
    "    <b>✅ Комментарий ревьюера:</b>\n",
    "    \n",
    "Презентация составлена логично, выдержан единый стиль, все слайды заполнены корректно. 👏\n",
    "</div>"
   ]
  },
  {
   "cell_type": "markdown",
   "metadata": {},
   "source": [
    "<div class=\"alert alert-danger\">\n",
    "    <b>❌ Комментарий ревьюера:</b>\n",
    "    \n",
    "Комментарии по презентации:\n",
    "- не указан автор исследования\n",
    "- необходимо изменить 6 слайд после переработки проекта\n",
    "</div>"
   ]
  },
  {
   "cell_type": "markdown",
   "metadata": {},
   "source": [
    "<div class=\"alert alert-info\">\n",
    "<b> Комментарий студента</b>\n",
    "- Добавил автора исследования на последний слайд.\n",
    "- Поправил слайд 6. \n",
    "</div>"
   ]
  },
  {
   "cell_type": "markdown",
   "metadata": {},
   "source": [
    "<div class=\"alert alert-success\">\n",
    "    <b>✅ Комментарий ревьюера V2:</b>\n",
    "    \n",
    "Корректировки в презентацию и проект приняты. Проект зачтен!\n",
    "    \n",
    "Было приятно работать с тобой, Николай! Успехов в дальнейшем обучении!\n",
    "  </div>"
   ]
  },
  {
   "cell_type": "code",
   "execution_count": null,
   "metadata": {},
   "outputs": [],
   "source": []
  }
 ],
 "metadata": {
  "ExecuteTimeLog": [
   {
    "duration": 5,
    "start_time": "2022-05-20T11:39:05.334Z"
   },
   {
    "duration": 311,
    "start_time": "2022-05-20T11:40:06.149Z"
   },
   {
    "duration": 4,
    "start_time": "2022-05-20T11:40:30.437Z"
   },
   {
    "duration": 70,
    "start_time": "2022-05-20T11:41:06.333Z"
   },
   {
    "duration": 6,
    "start_time": "2022-05-20T13:20:34.094Z"
   },
   {
    "duration": 15,
    "start_time": "2022-05-20T13:20:50.037Z"
   },
   {
    "duration": 12,
    "start_time": "2022-05-20T13:22:54.966Z"
   },
   {
    "duration": 109,
    "start_time": "2022-05-20T13:23:20.067Z"
   },
   {
    "duration": 7,
    "start_time": "2022-05-20T13:23:29.795Z"
   },
   {
    "duration": 32,
    "start_time": "2022-05-20T13:23:39.225Z"
   },
   {
    "duration": 9,
    "start_time": "2022-05-20T13:23:45.261Z"
   },
   {
    "duration": 16,
    "start_time": "2022-05-20T13:23:53.139Z"
   },
   {
    "duration": 20,
    "start_time": "2022-05-20T13:25:37.069Z"
   },
   {
    "duration": 19,
    "start_time": "2022-05-20T13:25:49.638Z"
   },
   {
    "duration": 18,
    "start_time": "2022-05-20T13:51:32.178Z"
   },
   {
    "duration": 10,
    "start_time": "2022-05-20T13:51:55.001Z"
   },
   {
    "duration": 12,
    "start_time": "2022-05-20T13:52:36.850Z"
   },
   {
    "duration": 13,
    "start_time": "2022-05-20T13:52:43.003Z"
   },
   {
    "duration": 13,
    "start_time": "2022-05-20T13:53:00.569Z"
   },
   {
    "duration": 16,
    "start_time": "2022-05-20T14:39:38.962Z"
   },
   {
    "duration": 8,
    "start_time": "2022-05-20T14:41:41.299Z"
   },
   {
    "duration": 8,
    "start_time": "2022-05-20T14:44:15.765Z"
   },
   {
    "duration": 8,
    "start_time": "2022-05-20T14:44:58.207Z"
   },
   {
    "duration": 18,
    "start_time": "2022-05-20T14:45:24.635Z"
   },
   {
    "duration": 14,
    "start_time": "2022-05-20T14:45:38.842Z"
   },
   {
    "duration": 7,
    "start_time": "2022-05-20T14:46:30.657Z"
   },
   {
    "duration": 31,
    "start_time": "2022-05-20T14:52:19.410Z"
   },
   {
    "duration": 18,
    "start_time": "2022-05-20T14:53:08.610Z"
   },
   {
    "duration": 68,
    "start_time": "2022-05-20T14:54:16.809Z"
   },
   {
    "duration": 21,
    "start_time": "2022-05-20T14:54:31.893Z"
   },
   {
    "duration": 20,
    "start_time": "2022-05-20T15:07:37.583Z"
   },
   {
    "duration": 7,
    "start_time": "2022-05-20T15:07:47.312Z"
   },
   {
    "duration": 7,
    "start_time": "2022-05-20T15:08:22.793Z"
   },
   {
    "duration": 18,
    "start_time": "2022-05-20T15:08:25.300Z"
   },
   {
    "duration": 7,
    "start_time": "2022-05-20T15:08:27.616Z"
   },
   {
    "duration": 6,
    "start_time": "2022-05-20T15:08:49.856Z"
   },
   {
    "duration": 233,
    "start_time": "2022-05-20T15:08:49.864Z"
   },
   {
    "duration": 4,
    "start_time": "2022-05-20T15:08:50.098Z"
   },
   {
    "duration": 66,
    "start_time": "2022-05-20T15:08:50.104Z"
   },
   {
    "duration": 17,
    "start_time": "2022-05-20T15:08:50.183Z"
   },
   {
    "duration": 10,
    "start_time": "2022-05-20T15:08:50.201Z"
   },
   {
    "duration": 10,
    "start_time": "2022-05-20T15:08:50.212Z"
   },
   {
    "duration": 7,
    "start_time": "2022-05-20T15:08:50.224Z"
   },
   {
    "duration": 12,
    "start_time": "2022-05-20T15:08:50.233Z"
   },
   {
    "duration": 5,
    "start_time": "2022-05-20T15:08:50.246Z"
   },
   {
    "duration": 17,
    "start_time": "2022-05-20T15:08:50.284Z"
   },
   {
    "duration": 6,
    "start_time": "2022-05-20T15:08:50.302Z"
   },
   {
    "duration": 6,
    "start_time": "2022-05-20T15:09:45.335Z"
   },
   {
    "duration": 41,
    "start_time": "2022-05-20T15:10:55.172Z"
   },
   {
    "duration": 78,
    "start_time": "2022-05-20T15:17:02.740Z"
   },
   {
    "duration": 80,
    "start_time": "2022-05-20T15:17:28.006Z"
   },
   {
    "duration": 21,
    "start_time": "2022-05-20T15:22:03.350Z"
   },
   {
    "duration": 21,
    "start_time": "2022-05-20T15:23:34.795Z"
   },
   {
    "duration": 22,
    "start_time": "2022-05-20T15:24:25.060Z"
   },
   {
    "duration": 21,
    "start_time": "2022-05-20T15:25:09.844Z"
   },
   {
    "duration": 23,
    "start_time": "2022-05-20T15:26:13.826Z"
   },
   {
    "duration": 27,
    "start_time": "2022-05-20T15:26:46.886Z"
   },
   {
    "duration": 22,
    "start_time": "2022-05-20T15:27:21.396Z"
   },
   {
    "duration": 23,
    "start_time": "2022-05-20T15:27:41.103Z"
   },
   {
    "duration": 23,
    "start_time": "2022-05-20T15:28:36.075Z"
   },
   {
    "duration": 28,
    "start_time": "2022-05-20T15:30:01.858Z"
   },
   {
    "duration": 33,
    "start_time": "2022-05-20T15:34:43.679Z"
   },
   {
    "duration": 22,
    "start_time": "2022-05-20T15:44:38.173Z"
   },
   {
    "duration": 22,
    "start_time": "2022-05-20T15:45:33.486Z"
   },
   {
    "duration": 24,
    "start_time": "2022-05-20T15:45:53.231Z"
   },
   {
    "duration": 24,
    "start_time": "2022-05-20T15:46:19.487Z"
   },
   {
    "duration": 25,
    "start_time": "2022-05-20T15:46:37.659Z"
   },
   {
    "duration": 23,
    "start_time": "2022-05-20T15:48:23.085Z"
   },
   {
    "duration": 23,
    "start_time": "2022-05-20T15:49:45.071Z"
   },
   {
    "duration": 24,
    "start_time": "2022-05-20T15:50:26.061Z"
   },
   {
    "duration": 23,
    "start_time": "2022-05-20T15:50:45.228Z"
   },
   {
    "duration": 133,
    "start_time": "2022-05-20T15:50:56.774Z"
   },
   {
    "duration": 9,
    "start_time": "2022-05-20T15:51:13.969Z"
   },
   {
    "duration": 4,
    "start_time": "2022-05-20T15:51:27.471Z"
   },
   {
    "duration": 4,
    "start_time": "2022-05-20T15:51:36.908Z"
   },
   {
    "duration": 4,
    "start_time": "2022-05-20T15:51:55.589Z"
   },
   {
    "duration": 24,
    "start_time": "2022-05-20T15:52:03.612Z"
   },
   {
    "duration": 21,
    "start_time": "2022-05-20T16:12:41.089Z"
   },
   {
    "duration": 26,
    "start_time": "2022-05-20T16:13:01.004Z"
   },
   {
    "duration": 25,
    "start_time": "2022-05-20T16:14:33.906Z"
   },
   {
    "duration": 26,
    "start_time": "2022-05-20T16:15:30.286Z"
   },
   {
    "duration": 24,
    "start_time": "2022-05-20T16:18:19.788Z"
   },
   {
    "duration": 25,
    "start_time": "2022-05-20T16:18:59.403Z"
   },
   {
    "duration": 3,
    "start_time": "2022-05-20T16:24:40.347Z"
   },
   {
    "duration": 25,
    "start_time": "2022-05-20T16:24:55.501Z"
   },
   {
    "duration": 21,
    "start_time": "2022-05-20T18:00:34.418Z"
   },
   {
    "duration": 22,
    "start_time": "2022-05-20T18:00:47.508Z"
   },
   {
    "duration": 22,
    "start_time": "2022-05-20T18:01:51.253Z"
   },
   {
    "duration": 9,
    "start_time": "2022-05-20T18:17:30.690Z"
   },
   {
    "duration": 14,
    "start_time": "2022-05-20T18:18:27.259Z"
   },
   {
    "duration": 56,
    "start_time": "2022-05-23T12:09:23.933Z"
   },
   {
    "duration": 1597,
    "start_time": "2022-05-23T12:09:28.677Z"
   },
   {
    "duration": 303,
    "start_time": "2022-05-23T12:09:30.276Z"
   },
   {
    "duration": 3,
    "start_time": "2022-05-23T12:09:30.582Z"
   },
   {
    "duration": 56,
    "start_time": "2022-05-23T12:09:30.587Z"
   },
   {
    "duration": 103,
    "start_time": "2022-05-23T12:09:30.644Z"
   },
   {
    "duration": 20,
    "start_time": "2022-05-23T12:09:30.749Z"
   },
   {
    "duration": 186,
    "start_time": "2022-05-23T12:09:30.770Z"
   },
   {
    "duration": 7,
    "start_time": "2022-05-23T12:09:30.958Z"
   },
   {
    "duration": 69,
    "start_time": "2022-05-23T12:09:30.967Z"
   },
   {
    "duration": 79,
    "start_time": "2022-05-23T12:09:31.039Z"
   },
   {
    "duration": 60,
    "start_time": "2022-05-23T12:09:31.119Z"
   },
   {
    "duration": 78,
    "start_time": "2022-05-23T12:09:31.181Z"
   },
   {
    "duration": 74,
    "start_time": "2022-05-23T12:09:31.261Z"
   },
   {
    "duration": 153,
    "start_time": "2022-05-23T12:09:31.341Z"
   },
   {
    "duration": 75,
    "start_time": "2022-05-23T12:09:31.495Z"
   },
   {
    "duration": 93,
    "start_time": "2022-05-23T12:09:31.574Z"
   },
   {
    "duration": 51,
    "start_time": "2022-05-23T12:09:31.669Z"
   },
   {
    "duration": 43,
    "start_time": "2022-05-23T12:09:31.725Z"
   },
   {
    "duration": 4,
    "start_time": "2022-05-23T12:11:53.041Z"
   },
   {
    "duration": 1726,
    "start_time": "2022-05-23T12:12:44.526Z"
   },
   {
    "duration": 15,
    "start_time": "2022-05-23T12:12:59.077Z"
   },
   {
    "duration": 816,
    "start_time": "2022-05-23T12:13:17.285Z"
   },
   {
    "duration": 12,
    "start_time": "2022-05-23T12:13:26.231Z"
   },
   {
    "duration": 161,
    "start_time": "2022-05-23T12:13:57.066Z"
   },
   {
    "duration": 10,
    "start_time": "2022-05-23T12:17:12.103Z"
   },
   {
    "duration": 65,
    "start_time": "2022-05-23T12:19:36.808Z"
   },
   {
    "duration": 5,
    "start_time": "2022-05-23T13:43:11.948Z"
   },
   {
    "duration": 76,
    "start_time": "2022-05-23T13:43:11.955Z"
   },
   {
    "duration": 3,
    "start_time": "2022-05-23T13:43:12.033Z"
   },
   {
    "duration": 13,
    "start_time": "2022-05-23T13:43:12.038Z"
   },
   {
    "duration": 74,
    "start_time": "2022-05-23T13:43:12.054Z"
   },
   {
    "duration": 28,
    "start_time": "2022-05-23T13:43:12.129Z"
   },
   {
    "duration": 96,
    "start_time": "2022-05-23T13:43:12.159Z"
   },
   {
    "duration": 7,
    "start_time": "2022-05-23T13:43:12.257Z"
   },
   {
    "duration": 20,
    "start_time": "2022-05-23T13:43:12.266Z"
   },
   {
    "duration": 17,
    "start_time": "2022-05-23T13:43:12.288Z"
   },
   {
    "duration": 7,
    "start_time": "2022-05-23T13:43:12.307Z"
   },
   {
    "duration": 37,
    "start_time": "2022-05-23T13:43:12.315Z"
   },
   {
    "duration": 6,
    "start_time": "2022-05-23T13:43:12.354Z"
   },
   {
    "duration": 33,
    "start_time": "2022-05-23T13:43:12.363Z"
   },
   {
    "duration": 120,
    "start_time": "2022-05-23T13:43:12.398Z"
   },
   {
    "duration": 32,
    "start_time": "2022-05-23T13:43:12.519Z"
   },
   {
    "duration": 21,
    "start_time": "2022-05-23T13:43:12.552Z"
   },
   {
    "duration": 5,
    "start_time": "2022-05-23T13:43:12.575Z"
   },
   {
    "duration": 14,
    "start_time": "2022-05-23T13:43:12.582Z"
   },
   {
    "duration": 13,
    "start_time": "2022-05-23T13:43:12.597Z"
   },
   {
    "duration": 5,
    "start_time": "2022-05-23T13:43:29.523Z"
   },
   {
    "duration": 9,
    "start_time": "2022-05-23T13:43:37.229Z"
   },
   {
    "duration": 370,
    "start_time": "2022-05-23T13:43:45.193Z"
   },
   {
    "duration": 316,
    "start_time": "2022-05-23T14:01:05.059Z"
   },
   {
    "duration": 269,
    "start_time": "2022-05-23T14:01:39.315Z"
   },
   {
    "duration": 330,
    "start_time": "2022-05-23T14:01:55.032Z"
   },
   {
    "duration": 253,
    "start_time": "2022-05-23T14:02:13.754Z"
   },
   {
    "duration": 245,
    "start_time": "2022-05-23T14:02:51.177Z"
   },
   {
    "duration": 6,
    "start_time": "2022-05-23T14:04:26.019Z"
   },
   {
    "duration": 236,
    "start_time": "2022-05-23T14:04:48.554Z"
   },
   {
    "duration": 246,
    "start_time": "2022-05-23T14:05:53.862Z"
   },
   {
    "duration": 265,
    "start_time": "2022-05-23T14:06:30.363Z"
   },
   {
    "duration": 7,
    "start_time": "2022-05-23T14:06:52.220Z"
   },
   {
    "duration": 257,
    "start_time": "2022-05-23T14:06:53.138Z"
   },
   {
    "duration": 239,
    "start_time": "2022-05-23T14:07:08.817Z"
   },
   {
    "duration": 339,
    "start_time": "2022-05-23T14:08:20.233Z"
   },
   {
    "duration": 225,
    "start_time": "2022-05-23T14:08:38.460Z"
   },
   {
    "duration": 215,
    "start_time": "2022-05-23T14:10:04.714Z"
   },
   {
    "duration": 262,
    "start_time": "2022-05-23T14:10:20.185Z"
   },
   {
    "duration": 242,
    "start_time": "2022-05-23T14:10:31.829Z"
   },
   {
    "duration": 218,
    "start_time": "2022-05-23T14:10:44.371Z"
   },
   {
    "duration": 212,
    "start_time": "2022-05-23T14:11:01.471Z"
   },
   {
    "duration": 218,
    "start_time": "2022-05-23T14:11:12.130Z"
   },
   {
    "duration": 265,
    "start_time": "2022-05-23T14:12:04.291Z"
   },
   {
    "duration": 269,
    "start_time": "2022-05-23T14:12:37.549Z"
   },
   {
    "duration": 269,
    "start_time": "2022-05-23T14:12:51.947Z"
   },
   {
    "duration": 381,
    "start_time": "2022-05-23T14:13:07.137Z"
   },
   {
    "duration": 254,
    "start_time": "2022-05-23T14:13:19.197Z"
   },
   {
    "duration": 6,
    "start_time": "2022-05-23T14:23:42.473Z"
   },
   {
    "duration": 77,
    "start_time": "2022-05-23T16:27:19.993Z"
   },
   {
    "duration": 1541,
    "start_time": "2022-05-23T16:27:26.595Z"
   },
   {
    "duration": 118,
    "start_time": "2022-05-23T16:27:28.138Z"
   },
   {
    "duration": 3,
    "start_time": "2022-05-23T16:27:28.258Z"
   },
   {
    "duration": 12,
    "start_time": "2022-05-23T16:27:28.264Z"
   },
   {
    "duration": 68,
    "start_time": "2022-05-23T16:27:28.278Z"
   },
   {
    "duration": 26,
    "start_time": "2022-05-23T16:27:28.347Z"
   },
   {
    "duration": 97,
    "start_time": "2022-05-23T16:27:28.375Z"
   },
   {
    "duration": 6,
    "start_time": "2022-05-23T16:27:28.474Z"
   },
   {
    "duration": 9,
    "start_time": "2022-05-23T16:27:28.482Z"
   },
   {
    "duration": 12,
    "start_time": "2022-05-23T16:27:28.494Z"
   },
   {
    "duration": 6,
    "start_time": "2022-05-23T16:27:28.508Z"
   },
   {
    "duration": 18,
    "start_time": "2022-05-23T16:27:28.541Z"
   },
   {
    "duration": 11,
    "start_time": "2022-05-23T16:27:28.561Z"
   },
   {
    "duration": 70,
    "start_time": "2022-05-23T16:27:28.574Z"
   },
   {
    "duration": 24,
    "start_time": "2022-05-23T16:27:28.646Z"
   },
   {
    "duration": 21,
    "start_time": "2022-05-23T16:27:28.672Z"
   },
   {
    "duration": 21,
    "start_time": "2022-05-23T16:27:28.694Z"
   },
   {
    "duration": 28,
    "start_time": "2022-05-23T16:27:28.716Z"
   },
   {
    "duration": 9,
    "start_time": "2022-05-23T16:27:28.746Z"
   },
   {
    "duration": 8,
    "start_time": "2022-05-23T16:27:28.756Z"
   },
   {
    "duration": 4,
    "start_time": "2022-05-23T16:27:28.765Z"
   },
   {
    "duration": 13,
    "start_time": "2022-05-23T16:27:28.770Z"
   },
   {
    "duration": 358,
    "start_time": "2022-05-23T16:27:28.784Z"
   },
   {
    "duration": 7,
    "start_time": "2022-05-23T16:27:29.144Z"
   },
   {
    "duration": 6,
    "start_time": "2022-05-23T16:27:37.370Z"
   },
   {
    "duration": 70,
    "start_time": "2022-05-23T16:28:27.218Z"
   },
   {
    "duration": 176,
    "start_time": "2022-05-23T16:29:43.261Z"
   },
   {
    "duration": 151,
    "start_time": "2022-05-23T16:30:15.199Z"
   },
   {
    "duration": 198,
    "start_time": "2022-05-23T16:30:36.059Z"
   },
   {
    "duration": 235,
    "start_time": "2022-05-23T16:31:14.172Z"
   },
   {
    "duration": 192,
    "start_time": "2022-05-23T16:42:02.066Z"
   },
   {
    "duration": 1237,
    "start_time": "2022-05-23T16:44:22.458Z"
   },
   {
    "duration": 72,
    "start_time": "2022-05-23T16:44:23.697Z"
   },
   {
    "duration": 3,
    "start_time": "2022-05-23T16:44:25.033Z"
   },
   {
    "duration": 5,
    "start_time": "2022-05-23T16:44:27.697Z"
   },
   {
    "duration": 97,
    "start_time": "2022-05-23T16:44:29.916Z"
   },
   {
    "duration": 8,
    "start_time": "2022-05-23T16:44:47.200Z"
   },
   {
    "duration": 8,
    "start_time": "2022-05-23T16:44:48.076Z"
   },
   {
    "duration": 139,
    "start_time": "2022-05-23T16:44:55.962Z"
   },
   {
    "duration": 7,
    "start_time": "2022-05-23T16:47:33.111Z"
   },
   {
    "duration": 115,
    "start_time": "2022-05-23T16:47:33.121Z"
   },
   {
    "duration": 3,
    "start_time": "2022-05-23T16:47:33.238Z"
   },
   {
    "duration": 10,
    "start_time": "2022-05-23T16:47:33.243Z"
   },
   {
    "duration": 95,
    "start_time": "2022-05-23T16:47:33.255Z"
   },
   {
    "duration": 21,
    "start_time": "2022-05-23T16:47:33.352Z"
   },
   {
    "duration": 118,
    "start_time": "2022-05-23T16:47:33.376Z"
   },
   {
    "duration": 8,
    "start_time": "2022-05-23T16:47:33.495Z"
   },
   {
    "duration": 10,
    "start_time": "2022-05-23T16:47:33.504Z"
   },
   {
    "duration": 14,
    "start_time": "2022-05-23T16:47:33.605Z"
   },
   {
    "duration": 26,
    "start_time": "2022-05-23T16:47:33.621Z"
   },
   {
    "duration": 23,
    "start_time": "2022-05-23T16:47:33.649Z"
   },
   {
    "duration": 7,
    "start_time": "2022-05-23T16:47:33.674Z"
   },
   {
    "duration": 53,
    "start_time": "2022-05-23T16:47:33.683Z"
   },
   {
    "duration": 41,
    "start_time": "2022-05-23T16:47:33.738Z"
   },
   {
    "duration": 36,
    "start_time": "2022-05-23T16:47:33.781Z"
   },
   {
    "duration": 56,
    "start_time": "2022-05-23T16:47:33.820Z"
   },
   {
    "duration": 13,
    "start_time": "2022-05-23T16:47:33.879Z"
   },
   {
    "duration": 13,
    "start_time": "2022-05-23T16:47:33.894Z"
   },
   {
    "duration": 34,
    "start_time": "2022-05-23T16:47:33.910Z"
   },
   {
    "duration": 6,
    "start_time": "2022-05-23T16:47:33.945Z"
   },
   {
    "duration": 21,
    "start_time": "2022-05-23T16:47:33.953Z"
   },
   {
    "duration": 447,
    "start_time": "2022-05-23T16:47:33.976Z"
   },
   {
    "duration": 8,
    "start_time": "2022-05-23T16:47:34.425Z"
   },
   {
    "duration": 13,
    "start_time": "2022-05-23T16:47:34.435Z"
   },
   {
    "duration": 228,
    "start_time": "2022-05-23T16:47:34.452Z"
   },
   {
    "duration": 188,
    "start_time": "2022-05-23T16:48:32.307Z"
   },
   {
    "duration": 38,
    "start_time": "2022-05-23T16:51:37.757Z"
   },
   {
    "duration": 19,
    "start_time": "2022-05-23T16:51:53.578Z"
   },
   {
    "duration": 30,
    "start_time": "2022-05-23T16:52:06.417Z"
   },
   {
    "duration": 16,
    "start_time": "2022-05-23T16:52:23.937Z"
   },
   {
    "duration": 14,
    "start_time": "2022-05-23T16:53:03.068Z"
   },
   {
    "duration": 13,
    "start_time": "2022-05-23T16:53:50.301Z"
   },
   {
    "duration": 249,
    "start_time": "2022-05-23T16:53:59.058Z"
   },
   {
    "duration": 229,
    "start_time": "2022-05-23T16:54:40.704Z"
   },
   {
    "duration": 247,
    "start_time": "2022-05-23T16:55:42.610Z"
   },
   {
    "duration": 13,
    "start_time": "2022-05-23T16:56:48.454Z"
   },
   {
    "duration": 10,
    "start_time": "2022-05-23T16:58:07.153Z"
   },
   {
    "duration": 9,
    "start_time": "2022-05-23T16:58:24.110Z"
   },
   {
    "duration": 25,
    "start_time": "2022-05-23T16:59:42.510Z"
   },
   {
    "duration": 16,
    "start_time": "2022-05-23T17:00:01.158Z"
   },
   {
    "duration": 220,
    "start_time": "2022-05-23T17:01:07.384Z"
   },
   {
    "duration": 10,
    "start_time": "2022-05-23T17:03:56.858Z"
   },
   {
    "duration": 12,
    "start_time": "2022-05-23T17:04:09.117Z"
   },
   {
    "duration": 9,
    "start_time": "2022-05-23T17:04:39.221Z"
   },
   {
    "duration": 563,
    "start_time": "2022-05-23T17:04:56.712Z"
   },
   {
    "duration": 10,
    "start_time": "2022-05-23T17:05:11.775Z"
   },
   {
    "duration": 15,
    "start_time": "2022-05-23T17:05:56.293Z"
   },
   {
    "duration": 16,
    "start_time": "2022-05-23T17:11:33.001Z"
   },
   {
    "duration": 10,
    "start_time": "2022-05-23T17:11:38.431Z"
   },
   {
    "duration": 13,
    "start_time": "2022-05-23T17:14:19.825Z"
   },
   {
    "duration": 11,
    "start_time": "2022-05-23T17:15:44.050Z"
   },
   {
    "duration": 15,
    "start_time": "2022-05-23T17:15:52.351Z"
   },
   {
    "duration": 12,
    "start_time": "2022-05-23T17:16:38.192Z"
   },
   {
    "duration": 17,
    "start_time": "2022-05-23T17:17:58.761Z"
   },
   {
    "duration": 19,
    "start_time": "2022-05-23T17:18:30.933Z"
   },
   {
    "duration": 13,
    "start_time": "2022-05-23T17:20:07.490Z"
   },
   {
    "duration": 17,
    "start_time": "2022-05-23T17:20:47.062Z"
   },
   {
    "duration": 1158,
    "start_time": "2022-05-23T17:21:18.890Z"
   },
   {
    "duration": 76,
    "start_time": "2022-05-23T17:21:20.050Z"
   },
   {
    "duration": 4,
    "start_time": "2022-05-23T17:21:20.128Z"
   },
   {
    "duration": 10,
    "start_time": "2022-05-23T17:21:20.134Z"
   },
   {
    "duration": 73,
    "start_time": "2022-05-23T17:21:20.145Z"
   },
   {
    "duration": 39,
    "start_time": "2022-05-23T17:21:20.219Z"
   },
   {
    "duration": 103,
    "start_time": "2022-05-23T17:21:20.260Z"
   },
   {
    "duration": 8,
    "start_time": "2022-05-23T17:21:20.364Z"
   },
   {
    "duration": 9,
    "start_time": "2022-05-23T17:21:20.373Z"
   },
   {
    "duration": 13,
    "start_time": "2022-05-23T17:21:20.386Z"
   },
   {
    "duration": 8,
    "start_time": "2022-05-23T17:21:20.401Z"
   },
   {
    "duration": 46,
    "start_time": "2022-05-23T17:21:20.412Z"
   },
   {
    "duration": 6,
    "start_time": "2022-05-23T17:21:20.460Z"
   },
   {
    "duration": 56,
    "start_time": "2022-05-23T17:21:20.468Z"
   },
   {
    "duration": 30,
    "start_time": "2022-05-23T17:21:20.526Z"
   },
   {
    "duration": 22,
    "start_time": "2022-05-23T17:21:20.558Z"
   },
   {
    "duration": 22,
    "start_time": "2022-05-23T17:21:20.582Z"
   },
   {
    "duration": 6,
    "start_time": "2022-05-23T17:21:20.606Z"
   },
   {
    "duration": 38,
    "start_time": "2022-05-23T17:21:20.614Z"
   },
   {
    "duration": 9,
    "start_time": "2022-05-23T17:21:20.654Z"
   },
   {
    "duration": 5,
    "start_time": "2022-05-23T17:21:20.664Z"
   },
   {
    "duration": 14,
    "start_time": "2022-05-23T17:21:20.670Z"
   },
   {
    "duration": 340,
    "start_time": "2022-05-23T17:21:20.685Z"
   },
   {
    "duration": 14,
    "start_time": "2022-05-23T17:21:21.026Z"
   },
   {
    "duration": 8,
    "start_time": "2022-05-23T17:21:21.042Z"
   },
   {
    "duration": 219,
    "start_time": "2022-05-23T17:21:21.053Z"
   },
   {
    "duration": 11,
    "start_time": "2022-05-23T17:21:21.273Z"
   },
   {
    "duration": 15,
    "start_time": "2022-05-23T17:21:21.287Z"
   },
   {
    "duration": 12,
    "start_time": "2022-05-23T17:21:21.303Z"
   },
   {
    "duration": 125,
    "start_time": "2022-05-23T17:26:55.208Z"
   },
   {
    "duration": 228,
    "start_time": "2022-05-23T17:27:40.501Z"
   },
   {
    "duration": 1634,
    "start_time": "2022-05-24T09:42:48.753Z"
   },
   {
    "duration": 607,
    "start_time": "2022-05-24T09:42:50.390Z"
   },
   {
    "duration": 5,
    "start_time": "2022-05-24T09:42:50.999Z"
   },
   {
    "duration": 40,
    "start_time": "2022-05-24T09:42:51.006Z"
   },
   {
    "duration": 118,
    "start_time": "2022-05-24T09:42:51.049Z"
   },
   {
    "duration": 27,
    "start_time": "2022-05-24T09:42:51.170Z"
   },
   {
    "duration": 128,
    "start_time": "2022-05-24T09:42:51.199Z"
   },
   {
    "duration": 8,
    "start_time": "2022-05-24T09:42:51.330Z"
   },
   {
    "duration": 12,
    "start_time": "2022-05-24T09:42:51.341Z"
   },
   {
    "duration": 35,
    "start_time": "2022-05-24T09:42:51.355Z"
   },
   {
    "duration": 49,
    "start_time": "2022-05-24T09:42:51.392Z"
   },
   {
    "duration": 32,
    "start_time": "2022-05-24T09:42:51.444Z"
   },
   {
    "duration": 19,
    "start_time": "2022-05-24T09:42:51.478Z"
   },
   {
    "duration": 54,
    "start_time": "2022-05-24T09:42:51.501Z"
   },
   {
    "duration": 33,
    "start_time": "2022-05-24T09:42:51.558Z"
   },
   {
    "duration": 30,
    "start_time": "2022-05-24T09:42:51.593Z"
   },
   {
    "duration": 33,
    "start_time": "2022-05-24T09:42:51.624Z"
   },
   {
    "duration": 6,
    "start_time": "2022-05-24T09:42:51.659Z"
   },
   {
    "duration": 23,
    "start_time": "2022-05-24T09:42:51.667Z"
   },
   {
    "duration": 35,
    "start_time": "2022-05-24T09:42:51.692Z"
   },
   {
    "duration": 7,
    "start_time": "2022-05-24T09:42:51.729Z"
   },
   {
    "duration": 38,
    "start_time": "2022-05-24T09:42:51.738Z"
   },
   {
    "duration": 462,
    "start_time": "2022-05-24T09:42:51.779Z"
   },
   {
    "duration": 7,
    "start_time": "2022-05-24T09:42:52.243Z"
   },
   {
    "duration": 22,
    "start_time": "2022-05-24T09:42:52.253Z"
   },
   {
    "duration": 276,
    "start_time": "2022-05-24T09:42:52.277Z"
   },
   {
    "duration": 16,
    "start_time": "2022-05-24T09:42:52.555Z"
   },
   {
    "duration": 36,
    "start_time": "2022-05-24T09:42:52.573Z"
   },
   {
    "duration": 20,
    "start_time": "2022-05-24T09:42:52.612Z"
   },
   {
    "duration": 345,
    "start_time": "2022-05-24T09:42:52.634Z"
   },
   {
    "duration": 19,
    "start_time": "2022-05-24T10:14:39.112Z"
   },
   {
    "duration": 11,
    "start_time": "2022-05-24T10:15:28.587Z"
   },
   {
    "duration": 354,
    "start_time": "2022-05-24T10:23:36.555Z"
   },
   {
    "duration": 357,
    "start_time": "2022-05-24T10:24:06.916Z"
   },
   {
    "duration": 330,
    "start_time": "2022-05-24T10:25:00.280Z"
   },
   {
    "duration": 325,
    "start_time": "2022-05-24T10:25:34.221Z"
   },
   {
    "duration": 389,
    "start_time": "2022-05-24T10:26:45.900Z"
   },
   {
    "duration": 143,
    "start_time": "2022-05-24T10:28:03.042Z"
   },
   {
    "duration": 160,
    "start_time": "2022-05-24T10:28:23.423Z"
   },
   {
    "duration": 203,
    "start_time": "2022-05-24T10:28:42.718Z"
   },
   {
    "duration": 18,
    "start_time": "2022-05-24T10:51:59.486Z"
   },
   {
    "duration": 9,
    "start_time": "2022-05-24T10:52:20.919Z"
   },
   {
    "duration": 12,
    "start_time": "2022-05-24T10:53:15.566Z"
   },
   {
    "duration": 11,
    "start_time": "2022-05-24T10:53:31.040Z"
   },
   {
    "duration": 9,
    "start_time": "2022-05-24T10:53:59.772Z"
   },
   {
    "duration": 11,
    "start_time": "2022-05-24T10:54:17.477Z"
   },
   {
    "duration": 200,
    "start_time": "2022-05-24T10:55:43.286Z"
   },
   {
    "duration": 202,
    "start_time": "2022-05-24T10:55:57.185Z"
   },
   {
    "duration": 218,
    "start_time": "2022-05-24T10:57:07.919Z"
   },
   {
    "duration": 196,
    "start_time": "2022-05-24T10:57:19.506Z"
   },
   {
    "duration": 228,
    "start_time": "2022-05-24T10:57:30.746Z"
   },
   {
    "duration": 15,
    "start_time": "2022-05-24T10:58:01.241Z"
   },
   {
    "duration": 239,
    "start_time": "2022-05-24T10:58:49.517Z"
   },
   {
    "duration": 231,
    "start_time": "2022-05-24T10:58:59.153Z"
   },
   {
    "duration": 7,
    "start_time": "2022-05-24T14:04:10.759Z"
   },
   {
    "duration": 22,
    "start_time": "2022-05-24T14:15:48.510Z"
   },
   {
    "duration": 18,
    "start_time": "2022-05-24T14:16:02.154Z"
   },
   {
    "duration": 251,
    "start_time": "2022-05-24T14:16:13.045Z"
   },
   {
    "duration": 24,
    "start_time": "2022-05-24T14:16:29.213Z"
   },
   {
    "duration": 23,
    "start_time": "2022-05-24T14:16:34.637Z"
   },
   {
    "duration": 19,
    "start_time": "2022-05-24T14:17:43.059Z"
   },
   {
    "duration": 27,
    "start_time": "2022-05-24T14:51:25.116Z"
   },
   {
    "duration": 18,
    "start_time": "2022-05-24T14:51:38.677Z"
   },
   {
    "duration": 125,
    "start_time": "2022-05-24T14:52:46.660Z"
   },
   {
    "duration": 8,
    "start_time": "2022-05-24T14:53:16.481Z"
   },
   {
    "duration": 220,
    "start_time": "2022-05-24T15:01:22.186Z"
   },
   {
    "duration": 241,
    "start_time": "2022-05-24T15:23:17.536Z"
   },
   {
    "duration": 269,
    "start_time": "2022-05-24T15:23:27.027Z"
   },
   {
    "duration": 233,
    "start_time": "2022-05-24T15:24:04.141Z"
   },
   {
    "duration": 225,
    "start_time": "2022-05-24T15:24:19.562Z"
   },
   {
    "duration": 341,
    "start_time": "2022-05-24T15:24:29.693Z"
   },
   {
    "duration": 236,
    "start_time": "2022-05-24T15:24:57.032Z"
   },
   {
    "duration": 270,
    "start_time": "2022-05-24T15:25:22.320Z"
   },
   {
    "duration": 216,
    "start_time": "2022-05-24T15:25:30.344Z"
   },
   {
    "duration": 941,
    "start_time": "2022-05-24T15:26:36.995Z"
   },
   {
    "duration": 275,
    "start_time": "2022-05-24T15:26:54.472Z"
   },
   {
    "duration": 207,
    "start_time": "2022-05-24T15:27:03.966Z"
   },
   {
    "duration": 244,
    "start_time": "2022-05-24T15:27:16.099Z"
   },
   {
    "duration": 207,
    "start_time": "2022-05-24T15:27:54.561Z"
   },
   {
    "duration": 410,
    "start_time": "2022-05-24T15:29:05.569Z"
   },
   {
    "duration": 474,
    "start_time": "2022-05-24T15:29:45.104Z"
   },
   {
    "duration": 580,
    "start_time": "2022-05-24T15:30:17.199Z"
   },
   {
    "duration": 220,
    "start_time": "2022-05-24T15:30:24.694Z"
   },
   {
    "duration": 456,
    "start_time": "2022-05-24T15:32:20.093Z"
   },
   {
    "duration": 1405,
    "start_time": "2022-05-24T15:50:37.079Z"
   },
   {
    "duration": 304,
    "start_time": "2022-05-24T15:50:38.487Z"
   },
   {
    "duration": 3,
    "start_time": "2022-05-24T15:50:38.793Z"
   },
   {
    "duration": 5,
    "start_time": "2022-05-24T15:50:38.798Z"
   },
   {
    "duration": 100,
    "start_time": "2022-05-24T15:50:38.805Z"
   },
   {
    "duration": 43,
    "start_time": "2022-05-24T15:50:38.907Z"
   },
   {
    "duration": 130,
    "start_time": "2022-05-24T15:50:38.954Z"
   },
   {
    "duration": 7,
    "start_time": "2022-05-24T15:50:39.086Z"
   },
   {
    "duration": 10,
    "start_time": "2022-05-24T15:50:39.095Z"
   },
   {
    "duration": 23,
    "start_time": "2022-05-24T15:50:39.108Z"
   },
   {
    "duration": 28,
    "start_time": "2022-05-24T15:50:39.133Z"
   },
   {
    "duration": 39,
    "start_time": "2022-05-24T15:50:39.163Z"
   },
   {
    "duration": 10,
    "start_time": "2022-05-24T15:50:39.206Z"
   },
   {
    "duration": 110,
    "start_time": "2022-05-24T15:50:39.218Z"
   },
   {
    "duration": 33,
    "start_time": "2022-05-24T15:50:39.330Z"
   },
   {
    "duration": 25,
    "start_time": "2022-05-24T15:50:39.364Z"
   },
   {
    "duration": 53,
    "start_time": "2022-05-24T15:50:39.391Z"
   },
   {
    "duration": 6,
    "start_time": "2022-05-24T15:50:39.446Z"
   },
   {
    "duration": 13,
    "start_time": "2022-05-24T15:50:39.453Z"
   },
   {
    "duration": 9,
    "start_time": "2022-05-24T15:50:39.467Z"
   },
   {
    "duration": 7,
    "start_time": "2022-05-24T15:50:39.477Z"
   },
   {
    "duration": 18,
    "start_time": "2022-05-24T15:50:39.486Z"
   },
   {
    "duration": 397,
    "start_time": "2022-05-24T15:50:39.523Z"
   },
   {
    "duration": 15,
    "start_time": "2022-05-24T15:50:39.922Z"
   },
   {
    "duration": 39,
    "start_time": "2022-05-24T15:50:39.940Z"
   },
   {
    "duration": 245,
    "start_time": "2022-05-24T15:50:39.981Z"
   },
   {
    "duration": 17,
    "start_time": "2022-05-24T15:50:40.228Z"
   },
   {
    "duration": 42,
    "start_time": "2022-05-24T15:50:40.253Z"
   },
   {
    "duration": 24,
    "start_time": "2022-05-24T15:50:40.298Z"
   },
   {
    "duration": 317,
    "start_time": "2022-05-24T15:50:40.335Z"
   },
   {
    "duration": 14,
    "start_time": "2022-05-24T15:50:40.654Z"
   },
   {
    "duration": 10,
    "start_time": "2022-05-24T15:50:40.670Z"
   },
   {
    "duration": 323,
    "start_time": "2022-05-24T15:50:40.682Z"
   },
   {
    "duration": 180,
    "start_time": "2022-05-24T15:50:41.007Z"
   },
   {
    "duration": 21,
    "start_time": "2022-05-24T15:50:41.189Z"
   },
   {
    "duration": 13,
    "start_time": "2022-05-24T15:50:41.223Z"
   },
   {
    "duration": 23,
    "start_time": "2022-05-24T15:50:41.238Z"
   },
   {
    "duration": 13,
    "start_time": "2022-05-24T15:50:41.263Z"
   },
   {
    "duration": 26,
    "start_time": "2022-05-24T15:50:41.280Z"
   },
   {
    "duration": 250,
    "start_time": "2022-05-24T15:50:41.307Z"
   },
   {
    "duration": 13,
    "start_time": "2022-05-24T15:50:41.559Z"
   },
   {
    "duration": 263,
    "start_time": "2022-05-24T15:50:41.574Z"
   },
   {
    "duration": 143,
    "start_time": "2022-05-24T16:04:13.300Z"
   },
   {
    "duration": 9,
    "start_time": "2022-05-24T16:04:23.352Z"
   },
   {
    "duration": 7,
    "start_time": "2022-05-24T16:04:35.813Z"
   },
   {
    "duration": 8,
    "start_time": "2022-05-24T16:04:41.853Z"
   },
   {
    "duration": 237,
    "start_time": "2022-05-24T16:05:18.705Z"
   },
   {
    "duration": 291,
    "start_time": "2022-05-24T16:06:09.981Z"
   },
   {
    "duration": 294,
    "start_time": "2022-05-24T16:07:07.995Z"
   },
   {
    "duration": 380,
    "start_time": "2022-05-24T16:07:21.082Z"
   },
   {
    "duration": 7,
    "start_time": "2022-05-24T16:08:38.379Z"
   },
   {
    "duration": 10,
    "start_time": "2022-05-24T16:08:38.825Z"
   },
   {
    "duration": 361,
    "start_time": "2022-05-24T16:08:39.588Z"
   },
   {
    "duration": 11,
    "start_time": "2022-05-24T16:10:27.040Z"
   },
   {
    "duration": 8,
    "start_time": "2022-05-24T16:10:56.381Z"
   },
   {
    "duration": 273,
    "start_time": "2022-05-24T16:11:19.171Z"
   },
   {
    "duration": 511,
    "start_time": "2022-05-25T13:25:25.268Z"
   },
   {
    "duration": 967,
    "start_time": "2022-05-25T13:25:58.842Z"
   },
   {
    "duration": 1173,
    "start_time": "2022-05-25T13:26:12.971Z"
   },
   {
    "duration": 40,
    "start_time": "2022-05-25T13:27:04.070Z"
   },
   {
    "duration": 4,
    "start_time": "2022-05-25T13:29:10.655Z"
   },
   {
    "duration": 4,
    "start_time": "2022-05-25T13:29:28.253Z"
   },
   {
    "duration": 1342,
    "start_time": "2022-05-25T13:29:45.340Z"
   },
   {
    "duration": 5,
    "start_time": "2022-05-25T13:31:25.617Z"
   },
   {
    "duration": 3,
    "start_time": "2022-05-25T13:31:48.289Z"
   },
   {
    "duration": 30,
    "start_time": "2022-05-25T13:33:28.032Z"
   },
   {
    "duration": 15,
    "start_time": "2022-05-25T13:34:05.960Z"
   },
   {
    "duration": 19,
    "start_time": "2022-05-25T13:34:22.765Z"
   },
   {
    "duration": 34,
    "start_time": "2022-05-25T13:34:24.786Z"
   },
   {
    "duration": 6,
    "start_time": "2022-05-25T13:34:47.198Z"
   },
   {
    "duration": 82,
    "start_time": "2022-05-25T13:34:47.206Z"
   },
   {
    "duration": 5,
    "start_time": "2022-05-25T13:34:47.290Z"
   },
   {
    "duration": 9,
    "start_time": "2022-05-25T13:34:47.298Z"
   },
   {
    "duration": 85,
    "start_time": "2022-05-25T13:34:47.311Z"
   },
   {
    "duration": 31,
    "start_time": "2022-05-25T13:34:47.399Z"
   },
   {
    "duration": 102,
    "start_time": "2022-05-25T13:34:47.432Z"
   },
   {
    "duration": 6,
    "start_time": "2022-05-25T13:34:47.536Z"
   },
   {
    "duration": 13,
    "start_time": "2022-05-25T13:34:47.544Z"
   },
   {
    "duration": 12,
    "start_time": "2022-05-25T13:34:47.560Z"
   },
   {
    "duration": 37,
    "start_time": "2022-05-25T13:34:47.574Z"
   },
   {
    "duration": 32,
    "start_time": "2022-05-25T13:34:47.614Z"
   },
   {
    "duration": 21,
    "start_time": "2022-05-25T13:34:47.648Z"
   },
   {
    "duration": 44,
    "start_time": "2022-05-25T13:34:47.670Z"
   },
   {
    "duration": 28,
    "start_time": "2022-05-25T13:34:47.716Z"
   },
   {
    "duration": 23,
    "start_time": "2022-05-25T13:34:47.746Z"
   },
   {
    "duration": 54,
    "start_time": "2022-05-25T13:34:47.770Z"
   },
   {
    "duration": 5,
    "start_time": "2022-05-25T13:34:47.825Z"
   },
   {
    "duration": 41,
    "start_time": "2022-05-25T13:34:47.832Z"
   },
   {
    "duration": 34,
    "start_time": "2022-05-25T13:34:47.874Z"
   },
   {
    "duration": 33,
    "start_time": "2022-05-25T13:34:47.910Z"
   },
   {
    "duration": 25,
    "start_time": "2022-05-25T13:34:47.944Z"
   },
   {
    "duration": 283,
    "start_time": "2022-05-25T13:34:47.970Z"
   },
   {
    "duration": 5,
    "start_time": "2022-05-25T13:34:48.255Z"
   },
   {
    "duration": 26,
    "start_time": "2022-05-25T13:34:48.261Z"
   },
   {
    "duration": 193,
    "start_time": "2022-05-25T13:34:48.289Z"
   },
   {
    "duration": 25,
    "start_time": "2022-05-25T13:34:48.484Z"
   },
   {
    "duration": 29,
    "start_time": "2022-05-25T13:34:48.515Z"
   },
   {
    "duration": 16,
    "start_time": "2022-05-25T13:34:48.546Z"
   },
   {
    "duration": 247,
    "start_time": "2022-05-25T13:34:48.564Z"
   },
   {
    "duration": 12,
    "start_time": "2022-05-25T13:34:48.813Z"
   },
   {
    "duration": 31,
    "start_time": "2022-05-25T13:34:48.827Z"
   },
   {
    "duration": 321,
    "start_time": "2022-05-25T13:34:48.860Z"
   },
   {
    "duration": 170,
    "start_time": "2022-05-25T13:34:49.183Z"
   },
   {
    "duration": 9,
    "start_time": "2022-05-25T13:34:49.355Z"
   },
   {
    "duration": 9,
    "start_time": "2022-05-25T13:34:49.366Z"
   },
   {
    "duration": 291,
    "start_time": "2022-05-25T13:34:49.377Z"
   },
   {
    "duration": 1288,
    "start_time": "2022-05-25T13:34:49.670Z"
   },
   {
    "duration": 11,
    "start_time": "2022-05-25T13:34:50.961Z"
   },
   {
    "duration": 29,
    "start_time": "2022-05-25T13:34:50.974Z"
   },
   {
    "duration": 16,
    "start_time": "2022-05-25T13:34:51.005Z"
   },
   {
    "duration": 285,
    "start_time": "2022-05-25T13:34:51.024Z"
   },
   {
    "duration": 1257,
    "start_time": "2022-05-25T13:34:51.311Z"
   },
   {
    "duration": 3,
    "start_time": "2022-05-25T13:34:52.570Z"
   },
   {
    "duration": 14,
    "start_time": "2022-05-25T13:34:52.574Z"
   },
   {
    "duration": 14,
    "start_time": "2022-05-25T13:40:07.243Z"
   },
   {
    "duration": 13,
    "start_time": "2022-05-25T13:40:33.095Z"
   },
   {
    "duration": 16,
    "start_time": "2022-05-25T13:40:46.989Z"
   },
   {
    "duration": 9,
    "start_time": "2022-05-25T13:41:04.198Z"
   },
   {
    "duration": 11,
    "start_time": "2022-05-25T13:41:16.185Z"
   },
   {
    "duration": 829,
    "start_time": "2022-05-25T13:53:45.885Z"
   },
   {
    "duration": 3,
    "start_time": "2022-05-25T13:54:01.407Z"
   },
   {
    "duration": 12,
    "start_time": "2022-05-25T13:54:03.151Z"
   },
   {
    "duration": 11,
    "start_time": "2022-05-25T13:56:07.464Z"
   },
   {
    "duration": 91,
    "start_time": "2022-05-25T13:56:07.478Z"
   },
   {
    "duration": 5,
    "start_time": "2022-05-25T13:56:07.574Z"
   },
   {
    "duration": 27,
    "start_time": "2022-05-25T13:56:07.582Z"
   },
   {
    "duration": 119,
    "start_time": "2022-05-25T13:56:07.612Z"
   },
   {
    "duration": 25,
    "start_time": "2022-05-25T13:56:07.734Z"
   },
   {
    "duration": 126,
    "start_time": "2022-05-25T13:56:07.760Z"
   },
   {
    "duration": 8,
    "start_time": "2022-05-25T13:56:07.893Z"
   },
   {
    "duration": 27,
    "start_time": "2022-05-25T13:56:07.903Z"
   },
   {
    "duration": 25,
    "start_time": "2022-05-25T13:56:07.934Z"
   },
   {
    "duration": 21,
    "start_time": "2022-05-25T13:56:07.962Z"
   },
   {
    "duration": 25,
    "start_time": "2022-05-25T13:56:07.985Z"
   },
   {
    "duration": 10,
    "start_time": "2022-05-25T13:56:08.012Z"
   },
   {
    "duration": 27,
    "start_time": "2022-05-25T13:56:08.024Z"
   },
   {
    "duration": 57,
    "start_time": "2022-05-25T13:56:08.054Z"
   },
   {
    "duration": 26,
    "start_time": "2022-05-25T13:56:08.113Z"
   },
   {
    "duration": 28,
    "start_time": "2022-05-25T13:56:08.140Z"
   },
   {
    "duration": 32,
    "start_time": "2022-05-25T13:56:08.170Z"
   },
   {
    "duration": 23,
    "start_time": "2022-05-25T13:56:08.205Z"
   },
   {
    "duration": 14,
    "start_time": "2022-05-25T13:56:08.230Z"
   },
   {
    "duration": 7,
    "start_time": "2022-05-25T13:56:08.247Z"
   },
   {
    "duration": 40,
    "start_time": "2022-05-25T13:56:08.256Z"
   },
   {
    "duration": 287,
    "start_time": "2022-05-25T13:56:08.298Z"
   },
   {
    "duration": 10,
    "start_time": "2022-05-25T13:56:08.587Z"
   },
   {
    "duration": 24,
    "start_time": "2022-05-25T13:56:08.599Z"
   },
   {
    "duration": 252,
    "start_time": "2022-05-25T13:56:08.624Z"
   },
   {
    "duration": 23,
    "start_time": "2022-05-25T13:56:08.879Z"
   },
   {
    "duration": 19,
    "start_time": "2022-05-25T13:56:08.907Z"
   },
   {
    "duration": 24,
    "start_time": "2022-05-25T13:56:08.928Z"
   },
   {
    "duration": 383,
    "start_time": "2022-05-25T13:56:08.954Z"
   },
   {
    "duration": 18,
    "start_time": "2022-05-25T13:56:09.339Z"
   },
   {
    "duration": 38,
    "start_time": "2022-05-25T13:56:09.359Z"
   },
   {
    "duration": 382,
    "start_time": "2022-05-25T13:56:09.400Z"
   },
   {
    "duration": 165,
    "start_time": "2022-05-25T13:56:09.785Z"
   },
   {
    "duration": 11,
    "start_time": "2022-05-25T13:56:09.952Z"
   },
   {
    "duration": 11,
    "start_time": "2022-05-25T13:56:09.965Z"
   },
   {
    "duration": 286,
    "start_time": "2022-05-25T13:56:09.994Z"
   },
   {
    "duration": 1326,
    "start_time": "2022-05-25T13:56:10.282Z"
   },
   {
    "duration": 16,
    "start_time": "2022-05-25T13:56:11.610Z"
   },
   {
    "duration": 24,
    "start_time": "2022-05-25T13:56:11.645Z"
   },
   {
    "duration": 24,
    "start_time": "2022-05-25T13:56:11.670Z"
   },
   {
    "duration": 301,
    "start_time": "2022-05-25T13:56:11.697Z"
   },
   {
    "duration": 928,
    "start_time": "2022-05-25T13:56:12.000Z"
   },
   {
    "duration": 5,
    "start_time": "2022-05-25T13:56:12.930Z"
   },
   {
    "duration": 21,
    "start_time": "2022-05-25T13:56:12.937Z"
   },
   {
    "duration": 1258,
    "start_time": "2022-05-25T13:58:54.225Z"
   },
   {
    "duration": 72,
    "start_time": "2022-05-25T13:58:55.485Z"
   },
   {
    "duration": 3,
    "start_time": "2022-05-25T13:58:55.559Z"
   },
   {
    "duration": 6,
    "start_time": "2022-05-25T13:58:55.565Z"
   },
   {
    "duration": 74,
    "start_time": "2022-05-25T13:58:55.572Z"
   },
   {
    "duration": 45,
    "start_time": "2022-05-25T13:58:55.648Z"
   },
   {
    "duration": 99,
    "start_time": "2022-05-25T13:58:55.696Z"
   },
   {
    "duration": 7,
    "start_time": "2022-05-25T13:58:55.797Z"
   },
   {
    "duration": 9,
    "start_time": "2022-05-25T13:58:55.806Z"
   },
   {
    "duration": 17,
    "start_time": "2022-05-25T13:58:55.819Z"
   },
   {
    "duration": 7,
    "start_time": "2022-05-25T13:58:55.838Z"
   },
   {
    "duration": 48,
    "start_time": "2022-05-25T13:58:55.846Z"
   },
   {
    "duration": 8,
    "start_time": "2022-05-25T13:58:55.896Z"
   },
   {
    "duration": 30,
    "start_time": "2022-05-25T13:58:55.905Z"
   },
   {
    "duration": 29,
    "start_time": "2022-05-25T13:58:55.937Z"
   },
   {
    "duration": 46,
    "start_time": "2022-05-25T13:58:55.968Z"
   },
   {
    "duration": 23,
    "start_time": "2022-05-25T13:58:56.016Z"
   },
   {
    "duration": 8,
    "start_time": "2022-05-25T13:58:56.041Z"
   },
   {
    "duration": 50,
    "start_time": "2022-05-25T13:58:56.050Z"
   },
   {
    "duration": 9,
    "start_time": "2022-05-25T13:58:56.103Z"
   },
   {
    "duration": 5,
    "start_time": "2022-05-25T13:58:56.114Z"
   },
   {
    "duration": 11,
    "start_time": "2022-05-25T13:58:56.121Z"
   },
   {
    "duration": 335,
    "start_time": "2022-05-25T13:58:56.133Z"
   },
   {
    "duration": 19,
    "start_time": "2022-05-25T13:58:56.469Z"
   },
   {
    "duration": 15,
    "start_time": "2022-05-25T13:58:56.490Z"
   },
   {
    "duration": 177,
    "start_time": "2022-05-25T13:58:56.507Z"
   },
   {
    "duration": 18,
    "start_time": "2022-05-25T13:58:56.685Z"
   },
   {
    "duration": 19,
    "start_time": "2022-05-25T13:58:56.706Z"
   },
   {
    "duration": 11,
    "start_time": "2022-05-25T13:58:56.726Z"
   },
   {
    "duration": 268,
    "start_time": "2022-05-25T13:58:56.739Z"
   },
   {
    "duration": 13,
    "start_time": "2022-05-25T13:58:57.008Z"
   },
   {
    "duration": 8,
    "start_time": "2022-05-25T13:58:57.023Z"
   },
   {
    "duration": 299,
    "start_time": "2022-05-25T13:58:57.034Z"
   },
   {
    "duration": 159,
    "start_time": "2022-05-25T13:58:57.337Z"
   },
   {
    "duration": 8,
    "start_time": "2022-05-25T13:58:57.498Z"
   },
   {
    "duration": 8,
    "start_time": "2022-05-25T13:58:57.508Z"
   },
   {
    "duration": 282,
    "start_time": "2022-05-25T13:58:57.517Z"
   },
   {
    "duration": 1243,
    "start_time": "2022-05-25T13:58:57.801Z"
   },
   {
    "duration": 9,
    "start_time": "2022-05-25T13:58:59.046Z"
   },
   {
    "duration": 9,
    "start_time": "2022-05-25T13:58:59.056Z"
   },
   {
    "duration": 49,
    "start_time": "2022-05-25T13:58:59.066Z"
   },
   {
    "duration": 397,
    "start_time": "2022-05-25T13:58:59.117Z"
   },
   {
    "duration": 812,
    "start_time": "2022-05-25T13:58:59.516Z"
   },
   {
    "duration": 4,
    "start_time": "2022-05-25T13:59:00.331Z"
   },
   {
    "duration": 36,
    "start_time": "2022-05-25T13:59:00.337Z"
   },
   {
    "duration": 135,
    "start_time": "2022-05-25T14:03:10.608Z"
   },
   {
    "duration": 168,
    "start_time": "2022-05-25T14:04:51.141Z"
   },
   {
    "duration": 1254,
    "start_time": "2022-05-25T14:04:56.304Z"
   },
   {
    "duration": 1472,
    "start_time": "2022-05-25T14:06:13.842Z"
   },
   {
    "duration": 77,
    "start_time": "2022-05-25T14:06:15.316Z"
   },
   {
    "duration": 3,
    "start_time": "2022-05-25T14:06:15.396Z"
   },
   {
    "duration": 8,
    "start_time": "2022-05-25T14:06:15.401Z"
   },
   {
    "duration": 169,
    "start_time": "2022-05-25T14:06:15.411Z"
   },
   {
    "duration": 18,
    "start_time": "2022-05-25T14:06:15.594Z"
   },
   {
    "duration": 103,
    "start_time": "2022-05-25T14:06:15.615Z"
   },
   {
    "duration": 7,
    "start_time": "2022-05-25T14:06:15.720Z"
   },
   {
    "duration": 12,
    "start_time": "2022-05-25T14:06:15.728Z"
   },
   {
    "duration": 16,
    "start_time": "2022-05-25T14:06:15.743Z"
   },
   {
    "duration": 11,
    "start_time": "2022-05-25T14:06:15.761Z"
   },
   {
    "duration": 37,
    "start_time": "2022-05-25T14:06:15.774Z"
   },
   {
    "duration": 11,
    "start_time": "2022-05-25T14:06:15.813Z"
   },
   {
    "duration": 26,
    "start_time": "2022-05-25T14:06:15.828Z"
   },
   {
    "duration": 50,
    "start_time": "2022-05-25T14:06:15.857Z"
   },
   {
    "duration": 23,
    "start_time": "2022-05-25T14:06:15.909Z"
   },
   {
    "duration": 23,
    "start_time": "2022-05-25T14:06:15.934Z"
   },
   {
    "duration": 34,
    "start_time": "2022-05-25T14:06:15.960Z"
   },
   {
    "duration": 11,
    "start_time": "2022-05-25T14:06:15.997Z"
   },
   {
    "duration": 10,
    "start_time": "2022-05-25T14:06:16.010Z"
   },
   {
    "duration": 5,
    "start_time": "2022-05-25T14:06:16.022Z"
   },
   {
    "duration": 14,
    "start_time": "2022-05-25T14:06:16.029Z"
   },
   {
    "duration": 285,
    "start_time": "2022-05-25T14:06:16.045Z"
   },
   {
    "duration": 6,
    "start_time": "2022-05-25T14:06:16.332Z"
   },
   {
    "duration": 11,
    "start_time": "2022-05-25T14:06:16.339Z"
   },
   {
    "duration": 201,
    "start_time": "2022-05-25T14:06:16.352Z"
   },
   {
    "duration": 13,
    "start_time": "2022-05-25T14:06:16.554Z"
   },
   {
    "duration": 36,
    "start_time": "2022-05-25T14:06:16.569Z"
   },
   {
    "duration": 14,
    "start_time": "2022-05-25T14:06:16.607Z"
   },
   {
    "duration": 250,
    "start_time": "2022-05-25T14:06:16.622Z"
   },
   {
    "duration": 22,
    "start_time": "2022-05-25T14:06:16.873Z"
   },
   {
    "duration": 10,
    "start_time": "2022-05-25T14:06:16.897Z"
   },
   {
    "duration": 286,
    "start_time": "2022-05-25T14:06:16.909Z"
   },
   {
    "duration": 155,
    "start_time": "2022-05-25T14:06:17.197Z"
   },
   {
    "duration": 9,
    "start_time": "2022-05-25T14:06:17.354Z"
   },
   {
    "duration": 30,
    "start_time": "2022-05-25T14:06:17.365Z"
   },
   {
    "duration": 277,
    "start_time": "2022-05-25T14:06:17.396Z"
   },
   {
    "duration": 1153,
    "start_time": "2022-05-25T14:06:17.675Z"
   },
   {
    "duration": 11,
    "start_time": "2022-05-25T14:06:18.830Z"
   },
   {
    "duration": 23,
    "start_time": "2022-05-25T14:06:18.843Z"
   },
   {
    "duration": 26,
    "start_time": "2022-05-25T14:06:18.871Z"
   },
   {
    "duration": 342,
    "start_time": "2022-05-25T14:06:18.899Z"
   },
   {
    "duration": 938,
    "start_time": "2022-05-25T14:06:19.242Z"
   },
   {
    "duration": 3,
    "start_time": "2022-05-25T14:06:20.182Z"
   },
   {
    "duration": 3,
    "start_time": "2022-05-25T14:07:44.017Z"
   },
   {
    "duration": 124,
    "start_time": "2022-05-25T14:22:20.587Z"
   },
   {
    "duration": 12,
    "start_time": "2022-05-25T14:22:33.432Z"
   },
   {
    "duration": 16,
    "start_time": "2022-05-25T14:22:44.920Z"
   },
   {
    "duration": 1169,
    "start_time": "2022-05-25T14:23:22.962Z"
   },
   {
    "duration": 66,
    "start_time": "2022-05-25T14:23:24.133Z"
   },
   {
    "duration": 3,
    "start_time": "2022-05-25T14:23:24.200Z"
   },
   {
    "duration": 8,
    "start_time": "2022-05-25T14:23:24.205Z"
   },
   {
    "duration": 146,
    "start_time": "2022-05-25T14:23:24.215Z"
   },
   {
    "duration": 36,
    "start_time": "2022-05-25T14:23:24.363Z"
   },
   {
    "duration": 75,
    "start_time": "2022-05-25T14:23:24.401Z"
   },
   {
    "duration": 19,
    "start_time": "2022-05-25T14:23:24.478Z"
   },
   {
    "duration": 8,
    "start_time": "2022-05-25T14:23:24.499Z"
   },
   {
    "duration": 13,
    "start_time": "2022-05-25T14:23:24.508Z"
   },
   {
    "duration": 6,
    "start_time": "2022-05-25T14:23:24.523Z"
   },
   {
    "duration": 17,
    "start_time": "2022-05-25T14:23:24.531Z"
   },
   {
    "duration": 6,
    "start_time": "2022-05-25T14:23:24.550Z"
   },
   {
    "duration": 54,
    "start_time": "2022-05-25T14:23:24.558Z"
   },
   {
    "duration": 25,
    "start_time": "2022-05-25T14:23:24.614Z"
   },
   {
    "duration": 21,
    "start_time": "2022-05-25T14:23:24.640Z"
   },
   {
    "duration": 42,
    "start_time": "2022-05-25T14:23:24.663Z"
   },
   {
    "duration": 6,
    "start_time": "2022-05-25T14:23:24.707Z"
   },
   {
    "duration": 11,
    "start_time": "2022-05-25T14:23:24.714Z"
   },
   {
    "duration": 9,
    "start_time": "2022-05-25T14:23:24.726Z"
   },
   {
    "duration": 3,
    "start_time": "2022-05-25T14:23:24.736Z"
   },
   {
    "duration": 9,
    "start_time": "2022-05-25T14:23:24.741Z"
   },
   {
    "duration": 264,
    "start_time": "2022-05-25T14:23:24.751Z"
   },
   {
    "duration": 5,
    "start_time": "2022-05-25T14:23:25.017Z"
   },
   {
    "duration": 13,
    "start_time": "2022-05-25T14:23:25.024Z"
   },
   {
    "duration": 180,
    "start_time": "2022-05-25T14:23:25.038Z"
   },
   {
    "duration": 11,
    "start_time": "2022-05-25T14:23:25.220Z"
   },
   {
    "duration": 13,
    "start_time": "2022-05-25T14:23:25.232Z"
   },
   {
    "duration": 10,
    "start_time": "2022-05-25T14:23:25.247Z"
   },
   {
    "duration": 246,
    "start_time": "2022-05-25T14:23:25.258Z"
   },
   {
    "duration": 12,
    "start_time": "2022-05-25T14:23:25.505Z"
   },
   {
    "duration": 8,
    "start_time": "2022-05-25T14:23:25.518Z"
   },
   {
    "duration": 275,
    "start_time": "2022-05-25T14:23:25.527Z"
   },
   {
    "duration": 145,
    "start_time": "2022-05-25T14:23:25.805Z"
   },
   {
    "duration": 8,
    "start_time": "2022-05-25T14:23:25.953Z"
   },
   {
    "duration": 7,
    "start_time": "2022-05-25T14:23:25.963Z"
   },
   {
    "duration": 281,
    "start_time": "2022-05-25T14:23:25.972Z"
   },
   {
    "duration": 1108,
    "start_time": "2022-05-25T14:23:26.255Z"
   },
   {
    "duration": 8,
    "start_time": "2022-05-25T14:23:27.365Z"
   },
   {
    "duration": 36,
    "start_time": "2022-05-25T14:23:27.374Z"
   },
   {
    "duration": 15,
    "start_time": "2022-05-25T14:23:27.414Z"
   },
   {
    "duration": 297,
    "start_time": "2022-05-25T14:23:27.431Z"
   },
   {
    "duration": 1126,
    "start_time": "2022-05-25T14:23:27.730Z"
   },
   {
    "duration": 3,
    "start_time": "2022-05-25T14:23:28.858Z"
   },
   {
    "duration": 23,
    "start_time": "2022-05-25T14:23:28.862Z"
   },
   {
    "duration": 112,
    "start_time": "2022-05-25T14:28:14.695Z"
   },
   {
    "duration": 11,
    "start_time": "2022-05-25T14:28:32.331Z"
   },
   {
    "duration": 1229,
    "start_time": "2022-05-25T14:29:15.299Z"
   },
   {
    "duration": 67,
    "start_time": "2022-05-25T14:29:16.530Z"
   },
   {
    "duration": 4,
    "start_time": "2022-05-25T14:29:16.600Z"
   },
   {
    "duration": 10,
    "start_time": "2022-05-25T14:29:16.607Z"
   },
   {
    "duration": 149,
    "start_time": "2022-05-25T14:29:16.620Z"
   },
   {
    "duration": 51,
    "start_time": "2022-05-25T14:29:16.770Z"
   },
   {
    "duration": 96,
    "start_time": "2022-05-25T14:29:16.822Z"
   },
   {
    "duration": 7,
    "start_time": "2022-05-25T14:29:16.920Z"
   },
   {
    "duration": 7,
    "start_time": "2022-05-25T14:29:16.929Z"
   },
   {
    "duration": 12,
    "start_time": "2022-05-25T14:29:16.938Z"
   },
   {
    "duration": 7,
    "start_time": "2022-05-25T14:29:16.952Z"
   },
   {
    "duration": 47,
    "start_time": "2022-05-25T14:29:16.961Z"
   },
   {
    "duration": 9,
    "start_time": "2022-05-25T14:29:17.010Z"
   },
   {
    "duration": 37,
    "start_time": "2022-05-25T14:29:17.022Z"
   },
   {
    "duration": 24,
    "start_time": "2022-05-25T14:29:17.061Z"
   },
   {
    "duration": 30,
    "start_time": "2022-05-25T14:29:17.087Z"
   },
   {
    "duration": 22,
    "start_time": "2022-05-25T14:29:17.119Z"
   },
   {
    "duration": 6,
    "start_time": "2022-05-25T14:29:17.143Z"
   },
   {
    "duration": 12,
    "start_time": "2022-05-25T14:29:17.151Z"
   },
   {
    "duration": 38,
    "start_time": "2022-05-25T14:29:17.164Z"
   },
   {
    "duration": 7,
    "start_time": "2022-05-25T14:29:17.204Z"
   },
   {
    "duration": 15,
    "start_time": "2022-05-25T14:29:17.213Z"
   },
   {
    "duration": 332,
    "start_time": "2022-05-25T14:29:17.230Z"
   },
   {
    "duration": 5,
    "start_time": "2022-05-25T14:29:17.564Z"
   },
   {
    "duration": 11,
    "start_time": "2022-05-25T14:29:17.570Z"
   },
   {
    "duration": 187,
    "start_time": "2022-05-25T14:29:17.582Z"
   },
   {
    "duration": 10,
    "start_time": "2022-05-25T14:29:17.771Z"
   },
   {
    "duration": 36,
    "start_time": "2022-05-25T14:29:17.782Z"
   },
   {
    "duration": 13,
    "start_time": "2022-05-25T14:29:17.821Z"
   },
   {
    "duration": 260,
    "start_time": "2022-05-25T14:29:17.836Z"
   },
   {
    "duration": 22,
    "start_time": "2022-05-25T14:29:18.099Z"
   },
   {
    "duration": 7,
    "start_time": "2022-05-25T14:29:18.123Z"
   },
   {
    "duration": 300,
    "start_time": "2022-05-25T14:29:18.132Z"
   },
   {
    "duration": 140,
    "start_time": "2022-05-25T14:29:18.434Z"
   },
   {
    "duration": 8,
    "start_time": "2022-05-25T14:29:18.575Z"
   },
   {
    "duration": 18,
    "start_time": "2022-05-25T14:29:18.585Z"
   },
   {
    "duration": 241,
    "start_time": "2022-05-25T14:29:18.605Z"
   },
   {
    "duration": 1143,
    "start_time": "2022-05-25T14:29:18.848Z"
   },
   {
    "duration": 12,
    "start_time": "2022-05-25T14:29:19.992Z"
   },
   {
    "duration": 37,
    "start_time": "2022-05-25T14:29:20.006Z"
   },
   {
    "duration": 33,
    "start_time": "2022-05-25T14:29:20.048Z"
   },
   {
    "duration": 296,
    "start_time": "2022-05-25T14:29:20.083Z"
   },
   {
    "duration": 1042,
    "start_time": "2022-05-25T14:29:20.381Z"
   },
   {
    "duration": 2,
    "start_time": "2022-05-25T14:29:21.425Z"
   },
   {
    "duration": 4,
    "start_time": "2022-05-25T14:34:11.322Z"
   },
   {
    "duration": 11,
    "start_time": "2022-05-25T14:34:18.442Z"
   },
   {
    "duration": 16,
    "start_time": "2022-05-25T14:38:11.426Z"
   },
   {
    "duration": 17,
    "start_time": "2022-05-25T14:39:46.971Z"
   },
   {
    "duration": 123,
    "start_time": "2022-05-25T15:34:05.813Z"
   },
   {
    "duration": 35,
    "start_time": "2022-05-25T15:34:26.222Z"
   },
   {
    "duration": 20,
    "start_time": "2022-05-25T15:34:45.193Z"
   },
   {
    "duration": 12,
    "start_time": "2022-05-25T15:34:58.314Z"
   },
   {
    "duration": 1798,
    "start_time": "2022-05-25T15:36:11.992Z"
   },
   {
    "duration": 21,
    "start_time": "2022-05-25T15:36:40.112Z"
   },
   {
    "duration": 16,
    "start_time": "2022-05-25T15:36:59.781Z"
   },
   {
    "duration": 5,
    "start_time": "2022-05-25T15:37:03.102Z"
   },
   {
    "duration": 220,
    "start_time": "2022-05-25T15:37:03.110Z"
   },
   {
    "duration": 3,
    "start_time": "2022-05-25T15:37:03.331Z"
   },
   {
    "duration": 7,
    "start_time": "2022-05-25T15:37:03.335Z"
   },
   {
    "duration": 58,
    "start_time": "2022-05-25T15:37:03.344Z"
   },
   {
    "duration": 27,
    "start_time": "2022-05-25T15:37:03.404Z"
   },
   {
    "duration": 90,
    "start_time": "2022-05-25T15:37:03.432Z"
   },
   {
    "duration": 6,
    "start_time": "2022-05-25T15:37:03.524Z"
   },
   {
    "duration": 14,
    "start_time": "2022-05-25T15:37:03.532Z"
   },
   {
    "duration": 11,
    "start_time": "2022-05-25T15:37:03.547Z"
   },
   {
    "duration": 6,
    "start_time": "2022-05-25T15:37:03.560Z"
   },
   {
    "duration": 37,
    "start_time": "2022-05-25T15:37:03.567Z"
   },
   {
    "duration": 7,
    "start_time": "2022-05-25T15:37:03.605Z"
   },
   {
    "duration": 21,
    "start_time": "2022-05-25T15:37:03.616Z"
   },
   {
    "duration": 25,
    "start_time": "2022-05-25T15:37:03.639Z"
   },
   {
    "duration": 46,
    "start_time": "2022-05-25T15:37:03.665Z"
   },
   {
    "duration": 19,
    "start_time": "2022-05-25T15:37:03.713Z"
   },
   {
    "duration": 5,
    "start_time": "2022-05-25T15:37:03.733Z"
   },
   {
    "duration": 11,
    "start_time": "2022-05-25T15:37:03.739Z"
   },
   {
    "duration": 11,
    "start_time": "2022-05-25T15:37:03.751Z"
   },
   {
    "duration": 32,
    "start_time": "2022-05-25T15:37:03.763Z"
   },
   {
    "duration": 11,
    "start_time": "2022-05-25T15:37:03.797Z"
   },
   {
    "duration": 233,
    "start_time": "2022-05-25T15:37:03.810Z"
   },
   {
    "duration": 6,
    "start_time": "2022-05-25T15:37:04.045Z"
   },
   {
    "duration": 14,
    "start_time": "2022-05-25T15:37:04.052Z"
   },
   {
    "duration": 172,
    "start_time": "2022-05-25T15:37:04.068Z"
   },
   {
    "duration": 11,
    "start_time": "2022-05-25T15:37:04.242Z"
   },
   {
    "duration": 14,
    "start_time": "2022-05-25T15:37:04.255Z"
   },
   {
    "duration": 32,
    "start_time": "2022-05-25T15:37:04.270Z"
   },
   {
    "duration": 240,
    "start_time": "2022-05-25T15:37:04.304Z"
   },
   {
    "duration": 11,
    "start_time": "2022-05-25T15:37:04.546Z"
   },
   {
    "duration": 8,
    "start_time": "2022-05-25T15:37:04.559Z"
   },
   {
    "duration": 249,
    "start_time": "2022-05-25T15:37:04.569Z"
   },
   {
    "duration": 134,
    "start_time": "2022-05-25T15:37:04.820Z"
   },
   {
    "duration": 7,
    "start_time": "2022-05-25T15:37:04.956Z"
   },
   {
    "duration": 10,
    "start_time": "2022-05-25T15:37:04.965Z"
   },
   {
    "duration": 245,
    "start_time": "2022-05-25T15:37:04.976Z"
   },
   {
    "duration": 1148,
    "start_time": "2022-05-25T15:37:05.222Z"
   },
   {
    "duration": 9,
    "start_time": "2022-05-25T15:37:06.372Z"
   },
   {
    "duration": 18,
    "start_time": "2022-05-25T15:37:06.382Z"
   },
   {
    "duration": 16,
    "start_time": "2022-05-25T15:37:06.403Z"
   },
   {
    "duration": 277,
    "start_time": "2022-05-25T15:37:06.421Z"
   },
   {
    "duration": 946,
    "start_time": "2022-05-25T15:37:06.700Z"
   },
   {
    "duration": 3,
    "start_time": "2022-05-25T15:37:07.648Z"
   },
   {
    "duration": 25,
    "start_time": "2022-05-25T15:37:07.652Z"
   },
   {
    "duration": 25,
    "start_time": "2022-05-25T15:37:07.679Z"
   },
   {
    "duration": 11,
    "start_time": "2022-05-25T15:37:07.705Z"
   },
   {
    "duration": 1872,
    "start_time": "2022-05-25T15:37:07.717Z"
   },
   {
    "duration": 4,
    "start_time": "2022-05-25T15:42:47.415Z"
   },
   {
    "duration": 31,
    "start_time": "2022-05-25T15:43:02.185Z"
   },
   {
    "duration": 13,
    "start_time": "2022-05-25T15:43:02.863Z"
   },
   {
    "duration": 1933,
    "start_time": "2022-05-25T15:44:36.682Z"
   },
   {
    "duration": 21,
    "start_time": "2022-05-25T15:45:44.395Z"
   },
   {
    "duration": 12,
    "start_time": "2022-05-25T15:45:44.897Z"
   },
   {
    "duration": 2094,
    "start_time": "2022-05-25T15:45:45.554Z"
   },
   {
    "duration": 16,
    "start_time": "2022-05-25T15:46:24.863Z"
   },
   {
    "duration": 22,
    "start_time": "2022-05-25T15:46:31.696Z"
   },
   {
    "duration": 1869,
    "start_time": "2022-05-25T15:46:32.193Z"
   },
   {
    "duration": 27,
    "start_time": "2022-05-25T15:52:43.853Z"
   },
   {
    "duration": 1939,
    "start_time": "2022-05-25T15:52:44.359Z"
   },
   {
    "duration": 5,
    "start_time": "2022-05-26T12:41:17.612Z"
   },
   {
    "duration": 71,
    "start_time": "2022-05-26T12:41:17.618Z"
   },
   {
    "duration": 3,
    "start_time": "2022-05-26T12:41:17.691Z"
   },
   {
    "duration": 16,
    "start_time": "2022-05-26T12:41:17.696Z"
   },
   {
    "duration": 76,
    "start_time": "2022-05-26T12:41:17.713Z"
   },
   {
    "duration": 42,
    "start_time": "2022-05-26T12:41:17.791Z"
   },
   {
    "duration": 101,
    "start_time": "2022-05-26T12:41:17.835Z"
   },
   {
    "duration": 8,
    "start_time": "2022-05-26T12:41:17.938Z"
   },
   {
    "duration": 20,
    "start_time": "2022-05-26T12:41:17.948Z"
   },
   {
    "duration": 19,
    "start_time": "2022-05-26T12:41:17.972Z"
   },
   {
    "duration": 10,
    "start_time": "2022-05-26T12:41:17.993Z"
   },
   {
    "duration": 37,
    "start_time": "2022-05-26T12:41:18.005Z"
   },
   {
    "duration": 6,
    "start_time": "2022-05-26T12:41:18.044Z"
   },
   {
    "duration": 27,
    "start_time": "2022-05-26T12:41:18.052Z"
   },
   {
    "duration": 47,
    "start_time": "2022-05-26T12:41:18.081Z"
   },
   {
    "duration": 25,
    "start_time": "2022-05-26T12:41:18.130Z"
   },
   {
    "duration": 21,
    "start_time": "2022-05-26T12:41:18.157Z"
   },
   {
    "duration": 4,
    "start_time": "2022-05-26T12:41:18.180Z"
   },
   {
    "duration": 19,
    "start_time": "2022-05-26T12:41:18.186Z"
   },
   {
    "duration": 9,
    "start_time": "2022-05-26T12:41:18.227Z"
   },
   {
    "duration": 5,
    "start_time": "2022-05-26T12:41:18.238Z"
   },
   {
    "duration": 12,
    "start_time": "2022-05-26T12:41:18.245Z"
   },
   {
    "duration": 255,
    "start_time": "2022-05-26T12:41:18.259Z"
   },
   {
    "duration": 15,
    "start_time": "2022-05-26T12:41:18.516Z"
   },
   {
    "duration": 8,
    "start_time": "2022-05-26T12:41:18.533Z"
   },
   {
    "duration": 188,
    "start_time": "2022-05-26T12:41:18.543Z"
   },
   {
    "duration": 12,
    "start_time": "2022-05-26T12:41:18.733Z"
   },
   {
    "duration": 15,
    "start_time": "2022-05-26T12:41:18.749Z"
   },
   {
    "duration": 11,
    "start_time": "2022-05-26T12:41:18.765Z"
   },
   {
    "duration": 268,
    "start_time": "2022-05-26T12:41:18.777Z"
   },
   {
    "duration": 16,
    "start_time": "2022-05-26T12:41:19.046Z"
   },
   {
    "duration": 9,
    "start_time": "2022-05-26T12:41:19.063Z"
   },
   {
    "duration": 311,
    "start_time": "2022-05-26T12:41:19.074Z"
   },
   {
    "duration": 150,
    "start_time": "2022-05-26T12:41:19.387Z"
   },
   {
    "duration": 8,
    "start_time": "2022-05-26T12:41:19.539Z"
   },
   {
    "duration": 10,
    "start_time": "2022-05-26T12:41:19.548Z"
   },
   {
    "duration": 260,
    "start_time": "2022-05-26T12:41:19.559Z"
   },
   {
    "duration": 1269,
    "start_time": "2022-05-26T12:41:19.821Z"
   },
   {
    "duration": 12,
    "start_time": "2022-05-26T12:41:21.092Z"
   },
   {
    "duration": 25,
    "start_time": "2022-05-26T12:41:21.105Z"
   },
   {
    "duration": 22,
    "start_time": "2022-05-26T12:41:21.132Z"
   },
   {
    "duration": 327,
    "start_time": "2022-05-26T12:41:21.155Z"
   },
   {
    "duration": 905,
    "start_time": "2022-05-26T12:41:21.484Z"
   },
   {
    "duration": 3,
    "start_time": "2022-05-26T12:41:22.390Z"
   },
   {
    "duration": 23,
    "start_time": "2022-05-26T12:41:22.395Z"
   },
   {
    "duration": 28,
    "start_time": "2022-05-26T12:41:22.419Z"
   },
   {
    "duration": 2160,
    "start_time": "2022-05-26T12:41:22.449Z"
   },
   {
    "duration": 259,
    "start_time": "2022-05-26T13:23:23.687Z"
   },
   {
    "duration": 239,
    "start_time": "2022-05-26T13:23:38.099Z"
   },
   {
    "duration": 243,
    "start_time": "2022-05-26T13:23:53.133Z"
   },
   {
    "duration": 232,
    "start_time": "2022-05-26T13:24:02.268Z"
   },
   {
    "duration": 21,
    "start_time": "2022-05-26T14:12:05.845Z"
   },
   {
    "duration": 280,
    "start_time": "2022-05-26T14:12:06.608Z"
   },
   {
    "duration": 21,
    "start_time": "2022-05-26T14:12:44.030Z"
   },
   {
    "duration": 198,
    "start_time": "2022-05-26T14:12:44.640Z"
   },
   {
    "duration": 19,
    "start_time": "2022-05-26T14:13:43.890Z"
   },
   {
    "duration": 2036,
    "start_time": "2022-05-26T14:13:44.382Z"
   },
   {
    "duration": 22,
    "start_time": "2022-05-26T14:19:22.713Z"
   },
   {
    "duration": 239,
    "start_time": "2022-05-26T14:19:23.939Z"
   },
   {
    "duration": 26,
    "start_time": "2022-05-26T14:21:24.344Z"
   },
   {
    "duration": 2065,
    "start_time": "2022-05-26T14:21:24.841Z"
   },
   {
    "duration": 1267,
    "start_time": "2022-05-26T14:44:17.818Z"
   },
   {
    "duration": 74,
    "start_time": "2022-05-26T14:44:19.087Z"
   },
   {
    "duration": 3,
    "start_time": "2022-05-26T14:44:19.162Z"
   },
   {
    "duration": 6,
    "start_time": "2022-05-26T14:44:19.167Z"
   },
   {
    "duration": 173,
    "start_time": "2022-05-26T14:44:19.174Z"
   },
   {
    "duration": 21,
    "start_time": "2022-05-26T14:44:19.349Z"
   },
   {
    "duration": 102,
    "start_time": "2022-05-26T14:44:19.371Z"
   },
   {
    "duration": 6,
    "start_time": "2022-05-26T14:44:19.475Z"
   },
   {
    "duration": 9,
    "start_time": "2022-05-26T14:44:19.483Z"
   },
   {
    "duration": 33,
    "start_time": "2022-05-26T14:44:19.494Z"
   },
   {
    "duration": 7,
    "start_time": "2022-05-26T14:44:19.529Z"
   },
   {
    "duration": 25,
    "start_time": "2022-05-26T14:44:19.538Z"
   },
   {
    "duration": 8,
    "start_time": "2022-05-26T14:44:19.564Z"
   },
   {
    "duration": 72,
    "start_time": "2022-05-26T14:44:19.574Z"
   },
   {
    "duration": 26,
    "start_time": "2022-05-26T14:44:19.648Z"
   },
   {
    "duration": 21,
    "start_time": "2022-05-26T14:44:19.676Z"
   },
   {
    "duration": 33,
    "start_time": "2022-05-26T14:44:19.699Z"
   },
   {
    "duration": 7,
    "start_time": "2022-05-26T14:44:19.734Z"
   },
   {
    "duration": 16,
    "start_time": "2022-05-26T14:44:19.743Z"
   },
   {
    "duration": 10,
    "start_time": "2022-05-26T14:44:19.761Z"
   },
   {
    "duration": 5,
    "start_time": "2022-05-26T14:44:19.773Z"
   },
   {
    "duration": 11,
    "start_time": "2022-05-26T14:44:19.780Z"
   },
   {
    "duration": 281,
    "start_time": "2022-05-26T14:44:19.793Z"
   },
   {
    "duration": 5,
    "start_time": "2022-05-26T14:44:20.076Z"
   },
   {
    "duration": 14,
    "start_time": "2022-05-26T14:44:20.083Z"
   },
   {
    "duration": 192,
    "start_time": "2022-05-26T14:44:20.098Z"
   },
   {
    "duration": 11,
    "start_time": "2022-05-26T14:44:20.291Z"
   },
   {
    "duration": 30,
    "start_time": "2022-05-26T14:44:20.306Z"
   },
   {
    "duration": 13,
    "start_time": "2022-05-26T14:44:20.337Z"
   },
   {
    "duration": 271,
    "start_time": "2022-05-26T14:44:20.351Z"
   },
   {
    "duration": 13,
    "start_time": "2022-05-26T14:44:20.624Z"
   },
   {
    "duration": 10,
    "start_time": "2022-05-26T14:44:20.639Z"
   },
   {
    "duration": 279,
    "start_time": "2022-05-26T14:44:20.651Z"
   },
   {
    "duration": 179,
    "start_time": "2022-05-26T14:44:20.931Z"
   },
   {
    "duration": 17,
    "start_time": "2022-05-26T14:44:21.112Z"
   },
   {
    "duration": 7,
    "start_time": "2022-05-26T14:44:21.131Z"
   },
   {
    "duration": 262,
    "start_time": "2022-05-26T14:44:21.139Z"
   },
   {
    "duration": 1145,
    "start_time": "2022-05-26T14:44:21.403Z"
   },
   {
    "duration": 11,
    "start_time": "2022-05-26T14:44:22.551Z"
   },
   {
    "duration": 11,
    "start_time": "2022-05-26T14:44:22.564Z"
   },
   {
    "duration": 23,
    "start_time": "2022-05-26T14:44:22.577Z"
   },
   {
    "duration": 297,
    "start_time": "2022-05-26T14:44:22.602Z"
   },
   {
    "duration": 1109,
    "start_time": "2022-05-26T14:44:22.901Z"
   },
   {
    "duration": 3,
    "start_time": "2022-05-26T14:44:24.012Z"
   },
   {
    "duration": 19,
    "start_time": "2022-05-26T14:44:24.017Z"
   },
   {
    "duration": 23,
    "start_time": "2022-05-26T14:44:24.038Z"
   },
   {
    "duration": 2094,
    "start_time": "2022-05-26T14:44:24.063Z"
   },
   {
    "duration": 1213,
    "start_time": "2022-05-26T22:16:13.315Z"
   },
   {
    "duration": 67,
    "start_time": "2022-05-26T22:16:14.530Z"
   },
   {
    "duration": 2,
    "start_time": "2022-05-26T22:16:14.599Z"
   },
   {
    "duration": 6,
    "start_time": "2022-05-26T22:16:14.603Z"
   },
   {
    "duration": 136,
    "start_time": "2022-05-26T22:16:14.610Z"
   },
   {
    "duration": 18,
    "start_time": "2022-05-26T22:16:14.748Z"
   },
   {
    "duration": 97,
    "start_time": "2022-05-26T22:16:14.767Z"
   },
   {
    "duration": 6,
    "start_time": "2022-05-26T22:16:14.865Z"
   },
   {
    "duration": 9,
    "start_time": "2022-05-26T22:16:14.873Z"
   },
   {
    "duration": 13,
    "start_time": "2022-05-26T22:16:14.885Z"
   },
   {
    "duration": 25,
    "start_time": "2022-05-26T22:16:14.899Z"
   },
   {
    "duration": 18,
    "start_time": "2022-05-26T22:16:14.925Z"
   },
   {
    "duration": 7,
    "start_time": "2022-05-26T22:16:14.945Z"
   },
   {
    "duration": 23,
    "start_time": "2022-05-26T22:16:14.953Z"
   },
   {
    "duration": 55,
    "start_time": "2022-05-26T22:16:14.978Z"
   },
   {
    "duration": 20,
    "start_time": "2022-05-26T22:16:15.035Z"
   },
   {
    "duration": 18,
    "start_time": "2022-05-26T22:16:15.057Z"
   },
   {
    "duration": 6,
    "start_time": "2022-05-26T22:16:15.076Z"
   },
   {
    "duration": 9,
    "start_time": "2022-05-26T22:16:15.083Z"
   },
   {
    "duration": 35,
    "start_time": "2022-05-26T22:16:15.093Z"
   },
   {
    "duration": 4,
    "start_time": "2022-05-26T22:16:15.129Z"
   },
   {
    "duration": 11,
    "start_time": "2022-05-26T22:16:15.135Z"
   },
   {
    "duration": 244,
    "start_time": "2022-05-26T22:16:15.148Z"
   },
   {
    "duration": 5,
    "start_time": "2022-05-26T22:16:15.394Z"
   },
   {
    "duration": 9,
    "start_time": "2022-05-26T22:16:15.400Z"
   },
   {
    "duration": 171,
    "start_time": "2022-05-26T22:16:15.411Z"
   },
   {
    "duration": 11,
    "start_time": "2022-05-26T22:16:15.583Z"
   },
   {
    "duration": 35,
    "start_time": "2022-05-26T22:16:15.597Z"
   },
   {
    "duration": 11,
    "start_time": "2022-05-26T22:16:15.633Z"
   },
   {
    "duration": 224,
    "start_time": "2022-05-26T22:16:15.645Z"
   },
   {
    "duration": 12,
    "start_time": "2022-05-26T22:16:15.870Z"
   },
   {
    "duration": 9,
    "start_time": "2022-05-26T22:16:15.883Z"
   },
   {
    "duration": 268,
    "start_time": "2022-05-26T22:16:15.894Z"
   },
   {
    "duration": 145,
    "start_time": "2022-05-26T22:16:16.163Z"
   },
   {
    "duration": 13,
    "start_time": "2022-05-26T22:16:16.310Z"
   },
   {
    "duration": 9,
    "start_time": "2022-05-26T22:16:16.324Z"
   },
   {
    "duration": 241,
    "start_time": "2022-05-26T22:16:16.335Z"
   },
   {
    "duration": 1175,
    "start_time": "2022-05-26T22:16:16.578Z"
   },
   {
    "duration": 9,
    "start_time": "2022-05-26T22:16:17.755Z"
   },
   {
    "duration": 20,
    "start_time": "2022-05-26T22:16:17.765Z"
   },
   {
    "duration": 33,
    "start_time": "2022-05-26T22:16:17.787Z"
   },
   {
    "duration": 305,
    "start_time": "2022-05-26T22:16:17.822Z"
   },
   {
    "duration": 1206,
    "start_time": "2022-05-26T22:16:18.129Z"
   },
   {
    "duration": 3,
    "start_time": "2022-05-26T22:16:19.337Z"
   },
   {
    "duration": 19,
    "start_time": "2022-05-26T22:16:19.341Z"
   },
   {
    "duration": 23,
    "start_time": "2022-05-26T22:16:19.361Z"
   },
   {
    "duration": 1939,
    "start_time": "2022-05-26T22:16:19.385Z"
   },
   {
    "duration": 9,
    "start_time": "2022-05-26T22:48:54.359Z"
   },
   {
    "duration": 13,
    "start_time": "2022-05-26T22:49:26.979Z"
   },
   {
    "duration": 11,
    "start_time": "2022-05-26T22:49:38.218Z"
   },
   {
    "duration": 14,
    "start_time": "2022-05-26T22:54:22.728Z"
   }
  ],
  "kernelspec": {
   "display_name": "Python 3 (ipykernel)",
   "language": "python",
   "name": "python3"
  },
  "language_info": {
   "codemirror_mode": {
    "name": "ipython",
    "version": 3
   },
   "file_extension": ".py",
   "mimetype": "text/x-python",
   "name": "python",
   "nbconvert_exporter": "python",
   "pygments_lexer": "ipython3",
   "version": "3.9.5"
  },
  "toc": {
   "base_numbering": 1,
   "nav_menu": {},
   "number_sections": true,
   "sideBar": true,
   "skip_h1_title": true,
   "title_cell": "Table of Contents",
   "title_sidebar": "Contents",
   "toc_cell": true,
   "toc_position": {},
   "toc_section_display": true,
   "toc_window_display": false
  }
 },
 "nbformat": 4,
 "nbformat_minor": 2
}
