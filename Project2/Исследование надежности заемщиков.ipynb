{
 "cells": [
  {
   "cell_type": "markdown",
   "id": "65859ebf",
   "metadata": {},
   "source": [
    "# Исследование надежности заемщиков."
   ]
  },
  {
   "cell_type": "markdown",
   "id": "962f90c5",
   "metadata": {},
   "source": [
    "**Описание проекта**\n",
    "\n",
    "Заказчик — кредитный отдел банка. Нужно разобраться, влияет ли семейное положение и количество детей клиента на факт погашения кредита в срок. Входные данные от банка — статистика о платёжеспособности клиентов.\n",
    "\n",
    "Результаты исследования будут учтены при построении модели кредитного скоринга — специальной системы, которая оценивает способность потенциального заёмщика вернуть кредит банку.\n",
    "\n",
    "**Вопросы, на которые нужно будет ответить в процессе работы по проекту**\n",
    "\n",
    "- Есть ли зависимость между количеством детей и возвратом кредита в срок?\n",
    "- Есть ли зависимость между семейным положением и возвратом кредита в срок?\n",
    "- Есть ли зависимость между уровнем дохода и возвратом кредита в срок?\n",
    "- Как разные цели кредита влияют на его возврат в срок?"
   ]
  },
  {
   "cell_type": "markdown",
   "id": "7dc6b464",
   "metadata": {},
   "source": [
    "## Обзор данных"
   ]
  },
  {
   "cell_type": "markdown",
   "id": "094f5c81",
   "metadata": {},
   "source": [
    "- Импорт библиотек\n",
    "- Чтение таблиц датафрейма\n",
    "- Изучение общей информации о данных в датафрейме"
   ]
  },
  {
   "cell_type": "markdown",
   "id": "c7292145",
   "metadata": {},
   "source": [
    "### Импорт библиотек и сохраниение данных в переменную"
   ]
  },
  {
   "cell_type": "markdown",
   "id": "739e55d6",
   "metadata": {},
   "source": [
    "Импортируем библиотеку `pandas` для работы с датафреймом."
   ]
  },
  {
   "cell_type": "code",
   "execution_count": 506,
   "id": "46f6215f",
   "metadata": {},
   "outputs": [],
   "source": [
    "import pandas as pd"
   ]
  },
  {
   "cell_type": "markdown",
   "id": "2c0ec2d8",
   "metadata": {},
   "source": [
    "Считываем файл `data.csv` из папки `/datasets` и сохраняем его в переменной `data`"
   ]
  },
  {
   "cell_type": "code",
   "execution_count": 507,
   "id": "95585212",
   "metadata": {},
   "outputs": [],
   "source": [
    "data = pd.read_csv('/datasets/data.csv')"
   ]
  },
  {
   "cell_type": "markdown",
   "id": "c1664550",
   "metadata": {},
   "source": [
    "### Получение первичной информации по датафрейму"
   ]
  },
  {
   "cell_type": "markdown",
   "id": "4c0fe6b7",
   "metadata": {},
   "source": [
    "Изучим начало и конец, а так же информацию и статистику по датафрейму"
   ]
  },
  {
   "cell_type": "code",
   "execution_count": 508,
   "id": "a2459db5",
   "metadata": {},
   "outputs": [
    {
     "data": {
      "text/html": [
       "<div>\n",
       "<style scoped>\n",
       "    .dataframe tbody tr th:only-of-type {\n",
       "        vertical-align: middle;\n",
       "    }\n",
       "\n",
       "    .dataframe tbody tr th {\n",
       "        vertical-align: top;\n",
       "    }\n",
       "\n",
       "    .dataframe thead th {\n",
       "        text-align: right;\n",
       "    }\n",
       "</style>\n",
       "<table border=\"1\" class=\"dataframe\">\n",
       "  <thead>\n",
       "    <tr style=\"text-align: right;\">\n",
       "      <th></th>\n",
       "      <th>children</th>\n",
       "      <th>days_employed</th>\n",
       "      <th>dob_years</th>\n",
       "      <th>education</th>\n",
       "      <th>education_id</th>\n",
       "      <th>family_status</th>\n",
       "      <th>family_status_id</th>\n",
       "      <th>gender</th>\n",
       "      <th>income_type</th>\n",
       "      <th>debt</th>\n",
       "      <th>total_income</th>\n",
       "      <th>purpose</th>\n",
       "    </tr>\n",
       "  </thead>\n",
       "  <tbody>\n",
       "    <tr>\n",
       "      <td>0</td>\n",
       "      <td>1</td>\n",
       "      <td>-8437.673028</td>\n",
       "      <td>42</td>\n",
       "      <td>высшее</td>\n",
       "      <td>0</td>\n",
       "      <td>женат / замужем</td>\n",
       "      <td>0</td>\n",
       "      <td>F</td>\n",
       "      <td>сотрудник</td>\n",
       "      <td>0</td>\n",
       "      <td>253875.639453</td>\n",
       "      <td>покупка жилья</td>\n",
       "    </tr>\n",
       "    <tr>\n",
       "      <td>1</td>\n",
       "      <td>1</td>\n",
       "      <td>-4024.803754</td>\n",
       "      <td>36</td>\n",
       "      <td>среднее</td>\n",
       "      <td>1</td>\n",
       "      <td>женат / замужем</td>\n",
       "      <td>0</td>\n",
       "      <td>F</td>\n",
       "      <td>сотрудник</td>\n",
       "      <td>0</td>\n",
       "      <td>112080.014102</td>\n",
       "      <td>приобретение автомобиля</td>\n",
       "    </tr>\n",
       "    <tr>\n",
       "      <td>2</td>\n",
       "      <td>0</td>\n",
       "      <td>-5623.422610</td>\n",
       "      <td>33</td>\n",
       "      <td>Среднее</td>\n",
       "      <td>1</td>\n",
       "      <td>женат / замужем</td>\n",
       "      <td>0</td>\n",
       "      <td>M</td>\n",
       "      <td>сотрудник</td>\n",
       "      <td>0</td>\n",
       "      <td>145885.952297</td>\n",
       "      <td>покупка жилья</td>\n",
       "    </tr>\n",
       "    <tr>\n",
       "      <td>3</td>\n",
       "      <td>3</td>\n",
       "      <td>-4124.747207</td>\n",
       "      <td>32</td>\n",
       "      <td>среднее</td>\n",
       "      <td>1</td>\n",
       "      <td>женат / замужем</td>\n",
       "      <td>0</td>\n",
       "      <td>M</td>\n",
       "      <td>сотрудник</td>\n",
       "      <td>0</td>\n",
       "      <td>267628.550329</td>\n",
       "      <td>дополнительное образование</td>\n",
       "    </tr>\n",
       "    <tr>\n",
       "      <td>4</td>\n",
       "      <td>0</td>\n",
       "      <td>340266.072047</td>\n",
       "      <td>53</td>\n",
       "      <td>среднее</td>\n",
       "      <td>1</td>\n",
       "      <td>гражданский брак</td>\n",
       "      <td>1</td>\n",
       "      <td>F</td>\n",
       "      <td>пенсионер</td>\n",
       "      <td>0</td>\n",
       "      <td>158616.077870</td>\n",
       "      <td>сыграть свадьбу</td>\n",
       "    </tr>\n",
       "    <tr>\n",
       "      <td>5</td>\n",
       "      <td>0</td>\n",
       "      <td>-926.185831</td>\n",
       "      <td>27</td>\n",
       "      <td>высшее</td>\n",
       "      <td>0</td>\n",
       "      <td>гражданский брак</td>\n",
       "      <td>1</td>\n",
       "      <td>M</td>\n",
       "      <td>компаньон</td>\n",
       "      <td>0</td>\n",
       "      <td>255763.565419</td>\n",
       "      <td>покупка жилья</td>\n",
       "    </tr>\n",
       "    <tr>\n",
       "      <td>6</td>\n",
       "      <td>0</td>\n",
       "      <td>-2879.202052</td>\n",
       "      <td>43</td>\n",
       "      <td>высшее</td>\n",
       "      <td>0</td>\n",
       "      <td>женат / замужем</td>\n",
       "      <td>0</td>\n",
       "      <td>F</td>\n",
       "      <td>компаньон</td>\n",
       "      <td>0</td>\n",
       "      <td>240525.971920</td>\n",
       "      <td>операции с жильем</td>\n",
       "    </tr>\n",
       "    <tr>\n",
       "      <td>7</td>\n",
       "      <td>0</td>\n",
       "      <td>-152.779569</td>\n",
       "      <td>50</td>\n",
       "      <td>СРЕДНЕЕ</td>\n",
       "      <td>1</td>\n",
       "      <td>женат / замужем</td>\n",
       "      <td>0</td>\n",
       "      <td>M</td>\n",
       "      <td>сотрудник</td>\n",
       "      <td>0</td>\n",
       "      <td>135823.934197</td>\n",
       "      <td>образование</td>\n",
       "    </tr>\n",
       "    <tr>\n",
       "      <td>8</td>\n",
       "      <td>2</td>\n",
       "      <td>-6929.865299</td>\n",
       "      <td>35</td>\n",
       "      <td>ВЫСШЕЕ</td>\n",
       "      <td>0</td>\n",
       "      <td>гражданский брак</td>\n",
       "      <td>1</td>\n",
       "      <td>F</td>\n",
       "      <td>сотрудник</td>\n",
       "      <td>0</td>\n",
       "      <td>95856.832424</td>\n",
       "      <td>на проведение свадьбы</td>\n",
       "    </tr>\n",
       "    <tr>\n",
       "      <td>9</td>\n",
       "      <td>0</td>\n",
       "      <td>-2188.756445</td>\n",
       "      <td>41</td>\n",
       "      <td>среднее</td>\n",
       "      <td>1</td>\n",
       "      <td>женат / замужем</td>\n",
       "      <td>0</td>\n",
       "      <td>M</td>\n",
       "      <td>сотрудник</td>\n",
       "      <td>0</td>\n",
       "      <td>144425.938277</td>\n",
       "      <td>покупка жилья для семьи</td>\n",
       "    </tr>\n",
       "  </tbody>\n",
       "</table>\n",
       "</div>"
      ],
      "text/plain": [
       "   children  days_employed  dob_years education  education_id  \\\n",
       "0         1   -8437.673028         42    высшее             0   \n",
       "1         1   -4024.803754         36   среднее             1   \n",
       "2         0   -5623.422610         33   Среднее             1   \n",
       "3         3   -4124.747207         32   среднее             1   \n",
       "4         0  340266.072047         53   среднее             1   \n",
       "5         0    -926.185831         27    высшее             0   \n",
       "6         0   -2879.202052         43    высшее             0   \n",
       "7         0    -152.779569         50   СРЕДНЕЕ             1   \n",
       "8         2   -6929.865299         35    ВЫСШЕЕ             0   \n",
       "9         0   -2188.756445         41   среднее             1   \n",
       "\n",
       "      family_status  family_status_id gender income_type  debt   total_income  \\\n",
       "0   женат / замужем                 0      F   сотрудник     0  253875.639453   \n",
       "1   женат / замужем                 0      F   сотрудник     0  112080.014102   \n",
       "2   женат / замужем                 0      M   сотрудник     0  145885.952297   \n",
       "3   женат / замужем                 0      M   сотрудник     0  267628.550329   \n",
       "4  гражданский брак                 1      F   пенсионер     0  158616.077870   \n",
       "5  гражданский брак                 1      M   компаньон     0  255763.565419   \n",
       "6   женат / замужем                 0      F   компаньон     0  240525.971920   \n",
       "7   женат / замужем                 0      M   сотрудник     0  135823.934197   \n",
       "8  гражданский брак                 1      F   сотрудник     0   95856.832424   \n",
       "9   женат / замужем                 0      M   сотрудник     0  144425.938277   \n",
       "\n",
       "                      purpose  \n",
       "0               покупка жилья  \n",
       "1     приобретение автомобиля  \n",
       "2               покупка жилья  \n",
       "3  дополнительное образование  \n",
       "4             сыграть свадьбу  \n",
       "5               покупка жилья  \n",
       "6           операции с жильем  \n",
       "7                 образование  \n",
       "8       на проведение свадьбы  \n",
       "9     покупка жилья для семьи  "
      ]
     },
     "execution_count": 508,
     "metadata": {},
     "output_type": "execute_result"
    }
   ],
   "source": [
    "# Смотрим первые 10 строк датафрейма\n",
    "data.head(10)"
   ]
  },
  {
   "cell_type": "code",
   "execution_count": 509,
   "id": "a75b696d",
   "metadata": {},
   "outputs": [
    {
     "data": {
      "text/html": [
       "<div>\n",
       "<style scoped>\n",
       "    .dataframe tbody tr th:only-of-type {\n",
       "        vertical-align: middle;\n",
       "    }\n",
       "\n",
       "    .dataframe tbody tr th {\n",
       "        vertical-align: top;\n",
       "    }\n",
       "\n",
       "    .dataframe thead th {\n",
       "        text-align: right;\n",
       "    }\n",
       "</style>\n",
       "<table border=\"1\" class=\"dataframe\">\n",
       "  <thead>\n",
       "    <tr style=\"text-align: right;\">\n",
       "      <th></th>\n",
       "      <th>children</th>\n",
       "      <th>days_employed</th>\n",
       "      <th>dob_years</th>\n",
       "      <th>education</th>\n",
       "      <th>education_id</th>\n",
       "      <th>family_status</th>\n",
       "      <th>family_status_id</th>\n",
       "      <th>gender</th>\n",
       "      <th>income_type</th>\n",
       "      <th>debt</th>\n",
       "      <th>total_income</th>\n",
       "      <th>purpose</th>\n",
       "    </tr>\n",
       "  </thead>\n",
       "  <tbody>\n",
       "    <tr>\n",
       "      <td>21515</td>\n",
       "      <td>1</td>\n",
       "      <td>-467.685130</td>\n",
       "      <td>28</td>\n",
       "      <td>среднее</td>\n",
       "      <td>1</td>\n",
       "      <td>женат / замужем</td>\n",
       "      <td>0</td>\n",
       "      <td>F</td>\n",
       "      <td>сотрудник</td>\n",
       "      <td>1</td>\n",
       "      <td>109486.327999</td>\n",
       "      <td>заняться образованием</td>\n",
       "    </tr>\n",
       "    <tr>\n",
       "      <td>21516</td>\n",
       "      <td>0</td>\n",
       "      <td>-914.391429</td>\n",
       "      <td>42</td>\n",
       "      <td>высшее</td>\n",
       "      <td>0</td>\n",
       "      <td>женат / замужем</td>\n",
       "      <td>0</td>\n",
       "      <td>F</td>\n",
       "      <td>компаньон</td>\n",
       "      <td>0</td>\n",
       "      <td>322807.776603</td>\n",
       "      <td>покупка своего жилья</td>\n",
       "    </tr>\n",
       "    <tr>\n",
       "      <td>21517</td>\n",
       "      <td>0</td>\n",
       "      <td>-404.679034</td>\n",
       "      <td>42</td>\n",
       "      <td>высшее</td>\n",
       "      <td>0</td>\n",
       "      <td>гражданский брак</td>\n",
       "      <td>1</td>\n",
       "      <td>F</td>\n",
       "      <td>компаньон</td>\n",
       "      <td>0</td>\n",
       "      <td>178059.553491</td>\n",
       "      <td>на покупку своего автомобиля</td>\n",
       "    </tr>\n",
       "    <tr>\n",
       "      <td>21518</td>\n",
       "      <td>0</td>\n",
       "      <td>373995.710838</td>\n",
       "      <td>59</td>\n",
       "      <td>СРЕДНЕЕ</td>\n",
       "      <td>1</td>\n",
       "      <td>женат / замужем</td>\n",
       "      <td>0</td>\n",
       "      <td>F</td>\n",
       "      <td>пенсионер</td>\n",
       "      <td>0</td>\n",
       "      <td>153864.650328</td>\n",
       "      <td>сделка с автомобилем</td>\n",
       "    </tr>\n",
       "    <tr>\n",
       "      <td>21519</td>\n",
       "      <td>1</td>\n",
       "      <td>-2351.431934</td>\n",
       "      <td>37</td>\n",
       "      <td>ученая степень</td>\n",
       "      <td>4</td>\n",
       "      <td>в разводе</td>\n",
       "      <td>3</td>\n",
       "      <td>M</td>\n",
       "      <td>сотрудник</td>\n",
       "      <td>0</td>\n",
       "      <td>115949.039788</td>\n",
       "      <td>покупка коммерческой недвижимости</td>\n",
       "    </tr>\n",
       "    <tr>\n",
       "      <td>21520</td>\n",
       "      <td>1</td>\n",
       "      <td>-4529.316663</td>\n",
       "      <td>43</td>\n",
       "      <td>среднее</td>\n",
       "      <td>1</td>\n",
       "      <td>гражданский брак</td>\n",
       "      <td>1</td>\n",
       "      <td>F</td>\n",
       "      <td>компаньон</td>\n",
       "      <td>0</td>\n",
       "      <td>224791.862382</td>\n",
       "      <td>операции с жильем</td>\n",
       "    </tr>\n",
       "    <tr>\n",
       "      <td>21521</td>\n",
       "      <td>0</td>\n",
       "      <td>343937.404131</td>\n",
       "      <td>67</td>\n",
       "      <td>среднее</td>\n",
       "      <td>1</td>\n",
       "      <td>женат / замужем</td>\n",
       "      <td>0</td>\n",
       "      <td>F</td>\n",
       "      <td>пенсионер</td>\n",
       "      <td>0</td>\n",
       "      <td>155999.806512</td>\n",
       "      <td>сделка с автомобилем</td>\n",
       "    </tr>\n",
       "    <tr>\n",
       "      <td>21522</td>\n",
       "      <td>1</td>\n",
       "      <td>-2113.346888</td>\n",
       "      <td>38</td>\n",
       "      <td>среднее</td>\n",
       "      <td>1</td>\n",
       "      <td>гражданский брак</td>\n",
       "      <td>1</td>\n",
       "      <td>M</td>\n",
       "      <td>сотрудник</td>\n",
       "      <td>1</td>\n",
       "      <td>89672.561153</td>\n",
       "      <td>недвижимость</td>\n",
       "    </tr>\n",
       "    <tr>\n",
       "      <td>21523</td>\n",
       "      <td>3</td>\n",
       "      <td>-3112.481705</td>\n",
       "      <td>38</td>\n",
       "      <td>среднее</td>\n",
       "      <td>1</td>\n",
       "      <td>женат / замужем</td>\n",
       "      <td>0</td>\n",
       "      <td>M</td>\n",
       "      <td>сотрудник</td>\n",
       "      <td>1</td>\n",
       "      <td>244093.050500</td>\n",
       "      <td>на покупку своего автомобиля</td>\n",
       "    </tr>\n",
       "    <tr>\n",
       "      <td>21524</td>\n",
       "      <td>2</td>\n",
       "      <td>-1984.507589</td>\n",
       "      <td>40</td>\n",
       "      <td>среднее</td>\n",
       "      <td>1</td>\n",
       "      <td>женат / замужем</td>\n",
       "      <td>0</td>\n",
       "      <td>F</td>\n",
       "      <td>сотрудник</td>\n",
       "      <td>0</td>\n",
       "      <td>82047.418899</td>\n",
       "      <td>на покупку автомобиля</td>\n",
       "    </tr>\n",
       "  </tbody>\n",
       "</table>\n",
       "</div>"
      ],
      "text/plain": [
       "       children  days_employed  dob_years       education  education_id  \\\n",
       "21515         1    -467.685130         28         среднее             1   \n",
       "21516         0    -914.391429         42          высшее             0   \n",
       "21517         0    -404.679034         42          высшее             0   \n",
       "21518         0  373995.710838         59         СРЕДНЕЕ             1   \n",
       "21519         1   -2351.431934         37  ученая степень             4   \n",
       "21520         1   -4529.316663         43         среднее             1   \n",
       "21521         0  343937.404131         67         среднее             1   \n",
       "21522         1   -2113.346888         38         среднее             1   \n",
       "21523         3   -3112.481705         38         среднее             1   \n",
       "21524         2   -1984.507589         40         среднее             1   \n",
       "\n",
       "          family_status  family_status_id gender income_type  debt  \\\n",
       "21515   женат / замужем                 0      F   сотрудник     1   \n",
       "21516   женат / замужем                 0      F   компаньон     0   \n",
       "21517  гражданский брак                 1      F   компаньон     0   \n",
       "21518   женат / замужем                 0      F   пенсионер     0   \n",
       "21519         в разводе                 3      M   сотрудник     0   \n",
       "21520  гражданский брак                 1      F   компаньон     0   \n",
       "21521   женат / замужем                 0      F   пенсионер     0   \n",
       "21522  гражданский брак                 1      M   сотрудник     1   \n",
       "21523   женат / замужем                 0      M   сотрудник     1   \n",
       "21524   женат / замужем                 0      F   сотрудник     0   \n",
       "\n",
       "        total_income                            purpose  \n",
       "21515  109486.327999              заняться образованием  \n",
       "21516  322807.776603               покупка своего жилья  \n",
       "21517  178059.553491       на покупку своего автомобиля  \n",
       "21518  153864.650328               сделка с автомобилем  \n",
       "21519  115949.039788  покупка коммерческой недвижимости  \n",
       "21520  224791.862382                  операции с жильем  \n",
       "21521  155999.806512               сделка с автомобилем  \n",
       "21522   89672.561153                       недвижимость  \n",
       "21523  244093.050500       на покупку своего автомобиля  \n",
       "21524   82047.418899              на покупку автомобиля  "
      ]
     },
     "execution_count": 509,
     "metadata": {},
     "output_type": "execute_result"
    }
   ],
   "source": [
    "# Смотрим последние 10 строк датафрейма\n",
    "data.tail(10)"
   ]
  },
  {
   "cell_type": "code",
   "execution_count": 510,
   "id": "b1ffe5da",
   "metadata": {},
   "outputs": [
    {
     "data": {
      "text/html": [
       "<div>\n",
       "<style scoped>\n",
       "    .dataframe tbody tr th:only-of-type {\n",
       "        vertical-align: middle;\n",
       "    }\n",
       "\n",
       "    .dataframe tbody tr th {\n",
       "        vertical-align: top;\n",
       "    }\n",
       "\n",
       "    .dataframe thead th {\n",
       "        text-align: right;\n",
       "    }\n",
       "</style>\n",
       "<table border=\"1\" class=\"dataframe\">\n",
       "  <thead>\n",
       "    <tr style=\"text-align: right;\">\n",
       "      <th></th>\n",
       "      <th>children</th>\n",
       "      <th>days_employed</th>\n",
       "      <th>dob_years</th>\n",
       "      <th>education_id</th>\n",
       "      <th>family_status_id</th>\n",
       "      <th>debt</th>\n",
       "      <th>total_income</th>\n",
       "    </tr>\n",
       "  </thead>\n",
       "  <tbody>\n",
       "    <tr>\n",
       "      <td>count</td>\n",
       "      <td>21525.000000</td>\n",
       "      <td>19351.000000</td>\n",
       "      <td>21525.000000</td>\n",
       "      <td>21525.000000</td>\n",
       "      <td>21525.000000</td>\n",
       "      <td>21525.000000</td>\n",
       "      <td>1.935100e+04</td>\n",
       "    </tr>\n",
       "    <tr>\n",
       "      <td>mean</td>\n",
       "      <td>0.538908</td>\n",
       "      <td>63046.497661</td>\n",
       "      <td>43.293380</td>\n",
       "      <td>0.817236</td>\n",
       "      <td>0.972544</td>\n",
       "      <td>0.080883</td>\n",
       "      <td>1.674223e+05</td>\n",
       "    </tr>\n",
       "    <tr>\n",
       "      <td>std</td>\n",
       "      <td>1.381587</td>\n",
       "      <td>140827.311974</td>\n",
       "      <td>12.574584</td>\n",
       "      <td>0.548138</td>\n",
       "      <td>1.420324</td>\n",
       "      <td>0.272661</td>\n",
       "      <td>1.029716e+05</td>\n",
       "    </tr>\n",
       "    <tr>\n",
       "      <td>min</td>\n",
       "      <td>-1.000000</td>\n",
       "      <td>-18388.949901</td>\n",
       "      <td>0.000000</td>\n",
       "      <td>0.000000</td>\n",
       "      <td>0.000000</td>\n",
       "      <td>0.000000</td>\n",
       "      <td>2.066726e+04</td>\n",
       "    </tr>\n",
       "    <tr>\n",
       "      <td>25%</td>\n",
       "      <td>0.000000</td>\n",
       "      <td>-2747.423625</td>\n",
       "      <td>33.000000</td>\n",
       "      <td>1.000000</td>\n",
       "      <td>0.000000</td>\n",
       "      <td>0.000000</td>\n",
       "      <td>1.030532e+05</td>\n",
       "    </tr>\n",
       "    <tr>\n",
       "      <td>50%</td>\n",
       "      <td>0.000000</td>\n",
       "      <td>-1203.369529</td>\n",
       "      <td>42.000000</td>\n",
       "      <td>1.000000</td>\n",
       "      <td>0.000000</td>\n",
       "      <td>0.000000</td>\n",
       "      <td>1.450179e+05</td>\n",
       "    </tr>\n",
       "    <tr>\n",
       "      <td>75%</td>\n",
       "      <td>1.000000</td>\n",
       "      <td>-291.095954</td>\n",
       "      <td>53.000000</td>\n",
       "      <td>1.000000</td>\n",
       "      <td>1.000000</td>\n",
       "      <td>0.000000</td>\n",
       "      <td>2.034351e+05</td>\n",
       "    </tr>\n",
       "    <tr>\n",
       "      <td>max</td>\n",
       "      <td>20.000000</td>\n",
       "      <td>401755.400475</td>\n",
       "      <td>75.000000</td>\n",
       "      <td>4.000000</td>\n",
       "      <td>4.000000</td>\n",
       "      <td>1.000000</td>\n",
       "      <td>2.265604e+06</td>\n",
       "    </tr>\n",
       "  </tbody>\n",
       "</table>\n",
       "</div>"
      ],
      "text/plain": [
       "           children  days_employed     dob_years  education_id  \\\n",
       "count  21525.000000   19351.000000  21525.000000  21525.000000   \n",
       "mean       0.538908   63046.497661     43.293380      0.817236   \n",
       "std        1.381587  140827.311974     12.574584      0.548138   \n",
       "min       -1.000000  -18388.949901      0.000000      0.000000   \n",
       "25%        0.000000   -2747.423625     33.000000      1.000000   \n",
       "50%        0.000000   -1203.369529     42.000000      1.000000   \n",
       "75%        1.000000    -291.095954     53.000000      1.000000   \n",
       "max       20.000000  401755.400475     75.000000      4.000000   \n",
       "\n",
       "       family_status_id          debt  total_income  \n",
       "count      21525.000000  21525.000000  1.935100e+04  \n",
       "mean           0.972544      0.080883  1.674223e+05  \n",
       "std            1.420324      0.272661  1.029716e+05  \n",
       "min            0.000000      0.000000  2.066726e+04  \n",
       "25%            0.000000      0.000000  1.030532e+05  \n",
       "50%            0.000000      0.000000  1.450179e+05  \n",
       "75%            1.000000      0.000000  2.034351e+05  \n",
       "max            4.000000      1.000000  2.265604e+06  "
      ]
     },
     "execution_count": 510,
     "metadata": {},
     "output_type": "execute_result"
    }
   ],
   "source": [
    "# Смотрим статистику по датафрейму\n",
    "data.describe()"
   ]
  },
  {
   "cell_type": "code",
   "execution_count": 511,
   "id": "82a4f9c3",
   "metadata": {},
   "outputs": [
    {
     "name": "stdout",
     "output_type": "stream",
     "text": [
      "<class 'pandas.core.frame.DataFrame'>\n",
      "RangeIndex: 21525 entries, 0 to 21524\n",
      "Data columns (total 12 columns):\n",
      "children            21525 non-null int64\n",
      "days_employed       19351 non-null float64\n",
      "dob_years           21525 non-null int64\n",
      "education           21525 non-null object\n",
      "education_id        21525 non-null int64\n",
      "family_status       21525 non-null object\n",
      "family_status_id    21525 non-null int64\n",
      "gender              21525 non-null object\n",
      "income_type         21525 non-null object\n",
      "debt                21525 non-null int64\n",
      "total_income        19351 non-null float64\n",
      "purpose             21525 non-null object\n",
      "dtypes: float64(2), int64(5), object(5)\n",
      "memory usage: 2.0+ MB\n"
     ]
    }
   ],
   "source": [
    "# Смотрим общую информацию по датафрейму\n",
    "data.info()"
   ]
  },
  {
   "cell_type": "markdown",
   "id": "ec3dcdd7",
   "metadata": {},
   "source": [
    "### Описание столбцов и выявленные проблемы с данными в датафрейме"
   ]
  },
  {
   "cell_type": "markdown",
   "id": "a139f3b2",
   "metadata": {},
   "source": [
    "**Описание столбцов**:\n",
    "\n",
    "`children` — количество детей в семье\n",
    "\n",
    "`days_employed` — общий трудовой стаж в днях\n",
    "\n",
    "`dob_years` — возраст клиента в годах\n",
    "\n",
    "`education` — уровень образования клиента\n",
    "\n",
    "`education_id` — идентификатор уровня образования\n",
    "\n",
    "`family_status` — семейное положение\n",
    "\n",
    "`family_status_id` — идентификатор семейного положения\n",
    "\n",
    "`gender` — пол клиента\n",
    "\n",
    "`income_type` — тип занятости\n",
    "\n",
    "`debt` — имел ли задолженность по возврату кредитов\n",
    "\n",
    "`total_income` — ежемесячный доход\n",
    "\n",
    "`purpose` — цель получения кредита"
   ]
  },
  {
   "cell_type": "markdown",
   "id": "e44a880a",
   "metadata": {},
   "source": [
    "**Выявленные проблемы:**\n",
    "- Отрицательные значения в столбце дети\n",
    "- Отрицательные значения в столбце с трудовым стажем\n",
    "- Присутствуют пустые строки в столбце с трудовым стажем\n",
    "- Присутствуют пустые строки в столбце с ежемесячным доходом\n",
    "- Минимальный возраст - 0\n",
    "- Максимальный трудовой стаж - 401755 дней или примерно 1100 лет\n",
    "- 20 Детей выглядит странно\n",
    "- Разный регистр значений в столбце уровень образования\n",
    "- Значения с плавающей запятой в столбце с ежемесячным доходом\n",
    "- Некоторые столбцы требуют переименования для лучшего понимания их содержимого"
   ]
  },
  {
   "cell_type": "markdown",
   "id": "2585be41",
   "metadata": {},
   "source": [
    "## Предобработка данных"
   ]
  },
  {
   "cell_type": "markdown",
   "id": "7a2f43dc",
   "metadata": {},
   "source": [
    "### Изменение названий столбцов"
   ]
  },
  {
   "cell_type": "markdown",
   "id": "ee25fda9",
   "metadata": {},
   "source": [
    "Сначала переименуем названия столбцов в датафрейме."
   ]
  },
  {
   "cell_type": "code",
   "execution_count": 512,
   "id": "826b7847",
   "metadata": {},
   "outputs": [
    {
     "data": {
      "text/plain": [
       "Index(['children', 'days_employed', 'dob_years', 'education', 'education_id',\n",
       "       'family_status', 'family_status_id', 'gender', 'income_type', 'debt',\n",
       "       'total_income', 'purpose'],\n",
       "      dtype='object')"
      ]
     },
     "execution_count": 512,
     "metadata": {},
     "output_type": "execute_result"
    }
   ],
   "source": [
    "# Выведем названия столбцов\n",
    "data.columns"
   ]
  },
  {
   "cell_type": "code",
   "execution_count": 513,
   "id": "7957c4ef",
   "metadata": {},
   "outputs": [],
   "source": [
    "# Переименовываем столбцы\n",
    "data.rename(columns = {'children' : 'number_of_children',\n",
    "                       'dob_years' : 'client_age_in_years',\n",
    "                       'education' : 'education_level',\n",
    "                       'education_id' : 'education_level_id',\n",
    "                       'income_type' : 'employment_type',\n",
    "                       'debt' : 'credit_debt_status',\n",
    "                       'total_income' : 'monthly_income',\n",
    "                       'purpose' : 'credit_purpose'}, inplace = True) "
   ]
  },
  {
   "cell_type": "code",
   "execution_count": 514,
   "id": "b71ad694",
   "metadata": {},
   "outputs": [
    {
     "data": {
      "text/plain": [
       "Index(['number_of_children', 'days_employed', 'client_age_in_years',\n",
       "       'education_level', 'education_level_id', 'family_status',\n",
       "       'family_status_id', 'gender', 'employment_type', 'credit_debt_status',\n",
       "       'monthly_income', 'credit_purpose'],\n",
       "      dtype='object')"
      ]
     },
     "execution_count": 514,
     "metadata": {},
     "output_type": "execute_result"
    }
   ],
   "source": [
    "# Проверяем названия столбцов после переименования\n",
    "data.columns"
   ]
  },
  {
   "cell_type": "markdown",
   "id": "626a00e5",
   "metadata": {},
   "source": [
    "### Избавление от отрицательных значений"
   ]
  },
  {
   "cell_type": "markdown",
   "id": "843462ac",
   "metadata": {},
   "source": [
    "Ранее были выявлены отрицательные значения в столбцах с количеством детей и трудовым стажем.\n",
    "Сложно сказать что могло быть причиной появления таких значений.\n",
    "Либо это ошибка ввода данных в БД либо данные могли некоректно выгрузиться из БД.\n",
    "В любом случае, для дальнейшего исследования, от них нужно избавиться."
   ]
  },
  {
   "cell_type": "code",
   "execution_count": 515,
   "id": "a3b51f90",
   "metadata": {},
   "outputs": [
    {
     "data": {
      "text/plain": [
       "array([ 1,  0,  3,  2, -1,  4, 20,  5])"
      ]
     },
     "execution_count": 515,
     "metadata": {},
     "output_type": "execute_result"
    }
   ],
   "source": [
    "# Посмотрим уникальные значения в столбце с количеством детей\n",
    "data['number_of_children'].unique()"
   ]
  },
  {
   "cell_type": "markdown",
   "id": "f6154fcd",
   "metadata": {},
   "source": [
    "Выявлены аномальные значения -1 и 20. Сначала разберемся с отрицательными значениями."
   ]
  },
  {
   "cell_type": "code",
   "execution_count": 516,
   "id": "219e1d33",
   "metadata": {},
   "outputs": [
    {
     "data": {
      "text/plain": [
       " 0     14149\n",
       " 1      4818\n",
       " 2      2055\n",
       " 3       330\n",
       " 20       76\n",
       "-1        47\n",
       " 4        41\n",
       " 5         9\n",
       "Name: number_of_children, dtype: int64"
      ]
     },
     "execution_count": 516,
     "metadata": {},
     "output_type": "execute_result"
    }
   ],
   "source": [
    "# Посмотрим в скольких строках встречается отрицательное значение\n",
    "data['number_of_children'].value_counts()"
   ]
  },
  {
   "cell_type": "markdown",
   "id": "07d87815",
   "metadata": {},
   "source": [
    "Выявлено 47 строк с отрицательными значениями в столбце с количеством детей.\n",
    "Скорее всего имела место ошибка ввода данных. Заменим отрицательные значения на положительные по модулю."
   ]
  },
  {
   "cell_type": "code",
   "execution_count": 517,
   "id": "6818c142",
   "metadata": {},
   "outputs": [],
   "source": [
    "# Применяем abs() к столбцу `number_of_children` для избавления от отрицательных значений\n",
    "data['number_of_children'] = data['number_of_children'].abs()"
   ]
  },
  {
   "cell_type": "code",
   "execution_count": 518,
   "id": "63c2cbc0",
   "metadata": {},
   "outputs": [
    {
     "data": {
      "text/plain": [
       "0     14149\n",
       "1      4865\n",
       "2      2055\n",
       "3       330\n",
       "20       76\n",
       "4        41\n",
       "5         9\n",
       "Name: number_of_children, dtype: int64"
      ]
     },
     "execution_count": 518,
     "metadata": {},
     "output_type": "execute_result"
    }
   ],
   "source": [
    "# Проверяем результат обработки\n",
    "data['number_of_children'].value_counts()"
   ]
  },
  {
   "cell_type": "markdown",
   "id": "44633a17",
   "metadata": {},
   "source": [
    "Проделаем ту же операцию со столбцом с трудовым стажем."
   ]
  },
  {
   "cell_type": "code",
   "execution_count": 519,
   "id": "0a4cb130",
   "metadata": {},
   "outputs": [
    {
     "data": {
      "text/plain": [
       "count     19351.000000\n",
       "mean      63046.497661\n",
       "std      140827.311974\n",
       "min      -18388.949901\n",
       "25%       -2747.423625\n",
       "50%       -1203.369529\n",
       "75%        -291.095954\n",
       "max      401755.400475\n",
       "Name: days_employed, dtype: float64"
      ]
     },
     "execution_count": 519,
     "metadata": {},
     "output_type": "execute_result"
    }
   ],
   "source": [
    "# Еще раз посмотрим статистику по столбцу `days_employed`\n",
    "data['days_employed'].describe()"
   ]
  },
  {
   "cell_type": "code",
   "execution_count": 520,
   "id": "e9bf826c",
   "metadata": {},
   "outputs": [],
   "source": [
    "# # Применяем abs() к столбцу `days_employed` для избавления от отрицательных значений\n",
    "data['days_employed'] = data['days_employed'].abs()"
   ]
  },
  {
   "cell_type": "code",
   "execution_count": 521,
   "id": "5f7cc807",
   "metadata": {},
   "outputs": [
    {
     "data": {
      "text/plain": [
       "count     19351.000000\n",
       "mean      66914.728907\n",
       "std      139030.880527\n",
       "min          24.141633\n",
       "25%         927.009265\n",
       "50%        2194.220567\n",
       "75%        5537.882441\n",
       "max      401755.400475\n",
       "Name: days_employed, dtype: float64"
      ]
     },
     "execution_count": 521,
     "metadata": {},
     "output_type": "execute_result"
    }
   ],
   "source": [
    "# Проверяем результат обработки\n",
    "data['days_employed'].describe()"
   ]
  },
  {
   "cell_type": "markdown",
   "id": "a2b226a6",
   "metadata": {},
   "source": [
    "От отрицательных значений, мешающих дальнейшему исследованию, избавились.\n",
    "\n",
    "Максимальные значения в столбцах `days_employed` и `number_of_children` все еще смотрятся аномальными"
   ]
  },
  {
   "cell_type": "markdown",
   "id": "8bd5c81e",
   "metadata": {},
   "source": [
    "### Заполнение пропусков"
   ]
  },
  {
   "cell_type": "markdown",
   "id": "f0c46af9",
   "metadata": {},
   "source": [
    "Ранее были выявлены пропуски в столбцах `days_employed` и `monthly_income`.\n",
    "\n",
    "Требуется проанализировать эти пропуски,\n",
    "вычислить их долю по отношению к заполенным строкам,\n",
    "попытаться понять причину их возникновения и заполнить значениями.\n",
    "\n",
    "Сначала посчитаем долю пропусков по отношению к заполненным строкам."
   ]
  },
  {
   "cell_type": "code",
   "execution_count": 522,
   "id": "18d25b35",
   "metadata": {},
   "outputs": [
    {
     "data": {
      "text/plain": [
       "'Количество пропусков в столбце days_employed: 2174'"
      ]
     },
     "metadata": {},
     "output_type": "display_data"
    },
    {
     "data": {
      "text/plain": [
       "'Доля пропусков в столбце days_employed: 10%'"
      ]
     },
     "metadata": {},
     "output_type": "display_data"
    }
   ],
   "source": [
    "# Посчитаем количество пропусков в столбце `days_employed`\n",
    "display('Количество пропусков в столбце days_employed: {:}'.format(data['days_employed'].isna().sum()))\n",
    "# Посчитаем долю пропусков в столбце `days_employed`\n",
    "display('Доля пропусков в столбце days_employed: {:.0%}'.format(data['days_employed'].isna().sum() / data['days_employed'].shape[0]))"
   ]
  },
  {
   "cell_type": "code",
   "execution_count": 523,
   "id": "0275c7b9",
   "metadata": {},
   "outputs": [
    {
     "data": {
      "text/plain": [
       "'Количество пропусков в столбце monthly_income: 2174'"
      ]
     },
     "metadata": {},
     "output_type": "display_data"
    },
    {
     "data": {
      "text/plain": [
       "'Доля пропусков в столбце monthly_income: 10%'"
      ]
     },
     "metadata": {},
     "output_type": "display_data"
    }
   ],
   "source": [
    "# Посчитаем количество пропусков в столбце `monthly_income`\n",
    "display('Количество пропусков в столбце monthly_income: {:}'.format(data['monthly_income'].isna().sum()))\n",
    "# Посчитаем долю пропусков в столбце `monthly_income`\n",
    "display('Доля пропусков в столбце monthly_income: {:.0%}'.format(data['monthly_income'].isna().sum() / data['monthly_income'].shape[0]))"
   ]
  },
  {
   "cell_type": "markdown",
   "id": "3356b616",
   "metadata": {},
   "source": [
    "Как видно из полученных цифр, количество строк с пропусками, в исследуемых столбцах, одинаковое. Их доля составляет 10% от общего количества строк.\n",
    "\n",
    "Проверим гипотезу, что пропуски в столбцах находятся в одних и тех же строках."
   ]
  },
  {
   "cell_type": "code",
   "execution_count": 524,
   "id": "1442f955",
   "metadata": {},
   "outputs": [
    {
     "name": "stdout",
     "output_type": "stream",
     "text": [
      "<class 'pandas.core.frame.DataFrame'>\n",
      "Int64Index: 2174 entries, 12 to 21510\n",
      "Data columns (total 12 columns):\n",
      "number_of_children     2174 non-null bool\n",
      "days_employed          2174 non-null bool\n",
      "client_age_in_years    2174 non-null bool\n",
      "education_level        2174 non-null bool\n",
      "education_level_id     2174 non-null bool\n",
      "family_status          2174 non-null bool\n",
      "family_status_id       2174 non-null bool\n",
      "gender                 2174 non-null bool\n",
      "employment_type        2174 non-null bool\n",
      "credit_debt_status     2174 non-null bool\n",
      "monthly_income         2174 non-null bool\n",
      "credit_purpose         2174 non-null bool\n",
      "dtypes: bool(12)\n",
      "memory usage: 42.5 KB\n"
     ]
    }
   ],
   "source": [
    "# Сохраним в переменную результат сравнения датафреймов с пропусками по столбцам `monthly_income` и `days_employed`\n",
    "data_nan = data[data['days_employed'].isna()] == data[data['monthly_income'].isna()]\n",
    "# Выведем информацию о данных в получившейся переменной\n",
    "data_nan.info()"
   ]
  },
  {
   "cell_type": "markdown",
   "id": "ae9ee752",
   "metadata": {},
   "source": [
    "Гипотеза подтвердилась. Количество строк в переменной равно количеству пропусков в исследуемых столбцах. \n",
    "Соответственно, пропуски в обоих столбцах находятся в одних и тех же строках.\n",
    "\n",
    "Помотрим несколько строк с пропусками чтобы понять что с ними можно сделать дальше."
   ]
  },
  {
   "cell_type": "code",
   "execution_count": 525,
   "id": "26284e8b",
   "metadata": {},
   "outputs": [
    {
     "data": {
      "text/html": [
       "<div>\n",
       "<style scoped>\n",
       "    .dataframe tbody tr th:only-of-type {\n",
       "        vertical-align: middle;\n",
       "    }\n",
       "\n",
       "    .dataframe tbody tr th {\n",
       "        vertical-align: top;\n",
       "    }\n",
       "\n",
       "    .dataframe thead th {\n",
       "        text-align: right;\n",
       "    }\n",
       "</style>\n",
       "<table border=\"1\" class=\"dataframe\">\n",
       "  <thead>\n",
       "    <tr style=\"text-align: right;\">\n",
       "      <th></th>\n",
       "      <th>number_of_children</th>\n",
       "      <th>days_employed</th>\n",
       "      <th>client_age_in_years</th>\n",
       "      <th>education_level</th>\n",
       "      <th>education_level_id</th>\n",
       "      <th>family_status</th>\n",
       "      <th>family_status_id</th>\n",
       "      <th>gender</th>\n",
       "      <th>employment_type</th>\n",
       "      <th>credit_debt_status</th>\n",
       "      <th>monthly_income</th>\n",
       "      <th>credit_purpose</th>\n",
       "    </tr>\n",
       "  </thead>\n",
       "  <tbody>\n",
       "    <tr>\n",
       "      <td>12</td>\n",
       "      <td>0</td>\n",
       "      <td>NaN</td>\n",
       "      <td>65</td>\n",
       "      <td>среднее</td>\n",
       "      <td>1</td>\n",
       "      <td>гражданский брак</td>\n",
       "      <td>1</td>\n",
       "      <td>M</td>\n",
       "      <td>пенсионер</td>\n",
       "      <td>0</td>\n",
       "      <td>NaN</td>\n",
       "      <td>сыграть свадьбу</td>\n",
       "    </tr>\n",
       "    <tr>\n",
       "      <td>26</td>\n",
       "      <td>0</td>\n",
       "      <td>NaN</td>\n",
       "      <td>41</td>\n",
       "      <td>среднее</td>\n",
       "      <td>1</td>\n",
       "      <td>женат / замужем</td>\n",
       "      <td>0</td>\n",
       "      <td>M</td>\n",
       "      <td>госслужащий</td>\n",
       "      <td>0</td>\n",
       "      <td>NaN</td>\n",
       "      <td>образование</td>\n",
       "    </tr>\n",
       "    <tr>\n",
       "      <td>29</td>\n",
       "      <td>0</td>\n",
       "      <td>NaN</td>\n",
       "      <td>63</td>\n",
       "      <td>среднее</td>\n",
       "      <td>1</td>\n",
       "      <td>Не женат / не замужем</td>\n",
       "      <td>4</td>\n",
       "      <td>F</td>\n",
       "      <td>пенсионер</td>\n",
       "      <td>0</td>\n",
       "      <td>NaN</td>\n",
       "      <td>строительство жилой недвижимости</td>\n",
       "    </tr>\n",
       "    <tr>\n",
       "      <td>41</td>\n",
       "      <td>0</td>\n",
       "      <td>NaN</td>\n",
       "      <td>50</td>\n",
       "      <td>среднее</td>\n",
       "      <td>1</td>\n",
       "      <td>женат / замужем</td>\n",
       "      <td>0</td>\n",
       "      <td>F</td>\n",
       "      <td>госслужащий</td>\n",
       "      <td>0</td>\n",
       "      <td>NaN</td>\n",
       "      <td>сделка с подержанным автомобилем</td>\n",
       "    </tr>\n",
       "    <tr>\n",
       "      <td>55</td>\n",
       "      <td>0</td>\n",
       "      <td>NaN</td>\n",
       "      <td>54</td>\n",
       "      <td>среднее</td>\n",
       "      <td>1</td>\n",
       "      <td>гражданский брак</td>\n",
       "      <td>1</td>\n",
       "      <td>F</td>\n",
       "      <td>пенсионер</td>\n",
       "      <td>1</td>\n",
       "      <td>NaN</td>\n",
       "      <td>сыграть свадьбу</td>\n",
       "    </tr>\n",
       "    <tr>\n",
       "      <td>65</td>\n",
       "      <td>0</td>\n",
       "      <td>NaN</td>\n",
       "      <td>21</td>\n",
       "      <td>среднее</td>\n",
       "      <td>1</td>\n",
       "      <td>Не женат / не замужем</td>\n",
       "      <td>4</td>\n",
       "      <td>M</td>\n",
       "      <td>компаньон</td>\n",
       "      <td>0</td>\n",
       "      <td>NaN</td>\n",
       "      <td>операции с коммерческой недвижимостью</td>\n",
       "    </tr>\n",
       "    <tr>\n",
       "      <td>67</td>\n",
       "      <td>0</td>\n",
       "      <td>NaN</td>\n",
       "      <td>52</td>\n",
       "      <td>высшее</td>\n",
       "      <td>0</td>\n",
       "      <td>женат / замужем</td>\n",
       "      <td>0</td>\n",
       "      <td>F</td>\n",
       "      <td>пенсионер</td>\n",
       "      <td>0</td>\n",
       "      <td>NaN</td>\n",
       "      <td>покупка жилья для семьи</td>\n",
       "    </tr>\n",
       "    <tr>\n",
       "      <td>72</td>\n",
       "      <td>1</td>\n",
       "      <td>NaN</td>\n",
       "      <td>32</td>\n",
       "      <td>высшее</td>\n",
       "      <td>0</td>\n",
       "      <td>женат / замужем</td>\n",
       "      <td>0</td>\n",
       "      <td>M</td>\n",
       "      <td>госслужащий</td>\n",
       "      <td>0</td>\n",
       "      <td>NaN</td>\n",
       "      <td>операции с коммерческой недвижимостью</td>\n",
       "    </tr>\n",
       "    <tr>\n",
       "      <td>82</td>\n",
       "      <td>2</td>\n",
       "      <td>NaN</td>\n",
       "      <td>50</td>\n",
       "      <td>высшее</td>\n",
       "      <td>0</td>\n",
       "      <td>женат / замужем</td>\n",
       "      <td>0</td>\n",
       "      <td>F</td>\n",
       "      <td>сотрудник</td>\n",
       "      <td>0</td>\n",
       "      <td>NaN</td>\n",
       "      <td>жилье</td>\n",
       "    </tr>\n",
       "    <tr>\n",
       "      <td>83</td>\n",
       "      <td>0</td>\n",
       "      <td>NaN</td>\n",
       "      <td>52</td>\n",
       "      <td>среднее</td>\n",
       "      <td>1</td>\n",
       "      <td>женат / замужем</td>\n",
       "      <td>0</td>\n",
       "      <td>M</td>\n",
       "      <td>сотрудник</td>\n",
       "      <td>0</td>\n",
       "      <td>NaN</td>\n",
       "      <td>жилье</td>\n",
       "    </tr>\n",
       "    <tr>\n",
       "      <td>90</td>\n",
       "      <td>2</td>\n",
       "      <td>NaN</td>\n",
       "      <td>35</td>\n",
       "      <td>высшее</td>\n",
       "      <td>0</td>\n",
       "      <td>женат / замужем</td>\n",
       "      <td>0</td>\n",
       "      <td>F</td>\n",
       "      <td>сотрудник</td>\n",
       "      <td>0</td>\n",
       "      <td>NaN</td>\n",
       "      <td>операции с жильем</td>\n",
       "    </tr>\n",
       "    <tr>\n",
       "      <td>94</td>\n",
       "      <td>1</td>\n",
       "      <td>NaN</td>\n",
       "      <td>34</td>\n",
       "      <td>высшее</td>\n",
       "      <td>0</td>\n",
       "      <td>гражданский брак</td>\n",
       "      <td>1</td>\n",
       "      <td>F</td>\n",
       "      <td>компаньон</td>\n",
       "      <td>0</td>\n",
       "      <td>NaN</td>\n",
       "      <td>на проведение свадьбы</td>\n",
       "    </tr>\n",
       "    <tr>\n",
       "      <td>96</td>\n",
       "      <td>0</td>\n",
       "      <td>NaN</td>\n",
       "      <td>44</td>\n",
       "      <td>СРЕДНЕЕ</td>\n",
       "      <td>1</td>\n",
       "      <td>женат / замужем</td>\n",
       "      <td>0</td>\n",
       "      <td>F</td>\n",
       "      <td>сотрудник</td>\n",
       "      <td>0</td>\n",
       "      <td>NaN</td>\n",
       "      <td>покупка жилой недвижимости</td>\n",
       "    </tr>\n",
       "    <tr>\n",
       "      <td>97</td>\n",
       "      <td>0</td>\n",
       "      <td>NaN</td>\n",
       "      <td>47</td>\n",
       "      <td>высшее</td>\n",
       "      <td>0</td>\n",
       "      <td>женат / замужем</td>\n",
       "      <td>0</td>\n",
       "      <td>F</td>\n",
       "      <td>сотрудник</td>\n",
       "      <td>0</td>\n",
       "      <td>NaN</td>\n",
       "      <td>профильное образование</td>\n",
       "    </tr>\n",
       "    <tr>\n",
       "      <td>120</td>\n",
       "      <td>0</td>\n",
       "      <td>NaN</td>\n",
       "      <td>46</td>\n",
       "      <td>среднее</td>\n",
       "      <td>1</td>\n",
       "      <td>женат / замужем</td>\n",
       "      <td>0</td>\n",
       "      <td>F</td>\n",
       "      <td>сотрудник</td>\n",
       "      <td>0</td>\n",
       "      <td>NaN</td>\n",
       "      <td>высшее образование</td>\n",
       "    </tr>\n",
       "  </tbody>\n",
       "</table>\n",
       "</div>"
      ],
      "text/plain": [
       "     number_of_children  days_employed  client_age_in_years education_level  \\\n",
       "12                    0            NaN                   65         среднее   \n",
       "26                    0            NaN                   41         среднее   \n",
       "29                    0            NaN                   63         среднее   \n",
       "41                    0            NaN                   50         среднее   \n",
       "55                    0            NaN                   54         среднее   \n",
       "65                    0            NaN                   21         среднее   \n",
       "67                    0            NaN                   52          высшее   \n",
       "72                    1            NaN                   32          высшее   \n",
       "82                    2            NaN                   50          высшее   \n",
       "83                    0            NaN                   52         среднее   \n",
       "90                    2            NaN                   35          высшее   \n",
       "94                    1            NaN                   34          высшее   \n",
       "96                    0            NaN                   44         СРЕДНЕЕ   \n",
       "97                    0            NaN                   47          высшее   \n",
       "120                   0            NaN                   46         среднее   \n",
       "\n",
       "     education_level_id          family_status  family_status_id gender  \\\n",
       "12                    1       гражданский брак                 1      M   \n",
       "26                    1        женат / замужем                 0      M   \n",
       "29                    1  Не женат / не замужем                 4      F   \n",
       "41                    1        женат / замужем                 0      F   \n",
       "55                    1       гражданский брак                 1      F   \n",
       "65                    1  Не женат / не замужем                 4      M   \n",
       "67                    0        женат / замужем                 0      F   \n",
       "72                    0        женат / замужем                 0      M   \n",
       "82                    0        женат / замужем                 0      F   \n",
       "83                    1        женат / замужем                 0      M   \n",
       "90                    0        женат / замужем                 0      F   \n",
       "94                    0       гражданский брак                 1      F   \n",
       "96                    1        женат / замужем                 0      F   \n",
       "97                    0        женат / замужем                 0      F   \n",
       "120                   1        женат / замужем                 0      F   \n",
       "\n",
       "    employment_type  credit_debt_status  monthly_income  \\\n",
       "12        пенсионер                   0             NaN   \n",
       "26      госслужащий                   0             NaN   \n",
       "29        пенсионер                   0             NaN   \n",
       "41      госслужащий                   0             NaN   \n",
       "55        пенсионер                   1             NaN   \n",
       "65        компаньон                   0             NaN   \n",
       "67        пенсионер                   0             NaN   \n",
       "72      госслужащий                   0             NaN   \n",
       "82        сотрудник                   0             NaN   \n",
       "83        сотрудник                   0             NaN   \n",
       "90        сотрудник                   0             NaN   \n",
       "94        компаньон                   0             NaN   \n",
       "96        сотрудник                   0             NaN   \n",
       "97        сотрудник                   0             NaN   \n",
       "120       сотрудник                   0             NaN   \n",
       "\n",
       "                            credit_purpose  \n",
       "12                         сыграть свадьбу  \n",
       "26                             образование  \n",
       "29        строительство жилой недвижимости  \n",
       "41        сделка с подержанным автомобилем  \n",
       "55                         сыграть свадьбу  \n",
       "65   операции с коммерческой недвижимостью  \n",
       "67                 покупка жилья для семьи  \n",
       "72   операции с коммерческой недвижимостью  \n",
       "82                                   жилье  \n",
       "83                                   жилье  \n",
       "90                       операции с жильем  \n",
       "94                   на проведение свадьбы  \n",
       "96              покупка жилой недвижимости  \n",
       "97                  профильное образование  \n",
       "120                     высшее образование  "
      ]
     },
     "execution_count": 525,
     "metadata": {},
     "output_type": "execute_result"
    }
   ],
   "source": [
    "# Посмотрим первые 15 строк с пропусками.\n",
    "data[data['days_employed'].isna()].head(15)"
   ]
  },
  {
   "cell_type": "markdown",
   "id": "8e9cd0d1",
   "metadata": {},
   "source": [
    "Из выборки видно, что пропуски встречаются у клиентов банка разных возрастов, уровня образования, семейного положения и т.д..\n",
    "\n",
    "Можно предположить, что отсутствие данных в этих столбцах стали следствием ошибкой ввода данных БД или они потерялись при экспорте из БД, а не отсутствием трудового стажа и дохода у клиентов банка.\n",
    "\n",
    "Т.к. пропущенные значения встречаются в достаточно большом проценте данных, имеет смысл заполнить их медианными значениями.\n",
    "\n",
    "Использовать медиану, а не просто среднее значение, в данном случае, предпочтительней т.к. это позволит отсечь аномально большие и маленькие значения из расчетов, что даст более объективные средние значения. "
   ]
  },
  {
   "cell_type": "code",
   "execution_count": 526,
   "id": "610bd297",
   "metadata": {},
   "outputs": [
    {
     "name": "stdout",
     "output_type": "stream",
     "text": [
      "<class 'pandas.core.frame.DataFrame'>\n",
      "RangeIndex: 21525 entries, 0 to 21524\n",
      "Data columns (total 12 columns):\n",
      "number_of_children     21525 non-null int64\n",
      "days_employed          21525 non-null float64\n",
      "client_age_in_years    21525 non-null int64\n",
      "education_level        21525 non-null object\n",
      "education_level_id     21525 non-null int64\n",
      "family_status          21525 non-null object\n",
      "family_status_id       21525 non-null int64\n",
      "gender                 21525 non-null object\n",
      "employment_type        21525 non-null object\n",
      "credit_debt_status     21525 non-null int64\n",
      "monthly_income         21525 non-null float64\n",
      "credit_purpose         21525 non-null object\n",
      "dtypes: float64(2), int64(5), object(5)\n",
      "memory usage: 2.0+ MB\n"
     ]
    },
    {
     "data": {
      "text/html": [
       "<div>\n",
       "<style scoped>\n",
       "    .dataframe tbody tr th:only-of-type {\n",
       "        vertical-align: middle;\n",
       "    }\n",
       "\n",
       "    .dataframe tbody tr th {\n",
       "        vertical-align: top;\n",
       "    }\n",
       "\n",
       "    .dataframe thead th {\n",
       "        text-align: right;\n",
       "    }\n",
       "</style>\n",
       "<table border=\"1\" class=\"dataframe\">\n",
       "  <thead>\n",
       "    <tr style=\"text-align: right;\">\n",
       "      <th></th>\n",
       "      <th>number_of_children</th>\n",
       "      <th>days_employed</th>\n",
       "      <th>client_age_in_years</th>\n",
       "      <th>education_level</th>\n",
       "      <th>education_level_id</th>\n",
       "      <th>family_status</th>\n",
       "      <th>family_status_id</th>\n",
       "      <th>gender</th>\n",
       "      <th>employment_type</th>\n",
       "      <th>credit_debt_status</th>\n",
       "      <th>monthly_income</th>\n",
       "      <th>credit_purpose</th>\n",
       "    </tr>\n",
       "  </thead>\n",
       "  <tbody>\n",
       "    <tr>\n",
       "      <td>82</td>\n",
       "      <td>2</td>\n",
       "      <td>2194.220567</td>\n",
       "      <td>50</td>\n",
       "      <td>высшее</td>\n",
       "      <td>0</td>\n",
       "      <td>женат / замужем</td>\n",
       "      <td>0</td>\n",
       "      <td>F</td>\n",
       "      <td>сотрудник</td>\n",
       "      <td>0</td>\n",
       "      <td>145017.937533</td>\n",
       "      <td>жилье</td>\n",
       "    </tr>\n",
       "    <tr>\n",
       "      <td>83</td>\n",
       "      <td>0</td>\n",
       "      <td>2194.220567</td>\n",
       "      <td>52</td>\n",
       "      <td>среднее</td>\n",
       "      <td>1</td>\n",
       "      <td>женат / замужем</td>\n",
       "      <td>0</td>\n",
       "      <td>M</td>\n",
       "      <td>сотрудник</td>\n",
       "      <td>0</td>\n",
       "      <td>145017.937533</td>\n",
       "      <td>жилье</td>\n",
       "    </tr>\n",
       "  </tbody>\n",
       "</table>\n",
       "</div>"
      ],
      "text/plain": [
       "    number_of_children  days_employed  client_age_in_years education_level  \\\n",
       "82                   2    2194.220567                   50          высшее   \n",
       "83                   0    2194.220567                   52         среднее   \n",
       "\n",
       "    education_level_id    family_status  family_status_id gender  \\\n",
       "82                   0  женат / замужем                 0      F   \n",
       "83                   1  женат / замужем                 0      M   \n",
       "\n",
       "   employment_type  credit_debt_status  monthly_income credit_purpose  \n",
       "82       сотрудник                   0   145017.937533          жилье  \n",
       "83       сотрудник                   0   145017.937533          жилье  "
      ]
     },
     "execution_count": 526,
     "metadata": {},
     "output_type": "execute_result"
    }
   ],
   "source": [
    "# Заполняем медианными значениями пропуски в столбце `days_employed`\n",
    "data['days_employed'] = data['days_employed'].fillna(value = data['days_employed'].median())\n",
    "# Заполняем медианными значениями пропуски в столбце `monthly_income`\n",
    "data['monthly_income'] = data['monthly_income'].fillna(value = data['monthly_income'].median())\n",
    "# Проверяем наличие пропусков в датафрейме\n",
    "data.info()\n",
    "# Выборочно посмотрим строки, где ранее были пропуски.\n",
    "# Например по строкам с индексом 82 и 83, где ранее эти пропуски были выявлены\n",
    "data[82:84]"
   ]
  },
  {
   "cell_type": "markdown",
   "id": "661a729b",
   "metadata": {},
   "source": [
    "Видно, что пропуски были заменены на медианные значения. Работу по устранинию пропусков можно считать законченой."
   ]
  },
  {
   "cell_type": "markdown",
   "id": "8728fcb6",
   "metadata": {},
   "source": [
    "### Изучение столбцов на наличие аномалий и их исправление"
   ]
  },
  {
   "cell_type": "markdown",
   "id": "bcc30f0e",
   "metadata": {},
   "source": [
    "Пройдемся по всем столбцам по отдельности, поищем аномалии и попробуем их устранить."
   ]
  },
  {
   "cell_type": "markdown",
   "id": "1681d11b",
   "metadata": {},
   "source": [
    "**Вернемся к столбцу с количеством детей.**\n",
    "\n",
    "Ранее было выявлено 76 клиентов с 20-ю детьми. Учитывая что ближайшее максимальное значение 5 детей - тут скорее всего имеет место ошибка ввода данных. Поменяем 20 на 2."
   ]
  },
  {
   "cell_type": "code",
   "execution_count": 527,
   "id": "e290cdc5",
   "metadata": {},
   "outputs": [
    {
     "data": {
      "text/plain": [
       "0     14149\n",
       "1      4865\n",
       "2      2055\n",
       "3       330\n",
       "20       76\n",
       "4        41\n",
       "5         9\n",
       "Name: number_of_children, dtype: int64"
      ]
     },
     "execution_count": 527,
     "metadata": {},
     "output_type": "execute_result"
    }
   ],
   "source": [
    "# Посмотрим еще раз уникальные значения в столбце `number_of_children`\n",
    "data['number_of_children'].value_counts()"
   ]
  },
  {
   "cell_type": "code",
   "execution_count": 528,
   "id": "13221181",
   "metadata": {},
   "outputs": [
    {
     "data": {
      "text/html": [
       "<div>\n",
       "<style scoped>\n",
       "    .dataframe tbody tr th:only-of-type {\n",
       "        vertical-align: middle;\n",
       "    }\n",
       "\n",
       "    .dataframe tbody tr th {\n",
       "        vertical-align: top;\n",
       "    }\n",
       "\n",
       "    .dataframe thead th {\n",
       "        text-align: right;\n",
       "    }\n",
       "</style>\n",
       "<table border=\"1\" class=\"dataframe\">\n",
       "  <thead>\n",
       "    <tr style=\"text-align: right;\">\n",
       "      <th></th>\n",
       "      <th>number_of_children</th>\n",
       "      <th>days_employed</th>\n",
       "      <th>client_age_in_years</th>\n",
       "      <th>education_level</th>\n",
       "      <th>education_level_id</th>\n",
       "      <th>family_status</th>\n",
       "      <th>family_status_id</th>\n",
       "      <th>gender</th>\n",
       "      <th>employment_type</th>\n",
       "      <th>credit_debt_status</th>\n",
       "      <th>monthly_income</th>\n",
       "      <th>credit_purpose</th>\n",
       "    </tr>\n",
       "  </thead>\n",
       "  <tbody>\n",
       "    <tr>\n",
       "      <td>606</td>\n",
       "      <td>20</td>\n",
       "      <td>880.221113</td>\n",
       "      <td>21</td>\n",
       "      <td>среднее</td>\n",
       "      <td>1</td>\n",
       "      <td>женат / замужем</td>\n",
       "      <td>0</td>\n",
       "      <td>M</td>\n",
       "      <td>компаньон</td>\n",
       "      <td>0</td>\n",
       "      <td>145334.865002</td>\n",
       "      <td>покупка жилья</td>\n",
       "    </tr>\n",
       "    <tr>\n",
       "      <td>720</td>\n",
       "      <td>20</td>\n",
       "      <td>855.595512</td>\n",
       "      <td>44</td>\n",
       "      <td>среднее</td>\n",
       "      <td>1</td>\n",
       "      <td>женат / замужем</td>\n",
       "      <td>0</td>\n",
       "      <td>F</td>\n",
       "      <td>компаньон</td>\n",
       "      <td>0</td>\n",
       "      <td>112998.738649</td>\n",
       "      <td>покупка недвижимости</td>\n",
       "    </tr>\n",
       "    <tr>\n",
       "      <td>1074</td>\n",
       "      <td>20</td>\n",
       "      <td>3310.411598</td>\n",
       "      <td>56</td>\n",
       "      <td>среднее</td>\n",
       "      <td>1</td>\n",
       "      <td>женат / замужем</td>\n",
       "      <td>0</td>\n",
       "      <td>F</td>\n",
       "      <td>сотрудник</td>\n",
       "      <td>1</td>\n",
       "      <td>229518.537004</td>\n",
       "      <td>получение образования</td>\n",
       "    </tr>\n",
       "    <tr>\n",
       "      <td>2510</td>\n",
       "      <td>20</td>\n",
       "      <td>2714.161249</td>\n",
       "      <td>59</td>\n",
       "      <td>высшее</td>\n",
       "      <td>0</td>\n",
       "      <td>вдовец / вдова</td>\n",
       "      <td>2</td>\n",
       "      <td>F</td>\n",
       "      <td>сотрудник</td>\n",
       "      <td>0</td>\n",
       "      <td>264474.835577</td>\n",
       "      <td>операции с коммерческой недвижимостью</td>\n",
       "    </tr>\n",
       "    <tr>\n",
       "      <td>2941</td>\n",
       "      <td>20</td>\n",
       "      <td>2161.591519</td>\n",
       "      <td>0</td>\n",
       "      <td>среднее</td>\n",
       "      <td>1</td>\n",
       "      <td>женат / замужем</td>\n",
       "      <td>0</td>\n",
       "      <td>F</td>\n",
       "      <td>сотрудник</td>\n",
       "      <td>0</td>\n",
       "      <td>199739.941398</td>\n",
       "      <td>на покупку автомобиля</td>\n",
       "    </tr>\n",
       "  </tbody>\n",
       "</table>\n",
       "</div>"
      ],
      "text/plain": [
       "      number_of_children  days_employed  client_age_in_years education_level  \\\n",
       "606                   20     880.221113                   21         среднее   \n",
       "720                   20     855.595512                   44         среднее   \n",
       "1074                  20    3310.411598                   56         среднее   \n",
       "2510                  20    2714.161249                   59          высшее   \n",
       "2941                  20    2161.591519                    0         среднее   \n",
       "\n",
       "      education_level_id    family_status  family_status_id gender  \\\n",
       "606                    1  женат / замужем                 0      M   \n",
       "720                    1  женат / замужем                 0      F   \n",
       "1074                   1  женат / замужем                 0      F   \n",
       "2510                   0   вдовец / вдова                 2      F   \n",
       "2941                   1  женат / замужем                 0      F   \n",
       "\n",
       "     employment_type  credit_debt_status  monthly_income  \\\n",
       "606        компаньон                   0   145334.865002   \n",
       "720        компаньон                   0   112998.738649   \n",
       "1074       сотрудник                   1   229518.537004   \n",
       "2510       сотрудник                   0   264474.835577   \n",
       "2941       сотрудник                   0   199739.941398   \n",
       "\n",
       "                             credit_purpose  \n",
       "606                           покупка жилья  \n",
       "720                    покупка недвижимости  \n",
       "1074                  получение образования  \n",
       "2510  операции с коммерческой недвижимостью  \n",
       "2941                  на покупку автомобиля  "
      ]
     },
     "execution_count": 528,
     "metadata": {},
     "output_type": "execute_result"
    }
   ],
   "source": [
    "# На всякий случай, посмотрим на нескольких многодетных клиентов\n",
    "# Создадим переменную `number_of_children_20` с данными таких клиентов\n",
    "number_of_children_20 = data[data['number_of_children'] == 20]\n",
    "# Выведем первые 5 строк получившегося датафрема на экран\n",
    "number_of_children_20.head()"
   ]
  },
  {
   "cell_type": "markdown",
   "id": "e5609d4e",
   "metadata": {},
   "source": [
    "Если очень постараться, к 21 году, можно завести 20 детей, но больше похоже на ошибку."
   ]
  },
  {
   "cell_type": "code",
   "execution_count": 529,
   "id": "62db5653",
   "metadata": {},
   "outputs": [
    {
     "data": {
      "text/plain": [
       "0    14149\n",
       "1     4865\n",
       "2     2131\n",
       "3      330\n",
       "4       41\n",
       "5        9\n",
       "Name: number_of_children, dtype: int64"
      ]
     },
     "execution_count": 529,
     "metadata": {},
     "output_type": "execute_result"
    }
   ],
   "source": [
    "# Меняем значения 20 на 2\n",
    "data['number_of_children'] = data['number_of_children'].replace(20, 2)\n",
    "# Проверяем уникальные значения в столбце после изменений\n",
    "data['number_of_children'].value_counts()"
   ]
  },
  {
   "cell_type": "markdown",
   "id": "424c4487",
   "metadata": {},
   "source": [
    "Теперь значения в столбце с количеством детей больше похожи на правду"
   ]
  },
  {
   "cell_type": "markdown",
   "id": "3e257e8e",
   "metadata": {},
   "source": [
    "**Посмотрим на столбец с возрастом клиентов.** \n",
    "\n",
    "При первичном исследовании датафрейма в нем были выявлены аномалии"
   ]
  },
  {
   "cell_type": "code",
   "execution_count": 530,
   "id": "b568a720",
   "metadata": {},
   "outputs": [
    {
     "data": {
      "text/plain": [
       "count    21525.000000\n",
       "mean        43.293380\n",
       "std         12.574584\n",
       "min          0.000000\n",
       "25%         33.000000\n",
       "50%         42.000000\n",
       "75%         53.000000\n",
       "max         75.000000\n",
       "Name: client_age_in_years, dtype: float64"
      ]
     },
     "execution_count": 530,
     "metadata": {},
     "output_type": "execute_result"
    }
   ],
   "source": [
    "# Посмотрим статистику по столбцу `client_age_in_years`\n",
    "data['client_age_in_years'].describe()"
   ]
  },
  {
   "cell_type": "markdown",
   "id": "8e26c5e4",
   "metadata": {},
   "source": [
    "Минимальный возраст 0. Выглядит как ошибка. Посмотрим количество таких клиентов."
   ]
  },
  {
   "cell_type": "code",
   "execution_count": 531,
   "id": "bbfd7b1f",
   "metadata": {},
   "outputs": [
    {
     "data": {
      "text/plain": [
       "0     101\n",
       "19     14\n",
       "20     51\n",
       "21    111\n",
       "22    183\n",
       "Name: client_age_in_years, dtype: int64"
      ]
     },
     "execution_count": 531,
     "metadata": {},
     "output_type": "execute_result"
    }
   ],
   "source": [
    "# Выводим первые 5 уникальные значений в столбце `client_age_in_years` отсоритрованных по возрастанию индекса\n",
    "data['client_age_in_years'].value_counts().sort_index(ascending=True).head()"
   ]
  },
  {
   "cell_type": "markdown",
   "id": "625c0ba4",
   "metadata": {},
   "source": [
    "Выявлено 101 клиентов с возрастом 0. Учитывая что следующее, по возрастанию, значение 19 - считаем это ошибкой.\n",
    "\n",
    "Можно просто заполнить эти строки средним возрастом, но тогда появятся сорокалетние студенты.\n",
    "\n",
    "Придется усложнить задачу и заполнить нулевые значения средними значениями по типу занятости `employment_type`."
   ]
  },
  {
   "cell_type": "code",
   "execution_count": 532,
   "id": "e1ac4f69",
   "metadata": {},
   "outputs": [],
   "source": [
    "# Создаем переменную со средним возрастом клиентов сгруппированным по типу занятости.\n",
    "mean_age_employment_type = data.groupby('employment_type')['client_age_in_years'].mean()\n",
    "# Округлим значения до целых чисел\n",
    "mean_age_employment_type = mean_age_employment_type.astype(int)"
   ]
  },
  {
   "cell_type": "code",
   "execution_count": 533,
   "id": "b43b9b18",
   "metadata": {},
   "outputs": [],
   "source": [
    "# Заменяем нулевые значения на средние по типу дохода\n",
    "data.loc[(data['employment_type'] == 'безработный') & (data['client_age_in_years'] == 0), 'client_age_in_years'] = mean_age_employment_type['безработный']\n",
    "data.loc[(data['employment_type'] == 'в декрете') & (data['client_age_in_years'] == 0), 'client_age_in_years'] = mean_age_employment_type['в декрете']\n",
    "data.loc[(data['employment_type'] == 'госслужащий') & (data['client_age_in_years'] == 0), 'client_age_in_years'] = mean_age_employment_type['госслужащий']\n",
    "data.loc[(data['employment_type'] == 'компаньон') & (data['client_age_in_years'] == 0), 'client_age_in_years'] = mean_age_employment_type['компаньон']\n",
    "data.loc[(data['employment_type'] == 'пенсионер') & (data['client_age_in_years'] == 0), 'client_age_in_years'] = mean_age_employment_type['пенсионер']\n",
    "data.loc[(data['employment_type'] == 'предприниматель') & (data['client_age_in_years'] == 0), 'client_age_in_years'] = mean_age_employment_type['предприниматель']\n",
    "data.loc[(data['employment_type'] == 'сотрудник') & (data['client_age_in_years'] == 0), 'client_age_in_years'] = mean_age_employment_type['сотрудник']\n",
    "data.loc[(data['employment_type'] == 'студент') & (data['client_age_in_years'] == 0), 'client_age_in_years'] = mean_age_employment_type['студент']"
   ]
  },
  {
   "cell_type": "code",
   "execution_count": 534,
   "id": "d2db63f4",
   "metadata": {},
   "outputs": [
    {
     "data": {
      "text/plain": [
       "count    21525.000000\n",
       "mean        43.495238\n",
       "std         12.230322\n",
       "min         19.000000\n",
       "25%         34.000000\n",
       "50%         43.000000\n",
       "75%         53.000000\n",
       "max         75.000000\n",
       "Name: client_age_in_years, dtype: float64"
      ]
     },
     "execution_count": 534,
     "metadata": {},
     "output_type": "execute_result"
    }
   ],
   "source": [
    "# Посмотрим еще раз статистику по столбцу `client_age_in_years`\n",
    "data['client_age_in_years'].describe()"
   ]
  },
  {
   "cell_type": "markdown",
   "id": "63e0e891",
   "metadata": {},
   "source": [
    "Теперь данные в столбце с возрастом клиента `client_age_in_years` выглядят более правдоподобно."
   ]
  },
  {
   "cell_type": "markdown",
   "id": "a647fef5",
   "metadata": {},
   "source": [
    "**Разберем подробней столбец с трудовым стажем.**\n",
    "\n",
    "Ранее в нем были выявлены аномально большие значения. Попробуем что-то с этим сделать."
   ]
  },
  {
   "cell_type": "code",
   "execution_count": 535,
   "id": "6f5d3d86",
   "metadata": {},
   "outputs": [
    {
     "data": {
      "text/plain": [
       "count     21525.000000\n",
       "mean      60378.032733\n",
       "std      133257.558514\n",
       "min          24.141633\n",
       "25%        1025.608174\n",
       "50%        2194.220567\n",
       "75%        4779.587738\n",
       "max      401755.400475\n",
       "Name: days_employed, dtype: float64"
      ]
     },
     "execution_count": 535,
     "metadata": {},
     "output_type": "execute_result"
    }
   ],
   "source": [
    "# Еще раз посмотрим статистику по столбцу\n",
    "data['days_employed'].describe()"
   ]
  },
  {
   "cell_type": "markdown",
   "id": "0cd82313",
   "metadata": {},
   "source": [
    "Максимальное значение 1100 лет. Столько не живут и не работают.\n",
    "\n",
    "Попробуем выяснить количество клиентов с аномально большим трудовым стажем.\n",
    "\n",
    "Будем исходить из того что работать можно с 14 лет. Зная возраст, можно вычислить максимально возможный трудовой стаж.(На самом деле все должно расчитываться сложнее, но нам нужны примерные цифры для понимания)"
   ]
  },
  {
   "cell_type": "code",
   "execution_count": 536,
   "id": "ea06add8",
   "metadata": {},
   "outputs": [
    {
     "data": {
      "text/html": [
       "<div>\n",
       "<style scoped>\n",
       "    .dataframe tbody tr th:only-of-type {\n",
       "        vertical-align: middle;\n",
       "    }\n",
       "\n",
       "    .dataframe tbody tr th {\n",
       "        vertical-align: top;\n",
       "    }\n",
       "\n",
       "    .dataframe thead th {\n",
       "        text-align: right;\n",
       "    }\n",
       "</style>\n",
       "<table border=\"1\" class=\"dataframe\">\n",
       "  <thead>\n",
       "    <tr style=\"text-align: right;\">\n",
       "      <th></th>\n",
       "      <th>number_of_children</th>\n",
       "      <th>days_employed</th>\n",
       "      <th>client_age_in_years</th>\n",
       "      <th>education_level_id</th>\n",
       "      <th>family_status_id</th>\n",
       "      <th>credit_debt_status</th>\n",
       "      <th>monthly_income</th>\n",
       "      <th>max_days_of_employment</th>\n",
       "    </tr>\n",
       "  </thead>\n",
       "  <tbody>\n",
       "    <tr>\n",
       "      <td>count</td>\n",
       "      <td>3469.000000</td>\n",
       "      <td>3469.000000</td>\n",
       "      <td>3469.000000</td>\n",
       "      <td>3469.000000</td>\n",
       "      <td>3469.000000</td>\n",
       "      <td>3469.000000</td>\n",
       "      <td>3469.000000</td>\n",
       "      <td>3469.000000</td>\n",
       "    </tr>\n",
       "    <tr>\n",
       "      <td>mean</td>\n",
       "      <td>0.096281</td>\n",
       "      <td>362544.494013</td>\n",
       "      <td>59.272989</td>\n",
       "      <td>0.914961</td>\n",
       "      <td>0.980974</td>\n",
       "      <td>0.052465</td>\n",
       "      <td>137306.641663</td>\n",
       "      <td>16524.641107</td>\n",
       "    </tr>\n",
       "    <tr>\n",
       "      <td>std</td>\n",
       "      <td>0.338700</td>\n",
       "      <td>36194.383118</td>\n",
       "      <td>6.631825</td>\n",
       "      <td>0.515591</td>\n",
       "      <td>1.315416</td>\n",
       "      <td>0.222994</td>\n",
       "      <td>80215.465684</td>\n",
       "      <td>2420.616240</td>\n",
       "    </tr>\n",
       "    <tr>\n",
       "      <td>min</td>\n",
       "      <td>0.000000</td>\n",
       "      <td>2194.220567</td>\n",
       "      <td>19.000000</td>\n",
       "      <td>0.000000</td>\n",
       "      <td>0.000000</td>\n",
       "      <td>0.000000</td>\n",
       "      <td>20667.263793</td>\n",
       "      <td>1825.000000</td>\n",
       "    </tr>\n",
       "    <tr>\n",
       "      <td>25%</td>\n",
       "      <td>0.000000</td>\n",
       "      <td>346393.178654</td>\n",
       "      <td>56.000000</td>\n",
       "      <td>1.000000</td>\n",
       "      <td>0.000000</td>\n",
       "      <td>0.000000</td>\n",
       "      <td>83104.088771</td>\n",
       "      <td>15330.000000</td>\n",
       "    </tr>\n",
       "    <tr>\n",
       "      <td>50%</td>\n",
       "      <td>0.000000</td>\n",
       "      <td>364906.205736</td>\n",
       "      <td>60.000000</td>\n",
       "      <td>1.000000</td>\n",
       "      <td>0.000000</td>\n",
       "      <td>0.000000</td>\n",
       "      <td>119178.882097</td>\n",
       "      <td>16790.000000</td>\n",
       "    </tr>\n",
       "    <tr>\n",
       "      <td>75%</td>\n",
       "      <td>0.000000</td>\n",
       "      <td>383083.871098</td>\n",
       "      <td>64.000000</td>\n",
       "      <td>1.000000</td>\n",
       "      <td>2.000000</td>\n",
       "      <td>0.000000</td>\n",
       "      <td>169873.861094</td>\n",
       "      <td>18250.000000</td>\n",
       "    </tr>\n",
       "    <tr>\n",
       "      <td>max</td>\n",
       "      <td>4.000000</td>\n",
       "      <td>401755.400475</td>\n",
       "      <td>74.000000</td>\n",
       "      <td>4.000000</td>\n",
       "      <td>4.000000</td>\n",
       "      <td>1.000000</td>\n",
       "      <td>735103.270167</td>\n",
       "      <td>21900.000000</td>\n",
       "    </tr>\n",
       "  </tbody>\n",
       "</table>\n",
       "</div>"
      ],
      "text/plain": [
       "       number_of_children  days_employed  client_age_in_years  \\\n",
       "count         3469.000000    3469.000000          3469.000000   \n",
       "mean             0.096281  362544.494013            59.272989   \n",
       "std              0.338700   36194.383118             6.631825   \n",
       "min              0.000000    2194.220567            19.000000   \n",
       "25%              0.000000  346393.178654            56.000000   \n",
       "50%              0.000000  364906.205736            60.000000   \n",
       "75%              0.000000  383083.871098            64.000000   \n",
       "max              4.000000  401755.400475            74.000000   \n",
       "\n",
       "       education_level_id  family_status_id  credit_debt_status  \\\n",
       "count         3469.000000       3469.000000         3469.000000   \n",
       "mean             0.914961          0.980974            0.052465   \n",
       "std              0.515591          1.315416            0.222994   \n",
       "min              0.000000          0.000000            0.000000   \n",
       "25%              1.000000          0.000000            0.000000   \n",
       "50%              1.000000          0.000000            0.000000   \n",
       "75%              1.000000          2.000000            0.000000   \n",
       "max              4.000000          4.000000            1.000000   \n",
       "\n",
       "       monthly_income  max_days_of_employment  \n",
       "count     3469.000000             3469.000000  \n",
       "mean    137306.641663            16524.641107  \n",
       "std      80215.465684             2420.616240  \n",
       "min      20667.263793             1825.000000  \n",
       "25%      83104.088771            15330.000000  \n",
       "50%     119178.882097            16790.000000  \n",
       "75%     169873.861094            18250.000000  \n",
       "max     735103.270167            21900.000000  "
      ]
     },
     "execution_count": 536,
     "metadata": {},
     "output_type": "execute_result"
    }
   ],
   "source": [
    "# Создадим отдельный датафрейм для исследования\n",
    "data_for_employment = data.copy()\n",
    "# Создадим в этом датафреме отдельный столбец с максимально возможным значением трудового стажа\n",
    "data_for_employment['max_days_of_employment'] = (data_for_employment['client_age_in_years'] - 14) * 365\n",
    "# Создадим датафрейм в который сохраним строки по клиентам у которых указанный стаж превышает максимально возможный\n",
    "wrong_employment_data = data_for_employment[data_for_employment['days_employed'] > data_for_employment['max_days_of_employment']]\n",
    "# Выведем статистику по столбцам получившегося датафрейма\n",
    "wrong_employment_data.describe()"
   ]
  },
  {
   "cell_type": "markdown",
   "id": "93d6566f",
   "metadata": {},
   "source": [
    "Всего 3469 клиента с аномальным рабочим стажем.\n",
    "\n",
    "Из статистики видно, что средний возрас клиента с аномальным рабочим стажем 59 лет.\n",
    "\n",
    "Посмотрим разбивку по возрасту в данном датафрейме."
   ]
  },
  {
   "cell_type": "code",
   "execution_count": 537,
   "id": "d67f9aa8",
   "metadata": {},
   "outputs": [
    {
     "data": {
      "text/plain": [
       "59    271\n",
       "60    243\n",
       "62    235\n",
       "61    216\n",
       "57    212\n",
       "58    208\n",
       "63    192\n",
       "56    184\n",
       "64    179\n",
       "55    163\n",
       "54    145\n",
       "66    139\n",
       "65    136\n",
       "67    132\n",
       "53    106\n",
       "Name: client_age_in_years, dtype: int64"
      ]
     },
     "execution_count": 537,
     "metadata": {},
     "output_type": "execute_result"
    }
   ],
   "source": [
    "# Выведем первые 15 уникальных значений в столбце `client_age_in_years` отсоритрованных по возрастанию\n",
    "wrong_employment_data['client_age_in_years'].value_counts().head(15)"
   ]
  },
  {
   "cell_type": "markdown",
   "id": "8b583ebd",
   "metadata": {},
   "source": [
    "Из выборки видно что основная масса клиентов с аномальным стажем - это клиенты возраста 50+.\n",
    "Есть предположение, что вместо дней указаны часы. Но т.к. в исследовании зависимость между трудовым стажем и возвратом кредита выявлять не требуется - опустим этот вопрос."
   ]
  },
  {
   "cell_type": "markdown",
   "id": "069ba8c5",
   "metadata": {},
   "source": [
    "**Далее посмотрим столбцы с данными об образовании `education_level` и `education_level_id`.**"
   ]
  },
  {
   "cell_type": "code",
   "execution_count": 538,
   "id": "0333e1f9",
   "metadata": {},
   "outputs": [
    {
     "data": {
      "text/plain": [
       "array(['высшее', 'среднее', 'Среднее', 'СРЕДНЕЕ', 'ВЫСШЕЕ',\n",
       "       'неоконченное высшее', 'начальное', 'Высшее',\n",
       "       'НЕОКОНЧЕННОЕ ВЫСШЕЕ', 'Неоконченное высшее', 'НАЧАЛЬНОЕ',\n",
       "       'Начальное', 'Ученая степень', 'УЧЕНАЯ СТЕПЕНЬ', 'ученая степень'],\n",
       "      dtype=object)"
      ]
     },
     "execution_count": 538,
     "metadata": {},
     "output_type": "execute_result"
    }
   ],
   "source": [
    "# Посмотрим уникальные значения в столбце об уровне образования\n",
    "data['education_level'].unique()"
   ]
  },
  {
   "cell_type": "markdown",
   "id": "21a10295",
   "metadata": {},
   "source": [
    "Видим что значения уровня образования записаны в разных регистрах. Нужно будет привести эти строки к нижнему регистру."
   ]
  },
  {
   "cell_type": "code",
   "execution_count": 539,
   "id": "c136e41e",
   "metadata": {},
   "outputs": [],
   "source": [
    "# Приводим данные в столбце к нижнему регистру\n",
    "data['education_level'] = data['education_level'].str.lower()"
   ]
  },
  {
   "cell_type": "code",
   "execution_count": 540,
   "id": "0e97db39",
   "metadata": {},
   "outputs": [
    {
     "data": {
      "text/plain": [
       "array(['высшее', 'среднее', 'неоконченное высшее', 'начальное',\n",
       "       'ученая степень'], dtype=object)"
      ]
     },
     "execution_count": 540,
     "metadata": {},
     "output_type": "execute_result"
    }
   ],
   "source": [
    "# Проверим результат\n",
    "data['education_level'].unique()"
   ]
  },
  {
   "cell_type": "markdown",
   "id": "66bdd2fd",
   "metadata": {},
   "source": [
    "Осталось 5 уникальных значений. \n",
    "\n",
    "Проверим количество id"
   ]
  },
  {
   "cell_type": "code",
   "execution_count": 541,
   "id": "05b68403",
   "metadata": {},
   "outputs": [
    {
     "data": {
      "text/plain": [
       "array([0, 1, 2, 3, 4])"
      ]
     },
     "execution_count": 541,
     "metadata": {},
     "output_type": "execute_result"
    }
   ],
   "source": [
    "# Посмотрим уникальные значения в столбце с id уровней образования\n",
    "data['education_level_id'].unique()"
   ]
  },
  {
   "cell_type": "markdown",
   "id": "76adc41f",
   "metadata": {},
   "source": [
    "5 id и 5 уникальных значений. Со столбцами с данными об образовании разрбрались"
   ]
  },
  {
   "cell_type": "markdown",
   "id": "3493f22e",
   "metadata": {},
   "source": [
    "**Изучим столбцы с семейным положением `family_status` и `family_status_id`**"
   ]
  },
  {
   "cell_type": "code",
   "execution_count": 542,
   "id": "cb83c049",
   "metadata": {},
   "outputs": [
    {
     "data": {
      "text/plain": [
       "array(['женат / замужем', 'гражданский брак', 'вдовец / вдова',\n",
       "       'в разводе', 'Не женат / не замужем'], dtype=object)"
      ]
     },
     "execution_count": 542,
     "metadata": {},
     "output_type": "execute_result"
    }
   ],
   "source": [
    "# Посмотрим уникальные значения в столбце с семейным положением\n",
    "data['family_status'].unique()"
   ]
  },
  {
   "cell_type": "markdown",
   "id": "653d5f98",
   "metadata": {},
   "source": [
    "Видим 5 уникальных значений, повторов нет, но все равно видны записи в разных регистрах."
   ]
  },
  {
   "cell_type": "code",
   "execution_count": 543,
   "id": "cc402936",
   "metadata": {},
   "outputs": [],
   "source": [
    "# Приводим данные в столбце к нижнему регистру\n",
    "data['family_status'] = data['family_status'].str.lower()"
   ]
  },
  {
   "cell_type": "code",
   "execution_count": 544,
   "id": "47217091",
   "metadata": {},
   "outputs": [
    {
     "data": {
      "text/plain": [
       "array(['женат / замужем', 'гражданский брак', 'вдовец / вдова',\n",
       "       'в разводе', 'не женат / не замужем'], dtype=object)"
      ]
     },
     "execution_count": 544,
     "metadata": {},
     "output_type": "execute_result"
    }
   ],
   "source": [
    "# Проверим результат\n",
    "data['family_status'].unique()"
   ]
  },
  {
   "cell_type": "code",
   "execution_count": 545,
   "id": "4278e4e3",
   "metadata": {},
   "outputs": [
    {
     "data": {
      "text/plain": [
       "array([0, 1, 2, 3, 4])"
      ]
     },
     "execution_count": 545,
     "metadata": {},
     "output_type": "execute_result"
    }
   ],
   "source": [
    "# Посмотрим уникальные значения в столбце с id семейного положения\n",
    "data['family_status_id'].unique()"
   ]
  },
  {
   "cell_type": "markdown",
   "id": "bcc4d555",
   "metadata": {},
   "source": [
    "5 id и 5 уникальных значений. Со столбцами с данными о семейном положении разобрались"
   ]
  },
  {
   "cell_type": "markdown",
   "id": "63b7b1ce",
   "metadata": {},
   "source": [
    "**Посмотрим данные в столбце пол клиента `gender`**"
   ]
  },
  {
   "cell_type": "code",
   "execution_count": 546,
   "id": "f474c3f1",
   "metadata": {},
   "outputs": [
    {
     "data": {
      "text/plain": [
       "array(['F', 'M', 'XNA'], dtype=object)"
      ]
     },
     "execution_count": 546,
     "metadata": {},
     "output_type": "execute_result"
    }
   ],
   "source": [
    "# Посмотрим уникальные значения в столбце\n",
    "data['gender'].unique()"
   ]
  },
  {
   "cell_type": "markdown",
   "id": "6004f0e7",
   "metadata": {},
   "source": [
    "XNA - что-то странное, посмотрим как часто втречается это значение в таблице"
   ]
  },
  {
   "cell_type": "code",
   "execution_count": 547,
   "id": "d49e8183",
   "metadata": {},
   "outputs": [
    {
     "data": {
      "text/plain": [
       "F      14236\n",
       "M       7288\n",
       "XNA        1\n",
       "Name: gender, dtype: int64"
      ]
     },
     "execution_count": 547,
     "metadata": {},
     "output_type": "execute_result"
    }
   ],
   "source": [
    "# Выведем уникальные значения в столбце\n",
    "data['gender'].value_counts()"
   ]
  },
  {
   "cell_type": "markdown",
   "id": "d9c72baa",
   "metadata": {},
   "source": [
    "Значение встречается всего один раз. Просто поменяем его например на M. На исследование это повлиять не должно"
   ]
  },
  {
   "cell_type": "code",
   "execution_count": 548,
   "id": "4979273f",
   "metadata": {},
   "outputs": [],
   "source": [
    "# Заменяем аномальное значение\n",
    "data['gender'] = data['gender'].replace('XNA', 'M')"
   ]
  },
  {
   "cell_type": "code",
   "execution_count": 549,
   "id": "8e4e7613",
   "metadata": {},
   "outputs": [
    {
     "data": {
      "text/plain": [
       "F    14236\n",
       "M     7289\n",
       "Name: gender, dtype: int64"
      ]
     },
     "execution_count": 549,
     "metadata": {},
     "output_type": "execute_result"
    }
   ],
   "source": [
    "# Проверяем результат\n",
    "data['gender'].value_counts()"
   ]
  },
  {
   "cell_type": "markdown",
   "id": "52cf48e2",
   "metadata": {},
   "source": [
    "Со столбцом с полом клиентов разобрались. Скорее кто-то просто не указал пол в анкете"
   ]
  },
  {
   "cell_type": "markdown",
   "id": "d6396977",
   "metadata": {},
   "source": [
    "**Посмотрим столбец с типом занятости клиентов `employment_type`**"
   ]
  },
  {
   "cell_type": "code",
   "execution_count": 550,
   "id": "11382448",
   "metadata": {},
   "outputs": [
    {
     "data": {
      "text/plain": [
       "array(['сотрудник', 'пенсионер', 'компаньон', 'госслужащий',\n",
       "       'безработный', 'предприниматель', 'студент', 'в декрете'],\n",
       "      dtype=object)"
      ]
     },
     "execution_count": 550,
     "metadata": {},
     "output_type": "execute_result"
    }
   ],
   "source": [
    "data['employment_type'].unique()"
   ]
  },
  {
   "cell_type": "markdown",
   "id": "a46a7456",
   "metadata": {},
   "source": [
    "Со столбцом с типом занятости клиентов все в порядке"
   ]
  },
  {
   "cell_type": "markdown",
   "id": "e2c907fb",
   "metadata": {},
   "source": [
    "**Столбец с данными о задолженностях клиентов `credit_debt_status`** проверять не будем, из статистики было видно что там есть только 2 значения: 1 и 0"
   ]
  },
  {
   "cell_type": "markdown",
   "id": "40b8af0f",
   "metadata": {},
   "source": [
    "**Посмотрим столбец с уровнем дохода клиентов `monthly_income`.**\n",
    "\n",
    "Ранее мы заполняли пустые значения в данном столбце медианными значениями.\n",
    "Приведем значения в столбце к цельночисленному виду. Так будет удобней работать с данным столбцом, а на результат исследования, отсутствие копеек повлиять не должно."
   ]
  },
  {
   "cell_type": "code",
   "execution_count": 551,
   "id": "aa76f2d3",
   "metadata": {},
   "outputs": [],
   "source": [
    "# Приводим данные в столбце к цельночисленным значениям с помощью astype()\n",
    "data['monthly_income'] = data['monthly_income'].astype(int)"
   ]
  },
  {
   "cell_type": "code",
   "execution_count": 552,
   "id": "a857ae43",
   "metadata": {},
   "outputs": [
    {
     "name": "stdout",
     "output_type": "stream",
     "text": [
      "<class 'pandas.core.frame.DataFrame'>\n",
      "RangeIndex: 21525 entries, 0 to 21524\n",
      "Data columns (total 12 columns):\n",
      "number_of_children     21525 non-null int64\n",
      "days_employed          21525 non-null float64\n",
      "client_age_in_years    21525 non-null int64\n",
      "education_level        21525 non-null object\n",
      "education_level_id     21525 non-null int64\n",
      "family_status          21525 non-null object\n",
      "family_status_id       21525 non-null int64\n",
      "gender                 21525 non-null object\n",
      "employment_type        21525 non-null object\n",
      "credit_debt_status     21525 non-null int64\n",
      "monthly_income         21525 non-null int64\n",
      "credit_purpose         21525 non-null object\n",
      "dtypes: float64(1), int64(6), object(5)\n",
      "memory usage: 2.0+ MB\n"
     ]
    }
   ],
   "source": [
    "# Проверим результат\n",
    "data.info()"
   ]
  },
  {
   "cell_type": "markdown",
   "id": "f96299a9",
   "metadata": {},
   "source": [
    "Теперь с данным столбцом все в порядке"
   ]
  },
  {
   "cell_type": "markdown",
   "id": "6c940906",
   "metadata": {},
   "source": [
    "**Посмотрим столбец с целью кредита `credit_purpose`**"
   ]
  },
  {
   "cell_type": "code",
   "execution_count": 553,
   "id": "28c4a84f",
   "metadata": {},
   "outputs": [
    {
     "data": {
      "text/plain": [
       "array(['покупка жилья', 'приобретение автомобиля',\n",
       "       'дополнительное образование', 'сыграть свадьбу',\n",
       "       'операции с жильем', 'образование', 'на проведение свадьбы',\n",
       "       'покупка жилья для семьи', 'покупка недвижимости',\n",
       "       'покупка коммерческой недвижимости', 'покупка жилой недвижимости',\n",
       "       'строительство собственной недвижимости', 'недвижимость',\n",
       "       'строительство недвижимости', 'на покупку подержанного автомобиля',\n",
       "       'на покупку своего автомобиля',\n",
       "       'операции с коммерческой недвижимостью',\n",
       "       'строительство жилой недвижимости', 'жилье',\n",
       "       'операции со своей недвижимостью', 'автомобили',\n",
       "       'заняться образованием', 'сделка с подержанным автомобилем',\n",
       "       'получение образования', 'автомобиль', 'свадьба',\n",
       "       'получение дополнительного образования', 'покупка своего жилья',\n",
       "       'операции с недвижимостью', 'получение высшего образования',\n",
       "       'свой автомобиль', 'сделка с автомобилем',\n",
       "       'профильное образование', 'высшее образование',\n",
       "       'покупка жилья для сдачи', 'на покупку автомобиля', 'ремонт жилью',\n",
       "       'заняться высшим образованием'], dtype=object)"
      ]
     },
     "metadata": {},
     "output_type": "display_data"
    },
    {
     "data": {
      "text/plain": [
       "count       21525\n",
       "unique         38\n",
       "top       свадьба\n",
       "freq          797\n",
       "Name: credit_purpose, dtype: object"
      ]
     },
     "metadata": {},
     "output_type": "display_data"
    }
   ],
   "source": [
    "# Посмотрим уникальные значения в столбце\n",
    "display(data['credit_purpose'].unique())\n",
    "# Посмотрим статистику по столбцу\n",
    "display(data['credit_purpose'].describe())"
   ]
  },
  {
   "cell_type": "markdown",
   "id": "c77f9610",
   "metadata": {},
   "source": [
    "Выявлено 38 уникальных значений. Все значения в нижнем регистре. Аномалий требующих исправления не обнаружено. Нужно будет конечно категоризировать данный столбец для удобства исследования"
   ]
  },
  {
   "cell_type": "markdown",
   "id": "5df9024f",
   "metadata": {},
   "source": [
    "### Удаление дубликатов."
   ]
  },
  {
   "cell_type": "markdown",
   "id": "ec832f38",
   "metadata": {},
   "source": [
    "После выявления и устранения аномалия в датафрейме поищем дубликаты"
   ]
  },
  {
   "cell_type": "code",
   "execution_count": 554,
   "id": "3aa14b34",
   "metadata": {},
   "outputs": [
    {
     "data": {
      "text/plain": [
       "71"
      ]
     },
     "execution_count": 554,
     "metadata": {},
     "output_type": "execute_result"
    }
   ],
   "source": [
    "# Посмотрим количество дубликатов в датафрейме\n",
    "data.duplicated().sum()"
   ]
  },
  {
   "cell_type": "markdown",
   "id": "7254ac7a",
   "metadata": {},
   "source": [
    "Найден 71 дубликат.\n",
    "\n",
    "Так как в датафрейме нет ключевого значения (id клиента) для понимания задвоились ли данные одного и того же клиента или это просто полное совпадение данных разных клиентов примем одинаковые строки за явные дубликаты и удалим их."
   ]
  },
  {
   "cell_type": "code",
   "execution_count": 555,
   "id": "7e876694",
   "metadata": {},
   "outputs": [
    {
     "data": {
      "text/plain": [
       "0"
      ]
     },
     "execution_count": 555,
     "metadata": {},
     "output_type": "execute_result"
    }
   ],
   "source": [
    "# Удаляем дубликаты с перестройкой индексов\n",
    "data = data.drop_duplicates().reset_index(drop=True)\n",
    "# Проверяем результат\n",
    "data.duplicated().sum()"
   ]
  },
  {
   "cell_type": "markdown",
   "id": "46057288",
   "metadata": {},
   "source": [
    "В датафрейме была найдена 71 дублирующаяся строка. Это составляет 0,33% от всех данных. Найденные строки были удалены при помощи метода drop_duplicates() со сбросом индексов"
   ]
  },
  {
   "cell_type": "markdown",
   "id": "4d451e8b",
   "metadata": {},
   "source": [
    "### Формирование дополнительных датафреймов словарей, декомпозиция исходного датафрейма."
   ]
  },
  {
   "cell_type": "markdown",
   "id": "59529072",
   "metadata": {},
   "source": [
    "Создадим словари для уровня образования `education_level` и семейного положения `family_status` клиентов.\n",
    "\n",
    "Удалим эти столбцы из изначального датафрейма для обращения к словорям по id."
   ]
  },
  {
   "cell_type": "code",
   "execution_count": 556,
   "id": "66258745",
   "metadata": {},
   "outputs": [
    {
     "data": {
      "text/html": [
       "<div>\n",
       "<style scoped>\n",
       "    .dataframe tbody tr th:only-of-type {\n",
       "        vertical-align: middle;\n",
       "    }\n",
       "\n",
       "    .dataframe tbody tr th {\n",
       "        vertical-align: top;\n",
       "    }\n",
       "\n",
       "    .dataframe thead th {\n",
       "        text-align: right;\n",
       "    }\n",
       "</style>\n",
       "<table border=\"1\" class=\"dataframe\">\n",
       "  <thead>\n",
       "    <tr style=\"text-align: right;\">\n",
       "      <th></th>\n",
       "      <th>education_level</th>\n",
       "      <th>education_level_id</th>\n",
       "    </tr>\n",
       "  </thead>\n",
       "  <tbody>\n",
       "    <tr>\n",
       "      <td>0</td>\n",
       "      <td>высшее</td>\n",
       "      <td>0</td>\n",
       "    </tr>\n",
       "    <tr>\n",
       "      <td>1</td>\n",
       "      <td>среднее</td>\n",
       "      <td>1</td>\n",
       "    </tr>\n",
       "    <tr>\n",
       "      <td>2</td>\n",
       "      <td>неоконченное высшее</td>\n",
       "      <td>2</td>\n",
       "    </tr>\n",
       "    <tr>\n",
       "      <td>3</td>\n",
       "      <td>начальное</td>\n",
       "      <td>3</td>\n",
       "    </tr>\n",
       "    <tr>\n",
       "      <td>4</td>\n",
       "      <td>ученая степень</td>\n",
       "      <td>4</td>\n",
       "    </tr>\n",
       "  </tbody>\n",
       "</table>\n",
       "</div>"
      ],
      "text/plain": [
       "       education_level  education_level_id\n",
       "0               высшее                   0\n",
       "1              среднее                   1\n",
       "2  неоконченное высшее                   2\n",
       "3            начальное                   3\n",
       "4       ученая степень                   4"
      ]
     },
     "execution_count": 556,
     "metadata": {},
     "output_type": "execute_result"
    }
   ],
   "source": [
    "# Создаем датафрейм который будет служить словарем для уровней образования.\n",
    "education_level_dict = data[['education_level','education_level_id']]\n",
    "# Удаляем дубликаты из полученного датафрейма с сортировкой по возрастанию id для удобства\n",
    "education_level_dict = education_level_dict.drop_duplicates().reset_index(drop=True).sort_values('education_level_id')\n",
    "# Проверяем результат\n",
    "education_level_dict"
   ]
  },
  {
   "cell_type": "code",
   "execution_count": 557,
   "id": "1e361600",
   "metadata": {},
   "outputs": [
    {
     "data": {
      "text/html": [
       "<div>\n",
       "<style scoped>\n",
       "    .dataframe tbody tr th:only-of-type {\n",
       "        vertical-align: middle;\n",
       "    }\n",
       "\n",
       "    .dataframe tbody tr th {\n",
       "        vertical-align: top;\n",
       "    }\n",
       "\n",
       "    .dataframe thead th {\n",
       "        text-align: right;\n",
       "    }\n",
       "</style>\n",
       "<table border=\"1\" class=\"dataframe\">\n",
       "  <thead>\n",
       "    <tr style=\"text-align: right;\">\n",
       "      <th></th>\n",
       "      <th>number_of_children</th>\n",
       "      <th>days_employed</th>\n",
       "      <th>client_age_in_years</th>\n",
       "      <th>education_level_id</th>\n",
       "      <th>family_status</th>\n",
       "      <th>family_status_id</th>\n",
       "      <th>gender</th>\n",
       "      <th>employment_type</th>\n",
       "      <th>credit_debt_status</th>\n",
       "      <th>monthly_income</th>\n",
       "      <th>credit_purpose</th>\n",
       "    </tr>\n",
       "  </thead>\n",
       "  <tbody>\n",
       "    <tr>\n",
       "      <td>0</td>\n",
       "      <td>1</td>\n",
       "      <td>8437.673028</td>\n",
       "      <td>42</td>\n",
       "      <td>0</td>\n",
       "      <td>женат / замужем</td>\n",
       "      <td>0</td>\n",
       "      <td>F</td>\n",
       "      <td>сотрудник</td>\n",
       "      <td>0</td>\n",
       "      <td>253875</td>\n",
       "      <td>покупка жилья</td>\n",
       "    </tr>\n",
       "    <tr>\n",
       "      <td>1</td>\n",
       "      <td>1</td>\n",
       "      <td>4024.803754</td>\n",
       "      <td>36</td>\n",
       "      <td>1</td>\n",
       "      <td>женат / замужем</td>\n",
       "      <td>0</td>\n",
       "      <td>F</td>\n",
       "      <td>сотрудник</td>\n",
       "      <td>0</td>\n",
       "      <td>112080</td>\n",
       "      <td>приобретение автомобиля</td>\n",
       "    </tr>\n",
       "    <tr>\n",
       "      <td>2</td>\n",
       "      <td>0</td>\n",
       "      <td>5623.422610</td>\n",
       "      <td>33</td>\n",
       "      <td>1</td>\n",
       "      <td>женат / замужем</td>\n",
       "      <td>0</td>\n",
       "      <td>M</td>\n",
       "      <td>сотрудник</td>\n",
       "      <td>0</td>\n",
       "      <td>145885</td>\n",
       "      <td>покупка жилья</td>\n",
       "    </tr>\n",
       "    <tr>\n",
       "      <td>3</td>\n",
       "      <td>3</td>\n",
       "      <td>4124.747207</td>\n",
       "      <td>32</td>\n",
       "      <td>1</td>\n",
       "      <td>женат / замужем</td>\n",
       "      <td>0</td>\n",
       "      <td>M</td>\n",
       "      <td>сотрудник</td>\n",
       "      <td>0</td>\n",
       "      <td>267628</td>\n",
       "      <td>дополнительное образование</td>\n",
       "    </tr>\n",
       "    <tr>\n",
       "      <td>4</td>\n",
       "      <td>0</td>\n",
       "      <td>340266.072047</td>\n",
       "      <td>53</td>\n",
       "      <td>1</td>\n",
       "      <td>гражданский брак</td>\n",
       "      <td>1</td>\n",
       "      <td>F</td>\n",
       "      <td>пенсионер</td>\n",
       "      <td>0</td>\n",
       "      <td>158616</td>\n",
       "      <td>сыграть свадьбу</td>\n",
       "    </tr>\n",
       "  </tbody>\n",
       "</table>\n",
       "</div>"
      ],
      "text/plain": [
       "   number_of_children  days_employed  client_age_in_years  education_level_id  \\\n",
       "0                   1    8437.673028                   42                   0   \n",
       "1                   1    4024.803754                   36                   1   \n",
       "2                   0    5623.422610                   33                   1   \n",
       "3                   3    4124.747207                   32                   1   \n",
       "4                   0  340266.072047                   53                   1   \n",
       "\n",
       "      family_status  family_status_id gender employment_type  \\\n",
       "0   женат / замужем                 0      F       сотрудник   \n",
       "1   женат / замужем                 0      F       сотрудник   \n",
       "2   женат / замужем                 0      M       сотрудник   \n",
       "3   женат / замужем                 0      M       сотрудник   \n",
       "4  гражданский брак                 1      F       пенсионер   \n",
       "\n",
       "   credit_debt_status  monthly_income              credit_purpose  \n",
       "0                   0          253875               покупка жилья  \n",
       "1                   0          112080     приобретение автомобиля  \n",
       "2                   0          145885               покупка жилья  \n",
       "3                   0          267628  дополнительное образование  \n",
       "4                   0          158616             сыграть свадьбу  "
      ]
     },
     "execution_count": 557,
     "metadata": {},
     "output_type": "execute_result"
    }
   ],
   "source": [
    "# Удаление столбца об уровне образования из исходного датафрейма\n",
    "data = data.drop(columns = ['education_level'],axis = 1)\n",
    "# Проверяем результат\n",
    "data.head(5)"
   ]
  },
  {
   "cell_type": "code",
   "execution_count": 558,
   "id": "f6e864b3",
   "metadata": {},
   "outputs": [
    {
     "data": {
      "text/html": [
       "<div>\n",
       "<style scoped>\n",
       "    .dataframe tbody tr th:only-of-type {\n",
       "        vertical-align: middle;\n",
       "    }\n",
       "\n",
       "    .dataframe tbody tr th {\n",
       "        vertical-align: top;\n",
       "    }\n",
       "\n",
       "    .dataframe thead th {\n",
       "        text-align: right;\n",
       "    }\n",
       "</style>\n",
       "<table border=\"1\" class=\"dataframe\">\n",
       "  <thead>\n",
       "    <tr style=\"text-align: right;\">\n",
       "      <th></th>\n",
       "      <th>family_status</th>\n",
       "      <th>family_status_id</th>\n",
       "    </tr>\n",
       "  </thead>\n",
       "  <tbody>\n",
       "    <tr>\n",
       "      <td>0</td>\n",
       "      <td>женат / замужем</td>\n",
       "      <td>0</td>\n",
       "    </tr>\n",
       "    <tr>\n",
       "      <td>1</td>\n",
       "      <td>гражданский брак</td>\n",
       "      <td>1</td>\n",
       "    </tr>\n",
       "    <tr>\n",
       "      <td>2</td>\n",
       "      <td>вдовец / вдова</td>\n",
       "      <td>2</td>\n",
       "    </tr>\n",
       "    <tr>\n",
       "      <td>3</td>\n",
       "      <td>в разводе</td>\n",
       "      <td>3</td>\n",
       "    </tr>\n",
       "    <tr>\n",
       "      <td>4</td>\n",
       "      <td>не женат / не замужем</td>\n",
       "      <td>4</td>\n",
       "    </tr>\n",
       "  </tbody>\n",
       "</table>\n",
       "</div>"
      ],
      "text/plain": [
       "           family_status  family_status_id\n",
       "0        женат / замужем                 0\n",
       "1       гражданский брак                 1\n",
       "2         вдовец / вдова                 2\n",
       "3              в разводе                 3\n",
       "4  не женат / не замужем                 4"
      ]
     },
     "execution_count": 558,
     "metadata": {},
     "output_type": "execute_result"
    }
   ],
   "source": [
    "# Создаем датафрейм который будет служить словарем для семейного положения.\n",
    "family_status_dict = data[['family_status','family_status_id']]\n",
    "# Удаляем дубликаты из полученного датафрейма с сортировкой по возрастанию id для удобства\n",
    "family_status_dict = family_status_dict.drop_duplicates().reset_index(drop=True).sort_values('family_status_id')\n",
    "# Проверяем результат\n",
    "family_status_dict"
   ]
  },
  {
   "cell_type": "code",
   "execution_count": 559,
   "id": "573cd172",
   "metadata": {},
   "outputs": [
    {
     "data": {
      "text/html": [
       "<div>\n",
       "<style scoped>\n",
       "    .dataframe tbody tr th:only-of-type {\n",
       "        vertical-align: middle;\n",
       "    }\n",
       "\n",
       "    .dataframe tbody tr th {\n",
       "        vertical-align: top;\n",
       "    }\n",
       "\n",
       "    .dataframe thead th {\n",
       "        text-align: right;\n",
       "    }\n",
       "</style>\n",
       "<table border=\"1\" class=\"dataframe\">\n",
       "  <thead>\n",
       "    <tr style=\"text-align: right;\">\n",
       "      <th></th>\n",
       "      <th>number_of_children</th>\n",
       "      <th>days_employed</th>\n",
       "      <th>client_age_in_years</th>\n",
       "      <th>education_level_id</th>\n",
       "      <th>family_status_id</th>\n",
       "      <th>gender</th>\n",
       "      <th>employment_type</th>\n",
       "      <th>credit_debt_status</th>\n",
       "      <th>monthly_income</th>\n",
       "      <th>credit_purpose</th>\n",
       "    </tr>\n",
       "  </thead>\n",
       "  <tbody>\n",
       "    <tr>\n",
       "      <td>0</td>\n",
       "      <td>1</td>\n",
       "      <td>8437.673028</td>\n",
       "      <td>42</td>\n",
       "      <td>0</td>\n",
       "      <td>0</td>\n",
       "      <td>F</td>\n",
       "      <td>сотрудник</td>\n",
       "      <td>0</td>\n",
       "      <td>253875</td>\n",
       "      <td>покупка жилья</td>\n",
       "    </tr>\n",
       "    <tr>\n",
       "      <td>1</td>\n",
       "      <td>1</td>\n",
       "      <td>4024.803754</td>\n",
       "      <td>36</td>\n",
       "      <td>1</td>\n",
       "      <td>0</td>\n",
       "      <td>F</td>\n",
       "      <td>сотрудник</td>\n",
       "      <td>0</td>\n",
       "      <td>112080</td>\n",
       "      <td>приобретение автомобиля</td>\n",
       "    </tr>\n",
       "    <tr>\n",
       "      <td>2</td>\n",
       "      <td>0</td>\n",
       "      <td>5623.422610</td>\n",
       "      <td>33</td>\n",
       "      <td>1</td>\n",
       "      <td>0</td>\n",
       "      <td>M</td>\n",
       "      <td>сотрудник</td>\n",
       "      <td>0</td>\n",
       "      <td>145885</td>\n",
       "      <td>покупка жилья</td>\n",
       "    </tr>\n",
       "    <tr>\n",
       "      <td>3</td>\n",
       "      <td>3</td>\n",
       "      <td>4124.747207</td>\n",
       "      <td>32</td>\n",
       "      <td>1</td>\n",
       "      <td>0</td>\n",
       "      <td>M</td>\n",
       "      <td>сотрудник</td>\n",
       "      <td>0</td>\n",
       "      <td>267628</td>\n",
       "      <td>дополнительное образование</td>\n",
       "    </tr>\n",
       "    <tr>\n",
       "      <td>4</td>\n",
       "      <td>0</td>\n",
       "      <td>340266.072047</td>\n",
       "      <td>53</td>\n",
       "      <td>1</td>\n",
       "      <td>1</td>\n",
       "      <td>F</td>\n",
       "      <td>пенсионер</td>\n",
       "      <td>0</td>\n",
       "      <td>158616</td>\n",
       "      <td>сыграть свадьбу</td>\n",
       "    </tr>\n",
       "  </tbody>\n",
       "</table>\n",
       "</div>"
      ],
      "text/plain": [
       "   number_of_children  days_employed  client_age_in_years  education_level_id  \\\n",
       "0                   1    8437.673028                   42                   0   \n",
       "1                   1    4024.803754                   36                   1   \n",
       "2                   0    5623.422610                   33                   1   \n",
       "3                   3    4124.747207                   32                   1   \n",
       "4                   0  340266.072047                   53                   1   \n",
       "\n",
       "   family_status_id gender employment_type  credit_debt_status  \\\n",
       "0                 0      F       сотрудник                   0   \n",
       "1                 0      F       сотрудник                   0   \n",
       "2                 0      M       сотрудник                   0   \n",
       "3                 0      M       сотрудник                   0   \n",
       "4                 1      F       пенсионер                   0   \n",
       "\n",
       "   monthly_income              credit_purpose  \n",
       "0          253875               покупка жилья  \n",
       "1          112080     приобретение автомобиля  \n",
       "2          145885               покупка жилья  \n",
       "3          267628  дополнительное образование  \n",
       "4          158616             сыграть свадьбу  "
      ]
     },
     "execution_count": 559,
     "metadata": {},
     "output_type": "execute_result"
    }
   ],
   "source": [
    "# Удаление столбца о семейном положении из исходного датафрейма\n",
    "data = data.drop(columns = ['family_status'],axis = 1)\n",
    "# Проверяем результат\n",
    "data.head(5)"
   ]
  },
  {
   "cell_type": "markdown",
   "id": "0d41ba92",
   "metadata": {},
   "source": [
    "Создали дополнительные словари, сделали декомпозицию исходного датафрейма."
   ]
  },
  {
   "cell_type": "markdown",
   "id": "8ad32491",
   "metadata": {},
   "source": [
    "### Категоризация дохода."
   ]
  },
  {
   "cell_type": "markdown",
   "id": "0d2b59cd",
   "metadata": {},
   "source": [
    "Добавим в датафрейм столбец с категорией клиентов по уровню ежемесячного дохода:\n",
    "\n",
    "- 0–30000 — E\n",
    "- 30001–50000 — D\n",
    "- 50001–200000 — C\n",
    "- 200001–1000000 — B\n",
    "- 1000001 и выше — A"
   ]
  },
  {
   "cell_type": "code",
   "execution_count": 560,
   "id": "bfa4ba2d",
   "metadata": {},
   "outputs": [
    {
     "data": {
      "text/plain": [
       "C    16016\n",
       "B     5041\n",
       "D      350\n",
       "A       25\n",
       "E       22\n",
       "Name: total_income_category, dtype: int64"
      ]
     },
     "execution_count": 560,
     "metadata": {},
     "output_type": "execute_result"
    }
   ],
   "source": [
    "# Создадим функцию которая, в зависимости от уровня дохода клиента,\n",
    "# присвоит ему соответствующую категорию и запишет ее в соответстующий столбец `total_income_category`\n",
    "def total_income_category(row):\n",
    "    monthly_income = row['monthly_income']\n",
    "    if monthly_income >= 0 and monthly_income <= 30000:\n",
    "        return 'E'\n",
    "    if monthly_income >= 30001 and monthly_income <= 50000:\n",
    "        return 'D'\n",
    "    if monthly_income >= 50001 and monthly_income <= 200000:\n",
    "        return 'C'\n",
    "    if monthly_income >= 200001 and monthly_income <= 1000000:\n",
    "        return 'B'\n",
    "    return 'A'\n",
    "data['total_income_category'] = data.apply(total_income_category, axis=1)\n",
    "# Посчитаем количество клиентов разбитых по категориям\n",
    "data['total_income_category'].value_counts()"
   ]
  },
  {
   "cell_type": "markdown",
   "id": "9aedc86f",
   "metadata": {},
   "source": [
    "Категоризацию клиентов по уровню дохода сделали. Большинство клиентов попадают в категории `С` и `B`"
   ]
  },
  {
   "cell_type": "markdown",
   "id": "383026e9",
   "metadata": {},
   "source": [
    "### Категоризация целей кредита."
   ]
  },
  {
   "cell_type": "markdown",
   "id": "50dd7925",
   "metadata": {},
   "source": [
    "Разобьем цели кредита на категории:\n",
    "\n",
    "- операции с автомобилем\n",
    "- операции с недвижимостью\n",
    "- проведение свадьбы\n",
    "- получение образования"
   ]
  },
  {
   "cell_type": "code",
   "execution_count": 561,
   "id": "12af3c85",
   "metadata": {},
   "outputs": [
    {
     "data": {
      "text/plain": [
       "['покупка жилья',\n",
       " 'приобретение автомобиля',\n",
       " 'дополнительное образование',\n",
       " 'сыграть свадьбу',\n",
       " 'операции с жильем',\n",
       " 'образование',\n",
       " 'на проведение свадьбы',\n",
       " 'покупка жилья для семьи',\n",
       " 'покупка недвижимости',\n",
       " 'покупка коммерческой недвижимости',\n",
       " 'покупка жилой недвижимости',\n",
       " 'строительство собственной недвижимости',\n",
       " 'недвижимость',\n",
       " 'строительство недвижимости',\n",
       " 'на покупку подержанного автомобиля',\n",
       " 'на покупку своего автомобиля',\n",
       " 'операции с коммерческой недвижимостью',\n",
       " 'строительство жилой недвижимости',\n",
       " 'жилье',\n",
       " 'операции со своей недвижимостью',\n",
       " 'автомобили',\n",
       " 'заняться образованием',\n",
       " 'сделка с подержанным автомобилем',\n",
       " 'получение образования',\n",
       " 'автомобиль',\n",
       " 'свадьба',\n",
       " 'получение дополнительного образования',\n",
       " 'покупка своего жилья',\n",
       " 'операции с недвижимостью',\n",
       " 'получение высшего образования',\n",
       " 'свой автомобиль',\n",
       " 'сделка с автомобилем',\n",
       " 'профильное образование',\n",
       " 'высшее образование',\n",
       " 'покупка жилья для сдачи',\n",
       " 'на покупку автомобиля',\n",
       " 'ремонт жилью',\n",
       " 'заняться высшим образованием']"
      ]
     },
     "execution_count": 561,
     "metadata": {},
     "output_type": "execute_result"
    }
   ],
   "source": [
    "# Выводим уникальные значения столбца с целями кредита `credit_purpose`\n",
    "data['credit_purpose'].unique().tolist()"
   ]
  },
  {
   "cell_type": "code",
   "execution_count": 562,
   "id": "8ae4a1ee",
   "metadata": {},
   "outputs": [
    {
     "data": {
      "text/plain": [
       "операции с недвижимостью    10811\n",
       "операции с автомобилем       4306\n",
       "получение образования        4013\n",
       "проведение свадьбы           2324\n",
       "Name: purpose_category, dtype: int64"
      ]
     },
     "execution_count": 562,
     "metadata": {},
     "output_type": "execute_result"
    }
   ],
   "source": [
    "# Создадим функцию которая, в зависимости от цели кредита,\n",
    "# присвоит ей соответствующую категорию и запишет ее в соответстующий столбец `purpose_category`\n",
    "def purpose_category(row):\n",
    "    purpose_category_data = row['credit_purpose']\n",
    "    if 'образован' in purpose_category_data:\n",
    "             return 'получение образования'\n",
    "    if 'авто' in purpose_category_data:\n",
    "             return 'операции с автомобилем'\n",
    "    if 'свадь' in purpose_category_data:\n",
    "             return 'проведение свадьбы'\n",
    "    if 'жиль' in purpose_category_data:\n",
    "             return 'операции с недвижимостью'\n",
    "    if 'недв' in purpose_category_data:\n",
    "             return 'операции с недвижимостью'\n",
    "    return 'ошибка классификации'\n",
    "data['purpose_category'] = data.apply(purpose_category, axis=1)\n",
    "# Посчитаем количество клиентов разбитых по категориям\n",
    "data['purpose_category'].value_counts()"
   ]
  },
  {
   "cell_type": "markdown",
   "id": "1afc7591",
   "metadata": {},
   "source": [
    "Самой большой популярностью пользуются кредиты на операции с недвижимостью."
   ]
  },
  {
   "cell_type": "markdown",
   "id": "d3ad0486",
   "metadata": {},
   "source": [
    "## Ответы на вопросы."
   ]
  },
  {
   "cell_type": "markdown",
   "id": "b6d1aa2a",
   "metadata": {},
   "source": [
    "### Вопрос 1. Есть ли зависимость между количеством детей и возвратом кредита в срок?:"
   ]
  },
  {
   "cell_type": "code",
   "execution_count": 563,
   "id": "b4aaca7f",
   "metadata": {},
   "outputs": [
    {
     "data": {
      "text/plain": [
       "0    14091\n",
       "1     4855\n",
       "2     2128\n",
       "3      330\n",
       "4       41\n",
       "5        9\n",
       "Name: number_of_children, dtype: int64"
      ]
     },
     "execution_count": 563,
     "metadata": {},
     "output_type": "execute_result"
    }
   ],
   "source": [
    "# Еще раз посмотрим разбивку клиентов по количеству детей\n",
    "data['number_of_children'].value_counts()"
   ]
  },
  {
   "cell_type": "markdown",
   "id": "3fa0a98a",
   "metadata": {},
   "source": [
    "Клиентов с 5-ю детьми всего 9. Возможно выборка по таким клиентам будет не репрезентативна, но мы ее все равно посчитаем."
   ]
  },
  {
   "cell_type": "code",
   "execution_count": 564,
   "id": "19e9b7f0",
   "metadata": {},
   "outputs": [
    {
     "data": {
      "text/html": [
       "<div>\n",
       "<style scoped>\n",
       "    .dataframe tbody tr th:only-of-type {\n",
       "        vertical-align: middle;\n",
       "    }\n",
       "\n",
       "    .dataframe tbody tr th {\n",
       "        vertical-align: top;\n",
       "    }\n",
       "\n",
       "    .dataframe thead th {\n",
       "        text-align: right;\n",
       "    }\n",
       "</style>\n",
       "<table border=\"1\" class=\"dataframe\">\n",
       "  <thead>\n",
       "    <tr style=\"text-align: right;\">\n",
       "      <th></th>\n",
       "      <th>credit_debt_status</th>\n",
       "    </tr>\n",
       "    <tr>\n",
       "      <th>number_of_children</th>\n",
       "      <th></th>\n",
       "    </tr>\n",
       "  </thead>\n",
       "  <tbody>\n",
       "    <tr>\n",
       "      <td>5</td>\n",
       "      <td>0.000000</td>\n",
       "    </tr>\n",
       "    <tr>\n",
       "      <td>0</td>\n",
       "      <td>7.543822</td>\n",
       "    </tr>\n",
       "    <tr>\n",
       "      <td>3</td>\n",
       "      <td>8.181818</td>\n",
       "    </tr>\n",
       "    <tr>\n",
       "      <td>1</td>\n",
       "      <td>9.165808</td>\n",
       "    </tr>\n",
       "    <tr>\n",
       "      <td>2</td>\n",
       "      <td>9.492481</td>\n",
       "    </tr>\n",
       "    <tr>\n",
       "      <td>4</td>\n",
       "      <td>9.756098</td>\n",
       "    </tr>\n",
       "  </tbody>\n",
       "</table>\n",
       "</div>"
      ],
      "text/plain": [
       "                    credit_debt_status\n",
       "number_of_children                    \n",
       "5                             0.000000\n",
       "0                             7.543822\n",
       "3                             8.181818\n",
       "1                             9.165808\n",
       "2                             9.492481\n",
       "4                             9.756098"
      ]
     },
     "execution_count": 564,
     "metadata": {},
     "output_type": "execute_result"
    }
   ],
   "source": [
    "# Создадим сводную таблицу `children_pivot` в которой подсчитаем отношение не возвращенных в срок кредитов к возвращенным.\n",
    "children_pivot = data.pivot_table(index = ['number_of_children'],\n",
    "                                  values = 'credit_debt_status').sort_values(by = 'credit_debt_status', ascending = True)\n",
    "# Выведем % не возвращенных в срок кредитов\n",
    "children_pivot * 100"
   ]
  },
  {
   "cell_type": "markdown",
   "id": "fe671606",
   "metadata": {},
   "source": [
    "### Вывод"
   ]
  },
  {
   "cell_type": "markdown",
   "id": "67138f40",
   "metadata": {},
   "source": [
    "Клиенты с 4-мя(**9,76%**) и 2-мя(**9,49%**) детьми хуже всего возвращают кредиты в срок. Количество клиентов 4-мя детьми не много, выборка по таким клиентам не очень репрезентативна\n",
    "\n",
    "Клиенты с 5-ю детьми всегда возвращают кредит в срок, но количество таких клиентов не репрезентативно.\n",
    "Чаще всего возвращают кредиты в срок бездетные клиенты(**7,54%**)"
   ]
  },
  {
   "cell_type": "markdown",
   "id": "3b8ffcc5",
   "metadata": {},
   "source": [
    "### Вопрос 2. Есть ли зависимость между семейным положением и возвратом кредита в срок?:"
   ]
  },
  {
   "cell_type": "code",
   "execution_count": 565,
   "id": "a4a147bd",
   "metadata": {},
   "outputs": [
    {
     "data": {
      "text/plain": [
       "женат / замужем          12339\n",
       "гражданский брак          4151\n",
       "не женат / не замужем     2810\n",
       "в разводе                 1195\n",
       "вдовец / вдова             959\n",
       "Name: family_status, dtype: int64"
      ]
     },
     "execution_count": 565,
     "metadata": {},
     "output_type": "execute_result"
    }
   ],
   "source": [
    "# Посмотрим разбивку клиентов по семейному положению\n",
    "# Т.к. ранее мы создавали словарь для создавали словарь для семейного положения `family_status_dict`\n",
    "# и в исходном датафрейме оставили только id с помощью merge() создадим отдельный датафрейм по id семейного положения\n",
    "data_family_status = data.merge(family_status_dict, on='family_status_id', how='left')\n",
    "# Выведем данные с разбивкой по семейному статусу из этого датафрейма\n",
    "data_family_status['family_status'].value_counts()"
   ]
  },
  {
   "cell_type": "code",
   "execution_count": 566,
   "id": "835abfdc",
   "metadata": {},
   "outputs": [
    {
     "data": {
      "text/html": [
       "<div>\n",
       "<style scoped>\n",
       "    .dataframe tbody tr th:only-of-type {\n",
       "        vertical-align: middle;\n",
       "    }\n",
       "\n",
       "    .dataframe tbody tr th {\n",
       "        vertical-align: top;\n",
       "    }\n",
       "\n",
       "    .dataframe thead th {\n",
       "        text-align: right;\n",
       "    }\n",
       "</style>\n",
       "<table border=\"1\" class=\"dataframe\">\n",
       "  <thead>\n",
       "    <tr style=\"text-align: right;\">\n",
       "      <th></th>\n",
       "      <th>credit_debt_status</th>\n",
       "    </tr>\n",
       "    <tr>\n",
       "      <th>family_status</th>\n",
       "      <th></th>\n",
       "    </tr>\n",
       "  </thead>\n",
       "  <tbody>\n",
       "    <tr>\n",
       "      <td>вдовец / вдова</td>\n",
       "      <td>6.569343</td>\n",
       "    </tr>\n",
       "    <tr>\n",
       "      <td>в разводе</td>\n",
       "      <td>7.112971</td>\n",
       "    </tr>\n",
       "    <tr>\n",
       "      <td>женат / замужем</td>\n",
       "      <td>7.545182</td>\n",
       "    </tr>\n",
       "    <tr>\n",
       "      <td>гражданский брак</td>\n",
       "      <td>9.347145</td>\n",
       "    </tr>\n",
       "    <tr>\n",
       "      <td>не женат / не замужем</td>\n",
       "      <td>9.750890</td>\n",
       "    </tr>\n",
       "  </tbody>\n",
       "</table>\n",
       "</div>"
      ],
      "text/plain": [
       "                       credit_debt_status\n",
       "family_status                            \n",
       "вдовец / вдова                   6.569343\n",
       "в разводе                        7.112971\n",
       "женат / замужем                  7.545182\n",
       "гражданский брак                 9.347145\n",
       "не женат / не замужем            9.750890"
      ]
     },
     "execution_count": 566,
     "metadata": {},
     "output_type": "execute_result"
    }
   ],
   "source": [
    "# Создадим сводную таблицу `family_status_pivot` в которой подсчитаем отношение не возвращенных в срок кредитов к возвращенным.\n",
    "family_status_pivot = data_family_status.pivot_table(index = ['family_status'],\n",
    "                                                     values = 'credit_debt_status').sort_values(by = 'credit_debt_status', ascending = True)\n",
    "# Выведем % не возвращенных в срок кредитов\n",
    "family_status_pivot * 100"
   ]
  },
  {
   "cell_type": "markdown",
   "id": "b5849fe5",
   "metadata": {},
   "source": [
    "### Вывод"
   ]
  },
  {
   "cell_type": "markdown",
   "id": "cc726e06",
   "metadata": {},
   "source": [
    "Хуже всего возвращают кредиты в срок клиенты находящиеся в гражданском браке(**9,34%**) либо не женатые/не замужние(**9,75%**).\n",
    "\n",
    "Вдовы/вдовцы чаще других возвращают кредиты в срок(**6,57%**)."
   ]
  },
  {
   "cell_type": "markdown",
   "id": "3a2ca7e6",
   "metadata": {},
   "source": [
    "### Вопрос 3. Есть ли зависимость между уровнем дохода и возвратом кредита в срок?:"
   ]
  },
  {
   "cell_type": "code",
   "execution_count": 567,
   "id": "de5c27e7",
   "metadata": {},
   "outputs": [
    {
     "data": {
      "text/plain": [
       "C    16016\n",
       "B     5041\n",
       "D      350\n",
       "A       25\n",
       "E       22\n",
       "Name: total_income_category, dtype: int64"
      ]
     },
     "execution_count": 567,
     "metadata": {},
     "output_type": "execute_result"
    }
   ],
   "source": [
    "# Еще раз посмотрим разбивку клиентов по уровням дохода\n",
    "data['total_income_category'].value_counts()"
   ]
  },
  {
   "cell_type": "code",
   "execution_count": 568,
   "id": "6b7d8ea3",
   "metadata": {},
   "outputs": [
    {
     "data": {
      "text/html": [
       "<div>\n",
       "<style scoped>\n",
       "    .dataframe tbody tr th:only-of-type {\n",
       "        vertical-align: middle;\n",
       "    }\n",
       "\n",
       "    .dataframe tbody tr th {\n",
       "        vertical-align: top;\n",
       "    }\n",
       "\n",
       "    .dataframe thead th {\n",
       "        text-align: right;\n",
       "    }\n",
       "</style>\n",
       "<table border=\"1\" class=\"dataframe\">\n",
       "  <thead>\n",
       "    <tr style=\"text-align: right;\">\n",
       "      <th></th>\n",
       "      <th>credit_debt_status</th>\n",
       "    </tr>\n",
       "    <tr>\n",
       "      <th>total_income_category</th>\n",
       "      <th></th>\n",
       "    </tr>\n",
       "  </thead>\n",
       "  <tbody>\n",
       "    <tr>\n",
       "      <td>D</td>\n",
       "      <td>6.000000</td>\n",
       "    </tr>\n",
       "    <tr>\n",
       "      <td>B</td>\n",
       "      <td>7.062091</td>\n",
       "    </tr>\n",
       "    <tr>\n",
       "      <td>A</td>\n",
       "      <td>8.000000</td>\n",
       "    </tr>\n",
       "    <tr>\n",
       "      <td>C</td>\n",
       "      <td>8.491508</td>\n",
       "    </tr>\n",
       "    <tr>\n",
       "      <td>E</td>\n",
       "      <td>9.090909</td>\n",
       "    </tr>\n",
       "  </tbody>\n",
       "</table>\n",
       "</div>"
      ],
      "text/plain": [
       "                       credit_debt_status\n",
       "total_income_category                    \n",
       "D                                6.000000\n",
       "B                                7.062091\n",
       "A                                8.000000\n",
       "C                                8.491508\n",
       "E                                9.090909"
      ]
     },
     "execution_count": 568,
     "metadata": {},
     "output_type": "execute_result"
    }
   ],
   "source": [
    "# Создадим сводную таблицу `income_pivot` в которой подсчитаем отношение не возвращенных в срок кредитов к возвращенным.\n",
    "income_pivot = data.pivot_table(index = ['total_income_category'],\n",
    "                                values = 'credit_debt_status').sort_values(by = 'credit_debt_status', ascending = True)\n",
    "# Выведем % не возвращенных в срок кредитов\n",
    "income_pivot * 100"
   ]
  },
  {
   "cell_type": "markdown",
   "id": "6f844950",
   "metadata": {},
   "source": [
    "### Вывод"
   ]
  },
  {
   "cell_type": "markdown",
   "id": "690ea55a",
   "metadata": {},
   "source": [
    "Хуже всего возвращают кредиты в срок клиенты с самым маленьким уровнем дохода, категория `E`(**9,09%**), но таких клиентов не много, выборка по данной категории не очень репрезентативная. Следом идут клиенты категории `С`(**8,49%**), эта категория клиентов наиболее широко представлена в исследуемом датафрейме.\n",
    "\n",
    "Клиенты категории `D` возвращают кредиты в срок чаще других(**6%**)"
   ]
  },
  {
   "cell_type": "markdown",
   "id": "4965ed96",
   "metadata": {},
   "source": [
    "### Вопрос 4. Как разные цели кредита влияют на его возврат в срок?"
   ]
  },
  {
   "cell_type": "code",
   "execution_count": 569,
   "id": "b389d0ed",
   "metadata": {},
   "outputs": [
    {
     "data": {
      "text/plain": [
       "операции с недвижимостью    10811\n",
       "операции с автомобилем       4306\n",
       "получение образования        4013\n",
       "проведение свадьбы           2324\n",
       "Name: purpose_category, dtype: int64"
      ]
     },
     "execution_count": 569,
     "metadata": {},
     "output_type": "execute_result"
    }
   ],
   "source": [
    "# Еще раз посмотрим разбивку клиентов по целям кредита\n",
    "data['purpose_category'].value_counts()"
   ]
  },
  {
   "cell_type": "code",
   "execution_count": 570,
   "id": "76b48b18",
   "metadata": {},
   "outputs": [
    {
     "data": {
      "text/html": [
       "<div>\n",
       "<style scoped>\n",
       "    .dataframe tbody tr th:only-of-type {\n",
       "        vertical-align: middle;\n",
       "    }\n",
       "\n",
       "    .dataframe tbody tr th {\n",
       "        vertical-align: top;\n",
       "    }\n",
       "\n",
       "    .dataframe thead th {\n",
       "        text-align: right;\n",
       "    }\n",
       "</style>\n",
       "<table border=\"1\" class=\"dataframe\">\n",
       "  <thead>\n",
       "    <tr style=\"text-align: right;\">\n",
       "      <th></th>\n",
       "      <th>credit_debt_status</th>\n",
       "    </tr>\n",
       "    <tr>\n",
       "      <th>purpose_category</th>\n",
       "      <th></th>\n",
       "    </tr>\n",
       "  </thead>\n",
       "  <tbody>\n",
       "    <tr>\n",
       "      <td>операции с недвижимостью</td>\n",
       "      <td>7.233373</td>\n",
       "    </tr>\n",
       "    <tr>\n",
       "      <td>проведение свадьбы</td>\n",
       "      <td>8.003442</td>\n",
       "    </tr>\n",
       "    <tr>\n",
       "      <td>получение образования</td>\n",
       "      <td>9.220035</td>\n",
       "    </tr>\n",
       "    <tr>\n",
       "      <td>операции с автомобилем</td>\n",
       "      <td>9.359034</td>\n",
       "    </tr>\n",
       "  </tbody>\n",
       "</table>\n",
       "</div>"
      ],
      "text/plain": [
       "                          credit_debt_status\n",
       "purpose_category                            \n",
       "операции с недвижимостью            7.233373\n",
       "проведение свадьбы                  8.003442\n",
       "получение образования               9.220035\n",
       "операции с автомобилем              9.359034"
      ]
     },
     "execution_count": 570,
     "metadata": {},
     "output_type": "execute_result"
    }
   ],
   "source": [
    "# Создадим сводную таблицу `purpose_pivot` в которой подсчитаем отношение не возвращенных в срок кредитов к возвращенным.\n",
    "purpose_pivot = data.pivot_table(index = ['purpose_category'],\n",
    "                                 values = 'credit_debt_status').sort_values(by = 'credit_debt_status', ascending = True)\n",
    "# Выведем % не возвращенных в срок кредитов\n",
    "purpose_pivot * 100"
   ]
  },
  {
   "cell_type": "markdown",
   "id": "d88881fa",
   "metadata": {},
   "source": [
    "### Вывод"
   ]
  },
  {
   "cell_type": "markdown",
   "id": "ce459a0a",
   "metadata": {},
   "source": [
    "Хуже всего возвращают кредиты взятые на `получение отбразования`(**9,22%**) и `операции с автомобилем`(**9,36%**)\n",
    "\n",
    "Клиенты взявшие кредит на `операции с недвижимостью` (**7,23%**) чаще других возвращают их в срок"
   ]
  },
  {
   "cell_type": "markdown",
   "id": "515fdc38",
   "metadata": {},
   "source": [
    "## Общий вывод:"
   ]
  },
  {
   "cell_type": "markdown",
   "id": "39e2c457",
   "metadata": {},
   "source": [
    "В данном проекте была обработана исходная таблица с данными. Заполнены пропущенные значения, обработаны аномальные значения, удалены дубликаты, данные разделены по категориям.\n",
    "\n",
    "По результатам анализа можно сделать вывод, что идеальный заемщик для банка - **это бездетный**, **вдовец/вдова** с доходом **от 30001 до 50000** взявший кредит на **операцию с недвижимостью**.\n",
    "\n",
    "Проблемным заемщик - это, скорее всего, клиент **с 2-я детьми**, **в гражданском браке** или **не замужний/не женатый**, с доходом **от 50001 до 200000**, взявший кредит на **получение образования** или на **операции с автомобилем**\n",
    "\n",
    "**Пожелания по улучшению качества данных в заявках на предоставление кредита:**\n",
    "- Считать стаж работы в годах. В данный момент очень много аномальных значений трудового стажа.\n",
    "- Имеет смысл ввести уникальный id клиента, а так же дату и время подачи заявки для более корректной работы с дублями\n",
    "- Исключить ввод в заявку отрицательных и аномально больших или маленьких значений (отрицательные и аномальные значения в трудовом, отрицательные значения в количестве детей, возраст 0 лет и т.д)\n",
    "- Категоризировать уровень образования и семейное положение"
   ]
  },
  {
   "cell_type": "code",
   "execution_count": null,
   "id": "7e0e1db4",
   "metadata": {},
   "outputs": [],
   "source": []
  }
 ],
 "metadata": {
  "ExecuteTimeLog": [
   {
    "duration": 765,
    "start_time": "2022-02-10T16:23:16.184Z"
   },
   {
    "duration": 3,
    "start_time": "2022-02-10T16:55:46.357Z"
   },
   {
    "duration": 94,
    "start_time": "2022-02-10T16:55:48.938Z"
   },
   {
    "duration": 60,
    "start_time": "2022-02-10T16:56:00.814Z"
   },
   {
    "duration": 29,
    "start_time": "2022-02-10T17:09:58.431Z"
   },
   {
    "duration": 27,
    "start_time": "2022-02-10T17:12:02.340Z"
   },
   {
    "duration": 49,
    "start_time": "2022-02-10T17:12:30.179Z"
   },
   {
    "duration": 48,
    "start_time": "2022-02-10T17:12:40.980Z"
   },
   {
    "duration": 14,
    "start_time": "2022-02-10T17:13:05.638Z"
   },
   {
    "duration": 112,
    "start_time": "2022-02-10T17:20:39.945Z"
   },
   {
    "duration": 268,
    "start_time": "2022-02-11T11:24:42.771Z"
   },
   {
    "duration": 754,
    "start_time": "2022-02-11T11:25:01.534Z"
   },
   {
    "duration": 49,
    "start_time": "2022-02-11T11:25:02.290Z"
   },
   {
    "duration": 20,
    "start_time": "2022-02-11T11:25:02.342Z"
   },
   {
    "duration": 45,
    "start_time": "2022-02-11T11:25:02.364Z"
   },
   {
    "duration": 55,
    "start_time": "2022-02-11T11:25:02.411Z"
   },
   {
    "duration": 81,
    "start_time": "2022-02-11T11:25:02.468Z"
   },
   {
    "duration": 57,
    "start_time": "2022-02-11T11:25:02.551Z"
   },
   {
    "duration": 75,
    "start_time": "2022-02-11T11:25:33.266Z"
   },
   {
    "duration": 407,
    "start_time": "2022-02-11T11:25:57.250Z"
   },
   {
    "duration": 44,
    "start_time": "2022-02-11T11:26:13.008Z"
   },
   {
    "duration": 21,
    "start_time": "2022-02-11T11:27:16.062Z"
   },
   {
    "duration": 19,
    "start_time": "2022-02-11T11:32:29.697Z"
   },
   {
    "duration": 6,
    "start_time": "2022-02-11T11:33:08.559Z"
   },
   {
    "duration": 7,
    "start_time": "2022-02-11T11:34:26.106Z"
   },
   {
    "duration": 22,
    "start_time": "2022-02-11T11:34:47.159Z"
   },
   {
    "duration": 27,
    "start_time": "2022-02-11T11:35:53.336Z"
   },
   {
    "duration": 33,
    "start_time": "2022-02-11T11:36:30.588Z"
   },
   {
    "duration": 6,
    "start_time": "2022-02-11T12:41:39.337Z"
   },
   {
    "duration": 20,
    "start_time": "2022-02-11T12:43:35.727Z"
   },
   {
    "duration": 4,
    "start_time": "2022-02-11T12:47:15.374Z"
   },
   {
    "duration": 5,
    "start_time": "2022-02-11T12:47:37.749Z"
   },
   {
    "duration": 3,
    "start_time": "2022-02-11T12:47:47.913Z"
   },
   {
    "duration": 49,
    "start_time": "2022-02-11T12:47:47.919Z"
   },
   {
    "duration": 14,
    "start_time": "2022-02-11T12:47:47.970Z"
   },
   {
    "duration": 38,
    "start_time": "2022-02-11T12:47:47.986Z"
   },
   {
    "duration": 35,
    "start_time": "2022-02-11T12:47:48.026Z"
   },
   {
    "duration": 14,
    "start_time": "2022-02-11T12:47:48.063Z"
   },
   {
    "duration": 41,
    "start_time": "2022-02-11T12:47:48.079Z"
   },
   {
    "duration": 8,
    "start_time": "2022-02-11T12:47:48.122Z"
   },
   {
    "duration": 5,
    "start_time": "2022-02-11T12:47:48.133Z"
   },
   {
    "duration": 50,
    "start_time": "2022-02-11T12:47:48.140Z"
   },
   {
    "duration": 7,
    "start_time": "2022-02-11T12:50:38.870Z"
   },
   {
    "duration": 5,
    "start_time": "2022-02-11T12:51:38.525Z"
   },
   {
    "duration": 246,
    "start_time": "2022-02-11T13:19:40.094Z"
   },
   {
    "duration": 386,
    "start_time": "2022-02-11T13:20:12.728Z"
   },
   {
    "duration": 10,
    "start_time": "2022-02-11T13:20:44.386Z"
   },
   {
    "duration": 2994,
    "start_time": "2022-02-11T13:21:05.279Z"
   },
   {
    "duration": 299,
    "start_time": "2022-02-11T13:21:16.341Z"
   },
   {
    "duration": 9,
    "start_time": "2022-02-11T13:21:33.136Z"
   },
   {
    "duration": 4,
    "start_time": "2022-02-11T13:28:18.747Z"
   },
   {
    "duration": 8,
    "start_time": "2022-02-11T13:33:18.793Z"
   },
   {
    "duration": 13,
    "start_time": "2022-02-11T13:35:29.531Z"
   },
   {
    "duration": 20,
    "start_time": "2022-02-11T13:35:43.306Z"
   },
   {
    "duration": 45,
    "start_time": "2022-02-11T13:36:17.562Z"
   },
   {
    "duration": 15,
    "start_time": "2022-02-11T13:38:17.243Z"
   },
   {
    "duration": 2,
    "start_time": "2022-02-11T13:46:23.543Z"
   },
   {
    "duration": 6,
    "start_time": "2022-02-11T13:47:28.236Z"
   },
   {
    "duration": 7,
    "start_time": "2022-02-11T13:48:01.729Z"
   },
   {
    "duration": 6,
    "start_time": "2022-02-11T13:56:31.975Z"
   },
   {
    "duration": 11,
    "start_time": "2022-02-11T13:56:45.961Z"
   },
   {
    "duration": 4,
    "start_time": "2022-02-11T13:58:42.631Z"
   },
   {
    "duration": 9,
    "start_time": "2022-02-11T13:59:08.954Z"
   },
   {
    "duration": 3,
    "start_time": "2022-02-11T13:59:33.803Z"
   },
   {
    "duration": 49,
    "start_time": "2022-02-11T13:59:33.808Z"
   },
   {
    "duration": 13,
    "start_time": "2022-02-11T13:59:33.859Z"
   },
   {
    "duration": 15,
    "start_time": "2022-02-11T13:59:33.874Z"
   },
   {
    "duration": 54,
    "start_time": "2022-02-11T13:59:33.891Z"
   },
   {
    "duration": 11,
    "start_time": "2022-02-11T13:59:33.946Z"
   },
   {
    "duration": 8,
    "start_time": "2022-02-11T13:59:33.959Z"
   },
   {
    "duration": 8,
    "start_time": "2022-02-11T13:59:33.969Z"
   },
   {
    "duration": 6,
    "start_time": "2022-02-11T13:59:33.980Z"
   },
   {
    "duration": 34,
    "start_time": "2022-02-11T13:59:33.988Z"
   },
   {
    "duration": 9,
    "start_time": "2022-02-11T13:59:34.023Z"
   },
   {
    "duration": 5,
    "start_time": "2022-02-11T13:59:34.034Z"
   },
   {
    "duration": 11,
    "start_time": "2022-02-11T13:59:34.041Z"
   },
   {
    "duration": 10,
    "start_time": "2022-02-11T13:59:34.053Z"
   },
   {
    "duration": 4,
    "start_time": "2022-02-11T13:59:34.064Z"
   },
   {
    "duration": 13,
    "start_time": "2022-02-11T13:59:34.069Z"
   },
   {
    "duration": 6177,
    "start_time": "2022-02-11T15:24:20.339Z"
   },
   {
    "duration": 243,
    "start_time": "2022-02-11T15:24:59.696Z"
   },
   {
    "duration": 6,
    "start_time": "2022-02-11T15:25:12.296Z"
   },
   {
    "duration": 29,
    "start_time": "2022-02-11T15:25:34.677Z"
   },
   {
    "duration": 8,
    "start_time": "2022-02-11T15:25:52.444Z"
   },
   {
    "duration": 5,
    "start_time": "2022-02-11T15:26:38.180Z"
   },
   {
    "duration": 224,
    "start_time": "2022-02-11T15:26:54.079Z"
   },
   {
    "duration": 6,
    "start_time": "2022-02-11T15:30:53.522Z"
   },
   {
    "duration": 7,
    "start_time": "2022-02-11T15:32:02.234Z"
   },
   {
    "duration": 6,
    "start_time": "2022-02-11T15:32:39.208Z"
   },
   {
    "duration": 6,
    "start_time": "2022-02-11T15:33:33.171Z"
   },
   {
    "duration": 5,
    "start_time": "2022-02-11T15:34:06.888Z"
   },
   {
    "duration": 223,
    "start_time": "2022-02-11T15:34:42.630Z"
   },
   {
    "duration": 264,
    "start_time": "2022-02-11T15:37:23.576Z"
   },
   {
    "duration": 4,
    "start_time": "2022-02-11T15:37:39.184Z"
   },
   {
    "duration": 5,
    "start_time": "2022-02-11T15:38:34.984Z"
   },
   {
    "duration": 5,
    "start_time": "2022-02-11T15:38:44.561Z"
   },
   {
    "duration": 4,
    "start_time": "2022-02-11T15:47:28.531Z"
   },
   {
    "duration": 5,
    "start_time": "2022-02-11T15:48:58.260Z"
   },
   {
    "duration": 5,
    "start_time": "2022-02-11T15:49:43.888Z"
   },
   {
    "duration": 5,
    "start_time": "2022-02-11T16:42:06.407Z"
   },
   {
    "duration": 8,
    "start_time": "2022-02-11T16:47:12.860Z"
   },
   {
    "duration": 95,
    "start_time": "2022-02-11T16:48:08.059Z"
   },
   {
    "duration": 78,
    "start_time": "2022-02-11T16:48:46.632Z"
   },
   {
    "duration": 92,
    "start_time": "2022-02-11T16:48:52.663Z"
   },
   {
    "duration": 79,
    "start_time": "2022-02-11T16:48:57.723Z"
   },
   {
    "duration": 87,
    "start_time": "2022-02-11T16:49:06.600Z"
   },
   {
    "duration": 255,
    "start_time": "2022-02-11T16:49:26.895Z"
   },
   {
    "duration": 302,
    "start_time": "2022-02-11T16:49:37.796Z"
   },
   {
    "duration": 6,
    "start_time": "2022-02-11T16:49:46.660Z"
   },
   {
    "duration": 350,
    "start_time": "2022-02-11T16:49:55.711Z"
   },
   {
    "duration": 8,
    "start_time": "2022-02-11T16:50:01.023Z"
   },
   {
    "duration": 7,
    "start_time": "2022-02-11T16:51:13.385Z"
   },
   {
    "duration": 6,
    "start_time": "2022-02-11T16:56:54.544Z"
   },
   {
    "duration": 6,
    "start_time": "2022-02-11T16:56:55.878Z"
   },
   {
    "duration": 28,
    "start_time": "2022-02-11T17:06:32.605Z"
   },
   {
    "duration": 615,
    "start_time": "2022-02-11T17:07:30.739Z"
   },
   {
    "duration": 65,
    "start_time": "2022-02-11T17:07:51.934Z"
   },
   {
    "duration": 12,
    "start_time": "2022-02-11T17:08:26.637Z"
   },
   {
    "duration": 13,
    "start_time": "2022-02-11T17:08:31.100Z"
   },
   {
    "duration": 31,
    "start_time": "2022-02-11T17:08:39.027Z"
   },
   {
    "duration": 9,
    "start_time": "2022-02-11T17:08:55.276Z"
   },
   {
    "duration": 36,
    "start_time": "2022-02-11T17:09:25.444Z"
   },
   {
    "duration": 65,
    "start_time": "2022-02-11T17:09:45.279Z"
   },
   {
    "duration": 26,
    "start_time": "2022-02-11T17:09:55.048Z"
   },
   {
    "duration": 16,
    "start_time": "2022-02-11T17:10:17.500Z"
   },
   {
    "duration": 45,
    "start_time": "2022-02-11T17:10:36.439Z"
   },
   {
    "duration": 344,
    "start_time": "2022-02-11T17:11:43.556Z"
   },
   {
    "duration": 403,
    "start_time": "2022-02-11T17:11:48.447Z"
   },
   {
    "duration": 20,
    "start_time": "2022-02-11T17:12:01.328Z"
   },
   {
    "duration": 240,
    "start_time": "2022-02-11T17:12:32.505Z"
   },
   {
    "duration": 25,
    "start_time": "2022-02-11T17:12:45.298Z"
   },
   {
    "duration": 17,
    "start_time": "2022-02-11T17:13:23.793Z"
   },
   {
    "duration": 16,
    "start_time": "2022-02-11T17:18:42.499Z"
   },
   {
    "duration": 21,
    "start_time": "2022-02-11T17:46:14.794Z"
   },
   {
    "duration": 17,
    "start_time": "2022-02-11T17:46:26.644Z"
   },
   {
    "duration": 17,
    "start_time": "2022-02-11T18:01:18.446Z"
   },
   {
    "duration": 256,
    "start_time": "2022-02-11T18:44:38.899Z"
   },
   {
    "duration": 9,
    "start_time": "2022-02-11T18:49:10.909Z"
   },
   {
    "duration": 14,
    "start_time": "2022-02-11T18:49:52.694Z"
   },
   {
    "duration": 26,
    "start_time": "2022-02-11T18:50:10.059Z"
   },
   {
    "duration": 26,
    "start_time": "2022-02-11T18:50:39.921Z"
   },
   {
    "duration": 33,
    "start_time": "2022-02-11T18:58:09.021Z"
   },
   {
    "duration": 35,
    "start_time": "2022-02-11T18:58:26.551Z"
   },
   {
    "duration": 13,
    "start_time": "2022-02-11T19:02:52.145Z"
   },
   {
    "duration": 11,
    "start_time": "2022-02-11T19:03:18.311Z"
   },
   {
    "duration": 14,
    "start_time": "2022-02-11T19:03:40.004Z"
   },
   {
    "duration": 29,
    "start_time": "2022-02-11T19:03:48.319Z"
   },
   {
    "duration": 24,
    "start_time": "2022-02-11T19:05:26.431Z"
   },
   {
    "duration": 25,
    "start_time": "2022-02-11T19:05:30.688Z"
   },
   {
    "duration": 21,
    "start_time": "2022-02-11T19:05:51.378Z"
   },
   {
    "duration": 23,
    "start_time": "2022-02-11T19:05:56.932Z"
   },
   {
    "duration": 23,
    "start_time": "2022-02-11T19:09:12.339Z"
   },
   {
    "duration": 25,
    "start_time": "2022-02-11T19:09:31.980Z"
   },
   {
    "duration": 2,
    "start_time": "2022-02-11T19:35:01.052Z"
   },
   {
    "duration": 53,
    "start_time": "2022-02-11T19:35:01.057Z"
   },
   {
    "duration": 13,
    "start_time": "2022-02-11T19:35:01.112Z"
   },
   {
    "duration": 25,
    "start_time": "2022-02-11T19:35:01.126Z"
   },
   {
    "duration": 40,
    "start_time": "2022-02-11T19:35:01.153Z"
   },
   {
    "duration": 23,
    "start_time": "2022-02-11T19:35:01.195Z"
   },
   {
    "duration": 4,
    "start_time": "2022-02-11T19:35:01.221Z"
   },
   {
    "duration": 12,
    "start_time": "2022-02-11T19:35:01.227Z"
   },
   {
    "duration": 9,
    "start_time": "2022-02-11T19:35:01.242Z"
   },
   {
    "duration": 11,
    "start_time": "2022-02-11T19:35:01.253Z"
   },
   {
    "duration": 53,
    "start_time": "2022-02-11T19:35:01.266Z"
   },
   {
    "duration": 3,
    "start_time": "2022-02-11T19:35:01.321Z"
   },
   {
    "duration": 16,
    "start_time": "2022-02-11T19:35:01.326Z"
   },
   {
    "duration": 24,
    "start_time": "2022-02-11T19:35:01.343Z"
   },
   {
    "duration": 6,
    "start_time": "2022-02-11T19:35:01.368Z"
   },
   {
    "duration": 19,
    "start_time": "2022-02-11T19:35:01.376Z"
   },
   {
    "duration": 24,
    "start_time": "2022-02-11T19:35:01.397Z"
   },
   {
    "duration": 26,
    "start_time": "2022-02-11T19:35:01.422Z"
   },
   {
    "duration": 64,
    "start_time": "2022-02-11T19:35:01.450Z"
   },
   {
    "duration": 50,
    "start_time": "2022-02-11T19:35:01.517Z"
   },
   {
    "duration": 35,
    "start_time": "2022-02-11T19:35:01.569Z"
   },
   {
    "duration": 355,
    "start_time": "2022-02-12T11:02:54.999Z"
   },
   {
    "duration": 825,
    "start_time": "2022-02-12T11:02:59.759Z"
   },
   {
    "duration": 63,
    "start_time": "2022-02-12T11:03:00.586Z"
   },
   {
    "duration": 39,
    "start_time": "2022-02-12T11:03:00.653Z"
   },
   {
    "duration": 30,
    "start_time": "2022-02-12T11:03:00.695Z"
   },
   {
    "duration": 74,
    "start_time": "2022-02-12T11:03:00.727Z"
   },
   {
    "duration": 20,
    "start_time": "2022-02-12T11:03:00.804Z"
   },
   {
    "duration": 7,
    "start_time": "2022-02-12T11:03:00.827Z"
   },
   {
    "duration": 9,
    "start_time": "2022-02-12T11:03:00.870Z"
   },
   {
    "duration": 17,
    "start_time": "2022-02-12T11:03:00.882Z"
   },
   {
    "duration": 5,
    "start_time": "2022-02-12T11:03:00.902Z"
   },
   {
    "duration": 11,
    "start_time": "2022-02-12T11:03:00.910Z"
   },
   {
    "duration": 5,
    "start_time": "2022-02-12T11:03:00.970Z"
   },
   {
    "duration": 15,
    "start_time": "2022-02-12T11:03:00.977Z"
   },
   {
    "duration": 18,
    "start_time": "2022-02-12T11:03:00.995Z"
   },
   {
    "duration": 4,
    "start_time": "2022-02-12T11:03:01.016Z"
   },
   {
    "duration": 54,
    "start_time": "2022-02-12T11:03:01.023Z"
   },
   {
    "duration": 9,
    "start_time": "2022-02-12T11:03:01.080Z"
   },
   {
    "duration": 19,
    "start_time": "2022-02-12T11:03:01.091Z"
   },
   {
    "duration": 79,
    "start_time": "2022-02-12T11:03:01.112Z"
   },
   {
    "duration": 24,
    "start_time": "2022-02-12T11:03:01.194Z"
   },
   {
    "duration": 61,
    "start_time": "2022-02-12T11:03:01.221Z"
   },
   {
    "duration": 8,
    "start_time": "2022-02-12T11:03:52.038Z"
   },
   {
    "duration": 37,
    "start_time": "2022-02-12T11:07:01.182Z"
   },
   {
    "duration": 21,
    "start_time": "2022-02-12T11:08:26.284Z"
   },
   {
    "duration": 20,
    "start_time": "2022-02-12T11:10:34.560Z"
   },
   {
    "duration": 10,
    "start_time": "2022-02-12T11:15:57.828Z"
   },
   {
    "duration": 12,
    "start_time": "2022-02-12T11:30:51.034Z"
   },
   {
    "duration": 13,
    "start_time": "2022-02-12T11:51:57.125Z"
   },
   {
    "duration": 11,
    "start_time": "2022-02-12T11:52:58.069Z"
   },
   {
    "duration": 10,
    "start_time": "2022-02-12T11:53:18.439Z"
   },
   {
    "duration": 329,
    "start_time": "2022-02-12T11:53:41.239Z"
   },
   {
    "duration": 9,
    "start_time": "2022-02-12T11:54:32.819Z"
   },
   {
    "duration": 291,
    "start_time": "2022-02-12T11:54:41.450Z"
   },
   {
    "duration": 304,
    "start_time": "2022-02-12T11:54:51.547Z"
   },
   {
    "duration": 11,
    "start_time": "2022-02-12T11:55:00.243Z"
   },
   {
    "duration": 11,
    "start_time": "2022-02-12T11:55:54.195Z"
   },
   {
    "duration": 8,
    "start_time": "2022-02-12T12:01:43.452Z"
   },
   {
    "duration": 8,
    "start_time": "2022-02-12T12:02:10.985Z"
   },
   {
    "duration": 10,
    "start_time": "2022-02-12T12:02:46.984Z"
   },
   {
    "duration": 292,
    "start_time": "2022-02-12T12:03:10.046Z"
   },
   {
    "duration": 9,
    "start_time": "2022-02-12T12:03:18.334Z"
   },
   {
    "duration": 297,
    "start_time": "2022-02-12T12:03:30.448Z"
   },
   {
    "duration": 277,
    "start_time": "2022-02-12T12:03:34.285Z"
   },
   {
    "duration": 6,
    "start_time": "2022-02-12T12:03:42.371Z"
   },
   {
    "duration": 8,
    "start_time": "2022-02-12T12:03:57.184Z"
   },
   {
    "duration": 9,
    "start_time": "2022-02-12T12:04:19.851Z"
   },
   {
    "duration": 11,
    "start_time": "2022-02-12T12:04:30.197Z"
   },
   {
    "duration": 9,
    "start_time": "2022-02-12T12:05:29.168Z"
   },
   {
    "duration": 9,
    "start_time": "2022-02-12T12:05:39.269Z"
   },
   {
    "duration": 8,
    "start_time": "2022-02-12T12:07:57.104Z"
   },
   {
    "duration": 303,
    "start_time": "2022-02-12T12:09:31.857Z"
   },
   {
    "duration": 307,
    "start_time": "2022-02-12T12:10:47.190Z"
   },
   {
    "duration": 45,
    "start_time": "2022-02-12T12:11:11.269Z"
   },
   {
    "duration": 307,
    "start_time": "2022-02-12T12:11:49.867Z"
   },
   {
    "duration": 10,
    "start_time": "2022-02-12T12:12:33.407Z"
   },
   {
    "duration": 9,
    "start_time": "2022-02-12T12:13:04.085Z"
   },
   {
    "duration": 305,
    "start_time": "2022-02-12T12:13:24.373Z"
   },
   {
    "duration": 295,
    "start_time": "2022-02-12T12:13:48.717Z"
   },
   {
    "duration": 11,
    "start_time": "2022-02-12T12:14:00.624Z"
   },
   {
    "duration": 10,
    "start_time": "2022-02-12T12:14:09.394Z"
   },
   {
    "duration": 9,
    "start_time": "2022-02-12T12:14:22.354Z"
   },
   {
    "duration": 10,
    "start_time": "2022-02-12T12:18:37.677Z"
   },
   {
    "duration": 9,
    "start_time": "2022-02-12T12:18:48.559Z"
   },
   {
    "duration": 12,
    "start_time": "2022-02-12T12:23:35.248Z"
   },
   {
    "duration": 10,
    "start_time": "2022-02-12T12:38:10.209Z"
   },
   {
    "duration": 10,
    "start_time": "2022-02-12T12:38:26.564Z"
   },
   {
    "duration": 16,
    "start_time": "2022-02-12T12:38:49.109Z"
   },
   {
    "duration": 10,
    "start_time": "2022-02-12T12:39:15.264Z"
   },
   {
    "duration": 10,
    "start_time": "2022-02-12T12:51:41.083Z"
   },
   {
    "duration": 15,
    "start_time": "2022-02-12T12:52:44.596Z"
   },
   {
    "duration": 50,
    "start_time": "2022-02-12T12:56:28.577Z"
   },
   {
    "duration": 14,
    "start_time": "2022-02-12T12:57:03.237Z"
   },
   {
    "duration": 12,
    "start_time": "2022-02-12T13:08:48.582Z"
   },
   {
    "duration": 7,
    "start_time": "2022-02-12T13:11:00.360Z"
   },
   {
    "duration": 4685,
    "start_time": "2022-02-12T13:28:18.729Z"
   },
   {
    "duration": 350,
    "start_time": "2022-02-12T13:29:47.987Z"
   },
   {
    "duration": 315,
    "start_time": "2022-02-12T13:32:18.789Z"
   },
   {
    "duration": 320,
    "start_time": "2022-02-12T13:34:05.834Z"
   },
   {
    "duration": 291,
    "start_time": "2022-02-12T13:34:33.704Z"
   },
   {
    "duration": 288,
    "start_time": "2022-02-12T13:35:12.557Z"
   },
   {
    "duration": 320,
    "start_time": "2022-02-12T13:35:37.464Z"
   },
   {
    "duration": 315,
    "start_time": "2022-02-12T13:36:57.851Z"
   },
   {
    "duration": 7650,
    "start_time": "2022-02-12T13:37:44.282Z"
   },
   {
    "duration": 7462,
    "start_time": "2022-02-12T13:38:05.586Z"
   },
   {
    "duration": 7725,
    "start_time": "2022-02-12T13:40:14.558Z"
   },
   {
    "duration": 7454,
    "start_time": "2022-02-12T13:41:38.426Z"
   },
   {
    "duration": 303,
    "start_time": "2022-02-12T13:43:47.493Z"
   },
   {
    "duration": 316,
    "start_time": "2022-02-12T13:44:42.776Z"
   },
   {
    "duration": 144,
    "start_time": "2022-02-12T13:44:59.429Z"
   },
   {
    "duration": 297,
    "start_time": "2022-02-12T13:45:17.860Z"
   },
   {
    "duration": 308,
    "start_time": "2022-02-12T13:45:32.033Z"
   },
   {
    "duration": 302,
    "start_time": "2022-02-12T13:46:00.035Z"
   },
   {
    "duration": 297,
    "start_time": "2022-02-12T13:48:27.162Z"
   },
   {
    "duration": 315,
    "start_time": "2022-02-12T13:49:35.767Z"
   },
   {
    "duration": 295,
    "start_time": "2022-02-12T13:50:21.105Z"
   },
   {
    "duration": 313,
    "start_time": "2022-02-12T13:51:46.841Z"
   },
   {
    "duration": 338,
    "start_time": "2022-02-12T13:52:50.897Z"
   },
   {
    "duration": 9,
    "start_time": "2022-02-12T13:53:04.224Z"
   },
   {
    "duration": 8,
    "start_time": "2022-02-12T13:53:30.286Z"
   },
   {
    "duration": 326,
    "start_time": "2022-02-12T13:54:35.534Z"
   },
   {
    "duration": 8,
    "start_time": "2022-02-12T13:54:45.340Z"
   },
   {
    "duration": 323,
    "start_time": "2022-02-12T13:55:35.120Z"
   },
   {
    "duration": 344,
    "start_time": "2022-02-12T13:56:36.085Z"
   },
   {
    "duration": 324,
    "start_time": "2022-02-12T13:58:52.727Z"
   },
   {
    "duration": 22,
    "start_time": "2022-02-12T13:59:50.448Z"
   },
   {
    "duration": 17,
    "start_time": "2022-02-12T14:00:05.245Z"
   },
   {
    "duration": 7288,
    "start_time": "2022-02-12T14:01:50.075Z"
   },
   {
    "duration": 8615,
    "start_time": "2022-02-12T14:01:59.177Z"
   },
   {
    "duration": 7430,
    "start_time": "2022-02-12T14:02:13.681Z"
   },
   {
    "duration": 7974,
    "start_time": "2022-02-12T14:02:30.212Z"
   },
   {
    "duration": 290,
    "start_time": "2022-02-12T14:05:39.290Z"
   },
   {
    "duration": 371,
    "start_time": "2022-02-12T14:07:40.381Z"
   },
   {
    "duration": 318,
    "start_time": "2022-02-12T14:08:28.554Z"
   },
   {
    "duration": 772,
    "start_time": "2022-02-12T14:08:33.581Z"
   },
   {
    "duration": 60,
    "start_time": "2022-02-12T14:08:34.356Z"
   },
   {
    "duration": 54,
    "start_time": "2022-02-12T14:08:34.420Z"
   },
   {
    "duration": 23,
    "start_time": "2022-02-12T14:08:34.476Z"
   },
   {
    "duration": 76,
    "start_time": "2022-02-12T14:08:34.501Z"
   },
   {
    "duration": 15,
    "start_time": "2022-02-12T14:08:34.580Z"
   },
   {
    "duration": 6,
    "start_time": "2022-02-12T14:08:34.598Z"
   },
   {
    "duration": 8,
    "start_time": "2022-02-12T14:08:34.608Z"
   },
   {
    "duration": 52,
    "start_time": "2022-02-12T14:08:34.619Z"
   },
   {
    "duration": 6,
    "start_time": "2022-02-12T14:08:34.674Z"
   },
   {
    "duration": 12,
    "start_time": "2022-02-12T14:08:34.682Z"
   },
   {
    "duration": 4,
    "start_time": "2022-02-12T14:08:34.696Z"
   },
   {
    "duration": 10,
    "start_time": "2022-02-12T14:08:34.702Z"
   },
   {
    "duration": 64,
    "start_time": "2022-02-12T14:08:34.714Z"
   },
   {
    "duration": 5,
    "start_time": "2022-02-12T14:08:34.780Z"
   },
   {
    "duration": 14,
    "start_time": "2022-02-12T14:08:34.787Z"
   },
   {
    "duration": 8,
    "start_time": "2022-02-12T14:08:34.804Z"
   },
   {
    "duration": 61,
    "start_time": "2022-02-12T14:08:34.814Z"
   },
   {
    "duration": 29,
    "start_time": "2022-02-12T14:08:34.878Z"
   },
   {
    "duration": 69,
    "start_time": "2022-02-12T14:08:34.910Z"
   },
   {
    "duration": 36,
    "start_time": "2022-02-12T14:08:34.982Z"
   },
   {
    "duration": 48,
    "start_time": "2022-02-12T14:08:35.021Z"
   },
   {
    "duration": 24,
    "start_time": "2022-02-12T14:08:35.074Z"
   },
   {
    "duration": 13,
    "start_time": "2022-02-12T14:08:35.100Z"
   },
   {
    "duration": 10,
    "start_time": "2022-02-12T14:08:35.115Z"
   },
   {
    "duration": 49,
    "start_time": "2022-02-12T14:08:35.127Z"
   },
   {
    "duration": 18,
    "start_time": "2022-02-12T14:08:35.179Z"
   },
   {
    "duration": 80,
    "start_time": "2022-02-12T14:08:35.199Z"
   },
   {
    "duration": 13,
    "start_time": "2022-02-12T14:08:35.281Z"
   },
   {
    "duration": 10,
    "start_time": "2022-02-12T14:08:35.296Z"
   },
   {
    "duration": 328,
    "start_time": "2022-02-12T14:08:35.309Z"
   },
   {
    "duration": 746,
    "start_time": "2022-02-12T14:09:20.295Z"
   },
   {
    "duration": 68,
    "start_time": "2022-02-12T14:09:21.044Z"
   },
   {
    "duration": 32,
    "start_time": "2022-02-12T14:09:21.115Z"
   },
   {
    "duration": 20,
    "start_time": "2022-02-12T14:09:21.169Z"
   },
   {
    "duration": 50,
    "start_time": "2022-02-12T14:09:21.192Z"
   },
   {
    "duration": 35,
    "start_time": "2022-02-12T14:09:21.245Z"
   },
   {
    "duration": 5,
    "start_time": "2022-02-12T14:09:21.283Z"
   },
   {
    "duration": 7,
    "start_time": "2022-02-12T14:09:21.292Z"
   },
   {
    "duration": 6,
    "start_time": "2022-02-12T14:09:21.302Z"
   },
   {
    "duration": 61,
    "start_time": "2022-02-12T14:09:21.311Z"
   },
   {
    "duration": 11,
    "start_time": "2022-02-12T14:09:21.374Z"
   },
   {
    "duration": 4,
    "start_time": "2022-02-12T14:09:21.388Z"
   },
   {
    "duration": 11,
    "start_time": "2022-02-12T14:09:21.394Z"
   },
   {
    "duration": 68,
    "start_time": "2022-02-12T14:09:21.407Z"
   },
   {
    "duration": 4,
    "start_time": "2022-02-12T14:09:21.478Z"
   },
   {
    "duration": 17,
    "start_time": "2022-02-12T14:09:21.484Z"
   },
   {
    "duration": 8,
    "start_time": "2022-02-12T14:09:21.504Z"
   },
   {
    "duration": 56,
    "start_time": "2022-02-12T14:09:21.515Z"
   },
   {
    "duration": 27,
    "start_time": "2022-02-12T14:09:21.573Z"
   },
   {
    "duration": 25,
    "start_time": "2022-02-12T14:09:21.602Z"
   },
   {
    "duration": 68,
    "start_time": "2022-02-12T14:09:21.630Z"
   },
   {
    "duration": 8,
    "start_time": "2022-02-12T14:09:21.700Z"
   },
   {
    "duration": 59,
    "start_time": "2022-02-12T14:09:21.712Z"
   },
   {
    "duration": 9,
    "start_time": "2022-02-12T14:09:21.773Z"
   },
   {
    "duration": 15,
    "start_time": "2022-02-12T14:09:21.785Z"
   },
   {
    "duration": 9,
    "start_time": "2022-02-12T14:09:21.802Z"
   },
   {
    "duration": 60,
    "start_time": "2022-02-12T14:09:21.813Z"
   },
   {
    "duration": 47,
    "start_time": "2022-02-12T14:09:21.876Z"
   },
   {
    "duration": 11,
    "start_time": "2022-02-12T14:09:21.925Z"
   },
   {
    "duration": 38,
    "start_time": "2022-02-12T14:09:21.938Z"
   },
   {
    "duration": 12,
    "start_time": "2022-02-12T14:09:45.010Z"
   },
   {
    "duration": 7,
    "start_time": "2022-02-12T16:03:02.678Z"
   },
   {
    "duration": 37,
    "start_time": "2022-02-12T16:03:10.293Z"
   },
   {
    "duration": 39,
    "start_time": "2022-02-12T16:03:38.100Z"
   },
   {
    "duration": 8,
    "start_time": "2022-02-12T16:05:24.896Z"
   },
   {
    "duration": 15,
    "start_time": "2022-02-12T16:05:34.446Z"
   },
   {
    "duration": 54,
    "start_time": "2022-02-12T16:05:52.054Z"
   },
   {
    "duration": 54,
    "start_time": "2022-02-12T16:07:15.924Z"
   },
   {
    "duration": 55,
    "start_time": "2022-02-12T16:07:46.157Z"
   },
   {
    "duration": 3,
    "start_time": "2022-02-12T16:08:44.857Z"
   },
   {
    "duration": 77,
    "start_time": "2022-02-12T16:08:44.863Z"
   },
   {
    "duration": 20,
    "start_time": "2022-02-12T16:08:44.944Z"
   },
   {
    "duration": 28,
    "start_time": "2022-02-12T16:08:44.972Z"
   },
   {
    "duration": 70,
    "start_time": "2022-02-12T16:08:45.004Z"
   },
   {
    "duration": 18,
    "start_time": "2022-02-12T16:08:45.079Z"
   },
   {
    "duration": 12,
    "start_time": "2022-02-12T16:08:45.099Z"
   },
   {
    "duration": 7,
    "start_time": "2022-02-12T16:08:45.114Z"
   },
   {
    "duration": 50,
    "start_time": "2022-02-12T16:08:45.125Z"
   },
   {
    "duration": 15,
    "start_time": "2022-02-12T16:08:45.183Z"
   },
   {
    "duration": 10,
    "start_time": "2022-02-12T16:08:45.201Z"
   },
   {
    "duration": 7,
    "start_time": "2022-02-12T16:08:45.214Z"
   },
   {
    "duration": 10,
    "start_time": "2022-02-12T16:08:45.224Z"
   },
   {
    "duration": 52,
    "start_time": "2022-02-12T16:08:45.237Z"
   },
   {
    "duration": 7,
    "start_time": "2022-02-12T16:08:45.292Z"
   },
   {
    "duration": 12,
    "start_time": "2022-02-12T16:08:45.301Z"
   },
   {
    "duration": 56,
    "start_time": "2022-02-12T16:08:45.317Z"
   },
   {
    "duration": 10,
    "start_time": "2022-02-12T16:08:45.382Z"
   },
   {
    "duration": 25,
    "start_time": "2022-02-12T16:08:45.394Z"
   },
   {
    "duration": 72,
    "start_time": "2022-02-12T16:08:45.421Z"
   },
   {
    "duration": 34,
    "start_time": "2022-02-12T16:08:45.496Z"
   },
   {
    "duration": 47,
    "start_time": "2022-02-12T16:08:45.533Z"
   },
   {
    "duration": 35,
    "start_time": "2022-02-12T16:08:45.582Z"
   },
   {
    "duration": 12,
    "start_time": "2022-02-12T16:08:45.620Z"
   },
   {
    "duration": 24,
    "start_time": "2022-02-12T16:08:45.669Z"
   },
   {
    "duration": 33,
    "start_time": "2022-02-12T16:08:45.696Z"
   },
   {
    "duration": 14,
    "start_time": "2022-02-12T16:08:45.735Z"
   },
   {
    "duration": 67,
    "start_time": "2022-02-12T16:08:45.768Z"
   },
   {
    "duration": 14,
    "start_time": "2022-02-12T16:08:45.838Z"
   },
   {
    "duration": 23,
    "start_time": "2022-02-12T16:08:45.869Z"
   },
   {
    "duration": 44,
    "start_time": "2022-02-12T16:08:45.895Z"
   },
   {
    "duration": 54,
    "start_time": "2022-02-12T16:14:36.457Z"
   },
   {
    "duration": 76,
    "start_time": "2022-02-12T16:22:04.602Z"
   },
   {
    "duration": 107,
    "start_time": "2022-02-12T16:23:37.116Z"
   },
   {
    "duration": 52,
    "start_time": "2022-02-12T16:26:46.514Z"
   },
   {
    "duration": 401,
    "start_time": "2022-02-12T16:27:22.367Z"
   },
   {
    "duration": 12,
    "start_time": "2022-02-12T16:27:47.600Z"
   },
   {
    "duration": 9,
    "start_time": "2022-02-12T16:28:39.222Z"
   },
   {
    "duration": 9,
    "start_time": "2022-02-12T16:29:01.406Z"
   },
   {
    "duration": 11,
    "start_time": "2022-02-12T16:31:05.376Z"
   },
   {
    "duration": 6,
    "start_time": "2022-02-12T18:48:33.650Z"
   },
   {
    "duration": 10,
    "start_time": "2022-02-12T18:50:18.797Z"
   },
   {
    "duration": 18,
    "start_time": "2022-02-12T18:53:32.288Z"
   },
   {
    "duration": 9,
    "start_time": "2022-02-12T18:56:38.427Z"
   },
   {
    "duration": 8,
    "start_time": "2022-02-12T18:56:43.115Z"
   },
   {
    "duration": 8,
    "start_time": "2022-02-12T18:58:12.415Z"
   },
   {
    "duration": 12,
    "start_time": "2022-02-12T18:59:30.344Z"
   },
   {
    "duration": 14,
    "start_time": "2022-02-12T18:59:50.084Z"
   },
   {
    "duration": 7,
    "start_time": "2022-02-12T19:07:23.642Z"
   },
   {
    "duration": 20,
    "start_time": "2022-02-12T19:09:37.299Z"
   },
   {
    "duration": 8,
    "start_time": "2022-02-12T19:10:16.772Z"
   },
   {
    "duration": 7,
    "start_time": "2022-02-12T19:10:49.887Z"
   },
   {
    "duration": 17,
    "start_time": "2022-02-12T19:11:36.856Z"
   },
   {
    "duration": 20,
    "start_time": "2022-02-12T19:11:42.996Z"
   },
   {
    "duration": 13,
    "start_time": "2022-02-12T19:12:07.361Z"
   },
   {
    "duration": 6,
    "start_time": "2022-02-12T19:13:12.619Z"
   },
   {
    "duration": 7,
    "start_time": "2022-02-12T19:13:44.640Z"
   },
   {
    "duration": 7,
    "start_time": "2022-02-12T19:17:41.424Z"
   },
   {
    "duration": 7,
    "start_time": "2022-02-12T19:21:49.727Z"
   },
   {
    "duration": 10,
    "start_time": "2022-02-12T19:24:20.248Z"
   },
   {
    "duration": 6,
    "start_time": "2022-02-12T19:26:38.277Z"
   },
   {
    "duration": 10,
    "start_time": "2022-02-12T19:27:50.877Z"
   },
   {
    "duration": 8,
    "start_time": "2022-02-12T19:28:27.750Z"
   },
   {
    "duration": 3,
    "start_time": "2022-02-12T19:28:45.591Z"
   },
   {
    "duration": 4,
    "start_time": "2022-02-12T19:29:01.160Z"
   },
   {
    "duration": 76,
    "start_time": "2022-02-12T19:29:01.167Z"
   },
   {
    "duration": 37,
    "start_time": "2022-02-12T19:29:01.246Z"
   },
   {
    "duration": 38,
    "start_time": "2022-02-12T19:29:01.286Z"
   },
   {
    "duration": 75,
    "start_time": "2022-02-12T19:29:01.326Z"
   },
   {
    "duration": 16,
    "start_time": "2022-02-12T19:29:01.403Z"
   },
   {
    "duration": 15,
    "start_time": "2022-02-12T19:29:01.422Z"
   },
   {
    "duration": 6,
    "start_time": "2022-02-12T19:29:01.470Z"
   },
   {
    "duration": 15,
    "start_time": "2022-02-12T19:29:01.479Z"
   },
   {
    "duration": 17,
    "start_time": "2022-02-12T19:29:01.497Z"
   },
   {
    "duration": 17,
    "start_time": "2022-02-12T19:29:01.517Z"
   },
   {
    "duration": 34,
    "start_time": "2022-02-12T19:29:01.537Z"
   },
   {
    "duration": 21,
    "start_time": "2022-02-12T19:29:01.573Z"
   },
   {
    "duration": 14,
    "start_time": "2022-02-12T19:29:01.596Z"
   },
   {
    "duration": 5,
    "start_time": "2022-02-12T19:29:01.613Z"
   },
   {
    "duration": 67,
    "start_time": "2022-02-12T19:29:01.620Z"
   },
   {
    "duration": 9,
    "start_time": "2022-02-12T19:29:01.690Z"
   },
   {
    "duration": 21,
    "start_time": "2022-02-12T19:29:01.701Z"
   },
   {
    "duration": 62,
    "start_time": "2022-02-12T19:29:01.727Z"
   },
   {
    "duration": 27,
    "start_time": "2022-02-12T19:29:01.792Z"
   },
   {
    "duration": 66,
    "start_time": "2022-02-12T19:29:01.822Z"
   },
   {
    "duration": 9,
    "start_time": "2022-02-12T19:29:01.891Z"
   },
   {
    "duration": 25,
    "start_time": "2022-02-12T19:29:01.903Z"
   },
   {
    "duration": 50,
    "start_time": "2022-02-12T19:29:01.932Z"
   },
   {
    "duration": 21,
    "start_time": "2022-02-12T19:29:01.985Z"
   },
   {
    "duration": 13,
    "start_time": "2022-02-12T19:29:02.009Z"
   },
   {
    "duration": 53,
    "start_time": "2022-02-12T19:29:02.025Z"
   },
   {
    "duration": 108,
    "start_time": "2022-02-12T19:29:02.081Z"
   },
   {
    "duration": 15,
    "start_time": "2022-02-12T19:29:02.193Z"
   },
   {
    "duration": 17,
    "start_time": "2022-02-12T19:29:02.211Z"
   },
   {
    "duration": 118,
    "start_time": "2022-02-12T19:29:02.231Z"
   },
   {
    "duration": 26,
    "start_time": "2022-02-12T19:29:02.352Z"
   },
   {
    "duration": 16,
    "start_time": "2022-02-12T19:29:02.381Z"
   },
   {
    "duration": 23,
    "start_time": "2022-02-12T19:29:02.400Z"
   },
   {
    "duration": 50,
    "start_time": "2022-02-12T19:29:02.426Z"
   },
   {
    "duration": 14,
    "start_time": "2022-02-12T19:29:02.479Z"
   },
   {
    "duration": 16,
    "start_time": "2022-02-12T19:29:02.496Z"
   },
   {
    "duration": 21,
    "start_time": "2022-02-12T19:29:02.515Z"
   },
   {
    "duration": 37,
    "start_time": "2022-02-12T19:29:02.539Z"
   },
   {
    "duration": 12,
    "start_time": "2022-02-12T19:29:02.578Z"
   },
   {
    "duration": 11,
    "start_time": "2022-02-12T19:29:02.592Z"
   },
   {
    "duration": 24,
    "start_time": "2022-02-12T19:29:02.606Z"
   },
   {
    "duration": 39,
    "start_time": "2022-02-12T19:29:02.632Z"
   },
   {
    "duration": 30,
    "start_time": "2022-02-12T19:29:02.674Z"
   },
   {
    "duration": 8,
    "start_time": "2022-02-12T19:32:43.185Z"
   },
   {
    "duration": 6,
    "start_time": "2022-02-12T19:49:58.005Z"
   },
   {
    "duration": 303,
    "start_time": "2022-02-12T19:50:50.877Z"
   },
   {
    "duration": 17,
    "start_time": "2022-02-12T19:51:07.190Z"
   },
   {
    "duration": 19,
    "start_time": "2022-02-12T19:53:34.179Z"
   },
   {
    "duration": 11,
    "start_time": "2022-02-12T19:53:58.111Z"
   },
   {
    "duration": 15,
    "start_time": "2022-02-12T19:57:53.486Z"
   },
   {
    "duration": 18,
    "start_time": "2022-02-12T19:58:24.788Z"
   },
   {
    "duration": 19,
    "start_time": "2022-02-12T19:59:11.760Z"
   },
   {
    "duration": 26,
    "start_time": "2022-02-12T20:06:14.167Z"
   },
   {
    "duration": 41,
    "start_time": "2022-02-12T20:12:11.668Z"
   },
   {
    "duration": 63,
    "start_time": "2022-02-12T20:43:12.528Z"
   },
   {
    "duration": 49,
    "start_time": "2022-02-12T20:43:46.592Z"
   },
   {
    "duration": 417,
    "start_time": "2022-02-13T08:36:50.872Z"
   },
   {
    "duration": 589,
    "start_time": "2022-02-13T08:37:01.562Z"
   },
   {
    "duration": 45,
    "start_time": "2022-02-13T08:37:02.152Z"
   },
   {
    "duration": 18,
    "start_time": "2022-02-13T08:37:02.199Z"
   },
   {
    "duration": 12,
    "start_time": "2022-02-13T08:37:02.219Z"
   },
   {
    "duration": 50,
    "start_time": "2022-02-13T08:37:02.233Z"
   },
   {
    "duration": 9,
    "start_time": "2022-02-13T08:37:02.285Z"
   },
   {
    "duration": 3,
    "start_time": "2022-02-13T08:37:02.295Z"
   },
   {
    "duration": 5,
    "start_time": "2022-02-13T08:37:02.300Z"
   },
   {
    "duration": 3,
    "start_time": "2022-02-13T08:37:02.307Z"
   },
   {
    "duration": 4,
    "start_time": "2022-02-13T08:37:02.312Z"
   },
   {
    "duration": 6,
    "start_time": "2022-02-13T08:37:02.318Z"
   },
   {
    "duration": 47,
    "start_time": "2022-02-13T08:37:02.326Z"
   },
   {
    "duration": 8,
    "start_time": "2022-02-13T08:37:02.375Z"
   },
   {
    "duration": 9,
    "start_time": "2022-02-13T08:37:02.384Z"
   },
   {
    "duration": 3,
    "start_time": "2022-02-13T08:37:02.395Z"
   },
   {
    "duration": 20,
    "start_time": "2022-02-13T08:37:02.400Z"
   },
   {
    "duration": 6,
    "start_time": "2022-02-13T08:37:02.422Z"
   },
   {
    "duration": 55,
    "start_time": "2022-02-13T08:37:02.430Z"
   },
   {
    "duration": 16,
    "start_time": "2022-02-13T08:37:02.486Z"
   },
   {
    "duration": 14,
    "start_time": "2022-02-13T08:37:02.514Z"
   },
   {
    "duration": 28,
    "start_time": "2022-02-13T08:37:02.530Z"
   },
   {
    "duration": 5,
    "start_time": "2022-02-13T08:37:02.572Z"
   },
   {
    "duration": 11,
    "start_time": "2022-02-13T08:37:02.580Z"
   },
   {
    "duration": 9,
    "start_time": "2022-02-13T08:37:02.593Z"
   },
   {
    "duration": 10,
    "start_time": "2022-02-13T08:37:02.604Z"
   },
   {
    "duration": 9,
    "start_time": "2022-02-13T08:37:02.615Z"
   },
   {
    "duration": 48,
    "start_time": "2022-02-13T08:37:02.626Z"
   },
   {
    "duration": 34,
    "start_time": "2022-02-13T08:37:02.676Z"
   },
   {
    "duration": 8,
    "start_time": "2022-02-13T08:37:02.712Z"
   },
   {
    "duration": 6,
    "start_time": "2022-02-13T08:37:02.722Z"
   },
   {
    "duration": 71,
    "start_time": "2022-02-13T08:37:02.730Z"
   },
   {
    "duration": 6,
    "start_time": "2022-02-13T08:37:02.804Z"
   },
   {
    "duration": 17,
    "start_time": "2022-02-13T08:37:02.812Z"
   },
   {
    "duration": 21,
    "start_time": "2022-02-13T08:37:02.831Z"
   },
   {
    "duration": 17,
    "start_time": "2022-02-13T08:37:02.854Z"
   },
   {
    "duration": 24,
    "start_time": "2022-02-13T08:37:02.873Z"
   },
   {
    "duration": 16,
    "start_time": "2022-02-13T08:37:02.898Z"
   },
   {
    "duration": 22,
    "start_time": "2022-02-13T08:37:02.916Z"
   },
   {
    "duration": 21,
    "start_time": "2022-02-13T08:37:02.940Z"
   },
   {
    "duration": 10,
    "start_time": "2022-02-13T08:37:02.962Z"
   },
   {
    "duration": 18,
    "start_time": "2022-02-13T08:37:02.973Z"
   },
   {
    "duration": 15,
    "start_time": "2022-02-13T08:37:02.993Z"
   },
   {
    "duration": 28,
    "start_time": "2022-02-13T08:37:03.010Z"
   },
   {
    "duration": 19,
    "start_time": "2022-02-13T08:37:03.040Z"
   },
   {
    "duration": 21,
    "start_time": "2022-02-13T08:37:03.061Z"
   },
   {
    "duration": 8,
    "start_time": "2022-02-13T08:37:03.083Z"
   },
   {
    "duration": 22,
    "start_time": "2022-02-13T08:37:03.093Z"
   },
   {
    "duration": 22,
    "start_time": "2022-02-13T08:37:03.117Z"
   },
   {
    "duration": 23,
    "start_time": "2022-02-13T08:37:03.140Z"
   },
   {
    "duration": 28,
    "start_time": "2022-02-13T08:37:03.164Z"
   },
   {
    "duration": 11,
    "start_time": "2022-02-13T08:37:03.194Z"
   },
   {
    "duration": 20,
    "start_time": "2022-02-13T08:37:03.207Z"
   },
   {
    "duration": 330,
    "start_time": "2022-02-13T08:37:35.168Z"
   },
   {
    "duration": 286,
    "start_time": "2022-02-13T08:39:22.012Z"
   },
   {
    "duration": 13,
    "start_time": "2022-02-13T08:39:35.311Z"
   },
   {
    "duration": 15,
    "start_time": "2022-02-13T08:40:30.746Z"
   },
   {
    "duration": 13,
    "start_time": "2022-02-13T08:40:54.806Z"
   },
   {
    "duration": 285,
    "start_time": "2022-02-13T08:41:10.213Z"
   },
   {
    "duration": 13,
    "start_time": "2022-02-13T08:41:31.921Z"
   },
   {
    "duration": 14,
    "start_time": "2022-02-13T08:41:50.497Z"
   },
   {
    "duration": 13,
    "start_time": "2022-02-13T08:42:28.363Z"
   },
   {
    "duration": 16,
    "start_time": "2022-02-13T08:42:30.806Z"
   },
   {
    "duration": 4,
    "start_time": "2022-02-13T08:52:30.600Z"
   },
   {
    "duration": 4,
    "start_time": "2022-02-13T08:53:27.273Z"
   },
   {
    "duration": 10,
    "start_time": "2022-02-13T08:55:51.383Z"
   },
   {
    "duration": 7344,
    "start_time": "2022-02-13T08:58:25.201Z"
   },
   {
    "duration": 14,
    "start_time": "2022-02-13T08:58:52.023Z"
   },
   {
    "duration": 11,
    "start_time": "2022-02-13T08:59:06.616Z"
   },
   {
    "duration": 12,
    "start_time": "2022-02-13T08:59:18.632Z"
   },
   {
    "duration": 279,
    "start_time": "2022-02-13T08:59:48.622Z"
   },
   {
    "duration": 12,
    "start_time": "2022-02-13T08:59:54.627Z"
   },
   {
    "duration": 11,
    "start_time": "2022-02-13T09:00:15.056Z"
   },
   {
    "duration": 4628,
    "start_time": "2022-02-13T09:00:21.540Z"
   },
   {
    "duration": 1100,
    "start_time": "2022-02-13T09:00:27.925Z"
   },
   {
    "duration": 738,
    "start_time": "2022-02-13T09:00:37.722Z"
   },
   {
    "duration": 323,
    "start_time": "2022-02-13T09:00:47.288Z"
   },
   {
    "duration": 12,
    "start_time": "2022-02-13T09:00:53.728Z"
   },
   {
    "duration": 12,
    "start_time": "2022-02-13T09:01:20.539Z"
   },
   {
    "duration": 13,
    "start_time": "2022-02-13T09:01:29.666Z"
   },
   {
    "duration": 11,
    "start_time": "2022-02-13T09:53:14.283Z"
   },
   {
    "duration": 293,
    "start_time": "2022-02-13T09:54:08.361Z"
   },
   {
    "duration": 12,
    "start_time": "2022-02-13T09:54:26.314Z"
   },
   {
    "duration": 22,
    "start_time": "2022-02-13T10:04:05.548Z"
   },
   {
    "duration": 3,
    "start_time": "2022-02-13T10:04:51.398Z"
   },
   {
    "duration": 54,
    "start_time": "2022-02-13T10:04:51.403Z"
   },
   {
    "duration": 11,
    "start_time": "2022-02-13T10:04:51.459Z"
   },
   {
    "duration": 23,
    "start_time": "2022-02-13T10:04:51.472Z"
   },
   {
    "duration": 28,
    "start_time": "2022-02-13T10:04:51.497Z"
   },
   {
    "duration": 9,
    "start_time": "2022-02-13T10:04:51.527Z"
   },
   {
    "duration": 3,
    "start_time": "2022-02-13T10:04:51.538Z"
   },
   {
    "duration": 31,
    "start_time": "2022-02-13T10:04:51.543Z"
   },
   {
    "duration": 4,
    "start_time": "2022-02-13T10:04:51.576Z"
   },
   {
    "duration": 7,
    "start_time": "2022-02-13T10:04:51.582Z"
   },
   {
    "duration": 6,
    "start_time": "2022-02-13T10:04:51.590Z"
   },
   {
    "duration": 6,
    "start_time": "2022-02-13T10:04:51.598Z"
   },
   {
    "duration": 11,
    "start_time": "2022-02-13T10:04:51.605Z"
   },
   {
    "duration": 11,
    "start_time": "2022-02-13T10:04:51.617Z"
   },
   {
    "duration": 41,
    "start_time": "2022-02-13T10:04:51.630Z"
   },
   {
    "duration": 7,
    "start_time": "2022-02-13T10:04:51.673Z"
   },
   {
    "duration": 5,
    "start_time": "2022-02-13T10:04:51.681Z"
   },
   {
    "duration": 9,
    "start_time": "2022-02-13T10:04:51.687Z"
   },
   {
    "duration": 15,
    "start_time": "2022-02-13T10:04:51.699Z"
   },
   {
    "duration": 14,
    "start_time": "2022-02-13T10:04:51.715Z"
   },
   {
    "duration": 53,
    "start_time": "2022-02-13T10:04:51.731Z"
   },
   {
    "duration": 5,
    "start_time": "2022-02-13T10:04:51.785Z"
   },
   {
    "duration": 20,
    "start_time": "2022-02-13T10:04:51.791Z"
   },
   {
    "duration": 13,
    "start_time": "2022-02-13T10:04:51.813Z"
   },
   {
    "duration": 21,
    "start_time": "2022-02-13T10:04:51.828Z"
   },
   {
    "duration": 11,
    "start_time": "2022-02-13T10:04:51.850Z"
   },
   {
    "duration": 21,
    "start_time": "2022-02-13T10:04:51.862Z"
   },
   {
    "duration": 44,
    "start_time": "2022-02-13T10:04:51.885Z"
   },
   {
    "duration": 6,
    "start_time": "2022-02-13T10:04:51.930Z"
   },
   {
    "duration": 18,
    "start_time": "2022-02-13T10:04:51.937Z"
   },
   {
    "duration": 49,
    "start_time": "2022-02-13T10:04:51.957Z"
   },
   {
    "duration": 5,
    "start_time": "2022-02-13T10:04:52.008Z"
   },
   {
    "duration": 14,
    "start_time": "2022-02-13T10:04:52.014Z"
   },
   {
    "duration": 31,
    "start_time": "2022-02-13T10:04:52.029Z"
   },
   {
    "duration": 28,
    "start_time": "2022-02-13T10:04:52.062Z"
   },
   {
    "duration": 10,
    "start_time": "2022-02-13T10:04:52.092Z"
   },
   {
    "duration": 21,
    "start_time": "2022-02-13T10:04:52.103Z"
   },
   {
    "duration": 40,
    "start_time": "2022-02-13T10:04:52.125Z"
   },
   {
    "duration": 29,
    "start_time": "2022-02-13T10:04:52.167Z"
   },
   {
    "duration": 23,
    "start_time": "2022-02-13T10:04:52.198Z"
   },
   {
    "duration": 23,
    "start_time": "2022-02-13T10:04:52.223Z"
   },
   {
    "duration": 19,
    "start_time": "2022-02-13T10:04:52.248Z"
   },
   {
    "duration": 23,
    "start_time": "2022-02-13T10:04:52.269Z"
   },
   {
    "duration": 28,
    "start_time": "2022-02-13T10:04:52.294Z"
   },
   {
    "duration": 14,
    "start_time": "2022-02-13T10:04:52.324Z"
   },
   {
    "duration": 17,
    "start_time": "2022-02-13T10:04:52.340Z"
   },
   {
    "duration": 22,
    "start_time": "2022-02-13T10:04:52.359Z"
   },
   {
    "duration": 32,
    "start_time": "2022-02-13T10:04:52.382Z"
   },
   {
    "duration": 29,
    "start_time": "2022-02-13T10:04:52.415Z"
   },
   {
    "duration": 36,
    "start_time": "2022-02-13T10:04:52.445Z"
   },
   {
    "duration": 9,
    "start_time": "2022-02-13T10:04:52.483Z"
   },
   {
    "duration": 38,
    "start_time": "2022-02-13T10:04:52.494Z"
   },
   {
    "duration": 22,
    "start_time": "2022-02-13T10:04:52.534Z"
   },
   {
    "duration": 22,
    "start_time": "2022-02-13T10:05:03.801Z"
   },
   {
    "duration": 21,
    "start_time": "2022-02-13T10:05:16.747Z"
   },
   {
    "duration": 21,
    "start_time": "2022-02-13T10:06:32.035Z"
   },
   {
    "duration": 283,
    "start_time": "2022-02-13T10:06:50.783Z"
   },
   {
    "duration": 292,
    "start_time": "2022-02-13T10:07:04.397Z"
   },
   {
    "duration": 2,
    "start_time": "2022-02-13T10:07:08.160Z"
   },
   {
    "duration": 48,
    "start_time": "2022-02-13T10:07:08.164Z"
   },
   {
    "duration": 12,
    "start_time": "2022-02-13T10:07:08.214Z"
   },
   {
    "duration": 18,
    "start_time": "2022-02-13T10:07:08.227Z"
   },
   {
    "duration": 49,
    "start_time": "2022-02-13T10:07:08.247Z"
   },
   {
    "duration": 9,
    "start_time": "2022-02-13T10:07:08.297Z"
   },
   {
    "duration": 4,
    "start_time": "2022-02-13T10:07:08.308Z"
   },
   {
    "duration": 5,
    "start_time": "2022-02-13T10:07:08.313Z"
   },
   {
    "duration": 3,
    "start_time": "2022-02-13T10:07:08.319Z"
   },
   {
    "duration": 5,
    "start_time": "2022-02-13T10:07:08.324Z"
   },
   {
    "duration": 5,
    "start_time": "2022-02-13T10:07:08.371Z"
   },
   {
    "duration": 7,
    "start_time": "2022-02-13T10:07:08.378Z"
   },
   {
    "duration": 21,
    "start_time": "2022-02-13T10:07:08.386Z"
   },
   {
    "duration": 18,
    "start_time": "2022-02-13T10:07:08.409Z"
   },
   {
    "duration": 5,
    "start_time": "2022-02-13T10:07:08.429Z"
   },
   {
    "duration": 24,
    "start_time": "2022-02-13T10:07:08.435Z"
   },
   {
    "duration": 13,
    "start_time": "2022-02-13T10:07:08.461Z"
   },
   {
    "duration": 12,
    "start_time": "2022-02-13T10:07:08.475Z"
   },
   {
    "duration": 22,
    "start_time": "2022-02-13T10:07:08.489Z"
   },
   {
    "duration": 23,
    "start_time": "2022-02-13T10:07:08.513Z"
   },
   {
    "duration": 27,
    "start_time": "2022-02-13T10:07:08.537Z"
   },
   {
    "duration": 7,
    "start_time": "2022-02-13T10:07:08.566Z"
   },
   {
    "duration": 24,
    "start_time": "2022-02-13T10:07:08.574Z"
   },
   {
    "duration": 20,
    "start_time": "2022-02-13T10:07:08.600Z"
   },
   {
    "duration": 37,
    "start_time": "2022-02-13T10:07:08.621Z"
   },
   {
    "duration": 10,
    "start_time": "2022-02-13T10:07:08.660Z"
   },
   {
    "duration": 8,
    "start_time": "2022-02-13T10:07:08.672Z"
   },
   {
    "duration": 29,
    "start_time": "2022-02-13T10:07:08.682Z"
   },
   {
    "duration": 6,
    "start_time": "2022-02-13T10:07:08.713Z"
   },
   {
    "duration": 7,
    "start_time": "2022-02-13T10:07:08.721Z"
   },
   {
    "duration": 65,
    "start_time": "2022-02-13T10:07:08.729Z"
   },
   {
    "duration": 6,
    "start_time": "2022-02-13T10:07:08.795Z"
   },
   {
    "duration": 7,
    "start_time": "2022-02-13T10:07:08.802Z"
   },
   {
    "duration": 12,
    "start_time": "2022-02-13T10:07:08.810Z"
   },
   {
    "duration": 11,
    "start_time": "2022-02-13T10:07:08.824Z"
   },
   {
    "duration": 36,
    "start_time": "2022-02-13T10:07:08.836Z"
   },
   {
    "duration": 5,
    "start_time": "2022-02-13T10:07:08.873Z"
   },
   {
    "duration": 11,
    "start_time": "2022-02-13T10:07:08.880Z"
   },
   {
    "duration": 9,
    "start_time": "2022-02-13T10:07:08.892Z"
   },
   {
    "duration": 10,
    "start_time": "2022-02-13T10:07:08.903Z"
   },
   {
    "duration": 9,
    "start_time": "2022-02-13T10:07:08.914Z"
   },
   {
    "duration": 11,
    "start_time": "2022-02-13T10:07:08.924Z"
   },
   {
    "duration": 7,
    "start_time": "2022-02-13T10:07:08.937Z"
   },
   {
    "duration": 28,
    "start_time": "2022-02-13T10:07:08.946Z"
   },
   {
    "duration": 6,
    "start_time": "2022-02-13T10:07:08.976Z"
   },
   {
    "duration": 5,
    "start_time": "2022-02-13T10:07:08.984Z"
   },
   {
    "duration": 16,
    "start_time": "2022-02-13T10:07:08.991Z"
   },
   {
    "duration": 12,
    "start_time": "2022-02-13T10:07:09.009Z"
   },
   {
    "duration": 55,
    "start_time": "2022-02-13T10:07:09.023Z"
   },
   {
    "duration": 28,
    "start_time": "2022-02-13T10:07:09.080Z"
   },
   {
    "duration": 10,
    "start_time": "2022-02-13T10:07:09.109Z"
   },
   {
    "duration": 11,
    "start_time": "2022-02-13T10:07:09.120Z"
   },
   {
    "duration": 45,
    "start_time": "2022-02-13T10:07:09.132Z"
   },
   {
    "duration": 12,
    "start_time": "2022-02-13T10:07:38.013Z"
   },
   {
    "duration": 443,
    "start_time": "2022-02-13T10:16:01.049Z"
   },
   {
    "duration": 3,
    "start_time": "2022-02-13T10:17:48.864Z"
   },
   {
    "duration": 46,
    "start_time": "2022-02-13T10:17:48.872Z"
   },
   {
    "duration": 11,
    "start_time": "2022-02-13T10:17:48.920Z"
   },
   {
    "duration": 40,
    "start_time": "2022-02-13T10:17:48.932Z"
   },
   {
    "duration": 27,
    "start_time": "2022-02-13T10:17:48.974Z"
   },
   {
    "duration": 9,
    "start_time": "2022-02-13T10:17:49.003Z"
   },
   {
    "duration": 3,
    "start_time": "2022-02-13T10:17:49.013Z"
   },
   {
    "duration": 4,
    "start_time": "2022-02-13T10:17:49.018Z"
   },
   {
    "duration": 48,
    "start_time": "2022-02-13T10:17:49.024Z"
   },
   {
    "duration": 4,
    "start_time": "2022-02-13T10:17:49.075Z"
   },
   {
    "duration": 6,
    "start_time": "2022-02-13T10:17:49.081Z"
   },
   {
    "duration": 5,
    "start_time": "2022-02-13T10:17:49.089Z"
   },
   {
    "duration": 5,
    "start_time": "2022-02-13T10:17:49.096Z"
   },
   {
    "duration": 9,
    "start_time": "2022-02-13T10:17:49.102Z"
   },
   {
    "duration": 5,
    "start_time": "2022-02-13T10:17:49.113Z"
   },
   {
    "duration": 12,
    "start_time": "2022-02-13T10:17:49.119Z"
   },
   {
    "duration": 44,
    "start_time": "2022-02-13T10:17:49.132Z"
   },
   {
    "duration": 5,
    "start_time": "2022-02-13T10:17:49.178Z"
   },
   {
    "duration": 15,
    "start_time": "2022-02-13T10:17:49.185Z"
   },
   {
    "duration": 19,
    "start_time": "2022-02-13T10:17:49.202Z"
   },
   {
    "duration": 73,
    "start_time": "2022-02-13T10:17:49.222Z"
   },
   {
    "duration": 5,
    "start_time": "2022-02-13T10:17:49.297Z"
   },
   {
    "duration": 11,
    "start_time": "2022-02-13T10:17:49.304Z"
   },
   {
    "duration": 7,
    "start_time": "2022-02-13T10:17:49.317Z"
   },
   {
    "duration": 7,
    "start_time": "2022-02-13T10:17:49.326Z"
   },
   {
    "duration": 42,
    "start_time": "2022-02-13T10:17:49.334Z"
   },
   {
    "duration": 6,
    "start_time": "2022-02-13T10:17:49.377Z"
   },
   {
    "duration": 31,
    "start_time": "2022-02-13T10:17:49.386Z"
   },
   {
    "duration": 6,
    "start_time": "2022-02-13T10:17:49.420Z"
   },
   {
    "duration": 7,
    "start_time": "2022-02-13T10:17:49.427Z"
   },
   {
    "duration": 32,
    "start_time": "2022-02-13T10:17:49.471Z"
   },
   {
    "duration": 5,
    "start_time": "2022-02-13T10:17:49.504Z"
   },
   {
    "duration": 9,
    "start_time": "2022-02-13T10:17:49.511Z"
   },
   {
    "duration": 10,
    "start_time": "2022-02-13T10:17:49.522Z"
   },
   {
    "duration": 43,
    "start_time": "2022-02-13T10:17:49.534Z"
   },
   {
    "duration": 4,
    "start_time": "2022-02-13T10:17:49.578Z"
   },
   {
    "duration": 7,
    "start_time": "2022-02-13T10:17:49.584Z"
   },
   {
    "duration": 15,
    "start_time": "2022-02-13T10:17:49.592Z"
   },
   {
    "duration": 11,
    "start_time": "2022-02-13T10:17:49.609Z"
   },
   {
    "duration": 13,
    "start_time": "2022-02-13T10:17:49.621Z"
   },
   {
    "duration": 37,
    "start_time": "2022-02-13T10:17:49.636Z"
   },
   {
    "duration": 7,
    "start_time": "2022-02-13T10:17:49.674Z"
   },
   {
    "duration": 5,
    "start_time": "2022-02-13T10:17:49.683Z"
   },
   {
    "duration": 11,
    "start_time": "2022-02-13T10:17:49.689Z"
   },
   {
    "duration": 8,
    "start_time": "2022-02-13T10:17:49.702Z"
   },
   {
    "duration": 8,
    "start_time": "2022-02-13T10:17:49.711Z"
   },
   {
    "duration": 18,
    "start_time": "2022-02-13T10:17:49.720Z"
   },
   {
    "duration": 41,
    "start_time": "2022-02-13T10:17:49.739Z"
   },
   {
    "duration": 16,
    "start_time": "2022-02-13T10:17:49.782Z"
   },
   {
    "duration": 30,
    "start_time": "2022-02-13T10:17:49.800Z"
   },
   {
    "duration": 44,
    "start_time": "2022-02-13T10:17:49.832Z"
   },
   {
    "duration": 13,
    "start_time": "2022-02-13T10:17:49.877Z"
   },
   {
    "duration": 19,
    "start_time": "2022-02-13T10:17:49.891Z"
   },
   {
    "duration": 294,
    "start_time": "2022-02-13T10:17:49.912Z"
   },
   {
    "duration": 3,
    "start_time": "2022-02-13T10:18:06.855Z"
   },
   {
    "duration": 63,
    "start_time": "2022-02-13T10:18:06.860Z"
   },
   {
    "duration": 15,
    "start_time": "2022-02-13T10:18:06.925Z"
   },
   {
    "duration": 38,
    "start_time": "2022-02-13T10:18:06.942Z"
   },
   {
    "duration": 41,
    "start_time": "2022-02-13T10:18:06.982Z"
   },
   {
    "duration": 14,
    "start_time": "2022-02-13T10:18:07.025Z"
   },
   {
    "duration": 5,
    "start_time": "2022-02-13T10:18:07.072Z"
   },
   {
    "duration": 6,
    "start_time": "2022-02-13T10:18:07.079Z"
   },
   {
    "duration": 4,
    "start_time": "2022-02-13T10:18:07.087Z"
   },
   {
    "duration": 7,
    "start_time": "2022-02-13T10:18:07.092Z"
   },
   {
    "duration": 18,
    "start_time": "2022-02-13T10:18:07.100Z"
   },
   {
    "duration": 3,
    "start_time": "2022-02-13T10:18:07.120Z"
   },
   {
    "duration": 10,
    "start_time": "2022-02-13T10:18:07.125Z"
   },
   {
    "duration": 9,
    "start_time": "2022-02-13T10:18:07.172Z"
   },
   {
    "duration": 2,
    "start_time": "2022-02-13T10:18:07.183Z"
   },
   {
    "duration": 10,
    "start_time": "2022-02-13T10:18:07.187Z"
   },
   {
    "duration": 11,
    "start_time": "2022-02-13T10:18:07.199Z"
   },
   {
    "duration": 9,
    "start_time": "2022-02-13T10:18:07.212Z"
   },
   {
    "duration": 49,
    "start_time": "2022-02-13T10:18:07.225Z"
   },
   {
    "duration": 14,
    "start_time": "2022-02-13T10:18:07.276Z"
   },
   {
    "duration": 21,
    "start_time": "2022-02-13T10:18:07.291Z"
   },
   {
    "duration": 5,
    "start_time": "2022-02-13T10:18:07.313Z"
   },
   {
    "duration": 12,
    "start_time": "2022-02-13T10:18:07.319Z"
   },
   {
    "duration": 42,
    "start_time": "2022-02-13T10:18:07.333Z"
   },
   {
    "duration": 6,
    "start_time": "2022-02-13T10:18:07.376Z"
   },
   {
    "duration": 5,
    "start_time": "2022-02-13T10:18:07.384Z"
   },
   {
    "duration": 11,
    "start_time": "2022-02-13T10:18:07.390Z"
   },
   {
    "duration": 29,
    "start_time": "2022-02-13T10:18:07.402Z"
   },
   {
    "duration": 40,
    "start_time": "2022-02-13T10:18:07.433Z"
   },
   {
    "duration": 8,
    "start_time": "2022-02-13T10:18:07.474Z"
   },
   {
    "duration": 28,
    "start_time": "2022-02-13T10:18:07.483Z"
   },
   {
    "duration": 4,
    "start_time": "2022-02-13T10:18:07.513Z"
   },
   {
    "duration": 5,
    "start_time": "2022-02-13T10:18:07.519Z"
   },
   {
    "duration": 47,
    "start_time": "2022-02-13T10:18:07.525Z"
   },
   {
    "duration": 7,
    "start_time": "2022-02-13T10:18:07.573Z"
   },
   {
    "duration": 4,
    "start_time": "2022-02-13T10:18:07.582Z"
   },
   {
    "duration": 10,
    "start_time": "2022-02-13T10:18:07.587Z"
   },
   {
    "duration": 14,
    "start_time": "2022-02-13T10:18:07.598Z"
   },
   {
    "duration": 9,
    "start_time": "2022-02-13T10:18:07.613Z"
   },
   {
    "duration": 10,
    "start_time": "2022-02-13T10:18:07.623Z"
   },
   {
    "duration": 7,
    "start_time": "2022-02-13T10:18:07.635Z"
   },
   {
    "duration": 32,
    "start_time": "2022-02-13T10:18:07.644Z"
   },
   {
    "duration": 3,
    "start_time": "2022-02-13T10:18:07.678Z"
   },
   {
    "duration": 9,
    "start_time": "2022-02-13T10:18:07.683Z"
   },
   {
    "duration": 9,
    "start_time": "2022-02-13T10:18:07.694Z"
   },
   {
    "duration": 6,
    "start_time": "2022-02-13T10:18:07.705Z"
   },
   {
    "duration": 16,
    "start_time": "2022-02-13T10:18:07.712Z"
   },
   {
    "duration": 45,
    "start_time": "2022-02-13T10:18:07.730Z"
   },
   {
    "duration": 20,
    "start_time": "2022-02-13T10:18:07.777Z"
   },
   {
    "duration": 31,
    "start_time": "2022-02-13T10:18:07.798Z"
   },
   {
    "duration": 10,
    "start_time": "2022-02-13T10:18:07.830Z"
   },
   {
    "duration": 12,
    "start_time": "2022-02-13T10:18:07.872Z"
   },
   {
    "duration": 11,
    "start_time": "2022-02-13T10:18:07.886Z"
   },
   {
    "duration": 17,
    "start_time": "2022-02-13T10:18:07.899Z"
   },
   {
    "duration": 392,
    "start_time": "2022-02-13T10:21:31.088Z"
   },
   {
    "duration": 3,
    "start_time": "2022-02-13T10:22:15.711Z"
   },
   {
    "duration": 64,
    "start_time": "2022-02-13T10:22:15.716Z"
   },
   {
    "duration": 17,
    "start_time": "2022-02-13T10:22:15.783Z"
   },
   {
    "duration": 12,
    "start_time": "2022-02-13T10:22:15.802Z"
   },
   {
    "duration": 66,
    "start_time": "2022-02-13T10:22:15.816Z"
   },
   {
    "duration": 9,
    "start_time": "2022-02-13T10:22:15.884Z"
   },
   {
    "duration": 4,
    "start_time": "2022-02-13T10:22:15.895Z"
   },
   {
    "duration": 5,
    "start_time": "2022-02-13T10:22:15.901Z"
   },
   {
    "duration": 7,
    "start_time": "2022-02-13T10:22:15.907Z"
   },
   {
    "duration": 4,
    "start_time": "2022-02-13T10:22:15.915Z"
   },
   {
    "duration": 5,
    "start_time": "2022-02-13T10:22:15.921Z"
   },
   {
    "duration": 3,
    "start_time": "2022-02-13T10:22:15.972Z"
   },
   {
    "duration": 7,
    "start_time": "2022-02-13T10:22:15.977Z"
   },
   {
    "duration": 9,
    "start_time": "2022-02-13T10:22:15.986Z"
   },
   {
    "duration": 3,
    "start_time": "2022-02-13T10:22:15.997Z"
   },
   {
    "duration": 16,
    "start_time": "2022-02-13T10:22:16.001Z"
   },
   {
    "duration": 10,
    "start_time": "2022-02-13T10:22:16.019Z"
   },
   {
    "duration": 44,
    "start_time": "2022-02-13T10:22:16.030Z"
   },
   {
    "duration": 18,
    "start_time": "2022-02-13T10:22:16.078Z"
   },
   {
    "duration": 19,
    "start_time": "2022-02-13T10:22:16.099Z"
   },
   {
    "duration": 19,
    "start_time": "2022-02-13T10:22:16.120Z"
   },
   {
    "duration": 35,
    "start_time": "2022-02-13T10:22:16.140Z"
   },
   {
    "duration": 11,
    "start_time": "2022-02-13T10:22:16.177Z"
   },
   {
    "duration": 6,
    "start_time": "2022-02-13T10:22:16.190Z"
   },
   {
    "duration": 7,
    "start_time": "2022-02-13T10:22:16.197Z"
   },
   {
    "duration": 6,
    "start_time": "2022-02-13T10:22:16.205Z"
   },
   {
    "duration": 8,
    "start_time": "2022-02-13T10:22:16.213Z"
   },
   {
    "duration": 74,
    "start_time": "2022-02-13T10:22:16.222Z"
   },
   {
    "duration": 6,
    "start_time": "2022-02-13T10:22:16.298Z"
   },
   {
    "duration": 6,
    "start_time": "2022-02-13T10:22:16.306Z"
   },
   {
    "duration": 60,
    "start_time": "2022-02-13T10:22:16.314Z"
   },
   {
    "duration": 6,
    "start_time": "2022-02-13T10:22:16.376Z"
   },
   {
    "duration": 5,
    "start_time": "2022-02-13T10:22:16.384Z"
   },
   {
    "duration": 12,
    "start_time": "2022-02-13T10:22:16.391Z"
   },
   {
    "duration": 8,
    "start_time": "2022-02-13T10:22:16.405Z"
   },
   {
    "duration": 8,
    "start_time": "2022-02-13T10:22:16.415Z"
   },
   {
    "duration": 48,
    "start_time": "2022-02-13T10:22:16.425Z"
   },
   {
    "duration": 12,
    "start_time": "2022-02-13T10:22:16.475Z"
   },
   {
    "duration": 6,
    "start_time": "2022-02-13T10:22:16.488Z"
   },
   {
    "duration": 6,
    "start_time": "2022-02-13T10:22:16.496Z"
   },
   {
    "duration": 9,
    "start_time": "2022-02-13T10:22:16.503Z"
   },
   {
    "duration": 10,
    "start_time": "2022-02-13T10:22:16.513Z"
   },
   {
    "duration": 47,
    "start_time": "2022-02-13T10:22:16.525Z"
   },
   {
    "duration": 7,
    "start_time": "2022-02-13T10:22:16.573Z"
   },
   {
    "duration": 5,
    "start_time": "2022-02-13T10:22:16.582Z"
   },
   {
    "duration": 6,
    "start_time": "2022-02-13T10:22:16.588Z"
   },
   {
    "duration": 16,
    "start_time": "2022-02-13T10:22:16.596Z"
   },
   {
    "duration": 10,
    "start_time": "2022-02-13T10:22:16.613Z"
   },
   {
    "duration": 54,
    "start_time": "2022-02-13T10:22:16.625Z"
   },
   {
    "duration": 31,
    "start_time": "2022-02-13T10:22:16.680Z"
   },
   {
    "duration": 11,
    "start_time": "2022-02-13T10:22:16.712Z"
   },
   {
    "duration": 12,
    "start_time": "2022-02-13T10:22:16.724Z"
   },
   {
    "duration": 40,
    "start_time": "2022-02-13T10:22:16.738Z"
   },
   {
    "duration": 11,
    "start_time": "2022-02-13T10:22:16.779Z"
   },
   {
    "duration": 855,
    "start_time": "2022-02-14T07:02:19.081Z"
   },
   {
    "duration": 47,
    "start_time": "2022-02-14T07:02:19.938Z"
   },
   {
    "duration": 18,
    "start_time": "2022-02-14T07:02:19.987Z"
   },
   {
    "duration": 21,
    "start_time": "2022-02-14T07:02:20.007Z"
   },
   {
    "duration": 46,
    "start_time": "2022-02-14T07:02:20.030Z"
   },
   {
    "duration": 13,
    "start_time": "2022-02-14T07:02:20.078Z"
   },
   {
    "duration": 5,
    "start_time": "2022-02-14T07:02:20.093Z"
   },
   {
    "duration": 17,
    "start_time": "2022-02-14T07:02:20.101Z"
   },
   {
    "duration": 19,
    "start_time": "2022-02-14T07:02:20.121Z"
   },
   {
    "duration": 5,
    "start_time": "2022-02-14T07:02:20.159Z"
   },
   {
    "duration": 19,
    "start_time": "2022-02-14T07:02:20.166Z"
   },
   {
    "duration": 11,
    "start_time": "2022-02-14T07:02:20.186Z"
   },
   {
    "duration": 10,
    "start_time": "2022-02-14T07:02:20.199Z"
   },
   {
    "duration": 11,
    "start_time": "2022-02-14T07:02:20.211Z"
   },
   {
    "duration": 6,
    "start_time": "2022-02-14T07:02:20.224Z"
   },
   {
    "duration": 34,
    "start_time": "2022-02-14T07:02:20.232Z"
   },
   {
    "duration": 6,
    "start_time": "2022-02-14T07:02:20.269Z"
   },
   {
    "duration": 10,
    "start_time": "2022-02-14T07:02:20.277Z"
   },
   {
    "duration": 19,
    "start_time": "2022-02-14T07:02:20.289Z"
   },
   {
    "duration": 60,
    "start_time": "2022-02-14T07:02:20.309Z"
   },
   {
    "duration": 23,
    "start_time": "2022-02-14T07:02:20.371Z"
   },
   {
    "duration": 6,
    "start_time": "2022-02-14T07:02:20.396Z"
   },
   {
    "duration": 54,
    "start_time": "2022-02-14T07:02:20.406Z"
   },
   {
    "duration": 7,
    "start_time": "2022-02-14T07:02:20.463Z"
   },
   {
    "duration": 15,
    "start_time": "2022-02-14T07:02:20.471Z"
   },
   {
    "duration": 18,
    "start_time": "2022-02-14T07:02:20.487Z"
   },
   {
    "duration": 13,
    "start_time": "2022-02-14T07:02:20.507Z"
   },
   {
    "duration": 68,
    "start_time": "2022-02-14T07:02:20.522Z"
   },
   {
    "duration": 10,
    "start_time": "2022-02-14T07:02:20.592Z"
   },
   {
    "duration": 22,
    "start_time": "2022-02-14T07:02:20.604Z"
   },
   {
    "duration": 78,
    "start_time": "2022-02-14T07:02:20.628Z"
   },
   {
    "duration": 9,
    "start_time": "2022-02-14T07:02:20.709Z"
   },
   {
    "duration": 11,
    "start_time": "2022-02-14T07:02:20.720Z"
   },
   {
    "duration": 40,
    "start_time": "2022-02-14T07:02:20.733Z"
   },
   {
    "duration": 5,
    "start_time": "2022-02-14T07:02:20.776Z"
   },
   {
    "duration": 9,
    "start_time": "2022-02-14T07:02:20.783Z"
   },
   {
    "duration": 8,
    "start_time": "2022-02-14T07:02:20.793Z"
   },
   {
    "duration": 16,
    "start_time": "2022-02-14T07:02:20.803Z"
   },
   {
    "duration": 43,
    "start_time": "2022-02-14T07:02:20.821Z"
   },
   {
    "duration": 12,
    "start_time": "2022-02-14T07:02:20.865Z"
   },
   {
    "duration": 6,
    "start_time": "2022-02-14T07:02:20.879Z"
   },
   {
    "duration": 11,
    "start_time": "2022-02-14T07:02:20.887Z"
   },
   {
    "duration": 6,
    "start_time": "2022-02-14T07:02:20.900Z"
   },
   {
    "duration": 10,
    "start_time": "2022-02-14T07:02:20.908Z"
   },
   {
    "duration": 45,
    "start_time": "2022-02-14T07:02:20.919Z"
   },
   {
    "duration": 9,
    "start_time": "2022-02-14T07:02:20.966Z"
   },
   {
    "duration": 23,
    "start_time": "2022-02-14T07:02:20.976Z"
   },
   {
    "duration": 12,
    "start_time": "2022-02-14T07:02:21.000Z"
   },
   {
    "duration": 45,
    "start_time": "2022-02-14T07:02:21.014Z"
   },
   {
    "duration": 38,
    "start_time": "2022-02-14T07:02:21.061Z"
   },
   {
    "duration": 12,
    "start_time": "2022-02-14T07:02:21.100Z"
   },
   {
    "duration": 16,
    "start_time": "2022-02-14T07:02:21.114Z"
   },
   {
    "duration": 38,
    "start_time": "2022-02-14T07:02:21.132Z"
   },
   {
    "duration": 14,
    "start_time": "2022-02-14T07:02:21.172Z"
   },
   {
    "duration": 6,
    "start_time": "2022-02-14T07:11:45.352Z"
   },
   {
    "duration": 228,
    "start_time": "2022-02-14T07:25:19.495Z"
   },
   {
    "duration": 261,
    "start_time": "2022-02-14T07:25:34.055Z"
   },
   {
    "duration": 493,
    "start_time": "2022-02-14T07:26:34.231Z"
   },
   {
    "duration": 232,
    "start_time": "2022-02-14T07:26:49.189Z"
   },
   {
    "duration": 220,
    "start_time": "2022-02-14T07:31:01.992Z"
   },
   {
    "duration": 224,
    "start_time": "2022-02-14T07:32:04.463Z"
   },
   {
    "duration": 3,
    "start_time": "2022-02-14T08:06:31.174Z"
   },
   {
    "duration": 53,
    "start_time": "2022-02-14T08:06:31.179Z"
   },
   {
    "duration": 24,
    "start_time": "2022-02-14T08:06:31.235Z"
   },
   {
    "duration": 13,
    "start_time": "2022-02-14T08:06:31.261Z"
   },
   {
    "duration": 61,
    "start_time": "2022-02-14T08:06:31.276Z"
   },
   {
    "duration": 18,
    "start_time": "2022-02-14T08:06:31.339Z"
   },
   {
    "duration": 18,
    "start_time": "2022-02-14T08:06:31.360Z"
   },
   {
    "duration": 34,
    "start_time": "2022-02-14T08:06:31.380Z"
   },
   {
    "duration": 6,
    "start_time": "2022-02-14T08:06:31.416Z"
   },
   {
    "duration": 10,
    "start_time": "2022-02-14T08:06:31.424Z"
   },
   {
    "duration": 11,
    "start_time": "2022-02-14T08:06:31.436Z"
   },
   {
    "duration": 16,
    "start_time": "2022-02-14T08:06:31.449Z"
   },
   {
    "duration": 16,
    "start_time": "2022-02-14T08:06:31.467Z"
   },
   {
    "duration": 35,
    "start_time": "2022-02-14T08:06:31.485Z"
   },
   {
    "duration": 3,
    "start_time": "2022-02-14T08:06:31.521Z"
   },
   {
    "duration": 17,
    "start_time": "2022-02-14T08:06:31.526Z"
   },
   {
    "duration": 9,
    "start_time": "2022-02-14T08:06:31.544Z"
   },
   {
    "duration": 21,
    "start_time": "2022-02-14T08:06:31.554Z"
   },
   {
    "duration": 33,
    "start_time": "2022-02-14T08:06:31.578Z"
   },
   {
    "duration": 16,
    "start_time": "2022-02-14T08:06:31.614Z"
   },
   {
    "duration": 25,
    "start_time": "2022-02-14T08:06:31.631Z"
   },
   {
    "duration": 5,
    "start_time": "2022-02-14T08:06:31.657Z"
   },
   {
    "duration": 24,
    "start_time": "2022-02-14T08:06:31.664Z"
   },
   {
    "duration": 11,
    "start_time": "2022-02-14T08:06:31.690Z"
   },
   {
    "duration": 10,
    "start_time": "2022-02-14T08:06:31.703Z"
   },
   {
    "duration": 14,
    "start_time": "2022-02-14T08:06:31.715Z"
   },
   {
    "duration": 12,
    "start_time": "2022-02-14T08:06:31.730Z"
   },
   {
    "duration": 42,
    "start_time": "2022-02-14T08:06:31.743Z"
   },
   {
    "duration": 7,
    "start_time": "2022-02-14T08:06:31.787Z"
   },
   {
    "duration": 16,
    "start_time": "2022-02-14T08:06:31.796Z"
   },
   {
    "duration": 57,
    "start_time": "2022-02-14T08:06:31.814Z"
   },
   {
    "duration": 5,
    "start_time": "2022-02-14T08:06:31.872Z"
   },
   {
    "duration": 34,
    "start_time": "2022-02-14T08:06:31.878Z"
   },
   {
    "duration": 24,
    "start_time": "2022-02-14T08:06:31.914Z"
   },
   {
    "duration": 18,
    "start_time": "2022-02-14T08:06:31.940Z"
   },
   {
    "duration": 6,
    "start_time": "2022-02-14T08:06:31.959Z"
   },
   {
    "duration": 8,
    "start_time": "2022-02-14T08:06:31.967Z"
   },
   {
    "duration": 24,
    "start_time": "2022-02-14T08:06:31.976Z"
   },
   {
    "duration": 15,
    "start_time": "2022-02-14T08:06:32.002Z"
   },
   {
    "duration": 13,
    "start_time": "2022-02-14T08:06:32.019Z"
   },
   {
    "duration": 11,
    "start_time": "2022-02-14T08:06:32.033Z"
   },
   {
    "duration": 15,
    "start_time": "2022-02-14T08:06:32.045Z"
   },
   {
    "duration": 12,
    "start_time": "2022-02-14T08:06:32.061Z"
   },
   {
    "duration": 16,
    "start_time": "2022-02-14T08:06:32.074Z"
   },
   {
    "duration": 18,
    "start_time": "2022-02-14T08:06:32.092Z"
   },
   {
    "duration": 14,
    "start_time": "2022-02-14T08:06:32.112Z"
   },
   {
    "duration": 28,
    "start_time": "2022-02-14T08:06:32.128Z"
   },
   {
    "duration": 14,
    "start_time": "2022-02-14T08:06:32.157Z"
   },
   {
    "duration": 16,
    "start_time": "2022-02-14T08:06:32.173Z"
   },
   {
    "duration": 46,
    "start_time": "2022-02-14T08:06:32.190Z"
   },
   {
    "duration": 28,
    "start_time": "2022-02-14T08:06:32.238Z"
   },
   {
    "duration": 51,
    "start_time": "2022-02-14T08:06:32.267Z"
   },
   {
    "duration": 12,
    "start_time": "2022-02-14T08:06:32.320Z"
   },
   {
    "duration": 17,
    "start_time": "2022-02-14T08:06:32.333Z"
   },
   {
    "duration": 220,
    "start_time": "2022-02-14T08:06:32.354Z"
   },
   {
    "duration": 6,
    "start_time": "2022-02-14T08:37:59.974Z"
   },
   {
    "duration": 135,
    "start_time": "2022-02-14T08:54:04.506Z"
   },
   {
    "duration": 421,
    "start_time": "2022-02-14T08:55:08.121Z"
   },
   {
    "duration": 607,
    "start_time": "2022-02-14T08:55:46.211Z"
   },
   {
    "duration": 125,
    "start_time": "2022-02-14T08:57:48.628Z"
   },
   {
    "duration": 631,
    "start_time": "2022-02-14T08:57:57.795Z"
   },
   {
    "duration": 596,
    "start_time": "2022-02-14T08:58:18.598Z"
   },
   {
    "duration": 146,
    "start_time": "2022-02-14T08:59:04.271Z"
   },
   {
    "duration": 215,
    "start_time": "2022-02-14T09:02:36.429Z"
   },
   {
    "duration": 775,
    "start_time": "2022-02-14T09:03:23.577Z"
   },
   {
    "duration": 219,
    "start_time": "2022-02-14T09:06:05.422Z"
   },
   {
    "duration": 13,
    "start_time": "2022-02-14T09:07:29.115Z"
   },
   {
    "duration": 7,
    "start_time": "2022-02-14T10:01:37.455Z"
   },
   {
    "duration": 231,
    "start_time": "2022-02-14T10:03:29.012Z"
   },
   {
    "duration": 139,
    "start_time": "2022-02-14T10:56:50.728Z"
   },
   {
    "duration": 135,
    "start_time": "2022-02-14T10:57:03.248Z"
   },
   {
    "duration": 142,
    "start_time": "2022-02-14T10:57:26.060Z"
   },
   {
    "duration": 158,
    "start_time": "2022-02-14T10:58:50.297Z"
   },
   {
    "duration": 134,
    "start_time": "2022-02-14T10:58:55.919Z"
   },
   {
    "duration": 229,
    "start_time": "2022-02-14T11:05:48.028Z"
   },
   {
    "duration": 126,
    "start_time": "2022-02-14T11:05:57.763Z"
   },
   {
    "duration": 131,
    "start_time": "2022-02-14T11:10:14.244Z"
   },
   {
    "duration": 134,
    "start_time": "2022-02-14T11:10:34.146Z"
   },
   {
    "duration": 138,
    "start_time": "2022-02-14T11:11:18.255Z"
   },
   {
    "duration": 13,
    "start_time": "2022-02-14T11:16:26.273Z"
   },
   {
    "duration": 6,
    "start_time": "2022-02-14T11:18:01.277Z"
   },
   {
    "duration": 14,
    "start_time": "2022-02-14T11:18:14.751Z"
   },
   {
    "duration": 14,
    "start_time": "2022-02-14T11:18:48.934Z"
   },
   {
    "duration": 4143,
    "start_time": "2022-02-14T11:30:34.889Z"
   },
   {
    "duration": 6,
    "start_time": "2022-02-14T11:31:27.618Z"
   },
   {
    "duration": 6,
    "start_time": "2022-02-14T11:32:52.305Z"
   },
   {
    "duration": 140,
    "start_time": "2022-02-14T11:38:58.003Z"
   },
   {
    "duration": 14,
    "start_time": "2022-02-14T11:39:44.414Z"
   },
   {
    "duration": 17,
    "start_time": "2022-02-14T11:39:51.582Z"
   },
   {
    "duration": 17,
    "start_time": "2022-02-14T11:40:01.737Z"
   },
   {
    "duration": 19,
    "start_time": "2022-02-14T11:41:21.000Z"
   },
   {
    "duration": 11,
    "start_time": "2022-02-14T11:43:25.276Z"
   },
   {
    "duration": 17,
    "start_time": "2022-02-14T11:44:30.599Z"
   },
   {
    "duration": 7,
    "start_time": "2022-02-14T11:46:19.824Z"
   },
   {
    "duration": 21,
    "start_time": "2022-02-14T11:46:57.792Z"
   },
   {
    "duration": 5,
    "start_time": "2022-02-14T12:41:50.846Z"
   },
   {
    "duration": 7,
    "start_time": "2022-02-14T13:23:36.968Z"
   },
   {
    "duration": 15,
    "start_time": "2022-02-14T13:24:31.041Z"
   },
   {
    "duration": 8,
    "start_time": "2022-02-14T13:36:26.472Z"
   },
   {
    "duration": 3,
    "start_time": "2022-02-14T13:37:43.780Z"
   },
   {
    "duration": 102,
    "start_time": "2022-02-14T13:37:43.785Z"
   },
   {
    "duration": 14,
    "start_time": "2022-02-14T13:37:43.889Z"
   },
   {
    "duration": 18,
    "start_time": "2022-02-14T13:37:43.904Z"
   },
   {
    "duration": 33,
    "start_time": "2022-02-14T13:37:43.959Z"
   },
   {
    "duration": 10,
    "start_time": "2022-02-14T13:37:43.993Z"
   },
   {
    "duration": 4,
    "start_time": "2022-02-14T13:37:44.005Z"
   },
   {
    "duration": 4,
    "start_time": "2022-02-14T13:37:44.012Z"
   },
   {
    "duration": 41,
    "start_time": "2022-02-14T13:37:44.018Z"
   },
   {
    "duration": 4,
    "start_time": "2022-02-14T13:37:44.061Z"
   },
   {
    "duration": 9,
    "start_time": "2022-02-14T13:37:44.067Z"
   },
   {
    "duration": 4,
    "start_time": "2022-02-14T13:37:44.078Z"
   },
   {
    "duration": 12,
    "start_time": "2022-02-14T13:37:44.084Z"
   },
   {
    "duration": 7,
    "start_time": "2022-02-14T13:37:44.098Z"
   },
   {
    "duration": 3,
    "start_time": "2022-02-14T13:37:44.107Z"
   },
   {
    "duration": 49,
    "start_time": "2022-02-14T13:37:44.111Z"
   },
   {
    "duration": 7,
    "start_time": "2022-02-14T13:37:44.162Z"
   },
   {
    "duration": 8,
    "start_time": "2022-02-14T13:37:44.171Z"
   },
   {
    "duration": 15,
    "start_time": "2022-02-14T13:37:44.181Z"
   },
   {
    "duration": 14,
    "start_time": "2022-02-14T13:37:44.198Z"
   },
   {
    "duration": 62,
    "start_time": "2022-02-14T13:37:44.213Z"
   },
   {
    "duration": 5,
    "start_time": "2022-02-14T13:37:44.277Z"
   },
   {
    "duration": 11,
    "start_time": "2022-02-14T13:37:44.286Z"
   },
   {
    "duration": 8,
    "start_time": "2022-02-14T13:37:44.299Z"
   },
   {
    "duration": 8,
    "start_time": "2022-02-14T13:37:44.308Z"
   },
   {
    "duration": 6,
    "start_time": "2022-02-14T13:37:44.359Z"
   },
   {
    "duration": 7,
    "start_time": "2022-02-14T13:37:44.367Z"
   },
   {
    "duration": 35,
    "start_time": "2022-02-14T13:37:44.375Z"
   },
   {
    "duration": 7,
    "start_time": "2022-02-14T13:37:44.412Z"
   },
   {
    "duration": 7,
    "start_time": "2022-02-14T13:37:44.420Z"
   },
   {
    "duration": 62,
    "start_time": "2022-02-14T13:37:44.428Z"
   },
   {
    "duration": 5,
    "start_time": "2022-02-14T13:37:44.492Z"
   },
   {
    "duration": 9,
    "start_time": "2022-02-14T13:37:44.499Z"
   },
   {
    "duration": 12,
    "start_time": "2022-02-14T13:37:44.509Z"
   },
   {
    "duration": 39,
    "start_time": "2022-02-14T13:37:44.523Z"
   },
   {
    "duration": 7,
    "start_time": "2022-02-14T13:37:44.564Z"
   },
   {
    "duration": 6,
    "start_time": "2022-02-14T13:37:44.573Z"
   },
   {
    "duration": 12,
    "start_time": "2022-02-14T13:37:44.581Z"
   },
   {
    "duration": 9,
    "start_time": "2022-02-14T13:37:44.595Z"
   },
   {
    "duration": 9,
    "start_time": "2022-02-14T13:37:44.606Z"
   },
   {
    "duration": 44,
    "start_time": "2022-02-14T13:37:44.616Z"
   },
   {
    "duration": 10,
    "start_time": "2022-02-14T13:37:44.662Z"
   },
   {
    "duration": 9,
    "start_time": "2022-02-14T13:37:44.673Z"
   },
   {
    "duration": 15,
    "start_time": "2022-02-14T13:37:44.684Z"
   },
   {
    "duration": 12,
    "start_time": "2022-02-14T13:37:44.701Z"
   },
   {
    "duration": 6,
    "start_time": "2022-02-14T13:37:44.715Z"
   },
   {
    "duration": 44,
    "start_time": "2022-02-14T13:37:44.723Z"
   },
   {
    "duration": 13,
    "start_time": "2022-02-14T13:37:44.769Z"
   },
   {
    "duration": 17,
    "start_time": "2022-02-14T13:37:44.784Z"
   },
   {
    "duration": 62,
    "start_time": "2022-02-14T13:37:44.802Z"
   },
   {
    "duration": 11,
    "start_time": "2022-02-14T13:37:44.866Z"
   },
   {
    "duration": 12,
    "start_time": "2022-02-14T13:37:44.879Z"
   },
   {
    "duration": 17,
    "start_time": "2022-02-14T13:37:44.893Z"
   },
   {
    "duration": 11,
    "start_time": "2022-02-14T13:37:44.912Z"
   },
   {
    "duration": 270,
    "start_time": "2022-02-14T13:37:44.925Z"
   },
   {
    "duration": 5,
    "start_time": "2022-02-14T13:37:45.197Z"
   },
   {
    "duration": 239,
    "start_time": "2022-02-14T13:37:45.204Z"
   },
   {
    "duration": 15,
    "start_time": "2022-02-14T13:37:45.446Z"
   },
   {
    "duration": 17,
    "start_time": "2022-02-14T13:37:45.463Z"
   },
   {
    "duration": 16,
    "start_time": "2022-02-14T13:37:45.481Z"
   },
   {
    "duration": 16,
    "start_time": "2022-02-14T13:37:45.499Z"
   },
   {
    "duration": 44,
    "start_time": "2022-02-14T13:37:45.516Z"
   },
   {
    "duration": 18,
    "start_time": "2022-02-14T13:37:45.562Z"
   },
   {
    "duration": 6,
    "start_time": "2022-02-14T13:37:45.581Z"
   },
   {
    "duration": 23,
    "start_time": "2022-02-14T13:37:45.589Z"
   },
   {
    "duration": 684,
    "start_time": "2022-02-14T14:00:57.196Z"
   },
   {
    "duration": 379,
    "start_time": "2022-02-14T14:01:16.048Z"
   },
   {
    "duration": 8,
    "start_time": "2022-02-14T14:01:23.057Z"
   },
   {
    "duration": 1873,
    "start_time": "2022-02-14T14:02:02.915Z"
   },
   {
    "duration": 2578,
    "start_time": "2022-02-14T14:02:10.771Z"
   },
   {
    "duration": 1988,
    "start_time": "2022-02-14T14:02:21.773Z"
   },
   {
    "duration": 2007,
    "start_time": "2022-02-14T14:02:29.541Z"
   },
   {
    "duration": 1733,
    "start_time": "2022-02-14T14:02:51.036Z"
   },
   {
    "duration": 1925,
    "start_time": "2022-02-14T14:03:01.846Z"
   },
   {
    "duration": 2106,
    "start_time": "2022-02-14T14:03:47.858Z"
   },
   {
    "duration": 2359,
    "start_time": "2022-02-14T14:04:04.751Z"
   },
   {
    "duration": 2,
    "start_time": "2022-02-14T14:04:13.647Z"
   },
   {
    "duration": 51,
    "start_time": "2022-02-14T14:04:13.651Z"
   },
   {
    "duration": 13,
    "start_time": "2022-02-14T14:04:13.704Z"
   },
   {
    "duration": 44,
    "start_time": "2022-02-14T14:04:13.720Z"
   },
   {
    "duration": 51,
    "start_time": "2022-02-14T14:04:13.766Z"
   },
   {
    "duration": 10,
    "start_time": "2022-02-14T14:04:13.819Z"
   },
   {
    "duration": 4,
    "start_time": "2022-02-14T14:04:13.860Z"
   },
   {
    "duration": 8,
    "start_time": "2022-02-14T14:04:13.866Z"
   },
   {
    "duration": 17,
    "start_time": "2022-02-14T14:04:13.876Z"
   },
   {
    "duration": 7,
    "start_time": "2022-02-14T14:04:13.895Z"
   },
   {
    "duration": 20,
    "start_time": "2022-02-14T14:04:13.904Z"
   },
   {
    "duration": 5,
    "start_time": "2022-02-14T14:04:13.925Z"
   },
   {
    "duration": 28,
    "start_time": "2022-02-14T14:04:13.932Z"
   },
   {
    "duration": 10,
    "start_time": "2022-02-14T14:04:13.962Z"
   },
   {
    "duration": 4,
    "start_time": "2022-02-14T14:04:13.973Z"
   },
   {
    "duration": 10,
    "start_time": "2022-02-14T14:04:13.979Z"
   },
   {
    "duration": 6,
    "start_time": "2022-02-14T14:04:13.992Z"
   },
   {
    "duration": 7,
    "start_time": "2022-02-14T14:04:14.000Z"
   },
   {
    "duration": 61,
    "start_time": "2022-02-14T14:04:14.011Z"
   },
   {
    "duration": 15,
    "start_time": "2022-02-14T14:04:14.075Z"
   },
   {
    "duration": 24,
    "start_time": "2022-02-14T14:04:14.092Z"
   },
   {
    "duration": 41,
    "start_time": "2022-02-14T14:04:14.118Z"
   },
   {
    "duration": 13,
    "start_time": "2022-02-14T14:04:14.161Z"
   },
   {
    "duration": 10,
    "start_time": "2022-02-14T14:04:14.176Z"
   },
   {
    "duration": 10,
    "start_time": "2022-02-14T14:04:14.188Z"
   },
   {
    "duration": 7,
    "start_time": "2022-02-14T14:04:14.200Z"
   },
   {
    "duration": 50,
    "start_time": "2022-02-14T14:04:14.209Z"
   },
   {
    "duration": 34,
    "start_time": "2022-02-14T14:04:14.261Z"
   },
   {
    "duration": 10,
    "start_time": "2022-02-14T14:04:14.296Z"
   },
   {
    "duration": 9,
    "start_time": "2022-02-14T14:04:14.308Z"
   },
   {
    "duration": 73,
    "start_time": "2022-02-14T14:04:14.319Z"
   },
   {
    "duration": 8,
    "start_time": "2022-02-14T14:04:14.394Z"
   },
   {
    "duration": 7,
    "start_time": "2022-02-14T14:04:14.404Z"
   },
   {
    "duration": 53,
    "start_time": "2022-02-14T14:04:14.414Z"
   },
   {
    "duration": 8,
    "start_time": "2022-02-14T14:04:14.469Z"
   },
   {
    "duration": 6,
    "start_time": "2022-02-14T14:04:14.479Z"
   },
   {
    "duration": 8,
    "start_time": "2022-02-14T14:04:14.487Z"
   },
   {
    "duration": 16,
    "start_time": "2022-02-14T14:04:14.498Z"
   },
   {
    "duration": 46,
    "start_time": "2022-02-14T14:04:14.516Z"
   },
   {
    "duration": 6,
    "start_time": "2022-02-14T14:04:14.564Z"
   },
   {
    "duration": 8,
    "start_time": "2022-02-14T14:04:14.572Z"
   },
   {
    "duration": 9,
    "start_time": "2022-02-14T14:04:14.582Z"
   },
   {
    "duration": 7,
    "start_time": "2022-02-14T14:04:14.593Z"
   },
   {
    "duration": 59,
    "start_time": "2022-02-14T14:04:14.601Z"
   },
   {
    "duration": 7,
    "start_time": "2022-02-14T14:04:14.662Z"
   },
   {
    "duration": 6,
    "start_time": "2022-02-14T14:04:14.671Z"
   },
   {
    "duration": 15,
    "start_time": "2022-02-14T14:04:14.679Z"
   },
   {
    "duration": 11,
    "start_time": "2022-02-14T14:04:14.696Z"
   },
   {
    "duration": 61,
    "start_time": "2022-02-14T14:04:14.709Z"
   },
   {
    "duration": 32,
    "start_time": "2022-02-14T14:04:14.771Z"
   },
   {
    "duration": 11,
    "start_time": "2022-02-14T14:04:14.805Z"
   },
   {
    "duration": 45,
    "start_time": "2022-02-14T14:04:14.818Z"
   },
   {
    "duration": 18,
    "start_time": "2022-02-14T14:04:14.865Z"
   },
   {
    "duration": 14,
    "start_time": "2022-02-14T14:04:14.885Z"
   },
   {
    "duration": 253,
    "start_time": "2022-02-14T14:04:14.903Z"
   },
   {
    "duration": 6,
    "start_time": "2022-02-14T14:04:15.159Z"
   },
   {
    "duration": 250,
    "start_time": "2022-02-14T14:04:15.166Z"
   },
   {
    "duration": 6,
    "start_time": "2022-02-14T14:04:15.418Z"
   },
   {
    "duration": 35,
    "start_time": "2022-02-14T14:04:15.425Z"
   },
   {
    "duration": 17,
    "start_time": "2022-02-14T14:04:15.462Z"
   },
   {
    "duration": 17,
    "start_time": "2022-02-14T14:04:15.481Z"
   },
   {
    "duration": 6,
    "start_time": "2022-02-14T14:04:15.500Z"
   },
   {
    "duration": 60,
    "start_time": "2022-02-14T14:04:15.507Z"
   },
   {
    "duration": 13,
    "start_time": "2022-02-14T14:04:15.569Z"
   },
   {
    "duration": 7,
    "start_time": "2022-02-14T14:04:15.584Z"
   },
   {
    "duration": 25,
    "start_time": "2022-02-14T14:04:15.592Z"
   },
   {
    "duration": 7,
    "start_time": "2022-02-14T14:06:47.437Z"
   },
   {
    "duration": 9,
    "start_time": "2022-02-14T14:06:56.947Z"
   },
   {
    "duration": 11,
    "start_time": "2022-02-14T14:07:19.288Z"
   },
   {
    "duration": 10,
    "start_time": "2022-02-14T14:07:26.307Z"
   },
   {
    "duration": 2,
    "start_time": "2022-02-14T14:07:35.015Z"
   },
   {
    "duration": 64,
    "start_time": "2022-02-14T14:07:35.019Z"
   },
   {
    "duration": 14,
    "start_time": "2022-02-14T14:07:35.085Z"
   },
   {
    "duration": 45,
    "start_time": "2022-02-14T14:07:35.101Z"
   },
   {
    "duration": 35,
    "start_time": "2022-02-14T14:07:35.160Z"
   },
   {
    "duration": 12,
    "start_time": "2022-02-14T14:07:35.197Z"
   },
   {
    "duration": 12,
    "start_time": "2022-02-14T14:07:35.211Z"
   },
   {
    "duration": 34,
    "start_time": "2022-02-14T14:07:35.225Z"
   },
   {
    "duration": 14,
    "start_time": "2022-02-14T14:07:35.262Z"
   },
   {
    "duration": 23,
    "start_time": "2022-02-14T14:07:35.278Z"
   },
   {
    "duration": 24,
    "start_time": "2022-02-14T14:07:35.303Z"
   },
   {
    "duration": 33,
    "start_time": "2022-02-14T14:07:35.330Z"
   },
   {
    "duration": 17,
    "start_time": "2022-02-14T14:07:35.365Z"
   },
   {
    "duration": 20,
    "start_time": "2022-02-14T14:07:35.384Z"
   },
   {
    "duration": 20,
    "start_time": "2022-02-14T14:07:35.406Z"
   },
   {
    "duration": 26,
    "start_time": "2022-02-14T14:07:35.428Z"
   },
   {
    "duration": 12,
    "start_time": "2022-02-14T14:07:35.456Z"
   },
   {
    "duration": 28,
    "start_time": "2022-02-14T14:07:35.470Z"
   },
   {
    "duration": 27,
    "start_time": "2022-02-14T14:07:35.500Z"
   },
   {
    "duration": 31,
    "start_time": "2022-02-14T14:07:35.529Z"
   },
   {
    "duration": 39,
    "start_time": "2022-02-14T14:07:35.563Z"
   },
   {
    "duration": 9,
    "start_time": "2022-02-14T14:07:35.604Z"
   },
   {
    "duration": 40,
    "start_time": "2022-02-14T14:07:35.615Z"
   },
   {
    "duration": 19,
    "start_time": "2022-02-14T14:07:35.656Z"
   },
   {
    "duration": 21,
    "start_time": "2022-02-14T14:07:35.677Z"
   },
   {
    "duration": 11,
    "start_time": "2022-02-14T14:07:35.700Z"
   },
   {
    "duration": 27,
    "start_time": "2022-02-14T14:07:35.716Z"
   },
   {
    "duration": 66,
    "start_time": "2022-02-14T14:07:35.745Z"
   },
   {
    "duration": 8,
    "start_time": "2022-02-14T14:07:35.813Z"
   },
   {
    "duration": 23,
    "start_time": "2022-02-14T14:07:35.823Z"
   },
   {
    "duration": 54,
    "start_time": "2022-02-14T14:07:35.848Z"
   },
   {
    "duration": 6,
    "start_time": "2022-02-14T14:07:35.904Z"
   },
   {
    "duration": 31,
    "start_time": "2022-02-14T14:07:35.911Z"
   },
   {
    "duration": 28,
    "start_time": "2022-02-14T14:07:35.943Z"
   },
   {
    "duration": 17,
    "start_time": "2022-02-14T14:07:35.973Z"
   },
   {
    "duration": 29,
    "start_time": "2022-02-14T14:07:35.992Z"
   },
   {
    "duration": 37,
    "start_time": "2022-02-14T14:07:36.023Z"
   },
   {
    "duration": 22,
    "start_time": "2022-02-14T14:07:36.061Z"
   },
   {
    "duration": 45,
    "start_time": "2022-02-14T14:07:36.085Z"
   },
   {
    "duration": 19,
    "start_time": "2022-02-14T14:07:36.132Z"
   },
   {
    "duration": 18,
    "start_time": "2022-02-14T14:07:36.153Z"
   },
   {
    "duration": 42,
    "start_time": "2022-02-14T14:07:36.173Z"
   },
   {
    "duration": 18,
    "start_time": "2022-02-14T14:07:36.217Z"
   },
   {
    "duration": 15,
    "start_time": "2022-02-14T14:07:36.237Z"
   },
   {
    "duration": 25,
    "start_time": "2022-02-14T14:07:36.253Z"
   },
   {
    "duration": 12,
    "start_time": "2022-02-14T14:07:36.279Z"
   },
   {
    "duration": 38,
    "start_time": "2022-02-14T14:07:36.292Z"
   },
   {
    "duration": 32,
    "start_time": "2022-02-14T14:07:36.331Z"
   },
   {
    "duration": 15,
    "start_time": "2022-02-14T14:07:36.365Z"
   },
   {
    "duration": 47,
    "start_time": "2022-02-14T14:07:36.381Z"
   },
   {
    "duration": 19,
    "start_time": "2022-02-14T14:07:36.430Z"
   },
   {
    "duration": 43,
    "start_time": "2022-02-14T14:07:36.450Z"
   },
   {
    "duration": 38,
    "start_time": "2022-02-14T14:07:36.494Z"
   },
   {
    "duration": 35,
    "start_time": "2022-02-14T14:07:36.534Z"
   },
   {
    "duration": 251,
    "start_time": "2022-02-14T14:07:36.571Z"
   },
   {
    "duration": 6,
    "start_time": "2022-02-14T14:07:36.824Z"
   },
   {
    "duration": 245,
    "start_time": "2022-02-14T14:07:36.832Z"
   },
   {
    "duration": 5,
    "start_time": "2022-02-14T14:07:37.079Z"
   },
   {
    "duration": 29,
    "start_time": "2022-02-14T14:07:37.086Z"
   },
   {
    "duration": 17,
    "start_time": "2022-02-14T14:07:37.117Z"
   },
   {
    "duration": 33,
    "start_time": "2022-02-14T14:07:37.135Z"
   },
   {
    "duration": 7,
    "start_time": "2022-02-14T14:07:37.170Z"
   },
   {
    "duration": 24,
    "start_time": "2022-02-14T14:07:37.178Z"
   },
   {
    "duration": 12,
    "start_time": "2022-02-14T14:07:37.204Z"
   },
   {
    "duration": 9,
    "start_time": "2022-02-14T14:07:37.218Z"
   },
   {
    "duration": 14,
    "start_time": "2022-02-14T14:07:37.259Z"
   },
   {
    "duration": 331,
    "start_time": "2022-02-14T14:08:19.828Z"
   },
   {
    "duration": 10,
    "start_time": "2022-02-14T14:08:40.831Z"
   },
   {
    "duration": 3,
    "start_time": "2022-02-14T14:09:21.416Z"
   },
   {
    "duration": 52,
    "start_time": "2022-02-14T14:09:21.421Z"
   },
   {
    "duration": 13,
    "start_time": "2022-02-14T14:09:21.475Z"
   },
   {
    "duration": 14,
    "start_time": "2022-02-14T14:09:21.490Z"
   },
   {
    "duration": 66,
    "start_time": "2022-02-14T14:09:21.506Z"
   },
   {
    "duration": 10,
    "start_time": "2022-02-14T14:09:21.574Z"
   },
   {
    "duration": 3,
    "start_time": "2022-02-14T14:09:21.587Z"
   },
   {
    "duration": 10,
    "start_time": "2022-02-14T14:09:21.592Z"
   },
   {
    "duration": 8,
    "start_time": "2022-02-14T14:09:21.603Z"
   },
   {
    "duration": 48,
    "start_time": "2022-02-14T14:09:21.613Z"
   },
   {
    "duration": 12,
    "start_time": "2022-02-14T14:09:21.663Z"
   },
   {
    "duration": 4,
    "start_time": "2022-02-14T14:09:21.677Z"
   },
   {
    "duration": 8,
    "start_time": "2022-02-14T14:09:21.682Z"
   },
   {
    "duration": 12,
    "start_time": "2022-02-14T14:09:21.691Z"
   },
   {
    "duration": 3,
    "start_time": "2022-02-14T14:09:21.705Z"
   },
   {
    "duration": 20,
    "start_time": "2022-02-14T14:09:21.710Z"
   },
   {
    "duration": 6,
    "start_time": "2022-02-14T14:09:21.760Z"
   },
   {
    "duration": 18,
    "start_time": "2022-02-14T14:09:21.768Z"
   },
   {
    "duration": 15,
    "start_time": "2022-02-14T14:09:21.789Z"
   },
   {
    "duration": 14,
    "start_time": "2022-02-14T14:09:21.807Z"
   },
   {
    "duration": 56,
    "start_time": "2022-02-14T14:09:21.823Z"
   },
   {
    "duration": 5,
    "start_time": "2022-02-14T14:09:21.880Z"
   },
   {
    "duration": 14,
    "start_time": "2022-02-14T14:09:21.887Z"
   },
   {
    "duration": 16,
    "start_time": "2022-02-14T14:09:21.903Z"
   },
   {
    "duration": 39,
    "start_time": "2022-02-14T14:09:21.921Z"
   },
   {
    "duration": 6,
    "start_time": "2022-02-14T14:09:21.962Z"
   },
   {
    "duration": 9,
    "start_time": "2022-02-14T14:09:21.970Z"
   },
   {
    "duration": 31,
    "start_time": "2022-02-14T14:09:21.981Z"
   },
   {
    "duration": 8,
    "start_time": "2022-02-14T14:09:22.013Z"
   },
   {
    "duration": 41,
    "start_time": "2022-02-14T14:09:22.023Z"
   },
   {
    "duration": 34,
    "start_time": "2022-02-14T14:09:22.065Z"
   },
   {
    "duration": 5,
    "start_time": "2022-02-14T14:09:22.101Z"
   },
   {
    "duration": 8,
    "start_time": "2022-02-14T14:09:22.108Z"
   },
   {
    "duration": 45,
    "start_time": "2022-02-14T14:09:22.117Z"
   },
   {
    "duration": 13,
    "start_time": "2022-02-14T14:09:22.165Z"
   },
   {
    "duration": 5,
    "start_time": "2022-02-14T14:09:22.180Z"
   },
   {
    "duration": 7,
    "start_time": "2022-02-14T14:09:22.187Z"
   },
   {
    "duration": 14,
    "start_time": "2022-02-14T14:09:22.196Z"
   },
   {
    "duration": 8,
    "start_time": "2022-02-14T14:09:22.212Z"
   },
   {
    "duration": 4,
    "start_time": "2022-02-14T14:09:22.260Z"
   },
   {
    "duration": 8,
    "start_time": "2022-02-14T14:09:22.266Z"
   },
   {
    "duration": 10,
    "start_time": "2022-02-14T14:09:22.276Z"
   },
   {
    "duration": 9,
    "start_time": "2022-02-14T14:09:22.287Z"
   },
   {
    "duration": 10,
    "start_time": "2022-02-14T14:09:22.298Z"
   },
   {
    "duration": 10,
    "start_time": "2022-02-14T14:09:22.310Z"
   },
   {
    "duration": 39,
    "start_time": "2022-02-14T14:09:22.322Z"
   },
   {
    "duration": 26,
    "start_time": "2022-02-14T14:09:22.363Z"
   },
   {
    "duration": 11,
    "start_time": "2022-02-14T14:09:22.391Z"
   },
   {
    "duration": 14,
    "start_time": "2022-02-14T14:09:22.404Z"
   },
   {
    "duration": 55,
    "start_time": "2022-02-14T14:09:22.419Z"
   },
   {
    "duration": 11,
    "start_time": "2022-02-14T14:09:22.476Z"
   },
   {
    "duration": 13,
    "start_time": "2022-02-14T14:09:22.488Z"
   },
   {
    "duration": 20,
    "start_time": "2022-02-14T14:09:22.502Z"
   },
   {
    "duration": 42,
    "start_time": "2022-02-14T14:09:22.523Z"
   },
   {
    "duration": 235,
    "start_time": "2022-02-14T14:09:22.571Z"
   },
   {
    "duration": 8,
    "start_time": "2022-02-14T14:09:22.808Z"
   },
   {
    "duration": 244,
    "start_time": "2022-02-14T14:09:22.817Z"
   },
   {
    "duration": 5,
    "start_time": "2022-02-14T14:09:23.063Z"
   },
   {
    "duration": 20,
    "start_time": "2022-02-14T14:09:23.070Z"
   },
   {
    "duration": 16,
    "start_time": "2022-02-14T14:09:23.091Z"
   },
   {
    "duration": 17,
    "start_time": "2022-02-14T14:09:23.108Z"
   },
   {
    "duration": 7,
    "start_time": "2022-02-14T14:09:23.160Z"
   },
   {
    "duration": 5,
    "start_time": "2022-02-14T14:09:23.168Z"
   },
   {
    "duration": 17,
    "start_time": "2022-02-14T14:09:23.175Z"
   },
   {
    "duration": 6,
    "start_time": "2022-02-14T14:09:23.194Z"
   },
   {
    "duration": 16,
    "start_time": "2022-02-14T14:09:23.202Z"
   },
   {
    "duration": 3,
    "start_time": "2022-02-14T14:10:01.817Z"
   },
   {
    "duration": 67,
    "start_time": "2022-02-14T14:10:01.826Z"
   },
   {
    "duration": 31,
    "start_time": "2022-02-14T14:10:01.895Z"
   },
   {
    "duration": 41,
    "start_time": "2022-02-14T14:10:01.928Z"
   },
   {
    "duration": 33,
    "start_time": "2022-02-14T14:10:01.971Z"
   },
   {
    "duration": 27,
    "start_time": "2022-02-14T14:10:02.007Z"
   },
   {
    "duration": 5,
    "start_time": "2022-02-14T14:10:02.036Z"
   },
   {
    "duration": 20,
    "start_time": "2022-02-14T14:10:02.043Z"
   },
   {
    "duration": 42,
    "start_time": "2022-02-14T14:10:02.065Z"
   },
   {
    "duration": 96,
    "start_time": "2022-02-14T14:10:02.111Z"
   },
   {
    "duration": 8,
    "start_time": "2022-02-14T14:10:02.210Z"
   },
   {
    "duration": 4,
    "start_time": "2022-02-14T14:10:02.220Z"
   },
   {
    "duration": 9,
    "start_time": "2022-02-14T14:10:02.226Z"
   },
   {
    "duration": 20,
    "start_time": "2022-02-14T14:10:02.237Z"
   },
   {
    "duration": 6,
    "start_time": "2022-02-14T14:10:02.259Z"
   },
   {
    "duration": 18,
    "start_time": "2022-02-14T14:10:02.267Z"
   },
   {
    "duration": 7,
    "start_time": "2022-02-14T14:10:02.288Z"
   },
   {
    "duration": 16,
    "start_time": "2022-02-14T14:10:02.297Z"
   },
   {
    "duration": 49,
    "start_time": "2022-02-14T14:10:02.316Z"
   },
   {
    "duration": 17,
    "start_time": "2022-02-14T14:10:02.368Z"
   },
   {
    "duration": 22,
    "start_time": "2022-02-14T14:10:02.387Z"
   },
   {
    "duration": 7,
    "start_time": "2022-02-14T14:10:02.411Z"
   },
   {
    "duration": 47,
    "start_time": "2022-02-14T14:10:02.420Z"
   },
   {
    "duration": 6,
    "start_time": "2022-02-14T14:10:02.469Z"
   },
   {
    "duration": 18,
    "start_time": "2022-02-14T14:10:02.477Z"
   },
   {
    "duration": 11,
    "start_time": "2022-02-14T14:10:02.497Z"
   },
   {
    "duration": 17,
    "start_time": "2022-02-14T14:10:02.510Z"
   },
   {
    "duration": 47,
    "start_time": "2022-02-14T14:10:02.531Z"
   },
   {
    "duration": 8,
    "start_time": "2022-02-14T14:10:02.580Z"
   },
   {
    "duration": 13,
    "start_time": "2022-02-14T14:10:02.589Z"
   },
   {
    "duration": 58,
    "start_time": "2022-02-14T14:10:02.604Z"
   },
   {
    "duration": 6,
    "start_time": "2022-02-14T14:10:02.664Z"
   },
   {
    "duration": 16,
    "start_time": "2022-02-14T14:10:02.672Z"
   },
   {
    "duration": 16,
    "start_time": "2022-02-14T14:10:02.689Z"
   },
   {
    "duration": 24,
    "start_time": "2022-02-14T14:10:02.707Z"
   },
   {
    "duration": 21,
    "start_time": "2022-02-14T14:10:02.733Z"
   },
   {
    "duration": 11,
    "start_time": "2022-02-14T14:10:02.756Z"
   },
   {
    "duration": 18,
    "start_time": "2022-02-14T14:10:02.769Z"
   },
   {
    "duration": 25,
    "start_time": "2022-02-14T14:10:02.789Z"
   },
   {
    "duration": 7,
    "start_time": "2022-02-14T14:10:02.816Z"
   },
   {
    "duration": 7,
    "start_time": "2022-02-14T14:10:02.825Z"
   },
   {
    "duration": 9,
    "start_time": "2022-02-14T14:10:02.833Z"
   },
   {
    "duration": 20,
    "start_time": "2022-02-14T14:10:02.843Z"
   },
   {
    "duration": 11,
    "start_time": "2022-02-14T14:10:02.865Z"
   },
   {
    "duration": 8,
    "start_time": "2022-02-14T14:10:02.877Z"
   },
   {
    "duration": 6,
    "start_time": "2022-02-14T14:10:02.887Z"
   },
   {
    "duration": 13,
    "start_time": "2022-02-14T14:10:02.894Z"
   },
   {
    "duration": 11,
    "start_time": "2022-02-14T14:10:02.909Z"
   },
   {
    "duration": 43,
    "start_time": "2022-02-14T14:10:02.922Z"
   },
   {
    "duration": 30,
    "start_time": "2022-02-14T14:10:02.966Z"
   },
   {
    "duration": 12,
    "start_time": "2022-02-14T14:10:02.998Z"
   },
   {
    "duration": 48,
    "start_time": "2022-02-14T14:10:03.012Z"
   },
   {
    "duration": 17,
    "start_time": "2022-02-14T14:10:03.062Z"
   },
   {
    "duration": 11,
    "start_time": "2022-02-14T14:10:03.080Z"
   },
   {
    "duration": 243,
    "start_time": "2022-02-14T14:10:03.093Z"
   },
   {
    "duration": 6,
    "start_time": "2022-02-14T14:10:03.338Z"
   },
   {
    "duration": 240,
    "start_time": "2022-02-14T14:10:03.345Z"
   },
   {
    "duration": 4,
    "start_time": "2022-02-14T14:10:03.587Z"
   },
   {
    "duration": 28,
    "start_time": "2022-02-14T14:10:03.593Z"
   },
   {
    "duration": 15,
    "start_time": "2022-02-14T14:10:03.622Z"
   },
   {
    "duration": 36,
    "start_time": "2022-02-14T14:10:03.638Z"
   },
   {
    "duration": 6,
    "start_time": "2022-02-14T14:10:03.676Z"
   },
   {
    "duration": 16,
    "start_time": "2022-02-14T14:10:03.683Z"
   },
   {
    "duration": 7,
    "start_time": "2022-02-14T14:10:03.700Z"
   },
   {
    "duration": 51,
    "start_time": "2022-02-14T14:10:03.708Z"
   },
   {
    "duration": 2,
    "start_time": "2022-02-14T14:43:20.288Z"
   },
   {
    "duration": 58,
    "start_time": "2022-02-14T14:43:20.292Z"
   },
   {
    "duration": 13,
    "start_time": "2022-02-14T14:43:20.353Z"
   },
   {
    "duration": 17,
    "start_time": "2022-02-14T14:43:20.368Z"
   },
   {
    "duration": 81,
    "start_time": "2022-02-14T14:43:20.387Z"
   },
   {
    "duration": 11,
    "start_time": "2022-02-14T14:43:20.470Z"
   },
   {
    "duration": 4,
    "start_time": "2022-02-14T14:43:20.483Z"
   },
   {
    "duration": 6,
    "start_time": "2022-02-14T14:43:20.489Z"
   },
   {
    "duration": 9,
    "start_time": "2022-02-14T14:43:20.497Z"
   },
   {
    "duration": 55,
    "start_time": "2022-02-14T14:43:20.508Z"
   },
   {
    "duration": 8,
    "start_time": "2022-02-14T14:43:20.566Z"
   },
   {
    "duration": 14,
    "start_time": "2022-02-14T14:43:20.577Z"
   },
   {
    "duration": 6,
    "start_time": "2022-02-14T14:43:20.593Z"
   },
   {
    "duration": 10,
    "start_time": "2022-02-14T14:43:20.601Z"
   },
   {
    "duration": 6,
    "start_time": "2022-02-14T14:43:20.612Z"
   },
   {
    "duration": 50,
    "start_time": "2022-02-14T14:43:20.620Z"
   },
   {
    "duration": 10,
    "start_time": "2022-02-14T14:43:20.673Z"
   },
   {
    "duration": 11,
    "start_time": "2022-02-14T14:43:20.685Z"
   },
   {
    "duration": 15,
    "start_time": "2022-02-14T14:43:20.699Z"
   },
   {
    "duration": 17,
    "start_time": "2022-02-14T14:43:20.761Z"
   },
   {
    "duration": 26,
    "start_time": "2022-02-14T14:43:20.780Z"
   },
   {
    "duration": 8,
    "start_time": "2022-02-14T14:43:20.808Z"
   },
   {
    "duration": 16,
    "start_time": "2022-02-14T14:43:20.860Z"
   },
   {
    "duration": 9,
    "start_time": "2022-02-14T14:43:20.878Z"
   },
   {
    "duration": 10,
    "start_time": "2022-02-14T14:43:20.889Z"
   },
   {
    "duration": 9,
    "start_time": "2022-02-14T14:43:20.901Z"
   },
   {
    "duration": 52,
    "start_time": "2022-02-14T14:43:20.912Z"
   },
   {
    "duration": 32,
    "start_time": "2022-02-14T14:43:20.966Z"
   },
   {
    "duration": 8,
    "start_time": "2022-02-14T14:43:21.000Z"
   },
   {
    "duration": 8,
    "start_time": "2022-02-14T14:43:21.009Z"
   },
   {
    "duration": 76,
    "start_time": "2022-02-14T14:43:21.019Z"
   },
   {
    "duration": 5,
    "start_time": "2022-02-14T14:43:21.097Z"
   },
   {
    "duration": 14,
    "start_time": "2022-02-14T14:43:21.104Z"
   },
   {
    "duration": 46,
    "start_time": "2022-02-14T14:43:21.120Z"
   },
   {
    "duration": 23,
    "start_time": "2022-02-14T14:43:21.168Z"
   },
   {
    "duration": 12,
    "start_time": "2022-02-14T14:43:21.192Z"
   },
   {
    "duration": 19,
    "start_time": "2022-02-14T14:43:21.205Z"
   },
   {
    "duration": 23,
    "start_time": "2022-02-14T14:43:21.226Z"
   },
   {
    "duration": 11,
    "start_time": "2022-02-14T14:43:21.258Z"
   },
   {
    "duration": 7,
    "start_time": "2022-02-14T14:43:21.271Z"
   },
   {
    "duration": 7,
    "start_time": "2022-02-14T14:43:21.279Z"
   },
   {
    "duration": 9,
    "start_time": "2022-02-14T14:43:21.288Z"
   },
   {
    "duration": 7,
    "start_time": "2022-02-14T14:43:21.299Z"
   },
   {
    "duration": 53,
    "start_time": "2022-02-14T14:43:21.308Z"
   },
   {
    "duration": 5,
    "start_time": "2022-02-14T14:43:21.363Z"
   },
   {
    "duration": 14,
    "start_time": "2022-02-14T14:43:21.370Z"
   },
   {
    "duration": 29,
    "start_time": "2022-02-14T14:43:21.386Z"
   },
   {
    "duration": 14,
    "start_time": "2022-02-14T14:43:21.417Z"
   },
   {
    "duration": 49,
    "start_time": "2022-02-14T14:43:21.433Z"
   },
   {
    "duration": 40,
    "start_time": "2022-02-14T14:43:21.484Z"
   },
   {
    "duration": 36,
    "start_time": "2022-02-14T14:43:21.526Z"
   },
   {
    "duration": 15,
    "start_time": "2022-02-14T14:43:21.564Z"
   },
   {
    "duration": 14,
    "start_time": "2022-02-14T14:43:21.581Z"
   },
   {
    "duration": 12,
    "start_time": "2022-02-14T14:43:21.597Z"
   },
   {
    "duration": 285,
    "start_time": "2022-02-14T14:43:21.617Z"
   },
   {
    "duration": 6,
    "start_time": "2022-02-14T14:43:21.904Z"
   },
   {
    "duration": 241,
    "start_time": "2022-02-14T14:43:21.911Z"
   },
   {
    "duration": 7,
    "start_time": "2022-02-14T14:43:22.154Z"
   },
   {
    "duration": 22,
    "start_time": "2022-02-14T14:43:22.163Z"
   },
   {
    "duration": 15,
    "start_time": "2022-02-14T14:43:22.187Z"
   },
   {
    "duration": 56,
    "start_time": "2022-02-14T14:43:22.204Z"
   },
   {
    "duration": 7,
    "start_time": "2022-02-14T14:43:22.261Z"
   },
   {
    "duration": 30,
    "start_time": "2022-02-14T14:43:22.270Z"
   },
   {
    "duration": 7,
    "start_time": "2022-02-14T14:43:22.302Z"
   },
   {
    "duration": 52,
    "start_time": "2022-02-14T14:43:22.310Z"
   }
  ],
  "kernelspec": {
   "display_name": "Python 3 (ipykernel)",
   "language": "python",
   "name": "python3"
  },
  "language_info": {
   "codemirror_mode": {
    "name": "ipython",
    "version": 3
   },
   "file_extension": ".py",
   "mimetype": "text/x-python",
   "name": "python",
   "nbconvert_exporter": "python",
   "pygments_lexer": "ipython3",
   "version": "3.9.5"
  },
  "toc": {
   "base_numbering": 1,
   "nav_menu": {},
   "number_sections": true,
   "sideBar": true,
   "skip_h1_title": true,
   "title_cell": "Table of Contents",
   "title_sidebar": "Contents",
   "toc_cell": false,
   "toc_position": {
    "height": "calc(100% - 180px)",
    "left": "10px",
    "top": "150px",
    "width": "408.391px"
   },
   "toc_section_display": true,
   "toc_window_display": true
  }
 },
 "nbformat": 4,
 "nbformat_minor": 5
}
