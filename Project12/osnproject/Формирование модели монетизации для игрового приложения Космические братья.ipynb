{
 "cells": [
  {
   "cell_type": "markdown",
   "metadata": {
    "toc": true
   },
   "source": [
    "<h1>Table of Contents<span class=\"tocSkip\"></span></h1>\n",
    "<div class=\"toc\"><ul class=\"toc-item\"><li><span><a href=\"#Описание-проекта.\" data-toc-modified-id=\"Описание-проекта.-1\"><span class=\"toc-item-num\">1&nbsp;&nbsp;</span>Описание проекта.</a></span></li><li><span><a href=\"#Описание-данных.\" data-toc-modified-id=\"Описание-данных.-2\"><span class=\"toc-item-num\">2&nbsp;&nbsp;</span>Описание данных.</a></span></li><li><span><a href=\"#Импорт-библиотек,-загрузка-предоставленных-данных-в-переменные-и-их-первичный-анализ.\" data-toc-modified-id=\"Импорт-библиотек,-загрузка-предоставленных-данных-в-переменные-и-их-первичный-анализ.-3\"><span class=\"toc-item-num\">3&nbsp;&nbsp;</span>Импорт библиотек, загрузка предоставленных данных в переменные и их первичный анализ.</a></span><ul class=\"toc-item\"><li><span><a href=\"#Импорт-библиотек-и-загрузка-данных-в-переменные.\" data-toc-modified-id=\"Импорт-библиотек-и-загрузка-данных-в-переменные.-3.1\"><span class=\"toc-item-num\">3.1&nbsp;&nbsp;</span>Импорт библиотек и загрузка данных в переменные.</a></span></li><li><span><a href=\"#Предварительный-анализ-данных.\" data-toc-modified-id=\"Предварительный-анализ-данных.-3.2\"><span class=\"toc-item-num\">3.2&nbsp;&nbsp;</span>Предварительный анализ данных.</a></span></li></ul></li><li><span><a href=\"#Подготовка-данных-к-исследованию.\" data-toc-modified-id=\"Подготовка-данных-к-исследованию.-4\"><span class=\"toc-item-num\">4&nbsp;&nbsp;</span>Подготовка данных к исследованию.</a></span><ul class=\"toc-item\"><li><span><a href=\"#Проверка--и-удаление-дубликатов-в-данных.\" data-toc-modified-id=\"Проверка--и-удаление-дубликатов-в-данных.-4.1\"><span class=\"toc-item-num\">4.1&nbsp;&nbsp;</span>Проверка  и удаление дубликатов в данных.</a></span></li><li><span><a href=\"#Подробно-изучим-переменную-ad_costs-с-информацией-о-рекламных-активностях.\" data-toc-modified-id=\"Подробно-изучим-переменную-ad_costs-с-информацией-о-рекламных-активностях.-4.2\"><span class=\"toc-item-num\">4.2&nbsp;&nbsp;</span>Подробно изучим переменную <code>ad_costs</code> с информацией о рекламных активностях.</a></span></li><li><span><a href=\"#Подробно-исследуем-переменную-game_actions-с-данными-первых-пользователей-приложения.\" data-toc-modified-id=\"Подробно-исследуем-переменную-game_actions-с-данными-первых-пользователей-приложения.-4.3\"><span class=\"toc-item-num\">4.3&nbsp;&nbsp;</span>Подробно исследуем переменную <code>game_actions</code> с данными первых пользователей приложения.</a></span></li><li><span><a href=\"#Таблица-user_source---информация-о-рекламных-активностях.\" data-toc-modified-id=\"Таблица-user_source---информация-о-рекламных-активностях.-4.4\"><span class=\"toc-item-num\">4.4&nbsp;&nbsp;</span>Таблица <code>user_source</code> - информация о рекламных активностях.</a></span></li><li><span><a href=\"#Вывод-по-разделу.\" data-toc-modified-id=\"Вывод-по-разделу.-4.5\"><span class=\"toc-item-num\">4.5&nbsp;&nbsp;</span>Вывод по разделу.</a></span></li></ul></li><li><span><a href=\"#Исследовательский-анализ-данных.\" data-toc-modified-id=\"Исследовательский-анализ-данных.-5\"><span class=\"toc-item-num\">5&nbsp;&nbsp;</span>Исследовательский анализ данных.</a></span><ul class=\"toc-item\"><li><span><a href=\"#Среднее-время-прохождения-уровня.\" data-toc-modified-id=\"Среднее-время-прохождения-уровня.-5.1\"><span class=\"toc-item-num\">5.1&nbsp;&nbsp;</span>Среднее время прохождения уровня.</a></span></li><li><span><a href=\"#Количество-построек-на-каждого-пользователя.\" data-toc-modified-id=\"Количество-построек-на-каждого-пользователя.-5.2\"><span class=\"toc-item-num\">5.2&nbsp;&nbsp;</span>Количество построек на каждого пользователя.</a></span></li><li><span><a href=\"#Сколько-раз-за-день-пользователи-в-среднем-заходят-в-мобильное-приложение.\" data-toc-modified-id=\"Сколько-раз-за-день-пользователи-в-среднем-заходят-в-мобильное-приложение.-5.3\"><span class=\"toc-item-num\">5.3&nbsp;&nbsp;</span>Сколько раз за день пользователи в среднем заходят в мобильное приложение.</a></span></li><li><span><a href=\"#Показатели-вовлечённости---DAU,-WAU,-Sticky-Factor\" data-toc-modified-id=\"Показатели-вовлечённости---DAU,-WAU,-Sticky-Factor-5.4\"><span class=\"toc-item-num\">5.4&nbsp;&nbsp;</span>Показатели вовлечённости - DAU, WAU, Sticky Factor</a></span></li><li><span><a href=\"#Коэффициент-удержания-Retention-Rate.\" data-toc-modified-id=\"Коэффициент-удержания-Retention-Rate.-5.5\"><span class=\"toc-item-num\">5.5&nbsp;&nbsp;</span>Коэффициент удержания Retention Rate.</a></span></li><li><span><a href=\"#Стоимость-привлечения-клиента-CAC.\" data-toc-modified-id=\"Стоимость-привлечения-клиента-CAC.-5.6\"><span class=\"toc-item-num\">5.6&nbsp;&nbsp;</span>Стоимость привлечения клиента CAC.</a></span></li><li><span><a href=\"#Вывод.\" data-toc-modified-id=\"Вывод.-5.7\"><span class=\"toc-item-num\">5.7&nbsp;&nbsp;</span>Вывод.</a></span></li></ul></li><li><span><a href=\"#Проверка-гипотез.\" data-toc-modified-id=\"Проверка-гипотез.-6\"><span class=\"toc-item-num\">6&nbsp;&nbsp;</span>Проверка гипотез.</a></span><ul class=\"toc-item\"><li><span><a href=\"#Гипотеза-различия-времени-прохождения-уровня.\" data-toc-modified-id=\"Гипотеза-различия-времени-прохождения-уровня.-6.1\"><span class=\"toc-item-num\">6.1&nbsp;&nbsp;</span>Гипотеза различия времени прохождения уровня.</a></span></li><li><span><a href=\"#Гипотеза-различия-количества-построенных-зданий.\" data-toc-modified-id=\"Гипотеза-различия-количества-построенных-зданий.-6.2\"><span class=\"toc-item-num\">6.2&nbsp;&nbsp;</span>Гипотеза различия количества построенных зданий.</a></span></li><li><span><a href=\"#Вывод.\" data-toc-modified-id=\"Вывод.-6.3\"><span class=\"toc-item-num\">6.3&nbsp;&nbsp;</span>Вывод.</a></span></li></ul></li><li><span><a href=\"#Формулирование-модели-монетизации.\" data-toc-modified-id=\"Формулирование-модели-монетизации.-7\"><span class=\"toc-item-num\">7&nbsp;&nbsp;</span>Формулирование модели монетизации.</a></span><ul class=\"toc-item\"><li><span><a href=\"#Вывод.\" data-toc-modified-id=\"Вывод.-7.1\"><span class=\"toc-item-num\">7.1&nbsp;&nbsp;</span>Вывод.</a></span></li></ul></li><li><span><a href=\"#Общий-вывод.\" data-toc-modified-id=\"Общий-вывод.-8\"><span class=\"toc-item-num\">8&nbsp;&nbsp;</span>Общий вывод.</a></span></li></ul></div>"
   ]
  },
  {
   "cell_type": "markdown",
   "metadata": {},
   "source": [
    "# Выпускной проект: Формирование модели монетизации для игрового приложения \"Космические братья\"."
   ]
  },
  {
   "cell_type": "markdown",
   "metadata": {},
   "source": [
    "**Материалы:**\n",
    "\n",
    "- Дашборд: https://public.tableau.com/app/profile/nikolay8500/viz/_16590340877120/sheet0_1\n",
    "- Презентация: https://disk.yandex.ru/i/jrcInmhb2MxfMA"
   ]
  },
  {
   "cell_type": "markdown",
   "metadata": {},
   "source": [
    "## Описание проекта."
   ]
  },
  {
   "cell_type": "markdown",
   "metadata": {},
   "source": [
    "В рамках выпускного проекта поставлена задача сформировать модель монетизации игрового приложения «Космические братья».\n",
    "В мобильной игре пользователи строят свою космическую программу и пытаются преуспеть в нелёгком деле колонизации галактики.\n",
    "\n",
    "Многие игры зарабатывают с помощью рекламы. И все они сталкиваются с противоречием:\n",
    "\n",
    "- Пользователь разозлится и уйдёт, если начать показывать ему рекламу раньше, чем игра его затянет.\n",
    "- Но  чем позже создатели игры включат рекламу, тем меньше они заработают.\n",
    "\n",
    "По условию задачи создатели игры предварительно думают показывать рекламу на экране с выбором типа объекта для постройки.\n",
    "\n",
    "В датасете представлены данные по игре пользователей на первом уровне. Завершение первого уровня требует от игрока выполнения одного из двух условий:\n",
    "\n",
    "- Победа над первым врагом\n",
    "- Реализация проекта - разработка орбитальной сборки спутников\n",
    "\n",
    "**Исследование будем проводить в несколько шагов:**\n",
    "\n",
    "- **Импорт библиотек, загрузка предоставленных данных в переменные и их первичный анализ.**\n",
    "\n",
    "\n",
    "- **Подготовка данных к исследованию:**\n",
    "\n",
    "  - Проверка на наличие и удаление дубликатов в данных.\n",
    "  - Исследование каждого столбца в предоставленных данных по отдельности, выявление пропущенных и подозрительных значений и ошибок. \n",
    "  - Исследование уникальных значений и статистики по столбцам.\n",
    "\n",
    "\n",
    "- **Исследовательский анализ данных:**\n",
    "\n",
    "  - Среднее время прохождения уровня.\n",
    "  - Количество построек на каждого пользователя.\n",
    "  - Среднее количество игровых сессий на пользователя в день.\n",
    "  - Показатели вовлечённости - DAU, WAU, Вовлечённость аудитории(Sticky Factor).\n",
    "  - Коэффициент удержания Retention Rate.\n",
    "  - Стоимость привлечения клиента CAC.\n",
    "\n",
    "\n",
    "- **Проверка статистических гипотез:**\n",
    "\n",
    "  - Гипотеза различия времени прохождения уровня.\n",
    "  - Гипотеза различия количества построенных зданий.\n",
    "\n",
    "- **Построение модели монетизации.**\n",
    "\n",
    "- **Общий вывод.**"
   ]
  },
  {
   "cell_type": "markdown",
   "metadata": {},
   "source": [
    "## Описание данных."
   ]
  },
  {
   "cell_type": "markdown",
   "metadata": {},
   "source": [
    "В датасете содержатся данные первых пользователей приложения — когорты пользователей, которые начали пользоваться приложением в период с 4 по 10 мая включительно.\n",
    "\n",
    "Датасет **game_actions.csv**:\n",
    "\n",
    "- `event_datetime` — время события\n",
    "- `event` — одно из трёх событий:\n",
    "    1. `building` — объект построен\n",
    "    2. `finished_stage_1` — первый уровень завершён\n",
    "    3. `project` — проект завершён\n",
    "    \n",
    "- `building_type` — один из трёх типов здания:\n",
    "    1. `assembly_shop` — сборочный цех\n",
    "    2. `spaceport` — космопорт\n",
    "    3. `research_center` — исследовательский центр\n",
    "    \n",
    "- `user_id` — идентификатор пользователя\n",
    "- `project_type` — тип реализованного проекта\n",
    "\n",
    "Помимо основного датасета есть два датасета с информацией о рекламных активностях. Они также помогут в решении задачи.\n",
    "\n",
    "Датасет **ad_cost.csv** содержит колонки:\n",
    "\n",
    "- `day` - день, в который был совершен клик по объявлению\n",
    "- `source` - источник трафика\n",
    "- `cost` - стоимость кликов\n",
    "\n",
    "Датасет **user_source.csv** содержит колонки:\n",
    "\n",
    "- `user_id` - идентификатор пользователя\n",
    "- `source` - источник, с которого пришёл пользователь, установивший приложение"
   ]
  },
  {
   "cell_type": "markdown",
   "metadata": {},
   "source": [
    "## Импорт библиотек, загрузка предоставленных данных в переменные и их первичный анализ."
   ]
  },
  {
   "cell_type": "markdown",
   "metadata": {},
   "source": [
    "### Импорт библиотек и загрузка данных в переменные."
   ]
  },
  {
   "cell_type": "code",
   "execution_count": 1,
   "metadata": {},
   "outputs": [],
   "source": [
    "# Импортируем библиотеки.\n",
    "\n",
    "import pandas as pd\n",
    "import numpy as np\n",
    "from scipy import stats as st\n",
    "import matplotlib.pyplot as plt\n",
    "from matplotlib import pyplot as plt\n",
    "import seaborn as sns\n",
    "from plotly import graph_objects as go\n",
    "import plotly.express as px"
   ]
  },
  {
   "cell_type": "code",
   "execution_count": 2,
   "metadata": {},
   "outputs": [],
   "source": [
    "# Загрузка данных в переменные.\n",
    "\n",
    "ad_costs = pd.read_csv('/datasets/ad_costs.csv')\n",
    "game_actions = pd.read_csv('/datasets/game_actions.csv')\n",
    "user_source = pd.read_csv('/datasets/user_source.csv')"
   ]
  },
  {
   "cell_type": "markdown",
   "metadata": {},
   "source": [
    "### Предварительный анализ данных."
   ]
  },
  {
   "cell_type": "code",
   "execution_count": 3,
   "metadata": {},
   "outputs": [],
   "source": [
    "# Процедура для предварительного анализа данных.\n",
    "\n",
    "def data_view(df):\n",
    "    display(df.info())\n",
    "    display(df.head(5))\n",
    "    display(df.tail(5))\n",
    "    display(df.describe())\n",
    "    display('Количество пустых строк:', df.isna().sum())\n",
    "    display('Количество дублирующихся строк:', df.duplicated().sum())"
   ]
  },
  {
   "cell_type": "code",
   "execution_count": 4,
   "metadata": {},
   "outputs": [
    {
     "name": "stdout",
     "output_type": "stream",
     "text": [
      "<class 'pandas.core.frame.DataFrame'>\n",
      "RangeIndex: 28 entries, 0 to 27\n",
      "Data columns (total 3 columns):\n",
      " #   Column  Non-Null Count  Dtype  \n",
      "---  ------  --------------  -----  \n",
      " 0   source  28 non-null     object \n",
      " 1   day     28 non-null     object \n",
      " 2   cost    28 non-null     float64\n",
      "dtypes: float64(1), object(2)\n",
      "memory usage: 800.0+ bytes\n"
     ]
    },
    {
     "data": {
      "text/plain": [
       "None"
      ]
     },
     "metadata": {},
     "output_type": "display_data"
    },
    {
     "data": {
      "text/html": [
       "<div>\n",
       "<style scoped>\n",
       "    .dataframe tbody tr th:only-of-type {\n",
       "        vertical-align: middle;\n",
       "    }\n",
       "\n",
       "    .dataframe tbody tr th {\n",
       "        vertical-align: top;\n",
       "    }\n",
       "\n",
       "    .dataframe thead th {\n",
       "        text-align: right;\n",
       "    }\n",
       "</style>\n",
       "<table border=\"1\" class=\"dataframe\">\n",
       "  <thead>\n",
       "    <tr style=\"text-align: right;\">\n",
       "      <th></th>\n",
       "      <th>source</th>\n",
       "      <th>day</th>\n",
       "      <th>cost</th>\n",
       "    </tr>\n",
       "  </thead>\n",
       "  <tbody>\n",
       "    <tr>\n",
       "      <th>0</th>\n",
       "      <td>facebook_ads</td>\n",
       "      <td>2020-05-03</td>\n",
       "      <td>935.882786</td>\n",
       "    </tr>\n",
       "    <tr>\n",
       "      <th>1</th>\n",
       "      <td>facebook_ads</td>\n",
       "      <td>2020-05-04</td>\n",
       "      <td>548.354480</td>\n",
       "    </tr>\n",
       "    <tr>\n",
       "      <th>2</th>\n",
       "      <td>facebook_ads</td>\n",
       "      <td>2020-05-05</td>\n",
       "      <td>260.185754</td>\n",
       "    </tr>\n",
       "    <tr>\n",
       "      <th>3</th>\n",
       "      <td>facebook_ads</td>\n",
       "      <td>2020-05-06</td>\n",
       "      <td>177.982200</td>\n",
       "    </tr>\n",
       "    <tr>\n",
       "      <th>4</th>\n",
       "      <td>facebook_ads</td>\n",
       "      <td>2020-05-07</td>\n",
       "      <td>111.766796</td>\n",
       "    </tr>\n",
       "  </tbody>\n",
       "</table>\n",
       "</div>"
      ],
      "text/plain": [
       "         source         day        cost\n",
       "0  facebook_ads  2020-05-03  935.882786\n",
       "1  facebook_ads  2020-05-04  548.354480\n",
       "2  facebook_ads  2020-05-05  260.185754\n",
       "3  facebook_ads  2020-05-06  177.982200\n",
       "4  facebook_ads  2020-05-07  111.766796"
      ]
     },
     "metadata": {},
     "output_type": "display_data"
    },
    {
     "data": {
      "text/html": [
       "<div>\n",
       "<style scoped>\n",
       "    .dataframe tbody tr th:only-of-type {\n",
       "        vertical-align: middle;\n",
       "    }\n",
       "\n",
       "    .dataframe tbody tr th {\n",
       "        vertical-align: top;\n",
       "    }\n",
       "\n",
       "    .dataframe thead th {\n",
       "        text-align: right;\n",
       "    }\n",
       "</style>\n",
       "<table border=\"1\" class=\"dataframe\">\n",
       "  <thead>\n",
       "    <tr style=\"text-align: right;\">\n",
       "      <th></th>\n",
       "      <th>source</th>\n",
       "      <th>day</th>\n",
       "      <th>cost</th>\n",
       "    </tr>\n",
       "  </thead>\n",
       "  <tbody>\n",
       "    <tr>\n",
       "      <th>23</th>\n",
       "      <td>youtube_channel_reklama</td>\n",
       "      <td>2020-05-05</td>\n",
       "      <td>147.041741</td>\n",
       "    </tr>\n",
       "    <tr>\n",
       "      <th>24</th>\n",
       "      <td>youtube_channel_reklama</td>\n",
       "      <td>2020-05-06</td>\n",
       "      <td>88.506074</td>\n",
       "    </tr>\n",
       "    <tr>\n",
       "      <th>25</th>\n",
       "      <td>youtube_channel_reklama</td>\n",
       "      <td>2020-05-07</td>\n",
       "      <td>55.740645</td>\n",
       "    </tr>\n",
       "    <tr>\n",
       "      <th>26</th>\n",
       "      <td>youtube_channel_reklama</td>\n",
       "      <td>2020-05-08</td>\n",
       "      <td>40.217907</td>\n",
       "    </tr>\n",
       "    <tr>\n",
       "      <th>27</th>\n",
       "      <td>youtube_channel_reklama</td>\n",
       "      <td>2020-05-09</td>\n",
       "      <td>23.314669</td>\n",
       "    </tr>\n",
       "  </tbody>\n",
       "</table>\n",
       "</div>"
      ],
      "text/plain": [
       "                     source         day        cost\n",
       "23  youtube_channel_reklama  2020-05-05  147.041741\n",
       "24  youtube_channel_reklama  2020-05-06   88.506074\n",
       "25  youtube_channel_reklama  2020-05-07   55.740645\n",
       "26  youtube_channel_reklama  2020-05-08   40.217907\n",
       "27  youtube_channel_reklama  2020-05-09   23.314669"
      ]
     },
     "metadata": {},
     "output_type": "display_data"
    },
    {
     "data": {
      "text/html": [
       "<div>\n",
       "<style scoped>\n",
       "    .dataframe tbody tr th:only-of-type {\n",
       "        vertical-align: middle;\n",
       "    }\n",
       "\n",
       "    .dataframe tbody tr th {\n",
       "        vertical-align: top;\n",
       "    }\n",
       "\n",
       "    .dataframe thead th {\n",
       "        text-align: right;\n",
       "    }\n",
       "</style>\n",
       "<table border=\"1\" class=\"dataframe\">\n",
       "  <thead>\n",
       "    <tr style=\"text-align: right;\">\n",
       "      <th></th>\n",
       "      <th>cost</th>\n",
       "    </tr>\n",
       "  </thead>\n",
       "  <tbody>\n",
       "    <tr>\n",
       "      <th>count</th>\n",
       "      <td>28.000000</td>\n",
       "    </tr>\n",
       "    <tr>\n",
       "      <th>mean</th>\n",
       "      <td>271.556321</td>\n",
       "    </tr>\n",
       "    <tr>\n",
       "      <th>std</th>\n",
       "      <td>286.867650</td>\n",
       "    </tr>\n",
       "    <tr>\n",
       "      <th>min</th>\n",
       "      <td>23.314669</td>\n",
       "    </tr>\n",
       "    <tr>\n",
       "      <th>25%</th>\n",
       "      <td>66.747365</td>\n",
       "    </tr>\n",
       "    <tr>\n",
       "      <th>50%</th>\n",
       "      <td>160.056443</td>\n",
       "    </tr>\n",
       "    <tr>\n",
       "      <th>75%</th>\n",
       "      <td>349.034473</td>\n",
       "    </tr>\n",
       "    <tr>\n",
       "      <th>max</th>\n",
       "      <td>969.139394</td>\n",
       "    </tr>\n",
       "  </tbody>\n",
       "</table>\n",
       "</div>"
      ],
      "text/plain": [
       "             cost\n",
       "count   28.000000\n",
       "mean   271.556321\n",
       "std    286.867650\n",
       "min     23.314669\n",
       "25%     66.747365\n",
       "50%    160.056443\n",
       "75%    349.034473\n",
       "max    969.139394"
      ]
     },
     "metadata": {},
     "output_type": "display_data"
    },
    {
     "data": {
      "text/plain": [
       "'Количество пустых строк:'"
      ]
     },
     "metadata": {},
     "output_type": "display_data"
    },
    {
     "data": {
      "text/plain": [
       "source    0\n",
       "day       0\n",
       "cost      0\n",
       "dtype: int64"
      ]
     },
     "metadata": {},
     "output_type": "display_data"
    },
    {
     "data": {
      "text/plain": [
       "'Количество дублирующихся строк:'"
      ]
     },
     "metadata": {},
     "output_type": "display_data"
    },
    {
     "data": {
      "text/plain": [
       "0"
      ]
     },
     "metadata": {},
     "output_type": "display_data"
    }
   ],
   "source": [
    "# Рассмотрим данные в переменной `ad_costs`.\n",
    "\n",
    "data_view(ad_costs)"
   ]
  },
  {
   "cell_type": "markdown",
   "metadata": {},
   "source": [
    "Всего в переменной `ad_costs` 28 записей. Пустых строк и дублей в переменной не обнаружено. Нужно привести формат столбца `day` к формату datetime. "
   ]
  },
  {
   "cell_type": "code",
   "execution_count": 5,
   "metadata": {},
   "outputs": [
    {
     "name": "stdout",
     "output_type": "stream",
     "text": [
      "<class 'pandas.core.frame.DataFrame'>\n",
      "RangeIndex: 135640 entries, 0 to 135639\n",
      "Data columns (total 5 columns):\n",
      " #   Column          Non-Null Count   Dtype \n",
      "---  ------          --------------   ----- \n",
      " 0   event_datetime  135640 non-null  object\n",
      " 1   event           135640 non-null  object\n",
      " 2   building_type   127957 non-null  object\n",
      " 3   user_id         135640 non-null  object\n",
      " 4   project_type    1866 non-null    object\n",
      "dtypes: object(5)\n",
      "memory usage: 5.2+ MB\n"
     ]
    },
    {
     "data": {
      "text/plain": [
       "None"
      ]
     },
     "metadata": {},
     "output_type": "display_data"
    },
    {
     "data": {
      "text/html": [
       "<div>\n",
       "<style scoped>\n",
       "    .dataframe tbody tr th:only-of-type {\n",
       "        vertical-align: middle;\n",
       "    }\n",
       "\n",
       "    .dataframe tbody tr th {\n",
       "        vertical-align: top;\n",
       "    }\n",
       "\n",
       "    .dataframe thead th {\n",
       "        text-align: right;\n",
       "    }\n",
       "</style>\n",
       "<table border=\"1\" class=\"dataframe\">\n",
       "  <thead>\n",
       "    <tr style=\"text-align: right;\">\n",
       "      <th></th>\n",
       "      <th>event_datetime</th>\n",
       "      <th>event</th>\n",
       "      <th>building_type</th>\n",
       "      <th>user_id</th>\n",
       "      <th>project_type</th>\n",
       "    </tr>\n",
       "  </thead>\n",
       "  <tbody>\n",
       "    <tr>\n",
       "      <th>0</th>\n",
       "      <td>2020-05-04 00:00:01</td>\n",
       "      <td>building</td>\n",
       "      <td>assembly_shop</td>\n",
       "      <td>55e92310-cb8e-4754-b622-597e124b03de</td>\n",
       "      <td>NaN</td>\n",
       "    </tr>\n",
       "    <tr>\n",
       "      <th>1</th>\n",
       "      <td>2020-05-04 00:00:03</td>\n",
       "      <td>building</td>\n",
       "      <td>assembly_shop</td>\n",
       "      <td>c07b1c10-f477-44dc-81dc-ec82254b1347</td>\n",
       "      <td>NaN</td>\n",
       "    </tr>\n",
       "    <tr>\n",
       "      <th>2</th>\n",
       "      <td>2020-05-04 00:00:16</td>\n",
       "      <td>building</td>\n",
       "      <td>assembly_shop</td>\n",
       "      <td>6edd42cc-e753-4ff6-a947-2107cd560710</td>\n",
       "      <td>NaN</td>\n",
       "    </tr>\n",
       "    <tr>\n",
       "      <th>3</th>\n",
       "      <td>2020-05-04 00:00:16</td>\n",
       "      <td>building</td>\n",
       "      <td>assembly_shop</td>\n",
       "      <td>92c69003-d60a-444a-827f-8cc51bf6bf4c</td>\n",
       "      <td>NaN</td>\n",
       "    </tr>\n",
       "    <tr>\n",
       "      <th>4</th>\n",
       "      <td>2020-05-04 00:00:35</td>\n",
       "      <td>building</td>\n",
       "      <td>assembly_shop</td>\n",
       "      <td>cdc6bb92-0ccb-4490-9866-ef142f09139d</td>\n",
       "      <td>NaN</td>\n",
       "    </tr>\n",
       "  </tbody>\n",
       "</table>\n",
       "</div>"
      ],
      "text/plain": [
       "        event_datetime     event  building_type  \\\n",
       "0  2020-05-04 00:00:01  building  assembly_shop   \n",
       "1  2020-05-04 00:00:03  building  assembly_shop   \n",
       "2  2020-05-04 00:00:16  building  assembly_shop   \n",
       "3  2020-05-04 00:00:16  building  assembly_shop   \n",
       "4  2020-05-04 00:00:35  building  assembly_shop   \n",
       "\n",
       "                                user_id project_type  \n",
       "0  55e92310-cb8e-4754-b622-597e124b03de          NaN  \n",
       "1  c07b1c10-f477-44dc-81dc-ec82254b1347          NaN  \n",
       "2  6edd42cc-e753-4ff6-a947-2107cd560710          NaN  \n",
       "3  92c69003-d60a-444a-827f-8cc51bf6bf4c          NaN  \n",
       "4  cdc6bb92-0ccb-4490-9866-ef142f09139d          NaN  "
      ]
     },
     "metadata": {},
     "output_type": "display_data"
    },
    {
     "data": {
      "text/html": [
       "<div>\n",
       "<style scoped>\n",
       "    .dataframe tbody tr th:only-of-type {\n",
       "        vertical-align: middle;\n",
       "    }\n",
       "\n",
       "    .dataframe tbody tr th {\n",
       "        vertical-align: top;\n",
       "    }\n",
       "\n",
       "    .dataframe thead th {\n",
       "        text-align: right;\n",
       "    }\n",
       "</style>\n",
       "<table border=\"1\" class=\"dataframe\">\n",
       "  <thead>\n",
       "    <tr style=\"text-align: right;\">\n",
       "      <th></th>\n",
       "      <th>event_datetime</th>\n",
       "      <th>event</th>\n",
       "      <th>building_type</th>\n",
       "      <th>user_id</th>\n",
       "      <th>project_type</th>\n",
       "    </tr>\n",
       "  </thead>\n",
       "  <tbody>\n",
       "    <tr>\n",
       "      <th>135635</th>\n",
       "      <td>2020-06-05 00:08:06</td>\n",
       "      <td>building</td>\n",
       "      <td>research_center</td>\n",
       "      <td>f21d179f-1c4b-437e-b9c6-ab1976907195</td>\n",
       "      <td>NaN</td>\n",
       "    </tr>\n",
       "    <tr>\n",
       "      <th>135636</th>\n",
       "      <td>2020-06-05 02:25:12</td>\n",
       "      <td>finished_stage_1</td>\n",
       "      <td>NaN</td>\n",
       "      <td>515c1952-99aa-4bca-a7ea-d0449eb5385a</td>\n",
       "      <td>NaN</td>\n",
       "    </tr>\n",
       "    <tr>\n",
       "      <th>135637</th>\n",
       "      <td>2020-06-05 08:57:52</td>\n",
       "      <td>building</td>\n",
       "      <td>research_center</td>\n",
       "      <td>ed3e7d02-8a96-4be7-9998-e9813ff9c316</td>\n",
       "      <td>NaN</td>\n",
       "    </tr>\n",
       "    <tr>\n",
       "      <th>135638</th>\n",
       "      <td>2020-06-05 12:12:27</td>\n",
       "      <td>finished_stage_1</td>\n",
       "      <td>NaN</td>\n",
       "      <td>32572adb-900f-4b5d-a453-1eb1e6d88d8b</td>\n",
       "      <td>NaN</td>\n",
       "    </tr>\n",
       "    <tr>\n",
       "      <th>135639</th>\n",
       "      <td>2020-06-05 12:32:49</td>\n",
       "      <td>finished_stage_1</td>\n",
       "      <td>NaN</td>\n",
       "      <td>f21d179f-1c4b-437e-b9c6-ab1976907195</td>\n",
       "      <td>NaN</td>\n",
       "    </tr>\n",
       "  </tbody>\n",
       "</table>\n",
       "</div>"
      ],
      "text/plain": [
       "             event_datetime             event    building_type  \\\n",
       "135635  2020-06-05 00:08:06          building  research_center   \n",
       "135636  2020-06-05 02:25:12  finished_stage_1              NaN   \n",
       "135637  2020-06-05 08:57:52          building  research_center   \n",
       "135638  2020-06-05 12:12:27  finished_stage_1              NaN   \n",
       "135639  2020-06-05 12:32:49  finished_stage_1              NaN   \n",
       "\n",
       "                                     user_id project_type  \n",
       "135635  f21d179f-1c4b-437e-b9c6-ab1976907195          NaN  \n",
       "135636  515c1952-99aa-4bca-a7ea-d0449eb5385a          NaN  \n",
       "135637  ed3e7d02-8a96-4be7-9998-e9813ff9c316          NaN  \n",
       "135638  32572adb-900f-4b5d-a453-1eb1e6d88d8b          NaN  \n",
       "135639  f21d179f-1c4b-437e-b9c6-ab1976907195          NaN  "
      ]
     },
     "metadata": {},
     "output_type": "display_data"
    },
    {
     "data": {
      "text/html": [
       "<div>\n",
       "<style scoped>\n",
       "    .dataframe tbody tr th:only-of-type {\n",
       "        vertical-align: middle;\n",
       "    }\n",
       "\n",
       "    .dataframe tbody tr th {\n",
       "        vertical-align: top;\n",
       "    }\n",
       "\n",
       "    .dataframe thead th {\n",
       "        text-align: right;\n",
       "    }\n",
       "</style>\n",
       "<table border=\"1\" class=\"dataframe\">\n",
       "  <thead>\n",
       "    <tr style=\"text-align: right;\">\n",
       "      <th></th>\n",
       "      <th>event_datetime</th>\n",
       "      <th>event</th>\n",
       "      <th>building_type</th>\n",
       "      <th>user_id</th>\n",
       "      <th>project_type</th>\n",
       "    </tr>\n",
       "  </thead>\n",
       "  <tbody>\n",
       "    <tr>\n",
       "      <th>count</th>\n",
       "      <td>135640</td>\n",
       "      <td>135640</td>\n",
       "      <td>127957</td>\n",
       "      <td>135640</td>\n",
       "      <td>1866</td>\n",
       "    </tr>\n",
       "    <tr>\n",
       "      <th>unique</th>\n",
       "      <td>128790</td>\n",
       "      <td>3</td>\n",
       "      <td>3</td>\n",
       "      <td>13576</td>\n",
       "      <td>1</td>\n",
       "    </tr>\n",
       "    <tr>\n",
       "      <th>top</th>\n",
       "      <td>2020-05-08 21:56:19</td>\n",
       "      <td>building</td>\n",
       "      <td>spaceport</td>\n",
       "      <td>d6aca06a-cd75-4cd8-b8cd-240a3c163884</td>\n",
       "      <td>satellite_orbital_assembly</td>\n",
       "    </tr>\n",
       "    <tr>\n",
       "      <th>freq</th>\n",
       "      <td>4</td>\n",
       "      <td>127957</td>\n",
       "      <td>59325</td>\n",
       "      <td>22</td>\n",
       "      <td>1866</td>\n",
       "    </tr>\n",
       "  </tbody>\n",
       "</table>\n",
       "</div>"
      ],
      "text/plain": [
       "             event_datetime     event building_type  \\\n",
       "count                135640    135640        127957   \n",
       "unique               128790         3             3   \n",
       "top     2020-05-08 21:56:19  building     spaceport   \n",
       "freq                      4    127957         59325   \n",
       "\n",
       "                                     user_id                project_type  \n",
       "count                                 135640                        1866  \n",
       "unique                                 13576                           1  \n",
       "top     d6aca06a-cd75-4cd8-b8cd-240a3c163884  satellite_orbital_assembly  \n",
       "freq                                      22                        1866  "
      ]
     },
     "metadata": {},
     "output_type": "display_data"
    },
    {
     "data": {
      "text/plain": [
       "'Количество пустых строк:'"
      ]
     },
     "metadata": {},
     "output_type": "display_data"
    },
    {
     "data": {
      "text/plain": [
       "event_datetime         0\n",
       "event                  0\n",
       "building_type       7683\n",
       "user_id                0\n",
       "project_type      133774\n",
       "dtype: int64"
      ]
     },
     "metadata": {},
     "output_type": "display_data"
    },
    {
     "data": {
      "text/plain": [
       "'Количество дублирующихся строк:'"
      ]
     },
     "metadata": {},
     "output_type": "display_data"
    },
    {
     "data": {
      "text/plain": [
       "1"
      ]
     },
     "metadata": {},
     "output_type": "display_data"
    }
   ],
   "source": [
    "# Рассмотрим данные в переменной `game_actions`.\n",
    "\n",
    "data_view(game_actions)"
   ]
  },
  {
   "cell_type": "markdown",
   "metadata": {},
   "source": [
    "Всего в переменной `game_actions` 135640 записей. В столбце `building_type` 7683 пропуска, в столбце `project_type` 133774 пропуска. Обнаружен 1 дубль. Нужно привести столбец `event_datetime` к формату datetime."
   ]
  },
  {
   "cell_type": "code",
   "execution_count": 6,
   "metadata": {},
   "outputs": [
    {
     "name": "stdout",
     "output_type": "stream",
     "text": [
      "<class 'pandas.core.frame.DataFrame'>\n",
      "RangeIndex: 13576 entries, 0 to 13575\n",
      "Data columns (total 2 columns):\n",
      " #   Column   Non-Null Count  Dtype \n",
      "---  ------   --------------  ----- \n",
      " 0   user_id  13576 non-null  object\n",
      " 1   source   13576 non-null  object\n",
      "dtypes: object(2)\n",
      "memory usage: 212.2+ KB\n"
     ]
    },
    {
     "data": {
      "text/plain": [
       "None"
      ]
     },
     "metadata": {},
     "output_type": "display_data"
    },
    {
     "data": {
      "text/html": [
       "<div>\n",
       "<style scoped>\n",
       "    .dataframe tbody tr th:only-of-type {\n",
       "        vertical-align: middle;\n",
       "    }\n",
       "\n",
       "    .dataframe tbody tr th {\n",
       "        vertical-align: top;\n",
       "    }\n",
       "\n",
       "    .dataframe thead th {\n",
       "        text-align: right;\n",
       "    }\n",
       "</style>\n",
       "<table border=\"1\" class=\"dataframe\">\n",
       "  <thead>\n",
       "    <tr style=\"text-align: right;\">\n",
       "      <th></th>\n",
       "      <th>user_id</th>\n",
       "      <th>source</th>\n",
       "    </tr>\n",
       "  </thead>\n",
       "  <tbody>\n",
       "    <tr>\n",
       "      <th>0</th>\n",
       "      <td>0001f83c-c6ac-4621-b7f0-8a28b283ac30</td>\n",
       "      <td>facebook_ads</td>\n",
       "    </tr>\n",
       "    <tr>\n",
       "      <th>1</th>\n",
       "      <td>00151b4f-ba38-44a8-a650-d7cf130a0105</td>\n",
       "      <td>yandex_direct</td>\n",
       "    </tr>\n",
       "    <tr>\n",
       "      <th>2</th>\n",
       "      <td>001aaea6-3d14-43f1-8ca8-7f48820f17aa</td>\n",
       "      <td>youtube_channel_reklama</td>\n",
       "    </tr>\n",
       "    <tr>\n",
       "      <th>3</th>\n",
       "      <td>001d39dc-366c-4021-9604-6a3b9ff01e25</td>\n",
       "      <td>instagram_new_adverts</td>\n",
       "    </tr>\n",
       "    <tr>\n",
       "      <th>4</th>\n",
       "      <td>002f508f-67b6-479f-814b-b05f00d4e995</td>\n",
       "      <td>facebook_ads</td>\n",
       "    </tr>\n",
       "  </tbody>\n",
       "</table>\n",
       "</div>"
      ],
      "text/plain": [
       "                                user_id                   source\n",
       "0  0001f83c-c6ac-4621-b7f0-8a28b283ac30             facebook_ads\n",
       "1  00151b4f-ba38-44a8-a650-d7cf130a0105            yandex_direct\n",
       "2  001aaea6-3d14-43f1-8ca8-7f48820f17aa  youtube_channel_reklama\n",
       "3  001d39dc-366c-4021-9604-6a3b9ff01e25    instagram_new_adverts\n",
       "4  002f508f-67b6-479f-814b-b05f00d4e995             facebook_ads"
      ]
     },
     "metadata": {},
     "output_type": "display_data"
    },
    {
     "data": {
      "text/html": [
       "<div>\n",
       "<style scoped>\n",
       "    .dataframe tbody tr th:only-of-type {\n",
       "        vertical-align: middle;\n",
       "    }\n",
       "\n",
       "    .dataframe tbody tr th {\n",
       "        vertical-align: top;\n",
       "    }\n",
       "\n",
       "    .dataframe thead th {\n",
       "        text-align: right;\n",
       "    }\n",
       "</style>\n",
       "<table border=\"1\" class=\"dataframe\">\n",
       "  <thead>\n",
       "    <tr style=\"text-align: right;\">\n",
       "      <th></th>\n",
       "      <th>user_id</th>\n",
       "      <th>source</th>\n",
       "    </tr>\n",
       "  </thead>\n",
       "  <tbody>\n",
       "    <tr>\n",
       "      <th>13571</th>\n",
       "      <td>ffef4fed-164c-40e1-bde1-3980f76d0fb5</td>\n",
       "      <td>instagram_new_adverts</td>\n",
       "    </tr>\n",
       "    <tr>\n",
       "      <th>13572</th>\n",
       "      <td>fffab3da-da0e-4e30-ae62-10d0a2e24a4e</td>\n",
       "      <td>facebook_ads</td>\n",
       "    </tr>\n",
       "    <tr>\n",
       "      <th>13573</th>\n",
       "      <td>fffb626c-5ab6-47c9-8113-2062a2f18494</td>\n",
       "      <td>yandex_direct</td>\n",
       "    </tr>\n",
       "    <tr>\n",
       "      <th>13574</th>\n",
       "      <td>ffff194a-56b7-4c12-860d-3485242ae7f5</td>\n",
       "      <td>instagram_new_adverts</td>\n",
       "    </tr>\n",
       "    <tr>\n",
       "      <th>13575</th>\n",
       "      <td>ffff69cc-fec1-4fd3-9f98-93be1112a6b8</td>\n",
       "      <td>facebook_ads</td>\n",
       "    </tr>\n",
       "  </tbody>\n",
       "</table>\n",
       "</div>"
      ],
      "text/plain": [
       "                                    user_id                 source\n",
       "13571  ffef4fed-164c-40e1-bde1-3980f76d0fb5  instagram_new_adverts\n",
       "13572  fffab3da-da0e-4e30-ae62-10d0a2e24a4e           facebook_ads\n",
       "13573  fffb626c-5ab6-47c9-8113-2062a2f18494          yandex_direct\n",
       "13574  ffff194a-56b7-4c12-860d-3485242ae7f5  instagram_new_adverts\n",
       "13575  ffff69cc-fec1-4fd3-9f98-93be1112a6b8           facebook_ads"
      ]
     },
     "metadata": {},
     "output_type": "display_data"
    },
    {
     "data": {
      "text/html": [
       "<div>\n",
       "<style scoped>\n",
       "    .dataframe tbody tr th:only-of-type {\n",
       "        vertical-align: middle;\n",
       "    }\n",
       "\n",
       "    .dataframe tbody tr th {\n",
       "        vertical-align: top;\n",
       "    }\n",
       "\n",
       "    .dataframe thead th {\n",
       "        text-align: right;\n",
       "    }\n",
       "</style>\n",
       "<table border=\"1\" class=\"dataframe\">\n",
       "  <thead>\n",
       "    <tr style=\"text-align: right;\">\n",
       "      <th></th>\n",
       "      <th>user_id</th>\n",
       "      <th>source</th>\n",
       "    </tr>\n",
       "  </thead>\n",
       "  <tbody>\n",
       "    <tr>\n",
       "      <th>count</th>\n",
       "      <td>13576</td>\n",
       "      <td>13576</td>\n",
       "    </tr>\n",
       "    <tr>\n",
       "      <th>unique</th>\n",
       "      <td>13576</td>\n",
       "      <td>4</td>\n",
       "    </tr>\n",
       "    <tr>\n",
       "      <th>top</th>\n",
       "      <td>736879a4-e4dc-4de7-b6f7-29260b90c5af</td>\n",
       "      <td>yandex_direct</td>\n",
       "    </tr>\n",
       "    <tr>\n",
       "      <th>freq</th>\n",
       "      <td>1</td>\n",
       "      <td>4817</td>\n",
       "    </tr>\n",
       "  </tbody>\n",
       "</table>\n",
       "</div>"
      ],
      "text/plain": [
       "                                     user_id         source\n",
       "count                                  13576          13576\n",
       "unique                                 13576              4\n",
       "top     736879a4-e4dc-4de7-b6f7-29260b90c5af  yandex_direct\n",
       "freq                                       1           4817"
      ]
     },
     "metadata": {},
     "output_type": "display_data"
    },
    {
     "data": {
      "text/plain": [
       "'Количество пустых строк:'"
      ]
     },
     "metadata": {},
     "output_type": "display_data"
    },
    {
     "data": {
      "text/plain": [
       "user_id    0\n",
       "source     0\n",
       "dtype: int64"
      ]
     },
     "metadata": {},
     "output_type": "display_data"
    },
    {
     "data": {
      "text/plain": [
       "'Количество дублирующихся строк:'"
      ]
     },
     "metadata": {},
     "output_type": "display_data"
    },
    {
     "data": {
      "text/plain": [
       "0"
      ]
     },
     "metadata": {},
     "output_type": "display_data"
    }
   ],
   "source": [
    "# Рассмотрим данные в переменной `user_source`.\n",
    "\n",
    "data_view(user_source)"
   ]
  },
  {
   "cell_type": "markdown",
   "metadata": {},
   "source": [
    "Всего в переменной `user_source` 13576 записей. Дублей и пропусков в переменной не обнаружено."
   ]
  },
  {
   "cell_type": "markdown",
   "metadata": {},
   "source": [
    "## Подготовка данных к исследованию."
   ]
  },
  {
   "cell_type": "markdown",
   "metadata": {},
   "source": [
    "### Проверка  и удаление дубликатов в данных."
   ]
  },
  {
   "cell_type": "markdown",
   "metadata": {},
   "source": [
    "При предварительном анализе данных был обнаружен один дубликат в переменной `game_actions`. Рассмотрим данный дубликат подробнее и при необходимости удалим его."
   ]
  },
  {
   "cell_type": "code",
   "execution_count": 7,
   "metadata": {},
   "outputs": [
    {
     "data": {
      "text/html": [
       "<div>\n",
       "<style scoped>\n",
       "    .dataframe tbody tr th:only-of-type {\n",
       "        vertical-align: middle;\n",
       "    }\n",
       "\n",
       "    .dataframe tbody tr th {\n",
       "        vertical-align: top;\n",
       "    }\n",
       "\n",
       "    .dataframe thead th {\n",
       "        text-align: right;\n",
       "    }\n",
       "</style>\n",
       "<table border=\"1\" class=\"dataframe\">\n",
       "  <thead>\n",
       "    <tr style=\"text-align: right;\">\n",
       "      <th></th>\n",
       "      <th>event_datetime</th>\n",
       "      <th>event</th>\n",
       "      <th>building_type</th>\n",
       "      <th>user_id</th>\n",
       "      <th>project_type</th>\n",
       "    </tr>\n",
       "  </thead>\n",
       "  <tbody>\n",
       "    <tr>\n",
       "      <th>74891</th>\n",
       "      <td>2020-05-10 18:41:56</td>\n",
       "      <td>building</td>\n",
       "      <td>research_center</td>\n",
       "      <td>c9af55d2-b0ae-4bb4-b3d5-f32aa9ac03af</td>\n",
       "      <td>NaN</td>\n",
       "    </tr>\n",
       "  </tbody>\n",
       "</table>\n",
       "</div>"
      ],
      "text/plain": [
       "            event_datetime     event    building_type  \\\n",
       "74891  2020-05-10 18:41:56  building  research_center   \n",
       "\n",
       "                                    user_id project_type  \n",
       "74891  c9af55d2-b0ae-4bb4-b3d5-f32aa9ac03af          NaN  "
      ]
     },
     "execution_count": 7,
     "metadata": {},
     "output_type": "execute_result"
    }
   ],
   "source": [
    "# Посмотрим на дубликат.\n",
    "\n",
    "game_actions[game_actions.duplicated()]"
   ]
  },
  {
   "cell_type": "code",
   "execution_count": 8,
   "metadata": {},
   "outputs": [
    {
     "data": {
      "text/html": [
       "<div>\n",
       "<style scoped>\n",
       "    .dataframe tbody tr th:only-of-type {\n",
       "        vertical-align: middle;\n",
       "    }\n",
       "\n",
       "    .dataframe tbody tr th {\n",
       "        vertical-align: top;\n",
       "    }\n",
       "\n",
       "    .dataframe thead th {\n",
       "        text-align: right;\n",
       "    }\n",
       "</style>\n",
       "<table border=\"1\" class=\"dataframe\">\n",
       "  <thead>\n",
       "    <tr style=\"text-align: right;\">\n",
       "      <th></th>\n",
       "      <th>event_datetime</th>\n",
       "      <th>event</th>\n",
       "      <th>building_type</th>\n",
       "      <th>user_id</th>\n",
       "      <th>project_type</th>\n",
       "    </tr>\n",
       "  </thead>\n",
       "  <tbody>\n",
       "    <tr>\n",
       "      <th>15950</th>\n",
       "      <td>2020-05-05 20:34:11</td>\n",
       "      <td>building</td>\n",
       "      <td>assembly_shop</td>\n",
       "      <td>c9af55d2-b0ae-4bb4-b3d5-f32aa9ac03af</td>\n",
       "      <td>NaN</td>\n",
       "    </tr>\n",
       "    <tr>\n",
       "      <th>24861</th>\n",
       "      <td>2020-05-06 18:44:36</td>\n",
       "      <td>building</td>\n",
       "      <td>assembly_shop</td>\n",
       "      <td>c9af55d2-b0ae-4bb4-b3d5-f32aa9ac03af</td>\n",
       "      <td>NaN</td>\n",
       "    </tr>\n",
       "    <tr>\n",
       "      <th>42819</th>\n",
       "      <td>2020-05-08 09:43:44</td>\n",
       "      <td>building</td>\n",
       "      <td>assembly_shop</td>\n",
       "      <td>c9af55d2-b0ae-4bb4-b3d5-f32aa9ac03af</td>\n",
       "      <td>NaN</td>\n",
       "    </tr>\n",
       "    <tr>\n",
       "      <th>46859</th>\n",
       "      <td>2020-05-08 17:39:07</td>\n",
       "      <td>building</td>\n",
       "      <td>assembly_shop</td>\n",
       "      <td>c9af55d2-b0ae-4bb4-b3d5-f32aa9ac03af</td>\n",
       "      <td>NaN</td>\n",
       "    </tr>\n",
       "    <tr>\n",
       "      <th>59875</th>\n",
       "      <td>2020-05-09 18:14:20</td>\n",
       "      <td>building</td>\n",
       "      <td>assembly_shop</td>\n",
       "      <td>c9af55d2-b0ae-4bb4-b3d5-f32aa9ac03af</td>\n",
       "      <td>NaN</td>\n",
       "    </tr>\n",
       "    <tr>\n",
       "      <th>63799</th>\n",
       "      <td>2020-05-10 01:01:13</td>\n",
       "      <td>building</td>\n",
       "      <td>assembly_shop</td>\n",
       "      <td>c9af55d2-b0ae-4bb4-b3d5-f32aa9ac03af</td>\n",
       "      <td>NaN</td>\n",
       "    </tr>\n",
       "    <tr>\n",
       "      <th>73730</th>\n",
       "      <td>2020-05-10 16:58:17</td>\n",
       "      <td>building</td>\n",
       "      <td>assembly_shop</td>\n",
       "      <td>c9af55d2-b0ae-4bb4-b3d5-f32aa9ac03af</td>\n",
       "      <td>NaN</td>\n",
       "    </tr>\n",
       "    <tr>\n",
       "      <th>74890</th>\n",
       "      <td>2020-05-10 18:41:56</td>\n",
       "      <td>building</td>\n",
       "      <td>research_center</td>\n",
       "      <td>c9af55d2-b0ae-4bb4-b3d5-f32aa9ac03af</td>\n",
       "      <td>NaN</td>\n",
       "    </tr>\n",
       "    <tr>\n",
       "      <th>74891</th>\n",
       "      <td>2020-05-10 18:41:56</td>\n",
       "      <td>building</td>\n",
       "      <td>research_center</td>\n",
       "      <td>c9af55d2-b0ae-4bb4-b3d5-f32aa9ac03af</td>\n",
       "      <td>NaN</td>\n",
       "    </tr>\n",
       "    <tr>\n",
       "      <th>99838</th>\n",
       "      <td>2020-05-13 16:47:59</td>\n",
       "      <td>building</td>\n",
       "      <td>research_center</td>\n",
       "      <td>c9af55d2-b0ae-4bb4-b3d5-f32aa9ac03af</td>\n",
       "      <td>NaN</td>\n",
       "    </tr>\n",
       "    <tr>\n",
       "      <th>108120</th>\n",
       "      <td>2020-05-14 20:58:03</td>\n",
       "      <td>building</td>\n",
       "      <td>spaceport</td>\n",
       "      <td>c9af55d2-b0ae-4bb4-b3d5-f32aa9ac03af</td>\n",
       "      <td>NaN</td>\n",
       "    </tr>\n",
       "    <tr>\n",
       "      <th>120609</th>\n",
       "      <td>2020-05-17 03:01:34</td>\n",
       "      <td>building</td>\n",
       "      <td>research_center</td>\n",
       "      <td>c9af55d2-b0ae-4bb4-b3d5-f32aa9ac03af</td>\n",
       "      <td>NaN</td>\n",
       "    </tr>\n",
       "  </tbody>\n",
       "</table>\n",
       "</div>"
      ],
      "text/plain": [
       "             event_datetime     event    building_type  \\\n",
       "15950   2020-05-05 20:34:11  building    assembly_shop   \n",
       "24861   2020-05-06 18:44:36  building    assembly_shop   \n",
       "42819   2020-05-08 09:43:44  building    assembly_shop   \n",
       "46859   2020-05-08 17:39:07  building    assembly_shop   \n",
       "59875   2020-05-09 18:14:20  building    assembly_shop   \n",
       "63799   2020-05-10 01:01:13  building    assembly_shop   \n",
       "73730   2020-05-10 16:58:17  building    assembly_shop   \n",
       "74890   2020-05-10 18:41:56  building  research_center   \n",
       "74891   2020-05-10 18:41:56  building  research_center   \n",
       "99838   2020-05-13 16:47:59  building  research_center   \n",
       "108120  2020-05-14 20:58:03  building        spaceport   \n",
       "120609  2020-05-17 03:01:34  building  research_center   \n",
       "\n",
       "                                     user_id project_type  \n",
       "15950   c9af55d2-b0ae-4bb4-b3d5-f32aa9ac03af          NaN  \n",
       "24861   c9af55d2-b0ae-4bb4-b3d5-f32aa9ac03af          NaN  \n",
       "42819   c9af55d2-b0ae-4bb4-b3d5-f32aa9ac03af          NaN  \n",
       "46859   c9af55d2-b0ae-4bb4-b3d5-f32aa9ac03af          NaN  \n",
       "59875   c9af55d2-b0ae-4bb4-b3d5-f32aa9ac03af          NaN  \n",
       "63799   c9af55d2-b0ae-4bb4-b3d5-f32aa9ac03af          NaN  \n",
       "73730   c9af55d2-b0ae-4bb4-b3d5-f32aa9ac03af          NaN  \n",
       "74890   c9af55d2-b0ae-4bb4-b3d5-f32aa9ac03af          NaN  \n",
       "74891   c9af55d2-b0ae-4bb4-b3d5-f32aa9ac03af          NaN  \n",
       "99838   c9af55d2-b0ae-4bb4-b3d5-f32aa9ac03af          NaN  \n",
       "108120  c9af55d2-b0ae-4bb4-b3d5-f32aa9ac03af          NaN  \n",
       "120609  c9af55d2-b0ae-4bb4-b3d5-f32aa9ac03af          NaN  "
      ]
     },
     "execution_count": 8,
     "metadata": {},
     "output_type": "execute_result"
    }
   ],
   "source": [
    "# Посмотрим на все действия пользователя с дубликатом в игре.\n",
    "\n",
    "game_actions[game_actions['user_id'] == 'c9af55d2-b0ae-4bb4-b3d5-f32aa9ac03af']"
   ]
  },
  {
   "cell_type": "markdown",
   "metadata": {},
   "source": [
    "Теоретически мы можем предположить, что могло одновременно было построено 2 здания, но у нас нет описания функционала игры. Думаю можно удалить данный дубликат, тем более он один и это не должно повлиять на исследование. "
   ]
  },
  {
   "cell_type": "code",
   "execution_count": 9,
   "metadata": {},
   "outputs": [
    {
     "name": "stdout",
     "output_type": "stream",
     "text": [
      "Количество дубликатов в таблице game_actions : 0\n"
     ]
    }
   ],
   "source": [
    "# Удалим дубликаты в таблице `game_actions`.\n",
    "\n",
    "game_actions = game_actions.drop_duplicates()\n",
    "\n",
    "print('Количество дубликатов в таблице game_actions', ':', game_actions.duplicated().sum())"
   ]
  },
  {
   "cell_type": "markdown",
   "metadata": {},
   "source": [
    "Дубликат удален."
   ]
  },
  {
   "cell_type": "markdown",
   "metadata": {},
   "source": [
    "### Подробно изучим переменную `ad_costs` с информацией о рекламных активностях."
   ]
  },
  {
   "cell_type": "markdown",
   "metadata": {},
   "source": [
    "**Столбец `source`- источник трафика.**"
   ]
  },
  {
   "cell_type": "code",
   "execution_count": 10,
   "metadata": {},
   "outputs": [
    {
     "name": "stdout",
     "output_type": "stream",
     "text": [
      "Уникальные значения в столбце source:\n",
      "facebook_ads               7\n",
      "yandex_direct              7\n",
      "youtube_channel_reklama    7\n",
      "instagram_new_adverts      7\n",
      "Name: source, dtype: int64\n"
     ]
    }
   ],
   "source": [
    "# Выделим уникальные значения в столбце `source`.\n",
    "\n",
    "print('Уникальные значения в столбце source:')\n",
    "print(ad_costs['source'].value_counts())"
   ]
  },
  {
   "cell_type": "markdown",
   "metadata": {},
   "source": [
    "Уникальные источники трафика:\n",
    "\n",
    "- `yandex_direct` = 7\n",
    "- `instagram_new_adverts` = 7\n",
    "- `youtube_channel_reklama` = 7\n",
    "- `facebook_ads` = 7\n",
    "\n",
    "Подозрительных значений в столбце нет, тип данных менять не требуется."
   ]
  },
  {
   "cell_type": "markdown",
   "metadata": {},
   "source": [
    "**Столбец `day` - день, в который был совершен клик по объявлению.**"
   ]
  },
  {
   "cell_type": "code",
   "execution_count": 11,
   "metadata": {},
   "outputs": [
    {
     "name": "stdout",
     "output_type": "stream",
     "text": [
      "Уникальные значения в столбце source:\n",
      "2020-05-09    4\n",
      "2020-05-07    4\n",
      "2020-05-06    4\n",
      "2020-05-03    4\n",
      "2020-05-04    4\n",
      "2020-05-05    4\n",
      "2020-05-08    4\n",
      "Name: day, dtype: int64\n"
     ]
    }
   ],
   "source": [
    "# Выделим уникальные значения в столбце `day`.\n",
    "\n",
    "print('Уникальные значения в столбце source:')\n",
    "print(ad_costs['day'].value_counts())"
   ]
  },
  {
   "cell_type": "code",
   "execution_count": 12,
   "metadata": {},
   "outputs": [],
   "source": [
    "# Приведем формат столбца `day` к формату datetime.\n",
    "\n",
    "ad_costs['day'] = pd.to_datetime(ad_costs['day'], format='%Y-%m-%d')"
   ]
  },
  {
   "cell_type": "code",
   "execution_count": 13,
   "metadata": {},
   "outputs": [
    {
     "data": {
      "text/plain": [
       "Timestamp('2020-05-03 00:00:00')"
      ]
     },
     "execution_count": 13,
     "metadata": {},
     "output_type": "execute_result"
    }
   ],
   "source": [
    "# Выведем минимальное значение в столбце `day`.\n",
    "\n",
    "ad_costs['day'].min()"
   ]
  },
  {
   "cell_type": "code",
   "execution_count": 14,
   "metadata": {},
   "outputs": [
    {
     "data": {
      "text/plain": [
       "Timestamp('2020-05-09 00:00:00')"
      ]
     },
     "execution_count": 14,
     "metadata": {},
     "output_type": "execute_result"
    }
   ],
   "source": [
    "# Выведем максимальное значение в столбце `day`.\n",
    "\n",
    "ad_costs['day'].max()"
   ]
  },
  {
   "cell_type": "markdown",
   "metadata": {},
   "source": [
    "Подозрительных значений в столбце `day` не обнаружено.\n",
    "\n",
    "Изменили формат столбца `day` на datetime.\n",
    "\n",
    "Количество уникальных значений в столбце `day` = 7.\n",
    "\n",
    "Период, за который представлены данные в столбце `day`  - с 3 мая по 9 мая 2020 включительно:\n",
    "\n",
    "Минимальное значение даты в столбце `day` - 2020-05-03\n",
    "Максимальное значение даты в столбце `day` - 2020-05-09"
   ]
  },
  {
   "cell_type": "markdown",
   "metadata": {},
   "source": [
    "**Столбец `cost` - стоимость кликов.**"
   ]
  },
  {
   "cell_type": "code",
   "execution_count": 15,
   "metadata": {},
   "outputs": [
    {
     "name": "stdout",
     "output_type": "stream",
     "text": [
      "count     28.000000\n",
      "mean     271.556321\n",
      "std      286.867650\n",
      "min       23.314669\n",
      "25%       66.747365\n",
      "50%      160.056443\n",
      "75%      349.034473\n",
      "max      969.139394\n",
      "Name: cost, dtype: float64\n"
     ]
    }
   ],
   "source": [
    "# Посмотрим статистику по столбцу.\n",
    "\n",
    "print(ad_costs['cost'].describe())"
   ]
  },
  {
   "cell_type": "code",
   "execution_count": 16,
   "metadata": {},
   "outputs": [
    {
     "data": {
      "image/png": "[encoded data removed]",
      "text/plain": [
       "<Figure size 1080x720 with 1 Axes>"
      ]
     },
     "metadata": {
      "needs_background": "light"
     },
     "output_type": "display_data"
    }
   ],
   "source": [
    "# Построим гистограмму стоимости кликов.\n",
    "\n",
    "ad_costs.hist('cost', figsize=(15,10), bins = 10)\n",
    "plt.suptitle('Гистограмма для параметра \"Стоимость кликов\"')\n",
    "plt.xlabel('Стоимость кликов')\n",
    "plt.show()"
   ]
  },
  {
   "cell_type": "code",
   "execution_count": 17,
   "metadata": {},
   "outputs": [
    {
     "data": {
      "image/png": "[encoded data removed]",
      "text/plain": [
       "<Figure size 1080x720 with 1 Axes>"
      ]
     },
     "metadata": {
      "needs_background": "light"
     },
     "output_type": "display_data"
    }
   ],
   "source": [
    "# Построим диаграмму размаха для стоимости кликов.\n",
    "\n",
    "ad_costs['cost'].plot.box(grid=True, title='Диаграмма размаха для стоимости кликов', figsize=(15,10))\n",
    "plt.xlabel('Стоимость кликов')\n",
    "plt.show()"
   ]
  },
  {
   "cell_type": "code",
   "execution_count": 18,
   "metadata": {},
   "outputs": [
    {
     "data": {
      "text/html": [
       "<div>\n",
       "<style scoped>\n",
       "    .dataframe tbody tr th:only-of-type {\n",
       "        vertical-align: middle;\n",
       "    }\n",
       "\n",
       "    .dataframe tbody tr th {\n",
       "        vertical-align: top;\n",
       "    }\n",
       "\n",
       "    .dataframe thead th {\n",
       "        text-align: right;\n",
       "    }\n",
       "</style>\n",
       "<table border=\"1\" class=\"dataframe\">\n",
       "  <thead>\n",
       "    <tr style=\"text-align: right;\">\n",
       "      <th></th>\n",
       "      <th>source</th>\n",
       "      <th>cost</th>\n",
       "    </tr>\n",
       "  </thead>\n",
       "  <tbody>\n",
       "    <tr>\n",
       "      <th>2</th>\n",
       "      <td>yandex_direct</td>\n",
       "      <td>2233.111449</td>\n",
       "    </tr>\n",
       "    <tr>\n",
       "      <th>1</th>\n",
       "      <td>instagram_new_adverts</td>\n",
       "      <td>2161.441691</td>\n",
       "    </tr>\n",
       "    <tr>\n",
       "      <th>0</th>\n",
       "      <td>facebook_ads</td>\n",
       "      <td>2140.904643</td>\n",
       "    </tr>\n",
       "    <tr>\n",
       "      <th>3</th>\n",
       "      <td>youtube_channel_reklama</td>\n",
       "      <td>1068.119204</td>\n",
       "    </tr>\n",
       "  </tbody>\n",
       "</table>\n",
       "</div>"
      ],
      "text/plain": [
       "                    source         cost\n",
       "2            yandex_direct  2233.111449\n",
       "1    instagram_new_adverts  2161.441691\n",
       "0             facebook_ads  2140.904643\n",
       "3  youtube_channel_reklama  1068.119204"
      ]
     },
     "execution_count": 18,
     "metadata": {},
     "output_type": "execute_result"
    }
   ],
   "source": [
    "# Выясним, как распределена стоимость по источникам трафика.\n",
    "\n",
    "source_cost = ad_costs.groupby('source').agg({'cost':'sum'}).reset_index().sort_values(by = 'cost', ascending = False)\n",
    "source_cost"
   ]
  },
  {
   "cell_type": "code",
   "execution_count": 19,
   "metadata": {},
   "outputs": [
    {
     "data": {
      "image/png": "[encoded data removed]",
      "text/plain": [
       "<Figure size 1080x720 with 1 Axes>"
      ]
     },
     "metadata": {
      "needs_background": "light"
     },
     "output_type": "display_data"
    }
   ],
   "source": [
    "# Построим график распределения стоимости по источникам трафика.\n",
    "\n",
    "plt.figure(figsize=(15,10))\n",
    "ax = sns.barplot(data= source_cost, x='source', y='cost')\n",
    "for p in ax.patches:\n",
    "    ax.annotate(format(p.get_height(), '.2f'), \n",
    "                   (p.get_x() + p.get_width() / 2., p.get_height()), \n",
    "                   ha = 'center', va = 'center', \n",
    "                   xytext = (0, 9), \n",
    "                   textcoords = 'offset points')\n",
    "plt.suptitle('Распределение стоимости по источникам трафика')\n",
    "plt.xlabel('Источник трафика')\n",
    "plt.ylabel('Суммарная стоимость')\n",
    "sns.set_palette('dark')"
   ]
  },
  {
   "cell_type": "markdown",
   "metadata": {},
   "source": [
    "Подозрительных значений в столбце `cost` не наблюдается.\n",
    "\n",
    "- Количество уникальных значений в столбце = 28.\n",
    "- Максимальная стоимость кликов = 969.13\n",
    "- Минимальная стоимость кликов = 23.31\n",
    "- Среднее значение стоимости кликов = 271.55\n",
    "- Медианное значение стоимости кликов = 160.05\n",
    "\n",
    "На диаграмме размаха видны выбросы. Имеет смысл ориентироваться на медианное значение.\n",
    "\n",
    "**Распределение стоимости кликов по источникам трафика:**\n",
    "\n",
    "- `yandex_direct` = 2233.11\n",
    "- `instagram_new_adverts` = 2161.44\n",
    "- `facebook_ads` = 2140.90\n",
    "- `youtube_channel_reklama` = 1068.11\n",
    "\n",
    "Таким образом, самая большая суммарная стоимость кликов приходится на источник трафика `yandex_direct`, на втором месте `instagram_new_adverts`, на третьем месте `facebook_ads`, а меньше всего - на `youtube_channel_reklama`."
   ]
  },
  {
   "cell_type": "markdown",
   "metadata": {},
   "source": [
    "### Подробно исследуем переменную `game_actions` с данными первых пользователей приложения."
   ]
  },
  {
   "cell_type": "markdown",
   "metadata": {},
   "source": [
    "**Столбец `event_datetime` - время события.**"
   ]
  },
  {
   "cell_type": "code",
   "execution_count": 20,
   "metadata": {},
   "outputs": [
    {
     "name": "stdout",
     "output_type": "stream",
     "text": [
      "Уникальные значения в столбце source:\n",
      "2020-05-09 21:49:07    4\n",
      "2020-05-07 17:57:40    4\n",
      "2020-05-08 21:56:19    4\n",
      "2020-05-09 12:35:56    4\n",
      "2020-05-07 03:10:43    4\n",
      "2020-05-10 03:08:18    4\n",
      "2020-05-09 08:39:32    4\n",
      "2020-05-08 22:30:04    4\n",
      "2020-05-04 04:02:30    4\n",
      "2020-05-11 02:11:17    3\n",
      "Name: event_datetime, dtype: int64\n"
     ]
    }
   ],
   "source": [
    "# Выделим уникальные значения в столбце `event_datetime`.\n",
    "\n",
    "print('Уникальные значения в столбце source:')\n",
    "print(game_actions['event_datetime'].value_counts().head(10))"
   ]
  },
  {
   "cell_type": "code",
   "execution_count": 21,
   "metadata": {},
   "outputs": [
    {
     "data": {
      "text/plain": [
       "128790"
      ]
     },
     "execution_count": 21,
     "metadata": {},
     "output_type": "execute_result"
    }
   ],
   "source": [
    "# Количество уникальных значений в столбце `event_datetime`.\n",
    "\n",
    "game_actions['event_datetime'].nunique()"
   ]
  },
  {
   "cell_type": "code",
   "execution_count": 22,
   "metadata": {},
   "outputs": [],
   "source": [
    "# Приведем формат столбца `event_datetime` к формату datetime.\n",
    "\n",
    "game_actions['event_datetime'] = pd.to_datetime(game_actions['event_datetime'], format='%Y-%m-%dT%H:%M:%S')"
   ]
  },
  {
   "cell_type": "code",
   "execution_count": 23,
   "metadata": {},
   "outputs": [
    {
     "data": {
      "text/plain": [
       "Timestamp('2020-05-04 00:00:01')"
      ]
     },
     "execution_count": 23,
     "metadata": {},
     "output_type": "execute_result"
    }
   ],
   "source": [
    "# Выведем минимальное значение в столбце `event_datetime`.\n",
    "\n",
    "game_actions['event_datetime'].min()"
   ]
  },
  {
   "cell_type": "code",
   "execution_count": 24,
   "metadata": {},
   "outputs": [
    {
     "data": {
      "text/plain": [
       "Timestamp('2020-06-05 12:32:49')"
      ]
     },
     "execution_count": 24,
     "metadata": {},
     "output_type": "execute_result"
    }
   ],
   "source": [
    "# Выведем максимальное значение в столбце `event_datetime`.\n",
    "\n",
    "game_actions['event_datetime'].max()"
   ]
  },
  {
   "cell_type": "code",
   "execution_count": 25,
   "metadata": {},
   "outputs": [],
   "source": [
    "# Создадим отдельные столбцы с датой и номером недели. Они пригодятся для ислледования дальше.\n",
    "\n",
    "game_actions['event_date']  = game_actions['event_datetime'].dt.date\n",
    "game_actions['event_week']  = game_actions['event_datetime'].dt.isocalendar().week"
   ]
  },
  {
   "cell_type": "code",
   "execution_count": 26,
   "metadata": {},
   "outputs": [
    {
     "data": {
      "text/html": [
       "<div>\n",
       "<style scoped>\n",
       "    .dataframe tbody tr th:only-of-type {\n",
       "        vertical-align: middle;\n",
       "    }\n",
       "\n",
       "    .dataframe tbody tr th {\n",
       "        vertical-align: top;\n",
       "    }\n",
       "\n",
       "    .dataframe thead th {\n",
       "        text-align: right;\n",
       "    }\n",
       "</style>\n",
       "<table border=\"1\" class=\"dataframe\">\n",
       "  <thead>\n",
       "    <tr style=\"text-align: right;\">\n",
       "      <th></th>\n",
       "      <th>event_datetime</th>\n",
       "      <th>event</th>\n",
       "      <th>building_type</th>\n",
       "      <th>user_id</th>\n",
       "      <th>project_type</th>\n",
       "      <th>event_date</th>\n",
       "      <th>event_week</th>\n",
       "    </tr>\n",
       "  </thead>\n",
       "  <tbody>\n",
       "    <tr>\n",
       "      <th>0</th>\n",
       "      <td>2020-05-04 00:00:01</td>\n",
       "      <td>building</td>\n",
       "      <td>assembly_shop</td>\n",
       "      <td>55e92310-cb8e-4754-b622-597e124b03de</td>\n",
       "      <td>NaN</td>\n",
       "      <td>2020-05-04</td>\n",
       "      <td>19</td>\n",
       "    </tr>\n",
       "    <tr>\n",
       "      <th>1</th>\n",
       "      <td>2020-05-04 00:00:03</td>\n",
       "      <td>building</td>\n",
       "      <td>assembly_shop</td>\n",
       "      <td>c07b1c10-f477-44dc-81dc-ec82254b1347</td>\n",
       "      <td>NaN</td>\n",
       "      <td>2020-05-04</td>\n",
       "      <td>19</td>\n",
       "    </tr>\n",
       "    <tr>\n",
       "      <th>2</th>\n",
       "      <td>2020-05-04 00:00:16</td>\n",
       "      <td>building</td>\n",
       "      <td>assembly_shop</td>\n",
       "      <td>6edd42cc-e753-4ff6-a947-2107cd560710</td>\n",
       "      <td>NaN</td>\n",
       "      <td>2020-05-04</td>\n",
       "      <td>19</td>\n",
       "    </tr>\n",
       "    <tr>\n",
       "      <th>3</th>\n",
       "      <td>2020-05-04 00:00:16</td>\n",
       "      <td>building</td>\n",
       "      <td>assembly_shop</td>\n",
       "      <td>92c69003-d60a-444a-827f-8cc51bf6bf4c</td>\n",
       "      <td>NaN</td>\n",
       "      <td>2020-05-04</td>\n",
       "      <td>19</td>\n",
       "    </tr>\n",
       "    <tr>\n",
       "      <th>4</th>\n",
       "      <td>2020-05-04 00:00:35</td>\n",
       "      <td>building</td>\n",
       "      <td>assembly_shop</td>\n",
       "      <td>cdc6bb92-0ccb-4490-9866-ef142f09139d</td>\n",
       "      <td>NaN</td>\n",
       "      <td>2020-05-04</td>\n",
       "      <td>19</td>\n",
       "    </tr>\n",
       "    <tr>\n",
       "      <th>5</th>\n",
       "      <td>2020-05-04 00:00:36</td>\n",
       "      <td>building</td>\n",
       "      <td>assembly_shop</td>\n",
       "      <td>06c592ca-902d-42bb-bac3-75ce84cca159</td>\n",
       "      <td>NaN</td>\n",
       "      <td>2020-05-04</td>\n",
       "      <td>19</td>\n",
       "    </tr>\n",
       "    <tr>\n",
       "      <th>6</th>\n",
       "      <td>2020-05-04 00:00:36</td>\n",
       "      <td>building</td>\n",
       "      <td>assembly_shop</td>\n",
       "      <td>4fe0f101-694b-4e31-9740-d1d87f7208ea</td>\n",
       "      <td>NaN</td>\n",
       "      <td>2020-05-04</td>\n",
       "      <td>19</td>\n",
       "    </tr>\n",
       "    <tr>\n",
       "      <th>7</th>\n",
       "      <td>2020-05-04 00:00:38</td>\n",
       "      <td>building</td>\n",
       "      <td>assembly_shop</td>\n",
       "      <td>beb8ca15-33a9-465d-b47b-89aa96f89c9a</td>\n",
       "      <td>NaN</td>\n",
       "      <td>2020-05-04</td>\n",
       "      <td>19</td>\n",
       "    </tr>\n",
       "    <tr>\n",
       "      <th>8</th>\n",
       "      <td>2020-05-04 00:00:44</td>\n",
       "      <td>building</td>\n",
       "      <td>assembly_shop</td>\n",
       "      <td>65a92713-5969-48b1-8945-bfefa5063887</td>\n",
       "      <td>NaN</td>\n",
       "      <td>2020-05-04</td>\n",
       "      <td>19</td>\n",
       "    </tr>\n",
       "    <tr>\n",
       "      <th>9</th>\n",
       "      <td>2020-05-04 00:01:33</td>\n",
       "      <td>building</td>\n",
       "      <td>assembly_shop</td>\n",
       "      <td>fa352362-d258-472c-b295-2796ccc39fa3</td>\n",
       "      <td>NaN</td>\n",
       "      <td>2020-05-04</td>\n",
       "      <td>19</td>\n",
       "    </tr>\n",
       "  </tbody>\n",
       "</table>\n",
       "</div>"
      ],
      "text/plain": [
       "       event_datetime     event  building_type  \\\n",
       "0 2020-05-04 00:00:01  building  assembly_shop   \n",
       "1 2020-05-04 00:00:03  building  assembly_shop   \n",
       "2 2020-05-04 00:00:16  building  assembly_shop   \n",
       "3 2020-05-04 00:00:16  building  assembly_shop   \n",
       "4 2020-05-04 00:00:35  building  assembly_shop   \n",
       "5 2020-05-04 00:00:36  building  assembly_shop   \n",
       "6 2020-05-04 00:00:36  building  assembly_shop   \n",
       "7 2020-05-04 00:00:38  building  assembly_shop   \n",
       "8 2020-05-04 00:00:44  building  assembly_shop   \n",
       "9 2020-05-04 00:01:33  building  assembly_shop   \n",
       "\n",
       "                                user_id project_type  event_date  event_week  \n",
       "0  55e92310-cb8e-4754-b622-597e124b03de          NaN  2020-05-04          19  \n",
       "1  c07b1c10-f477-44dc-81dc-ec82254b1347          NaN  2020-05-04          19  \n",
       "2  6edd42cc-e753-4ff6-a947-2107cd560710          NaN  2020-05-04          19  \n",
       "3  92c69003-d60a-444a-827f-8cc51bf6bf4c          NaN  2020-05-04          19  \n",
       "4  cdc6bb92-0ccb-4490-9866-ef142f09139d          NaN  2020-05-04          19  \n",
       "5  06c592ca-902d-42bb-bac3-75ce84cca159          NaN  2020-05-04          19  \n",
       "6  4fe0f101-694b-4e31-9740-d1d87f7208ea          NaN  2020-05-04          19  \n",
       "7  beb8ca15-33a9-465d-b47b-89aa96f89c9a          NaN  2020-05-04          19  \n",
       "8  65a92713-5969-48b1-8945-bfefa5063887          NaN  2020-05-04          19  \n",
       "9  fa352362-d258-472c-b295-2796ccc39fa3          NaN  2020-05-04          19  "
      ]
     },
     "execution_count": 26,
     "metadata": {},
     "output_type": "execute_result"
    }
   ],
   "source": [
    "# Посмотрим на результат добавления новых столбцов.\n",
    "\n",
    "game_actions.head(10)"
   ]
  },
  {
   "cell_type": "markdown",
   "metadata": {},
   "source": [
    "Подозрительных значений в столбце `event_datetime` не наблюдается.\n",
    "\n",
    "Изменили формат столбца `event_datetime` на datetime и выделили дату и номер недели в отдельные столбцы.\n",
    "\n",
    "- Количество уникальных значений в столбце `event_datetime` = 128790.\n",
    "- Период, за который представлены данные в столбце `event_datetime` - с 4 мая по 5 июня 2020 включительно.\n",
    "- Максимальное значение даты и времени - 2020-05-04 00:00:01\n",
    "- Максимальное значение даты и времени - 2020-06-05 12:32:49\n",
    "\n",
    "В описании задачи сказано, что в датасете содержатся данные первых пользователей приложения — когорты пользователей, которые начали пользоваться приложением в период с 4 по 10 мая включительно. Соответственно, в предоставленных данных представлены все действия пользователей, которые начали играть с 4 по 10 мая и играли до 5 июня."
   ]
  },
  {
   "cell_type": "markdown",
   "metadata": {},
   "source": [
    "**Столбец `event` - событие.**"
   ]
  },
  {
   "cell_type": "code",
   "execution_count": 27,
   "metadata": {},
   "outputs": [
    {
     "name": "stdout",
     "output_type": "stream",
     "text": [
      "Уникальные значения в столбце event:\n",
      "building            127956\n",
      "finished_stage_1      5817\n",
      "project               1866\n",
      "Name: event, dtype: int64\n"
     ]
    }
   ],
   "source": [
    "# Выделим уникальные значения в столбце `event`.\n",
    "\n",
    "print('Уникальные значения в столбце event:')\n",
    "print(game_actions['event'].value_counts())"
   ]
  },
  {
   "cell_type": "code",
   "execution_count": 28,
   "metadata": {},
   "outputs": [
    {
     "data": {
      "text/html": [
       "<div>\n",
       "<style scoped>\n",
       "    .dataframe tbody tr th:only-of-type {\n",
       "        vertical-align: middle;\n",
       "    }\n",
       "\n",
       "    .dataframe tbody tr th {\n",
       "        vertical-align: top;\n",
       "    }\n",
       "\n",
       "    .dataframe thead th {\n",
       "        text-align: right;\n",
       "    }\n",
       "</style>\n",
       "<table border=\"1\" class=\"dataframe\">\n",
       "  <thead>\n",
       "    <tr style=\"text-align: right;\">\n",
       "      <th></th>\n",
       "      <th>event</th>\n",
       "      <th>user_id</th>\n",
       "    </tr>\n",
       "  </thead>\n",
       "  <tbody>\n",
       "    <tr>\n",
       "      <th>0</th>\n",
       "      <td>building</td>\n",
       "      <td>13576</td>\n",
       "    </tr>\n",
       "    <tr>\n",
       "      <th>1</th>\n",
       "      <td>finished_stage_1</td>\n",
       "      <td>5817</td>\n",
       "    </tr>\n",
       "    <tr>\n",
       "      <th>2</th>\n",
       "      <td>project</td>\n",
       "      <td>1866</td>\n",
       "    </tr>\n",
       "  </tbody>\n",
       "</table>\n",
       "</div>"
      ],
      "text/plain": [
       "              event  user_id\n",
       "0          building    13576\n",
       "1  finished_stage_1     5817\n",
       "2           project     1866"
      ]
     },
     "execution_count": 28,
     "metadata": {},
     "output_type": "execute_result"
    }
   ],
   "source": [
    "# Посчитаем уникальных пользователей по каждому типу событий.\n",
    "\n",
    "event_user_id = game_actions.groupby('event').agg({'user_id':'nunique'}\n",
    "                                                 ).reset_index().sort_values(by = 'user_id', ascending = False)\n",
    "event_user_id"
   ]
  },
  {
   "cell_type": "code",
   "execution_count": 29,
   "metadata": {},
   "outputs": [
    {
     "name": "stdout",
     "output_type": "stream",
     "text": [
      "Процент завершивших первый уровень: 42.85%\n"
     ]
    }
   ],
   "source": [
    "# Вычислим % пользователей завершивших первый уровень.\n",
    "\n",
    "print('Процент завершивших первый уровень: {:.2%}'.format(event_user_id['user_id'].loc[1]/event_user_id['user_id'].loc[0]))"
   ]
  },
  {
   "cell_type": "code",
   "execution_count": 30,
   "metadata": {},
   "outputs": [
    {
     "data": {
      "image/png": "[encoded data removed]",
      "text/plain": [
       "<Figure size 1080x720 with 1 Axes>"
      ]
     },
     "metadata": {
      "needs_background": "light"
     },
     "output_type": "display_data"
    }
   ],
   "source": [
    "# Построим график распределения уникальных пользователей.\n",
    "\n",
    "plt.figure(figsize=(15,10))\n",
    "ax = sns.barplot(data=event_user_id, x='event', y='user_id')\n",
    "for p in ax.patches:\n",
    "    ax.annotate(format(p.get_height(), '.2f'), \n",
    "                   (p.get_x() + p.get_width() / 2., p.get_height()), \n",
    "                   ha = 'center', va = 'center', \n",
    "                   xytext = (0, 9), \n",
    "                   textcoords = 'offset points')\n",
    "plt.suptitle('Распределение уникальных пользователей по типам событий')\n",
    "plt.xlabel('Событие')\n",
    "plt.ylabel('Количество уникальных пользователей')\n",
    "sns.set_palette('dark')"
   ]
  },
  {
   "cell_type": "markdown",
   "metadata": {},
   "source": [
    "Подозрительных значений в столбце `cost` не наблюдается.\n",
    "\n",
    "**Посмотрим, как распределены данные по событиям:**\n",
    "\n",
    "- `building` (объект построен) = 127956 значений\n",
    "- `finished_stage_1` (первый уровень завершён) = 5817 значений\n",
    "- `project` (проект завершён) = 1866 значений\n",
    "\n",
    "**Также посмотрим, как распределены уникальные пользователи по событиям:**\n",
    "\n",
    "- `building` (объект построен) = 13576 пользователей\n",
    "- `finished_stage_1` (первый уровень завершён) = 5817 пользователей\n",
    "- `project` (проект завершён) = 1866 пользователей\n",
    "\n",
    "По условию задачи в датасете представлены данные по игре пользователей на первом уровне, и завершение первого уровня требует от игрока выполнения одного из двух условий:\n",
    "\n",
    "- Победа над первым врагом\n",
    "- Реализация проекта - разработка орбитальной сборки спутников\n",
    "\n",
    "Целевое событие - завершение первого уровня. Таким образом, первый уровень завершён у `5817` пользователей. Процент завершивших первый уровень составляет `42.85%`. Из них `1866` пользователей завершили уровень через реализацию проекта (разработку орбитальной сборки спутников). Соответственно 5817 - 1866 = `3951` завершили уровень через победу над первым врагом. Соответственно, способ прохождения уровня через победу над врагом пользователи предпочитают больше, чем разработку орбитальной сборки спутников."
   ]
  },
  {
   "cell_type": "markdown",
   "metadata": {},
   "source": [
    "**Столбец `building_type` - тип здания.**"
   ]
  },
  {
   "cell_type": "code",
   "execution_count": 31,
   "metadata": {},
   "outputs": [
    {
     "name": "stdout",
     "output_type": "stream",
     "text": [
      "Уникальные значения в столбце building_type:\n",
      "spaceport          59325\n",
      "assembly_shop      54494\n",
      "research_center    14137\n",
      "Name: building_type, dtype: int64\n"
     ]
    }
   ],
   "source": [
    "# Выделим уникальные значения в столбце `building_type`\n",
    "\n",
    "print('Уникальные значения в столбце building_type:')\n",
    "print(game_actions['building_type'].value_counts())"
   ]
  },
  {
   "cell_type": "code",
   "execution_count": 32,
   "metadata": {},
   "outputs": [
    {
     "data": {
      "text/html": [
       "<div>\n",
       "<style scoped>\n",
       "    .dataframe tbody tr th:only-of-type {\n",
       "        vertical-align: middle;\n",
       "    }\n",
       "\n",
       "    .dataframe tbody tr th {\n",
       "        vertical-align: top;\n",
       "    }\n",
       "\n",
       "    .dataframe thead th {\n",
       "        text-align: right;\n",
       "    }\n",
       "</style>\n",
       "<table border=\"1\" class=\"dataframe\">\n",
       "  <thead>\n",
       "    <tr style=\"text-align: right;\">\n",
       "      <th></th>\n",
       "      <th>building_type</th>\n",
       "      <th>user_id</th>\n",
       "    </tr>\n",
       "  </thead>\n",
       "  <tbody>\n",
       "    <tr>\n",
       "      <th>0</th>\n",
       "      <td>assembly_shop</td>\n",
       "      <td>13576</td>\n",
       "    </tr>\n",
       "    <tr>\n",
       "      <th>2</th>\n",
       "      <td>spaceport</td>\n",
       "      <td>13231</td>\n",
       "    </tr>\n",
       "    <tr>\n",
       "      <th>1</th>\n",
       "      <td>research_center</td>\n",
       "      <td>7671</td>\n",
       "    </tr>\n",
       "  </tbody>\n",
       "</table>\n",
       "</div>"
      ],
      "text/plain": [
       "     building_type  user_id\n",
       "0    assembly_shop    13576\n",
       "2        spaceport    13231\n",
       "1  research_center     7671"
      ]
     },
     "execution_count": 32,
     "metadata": {},
     "output_type": "execute_result"
    }
   ],
   "source": [
    "# Посчитаем как распределены уникальные пользователи по типу зданий.\n",
    "\n",
    "building_type_user_id = game_actions.groupby('building_type').agg({'user_id':'nunique'}\n",
    "                                                                 ).reset_index().sort_values(by = 'user_id', ascending = False)\n",
    "building_type_user_id"
   ]
  },
  {
   "cell_type": "code",
   "execution_count": 33,
   "metadata": {},
   "outputs": [
    {
     "data": {
      "image/png": "[encoded data removed]",
      "text/plain": [
       "<Figure size 1080x720 with 1 Axes>"
      ]
     },
     "metadata": {
      "needs_background": "light"
     },
     "output_type": "display_data"
    }
   ],
   "source": [
    "# Построим график распределения уникальных пользователей.\n",
    "\n",
    "plt.figure(figsize=(15,10))\n",
    "ax = sns.barplot(data= building_type_user_id, x='building_type', y='user_id')\n",
    "for p in ax.patches:\n",
    "    ax.annotate(format(p.get_height(), '.2f'), \n",
    "                   (p.get_x() + p.get_width() / 2., p.get_height()), \n",
    "                   ha = 'center', va = 'center', \n",
    "                   xytext = (0, 9), \n",
    "                   textcoords = 'offset points')\n",
    "plt.suptitle('Распределение уникальных пользователей по типам зданий')\n",
    "plt.xlabel('Тип здания')\n",
    "plt.ylabel('Количество уникальных пользователей')\n",
    "sns.set_palette('dark')"
   ]
  },
  {
   "cell_type": "markdown",
   "metadata": {},
   "source": [
    "- Суммарное количество пропусков для столбца `building_type` равно 7683.\n",
    "\n",
    "**Распределение по типам зданий:**\n",
    "\n",
    "- `spaceport` (космопорт) = 59325 значений\n",
    "- `assembly_shop` (сборочный цех) = 54494 значения\n",
    "- `research_center` (исследовательский центр) = 14137 значений\n",
    "\n",
    "**Распределение уникальных пользователей по типам зданий**:\n",
    "\n",
    "- `spaceport` (космопорт) = 13576 пользователей\n",
    "- `assembly_shop` (сборочный цех) = 13231 пользователь\n",
    "- `research_center` (исследовательский центр) = 7671 пользователь"
   ]
  },
  {
   "cell_type": "markdown",
   "metadata": {},
   "source": [
    "**Столбец `user_id` - идентификатор пользователя.**"
   ]
  },
  {
   "cell_type": "code",
   "execution_count": 34,
   "metadata": {},
   "outputs": [
    {
     "name": "stdout",
     "output_type": "stream",
     "text": [
      "Уникальные значения в столбце user_id:\n",
      "d6aca06a-cd75-4cd8-b8cd-240a3c163884    22\n",
      "ff841992-d93b-462e-bc6e-18c24a514f36    22\n",
      "bf542075-e3a2-4e79-82d8-3838e86d2a25    22\n",
      "4f57b9dc-faa4-4ced-8c6f-1098d612438c    21\n",
      "9307342f-2518-4b04-818e-5c11f4625a5e    21\n",
      "d937c386-bbb7-4a8f-8d21-bceadd61c018    21\n",
      "aee12ade-c6fa-4b31-a308-bd750c8511dc    21\n",
      "45935e5d-8f50-4176-83d3-fd545bb2015f    21\n",
      "2f4c1905-e7c9-4b75-b265-1d80abf49f1d    21\n",
      "94844e06-0352-4048-9e62-1db7718f804c    21\n",
      "Name: user_id, dtype: int64\n"
     ]
    }
   ],
   "source": [
    "# Выделим уникальные значения в столбце `user_id`.\n",
    "\n",
    "print('Уникальные значения в столбце user_id:')\n",
    "print(game_actions['user_id'].value_counts().head(10))"
   ]
  },
  {
   "cell_type": "code",
   "execution_count": 35,
   "metadata": {},
   "outputs": [
    {
     "data": {
      "text/plain": [
       "13576"
      ]
     },
     "execution_count": 35,
     "metadata": {},
     "output_type": "execute_result"
    }
   ],
   "source": [
    "# Подсчитаем количество уникальных пользователей.\n",
    "\n",
    "game_actions['user_id'].nunique()"
   ]
  },
  {
   "cell_type": "markdown",
   "metadata": {},
   "source": [
    "Подозрительных значений в столбце `user_id` не наблюдается.\n",
    "\n",
    "- Количество уникальных пользователей - 13576."
   ]
  },
  {
   "cell_type": "markdown",
   "metadata": {},
   "source": [
    "**Столбец `project_type` - тип реализованного проекта.**"
   ]
  },
  {
   "cell_type": "code",
   "execution_count": 36,
   "metadata": {},
   "outputs": [
    {
     "name": "stdout",
     "output_type": "stream",
     "text": [
      "Уникальные значения в столбце project_type:\n",
      "satellite_orbital_assembly    1866\n",
      "Name: project_type, dtype: int64\n"
     ]
    }
   ],
   "source": [
    "# Выделим уникальные значения в столбце `project_type`.\n",
    "\n",
    "print('Уникальные значения в столбце project_type:')\n",
    "print(game_actions['project_type'].value_counts())"
   ]
  },
  {
   "cell_type": "markdown",
   "metadata": {},
   "source": [
    "Подозрительных значений в столбце `project_type` не наблюдается.\n",
    "\n",
    "- Cуммарное количество пропусков для столбца project_type равно 133773.\n",
    "\n",
    "В столбце представлен только один тип реализованного объекта:\n",
    "\n",
    "- `satellite_orbital_assembly` (разработка орбитальной сборки спутников) = 1866"
   ]
  },
  {
   "cell_type": "markdown",
   "metadata": {},
   "source": [
    "### Таблица `user_source` - информация о рекламных активностях."
   ]
  },
  {
   "cell_type": "markdown",
   "metadata": {},
   "source": [
    "**Столбец `user_id` - идентификатор пользователя.**"
   ]
  },
  {
   "cell_type": "code",
   "execution_count": 37,
   "metadata": {},
   "outputs": [
    {
     "name": "stdout",
     "output_type": "stream",
     "text": [
      "Уникальные значения в столбце user_id:\n",
      "736879a4-e4dc-4de7-b6f7-29260b90c5af    1\n",
      "38d263cc-25b5-4787-97b8-20d46486436a    1\n",
      "2b62ef70-67a8-4b91-a9f3-88fcff210f7c    1\n",
      "31a3004c-378c-41c2-8cad-28fa72fca103    1\n",
      "08522adf-0a91-4785-8a75-8dab7a18e52d    1\n",
      "be845909-9d19-46fa-bc80-a06debe2d044    1\n",
      "cc5a7f07-e080-4e6c-8902-e1624644e161    1\n",
      "189a473e-3f64-4e1c-be4b-5001284c7ba2    1\n",
      "fe1642fc-cd38-45e0-82e1-0e41313a9749    1\n",
      "417a7b15-2071-489d-b86e-9e718b8fdd63    1\n",
      "Name: user_id, dtype: int64\n"
     ]
    }
   ],
   "source": [
    "# Выделим уникальные значения в столбце `user_id`.\n",
    "\n",
    "print('Уникальные значения в столбце user_id:')\n",
    "print(user_source['user_id'].value_counts().head(10))"
   ]
  },
  {
   "cell_type": "code",
   "execution_count": 38,
   "metadata": {},
   "outputs": [
    {
     "data": {
      "text/plain": [
       "13576"
      ]
     },
     "execution_count": 38,
     "metadata": {},
     "output_type": "execute_result"
    }
   ],
   "source": [
    "# Подсчитаем количество уникальных пользователей в столбце `user_id`.\n",
    "\n",
    "user_source['user_id'].nunique()"
   ]
  },
  {
   "cell_type": "markdown",
   "metadata": {},
   "source": [
    "Подозрительных значений в столбце `user_id` не наблюдается.\n",
    "\n",
    "- Количество уникальных пользователей - 13576."
   ]
  },
  {
   "cell_type": "markdown",
   "metadata": {},
   "source": [
    "**Столбец `source` - источник, с которого пришёл пользователь, установивший приложение.**"
   ]
  },
  {
   "cell_type": "code",
   "execution_count": 39,
   "metadata": {},
   "outputs": [
    {
     "name": "stdout",
     "output_type": "stream",
     "text": [
      "Уникальные значения в столбце source:\n",
      "yandex_direct              4817\n",
      "instagram_new_adverts      3347\n",
      "facebook_ads               2726\n",
      "youtube_channel_reklama    2686\n",
      "Name: source, dtype: int64\n"
     ]
    }
   ],
   "source": [
    "# Выделим уникальные значения в столбце `source`.\n",
    "\n",
    "print('Уникальные значения в столбце source:')\n",
    "print(user_source['source'].value_counts())"
   ]
  },
  {
   "cell_type": "code",
   "execution_count": 40,
   "metadata": {},
   "outputs": [
    {
     "data": {
      "text/html": [
       "<div>\n",
       "<style scoped>\n",
       "    .dataframe tbody tr th:only-of-type {\n",
       "        vertical-align: middle;\n",
       "    }\n",
       "\n",
       "    .dataframe tbody tr th {\n",
       "        vertical-align: top;\n",
       "    }\n",
       "\n",
       "    .dataframe thead th {\n",
       "        text-align: right;\n",
       "    }\n",
       "</style>\n",
       "<table border=\"1\" class=\"dataframe\">\n",
       "  <thead>\n",
       "    <tr style=\"text-align: right;\">\n",
       "      <th></th>\n",
       "      <th>source</th>\n",
       "      <th>user_id</th>\n",
       "    </tr>\n",
       "  </thead>\n",
       "  <tbody>\n",
       "    <tr>\n",
       "      <th>2</th>\n",
       "      <td>yandex_direct</td>\n",
       "      <td>4817</td>\n",
       "    </tr>\n",
       "    <tr>\n",
       "      <th>1</th>\n",
       "      <td>instagram_new_adverts</td>\n",
       "      <td>3347</td>\n",
       "    </tr>\n",
       "    <tr>\n",
       "      <th>0</th>\n",
       "      <td>facebook_ads</td>\n",
       "      <td>2726</td>\n",
       "    </tr>\n",
       "    <tr>\n",
       "      <th>3</th>\n",
       "      <td>youtube_channel_reklama</td>\n",
       "      <td>2686</td>\n",
       "    </tr>\n",
       "  </tbody>\n",
       "</table>\n",
       "</div>"
      ],
      "text/plain": [
       "                    source  user_id\n",
       "2            yandex_direct     4817\n",
       "1    instagram_new_adverts     3347\n",
       "0             facebook_ads     2726\n",
       "3  youtube_channel_reklama     2686"
      ]
     },
     "execution_count": 40,
     "metadata": {},
     "output_type": "execute_result"
    }
   ],
   "source": [
    "# Распределение уникальных пользователей по источнику.\n",
    "\n",
    "source_user_id = user_source.groupby('source').agg({'user_id':'nunique'}\n",
    "                                                  ).reset_index().sort_values(by = 'user_id', ascending = False)\n",
    "source_user_id"
   ]
  },
  {
   "cell_type": "code",
   "execution_count": 41,
   "metadata": {},
   "outputs": [
    {
     "data": {
      "image/png": "[encoded data removed]",
      "text/plain": [
       "<Figure size 1080x720 with 1 Axes>"
      ]
     },
     "metadata": {
      "needs_background": "light"
     },
     "output_type": "display_data"
    }
   ],
   "source": [
    "# Построим график распределения стоимости по источникам трафика.\n",
    "\n",
    "plt.figure(figsize=(15,10))\n",
    "ax = sns.barplot(data= source_user_id, x='source', y='user_id')\n",
    "for p in ax.patches:\n",
    "    ax.annotate(format(p.get_height(), '.2f'), \n",
    "                   (p.get_x() + p.get_width() / 2., p.get_height()), \n",
    "                   ha = 'center', va = 'center', \n",
    "                   xytext = (0, 9), \n",
    "                   textcoords = 'offset points')\n",
    "plt.suptitle('Распределение уникальных пользователей по источникам трафика')\n",
    "plt.xlabel('Источник трафика')\n",
    "plt.ylabel('Количество уникальных пользователей')\n",
    "sns.set_palette('dark') "
   ]
  },
  {
   "cell_type": "markdown",
   "metadata": {},
   "source": [
    "Подозрительных значений в столбце `source` не наблюдается.\n",
    "\n",
    "**Распределение уникальных пользователей по источникам трафика:**\n",
    "\n",
    "- `yandex_direct` = 4817 пользователей\n",
    "- `instagram_new_adverts` = 3347 пользователей\n",
    "- `facebook_ads` = 2726 пользователей\n",
    "- `youtube_channel_reklama` = 2686 пользователей\n",
    "\n",
    "Аналогично распределению стоимости кликов, больше всего пользователей приходится на источник трафика `yandex_direct`, на втором месте `instagram_new_adverts`, на третьем месте `facebook_ads`, а меньше всего - на `youtube_channel_reklama`."
   ]
  },
  {
   "cell_type": "markdown",
   "metadata": {},
   "source": [
    "### Вывод по разделу."
   ]
  },
  {
   "cell_type": "markdown",
   "metadata": {},
   "source": [
    "**Таблица `ad_costs`:**\n",
    "\n",
    "Столбец `source` - источник трафика.\n",
    "\n",
    "Уникальные источники трафика:\n",
    "\n",
    "`yandex_direct` = 7\n",
    "`instagram_new_adverts` = 7\n",
    "`youtube_channel_reklama` = 7\n",
    "`facebook_ads` = 7\n",
    "\n",
    "Столбец `day` - день, в который был совершен клик по объявлению.\n",
    "\n",
    "Формат столбца `day` изменен на datetime\n",
    "\n",
    "Количество уникальных значений в столбце `day` = 7.\n",
    "\n",
    "Период, за который представлены данные в столбце `day`, - с 3 мая по 9 мая 2020 включительно:\n",
    "\n",
    "Минимальное значение даты и времени - 2020-05-03\n",
    "Максимальное значение даты и времени - 2020-05-09\n",
    "\n",
    "Столбец `cost` - стоимость кликов.\n",
    "\n",
    "Максимальная стоимость кликов = 969.13\n",
    "Минимальная стоимость кликов = 23.31\n",
    "Среднее значение стоимости кликов = 271.55\n",
    "Медианное значение стоимости кликов = 160.05\n",
    "На диаграмме размаха видны выбросы. Ориентироваться будем на медианное значение.\n",
    "\n",
    "Распределение стоимости кликов по источникам трафика:\n",
    "\n",
    "`yandex_direct` = 2233.11\n",
    "`instagram_new_adverts` = 2161.44\n",
    "`facebook_ads` = 2140.90\n",
    "`youtube_channel_reklama` = 1068.11\n",
    "\n",
    "Таким образом, самая большая суммарная стоимость кликов приходится на источник трафика `yandex_direct`, на втором месте `instagram_new_adverts`, на третьем месте `facebook_ads`, а меньше всего - на `youtube_channel_reklama`.\n",
    "\n",
    "\n",
    "**Таблица `game_actions`:**\n",
    "\n",
    "Удалили дубликат из таблицы `game_actions`.\n",
    "\n",
    "Столбец `event_datetime` - время события\n",
    "\n",
    "Изменили формат столбца `event_datetime` на `datetime` и выделили дату и номер недели в отдельные столбцы.\n",
    "\n",
    "- Количество уникальных значений в столбце event_datetime = 128790.\n",
    "- Период, за который представлены данные в столбце event_datetime - с 4 мая по 5 июня 2020 включительно.\n",
    "- Максимальное значение даты и времени - 2020-05-04 00:00:01\n",
    "- Максимальное значение даты и времени - 2020-06-05 12:32:49\n",
    "\n",
    "В описании задачи сказано, что в датасете содержатся данные первых пользователей приложения — когорты пользователей, которые начали пользоваться приложением в период с 4 по 10 мая включительно. Соответственно, в предоставленных данных представлены все действия пользователей, которые начали играть с 4 по 10 мая и играли до 5 июня.\n",
    "\n",
    "Столбец `event` - событие\n",
    "\n",
    "Распределение данных по событиям:\n",
    "\n",
    "- `building` (объект построен) = 127956 значений\n",
    "- `finished_stage_1` (первый уровень завершён) = 5817 значений\n",
    "- `project` (проект завершён) = 1866 значений\n",
    "\n",
    "Распределение уникальных пользователей по событиям:\n",
    "\n",
    "- `building` (объект построен) = 13576 пользователей\n",
    "- `finished_stage_1` (первый уровень завершён) = 5817 пользователей\n",
    "- `project` (проект завершён) = 1866 пользователей\n",
    "\n",
    "По условию задачи в датасете представлены данные по игре пользователей на первом уровне, и завершение первого уровня требует от игрока выполнения одного из двух условий:\n",
    "\n",
    "- Победа над первым врагом\n",
    "- Реализация проекта - разработка орбитальной сборки спутников\n",
    "\n",
    "Целевое событие - завершение первого уровня. Таким образом, первый уровень завершён `finished_stage_1` у 5817 пользователей. Процент завершивших первый уровень составляет `42.85%`. Из них `1866` пользователей завершили уровень через реализацию проекта `project` (разработку орбитальной сборки спутников). А 5817 - 1866 = `3951` завершили уровень через победу над первым врагом. Соответственно способ прохождения уровня через победу над врагом пользователи предпочитают больше, чем разработку орбитальной сборки спутников.\n",
    "\n",
    "Столбец `building_type` - тип здания\n",
    "\n",
    "Распределение данных по типам зданий:\n",
    "\n",
    "`spaceport` (космопорт) = 59325 значений\n",
    "`assembly_shop` (сборочный цех) = 54494 значения\n",
    "`research_center` (исследовательский центр) = 14137 значений\n",
    "\n",
    "Распределение уникальных пользователи по типам зданий:\n",
    "\n",
    "`spaceport` (космопорт) = 13576 пользователей\n",
    "`assembly_shop` (сборочный цех) = 13231 пользователь\n",
    "`research_center` (исследовательский центр) = 7671 пользователь\n",
    "\n",
    "Столбец `user_id` - идентификатор пользователя\n",
    "\n",
    "- Количество уникальных пользователей - 13576.\n",
    "\n",
    "Столбец `project_type` - тип реализованного проекта\n",
    "\n",
    "- Cуммарное количество пропусков для столбца project_type равно 133773. \n",
    "\n",
    "В столбце представлен только один тип реализованного объекта:\n",
    "\n",
    "- `satellite_orbital_assembly` (разработка орбитальной сборки спутников) = 1866\n",
    "\n",
    "\n",
    "**Таблица `user_source`:**\n",
    "\n",
    "Столбец `user_id` - идентификатор пользователя\n",
    "\n",
    "- Количество уникальных пользователей - 13576.\n",
    "\n",
    "Столбец `source` - источник, с которого пришёл пользователь, установивший приложение\n",
    "\n",
    "Распределение уникальных пользователей по источникам трафика:\n",
    "\n",
    "- `yandex_direct` = 4817 пользователей\n",
    "- `instagram_new_adverts` = 3347 пользователей\n",
    "- `facebook_ads` = 2726 пользователей\n",
    "- `youtube_channel_reklama` = 2686 пользователей\n",
    "\n",
    "Аналогично распределению стоимости кликов, больше всего пользователей приходится на источник трафика `yandex_direct`, на втором месте `instagram_new_adverts`, на третьем месте `facebook_ads`, а меньше всего - на `youtube_channel_reklama`."
   ]
  },
  {
   "cell_type": "markdown",
   "metadata": {},
   "source": [
    "## Исследовательский анализ данных."
   ]
  },
  {
   "cell_type": "markdown",
   "metadata": {},
   "source": [
    "### Среднее время прохождения уровня."
   ]
  },
  {
   "cell_type": "code",
   "execution_count": 42,
   "metadata": {},
   "outputs": [
    {
     "data": {
      "text/html": [
       "<div>\n",
       "<style scoped>\n",
       "    .dataframe tbody tr th:only-of-type {\n",
       "        vertical-align: middle;\n",
       "    }\n",
       "\n",
       "    .dataframe tbody tr th {\n",
       "        vertical-align: top;\n",
       "    }\n",
       "\n",
       "    .dataframe thead th {\n",
       "        text-align: right;\n",
       "    }\n",
       "</style>\n",
       "<table border=\"1\" class=\"dataframe\">\n",
       "  <thead>\n",
       "    <tr style=\"text-align: right;\">\n",
       "      <th></th>\n",
       "      <th>event_datetime</th>\n",
       "      <th>event</th>\n",
       "      <th>building_type</th>\n",
       "      <th>user_id</th>\n",
       "      <th>project_type</th>\n",
       "      <th>event_date</th>\n",
       "      <th>event_week</th>\n",
       "    </tr>\n",
       "  </thead>\n",
       "  <tbody>\n",
       "    <tr>\n",
       "      <th>47121</th>\n",
       "      <td>2020-05-08 18:10:25</td>\n",
       "      <td>project</td>\n",
       "      <td>NaN</td>\n",
       "      <td>e3c66498-9d45-4000-9392-f81e6796e7da</td>\n",
       "      <td>satellite_orbital_assembly</td>\n",
       "      <td>2020-05-08</td>\n",
       "      <td>19</td>\n",
       "    </tr>\n",
       "    <tr>\n",
       "      <th>57398</th>\n",
       "      <td>2020-05-09 13:49:11</td>\n",
       "      <td>project</td>\n",
       "      <td>NaN</td>\n",
       "      <td>936e7af6-8338-4703-a1df-fc6c3f5b8e34</td>\n",
       "      <td>satellite_orbital_assembly</td>\n",
       "      <td>2020-05-09</td>\n",
       "      <td>19</td>\n",
       "    </tr>\n",
       "    <tr>\n",
       "      <th>58797</th>\n",
       "      <td>2020-05-09 16:19:33</td>\n",
       "      <td>project</td>\n",
       "      <td>NaN</td>\n",
       "      <td>a4491c86-c498-4f74-a56e-65c136d0e9a1</td>\n",
       "      <td>satellite_orbital_assembly</td>\n",
       "      <td>2020-05-09</td>\n",
       "      <td>19</td>\n",
       "    </tr>\n",
       "    <tr>\n",
       "      <th>61174</th>\n",
       "      <td>2020-05-09 20:29:01</td>\n",
       "      <td>project</td>\n",
       "      <td>NaN</td>\n",
       "      <td>85d9e675-562b-4329-8bbd-14d3b39096be</td>\n",
       "      <td>satellite_orbital_assembly</td>\n",
       "      <td>2020-05-09</td>\n",
       "      <td>19</td>\n",
       "    </tr>\n",
       "    <tr>\n",
       "      <th>63770</th>\n",
       "      <td>2020-05-10 00:57:47</td>\n",
       "      <td>project</td>\n",
       "      <td>NaN</td>\n",
       "      <td>1889ca71-3c57-4e61-9ea6-a711971bbf0a</td>\n",
       "      <td>satellite_orbital_assembly</td>\n",
       "      <td>2020-05-10</td>\n",
       "      <td>19</td>\n",
       "    </tr>\n",
       "  </tbody>\n",
       "</table>\n",
       "</div>"
      ],
      "text/plain": [
       "           event_datetime    event building_type  \\\n",
       "47121 2020-05-08 18:10:25  project           NaN   \n",
       "57398 2020-05-09 13:49:11  project           NaN   \n",
       "58797 2020-05-09 16:19:33  project           NaN   \n",
       "61174 2020-05-09 20:29:01  project           NaN   \n",
       "63770 2020-05-10 00:57:47  project           NaN   \n",
       "\n",
       "                                    user_id                project_type  \\\n",
       "47121  e3c66498-9d45-4000-9392-f81e6796e7da  satellite_orbital_assembly   \n",
       "57398  936e7af6-8338-4703-a1df-fc6c3f5b8e34  satellite_orbital_assembly   \n",
       "58797  a4491c86-c498-4f74-a56e-65c136d0e9a1  satellite_orbital_assembly   \n",
       "61174  85d9e675-562b-4329-8bbd-14d3b39096be  satellite_orbital_assembly   \n",
       "63770  1889ca71-3c57-4e61-9ea6-a711971bbf0a  satellite_orbital_assembly   \n",
       "\n",
       "       event_date  event_week  \n",
       "47121  2020-05-08          19  \n",
       "57398  2020-05-09          19  \n",
       "58797  2020-05-09          19  \n",
       "61174  2020-05-09          19  \n",
       "63770  2020-05-10          19  "
      ]
     },
     "execution_count": 42,
     "metadata": {},
     "output_type": "execute_result"
    }
   ],
   "source": [
    "# Создадим переменную для пользователей, которые завершили уровень через реализацию проекта.\n",
    "\n",
    "user_project = game_actions.query('event == \"project\"')\n",
    "user_project.head()"
   ]
  },
  {
   "cell_type": "code",
   "execution_count": 43,
   "metadata": {},
   "outputs": [
    {
     "data": {
      "text/plain": [
       "47121    e3c66498-9d45-4000-9392-f81e6796e7da\n",
       "57398    936e7af6-8338-4703-a1df-fc6c3f5b8e34\n",
       "58797    a4491c86-c498-4f74-a56e-65c136d0e9a1\n",
       "61174    85d9e675-562b-4329-8bbd-14d3b39096be\n",
       "63770    1889ca71-3c57-4e61-9ea6-a711971bbf0a\n",
       "Name: user_id, dtype: object"
      ]
     },
     "execution_count": 43,
     "metadata": {},
     "output_type": "execute_result"
    }
   ],
   "source": [
    "# Оставим в переменной только id пользователей, которые завершили уровень через реализацию проекта.\n",
    "\n",
    "user_project = user_project['user_id']\n",
    "user_project.head()"
   ]
  },
  {
   "cell_type": "code",
   "execution_count": 44,
   "metadata": {},
   "outputs": [
    {
     "data": {
      "text/html": [
       "<div>\n",
       "<style scoped>\n",
       "    .dataframe tbody tr th:only-of-type {\n",
       "        vertical-align: middle;\n",
       "    }\n",
       "\n",
       "    .dataframe tbody tr th {\n",
       "        vertical-align: top;\n",
       "    }\n",
       "\n",
       "    .dataframe thead th {\n",
       "        text-align: right;\n",
       "    }\n",
       "</style>\n",
       "<table border=\"1\" class=\"dataframe\">\n",
       "  <thead>\n",
       "    <tr style=\"text-align: right;\">\n",
       "      <th></th>\n",
       "      <th>event_datetime</th>\n",
       "      <th>event</th>\n",
       "      <th>building_type</th>\n",
       "      <th>user_id</th>\n",
       "      <th>project_type</th>\n",
       "      <th>event_date</th>\n",
       "      <th>event_week</th>\n",
       "      <th>type</th>\n",
       "    </tr>\n",
       "  </thead>\n",
       "  <tbody>\n",
       "    <tr>\n",
       "      <th>0</th>\n",
       "      <td>2020-05-04 00:00:01</td>\n",
       "      <td>building</td>\n",
       "      <td>assembly_shop</td>\n",
       "      <td>55e92310-cb8e-4754-b622-597e124b03de</td>\n",
       "      <td>NaN</td>\n",
       "      <td>2020-05-04</td>\n",
       "      <td>19</td>\n",
       "      <td>NaN</td>\n",
       "    </tr>\n",
       "    <tr>\n",
       "      <th>1</th>\n",
       "      <td>2020-05-04 00:00:03</td>\n",
       "      <td>building</td>\n",
       "      <td>assembly_shop</td>\n",
       "      <td>c07b1c10-f477-44dc-81dc-ec82254b1347</td>\n",
       "      <td>NaN</td>\n",
       "      <td>2020-05-04</td>\n",
       "      <td>19</td>\n",
       "      <td>NaN</td>\n",
       "    </tr>\n",
       "    <tr>\n",
       "      <th>2</th>\n",
       "      <td>2020-05-04 00:00:16</td>\n",
       "      <td>building</td>\n",
       "      <td>assembly_shop</td>\n",
       "      <td>6edd42cc-e753-4ff6-a947-2107cd560710</td>\n",
       "      <td>NaN</td>\n",
       "      <td>2020-05-04</td>\n",
       "      <td>19</td>\n",
       "      <td>NaN</td>\n",
       "    </tr>\n",
       "    <tr>\n",
       "      <th>3</th>\n",
       "      <td>2020-05-04 00:00:16</td>\n",
       "      <td>building</td>\n",
       "      <td>assembly_shop</td>\n",
       "      <td>92c69003-d60a-444a-827f-8cc51bf6bf4c</td>\n",
       "      <td>NaN</td>\n",
       "      <td>2020-05-04</td>\n",
       "      <td>19</td>\n",
       "      <td>NaN</td>\n",
       "    </tr>\n",
       "    <tr>\n",
       "      <th>4</th>\n",
       "      <td>2020-05-04 00:00:35</td>\n",
       "      <td>building</td>\n",
       "      <td>assembly_shop</td>\n",
       "      <td>cdc6bb92-0ccb-4490-9866-ef142f09139d</td>\n",
       "      <td>NaN</td>\n",
       "      <td>2020-05-04</td>\n",
       "      <td>19</td>\n",
       "      <td>NaN</td>\n",
       "    </tr>\n",
       "  </tbody>\n",
       "</table>\n",
       "</div>"
      ],
      "text/plain": [
       "       event_datetime     event  building_type  \\\n",
       "0 2020-05-04 00:00:01  building  assembly_shop   \n",
       "1 2020-05-04 00:00:03  building  assembly_shop   \n",
       "2 2020-05-04 00:00:16  building  assembly_shop   \n",
       "3 2020-05-04 00:00:16  building  assembly_shop   \n",
       "4 2020-05-04 00:00:35  building  assembly_shop   \n",
       "\n",
       "                                user_id project_type  event_date  event_week  \\\n",
       "0  55e92310-cb8e-4754-b622-597e124b03de          NaN  2020-05-04          19   \n",
       "1  c07b1c10-f477-44dc-81dc-ec82254b1347          NaN  2020-05-04          19   \n",
       "2  6edd42cc-e753-4ff6-a947-2107cd560710          NaN  2020-05-04          19   \n",
       "3  92c69003-d60a-444a-827f-8cc51bf6bf4c          NaN  2020-05-04          19   \n",
       "4  cdc6bb92-0ccb-4490-9866-ef142f09139d          NaN  2020-05-04          19   \n",
       "\n",
       "  type  \n",
       "0  NaN  \n",
       "1  NaN  \n",
       "2  NaN  \n",
       "3  NaN  \n",
       "4  NaN  "
      ]
     },
     "execution_count": 44,
     "metadata": {},
     "output_type": "execute_result"
    }
   ],
   "source": [
    "# Создадим новый столбец с вариантом прохождения уровня через реализацию проекта.\n",
    "\n",
    "game_actions.loc[game_actions['event'] == \"project\", 'type'] = 'Реализация проекта'\n",
    "game_actions.head()"
   ]
  },
  {
   "cell_type": "code",
   "execution_count": 45,
   "metadata": {},
   "outputs": [
    {
     "data": {
      "text/html": [
       "<div>\n",
       "<style scoped>\n",
       "    .dataframe tbody tr th:only-of-type {\n",
       "        vertical-align: middle;\n",
       "    }\n",
       "\n",
       "    .dataframe tbody tr th {\n",
       "        vertical-align: top;\n",
       "    }\n",
       "\n",
       "    .dataframe thead th {\n",
       "        text-align: right;\n",
       "    }\n",
       "</style>\n",
       "<table border=\"1\" class=\"dataframe\">\n",
       "  <thead>\n",
       "    <tr style=\"text-align: right;\">\n",
       "      <th></th>\n",
       "      <th>event_datetime</th>\n",
       "      <th>event</th>\n",
       "      <th>building_type</th>\n",
       "      <th>user_id</th>\n",
       "      <th>project_type</th>\n",
       "      <th>event_date</th>\n",
       "      <th>event_week</th>\n",
       "      <th>type</th>\n",
       "    </tr>\n",
       "  </thead>\n",
       "  <tbody>\n",
       "    <tr>\n",
       "      <th>0</th>\n",
       "      <td>2020-05-04 00:00:01</td>\n",
       "      <td>building</td>\n",
       "      <td>assembly_shop</td>\n",
       "      <td>55e92310-cb8e-4754-b622-597e124b03de</td>\n",
       "      <td>NaN</td>\n",
       "      <td>2020-05-04</td>\n",
       "      <td>19</td>\n",
       "      <td>NaN</td>\n",
       "    </tr>\n",
       "    <tr>\n",
       "      <th>1</th>\n",
       "      <td>2020-05-04 00:00:03</td>\n",
       "      <td>building</td>\n",
       "      <td>assembly_shop</td>\n",
       "      <td>c07b1c10-f477-44dc-81dc-ec82254b1347</td>\n",
       "      <td>NaN</td>\n",
       "      <td>2020-05-04</td>\n",
       "      <td>19</td>\n",
       "      <td>NaN</td>\n",
       "    </tr>\n",
       "    <tr>\n",
       "      <th>2</th>\n",
       "      <td>2020-05-04 00:00:16</td>\n",
       "      <td>building</td>\n",
       "      <td>assembly_shop</td>\n",
       "      <td>6edd42cc-e753-4ff6-a947-2107cd560710</td>\n",
       "      <td>NaN</td>\n",
       "      <td>2020-05-04</td>\n",
       "      <td>19</td>\n",
       "      <td>NaN</td>\n",
       "    </tr>\n",
       "    <tr>\n",
       "      <th>3</th>\n",
       "      <td>2020-05-04 00:00:16</td>\n",
       "      <td>building</td>\n",
       "      <td>assembly_shop</td>\n",
       "      <td>92c69003-d60a-444a-827f-8cc51bf6bf4c</td>\n",
       "      <td>NaN</td>\n",
       "      <td>2020-05-04</td>\n",
       "      <td>19</td>\n",
       "      <td>NaN</td>\n",
       "    </tr>\n",
       "    <tr>\n",
       "      <th>4</th>\n",
       "      <td>2020-05-04 00:00:35</td>\n",
       "      <td>building</td>\n",
       "      <td>assembly_shop</td>\n",
       "      <td>cdc6bb92-0ccb-4490-9866-ef142f09139d</td>\n",
       "      <td>NaN</td>\n",
       "      <td>2020-05-04</td>\n",
       "      <td>19</td>\n",
       "      <td>NaN</td>\n",
       "    </tr>\n",
       "  </tbody>\n",
       "</table>\n",
       "</div>"
      ],
      "text/plain": [
       "       event_datetime     event  building_type  \\\n",
       "0 2020-05-04 00:00:01  building  assembly_shop   \n",
       "1 2020-05-04 00:00:03  building  assembly_shop   \n",
       "2 2020-05-04 00:00:16  building  assembly_shop   \n",
       "3 2020-05-04 00:00:16  building  assembly_shop   \n",
       "4 2020-05-04 00:00:35  building  assembly_shop   \n",
       "\n",
       "                                user_id project_type  event_date  event_week  \\\n",
       "0  55e92310-cb8e-4754-b622-597e124b03de          NaN  2020-05-04          19   \n",
       "1  c07b1c10-f477-44dc-81dc-ec82254b1347          NaN  2020-05-04          19   \n",
       "2  6edd42cc-e753-4ff6-a947-2107cd560710          NaN  2020-05-04          19   \n",
       "3  92c69003-d60a-444a-827f-8cc51bf6bf4c          NaN  2020-05-04          19   \n",
       "4  cdc6bb92-0ccb-4490-9866-ef142f09139d          NaN  2020-05-04          19   \n",
       "\n",
       "  type  \n",
       "0  NaN  \n",
       "1  NaN  \n",
       "2  NaN  \n",
       "3  NaN  \n",
       "4  NaN  "
      ]
     },
     "execution_count": 45,
     "metadata": {},
     "output_type": "execute_result"
    }
   ],
   "source": [
    "# Добавим в новый столбец данные с вариантом прохождения уровня черех победу над первым врагом\n",
    "\n",
    "game_actions.loc[(game_actions['event'] == \"finished_stage_1\") \n",
    "                  & (~game_actions['user_id'].isin(user_project)), 'type'] = 'Победа над первым врагом'\n",
    "game_actions.head()"
   ]
  },
  {
   "cell_type": "code",
   "execution_count": 46,
   "metadata": {},
   "outputs": [
    {
     "data": {
      "text/html": [
       "<div>\n",
       "<style scoped>\n",
       "    .dataframe tbody tr th:only-of-type {\n",
       "        vertical-align: middle;\n",
       "    }\n",
       "\n",
       "    .dataframe tbody tr th {\n",
       "        vertical-align: top;\n",
       "    }\n",
       "\n",
       "    .dataframe thead th {\n",
       "        text-align: right;\n",
       "    }\n",
       "</style>\n",
       "<table border=\"1\" class=\"dataframe\">\n",
       "  <thead>\n",
       "    <tr style=\"text-align: right;\">\n",
       "      <th></th>\n",
       "      <th>type</th>\n",
       "      <th>user_id</th>\n",
       "      <th>%</th>\n",
       "    </tr>\n",
       "  </thead>\n",
       "  <tbody>\n",
       "    <tr>\n",
       "      <th>0</th>\n",
       "      <td>Победа над первым врагом</td>\n",
       "      <td>3951</td>\n",
       "      <td>29.102829</td>\n",
       "    </tr>\n",
       "    <tr>\n",
       "      <th>1</th>\n",
       "      <td>Реализация проекта</td>\n",
       "      <td>1866</td>\n",
       "      <td>13.744844</td>\n",
       "    </tr>\n",
       "  </tbody>\n",
       "</table>\n",
       "</div>"
      ],
      "text/plain": [
       "                       type  user_id          %\n",
       "0  Победа над первым врагом     3951  29.102829\n",
       "1        Реализация проекта     1866  13.744844"
      ]
     },
     "execution_count": 46,
     "metadata": {},
     "output_type": "execute_result"
    }
   ],
   "source": [
    "# Посмотрим, как распределились уникальные пользователи по типу прохождения уровня.\n",
    "\n",
    "type_event = game_actions.groupby('type').agg({'user_id':'nunique'}).reset_index().sort_values(by = 'user_id', ascending = False)\n",
    "type_event['%'] = type_event['user_id'] / game_actions['user_id'].nunique() * 100\n",
    "type_event"
   ]
  },
  {
   "cell_type": "code",
   "execution_count": 47,
   "metadata": {},
   "outputs": [
    {
     "data": {
      "text/html": [
       "<div>\n",
       "<style scoped>\n",
       "    .dataframe tbody tr th:only-of-type {\n",
       "        vertical-align: middle;\n",
       "    }\n",
       "\n",
       "    .dataframe tbody tr th {\n",
       "        vertical-align: top;\n",
       "    }\n",
       "\n",
       "    .dataframe thead th {\n",
       "        text-align: right;\n",
       "    }\n",
       "</style>\n",
       "<table border=\"1\" class=\"dataframe\">\n",
       "  <thead>\n",
       "    <tr style=\"text-align: right;\">\n",
       "      <th></th>\n",
       "      <th>win_game_date</th>\n",
       "      <th>type</th>\n",
       "    </tr>\n",
       "    <tr>\n",
       "      <th>user_id</th>\n",
       "      <th></th>\n",
       "      <th></th>\n",
       "    </tr>\n",
       "  </thead>\n",
       "  <tbody>\n",
       "    <tr>\n",
       "      <th>001d39dc-366c-4021-9604-6a3b9ff01e25</th>\n",
       "      <td>2020-05-12 07:40:47</td>\n",
       "      <td>Победа над первым врагом</td>\n",
       "    </tr>\n",
       "    <tr>\n",
       "      <th>003ee7e8-6356-4286-a715-62f22a18d2a1</th>\n",
       "      <td>2020-05-17 21:47:49</td>\n",
       "      <td>Победа над первым врагом</td>\n",
       "    </tr>\n",
       "    <tr>\n",
       "      <th>004074f8-251a-4776-922c-8348dca1a2f6</th>\n",
       "      <td>2020-05-16 19:57:40</td>\n",
       "      <td>Победа над первым врагом</td>\n",
       "    </tr>\n",
       "    <tr>\n",
       "      <th>00464e5e-28ed-4be6-bf44-517ef7b3937b</th>\n",
       "      <td>2020-05-15 16:02:01</td>\n",
       "      <td>Победа над первым врагом</td>\n",
       "    </tr>\n",
       "    <tr>\n",
       "      <th>0056c007-c082-43cc-bdef-afc49bca4cb9</th>\n",
       "      <td>2020-05-16 13:48:39</td>\n",
       "      <td>Победа над первым врагом</td>\n",
       "    </tr>\n",
       "    <tr>\n",
       "      <th>...</th>\n",
       "      <td>...</td>\n",
       "      <td>...</td>\n",
       "    </tr>\n",
       "    <tr>\n",
       "      <th>ffd002f3-3545-423e-8dba-0c6a2d48a3aa</th>\n",
       "      <td>2020-05-19 04:03:24</td>\n",
       "      <td>Победа над первым врагом</td>\n",
       "    </tr>\n",
       "    <tr>\n",
       "      <th>ffe810f4-1a1f-464b-924d-6f120b0cb8df</th>\n",
       "      <td>2020-05-18 02:03:36</td>\n",
       "      <td>Победа над первым врагом</td>\n",
       "    </tr>\n",
       "    <tr>\n",
       "      <th>ffef4fed-164c-40e1-bde1-3980f76d0fb5</th>\n",
       "      <td>2020-05-11 22:15:54</td>\n",
       "      <td>Победа над первым врагом</td>\n",
       "    </tr>\n",
       "    <tr>\n",
       "      <th>fffb626c-5ab6-47c9-8113-2062a2f18494</th>\n",
       "      <td>2020-05-12 13:01:52</td>\n",
       "      <td>Победа над первым врагом</td>\n",
       "    </tr>\n",
       "    <tr>\n",
       "      <th>ffff69cc-fec1-4fd3-9f98-93be1112a6b8</th>\n",
       "      <td>2020-05-25 03:55:06</td>\n",
       "      <td>Реализация проекта</td>\n",
       "    </tr>\n",
       "  </tbody>\n",
       "</table>\n",
       "<p>5817 rows × 2 columns</p>\n",
       "</div>"
      ],
      "text/plain": [
       "                                           win_game_date  \\\n",
       "user_id                                                    \n",
       "001d39dc-366c-4021-9604-6a3b9ff01e25 2020-05-12 07:40:47   \n",
       "003ee7e8-6356-4286-a715-62f22a18d2a1 2020-05-17 21:47:49   \n",
       "004074f8-251a-4776-922c-8348dca1a2f6 2020-05-16 19:57:40   \n",
       "00464e5e-28ed-4be6-bf44-517ef7b3937b 2020-05-15 16:02:01   \n",
       "0056c007-c082-43cc-bdef-afc49bca4cb9 2020-05-16 13:48:39   \n",
       "...                                                  ...   \n",
       "ffd002f3-3545-423e-8dba-0c6a2d48a3aa 2020-05-19 04:03:24   \n",
       "ffe810f4-1a1f-464b-924d-6f120b0cb8df 2020-05-18 02:03:36   \n",
       "ffef4fed-164c-40e1-bde1-3980f76d0fb5 2020-05-11 22:15:54   \n",
       "fffb626c-5ab6-47c9-8113-2062a2f18494 2020-05-12 13:01:52   \n",
       "ffff69cc-fec1-4fd3-9f98-93be1112a6b8 2020-05-25 03:55:06   \n",
       "\n",
       "                                                          type  \n",
       "user_id                                                         \n",
       "001d39dc-366c-4021-9604-6a3b9ff01e25  Победа над первым врагом  \n",
       "003ee7e8-6356-4286-a715-62f22a18d2a1  Победа над первым врагом  \n",
       "004074f8-251a-4776-922c-8348dca1a2f6  Победа над первым врагом  \n",
       "00464e5e-28ed-4be6-bf44-517ef7b3937b  Победа над первым врагом  \n",
       "0056c007-c082-43cc-bdef-afc49bca4cb9  Победа над первым врагом  \n",
       "...                                                        ...  \n",
       "ffd002f3-3545-423e-8dba-0c6a2d48a3aa  Победа над первым врагом  \n",
       "ffe810f4-1a1f-464b-924d-6f120b0cb8df  Победа над первым врагом  \n",
       "ffef4fed-164c-40e1-bde1-3980f76d0fb5  Победа над первым врагом  \n",
       "fffb626c-5ab6-47c9-8113-2062a2f18494  Победа над первым врагом  \n",
       "ffff69cc-fec1-4fd3-9f98-93be1112a6b8        Реализация проекта  \n",
       "\n",
       "[5817 rows x 2 columns]"
      ]
     },
     "execution_count": 47,
     "metadata": {},
     "output_type": "execute_result"
    }
   ],
   "source": [
    "# Подсчитаем минимальную дату победы для каждого пользователя.\n",
    "\n",
    "win_game_date = game_actions.query('type == type').groupby('user_id'\n",
    "                                                          ).agg({'event_datetime':'min', 'type':'min'}\n",
    "                                                               ).rename(columns = {'event_datetime': 'win_game_date'})\n",
    "win_game_date"
   ]
  },
  {
   "cell_type": "code",
   "execution_count": 48,
   "metadata": {},
   "outputs": [
    {
     "data": {
      "text/html": [
       "<div>\n",
       "<style scoped>\n",
       "    .dataframe tbody tr th:only-of-type {\n",
       "        vertical-align: middle;\n",
       "    }\n",
       "\n",
       "    .dataframe tbody tr th {\n",
       "        vertical-align: top;\n",
       "    }\n",
       "\n",
       "    .dataframe thead th {\n",
       "        text-align: right;\n",
       "    }\n",
       "</style>\n",
       "<table border=\"1\" class=\"dataframe\">\n",
       "  <thead>\n",
       "    <tr style=\"text-align: right;\">\n",
       "      <th></th>\n",
       "      <th>start_game_date</th>\n",
       "    </tr>\n",
       "    <tr>\n",
       "      <th>user_id</th>\n",
       "      <th></th>\n",
       "    </tr>\n",
       "  </thead>\n",
       "  <tbody>\n",
       "    <tr>\n",
       "      <th>0001f83c-c6ac-4621-b7f0-8a28b283ac30</th>\n",
       "      <td>2020-05-06 01:07:37</td>\n",
       "    </tr>\n",
       "    <tr>\n",
       "      <th>00151b4f-ba38-44a8-a650-d7cf130a0105</th>\n",
       "      <td>2020-05-06 03:09:12</td>\n",
       "    </tr>\n",
       "    <tr>\n",
       "      <th>001aaea6-3d14-43f1-8ca8-7f48820f17aa</th>\n",
       "      <td>2020-05-05 18:08:52</td>\n",
       "    </tr>\n",
       "    <tr>\n",
       "      <th>001d39dc-366c-4021-9604-6a3b9ff01e25</th>\n",
       "      <td>2020-05-05 21:02:05</td>\n",
       "    </tr>\n",
       "    <tr>\n",
       "      <th>002f508f-67b6-479f-814b-b05f00d4e995</th>\n",
       "      <td>2020-05-05 13:49:58</td>\n",
       "    </tr>\n",
       "    <tr>\n",
       "      <th>...</th>\n",
       "      <td>...</td>\n",
       "    </tr>\n",
       "    <tr>\n",
       "      <th>ffef4fed-164c-40e1-bde1-3980f76d0fb5</th>\n",
       "      <td>2020-05-04 01:58:59</td>\n",
       "    </tr>\n",
       "    <tr>\n",
       "      <th>fffab3da-da0e-4e30-ae62-10d0a2e24a4e</th>\n",
       "      <td>2020-05-04 11:58:14</td>\n",
       "    </tr>\n",
       "    <tr>\n",
       "      <th>fffb626c-5ab6-47c9-8113-2062a2f18494</th>\n",
       "      <td>2020-05-04 02:05:09</td>\n",
       "    </tr>\n",
       "    <tr>\n",
       "      <th>ffff194a-56b7-4c12-860d-3485242ae7f5</th>\n",
       "      <td>2020-05-04 20:28:28</td>\n",
       "    </tr>\n",
       "    <tr>\n",
       "      <th>ffff69cc-fec1-4fd3-9f98-93be1112a6b8</th>\n",
       "      <td>2020-05-08 06:57:30</td>\n",
       "    </tr>\n",
       "  </tbody>\n",
       "</table>\n",
       "<p>13576 rows × 1 columns</p>\n",
       "</div>"
      ],
      "text/plain": [
       "                                         start_game_date\n",
       "user_id                                                 \n",
       "0001f83c-c6ac-4621-b7f0-8a28b283ac30 2020-05-06 01:07:37\n",
       "00151b4f-ba38-44a8-a650-d7cf130a0105 2020-05-06 03:09:12\n",
       "001aaea6-3d14-43f1-8ca8-7f48820f17aa 2020-05-05 18:08:52\n",
       "001d39dc-366c-4021-9604-6a3b9ff01e25 2020-05-05 21:02:05\n",
       "002f508f-67b6-479f-814b-b05f00d4e995 2020-05-05 13:49:58\n",
       "...                                                  ...\n",
       "ffef4fed-164c-40e1-bde1-3980f76d0fb5 2020-05-04 01:58:59\n",
       "fffab3da-da0e-4e30-ae62-10d0a2e24a4e 2020-05-04 11:58:14\n",
       "fffb626c-5ab6-47c9-8113-2062a2f18494 2020-05-04 02:05:09\n",
       "ffff194a-56b7-4c12-860d-3485242ae7f5 2020-05-04 20:28:28\n",
       "ffff69cc-fec1-4fd3-9f98-93be1112a6b8 2020-05-08 06:57:30\n",
       "\n",
       "[13576 rows x 1 columns]"
      ]
     },
     "execution_count": 48,
     "metadata": {},
     "output_type": "execute_result"
    }
   ],
   "source": [
    "# Вычислим дату начала игры для каждого пользователя.\n",
    "\n",
    "start_game_date = game_actions.groupby('user_id').agg({'event_datetime':'min'}\n",
    "                                                     ).rename(columns = {'event_datetime': 'start_game_date'})\n",
    "start_game_date"
   ]
  },
  {
   "cell_type": "code",
   "execution_count": 49,
   "metadata": {},
   "outputs": [
    {
     "data": {
      "text/html": [
       "<div>\n",
       "<style scoped>\n",
       "    .dataframe tbody tr th:only-of-type {\n",
       "        vertical-align: middle;\n",
       "    }\n",
       "\n",
       "    .dataframe tbody tr th {\n",
       "        vertical-align: top;\n",
       "    }\n",
       "\n",
       "    .dataframe thead th {\n",
       "        text-align: right;\n",
       "    }\n",
       "</style>\n",
       "<table border=\"1\" class=\"dataframe\">\n",
       "  <thead>\n",
       "    <tr style=\"text-align: right;\">\n",
       "      <th></th>\n",
       "      <th>user_id</th>\n",
       "      <th>win_game_date</th>\n",
       "      <th>type</th>\n",
       "      <th>start_game_date</th>\n",
       "    </tr>\n",
       "  </thead>\n",
       "  <tbody>\n",
       "    <tr>\n",
       "      <th>0</th>\n",
       "      <td>001d39dc-366c-4021-9604-6a3b9ff01e25</td>\n",
       "      <td>2020-05-12 07:40:47</td>\n",
       "      <td>Победа над первым врагом</td>\n",
       "      <td>2020-05-05 21:02:05</td>\n",
       "    </tr>\n",
       "    <tr>\n",
       "      <th>1</th>\n",
       "      <td>003ee7e8-6356-4286-a715-62f22a18d2a1</td>\n",
       "      <td>2020-05-17 21:47:49</td>\n",
       "      <td>Победа над первым врагом</td>\n",
       "      <td>2020-05-05 08:31:04</td>\n",
       "    </tr>\n",
       "    <tr>\n",
       "      <th>2</th>\n",
       "      <td>004074f8-251a-4776-922c-8348dca1a2f6</td>\n",
       "      <td>2020-05-16 19:57:40</td>\n",
       "      <td>Победа над первым врагом</td>\n",
       "      <td>2020-05-04 01:07:35</td>\n",
       "    </tr>\n",
       "    <tr>\n",
       "      <th>3</th>\n",
       "      <td>00464e5e-28ed-4be6-bf44-517ef7b3937b</td>\n",
       "      <td>2020-05-15 16:02:01</td>\n",
       "      <td>Победа над первым врагом</td>\n",
       "      <td>2020-05-04 08:35:29</td>\n",
       "    </tr>\n",
       "    <tr>\n",
       "      <th>4</th>\n",
       "      <td>0056c007-c082-43cc-bdef-afc49bca4cb9</td>\n",
       "      <td>2020-05-16 13:48:39</td>\n",
       "      <td>Победа над первым врагом</td>\n",
       "      <td>2020-05-10 11:49:47</td>\n",
       "    </tr>\n",
       "    <tr>\n",
       "      <th>...</th>\n",
       "      <td>...</td>\n",
       "      <td>...</td>\n",
       "      <td>...</td>\n",
       "      <td>...</td>\n",
       "    </tr>\n",
       "    <tr>\n",
       "      <th>5812</th>\n",
       "      <td>ffd002f3-3545-423e-8dba-0c6a2d48a3aa</td>\n",
       "      <td>2020-05-19 04:03:24</td>\n",
       "      <td>Победа над первым врагом</td>\n",
       "      <td>2020-05-06 06:34:18</td>\n",
       "    </tr>\n",
       "    <tr>\n",
       "      <th>5813</th>\n",
       "      <td>ffe810f4-1a1f-464b-924d-6f120b0cb8df</td>\n",
       "      <td>2020-05-18 02:03:36</td>\n",
       "      <td>Победа над первым врагом</td>\n",
       "      <td>2020-05-04 17:46:05</td>\n",
       "    </tr>\n",
       "    <tr>\n",
       "      <th>5814</th>\n",
       "      <td>ffef4fed-164c-40e1-bde1-3980f76d0fb5</td>\n",
       "      <td>2020-05-11 22:15:54</td>\n",
       "      <td>Победа над первым врагом</td>\n",
       "      <td>2020-05-04 01:58:59</td>\n",
       "    </tr>\n",
       "    <tr>\n",
       "      <th>5815</th>\n",
       "      <td>fffb626c-5ab6-47c9-8113-2062a2f18494</td>\n",
       "      <td>2020-05-12 13:01:52</td>\n",
       "      <td>Победа над первым врагом</td>\n",
       "      <td>2020-05-04 02:05:09</td>\n",
       "    </tr>\n",
       "    <tr>\n",
       "      <th>5816</th>\n",
       "      <td>ffff69cc-fec1-4fd3-9f98-93be1112a6b8</td>\n",
       "      <td>2020-05-25 03:55:06</td>\n",
       "      <td>Реализация проекта</td>\n",
       "      <td>2020-05-08 06:57:30</td>\n",
       "    </tr>\n",
       "  </tbody>\n",
       "</table>\n",
       "<p>5817 rows × 4 columns</p>\n",
       "</div>"
      ],
      "text/plain": [
       "                                   user_id       win_game_date  \\\n",
       "0     001d39dc-366c-4021-9604-6a3b9ff01e25 2020-05-12 07:40:47   \n",
       "1     003ee7e8-6356-4286-a715-62f22a18d2a1 2020-05-17 21:47:49   \n",
       "2     004074f8-251a-4776-922c-8348dca1a2f6 2020-05-16 19:57:40   \n",
       "3     00464e5e-28ed-4be6-bf44-517ef7b3937b 2020-05-15 16:02:01   \n",
       "4     0056c007-c082-43cc-bdef-afc49bca4cb9 2020-05-16 13:48:39   \n",
       "...                                    ...                 ...   \n",
       "5812  ffd002f3-3545-423e-8dba-0c6a2d48a3aa 2020-05-19 04:03:24   \n",
       "5813  ffe810f4-1a1f-464b-924d-6f120b0cb8df 2020-05-18 02:03:36   \n",
       "5814  ffef4fed-164c-40e1-bde1-3980f76d0fb5 2020-05-11 22:15:54   \n",
       "5815  fffb626c-5ab6-47c9-8113-2062a2f18494 2020-05-12 13:01:52   \n",
       "5816  ffff69cc-fec1-4fd3-9f98-93be1112a6b8 2020-05-25 03:55:06   \n",
       "\n",
       "                          type     start_game_date  \n",
       "0     Победа над первым врагом 2020-05-05 21:02:05  \n",
       "1     Победа над первым врагом 2020-05-05 08:31:04  \n",
       "2     Победа над первым врагом 2020-05-04 01:07:35  \n",
       "3     Победа над первым врагом 2020-05-04 08:35:29  \n",
       "4     Победа над первым врагом 2020-05-10 11:49:47  \n",
       "...                        ...                 ...  \n",
       "5812  Победа над первым врагом 2020-05-06 06:34:18  \n",
       "5813  Победа над первым врагом 2020-05-04 17:46:05  \n",
       "5814  Победа над первым врагом 2020-05-04 01:58:59  \n",
       "5815  Победа над первым врагом 2020-05-04 02:05:09  \n",
       "5816        Реализация проекта 2020-05-08 06:57:30  \n",
       "\n",
       "[5817 rows x 4 columns]"
      ]
     },
     "execution_count": 49,
     "metadata": {},
     "output_type": "execute_result"
    }
   ],
   "source": [
    "# Объединим `win_game_date` и `start_game_date`\n",
    "\n",
    "merge_game = win_game_date.merge(start_game_date, how='inner', on = 'user_id').reset_index()\n",
    "merge_game"
   ]
  },
  {
   "cell_type": "code",
   "execution_count": 50,
   "metadata": {},
   "outputs": [
    {
     "data": {
      "text/html": [
       "<div>\n",
       "<style scoped>\n",
       "    .dataframe tbody tr th:only-of-type {\n",
       "        vertical-align: middle;\n",
       "    }\n",
       "\n",
       "    .dataframe tbody tr th {\n",
       "        vertical-align: top;\n",
       "    }\n",
       "\n",
       "    .dataframe thead th {\n",
       "        text-align: right;\n",
       "    }\n",
       "</style>\n",
       "<table border=\"1\" class=\"dataframe\">\n",
       "  <thead>\n",
       "    <tr style=\"text-align: right;\">\n",
       "      <th></th>\n",
       "      <th>user_id</th>\n",
       "      <th>win_game_date</th>\n",
       "      <th>type</th>\n",
       "      <th>start_game_date</th>\n",
       "      <th>game_time</th>\n",
       "    </tr>\n",
       "  </thead>\n",
       "  <tbody>\n",
       "    <tr>\n",
       "      <th>0</th>\n",
       "      <td>001d39dc-366c-4021-9604-6a3b9ff01e25</td>\n",
       "      <td>2020-05-12 07:40:47</td>\n",
       "      <td>Победа над первым врагом</td>\n",
       "      <td>2020-05-05 21:02:05</td>\n",
       "      <td>6 days 10:38:42</td>\n",
       "    </tr>\n",
       "    <tr>\n",
       "      <th>1</th>\n",
       "      <td>003ee7e8-6356-4286-a715-62f22a18d2a1</td>\n",
       "      <td>2020-05-17 21:47:49</td>\n",
       "      <td>Победа над первым врагом</td>\n",
       "      <td>2020-05-05 08:31:04</td>\n",
       "      <td>12 days 13:16:45</td>\n",
       "    </tr>\n",
       "    <tr>\n",
       "      <th>2</th>\n",
       "      <td>004074f8-251a-4776-922c-8348dca1a2f6</td>\n",
       "      <td>2020-05-16 19:57:40</td>\n",
       "      <td>Победа над первым врагом</td>\n",
       "      <td>2020-05-04 01:07:35</td>\n",
       "      <td>12 days 18:50:05</td>\n",
       "    </tr>\n",
       "    <tr>\n",
       "      <th>3</th>\n",
       "      <td>00464e5e-28ed-4be6-bf44-517ef7b3937b</td>\n",
       "      <td>2020-05-15 16:02:01</td>\n",
       "      <td>Победа над первым врагом</td>\n",
       "      <td>2020-05-04 08:35:29</td>\n",
       "      <td>11 days 07:26:32</td>\n",
       "    </tr>\n",
       "    <tr>\n",
       "      <th>4</th>\n",
       "      <td>0056c007-c082-43cc-bdef-afc49bca4cb9</td>\n",
       "      <td>2020-05-16 13:48:39</td>\n",
       "      <td>Победа над первым врагом</td>\n",
       "      <td>2020-05-10 11:49:47</td>\n",
       "      <td>6 days 01:58:52</td>\n",
       "    </tr>\n",
       "    <tr>\n",
       "      <th>...</th>\n",
       "      <td>...</td>\n",
       "      <td>...</td>\n",
       "      <td>...</td>\n",
       "      <td>...</td>\n",
       "      <td>...</td>\n",
       "    </tr>\n",
       "    <tr>\n",
       "      <th>5812</th>\n",
       "      <td>ffd002f3-3545-423e-8dba-0c6a2d48a3aa</td>\n",
       "      <td>2020-05-19 04:03:24</td>\n",
       "      <td>Победа над первым врагом</td>\n",
       "      <td>2020-05-06 06:34:18</td>\n",
       "      <td>12 days 21:29:06</td>\n",
       "    </tr>\n",
       "    <tr>\n",
       "      <th>5813</th>\n",
       "      <td>ffe810f4-1a1f-464b-924d-6f120b0cb8df</td>\n",
       "      <td>2020-05-18 02:03:36</td>\n",
       "      <td>Победа над первым врагом</td>\n",
       "      <td>2020-05-04 17:46:05</td>\n",
       "      <td>13 days 08:17:31</td>\n",
       "    </tr>\n",
       "    <tr>\n",
       "      <th>5814</th>\n",
       "      <td>ffef4fed-164c-40e1-bde1-3980f76d0fb5</td>\n",
       "      <td>2020-05-11 22:15:54</td>\n",
       "      <td>Победа над первым врагом</td>\n",
       "      <td>2020-05-04 01:58:59</td>\n",
       "      <td>7 days 20:16:55</td>\n",
       "    </tr>\n",
       "    <tr>\n",
       "      <th>5815</th>\n",
       "      <td>fffb626c-5ab6-47c9-8113-2062a2f18494</td>\n",
       "      <td>2020-05-12 13:01:52</td>\n",
       "      <td>Победа над первым врагом</td>\n",
       "      <td>2020-05-04 02:05:09</td>\n",
       "      <td>8 days 10:56:43</td>\n",
       "    </tr>\n",
       "    <tr>\n",
       "      <th>5816</th>\n",
       "      <td>ffff69cc-fec1-4fd3-9f98-93be1112a6b8</td>\n",
       "      <td>2020-05-25 03:55:06</td>\n",
       "      <td>Реализация проекта</td>\n",
       "      <td>2020-05-08 06:57:30</td>\n",
       "      <td>16 days 20:57:36</td>\n",
       "    </tr>\n",
       "  </tbody>\n",
       "</table>\n",
       "<p>5817 rows × 5 columns</p>\n",
       "</div>"
      ],
      "text/plain": [
       "                                   user_id       win_game_date  \\\n",
       "0     001d39dc-366c-4021-9604-6a3b9ff01e25 2020-05-12 07:40:47   \n",
       "1     003ee7e8-6356-4286-a715-62f22a18d2a1 2020-05-17 21:47:49   \n",
       "2     004074f8-251a-4776-922c-8348dca1a2f6 2020-05-16 19:57:40   \n",
       "3     00464e5e-28ed-4be6-bf44-517ef7b3937b 2020-05-15 16:02:01   \n",
       "4     0056c007-c082-43cc-bdef-afc49bca4cb9 2020-05-16 13:48:39   \n",
       "...                                    ...                 ...   \n",
       "5812  ffd002f3-3545-423e-8dba-0c6a2d48a3aa 2020-05-19 04:03:24   \n",
       "5813  ffe810f4-1a1f-464b-924d-6f120b0cb8df 2020-05-18 02:03:36   \n",
       "5814  ffef4fed-164c-40e1-bde1-3980f76d0fb5 2020-05-11 22:15:54   \n",
       "5815  fffb626c-5ab6-47c9-8113-2062a2f18494 2020-05-12 13:01:52   \n",
       "5816  ffff69cc-fec1-4fd3-9f98-93be1112a6b8 2020-05-25 03:55:06   \n",
       "\n",
       "                          type     start_game_date        game_time  \n",
       "0     Победа над первым врагом 2020-05-05 21:02:05  6 days 10:38:42  \n",
       "1     Победа над первым врагом 2020-05-05 08:31:04 12 days 13:16:45  \n",
       "2     Победа над первым врагом 2020-05-04 01:07:35 12 days 18:50:05  \n",
       "3     Победа над первым врагом 2020-05-04 08:35:29 11 days 07:26:32  \n",
       "4     Победа над первым врагом 2020-05-10 11:49:47  6 days 01:58:52  \n",
       "...                        ...                 ...              ...  \n",
       "5812  Победа над первым врагом 2020-05-06 06:34:18 12 days 21:29:06  \n",
       "5813  Победа над первым врагом 2020-05-04 17:46:05 13 days 08:17:31  \n",
       "5814  Победа над первым врагом 2020-05-04 01:58:59  7 days 20:16:55  \n",
       "5815  Победа над первым врагом 2020-05-04 02:05:09  8 days 10:56:43  \n",
       "5816        Реализация проекта 2020-05-08 06:57:30 16 days 20:57:36  \n",
       "\n",
       "[5817 rows x 5 columns]"
      ]
     },
     "execution_count": 50,
     "metadata": {},
     "output_type": "execute_result"
    }
   ],
   "source": [
    "# Вычислим время прохождения уровня.\n",
    "\n",
    "merge_game['game_time'] = merge_game['win_game_date'] - merge_game['start_game_date']\n",
    "merge_game"
   ]
  },
  {
   "cell_type": "code",
   "execution_count": 51,
   "metadata": {},
   "outputs": [
    {
     "name": "stdout",
     "output_type": "stream",
     "text": [
      "Среднее время прохождения уровня для обоих вариантов победы: 11 days 08:31:30.522262334\n"
     ]
    }
   ],
   "source": [
    "# Подсчитаем среднее время прохождения уровня\n",
    "\n",
    "print('Среднее время прохождения уровня для обоих вариантов победы:',\n",
    "      merge_game['game_time'].mean())"
   ]
  },
  {
   "cell_type": "code",
   "execution_count": 52,
   "metadata": {},
   "outputs": [
    {
     "name": "stdout",
     "output_type": "stream",
     "text": [
      "Медианное время прохождения уровня для обоих вариантов победы: 10 days 23:42:56\n"
     ]
    }
   ],
   "source": [
    "# Подсчитаем медианное время прохождения уровня\n",
    "\n",
    "print('Медианное время прохождения уровня для обоих вариантов победы:',\n",
    "      merge_game['game_time'].median())"
   ]
  },
  {
   "cell_type": "code",
   "execution_count": 53,
   "metadata": {},
   "outputs": [
    {
     "name": "stdout",
     "output_type": "stream",
     "text": [
      "Среднее время прохождения уровня для варианта \"Победа над первым врагом\": 11 days 02:30:24.076183244\n"
     ]
    }
   ],
   "source": [
    "# Подсчитаем среднее время прохождения уровня для военного варианта победы\n",
    "\n",
    "print('Среднее время прохождения уровня для варианта \"Победа над первым врагом\":',\n",
    "      merge_game.query('type == \"Победа над первым врагом\"')['game_time'].mean())"
   ]
  },
  {
   "cell_type": "code",
   "execution_count": 54,
   "metadata": {},
   "outputs": [
    {
     "name": "stdout",
     "output_type": "stream",
     "text": [
      "Медианное время прохождения уровня для варианта \"Победа над первым врагом\": 10 days 19:01:37\n"
     ]
    }
   ],
   "source": [
    "# Подсчитаем медианное время прохождения уровня для военного варианта победы\n",
    "\n",
    "print('Медианное время прохождения уровня для варианта \"Победа над первым врагом\":',\n",
    "      merge_game.query('type == \"Победа над первым врагом\"')['game_time'].median())"
   ]
  },
  {
   "cell_type": "code",
   "execution_count": 55,
   "metadata": {},
   "outputs": [
    {
     "name": "stdout",
     "output_type": "stream",
     "text": [
      "Среднее время прохождения уровня для варианта \"Реализация проекта\": 11 days 21:16:06.260986066\n"
     ]
    }
   ],
   "source": [
    "# Подсчитаем среднее время прохождения уровня для мирного варианта победы\n",
    "\n",
    "print('Среднее время прохождения уровня для варианта \"Реализация проекта\":',\n",
    "      merge_game.query('type == \"Реализация проекта\"')['game_time'].mean())"
   ]
  },
  {
   "cell_type": "code",
   "execution_count": 56,
   "metadata": {},
   "outputs": [
    {
     "name": "stdout",
     "output_type": "stream",
     "text": [
      "Медианное время прохождения уровня для варианта \"Реализация проекта\": 11 days 07:12:24\n"
     ]
    }
   ],
   "source": [
    "# Подсчитаем медианное время прохождения уровня для мирного варианта победы\n",
    "\n",
    "print('Медианное время прохождения уровня для варианта \"Реализация проекта\":',\n",
    "      merge_game.query('type == \"Реализация проекта\"')['game_time'].median())"
   ]
  },
  {
   "cell_type": "code",
   "execution_count": 57,
   "metadata": {},
   "outputs": [],
   "source": [
    "# Добавим столбец с датой начала игры\n",
    "\n",
    "merge_game['start_game_day'] = merge_game['start_game_date'].dt.date"
   ]
  },
  {
   "cell_type": "code",
   "execution_count": 58,
   "metadata": {},
   "outputs": [
    {
     "data": {
      "text/html": [
       "<div>\n",
       "<style scoped>\n",
       "    .dataframe tbody tr th:only-of-type {\n",
       "        vertical-align: middle;\n",
       "    }\n",
       "\n",
       "    .dataframe tbody tr th {\n",
       "        vertical-align: top;\n",
       "    }\n",
       "\n",
       "    .dataframe thead th {\n",
       "        text-align: right;\n",
       "    }\n",
       "</style>\n",
       "<table border=\"1\" class=\"dataframe\">\n",
       "  <thead>\n",
       "    <tr style=\"text-align: right;\">\n",
       "      <th></th>\n",
       "      <th>user_id</th>\n",
       "      <th>win_game_date</th>\n",
       "      <th>type</th>\n",
       "      <th>start_game_date</th>\n",
       "      <th>game_time</th>\n",
       "      <th>start_game_day</th>\n",
       "      <th>game_day</th>\n",
       "    </tr>\n",
       "  </thead>\n",
       "  <tbody>\n",
       "    <tr>\n",
       "      <th>0</th>\n",
       "      <td>001d39dc-366c-4021-9604-6a3b9ff01e25</td>\n",
       "      <td>2020-05-12 07:40:47</td>\n",
       "      <td>Победа над первым врагом</td>\n",
       "      <td>2020-05-05 21:02:05</td>\n",
       "      <td>6 days 10:38:42</td>\n",
       "      <td>2020-05-05</td>\n",
       "      <td>6</td>\n",
       "    </tr>\n",
       "    <tr>\n",
       "      <th>1</th>\n",
       "      <td>003ee7e8-6356-4286-a715-62f22a18d2a1</td>\n",
       "      <td>2020-05-17 21:47:49</td>\n",
       "      <td>Победа над первым врагом</td>\n",
       "      <td>2020-05-05 08:31:04</td>\n",
       "      <td>12 days 13:16:45</td>\n",
       "      <td>2020-05-05</td>\n",
       "      <td>13</td>\n",
       "    </tr>\n",
       "    <tr>\n",
       "      <th>2</th>\n",
       "      <td>004074f8-251a-4776-922c-8348dca1a2f6</td>\n",
       "      <td>2020-05-16 19:57:40</td>\n",
       "      <td>Победа над первым врагом</td>\n",
       "      <td>2020-05-04 01:07:35</td>\n",
       "      <td>12 days 18:50:05</td>\n",
       "      <td>2020-05-04</td>\n",
       "      <td>13</td>\n",
       "    </tr>\n",
       "    <tr>\n",
       "      <th>3</th>\n",
       "      <td>00464e5e-28ed-4be6-bf44-517ef7b3937b</td>\n",
       "      <td>2020-05-15 16:02:01</td>\n",
       "      <td>Победа над первым врагом</td>\n",
       "      <td>2020-05-04 08:35:29</td>\n",
       "      <td>11 days 07:26:32</td>\n",
       "      <td>2020-05-04</td>\n",
       "      <td>11</td>\n",
       "    </tr>\n",
       "    <tr>\n",
       "      <th>4</th>\n",
       "      <td>0056c007-c082-43cc-bdef-afc49bca4cb9</td>\n",
       "      <td>2020-05-16 13:48:39</td>\n",
       "      <td>Победа над первым врагом</td>\n",
       "      <td>2020-05-10 11:49:47</td>\n",
       "      <td>6 days 01:58:52</td>\n",
       "      <td>2020-05-10</td>\n",
       "      <td>6</td>\n",
       "    </tr>\n",
       "    <tr>\n",
       "      <th>...</th>\n",
       "      <td>...</td>\n",
       "      <td>...</td>\n",
       "      <td>...</td>\n",
       "      <td>...</td>\n",
       "      <td>...</td>\n",
       "      <td>...</td>\n",
       "      <td>...</td>\n",
       "    </tr>\n",
       "    <tr>\n",
       "      <th>5812</th>\n",
       "      <td>ffd002f3-3545-423e-8dba-0c6a2d48a3aa</td>\n",
       "      <td>2020-05-19 04:03:24</td>\n",
       "      <td>Победа над первым врагом</td>\n",
       "      <td>2020-05-06 06:34:18</td>\n",
       "      <td>12 days 21:29:06</td>\n",
       "      <td>2020-05-06</td>\n",
       "      <td>13</td>\n",
       "    </tr>\n",
       "    <tr>\n",
       "      <th>5813</th>\n",
       "      <td>ffe810f4-1a1f-464b-924d-6f120b0cb8df</td>\n",
       "      <td>2020-05-18 02:03:36</td>\n",
       "      <td>Победа над первым врагом</td>\n",
       "      <td>2020-05-04 17:46:05</td>\n",
       "      <td>13 days 08:17:31</td>\n",
       "      <td>2020-05-04</td>\n",
       "      <td>13</td>\n",
       "    </tr>\n",
       "    <tr>\n",
       "      <th>5814</th>\n",
       "      <td>ffef4fed-164c-40e1-bde1-3980f76d0fb5</td>\n",
       "      <td>2020-05-11 22:15:54</td>\n",
       "      <td>Победа над первым врагом</td>\n",
       "      <td>2020-05-04 01:58:59</td>\n",
       "      <td>7 days 20:16:55</td>\n",
       "      <td>2020-05-04</td>\n",
       "      <td>8</td>\n",
       "    </tr>\n",
       "    <tr>\n",
       "      <th>5815</th>\n",
       "      <td>fffb626c-5ab6-47c9-8113-2062a2f18494</td>\n",
       "      <td>2020-05-12 13:01:52</td>\n",
       "      <td>Победа над первым врагом</td>\n",
       "      <td>2020-05-04 02:05:09</td>\n",
       "      <td>8 days 10:56:43</td>\n",
       "      <td>2020-05-04</td>\n",
       "      <td>8</td>\n",
       "    </tr>\n",
       "    <tr>\n",
       "      <th>5816</th>\n",
       "      <td>ffff69cc-fec1-4fd3-9f98-93be1112a6b8</td>\n",
       "      <td>2020-05-25 03:55:06</td>\n",
       "      <td>Реализация проекта</td>\n",
       "      <td>2020-05-08 06:57:30</td>\n",
       "      <td>16 days 20:57:36</td>\n",
       "      <td>2020-05-08</td>\n",
       "      <td>17</td>\n",
       "    </tr>\n",
       "  </tbody>\n",
       "</table>\n",
       "<p>5817 rows × 7 columns</p>\n",
       "</div>"
      ],
      "text/plain": [
       "                                   user_id       win_game_date  \\\n",
       "0     001d39dc-366c-4021-9604-6a3b9ff01e25 2020-05-12 07:40:47   \n",
       "1     003ee7e8-6356-4286-a715-62f22a18d2a1 2020-05-17 21:47:49   \n",
       "2     004074f8-251a-4776-922c-8348dca1a2f6 2020-05-16 19:57:40   \n",
       "3     00464e5e-28ed-4be6-bf44-517ef7b3937b 2020-05-15 16:02:01   \n",
       "4     0056c007-c082-43cc-bdef-afc49bca4cb9 2020-05-16 13:48:39   \n",
       "...                                    ...                 ...   \n",
       "5812  ffd002f3-3545-423e-8dba-0c6a2d48a3aa 2020-05-19 04:03:24   \n",
       "5813  ffe810f4-1a1f-464b-924d-6f120b0cb8df 2020-05-18 02:03:36   \n",
       "5814  ffef4fed-164c-40e1-bde1-3980f76d0fb5 2020-05-11 22:15:54   \n",
       "5815  fffb626c-5ab6-47c9-8113-2062a2f18494 2020-05-12 13:01:52   \n",
       "5816  ffff69cc-fec1-4fd3-9f98-93be1112a6b8 2020-05-25 03:55:06   \n",
       "\n",
       "                          type     start_game_date        game_time  \\\n",
       "0     Победа над первым врагом 2020-05-05 21:02:05  6 days 10:38:42   \n",
       "1     Победа над первым врагом 2020-05-05 08:31:04 12 days 13:16:45   \n",
       "2     Победа над первым врагом 2020-05-04 01:07:35 12 days 18:50:05   \n",
       "3     Победа над первым врагом 2020-05-04 08:35:29 11 days 07:26:32   \n",
       "4     Победа над первым врагом 2020-05-10 11:49:47  6 days 01:58:52   \n",
       "...                        ...                 ...              ...   \n",
       "5812  Победа над первым врагом 2020-05-06 06:34:18 12 days 21:29:06   \n",
       "5813  Победа над первым врагом 2020-05-04 17:46:05 13 days 08:17:31   \n",
       "5814  Победа над первым врагом 2020-05-04 01:58:59  7 days 20:16:55   \n",
       "5815  Победа над первым врагом 2020-05-04 02:05:09  8 days 10:56:43   \n",
       "5816        Реализация проекта 2020-05-08 06:57:30 16 days 20:57:36   \n",
       "\n",
       "     start_game_day  game_day  \n",
       "0        2020-05-05         6  \n",
       "1        2020-05-05        13  \n",
       "2        2020-05-04        13  \n",
       "3        2020-05-04        11  \n",
       "4        2020-05-10         6  \n",
       "...             ...       ...  \n",
       "5812     2020-05-06        13  \n",
       "5813     2020-05-04        13  \n",
       "5814     2020-05-04         8  \n",
       "5815     2020-05-04         8  \n",
       "5816     2020-05-08        17  \n",
       "\n",
       "[5817 rows x 7 columns]"
      ]
     },
     "execution_count": 58,
     "metadata": {},
     "output_type": "execute_result"
    }
   ],
   "source": [
    "# Выделим количество дней до прохождения уровня с округлением до ближайшего целого\n",
    "\n",
    "merge_game['game_day'] = merge_game['game_time'] / np.timedelta64(1, 'D')\n",
    "merge_game['game_day'] = merge_game['game_day'].round().astype('int') \n",
    "\n",
    "merge_game"
   ]
  },
  {
   "cell_type": "code",
   "execution_count": 59,
   "metadata": {},
   "outputs": [
    {
     "data": {
      "text/html": [
       "<div>\n",
       "<style scoped>\n",
       "    .dataframe tbody tr th:only-of-type {\n",
       "        vertical-align: middle;\n",
       "    }\n",
       "\n",
       "    .dataframe tbody tr th {\n",
       "        vertical-align: top;\n",
       "    }\n",
       "\n",
       "    .dataframe thead th {\n",
       "        text-align: right;\n",
       "    }\n",
       "</style>\n",
       "<table border=\"1\" class=\"dataframe\">\n",
       "  <thead>\n",
       "    <tr style=\"text-align: right;\">\n",
       "      <th></th>\n",
       "      <th>type</th>\n",
       "      <th>game_day</th>\n",
       "    </tr>\n",
       "  </thead>\n",
       "  <tbody>\n",
       "    <tr>\n",
       "      <th>1</th>\n",
       "      <td>Реализация проекта</td>\n",
       "      <td>11.877278</td>\n",
       "    </tr>\n",
       "    <tr>\n",
       "      <th>0</th>\n",
       "      <td>Победа над первым врагом</td>\n",
       "      <td>11.108580</td>\n",
       "    </tr>\n",
       "  </tbody>\n",
       "</table>\n",
       "</div>"
      ],
      "text/plain": [
       "                       type   game_day\n",
       "1        Реализация проекта  11.877278\n",
       "0  Победа над первым врагом  11.108580"
      ]
     },
     "execution_count": 59,
     "metadata": {},
     "output_type": "execute_result"
    }
   ],
   "source": [
    "# Среднее количество дней для победы.\n",
    "\n",
    "merge_game_time = merge_game.groupby('type').agg({'game_day':'mean'}\n",
    "                                                ).reset_index().sort_values(by = 'game_day', ascending = False)\n",
    "merge_game_time"
   ]
  },
  {
   "cell_type": "code",
   "execution_count": 60,
   "metadata": {},
   "outputs": [
    {
     "data": {
      "image/png": "[encoded data removed]",
      "text/plain": [
       "<Figure size 1080x720 with 1 Axes>"
      ]
     },
     "metadata": {
      "needs_background": "light"
     },
     "output_type": "display_data"
    }
   ],
   "source": [
    "# Построим график распределения \n",
    "\n",
    "plt.figure(figsize=(15,10))\n",
    "ax = sns.barplot(data=merge_game_time, x='type', y='game_day')\n",
    "for p in ax.patches:\n",
    "    ax.annotate(format(p.get_height(), '.2f'), \n",
    "                   (p.get_x() + p.get_width() / 2., p.get_height()), \n",
    "                   ha = 'center', va = 'center', \n",
    "                   xytext = (0, 9), \n",
    "                   textcoords = 'offset points')\n",
    "plt.suptitle('Среднее время прохождения уровня')\n",
    "plt.xlabel('Вариант прохождения уровня')\n",
    "plt.ylabel('Дни')\n",
    "sns.set_palette('dark')"
   ]
  },
  {
   "cell_type": "code",
   "execution_count": 61,
   "metadata": {},
   "outputs": [
    {
     "data": {
      "image/png": "[encoded data removed]",
      "text/plain": [
       "<Figure size 1080x720 with 1 Axes>"
      ]
     },
     "metadata": {
      "needs_background": "light"
     },
     "output_type": "display_data"
    }
   ],
   "source": [
    "# Построим график динамики времени прохождения уровня\n",
    "\n",
    "merge_game.pivot_table(index ='start_game_day',\n",
    "                                                columns = 'type', values = 'game_day'\n",
    "                      ).plot(grid = True, figsize = (15,10),title='Время прохождения уровня')\n",
    "plt.xlabel('Старт игры')\n",
    "plt.ylabel('Время прохождения уровня')\n",
    "plt.show()"
   ]
  },
  {
   "cell_type": "code",
   "execution_count": 62,
   "metadata": {},
   "outputs": [
    {
     "data": {
      "image/png": "[encoded data removed]",
      "text/plain": [
       "<Figure size 1728x720 with 1 Axes>"
      ]
     },
     "metadata": {
      "needs_background": "light"
     },
     "output_type": "display_data"
    }
   ],
   "source": [
    "# Построим гистограммы\n",
    "\n",
    "merge_game.pivot_table(index ='start_game_day',\n",
    "                                                columns = 'type', values = 'game_day'\n",
    "                      ).plot(kind = 'bar', grid = True, figsize = (24,10),title='Время прохождения уровня')\n",
    "\n",
    "plt.xlabel('Старт игры')\n",
    "plt.ylabel('Время прохождения уровня')\n",
    "plt.show()"
   ]
  },
  {
   "cell_type": "markdown",
   "metadata": {},
   "source": [
    "- Подсчитали среднее время прохождения уровня.\n",
    "- Создали вспомогательный столбец, в котором указан способ прохождения уровня.\n",
    "\n",
    "В результате вычислений получаем следующие цифры:\n",
    "\n",
    "- Среднее время прохождения уровня для варианта 'Победа над первым врагом' = 11 days 02:30:24\n",
    "- Медианное время прохождения уровня для варианта \"Победа над первым врагом\" = 10 days 19:01:37\n",
    "\n",
    "- Среднее время прохождения уровня для варианта \"Реализация проекта\": 11 days 21:16:06\n",
    "- Медианное время прохождения уровня для варианта \"Реализация проекта\": 11 days 07:12:24\n",
    "\n",
    "Пользователи предпочитающие военное решение - проходят уровень быстрее пользователей предпочитающие мирное прохождение."
   ]
  },
  {
   "cell_type": "markdown",
   "metadata": {},
   "source": [
    "### Количество построек на каждого пользователя."
   ]
  },
  {
   "cell_type": "code",
   "execution_count": 63,
   "metadata": {},
   "outputs": [
    {
     "data": {
      "text/html": [
       "<div>\n",
       "<style scoped>\n",
       "    .dataframe tbody tr th:only-of-type {\n",
       "        vertical-align: middle;\n",
       "    }\n",
       "\n",
       "    .dataframe tbody tr th {\n",
       "        vertical-align: top;\n",
       "    }\n",
       "\n",
       "    .dataframe thead th {\n",
       "        text-align: right;\n",
       "    }\n",
       "</style>\n",
       "<table border=\"1\" class=\"dataframe\">\n",
       "  <thead>\n",
       "    <tr style=\"text-align: right;\">\n",
       "      <th></th>\n",
       "      <th>building_type</th>\n",
       "    </tr>\n",
       "    <tr>\n",
       "      <th>user_id</th>\n",
       "      <th></th>\n",
       "    </tr>\n",
       "  </thead>\n",
       "  <tbody>\n",
       "    <tr>\n",
       "      <th>0001f83c-c6ac-4621-b7f0-8a28b283ac30</th>\n",
       "      <td>13</td>\n",
       "    </tr>\n",
       "    <tr>\n",
       "      <th>00151b4f-ba38-44a8-a650-d7cf130a0105</th>\n",
       "      <td>9</td>\n",
       "    </tr>\n",
       "    <tr>\n",
       "      <th>001aaea6-3d14-43f1-8ca8-7f48820f17aa</th>\n",
       "      <td>4</td>\n",
       "    </tr>\n",
       "    <tr>\n",
       "      <th>001d39dc-366c-4021-9604-6a3b9ff01e25</th>\n",
       "      <td>8</td>\n",
       "    </tr>\n",
       "    <tr>\n",
       "      <th>002f508f-67b6-479f-814b-b05f00d4e995</th>\n",
       "      <td>12</td>\n",
       "    </tr>\n",
       "  </tbody>\n",
       "</table>\n",
       "</div>"
      ],
      "text/plain": [
       "                                      building_type\n",
       "user_id                                            \n",
       "0001f83c-c6ac-4621-b7f0-8a28b283ac30             13\n",
       "00151b4f-ba38-44a8-a650-d7cf130a0105              9\n",
       "001aaea6-3d14-43f1-8ca8-7f48820f17aa              4\n",
       "001d39dc-366c-4021-9604-6a3b9ff01e25              8\n",
       "002f508f-67b6-479f-814b-b05f00d4e995             12"
      ]
     },
     "execution_count": 63,
     "metadata": {},
     "output_type": "execute_result"
    }
   ],
   "source": [
    "# Посмотрим количество построек на каждого пользователя.\n",
    "\n",
    "building_count = game_actions.groupby('user_id').agg({'building_type': 'count'})\n",
    "building_count.head()"
   ]
  },
  {
   "cell_type": "code",
   "execution_count": 64,
   "metadata": {},
   "outputs": [
    {
     "name": "stdout",
     "output_type": "stream",
     "text": [
      "Cреднее значение количества построек на пользователя: 9.43\n"
     ]
    }
   ],
   "source": [
    "# Вычислим среднее значение количества построек\n",
    "\n",
    "print('Cреднее значение количества построек на пользователя: {:.2f}'.format(building_count['building_type'].mean()))"
   ]
  },
  {
   "cell_type": "code",
   "execution_count": 65,
   "metadata": {},
   "outputs": [
    {
     "name": "stdout",
     "output_type": "stream",
     "text": [
      "Медианное значение количества построек на пользователя: 10.0\n"
     ]
    }
   ],
   "source": [
    "# Вычислим медианное значение количества построек\n",
    "\n",
    "print('Медианное значение количества построек на пользователя:', building_count['building_type'].median())"
   ]
  },
  {
   "cell_type": "code",
   "execution_count": 66,
   "metadata": {},
   "outputs": [
    {
     "data": {
      "text/html": [
       "<div>\n",
       "<style scoped>\n",
       "    .dataframe tbody tr th:only-of-type {\n",
       "        vertical-align: middle;\n",
       "    }\n",
       "\n",
       "    .dataframe tbody tr th {\n",
       "        vertical-align: top;\n",
       "    }\n",
       "\n",
       "    .dataframe thead th {\n",
       "        text-align: right;\n",
       "    }\n",
       "</style>\n",
       "<table border=\"1\" class=\"dataframe\">\n",
       "  <thead>\n",
       "    <tr style=\"text-align: right;\">\n",
       "      <th></th>\n",
       "      <th>event_datetime</th>\n",
       "      <th>event</th>\n",
       "      <th>building_type</th>\n",
       "      <th>user_id</th>\n",
       "      <th>project_type</th>\n",
       "      <th>event_date</th>\n",
       "      <th>event_week</th>\n",
       "      <th>type</th>\n",
       "    </tr>\n",
       "  </thead>\n",
       "  <tbody>\n",
       "    <tr>\n",
       "      <th>6659</th>\n",
       "      <td>2020-05-04 19:47:29</td>\n",
       "      <td>finished_stage_1</td>\n",
       "      <td>NaN</td>\n",
       "      <td>ced7b368-818f-48f6-9461-2346de0892c5</td>\n",
       "      <td>NaN</td>\n",
       "      <td>2020-05-04</td>\n",
       "      <td>19</td>\n",
       "      <td>Победа над первым врагом</td>\n",
       "    </tr>\n",
       "    <tr>\n",
       "      <th>13134</th>\n",
       "      <td>2020-05-05 13:22:09</td>\n",
       "      <td>finished_stage_1</td>\n",
       "      <td>NaN</td>\n",
       "      <td>7ef7fc89-2779-46ea-b328-9e5035b83af5</td>\n",
       "      <td>NaN</td>\n",
       "      <td>2020-05-05</td>\n",
       "      <td>19</td>\n",
       "      <td>Победа над первым врагом</td>\n",
       "    </tr>\n",
       "    <tr>\n",
       "      <th>15274</th>\n",
       "      <td>2020-05-05 18:54:37</td>\n",
       "      <td>finished_stage_1</td>\n",
       "      <td>NaN</td>\n",
       "      <td>70db22b3-c2f4-43bc-94ea-51c8d2904a29</td>\n",
       "      <td>NaN</td>\n",
       "      <td>2020-05-05</td>\n",
       "      <td>19</td>\n",
       "      <td>Победа над первым врагом</td>\n",
       "    </tr>\n",
       "    <tr>\n",
       "      <th>16284</th>\n",
       "      <td>2020-05-05 21:27:29</td>\n",
       "      <td>finished_stage_1</td>\n",
       "      <td>NaN</td>\n",
       "      <td>903fc9ef-ba97-4b12-9d5c-ac8d602fbd8b</td>\n",
       "      <td>NaN</td>\n",
       "      <td>2020-05-05</td>\n",
       "      <td>19</td>\n",
       "      <td>Победа над первым врагом</td>\n",
       "    </tr>\n",
       "    <tr>\n",
       "      <th>19650</th>\n",
       "      <td>2020-05-06 06:02:22</td>\n",
       "      <td>finished_stage_1</td>\n",
       "      <td>NaN</td>\n",
       "      <td>58e077ba-feb1-4556-a5a0-d96bd04efa39</td>\n",
       "      <td>NaN</td>\n",
       "      <td>2020-05-06</td>\n",
       "      <td>19</td>\n",
       "      <td>Победа над первым врагом</td>\n",
       "    </tr>\n",
       "  </tbody>\n",
       "</table>\n",
       "</div>"
      ],
      "text/plain": [
       "           event_datetime             event building_type  \\\n",
       "6659  2020-05-04 19:47:29  finished_stage_1           NaN   \n",
       "13134 2020-05-05 13:22:09  finished_stage_1           NaN   \n",
       "15274 2020-05-05 18:54:37  finished_stage_1           NaN   \n",
       "16284 2020-05-05 21:27:29  finished_stage_1           NaN   \n",
       "19650 2020-05-06 06:02:22  finished_stage_1           NaN   \n",
       "\n",
       "                                    user_id project_type  event_date  \\\n",
       "6659   ced7b368-818f-48f6-9461-2346de0892c5          NaN  2020-05-04   \n",
       "13134  7ef7fc89-2779-46ea-b328-9e5035b83af5          NaN  2020-05-05   \n",
       "15274  70db22b3-c2f4-43bc-94ea-51c8d2904a29          NaN  2020-05-05   \n",
       "16284  903fc9ef-ba97-4b12-9d5c-ac8d602fbd8b          NaN  2020-05-05   \n",
       "19650  58e077ba-feb1-4556-a5a0-d96bd04efa39          NaN  2020-05-06   \n",
       "\n",
       "       event_week                      type  \n",
       "6659           19  Победа над первым врагом  \n",
       "13134          19  Победа над первым врагом  \n",
       "15274          19  Победа над первым врагом  \n",
       "16284          19  Победа над первым врагом  \n",
       "19650          19  Победа над первым врагом  "
      ]
     },
     "execution_count": 66,
     "metadata": {},
     "output_type": "execute_result"
    }
   ],
   "source": [
    "# Создадим переменную для пользователей, которые завершили уровень через победу над врагом для создания фильтра\n",
    "\n",
    "win_users_type = game_actions.query('type == \"Победа над первым врагом\"')\n",
    "win_users_type.head()"
   ]
  },
  {
   "cell_type": "code",
   "execution_count": 67,
   "metadata": {},
   "outputs": [
    {
     "data": {
      "text/plain": [
       "6659     ced7b368-818f-48f6-9461-2346de0892c5\n",
       "13134    7ef7fc89-2779-46ea-b328-9e5035b83af5\n",
       "15274    70db22b3-c2f4-43bc-94ea-51c8d2904a29\n",
       "16284    903fc9ef-ba97-4b12-9d5c-ac8d602fbd8b\n",
       "19650    58e077ba-feb1-4556-a5a0-d96bd04efa39\n",
       "Name: user_id, dtype: object"
      ]
     },
     "execution_count": 67,
     "metadata": {},
     "output_type": "execute_result"
    }
   ],
   "source": [
    "# Создадим список пользователей, которые прошли уровень с помощью победы над врагом \n",
    "\n",
    "user_win = win_users_type['user_id']\n",
    "user_win.head()"
   ]
  },
  {
   "cell_type": "code",
   "execution_count": 68,
   "metadata": {},
   "outputs": [
    {
     "data": {
      "text/html": [
       "<div>\n",
       "<style scoped>\n",
       "    .dataframe tbody tr th:only-of-type {\n",
       "        vertical-align: middle;\n",
       "    }\n",
       "\n",
       "    .dataframe tbody tr th {\n",
       "        vertical-align: top;\n",
       "    }\n",
       "\n",
       "    .dataframe thead th {\n",
       "        text-align: right;\n",
       "    }\n",
       "</style>\n",
       "<table border=\"1\" class=\"dataframe\">\n",
       "  <thead>\n",
       "    <tr style=\"text-align: right;\">\n",
       "      <th></th>\n",
       "      <th>event_datetime</th>\n",
       "      <th>event</th>\n",
       "      <th>building_type</th>\n",
       "      <th>user_id</th>\n",
       "      <th>project_type</th>\n",
       "      <th>event_date</th>\n",
       "      <th>event_week</th>\n",
       "      <th>type</th>\n",
       "    </tr>\n",
       "  </thead>\n",
       "  <tbody>\n",
       "    <tr>\n",
       "      <th>0</th>\n",
       "      <td>2020-05-04 00:00:01</td>\n",
       "      <td>building</td>\n",
       "      <td>assembly_shop</td>\n",
       "      <td>55e92310-cb8e-4754-b622-597e124b03de</td>\n",
       "      <td>NaN</td>\n",
       "      <td>2020-05-04</td>\n",
       "      <td>19</td>\n",
       "      <td>NaN</td>\n",
       "    </tr>\n",
       "    <tr>\n",
       "      <th>1</th>\n",
       "      <td>2020-05-04 00:00:03</td>\n",
       "      <td>building</td>\n",
       "      <td>assembly_shop</td>\n",
       "      <td>c07b1c10-f477-44dc-81dc-ec82254b1347</td>\n",
       "      <td>NaN</td>\n",
       "      <td>2020-05-04</td>\n",
       "      <td>19</td>\n",
       "      <td>NaN</td>\n",
       "    </tr>\n",
       "    <tr>\n",
       "      <th>2</th>\n",
       "      <td>2020-05-04 00:00:16</td>\n",
       "      <td>building</td>\n",
       "      <td>assembly_shop</td>\n",
       "      <td>6edd42cc-e753-4ff6-a947-2107cd560710</td>\n",
       "      <td>NaN</td>\n",
       "      <td>2020-05-04</td>\n",
       "      <td>19</td>\n",
       "      <td>NaN</td>\n",
       "    </tr>\n",
       "    <tr>\n",
       "      <th>3</th>\n",
       "      <td>2020-05-04 00:00:16</td>\n",
       "      <td>building</td>\n",
       "      <td>assembly_shop</td>\n",
       "      <td>92c69003-d60a-444a-827f-8cc51bf6bf4c</td>\n",
       "      <td>NaN</td>\n",
       "      <td>2020-05-04</td>\n",
       "      <td>19</td>\n",
       "      <td>NaN</td>\n",
       "    </tr>\n",
       "    <tr>\n",
       "      <th>4</th>\n",
       "      <td>2020-05-04 00:00:35</td>\n",
       "      <td>building</td>\n",
       "      <td>assembly_shop</td>\n",
       "      <td>cdc6bb92-0ccb-4490-9866-ef142f09139d</td>\n",
       "      <td>NaN</td>\n",
       "      <td>2020-05-04</td>\n",
       "      <td>19</td>\n",
       "      <td>NaN</td>\n",
       "    </tr>\n",
       "  </tbody>\n",
       "</table>\n",
       "</div>"
      ],
      "text/plain": [
       "       event_datetime     event  building_type  \\\n",
       "0 2020-05-04 00:00:01  building  assembly_shop   \n",
       "1 2020-05-04 00:00:03  building  assembly_shop   \n",
       "2 2020-05-04 00:00:16  building  assembly_shop   \n",
       "3 2020-05-04 00:00:16  building  assembly_shop   \n",
       "4 2020-05-04 00:00:35  building  assembly_shop   \n",
       "\n",
       "                                user_id project_type  event_date  event_week  \\\n",
       "0  55e92310-cb8e-4754-b622-597e124b03de          NaN  2020-05-04          19   \n",
       "1  c07b1c10-f477-44dc-81dc-ec82254b1347          NaN  2020-05-04          19   \n",
       "2  6edd42cc-e753-4ff6-a947-2107cd560710          NaN  2020-05-04          19   \n",
       "3  92c69003-d60a-444a-827f-8cc51bf6bf4c          NaN  2020-05-04          19   \n",
       "4  cdc6bb92-0ccb-4490-9866-ef142f09139d          NaN  2020-05-04          19   \n",
       "\n",
       "  type  \n",
       "0  NaN  \n",
       "1  NaN  \n",
       "2  NaN  \n",
       "3  NaN  \n",
       "4  NaN  "
      ]
     },
     "execution_count": 68,
     "metadata": {},
     "output_type": "execute_result"
    }
   ],
   "source": [
    "# Создадим новую переменную, где для каждого события укажем к какому варианту прохождения уровня оно относится\n",
    "\n",
    "game_actions_type = game_actions\n",
    "game_actions_type.head()"
   ]
  },
  {
   "cell_type": "code",
   "execution_count": 69,
   "metadata": {},
   "outputs": [
    {
     "data": {
      "text/html": [
       "<div>\n",
       "<style scoped>\n",
       "    .dataframe tbody tr th:only-of-type {\n",
       "        vertical-align: middle;\n",
       "    }\n",
       "\n",
       "    .dataframe tbody tr th {\n",
       "        vertical-align: top;\n",
       "    }\n",
       "\n",
       "    .dataframe thead th {\n",
       "        text-align: right;\n",
       "    }\n",
       "</style>\n",
       "<table border=\"1\" class=\"dataframe\">\n",
       "  <thead>\n",
       "    <tr style=\"text-align: right;\">\n",
       "      <th></th>\n",
       "      <th>event_datetime</th>\n",
       "      <th>event</th>\n",
       "      <th>building_type</th>\n",
       "      <th>user_id</th>\n",
       "      <th>project_type</th>\n",
       "      <th>event_date</th>\n",
       "      <th>event_week</th>\n",
       "      <th>type</th>\n",
       "    </tr>\n",
       "  </thead>\n",
       "  <tbody>\n",
       "    <tr>\n",
       "      <th>0</th>\n",
       "      <td>2020-05-04 00:00:01</td>\n",
       "      <td>building</td>\n",
       "      <td>assembly_shop</td>\n",
       "      <td>55e92310-cb8e-4754-b622-597e124b03de</td>\n",
       "      <td>NaN</td>\n",
       "      <td>2020-05-04</td>\n",
       "      <td>19</td>\n",
       "      <td>Первый уровень не завершен</td>\n",
       "    </tr>\n",
       "    <tr>\n",
       "      <th>1</th>\n",
       "      <td>2020-05-04 00:00:03</td>\n",
       "      <td>building</td>\n",
       "      <td>assembly_shop</td>\n",
       "      <td>c07b1c10-f477-44dc-81dc-ec82254b1347</td>\n",
       "      <td>NaN</td>\n",
       "      <td>2020-05-04</td>\n",
       "      <td>19</td>\n",
       "      <td>Реализация проекта</td>\n",
       "    </tr>\n",
       "    <tr>\n",
       "      <th>2</th>\n",
       "      <td>2020-05-04 00:00:16</td>\n",
       "      <td>building</td>\n",
       "      <td>assembly_shop</td>\n",
       "      <td>6edd42cc-e753-4ff6-a947-2107cd560710</td>\n",
       "      <td>NaN</td>\n",
       "      <td>2020-05-04</td>\n",
       "      <td>19</td>\n",
       "      <td>Победа над первым врагом</td>\n",
       "    </tr>\n",
       "    <tr>\n",
       "      <th>3</th>\n",
       "      <td>2020-05-04 00:00:16</td>\n",
       "      <td>building</td>\n",
       "      <td>assembly_shop</td>\n",
       "      <td>92c69003-d60a-444a-827f-8cc51bf6bf4c</td>\n",
       "      <td>NaN</td>\n",
       "      <td>2020-05-04</td>\n",
       "      <td>19</td>\n",
       "      <td>Первый уровень не завершен</td>\n",
       "    </tr>\n",
       "    <tr>\n",
       "      <th>4</th>\n",
       "      <td>2020-05-04 00:00:35</td>\n",
       "      <td>building</td>\n",
       "      <td>assembly_shop</td>\n",
       "      <td>cdc6bb92-0ccb-4490-9866-ef142f09139d</td>\n",
       "      <td>NaN</td>\n",
       "      <td>2020-05-04</td>\n",
       "      <td>19</td>\n",
       "      <td>Победа над первым врагом</td>\n",
       "    </tr>\n",
       "  </tbody>\n",
       "</table>\n",
       "</div>"
      ],
      "text/plain": [
       "       event_datetime     event  building_type  \\\n",
       "0 2020-05-04 00:00:01  building  assembly_shop   \n",
       "1 2020-05-04 00:00:03  building  assembly_shop   \n",
       "2 2020-05-04 00:00:16  building  assembly_shop   \n",
       "3 2020-05-04 00:00:16  building  assembly_shop   \n",
       "4 2020-05-04 00:00:35  building  assembly_shop   \n",
       "\n",
       "                                user_id project_type  event_date  event_week  \\\n",
       "0  55e92310-cb8e-4754-b622-597e124b03de          NaN  2020-05-04          19   \n",
       "1  c07b1c10-f477-44dc-81dc-ec82254b1347          NaN  2020-05-04          19   \n",
       "2  6edd42cc-e753-4ff6-a947-2107cd560710          NaN  2020-05-04          19   \n",
       "3  92c69003-d60a-444a-827f-8cc51bf6bf4c          NaN  2020-05-04          19   \n",
       "4  cdc6bb92-0ccb-4490-9866-ef142f09139d          NaN  2020-05-04          19   \n",
       "\n",
       "                         type  \n",
       "0  Первый уровень не завершен  \n",
       "1          Реализация проекта  \n",
       "2    Победа над первым врагом  \n",
       "3  Первый уровень не завершен  \n",
       "4    Победа над первым врагом  "
      ]
     },
     "execution_count": 69,
     "metadata": {},
     "output_type": "execute_result"
    }
   ],
   "source": [
    "# Заполним столбец с вариантами прохождения уровня.\n",
    "\n",
    "game_actions_type.loc[(game_actions['event'] == \"building\") \n",
    "                  & (game_actions['user_id'].isin(user_win)), 'type'] = 'Победа над первым врагом'   \n",
    "\n",
    "game_actions_type.loc[(game_actions['event'] == \"building\") \n",
    "                  & (game_actions['user_id'].isin(user_project)), 'type'] = 'Реализация проекта'\n",
    "\n",
    "game_actions_type.loc[(game_actions['event'] == \"building\") \n",
    "                  & (~game_actions['user_id'].isin(user_project)\n",
    "                    ) & (~game_actions['user_id'].isin(user_win)), 'type'] = 'Первый уровень не завершен'\n",
    "\n",
    "game_actions_type.loc[(game_actions['event'] == \"finished_stage_1\") \n",
    "                  & (game_actions['user_id'].isin(user_project)), 'type'] = 'Реализация проекта'\n",
    "\n",
    "game_actions_type.head() "
   ]
  },
  {
   "cell_type": "code",
   "execution_count": 70,
   "metadata": {},
   "outputs": [
    {
     "data": {
      "text/html": [
       "<div>\n",
       "<style scoped>\n",
       "    .dataframe tbody tr th:only-of-type {\n",
       "        vertical-align: middle;\n",
       "    }\n",
       "\n",
       "    .dataframe tbody tr th {\n",
       "        vertical-align: top;\n",
       "    }\n",
       "\n",
       "    .dataframe thead th {\n",
       "        text-align: right;\n",
       "    }\n",
       "</style>\n",
       "<table border=\"1\" class=\"dataframe\">\n",
       "  <thead>\n",
       "    <tr style=\"text-align: right;\">\n",
       "      <th></th>\n",
       "      <th>type</th>\n",
       "      <th>building_type</th>\n",
       "      <th>user_id</th>\n",
       "      <th>count</th>\n",
       "    </tr>\n",
       "  </thead>\n",
       "  <tbody>\n",
       "    <tr>\n",
       "      <th>0</th>\n",
       "      <td>Первый уровень не завершен</td>\n",
       "      <td>67170</td>\n",
       "      <td>7759</td>\n",
       "      <td>8.657043</td>\n",
       "    </tr>\n",
       "    <tr>\n",
       "      <th>1</th>\n",
       "      <td>Победа над первым врагом</td>\n",
       "      <td>37185</td>\n",
       "      <td>3951</td>\n",
       "      <td>9.411541</td>\n",
       "    </tr>\n",
       "    <tr>\n",
       "      <th>2</th>\n",
       "      <td>Реализация проекта</td>\n",
       "      <td>23601</td>\n",
       "      <td>1866</td>\n",
       "      <td>12.647910</td>\n",
       "    </tr>\n",
       "  </tbody>\n",
       "</table>\n",
       "</div>"
      ],
      "text/plain": [
       "                         type  building_type  user_id      count\n",
       "0  Первый уровень не завершен          67170     7759   8.657043\n",
       "1    Победа над первым врагом          37185     3951   9.411541\n",
       "2          Реализация проекта          23601     1866  12.647910"
      ]
     },
     "execution_count": 70,
     "metadata": {},
     "output_type": "execute_result"
    }
   ],
   "source": [
    "# Вычислим сколько зданий построили пользователи с разными результатами по прохождению уровня.\n",
    "\n",
    "building_count = game_actions_type.groupby('type').agg({'building_type':'count','user_id':'nunique'}\n",
    "                                                      ).reset_index().sort_values(by = 'user_id', ascending = False)\n",
    "building_count['count'] = building_count['building_type'] / building_count['user_id']\n",
    "building_count"
   ]
  },
  {
   "cell_type": "code",
   "execution_count": 71,
   "metadata": {},
   "outputs": [
    {
     "data": {
      "image/png": "[encoded data removed]",
      "text/plain": [
       "<Figure size 1080x720 with 1 Axes>"
      ]
     },
     "metadata": {
      "needs_background": "light"
     },
     "output_type": "display_data"
    }
   ],
   "source": [
    "# Построим график распределения \n",
    "\n",
    "plt.figure(figsize=(15,10))\n",
    "ax = sns.barplot(data=building_count, x='type', y='count')\n",
    "for p in ax.patches:\n",
    "    ax.annotate(format(p.get_height(), '.2f'), \n",
    "                   (p.get_x() + p.get_width() / 2., p.get_height()), \n",
    "                   ha = 'center', va = 'center', \n",
    "                   xytext = (0, 9), \n",
    "                   textcoords = 'offset points')\n",
    "plt.suptitle('Количество построек на каждого пользователя')\n",
    "plt.xlabel('Вариант прохождения уровня')\n",
    "plt.ylabel('Количество')\n",
    "sns.set_palette('dark')"
   ]
  },
  {
   "cell_type": "code",
   "execution_count": 72,
   "metadata": {},
   "outputs": [
    {
     "data": {
      "image/png": "[encoded data removed]",
      "text/plain": [
       "<Figure size 1728x720 with 1 Axes>"
      ]
     },
     "metadata": {
      "needs_background": "light"
     },
     "output_type": "display_data"
    }
   ],
   "source": [
    "#построим гистограммы\n",
    "\n",
    "game_actions_type.pivot_table(index ='event_date',\n",
    "                                                columns = 'type', values = 'building_type', aggfunc = 'count'\n",
    "                             ).plot(kind = 'bar', grid = True, figsize = (24,10),title='Количество построек')\n",
    "\n",
    "plt.xlabel('Дата')\n",
    "plt.ylabel('Количество построек')\n",
    "plt.show()"
   ]
  },
  {
   "cell_type": "markdown",
   "metadata": {},
   "source": [
    "Количество построек на пользователя в разрезе варианта прохождения уровня:\n",
    "\n",
    "- Реализация проекта: 12.65\n",
    "- Победа над первым врагом: 9.41\n",
    "- Первый уровень не завершён: 8.66"
   ]
  },
  {
   "cell_type": "markdown",
   "metadata": {},
   "source": [
    "### Сколько раз за день пользователи в среднем заходят в мобильное приложение."
   ]
  },
  {
   "cell_type": "code",
   "execution_count": 73,
   "metadata": {},
   "outputs": [
    {
     "data": {
      "text/plain": [
       "visits             4110.272727\n",
       "users              2884.878788\n",
       "visits_per_user       1.333484\n",
       "dtype: float64"
      ]
     },
     "execution_count": 73,
     "metadata": {},
     "output_type": "execute_result"
    }
   ],
   "source": [
    "# Рассчитаем количество сессий в день на каждого уникального пользователя\n",
    "\n",
    "visits_per_user = game_actions.groupby('event_date').agg({'user_id': ['count', 'nunique']})\n",
    "\n",
    "visits_per_user.columns = ['visits', 'users']\n",
    "visits_per_user['visits_per_user'] = visits_per_user['visits'] / visits_per_user['users'] \n",
    "visits_per_user.mean()"
   ]
  },
  {
   "cell_type": "code",
   "execution_count": 74,
   "metadata": {},
   "outputs": [
    {
     "data": {
      "text/plain": [
       "event_date\n",
       "2020-05-10    1.649528\n",
       "2020-05-09    1.564093\n",
       "2020-05-08    1.528197\n",
       "2020-05-07    1.470477\n",
       "2020-05-06    1.448060\n",
       "2020-06-04    1.428571\n",
       "2020-05-05    1.418834\n",
       "2020-05-04    1.394369\n",
       "2020-05-12    1.370845\n",
       "2020-05-11    1.365304\n",
       "Name: visits_per_user, dtype: float64"
      ]
     },
     "execution_count": 74,
     "metadata": {},
     "output_type": "execute_result"
    }
   ],
   "source": [
    "# Посмотрим данные в столбце visits_per_user\n",
    "\n",
    "visits_per_user['visits_per_user'].sort_values(ascending = False).head(10)"
   ]
  },
  {
   "cell_type": "code",
   "execution_count": 75,
   "metadata": {},
   "outputs": [
    {
     "name": "stdout",
     "output_type": "stream",
     "text": [
      "Максимальное количество сессий в день на каждого уникального пользователя: 1.65\n"
     ]
    }
   ],
   "source": [
    "# Рассчитаем максимальное количество сессий в день на каждого уникального пользователя\n",
    "\n",
    "print('Максимальное количество сессий в день на каждого уникального пользователя: {:.2f}'.\n",
    "      format(visits_per_user['visits_per_user'].max()))"
   ]
  },
  {
   "cell_type": "code",
   "execution_count": 76,
   "metadata": {},
   "outputs": [
    {
     "name": "stdout",
     "output_type": "stream",
     "text": [
      "Минимальное количество сессий в день на каждого уникального пользователя: 1.22\n"
     ]
    }
   ],
   "source": [
    "# Рассчитаем минимальное количество сессий в день на каждого уникального пользователя\n",
    "\n",
    "print('Минимальное количество сессий в день на каждого уникального пользователя: {:.2f}'.\n",
    "      format(visits_per_user['visits_per_user'].min()))"
   ]
  },
  {
   "cell_type": "code",
   "execution_count": 77,
   "metadata": {},
   "outputs": [
    {
     "data": {
      "image/png": "[encoded data removed]",
      "text/plain": [
       "<Figure size 1728x720 with 1 Axes>"
      ]
     },
     "metadata": {
      "needs_background": "light"
     },
     "output_type": "display_data"
    }
   ],
   "source": [
    "# Построим график\n",
    "\n",
    "visits_per_user['visits_per_user'].plot(grid = True,\n",
    "                                        figsize = (24,10),title='Сколько раз за день пользователи в среднем заходят на сайт')\n",
    "plt.xlabel('Дни')\n",
    "plt.ylabel('Среднее количество сесий')\n",
    "plt.show()"
   ]
  },
  {
   "cell_type": "markdown",
   "metadata": {},
   "source": [
    "Сколько раз за день пользователи в среднем заходят в мобильное приложение:\n",
    "\n",
    "- Среднее количество сессий в день = 4110\n",
    "- Среднее количество уникальных пользователей в день = 2884\n",
    "- Среднее количество сессий в день на каждого уникального пользователя = 1.33\n",
    "- Максимальное количество сессий в день на каждого уникального пользователя = 1.65\n",
    "- Минимальное количество сессий в день на каждого уникального пользователя = 1.22\n",
    "\n",
    "На графике видно что максимальное количество сессий в день на каждого уникального пользователя приходится на 10 мая."
   ]
  },
  {
   "cell_type": "markdown",
   "metadata": {},
   "source": [
    "### Показатели вовлечённости - DAU, WAU, Sticky Factor"
   ]
  },
  {
   "cell_type": "code",
   "execution_count": 78,
   "metadata": {},
   "outputs": [
    {
     "name": "stdout",
     "output_type": "stream",
     "text": [
      "Количество уникальных пользователей в день DAU: 2884\n"
     ]
    }
   ],
   "source": [
    "# Расчитаем DAU - количество уникальных пользователей в день\n",
    "\n",
    "dau_total = game_actions.groupby('event_date').agg({'user_id': 'nunique'}).mean()\n",
    "print('Количество уникальных пользователей в день DAU:', int(dau_total))"
   ]
  },
  {
   "cell_type": "code",
   "execution_count": 79,
   "metadata": {},
   "outputs": [
    {
     "data": {
      "text/html": [
       "<div>\n",
       "<style scoped>\n",
       "    .dataframe tbody tr th:only-of-type {\n",
       "        vertical-align: middle;\n",
       "    }\n",
       "\n",
       "    .dataframe tbody tr th {\n",
       "        vertical-align: top;\n",
       "    }\n",
       "\n",
       "    .dataframe thead th {\n",
       "        text-align: right;\n",
       "    }\n",
       "</style>\n",
       "<table border=\"1\" class=\"dataframe\">\n",
       "  <thead>\n",
       "    <tr style=\"text-align: right;\">\n",
       "      <th></th>\n",
       "      <th>user_id</th>\n",
       "    </tr>\n",
       "    <tr>\n",
       "      <th>event_date</th>\n",
       "      <th></th>\n",
       "    </tr>\n",
       "  </thead>\n",
       "  <tbody>\n",
       "    <tr>\n",
       "      <th>2020-05-10</th>\n",
       "      <td>9219</td>\n",
       "    </tr>\n",
       "    <tr>\n",
       "      <th>2020-05-09</th>\n",
       "      <td>8394</td>\n",
       "    </tr>\n",
       "    <tr>\n",
       "      <th>2020-05-08</th>\n",
       "      <td>7891</td>\n",
       "    </tr>\n",
       "    <tr>\n",
       "      <th>2020-05-07</th>\n",
       "      <td>7384</td>\n",
       "    </tr>\n",
       "    <tr>\n",
       "      <th>2020-05-06</th>\n",
       "      <td>6854</td>\n",
       "    </tr>\n",
       "  </tbody>\n",
       "</table>\n",
       "</div>"
      ],
      "text/plain": [
       "            user_id\n",
       "event_date         \n",
       "2020-05-10     9219\n",
       "2020-05-09     8394\n",
       "2020-05-08     7891\n",
       "2020-05-07     7384\n",
       "2020-05-06     6854"
      ]
     },
     "execution_count": 79,
     "metadata": {},
     "output_type": "execute_result"
    }
   ],
   "source": [
    "# Посмотрим количество уникальных пользователей по дням\n",
    "\n",
    "game_actions.groupby('event_date').agg({'user_id': 'nunique'}).sort_values(by = 'user_id', ascending = False).head()"
   ]
  },
  {
   "cell_type": "code",
   "execution_count": 80,
   "metadata": {},
   "outputs": [
    {
     "name": "stdout",
     "output_type": "stream",
     "text": [
      "Количество уникальных пользователей в неделю WAU: 6120\n"
     ]
    }
   ],
   "source": [
    "# Расчитаем WAU - количество уникальных пользователей в неделю\n",
    "\n",
    "wau_total = game_actions.groupby('event_week').agg({'user_id': 'nunique'}).mean()\n",
    "print('Количество уникальных пользователей в неделю WAU:', int(wau_total))"
   ]
  },
  {
   "cell_type": "code",
   "execution_count": 81,
   "metadata": {},
   "outputs": [
    {
     "name": "stdout",
     "output_type": "stream",
     "text": [
      "Вовлечённость аудитории Sticky Factor за неделю: 47.12%\n"
     ]
    }
   ],
   "source": [
    "# Рассчитаем Sticky Factor за неделю\n",
    "\n",
    "sticky_week = int(dau_total) / int(wau_total)\n",
    "print('Вовлечённость аудитории Sticky Factor за неделю: {:.2%}'.format(sticky_week))"
   ]
  },
  {
   "cell_type": "code",
   "execution_count": 82,
   "metadata": {},
   "outputs": [
    {
     "data": {
      "image/png": "[encoded data removed]",
      "text/plain": [
       "<Figure size 1080x720 with 1 Axes>"
      ]
     },
     "metadata": {
      "needs_background": "light"
     },
     "output_type": "display_data"
    }
   ],
   "source": [
    "# График количества уникальных пользователей в день DAU\n",
    "\n",
    "game_actions.groupby('event_date').agg({'user_id': 'nunique'}\n",
    "                                      ).plot(grid = True, figsize = (15,10),title='Количество уникальных пользователей в день DAU')\n",
    "plt.xlabel('Дни')\n",
    "plt.xticks(np.arange(game_actions['event_date'].min(), game_actions['event_date'].max(\n",
    ") + pd.to_timedelta('1 day'), pd.to_timedelta('1 day')), rotation = 45)\n",
    "plt.ylabel('Количество уникальных пользователей в день DAU')\n",
    "plt.show()"
   ]
  },
  {
   "cell_type": "code",
   "execution_count": 83,
   "metadata": {},
   "outputs": [
    {
     "data": {
      "image/png": "[encoded data removed]",
      "text/plain": [
       "<Figure size 1080x720 with 1 Axes>"
      ]
     },
     "metadata": {
      "needs_background": "light"
     },
     "output_type": "display_data"
    }
   ],
   "source": [
    "# График количества уникальных пользователей в неделю WAU\n",
    "\n",
    "game_actions.groupby('event_week').agg({'user_id': 'nunique'}\n",
    "                                      ).plot(grid = True, figsize = (15,10),title='Количество уникальных пользователей в неделю WAU')\n",
    "plt.xlabel('Недели')\n",
    "plt.ylabel('Количество уникальных пользователей в неделю WAU')\n",
    "plt.show()"
   ]
  },
  {
   "cell_type": "markdown",
   "metadata": {},
   "source": [
    "Расчитали количество уникальных пользователей в день DAU, в неделю WAU, Sticky Factor за неделю:\n",
    "\n",
    "- Количество уникальных пользователей в день DAU = 2884 пользователя\n",
    "- Количество уникальных пользователей в неделю WAU = 6120 пользователей\n",
    "- Вовлечённость аудитории Sticky Factor за неделю = 47.12%\n",
    "\n",
    "Уникальных пользователей в день:\n",
    "\n",
    "- на первом месте 2020-05-10 = 9219 уникальных пользователей\n",
    "- на втором месте 2020-05-09 = 8394 уникальных пользователя\n",
    "- на третьем месте 2020-05-08 = 7891 уникальный пользователь\n",
    "\n",
    "На графиках также видим, что самое большое количество пользователей приходится на 10 мая, и в целом пик приходится на \"вторые майские\" праздники. Также, по условию задачи, нам представлены данные по первому уровню. Следовательно, большинство пользователей прошли уровень к 10 мая, а далее перешли на второй уровень или ушли в отток, и количество пользователей в день снижается."
   ]
  },
  {
   "cell_type": "markdown",
   "metadata": {},
   "source": [
    "### Коэффициент удержания Retention Rate."
   ]
  },
  {
   "cell_type": "code",
   "execution_count": 84,
   "metadata": {},
   "outputs": [
    {
     "data": {
      "text/plain": [
       "user_id\n",
       "0001f83c-c6ac-4621-b7f0-8a28b283ac30    2020-05-06\n",
       "00151b4f-ba38-44a8-a650-d7cf130a0105    2020-05-06\n",
       "001aaea6-3d14-43f1-8ca8-7f48820f17aa    2020-05-05\n",
       "001d39dc-366c-4021-9604-6a3b9ff01e25    2020-05-05\n",
       "002f508f-67b6-479f-814b-b05f00d4e995    2020-05-05\n",
       "Name: first_date, dtype: object"
      ]
     },
     "execution_count": 84,
     "metadata": {},
     "output_type": "execute_result"
    }
   ],
   "source": [
    "# Возьмём минимальную дату события для пользователя\n",
    "\n",
    "first_date = game_actions.groupby(['user_id'])['event_date'].min()\n",
    "\n",
    "# Данные запишем в объект Series\n",
    "\n",
    "first_date.name = 'first_date'\n",
    "first_date.head()"
   ]
  },
  {
   "cell_type": "code",
   "execution_count": 85,
   "metadata": {},
   "outputs": [
    {
     "data": {
      "text/html": [
       "<div>\n",
       "<style scoped>\n",
       "    .dataframe tbody tr th:only-of-type {\n",
       "        vertical-align: middle;\n",
       "    }\n",
       "\n",
       "    .dataframe tbody tr th {\n",
       "        vertical-align: top;\n",
       "    }\n",
       "\n",
       "    .dataframe thead th {\n",
       "        text-align: right;\n",
       "    }\n",
       "</style>\n",
       "<table border=\"1\" class=\"dataframe\">\n",
       "  <thead>\n",
       "    <tr style=\"text-align: right;\">\n",
       "      <th></th>\n",
       "      <th>event_datetime</th>\n",
       "      <th>event</th>\n",
       "      <th>building_type</th>\n",
       "      <th>user_id</th>\n",
       "      <th>project_type</th>\n",
       "      <th>event_date</th>\n",
       "      <th>event_week</th>\n",
       "      <th>type</th>\n",
       "      <th>first_date</th>\n",
       "    </tr>\n",
       "  </thead>\n",
       "  <tbody>\n",
       "    <tr>\n",
       "      <th>0</th>\n",
       "      <td>2020-05-04 00:00:01</td>\n",
       "      <td>building</td>\n",
       "      <td>assembly_shop</td>\n",
       "      <td>55e92310-cb8e-4754-b622-597e124b03de</td>\n",
       "      <td>NaN</td>\n",
       "      <td>2020-05-04</td>\n",
       "      <td>19</td>\n",
       "      <td>Первый уровень не завершен</td>\n",
       "      <td>2020-05-04</td>\n",
       "    </tr>\n",
       "    <tr>\n",
       "      <th>1</th>\n",
       "      <td>2020-05-04 00:00:03</td>\n",
       "      <td>building</td>\n",
       "      <td>assembly_shop</td>\n",
       "      <td>c07b1c10-f477-44dc-81dc-ec82254b1347</td>\n",
       "      <td>NaN</td>\n",
       "      <td>2020-05-04</td>\n",
       "      <td>19</td>\n",
       "      <td>Реализация проекта</td>\n",
       "      <td>2020-05-04</td>\n",
       "    </tr>\n",
       "    <tr>\n",
       "      <th>2</th>\n",
       "      <td>2020-05-04 00:00:16</td>\n",
       "      <td>building</td>\n",
       "      <td>assembly_shop</td>\n",
       "      <td>6edd42cc-e753-4ff6-a947-2107cd560710</td>\n",
       "      <td>NaN</td>\n",
       "      <td>2020-05-04</td>\n",
       "      <td>19</td>\n",
       "      <td>Победа над первым врагом</td>\n",
       "      <td>2020-05-04</td>\n",
       "    </tr>\n",
       "    <tr>\n",
       "      <th>3</th>\n",
       "      <td>2020-05-04 00:00:16</td>\n",
       "      <td>building</td>\n",
       "      <td>assembly_shop</td>\n",
       "      <td>92c69003-d60a-444a-827f-8cc51bf6bf4c</td>\n",
       "      <td>NaN</td>\n",
       "      <td>2020-05-04</td>\n",
       "      <td>19</td>\n",
       "      <td>Первый уровень не завершен</td>\n",
       "      <td>2020-05-04</td>\n",
       "    </tr>\n",
       "    <tr>\n",
       "      <th>4</th>\n",
       "      <td>2020-05-04 00:00:35</td>\n",
       "      <td>building</td>\n",
       "      <td>assembly_shop</td>\n",
       "      <td>cdc6bb92-0ccb-4490-9866-ef142f09139d</td>\n",
       "      <td>NaN</td>\n",
       "      <td>2020-05-04</td>\n",
       "      <td>19</td>\n",
       "      <td>Победа над первым врагом</td>\n",
       "      <td>2020-05-04</td>\n",
       "    </tr>\n",
       "  </tbody>\n",
       "</table>\n",
       "</div>"
      ],
      "text/plain": [
       "       event_datetime     event  building_type  \\\n",
       "0 2020-05-04 00:00:01  building  assembly_shop   \n",
       "1 2020-05-04 00:00:03  building  assembly_shop   \n",
       "2 2020-05-04 00:00:16  building  assembly_shop   \n",
       "3 2020-05-04 00:00:16  building  assembly_shop   \n",
       "4 2020-05-04 00:00:35  building  assembly_shop   \n",
       "\n",
       "                                user_id project_type  event_date  event_week  \\\n",
       "0  55e92310-cb8e-4754-b622-597e124b03de          NaN  2020-05-04          19   \n",
       "1  c07b1c10-f477-44dc-81dc-ec82254b1347          NaN  2020-05-04          19   \n",
       "2  6edd42cc-e753-4ff6-a947-2107cd560710          NaN  2020-05-04          19   \n",
       "3  92c69003-d60a-444a-827f-8cc51bf6bf4c          NaN  2020-05-04          19   \n",
       "4  cdc6bb92-0ccb-4490-9866-ef142f09139d          NaN  2020-05-04          19   \n",
       "\n",
       "                         type  first_date  \n",
       "0  Первый уровень не завершен  2020-05-04  \n",
       "1          Реализация проекта  2020-05-04  \n",
       "2    Победа над первым врагом  2020-05-04  \n",
       "3  Первый уровень не завершен  2020-05-04  \n",
       "4    Победа над первым врагом  2020-05-04  "
      ]
     },
     "execution_count": 85,
     "metadata": {},
     "output_type": "execute_result"
    }
   ],
   "source": [
    "# Объединим датафрейм и Series по столбцу 'user_id':\n",
    "\n",
    "game_actions = game_actions.join(first_date, on='user_id') \n",
    "game_actions.head()"
   ]
  },
  {
   "cell_type": "code",
   "execution_count": 86,
   "metadata": {},
   "outputs": [
    {
     "data": {
      "text/html": [
       "<div>\n",
       "<style scoped>\n",
       "    .dataframe tbody tr th:only-of-type {\n",
       "        vertical-align: middle;\n",
       "    }\n",
       "\n",
       "    .dataframe tbody tr th {\n",
       "        vertical-align: top;\n",
       "    }\n",
       "\n",
       "    .dataframe thead th {\n",
       "        text-align: right;\n",
       "    }\n",
       "</style>\n",
       "<table border=\"1\" class=\"dataframe\">\n",
       "  <thead>\n",
       "    <tr style=\"text-align: right;\">\n",
       "      <th></th>\n",
       "      <th>event_datetime</th>\n",
       "      <th>event</th>\n",
       "      <th>building_type</th>\n",
       "      <th>user_id</th>\n",
       "      <th>project_type</th>\n",
       "      <th>event_date</th>\n",
       "      <th>event_week</th>\n",
       "      <th>type</th>\n",
       "      <th>first_date</th>\n",
       "      <th>event_day</th>\n",
       "      <th>first_day</th>\n",
       "    </tr>\n",
       "  </thead>\n",
       "  <tbody>\n",
       "    <tr>\n",
       "      <th>0</th>\n",
       "      <td>2020-05-04 00:00:01</td>\n",
       "      <td>building</td>\n",
       "      <td>assembly_shop</td>\n",
       "      <td>55e92310-cb8e-4754-b622-597e124b03de</td>\n",
       "      <td>NaN</td>\n",
       "      <td>2020-05-04</td>\n",
       "      <td>19</td>\n",
       "      <td>Первый уровень не завершен</td>\n",
       "      <td>2020-05-04</td>\n",
       "      <td>2020-05-04</td>\n",
       "      <td>2020-05-04</td>\n",
       "    </tr>\n",
       "    <tr>\n",
       "      <th>1</th>\n",
       "      <td>2020-05-04 00:00:03</td>\n",
       "      <td>building</td>\n",
       "      <td>assembly_shop</td>\n",
       "      <td>c07b1c10-f477-44dc-81dc-ec82254b1347</td>\n",
       "      <td>NaN</td>\n",
       "      <td>2020-05-04</td>\n",
       "      <td>19</td>\n",
       "      <td>Реализация проекта</td>\n",
       "      <td>2020-05-04</td>\n",
       "      <td>2020-05-04</td>\n",
       "      <td>2020-05-04</td>\n",
       "    </tr>\n",
       "    <tr>\n",
       "      <th>2</th>\n",
       "      <td>2020-05-04 00:00:16</td>\n",
       "      <td>building</td>\n",
       "      <td>assembly_shop</td>\n",
       "      <td>6edd42cc-e753-4ff6-a947-2107cd560710</td>\n",
       "      <td>NaN</td>\n",
       "      <td>2020-05-04</td>\n",
       "      <td>19</td>\n",
       "      <td>Победа над первым врагом</td>\n",
       "      <td>2020-05-04</td>\n",
       "      <td>2020-05-04</td>\n",
       "      <td>2020-05-04</td>\n",
       "    </tr>\n",
       "    <tr>\n",
       "      <th>3</th>\n",
       "      <td>2020-05-04 00:00:16</td>\n",
       "      <td>building</td>\n",
       "      <td>assembly_shop</td>\n",
       "      <td>92c69003-d60a-444a-827f-8cc51bf6bf4c</td>\n",
       "      <td>NaN</td>\n",
       "      <td>2020-05-04</td>\n",
       "      <td>19</td>\n",
       "      <td>Первый уровень не завершен</td>\n",
       "      <td>2020-05-04</td>\n",
       "      <td>2020-05-04</td>\n",
       "      <td>2020-05-04</td>\n",
       "    </tr>\n",
       "    <tr>\n",
       "      <th>4</th>\n",
       "      <td>2020-05-04 00:00:35</td>\n",
       "      <td>building</td>\n",
       "      <td>assembly_shop</td>\n",
       "      <td>cdc6bb92-0ccb-4490-9866-ef142f09139d</td>\n",
       "      <td>NaN</td>\n",
       "      <td>2020-05-04</td>\n",
       "      <td>19</td>\n",
       "      <td>Победа над первым врагом</td>\n",
       "      <td>2020-05-04</td>\n",
       "      <td>2020-05-04</td>\n",
       "      <td>2020-05-04</td>\n",
       "    </tr>\n",
       "  </tbody>\n",
       "</table>\n",
       "</div>"
      ],
      "text/plain": [
       "       event_datetime     event  building_type  \\\n",
       "0 2020-05-04 00:00:01  building  assembly_shop   \n",
       "1 2020-05-04 00:00:03  building  assembly_shop   \n",
       "2 2020-05-04 00:00:16  building  assembly_shop   \n",
       "3 2020-05-04 00:00:16  building  assembly_shop   \n",
       "4 2020-05-04 00:00:35  building  assembly_shop   \n",
       "\n",
       "                                user_id project_type  event_date  event_week  \\\n",
       "0  55e92310-cb8e-4754-b622-597e124b03de          NaN  2020-05-04          19   \n",
       "1  c07b1c10-f477-44dc-81dc-ec82254b1347          NaN  2020-05-04          19   \n",
       "2  6edd42cc-e753-4ff6-a947-2107cd560710          NaN  2020-05-04          19   \n",
       "3  92c69003-d60a-444a-827f-8cc51bf6bf4c          NaN  2020-05-04          19   \n",
       "4  cdc6bb92-0ccb-4490-9866-ef142f09139d          NaN  2020-05-04          19   \n",
       "\n",
       "                         type  first_date  event_day  first_day  \n",
       "0  Первый уровень не завершен  2020-05-04 2020-05-04 2020-05-04  \n",
       "1          Реализация проекта  2020-05-04 2020-05-04 2020-05-04  \n",
       "2    Победа над первым врагом  2020-05-04 2020-05-04 2020-05-04  \n",
       "3  Первый уровень не завершен  2020-05-04 2020-05-04 2020-05-04  \n",
       "4    Победа над первым врагом  2020-05-04 2020-05-04 2020-05-04  "
      ]
     },
     "execution_count": 86,
     "metadata": {},
     "output_type": "execute_result"
    }
   ],
   "source": [
    "# Выделим из столбцов event_date и first_date день\n",
    "\n",
    "game_actions['event_day'] = game_actions['event_date'].astype('datetime64[D]')\n",
    "game_actions['first_day'] = game_actions['first_date'].astype('datetime64[D]')\n",
    "\n",
    "game_actions.head()"
   ]
  },
  {
   "cell_type": "code",
   "execution_count": 87,
   "metadata": {},
   "outputs": [
    {
     "data": {
      "text/html": [
       "<div>\n",
       "<style scoped>\n",
       "    .dataframe tbody tr th:only-of-type {\n",
       "        vertical-align: middle;\n",
       "    }\n",
       "\n",
       "    .dataframe tbody tr th {\n",
       "        vertical-align: top;\n",
       "    }\n",
       "\n",
       "    .dataframe thead th {\n",
       "        text-align: right;\n",
       "    }\n",
       "</style>\n",
       "<table border=\"1\" class=\"dataframe\">\n",
       "  <thead>\n",
       "    <tr style=\"text-align: right;\">\n",
       "      <th></th>\n",
       "      <th>event_datetime</th>\n",
       "      <th>event</th>\n",
       "      <th>building_type</th>\n",
       "      <th>user_id</th>\n",
       "      <th>project_type</th>\n",
       "      <th>event_date</th>\n",
       "      <th>event_week</th>\n",
       "      <th>type</th>\n",
       "      <th>first_date</th>\n",
       "      <th>event_day</th>\n",
       "      <th>first_day</th>\n",
       "      <th>cohort_lifetime</th>\n",
       "    </tr>\n",
       "  </thead>\n",
       "  <tbody>\n",
       "    <tr>\n",
       "      <th>0</th>\n",
       "      <td>2020-05-04 00:00:01</td>\n",
       "      <td>building</td>\n",
       "      <td>assembly_shop</td>\n",
       "      <td>55e92310-cb8e-4754-b622-597e124b03de</td>\n",
       "      <td>NaN</td>\n",
       "      <td>2020-05-04</td>\n",
       "      <td>19</td>\n",
       "      <td>Первый уровень не завершен</td>\n",
       "      <td>2020-05-04</td>\n",
       "      <td>2020-05-04</td>\n",
       "      <td>2020-05-04</td>\n",
       "      <td>0</td>\n",
       "    </tr>\n",
       "    <tr>\n",
       "      <th>1</th>\n",
       "      <td>2020-05-04 00:00:03</td>\n",
       "      <td>building</td>\n",
       "      <td>assembly_shop</td>\n",
       "      <td>c07b1c10-f477-44dc-81dc-ec82254b1347</td>\n",
       "      <td>NaN</td>\n",
       "      <td>2020-05-04</td>\n",
       "      <td>19</td>\n",
       "      <td>Реализация проекта</td>\n",
       "      <td>2020-05-04</td>\n",
       "      <td>2020-05-04</td>\n",
       "      <td>2020-05-04</td>\n",
       "      <td>0</td>\n",
       "    </tr>\n",
       "    <tr>\n",
       "      <th>2</th>\n",
       "      <td>2020-05-04 00:00:16</td>\n",
       "      <td>building</td>\n",
       "      <td>assembly_shop</td>\n",
       "      <td>6edd42cc-e753-4ff6-a947-2107cd560710</td>\n",
       "      <td>NaN</td>\n",
       "      <td>2020-05-04</td>\n",
       "      <td>19</td>\n",
       "      <td>Победа над первым врагом</td>\n",
       "      <td>2020-05-04</td>\n",
       "      <td>2020-05-04</td>\n",
       "      <td>2020-05-04</td>\n",
       "      <td>0</td>\n",
       "    </tr>\n",
       "    <tr>\n",
       "      <th>3</th>\n",
       "      <td>2020-05-04 00:00:16</td>\n",
       "      <td>building</td>\n",
       "      <td>assembly_shop</td>\n",
       "      <td>92c69003-d60a-444a-827f-8cc51bf6bf4c</td>\n",
       "      <td>NaN</td>\n",
       "      <td>2020-05-04</td>\n",
       "      <td>19</td>\n",
       "      <td>Первый уровень не завершен</td>\n",
       "      <td>2020-05-04</td>\n",
       "      <td>2020-05-04</td>\n",
       "      <td>2020-05-04</td>\n",
       "      <td>0</td>\n",
       "    </tr>\n",
       "    <tr>\n",
       "      <th>4</th>\n",
       "      <td>2020-05-04 00:00:35</td>\n",
       "      <td>building</td>\n",
       "      <td>assembly_shop</td>\n",
       "      <td>cdc6bb92-0ccb-4490-9866-ef142f09139d</td>\n",
       "      <td>NaN</td>\n",
       "      <td>2020-05-04</td>\n",
       "      <td>19</td>\n",
       "      <td>Победа над первым врагом</td>\n",
       "      <td>2020-05-04</td>\n",
       "      <td>2020-05-04</td>\n",
       "      <td>2020-05-04</td>\n",
       "      <td>0</td>\n",
       "    </tr>\n",
       "  </tbody>\n",
       "</table>\n",
       "</div>"
      ],
      "text/plain": [
       "       event_datetime     event  building_type  \\\n",
       "0 2020-05-04 00:00:01  building  assembly_shop   \n",
       "1 2020-05-04 00:00:03  building  assembly_shop   \n",
       "2 2020-05-04 00:00:16  building  assembly_shop   \n",
       "3 2020-05-04 00:00:16  building  assembly_shop   \n",
       "4 2020-05-04 00:00:35  building  assembly_shop   \n",
       "\n",
       "                                user_id project_type  event_date  event_week  \\\n",
       "0  55e92310-cb8e-4754-b622-597e124b03de          NaN  2020-05-04          19   \n",
       "1  c07b1c10-f477-44dc-81dc-ec82254b1347          NaN  2020-05-04          19   \n",
       "2  6edd42cc-e753-4ff6-a947-2107cd560710          NaN  2020-05-04          19   \n",
       "3  92c69003-d60a-444a-827f-8cc51bf6bf4c          NaN  2020-05-04          19   \n",
       "4  cdc6bb92-0ccb-4490-9866-ef142f09139d          NaN  2020-05-04          19   \n",
       "\n",
       "                         type  first_date  event_day  first_day  \\\n",
       "0  Первый уровень не завершен  2020-05-04 2020-05-04 2020-05-04   \n",
       "1          Реализация проекта  2020-05-04 2020-05-04 2020-05-04   \n",
       "2    Победа над первым врагом  2020-05-04 2020-05-04 2020-05-04   \n",
       "3  Первый уровень не завершен  2020-05-04 2020-05-04 2020-05-04   \n",
       "4    Победа над первым врагом  2020-05-04 2020-05-04 2020-05-04   \n",
       "\n",
       "   cohort_lifetime  \n",
       "0                0  \n",
       "1                0  \n",
       "2                0  \n",
       "3                0  \n",
       "4                0  "
      ]
     },
     "execution_count": 87,
     "metadata": {},
     "output_type": "execute_result"
    }
   ],
   "source": [
    "# Рассчитаем lifetime пользователя в рамках когорты\n",
    "\n",
    "game_actions['cohort_lifetime'] = game_actions['event_day'] - game_actions['first_day']\n",
    "game_actions['cohort_lifetime'] = game_actions['cohort_lifetime'] / np.timedelta64(1, 'D')\n",
    "game_actions['cohort_lifetime'] = game_actions['cohort_lifetime'].round().astype('int') \n",
    "\n",
    "game_actions.head()"
   ]
  },
  {
   "cell_type": "code",
   "execution_count": 88,
   "metadata": {},
   "outputs": [
    {
     "data": {
      "text/html": [
       "<div>\n",
       "<style scoped>\n",
       "    .dataframe tbody tr th:only-of-type {\n",
       "        vertical-align: middle;\n",
       "    }\n",
       "\n",
       "    .dataframe tbody tr th {\n",
       "        vertical-align: top;\n",
       "    }\n",
       "\n",
       "    .dataframe thead th {\n",
       "        text-align: right;\n",
       "    }\n",
       "</style>\n",
       "<table border=\"1\" class=\"dataframe\">\n",
       "  <thead>\n",
       "    <tr style=\"text-align: right;\">\n",
       "      <th></th>\n",
       "      <th>first_day</th>\n",
       "      <th>cohort_lifetime</th>\n",
       "      <th>user_id</th>\n",
       "    </tr>\n",
       "  </thead>\n",
       "  <tbody>\n",
       "    <tr>\n",
       "      <th>0</th>\n",
       "      <td>2020-05-04</td>\n",
       "      <td>0</td>\n",
       "      <td>5860</td>\n",
       "    </tr>\n",
       "    <tr>\n",
       "      <th>1</th>\n",
       "      <td>2020-05-04</td>\n",
       "      <td>1</td>\n",
       "      <td>3021</td>\n",
       "    </tr>\n",
       "    <tr>\n",
       "      <th>2</th>\n",
       "      <td>2020-05-04</td>\n",
       "      <td>2</td>\n",
       "      <td>3204</td>\n",
       "    </tr>\n",
       "    <tr>\n",
       "      <th>3</th>\n",
       "      <td>2020-05-04</td>\n",
       "      <td>3</td>\n",
       "      <td>3412</td>\n",
       "    </tr>\n",
       "    <tr>\n",
       "      <th>4</th>\n",
       "      <td>2020-05-04</td>\n",
       "      <td>4</td>\n",
       "      <td>3564</td>\n",
       "    </tr>\n",
       "  </tbody>\n",
       "</table>\n",
       "</div>"
      ],
      "text/plain": [
       "   first_day  cohort_lifetime  user_id\n",
       "0 2020-05-04                0     5860\n",
       "1 2020-05-04                1     3021\n",
       "2 2020-05-04                2     3204\n",
       "3 2020-05-04                3     3412\n",
       "4 2020-05-04                4     3564"
      ]
     },
     "execution_count": 88,
     "metadata": {},
     "output_type": "execute_result"
    }
   ],
   "source": [
    "# Сгруппируем данные по когорте и lifetime\n",
    "\n",
    "cohorts = game_actions.groupby(['first_day','cohort_lifetime']).agg({'user_id':'nunique'}).reset_index() \n",
    "cohorts.head()"
   ]
  },
  {
   "cell_type": "code",
   "execution_count": 89,
   "metadata": {},
   "outputs": [
    {
     "data": {
      "text/html": [
       "<div>\n",
       "<style scoped>\n",
       "    .dataframe tbody tr th:only-of-type {\n",
       "        vertical-align: middle;\n",
       "    }\n",
       "\n",
       "    .dataframe tbody tr th {\n",
       "        vertical-align: top;\n",
       "    }\n",
       "\n",
       "    .dataframe thead th {\n",
       "        text-align: right;\n",
       "    }\n",
       "</style>\n",
       "<table border=\"1\" class=\"dataframe\">\n",
       "  <thead>\n",
       "    <tr style=\"text-align: right;\">\n",
       "      <th></th>\n",
       "      <th>first_day</th>\n",
       "      <th>user_id</th>\n",
       "    </tr>\n",
       "  </thead>\n",
       "  <tbody>\n",
       "    <tr>\n",
       "      <th>0</th>\n",
       "      <td>2020-05-04</td>\n",
       "      <td>5860</td>\n",
       "    </tr>\n",
       "    <tr>\n",
       "      <th>32</th>\n",
       "      <td>2020-05-05</td>\n",
       "      <td>3361</td>\n",
       "    </tr>\n",
       "    <tr>\n",
       "      <th>61</th>\n",
       "      <td>2020-05-06</td>\n",
       "      <td>1847</td>\n",
       "    </tr>\n",
       "    <tr>\n",
       "      <th>92</th>\n",
       "      <td>2020-05-07</td>\n",
       "      <td>1109</td>\n",
       "    </tr>\n",
       "    <tr>\n",
       "      <th>122</th>\n",
       "      <td>2020-05-08</td>\n",
       "      <td>688</td>\n",
       "    </tr>\n",
       "    <tr>\n",
       "      <th>149</th>\n",
       "      <td>2020-05-09</td>\n",
       "      <td>440</td>\n",
       "    </tr>\n",
       "    <tr>\n",
       "      <th>175</th>\n",
       "      <td>2020-05-10</td>\n",
       "      <td>271</td>\n",
       "    </tr>\n",
       "  </tbody>\n",
       "</table>\n",
       "</div>"
      ],
      "text/plain": [
       "     first_day  user_id\n",
       "0   2020-05-04     5860\n",
       "32  2020-05-05     3361\n",
       "61  2020-05-06     1847\n",
       "92  2020-05-07     1109\n",
       "122 2020-05-08      688\n",
       "149 2020-05-09      440\n",
       "175 2020-05-10      271"
      ]
     },
     "execution_count": 89,
     "metadata": {},
     "output_type": "execute_result"
    }
   ],
   "source": [
    "# Найдём исходное количество пользователей в когорте\n",
    "\n",
    "initial_users_count = cohorts[cohorts['cohort_lifetime'] == 0][['first_day', 'user_id']]\n",
    "initial_users_count"
   ]
  },
  {
   "cell_type": "code",
   "execution_count": 90,
   "metadata": {},
   "outputs": [],
   "source": [
    "# Переименуем столбец uid в cohort_users\n",
    "\n",
    "initial_users_count = initial_users_count.rename(columns={'user_id':'cohort_users'}) "
   ]
  },
  {
   "cell_type": "code",
   "execution_count": 91,
   "metadata": {},
   "outputs": [
    {
     "data": {
      "text/html": [
       "<div>\n",
       "<style scoped>\n",
       "    .dataframe tbody tr th:only-of-type {\n",
       "        vertical-align: middle;\n",
       "    }\n",
       "\n",
       "    .dataframe tbody tr th {\n",
       "        vertical-align: top;\n",
       "    }\n",
       "\n",
       "    .dataframe thead th {\n",
       "        text-align: right;\n",
       "    }\n",
       "</style>\n",
       "<table border=\"1\" class=\"dataframe\">\n",
       "  <thead>\n",
       "    <tr style=\"text-align: right;\">\n",
       "      <th></th>\n",
       "      <th>first_day</th>\n",
       "      <th>cohort_lifetime</th>\n",
       "      <th>user_id</th>\n",
       "      <th>cohort_users</th>\n",
       "    </tr>\n",
       "  </thead>\n",
       "  <tbody>\n",
       "    <tr>\n",
       "      <th>0</th>\n",
       "      <td>2020-05-04</td>\n",
       "      <td>0</td>\n",
       "      <td>5860</td>\n",
       "      <td>5860</td>\n",
       "    </tr>\n",
       "    <tr>\n",
       "      <th>1</th>\n",
       "      <td>2020-05-04</td>\n",
       "      <td>1</td>\n",
       "      <td>3021</td>\n",
       "      <td>5860</td>\n",
       "    </tr>\n",
       "    <tr>\n",
       "      <th>2</th>\n",
       "      <td>2020-05-04</td>\n",
       "      <td>2</td>\n",
       "      <td>3204</td>\n",
       "      <td>5860</td>\n",
       "    </tr>\n",
       "    <tr>\n",
       "      <th>3</th>\n",
       "      <td>2020-05-04</td>\n",
       "      <td>3</td>\n",
       "      <td>3412</td>\n",
       "      <td>5860</td>\n",
       "    </tr>\n",
       "    <tr>\n",
       "      <th>4</th>\n",
       "      <td>2020-05-04</td>\n",
       "      <td>4</td>\n",
       "      <td>3564</td>\n",
       "      <td>5860</td>\n",
       "    </tr>\n",
       "  </tbody>\n",
       "</table>\n",
       "</div>"
      ],
      "text/plain": [
       "   first_day  cohort_lifetime  user_id  cohort_users\n",
       "0 2020-05-04                0     5860          5860\n",
       "1 2020-05-04                1     3021          5860\n",
       "2 2020-05-04                2     3204          5860\n",
       "3 2020-05-04                3     3412          5860\n",
       "4 2020-05-04                4     3564          5860"
      ]
     },
     "execution_count": 91,
     "metadata": {},
     "output_type": "execute_result"
    }
   ],
   "source": [
    "# Объединим данные по когортам с исходным количеством пользователей в когорте\n",
    "\n",
    "cohorts = cohorts.merge(initial_users_count,on='first_day') \n",
    "cohorts.head()"
   ]
  },
  {
   "cell_type": "code",
   "execution_count": 92,
   "metadata": {},
   "outputs": [
    {
     "data": {
      "text/html": [
       "<div>\n",
       "<style scoped>\n",
       "    .dataframe tbody tr th:only-of-type {\n",
       "        vertical-align: middle;\n",
       "    }\n",
       "\n",
       "    .dataframe tbody tr th {\n",
       "        vertical-align: top;\n",
       "    }\n",
       "\n",
       "    .dataframe thead th {\n",
       "        text-align: right;\n",
       "    }\n",
       "</style>\n",
       "<table border=\"1\" class=\"dataframe\">\n",
       "  <thead>\n",
       "    <tr style=\"text-align: right;\">\n",
       "      <th></th>\n",
       "      <th>first_day</th>\n",
       "      <th>cohort_lifetime</th>\n",
       "      <th>user_id</th>\n",
       "      <th>cohort_users</th>\n",
       "      <th>retention</th>\n",
       "    </tr>\n",
       "  </thead>\n",
       "  <tbody>\n",
       "    <tr>\n",
       "      <th>0</th>\n",
       "      <td>2020-05-04</td>\n",
       "      <td>0</td>\n",
       "      <td>5860</td>\n",
       "      <td>5860</td>\n",
       "      <td>1.000000</td>\n",
       "    </tr>\n",
       "    <tr>\n",
       "      <th>1</th>\n",
       "      <td>2020-05-04</td>\n",
       "      <td>1</td>\n",
       "      <td>3021</td>\n",
       "      <td>5860</td>\n",
       "      <td>0.515529</td>\n",
       "    </tr>\n",
       "    <tr>\n",
       "      <th>2</th>\n",
       "      <td>2020-05-04</td>\n",
       "      <td>2</td>\n",
       "      <td>3204</td>\n",
       "      <td>5860</td>\n",
       "      <td>0.546758</td>\n",
       "    </tr>\n",
       "    <tr>\n",
       "      <th>3</th>\n",
       "      <td>2020-05-04</td>\n",
       "      <td>3</td>\n",
       "      <td>3412</td>\n",
       "      <td>5860</td>\n",
       "      <td>0.582253</td>\n",
       "    </tr>\n",
       "    <tr>\n",
       "      <th>4</th>\n",
       "      <td>2020-05-04</td>\n",
       "      <td>4</td>\n",
       "      <td>3564</td>\n",
       "      <td>5860</td>\n",
       "      <td>0.608191</td>\n",
       "    </tr>\n",
       "  </tbody>\n",
       "</table>\n",
       "</div>"
      ],
      "text/plain": [
       "   first_day  cohort_lifetime  user_id  cohort_users  retention\n",
       "0 2020-05-04                0     5860          5860   1.000000\n",
       "1 2020-05-04                1     3021          5860   0.515529\n",
       "2 2020-05-04                2     3204          5860   0.546758\n",
       "3 2020-05-04                3     3412          5860   0.582253\n",
       "4 2020-05-04                4     3564          5860   0.608191"
      ]
     },
     "execution_count": 92,
     "metadata": {},
     "output_type": "execute_result"
    }
   ],
   "source": [
    "# Рассчитаем Retention Rate\n",
    "\n",
    "cohorts['retention'] = cohorts['user_id']/cohorts['cohort_users'] \n",
    "cohorts.head()"
   ]
  },
  {
   "cell_type": "code",
   "execution_count": 93,
   "metadata": {},
   "outputs": [
    {
     "data": {
      "text/html": [
       "<div>\n",
       "<style scoped>\n",
       "    .dataframe tbody tr th:only-of-type {\n",
       "        vertical-align: middle;\n",
       "    }\n",
       "\n",
       "    .dataframe tbody tr th {\n",
       "        vertical-align: top;\n",
       "    }\n",
       "\n",
       "    .dataframe thead th {\n",
       "        text-align: right;\n",
       "    }\n",
       "</style>\n",
       "<table border=\"1\" class=\"dataframe\">\n",
       "  <thead>\n",
       "    <tr style=\"text-align: right;\">\n",
       "      <th>cohort_lifetime</th>\n",
       "      <th>0</th>\n",
       "      <th>1</th>\n",
       "      <th>2</th>\n",
       "      <th>3</th>\n",
       "      <th>4</th>\n",
       "      <th>5</th>\n",
       "      <th>6</th>\n",
       "      <th>7</th>\n",
       "      <th>8</th>\n",
       "      <th>9</th>\n",
       "      <th>...</th>\n",
       "      <th>22</th>\n",
       "      <th>23</th>\n",
       "      <th>24</th>\n",
       "      <th>25</th>\n",
       "      <th>26</th>\n",
       "      <th>27</th>\n",
       "      <th>28</th>\n",
       "      <th>29</th>\n",
       "      <th>30</th>\n",
       "      <th>31</th>\n",
       "    </tr>\n",
       "    <tr>\n",
       "      <th>first_day</th>\n",
       "      <th></th>\n",
       "      <th></th>\n",
       "      <th></th>\n",
       "      <th></th>\n",
       "      <th></th>\n",
       "      <th></th>\n",
       "      <th></th>\n",
       "      <th></th>\n",
       "      <th></th>\n",
       "      <th></th>\n",
       "      <th></th>\n",
       "      <th></th>\n",
       "      <th></th>\n",
       "      <th></th>\n",
       "      <th></th>\n",
       "      <th></th>\n",
       "      <th></th>\n",
       "      <th></th>\n",
       "      <th></th>\n",
       "      <th></th>\n",
       "      <th></th>\n",
       "    </tr>\n",
       "  </thead>\n",
       "  <tbody>\n",
       "    <tr>\n",
       "      <th>2020-05-04</th>\n",
       "      <td>1.0</td>\n",
       "      <td>0.515529</td>\n",
       "      <td>0.546758</td>\n",
       "      <td>0.582253</td>\n",
       "      <td>0.608191</td>\n",
       "      <td>0.641297</td>\n",
       "      <td>0.710068</td>\n",
       "      <td>0.465529</td>\n",
       "      <td>0.427304</td>\n",
       "      <td>0.405973</td>\n",
       "      <td>...</td>\n",
       "      <td>0.007338</td>\n",
       "      <td>0.004949</td>\n",
       "      <td>0.003242</td>\n",
       "      <td>0.002048</td>\n",
       "      <td>0.001024</td>\n",
       "      <td>0.000683</td>\n",
       "      <td>0.000341</td>\n",
       "      <td>0.000171</td>\n",
       "      <td>0.000341</td>\n",
       "      <td>0.000341</td>\n",
       "    </tr>\n",
       "    <tr>\n",
       "      <th>2020-05-05</th>\n",
       "      <td>1.0</td>\n",
       "      <td>0.536447</td>\n",
       "      <td>0.566201</td>\n",
       "      <td>0.612318</td>\n",
       "      <td>0.634633</td>\n",
       "      <td>0.687891</td>\n",
       "      <td>0.472776</td>\n",
       "      <td>0.451056</td>\n",
       "      <td>0.408807</td>\n",
       "      <td>0.380839</td>\n",
       "      <td>...</td>\n",
       "      <td>0.006843</td>\n",
       "      <td>0.004760</td>\n",
       "      <td>0.002678</td>\n",
       "      <td>0.002380</td>\n",
       "      <td>0.000893</td>\n",
       "      <td>0.000595</td>\n",
       "      <td>0.000298</td>\n",
       "      <td>NaN</td>\n",
       "      <td>NaN</td>\n",
       "      <td>NaN</td>\n",
       "    </tr>\n",
       "    <tr>\n",
       "      <th>2020-05-06</th>\n",
       "      <td>1.0</td>\n",
       "      <td>0.519762</td>\n",
       "      <td>0.551164</td>\n",
       "      <td>0.605306</td>\n",
       "      <td>0.662696</td>\n",
       "      <td>0.434218</td>\n",
       "      <td>0.443963</td>\n",
       "      <td>0.434759</td>\n",
       "      <td>0.371413</td>\n",
       "      <td>0.332431</td>\n",
       "      <td>...</td>\n",
       "      <td>0.004873</td>\n",
       "      <td>0.005414</td>\n",
       "      <td>0.002166</td>\n",
       "      <td>0.001624</td>\n",
       "      <td>0.001624</td>\n",
       "      <td>0.002166</td>\n",
       "      <td>0.000541</td>\n",
       "      <td>0.000541</td>\n",
       "      <td>0.000541</td>\n",
       "      <td>NaN</td>\n",
       "    </tr>\n",
       "    <tr>\n",
       "      <th>2020-05-07</th>\n",
       "      <td>1.0</td>\n",
       "      <td>0.507665</td>\n",
       "      <td>0.552750</td>\n",
       "      <td>0.599639</td>\n",
       "      <td>0.382326</td>\n",
       "      <td>0.400361</td>\n",
       "      <td>0.459874</td>\n",
       "      <td>0.390442</td>\n",
       "      <td>0.329125</td>\n",
       "      <td>0.291253</td>\n",
       "      <td>...</td>\n",
       "      <td>0.009919</td>\n",
       "      <td>0.006312</td>\n",
       "      <td>0.002705</td>\n",
       "      <td>0.005410</td>\n",
       "      <td>0.002705</td>\n",
       "      <td>0.002705</td>\n",
       "      <td>0.002705</td>\n",
       "      <td>0.002705</td>\n",
       "      <td>NaN</td>\n",
       "      <td>NaN</td>\n",
       "    </tr>\n",
       "    <tr>\n",
       "      <th>2020-05-08</th>\n",
       "      <td>1.0</td>\n",
       "      <td>0.482558</td>\n",
       "      <td>0.545058</td>\n",
       "      <td>0.351744</td>\n",
       "      <td>0.380814</td>\n",
       "      <td>0.414244</td>\n",
       "      <td>0.440407</td>\n",
       "      <td>0.376453</td>\n",
       "      <td>0.261628</td>\n",
       "      <td>0.312500</td>\n",
       "      <td>...</td>\n",
       "      <td>0.004360</td>\n",
       "      <td>0.007267</td>\n",
       "      <td>0.001453</td>\n",
       "      <td>NaN</td>\n",
       "      <td>0.002907</td>\n",
       "      <td>0.001453</td>\n",
       "      <td>NaN</td>\n",
       "      <td>NaN</td>\n",
       "      <td>NaN</td>\n",
       "      <td>NaN</td>\n",
       "    </tr>\n",
       "    <tr>\n",
       "      <th>2020-05-09</th>\n",
       "      <td>1.0</td>\n",
       "      <td>0.479545</td>\n",
       "      <td>0.320455</td>\n",
       "      <td>0.338636</td>\n",
       "      <td>0.436364</td>\n",
       "      <td>0.390909</td>\n",
       "      <td>0.420455</td>\n",
       "      <td>0.381818</td>\n",
       "      <td>0.270455</td>\n",
       "      <td>0.215909</td>\n",
       "      <td>...</td>\n",
       "      <td>0.006818</td>\n",
       "      <td>0.002273</td>\n",
       "      <td>0.002273</td>\n",
       "      <td>0.002273</td>\n",
       "      <td>NaN</td>\n",
       "      <td>NaN</td>\n",
       "      <td>NaN</td>\n",
       "      <td>NaN</td>\n",
       "      <td>NaN</td>\n",
       "      <td>NaN</td>\n",
       "    </tr>\n",
       "    <tr>\n",
       "      <th>2020-05-10</th>\n",
       "      <td>1.0</td>\n",
       "      <td>0.254613</td>\n",
       "      <td>0.298893</td>\n",
       "      <td>0.328413</td>\n",
       "      <td>0.339483</td>\n",
       "      <td>0.413284</td>\n",
       "      <td>0.435424</td>\n",
       "      <td>0.369004</td>\n",
       "      <td>0.210332</td>\n",
       "      <td>0.210332</td>\n",
       "      <td>...</td>\n",
       "      <td>0.003690</td>\n",
       "      <td>0.003690</td>\n",
       "      <td>NaN</td>\n",
       "      <td>NaN</td>\n",
       "      <td>NaN</td>\n",
       "      <td>NaN</td>\n",
       "      <td>NaN</td>\n",
       "      <td>NaN</td>\n",
       "      <td>NaN</td>\n",
       "      <td>NaN</td>\n",
       "    </tr>\n",
       "  </tbody>\n",
       "</table>\n",
       "<p>7 rows × 32 columns</p>\n",
       "</div>"
      ],
      "text/plain": [
       "cohort_lifetime   0         1         2         3         4         5   \\\n",
       "first_day                                                                \n",
       "2020-05-04       1.0  0.515529  0.546758  0.582253  0.608191  0.641297   \n",
       "2020-05-05       1.0  0.536447  0.566201  0.612318  0.634633  0.687891   \n",
       "2020-05-06       1.0  0.519762  0.551164  0.605306  0.662696  0.434218   \n",
       "2020-05-07       1.0  0.507665  0.552750  0.599639  0.382326  0.400361   \n",
       "2020-05-08       1.0  0.482558  0.545058  0.351744  0.380814  0.414244   \n",
       "2020-05-09       1.0  0.479545  0.320455  0.338636  0.436364  0.390909   \n",
       "2020-05-10       1.0  0.254613  0.298893  0.328413  0.339483  0.413284   \n",
       "\n",
       "cohort_lifetime        6         7         8         9   ...        22  \\\n",
       "first_day                                                ...             \n",
       "2020-05-04       0.710068  0.465529  0.427304  0.405973  ...  0.007338   \n",
       "2020-05-05       0.472776  0.451056  0.408807  0.380839  ...  0.006843   \n",
       "2020-05-06       0.443963  0.434759  0.371413  0.332431  ...  0.004873   \n",
       "2020-05-07       0.459874  0.390442  0.329125  0.291253  ...  0.009919   \n",
       "2020-05-08       0.440407  0.376453  0.261628  0.312500  ...  0.004360   \n",
       "2020-05-09       0.420455  0.381818  0.270455  0.215909  ...  0.006818   \n",
       "2020-05-10       0.435424  0.369004  0.210332  0.210332  ...  0.003690   \n",
       "\n",
       "cohort_lifetime        23        24        25        26        27        28  \\\n",
       "first_day                                                                     \n",
       "2020-05-04       0.004949  0.003242  0.002048  0.001024  0.000683  0.000341   \n",
       "2020-05-05       0.004760  0.002678  0.002380  0.000893  0.000595  0.000298   \n",
       "2020-05-06       0.005414  0.002166  0.001624  0.001624  0.002166  0.000541   \n",
       "2020-05-07       0.006312  0.002705  0.005410  0.002705  0.002705  0.002705   \n",
       "2020-05-08       0.007267  0.001453       NaN  0.002907  0.001453       NaN   \n",
       "2020-05-09       0.002273  0.002273  0.002273       NaN       NaN       NaN   \n",
       "2020-05-10       0.003690       NaN       NaN       NaN       NaN       NaN   \n",
       "\n",
       "cohort_lifetime        29        30        31  \n",
       "first_day                                      \n",
       "2020-05-04       0.000171  0.000341  0.000341  \n",
       "2020-05-05            NaN       NaN       NaN  \n",
       "2020-05-06       0.000541  0.000541       NaN  \n",
       "2020-05-07       0.002705       NaN       NaN  \n",
       "2020-05-08            NaN       NaN       NaN  \n",
       "2020-05-09            NaN       NaN       NaN  \n",
       "2020-05-10            NaN       NaN       NaN  \n",
       "\n",
       "[7 rows x 32 columns]"
      ]
     },
     "execution_count": 93,
     "metadata": {},
     "output_type": "execute_result"
    }
   ],
   "source": [
    "# Построим сводную таблицу\n",
    "\n",
    "retention_pivot = cohorts.pivot_table(\n",
    "    index='first_day',\n",
    "    columns='cohort_lifetime',\n",
    "    values='retention',\n",
    "    aggfunc='sum',\n",
    ") \n",
    "retention_pivot"
   ]
  },
  {
   "cell_type": "code",
   "execution_count": 94,
   "metadata": {},
   "outputs": [
    {
     "data": {
      "image/png": "[encoded data removed]",
      "text/plain": [
       "<Figure size 1944x1080 with 2 Axes>"
      ]
     },
     "metadata": {
      "needs_background": "light"
     },
     "output_type": "display_data"
    }
   ],
   "source": [
    "# Построим тепловую карту\n",
    "\n",
    "plt.figure(figsize=(27, 15))\n",
    "retention_pivot.index = retention_pivot.index.strftime(\"%d/%m/%Y\")\n",
    "plt.title('Коэффициент Retention Rate')\n",
    "sns.heatmap(retention_pivot.iloc[:, 1:], annot=True, fmt='.1%', linewidths=1, linecolor='gray', cmap= 'coolwarm')\n",
    "plt.show()"
   ]
  },
  {
   "cell_type": "code",
   "execution_count": 95,
   "metadata": {},
   "outputs": [
    {
     "name": "stdout",
     "output_type": "stream",
     "text": [
      "Средний Retention Rate на второй день «жизни» когорт: 47.09%\n"
     ]
    }
   ],
   "source": [
    "# Рассчитаем средний Retention Rate на второй день\n",
    "\n",
    "print('Средний Retention Rate на второй день «жизни» когорт: {:.2%}'.format(retention_pivot[1].mean()))"
   ]
  },
  {
   "cell_type": "markdown",
   "metadata": {},
   "source": [
    "Рассчитали коэффициент удержания Retention Rate, применяя когортный анализ. Определили, сколько пользователей из когорты относительно их изначального числа вернулось в последующие периоды.\n",
    "\n",
    "Определили событие и период, на их основе сформировали когорту. Возяли дату, когда пользователь впервые совершил действие в игре. Периодом формирования когорты выбрали один день.\n",
    "\n",
    "Сгруппировали данные по когорте и lifetime. Посчитали для каждой когорты количество активных пользователей на определённый «день жизни». Нашли исходное количество пользователей в когорте,возяли их число на нулевой месяц. Объединили данные по когортам с исходным количеством пользователей в когорте. Посчитали Retention Rate и отобразили значения в сводной таблице.\n",
    "\n",
    "Построили тепловую карту, исключив при выводе нулевой месяц:\n",
    "\n",
    "- На тепловой карте выделяется когорта 05/05/2020, коэффициент Retention Rate = 53,6%.\n",
    "- Средний Retention Rate на второй день «жизни» когорт: 47.09%. Это хороший показатель, так как по данным из интернета средний 1-дневный Retention считается хорошим при 40+%. "
   ]
  },
  {
   "cell_type": "markdown",
   "metadata": {},
   "source": [
    "### Стоимость привлечения клиента CAC."
   ]
  },
  {
   "cell_type": "code",
   "execution_count": 96,
   "metadata": {},
   "outputs": [
    {
     "data": {
      "text/html": [
       "<div>\n",
       "<style scoped>\n",
       "    .dataframe tbody tr th:only-of-type {\n",
       "        vertical-align: middle;\n",
       "    }\n",
       "\n",
       "    .dataframe tbody tr th {\n",
       "        vertical-align: top;\n",
       "    }\n",
       "\n",
       "    .dataframe thead th {\n",
       "        text-align: right;\n",
       "    }\n",
       "</style>\n",
       "<table border=\"1\" class=\"dataframe\">\n",
       "  <thead>\n",
       "    <tr style=\"text-align: right;\">\n",
       "      <th></th>\n",
       "      <th>source</th>\n",
       "      <th>user_id</th>\n",
       "      <th>cost</th>\n",
       "    </tr>\n",
       "  </thead>\n",
       "  <tbody>\n",
       "    <tr>\n",
       "      <th>0</th>\n",
       "      <td>facebook_ads</td>\n",
       "      <td>2726</td>\n",
       "      <td>2140.904643</td>\n",
       "    </tr>\n",
       "    <tr>\n",
       "      <th>1</th>\n",
       "      <td>instagram_new_adverts</td>\n",
       "      <td>3347</td>\n",
       "      <td>2161.441691</td>\n",
       "    </tr>\n",
       "    <tr>\n",
       "      <th>2</th>\n",
       "      <td>yandex_direct</td>\n",
       "      <td>4817</td>\n",
       "      <td>2233.111449</td>\n",
       "    </tr>\n",
       "    <tr>\n",
       "      <th>3</th>\n",
       "      <td>youtube_channel_reklama</td>\n",
       "      <td>2686</td>\n",
       "      <td>1068.119204</td>\n",
       "    </tr>\n",
       "  </tbody>\n",
       "</table>\n",
       "</div>"
      ],
      "text/plain": [
       "                    source  user_id         cost\n",
       "0             facebook_ads     2726  2140.904643\n",
       "1    instagram_new_adverts     3347  2161.441691\n",
       "2            yandex_direct     4817  2233.111449\n",
       "3  youtube_channel_reklama     2686  1068.119204"
      ]
     },
     "execution_count": 96,
     "metadata": {},
     "output_type": "execute_result"
    }
   ],
   "source": [
    "# Объединим дополнительные датасеты\n",
    "\n",
    "ad_costs_source = pd.merge(user_source.groupby('source'\n",
    "                                              ).agg('count'), ad_costs.groupby('source'\n",
    "                                                                              ).agg('sum'), on = ['source'],\n",
    "                                                                                               how = 'inner').reset_index()\n",
    "ad_costs_source"
   ]
  },
  {
   "cell_type": "code",
   "execution_count": 97,
   "metadata": {},
   "outputs": [
    {
     "data": {
      "text/html": [
       "<div>\n",
       "<style scoped>\n",
       "    .dataframe tbody tr th:only-of-type {\n",
       "        vertical-align: middle;\n",
       "    }\n",
       "\n",
       "    .dataframe tbody tr th {\n",
       "        vertical-align: top;\n",
       "    }\n",
       "\n",
       "    .dataframe thead th {\n",
       "        text-align: right;\n",
       "    }\n",
       "</style>\n",
       "<table border=\"1\" class=\"dataframe\">\n",
       "  <thead>\n",
       "    <tr style=\"text-align: right;\">\n",
       "      <th></th>\n",
       "      <th>source</th>\n",
       "      <th>user_id</th>\n",
       "      <th>cost</th>\n",
       "      <th>CAC</th>\n",
       "    </tr>\n",
       "  </thead>\n",
       "  <tbody>\n",
       "    <tr>\n",
       "      <th>0</th>\n",
       "      <td>facebook_ads</td>\n",
       "      <td>2726</td>\n",
       "      <td>2140.904643</td>\n",
       "      <td>0.785365</td>\n",
       "    </tr>\n",
       "    <tr>\n",
       "      <th>1</th>\n",
       "      <td>instagram_new_adverts</td>\n",
       "      <td>3347</td>\n",
       "      <td>2161.441691</td>\n",
       "      <td>0.645785</td>\n",
       "    </tr>\n",
       "    <tr>\n",
       "      <th>2</th>\n",
       "      <td>yandex_direct</td>\n",
       "      <td>4817</td>\n",
       "      <td>2233.111449</td>\n",
       "      <td>0.463590</td>\n",
       "    </tr>\n",
       "    <tr>\n",
       "      <th>3</th>\n",
       "      <td>youtube_channel_reklama</td>\n",
       "      <td>2686</td>\n",
       "      <td>1068.119204</td>\n",
       "      <td>0.397662</td>\n",
       "    </tr>\n",
       "  </tbody>\n",
       "</table>\n",
       "</div>"
      ],
      "text/plain": [
       "                    source  user_id         cost       CAC\n",
       "0             facebook_ads     2726  2140.904643  0.785365\n",
       "1    instagram_new_adverts     3347  2161.441691  0.645785\n",
       "2            yandex_direct     4817  2233.111449  0.463590\n",
       "3  youtube_channel_reklama     2686  1068.119204  0.397662"
      ]
     },
     "execution_count": 97,
     "metadata": {},
     "output_type": "execute_result"
    }
   ],
   "source": [
    "# Расчитаем стоимость привлечения САС\n",
    "\n",
    "ad_costs_source['CAC'] = ad_costs_source['cost'] / ad_costs_source['user_id'] \n",
    "ad_costs_source"
   ]
  },
  {
   "cell_type": "code",
   "execution_count": 98,
   "metadata": {},
   "outputs": [
    {
     "data": {
      "text/plain": [
       "0.5731002471448883"
      ]
     },
     "execution_count": 98,
     "metadata": {},
     "output_type": "execute_result"
    }
   ],
   "source": [
    "# Расчитаем среднее значение стоимости привлечения САС\n",
    "\n",
    "ad_costs_source['CAC'].mean()"
   ]
  },
  {
   "cell_type": "code",
   "execution_count": 99,
   "metadata": {},
   "outputs": [
    {
     "data": {
      "image/png": "[encoded data removed]",
      "text/plain": [
       "<Figure size 1080x720 with 1 Axes>"
      ]
     },
     "metadata": {
      "needs_background": "light"
     },
     "output_type": "display_data"
    }
   ],
   "source": [
    "# Построим график распределения САС\n",
    "\n",
    "plt.figure(figsize=(15,10))\n",
    "ax = sns.barplot(data= ad_costs_source, x='source', y='CAC')\n",
    "for p in ax.patches:\n",
    "    ax.annotate(format(p.get_height(), '.2f'), \n",
    "                   (p.get_x() + p.get_width() / 2., p.get_height()), \n",
    "                   ha = 'center', va = 'center', \n",
    "                   xytext = (0, 9), \n",
    "                   textcoords = 'offset points')\n",
    "plt.suptitle('Стоимость привлечения САС в разрезе источников')\n",
    "plt.xlabel('Источник')\n",
    "plt.ylabel('Стоимость привлечения')\n",
    "sns.set_palette('dark') "
   ]
  },
  {
   "cell_type": "markdown",
   "metadata": {},
   "source": [
    "Расчитали стоимость привлечения САС.\n",
    "\n",
    "Распределение стоимости привлечения пользователей по источникам трафика:\n",
    "\n",
    "- `facebook_ads` = 0.79\n",
    "- `instagram_new_adverts` = 0.65\n",
    "- `yandex_direct` = 0.46\n",
    "- `youtube_channel_reklama` = 0.40\n",
    "\n",
    "Cамый дорогой способ привлечения пользователей через `facebook_ads`, а самый бюджетный - через `youtube_channel_reklama`."
   ]
  },
  {
   "cell_type": "markdown",
   "metadata": {},
   "source": [
    "### Вывод."
   ]
  },
  {
   "cell_type": "markdown",
   "metadata": {},
   "source": [
    "Был проведен исследовательский анализ данных.\n",
    "\n",
    "**Cреднее время прохождения уровня:**\n",
    "\n",
    "- Среднее время прохождения уровня для варианта 'Победа над первым врагом' = 11 days 02:30:24\n",
    "- Медианное время прохождения уровня для варианта \"Победа над первым врагом\" = 10 days 19:01:37\n",
    "- Среднее время прохождения уровня для варианта \"Реализация проекта\": 11 days 21:16:06\n",
    "- Медианное время прохождения уровня для варианта \"Реализация проекта\": 11 days 07:12:24\n",
    "\n",
    "Пользователи предпочитающие военное решение - проходят уровень быстрее пользователей предпочитающие мирное прохождение.\n",
    "\n",
    "**Количество построек на каждого пользователя:**\n",
    "\n",
    "- Cреднее значение количества построек на пользователя для всего датасета: 9.43\n",
    "- Медианное значение количества построек на пользователя для всего датасета: 10.0\n",
    "- Cреднее значение количества построек на пользователя в случае победы над врагом: 9.41\n",
    "- Cреднее значение количества построек на пользователя в случае реализации проекта: 12.00\n",
    "\n",
    "**Сколько раз за день пользователи в среднем заходят в мобильное приложение:**\n",
    "\n",
    "- Среднее количество сессий в день = 4110\n",
    "- Среднее количество уникальных пользователей в день = 2884\n",
    "- Среднее количество сессий в день на каждого уникального пользователя = 1.33\n",
    "- Максимальное количество сессий в день на каждого уникального пользователя = 1.65\n",
    "- Минимальное количество сессий в день на каждого уникального пользователя = 1.22\n",
    "\n",
    "**Показатели вовлечённости - DAU, WAU, Sticky Factor:**\n",
    "\n",
    "- Количество уникальных пользователей в день DAU = 2884 пользователя\n",
    "- Количество уникальных пользователей в неделю WAU = 6120 пользователей\n",
    "- Вовлечённость аудитории Sticky Factor за неделю = 47.12%\n",
    "\n",
    "**Количество уникальных пользователей приходящихся на каждый день:**\n",
    "\n",
    "- на первом месте 2020-05-10 = 9219 уникальных пользователей\n",
    "- на втором месте 2020-05-09 = 8394 уникальных пользователя\n",
    "- на третьем месте 2020-05-08 = 7891 уникальный пользователь\n",
    "\n",
    "На графиках также видим, что самое большое количество пользователей приходится на 10 мая, и в целом пик приходится на \"вторые майские\" праздники. Также, по условию задачи, нам представлены данные по первому уровню. Следовательно, большинство пользователей прошли уровень к 10 мая, а далее перешли на второй уровень или ушли в отток, и количество пользователей в день снижается\n",
    "\n",
    "**Коэффициент удержания Retention Rate**\n",
    "\n",
    "- Средний Retention Rate на второй день «жизни» когорт: 47.09%. Это хороший показатель, так как по данным из интернета средний 1-дневный Retention считается хорошим при 40+%.\n",
    "\n",
    "**Стоимость привлечения клиента CAC**\n",
    "\n",
    "Распределение стоимости привлечения пользователей по источникам трафика:\n",
    "\n",
    "`facebook_ads` = 0.79\n",
    "`instagram_new_adverts` = 0.65\n",
    "`yandex_direct` = 0.46\n",
    "`youtube_channel_reklama` = 0.40\n",
    "\n",
    "Cамый дорогой способ привлечения пользователей через `facebook_ads`, а самый бюджетный - через `youtube_channel_reklama`."
   ]
  },
  {
   "cell_type": "markdown",
   "metadata": {},
   "source": [
    "## Проверка гипотез."
   ]
  },
  {
   "cell_type": "markdown",
   "metadata": {},
   "source": [
    "### Гипотеза различия времени прохождения уровня."
   ]
  },
  {
   "cell_type": "markdown",
   "metadata": {},
   "source": [
    "- Гипотеза H0 - Среднее время прохождения уровня между пользователями, которые заканчивают уровень через реализацию проекта, и пользователями, которые заканчивают уровень победой над другим игроком, совпадает.\n",
    "\n",
    "- Гипотеза H1 - Среднее время прохождения уровня между пользователями, которые заканчивают уровень через реализацию проекта, и пользователями, которые заканчивают уровень победой над другим игроком, не совпадает"
   ]
  },
  {
   "cell_type": "code",
   "execution_count": 100,
   "metadata": {},
   "outputs": [
    {
     "data": {
      "text/html": [
       "<div>\n",
       "<style scoped>\n",
       "    .dataframe tbody tr th:only-of-type {\n",
       "        vertical-align: middle;\n",
       "    }\n",
       "\n",
       "    .dataframe tbody tr th {\n",
       "        vertical-align: top;\n",
       "    }\n",
       "\n",
       "    .dataframe thead th {\n",
       "        text-align: right;\n",
       "    }\n",
       "</style>\n",
       "<table border=\"1\" class=\"dataframe\">\n",
       "  <thead>\n",
       "    <tr style=\"text-align: right;\">\n",
       "      <th></th>\n",
       "      <th>user_id</th>\n",
       "      <th>win_game_date</th>\n",
       "      <th>type</th>\n",
       "      <th>start_game_date</th>\n",
       "      <th>game_time</th>\n",
       "      <th>start_game_day</th>\n",
       "      <th>game_day</th>\n",
       "    </tr>\n",
       "  </thead>\n",
       "  <tbody>\n",
       "    <tr>\n",
       "      <th>0</th>\n",
       "      <td>001d39dc-366c-4021-9604-6a3b9ff01e25</td>\n",
       "      <td>2020-05-12 07:40:47</td>\n",
       "      <td>Победа над первым врагом</td>\n",
       "      <td>2020-05-05 21:02:05</td>\n",
       "      <td>6 days 10:38:42</td>\n",
       "      <td>2020-05-05</td>\n",
       "      <td>6</td>\n",
       "    </tr>\n",
       "    <tr>\n",
       "      <th>1</th>\n",
       "      <td>003ee7e8-6356-4286-a715-62f22a18d2a1</td>\n",
       "      <td>2020-05-17 21:47:49</td>\n",
       "      <td>Победа над первым врагом</td>\n",
       "      <td>2020-05-05 08:31:04</td>\n",
       "      <td>12 days 13:16:45</td>\n",
       "      <td>2020-05-05</td>\n",
       "      <td>13</td>\n",
       "    </tr>\n",
       "    <tr>\n",
       "      <th>2</th>\n",
       "      <td>004074f8-251a-4776-922c-8348dca1a2f6</td>\n",
       "      <td>2020-05-16 19:57:40</td>\n",
       "      <td>Победа над первым врагом</td>\n",
       "      <td>2020-05-04 01:07:35</td>\n",
       "      <td>12 days 18:50:05</td>\n",
       "      <td>2020-05-04</td>\n",
       "      <td>13</td>\n",
       "    </tr>\n",
       "    <tr>\n",
       "      <th>3</th>\n",
       "      <td>00464e5e-28ed-4be6-bf44-517ef7b3937b</td>\n",
       "      <td>2020-05-15 16:02:01</td>\n",
       "      <td>Победа над первым врагом</td>\n",
       "      <td>2020-05-04 08:35:29</td>\n",
       "      <td>11 days 07:26:32</td>\n",
       "      <td>2020-05-04</td>\n",
       "      <td>11</td>\n",
       "    </tr>\n",
       "    <tr>\n",
       "      <th>4</th>\n",
       "      <td>0056c007-c082-43cc-bdef-afc49bca4cb9</td>\n",
       "      <td>2020-05-16 13:48:39</td>\n",
       "      <td>Победа над первым врагом</td>\n",
       "      <td>2020-05-10 11:49:47</td>\n",
       "      <td>6 days 01:58:52</td>\n",
       "      <td>2020-05-10</td>\n",
       "      <td>6</td>\n",
       "    </tr>\n",
       "  </tbody>\n",
       "</table>\n",
       "</div>"
      ],
      "text/plain": [
       "                                user_id       win_game_date  \\\n",
       "0  001d39dc-366c-4021-9604-6a3b9ff01e25 2020-05-12 07:40:47   \n",
       "1  003ee7e8-6356-4286-a715-62f22a18d2a1 2020-05-17 21:47:49   \n",
       "2  004074f8-251a-4776-922c-8348dca1a2f6 2020-05-16 19:57:40   \n",
       "3  00464e5e-28ed-4be6-bf44-517ef7b3937b 2020-05-15 16:02:01   \n",
       "4  0056c007-c082-43cc-bdef-afc49bca4cb9 2020-05-16 13:48:39   \n",
       "\n",
       "                       type     start_game_date        game_time  \\\n",
       "0  Победа над первым врагом 2020-05-05 21:02:05  6 days 10:38:42   \n",
       "1  Победа над первым врагом 2020-05-05 08:31:04 12 days 13:16:45   \n",
       "2  Победа над первым врагом 2020-05-04 01:07:35 12 days 18:50:05   \n",
       "3  Победа над первым врагом 2020-05-04 08:35:29 11 days 07:26:32   \n",
       "4  Победа над первым врагом 2020-05-10 11:49:47  6 days 01:58:52   \n",
       "\n",
       "  start_game_day  game_day  \n",
       "0     2020-05-05         6  \n",
       "1     2020-05-05        13  \n",
       "2     2020-05-04        13  \n",
       "3     2020-05-04        11  \n",
       "4     2020-05-10         6  "
      ]
     },
     "execution_count": 100,
     "metadata": {},
     "output_type": "execute_result"
    }
   ],
   "source": [
    "# Выделим время прохождения уровня в отдельный столбец и представим в виде одного числа\n",
    "\n",
    "merge_game['game_day'] = merge_game['game_time'] / np.timedelta64(1, 'D')\n",
    "merge_game['game_day'] = merge_game['game_day'].round().astype('int') \n",
    "\n",
    "merge_game.head()"
   ]
  },
  {
   "cell_type": "code",
   "execution_count": 101,
   "metadata": {},
   "outputs": [],
   "source": [
    "# Отберем данные для каждого уровня\n",
    "\n",
    "p_win = merge_game[merge_game['type'] == \"Победа над первым врагом\"]['game_day']\n",
    "p_project = merge_game[merge_game['type'] == \"Реализация проекта\"]['game_day']"
   ]
  },
  {
   "cell_type": "code",
   "execution_count": 102,
   "metadata": {},
   "outputs": [
    {
     "name": "stdout",
     "output_type": "stream",
     "text": [
      "Среднее время прохождения уровня для данных p_win: 11.11\n",
      "Среднее время прохождения уровня для данных p_project: 11.88\n"
     ]
    }
   ],
   "source": [
    "# Среднее каждой выборки\n",
    "\n",
    "print('Среднее время прохождения уровня для данных p_win: {:.2f}'.format(merge_game[merge_game['type']\n",
    "                                                                                    == \"Победа над первым врагом\"]\n",
    "                                                                         ['game_day'].mean()))\n",
    "print('Среднее время прохождения уровня для данных p_project: {:.2f}'.format(merge_game[merge_game['type']\n",
    "                                                                                        == \"Реализация проекта\"]\n",
    "                                                                             ['game_day'].mean()))"
   ]
  },
  {
   "cell_type": "code",
   "execution_count": 103,
   "metadata": {},
   "outputs": [
    {
     "name": "stdout",
     "output_type": "stream",
     "text": [
      "Значение дисперсии для выборки p_win: 16.85\n",
      "Значение дисперсии для выборки p_project: 13.35\n",
      "Разница дисперсий: 20.79%\n",
      "\n",
      "p-значение: 7.444371631883923e-13\n",
      "Отвергаем нулевую гипотезу\n"
     ]
    }
   ],
   "source": [
    "# Сравним дисперсии двух выборок\n",
    "\n",
    "print('Значение дисперсии для выборки p_win: {:.2f}'.format(p_win.var()))\n",
    "print('Значение дисперсии для выборки p_project: {:.2f}'.format(p_project.var()))\n",
    "print('Разница дисперсий: {:.2%}'.format((p_win.var()-p_project.var())/ p_win.var()))\n",
    "print()\n",
    "\n",
    "# Проверим гипотезу о равенстве среднего двух генеральных совокупностей\n",
    "\n",
    "results = st.ttest_ind(p_win, p_project, equal_var = False)\n",
    "\n",
    "# Критический уровень статистической значимости\n",
    "\n",
    "alpha = 0.05 \n",
    "\n",
    "# Для проверки используем критерий p-value\n",
    "\n",
    "print('p-значение:', results.pvalue)\n",
    "\n",
    "# Сравним получившееся p-значение с заданным уровнем статистической значимости\n",
    "\n",
    "if results.pvalue < alpha:\n",
    "    print('Отвергаем нулевую гипотезу')\n",
    "else:\n",
    "    print('Не получилось отвергнуть нулевую гипотезу')"
   ]
  },
  {
   "cell_type": "markdown",
   "metadata": {},
   "source": [
    "### Гипотеза различия количества построенных зданий."
   ]
  },
  {
   "cell_type": "markdown",
   "metadata": {},
   "source": [
    "- Гипотеза H0 - Среднее количество построенных зданий между пользователями, которые заканчивают уровень через реализацию проекта, и пользователями, которые заканчивают уровень победой над другим игроком, совпадает.\n",
    "\n",
    "- Гипотеза H1 - Среднее количество построенных зданий между пользователями, которые заканчивают уровень через реализацию проекта, и пользователями, которые заканчивают уровень победой над другим игроком, не совпадает."
   ]
  },
  {
   "cell_type": "code",
   "execution_count": 104,
   "metadata": {},
   "outputs": [
    {
     "data": {
      "text/html": [
       "<div>\n",
       "<style scoped>\n",
       "    .dataframe tbody tr th:only-of-type {\n",
       "        vertical-align: middle;\n",
       "    }\n",
       "\n",
       "    .dataframe tbody tr th {\n",
       "        vertical-align: top;\n",
       "    }\n",
       "\n",
       "    .dataframe thead th {\n",
       "        text-align: right;\n",
       "    }\n",
       "</style>\n",
       "<table border=\"1\" class=\"dataframe\">\n",
       "  <thead>\n",
       "    <tr style=\"text-align: right;\">\n",
       "      <th></th>\n",
       "      <th>user_id</th>\n",
       "      <th>building_type</th>\n",
       "    </tr>\n",
       "  </thead>\n",
       "  <tbody>\n",
       "    <tr>\n",
       "      <th>0</th>\n",
       "      <td>006380d6-67a6-45de-ab1e-6eb54ad8dbe8</td>\n",
       "      <td>11</td>\n",
       "    </tr>\n",
       "    <tr>\n",
       "      <th>1</th>\n",
       "      <td>00be7371-fa79-4fbd-b8e7-8ba32e3f8f82</td>\n",
       "      <td>12</td>\n",
       "    </tr>\n",
       "    <tr>\n",
       "      <th>2</th>\n",
       "      <td>00c2b9f2-2615-439c-aed0-6974e4c6c1c1</td>\n",
       "      <td>11</td>\n",
       "    </tr>\n",
       "    <tr>\n",
       "      <th>3</th>\n",
       "      <td>00de2809-403e-4476-a2f7-ca1b11700190</td>\n",
       "      <td>13</td>\n",
       "    </tr>\n",
       "    <tr>\n",
       "      <th>4</th>\n",
       "      <td>00e83261-5fd4-4939-9616-802b5a0202c6</td>\n",
       "      <td>13</td>\n",
       "    </tr>\n",
       "  </tbody>\n",
       "</table>\n",
       "</div>"
      ],
      "text/plain": [
       "                                user_id  building_type\n",
       "0  006380d6-67a6-45de-ab1e-6eb54ad8dbe8             11\n",
       "1  00be7371-fa79-4fbd-b8e7-8ba32e3f8f82             12\n",
       "2  00c2b9f2-2615-439c-aed0-6974e4c6c1c1             11\n",
       "3  00de2809-403e-4476-a2f7-ca1b11700190             13\n",
       "4  00e83261-5fd4-4939-9616-802b5a0202c6             13"
      ]
     },
     "execution_count": 104,
     "metadata": {},
     "output_type": "execute_result"
    }
   ],
   "source": [
    "# Отберем все данные по пользователям, которые завершили уровень победой над врагом\n",
    "\n",
    "win_building = game_actions_type[game_actions_type['user_id'].isin(user_project)]\n",
    "\n",
    "# Расчитаем количество построенных зданий для каждого пользователя\n",
    "\n",
    "building_type_win = win_building.groupby('user_id').agg({'building_type':'count'}).reset_index()\n",
    "building_type_win.head()"
   ]
  },
  {
   "cell_type": "code",
   "execution_count": 105,
   "metadata": {},
   "outputs": [
    {
     "data": {
      "text/html": [
       "<div>\n",
       "<style scoped>\n",
       "    .dataframe tbody tr th:only-of-type {\n",
       "        vertical-align: middle;\n",
       "    }\n",
       "\n",
       "    .dataframe tbody tr th {\n",
       "        vertical-align: top;\n",
       "    }\n",
       "\n",
       "    .dataframe thead th {\n",
       "        text-align: right;\n",
       "    }\n",
       "</style>\n",
       "<table border=\"1\" class=\"dataframe\">\n",
       "  <thead>\n",
       "    <tr style=\"text-align: right;\">\n",
       "      <th></th>\n",
       "      <th>user_id</th>\n",
       "      <th>building_type</th>\n",
       "    </tr>\n",
       "  </thead>\n",
       "  <tbody>\n",
       "    <tr>\n",
       "      <th>0</th>\n",
       "      <td>001d39dc-366c-4021-9604-6a3b9ff01e25</td>\n",
       "      <td>8</td>\n",
       "    </tr>\n",
       "    <tr>\n",
       "      <th>1</th>\n",
       "      <td>003ee7e8-6356-4286-a715-62f22a18d2a1</td>\n",
       "      <td>8</td>\n",
       "    </tr>\n",
       "    <tr>\n",
       "      <th>2</th>\n",
       "      <td>004074f8-251a-4776-922c-8348dca1a2f6</td>\n",
       "      <td>12</td>\n",
       "    </tr>\n",
       "    <tr>\n",
       "      <th>3</th>\n",
       "      <td>00464e5e-28ed-4be6-bf44-517ef7b3937b</td>\n",
       "      <td>8</td>\n",
       "    </tr>\n",
       "    <tr>\n",
       "      <th>4</th>\n",
       "      <td>0056c007-c082-43cc-bdef-afc49bca4cb9</td>\n",
       "      <td>3</td>\n",
       "    </tr>\n",
       "  </tbody>\n",
       "</table>\n",
       "</div>"
      ],
      "text/plain": [
       "                                user_id  building_type\n",
       "0  001d39dc-366c-4021-9604-6a3b9ff01e25              8\n",
       "1  003ee7e8-6356-4286-a715-62f22a18d2a1              8\n",
       "2  004074f8-251a-4776-922c-8348dca1a2f6             12\n",
       "3  00464e5e-28ed-4be6-bf44-517ef7b3937b              8\n",
       "4  0056c007-c082-43cc-bdef-afc49bca4cb9              3"
      ]
     },
     "execution_count": 105,
     "metadata": {},
     "output_type": "execute_result"
    }
   ],
   "source": [
    "# Отберем все данные по пользователям, которые завершили уровень реализацией проекта\n",
    "\n",
    "project_building = game_actions_type[game_actions_type['user_id'].isin(user_win)]\n",
    "\n",
    "# Расчитаем количество построенных зданий для каждого пользователя\n",
    "\n",
    "building_type_project = project_building.groupby('user_id').agg({'building_type':'count'}).reset_index()\n",
    "building_type_project.head() "
   ]
  },
  {
   "cell_type": "code",
   "execution_count": 106,
   "metadata": {},
   "outputs": [],
   "source": [
    "# Отберем данные для каждого уровня\n",
    "\n",
    "p_win_building = building_type_win['building_type']\n",
    "p_project_building = building_type_project['building_type']"
   ]
  },
  {
   "cell_type": "code",
   "execution_count": 107,
   "metadata": {},
   "outputs": [
    {
     "name": "stdout",
     "output_type": "stream",
     "text": [
      "Cреднее значение количества построек на пользователя для данных p_win_building: 12.65\n",
      "Cреднее значение количества построек на пользователя для данных p_project_building: 9.41\n"
     ]
    }
   ],
   "source": [
    "# Подсчитаем среднее значение количества построек\n",
    "\n",
    "print('Cреднее значение количества построек на пользователя для данных p_win_building: {:.2f}'.\n",
    "      format(building_type_win['building_type'].mean()))\n",
    "print('Cреднее значение количества построек на пользователя для данных p_project_building: {:.2f}'.\n",
    "      format(building_type_project['building_type'].mean()))"
   ]
  },
  {
   "cell_type": "code",
   "execution_count": 108,
   "metadata": {},
   "outputs": [
    {
     "name": "stdout",
     "output_type": "stream",
     "text": [
      "Значение дисперсии для выборки p_win_building: 4.676502331836245\n",
      "Значение дисперсии для выборки p_project_building: 9.360717395692165\n",
      "Разница дисперсий: 50.04%\n",
      "\n",
      "p-значение: 0.0\n",
      "Отвергаем нулевую гипотезу\n"
     ]
    }
   ],
   "source": [
    "# Сравним дисперсии двух выборок\n",
    "\n",
    "print('Значение дисперсии для выборки p_win_building:', p_win_building.var())\n",
    "print('Значение дисперсии для выборки p_project_building:', p_project_building.var())\n",
    "print('Разница дисперсий: {:.2%}'.format((p_project_building.var()-p_win_building.var())/ p_project_building.var()))\n",
    "print()\n",
    "\n",
    "# Проверим гипотезу о равенстве среднего двух генеральных совокупностей\n",
    "\n",
    "results = st.ttest_ind(p_win_building, p_project_building, equal_var = False)\n",
    "\n",
    "# Критический уровень статистической значимости\n",
    "\n",
    "alpha = 0.05 \n",
    "\n",
    "# Для проверки используем критерий p-value\n",
    "\n",
    "print('p-значение:', results.pvalue)\n",
    "\n",
    "# Сравним получившееся p-значение с заданным уровнем статистической значимости\n",
    "\n",
    "if results.pvalue < alpha:\n",
    "    print('Отвергаем нулевую гипотезу')\n",
    "else:\n",
    "    print('Не получилось отвергнуть нулевую гипотезу')"
   ]
  },
  {
   "cell_type": "markdown",
   "metadata": {},
   "source": [
    "### Вывод."
   ]
  },
  {
   "cell_type": "markdown",
   "metadata": {},
   "source": [
    "Проверили статистические гипотезы.\n",
    "\n",
    "**Гипотеза различия времени прохождения уровня:**\n",
    "\n",
    "- Гипотеза H0 - Среднее время прохождения уровня между пользователями, которые заканчивают уровень через реализацию проекта, и пользователями, которые заканчивают уровень победой над другим игроком, совпадает.\n",
    "- Гипотеза H1 - Среднее время прохождения уровня между пользователями, которые заканчивают уровень через реализацию проекта, и пользователями, которые заканчивают уровень победой над другим игроком, не совпадает.\n",
    "- p-значение: 7.444371631883923e-13. Отвергаем нулевую гипотезу.\n",
    "\n",
    "**Гипотеза различия количества построенных зданий**\n",
    "\n",
    "- Гипотеза H0 - Среднее количество построенных зданий между пользователями, которые заканчивают уровень через реализацию проекта, и пользователями, которые заканчивают уровень победой над другим игроком, совпадает.\n",
    "- Гипотеза H1 - Среднее количество построенных зданий между пользователями, которые заканчивают уровень через реализацию проекта, и пользователями, которые заканчивают уровень победой над другим игроком, не совпадает.\n",
    "- p-значение: 0.0. Отвергаем нулевую гипотезу."
   ]
  },
  {
   "cell_type": "markdown",
   "metadata": {},
   "source": [
    "## Формулирование модели монетизации."
   ]
  },
  {
   "cell_type": "markdown",
   "metadata": {},
   "source": [
    "В соотвествии с проведённым выше исследованием сформулируем модель монетизации.\n",
    "\n",
    "Выбор того или иного варианта прохождения игры - реализация проекта или победа над первым врагом - не оказывает принципиального влияния на игру, время прохождения игры и количество построек отличается незначительно, значит, формулировки будут актуальны для любого варианта прохождения игры.\n",
    "\n",
    "По условию предполагается, что в приложении будет происходить показ рекламы на экране с выбором типа объекта для постройки. Будем придерживаться этой концепции."
   ]
  },
  {
   "cell_type": "code",
   "execution_count": 109,
   "metadata": {},
   "outputs": [
    {
     "name": "stdout",
     "output_type": "stream",
     "text": [
      "Среднюю cтоимость привлечения клиента считаем равной : 0.5731002471448883\n"
     ]
    }
   ],
   "source": [
    "# Средняя стоимость привлечения клиента\n",
    "\n",
    "print('Среднюю cтоимость привлечения клиента считаем равной :', ad_costs_source['CAC'].mean())"
   ]
  },
  {
   "cell_type": "code",
   "execution_count": 110,
   "metadata": {},
   "outputs": [
    {
     "name": "stdout",
     "output_type": "stream",
     "text": [
      "Cреднее значение количества построек на пользователя будем считать равным : 9.425162050677667\n"
     ]
    }
   ],
   "source": [
    "# Cреднее значение количества построек на пользователя\n",
    "\n",
    "avg_user_buildings =  game_actions.groupby('user_id').agg({'building_type': 'count'})\n",
    "print('Cреднее значение количества построек на пользователя будем считать равным :', avg_user_buildings['building_type'].mean())"
   ]
  },
  {
   "cell_type": "markdown",
   "metadata": {},
   "source": [
    "Насколько нам стало известно от заказчика, за каждый просмотр рекламы мы получаем 0.07 у.е. прибыли, соответственно для окупаемости программы монетизации мы не можем превышать данный показатель. Посчитаем выходим ли мы на окупаемость при текущей программе монетизации."
   ]
  },
  {
   "cell_type": "code",
   "execution_count": 111,
   "metadata": {},
   "outputs": [
    {
     "name": "stdout",
     "output_type": "stream",
     "text": [
      "Сумма за просмотр рекламы необходимая для окупаемости: 0.060805346800767476\n"
     ]
    }
   ],
   "source": [
    "# Сумма за просмотр рекламы необходимая для окупаемости.\n",
    "\n",
    "print('Сумма за просмотр рекламы необходимая для окупаемости:', \n",
    "      ad_costs_source['CAC'].mean()/avg_user_buildings['building_type'].mean())"
   ]
  },
  {
   "cell_type": "markdown",
   "metadata": {},
   "source": [
    "Как мы видим - предложенная программа монетезации с показом ролика при выборе типа объекта для постройки монетезации выходит на окупаемость."
   ]
  },
  {
   "cell_type": "markdown",
   "metadata": {},
   "source": [
    "Проверим получится ли выйти на окупаемость если показывать ролик через раз."
   ]
  },
  {
   "cell_type": "code",
   "execution_count": 112,
   "metadata": {},
   "outputs": [
    {
     "name": "stdout",
     "output_type": "stream",
     "text": [
      "Сумма за просмотр рекламы необходимая для окупаемости: 0.12161069360153495\n"
     ]
    }
   ],
   "source": [
    "# Сумма за просмотр рекламы необходимая для окупаемости.\n",
    "\n",
    "print('Сумма за просмотр рекламы необходимая для окупаемости:', \n",
    "      ad_costs_source['CAC'].mean()/(avg_user_buildings['building_type'].mean()/2))"
   ]
  },
  {
   "cell_type": "markdown",
   "metadata": {},
   "source": [
    "Как видим такой вариант не позволяет выйти на окупаемость."
   ]
  },
  {
   "cell_type": "markdown",
   "metadata": {},
   "source": [
    "Проверим получится ли выйти на окупаемость если начать показывать ролики с заказа 2-го здания."
   ]
  },
  {
   "cell_type": "code",
   "execution_count": 113,
   "metadata": {},
   "outputs": [
    {
     "name": "stdout",
     "output_type": "stream",
     "text": [
      "Сумма за просмотр рекламы необходимая для окупаемости: 0.06802245982898236\n"
     ]
    }
   ],
   "source": [
    "# Сумма за просмотр рекламы необходимая для окупаемости.\n",
    "\n",
    "print('Сумма за просмотр рекламы необходимая для окупаемости:', \n",
    "      ad_costs_source['CAC'].mean()/(avg_user_buildings['building_type'].mean()-1))"
   ]
  },
  {
   "cell_type": "markdown",
   "metadata": {},
   "source": [
    "Как мы видим - вариант с началом показа роликов с заказа 2-го здания дает небольшую прибыль."
   ]
  },
  {
   "cell_type": "markdown",
   "metadata": {},
   "source": [
    "### Вывод."
   ]
  },
  {
   "cell_type": "markdown",
   "metadata": {},
   "source": [
    "Мы имеем границу окупаемости в 0.07 у.е. именно столько мы получаем за просмотр рекламного ролика. Мы не можем превышать данный показатель.\n",
    "\n",
    "- Если показывать рекламу, как и планировалось, каждый раз на экране с выбором объекта то сумма необходимая для окупаемости будет составлять 0.061. Это приемлемый показатель, позволяет нам окупать затраты на привлечение пользователей.\n",
    "- Если показывать рекламу через раз, то мы получим сумму необходимую для окупаемости 0.122 - это не приемлемый результат, который не позволит получать прибыль от такой программы монетизации.\n",
    "- Если начать показывать рекламные ролики не с первого заказа здания, а со второго - получим сумму необходимую для окупаемости в 0.068. Это позволит находиться на границе окупаемости и в свою очередь, возможно, позволит не отпугнуть пользователей сразу агресивным показом рекламы, а затянуть их в игровой процесс и немного уменьшить их отток от показа рекламы."
   ]
  },
  {
   "cell_type": "markdown",
   "metadata": {},
   "source": [
    "## Общий вывод."
   ]
  },
  {
   "cell_type": "markdown",
   "metadata": {},
   "source": [
    "В рамках выпускного проекта было необходимо проанализировать поведение первых пользователей мобильной игры \"Космические братья\", выявить особенности поведения и выбрать для бизнеса оптимальную модель монетизации. По условию задачи создатели игры планируют показывать рекламные ролики на экране выбором постройки.\n",
    "\n",
    "В качестве исходных данных были предоставлен файл с данными первых пользователей приложения и два дополнительных файла с информацией о рекламных активностях.\n",
    "\n",
    "Целевое событие - завершение первого уровня.\n",
    "\n",
    "**Исследование проводили в несколько шагов:**\n",
    "\n",
    "Подготовка данных к исследованию\n",
    "\n",
    "На первом шаге открыли файлы с исходными данными и изучили общую информацию по каждой таблице. Проверили таблицы на наличие пропущенных значений и дубликатов.\n",
    "\n",
    "Рассмотрели каждую переменную и каждый столбец отдельно и подготовили данные к исследованию.\n",
    "\n",
    "**Таблица `ad_costs`:**\n",
    "\n",
    "Столбец `source` - источник трафика.\n",
    "\n",
    "Уникальные источники трафика:\n",
    "\n",
    "`yandex_direct` = 7\n",
    "`instagram_new_adverts` = 7\n",
    "`youtube_channel_reklama` = 7\n",
    "`facebook_ads` = 7\n",
    "\n",
    "Столбец `day` - день, в который был совершен клик по объявлению.\n",
    "\n",
    "Формат столбца `day` изменен на datetime\n",
    "\n",
    "Количество уникальных значений в столбце `day` = 7.\n",
    "\n",
    "Период, за который представлены данные в столбце `day`, - с 3 мая по 9 мая 2020 включительно:\n",
    "\n",
    "Минимальное значение даты и времени - 2020-05-03\n",
    "Максимальное значение даты и времени - 2020-05-09\n",
    "\n",
    "Столбец `cost` - стоимость кликов.\n",
    "\n",
    "Максимальная стоимость кликов = 969.13\n",
    "Минимальная стоимость кликов = 23.31\n",
    "Среднее значение стоимости кликов = 271.55\n",
    "Медианное значение стоимости кликов = 160.05\n",
    "На диаграмме размаха видны выбросы. Ориентироваться будем на медианное значение.\n",
    "\n",
    "Распределение стоимости кликов по источникам трафика:\n",
    "\n",
    "`yandex_direct` = 2233.11\n",
    "`instagram_new_adverts` = 2161.44\n",
    "`facebook_ads` = 2140.90\n",
    "`youtube_channel_reklama` = 1068.11\n",
    "\n",
    "Таким образом, самая большая суммарная стоимость кликов приходится на источник трафика `yandex_direct`, на втором месте `instagram_new_adverts`, на третьем месте `facebook_ads`, а меньше всего - на `youtube_channel_reklama`.\n",
    "\n",
    "\n",
    "**Таблица `game_actions`:**\n",
    "\n",
    "Удалили дубликат из таблицы `game_actions`.\n",
    "\n",
    "Столбец `event_datetime` - время события\n",
    "\n",
    "Изменили формат столбца `event_datetime` на `datetime` и выделили дату и номер недели в отдельные столбцы.\n",
    "\n",
    "- Количество уникальных значений в столбце event_datetime = 128790.\n",
    "- Период, за который представлены данные в столбце event_datetime - с 4 мая по 5 июня 2020 включительно.\n",
    "- Максимальное значение даты и времени - 2020-05-04 00:00:01\n",
    "- Максимальное значение даты и времени - 2020-06-05 12:32:49\n",
    "\n",
    "В описании задачи сказано, что в датасете содержатся данные первых пользователей приложения — когорты пользователей, которые начали пользоваться приложением в период с 4 по 10 мая включительно. Соответственно, в предоставленных данных представлены все действия пользователей, которые начали играть с 4 по 10 мая и играли до 5 июня.\n",
    "\n",
    "Столбец `event` - событие\n",
    "\n",
    "Распределение данных по событиям:\n",
    "\n",
    "- `building` (объект построен) = 127956 значений\n",
    "- `finished_stage_1` (первый уровень завершён) = 5817 значений\n",
    "- `project` (проект завершён) = 1866 значений\n",
    "\n",
    "Распределение уникальных пользователей по событиям:\n",
    "\n",
    "- `building` (объект построен) = 13576 пользователей\n",
    "- `finished_stage_1` (первый уровень завершён) = 5817 пользователей\n",
    "- `project` (проект завершён) = 1866 пользователей\n",
    "\n",
    "По условию задачи в датасете представлены данные по игре пользователей на первом уровне, и завершение первого уровня требует от игрока выполнения одного из двух условий:\n",
    "\n",
    "- Победа над первым врагом\n",
    "- Реализация проекта - разработка орбитальной сборки спутников\n",
    "\n",
    "Целевое событие - завершение первого уровня. Таким образом, первый уровень завершён `finished_stage_1` у 5817 пользователей. Процент завершивших первый уровень составляет `42.85%`. Из них `1866` пользователей завершили уровень через реализацию проекта `project` (разработку орбитальной сборки спутников). А 5817 - 1866 = `3951` завершили уровень через победу над первым врагом. Соответственно способ прохождения уровня через победу над врагом пользователи предпочитают больше, чем разработку орбитальной сборки спутников.\n",
    "\n",
    "Столбец `building_type` - тип здания\n",
    "\n",
    "Распределение данных по типам зданий:\n",
    "\n",
    "`spaceport` (космопорт) = 59325 значений\n",
    "`assembly_shop` (сборочный цех) = 54494 значения\n",
    "`research_center` (исследовательский центр) = 14137 значений\n",
    "\n",
    "Распределение уникальных пользователи по типам зданий:\n",
    "\n",
    "`spaceport` (космопорт) = 13576 пользователей\n",
    "`assembly_shop` (сборочный цех) = 13231 пользователь\n",
    "`research_center` (исследовательский центр) = 7671 пользователь\n",
    "\n",
    "Столбец `user_id` - идентификатор пользователя\n",
    "\n",
    "- Количество уникальных пользователей - 13576.\n",
    "\n",
    "Столбец `project_type` - тип реализованного проекта\n",
    "\n",
    "- Cуммарное количество пропусков для столбца project_type равно 133773. \n",
    "\n",
    "В столбце представлен только один тип реализованного объекта:\n",
    "\n",
    "- `satellite_orbital_assembly` (разработка орбитальной сборки спутников) = 1866\n",
    "\n",
    "\n",
    "**Таблица `user_source`:**\n",
    "\n",
    "Столбец `user_id` - идентификатор пользователя\n",
    "\n",
    "- Количество уникальных пользователей - 13576.\n",
    "\n",
    "Столбец `source` - источник, с которого пришёл пользователь, установивший приложение\n",
    "\n",
    "Распределение уникальных пользователей по источникам трафика:\n",
    "\n",
    "- `yandex_direct` = 4817 пользователей\n",
    "- `instagram_new_adverts` = 3347 пользователей\n",
    "- `facebook_ads` = 2726 пользователей\n",
    "- `youtube_channel_reklama` = 2686 пользователей\n",
    "\n",
    "Аналогично распределению стоимости кликов, больше всего пользователей приходится на источник трафика `yandex_direct`, на втором месте `instagram_new_adverts`, на третьем месте `facebook_ads`, а меньше всего - на `youtube_channel_reklama`.\n",
    "\n",
    "Был проведен исследовательский анализ данных.\n",
    "\n",
    "**Cреднее время прохождения уровня:**\n",
    "\n",
    "- Среднее время прохождения уровня для варианта 'Победа над первым врагом' = 11 days 02:30:24\n",
    "- Медианное время прохождения уровня для варианта \"Победа над первым врагом\" = 10 days 19:01:37\n",
    "- Среднее время прохождения уровня для варианта \"Реализация проекта\": 11 days 21:16:06\n",
    "- Медианное время прохождения уровня для варианта \"Реализация проекта\": 11 days 07:12:24\n",
    "\n",
    "Пользователи предпочитающие военное решение - проходят уровень быстрее пользователей предпочитающие мирное прохождение.\n",
    "\n",
    "**Количество построек на каждого пользователя:**\n",
    "\n",
    "- Cреднее значение количества построек на пользователя для всего датасета: 9.43\n",
    "- Медианное значение количества построек на пользователя для всего датасета: 10.0\n",
    "- Cреднее значение количества построек на пользователя в случае победы над врагом: 9.41\n",
    "- Cреднее значение количества построек на пользователя в случае реализации проекта: 12.00\n",
    "\n",
    "**Сколько раз за день пользователи в среднем заходят в мобильное приложение:**\n",
    "\n",
    "- Среднее количество сессий в день = 4110\n",
    "- Среднее количество уникальных пользователей в день = 2884\n",
    "- Среднее количество сессий в день на каждого уникального пользователя = 1.33\n",
    "- Максимальное количество сессий в день на каждого уникального пользователя = 1.65\n",
    "- Минимальное количество сессий в день на каждого уникального пользователя = 1.22\n",
    "\n",
    "**Показатели вовлечённости - DAU, WAU, Sticky Factor:**\n",
    "\n",
    "- Количество уникальных пользователей в день DAU = 2884 пользователя\n",
    "- Количество уникальных пользователей в неделю WAU = 6120 пользователей\n",
    "- Вовлечённость аудитории Sticky Factor за неделю = 47.12%\n",
    "\n",
    "**Количество уникальных пользователей приходящихся на каждый день:**\n",
    "\n",
    "- на первом месте 2020-05-10 = 9219 уникальных пользователей\n",
    "- на втором месте 2020-05-09 = 8394 уникальных пользователя\n",
    "- на третьем месте 2020-05-08 = 7891 уникальный пользователь\n",
    "\n",
    "На графиках также видим, что самое большое количество пользователей приходится на 10 мая, и в целом пик приходится на \"вторые майские\" праздники. Также, по условию задачи, нам представлены данные по первому уровню. Следовательно, большинство пользователей прошли уровень к 10 мая, а далее перешли на второй уровень или ушли в отток, и количество пользователей в день снижается\n",
    "\n",
    "**Коэффициент удержания Retention Rate**\n",
    "\n",
    "- Средний Retention Rate на второй день «жизни» когорт: 47.09%. Это хороший показатель, так как по данным из интернета средний 1-дневный Retention считается хорошим при 40+%.\n",
    "\n",
    "**Стоимость привлечения клиента CAC**\n",
    "\n",
    "Распределение стоимости привлечения пользователей по источникам трафика:\n",
    "\n",
    "`facebook_ads` = 0.79\n",
    "`instagram_new_adverts` = 0.65\n",
    "`yandex_direct` = 0.46\n",
    "`youtube_channel_reklama` = 0.40\n",
    "\n",
    "Cамый дорогой способ привлечения пользователей через `facebook_ads`, а самый бюджетный - через `youtube_channel_reklama`.\n",
    "Проверили статистические гипотезы.\n",
    "\n",
    "**Гипотеза различия времени прохождения уровня:**\n",
    "\n",
    "- Гипотеза H0 - Среднее время прохождения уровня между пользователями, которые заканчивают уровень через реализацию проекта, и пользователями, которые заканчивают уровень победой над другим игроком, совпадает.\n",
    "- Гипотеза H1 - Среднее время прохождения уровня между пользователями, которые заканчивают уровень через реализацию проекта, и пользователями, которые заканчивают уровень победой над другим игроком, не совпадает.\n",
    "- p-значение: 7.444371631883923e-13. Отвергаем нулевую гипотезу.\n",
    "\n",
    "**Гипотеза различия количества построенных зданий**\n",
    "\n",
    "- Гипотеза H0 - Среднее количество построенных зданий между пользователями, которые заканчивают уровень через реализацию проекта, и пользователями, которые заканчивают уровень победой над другим игроком, совпадает.\n",
    "- Гипотеза H1 - Среднее количество построенных зданий между пользователями, которые заканчивают уровень через реализацию проекта, и пользователями, которые заканчивают уровень победой над другим игроком, не совпадает.\n",
    "- p-значение: 0.0. Отвергаем нулевую гипотезу.\n",
    "\n",
    "Мы имеем границу окупаемости в 0.07 у.е. именно столько мы получаем за просмотр рекламного ролика. Мы не можем превышать данный показатель.\n",
    "\n",
    "- Если показывать рекламу, как и планировалось, каждый раз на экране с выбором объекта то сумма необходимая для окупаемости будет составлять 0.061. Это приемлемый показатель, позволяет нам окупать затраты на привлечение пользователей.\n",
    "- Если показывать рекламу через раз, то мы получим сумму необходимую для окупаемости 0.122 - это не приемлемый результат, который не позволит получать прибыль от такой программы монетизации.\n",
    "- Если начать показывать рекламные ролики не с первого заказа здания, а со второго - получим сумму необходимую для окупаемости в 0.068. Это позволит находиться на границе окупаемости и в свою очередь, возможно, позволит не отпугнуть пользователей сразу агресивным показом рекламы, а затянуть их в игровой процесс и немного уменьшить их отток от показа рекламы.\n",
    "\n",
    "**Рекомендации**\n",
    "\n",
    "- Возможно имеет смысл сократить расходы по привлечению пользователей через `facebook_ads` и `instagram_new_adverts`, данные способы самые дорогие, но привлекают меньше аудитории чем значительно более дешевый `yandex_direct`. Это позволит снизить общие расходы на привлечение пользователей.\n",
    "- Имеет смысл показывать рекламу не сразу, а позволить пользователям немного втянуться в игру, по текущим цифрам если не показывать рекламу пользователю при первой постройке здания - позволяет оставаться в пределах окупаемости, а если снизить затраты на привлечение пользователей, как было описано выше - возможно позволит не показывать рекламу и при постройке второго здания, что должно хорошо сказаться на удержании пользователя.\n",
    "- Немного отбалансировать игру в пользу пользователей предпочитающих завершение проекта военной победе, т.к. пока для военной победы требуется построить меньше зданий, а соответственно меньше рекламы с которой разработчики планируют зарабатывать и затрачивается немного меньше времени на окончание уровня."
   ]
  }
 ],
 "metadata": {
  "ExecuteTimeLog": [
   {
    "duration": 1324,
    "start_time": "2022-07-27T11:55:56.531Z"
   },
   {
    "duration": 4,
    "start_time": "2022-07-27T11:58:57.767Z"
   },
   {
    "duration": 880,
    "start_time": "2022-07-27T11:59:45.439Z"
   },
   {
    "duration": 3,
    "start_time": "2022-07-27T12:02:29.214Z"
   },
   {
    "duration": 38,
    "start_time": "2022-07-27T12:03:20.832Z"
   },
   {
    "duration": 379,
    "start_time": "2022-07-27T12:13:24.859Z"
   },
   {
    "duration": 63,
    "start_time": "2022-07-27T12:20:11.280Z"
   },
   {
    "duration": 87,
    "start_time": "2022-07-27T12:25:12.495Z"
   },
   {
    "duration": 80,
    "start_time": "2022-07-27T12:25:34.805Z"
   },
   {
    "duration": 23,
    "start_time": "2022-07-27T12:25:45.907Z"
   },
   {
    "duration": 20,
    "start_time": "2022-07-27T12:27:35.173Z"
   },
   {
    "duration": 189,
    "start_time": "2022-07-27T12:37:09.366Z"
   },
   {
    "duration": 6,
    "start_time": "2022-07-27T13:28:26.050Z"
   },
   {
    "duration": 4,
    "start_time": "2022-07-27T13:33:22.249Z"
   },
   {
    "duration": 5,
    "start_time": "2022-07-27T13:34:41.445Z"
   },
   {
    "duration": 4,
    "start_time": "2022-07-27T13:36:05.014Z"
   },
   {
    "duration": 5,
    "start_time": "2022-07-27T13:36:58.971Z"
   },
   {
    "duration": 4,
    "start_time": "2022-07-27T13:37:28.539Z"
   },
   {
    "duration": 8,
    "start_time": "2022-07-27T13:42:16.451Z"
   },
   {
    "duration": 166,
    "start_time": "2022-07-27T13:44:20.286Z"
   },
   {
    "duration": 318,
    "start_time": "2022-07-27T13:44:32.570Z"
   },
   {
    "duration": 162,
    "start_time": "2022-07-27T13:44:46.599Z"
   },
   {
    "duration": 204,
    "start_time": "2022-07-27T13:44:54.074Z"
   },
   {
    "duration": 166,
    "start_time": "2022-07-27T13:45:18.617Z"
   },
   {
    "duration": 121,
    "start_time": "2022-07-27T13:46:44.977Z"
   },
   {
    "duration": 121,
    "start_time": "2022-07-27T13:47:04.843Z"
   },
   {
    "duration": 11,
    "start_time": "2022-07-27T13:48:03.927Z"
   },
   {
    "duration": 153,
    "start_time": "2022-07-27T13:51:40.431Z"
   },
   {
    "duration": 279,
    "start_time": "2022-07-27T13:51:57.345Z"
   },
   {
    "duration": 178,
    "start_time": "2022-07-27T13:52:09.395Z"
   },
   {
    "duration": 155,
    "start_time": "2022-07-27T13:55:27.144Z"
   },
   {
    "duration": 167,
    "start_time": "2022-07-27T13:55:48.638Z"
   },
   {
    "duration": 1449,
    "start_time": "2022-07-27T14:08:23.478Z"
   },
   {
    "duration": 145,
    "start_time": "2022-07-27T14:08:37.537Z"
   },
   {
    "duration": 80,
    "start_time": "2022-07-27T14:08:52.292Z"
   },
   {
    "duration": 31,
    "start_time": "2022-07-27T14:09:41.173Z"
   },
   {
    "duration": 26,
    "start_time": "2022-07-27T14:10:25.466Z"
   },
   {
    "duration": 5,
    "start_time": "2022-07-27T14:14:54.220Z"
   },
   {
    "duration": 6,
    "start_time": "2022-07-27T14:15:12.348Z"
   },
   {
    "duration": 62,
    "start_time": "2022-07-27T14:18:37.339Z"
   },
   {
    "duration": 53,
    "start_time": "2022-07-27T14:19:22.386Z"
   },
   {
    "duration": 11,
    "start_time": "2022-07-27T14:19:36.794Z"
   },
   {
    "duration": 11,
    "start_time": "2022-07-27T14:19:57.792Z"
   },
   {
    "duration": 16,
    "start_time": "2022-07-27T14:35:40.799Z"
   },
   {
    "duration": 12,
    "start_time": "2022-07-27T14:36:14.693Z"
   },
   {
    "duration": 46,
    "start_time": "2022-07-27T14:36:59.128Z"
   },
   {
    "duration": 45,
    "start_time": "2022-07-27T14:38:21.041Z"
   },
   {
    "duration": 4,
    "start_time": "2022-07-27T14:39:52.991Z"
   },
   {
    "duration": 9,
    "start_time": "2022-07-27T14:42:15.578Z"
   },
   {
    "duration": 8,
    "start_time": "2022-07-27T14:42:34.185Z"
   },
   {
    "duration": 22,
    "start_time": "2022-07-27T14:43:12.327Z"
   },
   {
    "duration": 9,
    "start_time": "2022-07-27T14:44:54.454Z"
   },
   {
    "duration": 13,
    "start_time": "2022-07-27T14:44:58.836Z"
   },
   {
    "duration": 13,
    "start_time": "2022-07-27T14:45:14.405Z"
   },
   {
    "duration": 13,
    "start_time": "2022-07-27T14:45:18.680Z"
   },
   {
    "duration": 13,
    "start_time": "2022-07-27T14:45:27.905Z"
   },
   {
    "duration": 13,
    "start_time": "2022-07-27T14:45:36.027Z"
   },
   {
    "duration": 18,
    "start_time": "2022-07-27T14:45:51.371Z"
   },
   {
    "duration": 21,
    "start_time": "2022-07-27T14:46:12.979Z"
   },
   {
    "duration": 19,
    "start_time": "2022-07-27T14:46:21.722Z"
   },
   {
    "duration": 140,
    "start_time": "2022-07-27T14:46:42.008Z"
   },
   {
    "duration": 21,
    "start_time": "2022-07-27T14:46:58.879Z"
   },
   {
    "duration": 21,
    "start_time": "2022-07-27T14:47:04.465Z"
   },
   {
    "duration": 22,
    "start_time": "2022-07-27T14:47:11.247Z"
   },
   {
    "duration": 24,
    "start_time": "2022-07-27T14:47:36.651Z"
   },
   {
    "duration": 22,
    "start_time": "2022-07-27T14:49:43.401Z"
   },
   {
    "duration": 4,
    "start_time": "2022-07-27T14:50:49.824Z"
   },
   {
    "duration": 18,
    "start_time": "2022-07-27T14:51:37.108Z"
   },
   {
    "duration": 4,
    "start_time": "2022-07-27T14:52:07.186Z"
   },
   {
    "duration": 17,
    "start_time": "2022-07-27T14:53:32.528Z"
   },
   {
    "duration": 4,
    "start_time": "2022-07-27T14:53:36.745Z"
   },
   {
    "duration": 8,
    "start_time": "2022-07-27T14:53:48.363Z"
   },
   {
    "duration": 170,
    "start_time": "2022-07-27T14:56:54.080Z"
   },
   {
    "duration": 11,
    "start_time": "2022-07-27T15:19:03.029Z"
   },
   {
    "duration": 49,
    "start_time": "2022-07-27T15:20:40.672Z"
   },
   {
    "duration": 161,
    "start_time": "2022-07-27T15:23:13.286Z"
   },
   {
    "duration": 181,
    "start_time": "2022-07-27T15:23:33.768Z"
   },
   {
    "duration": 20,
    "start_time": "2022-07-27T16:01:10.444Z"
   },
   {
    "duration": 29,
    "start_time": "2022-07-27T16:02:38.845Z"
   },
   {
    "duration": 10,
    "start_time": "2022-07-27T16:06:22.663Z"
   },
   {
    "duration": 9,
    "start_time": "2022-07-27T16:11:58.036Z"
   },
   {
    "duration": 10,
    "start_time": "2022-07-27T16:12:43.610Z"
   },
   {
    "duration": 5,
    "start_time": "2022-07-27T16:16:48.333Z"
   },
   {
    "duration": 77,
    "start_time": "2022-07-27T16:18:05.434Z"
   },
   {
    "duration": 14,
    "start_time": "2022-07-27T16:18:19.000Z"
   },
   {
    "duration": 15,
    "start_time": "2022-07-27T16:21:47.882Z"
   },
   {
    "duration": 168,
    "start_time": "2022-07-27T16:22:32.083Z"
   },
   {
    "duration": 166,
    "start_time": "2022-07-27T16:22:54.083Z"
   },
   {
    "duration": 31,
    "start_time": "2022-07-27T17:01:49.559Z"
   },
   {
    "duration": 5,
    "start_time": "2022-07-27T17:03:16.565Z"
   },
   {
    "duration": 29,
    "start_time": "2022-07-27T17:05:05.179Z"
   },
   {
    "duration": 35,
    "start_time": "2022-07-27T17:06:27.253Z"
   },
   {
    "duration": 66,
    "start_time": "2022-07-27T17:07:24.784Z"
   },
   {
    "duration": 85,
    "start_time": "2022-07-27T17:07:47.521Z"
   },
   {
    "duration": 410,
    "start_time": "2022-07-27T17:08:33.373Z"
   },
   {
    "duration": 36,
    "start_time": "2022-07-27T17:10:25.933Z"
   },
   {
    "duration": 22,
    "start_time": "2022-07-27T17:11:07.992Z"
   },
   {
    "duration": 16,
    "start_time": "2022-07-27T17:11:45.569Z"
   },
   {
    "duration": 4,
    "start_time": "2022-07-27T17:12:33.162Z"
   },
   {
    "duration": 4,
    "start_time": "2022-07-27T17:13:00.340Z"
   },
   {
    "duration": 7,
    "start_time": "2022-07-27T17:13:49.303Z"
   },
   {
    "duration": 9,
    "start_time": "2022-07-27T17:14:26.351Z"
   },
   {
    "duration": 7,
    "start_time": "2022-07-27T17:15:06.088Z"
   },
   {
    "duration": 6,
    "start_time": "2022-07-27T17:15:34.413Z"
   },
   {
    "duration": 7,
    "start_time": "2022-07-27T17:16:29.091Z"
   },
   {
    "duration": 18,
    "start_time": "2022-07-27T17:19:07.099Z"
   },
   {
    "duration": 11,
    "start_time": "2022-07-27T17:19:51.893Z"
   },
   {
    "duration": 11,
    "start_time": "2022-07-27T17:20:23.146Z"
   },
   {
    "duration": 134,
    "start_time": "2022-07-27T17:21:09.504Z"
   },
   {
    "duration": 400,
    "start_time": "2022-07-27T17:21:55.182Z"
   },
   {
    "duration": 212,
    "start_time": "2022-07-27T17:22:19.391Z"
   },
   {
    "duration": 146,
    "start_time": "2022-07-27T17:22:47.668Z"
   },
   {
    "duration": 217,
    "start_time": "2022-07-27T17:22:54.388Z"
   },
   {
    "duration": 248,
    "start_time": "2022-07-27T17:23:10.213Z"
   },
   {
    "duration": 38,
    "start_time": "2022-07-27T17:35:43.984Z"
   },
   {
    "duration": 4,
    "start_time": "2022-07-27T17:36:11.229Z"
   },
   {
    "duration": 4,
    "start_time": "2022-07-27T17:38:00.299Z"
   },
   {
    "duration": 21,
    "start_time": "2022-07-27T17:40:31.054Z"
   },
   {
    "duration": 5,
    "start_time": "2022-07-27T17:42:26.598Z"
   },
   {
    "duration": 10,
    "start_time": "2022-07-27T17:43:51.319Z"
   },
   {
    "duration": 78,
    "start_time": "2022-07-27T17:45:46.666Z"
   },
   {
    "duration": 79,
    "start_time": "2022-07-27T17:46:03.495Z"
   },
   {
    "duration": 56,
    "start_time": "2022-07-27T17:46:34.136Z"
   },
   {
    "duration": 55,
    "start_time": "2022-07-27T17:47:56.244Z"
   },
   {
    "duration": 158,
    "start_time": "2022-07-27T17:48:51.022Z"
   },
   {
    "duration": 571,
    "start_time": "2022-07-27T17:49:56.717Z"
   },
   {
    "duration": 237,
    "start_time": "2022-07-27T17:50:32.721Z"
   },
   {
    "duration": 769,
    "start_time": "2022-07-27T17:50:42.778Z"
   },
   {
    "duration": 72,
    "start_time": "2022-07-27T17:54:57.286Z"
   },
   {
    "duration": 6,
    "start_time": "2022-07-27T17:56:43.627Z"
   },
   {
    "duration": 6,
    "start_time": "2022-07-27T17:57:20.069Z"
   },
   {
    "duration": 4,
    "start_time": "2022-07-27T17:57:59.326Z"
   },
   {
    "duration": 4,
    "start_time": "2022-07-27T17:58:38.052Z"
   },
   {
    "duration": 4,
    "start_time": "2022-07-27T17:58:53.041Z"
   },
   {
    "duration": 224,
    "start_time": "2022-07-27T17:59:40.946Z"
   },
   {
    "duration": 45,
    "start_time": "2022-07-27T18:03:28.422Z"
   },
   {
    "duration": 49,
    "start_time": "2022-07-27T18:03:56.528Z"
   },
   {
    "duration": 49,
    "start_time": "2022-07-27T18:04:28.190Z"
   },
   {
    "duration": 38,
    "start_time": "2022-07-27T18:04:58.802Z"
   },
   {
    "duration": 3,
    "start_time": "2022-07-27T18:05:29.977Z"
   },
   {
    "duration": 358,
    "start_time": "2022-07-27T18:06:09.881Z"
   },
   {
    "duration": 373,
    "start_time": "2022-07-27T18:07:05.135Z"
   },
   {
    "duration": 352,
    "start_time": "2022-07-27T18:07:13.465Z"
   },
   {
    "duration": 233,
    "start_time": "2022-07-27T18:07:32.801Z"
   },
   {
    "duration": 932,
    "start_time": "2022-07-27T18:13:59.418Z"
   },
   {
    "duration": 935,
    "start_time": "2022-07-27T18:14:54.819Z"
   },
   {
    "duration": 40,
    "start_time": "2022-07-27T18:20:32.344Z"
   },
   {
    "duration": 64,
    "start_time": "2022-07-27T20:15:18.628Z"
   },
   {
    "duration": 18,
    "start_time": "2022-07-27T20:15:58.867Z"
   },
   {
    "duration": 49,
    "start_time": "2022-07-27T20:16:30.058Z"
   },
   {
    "duration": 9,
    "start_time": "2022-07-27T20:16:56.479Z"
   },
   {
    "duration": 4,
    "start_time": "2022-07-27T20:17:52.949Z"
   },
   {
    "duration": 10,
    "start_time": "2022-07-27T20:18:11.965Z"
   },
   {
    "duration": 10,
    "start_time": "2022-07-27T20:18:42.752Z"
   },
   {
    "duration": 36,
    "start_time": "2022-07-27T20:19:11.614Z"
   },
   {
    "duration": 1419,
    "start_time": "2022-07-27T20:19:50.996Z"
   },
   {
    "duration": 12,
    "start_time": "2022-07-27T20:20:06.536Z"
   },
   {
    "duration": 5,
    "start_time": "2022-07-27T20:20:17.428Z"
   },
   {
    "duration": 575,
    "start_time": "2022-07-27T20:20:17.435Z"
   },
   {
    "duration": 3,
    "start_time": "2022-07-27T20:20:18.012Z"
   },
   {
    "duration": 41,
    "start_time": "2022-07-27T20:20:18.016Z"
   },
   {
    "duration": 304,
    "start_time": "2022-07-27T20:20:18.059Z"
   },
   {
    "duration": 62,
    "start_time": "2022-07-27T20:20:18.364Z"
   },
   {
    "duration": 83,
    "start_time": "2022-07-27T20:20:18.428Z"
   },
   {
    "duration": 17,
    "start_time": "2022-07-27T20:20:18.513Z"
   },
   {
    "duration": 144,
    "start_time": "2022-07-27T20:20:18.532Z"
   },
   {
    "duration": 5,
    "start_time": "2022-07-27T20:20:18.678Z"
   },
   {
    "duration": 21,
    "start_time": "2022-07-27T20:20:18.685Z"
   },
   {
    "duration": 9,
    "start_time": "2022-07-27T20:20:18.707Z"
   },
   {
    "duration": 10,
    "start_time": "2022-07-27T20:20:18.717Z"
   },
   {
    "duration": 11,
    "start_time": "2022-07-27T20:20:18.728Z"
   },
   {
    "duration": 11,
    "start_time": "2022-07-27T20:20:18.741Z"
   },
   {
    "duration": 199,
    "start_time": "2022-07-27T20:20:18.754Z"
   },
   {
    "duration": 244,
    "start_time": "2022-07-27T20:20:18.954Z"
   },
   {
    "duration": 11,
    "start_time": "2022-07-27T20:20:19.202Z"
   },
   {
    "duration": 191,
    "start_time": "2022-07-27T20:20:19.214Z"
   },
   {
    "duration": 101,
    "start_time": "2022-07-27T20:20:19.407Z"
   },
   {
    "duration": 34,
    "start_time": "2022-07-27T20:20:19.510Z"
   },
   {
    "duration": 58,
    "start_time": "2022-07-27T20:20:19.546Z"
   },
   {
    "duration": 4,
    "start_time": "2022-07-27T20:20:19.606Z"
   },
   {
    "duration": 5,
    "start_time": "2022-07-27T20:20:19.611Z"
   },
   {
    "duration": 51,
    "start_time": "2022-07-27T20:20:19.618Z"
   },
   {
    "duration": 11,
    "start_time": "2022-07-27T20:20:19.670Z"
   },
   {
    "duration": 17,
    "start_time": "2022-07-27T20:20:19.703Z"
   },
   {
    "duration": 54,
    "start_time": "2022-07-27T20:20:19.722Z"
   },
   {
    "duration": 4,
    "start_time": "2022-07-27T20:20:19.780Z"
   },
   {
    "duration": 203,
    "start_time": "2022-07-27T20:20:19.785Z"
   },
   {
    "duration": 14,
    "start_time": "2022-07-27T20:20:19.990Z"
   },
   {
    "duration": 53,
    "start_time": "2022-07-27T20:20:20.005Z"
   },
   {
    "duration": 197,
    "start_time": "2022-07-27T20:20:20.059Z"
   },
   {
    "duration": 24,
    "start_time": "2022-07-27T20:20:20.257Z"
   },
   {
    "duration": 42,
    "start_time": "2022-07-27T20:20:20.282Z"
   },
   {
    "duration": 11,
    "start_time": "2022-07-27T20:20:20.325Z"
   },
   {
    "duration": 12,
    "start_time": "2022-07-27T20:20:20.338Z"
   },
   {
    "duration": 14,
    "start_time": "2022-07-27T20:20:20.352Z"
   },
   {
    "duration": 9,
    "start_time": "2022-07-27T20:20:20.367Z"
   },
   {
    "duration": 32,
    "start_time": "2022-07-27T20:20:20.377Z"
   },
   {
    "duration": 193,
    "start_time": "2022-07-27T20:20:20.410Z"
   },
   {
    "duration": 30,
    "start_time": "2022-07-27T20:20:20.605Z"
   },
   {
    "duration": 5,
    "start_time": "2022-07-27T20:20:20.636Z"
   },
   {
    "duration": 28,
    "start_time": "2022-07-27T20:20:20.643Z"
   },
   {
    "duration": 46,
    "start_time": "2022-07-27T20:20:20.672Z"
   },
   {
    "duration": 67,
    "start_time": "2022-07-27T20:20:20.720Z"
   },
   {
    "duration": 428,
    "start_time": "2022-07-27T20:20:20.789Z"
   },
   {
    "duration": 46,
    "start_time": "2022-07-27T20:20:21.219Z"
   },
   {
    "duration": 37,
    "start_time": "2022-07-27T20:20:21.267Z"
   },
   {
    "duration": 17,
    "start_time": "2022-07-27T20:20:21.305Z"
   },
   {
    "duration": 6,
    "start_time": "2022-07-27T20:20:21.323Z"
   },
   {
    "duration": 8,
    "start_time": "2022-07-27T20:20:21.330Z"
   },
   {
    "duration": 10,
    "start_time": "2022-07-27T20:20:21.339Z"
   },
   {
    "duration": 7,
    "start_time": "2022-07-27T20:20:21.350Z"
   },
   {
    "duration": 9,
    "start_time": "2022-07-27T20:20:21.358Z"
   },
   {
    "duration": 37,
    "start_time": "2022-07-27T20:20:21.369Z"
   },
   {
    "duration": 36,
    "start_time": "2022-07-27T20:20:21.408Z"
   },
   {
    "duration": 48,
    "start_time": "2022-07-27T20:20:21.446Z"
   },
   {
    "duration": 26,
    "start_time": "2022-07-27T20:20:21.496Z"
   },
   {
    "duration": 178,
    "start_time": "2022-07-27T20:20:21.524Z"
   },
   {
    "duration": 307,
    "start_time": "2022-07-27T20:20:21.703Z"
   },
   {
    "duration": 277,
    "start_time": "2022-07-27T20:20:22.012Z"
   },
   {
    "duration": 42,
    "start_time": "2022-07-27T20:20:22.291Z"
   },
   {
    "duration": 3,
    "start_time": "2022-07-27T20:20:22.335Z"
   },
   {
    "duration": 30,
    "start_time": "2022-07-27T20:20:22.340Z"
   },
   {
    "duration": 47,
    "start_time": "2022-07-27T20:20:22.372Z"
   },
   {
    "duration": 14,
    "start_time": "2022-07-27T20:20:22.421Z"
   },
   {
    "duration": 47,
    "start_time": "2022-07-27T20:20:22.437Z"
   },
   {
    "duration": 94,
    "start_time": "2022-07-27T20:20:22.485Z"
   },
   {
    "duration": 59,
    "start_time": "2022-07-27T20:20:22.580Z"
   },
   {
    "duration": 199,
    "start_time": "2022-07-27T20:20:22.640Z"
   },
   {
    "duration": 577,
    "start_time": "2022-07-27T20:20:22.840Z"
   },
   {
    "duration": 58,
    "start_time": "2022-07-27T20:20:23.419Z"
   },
   {
    "duration": 25,
    "start_time": "2022-07-27T20:20:23.478Z"
   },
   {
    "duration": 4,
    "start_time": "2022-07-27T20:20:23.505Z"
   },
   {
    "duration": 9,
    "start_time": "2022-07-27T20:20:23.510Z"
   },
   {
    "duration": 389,
    "start_time": "2022-07-27T20:20:23.520Z"
   },
   {
    "duration": 47,
    "start_time": "2022-07-27T20:20:23.911Z"
   },
   {
    "duration": 61,
    "start_time": "2022-07-27T20:20:23.960Z"
   },
   {
    "duration": 39,
    "start_time": "2022-07-27T20:20:24.022Z"
   },
   {
    "duration": 3,
    "start_time": "2022-07-27T20:20:24.062Z"
   },
   {
    "duration": 485,
    "start_time": "2022-07-27T20:20:24.067Z"
   },
   {
    "duration": 275,
    "start_time": "2022-07-27T20:20:24.557Z"
   },
   {
    "duration": 984,
    "start_time": "2022-07-27T20:20:24.834Z"
   },
   {
    "duration": 47,
    "start_time": "2022-07-27T20:20:25.820Z"
   },
   {
    "duration": 84,
    "start_time": "2022-07-27T20:20:25.869Z"
   },
   {
    "duration": 18,
    "start_time": "2022-07-27T20:20:25.954Z"
   },
   {
    "duration": 70,
    "start_time": "2022-07-27T20:20:25.974Z"
   },
   {
    "duration": 10,
    "start_time": "2022-07-27T20:20:26.045Z"
   },
   {
    "duration": 10,
    "start_time": "2022-07-27T20:20:26.056Z"
   },
   {
    "duration": 14,
    "start_time": "2022-07-27T20:20:26.068Z"
   },
   {
    "duration": 20,
    "start_time": "2022-07-27T20:20:26.084Z"
   },
   {
    "duration": 31,
    "start_time": "2022-07-27T20:20:26.105Z"
   },
   {
    "duration": 1469,
    "start_time": "2022-07-27T20:20:26.137Z"
   },
   {
    "duration": 11,
    "start_time": "2022-07-27T20:22:48.840Z"
   },
   {
    "duration": 3,
    "start_time": "2022-07-27T20:22:51.952Z"
   },
   {
    "duration": 293,
    "start_time": "2022-07-27T20:22:51.957Z"
   },
   {
    "duration": 3,
    "start_time": "2022-07-27T20:22:52.252Z"
   },
   {
    "duration": 46,
    "start_time": "2022-07-27T20:22:52.257Z"
   },
   {
    "duration": 306,
    "start_time": "2022-07-27T20:22:52.305Z"
   },
   {
    "duration": 45,
    "start_time": "2022-07-27T20:22:52.612Z"
   },
   {
    "duration": 97,
    "start_time": "2022-07-27T20:22:52.659Z"
   },
   {
    "duration": 16,
    "start_time": "2022-07-27T20:22:52.757Z"
   },
   {
    "duration": 145,
    "start_time": "2022-07-27T20:22:52.775Z"
   },
   {
    "duration": 5,
    "start_time": "2022-07-27T20:22:52.922Z"
   },
   {
    "duration": 7,
    "start_time": "2022-07-27T20:22:52.930Z"
   },
   {
    "duration": 6,
    "start_time": "2022-07-27T20:22:52.939Z"
   },
   {
    "duration": 8,
    "start_time": "2022-07-27T20:22:52.946Z"
   },
   {
    "duration": 7,
    "start_time": "2022-07-27T20:22:52.955Z"
   },
   {
    "duration": 9,
    "start_time": "2022-07-27T20:22:52.963Z"
   },
   {
    "duration": 216,
    "start_time": "2022-07-27T20:22:52.974Z"
   },
   {
    "duration": 155,
    "start_time": "2022-07-27T20:22:53.192Z"
   },
   {
    "duration": 12,
    "start_time": "2022-07-27T20:22:53.349Z"
   },
   {
    "duration": 197,
    "start_time": "2022-07-27T20:22:53.363Z"
   },
   {
    "duration": 83,
    "start_time": "2022-07-27T20:22:53.562Z"
   },
   {
    "duration": 30,
    "start_time": "2022-07-27T20:22:53.647Z"
   },
   {
    "duration": 40,
    "start_time": "2022-07-27T20:22:53.679Z"
   },
   {
    "duration": 5,
    "start_time": "2022-07-27T20:22:53.721Z"
   },
   {
    "duration": 8,
    "start_time": "2022-07-27T20:22:53.728Z"
   },
   {
    "duration": 75,
    "start_time": "2022-07-27T20:22:53.737Z"
   },
   {
    "duration": 13,
    "start_time": "2022-07-27T20:22:53.814Z"
   },
   {
    "duration": 16,
    "start_time": "2022-07-27T20:22:53.829Z"
   },
   {
    "duration": 62,
    "start_time": "2022-07-27T20:22:53.846Z"
   },
   {
    "duration": 4,
    "start_time": "2022-07-27T20:22:53.912Z"
   },
   {
    "duration": 192,
    "start_time": "2022-07-27T20:22:53.917Z"
   },
   {
    "duration": 11,
    "start_time": "2022-07-27T20:22:54.111Z"
   },
   {
    "duration": 51,
    "start_time": "2022-07-27T20:22:54.124Z"
   },
   {
    "duration": 279,
    "start_time": "2022-07-27T20:22:54.177Z"
   },
   {
    "duration": 28,
    "start_time": "2022-07-27T20:22:54.459Z"
   },
   {
    "duration": 44,
    "start_time": "2022-07-27T20:22:54.489Z"
   },
   {
    "duration": 15,
    "start_time": "2022-07-27T20:22:54.535Z"
   },
   {
    "duration": 14,
    "start_time": "2022-07-27T20:22:54.552Z"
   },
   {
    "duration": 12,
    "start_time": "2022-07-27T20:22:54.568Z"
   },
   {
    "duration": 20,
    "start_time": "2022-07-27T20:22:54.582Z"
   },
   {
    "duration": 18,
    "start_time": "2022-07-27T20:22:54.604Z"
   },
   {
    "duration": 204,
    "start_time": "2022-07-27T20:22:54.624Z"
   },
   {
    "duration": 21,
    "start_time": "2022-07-27T20:22:54.830Z"
   },
   {
    "duration": 5,
    "start_time": "2022-07-27T20:22:54.852Z"
   },
   {
    "duration": 25,
    "start_time": "2022-07-27T20:22:54.858Z"
   },
   {
    "duration": 27,
    "start_time": "2022-07-27T20:22:54.901Z"
   },
   {
    "duration": 80,
    "start_time": "2022-07-27T20:22:54.930Z"
   },
   {
    "duration": 417,
    "start_time": "2022-07-27T20:22:55.011Z"
   },
   {
    "duration": 43,
    "start_time": "2022-07-27T20:22:55.430Z"
   },
   {
    "duration": 32,
    "start_time": "2022-07-27T20:22:55.475Z"
   },
   {
    "duration": 13,
    "start_time": "2022-07-27T20:22:55.508Z"
   },
   {
    "duration": 3,
    "start_time": "2022-07-27T20:22:55.523Z"
   },
   {
    "duration": 7,
    "start_time": "2022-07-27T20:22:55.527Z"
   },
   {
    "duration": 8,
    "start_time": "2022-07-27T20:22:55.535Z"
   },
   {
    "duration": 6,
    "start_time": "2022-07-27T20:22:55.544Z"
   },
   {
    "duration": 8,
    "start_time": "2022-07-27T20:22:55.551Z"
   },
   {
    "duration": 7,
    "start_time": "2022-07-27T20:22:55.560Z"
   },
   {
    "duration": 37,
    "start_time": "2022-07-27T20:22:55.568Z"
   },
   {
    "duration": 17,
    "start_time": "2022-07-27T20:22:55.606Z"
   },
   {
    "duration": 12,
    "start_time": "2022-07-27T20:22:55.625Z"
   },
   {
    "duration": 173,
    "start_time": "2022-07-27T20:22:55.638Z"
   },
   {
    "duration": 282,
    "start_time": "2022-07-27T20:22:55.813Z"
   },
   {
    "duration": 271,
    "start_time": "2022-07-27T20:22:56.097Z"
   },
   {
    "duration": 42,
    "start_time": "2022-07-27T20:22:56.370Z"
   },
   {
    "duration": 3,
    "start_time": "2022-07-27T20:22:56.413Z"
   },
   {
    "duration": 12,
    "start_time": "2022-07-27T20:22:56.418Z"
   },
   {
    "duration": 21,
    "start_time": "2022-07-27T20:22:56.431Z"
   },
   {
    "duration": 5,
    "start_time": "2022-07-27T20:22:56.453Z"
   },
   {
    "duration": 16,
    "start_time": "2022-07-27T20:22:56.459Z"
   },
   {
    "duration": 96,
    "start_time": "2022-07-27T20:22:56.476Z"
   },
   {
    "duration": 61,
    "start_time": "2022-07-27T20:22:56.573Z"
   },
   {
    "duration": 169,
    "start_time": "2022-07-27T20:22:56.636Z"
   },
   {
    "duration": 601,
    "start_time": "2022-07-27T20:22:56.806Z"
   },
   {
    "duration": 66,
    "start_time": "2022-07-27T20:22:57.409Z"
   },
   {
    "duration": 5,
    "start_time": "2022-07-27T20:22:57.477Z"
   },
   {
    "duration": 20,
    "start_time": "2022-07-27T20:22:57.483Z"
   },
   {
    "duration": 7,
    "start_time": "2022-07-27T20:22:57.504Z"
   },
   {
    "duration": 311,
    "start_time": "2022-07-27T20:22:57.512Z"
   },
   {
    "duration": 48,
    "start_time": "2022-07-27T20:22:57.825Z"
   },
   {
    "duration": 65,
    "start_time": "2022-07-27T20:22:57.875Z"
   },
   {
    "duration": 42,
    "start_time": "2022-07-27T20:22:57.942Z"
   },
   {
    "duration": 19,
    "start_time": "2022-07-27T20:22:57.986Z"
   },
   {
    "duration": 470,
    "start_time": "2022-07-27T20:22:58.007Z"
   },
   {
    "duration": 274,
    "start_time": "2022-07-27T20:22:58.483Z"
   },
   {
    "duration": 966,
    "start_time": "2022-07-27T20:22:58.759Z"
   },
   {
    "duration": 44,
    "start_time": "2022-07-27T20:22:59.727Z"
   },
   {
    "duration": 88,
    "start_time": "2022-07-27T20:22:59.773Z"
   },
   {
    "duration": 19,
    "start_time": "2022-07-27T20:22:59.863Z"
   },
   {
    "duration": 60,
    "start_time": "2022-07-27T20:22:59.901Z"
   },
   {
    "duration": 9,
    "start_time": "2022-07-27T20:22:59.963Z"
   },
   {
    "duration": 6,
    "start_time": "2022-07-27T20:22:59.974Z"
   },
   {
    "duration": 106,
    "start_time": "2022-07-27T20:23:00.001Z"
   },
   {
    "duration": 29,
    "start_time": "2022-07-27T20:23:00.108Z"
   },
   {
    "duration": 30,
    "start_time": "2022-07-27T20:23:00.138Z"
   },
   {
    "duration": 1441,
    "start_time": "2022-07-27T20:23:00.170Z"
   },
   {
    "duration": 4,
    "start_time": "2022-07-27T20:23:48.586Z"
   },
   {
    "duration": 126,
    "start_time": "2022-07-27T20:52:04.728Z"
   },
   {
    "duration": 89,
    "start_time": "2022-07-27T20:52:13.679Z"
   },
   {
    "duration": 81,
    "start_time": "2022-07-27T20:52:23.467Z"
   },
   {
    "duration": 15,
    "start_time": "2022-07-27T20:52:45.990Z"
   },
   {
    "duration": 14,
    "start_time": "2022-07-27T20:53:26.152Z"
   },
   {
    "duration": 9,
    "start_time": "2022-07-27T20:54:26.667Z"
   },
   {
    "duration": 4,
    "start_time": "2022-07-27T21:04:06.709Z"
   },
   {
    "duration": 186,
    "start_time": "2022-07-27T21:04:48.257Z"
   },
   {
    "duration": 15,
    "start_time": "2022-07-27T21:22:19.963Z"
   },
   {
    "duration": 8,
    "start_time": "2022-07-27T21:23:00.978Z"
   },
   {
    "duration": 72,
    "start_time": "2022-07-27T21:24:34.254Z"
   },
   {
    "duration": 75,
    "start_time": "2022-07-27T21:24:56.680Z"
   },
   {
    "duration": 96,
    "start_time": "2022-07-27T21:25:41.494Z"
   },
   {
    "duration": 69,
    "start_time": "2022-07-27T21:25:56.444Z"
   },
   {
    "duration": 10,
    "start_time": "2022-07-27T21:26:40.083Z"
   },
   {
    "duration": 10,
    "start_time": "2022-07-27T21:27:08.509Z"
   },
   {
    "duration": 10,
    "start_time": "2022-07-27T21:28:02.563Z"
   },
   {
    "duration": 7,
    "start_time": "2022-07-27T21:28:47.304Z"
   },
   {
    "duration": 23,
    "start_time": "2022-07-27T21:30:58.463Z"
   },
   {
    "duration": 28,
    "start_time": "2022-07-27T21:31:29.288Z"
   },
   {
    "duration": 3,
    "start_time": "2022-07-27T21:32:18.598Z"
   },
   {
    "duration": 5,
    "start_time": "2022-07-27T21:32:42.758Z"
   },
   {
    "duration": 4,
    "start_time": "2022-07-27T21:32:59.830Z"
   },
   {
    "duration": 8,
    "start_time": "2022-07-27T21:34:05.974Z"
   },
   {
    "duration": 57,
    "start_time": "2022-07-28T14:23:29.131Z"
   },
   {
    "duration": 1516,
    "start_time": "2022-07-28T14:23:33.697Z"
   },
   {
    "duration": 611,
    "start_time": "2022-07-28T14:23:35.215Z"
   },
   {
    "duration": 4,
    "start_time": "2022-07-28T14:23:35.827Z"
   },
   {
    "duration": 44,
    "start_time": "2022-07-28T14:23:35.833Z"
   },
   {
    "duration": 307,
    "start_time": "2022-07-28T14:23:35.878Z"
   },
   {
    "duration": 48,
    "start_time": "2022-07-28T14:23:36.199Z"
   },
   {
    "duration": 94,
    "start_time": "2022-07-28T14:23:36.249Z"
   },
   {
    "duration": 17,
    "start_time": "2022-07-28T14:23:36.344Z"
   },
   {
    "duration": 158,
    "start_time": "2022-07-28T14:23:36.362Z"
   },
   {
    "duration": 4,
    "start_time": "2022-07-28T14:23:36.522Z"
   },
   {
    "duration": 13,
    "start_time": "2022-07-28T14:23:36.528Z"
   },
   {
    "duration": 21,
    "start_time": "2022-07-28T14:23:36.542Z"
   },
   {
    "duration": 8,
    "start_time": "2022-07-28T14:23:36.565Z"
   },
   {
    "duration": 7,
    "start_time": "2022-07-28T14:23:36.575Z"
   },
   {
    "duration": 14,
    "start_time": "2022-07-28T14:23:36.584Z"
   },
   {
    "duration": 199,
    "start_time": "2022-07-28T14:23:36.599Z"
   },
   {
    "duration": 175,
    "start_time": "2022-07-28T14:23:36.800Z"
   },
   {
    "duration": 11,
    "start_time": "2022-07-28T14:23:36.977Z"
   },
   {
    "duration": 208,
    "start_time": "2022-07-28T14:23:36.990Z"
   },
   {
    "duration": 77,
    "start_time": "2022-07-28T14:23:37.199Z"
   },
   {
    "duration": 40,
    "start_time": "2022-07-28T14:23:37.277Z"
   },
   {
    "duration": 28,
    "start_time": "2022-07-28T14:23:37.318Z"
   },
   {
    "duration": 4,
    "start_time": "2022-07-28T14:23:37.348Z"
   },
   {
    "duration": 5,
    "start_time": "2022-07-28T14:23:37.354Z"
   },
   {
    "duration": 71,
    "start_time": "2022-07-28T14:23:37.360Z"
   },
   {
    "duration": 11,
    "start_time": "2022-07-28T14:23:37.432Z"
   },
   {
    "duration": 17,
    "start_time": "2022-07-28T14:23:37.445Z"
   },
   {
    "duration": 69,
    "start_time": "2022-07-28T14:23:37.467Z"
   },
   {
    "duration": 4,
    "start_time": "2022-07-28T14:23:37.538Z"
   },
   {
    "duration": 205,
    "start_time": "2022-07-28T14:23:37.543Z"
   },
   {
    "duration": 14,
    "start_time": "2022-07-28T14:23:37.749Z"
   },
   {
    "duration": 67,
    "start_time": "2022-07-28T14:23:37.764Z"
   },
   {
    "duration": 197,
    "start_time": "2022-07-28T14:23:37.833Z"
   },
   {
    "duration": 21,
    "start_time": "2022-07-28T14:23:38.032Z"
   },
   {
    "duration": 25,
    "start_time": "2022-07-28T14:23:38.054Z"
   },
   {
    "duration": 11,
    "start_time": "2022-07-28T14:23:38.097Z"
   },
   {
    "duration": 14,
    "start_time": "2022-07-28T14:23:38.110Z"
   },
   {
    "duration": 14,
    "start_time": "2022-07-28T14:23:38.125Z"
   },
   {
    "duration": 9,
    "start_time": "2022-07-28T14:23:38.141Z"
   },
   {
    "duration": 19,
    "start_time": "2022-07-28T14:23:38.151Z"
   },
   {
    "duration": 219,
    "start_time": "2022-07-28T14:23:38.171Z"
   },
   {
    "duration": 35,
    "start_time": "2022-07-28T14:23:38.391Z"
   },
   {
    "duration": 5,
    "start_time": "2022-07-28T14:23:38.428Z"
   },
   {
    "duration": 39,
    "start_time": "2022-07-28T14:23:38.434Z"
   },
   {
    "duration": 39,
    "start_time": "2022-07-28T14:23:38.474Z"
   },
   {
    "duration": 87,
    "start_time": "2022-07-28T14:23:38.515Z"
   },
   {
    "duration": 497,
    "start_time": "2022-07-28T14:23:38.604Z"
   },
   {
    "duration": 38,
    "start_time": "2022-07-28T14:23:39.103Z"
   },
   {
    "duration": 22,
    "start_time": "2022-07-28T14:23:39.143Z"
   },
   {
    "duration": 38,
    "start_time": "2022-07-28T14:23:39.167Z"
   },
   {
    "duration": 4,
    "start_time": "2022-07-28T14:23:39.206Z"
   },
   {
    "duration": 8,
    "start_time": "2022-07-28T14:23:39.211Z"
   },
   {
    "duration": 21,
    "start_time": "2022-07-28T14:23:39.221Z"
   },
   {
    "duration": 9,
    "start_time": "2022-07-28T14:23:39.244Z"
   },
   {
    "duration": 13,
    "start_time": "2022-07-28T14:23:39.255Z"
   },
   {
    "duration": 17,
    "start_time": "2022-07-28T14:23:39.270Z"
   },
   {
    "duration": 14,
    "start_time": "2022-07-28T14:23:39.289Z"
   },
   {
    "duration": 27,
    "start_time": "2022-07-28T14:23:39.305Z"
   },
   {
    "duration": 31,
    "start_time": "2022-07-28T14:23:39.333Z"
   },
   {
    "duration": 164,
    "start_time": "2022-07-28T14:23:39.365Z"
   },
   {
    "duration": 384,
    "start_time": "2022-07-28T14:23:39.531Z"
   },
   {
    "duration": 278,
    "start_time": "2022-07-28T14:23:39.916Z"
   },
   {
    "duration": 41,
    "start_time": "2022-07-28T14:23:40.195Z"
   },
   {
    "duration": 4,
    "start_time": "2022-07-28T14:23:40.237Z"
   },
   {
    "duration": 12,
    "start_time": "2022-07-28T14:23:40.242Z"
   },
   {
    "duration": 27,
    "start_time": "2022-07-28T14:23:40.255Z"
   },
   {
    "duration": 18,
    "start_time": "2022-07-28T14:23:40.284Z"
   },
   {
    "duration": 27,
    "start_time": "2022-07-28T14:23:40.303Z"
   },
   {
    "duration": 97,
    "start_time": "2022-07-28T14:23:40.332Z"
   },
   {
    "duration": 70,
    "start_time": "2022-07-28T14:23:40.431Z"
   },
   {
    "duration": 196,
    "start_time": "2022-07-28T14:23:40.502Z"
   },
   {
    "duration": 555,
    "start_time": "2022-07-28T14:23:40.700Z"
   },
   {
    "duration": 71,
    "start_time": "2022-07-28T14:23:41.256Z"
   },
   {
    "duration": 5,
    "start_time": "2022-07-28T14:23:41.328Z"
   },
   {
    "duration": 17,
    "start_time": "2022-07-28T14:23:41.335Z"
   },
   {
    "duration": 7,
    "start_time": "2022-07-28T14:23:41.354Z"
   },
   {
    "duration": 311,
    "start_time": "2022-07-28T14:23:41.362Z"
   },
   {
    "duration": 51,
    "start_time": "2022-07-28T14:23:41.675Z"
   },
   {
    "duration": 52,
    "start_time": "2022-07-28T14:23:41.728Z"
   },
   {
    "duration": 52,
    "start_time": "2022-07-28T14:23:41.782Z"
   },
   {
    "duration": 4,
    "start_time": "2022-07-28T14:23:41.835Z"
   },
   {
    "duration": 414,
    "start_time": "2022-07-28T14:23:41.844Z"
   },
   {
    "duration": 270,
    "start_time": "2022-07-28T14:23:42.259Z"
   },
   {
    "duration": 1105,
    "start_time": "2022-07-28T14:23:42.531Z"
   },
   {
    "duration": 37,
    "start_time": "2022-07-28T14:23:43.638Z"
   },
   {
    "duration": 85,
    "start_time": "2022-07-28T14:23:43.676Z"
   },
   {
    "duration": 20,
    "start_time": "2022-07-28T14:23:43.762Z"
   },
   {
    "duration": 73,
    "start_time": "2022-07-28T14:23:43.797Z"
   },
   {
    "duration": 9,
    "start_time": "2022-07-28T14:23:43.872Z"
   },
   {
    "duration": 6,
    "start_time": "2022-07-28T14:23:43.883Z"
   },
   {
    "duration": 11,
    "start_time": "2022-07-28T14:23:43.897Z"
   },
   {
    "duration": 13,
    "start_time": "2022-07-28T14:23:43.909Z"
   },
   {
    "duration": 29,
    "start_time": "2022-07-28T14:23:43.924Z"
   },
   {
    "duration": 1607,
    "start_time": "2022-07-28T14:23:43.954Z"
   },
   {
    "duration": 4,
    "start_time": "2022-07-28T14:23:45.563Z"
   },
   {
    "duration": 31,
    "start_time": "2022-07-28T14:23:45.568Z"
   },
   {
    "duration": 9,
    "start_time": "2022-07-28T14:23:45.600Z"
   },
   {
    "duration": 6,
    "start_time": "2022-07-28T14:23:45.610Z"
   },
   {
    "duration": 210,
    "start_time": "2022-07-28T14:23:45.618Z"
   },
   {
    "duration": 14,
    "start_time": "2022-07-28T14:23:45.829Z"
   },
   {
    "duration": 12,
    "start_time": "2022-07-28T14:23:45.844Z"
   },
   {
    "duration": 12,
    "start_time": "2022-07-28T14:23:45.858Z"
   },
   {
    "duration": 8,
    "start_time": "2022-07-28T14:23:45.872Z"
   },
   {
    "duration": 40,
    "start_time": "2022-07-28T14:23:45.881Z"
   },
   {
    "duration": 29,
    "start_time": "2022-07-28T14:23:45.923Z"
   },
   {
    "duration": 3,
    "start_time": "2022-07-28T14:23:45.954Z"
   },
   {
    "duration": 7,
    "start_time": "2022-07-28T14:23:45.958Z"
   },
   {
    "duration": 36,
    "start_time": "2022-07-28T14:23:45.967Z"
   },
   {
    "duration": 20,
    "start_time": "2022-07-28T14:23:46.005Z"
   },
   {
    "duration": 73,
    "start_time": "2022-07-28T14:26:47.460Z"
   },
   {
    "duration": 4,
    "start_time": "2022-07-28T14:27:07.387Z"
   },
   {
    "duration": 4,
    "start_time": "2022-07-28T14:27:17.395Z"
   },
   {
    "duration": 4,
    "start_time": "2022-07-28T14:27:22.600Z"
   },
   {
    "duration": 4,
    "start_time": "2022-07-28T14:27:29.940Z"
   },
   {
    "duration": 4,
    "start_time": "2022-07-28T14:27:41.079Z"
   },
   {
    "duration": 4,
    "start_time": "2022-07-28T14:27:46.453Z"
   },
   {
    "duration": 4,
    "start_time": "2022-07-28T14:28:06.869Z"
   },
   {
    "duration": 4,
    "start_time": "2022-07-28T14:28:18.338Z"
   },
   {
    "duration": 5,
    "start_time": "2022-07-28T14:28:55.176Z"
   },
   {
    "duration": 4,
    "start_time": "2022-07-28T14:29:04.158Z"
   },
   {
    "duration": 4,
    "start_time": "2022-07-28T14:30:19.391Z"
   },
   {
    "duration": 4,
    "start_time": "2022-07-28T14:30:32.230Z"
   },
   {
    "duration": 275,
    "start_time": "2022-07-28T14:30:32.236Z"
   },
   {
    "duration": 3,
    "start_time": "2022-07-28T14:30:32.513Z"
   },
   {
    "duration": 46,
    "start_time": "2022-07-28T14:30:32.517Z"
   },
   {
    "duration": 382,
    "start_time": "2022-07-28T14:30:32.565Z"
   },
   {
    "duration": 60,
    "start_time": "2022-07-28T14:30:32.948Z"
   },
   {
    "duration": 70,
    "start_time": "2022-07-28T14:30:33.009Z"
   },
   {
    "duration": 31,
    "start_time": "2022-07-28T14:30:33.080Z"
   },
   {
    "duration": 179,
    "start_time": "2022-07-28T14:30:33.113Z"
   },
   {
    "duration": 5,
    "start_time": "2022-07-28T14:30:33.293Z"
   },
   {
    "duration": 6,
    "start_time": "2022-07-28T14:30:33.301Z"
   },
   {
    "duration": 6,
    "start_time": "2022-07-28T14:30:33.308Z"
   },
   {
    "duration": 6,
    "start_time": "2022-07-28T14:30:33.315Z"
   },
   {
    "duration": 10,
    "start_time": "2022-07-28T14:30:33.323Z"
   },
   {
    "duration": 9,
    "start_time": "2022-07-28T14:30:33.335Z"
   },
   {
    "duration": 212,
    "start_time": "2022-07-28T14:30:33.346Z"
   },
   {
    "duration": 160,
    "start_time": "2022-07-28T14:30:33.560Z"
   },
   {
    "duration": 11,
    "start_time": "2022-07-28T14:30:33.722Z"
   },
   {
    "duration": 210,
    "start_time": "2022-07-28T14:30:33.734Z"
   },
   {
    "duration": 75,
    "start_time": "2022-07-28T14:30:33.958Z"
   },
   {
    "duration": 30,
    "start_time": "2022-07-28T14:30:34.035Z"
   },
   {
    "duration": 39,
    "start_time": "2022-07-28T14:30:34.066Z"
   },
   {
    "duration": 4,
    "start_time": "2022-07-28T14:30:34.107Z"
   },
   {
    "duration": 9,
    "start_time": "2022-07-28T14:30:34.113Z"
   },
   {
    "duration": 43,
    "start_time": "2022-07-28T14:30:34.124Z"
   },
   {
    "duration": 30,
    "start_time": "2022-07-28T14:30:34.169Z"
   },
   {
    "duration": 13,
    "start_time": "2022-07-28T14:30:34.200Z"
   },
   {
    "duration": 52,
    "start_time": "2022-07-28T14:30:34.215Z"
   },
   {
    "duration": 3,
    "start_time": "2022-07-28T14:30:34.272Z"
   },
   {
    "duration": 219,
    "start_time": "2022-07-28T14:30:34.298Z"
   },
   {
    "duration": 18,
    "start_time": "2022-07-28T14:30:34.520Z"
   },
   {
    "duration": 82,
    "start_time": "2022-07-28T14:30:34.540Z"
   },
   {
    "duration": 201,
    "start_time": "2022-07-28T14:30:34.624Z"
   },
   {
    "duration": 20,
    "start_time": "2022-07-28T14:30:34.827Z"
   },
   {
    "duration": 27,
    "start_time": "2022-07-28T14:30:34.849Z"
   },
   {
    "duration": 24,
    "start_time": "2022-07-28T14:30:34.878Z"
   },
   {
    "duration": 16,
    "start_time": "2022-07-28T14:30:34.903Z"
   },
   {
    "duration": 9,
    "start_time": "2022-07-28T14:30:34.921Z"
   },
   {
    "duration": 5,
    "start_time": "2022-07-28T14:30:34.932Z"
   },
   {
    "duration": 22,
    "start_time": "2022-07-28T14:30:34.939Z"
   },
   {
    "duration": 235,
    "start_time": "2022-07-28T14:30:34.963Z"
   },
   {
    "duration": 34,
    "start_time": "2022-07-28T14:30:35.200Z"
   },
   {
    "duration": 5,
    "start_time": "2022-07-28T14:30:35.236Z"
   },
   {
    "duration": 40,
    "start_time": "2022-07-28T14:30:35.242Z"
   },
   {
    "duration": 47,
    "start_time": "2022-07-28T14:30:35.283Z"
   },
   {
    "duration": 87,
    "start_time": "2022-07-28T14:30:35.331Z"
   },
   {
    "duration": 515,
    "start_time": "2022-07-28T14:30:35.421Z"
   },
   {
    "duration": 37,
    "start_time": "2022-07-28T14:30:35.938Z"
   },
   {
    "duration": 41,
    "start_time": "2022-07-28T14:30:35.976Z"
   },
   {
    "duration": 23,
    "start_time": "2022-07-28T14:30:36.019Z"
   },
   {
    "duration": 7,
    "start_time": "2022-07-28T14:30:36.044Z"
   },
   {
    "duration": 9,
    "start_time": "2022-07-28T14:30:36.053Z"
   },
   {
    "duration": 34,
    "start_time": "2022-07-28T14:30:36.064Z"
   },
   {
    "duration": 10,
    "start_time": "2022-07-28T14:30:36.100Z"
   },
   {
    "duration": 15,
    "start_time": "2022-07-28T14:30:36.112Z"
   },
   {
    "duration": 12,
    "start_time": "2022-07-28T14:30:36.129Z"
   },
   {
    "duration": 12,
    "start_time": "2022-07-28T14:30:36.143Z"
   },
   {
    "duration": 42,
    "start_time": "2022-07-28T14:30:36.157Z"
   },
   {
    "duration": 14,
    "start_time": "2022-07-28T14:30:36.201Z"
   },
   {
    "duration": 202,
    "start_time": "2022-07-28T14:30:36.217Z"
   },
   {
    "duration": 286,
    "start_time": "2022-07-28T14:30:36.421Z"
   },
   {
    "duration": 286,
    "start_time": "2022-07-28T14:30:36.708Z"
   },
   {
    "duration": 41,
    "start_time": "2022-07-28T14:30:36.997Z"
   },
   {
    "duration": 4,
    "start_time": "2022-07-28T14:30:37.040Z"
   },
   {
    "duration": 7,
    "start_time": "2022-07-28T14:30:37.046Z"
   },
   {
    "duration": 48,
    "start_time": "2022-07-28T14:30:37.054Z"
   },
   {
    "duration": 8,
    "start_time": "2022-07-28T14:30:37.104Z"
   },
   {
    "duration": 44,
    "start_time": "2022-07-28T14:30:37.114Z"
   },
   {
    "duration": 182,
    "start_time": "2022-07-28T14:30:37.161Z"
   },
   {
    "duration": 69,
    "start_time": "2022-07-28T14:30:37.345Z"
   },
   {
    "duration": 192,
    "start_time": "2022-07-28T14:30:37.416Z"
   },
   {
    "duration": 554,
    "start_time": "2022-07-28T14:30:37.610Z"
   },
   {
    "duration": 71,
    "start_time": "2022-07-28T14:30:38.166Z"
   },
   {
    "duration": 6,
    "start_time": "2022-07-28T14:30:38.238Z"
   },
   {
    "duration": 6,
    "start_time": "2022-07-28T14:30:38.245Z"
   },
   {
    "duration": 6,
    "start_time": "2022-07-28T14:30:38.252Z"
   },
   {
    "duration": 290,
    "start_time": "2022-07-28T14:30:38.260Z"
   },
   {
    "duration": 70,
    "start_time": "2022-07-28T14:30:38.552Z"
   },
   {
    "duration": 55,
    "start_time": "2022-07-28T14:30:38.624Z"
   },
   {
    "duration": 57,
    "start_time": "2022-07-28T14:30:38.680Z"
   },
   {
    "duration": 4,
    "start_time": "2022-07-28T14:30:38.738Z"
   },
   {
    "duration": 441,
    "start_time": "2022-07-28T14:30:38.744Z"
   },
   {
    "duration": 271,
    "start_time": "2022-07-28T14:30:39.197Z"
   },
   {
    "duration": 1137,
    "start_time": "2022-07-28T14:30:39.470Z"
   },
   {
    "duration": 35,
    "start_time": "2022-07-28T14:30:40.609Z"
   },
   {
    "duration": 82,
    "start_time": "2022-07-28T14:30:40.646Z"
   },
   {
    "duration": 17,
    "start_time": "2022-07-28T14:30:40.730Z"
   },
   {
    "duration": 67,
    "start_time": "2022-07-28T14:30:40.749Z"
   },
   {
    "duration": 10,
    "start_time": "2022-07-28T14:30:40.818Z"
   },
   {
    "duration": 9,
    "start_time": "2022-07-28T14:30:40.829Z"
   },
   {
    "duration": 13,
    "start_time": "2022-07-28T14:30:40.839Z"
   },
   {
    "duration": 15,
    "start_time": "2022-07-28T14:30:40.854Z"
   },
   {
    "duration": 64,
    "start_time": "2022-07-28T14:30:40.871Z"
   },
   {
    "duration": 1423,
    "start_time": "2022-07-28T14:30:40.937Z"
   },
   {
    "duration": 4,
    "start_time": "2022-07-28T14:30:42.362Z"
   },
   {
    "duration": 32,
    "start_time": "2022-07-28T14:30:42.367Z"
   },
   {
    "duration": 9,
    "start_time": "2022-07-28T14:30:42.401Z"
   },
   {
    "duration": 9,
    "start_time": "2022-07-28T14:30:42.412Z"
   },
   {
    "duration": 220,
    "start_time": "2022-07-28T14:30:42.422Z"
   },
   {
    "duration": 13,
    "start_time": "2022-07-28T14:30:42.644Z"
   },
   {
    "duration": 8,
    "start_time": "2022-07-28T14:30:42.659Z"
   },
   {
    "duration": 13,
    "start_time": "2022-07-28T14:30:42.669Z"
   },
   {
    "duration": 7,
    "start_time": "2022-07-28T14:30:42.698Z"
   },
   {
    "duration": 33,
    "start_time": "2022-07-28T14:30:42.707Z"
   },
   {
    "duration": 31,
    "start_time": "2022-07-28T14:30:42.742Z"
   },
   {
    "duration": 22,
    "start_time": "2022-07-28T14:30:42.776Z"
   },
   {
    "duration": 4,
    "start_time": "2022-07-28T14:30:42.800Z"
   },
   {
    "duration": 9,
    "start_time": "2022-07-28T14:30:42.805Z"
   },
   {
    "duration": 7,
    "start_time": "2022-07-28T14:30:42.815Z"
   },
   {
    "duration": 10,
    "start_time": "2022-07-28T14:30:42.823Z"
   },
   {
    "duration": 7,
    "start_time": "2022-07-28T14:30:42.834Z"
   },
   {
    "duration": 118,
    "start_time": "2022-07-28T14:30:42.843Z"
   },
   {
    "duration": 4,
    "start_time": "2022-07-28T14:32:02.641Z"
   },
   {
    "duration": 917,
    "start_time": "2022-07-28T14:32:13.161Z"
   },
   {
    "duration": 4,
    "start_time": "2022-07-28T14:32:21.989Z"
   },
   {
    "duration": 5,
    "start_time": "2022-07-28T14:32:51.368Z"
   },
   {
    "duration": 5,
    "start_time": "2022-07-28T14:33:23.062Z"
   },
   {
    "duration": 41,
    "start_time": "2022-07-28T14:52:24.120Z"
   },
   {
    "duration": 39,
    "start_time": "2022-07-28T14:52:41.910Z"
   },
   {
    "duration": 46,
    "start_time": "2022-07-28T14:52:52.312Z"
   },
   {
    "duration": 64,
    "start_time": "2022-07-28T14:52:56.971Z"
   },
   {
    "duration": 48,
    "start_time": "2022-07-28T14:53:12.762Z"
   },
   {
    "duration": 4,
    "start_time": "2022-07-28T15:07:40.005Z"
   },
   {
    "duration": 55,
    "start_time": "2022-07-28T15:07:51.652Z"
   },
   {
    "duration": 4,
    "start_time": "2022-07-28T15:07:58.875Z"
   },
   {
    "duration": 40,
    "start_time": "2022-07-28T15:08:45.009Z"
   },
   {
    "duration": 74,
    "start_time": "2022-07-28T15:09:13.527Z"
   },
   {
    "duration": 54,
    "start_time": "2022-07-28T15:09:21.852Z"
   },
   {
    "duration": 38,
    "start_time": "2022-07-28T15:10:28.247Z"
   },
   {
    "duration": 5,
    "start_time": "2022-07-28T15:10:37.807Z"
   },
   {
    "duration": 12,
    "start_time": "2022-07-28T15:10:46.775Z"
   },
   {
    "duration": 40,
    "start_time": "2022-07-28T15:11:44.680Z"
   },
   {
    "duration": 6,
    "start_time": "2022-07-28T15:12:04.336Z"
   },
   {
    "duration": 45,
    "start_time": "2022-07-28T15:13:16.838Z"
   },
   {
    "duration": 40,
    "start_time": "2022-07-28T15:13:28.472Z"
   },
   {
    "duration": 9,
    "start_time": "2022-07-28T15:13:40.894Z"
   },
   {
    "duration": 41,
    "start_time": "2022-07-28T15:14:09.836Z"
   },
   {
    "duration": 52,
    "start_time": "2022-07-28T15:14:26.498Z"
   },
   {
    "duration": 42,
    "start_time": "2022-07-28T15:14:39.175Z"
   },
   {
    "duration": 39,
    "start_time": "2022-07-28T15:18:07.523Z"
   },
   {
    "duration": 39,
    "start_time": "2022-07-28T15:18:36.390Z"
   },
   {
    "duration": 4,
    "start_time": "2022-07-28T15:24:25.142Z"
   },
   {
    "duration": 4,
    "start_time": "2022-07-28T15:28:14.083Z"
   },
   {
    "duration": 5,
    "start_time": "2022-07-28T15:28:29.676Z"
   },
   {
    "duration": 62,
    "start_time": "2022-07-28T15:33:23.761Z"
   },
   {
    "duration": 4,
    "start_time": "2022-07-28T15:34:07.510Z"
   },
   {
    "duration": 5,
    "start_time": "2022-07-28T15:34:25.849Z"
   },
   {
    "duration": 4,
    "start_time": "2022-07-28T15:35:27.254Z"
   },
   {
    "duration": 3,
    "start_time": "2022-07-28T15:35:36.181Z"
   },
   {
    "duration": 3,
    "start_time": "2022-07-28T15:37:26.334Z"
   },
   {
    "duration": 4,
    "start_time": "2022-07-28T15:37:45.593Z"
   },
   {
    "duration": 16,
    "start_time": "2022-07-28T15:57:38.101Z"
   },
   {
    "duration": 1597,
    "start_time": "2022-07-28T15:58:05.015Z"
   },
   {
    "duration": 1288,
    "start_time": "2022-07-28T20:07:34.570Z"
   },
   {
    "duration": 259,
    "start_time": "2022-07-28T20:07:35.860Z"
   },
   {
    "duration": 3,
    "start_time": "2022-07-28T20:07:36.121Z"
   },
   {
    "duration": 43,
    "start_time": "2022-07-28T20:07:36.126Z"
   },
   {
    "duration": 330,
    "start_time": "2022-07-28T20:07:36.170Z"
   },
   {
    "duration": 54,
    "start_time": "2022-07-28T20:07:36.502Z"
   },
   {
    "duration": 110,
    "start_time": "2022-07-28T20:07:36.558Z"
   },
   {
    "duration": 17,
    "start_time": "2022-07-28T20:07:36.670Z"
   },
   {
    "duration": 179,
    "start_time": "2022-07-28T20:07:36.697Z"
   },
   {
    "duration": 5,
    "start_time": "2022-07-28T20:07:36.879Z"
   },
   {
    "duration": 5,
    "start_time": "2022-07-28T20:07:36.898Z"
   },
   {
    "duration": 7,
    "start_time": "2022-07-28T20:07:36.904Z"
   },
   {
    "duration": 6,
    "start_time": "2022-07-28T20:07:36.912Z"
   },
   {
    "duration": 6,
    "start_time": "2022-07-28T20:07:36.919Z"
   },
   {
    "duration": 7,
    "start_time": "2022-07-28T20:07:36.927Z"
   },
   {
    "duration": 222,
    "start_time": "2022-07-28T20:07:36.936Z"
   },
   {
    "duration": 159,
    "start_time": "2022-07-28T20:07:37.160Z"
   },
   {
    "duration": 11,
    "start_time": "2022-07-28T20:07:37.321Z"
   },
   {
    "duration": 205,
    "start_time": "2022-07-28T20:07:37.333Z"
   },
   {
    "duration": 88,
    "start_time": "2022-07-28T20:07:37.540Z"
   },
   {
    "duration": 32,
    "start_time": "2022-07-28T20:07:37.630Z"
   },
   {
    "duration": 46,
    "start_time": "2022-07-28T20:07:37.663Z"
   },
   {
    "duration": 4,
    "start_time": "2022-07-28T20:07:37.711Z"
   },
   {
    "duration": 6,
    "start_time": "2022-07-28T20:07:37.717Z"
   },
   {
    "duration": 49,
    "start_time": "2022-07-28T20:07:37.725Z"
   },
   {
    "duration": 31,
    "start_time": "2022-07-28T20:07:37.776Z"
   },
   {
    "duration": 16,
    "start_time": "2022-07-28T20:07:37.809Z"
   },
   {
    "duration": 77,
    "start_time": "2022-07-28T20:07:37.830Z"
   },
   {
    "duration": 4,
    "start_time": "2022-07-28T20:07:37.909Z"
   },
   {
    "duration": 209,
    "start_time": "2022-07-28T20:07:37.915Z"
   },
   {
    "duration": 14,
    "start_time": "2022-07-28T20:07:38.125Z"
   },
   {
    "duration": 68,
    "start_time": "2022-07-28T20:07:38.141Z"
   },
   {
    "duration": 198,
    "start_time": "2022-07-28T20:07:38.211Z"
   },
   {
    "duration": 21,
    "start_time": "2022-07-28T20:07:38.410Z"
   },
   {
    "duration": 27,
    "start_time": "2022-07-28T20:07:38.433Z"
   },
   {
    "duration": 36,
    "start_time": "2022-07-28T20:07:38.462Z"
   },
   {
    "duration": 9,
    "start_time": "2022-07-28T20:07:38.500Z"
   },
   {
    "duration": 10,
    "start_time": "2022-07-28T20:07:38.511Z"
   },
   {
    "duration": 6,
    "start_time": "2022-07-28T20:07:38.523Z"
   },
   {
    "duration": 20,
    "start_time": "2022-07-28T20:07:38.531Z"
   },
   {
    "duration": 246,
    "start_time": "2022-07-28T20:07:38.554Z"
   },
   {
    "duration": 34,
    "start_time": "2022-07-28T20:07:38.802Z"
   },
   {
    "duration": 6,
    "start_time": "2022-07-28T20:07:38.838Z"
   },
   {
    "duration": 39,
    "start_time": "2022-07-28T20:07:38.845Z"
   },
   {
    "duration": 40,
    "start_time": "2022-07-28T20:07:38.886Z"
   },
   {
    "duration": 92,
    "start_time": "2022-07-28T20:07:38.928Z"
   },
   {
    "duration": 503,
    "start_time": "2022-07-28T20:07:39.022Z"
   },
   {
    "duration": 40,
    "start_time": "2022-07-28T20:07:39.527Z"
   },
   {
    "duration": 37,
    "start_time": "2022-07-28T20:07:39.569Z"
   },
   {
    "duration": 17,
    "start_time": "2022-07-28T20:07:39.607Z"
   },
   {
    "duration": 5,
    "start_time": "2022-07-28T20:07:39.626Z"
   },
   {
    "duration": 18,
    "start_time": "2022-07-28T20:07:39.633Z"
   },
   {
    "duration": 10,
    "start_time": "2022-07-28T20:07:39.652Z"
   },
   {
    "duration": 7,
    "start_time": "2022-07-28T20:07:39.664Z"
   },
   {
    "duration": 7,
    "start_time": "2022-07-28T20:07:39.697Z"
   },
   {
    "duration": 8,
    "start_time": "2022-07-28T20:07:39.705Z"
   },
   {
    "duration": 7,
    "start_time": "2022-07-28T20:07:39.715Z"
   },
   {
    "duration": 22,
    "start_time": "2022-07-28T20:07:39.724Z"
   },
   {
    "duration": 11,
    "start_time": "2022-07-28T20:07:39.748Z"
   },
   {
    "duration": 200,
    "start_time": "2022-07-28T20:07:39.761Z"
   },
   {
    "duration": 397,
    "start_time": "2022-07-28T20:07:39.963Z"
   },
   {
    "duration": 307,
    "start_time": "2022-07-28T20:07:40.363Z"
   },
   {
    "duration": 51,
    "start_time": "2022-07-28T20:07:40.672Z"
   },
   {
    "duration": 3,
    "start_time": "2022-07-28T20:07:40.725Z"
   },
   {
    "duration": 5,
    "start_time": "2022-07-28T20:07:40.730Z"
   },
   {
    "duration": 22,
    "start_time": "2022-07-28T20:07:40.737Z"
   },
   {
    "duration": 5,
    "start_time": "2022-07-28T20:07:40.761Z"
   },
   {
    "duration": 37,
    "start_time": "2022-07-28T20:07:40.768Z"
   },
   {
    "duration": 109,
    "start_time": "2022-07-28T20:07:40.806Z"
   },
   {
    "duration": 67,
    "start_time": "2022-07-28T20:07:40.916Z"
   },
   {
    "duration": 193,
    "start_time": "2022-07-28T20:07:40.998Z"
   },
   {
    "duration": 567,
    "start_time": "2022-07-28T20:07:41.193Z"
   },
   {
    "duration": 72,
    "start_time": "2022-07-28T20:07:41.761Z"
   },
   {
    "duration": 6,
    "start_time": "2022-07-28T20:07:41.834Z"
   },
   {
    "duration": 10,
    "start_time": "2022-07-28T20:07:41.842Z"
   },
   {
    "duration": 4,
    "start_time": "2022-07-28T20:07:41.854Z"
   },
   {
    "duration": 283,
    "start_time": "2022-07-28T20:07:41.859Z"
   },
   {
    "duration": 63,
    "start_time": "2022-07-28T20:07:42.145Z"
   },
   {
    "duration": 54,
    "start_time": "2022-07-28T20:07:42.210Z"
   },
   {
    "duration": 62,
    "start_time": "2022-07-28T20:07:42.265Z"
   },
   {
    "duration": 3,
    "start_time": "2022-07-28T20:07:42.329Z"
   },
   {
    "duration": 433,
    "start_time": "2022-07-28T20:07:42.339Z"
   },
   {
    "duration": 280,
    "start_time": "2022-07-28T20:07:42.774Z"
   },
   {
    "duration": 1159,
    "start_time": "2022-07-28T20:07:43.056Z"
   },
   {
    "duration": 39,
    "start_time": "2022-07-28T20:07:44.217Z"
   },
   {
    "duration": 85,
    "start_time": "2022-07-28T20:07:44.258Z"
   },
   {
    "duration": 21,
    "start_time": "2022-07-28T20:07:44.345Z"
   },
   {
    "duration": 86,
    "start_time": "2022-07-28T20:07:44.369Z"
   },
   {
    "duration": 11,
    "start_time": "2022-07-28T20:07:44.457Z"
   },
   {
    "duration": 10,
    "start_time": "2022-07-28T20:07:44.470Z"
   },
   {
    "duration": 22,
    "start_time": "2022-07-28T20:07:44.482Z"
   },
   {
    "duration": 18,
    "start_time": "2022-07-28T20:07:44.506Z"
   },
   {
    "duration": 44,
    "start_time": "2022-07-28T20:07:44.526Z"
   },
   {
    "duration": 1521,
    "start_time": "2022-07-28T20:07:44.572Z"
   },
   {
    "duration": 4,
    "start_time": "2022-07-28T20:07:46.098Z"
   },
   {
    "duration": 19,
    "start_time": "2022-07-28T20:07:46.104Z"
   },
   {
    "duration": 9,
    "start_time": "2022-07-28T20:07:46.125Z"
   },
   {
    "duration": 9,
    "start_time": "2022-07-28T20:07:46.136Z"
   },
   {
    "duration": 233,
    "start_time": "2022-07-28T20:07:46.147Z"
   },
   {
    "duration": 20,
    "start_time": "2022-07-28T20:07:46.382Z"
   },
   {
    "duration": 9,
    "start_time": "2022-07-28T20:07:46.404Z"
   },
   {
    "duration": 10,
    "start_time": "2022-07-28T20:07:46.414Z"
   },
   {
    "duration": 18,
    "start_time": "2022-07-28T20:07:46.425Z"
   },
   {
    "duration": 32,
    "start_time": "2022-07-28T20:07:46.444Z"
   },
   {
    "duration": 45,
    "start_time": "2022-07-28T20:07:46.478Z"
   },
   {
    "duration": 3,
    "start_time": "2022-07-28T20:07:46.524Z"
   },
   {
    "duration": 12,
    "start_time": "2022-07-28T20:07:46.529Z"
   },
   {
    "duration": 15,
    "start_time": "2022-07-28T20:07:46.543Z"
   },
   {
    "duration": 5,
    "start_time": "2022-07-28T20:07:46.560Z"
   },
   {
    "duration": 62,
    "start_time": "2022-07-28T20:07:46.567Z"
   },
   {
    "duration": 4,
    "start_time": "2022-07-28T20:07:46.630Z"
   },
   {
    "duration": 9,
    "start_time": "2022-07-28T20:07:46.636Z"
   },
   {
    "duration": 7,
    "start_time": "2022-07-28T20:07:46.647Z"
   },
   {
    "duration": 1177,
    "start_time": "2022-07-29T05:40:47.003Z"
   },
   {
    "duration": 608,
    "start_time": "2022-07-29T05:40:48.182Z"
   },
   {
    "duration": 4,
    "start_time": "2022-07-29T05:40:48.791Z"
   },
   {
    "duration": 40,
    "start_time": "2022-07-29T05:40:48.796Z"
   },
   {
    "duration": 290,
    "start_time": "2022-07-29T05:40:48.838Z"
   },
   {
    "duration": 55,
    "start_time": "2022-07-29T05:40:49.130Z"
   },
   {
    "duration": 73,
    "start_time": "2022-07-29T05:40:49.186Z"
   },
   {
    "duration": 26,
    "start_time": "2022-07-29T05:40:49.260Z"
   },
   {
    "duration": 154,
    "start_time": "2022-07-29T05:40:49.287Z"
   },
   {
    "duration": 5,
    "start_time": "2022-07-29T05:40:49.442Z"
   },
   {
    "duration": 8,
    "start_time": "2022-07-29T05:40:49.448Z"
   },
   {
    "duration": 15,
    "start_time": "2022-07-29T05:40:49.458Z"
   },
   {
    "duration": 8,
    "start_time": "2022-07-29T05:40:49.474Z"
   },
   {
    "duration": 6,
    "start_time": "2022-07-29T05:40:49.484Z"
   },
   {
    "duration": 15,
    "start_time": "2022-07-29T05:40:49.491Z"
   },
   {
    "duration": 176,
    "start_time": "2022-07-29T05:40:49.507Z"
   },
   {
    "duration": 132,
    "start_time": "2022-07-29T05:40:49.684Z"
   },
   {
    "duration": 10,
    "start_time": "2022-07-29T05:40:49.817Z"
   },
   {
    "duration": 168,
    "start_time": "2022-07-29T05:40:49.828Z"
   },
   {
    "duration": 84,
    "start_time": "2022-07-29T05:40:49.998Z"
   },
   {
    "duration": 28,
    "start_time": "2022-07-29T05:40:50.083Z"
   },
   {
    "duration": 25,
    "start_time": "2022-07-29T05:40:50.113Z"
   },
   {
    "duration": 7,
    "start_time": "2022-07-29T05:40:50.140Z"
   },
   {
    "duration": 25,
    "start_time": "2022-07-29T05:40:50.149Z"
   },
   {
    "duration": 51,
    "start_time": "2022-07-29T05:40:50.176Z"
   },
   {
    "duration": 11,
    "start_time": "2022-07-29T05:40:50.229Z"
   },
   {
    "duration": 31,
    "start_time": "2022-07-29T05:40:50.242Z"
   },
   {
    "duration": 46,
    "start_time": "2022-07-29T05:40:50.275Z"
   },
   {
    "duration": 3,
    "start_time": "2022-07-29T05:40:50.323Z"
   },
   {
    "duration": 180,
    "start_time": "2022-07-29T05:40:50.328Z"
   },
   {
    "duration": 12,
    "start_time": "2022-07-29T05:40:50.510Z"
   },
   {
    "duration": 64,
    "start_time": "2022-07-29T05:40:50.524Z"
   },
   {
    "duration": 167,
    "start_time": "2022-07-29T05:40:50.590Z"
   },
   {
    "duration": 28,
    "start_time": "2022-07-29T05:40:50.759Z"
   },
   {
    "duration": 26,
    "start_time": "2022-07-29T05:40:50.789Z"
   },
   {
    "duration": 10,
    "start_time": "2022-07-29T05:40:50.816Z"
   },
   {
    "duration": 10,
    "start_time": "2022-07-29T05:40:50.828Z"
   },
   {
    "duration": 34,
    "start_time": "2022-07-29T05:40:50.839Z"
   },
   {
    "duration": 6,
    "start_time": "2022-07-29T05:40:50.876Z"
   },
   {
    "duration": 23,
    "start_time": "2022-07-29T05:40:50.883Z"
   },
   {
    "duration": 204,
    "start_time": "2022-07-29T05:40:50.911Z"
   },
   {
    "duration": 32,
    "start_time": "2022-07-29T05:40:51.118Z"
   },
   {
    "duration": 5,
    "start_time": "2022-07-29T05:40:51.152Z"
   },
   {
    "duration": 26,
    "start_time": "2022-07-29T05:40:51.173Z"
   },
   {
    "duration": 28,
    "start_time": "2022-07-29T05:40:51.200Z"
   },
   {
    "duration": 94,
    "start_time": "2022-07-29T05:40:51.230Z"
   },
   {
    "duration": 547,
    "start_time": "2022-07-29T05:40:51.327Z"
   },
   {
    "duration": 45,
    "start_time": "2022-07-29T05:40:51.876Z"
   },
   {
    "duration": 25,
    "start_time": "2022-07-29T05:40:51.923Z"
   },
   {
    "duration": 39,
    "start_time": "2022-07-29T05:40:51.950Z"
   },
   {
    "duration": 4,
    "start_time": "2022-07-29T05:40:51.991Z"
   },
   {
    "duration": 10,
    "start_time": "2022-07-29T05:40:51.996Z"
   },
   {
    "duration": 9,
    "start_time": "2022-07-29T05:40:52.008Z"
   },
   {
    "duration": 7,
    "start_time": "2022-07-29T05:40:52.019Z"
   },
   {
    "duration": 7,
    "start_time": "2022-07-29T05:40:52.027Z"
   },
   {
    "duration": 8,
    "start_time": "2022-07-29T05:40:52.035Z"
   },
   {
    "duration": 7,
    "start_time": "2022-07-29T05:40:52.073Z"
   },
   {
    "duration": 19,
    "start_time": "2022-07-29T05:40:52.082Z"
   },
   {
    "duration": 11,
    "start_time": "2022-07-29T05:40:52.103Z"
   },
   {
    "duration": 178,
    "start_time": "2022-07-29T05:40:52.115Z"
   },
   {
    "duration": 419,
    "start_time": "2022-07-29T05:40:52.296Z"
   },
   {
    "duration": 263,
    "start_time": "2022-07-29T05:40:52.717Z"
   },
   {
    "duration": 40,
    "start_time": "2022-07-29T05:40:52.982Z"
   },
   {
    "duration": 4,
    "start_time": "2022-07-29T05:40:53.024Z"
   },
   {
    "duration": 8,
    "start_time": "2022-07-29T05:40:53.030Z"
   },
   {
    "duration": 40,
    "start_time": "2022-07-29T05:40:53.040Z"
   },
   {
    "duration": 5,
    "start_time": "2022-07-29T05:40:53.082Z"
   },
   {
    "duration": 39,
    "start_time": "2022-07-29T05:40:53.088Z"
   },
   {
    "duration": 95,
    "start_time": "2022-07-29T05:40:53.128Z"
   },
   {
    "duration": 60,
    "start_time": "2022-07-29T05:40:53.224Z"
   },
   {
    "duration": 172,
    "start_time": "2022-07-29T05:40:53.286Z"
   },
   {
    "duration": 539,
    "start_time": "2022-07-29T05:40:53.460Z"
   },
   {
    "duration": 59,
    "start_time": "2022-07-29T05:40:54.001Z"
   },
   {
    "duration": 16,
    "start_time": "2022-07-29T05:40:54.062Z"
   },
   {
    "duration": 31,
    "start_time": "2022-07-29T05:40:54.079Z"
   },
   {
    "duration": 12,
    "start_time": "2022-07-29T05:40:54.111Z"
   },
   {
    "duration": 291,
    "start_time": "2022-07-29T05:40:54.125Z"
   },
   {
    "duration": 51,
    "start_time": "2022-07-29T05:40:54.418Z"
   },
   {
    "duration": 57,
    "start_time": "2022-07-29T05:40:54.471Z"
   },
   {
    "duration": 44,
    "start_time": "2022-07-29T05:40:54.530Z"
   },
   {
    "duration": 4,
    "start_time": "2022-07-29T05:40:54.575Z"
   },
   {
    "duration": 372,
    "start_time": "2022-07-29T05:40:54.580Z"
   },
   {
    "duration": 227,
    "start_time": "2022-07-29T05:40:54.954Z"
   },
   {
    "duration": 903,
    "start_time": "2022-07-29T05:40:55.183Z"
   },
   {
    "duration": 43,
    "start_time": "2022-07-29T05:40:56.088Z"
   },
   {
    "duration": 82,
    "start_time": "2022-07-29T05:40:56.133Z"
   },
   {
    "duration": 19,
    "start_time": "2022-07-29T05:40:56.216Z"
   },
   {
    "duration": 72,
    "start_time": "2022-07-29T05:40:56.237Z"
   },
   {
    "duration": 9,
    "start_time": "2022-07-29T05:40:56.311Z"
   },
   {
    "duration": 22,
    "start_time": "2022-07-29T05:40:56.322Z"
   },
   {
    "duration": 26,
    "start_time": "2022-07-29T05:40:56.345Z"
   },
   {
    "duration": 26,
    "start_time": "2022-07-29T05:40:56.373Z"
   },
   {
    "duration": 39,
    "start_time": "2022-07-29T05:40:56.400Z"
   },
   {
    "duration": 1445,
    "start_time": "2022-07-29T05:40:56.441Z"
   },
   {
    "duration": 5,
    "start_time": "2022-07-29T05:40:57.888Z"
   },
   {
    "duration": 22,
    "start_time": "2022-07-29T05:40:57.894Z"
   },
   {
    "duration": 8,
    "start_time": "2022-07-29T05:40:57.917Z"
   },
   {
    "duration": 6,
    "start_time": "2022-07-29T05:40:57.927Z"
   },
   {
    "duration": 209,
    "start_time": "2022-07-29T05:40:57.934Z"
   },
   {
    "duration": 12,
    "start_time": "2022-07-29T05:40:58.144Z"
   },
   {
    "duration": 25,
    "start_time": "2022-07-29T05:40:58.158Z"
   },
   {
    "duration": 13,
    "start_time": "2022-07-29T05:40:58.185Z"
   },
   {
    "duration": 14,
    "start_time": "2022-07-29T05:40:58.199Z"
   },
   {
    "duration": 36,
    "start_time": "2022-07-29T05:40:58.215Z"
   },
   {
    "duration": 27,
    "start_time": "2022-07-29T05:40:58.252Z"
   },
   {
    "duration": 3,
    "start_time": "2022-07-29T05:40:58.280Z"
   },
   {
    "duration": 25,
    "start_time": "2022-07-29T05:40:58.284Z"
   },
   {
    "duration": 16,
    "start_time": "2022-07-29T05:40:58.310Z"
   },
   {
    "duration": 8,
    "start_time": "2022-07-29T05:40:58.327Z"
   },
   {
    "duration": 46,
    "start_time": "2022-07-29T05:40:58.336Z"
   },
   {
    "duration": 4,
    "start_time": "2022-07-29T05:40:58.383Z"
   },
   {
    "duration": 26,
    "start_time": "2022-07-29T05:40:58.389Z"
   },
   {
    "duration": 11,
    "start_time": "2022-07-29T05:40:58.417Z"
   }
  ],
  "kernelspec": {
   "display_name": "Python 3 (ipykernel)",
   "language": "python",
   "name": "python3"
  },
  "language_info": {
   "codemirror_mode": {
    "name": "ipython",
    "version": 3
   },
   "file_extension": ".py",
   "mimetype": "text/x-python",
   "name": "python",
   "nbconvert_exporter": "python",
   "pygments_lexer": "ipython3",
   "version": "3.9.5"
  },
  "toc": {
   "base_numbering": 1,
   "nav_menu": {},
   "number_sections": true,
   "sideBar": true,
   "skip_h1_title": true,
   "title_cell": "Table of Contents",
   "title_sidebar": "Contents",
   "toc_cell": true,
   "toc_position": {},
   "toc_section_display": true,
   "toc_window_display": true
  }
 },
 "nbformat": 4,
 "nbformat_minor": 2
}
